{
 "cells": [
  {
   "cell_type": "code",
   "execution_count": 3,
   "metadata": {
    "collapsed": false
   },
   "outputs": [
    {
     "name": "stdout",
     "output_type": "stream",
     "text": [
      "ready\n"
     ]
    }
   ],
   "source": [
    "import sys\n",
    "for p in ['..']:\n",
    "  if p not in sys.path:\n",
    "    sys.path.insert(0, p)\n",
    "\n",
    "from collections import namedtuple\n",
    "import os\n",
    "import pickle\n",
    "import random\n",
    "import warnings\n",
    "\n",
    "import matplotlib.pyplot as plt\n",
    "import numpy as np\n",
    "import pandas as pd\n",
    "from IPython.core.display import HTML, display\n",
    "import skimage.color\n",
    "import skimage.transform\n",
    "\n",
    "from digits.data import Env, Loader\n",
    "from digits.explore import img_tag, img_show\n",
    "from digits.images import *\n",
    "\n",
    "%matplotlib inline\n",
    "\n",
    "env = Env('..')\n",
    "env.assert_ready()\n",
    "loader = Loader.from_env(env)\n",
    "loader.assert_ready()\n",
    "print(\"ready\")"
   ]
  },
  {
   "cell_type": "code",
   "execution_count": 4,
   "metadata": {
    "collapsed": false
   },
   "outputs": [
    {
     "name": "stdout",
     "output_type": "stream",
     "text": [
      "loading crop-test-small noop 42\n",
      "unpickling data\n"
     ]
    }
   ],
   "source": [
    "proc = loader.load_data('crop-test-small', 'noop', 42)"
   ]
  },
  {
   "cell_type": "code",
   "execution_count": 5,
   "metadata": {
    "collapsed": false
   },
   "outputs": [
    {
     "data": {
      "text/plain": [
       "(200, 32, 32, 3)"
      ]
     },
     "execution_count": 5,
     "metadata": {},
     "output_type": "execute_result"
    }
   ],
   "source": [
    "proc.X.shape"
   ]
  },
  {
   "cell_type": "code",
   "execution_count": 6,
   "metadata": {
    "collapsed": false
   },
   "outputs": [
    {
     "data": {
      "text/html": [
       "<img src='data:image/png;base64,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'/>"
      ],
      "text/plain": [
       "<IPython.core.display.HTML object>"
      ]
     },
     "metadata": {},
     "output_type": "display_data"
    }
   ],
   "source": [
    "img_show(proc.X[0])"
   ]
  },
  {
   "cell_type": "code",
   "execution_count": 7,
   "metadata": {
    "collapsed": false
   },
   "outputs": [],
   "source": [
    "g = skimage.color.rgb2gray(proc.X[2])"
   ]
  },
  {
   "cell_type": "code",
   "execution_count": 8,
   "metadata": {
    "collapsed": false,
    "scrolled": true
   },
   "outputs": [
    {
     "data": {
      "text/html": [
       "<img src='data:image/png;base64,iVBORw0KGgoAAAANSUhEUgAAACAAAAAgCAAAAABWESUoAAAB+ElEQVR4nDVTQY4kNwwjKbmqZ3Y6QJBLfpX//yHILch2l0XmUDuAb6ZMiqT5l47PA7aqYr/fu86FoSTYJvstjplYSOwZOCJJQgDY/3YeSwkSeK5r4EAgCYhAv9PbsJXEe++hpaFEMAb65ZqQBGL7eltxCQgJCOifUxudCeLk+okFpx2CIIDeNCjKCBAPJgAI3vdoA2CR5Q3Ejh2AFHkDkACgCBLxeBsUcAOSLsEBxZCEd0JVIfx+oYS5NqsiiEhCSQiAW2QL+3Wy1OM0AUrVtxDB6IZf/3UoSK7SUCUhAUjCXZ5X0fYhdQmkVDc/SbKJeVeR4IdK5PdGvDkgeOZ9zYzxLfweBiiSfe3BglRFUghIJKR+ofof9B+/P89jcWCs8+XLRADCu8D+u397/vlFi7F5PK65QgBKHEi9lCSs6gKnu0tVSIAgBvsrC4Z0NAFJVSXSBO7Tz6lm9VqViMgdsojIENmfmy2QAjwzdmAXiNsI9lkhDBL27D12kvAmINnt8TWB4dnbSYw7yzvOrr7dY2KHKom8+yaQ7EUfLUkGqD59rtb9awKI/Tn4+vHxWIxq5Ro8zu7b6gBkf6SePx6HAhVwDo5j1dyxBUA/eDw/W9gokOfgWL9UIQbZH1pHFw1wxcHRj9K6rWaAPrRKSkAW98qqg5T9XYv/AQoeLCG7XY8CAAAAAElFTkSuQmCC'/>"
      ],
      "text/plain": [
       "<IPython.core.display.HTML object>"
      ]
     },
     "metadata": {},
     "output_type": "display_data"
    }
   ],
   "source": [
    "img_show(g)"
   ]
  },
  {
   "cell_type": "code",
   "execution_count": 9,
   "metadata": {
    "collapsed": false
   },
   "outputs": [
    {
     "data": {
      "text/html": [
       "<img src='data:image/png;base64,iVBORw0KGgoAAAANSUhEUgAAACAAAAAgCAAAAABWESUoAAAB80lEQVR4nD2SQXIcBwwDGyBndmXLvuVb+f8zUpWDLc2QyGHlnIlqgCjo734+j2xcld3Pj1uP08G2kkCbEEgg2ZnRrIUkpIS+rKOU7Jrs3Lc6gtddoX95z3ZCVpmZW7MxREhAf5Svk5AkyV6fNbvlgPgS6PPZXpJscl97b14mXwTzHFcWADKZDUiWJNKfrjsqkowkdq/JK6Mk6MnuUoRZiczei0uRJEQnc2+QFMnW7gTJAbDSEnNPrGKw7Unk0iuU1CX2ui7a1cvRVoLsUSKJbrTXr0alMsfZVyJLTkBSN9rf7dmU1H284JKkgNxF9sPcM4+j3V3sJOFVk9TS7vVSl6gu7QYis5BtxK7cMxvsNq+/I5yNvZu9743LStSPB9fHDcRSdvqTmXr8/Pk8iyV+vs3eiyAA9D+7en//60dtWXKf52GQWZRA/zs6TgzVXdrtLhGECQndLXNfUR1t5JKyO5EQWfrN5iB0d5MkZOaeCASiv5fXr9KU3c1m7tlFAKLfyhtlF5LsrNiZiD+Eo72z93XmNUpcJf4fFG33JDMbFFAfT462LVmQriqrJEtG6vO5Po6qL0L6rNbh5+M42xQwcbWtACT9rlbq29vzrGDkRD7qa5TQPyLp+P7tURrslHTo0TYJQL/fyOfzbEeRFFE6CmkA9B8x9VvMcvv4JwAAAABJRU5ErkJggg=='/>"
      ],
      "text/plain": [
       "<IPython.core.display.HTML object>"
      ]
     },
     "metadata": {},
     "output_type": "display_data"
    },
    {
     "data": {
      "text/html": [
       "<img src='data:image/png;base64,iVBORw0KGgoAAAANSUhEUgAAACAAAAAgCAAAAABWESUoAAAB6klEQVR4nD2TQXIcOwxDH0D29NhxssuZcv/TOJ5uEX8h51eptILARwrUn35+PDTjrsxcX7fPQ4NlZRL156PWOElIZq2lACABgb48k5mEZN2va5RYSNqi/tI9EZBkrvuOI/4JDP3lhUsjZq379VIjxbbAIb0iV8+CmVlfrw7j2hQZ1GBXyTNJ1loOyNkAFRpkW1Ega639eB9BuizAIJF1r0kkJEkiqC1mkLmlrPs+sGsrAOjSuu5yxRGzQrlK24UMrVxff+XDpRSJq6vYkIpo1uuzJNteBtzVPRPAeOisV7elsyiEq7tMApJG9OS+ruvVx4GJVFW1+SxJ9E0FBIgE77a/FRH+rB8/359HWWQmsvYYkCTb/ff375+HqhmCbUsJ8sgG0fT5dkSlSXw0M//7Rwr9KEmuKmZchWQROQxG9PNRLh8lbklWdzsEkmCn3x5V1UclVobqtjMQIKP02UY2mbXuNbKFnGh27NobK7Pu63WvaP/D9yhJtwIks+7XWgER7cTIIn0ebVuZWWuwLfK9F7vEx/v5aAuCqnm0v6OgvTv96+PtPJyx+zjOfp6HJYQ2Cv3r/XE4UYX7XPN2Hr3zuSnT78/DmZjmcS2eZ+/i+edwdJGgjrPg+ahvyH3TtpKgQjPWeVjZjUeE/Aco1ydDMt0WwwAAAABJRU5ErkJggg=='/>"
      ],
      "text/plain": [
       "<IPython.core.display.HTML object>"
      ]
     },
     "metadata": {},
     "output_type": "display_data"
    },
    {
     "data": {
      "text/html": [
       "<img src='data:image/png;base64,iVBORw0KGgoAAAANSUhEUgAAACAAAAAgCAAAAABWESUoAAAB40lEQVR4nD2TMZIjRwwEswroIbV3MmToX/r/R7TkTKPOILntdQSiAkgk9N+63z2j6sw8HmfdjhrZJgToB7ckIAC5qpyQhAyI/uavJOOQzAwSiSDJRKLPY4ZJSOY6rzh5pZFA8POa93f2eZ47QbJeD+hz49KImet8XhUbZIMB0pHds2H2nI99EMWWUICo1dVlz4S5HmmRIkLgIFouOVJIrosgOegdEdpCki7EvjYBeDcoIG1m4hqRua5Pg68JAmrmPKtsR7PHru5PQQA6z+/DVWpMcHeVyCdB6v38vxAuCqjubgZAIKS+zud3le4VZVSru17LMyPknr1nrsHRBK9uD4ClSHJrra6yRWanul7zSUaS1V//fq1eBWSPywJJEcLI9Nc/vz1y9h6vMSJIyH5B7RKqKhF6nYnEhxOS1Et2dTEj/1BwMkKI9K1rrVb2RdRrdU0gbGyyp9tyOUn2TnVbzkcxMtMKEpnrfJ5XlYWK4SMmDYjZ+3o+z40UENYgKci9ylYy17UHSW+bJEkZp79uR3lnErxW+7XktzOC/vt2VGRXrVvdb23xYQCK+lcXW65ex+34dV+vggSLQfRhJqqwj839vkCGJAZPpUsTZNXco/tRww/m13ULgqr2utn3ZX7u8qXUH/dgIwLxTTsDAAAAAElFTkSuQmCC'/>"
      ],
      "text/plain": [
       "<IPython.core.display.HTML object>"
      ]
     },
     "metadata": {},
     "output_type": "display_data"
    },
    {
     "data": {
      "text/html": [
       "<img src='data:image/png;base64,iVBORw0KGgoAAAANSUhEUgAAACAAAAAgCAAAAABWESUoAAAB9ElEQVR4nEWTQY4jRwwEI5OsljSzhrGA/+X//8Kn3ZGmi+lDyzDAYwJEBJP6Oz4+DmaqamY/X3vdWmNbzEA/MbdRMg7Z5zkesCRhhf6Vzn05mZC9z3M08sgSGtSvTJ2jRJlkn684wYoQhn5m+5wlQWbm+8nKVAUkBP2crpPSjhLYJztBvIc+RzOyPRnIbPYAkiyAThIixxMgM+dEvkAgLZEJsvaWyJ6Nq4gkAV0ye++ycfxf2gTAoUvFfr1sq5W2kFw9E5A0XRbn1yGVrFRb2DK5ArSVvH5XkmWnS5Jc137JaSv7+8tJcquqMkGKpIDlRsn5qurqm2wLkiAJJKk3s+M9SLzJUCJ5AOgvZa/j8XFbzkR9fM/rhEjOnFb/M/TPP/962MUO6/6a70FEkJ3qX+Mjt/tN6nLSq2OVQwiQPlAxwbVKM1UVW84oSqT+NDRUr+XoFECCKmSQ+rOSo6Qqw8zMJDMRAkfue7Fbl52Zvfdkz/+VUa+OmHOHyexzQ5JEuVzT7kTX7TITVLIuaQTcq0Htqz+4b+deXX5LjfrRLD3ux9FKJbdz9v3oQhZvTE3/+HzcPCrIzj66HXEB9wfi+OPjqIwKabLvy+9LJerPkdf9aAJaqXjWYXtCAvR98Co7gC0W6b6eCrgq9yaAEDKZgRChRP8C3UVV+Pl3NRIAAAAASUVORK5CYII='/>"
      ],
      "text/plain": [
       "<IPython.core.display.HTML object>"
      ]
     },
     "metadata": {},
     "output_type": "display_data"
    },
    {
     "data": {
      "text/html": [
       "<img src='data:image/png;base64,iVBORw0KGgoAAAANSUhEUgAAACAAAAAgCAAAAABWESUoAAAB30lEQVR4nDWSS25sRwxDDylVf+wHBEEWlv3vIwPbfUvMoNqChkIVD0n9e/u8MeOumfn+ueqxNLLNTBBdJSEJJFm2REhCMgJfO0kCJJkkBAkABPS3HqNkDNn7Gg1ItjAB+qeupUmSzPW6RoOQJPA56B2RMNn7esWRIkkoo9Bfa1MSyc7++VZnXBAJCujXFVXtKEmul4fgIAkB9CAXSjaZ2ZkDoV+SJsiIPZBzAMaSDoVI8Pk0e2eCCyyBBlrMHlsjiQyRbdDvtnO9XrKrKBHkqkqOjw6t+flqVbm0S8JVVTOHY6DZX60Ql3dZkl0OgEygub5LJPdFWci2kALHiZ7RT3f30lGOzgSkhN7jfSTpHfHbJtkR+GtuH8/7OgSyIMk7ToH6v7//+ufZLrbi29rX9fvERoK+uH88RZVRrZXkKEmSsuhlgt3lmarqss2gABnRzyW5ehmNJJdtSDxHbz/vbfdqDckEROSQd6/63uYgz772nmQihAiW0uXMQDL7uvac+grlzeLSTCAze88pEwnhbVev1T71CXJPl94uRZLSH7fHfa3SyLXuV+6rrd++GfWf+5+Px02xO/dr8rh1IYucuPrP8/O5nFHBXJP7aud4eVr9+XjeTFC5GHgsn1iTiPA/tAgsDYsQTj0AAAAASUVORK5CYII='/>"
      ],
      "text/plain": [
       "<IPython.core.display.HTML object>"
      ]
     },
     "metadata": {},
     "output_type": "display_data"
    },
    {
     "data": {
      "text/html": [
       "<img src='data:image/png;base64,iVBORw0KGgoAAAANSUhEUgAAACAAAAAgCAAAAABWESUoAAAB7ElEQVR4nEWSS64jVwxDDylV2e/TDWSURWX/uwiQYcf2vWIG5UZmAiSIOiL1Fzo/755xdWa/Hsu3U4NtZkL/SuUcJeNkZq1ViSVJmNCPlNZWQsKs12szkmQLHPqRrhUgSWav19YgJAkl9L9prxQ7ZDLPR5pJQSQU+jXZUUmjJNlPboRKJIHonUS2lWzIDBO4RAAaEpDF3pC9swcJWRKkjZUgKRKZnUE2+L2hMLO3q2KsDJFdQSCgG7OfT1exNFYku+o6RKEL8vx1SJXylIVdZSZIznSR/WjP0NY1UFW+TpfS0t7PsqSPm8oSst+IEm6Yreex1tq/0UGXvqT00t4cSL/BJSmRg2TU/0B///F9Pw8NUfVkcu1XAv03x8+ff34Jaxid52OvSwIGqxtdXlSZqj62sAlKEtTf5GCwz1Iou6psJgoQ+gf7bFcfXczARYkVDZL6k9Vt2aWZPTOB5CIJVt8omSBlZq81kyQCaZDcnWGvHSb/9/M2U6I7gwIomRnsdxB0/aKPSGdXWSSqPn30ZQkKcn9m/P11vzWp6fO29/3sumwJqD/I8ePrdmrkZu4z97MdWQSkvuPb90c5o0JZM7ejxWVroD+o82wzYEdxztNO4Mp7H/JRV7Dt5BTHYWeuNnTeBYAiJL8JLtT/ACMEPBfIy4ZyAAAAAElFTkSuQmCC'/>"
      ],
      "text/plain": [
       "<IPython.core.display.HTML object>"
      ]
     },
     "metadata": {},
     "output_type": "display_data"
    },
    {
     "data": {
      "text/html": [
       "<img src='data:image/png;base64,iVBORw0KGgoAAAANSUhEUgAAACAAAAAgCAAAAABWESUoAAACAUlEQVR4nDWTQZIkVwhDJcHPqq6Otid8Lt//Hl7YPZX5kbzIGbYiHoQE/FvH5wFbXdnX93v649XDEomE6P/KRzNxEs/sDTsiQpAA+mfzWp3ARDLnyFMLwa2jz+H5ZBFIEu+tCSKQwE0ovC3FRADEsx1AFEkkfVZts5OYJDPXnlAkSYJuww6EYIcEBhtU3XxCncyeQEBMCY5BCQFAwS1i9rakDNwKDKntACTRRc51LlLLxtF0bkIAkOwG/f4uoFCFtfpKSFAJAKGL8M/mjFtKr9q/6QFIdTHzZmbm+WB1FzwOSN1dTWJOilQdlFqME982TdigjauOeyl1y9dlAlQyLs3Y29VrKWOujyPv0/hVcf+LyfH519fRDRPr+XCiQkIEZP+zXX9+/ngJ1UXNahEgA0CB+m3y2ga5uoCuEuyQFSRgP0jU3lGvZkQC8R4BBA32S0IxUJUSO8jsPUUCYNCvUqgEJGJPgNnjMPdN9aPlxOPEsQ0qCAiSINDd5T3nNQmTQOsYSSIpMGipFCYAFbCOp/fRVXcaSK/uqFZXl5AcmFxHVc1vJz+q6Xp9PI4OtESjji6SBAL2F4roz9dzcaOoCtd6iCsBAPQfA/Lx+VwKyIbBQ4eo3EP66wx1rCoGoDTuIYJfAPSzDC7djxgE8YVQMkAi3UaYJCQTx/v8noMNkwD1P+rSXcbwLjQkAAAAAElFTkSuQmCC'/>"
      ],
      "text/plain": [
       "<IPython.core.display.HTML object>"
      ]
     },
     "metadata": {},
     "output_type": "display_data"
    },
    {
     "data": {
      "text/html": [
       "<img src='data:image/png;base64,iVBORw0KGgoAAAANSUhEUgAAACAAAAAgCAAAAABWESUoAAAB50lEQVR4nD2TO5YbWQxDL0A+lSR3OrMr738dE9kt1SMmKNlMGBCHh/hQP9fjXhm5yT5fb9atEtnKDKJ/zxonUZTs81QFJEmYiP7m3CYkzD7fpycISQID/fI5IUBmn+fpJQfbKAn0b59YhGH2+3WuTATEgKDf76HsgUn293aSUiIkgN5BLk8GMrN3QEi+5jQgO55AZu9JQFh/AApBBglm7z3IfwAJ/RHE7IjZO3KVos+GdGm/317GKZOgshUuDtDO+f1tL5dSllTuzgRkBlrz+lWJSp2ykMtOLr0ZWvtVBu7tKiFdDS5H6My7utu9XBbIkpCCZEjvzbmvjfwtXQBJ9C/W/XGs/kiPJCIZZIH6v8e//3y1W0O0bnvOiICYbUS/juPry3GJaB2vOSPAyaQs+maC3G10VnVXFwmEDKKfN0tVq5ToIimNPjpCP3vJtZYzIuHKmoiCBX136Tp9zvPck0yE0MfkbmUmIrP3uWdCRhcCSWmLGUhmznMCF0tQEKhvlC0pmaBaVZKEwEiiH3ocq8uRXLdDx2pfaQlY9I/+et6PIq41712Po5tP3iToH7ev563ZFOSYOm7L89c50c/jeS9NJKSdvq1yAMgI0vfbKifgioeso6wEcj1kV+kTHzNNekkayPXD+R9AWh5V7G2NHAAAAABJRU5ErkJggg=='/>"
      ],
      "text/plain": [
       "<IPython.core.display.HTML object>"
      ]
     },
     "metadata": {},
     "output_type": "display_data"
    },
    {
     "data": {
      "text/html": [
       "<img src='data:image/png;base64,iVBORw0KGgoAAAANSUhEUgAAACAAAAAgCAAAAABWESUoAAAB6UlEQVR4nD2SMXIkNxAEs6p7Zsjjhpx72P3/EzJkKMgl0CVjlnLgoAJd2Uj9UZ3vRyauysz31/J5eJCtzNCLqRklgWT27EwQkiSU/lfts0wmYWZ9r/o/gJP+Ur73MOMkWWstRg62QUM/xbEBkWRmfW/NREAMTn9qjk3PhOzJ+honKSVCiH5aK6raIZBZsxO4WwA9CchSsiGT2RMQshB0SJAs9kCy197BfnGmLTKDpEhi9t7I9s+MLjl7j13ZsUiCbQMC0SVlP5+ye98PIrs8d7V04zw/D6kpUSUkV4kJSOoi66s9odR0WfJdgViizd5fVpK3w2ULkJEUQGol+7u6uvqULAGAJAWZnsxmvbann3si3Zz9mZ3jvM6jnCCXMz9pMuq/4+v378dZfQt0PbMWgJzsuP9R1/tfj4rL4OPoBJkAZNMXN3JVFzNVFdsOEUH0gzkUymeZbdmxJI2JgvrBrpKruwiQ+5BJEtzvLJXgtnzvPcztnJRBfeEoE8jMXnuGJIm4tepi9qwdwsze85qS+7NRN6NXmgS5qfKtE0Hd0pxHVZlB1dfO2XcCAv2L4fHr7To8ruRaw3V0IZkQ+p3Ux8fbVUEFs8l1lAeBAn2h4/FxFIMlZch5lG+KDP2Oj6vLA7dq5jxtvVDyH/D8Tr7cKQngAAAAAElFTkSuQmCC'/>"
      ],
      "text/plain": [
       "<IPython.core.display.HTML object>"
      ]
     },
     "metadata": {},
     "output_type": "display_data"
    },
    {
     "data": {
      "text/html": [
       "<img src='data:image/png;base64,iVBORw0KGgoAAAANSUhEUgAAACAAAAAgCAAAAABWESUoAAAB7ElEQVR4nDWTS3IcBwxDH0D29EiyU5UcLPc/RZYuadQksmibKy7AD0BQ/6LH+8muqzPz+vr2eRbIVkhalC0kCWTX2mJFQrL0RSoh3CEkCyJCdulfOmpWSSDZ2VX+YAP0l/nedZaEne/vIbln4hX9VZpJNiQ713WtI24Avjs8Iyewu9frRQXFtlCgX9WL20OYnddXPQgFkcDpUeSylYTMdREi52YUGiS5osyQ3XEiBBZCtI2ExC5kZry3Grd06bJJsDQSe80t840IdFu5rlZhL9lFrvLvLqFLXK9X2SpSBFWVHZAQdGW+Pw+ppdoSqKpaE8BAe+b1WYTTjgWuLuMNkrJN9np1lf2sGOSqcghIQj0zumZ3I4kE+eYQkFf9K/bRXVUCspHFDZBl+r/j519/vx19aNnIkQTciYf+in/+80as7NLnZ66IgCGBPqsEVpVjdxdBt582JfeHHkauw9q13Ud3sSgksvqdZ1cdRysaIlfZsFEgoZ95tGULdmcXW2AlCpb6mCLI2p3r+5pA1kjRYtEVsiG7M9d1DUC495Skblq6l56Z3G5e/Xki9Xk8z+4/6rvV7bviPkZ/8OPj7XloZddxjs+jfz9qkNTv9ePjfDhxJd/n1vPRvu1IJPr98fHWZmLgcaXOx+10Egn9D83sKx+HDCyxAAAAAElFTkSuQmCC'/>"
      ],
      "text/plain": [
       "<IPython.core.display.HTML object>"
      ]
     },
     "metadata": {},
     "output_type": "display_data"
    }
   ],
   "source": [
    "img_show(img_map(lambda x: img_rando(x), np.tile(g, (10, 1, 1))))"
   ]
  },
  {
   "cell_type": "code",
   "execution_count": 10,
   "metadata": {
    "collapsed": false
   },
   "outputs": [
    {
     "data": {
      "text/html": [
       "<img src='data:image/png;base64,iVBORw0KGgoAAAANSUhEUgAAACAAAAAgCAIAAAD8GO2jAAAFhUlEQVR4nHWW3ZLdRg6DP7C7dX48thPH778PuJXsOrFnjtRNYi/OsT2xs30jVakKIAkQLf3rl995dboRQlbs0mz9S9t+r8sfvv7B9bOvOxEQqBxpJTZHOJv3My/v6/kD62Smxqc4/8cevTDCxtiQUkAQra6hW/pP4lNc/q13f9T1xedgvWFevAarOcMpkrI1I45zrEaVY4b3WMq69qVCAie2aVYnBCZMhB2yjNfQ3nWcOD6w/+p5qWN4BYALHzhVUg2ccItMoFXrlhEAprAMGCpEJwOFN62zn5X7UL5lfvTxm4+rV68El8gWe9MhCgvdqt1QFzNydYFBMMxWEhJqqOMuQj18Iq/kSWvL410d75nvmRdnd4qqptU1Iw4iJayTMqO+qO32rYdJAQSEXboz3luS1GHIG1VaI1ZnBgderoSULaEWjTZwk6RQiwt5Lrq4dT3QvqKCwcISCqlJXZIpKYMpdnuXlT6WU8qUSwSIhjs5XOfWnqQ/3T93g4xFir0h2BDIyHTTQz0a2Saa2DjkEC8tlmMXGRGpIYZ0hiu1uS7FG+kSo/oUcS9cPMjAuJBpuGFVpLYbLI+dfqv2hS16zpg3u6RR7ZrrWn6L1d1ElEd4g+ivt0x3aHndZQeghKOi39x3CG+N7bNmuKbzv6rCJ/O25lOsW1Uau4znWTha/2qih86GAkTYxSr28M0+Mib9qKBap2V18I6+rFrki/KgH16LlRXLq+GX2feI6Hroqm80ADbIzqpVlazQGvSZLatBNjfZy2yWK4iY1ktIYWxLJ3mvdiPcjYTwN3Tfh2W8HLhHderEunrJSldnvfHcvGb6c+qLWTZhu+3eiMhYJ1Ho2VEdCyTJX1Xw3VTcv7TuwdrquFiDCXnyevJxrsnyl9KfpZemG+0WfVZb0iROYGlXZL87knsefV8GCltMlG6xTj6kQvTKk/NdzUtNLe/JJ/jL8Umn/4ip7VDM6EeExXLys4vuEjwi6bBbNs1TaIs15F51zvU217lmTK30Vh6jOeJlxPMWq7U1tl1dyHW0vxF8Sz3fRQYXyej1ph2yhj3sU9bltveZsROrzsH1aby0dY4W0dy2jFMRQlL9QPCqift7VeBht2ot6DDwoBrJy8w/ZTyeOEWc2zptrY9Li97US11UQ6O/yiF9b+ExJ1c1PAhUTeqilUOuYS7UstOcaVu1U7Yteh/NW2gzAUuK+LGD18cmKlpuLRT3IwXI1cihuiDEgJM0WsRQ9VJbDt/zHrZ+BxJ/27PHiEw4OkGpUKCQCSyrQaibsE9y6xnbqi1js3t4DdYT8y3HqX/brp/w4R7Y1dI8bjolVFOp0UAQZIvd41nXL1z26pLPPp68f2S+97F9H5G/KqwHlSQsLbtItWWt1FTMHm5Sj6aw2kH7XOMTl2eGM08cZ45fOT56/lLr1KW/la7vw7pvODUW2ku3YlfsETf1WcqKaM0a6X7T9snjQKF18fGubh99/Ob1rnL7iQC9ZjKGtJbjSD33eI72F+M52qRHNblbvWi7QuTF+1PuH3z7sNYvldeq3vXa+T8oAEA9bjdKVTHdDvoL46A39UYENOpU61zHVsc7z19rvlt5rTplRdejzJ8c5Ds60MyATZyLXFq4VJurO7syys2lqpZz1Hxivq15TW9ZrXD/GqI/kHwdFArCDgw0OFFn1lt7ZoYZKLBsVTayu06rLultuSUuZ7d/8qe/xur9fpaIMJuroUvpqbyTK0JF42FgucKlsso9aUb3f9H+CM5/luExrP54DlcHUtOaSjtCAvJeiyip5AwlbiaC1v8P9Ou2LKeEiftPhlUwUUpJpFho0tJVDTlHo8oSw0T/xxX+pzbgjhsV8RL8pXGESpHEVBxmlcsZPa+sVbJ9Lff/AQqDCGtmtWysAAAAAElFTkSuQmCC'/>"
      ],
      "text/plain": [
       "<IPython.core.display.HTML object>"
      ]
     },
     "metadata": {},
     "output_type": "display_data"
    },
    {
     "name": "stdout",
     "output_type": "stream",
     "text": [
      "5\n"
     ]
    },
    {
     "data": {
      "text/html": [
       "<img src='data:image/png;base64,iVBORw0KGgoAAAANSUhEUgAAACAAAAAgCAIAAAD8GO2jAAAE9klEQVR4nFWWUbLsxg1DD8Ceuc+Od5H1ZRPZcip+7466gXxoxq7oRypViU2R4CH073/+K1Oe0O6ZZdZX+3XOaRyel1ek1s0jXQcnahwnTtxOZ/Wp1+prKWNQt/TS48XaC2QTlSIQ99X3XX+9bVUQFaoqKqoWZOrayFSlDYAs2UuixikgsCW1VJbczpaB4uLgMKdQKoX3Of+XEoXe2SBYa6nTsyB3IJgwxyrefb6woKgMVdpIqEeOVEdKaDilRZXQHVtFXVXTljKyhRoOHOboefHcfHLRpdaWmajRI15xpWs4MdGEVI1maw4TnMUDLeR3pT2NA6mj1Tv6/feDtUWEq5HEuKzo1TlYbV8MTuRLczRtWXogy6KoRsMseJDVOhJISRtz2ZdVauT6yBeaLTCgCEzFwdtzEIoX004Kkmw81aTrdIWJ5haO2HZHMVErLia2S7YB1WCwWh2c+tw1WR7FgkrI1SqPsI7WvlVPNGfoKMM2pUGplrRMRDAaSy2pVFSUW9BLC4wELaJzeG6ex+vocdjx5WznVR2EOIBkS9FGr3EePksXNYOxuouoW3WxqiEtFYQ5zGYdZktbqouTUooCQQJKwlU0rucyF1UySHLpgYK6zsrdoxYJPcozrMM68pboRhknNKoE6KBdHcBnTcbHTVN6qikDwEHpwtSoNHA34Bk9qlU94w1SOM14HZ+bHKe+vLZGqonbt5QlvQFTdKCsDNBSjSVwO9GjeqY/zj2wvtITmqY6xVvr0jrWQxu1d4SqOKycR6UKERZQVatSNGFJD/Qj+v30x+aMOhx0yimPoshbv21PdK0PgKiCDnP62HwdESQdLSIWGBQe1RN92X9Ef2z9Fl2U6Qv91I0j8gafvg7arRUDNCUif8vUolrlhnA/jKwGXIxtllKpqsyIXd3og66gX5lXc7F/hxGGpUDybrVYAG3Du/VqFVYZtE2kWFkwjUkJyDnmW9K50R9wheBYfqinVAtgFQto6JvYVRiEiLrNMdvaw7F22WTSaxjNEypd8jaC3kSTzlSrKWJxKNKItmlzrwqodaSf5j/DT/Oy9ujAUWi9uVk0CM3hLKhA2cUQ15K6eioXIFLEhhf8pIdG+nav4TXawxkOBBG0qOpw0kfO1yGigBKIqKkq1g0AbWkg5hIv6ZepC/wyr2EPe8iQkoqhrpo5tvsdvQ6AhujWLIgYsdpbO/eCk2Jdw2XGXPBzdJmY6v2xJKjKCqt9BcoqDod7c6EbOwDrvbVlEBSsGbGk0nLe0Vve6bdVqoNSbsx/zId7jzVTuA/okj6REViysLDi5lCRT7kSlSrhJIfv+Nu1Y0l6Mz+gyn+bjKUzN6EklKriGl3Tbr1MhARq+zElqVOnC7D2tJOPnfJIprrrIokljYrc9zKM9edXT/nH1nnwPY1p22pQWu6N2C5F47N0RnERcSX68WeosCSk24QhhXt1n+lr6FKnMaBVTttTjozXIk/+q2Y1hiFW9RkiIVQoywffkI9sK41D5T59BjwiZmjbTEHFYrVPap1JRpl3nzhvaN8nVUsHbt9oZMsYtU9d5qA2bV2KLO6nmjT7Sa1tznoXRxG3LU0ncNuWVzXvOaBw0BEelhiSk5y+JwcQZ9Sm1q+yjaZaPUYw+5YRahy9/+C7XnikXV7tVEIyS129ySBQxe5trqpiTuoYFrM499Yl7Fs0SaFi/gcM8ABvr/pqEwAAAABJRU5ErkJggg=='/>"
      ],
      "text/plain": [
       "<IPython.core.display.HTML object>"
      ]
     },
     "metadata": {},
     "output_type": "display_data"
    },
    {
     "name": "stdout",
     "output_type": "stream",
     "text": [
      "6\n"
     ]
    },
    {
     "data": {
      "text/html": [
       "<img src='data:image/png;base64,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'/>"
      ],
      "text/plain": [
       "<IPython.core.display.HTML object>"
      ]
     },
     "metadata": {},
     "output_type": "display_data"
    },
    {
     "name": "stdout",
     "output_type": "stream",
     "text": [
      "5\n"
     ]
    },
    {
     "data": {
      "text/html": [
       "<img src='data:image/png;base64,iVBORw0KGgoAAAANSUhEUgAAACAAAAAgCAIAAAD8GO2jAAAHdElEQVR4nE1WO6+m6VGs6qef9/J95+45M+NdGwhtIQFCxkKIhJWwBBkis4QggZSAn8FfcGIR4dSJ5cABl8RacIKE0KKVGLye3ZmdM+ec7/Zenu4imDHwA7paVaqqbv7gt78FIcilahm5dEXNsTrCbE5GSiLDBpWaZEJEc6ydn3zYeRdxcZq+iWU7JqhidtFZBz46YADgLLZA0VFOjCi15FKBDiwMJIRTCBN9nauMqlmoQjijII1ai+QGGEDcO1T5gREBGiC4UQIMyB4xUiDTsXRKFy0pVjG5JBggyCSyIEvCmaZsQ7SNBaYA7XWFUl9xwAEBglGsa8FccjU0QzhYYa7i8s7Yow7pm4LR1BnNACCVERay9SgdU8c5AP0M+V1lXfPLKX/QpNR/h1yPgzdbO4tBWCGryELCPEFpLaXVJi/oNU+YZmEVI7Ih1mZQxq7FK8Vz4jO3zyJ744eGM0cY/rXBy9vbNT0qAlrXUJfFUYxgJpOls3UoOWQjoiGn1Y7yfYsdNS+WNfUl8z7zW3N+2sqmx0r+Pu0PQsukPxTdTl9X9LNxWbQeZ1wcynhkP2EMt1QrxoHtWuuYYYpZ2LXyJojCFojO1FddQRvoz0p+1vB94aZqBZAg6TF/7UV2J+OQvsbUxRvEXVr62FgTK401sc28Km3MyDUfZnRhUfwEtNHjrOFyhZE9cNfw19R3qMUIiID/Y3v2Y6vXwDdbf8slj95Zup84zlZJSzMUs2TftEUaWmlqJ3u0HFc7bqOdS/170+Nz4bvAUzIAgAD8R7zxUsLshYa5tQ+RGx7G7q5cmFnDOCEP0J6xsaUGKsCQT3JFOc24aPkoPZPMAPA1+JTUu20AAD8izxGL7Ig6w5kbz9GzK0mWxs0e28yuJU/KPXQWgRmnPdZQHkLTqt+s8AIWIPHK+UFl8pfwgn+bn9/n8rZU8gbYkGslPFnCrRVgyvGRbeXceEpN66Sy4BRcp+AdNUsfScMZs+M426uFf9ThH4gEBOwA/6vuvz6O+49zKPi1r+L2ypbeotCJQgQibTJMyAlcYWmAiSpQXe0y9BHgHdw5AUl8suFHzkKUgQi8mOXl/M3vrPffOJ6/jGmqrR9Wdg0ueqA7AY2HHo8DHq6wv9F0UULMRy/Hp3G4bPGsg3V82/Gy6WrkS/G5YdhSxZT6UnKd7/O45gozlBLAWqzJGhhSMpS7XncbPm4wD2Uxz2OHxz7uPqwPt55dBzcWoRCSfmPEj/vyE9jf0v7U8vcGOvpDTFqyHLJMGedoZU2LzFk4lkLLhzH3Q5uds+q6VO1ucd/1h7OhEWxiL42BsWMxft/4N8Gt2R3tF8C/mdy6o6HbtfqpuuImaRvZRXAmHvsA83DGaWNLNywsMX+qh019uCin0bKwlIRLozSQpfJVwckwG4D8hPiPBoPPSryI+tLqI7XPdcHStGgV5qJjr2mjdcPoFXyby39yv7ddsWNVeMqhjnAjSBJfiABBACAFwmNuu9l+hi7cjO11Tk/aY49DaC6ZWC3X0tLnLP8u/RPbMyx9W54v7VdLOZm8oC8o5T3mFwAJ6P/lgI9dHMadj12xies25zn2c+y6XJCm6CPzJNwBs+FXiDPawPK1LJuT9YOGoo7ve4LEF+8Kgr/cIPn9w/VP8yn76/ButmWPdo/lPGbPhqVoXdc8HWN+m5s7lBmc0TmGS3VPI5eQJIRoMML+V6L/IwB/PV3/iz91ewIO0MEQTAhMzPBE5mq1oQvUwAZwYfsFLz2XznZDNDSsHdxRnf9MvhSeEq/fMRDPBftpPoF9Rbos7ay2bYmRGpm9WaUH6sn6h+Jfhr0NTgIPfr4vN39p29cqDgzCxs3PyEHfgeh4ETqt+HnDD0Ny+Gs8qTqHqof3OT7RxY1f9zahrexO6Cdm2qmU5cwwBEeqiXmA/tzVVz13/F21qYuHjD9J6yBYU+gGuDRbJN9wgGiaS+a1+AzDyLOiS3Lv5VHDcZ7bal2nfZ9nx+JJyjyjf0m8JT4ooAHAhfj3IhJ6rw9+PfQTwC9qI3au1qN7orx1utXOtuCWMbaYrGUB380GtWk2pQOeBIinhEyE8N6cIgAKwih+m/JLn3s8KrXR2ZVvutrYidXgJVUxbcvKTheOjVi7ZK+cEShNEIBnxLvzInEVARSgAAnku4NzUw/hr4h9Xa42vDWvpR5ZjlZWy9LmM5y6slxv4+ZC2yPKjstJDVhRVDt8XPA94i8AAQEAMAhAgA0g4E+2n7X+Deuese/b7NaxLLS1Y2rZdqeh3298ukZe36J8rmXH+cQAgkVecee4owqUsHfpIgC9z7Io969/6kqYiJ3nWtyLUNdqa6f9JeYLX8/HvNpo84laxeM3FK80bzm/XPTmIPV47spAJigCyCYKcrx7BBz9TBlZrATrwQd5Fnvc2INbWqfe2RezZ2z7PP6u9r9lu467LedBmgOfCzer8phIqomOtqqlsCkgMuT4xVdzc4++yaqVmpFJWRSIkFnSQWde2fTH2Je8/3m5uy8PVvbbumw73FYWaZ1ZIbRAA0wgcFAsUcb4H6dc2qEIwezxAAAAAElFTkSuQmCC'/>"
      ],
      "text/plain": [
       "<IPython.core.display.HTML object>"
      ]
     },
     "metadata": {},
     "output_type": "display_data"
    },
    {
     "name": "stdout",
     "output_type": "stream",
     "text": [
      "3\n"
     ]
    },
    {
     "data": {
      "text/html": [
       "<img src='data:image/png;base64,iVBORw0KGgoAAAANSUhEUgAAACAAAAAgCAIAAAD8GO2jAAAGF0lEQVR4nEWWQZIkSREEzdw9IquqZ1kQeClv41kcYLa7KzMj3IzDIGAfsJOKKv/+13+oFV6h+6P79zyjvu6xPEbOIzGijsxChcOggZZX+7a2bmnl2vPaz2sfX+v4Q+PTfVG0y9xE2VuEDRM31r27/BQ+tnjtGFnVyQhEKmASzsYW3uZlLYc7tbA2kPIDkBkGwAQTLjoBGQT8E5fRXh/l55qkYojucLBAJRxhlyIVBgCAsZ0WF7Cz/fAIjZcyHAluuz4Qyz5JSxfufwJP+iCyOZntVEYqNtgGw5sQIAaQyaIRFKkIRO1yv1wjM1wwDdcrujdu8d+YP/mnr3hf1sH7ybDlng/lgQrWbjgV1JltNaKVSRt0mcMoquqa4WmXNwGB9fH8qWvsMxZq8+P2BMeNLONlvMRXMAKyQwCQkIWVoSiIIEklPOHHuEZ8T+TwTBCQXTX/9E+8X3/J53Edj50Dj2886frgntgfoSMWs0maFnC1pKAPcZp03iQqzlF7Pn/O44/BTA8agOCs+vEv15qUzZcmUMCw8ome7OIZucZQFG3IJEN6WA9jgpTtvIpdeebxFc9PVtIVAiwwivO0g3tiHa8+vHO5OxQ8iU/mV44350aaZJm4Z68fYbQDJtTkqvEe42fWFZnMAME2BaVLA5I8Ow+MXamjrMQ142vGZ44vzLfHihQBioU5bStDBBJcwTXirjgDpg43TFmgYbO8y5Z8bn+/OZ1ZDrMjVuI2O4LBBAg0YIcj14zLOAgaQYxUxS6cA/tgtvMWt0FtVn9/dF/32jfep+c7pzwZNhzkiCoOmNmmN7AJZ67It1SygbQSffj+YQ3HQ3kjvpQLNMzq7992c3tfwg7eBkwQCg6kTPuwqi1jh27ju7U2TrOotB9EGgds72fHwbxcME9QdNU+f2v71nW5FmMjgGKYmXJhZV9PxIyAtexP4WqtVsOddnSFGa1fJCiKJnx1NKDAKO25Me02uSiF0JPI9vfSvPsZ/qAeZoZP+Fr2KctO6V6RPQ9WROamPZUbuIAIF2A4C7HCTShQ4SQobrOh6H1Ax9ZEVAUC2vYGjbE1bh2BozHseLgoTowRaIQYQAEGoiq3oVSMzmdnc9xGE0ZtYDMLAk9xtX8Cn+LaEavH8mFXGaQCSjJDSQehCDD/d3CThsLKRs4OYQhF0FaDxjIXeUZ8wRdNaAIv+MM4QAISDACxmPfMW9mGAACqyAVoKM1qRgvboYgApnZiV6ziWXEmb5jVI/2Yfk0/AzNJQgkmkDyD3xHfiduEwYArCXSlxtDRPdTYuI0EcNgfsR+xMs6o74jbwvRsH0szOSKY6JQyOMODJ+MzeIJWJIHwLuzBntCDOuhpRGAPm44HdcTOOqPeHJ/BzX6mJsagyW5aQCMQIGI7roEzdcO1I0CmUOpET/ZEj1AMUFZYwRh05s7aMcSiPYwn+pV8vHIiRlvtDkSiSBObupKyhpEmh1lkgw4ouDM8AbrtqOxjXmO+s64YzUj4Yb3MySwgZAAqmSCQVoANbLchEAmQQGVcdjI3SMYozaEAFbnG/KzjC+OKEMgQ6DZOx9K+rfmrFWjSF+KN+BLW3SVFYwAwohjfcDNIixrq36p/OIh65/jM8cmxQQGIuiMuZ1qInlgva1oTTeJCfO76Y/VuPoADngDJq6A3vUQ5mkxCdplJXo5TfJM3q0EDFT7AaAXwiGWoG3SEG27fGoiED2BABQAxCjssKNwUDfdutUBSWAIcdhhM2tzeELuTe2nf2KW17x0SOLL3I4Tm05h2AQiP2tfvGyG00BTsH1uPZkVjtN0DayedmYhBwVutQM9eI9dD67E0wr4ZWz8yYD7ax8AwsHrWef9tiaLNtkA9Gx+NIg/1GOtFWgxlGUVYskR1LIV6tOdX0zR6PL22cWkUD8QwvHTU6j8vYcNNWYBKmGaCYUisJDNSO40R6BZkyjjl5dqdf0Rs4skceNpIDrhaadg+Sho2G9qW/MuxEEGgRZMjQINGG4SXvZ2N3tRl3MSClpXGm2OQM6oRbf6Xg4iTioJBWb9wDQIEgi46SAIgAgAQYBgGaRIMACBJwsT/96uNCf4HFxvsOyPQ/XsAAAAASUVORK5CYII='/>"
      ],
      "text/plain": [
       "<IPython.core.display.HTML object>"
      ]
     },
     "metadata": {},
     "output_type": "display_data"
    },
    {
     "name": "stdout",
     "output_type": "stream",
     "text": [
      "2\n"
     ]
    },
    {
     "data": {
      "text/html": [
       "<img src='data:image/png;base64,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'/>"
      ],
      "text/plain": [
       "<IPython.core.display.HTML object>"
      ]
     },
     "metadata": {},
     "output_type": "display_data"
    },
    {
     "name": "stdout",
     "output_type": "stream",
     "text": [
      "1\n"
     ]
    },
    {
     "data": {
      "text/html": [
       "<img src='data:image/png;base64,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'/>"
      ],
      "text/plain": [
       "<IPython.core.display.HTML object>"
      ]
     },
     "metadata": {},
     "output_type": "display_data"
    },
    {
     "name": "stdout",
     "output_type": "stream",
     "text": [
      "3\n"
     ]
    },
    {
     "data": {
      "text/html": [
       "<img src='data:image/png;base64,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'/>"
      ],
      "text/plain": [
       "<IPython.core.display.HTML object>"
      ]
     },
     "metadata": {},
     "output_type": "display_data"
    },
    {
     "name": "stdout",
     "output_type": "stream",
     "text": [
      "2\n"
     ]
    },
    {
     "data": {
      "text/html": [
       "<img src='data:image/png;base64,iVBORw0KGgoAAAANSUhEUgAAACAAAAAgCAIAAAD8GO2jAAAFFUlEQVR4nF2WQY4ryQ1EX5BZJcnjhYG5p0/jk9rA/92qYoQXqcYYFrRQFkrMTAYZj/pn/+uGP0mv/KP4U0rzPtQlSV1VKACExIltZ4wjUzc16XE5FbropRJGV8nBqwvACGHlLixMWqhw2aIEAArYTDSTEHCRijsVV4hQIckQJNPraB1wiyWm+C5aiXCFBoVOCglRliZJIiAGN4A0SpocMGQFowGEFqrAQV5SK7dCheV7uXpoa1krJcQiAoORxUSDQmCEFz7lM14iMPvGy9LAKzpFN8PQVFnrTl857zqm1lCSOkHcYeihRj8b6G7uM/PIXMxCwAQDK3tV3MUhukrtiGDVnX7TVx3OcpZS++B3+qaGskTcXAfv6P2joYwuGJKVInBBxEhdFQoKFEkBlCYLeuhJe/9QjWSijHaJEbRTGLKfwaIQBIKQEqImQVaCwcszKismE5m+yUVuYozujg9ywIIlVjBWQsKyFDB8o8PqklIqYeHGR2wu46DQxsP9pr61s2SY0pzMM/PAp2dlKo6jhPVWb8lX+I6AI1pUufEZOxNB3SCprftN/2atrLfasZnWnMyD+xmfmSPTno5JtN4cgYITv8lCQorCT8puKoUqFB75NwGCEi4CaWZxn9wP5skc8cmsTEjWRQEFU7oxKNEdNSpagyJo1FBiKJOLfBNwtoBxZVbm4D65T+YkS07itX0GmK0zsDWhoCwpSpZoqC3p54ayyogYGW64lUvcSjROLOglEigRMmSCoPTjPhLISCCFTDLlUYZ4V4smGbAylWnfbQcmKaXWyQQaVgW4Q1VNBzlRSSqBIlNX9FX1RX3Tl+pWZltV7vLdmYN5VB5iJm8mpNaj3nuDkhqBUKJYRIqkUu3U96/9zfql452ErMyZeWZe8dM5oYkSCIjAav0GBIdqpb16VKUYVJWk43Sy3hy/cv7bx39qfafMvXK94r/Ff3f+cB5OI6uvJDOFCljRd+BAi1pqtGq1VqcrippU0s66dL7z+s7rK3XpKmY3ytN+JU9zWEHZZlTqIEkLTQhI1VUSgzZuLKUUFSpTzjE6bpYl5HJ11NSS2lUIUSREoVTVSLB2SUpQUaWTdOh9lqhSQpWq0NYRrVAyB+8TPZUHnMWi2wQoRIq0CGSxax99LFBaKIkUZLCQFDrbROssRdyn9II/nD+Sl1iFVNkR5FJaMZoFa2eoU/JSN1VFVT6RN+5RqlO97WPJJ34yL+VVPFzljehABCWjQmHhE8goFLSqKtUpqROp+Hg5oUwbSl7cJ9cTP5VHOILQ1jiwpUNJ4XX43B07VQdq1Q7ymSKyFbK44C1dKLHIIi13UrgI2l0Ttv/nA4FZ+DAskFRRUVKiZHeLonYwdYsv+MJNwkAqUYwTWSDyGVcSINFYs6C37fQQ8Dt6bLZADZhYMvXOersvJbqHG91Jko05mq3WRmd2gQy59iQC0KKF406ISWKoiMETX8qdMTd8S2/llsf4jvfrBO8NPohm4F6fR4WdTZJkmCGoP14c7lzOu6WV69Dvk6+DdzFknLk9cbT7QB/GWxiyakJo81h0CCTUvuZeOCo00u/W9Yhf/nrq/eBaHjLx2INTfFD3mTHZJFmTCUehVBIPVeLYHBAqxhTc+GupCz95P7nOfOD+k/RxflAKIFtsq/ifT/DPJP0zxu4qRVFciZTGnfRemk1Gkb+CfPomsf5vgx/f+OvNXQP6Ga4re37RPulG5zYaff7wE0JIEv8Fe4RbKUCWYuoAAAAASUVORK5CYII='/>"
      ],
      "text/plain": [
       "<IPython.core.display.HTML object>"
      ]
     },
     "metadata": {},
     "output_type": "display_data"
    },
    {
     "name": "stdout",
     "output_type": "stream",
     "text": [
      "7\n"
     ]
    },
    {
     "data": {
      "text/html": [
       "<img src='data:image/png;base64,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'/>"
      ],
      "text/plain": [
       "<IPython.core.display.HTML object>"
      ]
     },
     "metadata": {},
     "output_type": "display_data"
    },
    {
     "name": "stdout",
     "output_type": "stream",
     "text": [
      "8\n"
     ]
    },
    {
     "data": {
      "text/html": [
       "<img src='data:image/png;base64,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'/>"
      ],
      "text/plain": [
       "<IPython.core.display.HTML object>"
      ]
     },
     "metadata": {},
     "output_type": "display_data"
    },
    {
     "name": "stdout",
     "output_type": "stream",
     "text": [
      "3\n"
     ]
    },
    {
     "data": {
      "text/html": [
       "<img src='data:image/png;base64,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'/>"
      ],
      "text/plain": [
       "<IPython.core.display.HTML object>"
      ]
     },
     "metadata": {},
     "output_type": "display_data"
    },
    {
     "name": "stdout",
     "output_type": "stream",
     "text": [
      "1\n"
     ]
    },
    {
     "data": {
      "text/html": [
       "<img src='data:image/png;base64,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'/>"
      ],
      "text/plain": [
       "<IPython.core.display.HTML object>"
      ]
     },
     "metadata": {},
     "output_type": "display_data"
    },
    {
     "name": "stdout",
     "output_type": "stream",
     "text": [
      "1\n"
     ]
    },
    {
     "data": {
      "text/html": [
       "<img src='data:image/png;base64,iVBORw0KGgoAAAANSUhEUgAAACAAAAAgCAIAAAD8GO2jAAAFcklEQVR4nFWWzZIcxw2Ev8yqnt3VkrQoOhQOy6HwzW/rd/H7+OaTQpQl8WdnpqcK6UP1kFaf+i8SQALILP3z7/+yBEBJJK0kXM4Iowhl4mDSWpoQlJmoQiIVKqoyFDa55Ig0E5XosNABCcmUEiiLUkpEoPUVSIQoIRGYETIJkUiAgKAAHHUpCx0cSCUNgCiINKL13UqjUJSQhCyoEPgCQgixciTW7/kHnAQqyFGDMlFzCZVIoza8MKqYsGoqUiqIVqHSSmlR0/l6RQKp2QJT2kbNviH3Yc2NNEBKqQZVjNk0XZB4plYrw8r9ePgaQEQStmRrst3adu3et0Y/7c1nn25uAefWc2310nV+0vnxVlvPalGiyKuClITyJYACIsg2cvk0+vO5P3/anoafL3712c9X9UnBy4nft/nTU/36J803unyz02uWuu/Mr55kUXT0RweBou/u5/Z47u9+2374pb29tddXvnvx212PU7P4tfGfk3jNnrw0ruw5KZtDifoyJujoQRIpa0jVgq86ffarD/7rL/7He//tqu93fb/7IZKYk5+Eb3rf20/79MB4okUC9/yFsyrQmrYC7C0ut/h08+tP+ssHfnzhx8GfB9/OnAB0ja7hVfFU2WZ0kCEmOmCVFt+nSAQBEzUJ22p2Lz3svLrm1UxPgkrM0GcMDagkFYpKzWTeGUYhkqJoUSQpFRWyVCF2tE1OOx7ZUx/RVG5ig9eFJ4GSbqPdRtUMo0pljBSh3LcZQpfjIkFQmY1AxTMaeWn1vtWsXKvtaVuRwePILRrKuFEjzKFRbloolJYWHUN07EFWi5Jkwi7Org8P/Pudfj7rza63Z709692uXho3rqlzyz5DSpFpBhVMISdLitbIdpeihpoSatYs3aKPT7m903/hdPXrz3z3Oz+UsvtNRHEJn0oX5lTl0I6lsiIFyX30qS6k+3OqYFYmo8+XN3S50z9cNMPbX32r9hlv1iWBXJxby1VjMqvULJYABunrouUItfaBzJDM1EhlpD0k2aVbTzHQufmhu019W1NpH/t5tOvN+2gdS8LINFEHbnqtW0BJJUJFolkWJFU1wy0zOjfOXa9iwaV771yYO/vUNWZYdmtWlEQUgqQnuVNGQkDWjFPBa7pCQjX2zjm8FH3yoeWyzdnH8G1qQq3pLNTu7hRC+h0c0CqmJgWV5hXTUkMx+8al8rllMx9bzp3ZmI2SBJFLLsnC8tLt0ImKSuXwQCmh0Cg6EjbBSczes49cejJ4aXXdarY97YabbFmyD2f9KqleAiL5/6xtOawaS9wmCTFzpWyG9NIYW9gmLVJb8JJwK7kE8qppGZmtJdWr20qk5V9RF9k0npgb1YNqKLNx7cq2sW245VAiSzqcFAX9wdHuJRhZaoCQow26ccvW0h3n0CJbnFp6xx159QoBXmsXAt0+9myp9qKw48WdGm1Dm/JInme9Hv6mcna5T/cpu7sPdRkMMrJ8FzpIerNAs5JEy5pzlIuQoh6f0EPxPHmeeRq1R9N3c01f/IIiW8CRdCLp8IXjF9aBh1rHi2Zv8oZO6DF6nHosfbO462q92dsi4bBD9ajf+W7BS01lU3W8lwRNlppBDm2qlU5FjxxAszmnsDW17tbQXMO/Qq+lAEMlPZXKXC6xCoWmBJXlJrWyh3QrqkJlVD63+cm5tVJLs2Qdx5ZlaH+4+ljQX1+bGO1KGbR3zs/6/cppx/scp9pKP5/4dEr1IU357pSyhZ37OEYI9ePoyZcIgiItoW7yfuLTM77VJbyI/sw1+W3j/avb5SGjDVzHBnlKJnA/Ohpq9SBfoLOULSFRlVCTHsZ89tl5afFgzHFu9eF5XB+prey1X5SkP7ARiPkfdU2/nrXfz34AAAAASUVORK5CYII='/>"
      ],
      "text/plain": [
       "<IPython.core.display.HTML object>"
      ]
     },
     "metadata": {},
     "output_type": "display_data"
    },
    {
     "name": "stdout",
     "output_type": "stream",
     "text": [
      "1\n"
     ]
    },
    {
     "data": {
      "text/html": [
       "<img src='data:image/png;base64,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'/>"
      ],
      "text/plain": [
       "<IPython.core.display.HTML object>"
      ]
     },
     "metadata": {},
     "output_type": "display_data"
    },
    {
     "name": "stdout",
     "output_type": "stream",
     "text": [
      "2\n"
     ]
    },
    {
     "data": {
      "text/html": [
       "<img src='data:image/png;base64,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'/>"
      ],
      "text/plain": [
       "<IPython.core.display.HTML object>"
      ]
     },
     "metadata": {},
     "output_type": "display_data"
    },
    {
     "name": "stdout",
     "output_type": "stream",
     "text": [
      "5\n"
     ]
    },
    {
     "data": {
      "text/html": [
       "<img src='data:image/png;base64,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'/>"
      ],
      "text/plain": [
       "<IPython.core.display.HTML object>"
      ]
     },
     "metadata": {},
     "output_type": "display_data"
    },
    {
     "name": "stdout",
     "output_type": "stream",
     "text": [
      "4\n"
     ]
    },
    {
     "data": {
      "text/html": [
       "<img src='data:image/png;base64,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'/>"
      ],
      "text/plain": [
       "<IPython.core.display.HTML object>"
      ]
     },
     "metadata": {},
     "output_type": "display_data"
    },
    {
     "name": "stdout",
     "output_type": "stream",
     "text": [
      "8\n"
     ]
    },
    {
     "data": {
      "text/html": [
       "<img src='data:image/png;base64,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'/>"
      ],
      "text/plain": [
       "<IPython.core.display.HTML object>"
      ]
     },
     "metadata": {},
     "output_type": "display_data"
    },
    {
     "name": "stdout",
     "output_type": "stream",
     "text": [
      "9\n"
     ]
    },
    {
     "data": {
      "text/html": [
       "<img src='data:image/png;base64,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'/>"
      ],
      "text/plain": [
       "<IPython.core.display.HTML object>"
      ]
     },
     "metadata": {},
     "output_type": "display_data"
    },
    {
     "name": "stdout",
     "output_type": "stream",
     "text": [
      "8\n"
     ]
    }
   ],
   "source": [
    "grays = img_prepare_all(proc.X)\n",
    "Xb, yb = img_select(grays, proc.y, 20, img_rando)\n",
    "for (a, b) in zip(Xb, yb):\n",
    "    img_show(a)\n",
    "    print(b)"
   ]
  },
  {
   "cell_type": "code",
   "execution_count": null,
   "metadata": {
    "collapsed": true
   },
   "outputs": [],
   "source": []
  }
 ],
 "metadata": {
  "anaconda-cloud": {},
  "kernelspec": {
   "display_name": "Python [default]",
   "language": "python",
   "name": "python3"
  },
  "language_info": {
   "codemirror_mode": {
    "name": "ipython",
    "version": 3
   },
   "file_extension": ".py",
   "mimetype": "text/x-python",
   "name": "python",
   "nbconvert_exporter": "python",
   "pygments_lexer": "ipython3",
   "version": "3.5.2"
  }
 },
 "nbformat": 4,
 "nbformat_minor": 1
}
