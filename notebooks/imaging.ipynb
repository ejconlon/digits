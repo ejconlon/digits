{
 "cells": [
  {
   "cell_type": "code",
   "execution_count": 1,
   "metadata": {
    "collapsed": false
   },
   "outputs": [
    {
     "name": "stdout",
     "output_type": "stream",
     "text": [
      "ready\n"
     ]
    }
   ],
   "source": [
    "import sys\n",
    "for p in ['..']:\n",
    "  if p not in sys.path:\n",
    "    sys.path.insert(0, p)\n",
    "\n",
    "from collections import namedtuple\n",
    "import os\n",
    "import pickle\n",
    "import random\n",
    "import warnings\n",
    "\n",
    "import matplotlib.pyplot as plt\n",
    "import numpy as np\n",
    "import pandas as pd\n",
    "from IPython.core.display import HTML, display\n",
    "import skimage.color\n",
    "import skimage.transform\n",
    "\n",
    "from digits.data import Env, Loader\n",
    "from digits.explore import img_tag, img_show\n",
    "from digits.images import *\n",
    "\n",
    "%matplotlib inline\n",
    "\n",
    "env = Env('..')\n",
    "env.assert_ready()\n",
    "loader = Loader.from_env(env)\n",
    "loader.assert_ready()\n",
    "print(\"ready\")"
   ]
  },
  {
   "cell_type": "code",
   "execution_count": 2,
   "metadata": {
    "collapsed": false
   },
   "outputs": [],
   "source": [
    "orig, proc = loader.load_data('crop-test-small', 42)"
   ]
  },
  {
   "cell_type": "code",
   "execution_count": 3,
   "metadata": {
    "collapsed": false
   },
   "outputs": [
    {
     "data": {
      "text/plain": [
       "(100, 32, 32, 3)"
      ]
     },
     "execution_count": 3,
     "metadata": {},
     "output_type": "execute_result"
    }
   ],
   "source": [
    "proc.X.shape"
   ]
  },
  {
   "cell_type": "code",
   "execution_count": 4,
   "metadata": {
    "collapsed": false
   },
   "outputs": [
    {
     "data": {
      "text/html": [
       "<img src='data:image/png;base64,iVBORw0KGgoAAAANSUhEUgAAACAAAAAgCAIAAAD8GO2jAAAFiUlEQVR4nFVWwZIruQ0DQKntmezLH+4hp/x/VfaNWyKJHOSZTbrc1QeXBIkAAfJf//7TBtx0d5UbMNzea7sNAIBtgwZsAwBR3tm3hmKMMYYkhgB0tcu2TQK0PSJEAC13ETZgo9GV5Tb43rQN/w1mqGMEpQhFKMZQBACHXW53l7sBeohBmIJN0KYNNLz3rizw3OH/ANodk89rasQYGiPmnIpx/kbD9n3vdAIcgAADDQJUu93u8n3fmUnyfWrTAIjuaveF8fCw2w4yqAiJJAzQLu7ergYwaEcEGZ1ZVZm57nXf99q79m67u7uboEET3ZW1r5yaYGhes6q6u+ccChcqu7ruve57ZdZ4lwB8/w4JNgADbrt9eDif7i577/z66xVTrmZDIBqthtnZVXW/1tfXV2YOfGuDIEGKkkISSVEWAZskDZTbTQHd/Xq9ItXVaBCCaRlml6tqvdbr6/4bgABAggG23s+IAdl9VMezmoCrd63X19Jgl+kIjsHBoW+Azl25MjMH/F0cWpIUYo8Yz+tRVfgf7dvOqsUFITsz73AUu0af7hFECiyTIkUGOX7KDwPkG0Pj+Xx295sf0kC7994klaqqtW4xCAkSI3TNuAgIpDGgAUH6IfmUCJIiBIf4eFeNhwBnVUQAkLT3HppkCEFIjKkxNUjShCCIJs3hoxBSJCWySSoiIkgeAEkHQFJVujsUZBAieY5MiwyCcrONbnSj/PcNTNDnNNKp27tilGTCpHJLImWzqkUme1d3O12ZSSD33iv3zszMymESx5gOGwBA89gSgFPgAGD2fjMnAN1udu1U5L1qrhQHgb33uu/MqnKlh8EGYRAmoBAItVANgKKN06trrXXv0+d7725QjAhKJtsom3CjQcac87ooDQMNAJZNidKMAcOZsNvOzKrce6+1vr5ef/3+/fv379drHad+PB6fn5+PxzUiKImY1zVicETMWXu/OTDQBG2YBkk0Wd2dWZl7773utdZaa6+11yLx8fmp0OPxuJ6Px8fz+Xxcc5Lsns6CCKAixvHLwynemeK39t1Zudf9et17r73Wfd/3urOKGmMMxDtwIuI0/9mth6cvkn3lt4r84/xvU3O7qtba92vdr3vvc42NMhFjXh/Pp8XHdV1zjpNrodM0ADQ5gt1j8G0G5BHS2zk6s9autfZ9r71y78psN4NjDj8/Pn79+sXQjHHN63pc1zXHoIHOYwkF08a7RHyniul3luauvHN9rftrdVe3AcYYAV3i5z/++OOfv47hjog555xDAbt5rL1x2vCbZOMAwiRod2YeUvfOs0RnQYxxzY/nx2PMBkTGT5oZNoEGLDEUJMd3KP4Q8I7Io8u9du4mGSQJQaGYY44YBAm/NYKfRHHT5He6HIBjtu/XBujGztqr1u6slkSd7D7ZQds707CkiCAbwBiDJCnS3W13IIb7yNR9wvLbuV2d1dXVXRRNNtxuuRtYudZ/bgMkxxjXdc0xxwwSsKvKQJCmh3FAAbK6elee4mS3XfaqxM4IXjPmvKrr9Xq9djeSohRzXnvv6xqx4zTCmQLOZUeDIuPtkShUu6uq3IZBtJ17RYu8pHbnrmxUIxmMMc527TFqiDp13HvtvW0Pg4AMvb1UhIISAwpGcAxVE2TDWclj3SizUTJaKlYyASI4ABK99r7Xje4B0US9+1cGIcacMee4alZlldEnkpot0O1GN1tClTMpKS11g00Q7MaZp2qAPIMqjohFBmVe16SbNIV9BQx9uwDc5Sq3aZIa0pAiNEISzxZ7MULk+M78M22ZkhCEnx+PMTRmXI+ZuWD+ABDOylVpNMmIGHPOxxxz/vhRHlV2vxutz3REAmSIGkOMA5CX6/k9AIAM0ln52vv0J8UxZ1xzzDEUAklmleGu/i/EyrRCBj94qgAAAABJRU5ErkJggg=='/>"
      ],
      "text/plain": [
       "<IPython.core.display.HTML object>"
      ]
     },
     "metadata": {},
     "output_type": "display_data"
    }
   ],
   "source": [
    "img_show(proc.X[0])"
   ]
  },
  {
   "cell_type": "code",
   "execution_count": 5,
   "metadata": {
    "collapsed": false
   },
   "outputs": [],
   "source": [
    "g = skimage.color.rgb2gray(proc.X[2])"
   ]
  },
  {
   "cell_type": "code",
   "execution_count": 6,
   "metadata": {
    "collapsed": false,
    "scrolled": true
   },
   "outputs": [
    {
     "data": {
      "text/html": [
       "<img src='data:image/png;base64,iVBORw0KGgoAAAANSUhEUgAAACAAAAAgCAAAAABWESUoAAACOUlEQVR4nC2TS5IjQQxCQVJWVbv75nPbHtuVH6WYhYcVC+ItCOCf1fsMz/5+vVMAza/H9+MrJNCAoJmZcmVuAYB2WZvHNgAAEbRolXOMkSUYdmbS3GGk0RgSzdeevSfMAlm7k34wgoAhCjRnrTnlFqcn53rZcbkJMDIEmplyLos4H23byjnGPEoEwBAZMqoE83Ydpf7KlbsAmBHx4RA092itaTUrqQQzJxkAaXFetew8mvs2N5UE0j2IKIJqj31MNA/uTMENAD0iwNgE1H7s7BvQ0urJcCfN3B2MbRTOK44YM2vWHANHc6OZuwEBgPSmmmPNmbnWVjQjaUZQ8bEWzsrRx8oC3I0fgdFg9HBZZc7RV4kOWhhqO4AIgEZQgrmZUVIVBEkCGQRI1dqIi3GsnXOrMrMEmikMBHaOnnbGeeXurzvXWplVACwclHK97o52sHa+ucbKOXNXSQiSVet+vnuLOBzZ8qnKnbml/wHs/vp9zqud7bLCO1CqKkmAQtBe/fn7d+b1YGvZ3AAJAEggJOwc9/s98LOqau8tIwmCBBEF7b3mmrPNOUeu970AQcKnh/rw3FG5BjB+X2luJAFIDED0dj0ymf1513y+K9xobiipgiDivHJ15HDkvAeat4gId/5fIzNr3ol111pjtcvbeUY0dzLKjGzHo2pUrtx74/hux/fjcRBliOUwMY4v3XcfWWA7v87z++t0QlIMc6IAejRxF2CHG1XbKDNEsojPkz2wC6AJqFIVAPwDRcmksjQ5JNwAAAAASUVORK5CYII='/>"
      ],
      "text/plain": [
       "<IPython.core.display.HTML object>"
      ]
     },
     "metadata": {},
     "output_type": "display_data"
    }
   ],
   "source": [
    "img_show(g)"
   ]
  },
  {
   "cell_type": "code",
   "execution_count": 7,
   "metadata": {
    "collapsed": false
   },
   "outputs": [
    {
     "data": {
      "text/html": [
       "<img src='data:image/png;base64,iVBORw0KGgoAAAANSUhEUgAAACAAAAAgCAAAAABWESUoAAACLElEQVR4nDWTW5IrRxBCyUdVtaSZ8Gq9cofc6q5M8IeuWQEcwP6e6wj5fDyfwwwA7vP9fl8CRAnJrrKca003kzxzGLvUIkUhTezwsY4ZYtMxJtTFXQBEpEFNxFxD3fe2jsehfe02QBLSIBI+RhTv89L28VhrftwACUqoEYS7qes+xfF8jQw3gNTXA70lqmvvTdsN93CIJKEEhL6vU77vXZRIwGBQVxFIp0H3PzqCVXRLR0OAuqskpJsBn+5rOhCea1mjRbGbhDII6+uq/Vgjp4+5orspskkBCUAsWk6fc+YYGaymvgKSkprsNh/HMUcYmpTwR1kSu9nwzDFXOGhgE+beELIAUgDAqu10N3N3NzeAQAoQ3EboNt4zc06PMUa6fbtoAJZxrODnzoz5/HnkmCMjDACSgvlYr+fs3bKYFUdmzhHuZlASCl/P31dcVVfbwqNHRES4mQEJAXH8/PXy933ui7Vumn09ArA0IOfx8/vjOJ3Fpr4QDICENLPIdTweUWtkaow0AQb8SeEwj8zIHHMu2PN1+P8czaR0wMTe230cteLxu9Bf2GZmSMFY9znSMQ4g12tqV7OrBQApqPwzc07l4T7Wkb3rvndVk1IC1P3JGBmaI3IM3Of+vM+7KAAZBNH7X9eRmelu9Xlfn/d5U2awnCyaui7X4ZBK+773rpY5TMjFFEwQu0zuUDUE92CYCemGP6lFVggQvru3bxcSBQMAc49wQN9XSiSF/wALt6s7Ib+g+gAAAABJRU5ErkJggg=='/>"
      ],
      "text/plain": [
       "<IPython.core.display.HTML object>"
      ]
     },
     "metadata": {},
     "output_type": "display_data"
    },
    {
     "data": {
      "text/html": [
       "<img src='data:image/png;base64,iVBORw0KGgoAAAANSUhEUgAAACAAAAAgCAAAAABWESUoAAACOUlEQVR4nCWSS5JjRwwDAZL1kXo6fFhf3GGPW3qvSGIWWgORyAX4N2KuOfbjsQc6j+bX9vvff/573yezFKK6atiYE5X3q6L5a+31vgFJCgO6suAjlHW/jms+5xhu7K5SEFCxGkap8lzm7/JwJ1T5KbR0srurKquUJ2nupq4qBSh13/d7ZN9XytxUKRBQdysICsqX12BWu409+i6BUEsKEmz0q+4ZRls29+JJgSQEhBECcb2v9Vh7jDnXCLVI0qwRZhCoPI1YsfZeYWipRXNjB0BB3XWi6XPtSQpu5u5GdEiSuruzQEhqwehjzhFuQFRLUgFS180+Tp8z5jr3FW6MggAJZoa86nLjeP56zjz3HG4WDUCQRaxhdSRwHt8eY85wYzQgCBzr+ViV912avb6H+8cy6gOw2F/f667rvmqO62wzGklGA4Bk8/H9137nW1mWVQLN3IwhgAJ9Pb9+Pcb1Ew4PJ2lmNLOwJgnzmHNtPh+P1npubwkEyXACoJkZwbH2w7i/N0+1uqsVkQBIqM4VHo/ctp7LMk9Wd3WYAQD6fk3a9p0j1p481/Xz8z5CgA1Aeb0cbvCtMab39fv6//c7ZdEtAFIbQThHRFB5riub3ohq8HPLQdTak6hWFmDuZYqEO1ENpN9OQzuFBkkjiTBGOFowSN2VkBEwkpC6Y5uFoRugJAl0N0BuBCTFhBlBNvCJxxxG8Mhohg6oQXUWwoXPHsxWeT1WqOI0jMjTNPP1/WDe9Ji+vW7ldf4AQr+X8Ml9zqcAAAAASUVORK5CYII='/>"
      ],
      "text/plain": [
       "<IPython.core.display.HTML object>"
      ]
     },
     "metadata": {},
     "output_type": "display_data"
    },
    {
     "data": {
      "text/html": [
       "<img src='data:image/png;base64,iVBORw0KGgoAAAANSUhEUgAAACAAAAAgCAAAAABWESUoAAACMUlEQVR4nDWSS5LdMAwDAZKyPZ+L57yZebYkksjiVdbAAtUN/pnPlGndv68lAJU1Pr6+v04Pd3cG3SM719otmMO0Z8nC2CaAYXFIO9dcScYR/dS8OY5wB0kEYO6p3Lvdx3ViqNacuwQawRDosdGZco/zMs/7lXtng+bOEGgRBgGwiOG4DquqFsziXQiOcDO5u7l7jMiuEunmDJFmfV6TGucwdcvCAAg0NwREMM5vzLbhSM3VHgYJ5HukAJ4Wa7eUO+ezMZySBADRItDHec4559p7zZVyByR1k1GAADvCtHvNZ64UHCS7qp0hGUiatbNzzmcLZHVXdQsWJEg3Y7gkgEZJtdc6shoIB2lmRjPzUzZatff2OY51VHcEQRgEwQ5GVWv/9rMixrmrIowAoNbebcdBQdNrZu61srrDQBDIuu/ZMYYbHjw/mfUWEg6QUq7X70sfI67Bsa/I7q5uKQwgVfW8/r7UcflhPSIIqbtbYQKp3vP181d9fLS6W0RXvQsABHXOed9ln89lfOYWCQhShQS0uisrVzzP033/Pu1hAO3tAm+EHqvmHVbPz8TwcDcziwYAwcb51c11G3O+tsYxznOEM5oAYHF9dufuSe45047P6/P7YxABAoCPq6C62U+vbPjxeX2cjs43amKgG3Zk5t5ijDB2df2XTIPiBO2ZgAN0SurytqCqQUfT3GM0vARQ0vu2UblLNEoEzMylklDv3CzuzhadAGkEOrNa4I7Obeb/AMRMy7Z7Vp+sAAAAAElFTkSuQmCC'/>"
      ],
      "text/plain": [
       "<IPython.core.display.HTML object>"
      ]
     },
     "metadata": {},
     "output_type": "display_data"
    },
    {
     "data": {
      "text/html": [
       "<img src='data:image/png;base64,iVBORw0KGgoAAAANSUhEUgAAACAAAAAgCAAAAABWESUoAAACM0lEQVR4nDWSS5JjRwwDARbrI417fFuffLr19KoIeCF7n4EgwOQ/Y81QzMfz2Qkwmq7v7+/XsUolJCMCcpUEEKizr9frugUADKRtg8EgAcCufb/vfUAAJFJV1TJHzwAAggQsfwAgaVX2ueZoAYMtsXu2MgDATEJCm2sm5WLLEap9S4YgOAHL0edEqbZ7zOFzv1Ul2EZC1RC9p865rxqcc93XOIJtmQk5xAi49vVTO9bso2cLArKdsCWpUGff99HcaC1I2LbNJOH9/kHTfd9bUSYBwlbZcAbo+w93uk6BjaQNWFUlABlEvUp7NJgZcwRKklTnCGACqLsMzR6NbayUTkl1zrHBtH2OTyFHb5HZW+19qqqqDCDLOgWh9TlHtsaofaT/T0DKJdEt+1yzB6Gqkkpl+APIjBaUwCBBqHYZhD8JQETvUW+6TstPT4MkTCCLyLaeqVv7Pfp89IjWgsBHpVS0nL9Wr/2O7OOvyJaZLQjLANPM9evrwWvfB215PCOzZyNBA8ho4/n772Vcem/u/BIZrUWQoMlsfT6/fj/OTu83YhfAj5ggQGbL8Xg8HuenBwBG0Pbn1x9pI1pm68jM7lhrhGVJkj87wK5zymz9MfLX14r/CsI2iFTt+zUnYjy78/k1cErSBwEia99XX8+Ivmb09WynTtUpkyDILOx3zjWUD7Y+h3bte+99ZIBkEjrv77Z69hYt437Vvq57n5JhOBdCun+MNVoA5/pz3q+f1y4BBvwvx2e21GtkqpgAAAAASUVORK5CYII='/>"
      ],
      "text/plain": [
       "<IPython.core.display.HTML object>"
      ]
     },
     "metadata": {},
     "output_type": "display_data"
    },
    {
     "data": {
      "text/html": [
       "<img src='data:image/png;base64,iVBORw0KGgoAAAANSUhEUgAAACAAAAAgCAAAAABWESUoAAACK0lEQVR4nF3SSa5jOQxE0WAj6dn+lbutrbuRyIgaOLMGqSEhgsDFsX+V61psX7fHfZoBUr+ez+e7AJAu/PWkPuecUxQAS4EkEZkZDgAwM4P+LKagrhg51xpuJpiF1RhZMgBIh0FErusaDhI+RoJ92iRJacB3vJarWQybA1270SSUBoiUjzVw+nwqNK7FPXeLENMgKmQRTvZ+7dCcV82RB4CUANpOwyB27fd2f/9Ehn+TKE2A2Gdn8+xT5acVbmYQm0oXXTiv7KFzTgsg7HcxttJlBD7QmSbScowwUhC7q5QhGmqfrmuExbJxDVU3ya4qpSCBx8w9RrrFmAt7d7O7m0pCYhPViLFGZkZgn6bEbiqPSawG4TnXmhmG3ydIAdkAumnw8Mi50qBWd1MwI1IABItw8IwKuMMMlGAOIAlAlmOmNnjWyJlm/k0FKRuARazb8n6fz8h1v8/IjHBAVEpyj3W/L+xDRN6YMzNHun9FSfB1//WYxf0pxfbbj3tkhhsMCZjn9fj1M9/7Va82XiVzd3czM6TLcl6Pf35mPEO1fX01/0GeZh65rus2OdPNI8K/GiUJSId7RLpHjjFW5P0+Tfj/Sxq+YGrIc0Hz52dCFPQ1kQJY+z1nKtfj8vF4JNnkt7VSUJ3Pe1xTsWgxbpcdVlUVAVgapbNfuTIwzHPM7N1n71NVlDLQUp9XYsVYER7Yzzqv52cfUsrVLUfX23hdMwyoz3N/Xq/3oczwH3f5tU1y1xlAAAAAAElFTkSuQmCC'/>"
      ],
      "text/plain": [
       "<IPython.core.display.HTML object>"
      ]
     },
     "metadata": {},
     "output_type": "display_data"
    },
    {
     "data": {
      "text/html": [
       "<img src='data:image/png;base64,iVBORw0KGgoAAAANSUhEUgAAACAAAAAgCAAAAABWESUoAAACLklEQVR4nC2SQZIjOQwDAZKSqmz37IP329N2WRKJOdh3BEBGJv8/Dt/q5/0+jJBqPp+/zwlCJQChKjNGuBEQ6axcqwoQBDFyb/M+RndSQkSnKrWrIEkMVWbEOLqrMqmIG3IltoASEFAWvPWuzDmxeO9Y75n52UBAlWJ0z1rvV3X23kcLIyRBCNS2kpGoPa/ccX+EhxGqkqBAFbakzNxrJdaWmxlUmd8blOt60fecu6SqAklU5i4BYRDmL99Ne5dZC1RJknLnNwDOzPdwwuljeO2UVFVZAMJBvK+99jHCLUZvNXdJqhJEBSDlonfE0VtrYcgUvk8KIVRVrSZv4xjN7VMukACA2KXMZJmbR2ukQECgGSAg9gcrUXs5i24wN3fjl4Ug0VtgXzV7eD9aRG/hRklAlACP42ia6xXuZ/30PscVbqSASJHR7rcTc6cYdzuPiNbDaSQQJUacj8eRNa9VnuM/mru7GUEgJLNx+/lzzHXVtb3NBEkSEAAEaTFujz/Hdf1CxfrKCgj6sPBo4zhOO0cLtNEdIL4dQhjNPNw8Wh9Z/XGLkgCAJMAwEMo1O2Kcgf5z88xSpWA0IUTlvJ7RzMc9vd9Ortw7M6skISTx/YoYne1U9KNp7jXn3itLQkAlu9zjpJ8W0ez9nO/n39cqEUBYqfZ6u63RRgRR83Vdv8/3Bq3I6Jkw5boIGgXU3FmguVgFxKgECKlyKQ3QBmBmZh9hnBQo6Gs8BID46AThH+uUr0KlQZ/PAAAAAElFTkSuQmCC'/>"
      ],
      "text/plain": [
       "<IPython.core.display.HTML object>"
      ]
     },
     "metadata": {},
     "output_type": "display_data"
    },
    {
     "data": {
      "text/html": [
       "<img src='data:image/png;base64,iVBORw0KGgoAAAANSUhEUgAAACAAAAAgCAAAAABWESUoAAACMElEQVR4nC3SQZYbOQwDUACkquzuHHzOm3TsKkkkZuHs/wIPAP+b7+n0ev99XW0Qkef319cjbVBEAgTstg0ARlkzxxBggkgpoqrW3G0T6N0FRoAiSaay2mte9yxQQtUqM5KJAKg0JLnmPRsRBwtzv5RHUADJNBhi77mYOZ5ZsV/zOueRn1BpSEHXLjGOx9Gc93uu3QYpMkFlBw1QMY7TfYa7qg1KYpoKZEQ4MjPDmYF2N6hIMQFS4/HE1nEkYVOCDSoyxGyCOL59TkSEV81CigQU8Q/AI+K8q9DT876dCpGUJGQJxhk58rrX7r3u2ZFBkBSJtEFqoBdr3mvNXa0QCRIAUgQlZco172vuNoOS6O4AMiFGCHJV7b3LJg3A3TaYic9uAGPsRrns2rWrbUopAHRVIU7kuWrPuWvPtasN4gPa615InbV7vX/2XmvOXd1GCoR7X69r6wig56hr7bXWrvYH2Pt+/bz7HOMQJu8/rq6qts0kAe/r7+8X+3iMk8c+Au522wASpmu+f36/6MeXUi2JAAwQZBquPa/3++X4tapcVQZsf36eDXTXWmv6vudNXq9rf1q27X/AgLRrzWv39efdESJJdysNQDEec1+eL7Dmz+WMCEVIRBJQHOdzr41102u+J0aOHBkpMQkwj2fVWvbsXuuu8RjH83mOEPD5JPbu9vKae3dhfJ3H99djEHYWFFCMR/O677mL0nGc5zECLisnFGxLeXSbaUBDhLu7Yf8PZxq9jLkXxXIAAAAASUVORK5CYII='/>"
      ],
      "text/plain": [
       "<IPython.core.display.HTML object>"
      ]
     },
     "metadata": {},
     "output_type": "display_data"
    },
    {
     "data": {
      "text/html": [
       "<img src='data:image/png;base64,iVBORw0KGgoAAAANSUhEUgAAACAAAAAgCAAAAABWESUoAAACMElEQVR4nDWSwZYbOQwDAZJStz357vzvZsa2WhKJPXTCMx7JVwX+Hp8Vvsbr9UmBsDifX8/TBZiBCJqZ9t5ZAgDQzN2NECGIYd5qr3nNFAhho2WW7jSgEGi1xri2QNbei956OEESQIBG7WssGMMSa9Jb8+YGkEDAjNpzpnscUb72sH50o4FGKGjhrEzR+6PD1xrzWjsEkgYFjUEJ5tGPExo/ubJKAElCAdCidaH31htaMKUCjWYEGEXY+QuXPLpbkSgBIN2NBKKAeCI+CXPsPUtmJOkRDkBRwHG6+1yVU2tMRLiZe4QRUBD0plyrVir3HDh6uFm43wGjubmz5jVvJa25mZubAWA4I8yQa11j7hQZ4WbmRkK3TQBVUuXaEsP+ngdAIIxUroT3LFlWqUAS/3yGQzvHVXF6O9a8plRVuklCCqva1+ezeR7nWuNHV+6dKcGMQAWxx+s1cLbG2m/Mz9pr/esXGMr5/vN9hR3tYMX6hip3piAAqsg1Xn/+u87+5b1VdtffAQRIkft6v14jvzbMQUgECBJ3IirXnHP62jvXnnODNBqNN4oQADMo9/rY/P6ZvDeAJAWGeRyPuazme2J+v7a5mxkB3Bw8jnNeg/t6Med7qLm7u/H+s8Jbf6xxFNZbe17LPFpr7S4DpKB5e2xdNWdmLhzd+3G0Fk4CZEzB20M+rr0ltcejnc/HGU6CosWFEmgRBRRwnI/j+Ti68+aESAgSLESX2O8qSAkRLP0PWnuQSLgZRPEAAAAASUVORK5CYII='/>"
      ],
      "text/plain": [
       "<IPython.core.display.HTML object>"
      ]
     },
     "metadata": {},
     "output_type": "display_data"
    },
    {
     "data": {
      "text/html": [
       "<img src='data:image/png;base64,iVBORw0KGgoAAAANSUhEUgAAACAAAAAgCAAAAABWESUoAAACL0lEQVR4nC2TwZLcRgxDAZLdLc3G9s/m0+PZkZokctDyjAKrgAf+O441G+P4ei2jYOH3++/f/+7q6ioFaYYWq1oAoX1d7/f7SgGCKQBBhJEAAKH2dV33LgIkGN1VZj5G+CMBuqtaoEAgiC6fa60ZRoE0bDf+GBJBqOHjOIZLDRsRyn1XQoDwCMSxlnd3tnOGcl+FbrWEgLrEMQe69pWueRx5zd2C0EKgG01zU+X13oa15pzhRuDHQVUNdVfen21xK8LNAAkSwkTU/e1D93VnehWMICB1SwiDuN+eC1m7QQASID1hIAzou5UrIJjN6axuqauyAQSAvrfUaxjDxjmQWd2V+xFIyuRO2Qg3jzn62llV+eQdKWWxYWOtEe7mnbuqqrIEKFpdTdkYc63phOp5UZJARaMFMydAdzN0VWW2IABCNMQY0/t2oD0cxu4WfvqMIsLWOXT33nOsY9DMjAQaAKLNYr3O0Xt/vsf8grs/TUhNIIQ4Xr9O/+RViNXjnBEjnJAgMCzm6/efE7z6kzzsq0lzNyMpAOGxXr9+vypD+QHuAkiSD7NgeMzj9Xrl9zAJIin90AYCDDMfEYFwj8HjmCb1cwLwAJPZoI8j/Ouf06UHBQkAoyvvz2eB43T51++JfnAV0KCieH3m8TIbx7Q4v6I6q6r0jIhRyvvzPofipI+1dPfee2cJNNCC7LzeccQYbh52fXpfn3vn0ybihKnut841nWR+/837+/3Z2S1B+h/dBbusFTzNgwAAAABJRU5ErkJggg=='/>"
      ],
      "text/plain": [
       "<IPython.core.display.HTML object>"
      ]
     },
     "metadata": {},
     "output_type": "display_data"
    },
    {
     "data": {
      "text/html": [
       "<img src='data:image/png;base64,iVBORw0KGgoAAAANSUhEUgAAACAAAAAgCAAAAABWESUoAAACLklEQVR4nC2T25JrOQhDJcDeSWe+ez74nFzaNqB5yPC6VCWhAv671pH2en9Wi5BwPR6Pn0nIjER4VJ/9+7uzRZMyi+ZBM5JGhGim3GslzQLZe8F8cMABkgGaoc/ecB+XJfd++9zhBpCGAN2pPGkj5n2UnbPXOtUASDBoLIcatJi30f15ZlY1wG9IOORGc/cYY/YZ1t2tLycCgI3rrrI5hxN0gyTALIJANIj50DyIcHWmYMYvdwOiAU3zuVpQnr0Ow81Id3cS0ZDNKyLWrlTttTCHm5m5O4AAaO6qs3KdzJ2lMYwgjSAUJN08HHXWWicbcDMaSQBgBBlhzq7c6/c0aDAPg8oBIBwkCAjmZkZJ3RAkiSSCIFVZiBtjnM5dqszsBmlAGIHqtdqvuG5Z6/XJPOd8FWA4oHNen4Ux2ZVvnHXO3lndEhWG7v15vk/4nIYc+VJXZlZLAoJArdefV97GbVzWeAe6u1uSIARU+/P888y6PWyMHGEEBOjbRHTXWZ/3+9g/R1B36bs3ARCIUtXeZ5+1z47cn98EAEACYAh1CyDVZy9h/32lGQny6xOC+bh+TiN/n977+a5wNzNCbVCQHvN29mEuR+73Qnh4RLgTRJCY96y9Whude524YlwzYpgbETDDuKq0lZlVqfEY4/Fzn2YSGEXSxtX4rL2rgJj3efu538IgQbGSEM1HtWQO8oowo7pgBsQpQgBoPvj9F+BbNiQiJABfCUkC31P7f4T/APXBltAlIQrWAAAAAElFTkSuQmCC'/>"
      ],
      "text/plain": [
       "<IPython.core.display.HTML object>"
      ]
     },
     "metadata": {},
     "output_type": "display_data"
    }
   ],
   "source": [
    "img_show(img_map(lambda x: img_rando(x), np.tile(g, (10, 1, 1))))"
   ]
  },
  {
   "cell_type": "code",
   "execution_count": 8,
   "metadata": {
    "collapsed": false
   },
   "outputs": [
    {
     "name": "stderr",
     "output_type": "stream",
     "text": [
      "/Users/charolastra/miniconda3/lib/python3.5/site-packages/skimage/util/dtype.py:110: UserWarning: Possible precision loss when converting from float64 to uint16\n",
      "  \"%s to %s\" % (dtypeobj_in, dtypeobj))\n"
     ]
    },
    {
     "data": {
      "text/html": [
       "<img src='data:image/png;base64,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'/>"
      ],
      "text/plain": [
       "<IPython.core.display.HTML object>"
      ]
     },
     "metadata": {},
     "output_type": "display_data"
    },
    {
     "name": "stdout",
     "output_type": "stream",
     "text": [
      "6\n"
     ]
    },
    {
     "data": {
      "text/html": [
       "<img src='data:image/png;base64,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'/>"
      ],
      "text/plain": [
       "<IPython.core.display.HTML object>"
      ]
     },
     "metadata": {},
     "output_type": "display_data"
    },
    {
     "name": "stdout",
     "output_type": "stream",
     "text": [
      "4\n"
     ]
    },
    {
     "data": {
      "text/html": [
       "<img src='data:image/png;base64,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'/>"
      ],
      "text/plain": [
       "<IPython.core.display.HTML object>"
      ]
     },
     "metadata": {},
     "output_type": "display_data"
    },
    {
     "name": "stdout",
     "output_type": "stream",
     "text": [
      "2\n"
     ]
    },
    {
     "data": {
      "text/html": [
       "<img src='data:image/png;base64,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'/>"
      ],
      "text/plain": [
       "<IPython.core.display.HTML object>"
      ]
     },
     "metadata": {},
     "output_type": "display_data"
    },
    {
     "name": "stdout",
     "output_type": "stream",
     "text": [
      "7\n"
     ]
    },
    {
     "data": {
      "text/html": [
       "<img src='data:image/png;base64,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'/>"
      ],
      "text/plain": [
       "<IPython.core.display.HTML object>"
      ]
     },
     "metadata": {},
     "output_type": "display_data"
    },
    {
     "name": "stdout",
     "output_type": "stream",
     "text": [
      "5\n"
     ]
    },
    {
     "data": {
      "text/html": [
       "<img src='data:image/png;base64,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'/>"
      ],
      "text/plain": [
       "<IPython.core.display.HTML object>"
      ]
     },
     "metadata": {},
     "output_type": "display_data"
    },
    {
     "name": "stdout",
     "output_type": "stream",
     "text": [
      "7\n"
     ]
    },
    {
     "data": {
      "text/html": [
       "<img src='data:image/png;base64,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'/>"
      ],
      "text/plain": [
       "<IPython.core.display.HTML object>"
      ]
     },
     "metadata": {},
     "output_type": "display_data"
    },
    {
     "name": "stdout",
     "output_type": "stream",
     "text": [
      "1\n"
     ]
    },
    {
     "data": {
      "text/html": [
       "<img src='data:image/png;base64,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'/>"
      ],
      "text/plain": [
       "<IPython.core.display.HTML object>"
      ]
     },
     "metadata": {},
     "output_type": "display_data"
    },
    {
     "name": "stdout",
     "output_type": "stream",
     "text": [
      "6\n"
     ]
    },
    {
     "data": {
      "text/html": [
       "<img src='data:image/png;base64,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'/>"
      ],
      "text/plain": [
       "<IPython.core.display.HTML object>"
      ]
     },
     "metadata": {},
     "output_type": "display_data"
    },
    {
     "name": "stdout",
     "output_type": "stream",
     "text": [
      "8\n"
     ]
    },
    {
     "data": {
      "text/html": [
       "<img src='data:image/png;base64,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'/>"
      ],
      "text/plain": [
       "<IPython.core.display.HTML object>"
      ]
     },
     "metadata": {},
     "output_type": "display_data"
    },
    {
     "name": "stdout",
     "output_type": "stream",
     "text": [
      "8\n"
     ]
    },
    {
     "data": {
      "text/html": [
       "<img src='data:image/png;base64,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'/>"
      ],
      "text/plain": [
       "<IPython.core.display.HTML object>"
      ]
     },
     "metadata": {},
     "output_type": "display_data"
    },
    {
     "name": "stdout",
     "output_type": "stream",
     "text": [
      "4\n"
     ]
    },
    {
     "data": {
      "text/html": [
       "<img src='data:image/png;base64,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'/>"
      ],
      "text/plain": [
       "<IPython.core.display.HTML object>"
      ]
     },
     "metadata": {},
     "output_type": "display_data"
    },
    {
     "name": "stdout",
     "output_type": "stream",
     "text": [
      "0\n"
     ]
    },
    {
     "data": {
      "text/html": [
       "<img src='data:image/png;base64,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'/>"
      ],
      "text/plain": [
       "<IPython.core.display.HTML object>"
      ]
     },
     "metadata": {},
     "output_type": "display_data"
    },
    {
     "name": "stdout",
     "output_type": "stream",
     "text": [
      "4\n"
     ]
    },
    {
     "data": {
      "text/html": [
       "<img src='data:image/png;base64,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'/>"
      ],
      "text/plain": [
       "<IPython.core.display.HTML object>"
      ]
     },
     "metadata": {},
     "output_type": "display_data"
    },
    {
     "name": "stdout",
     "output_type": "stream",
     "text": [
      "0\n"
     ]
    },
    {
     "data": {
      "text/html": [
       "<img src='data:image/png;base64,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'/>"
      ],
      "text/plain": [
       "<IPython.core.display.HTML object>"
      ]
     },
     "metadata": {},
     "output_type": "display_data"
    },
    {
     "name": "stdout",
     "output_type": "stream",
     "text": [
      "4\n"
     ]
    },
    {
     "data": {
      "text/html": [
       "<img src='data:image/png;base64,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'/>"
      ],
      "text/plain": [
       "<IPython.core.display.HTML object>"
      ]
     },
     "metadata": {},
     "output_type": "display_data"
    },
    {
     "name": "stdout",
     "output_type": "stream",
     "text": [
      "0\n"
     ]
    },
    {
     "data": {
      "text/html": [
       "<img src='data:image/png;base64,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'/>"
      ],
      "text/plain": [
       "<IPython.core.display.HTML object>"
      ]
     },
     "metadata": {},
     "output_type": "display_data"
    },
    {
     "name": "stdout",
     "output_type": "stream",
     "text": [
      "2\n"
     ]
    },
    {
     "data": {
      "text/html": [
       "<img src='data:image/png;base64,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'/>"
      ],
      "text/plain": [
       "<IPython.core.display.HTML object>"
      ]
     },
     "metadata": {},
     "output_type": "display_data"
    },
    {
     "name": "stdout",
     "output_type": "stream",
     "text": [
      "2\n"
     ]
    },
    {
     "data": {
      "text/html": [
       "<img src='data:image/png;base64,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'/>"
      ],
      "text/plain": [
       "<IPython.core.display.HTML object>"
      ]
     },
     "metadata": {},
     "output_type": "display_data"
    },
    {
     "name": "stdout",
     "output_type": "stream",
     "text": [
      "2\n"
     ]
    },
    {
     "data": {
      "text/html": [
       "<img src='data:image/png;base64,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'/>"
      ],
      "text/plain": [
       "<IPython.core.display.HTML object>"
      ]
     },
     "metadata": {},
     "output_type": "display_data"
    },
    {
     "name": "stdout",
     "output_type": "stream",
     "text": [
      "4\n"
     ]
    }
   ],
   "source": [
    "grays = img_prepare_all(proc.X)\n",
    "Xb, yb = img_select(grays, proc.y, 20, img_rando)\n",
    "for (a, b) in zip(Xb, yb):\n",
    "    img_show(a)\n",
    "    print(b)"
   ]
  },
  {
   "cell_type": "code",
   "execution_count": null,
   "metadata": {
    "collapsed": true
   },
   "outputs": [],
   "source": []
  }
 ],
 "metadata": {
  "anaconda-cloud": {},
  "kernelspec": {
   "display_name": "Python [default]",
   "language": "python",
   "name": "python3"
  },
  "language_info": {
   "codemirror_mode": {
    "name": "ipython",
    "version": 3
   },
   "file_extension": ".py",
   "mimetype": "text/x-python",
   "name": "python",
   "nbconvert_exporter": "python",
   "pygments_lexer": "ipython3",
   "version": "3.5.2"
  }
 },
 "nbformat": 4,
 "nbformat_minor": 1
}
