{
 "cells": [
  {
   "cell_type": "code",
   "execution_count": 1,
   "metadata": {
    "collapsed": false
   },
   "outputs": [
    {
     "name": "stdout",
     "output_type": "stream",
     "text": [
      "ready\n"
     ]
    }
   ],
   "source": [
    "import sys\n",
    "for p in ['..']:\n",
    "  if p not in sys.path:\n",
    "    sys.path.insert(0, p)\n",
    "\n",
    "from collections import namedtuple\n",
    "import os\n",
    "import pickle\n",
    "import random\n",
    "import warnings\n",
    "\n",
    "import matplotlib.pyplot as plt\n",
    "import numpy as np\n",
    "import pandas as pd\n",
    "from IPython.core.display import HTML, display\n",
    "import skimage.color\n",
    "import skimage.transform\n",
    "\n",
    "from digits.data import Env, Loader\n",
    "from digits.explore import img_tag, img_show\n",
    "from digits.images import *\n",
    "\n",
    "%matplotlib inline\n",
    "\n",
    "env = Env('..')\n",
    "env.assert_ready()\n",
    "loader = Loader.from_env(env)\n",
    "loader.assert_ready()\n",
    "print(\"ready\")"
   ]
  },
  {
   "cell_type": "code",
   "execution_count": 2,
   "metadata": {
    "collapsed": false
   },
   "outputs": [],
   "source": [
    "orig, proc = loader.load_data('crop-test-small', 42)"
   ]
  },
  {
   "cell_type": "code",
   "execution_count": 3,
   "metadata": {
    "collapsed": false
   },
   "outputs": [
    {
     "data": {
      "text/plain": [
       "(100, 32, 32, 3)"
      ]
     },
     "execution_count": 3,
     "metadata": {},
     "output_type": "execute_result"
    }
   ],
   "source": [
    "proc.X.shape"
   ]
  },
  {
   "cell_type": "code",
   "execution_count": 4,
   "metadata": {
    "collapsed": false
   },
   "outputs": [
    {
     "data": {
      "text/html": [
       "<img src='data:image/png;base64,iVBORw0KGgoAAAANSUhEUgAAACAAAAAgCAIAAAD8GO2jAAAFiUlEQVR4nFVWwZIruQ0DQKntmezLH+4hp/x/VfaNWyKJHOSZTbrc1QeXBIkAAfJf//7TBtx0d5UbMNzea7sNAIBtgwZsAwBR3tm3hmKMMYYkhgB0tcu2TQK0PSJEAC13ETZgo9GV5Tb43rQN/w1mqGMEpQhFKMZQBACHXW53l7sBeohBmIJN0KYNNLz3rizw3OH/ANodk89rasQYGiPmnIpx/kbD9n3vdAIcgAADDQJUu93u8n3fmUnyfWrTAIjuaveF8fCw2w4yqAiJJAzQLu7ergYwaEcEGZ1ZVZm57nXf99q79m67u7uboEET3ZW1r5yaYGhes6q6u+ccChcqu7ruve57ZdZ4lwB8/w4JNgADbrt9eDif7i577/z66xVTrmZDIBqthtnZVXW/1tfXV2YOfGuDIEGKkkISSVEWAZskDZTbTQHd/Xq9ItXVaBCCaRlml6tqvdbr6/4bgABAggG23s+IAdl9VMezmoCrd63X19Jgl+kIjsHBoW+Azl25MjMH/F0cWpIUYo8Yz+tRVfgf7dvOqsUFITsz73AUu0af7hFECiyTIkUGOX7KDwPkG0Pj+Xx295sf0kC7994klaqqtW4xCAkSI3TNuAgIpDGgAUH6IfmUCJIiBIf4eFeNhwBnVUQAkLT3HppkCEFIjKkxNUjShCCIJs3hoxBSJCWySSoiIkgeAEkHQFJVujsUZBAieY5MiwyCcrONbnSj/PcNTNDnNNKp27tilGTCpHJLImWzqkUme1d3O12ZSSD33iv3zszMymESx5gOGwBA89gSgFPgAGD2fjMnAN1udu1U5L1qrhQHgb33uu/MqnKlh8EGYRAmoBAItVANgKKN06trrXXv0+d7725QjAhKJtsom3CjQcac87ooDQMNAJZNidKMAcOZsNvOzKrce6+1vr5ef/3+/fv379drHad+PB6fn5+PxzUiKImY1zVicETMWXu/OTDQBG2YBkk0Wd2dWZl7773utdZaa6+11yLx8fmp0OPxuJ6Px8fz+Xxcc5Lsns6CCKAixvHLwynemeK39t1Zudf9et17r73Wfd/3urOKGmMMxDtwIuI0/9mth6cvkn3lt4r84/xvU3O7qtba92vdr3vvc42NMhFjXh/Pp8XHdV1zjpNrodM0ADQ5gt1j8G0G5BHS2zk6s9autfZ9r71y78psN4NjDj8/Pn79+sXQjHHN63pc1zXHoIHOYwkF08a7RHyniul3luauvHN9rftrdVe3AcYYAV3i5z/++OOfv47hjog555xDAbt5rL1x2vCbZOMAwiRod2YeUvfOs0RnQYxxzY/nx2PMBkTGT5oZNoEGLDEUJMd3KP4Q8I7Io8u9du4mGSQJQaGYY44YBAm/NYKfRHHT5He6HIBjtu/XBujGztqr1u6slkSd7D7ZQds707CkiCAbwBiDJCnS3W13IIb7yNR9wvLbuV2d1dXVXRRNNtxuuRtYudZ/bgMkxxjXdc0xxwwSsKvKQJCmh3FAAbK6elee4mS3XfaqxM4IXjPmvKrr9Xq9djeSohRzXnvv6xqx4zTCmQLOZUeDIuPtkShUu6uq3IZBtJ17RYu8pHbnrmxUIxmMMc527TFqiDp13HvtvW0Pg4AMvb1UhIISAwpGcAxVE2TDWclj3SizUTJaKlYyASI4ABK99r7Xje4B0US9+1cGIcacMee4alZlldEnkpot0O1GN1tClTMpKS11g00Q7MaZp2qAPIMqjohFBmVe16SbNIV9BQx9uwDc5Sq3aZIa0pAiNEISzxZ7MULk+M78M22ZkhCEnx+PMTRmXI+ZuWD+ABDOylVpNMmIGHPOxxxz/vhRHlV2vxutz3REAmSIGkOMA5CX6/k9AIAM0ln52vv0J8UxZ1xzzDEUAklmleGu/i/EyrRCBj94qgAAAABJRU5ErkJggg=='/>"
      ],
      "text/plain": [
       "<IPython.core.display.HTML object>"
      ]
     },
     "metadata": {},
     "output_type": "display_data"
    }
   ],
   "source": [
    "img_show(proc.X[0])"
   ]
  },
  {
   "cell_type": "code",
   "execution_count": 5,
   "metadata": {
    "collapsed": false
   },
   "outputs": [],
   "source": [
    "g = skimage.color.rgb2gray(proc.X[2])"
   ]
  },
  {
   "cell_type": "code",
   "execution_count": 6,
   "metadata": {
    "collapsed": false,
    "scrolled": true
   },
   "outputs": [
    {
     "data": {
      "text/html": [
       "<img src='data:image/png;base64,iVBORw0KGgoAAAANSUhEUgAAACAAAAAgCAAAAABWESUoAAACOUlEQVR4nC2TS5IjQQxCQVJWVbv75nPbHtuVH6WYhYcVC+ItCOCf1fsMz/5+vVMAza/H9+MrJNCAoJmZcmVuAYB2WZvHNgAAEbRolXOMkSUYdmbS3GGk0RgSzdeevSfMAlm7k34wgoAhCjRnrTnlFqcn53rZcbkJMDIEmplyLos4H23byjnGPEoEwBAZMqoE83Ydpf7KlbsAmBHx4RA092itaTUrqQQzJxkAaXFetew8mvs2N5UE0j2IKIJqj31MNA/uTMENAD0iwNgE1H7s7BvQ0urJcCfN3B2MbRTOK44YM2vWHANHc6OZuwEBgPSmmmPNmbnWVjQjaUZQ8bEWzsrRx8oC3I0fgdFg9HBZZc7RV4kOWhhqO4AIgEZQgrmZUVIVBEkCGQRI1dqIi3GsnXOrMrMEmikMBHaOnnbGeeXurzvXWplVACwclHK97o52sHa+ucbKOXNXSQiSVet+vnuLOBzZ8qnKnbml/wHs/vp9zqud7bLCO1CqKkmAQtBe/fn7d+b1YGvZ3AAJAEggJOwc9/s98LOqau8tIwmCBBEF7b3mmrPNOUeu970AQcKnh/rw3FG5BjB+X2luJAFIDED0dj0ymf1513y+K9xobiipgiDivHJ15HDkvAeat4gId/5fIzNr3ol111pjtcvbeUY0dzLKjGzHo2pUrtx74/hux/fjcRBliOUwMY4v3XcfWWA7v87z++t0QlIMc6IAejRxF2CHG1XbKDNEsojPkz2wC6AJqFIVAPwDRcmksjQ5JNwAAAAASUVORK5CYII='/>"
      ],
      "text/plain": [
       "<IPython.core.display.HTML object>"
      ]
     },
     "metadata": {},
     "output_type": "display_data"
    }
   ],
   "source": [
    "img_show(g)"
   ]
  },
  {
   "cell_type": "code",
   "execution_count": 7,
   "metadata": {
    "collapsed": false
   },
   "outputs": [
    {
     "data": {
      "text/html": [
       "<img src='data:image/png;base64,iVBORw0KGgoAAAANSUhEUgAAACAAAAAgCAAAAABWESUoAAACL0lEQVR4nD2TUY4bSwwDSUk9MzZy8XfcLNb2dKsl5mOT918gCILF//IzK5j36/0pAaRdz+fzOSDQCAMIQhIEAADd3cMIAJDCzFzVmbsFAOqq6v5LAwF69Fpzzt0i0JXwcQwDCBAh0Kg971WkmfZOmUfQDEZjCGbUXnPDPAKr1qIfhwUNMARIM1RmhY/z5FTO+1g5XKCRATqc6gYtzodF3XeurL81GaDRCZAW4zicZ6C6WyDNiBBBH+dFjeMYYe4mSQLpZmQ0CL9+8W6P4VQL5M9gFg5EA/An49iiKXtm042k+/gfOCLCZ+5q1ZxlDDczd3cwQNADtbN3du3MMv8HGBBGmjuC2nPmzuq2CDMzM4KKIN1d7J1r3lkNurvRaCTBcNAMRDfUXS0ZaOFEtxEIglTvko9TYFepJQESQCAcQO05yw6OY9W6U1VVDcAMCIeU+/2ZGqMfe39Ya+/cuwWCCEKdn+/PimuEeh89770zq1oCEIT2/f31rmtc58C2+dVdtasECQip1vv797v7Upy+8zBIUkMChOje6369Xm2/mu5tAAmQIAkguirnnLPX2nsr12qSRpIkiGi1uiHVzkXO70/y3+VBIgBanOdM7PlePb/eZW78yScRtBjntaawb7Dm61aEu7tREhAGHFfmXazZynWnuY+IEWYAECTHce2F1lq9M/s8YpznGMONVJSDfjzKZq7arfbrOc7n8/rxl3E7GvSjpGoJflzP4/G4jvhx/g9usJYX0alOxAAAAABJRU5ErkJggg=='/>"
      ],
      "text/plain": [
       "<IPython.core.display.HTML object>"
      ]
     },
     "metadata": {},
     "output_type": "display_data"
    },
    {
     "data": {
      "text/html": [
       "<img src='data:image/png;base64,iVBORw0KGgoAAAANSUhEUgAAACAAAAAgCAAAAABWESUoAAACMklEQVR4nC2SQZZbOQwDAZDSd7tz9Dlt0rG/RJGchYM1HhZV4H84696oWO/XXQ2Aur6/v78GGhScTfOMve51ugnUqTYfQwQEeaEh9Vn3PpCsT0bTfFBGkN4AJVTsBTObjN7xsnlpSKC8QUqs2Cn59bDAfq+59rAGSW/QmOqqpvz68sj3O+JkNUDCAYguUm0+xnTtwcyqJiXRGwQ1ri+kzTncSgLQDUgSvQCA8xfmobujsgACgGRu9CQafMjmrlZF7Z00kyRzN3gRxJjT7V6Rp3Ovo+EmytxEJ0maI8euiJMnImTDJDNJcIMoE0yd+94RWQ03UZRI+GhSZlCfiLVWFmgyiQQAfIZEoJpkA0Q3KLGrADgJEJWnNB60dfJkV3U3AJAuAKyMOzA4Zpz9vk+ec7IaEt2A7nPu1116oM65LeOciFMFAE6w6tw/f299zSHkC/crzzmZ3d10EKj1+v1nD7v8YWV7oCszs7rR3kDG/fP793rMp8as42J/bAEN70bGfr9ed31HE+huEOAn8EJnxt57W0TsPvcdTfJfBx/dDQmdZ79X/Pm7QQAkGpATTRvXM4K5Xxvx83Mk+9BttBOEX49YN85yZrze5eZmbgIaDojjeuZ6J+Jdude2YWOOMdxIegpyH1+nVp2Tmaeup43n8xpuIj0ENn0++3XvOIn26znn8/kYQjd86agLoI3spgCbc17XdKEL9Ozm5+a0gSxAgySqki3BSfIfV0INQATR3d1dwP8xfo8VT9I2TgAAAABJRU5ErkJggg=='/>"
      ],
      "text/plain": [
       "<IPython.core.display.HTML object>"
      ]
     },
     "metadata": {},
     "output_type": "display_data"
    },
    {
     "data": {
      "text/html": [
       "<img src='data:image/png;base64,iVBORw0KGgoAAAANSUhEUgAAACAAAAAgCAAAAABWESUoAAACLklEQVR4nDXQS4LjRgwE0UwARao1Pvcc2NOSWMQnZ9H2OmL1+PvaSdR+va8WKGE9n7+epwNmJMOjp2vvu0cg1ZWCuckI0Bgw96772gljcJAJejjCARoCNMfkfbe5HyGv60Ich5uBBAP0MXQm3I+vAzH1uXdWB0CSAcMYpwXaOh+0fL+zqgWSJAIMBEnSItbiHIGZGZDuZggYPY7jNK613GHuHEmCuTsREhiPf+xGxLJRD2wA0NzDiRhA8eSxG2SrdsrhJM3cjYwWsI5Y153dpbyvdnMjaWZGhQTa4dTcmVWZWYwgQTMCDJA053JMXjuzRjQzkgAIhNPMjc6p3HvXyIxmRs0IQAToZiIEUAIhzUCSJBJhIKkZ2DrB6O5Sd1b1iDSEAVRXFuJrnVm9P7szs3oGAMIITN+f3Xae6q438s7cZ/VIYjgwnZ/Xp+JcTt1R76urMlsjIUih9/vPW4/lj8XEJ9QzMyMBCgJzf77/fWtO+Wl+LSckCQCAEKbyen2/xGeDBgjkTySJGHTn3vvSsbOy7/tuSP9BwGIwM90znfe+hP39aTOChCQoBgItVszkfu/Zfz7t7qT9HAHQ4nxkCXmRdb82lnu4uxvBIBXHIzuTtTF1X7cfvtYREW7GIEk9eqqa2V2Zc3yt4/nrsYwQQnBoHV+Du3pXa/z4Os/n87EMkiIdFONofa4RSLdjrQijpsYYlzk1AC1CnAEYAGbaDACibP5381ETP44SIEj8CxUtq6zqQkfgAAAAAElFTkSuQmCC'/>"
      ],
      "text/plain": [
       "<IPython.core.display.HTML object>"
      ]
     },
     "metadata": {},
     "output_type": "display_data"
    },
    {
     "data": {
      "text/html": [
       "<img src='data:image/png;base64,iVBORw0KGgoAAAANSUhEUgAAACAAAAAgCAAAAABWESUoAAACMklEQVR4nD2TS5JjRwwDAZL1kdTj0/rmnla/V1UkvNDYG6xygcgA+Lf1OYgYz+cMCnTb79/fv1dJWaUo5LbexhzNUCXzFlQdnEyoFIQqi9FHY9VOU7SnzsoqQFKQUBW898ja18I27/O+1kkIUJCqLJiHZe7rUsZ89B5OQCWESYmdIqA8exXGhpsbVFWlAJVlJ/PwnH1O+UmYGak6pxAAoFw/LXnWTpih0kiqTmYpDIJ0/1PTVcmw3pgqSar/AeI6ew53th5jWGaWPhUQDoG175OarUW03ltlCpAkIQhBlYc+2GYfrZmpSgIAClGQVJUn4dHnbE6lqkrmllBsoJRZKRIkKYBuNCOJQhwAKoBALlOFeTOP1sJJSCEAEqM15pV3C+/PGa33Fk5QURCAsDkb9oaZP9RGX2P8hBsZCYH0/no9dK9d8pc/Xx4RYSQYRYnRHl+/Zta9r2TNDTMzNwIIQaD159dfj3Wu2svGyQJJAACCBCzG4/X1XOvbSTNDAfgwCgNhHn2MYXP0zpgz/nNCKAygmzlp0fpItV+vpipAgFmFAQDqrLsxxquxvZ6emVmZEhCAqNzXO6LbeDTvj2nn7LMzTxWiAHHfP+GdiEdFH0332u+fe2cBAUBVd7h5OodHuK3rvd7fP1sggyZl5Vlv5hi9B3XWuu9rpeisaIYymfIsJ6FNaWXJzLxAxjBUCYbPrsoJ1EcCSTKCsBQgAJ8k/liWqioEVEkGCbRoH3Ofx1Zm/Qur46VVJhbjcgAAAABJRU5ErkJggg=='/>"
      ],
      "text/plain": [
       "<IPython.core.display.HTML object>"
      ]
     },
     "metadata": {},
     "output_type": "display_data"
    },
    {
     "data": {
      "text/html": [
       "<img src='data:image/png;base64,iVBORw0KGgoAAAANSUhEUgAAACAAAAAgCAAAAABWESUoAAACNElEQVR4nC2SUXIrRwwDAZIzWsk5eg6bPEfanR2SyIeNA6CArubfdV2LzPX5fEoAbRxfr9dhEMzAID2y9l53CgAgAWakQAiKFmh7n9e9WwS6FZnVFEAAIdFMe127acbuTPiYAYIgEAKNynuVuY8o7n3FfATcSKMCNDfUTnnMY7Tte8Wx0wyAgSEzBiXQfD6ncH3WvbMkwkiFANJjNOaYj6kcyOoWCCOIaBJ+fPVQjDm8aBAhkGZGIJpAfMnPMgt0VstoJN3dCIQkTtL8LvTWvjbczcw9hkEIwsy9MytTq/bamCPcPUaQUDgZbm7Ie2VV5raY4R7hTgARsBGgcq9r7WzIRri7uRsFBGkGqKtr36tEiwg3cydAIIxEdxZ9jO1oSfQIQ4MAECF07/PGhMfa+/6lJACEEKaufZ6Xwufj3p//LnVViaABVFB9n9/nPZ7TO1fUvbOyWiAJKND7/P733a9HPFwXzu/uyurGT6Ly/vz55w28MA74GpBa3YIESlF5n5/3m48td7pBBPCjmyBFV+5739xVVdj3Fo2k/SyAQgBopCpX9/v7LNLMzM1+b7qP41iNXLT8/Ln0UwDCACAs5rGOT2qft/L8L93iVwVQUDjH47keRF6ofV0YPsYYTkmAOgT642tfme+u2jUfPh6PMcIJSIqLTZ9/2bkypfbnK+bzdczhRoIWNwDBYrTUsvF8zeN5HPFLgyFAkuAD3sCYEWOEERKERgyVJEGgEQwjIXWXmoT6f1KJllsh0z1uAAAAAElFTkSuQmCC'/>"
      ],
      "text/plain": [
       "<IPython.core.display.HTML object>"
      ]
     },
     "metadata": {},
     "output_type": "display_data"
    },
    {
     "data": {
      "text/html": [
       "<img src='data:image/png;base64,iVBORw0KGgoAAAANSUhEUgAAACAAAAAgCAAAAABWESUoAAACMUlEQVR4nC2TQY7kSAwDSUmZaVf1zmvn6dtdtlMS99B7DxABAsG/cR4zK473++UEpLp+vr+vAtAtBCCJ5m4GQKAPqru31FIr1JlmY63pRjXMplNdzAIkhbq2zZhrDXTvdszpqKe6AUhhVJcYc0ZXXtsyzqPuayd/Fwh0FWwMdj3XhYx5zBlOoAUEoc5qkFTncwvri+5hVHc1glLpyZbUmZnaO+VuBnVlI0B1+74vYD+7BKpbJNGV1QpCYF3/4rLKhNtwJRuAqksKAwncvY9BIiKOZYmWJJWEMAjUfT33uWaEj7WiuwRIkBCOFpUpjjXWmmO6oRoASQohCN1de7TFOo4RVEPdoBmgKKhV3VU0c3cHSDeamQGtSEEqSUDvhyh4mMWYw80gRQmUYGHKq+/pNs4j5nrGcCMVDUhwmyu0k+a2yud81rrCjIwWAFic79P3zoYdON4WMcKNZBQgmq/X14ufve/Ea/xTbmZuJBACBIzj/ectPJ/ngT3ZRpIkgBAB+Di//rylyykAquD/hMIA0mMex8l9zNFca1AgSSMRBsDMIzxsrnWGv18TrV93szAApFR7z5inFOfXVGZ3dwsKAkDn/Qk3zpMc52t05s7MqlYIAGpfPxZTcZiPtey59vW5drYYAiDd7vAIjRERgef7+Xz/3A0yZJC6922mY8QYDtVz3/dToLPDnKpi576sTxgSqmzRzFxAzKC6aZSqNvVbuP2eQDKmE90AAOgXBQlAkLr7P5spon1StLfyAAAAAElFTkSuQmCC'/>"
      ],
      "text/plain": [
       "<IPython.core.display.HTML object>"
      ]
     },
     "metadata": {},
     "output_type": "display_data"
    },
    {
     "data": {
      "text/html": [
       "<img src='data:image/png;base64,iVBORw0KGgoAAAANSUhEUgAAACAAAAAgCAAAAABWESUoAAACLUlEQVR4nDWS25YjOwhDJYztymX6b+fPTydVNqDzkMz7hgVb4t9+TBf7cb9PI6Ra5+/rdRUpCfDKcHMfczRCINnDzUgCAOBGpdu4fQG4p2LvSOGzAVDJ+jycpazGPlSxcmcBKjilEn0My4oVVt2PWucuCSrBoWShuSNivRbT+5hjXEFJKjgUSpFC5bou8Hi6uxkBSJCzVBmxqb3XWlxRzWiElCXBTWKc/2Fi7x1lKhgBqbK+ABgv5mxViebdqBJQmREA3EStVXHvDhv028DOqqqMyH8eIslm3Y3Wx8RakZUZUQK8pMyMlPXZ3b017O+KKgAe0s5Kmfc5pzdCEVlVJQmUJ6pKYGvNx3CDojKzJAAQXJBorSH39gZrIFElfOP0BOhtdsZZe3UfnWbfuCXQkzQft1urc13vPh6P0dxbM6A+X7C1cX8cXCthflOf7r03s29hROv3n+eRutauttr9j1lz/3aKbs2Px8/PXPudZxD3BM3MjAA/QD/uz+dxvhtyW5SgT9AACHhrPo55HBrdrLXeG1WSSh8TTpJGWms+Du+Px6QgCPoQDlXu6xqyPon+5zlU/8Yl0FWxzjFntfG4WX88LDIq8+uSntrXu8/DbAjebwM7d0REASDoSuz17j7Um7kPX1fu69o7sgTQvah9/fI23JuZ1fkb6/U6d5YglB+CoXI1a6Sh1vla5/u8QviY7AJIKINqpPbKzMwiDQXRBRAkUBUi8DnOzBrTAP4P+hG23g/X2K4AAAAASUVORK5CYII='/>"
      ],
      "text/plain": [
       "<IPython.core.display.HTML object>"
      ]
     },
     "metadata": {},
     "output_type": "display_data"
    },
    {
     "data": {
      "text/html": [
       "<img src='data:image/png;base64,iVBORw0KGgoAAAANSUhEUgAAACAAAAAgCAAAAABWESUoAAACLElEQVR4nC1TyW4rSQwjJVW3nXz4+9/J4lokcQ4OrwS4ACT/zbndzvz9eZVA2nh+fn7clGgAEIAEmhEAIKirqtoEyAAEzUyZmS2A6Eq4hzvfUJiPzlxzp0SDMgt0u8wBGhgw96o9V8JtMHsv2Rg2hLcCYE7lXnIfj0jmfI37DncAJEI0N9VJhl/Pq3nWXidbgBmAAB3HJIA+7lv1a1lZ72bvDLDhZs4YI0JjWFdLMHcnGCIZ97MGrmsYBDMCglmEkwi1yZ8dSxamPLssjADfCogyiU8f65R695kbVxhpZm4AokTEfY/f19xZudfRGEbAjCAQAOGBPqv3Wmdny5wgQRBAkDQzhinPnCsbFjSnOs0AxiDNzQyt7m4A6oakFkggAjBCAuMWvTqrKzNLAg0IAkTrFAfiPpXzdXLvfaolAGEElDlX2ePRXfu79znrPlmSiHBCnfP7d8c9nFq+fzLznOyWgDCwtV9fP+cRj8fF1V++u/tNCwFSOX/++8q6P+I2XuGEJAAAEYIq18/398FHCvhrB0h/gxE691pzx1zbOV+rIEiSBDAaqu4GOvee3a/vKTcSfz7R+NvS0Xm55fxaiDBzM0BEELK4nycPzzSd9bvNx4gIDzMyCHI8TuVKbdTZq+7nuJ/3Fcb39WisR3UtnXOqitfn9fz8uBxqUxSc5uMhzblWFs3vx3Xfw9ClVmy4oWl+dYvVgAWJ7i6iDbFoBgggfTAbIAV1tyQK/wPZNq6RbP3MbgAAAABJRU5ErkJggg=='/>"
      ],
      "text/plain": [
       "<IPython.core.display.HTML object>"
      ]
     },
     "metadata": {},
     "output_type": "display_data"
    },
    {
     "data": {
      "text/html": [
       "<img src='data:image/png;base64,iVBORw0KGgoAAAANSUhEUgAAACAAAAAgCAAAAABWESUoAAACLklEQVR4nD2TS44DRwxDqV91dU+MXDYnDzK2u0oSs7ATrilQwCPlLxvnkNRx/VxDBGCv1+/vc1HAJhwAhPhfZFVWVUMACJzNbjFzNwUAgZmpqHwPnKxtEeM4QkUIsdDaYxcBgnQVsFzHnKHsptkwdiWrm2y6CLupfhzWXasNI6T2nSTApgvAongEKvdrW8fPzDu8CiDpwiaKakrWei3FPGeEmwhJ0AE2i0B35lq3+qKZqoBsEi5oMtf9Sq61s1jZIqJAdxXhSgL5+rsGMneLqYAg0Z35MQDIf3pPA+EehyGLZFdmgW5NwZ2VeQyz0JgH987urqomnACZuWwcHmEeHli7u7urG/ACWd1Z1JjHcFeR/GSQBDxBZpXCwo95hAi7u6q/hD0/2CEKNgBARMgmRL80QYqHcb/RGRoOVVEVAUh4gyJux7S6a7095jnMw02/jSpANI7rHL1uMR9/aFjEx/GNMD2ux2X3807q7PFjZuGmIgI6AInz8ecleve9sezRoqpmIiKAC9TH9fjzAp+SNyWbhPxXSXER9XGc1w/XMIGIKkjwI8BV1CzCgxExWq5zKMDPAki4QgB0laqPM+x6TO0mSQgAOsHO9X5GyDiVdj4OZnV3EyIUJzr3e8QUxHT1eVr1zsxqAgIHm+vtPpU62+IYWJlr7b2zSbgVu/J+eoZNMzVbr3u/f18rmyR8ZEE671+e8wgT1nq91vP13g0RoQ9rQABWLpRB+v5+8MH9Lyucv+T/OBwLAAAAAElFTkSuQmCC'/>"
      ],
      "text/plain": [
       "<IPython.core.display.HTML object>"
      ]
     },
     "metadata": {},
     "output_type": "display_data"
    },
    {
     "data": {
      "text/html": [
       "<img src='data:image/png;base64,iVBORw0KGgoAAAANSUhEUgAAACAAAAAgCAAAAABWESUoAAACMUlEQVR4nC2Ty7IkOwgDJcCuqj6fPj9748x0PWyD7qKbdYaCQAn/5H0Pej3v9zkFQGivn9dPJ+nmDIIAIEkCALpvx370JgAoBs3cNNdcKQAAzCPCCQGCQjL3MZ7nniVCSmZ+wwAhSqBp3vdYMLLWmmxjS36REGDUGveCWVhi1BVtC5mRBAI0p3LMDI+t1TnuJ/reSJAkAnQ6Kwvm/diKczwxZpYAGhEizY2kedv2Tbq4VlYJ/CQUAWvby9B6703hWJJAwoxUFAE/lm3l3pwpiCBAczOCURR70NsSLWuNJXcjzSOMQgC0ZgCfkbU074EId/eIRgphpLtFWM2ZlWsO23q4e4QboAiyOR01n2eszEq29olwAgiHuQE157ifkQIt3N3cjRQYBInKFIjKksw8ws347cJBrfUs9gJ9rQXJzCh9RAmXaj7Xo2bRn/lcU1WfukFAYVXreV+PbX1fY7y1MtcqAXQACiLv9++59t4a8rFxjvUhPjJGref8/e+UDutd9/pHKDOzJBFQrDXOf3/fjIm2Qc0g4buDAEWucV/XZWMVAFWKBhLkF1BVpQqZa1DXNdJonwEABMxi6wHkvOZ6/14FkvY1Egyv1vf9Ks1zMt9/B83dzfA5scLRj7H3qfmMXNdZ4eEexs8bKuge++t+uE7lfKY17623cEpCVSzA+2tdY42sSvTd27H3Hm6EgLhYoG1Va80i2vHTtuM4WhgJmEUCKsGiM0ro+96P19adkADhfx9GioMLuWODAAAAAElFTkSuQmCC'/>"
      ],
      "text/plain": [
       "<IPython.core.display.HTML object>"
      ]
     },
     "metadata": {},
     "output_type": "display_data"
    }
   ],
   "source": [
    "img_show(img_map(lambda x: img_rando(x), np.tile(g, (10, 1, 1))))"
   ]
  },
  {
   "cell_type": "code",
   "execution_count": 8,
   "metadata": {
    "collapsed": false
   },
   "outputs": [
    {
     "data": {
      "text/html": [
       "<img src='data:image/png;base64,iVBORw0KGgoAAAANSUhEUgAAACAAAAAgCAAAAABWESUoAAACeUlEQVR4nEWTO2+cVRCGn7mc78Lu541tFGwEiEsBJEUkqEyR8EOpEH8EBEJCSUFBGnCaJHKqkHi9u9/tnKFYL5l2pHfe550Z+THneZz79W4c+h5JQs4UkMXDOwLXnvkJ6TyVadfP+IeDBgFQ/vxewfyHCGx9zG29XrK8qRmgTCCYHjqfprZxb5Yfp9pyFhEKAuqcqv37Ted0oztftyxeGIASgaL+AXKz6uqWe/M8X76ZPnrZAKu3KE8uBHNjbK1uK6pSLk9Su2o2u81cHNNvRVAPd/jrOzeQB6IEXCF6vLGkgLpqPRLuKhgAMQpRRSUKosX3DGqKCCgZLMtUHEJVKs0ROc/scSOb8cLTyckd4LGIhFNkLxIFGkFAbD9sAlStiHt6LHJIrADu6TRiCkRcpJgquG9hckooOBDkbKCmql5X4rJcmipciYi7VxHxm4h4FZzJtgGgJSjcKgBFBD8XoPHLLx1ArOwXgd3aUbU5F2fazgGAAIiIABERHnbENETeULkJUAq8OuNwByoCkqzdXj99NpVS9jpVpSklexLhCjDF7p+u4dU5BM5ZAymBRMEHgv5XVjX+eb3pyiEv+eIZei/jv1CXgL7mft0smOcSXH1igKH9/8R89qZpGwclMsy3PJOgwH2Rr7qjbu+75Gk4GuZ5Hrp0Os6zP9DWL3reLhomo/T93et+C7Bd/+0nF3hjtUN+L+lAT+lvrtdPMSfySP06cN11Qh9yXI2MzLvf+91EkyFntvz8yFkBq130rP+YSIzDANW4PxlycUatmJ4jOvQcPi32EALhL/HKB96VWmaoFFO8W4YDLWlbUkNgFXkYRnzRJvLE++f8B085FJjXfSZ0AAAAAElFTkSuQmCC'/>"
      ],
      "text/plain": [
       "<IPython.core.display.HTML object>"
      ]
     },
     "metadata": {},
     "output_type": "display_data"
    },
    {
     "name": "stdout",
     "output_type": "stream",
     "text": [
      "7\n"
     ]
    },
    {
     "data": {
      "text/html": [
       "<img src='data:image/png;base64,iVBORw0KGgoAAAANSUhEUgAAACAAAAAgCAAAAABWESUoAAACMUlEQVR4nD2TzYskRRDFfy8yqqanZ9sVXBBZVvGygoIogv//P7AL4geIF0HRywqyztRUV2ZEeKjuyUNe8uWLzPehb8gCRHCwZhJUjuggAXIuK2D1yUioyqSoBoZnAqIscdcOrqoCQg5eBUKYyxsUeeXEih0gNWm6eQ0Z0ftfWTtAAA6gj+7bF0dBRvh0fPZ3oNrPcQE2ffLfcSbTkNnLzUeVLhSGy/j3dPd+awbIpmmevMlbg0wcmeDDz245P1CFL8vDNIpSAaQLQ5yewfz2Hvvy0L/6OfoGtT/VEGrT1FrjftvWX55/Pn39LdT1r06azL1B9Q7TNEFQgAwxXGBm7sAIwAxMqDAANwDphyvj92ZmMkntMmIXJAJyArvcaKSiLkpW5eiPMA5w+PVjYPdv371Q5Tg/wnoHp+8o8k1S0WxnKK/Ksd47y8E4zcDoIzJ0YQCo7D/d3jQ7ttctofce4Y/JjHAElb14TtehAbH1AAq23U0rarCs6/zqyNZYl7hkYZcazCzGqfeAXmN9+HEgM5cEk0fI5hX+uT3CIFmXc0CrQyRs7rDPAl7mgFiW8xgOSKUDT7G39spqJOfl/TZyMymgGn7T7Ay6OX5qhOX5t2UdBdoNj+bEdLe9OMyzk2Ssy9oTEY1WiHJDMR/m2Qgr1vtzT9BTXsqZZTIg2sb4/bFfk0alXXsBFZB/xOg994DURUy8Uql3L6qTH/yZIzFNg73yQUuHbvCOHHEhb7Snfgb/A2v3MJiW599aAAAAAElFTkSuQmCC'/>"
      ],
      "text/plain": [
       "<IPython.core.display.HTML object>"
      ]
     },
     "metadata": {},
     "output_type": "display_data"
    },
    {
     "name": "stdout",
     "output_type": "stream",
     "text": [
      "9\n"
     ]
    },
    {
     "data": {
      "text/html": [
       "<img src='data:image/png;base64,iVBORw0KGgoAAAANSUhEUgAAACAAAAAgCAAAAABWESUoAAACcUlEQVR4nEWTzYodVRSFv73PrrpVV/snnUQR8QGcO3PgTEQFFREEnfpIzpyFQPAHwYA4yEDwDZwEH0BoQmy6O923blWds5eDG3SN1nAtvrXsScIMQzH10CgNshFQzQwcoBM2N1arKihrlQChTIVsAtgfF0chkPsCACZc8dIfOwASjg0Lwl2FJASdlQZALo1iZj46ezOEEVDS6JFynedKKd2mOLh6AEL4iJTG5YMloQyn75+N4IYAAl5BWmvdP7zBitV5/e21DzpKAikiCtBuf392Uw8xuYWJsoOhFhSZG9SWZxP/6dYn74AVYUHb95l/ALaJ/hN+3kGtZL8ArRCV0uDdxxZfHMeG5bOfEhKzAVbVEkmh0Z/N3BtKR0cBagLQLTQH8G48ff3zoXTQgaQnZJsxKxBDAWzzHkHrQTqUIVlss2GJdIFRzBvA9LDh2w+dNHqgDzAJUx1jzlwvXgCfbgebe2NlQxRhlqJ0xFwvHiU+nhwFQzWPmi0cIZclwOX3E9bf3QZgjpVsARhyLNH1DzdQPn4jjGrOah1rGCY7QLj8cYdxcvfoAHrPCPtAZgC+To8njDtvnQVQcg+Cm8BABuiXa/X99usTSJQ7g8ZfhAxPVJiuJmL71UmhZmvP7zVAzwm5DGuF3QT6CIDdnsv7g5PL3wRgkap6NOOgKi6udn7+doCt/xAgsLVfrnfEO+e0B1d7htPjiKVouSLSU7Cdl92q5ZxfWy74Mr3q9KnvZiIlyMxaU/z51A8H4kuAFzeNINuuJ6WXkwXoju47yfwtEGpiiQQrDYfC+M3YbwaA23XIMCgk6E2nlPHO2Tj+v2/2/AsJyU0XisJDygAAAABJRU5ErkJggg=='/>"
      ],
      "text/plain": [
       "<IPython.core.display.HTML object>"
      ]
     },
     "metadata": {},
     "output_type": "display_data"
    },
    {
     "name": "stdout",
     "output_type": "stream",
     "text": [
      "2\n"
     ]
    },
    {
     "data": {
      "text/html": [
       "<img src='data:image/png;base64,iVBORw0KGgoAAAANSUhEUgAAACAAAAAgCAAAAABWESUoAAACgUlEQVR4nD2TzY4cVQyFP/u6aqqmuyfTCR0RlIgFQkIKPAAgImWdJe/HAwQWIBEJsuBHkCdgwyKIFVIGkiHTM931c++1WfQQ7ywfW/LRd+RiqAGaTmB/9ucfZ3v05r27dzbL5ObzX5dGf8Wb+uXCa3D54i6gCvyGioiIcFxKGR5PB11+8u0UAPn1a+WgCcgTJG0+Nnz3TwbwvNsZaIqKQ/lBFzP9vdWP7pcugI8jJkgIVCjtybZ9cEpjM1SAvNtigiBWgmBFYr2iWV5CqQLj4z0KCIUcsF5tNquUukXXdV+XUoavZjAAFLz29/Pv7wmgLdgUXG0xDAixKp2g+kGBckED7TwzTJ7MICKkV4IUtVR/+u+MNA8LTNOwCgsiCLm2su5+flWRtDKHeRjHUwvCr6dl3m9/fTWhzWebYzzmMU+dAQRbTZo877fnI8Ly9tqYp+8i89LisO1YQPnpCvno7RfrHigAWJUmNyO4IMSVk95av98bkFYTA0aEpuP94c5cwE4XhybdgiPMQEARiPJNhhYYe6Gy4dP8zEBEsMC8MozQ+k7AyP5hhL97sJou91R49AWk85uM6ehIU6fCJxYgIKpIyJcj8PQU0u2HN5q2Fc51mqZxGKYjEPgc4J1hnqe/Z2nbxuxE/VADEHy/MkvPAXgmSQAzCIQoTgR3eIktAPoHCs41DyERF4uI5tF+fEJjSfTWstUY2wg5IyTBzELCS84BNdN2XS9MHhgInghCJKUmUGKutK2AR6iBiALslwiKJEXyAZDwhDkghiBD/38CRYIqOrjXa2jxtoDXJgciUZwqohIpY3ActSIN1ckRgMfh9wMPx2+irQESIClNqIqSQuQ/NrxKaNR7RwIAAAAASUVORK5CYII='/>"
      ],
      "text/plain": [
       "<IPython.core.display.HTML object>"
      ]
     },
     "metadata": {},
     "output_type": "display_data"
    },
    {
     "name": "stdout",
     "output_type": "stream",
     "text": [
      "2\n"
     ]
    },
    {
     "data": {
      "text/html": [
       "<img src='data:image/png;base64,iVBORw0KGgoAAAANSUhEUgAAACAAAAAgCAAAAABWESUoAAACG0lEQVR4nF2SPY+cRRCEn+7pffeLWxwYIzmwCCDACREk/HT+AIk/AoSEsSVjEAkWcOZu99756CLY3VvERKOpUtV0V9krUpJAWHFfO5CDgIPE6PERkj7w39PzdCkUAjP0IJHQ7H4EBgAGhBuAuZlZ2fgSQTF34w4Axb2wga+EQLYwpBGAhwwxAAGYEigAU5OQIo/vJxH9vRLsH0FrXVLKfr14GND2bx//uVmw/7S2zNQv/yOM+kNj+8R5d31bsw8+j9M4iDuxrHe3gjG4+r1mH2o/BiADTJLXrAdghp8HgDohO1sIKV9U+FK86ZgFCSHkAzv6oNohoAp/suWflwQiAdJM/bi2gDaw7cRVEsclCJgQFOEGHVg6E8QRPH+kLGE6EhYTkLj7GRwD+GqangKZ+RQgM8AsSZyiZH5+IoMSDhlxDkEI2vfzfTDvMb7DQxgIlKOM3gEm2lR59xt69Jf80rRAvUusp2n77WQAc0TYsQjgiDFgEQHrr68z2/7Q0s9VARjPxhj3hbXF5rZOcUJNZK9NQAPaH+sT79LJ7G0GsAbst3fQ58AuBJE/eVCWFdqrQ6ssVp9wHR1Q0MIHZQnrtfd8PY8GQytuwkZJunAYuw/Oerv3q7PqjvchlwkTlOmzYVN4MH8MVDbfoF3kuZJgB+3CF3DzxUEU94Iexg2Y+TrnKfcTNXouKftIL+aG7U5TzIVk0+Q4tXMJYPUvE+YtrAx5oGkAAAAASUVORK5CYII='/>"
      ],
      "text/plain": [
       "<IPython.core.display.HTML object>"
      ]
     },
     "metadata": {},
     "output_type": "display_data"
    },
    {
     "name": "stdout",
     "output_type": "stream",
     "text": [
      "1\n"
     ]
    },
    {
     "data": {
      "text/html": [
       "<img src='data:image/png;base64,iVBORw0KGgoAAAANSUhEUgAAACAAAAAgCAAAAABWESUoAAACZElEQVR4nDWTS48cVQyFPz+qqh/zyAwSI1Ci/AcksggBoUQRAhb5jaxZABJseCiaDVLyJ9ghISUTTWequ7ruvTaL7my8sGyfY59j+XIGgGySmgIhQRJ4Ckp6JiCZSZLHWiEwRAHRYxI5hiT0mGoAHlaVPT0dkBDhlYA8tKRniV5SOPmCgjnvr0tiEKlJCF7CR+zpBVmABYvzd0eEkFRSh6W2xgXAS0C6776HRlOUVmtzweEboP7Eb6vTi8d8RGaEHel76VjCNJ79DrAD0BpBpqoIqTUC0DOAK4Naq2WmH5YAJ6PasFzx6b9sVb6qQCTStAmAr28L2GrJ87uXM50F9XCy+DAhIHHDTr7FmMd6XYLVEQDUAP4A0K4fhmH9egKmJqLql2beHsJbfnmxoDmgPSj099zfiE0dfgIMxuv7Dx1A/IpPbrZzilwdSE4rMP186c2JEPEnm+txbtEdObi+DbqTJfWHyv2vfRDOh7HN3Hp/WrFZ7yKiPIbcbLf//frzHniqJSI4VVAUjagmAjy4KuXHKYJn+1JIGAZSkYNRVJUdcDvPBaCcxQSEi/sIAwwEi0m2KgfJgImCux4msI6ddvfGnGEPYHRgsxsErcHlDca4opK7An60sHy2rjv6F0qJ+RWrR7Sc/9yBf9wZxOh5tzS4uQS6JxjA30WAuj/nrisKvhZ99dd8lJfcbBoLMwUYkUe9AlWGYTAQyvZdqyxsGAZn46P3AJlSaCpk1BlYEO/HBx1oeG5BdF2hYRm1pCI6YRhc/IMenlv7PunoAEzNWOMfLIeIJYSA05slUeua01Y6St/9D5g4KG8NOXsHAAAAAElFTkSuQmCC'/>"
      ],
      "text/plain": [
       "<IPython.core.display.HTML object>"
      ]
     },
     "metadata": {},
     "output_type": "display_data"
    },
    {
     "name": "stdout",
     "output_type": "stream",
     "text": [
      "8\n"
     ]
    },
    {
     "data": {
      "text/html": [
       "<img src='data:image/png;base64,iVBORw0KGgoAAAANSUhEUgAAACAAAAAgCAAAAABWESUoAAACd0lEQVR4nGWRPYudZRCGr5ln3o8957hnP4whLGywsBH0B6gBOythUwk2/gVTmMJ/oFiFxU6w08bCMpHYhfgHBKuIxWKx5svdvOe87/M8MxbnKKJ3NcPcM1zcIw+likhEJKomFFwAD6+Xt2BuQoQEiAceEiSgEiIQgFWELmA0CqCEABJs5hiwgwelx2lxAFIkXDcXZqwByriQFnC/e3EzqYB6qYXOoA/G76/cCJAYHwzkbzlZKJDHvBz1klIu7vz2ixBEvveC11mtvpkigpjK4+fWjHFx9oxnClHWK27MT/64Cw5BhWrDcH52BCAE+RHvwWGHOPinAZ3N58trTxoQhVIvAOhRqpKBmUIzXzbNxwJEOT//JOJX9lQhSkrHC4uw6CABuUIdPuDWm8dIG7UaPYphljO1VqXfA7jzBQECIqACAO5A3105ACiPKyAppZwN18A2Lu5ff6fl8pTPP2s2kZ+ZggCkhFK9OTg6un57d69ERLC6jKpdJ4q7pSS+nsrLu7u7rxyk04iIYZqaZFMLbHgYCzNDWQIQA/w5N1at026fvwJFZws+BKjQTEbvRCHvAM0T1i1819MLAeyP1RogP+WcBZ7gq6svtbTvC0gy0mxQfvcfv4TT+znTfHR4COzv72zTERFb8TOvvfX1tXdJsLz5gyBvzylohKAk+Ynq0KKC42QimYKHTyccsjYhSRgiZKehy/ytPMNo7J+exrdFVQJ/8bSnwQ0CShLfcE1ATEy1Pn/UecZsgKDGGk12GzFKZPomJXw2wrG8EbUg7Q7rgGZr6MwUMlcT/2L4n/YVsFdFQRjKEjThxJY1EgAm/1nzAEKoUQWUvwAOoSohlYd1bgAAAABJRU5ErkJggg=='/>"
      ],
      "text/plain": [
       "<IPython.core.display.HTML object>"
      ]
     },
     "metadata": {},
     "output_type": "display_data"
    },
    {
     "name": "stdout",
     "output_type": "stream",
     "text": [
      "8\n"
     ]
    },
    {
     "data": {
      "text/html": [
       "<img src='data:image/png;base64,iVBORw0KGgoAAAANSUhEUgAAACAAAAAgCAAAAABWESUoAAACw0lEQVR4nCXSv4okVRTA4d8591ZVd3X3dDvubmYkqCiyggaKoCsImwgGgpGv49sYicuCGjhGJrsKi4GBJgrizGzPTPd0Vdf9c47BPsGXfPKlWnYEB9rZosd3l7v94O4ivkGigtGCF+CV5UnHLwCuVhHBFKgVqBBf2+/ny+XHn3RRKYADerRaq7mb6Bvt8tW5ane66tTcq+GO1nJrVi25SavtPwDt6qPgNeNrcK0FsGpGVJrNUB0erCPuvrgFNHurirt7EPn3t9tDRbr1Zwro0t2iObECyDtwc/XD7N4DpV+1GYKCRcaZRVxhDldD3YPQLvtcGTZQVTUjTqMhxjiM43jxTQixX/UhbABTERFVNGjbtl+kUsYD0J0s+j4GAY1xvRBFkKZpWqCMpRQe9otWRJG4EWrOWBMCtDHBNHWYNhJNRCUGPOS0iElQ2i5BTQGC4gAoiKR0laZkTdPMm6ZhMjM+MHfwUR1IpWynVFX1q061+S7n7GdmCmbRAu7gnosI3WqP1BTIVi3gFU3uLzAMke6k71pKzvnD6lMt1yjjuFuEEJFvi6qevtQ0qynnYwav21IiEFoFYJjB3bdunq2mwpRDjbVU4ut/cn/V8/Mt7Y+fK2+P8R6ePGdx8erI19AvNowXT2tYPARLw2GyOu6epNycO3pyOMR1jKu7UHdHM5iNkTwccsUwiVqG3fm7gZXeZranLZDb/Md+VY7zWjLK7r8750DzaTZ7tD0cbXo5jYfD4ZguL3Ktunt+eXb+GAiM4/j4ahyn3f739fhXyiUbxN3lHuMIBMjXj9bv8etx3J40f5fqiMbDPnOtzxcM73+fM/t6puRjlmwGQDwADFsYUs2VOtCJw80cENx0EpGGn7bb8Qnu7gagoYlNIwpE+raG4g73z14MEWmBoYVKJUbJWhAD3nw2q/3JnSXTMB6HYUjuif8BOJWqHGi030sAAAAASUVORK5CYII='/>"
      ],
      "text/plain": [
       "<IPython.core.display.HTML object>"
      ]
     },
     "metadata": {},
     "output_type": "display_data"
    },
    {
     "name": "stdout",
     "output_type": "stream",
     "text": [
      "0\n"
     ]
    },
    {
     "data": {
      "text/html": [
       "<img src='data:image/png;base64,iVBORw0KGgoAAAANSUhEUgAAACAAAAAgCAAAAABWESUoAAACZElEQVR4nDWTvW4lRRCFv6quuXN/fO2LvSu8ggBpYQMkh0gIkZHtvhivQMgbECMRrhBCBAgQgmwlNoCVLd8fz/jOdPchGLuTDqrOOaWvu+xrNFMDFBBkYBRgLdQbWWQMAcgwgQyBaA2omANSBdUiMZqhSTCdGkCdOlCRsk8GAGxN5mFWJGmUijCVIp/KZhuQyw1KLQ+WCUq1qW7hECeYG+qmQWUml8zqEHPwSmBuYMuucgLdICTki8FLK3OCOkXO7wH4oz+KWF6tNmmb6pN/cawKpCJgvMtMUUQ6b/vuSQTshOGORn4aKsBm/9vnC2C1fEs8Qqme8nFLfLph+6eOv3yxIMP7/wWs2UU1p/L6DjYzzu4B9dx0l98RKDi9M8kmpxYaJpbd2bv+IaIIaImGmEOfgDl8uHsNYZANxAIuYLOAIcFqjoYfBgisuqhp7FdsPvLbB+KvnELHM8LIuDSQ4XJcVOB7eNlA/hamCCaWlZ79ByMAa2DY85xjgCeaxYHoMLif052DwfgNUAhkCXNXAdC7C24a+8pq2RFcr1MYJLw3RLoY8vArtJ+h2zlPbzn/8udoEJzVay6CnDLCPqawHv95lZbUl/HwFOfTNfw1Ni8KP56+9/SFpQQlSreqDuxPIXe/i2f7v1nwSTSTJMa8dahV1xxPDgO8ERSaAOiZxSiqqVaYpf7N4zpcTWQKJSrgRUCWLt8W2qvkJMo4r2r3TWBYjXQkcRjvZzxfNJY4zDzGw8ktOQgzqIbTLDc0TViC2K73Zjs4+uPCpDqmMc2aZrAM0h7cUlJABQiHXKcv5co4TsHQ/zmRNuGCzdmZAAAAAElFTkSuQmCC'/>"
      ],
      "text/plain": [
       "<IPython.core.display.HTML object>"
      ]
     },
     "metadata": {},
     "output_type": "display_data"
    },
    {
     "name": "stdout",
     "output_type": "stream",
     "text": [
      "2\n"
     ]
    },
    {
     "data": {
      "text/html": [
       "<img src='data:image/png;base64,iVBORw0KGgoAAAANSUhEUgAAACAAAAAgCAAAAABWESUoAAACkUlEQVR4nE2TvYtlRRDFf1Vd3ffdvfNmdhwVZ5CHK+s/sG64gQoqGChGgpHJGIqJhmIybrCZGmmw+g8ImwhmgpmgYCqCqMgyrDM6M+/r9r3dZfDGjxMWVdSpc07JNxIlsKItGPl0fnLO7mxqkN84I4iYXGEA6wkF+CEP8zkzAKFS1TSA1e/qxD3U8lXmBnCv1Fq5DYBGqOfff43jnpfLG3uvvhSh1uoG7D9i1Hr2KafP45T1AxLsRFTGgAm02MjF8TEgAOcDwIQgqWLwJOjqp28BRESC/Prj2+v1/aeeA1QVAEvXHv3rtS/Y4K0jDi+YflJMPMTAokPNuqsPhwAw0nUA5c15cYiNnv52X8GubKU0wnKRpvsdAO+t3Z2EuxpKbGBFaFt8dmsH7sCH74DIULqiAhpg2JDY3jk4ODh6Yoq7+1E/no3qFQQ+EhUpX/JL2t7ePbz+WAVsHMfeQKsCETz3MG1gV0EpDexktYiGw8UCgGfWa6CNIUTVMBEJrQFIB9UghDVjA/cCgCZFsBFzJTIYyAQ+30sy5UUADQQUNpL+sRpH4sspAfZCCrXAtO1VUwK86+6eLAfs6isBbj3bhBAjfGyWDPDF3U02hNC+7hA2opQyQe1ia/z59+s3U2NRcbDx0ria/zyJYPQ0N8FMkOyeHPBavc+r48/a4SEjsF8rAB7xzXDt53dEoGk6i5dhukRerT9Y5MxWG4TANrYhVCl9re8uMWv/bY6awEpgGD3P34//OAozcCDXUbAHt8l9xsQEYBao/r+VyNNAnzFp9iqiolSHFWZkVDCAawEgDxUg11oBg5gBe/zyJ4Q1TkH+u2mgqJjgQIG4qTZZJjiMgdSTMKngAuZaAyjJHUBcxgD2N791CgAyP9lZAAAAAElFTkSuQmCC'/>"
      ],
      "text/plain": [
       "<IPython.core.display.HTML object>"
      ]
     },
     "metadata": {},
     "output_type": "display_data"
    },
    {
     "name": "stdout",
     "output_type": "stream",
     "text": [
      "8\n"
     ]
    },
    {
     "data": {
      "text/html": [
       "<img src='data:image/png;base64,iVBORw0KGgoAAAANSUhEUgAAACAAAAAgCAAAAABWESUoAAACHElEQVR4nE2TT4tdRRDFf6eq7nszzIwxhGzcCCq6MgFFXApuXeXr+WkkoEvXKkIQF0YwMsyM47v3dlW5uG+eqV3DqdPnT7e+7fxzWfyOoru7p4vHcHeTAznpe2t4fHku2jSygJvf4c0KOJBzNDmuc2KbJqm7v6B7OxKvM9fs0V1SI1rsn7w54cvWkfvu2jdYOMDZ02sFDxNZu2ybE7C2wi4+ZVqzBCAiVPfVa1hVsxp28eh8wP4eAZBRvnp1Acy0fX65I8ay4LVKjkfPVWUcigKeA1CAAH0ZRFZ5ZQNgnzCWozuQPQOi4mA22izdP2bEKz4Eg4S95S9EUUtbUxYfGTVf7wBrgGdwSyQNpYQPgFczs1A7hQfMRFPe5Zu4mgtzhNIUwcuFSBiQMXR7xc+JKkAyzIN1EJ2tInBe/zE2ByQ+WWkCsKouWCmrAQ7dnSkopunFbhdbAqwsgKpR0cCqMYkr7FQsIAqiCmoAL6Vvvt4cI0FvGQOS4MzX78EerthoVEjCUdhIlhkCQG+jvgLboqsvWpgkbdVx4ndDVc3h8Ou/IRroTWxZbbJ7wfXZGLd/x6afclr1wDMK5MaPRw3HT7BpaX7YdtyY/wcA3RLwD2tuoQh4630DTeM3zDANwLnkKtTKkwXPs/HTewUSPc55xFPDCrCuDnciWX+Ds23Fnr/7joFL6q0NNQKLMeDcv4P3jyLFEWE0pwI5NPf/AfwuJV1/96kkAAAAAElFTkSuQmCC'/>"
      ],
      "text/plain": [
       "<IPython.core.display.HTML object>"
      ]
     },
     "metadata": {},
     "output_type": "display_data"
    },
    {
     "name": "stdout",
     "output_type": "stream",
     "text": [
      "1\n"
     ]
    },
    {
     "data": {
      "text/html": [
       "<img src='data:image/png;base64,iVBORw0KGgoAAAANSUhEUgAAACAAAAAgCAAAAABWESUoAAACSklEQVR4nEWSO49cVRCEv+5z7r07M7CLLCFwQmxZAjlBfiH/CH4vEUaCRUIyj4jICZG162U8s3Mfp7sczAx01FKXSlXVZd8jSZijDIEZZo6itaCr1LcIA4SXUt1MEfkl7LNpAOoIbo4ADABF/lP6ArrPpCaWCLBwOEP/nwrmS4cWL9Zvhie/t7EBg+GLAHuEBfRMpV5cvbwytrtfZ4YXDzoO+9eNCkJMEMazq74AvbF+UKAMr/KvGriFeYAShgpj37E5CrD+oUNblBTIZfwNGP7oh+GbFsv1zws8dMkkQWbET9sAvgXIeff+7vWf4EcvkpTLtPthmsbUNG3n+f1uHO8yq4CT92jjhz3M9xNvHv+9u6eMQeXMAsyHMkNObTnc3E2NKKKejyXNtIwJtGnkjZ2SPwKU5maGEqCNGXQGw7MzfSitFsg0MyAg8dWLFVTprBE7Lu4G0F18dklOFRMCI4oJ4VA6govN8w3JvzUxELRKGGSB2tHxyfM1sNz+58JbkTwFdAGrpxvEtH1XATycOAoIQamF1cbQ4ZftyYUDLkAtIp50ff+0q6Vd7+e5HmPALcGhBVAoK4jr+wYVwjGiYJKIBApDB5FQqKAGRmImkODtwBoQXROewt3NzU1KXWPWr9ePJXF1sdpsKjLZKcmlIgwzSHj3CIwaRVFhGg4YRByxUeDzA53hSmmZJx0kKVpbMr/68OlujliOZbOGp87/imV7yf7mEgaOZLU5Adipdfsb2N/efv0jhn/XFeyL880RdMOqYxEYhndD4SN0l1A+sJooOwAAAABJRU5ErkJggg=='/>"
      ],
      "text/plain": [
       "<IPython.core.display.HTML object>"
      ]
     },
     "metadata": {},
     "output_type": "display_data"
    },
    {
     "name": "stdout",
     "output_type": "stream",
     "text": [
      "1\n"
     ]
    },
    {
     "data": {
      "text/html": [
       "<img src='data:image/png;base64,iVBORw0KGgoAAAANSUhEUgAAACAAAAAgCAAAAABWESUoAAACbklEQVR4nE2TzWtkVRDFf1X33tf9uhMShwkmoMIsZEDBwY3MZgi4ExH8F927cKELd4qCaGRwI+PKrQwJk05Pet5796PKxetEa1W3OLfqcOqU7JwOqhhBwEAQwMEQQB2AABig4Li7C/uI4gANVABUBMHdDXCBOLdDcJCm9z9hru4B4rZvZY4CQUAAiQhNcXBQ8ZAE8FycNHNQcHffU7+bEFvdZwpQr6s5eCu5/MfemnvxeH1M29YcAq2UYl87aXFw9GnQhFWnxM2aVlIWyrD7JldHWKzffH++DpMCxM1xpHs13G4vry4nRAQvBte+DoKDDqWUtlodHJ1cjj7LSr3d/jwW39NtAniddvvKPkrRWDpqnJ9/H0/PK/DRWf/jSDhIglv1KbU4I3L5LQPh7PDwy2H6tTt++M/wjjmZmGiQ332VayYGABbnq8ODXimmLWgHtGmcch672/KTAdCt+qja3M1jJ0DL4zBOL0G+1c+hm4m5NUpMgP95eVKm4gwy8pV0R6efyUpxdyQCtfL4B7xCMMPbZGwSyxEXXKk3tTz6nwTVbHf9XfGsqu4oQ6kTLz4oLLv3+/jxh++Bja8BmHLOUVbdy5U5BMLN0wfcvABwuTNf7OmAx1cohAc9KRXufYMSLYHChQk8UUAVQphXJKANzkL4HYDnwAUhhLSwWt3BXcdSQD8RsWmaNsPwejBC1wNmAPG2pwpRpVTLm3rRiE46V0QQB31Tm2hIzwD44xcH6PpFVCCmlCKy3B6q2MOr7d05rd46XcV7d6+X6YTY/XVKGAhBln3/Rb9eSCPgSI5vz8Anjza71hBNi8WseJ0P8F/Eq0XakiYj4wAAAABJRU5ErkJggg=='/>"
      ],
      "text/plain": [
       "<IPython.core.display.HTML object>"
      ]
     },
     "metadata": {},
     "output_type": "display_data"
    },
    {
     "name": "stdout",
     "output_type": "stream",
     "text": [
      "6\n"
     ]
    },
    {
     "data": {
      "text/html": [
       "<img src='data:image/png;base64,iVBORw0KGgoAAAANSUhEUgAAACAAAAAgCAAAAABWESUoAAAB1ElEQVR4nFWTu26VQQyEv/H6JAcRxEUUNPQgAYICUdDAm/F8FIiKCikFBQWCKBKXJOe3h2L/c6K4Wa0vO/bsWB9AAJpHr1cDBD4O7NVhQ9nGrFktKs2MGwFh05JlAgSdgDWTDBiFUEuwpCBH5R6CaZ1gFbDEIJXTLQwkLFybVAF0lYEIrVhAafPkaCDSwqaGtWKMxoXiNSdflo7EBIVpNBudz2we8G+0yT2aIRrmfJC3t2REE3SDBjHQoA3NgrbvpYyAbGhkNCstZBhvJ9WQGIZjJQuBGzZ79oiAoZjlINqSNm/6srvEGCmQaGHb2FiKLbtzHrKtHbmSUxDqsQAlvYAdg3uv6mcieiCDGCTsgOP8ASc8vYiLdJhCq16AzW7cupN/zCAu3dn7gGnmCOOdeMQR8PWMtAV4/08CXs6uBnV2caAaN5qaDJ/f7Y+6/4zGJOGwBaMYBmr8+g5sKABSDozDJMjmqE4ZBOrJpCRJMeVgJANVXVTV890uAWJK2pr/QzQV8Vd8goSKIgW1rsM60OMdn68WkqZgWXtyHzJ+n15VcxjTK9sqhGXq2yxJwaCx0eQsp6x7XZNUGsa6NlOyVq+byDUE4UPCDcubLkEHlpVHorr4D1l+8CKbJzofAAAAAElFTkSuQmCC'/>"
      ],
      "text/plain": [
       "<IPython.core.display.HTML object>"
      ]
     },
     "metadata": {},
     "output_type": "display_data"
    },
    {
     "name": "stdout",
     "output_type": "stream",
     "text": [
      "4\n"
     ]
    },
    {
     "data": {
      "text/html": [
       "<img src='data:image/png;base64,iVBORw0KGgoAAAANSUhEUgAAACAAAAAgCAAAAABWESUoAAACt0lEQVR4nCXTPYtdVRSA4XetvfY+H/de7mRmkpjGQhCbBBRLwYg2IRaCf9HSQiyEFLFQmFIUkhRCBPs4mY8799wzZ38si/kLz8srP4oTRQEsCTlXRNweRpfWmswmSCsRgNvDEQBc9mJBcSeLHdAgvlQ0tbLnzW7h0816LYAIEQMw14o3TfM/u93EZawOtAAqCkHMFGitvL3ZTNN09tucK46IgG1kDkYVBM/z+jAV52LXD502db9EW4gBinZJ+bvODlB/PVRCpwposGAgQURb8dthZdDmlwsK7EAtjBRHQGouPNqs+taW3S8N2DNiIuAOwJ+3fL79qpy/cA673EOtmTvCgoLvl2U73Lt/+sw976fFfWyg5p5w96XVUuuLddedngKH3ZTz4i7aWmutuXurNeeqIt0A1J9upulKXO1yzQ2m4s1zBRS6WCBPkloWrF2ApUjIrTpLNuiSQ1uGou5N1d3LlNKSjJzzAmgnIt7uyqoD3E8ppU5KKT+UUvg+hMCZioCoAZzHeNKl0FqbZ/dMNIMgFaLFA8gjQKI5LDtAUyZakIqoBQX1JoBSKNdmECBZoM9qynboh33JtZbvInDxPufrLqU+AeE4WgHqXASjrA7wjldPbjqji02bGrZ//fhtvprYfEn++ufGq2F8RzBSbNo0oGdXr2+v9tfX57/fYs9UuZ3e/AshdQiiqrvduPpgynl3DrrpVfFDn4nDyoIF0HkeT06e0NpNG7fb4wQQiZ+sV9aZqiqcPPjvgUB7GUWeH6967d6nfvx47LqTB12n47dH95+ePhfB6fvh4b2+7zebx9fjR12KUdX6o9MN0ANNxb7ZXf0hnw3D8VX+0IKArVcbYVvuzQyIRTbhqZO6OMQQBFy3CaA7GobVXyGG0I9JVOHoFAAxmLPBF2fY3eN3sq3Ow9hpCP8DbjBQLt+mNAcAAAAASUVORK5CYII='/>"
      ],
      "text/plain": [
       "<IPython.core.display.HTML object>"
      ]
     },
     "metadata": {},
     "output_type": "display_data"
    },
    {
     "name": "stdout",
     "output_type": "stream",
     "text": [
      "0\n"
     ]
    },
    {
     "data": {
      "text/html": [
       "<img src='data:image/png;base64,iVBORw0KGgoAAAANSUhEUgAAACAAAAAgCAAAAABWESUoAAACCUlEQVR4nEWTy4pVSRBF146Mc+taYqPtCwQfIE1/gP//D4ID6W7EiQMfJWWh9TgnMyJ6kEfNUUIGGXvvFaFXEkJIbV6oMSoJKKxwMU8J/ma85zF9vbnIrEJN+BOi9+sCHV8caC+zEr7qcA2Ayk+Iy7BE7g62RCUF3SyrhPxA/HkONH8ye6nRMquVDQBfaHJEezg4QAAQg2xTmBvGg8/AACSAYvSjoChwgRfpbeMTh1v3DSp7XLZbJEV5GbSxWRJXKhBFjISanzlCua06p8mhNch/Ao41SxyAZ2++D5YGCwAjIAEwPBuI3gOgPaeoPorZYjviEUdQDBjWyOH017G/I+EByPaMPNcfty/7rlV1wiywZvP9Kdkur3vCaSkQ4AlgZoW1Z4tR+W4kULsOBwM1K5qfOBA9gLQUZOIgMDOww8lC9dEBVZlBgunnxGB/LUC9DYCNQJotpqGfXkbt0GaEeJLEAHhpQPxbsFgYRBPg8kH0KQQYW4BZmbA0FT7q/B6bbGbD2BIMr2gSpfSzuzdf/uhm03puMWdVVhQIv/nouQ5gctiikKY1FSrfqNtrJdDX4r+LuTzsuFLeqa93iIRVyYMLseS+R3MeBtT6IxKuvz06O1XDWtWOF+GJj++RBev2gSsZ2fbwUIEnI+d8XakKvDJpmk0EBmXmgCZhfrHZCdVEL/Eb275fAPwPYwklb6nVVhQAAAAASUVORK5CYII='/>"
      ],
      "text/plain": [
       "<IPython.core.display.HTML object>"
      ]
     },
     "metadata": {},
     "output_type": "display_data"
    },
    {
     "name": "stdout",
     "output_type": "stream",
     "text": [
      "7\n"
     ]
    },
    {
     "data": {
      "text/html": [
       "<img src='data:image/png;base64,iVBORw0KGgoAAAANSUhEUgAAACAAAAAgCAAAAABWESUoAAACg0lEQVR4nE2SMYtkRRSFv3vrVvV73TPTOyIrLmIkrKhgJGhoZCQGgoH/TzATzYw0EBaNDIzESIMFmXGdnn7d772qutdgZfVLT/Kdw5GfJV3Dwq7Zjo6xGNS1R1YBkqUy8pwtJKA4AElEAjCaKwHdWsZRVoi1oggigVWeviE1jd6XJWr9ujt5uNi/uU1AKPYLl/PQXqL/entznKYVUlmC2ZSWCthEdH0o2O3Ns2meHWMF1mpiHdBlOaIA98+mee69J/eA30C0OJiziIbg/m+ZxUB4XEoRvGGASoeOqJkDstle7odSFBysVBIOax55rex+lPRZgA4GYE3MXIWYcrWRzXb/+YPMuQYJQgDMQgi6ds38n+ipoaCi0poPAI14kbcertEJKw6uKeHnB/MxfPoqf4qQIYs6Il/O6b1hviYO30yHeW5IKlcfbcbTOLysSJhlCBLOdJjncwVS/fZD3e8GVToKOG6m34F3APrx9vulB6oK6hGdLpLN9IXicjjXHqhu1AgQgL0DpGhOorXeHQExApVXg/YKDNPS63SKsfLDJx4BYALZvMHb75qCH37/4r4JEeG9y4KaWTZ8dQBRu3r9wkSE3ltvHSxXcmKh2nM/Ha7OE9tSmzcluZoqsCGdDn/dHQE+vt7tdhcAiCQD3MG6rkJq9PXJ5aM6TH88zFkB7a21DoHXYbvpvZ6w+820Hcch4R2bj5wZOfhYwoN2PNRIUynvFABxm2aefADZK+DMf/+0gmjZQLgEtgZtioz/OZ3mSnAKJI1vQYQiTQegPu09ptN8Pp1au4S0vbo7r8sq0rA5s7/Zpv++thoX718OrCvKZrXHkNIGeHS4S5VSRO36+QgA/ANsQVuntYzrjAAAAABJRU5ErkJggg=='/>"
      ],
      "text/plain": [
       "<IPython.core.display.HTML object>"
      ]
     },
     "metadata": {},
     "output_type": "display_data"
    },
    {
     "name": "stdout",
     "output_type": "stream",
     "text": [
      "5\n"
     ]
    },
    {
     "data": {
      "text/html": [
       "<img src='data:image/png;base64,iVBORw0KGgoAAAANSUhEUgAAACAAAAAgCAAAAABWESUoAAACdUlEQVR4nE2QO29kRRBGT1VX34dnbMZerxYZWYuQLK14JCQkIMRfJieBlIQNgJV4GQkhDNi7Y8/Mvbe7qwiccNLvJN+R92G1adeg7+lSS7qZK4cK6aINOKrubJBa66XQ9R1nUEcAeg7TVAzegWsAgX21EE26lm5hTkCxRAAJFAEO5ey2LRBZgzE9YJ0v3FqlNwMby+u9AJwmjGrHk9GCo/usl1nheFtP72BGdkNyyMxWmO8b6SIrwNFenwo/O0PXHIROwZfWmgCER0P63fFqtcpXj1dM0ABocqiFkVna6tNAuf0RghvrKuf/cIEXU3loonwiFBJn4xQ3FY0k265T97a9e9NqyGdJefUK0hfqDjbQlLcVj0wRDwW+A4GcCrxlUMcTwGu7G4tBVB7LNRs2rzcGCaLxB8JOUT1krn5CAbU0nig47j4Vb0Tr5mVbyvcAfIOW4cgm6Oq/c9B6nFp42fUdHzk0AFSiJ+aADrQWL6vD3D4EvqqYsrdoTnNEvCI0/KZvH0P5uuCk8sZqPCy9k8UDGXAAcX4AmHorBnAPVaCL0ifk84H4ndWz7bU9yGBZGP8GgJooifUJf23RD3bLAc17A3halj2ci9i4uXjSQb7Edy8hPAwAqavcKTpFvACeVeBbgIb5XtYNbdEDp4cXABW4i2wi0xPbEQ8ErAGfzu/z+ktRqgfRhtp1BiQq1FaXZfkFSclMRQmYTtaYoEq39JgtEBURnlM9JCTHhFyFMDCxTnCzxAxU510lQHN+FPIBNgmof85Erf7Y5bnprxggOLioq1mr7XEO+E1BbJTAAwISWG2ARbQAcQUV/s/ZqahmICmCAv8BMD9IzsCmy/EAAAAASUVORK5CYII='/>"
      ],
      "text/plain": [
       "<IPython.core.display.HTML object>"
      ]
     },
     "metadata": {},
     "output_type": "display_data"
    },
    {
     "name": "stdout",
     "output_type": "stream",
     "text": [
      "2\n"
     ]
    },
    {
     "data": {
      "text/html": [
       "<img src='data:image/png;base64,iVBORw0KGgoAAAANSUhEUgAAACAAAAAgCAAAAABWESUoAAACH0lEQVR4nFWTzYtlVQzEf5WT8+57zQzOQnQniAgjs/AT/PfdCQO9kFnYC3UxWxGEtvu9d+85KRe3m9HaJYRUUqnoJ9IRrZ1giB0KsAcBhABz4AOk+E8QIFzqq40irmAKzCAKKySgsFdrg3F/P++rTI3AoOCJ2FVu9vGSo48xxrzs+ZQBTGwTistxIELBsTCQAJxKtDkKrr99gZE6LL3N0F4wBwf79tFv1j8/5leLw3J8+RpB7jMUhR8f5s/mFtBOLIsQsrHtt35e3q7rdeUO4QA4GOD7D/LYVfAVDdJYJR8MP9oFbI9//w5881FQcgIxWTR7dAPUyl0DXh4BERyrYG3H1hTRes/DzevM7L01C/JEFFIEzKato8EdkAKBEpaqcYpgU9HCwe0Usd83nGDIf16JBRAMD6D/0J46GNdkraZnu2wlWE651+dgzOJsCxWI2gbou4QCyDPbH3x2Hi2gTbnGBKJLtGmR71zo/bI1pZSeNX5BZHsWNYcn7cKE8wuQap2CDGbDWOGEOf0enQAYtxPiEPblIkEyAfi8BSNhrueB+reBC2OSgmhP7qfG2yu0npjC1ciwaIdEuK59bJcJ7WsZTGkqG6ItSwDEmGMDou2OwpALETrcZEBRc0PQd5kBnF8CLXsDerG9u3ngzatsEexNM3C0FmCQOCL++rQp4LDZIh01a2bNGZ3IF5+s/aFnABuVQQgJfN3loD/yv1fnX/gIIBnWES4GAAAAAElFTkSuQmCC'/>"
      ],
      "text/plain": [
       "<IPython.core.display.HTML object>"
      ]
     },
     "metadata": {},
     "output_type": "display_data"
    },
    {
     "name": "stdout",
     "output_type": "stream",
     "text": [
      "7\n"
     ]
    },
    {
     "data": {
      "text/html": [
       "<img src='data:image/png;base64,iVBORw0KGgoAAAANSUhEUgAAACAAAAAgCAAAAABWESUoAAACbklEQVR4nEWUwW4cVRBFz61XPT3TNmQSQ6L8AzsQCCUiCgIEbCzxnQg2CMEqCkRZ8gGsUZBlxw6esT3d/V4Vi4mhtrekqnt1qvQFm+S2JCHmUAQJEua3Uob918eMClRSuF/i1djhGh4RaMGLTYVWWgnL0Ne8jg7KVb/+hAjUL2l//55ZWiExh8hgs1h91TPHflx5aJVo0Unsd7hkPC7Aj/Sr5foxndcGpRVw4b63UbmCqd+9AVzBAmXDJElHZRi5uP4F3oOstRoR0GpiZm2ElTFz+MBslMhMAWYADkEjrDs4svfJZjytNFJIgBwenATj4sXxoKf1tx2fM483I8JmB3kY93YnxAoZ3RO8cMNLgHnt7jgFP4e3GRhAx2p9oYfjPpRjeDXdcODL+9+QFS+0FpvT081ZQ4vBgeHekvGKenFoRiQq5S5/blsDeoe0Arg+2OU7okKPc3d51RoiPUmAzcJ7pu//4v76cRuAz05+DkrgSczdRSOfkHkKW37guzvAqgLvYmdn5+1Ni6iSBBwBP11CAIRkmVmIEhVgMQz0d+DZ5eVN3cNlmZkdM0Qp5dtSwI66D+e51swk0xOyleFaYw+LFSNhPRWmAJswSZWlxPOQyhoMulcQO4Dz5s1CS2i0cYCP55j+GD4lan0JfTX0kZLe2cDiyyVRE3oj6q+bZFV6LDPb9s1WEs937faG6usJiYxwUACDrmnPFsveaZExXVGir0yrt8AOYtDElLVAtlrDPErdI4cOBRBhxEyBTPCqtsJwUkXwD3LrFbROVgE80wLcrQJbIFMYqHCQEZB1S5Mnng08iv3/BohE4wSmfwGPiUlIFIqhIAAAAABJRU5ErkJggg=='/>"
      ],
      "text/plain": [
       "<IPython.core.display.HTML object>"
      ]
     },
     "metadata": {},
     "output_type": "display_data"
    },
    {
     "name": "stdout",
     "output_type": "stream",
     "text": [
      "8\n"
     ]
    }
   ],
   "source": [
    "grays = img_map(skimage.color.rgb2gray, proc.X)\n",
    "Xb, yb = img_select(grays, proc.y, 20, img_augment)\n",
    "for (a, b) in zip(Xb, yb):\n",
    "    img_show(a)\n",
    "    print(b)"
   ]
  },
  {
   "cell_type": "code",
   "execution_count": null,
   "metadata": {
    "collapsed": true
   },
   "outputs": [],
   "source": []
  }
 ],
 "metadata": {
  "anaconda-cloud": {},
  "kernelspec": {
   "display_name": "Python [default]",
   "language": "python",
   "name": "python3"
  },
  "language_info": {
   "codemirror_mode": {
    "name": "ipython",
    "version": 3
   },
   "file_extension": ".py",
   "mimetype": "text/x-python",
   "name": "python",
   "nbconvert_exporter": "python",
   "pygments_lexer": "ipython3",
   "version": "3.5.2"
  }
 },
 "nbformat": 4,
 "nbformat_minor": 1
}
