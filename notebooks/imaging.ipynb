{
 "cells": [
  {
   "cell_type": "code",
   "execution_count": 1,
   "metadata": {
    "collapsed": false
   },
   "outputs": [
    {
     "name": "stdout",
     "output_type": "stream",
     "text": [
      "ready\n"
     ]
    }
   ],
   "source": [
    "import sys\n",
    "for p in ['..']:\n",
    "  if p not in sys.path:\n",
    "    sys.path.insert(0, p)\n",
    "\n",
    "from collections import namedtuple\n",
    "import os\n",
    "import pickle\n",
    "import random\n",
    "import warnings\n",
    "\n",
    "import matplotlib.pyplot as plt\n",
    "import numpy as np\n",
    "import pandas as pd\n",
    "from IPython.core.display import HTML, display\n",
    "import skimage.color\n",
    "import skimage.transform\n",
    "\n",
    "from digits.data import Env, Loader, invert\n",
    "from digits.explore import img_tag, img_show\n",
    "from digits.images import *\n",
    "\n",
    "%matplotlib inline\n",
    "\n",
    "env = Env('..')\n",
    "env.assert_ready()\n",
    "loader = Loader.from_env(env)\n",
    "loader.assert_ready()\n",
    "print(\"ready\")"
   ]
  },
  {
   "cell_type": "code",
   "execution_count": 2,
   "metadata": {
    "collapsed": false
   },
   "outputs": [
    {
     "name": "stdout",
     "output_type": "stream",
     "text": [
      "loading crop-test-small noop 42\n",
      "unpickling data\n"
     ]
    }
   ],
   "source": [
    "#os.system('rm ../pickled/crop-test-small.42.noop.proc.pickle')\n",
    "proc = loader.load_data('crop-test-small', 'noop', 42)"
   ]
  },
  {
   "cell_type": "code",
   "execution_count": 3,
   "metadata": {
    "collapsed": false
   },
   "outputs": [
    {
     "data": {
      "text/plain": [
       "(400, 32, 32, 3)"
      ]
     },
     "execution_count": 3,
     "metadata": {},
     "output_type": "execute_result"
    }
   ],
   "source": [
    "proc.X.shape"
   ]
  },
  {
   "cell_type": "code",
   "execution_count": 4,
   "metadata": {
    "collapsed": false
   },
   "outputs": [
    {
     "data": {
      "text/html": [
       "<img src='data:image/png;base64,iVBORw0KGgoAAAANSUhEUgAAACAAAAAgCAIAAAD8GO2jAAAFiUlEQVR4nFVWwZIruQ0DQKntmezLH+4hp/x/VfaNWyKJHOSZTbrc1QeXBIkAAfJf//7TBtx0d5UbMNzea7sNAIBtgwZsAwBR3tm3hmKMMYYkhgB0tcu2TQK0PSJEAC13ETZgo9GV5Tb43rQN/w1mqGMEpQhFKMZQBACHXW53l7sBeohBmIJN0KYNNLz3rizw3OH/ANodk89rasQYGiPmnIpx/kbD9n3vdAIcgAADDQJUu93u8n3fmUnyfWrTAIjuaveF8fCw2w4yqAiJJAzQLu7ergYwaEcEGZ1ZVZm57nXf99q79m67u7uboEET3ZW1r5yaYGhes6q6u+ccChcqu7ruve57ZdZ4lwB8/w4JNgADbrt9eDif7i577/z66xVTrmZDIBqthtnZVXW/1tfXV2YOfGuDIEGKkkISSVEWAZskDZTbTQHd/Xq9ItXVaBCCaRlml6tqvdbr6/4bgABAggG23s+IAdl9VMezmoCrd63X19Jgl+kIjsHBoW+Azl25MjMH/F0cWpIUYo8Yz+tRVfgf7dvOqsUFITsz73AUu0af7hFECiyTIkUGOX7KDwPkG0Pj+Xx295sf0kC7994klaqqtW4xCAkSI3TNuAgIpDGgAUH6IfmUCJIiBIf4eFeNhwBnVUQAkLT3HppkCEFIjKkxNUjShCCIJs3hoxBSJCWySSoiIkgeAEkHQFJVujsUZBAieY5MiwyCcrONbnSj/PcNTNDnNNKp27tilGTCpHJLImWzqkUme1d3O12ZSSD33iv3zszMymESx5gOGwBA89gSgFPgAGD2fjMnAN1udu1U5L1qrhQHgb33uu/MqnKlh8EGYRAmoBAItVANgKKN06trrXXv0+d7725QjAhKJtsom3CjQcac87ooDQMNAJZNidKMAcOZsNvOzKrce6+1vr5ef/3+/fv379drHad+PB6fn5+PxzUiKImY1zVicETMWXu/OTDQBG2YBkk0Wd2dWZl7773utdZaa6+11yLx8fmp0OPxuJ6Px8fz+Xxcc5Lsns6CCKAixvHLwynemeK39t1Zudf9et17r73Wfd/3urOKGmMMxDtwIuI0/9mth6cvkn3lt4r84/xvU3O7qtba92vdr3vvc42NMhFjXh/Pp8XHdV1zjpNrodM0ADQ5gt1j8G0G5BHS2zk6s9autfZ9r71y78psN4NjDj8/Pn79+sXQjHHN63pc1zXHoIHOYwkF08a7RHyniul3luauvHN9rftrdVe3AcYYAV3i5z/++OOfv47hjog555xDAbt5rL1x2vCbZOMAwiRod2YeUvfOs0RnQYxxzY/nx2PMBkTGT5oZNoEGLDEUJMd3KP4Q8I7Io8u9du4mGSQJQaGYY44YBAm/NYKfRHHT5He6HIBjtu/XBujGztqr1u6slkSd7D7ZQds707CkiCAbwBiDJCnS3W13IIb7yNR9wvLbuV2d1dXVXRRNNtxuuRtYudZ/bgMkxxjXdc0xxwwSsKvKQJCmh3FAAbK6elee4mS3XfaqxM4IXjPmvKrr9Xq9djeSohRzXnvv6xqx4zTCmQLOZUeDIuPtkShUu6uq3IZBtJ17RYu8pHbnrmxUIxmMMc527TFqiDp13HvtvW0Pg4AMvb1UhIISAwpGcAxVE2TDWclj3SizUTJaKlYyASI4ABK99r7Xje4B0US9+1cGIcacMee4alZlldEnkpot0O1GN1tClTMpKS11g00Q7MaZp2qAPIMqjohFBmVe16SbNIV9BQx9uwDc5Sq3aZIa0pAiNEISzxZ7MULk+M78M22ZkhCEnx+PMTRmXI+ZuWD+ABDOylVpNMmIGHPOxxxz/vhRHlV2vxutz3REAmSIGkOMA5CX6/k9AIAM0ln52vv0J8UxZ1xzzDEUAklmleGu/i/EyrRCBj94qgAAAABJRU5ErkJggg=='/>"
      ],
      "text/plain": [
       "<IPython.core.display.HTML object>"
      ]
     },
     "metadata": {},
     "output_type": "display_data"
    }
   ],
   "source": [
    "img_show(proc.X[0])"
   ]
  },
  {
   "cell_type": "code",
   "execution_count": 5,
   "metadata": {
    "collapsed": false
   },
   "outputs": [],
   "source": [
    "g = skimage.color.rgb2gray(proc.X[2])"
   ]
  },
  {
   "cell_type": "code",
   "execution_count": 6,
   "metadata": {
    "collapsed": false,
    "scrolled": true
   },
   "outputs": [
    {
     "data": {
      "text/html": [
       "<img src='data:image/png;base64,iVBORw0KGgoAAAANSUhEUgAAACAAAAAgCAAAAABWESUoAAACOUlEQVR4nC2TS5IjQQxCQVJWVbv75nPbHtuVH6WYhYcVC+ItCOCf1fsMz/5+vVMAza/H9+MrJNCAoJmZcmVuAYB2WZvHNgAAEbRolXOMkSUYdmbS3GGk0RgSzdeevSfMAlm7k34wgoAhCjRnrTnlFqcn53rZcbkJMDIEmplyLos4H23byjnGPEoEwBAZMqoE83Ydpf7KlbsAmBHx4RA092itaTUrqQQzJxkAaXFetew8mvs2N5UE0j2IKIJqj31MNA/uTMENAD0iwNgE1H7s7BvQ0urJcCfN3B2MbRTOK44YM2vWHANHc6OZuwEBgPSmmmPNmbnWVjQjaUZQ8bEWzsrRx8oC3I0fgdFg9HBZZc7RV4kOWhhqO4AIgEZQgrmZUVIVBEkCGQRI1dqIi3GsnXOrMrMEmikMBHaOnnbGeeXurzvXWplVACwclHK97o52sHa+ucbKOXNXSQiSVet+vnuLOBzZ8qnKnbml/wHs/vp9zqud7bLCO1CqKkmAQtBe/fn7d+b1YGvZ3AAJAEggJOwc9/s98LOqau8tIwmCBBEF7b3mmrPNOUeu970AQcKnh/rw3FG5BjB+X2luJAFIDED0dj0ymf1513y+K9xobiipgiDivHJ15HDkvAeat4gId/5fIzNr3ol111pjtcvbeUY0dzLKjGzHo2pUrtx74/hux/fjcRBliOUwMY4v3XcfWWA7v87z++t0QlIMc6IAejRxF2CHG1XbKDNEsojPkz2wC6AJqFIVAPwDRcmksjQ5JNwAAAAASUVORK5CYII='/>"
      ],
      "text/plain": [
       "<IPython.core.display.HTML object>"
      ]
     },
     "metadata": {},
     "output_type": "display_data"
    }
   ],
   "source": [
    "img_show(g)"
   ]
  },
  {
   "cell_type": "code",
   "execution_count": 7,
   "metadata": {
    "collapsed": false
   },
   "outputs": [
    {
     "data": {
      "text/html": [
       "<img src='data:image/png;base64,iVBORw0KGgoAAAANSUhEUgAAACAAAAAgCAAAAABWESUoAAACMklEQVR4nC2SwXIkSQxCASmruu358/3aXbvtqlSm2EMPZwIiHvAfrOua0rp/Xtcy4G49Pz4/HykqlIBtU5IEwGDk8Xg+H4cAAkmTpLu7bRsAM49jjIQBO0lF7p41axkAjLZBggbofOevuu57tQl0L45aOwAAyAYoue5rLkjymmXlOESBYBog6T3voiIGZs+bOU4FRCpNKIRdtSPGcXL0Pa/jUUkBVAICgt0NKh8P5brumrV2giQTJkOSwpnHcYpHYu/udzeyaSCOx6TzOI7UDrZhg6LEbIKOxx+eO2IEu4E3BipCzC0AIxhjNei1ZzVDlCIyhYRhjpB0zb3b+763lCFFZgpJkhHZFVi1ulfVjpEZEZEh5ACZQcm7rll7bXceKUkpERmAQhJW1X3fqw1GREiSSKQACe7dBnrvNsXIDPE9lgCiXZt5tlF7NwySsE0gA4ZrXXfnqXHOuu92dxsACKbg3nX9Xq3zXFX3y9dea+8GRDkJuK7v1+Tjker1y7r2WrW7DUIJ9Lpe/33V0DkO9Vgvtnuvbdt0NnZd3/9+zefxGedonwH474FtZHvV/fN6Tf/ZUFCAAYIgACPbvWvWvMdae68957JIURQBpG0bEr13XVXfr6vBt0QiCcU4n7PV86dYX98TEimSoJBk5PGYv1PrDna9fjojQm/UZpIc53M+Cp7wnteNESPHSMGG06Ty+CgUZvVes8cZ4zzGyBCJnEEzz0/+3mvtduv5zOP5cf41/A9Bs5KGCsM90gAAAABJRU5ErkJggg=='/>"
      ],
      "text/plain": [
       "<IPython.core.display.HTML object>"
      ]
     },
     "metadata": {},
     "output_type": "display_data"
    },
    {
     "data": {
      "text/html": [
       "<img src='data:image/png;base64,iVBORw0KGgoAAAANSUhEUgAAACAAAAAgCAAAAABWESUoAAACKUlEQVR4nDWTUZLjSAhEM4GSZM+efG+7092WVBTkftid3w+CgAf/zetawXX9/JwlgBbH8/nnCAk0ImhmbOWqFgBAEkgCACEELaIz5z2XRKDVtuUq0xsJCUbldc2CkerVco+AkSARAs1U806ZeWhWXuZjIJykIQQzQ+Uss9g3RM98jWOFGUAyQItkV4s+joNRd+acOQLkB2AQAt3HthtntFYL+AAizMfYodi2bbDcJEigmRkRDcL2f3C1x+YEiHdoHnwDsgd8W6Cjei6RJM0jPgCwR0TcWT2x5t1mYTR3dwMCBGOw15qrulbOiohwMw8nEUaauZyd98y1qspHmJm7GYUI0sNlvfK+76wGPcxoNAJEOGgGqluqzBYcFuGEBABBkOos2ba62VXqBggJJBAOoHLe5RvHyDXvVFd/VgmEQ8p8nRPbOB6ZL1TVylUSaUCY1PP8Plccw1Rz1DVzZf4KFqDy/Pp79nPzwzVx/lVXVbUkESGt+/X134t8cOyMexgkSYIgILrXPH++XzZm0+l8z/YWEkJ0rbzvedvMqsWZ2fwNAET3u13Xylt6fV/16wpoUIDmY99na1129uvranf7lIMIg4/tMe9UXoV1fU2z+JxaEIKO/bHmCa5rdt5nuY0RI94EgmRsx5quvlQr07aIfd/GcDcCsRzw7VFx5b1KrfHcx+Px3MIJQnEZBNrYuguC+f54bM/j2AxSU7H4fmjzAQ+Ae5jRADUA4n/Kwo8xvpT1jwAAAABJRU5ErkJggg=='/>"
      ],
      "text/plain": [
       "<IPython.core.display.HTML object>"
      ]
     },
     "metadata": {},
     "output_type": "display_data"
    },
    {
     "data": {
      "text/html": [
       "<img src='data:image/png;base64,iVBORw0KGgoAAAANSUhEUgAAACAAAAAgCAAAAABWESUoAAACMElEQVR4nDWRQXIkOQwDAZKqqrb98HnvuO0uSSSxh569IyKBBP/Me4G5fn9eKUJd4+Pz8+swo5sTYRGdue6ZDRq7Mht0RDhIIsyiq/ecS7Thslov+BEmACCiae6qvZIR58GhmjyuIwIgwQDMjJ27wuJ82Oh1r71LgBmJEC3K2RIsxum+BqqqBTO3d8AUZgaPiHCNYVndork7EYAhjuuBjvMIQjQjJNDCnQxBtONLZ1o4KueWOwnyH6IJ6HC/Vzeqat7pI0jQzEhFUcB5jfN1z52Zc26E8y2BYLQJtEFt5pxrrZTCCEASgHjTLMJU675XCibSoC4HEU6jm9HR6u6moK6urhaMiAHSSIAWpxjdWZ1772wBRDhEorvkJ4+dlfdr7TWPM6slBmFg5567/SF1r2evvdfaWd1EOEBp3T+v7WM4NX3/rszcWS0hDETXej1/8gy/Bpeeru7qFv7NBGr+/n3Wx3HFZXYMJ/S2QAYA9b5/vr+zrw8BEowSpG6BIQiV677vZV9zBedc9fYoCYgG1F3Ztdect/R6vtqMAKFuRgMQ6OPYWvfPXff3jeFmZm5GhADQj8eu5L6Ne/4ujBgR4W7GIAAf16rauyeU885xjePzcYRBCAIEu9Q5Ua/MLMTjuj4/ryDaAgLNxvEQXmuvnWIcx3kMR5fMIgUH6HEWCDBADiO6uhtArIYZJMI8mtYATfpfA2IJNEIgSaNJ0PsFkDQLCe+eANC1q0VVCzTzcPsPg7CszPqzcwQAAAAASUVORK5CYII='/>"
      ],
      "text/plain": [
       "<IPython.core.display.HTML object>"
      ]
     },
     "metadata": {},
     "output_type": "display_data"
    },
    {
     "data": {
      "text/html": [
       "<img src='data:image/png;base64,iVBORw0KGgoAAAANSUhEUgAAACAAAAAgCAAAAABWESUoAAACLklEQVR4nEWSwZprNwiDJcA+OZ32vfu67STj2Maoi9z7lSVILPSLf8/3JM/8eY0UQPrj6+vrdglGAGEeJ3PPlQUQqmOt9UYAAIGAmWe+3+8tmCEzix4Bo4EGhGDG2nMeujV4rQmPxnCQBgRoztpzMbw9fGOtatejmQMkEKAXcbLM4vojUnPttfKEAMIUMINDoHn0q2W+mFklkPbrAz1a6+at9xaIgKQS6WYkoijF/Zdvth6EQAIC6R4OIApAB/oUjVVrF91Imkc4qCjIevc2dipPrbEZ4aS5hxEKgGwGnVP7VO61rYe7ubsZwCDp5uE8a66deQotjEYzEmK4sbkZK/d8r12imbvRSAJEBGhGqqQ6eSQazZyq+tAkjNIpxFVinlNVBUESCSqMUJ65EQ/vM/ec55zMow8rhkPac/xsXtfJnM/K3HtnFQBSYahcP89R/dFMZ3CNk3tnlgAIQWiP738H/7zicrX8ZtU5pyQJUEg5X9//DPebvUtXAJIkCBAQVbner+eIa4smSPw9AICok3vONc9ae9uZM/W54COJKkkg6uQaO5+vqf/9BgVo0R9zodYo5uu5aG40QoCooEW77jWz1ti1x0+FhXu4QYIUBl537gHkm7nnRPPWerTwX500tv7IHKfGOSdPv1u776uFkwTiAPB+l7/nyiPY9dX71303wyeo4ZBo0U4JBOzq13VdYVABVGQBkEBv8BIYJFR1KLNPHwDpdzIEPwtJKgD4D0l4kxjby6YrAAAAAElFTkSuQmCC'/>"
      ],
      "text/plain": [
       "<IPython.core.display.HTML object>"
      ]
     },
     "metadata": {},
     "output_type": "display_data"
    },
    {
     "data": {
      "text/html": [
       "<img src='data:image/png;base64,iVBORw0KGgoAAAANSUhEUgAAACAAAAAgCAAAAABWESUoAAACMElEQVR4nCWSW5IbMQwDAZIaj72Vk+e2Gz9GEknkwxdodHWBf3t/ZgXX9XpdLRDm5+PncYYAMwZIkuquFgBKtWHuLtJIBmFR6pxrV4tkZ5ZoLncAFqRFde15zSQ9mFqz6cNoABkN0B2912q3cYuyPa84zuECgBBAc0PtzYjjcbTnvubKEkBjCKDL2SXQx3GDrmdnZYtmxhBoxjCjmXmMgTECXdUgPRgASIzjOJ23YxhFN4MkMMItIBCM848vxAhUZVsYAZq5W7QIyh92zAKRua+lcCP5dShAlD+O45o7s3PP2eFOgCQYLVK0EVSttdbeq4pu/MohQII0RwdrX3PuahpJg6oMYSDN3KzYlXutlEgBUrfEGMDXxgi6e1DdqqysFmjhAEBIDTtkx87eMyvX3tkNBAmAKK0tP0dl1/V87TXmcWa1wr+A3O/P0riZut6aV+beO6X+Tqjzer2me9zcauynqqqqWwgCYGt9nr/riFuc0X0G1d0SgKBAKOf73+88jztilJsZAQgCQwJQuT7v91X3nyxmpkz6dlA0IHXl2mvimnP4fn/yC4Ba0QDUkmjsXBewnu80OmmUOhoAQD/OlcjrNbXen3Rzd3M3CxCQxXHu3LtmeK5rKkaMER7OIAEqzuzab+aHude2437cfx43J8IE0ExntaJ6VlYjbo/b4+c+DB1o0UiPo+HXnFkyG2OEUWWwqGyYo+EeowVvgeGAqruJuFIwo/p7nMFuwARIgoD/4Qm1qLwVj4IAAAAASUVORK5CYII='/>"
      ],
      "text/plain": [
       "<IPython.core.display.HTML object>"
      ]
     },
     "metadata": {},
     "output_type": "display_data"
    },
    {
     "data": {
      "text/html": [
       "<img src='data:image/png;base64,iVBORw0KGgoAAAANSUhEUgAAACAAAAAgCAAAAABWESUoAAACMElEQVR4nDWTwZLkSAhDJSBtV/eH7//OdFc5MwHtwTEcOL0IJIXgf/e9zHu+f99bAoC4vr6+LwfpRgYAkPg3pB/neR5hAiQxzN2UmVn9DzF3M0KEgKC5515zZkuEtK2qJQggoBDMlPc9UzCidpXFONxAgECINOWaq+kW2DVlPg5zMyOJAM1Qe23ziJNbKz9xXkECMCLoSKqqzeJ6+dLca619uANmQJAMSjCLcV7uefxmVrVAAkQAZIyjOsZxDEc4ulsiaUYimrDju6M8jnCSFECQ5mYEogF7gceGuTV2NcwImnk4HuCM8JjZyqo1i+5mZhHhgIJgDFTWzpZy32kx3M09wgAEae4K65w7K7PKI9zc3Z0Awhlhxs4959rVgA13M3MjIYbRSKqqas/VoIWHu5kRABE0qnbKIsKdDQnmRrUAAOFA9VztJz1W5mpJgiDx0dCd+/PZPOO49n5jdlWVQDM+Nnt+fu8ex4nKGb13ZlbrKQwDWp+/Pze/jjGsbtw/XZVZ9UhQ1L5///yZ4S8/B2INSt3dgqQHmO+fv/M4E3EgnSAACAIEICrXfd93r2xJVSUSpNEeMKSufnJa6vd7NmgkjXyShPk4j0nl+vX8+Xu3kSTxrA73cV73bbXeS/n+2TQ38+cAhfBxvvZ9t9aNys+7w0ZEuEECpHDFcX3tzXwrc24fPsYYIx4/CsniSt17z+oujS8f1+scw90IMD5q2rik2tnEuL7H8XW9Dn8+nv8DeMaKXxalLrcAAAAASUVORK5CYII='/>"
      ],
      "text/plain": [
       "<IPython.core.display.HTML object>"
      ]
     },
     "metadata": {},
     "output_type": "display_data"
    },
    {
     "data": {
      "text/html": [
       "<img src='data:image/png;base64,iVBORw0KGgoAAAANSUhEUgAAACAAAAAgCAAAAABWESUoAAACK0lEQVR4nC2SQbLcOAxDAZKyO/3n5nPbSadtSSQxC2eJKoIPhQL/zXsuIuf3e6cIdfmvn/c/ryDdzMIsqjPnPbNBo7pSoFPhAhmguVftObeMw2W1blkMNwPIaNGcqL3KLM6DUzU1zle4QDAEejsqs2njfPnQnmvtFEAzhEALN0ig+TjD88uqqoaZGUNkWLrR5BERoRHW1Y8hGJDR4nhNKo4RBtCNz8MIZwgC/PzBLI9g906ZkQDNzBkNEHzZuLeAUq07OcJI0t0QDZnsPMYx18rqnGthBAGQBKNoAsOJWjnX3itL7gaAEPCcmvlI65zz3tlikEZ0BRD+hHGZKvdauwWTAKjVYARIOmkUPSKEbnVVZrVICwdAQiXGi+PcXWtV7r12dQvxpOleq+3wM6v39y8ss6UwgEDVdc2yYVJPz5l7753VrXAAUs7v58I5zjBN3J9dVVktIQiwe9+f3xdx2HlgrNOlbrUAxENY15//LuP59sEKMwISADIgoGvd3+8fi5/sRlWDEiS1EA2hKteaC/c9J3Rdq0FIktTRwMOjtPe8dl2fu935tK1oAKDFce7V8wJzfiYi3MzMDAEA9PF6V7X2Je15LRw+RkS4eRCg/NzZO1VLtdfM8zWO9/sMp+LZFl7VpeRemVUcv87z530OQiERxhhHi3OtvYuMcZznEaaujmqY2PBxFCSYQA4jussMFnfDjGiC5iGrBmjC3x4UW6ATeEZqTQoSpEfb/x95wIn30lLaAAAAAElFTkSuQmCC'/>"
      ],
      "text/plain": [
       "<IPython.core.display.HTML object>"
      ]
     },
     "metadata": {},
     "output_type": "display_data"
    },
    {
     "data": {
      "text/html": [
       "<img src='data:image/png;base64,iVBORw0KGgoAAAANSUhEUgAAACAAAAAgCAAAAABWESUoAAACNElEQVR4nDWTQZIjRwwDAZDVLY3DL/drvZ6RuquKhA/avfGQRDACTP6zr2tK+/55vcoAgPPr66+/BoGQkIBtShQJAFSe53mOtAE3kpTkqq7+7AOkxM9oJJVZteY9twHC5dhVrQ+LbEPa67rubYjuZUdmgiRIpE3JNe/bCKXnXm/lGAyRFNKghFr3ZuY4mD3Xa5wrSIBkmopg76qM8Xhy9HzNe+5KkCQTkEowpBjnQzGH966y+RsgETmO6hzjGPKQ2zZISUQ2BB5fO1rjSBGkAYOSQkA2DD7MY0PB7lW/s5WZArIAjCNjXLu9dt13SRlSRCaJJIg4wl17l3utuyMzJGUGgSSpEEPe895776o8QlKERCMHpIyWa9/XvbbNiJAkESAyQElGV/des41ARIowCCAJEl3VynG0u9ptUnAbhDMAds+7dHIcc69ru7rK+PSZAXvv9+v2yPOx1wuvqrWrG6CAJLvX+/s945nhmqPvufZcfx4sSe/r59dPPY7zkV68frmrdrVh02nXfP3373f3E+PUnEOw/SnMQLb3vH6+fzpnM6IIkPhcCBjZXfu+7sv33FU9526SFPlBst39UaDWbby/3xvARxEITkCR52MurPvnquvX2xH6YwaRcozzOW97X3Zd35OZESHCgJ1kHs8136W6d6/7qogcmSNFmEhIlY+9VL7cey2dmefjGCNFgrmSiPH4W9ecu9oYX+d4fn0dIYJw3os2lEd1kbLOx/P8ep6HaDfwPxYZnShbklZMAAAAAElFTkSuQmCC'/>"
      ],
      "text/plain": [
       "<IPython.core.display.HTML object>"
      ]
     },
     "metadata": {},
     "output_type": "display_data"
    },
    {
     "data": {
      "text/html": [
       "<img src='data:image/png;base64,iVBORw0KGgoAAAANSUhEUgAAACAAAAAgCAAAAABWESUoAAACNklEQVR4nD2SwW4kRwxDSUldPW0j+fH87MKxZ7qqJDGH2c27EgIJkfxH674ruF/Pn7sEwvxxfXw+DgFmDGsz61ZWtQCAdI8jnBAgBECPzrXmKgGUxG4JbxQt0FjrnisFg6rTYo0iAIAhgYbOeSeMztJO+jECNKMhBJpRey25+/C2vW4f50EnQIZIb1PtQvh5HW1r77l2hgOkBWCAowXzGI8hvZ47dnWLJBkCQDuOQRvHGEMrkC2JhBkZTULx+MsW4jjCk/Z+AMzNiGgCGEDMpgcqq2UkaeYeQLRJfh7msQu1tO+NCDczj8OBIGER6MraJfWei+NwM49wB8NJusMNuVZWVibHEe7u7kZEgHa4TJXrnjsbYoS7mbuRCgPNCFRV7rlKNPdwMzOSYBhAKLPhEW6SJFqE4d1+GMWuPZND7iNzld4SBALhkDJfr1vh41z7/rm7q0oAf2fo2q+f14qHX5X7W3tl7iqBNDCAztf317Mf4zxN09a3qnL3b59Q53x+/XpB18dxctQwSN3VkkREV87nz/eTkfLD5Abg/0UCUZV73vO2tavVmdn8AyCEpG5J6sp94/lzF+0NCSpA82OcE8j9nP3891V/7gkDwuDHeMy7lK9k3l8T4WZuJAAijDivPcfGvlfn/Uy3IyL8PSwFjH48PudE3apc04bHGGOEG0TEdtDH9fdr1rNK1eeHx+MaxxFmAGOSBfro7tpFxPkZ4+O6TidBKJLAu+FGFOSPMc7rGmGQBPwHpPaXWkrI9W0AAAAASUVORK5CYII='/>"
      ],
      "text/plain": [
       "<IPython.core.display.HTML object>"
      ]
     },
     "metadata": {},
     "output_type": "display_data"
    },
    {
     "data": {
      "text/html": [
       "<img src='data:image/png;base64,iVBORw0KGgoAAAANSUhEUgAAACAAAAAgCAAAAABWESUoAAACLUlEQVR4nDWSwZYjNwwDAZLq9nh2vzx/m4zdLYkkcvDuGXUoPID/IO97meV8v6+UACge38/vh4N0C5AepVxrZ0uEKleDzuFGIAweVTvXnCmamXbmJQsnCTCagnkq19owOwaWanUcR7gBDEE0N/Te6TbOh23kXnPtQ6AxJNDcqSrB4njE7vneO0siyYBIZzkBmsUYw9awquoGzSMA0GxEjOoxwt0swiT9yUMQQT+fFe3HcHQVzQCI5m4hAQTP334nzJRaKz8lSTePFmTCOcY5szp3rXvhCANgNEYJBtlwd157Ze61UhFGEAQCIkDzUDlyzbl2CW4koRaCBpBmrkDXmvcswYwkpZbCQRjdzQkBEkxCV3d1S4wAARogwMaDfnRlqnLvrAbCAIBU7oSfdjyy932tvdbeVa0/AErzXvKQutdPr9xrnrtaYQQA1X6/ro4xjJq231mVWd0KFwgp5/vn0teIMzj7FfdHUwoCZPe+fv59UwfiQR7DIUkAEACErnW9/nvTvhIgIBoASUA0AHXtOe8L49fazjl3AZKk1geoqsquXnPd3dfrbn7k8QEgkB6xe99+1f1zK8JINyAEALA4v7KkdQE5XxPDI8I9LAgA5sdjdyZzonLeO84Y5znC/wJEdecursrcqXge5/P7MYiwFmjGYz+FlbUyBR/n1+P5NQwdKslI2mjhuifphB9uUHcRsXeDSRRIiyGLBugAurvVMbPBz1lAmgv8rCMJBP8H/569RjSWYUAAAAAASUVORK5CYII='/>"
      ],
      "text/plain": [
       "<IPython.core.display.HTML object>"
      ]
     },
     "metadata": {},
     "output_type": "display_data"
    }
   ],
   "source": [
    "img_show(img_map(lambda x: img_rando(x), np.tile(g, (10, 1, 1))))"
   ]
  },
  {
   "cell_type": "code",
   "execution_count": 8,
   "metadata": {
    "collapsed": false
   },
   "outputs": [
    {
     "data": {
      "text/html": [
       "<img src='data:image/png;base64,iVBORw0KGgoAAAANSUhEUgAAACAAAAAgCAAAAABWESUoAAACYUlEQVR4nH2QS0iUYRSGn9Ffx8kZtUklQWy0tCwdzVtYkwpRFAhiRERFBiWtIhdtauFSwkUUFEERLaIwyKLIFJOiDG/kpcRLOGraTcWxoXSu2mnhP9M4lO/qvOd9vu9wDiLn6sWvudnbWTckUBqZMFmaIpmfDF0b8X5wfqBr4PADvjmdoZHoorQul2b2eBMYf3n5K8tSe6QnQlG00YuGeTrSWV2ejKCGaaUNCcsNAnRBALuDgKVDF4sCvfQFmG1n7o2JiPu6QW2cb0Zksy8+0eLfvgaAY4MiITDjG67z+L8qANhblQ4K0z98+/TFkJ0w9dyRW0g8QFke9Cq4fK82FqzXjw9190zNFKIDYsqg/WEInT4g0qM43Zq5urcREAvYY8HxTsHpA3pnJ0cMX5+yWAxtALXV9H5E7gYcJSMjHhCRWgDjhDTsQi4RLBGpAKBGvJ1I9T+AD8tFqYggN4PzDTKSqJZtIgpxK+Nofd79li+q+Q4K2QFpfqpsPdV/p87nG7JTFBIDgMQ040lDQr3fO2dsCorOfwl9cprZANtzetTGdJMgL3xx0eXXDhEROVqyf7ljKdfC4pFls+balIiIWIevbqpyPSuB0ltdFyAkNG0ZcDQOAowNN44ePKDV2sCemrIvDoVMdcIbk317rOOnhOWYMrH2g4115upWBaMKpCb9duv14d7BLAvk7mxjRzHG01sUQlXAbpdk8E4MpAL5lQZrBRCRqViHVWDsycKC1/G5+1VUORBuiF4C8GhcL8+Oqkh8hts2DDwqHG993EF+pXmp+RMiQ2ZWk4hcgT1J/8v/AL+sCal0+RnBAAAAAElFTkSuQmCC'/>"
      ],
      "text/plain": [
       "<IPython.core.display.HTML object>"
      ]
     },
     "metadata": {},
     "output_type": "display_data"
    },
    {
     "data": {
      "text/html": [
       "<img src='data:image/png;base64,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'/>"
      ],
      "text/plain": [
       "<IPython.core.display.HTML object>"
      ]
     },
     "metadata": {},
     "output_type": "display_data"
    },
    {
     "name": "stdout",
     "output_type": "stream",
     "text": [
      "2\n"
     ]
    },
    {
     "data": {
      "text/html": [
       "<img src='data:image/png;base64,iVBORw0KGgoAAAANSUhEUgAAACAAAAAgCAAAAABWESUoAAADFUlEQVR4nGWQXWxTZRyHn3P69mPb2VZWxtptdu3MPg6zG4PMD5oti4SkRBEMCSYEJTESL5aICZp44aViRDFRokYjXmgwgyhYUGAXfE2UZTCaTKR2c62ExQGbbUd7Ok6/jhdlE/F38ybv8+SXX/4SXFPv7DwMuPrWevORdGxKy9ZU53KOQl6/SVbAlBrRRR5TuTWpK86i4s7o7eW224lIOlb4u0yC1o2RK9aGZbmMRWn2dTvtZCsBovtOxgABE18WdG9dtUCyZDIzLVasADS3/QggQV/34RlQN630ZMJ6stHu6jCNXt/gYez9wVLDqi0XZyD83OqOXOLE8btrXO508NYzbzVVrr99Y3oB6H2tEWCvYRg7+DfNz39y7M1aAFQA237D0CruExDvGNN9CCBsK+RwxovyHu1+IT9Lw9tnJIBH6lLp2kdV2zb+k2ePQF4AuFSHtSw+dOgesHhjWYB64LIAmhpau1ZEf7/HeweeUEYOfgNY4athAVL7fMjtr5go8Z7P22HdTwC/hbJj4wJ8vtPnmv35egB2v2sCTDcAhh6XNYcM3lV6YnQia5GBul0mgAvnAbhZ6VCAT41O2B5M7LPZtx2dO7c58F1oCwArz0wMfy+gHs84P/fad67R88aRL0Y5VVrTtqNTmUwCPxi7gTcKhmEc6F46QtkBwzBGnqyQYQy3C1ILQDS0yB1zLwLhiCbD4HvaY2bGo0BwqeCDcuDkkBkZwp/96WlCDwNXAThrnBh4Ae4cDM6pTwlgyte/rkZcVn2vAnConw0BrezUcKrVXy0JgOVOk3n+j69NHwIMbAWks3susjbQa9cE8PJLnr9c49dzMwB8fCuVMeLXgF9OV3WVC9j7OlTXWDrS4dK+b5eW7i+aq2ToAcwrulQjxgMphhNxGTwAqSpVmXxQIKalBQR3Xbl01+U0TU7/T/CahYCPzh8Fn98dii/+K+nSu7FH5AREo8CvolDijU0P9zeGLhwHutc7iklpqS6QHDGv3rRZBWD2lUEl0PZ0MTkrtywKCxr2dn+JU9uyvPWhzmW2ufl/AEAXIO3pFz/CAAAAAElFTkSuQmCC'/>"
      ],
      "text/plain": [
       "<IPython.core.display.HTML object>"
      ]
     },
     "metadata": {},
     "output_type": "display_data"
    },
    {
     "data": {
      "text/html": [
       "<img src='data:image/png;base64,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'/>"
      ],
      "text/plain": [
       "<IPython.core.display.HTML object>"
      ]
     },
     "metadata": {},
     "output_type": "display_data"
    },
    {
     "name": "stdout",
     "output_type": "stream",
     "text": [
      "2\n"
     ]
    },
    {
     "data": {
      "text/html": [
       "<img src='data:image/png;base64,iVBORw0KGgoAAAANSUhEUgAAACAAAAAgCAAAAABWESUoAAACkElEQVR4nH3SX2jVZRwG8M/57XdmO3PnbO7MzVprs23UzNGJgnIxGmlgZsISo5sg2U0YRIQXIRn0B7sQ6yIE6UbKLopIrKgLI6KYSKhEa0Oz1phzODSXM7fj2dG3i3Nc6oXPzfvleR6eh/f7vrbuH3vLAnaEMDLwQwhdHbfHKtIk4p/PNqb/N3yzJX/60FTI5UeRrpkR4sH4/BnQOoZzs5XHR0ai/CgkqqsviYuhYwZUwOxc3VUOlOIS+UtEbSvvaAZZyLZW3rfQV5tCND+56NEGKMDSgvY2uAt/DpeMG97sWEiQea8zge0f1JTECdjmJiQ3vthTHr+CKoivd9TVX5u+jkmnJ1CUmx67Rk+Xz+6mJRGHButAeOdhz7wCVkLU0Nzfk4r0r2h5G/R1dsa/rZ7pwxxcbV6WDv9GLtAFr+0KHxVPfFHz/fP8Aa2rNjVVBYTwIYRwENtCOFLqHxguHH79yY0RDJWoIeznJdC7syuZmrhcFcOikuFxNPr2MLiSceHgkaFsBPUwq3sz20/tLt9wwnTT2ud6EwR7X0DVp+th51Zob8isafs1u+XAOYSwDxL9e0IIIfRdt/LlYDzswKawB0/PhXDxhneJSLobS92PLwdYfLMhL4mCf+CTUzfIEhGVajDsOHjXZ6X+uLqhjtImT0D4G3weAkjVLLv3HuroDSE0IIQ0Pa+GskEy1VKP2I/frX7/LDIbsg89Mjm1t/FlSIeL8+NugdStRBAnQG20wJS/aRbPfkxxMbof6E9YE/5qempdSzJ19KeTS7rX7zs2VfHGikQ5Jrc5fmx3cfBM7/xIZeH3k7VrV7lzV7Iwfhm35SlOxvET7arHCqO/nM8NHX1wOd256eSVERThdOY/aLfapdyyLf0AAAAASUVORK5CYII='/>"
      ],
      "text/plain": [
       "<IPython.core.display.HTML object>"
      ]
     },
     "metadata": {},
     "output_type": "display_data"
    },
    {
     "data": {
      "text/html": [
       "<img src='data:image/png;base64,iVBORw0KGgoAAAANSUhEUgAAACAAAAAgCAIAAAD8GO2jAAAGiUlEQVR4nFVW0XIkx43MBFDVPUNylyuFbZ0U96J/uIfz/3/JRdgO2/IuRc4Mp7sKyHtoSudD4BGRQCGykMn/+u8/A6rC/r5dLpftfatMZk2lVJUTjlhsWfvT89Pj02NEUD7nJC3YZtbXb9/GGGOMHHtOSJKUmQQARKYkEMRHCpCOMkIkIQmVyImcIODQnIlSQrOyquasnFXJRIHAASSxEHMmYSSqgJIECQe+mRdLgApVqo9QVe17KoviPse+Z5aqlBIKJAHAjFXFipxFwt0BSDweSAk4BjGpJFZBqcwko1Jz1ByF0n3fM6tUWcoSdezhgAHNQilYiZR+QwUEoOTOFMHf6uvIqlSNnPvM1LbtIITKnFJBBpJwiGSZMea8G83QiCIK+K27BMAMEimzMhU1CJhmZtYcc07MMVpvH6+VoERCJCDS3SMury/ubV0Xg5lkRKISZRSgoAkirFnLTbfce8eYM3PmnHOUqtyNMmEOZWVVDTLcvbf+8PgpKqtqa+GMVlWSSG9uFsw5KQBGcxUpq9Ttdq8qoQBGWPSelcrKmh+8MzNjb7215u6RmWYmqaoKH8sxczerWW4BGo2SVRFgVVbNWfPYJc0SdYwOytzcPLyvy9ra0noELVrvy3o2WE4RExBglD08PDUPkGPmnAUAKJISMrOqANFM0PF7jNYiWmsR67qeInpfWizL8unTp8+fnwnEawDYt10CSKP1vrbeZ2ZmRUQx7/c7gFJNDBLmvo9dgrtH47IsvfXW1nVd3Vu0iNPp/PT06bvvviNImqQbrzWnZOeH83l9bH3ZxxhjJxnL+vDweLm8Xm7cNlWmIJIkzeAOD29Lb6213swiIiIzW2ufP38K97HdL5dXoQis5/X5+fnp4fPM3F7e399vEW05reeH8+m04F/ctvuYU9DMDHdrEb23Ze3L2vrq0UmaW2SmVGbWW0Q4SZZA9h4//vTDqT98fXmZv8ztfrcHO53OX56fZ+7X99u3byYpVWbmEX1ZTqf19HBa+9msCYQws6Iq5xyFJJsRYYgwABG2LG1ZYlmsdTMXlOYwt3GfOaaqJLmZSHf23vu69L5YOAAkoBAVWTNrQjKnByMYzUkszVtwPflTPnz//TNQ0fr5vNI45xhzz0xJYZFVAMAyUqrMLEEJVJIIUIJoMDN3i/AebkDrNnOrWs/n5Ycf/vD4+ADG+fFxjFlVY2ZWATQzd2/hRlZWzirLAlkulRXDiHC60xzuFmYRdFo0f3n56s7Pz1/+4/OfMplT+8x//vOXfd/nnJlVVWbuQXPLrH3fUhLTTD1CyZQCMGMQMJDkwX+S7i7p/f7OVxPY24O5n1r/8uW7t7fb6eVba61ySlJx7qMqx5z0adbMxsZRKQgRvri1sVUuUmqMuW+jt1jX9af//PHX17f/+etf+Jd/uC9fvnz//PxlXU8///xzaz738fr6MuaoKoCa0ixglAaOY0oTGIABJpB0swCYU2kC7HR6/PZ6ubzdbtd9Tr293jT5xz8t4e10Oq/rer36yAGAJAoERRj4cTwqaQyjEYYiyiCvsjnlzkpWct/y/j7fb9v1es+J0/IYfT2fTtu2zzlI9t7HGNKHDEO/C4pIUoyAmYCEEiqjAmpzYtvy7e3+/p77qH1oJsfU2/W6vrzsY7/ebvscs7Iq/10Gf48P1QKCdMAkZioL7kvz05zzet22vcx6+No7I5bz+TFay8rMFGAeAG/v7701M8f/jwOdZJg56WQIVgXSoy/jvd7f89eXK+DrenbvbtF7axGk7fs+9o2AmZEsfkxMkvqAR+mQ0cjMy/X6y9evt9v9cr3eR6Ywpbfr7W9//0fvDbR1XWkOaGS+Xd6q8nq9XK6XUi7rIoCgVFWC/s94GQ1UjDF+fX0bWS36nHPf5hhjZo0a19v1vnnr4e6HzgCVmXPm/X7d9ntJBEiQlAjUYdnqED+AYFgzUmNsIwfqkFqEhdOtGU2FlKRKCCRFiikrb+4goKw6/BZpQh2r92gGGBmfPj3BDDzE3Wg0upmB9EaofqOHAJFWVWOYN3iQZJXe3t70ce8+uGpmYWagmcX56cHdRQqgkcHwFnSSMEElHdDHjNy2zXaaH5ZJmXW5EIddPLocHk6g0d1jPS299yLqMHZBkgYjYSAFSUepuwGQ5pwo5+FFMut3ah6nrFQCZqWbkYy+tOW0CJiZAsSDCBBkRhYhuHtrLSIAjTFam1JlembhMNP/FiQ/fLI5yf8F4ikRkbE38UgAAAAASUVORK5CYII='/>"
      ],
      "text/plain": [
       "<IPython.core.display.HTML object>"
      ]
     },
     "metadata": {},
     "output_type": "display_data"
    },
    {
     "name": "stdout",
     "output_type": "stream",
     "text": [
      "8\n"
     ]
    },
    {
     "data": {
      "text/html": [
       "<img src='data:image/png;base64,iVBORw0KGgoAAAANSUhEUgAAACAAAAAgCAAAAABWESUoAAACYklEQVR4nH3TX2jVZRwG8M95z++ctZ3lds5yGzvT2ogiSKtpJEgwtWWLEXbRRYoUo4huii7Du4KowIvQLoRgFFQEUVddKKgXeWvBilB3Wn+Oc9i20s2Tbjvu7eK3eWxBz9X34fvw8Hyfl5f/x4jj798i5TL2j71zX2MffhPjoXTe/sHk4tIXMzHGTxuCIzFhSzq3vYZiwEJDMEyM8T1Qi3Fy6+kYY7x8KM/Y5/BZdK4eh0A1xmMtp2KMMcZjfeVnuuHjmHRmz54ElV7LbfsPjNzs/PP8l7+YSm0lRddXwGXuaJ04fFj7lUaGDoE/0rnqu3MTcNs+u01gY0qWZ+cn19c0EASaUjKXyZZ3rRM8kkhm78qnZG/H48vF0//aP7dvk3BUM3hpiN3rHJJ7SC78NAGGoJ8tYb4lW+grHUV7CWJ8HhyMt/AWKMV4lYBeMF7lzDxIk3SzkgrSxxnY5OrbbZmHPnRtLq2WvwgWJFDeyzcnGB/TOgxa6CJo1gr9OTdOwSX6wcKKSDBnM9QvXllaO++x9MigUBDk1WDxwnSusJotgsWa5Q4BBfjxZqm5F5q5kRp9K9cpqOmDpZmMg5BhNhU8wKsSTXrATLsO2M2d4NG7Gb0YbNQFWq/JnTlQfHiDpSPg+yoeTMqrmcpPlNi5s1Ipql4C9a9eN5mEKX6Gqd/BvT1zf589n2Y4UZn+YTyjnh0bBTsGujtfmX5Dz0drHyOXr+H+d/Nrz98/Gn8d2TrY5TYE179ea/DZF5/U1JLUN+OThmRwj22px/CbL7y8WtVA3IHtT2/AU8MG/QeVfch28Q8pPswl/h+uWgAAAABJRU5ErkJggg=='/>"
      ],
      "text/plain": [
       "<IPython.core.display.HTML object>"
      ]
     },
     "metadata": {},
     "output_type": "display_data"
    },
    {
     "data": {
      "text/html": [
       "<img src='data:image/png;base64,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'/>"
      ],
      "text/plain": [
       "<IPython.core.display.HTML object>"
      ]
     },
     "metadata": {},
     "output_type": "display_data"
    },
    {
     "name": "stdout",
     "output_type": "stream",
     "text": [
      "6\n"
     ]
    },
    {
     "data": {
      "text/html": [
       "<img src='data:image/png;base64,iVBORw0KGgoAAAANSUhEUgAAACAAAAAgCAAAAABWESUoAAACkUlEQVR4nKWTW0jTYRjGf9O/h7mcKZqbNpspSqKtTC9MCcSoCyGhE1RSUlBdJBJJdNFFd0JdBXmgbkKhCIPKBCVCpx0kQzHRmdNNXeZhZMmcS+fh7eI/zIiueu6e7/nxfbyHD/5XGvaktC4CoCvR6pQwW9vCH4BS09UWrQKJJQcM0JvT0b62Ee8vUI7opBUAbdVRQCzG9F2fOtW4aEd6ArLSlA7AAxGR2f4ZkeG+EwAUv7pd/RiRgZsA50REpObWw8m5JTkNcFVkssuGSH0pQIOIyDM92iudImcAREREECncCtAmIo/0ADdEyn8DCtjmAVJg7KUHwAGGQBGVfcHIFy0AsyLNZgAqRN6rNzQBQdgzAFgA7zwAJsjLBdo7G4GgxvDKSAAb+BIAcAPrQPuTBgDTjFwDsIqs3gXgooikb2q2W3oAHCLiB1BqRX4aN+IgXtMF0AmMAdy7DOHHNwFDTANU3IG5fCi/BFAUiGMbFFZIBfBcb6nz7vWFZG56nafHUIhFp7rht877frrHQ0Ij1+oAiJ4BhRXiVSDU9dEPVJFyftAOcMjYV5+rEIxFBZb1gUWJ3bcEUHvWUd3aEcQCUWkAWPILkgASyw6XAZREZEW4Pih4IdsOYMmcKvUtejx6CzsBjKAfcStMghcgKVm3LcvsHLX5v9ITqCJxu1uhn8W3AK43xRNRqdOyxTMx3RwA8lxmhWHfc3WKLfkjhjjXnNlm9fQGAE1OigIXXKr73miLdHRrTv4Y6loHcMoLa5pJIezdcoBfixkaBcvnCdUe1DgpNLA7bqOx8fyt5I31+5c0Bo1XF6MNXhzUCJAwFTjXm8bVD6nJVnQ6rdbl95lX7Q7jqVnbN1leSjBlxE5bBwB+AeI/EwCYF2mpAAAAAElFTkSuQmCC'/>"
      ],
      "text/plain": [
       "<IPython.core.display.HTML object>"
      ]
     },
     "metadata": {},
     "output_type": "display_data"
    },
    {
     "data": {
      "text/html": [
       "<img src='data:image/png;base64,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'/>"
      ],
      "text/plain": [
       "<IPython.core.display.HTML object>"
      ]
     },
     "metadata": {},
     "output_type": "display_data"
    },
    {
     "name": "stdout",
     "output_type": "stream",
     "text": [
      "9\n"
     ]
    },
    {
     "data": {
      "text/html": [
       "<img src='data:image/png;base64,iVBORw0KGgoAAAANSUhEUgAAACAAAAAgCAAAAABWESUoAAADAUlEQVR4nD2R3WtbdRjHP+fkl5yctumSk6Sk65Z17eyg7Waca5yMTS8Gs07EMemcIjhx3gleKF4JToZX+wNkit4MEfFlMhDBtSqKIpurlol0HTbra7plbZLm9eSc83hx2j5XD9/vh4fn+T4aHeI2AKPZW3Iw2xNWe6g8c8+aja2FG3BEIa4D0GK9EVDGbO7MrwE9HPBwaQIthe16sKtYIqRrprWY+gwg6dBAAE/RAraXqmAdM/6Y9JYAQjSxU3mgpQMkS2UHXhssHBgOAGjv2HWoQWZwUpF26uUmKvr8l/9az/4GgNgj1zrTqWvUp9E6lNNwGEn0uR8CaBJbgxPz6i8Psx6NzOvdnYYDWrd5FuDoYao9pFfWah7UqVRQj1Zzq9LfGejPJu8nXk79/urc8Vz1ViNMp5XT9TXU+SvmtB1wTo7yxZW3teWDtwYePnn5e0/hNvBsAN5s4xuRpwDga5nqHQFARWI7dyTQIfsYB2HCB7bTVroOgFOtlvcPo8PAGHPgT+MBoUNdfuvZ1fUiwOr8qIjji0yKjH80yGb1oxON7XgLLm0oRUgflk1/qIWiAfuhsCGtwhIK6NFaK3iCQod8qX/W98NDcOlnC5Ch1grioajBXOpu3gce2Qvj+QXAcbdB00aBoyJOM+wDLwJ1SOX33BkHvCCAyOXr8nccYJ+ICLBzYyMjDhgiF7o3135BRPowzvQAkDlqoGgWEkvLm8DntXenaiOnqvlF9u26WVFNFGjEt4JheeqnfD534D8iCwPJ9t4bKGhyZPddj44KQGr37UGxb94nlP3W7VgE4B95/9TVyRPHAXi94K7KL0T8VF4ZQod1csFnMhcGAHg8rscYpgKghwAdBCcBmecAaIdp/uQJINhmmgGAGRm9ISI5AD6VDxi2yIJ6OhjtA7CW6hcXRK76L/xRXtq6KJTcCzrxbeFID+c/uQfAk5zeAmwJguKhCfOHTKF0qCtahDegi3S5CMQfUCgA8t25EHBR5Kz5sYjIV2MiEzPn3hvLGsCx/wEFkTqMbGymBwAAAABJRU5ErkJggg=='/>"
      ],
      "text/plain": [
       "<IPython.core.display.HTML object>"
      ]
     },
     "metadata": {},
     "output_type": "display_data"
    },
    {
     "data": {
      "text/html": [
       "<img src='data:image/png;base64,iVBORw0KGgoAAAANSUhEUgAAACAAAAAgCAIAAAD8GO2jAAAEW0lEQVR4nIVWUZLjuA4DSMpx+v4X2CO8G7w7bU3HsUViPyS7k+7ZWSXlUhyJFAGQFP/63/9FnKMASCJJEsB4vg8C86UgCBTGrtenABAk48f+V6N1mjstjo3kmPxxSCCBPzt4s37trKrLmfHngrcRIjAwovAdEwITK32NiWFVkcQ7hiO4VyNxmf5h/evNN0AuiMyMZqjfwHVtDKB+2J1Rk6iaxkkMZAZKgEgARRDvp75OM+KNnzLhBatY2SVdHJ/SwlxA6MRxwnfNzyACMOB3khAAVKqqaABh9nUGs+ngP0ecq95pECQYIVVWEjTjCN3MSNrl7eVsF+5zgimzb1okZEM8k0wJggoqXoamD04rf4rg8/NzWRZ3AyDR3d2899q25/58Hv3IzCqZ4bYu67q626nRE/Z3F+Tb79j3I6JFjOhAGulAHcfx2Lbee++9qtzp4YO8iY10Hv+3Mr04EIY8TkBQVb3ncfTe+77vx3FIas2zZ9U48Mg+g+q/IaoqCeSgcabocfTj6Nu2Px6P3rsZyKWqcApx0FhFfSXH15iB8nSAL94oVe+57/u2bdu2PR6PzHR3d8+eJY1lrwWVP9RKcqQIgBi1Zb6FqpSZvR/7fux7fz6fmdlay2yjEGOmEmY+f1k9sdKbv6j6KmNV1TMHsdl79sxeWelukkjQCFBCVUklFPnC8ewM3x2UTh+ZldNBnm85vqSRZvSRw1VVlaAGFlchIviN9Kgaq4tEVVbOMbgxI+DhzT3M3NyuslOZZqTZJPAE7HQweFJUTZCqKrNndSnJAchQl7m7W3MPoxEGFUqqEu2SzVVCQb6CFOPvkiBlHc/98evX4++/Px/b1rOqevZ6FMLi42O9r2uYjzrk4bShV14JKOLU8NCOoqSsqiqQpdz78/H8tT0/n/uBsqy+7wklxfv9fr/dm9nSDCbz4emljhEgXzJPgKL3o6rOSwDcbV1b5Y1g9tr3oRKVSillVVa6jMIkH4Bf2iFYo/WebMTR98kn6e6tNa0rRIj9wPPZjz2VRlJEnV8zo711QoIgJH3LuuiZGoWYJNlaczM3J2zb8rbt1VHJiPAYPZju7mERJmVmgcL5+fJ39WRKo+cZ4GZkIMLNJQrHuh6VqK5oS7SIZhEWznBGeO+SatZn4WyT74m2NA/3cT1wp8NJM1qWSrY/98rqhyKihUe4uxlJjUwWCZJivWBzTQQgbuutLe4Os9lwAANsaaW0bdn7UkZFeGseYWYElFmFrHn1G5gMHiGNa9kscfHx8bEsi5uRcHczg+iQ024L11vLI8MqWqz3tiwtwoiUUMpxoZGkIkj87kYZt9stZspgtHTVRNMdy9LyVj0qIm635XZb2uISeorSv3RkvQIV69rCbSa7qBrZTneXuLSsFYvQWqzrvbXmYVllEoBSVQmi2SwPw8oVB8n4uN8kQaUEgKwJaEQAtkdfV2ttWZZlua8eLhYIupsZq1hFWSUE1by7m1RXG/4Hl4t0z59FgO0AAAAASUVORK5CYII='/>"
      ],
      "text/plain": [
       "<IPython.core.display.HTML object>"
      ]
     },
     "metadata": {},
     "output_type": "display_data"
    },
    {
     "name": "stdout",
     "output_type": "stream",
     "text": [
      "4\n"
     ]
    },
    {
     "data": {
      "text/html": [
       "<img src='data:image/png;base64,iVBORw0KGgoAAAANSUhEUgAAACAAAAAgCAAAAABWESUoAAAC0UlEQVR4nF2QW0jTfxjGP/vtu03d9OfykHn4W2IzGxmd7PhvBEZ0E0ZFIER0IKKboIi6s7rsSugigk6gGVERgYy6KP5B9qejVNpJ3aKDbs6c6dqc23y72H5ZPjff9/s8D8/78lC9pWNURPyfRAIiIi0iIl/GRO63SsJ7cLcazBsI6Qx19q72hk7Np7M1bw+0PFkZGa18PP78YQxwlm87vrOQMtDPLwD9+mkNAJbPJgOXMRQD7MvIm3fUYMcEKP07f6C6D4C2xlsffJ/jJijdmdveB8te8BcE/vM9EIXF49w0+ba7qGmGAVgzb/SZYvWqRfVlvkP5boPOjhmTP3q5W0Nt2EDBZG9Pm0FvNYZo120fUB4T+dI4nbu+I/2GpWNLOQCeI2c8wL8zDhB5dXYdYM38T8ojYHtzHcDGY8wRkcB+UPVdPwFwUAK8k9cA7l3+GsDuuYCyqHTCg6Pq8MCnZz0AJBddtTLV79RBi8xFKyRXzXpS2dJmzuyrwMq3vsFAENTQRKG22Kx3FwfBmpcxRID33pzqp6AipuqYbf7UsBQCVfb0QW+AG7fLPn8HpaXik8nwRM4IgJ5MJ/i+lnOeIQAtZMtfm6UXTw0HgVnxtOH1PYxilfNHf9eCgrBf/MBPoyWduYYhTHhJ/GG4xDwOBA3DdlZNd2oFyCptFpGcDNUkIkYCJLIdFpte64TL0QxbDCNLX5pTaYNYyqoqlzXM5vFeIzQx0tnbPhL4+P8dgAoL1C0/Kzent15MXjoXE5GXQGMNM2B3N0VE5G1EJAhaNPqnaAKSS4tCQIkdAqAGS83Z/kQKzClAgHirZaDhAOOmfJKgfYu4Jp0poGE6J3G3H05svPK8HVSBbbBqODIOFb91t+TaY2PXaF74FFSVY6ooa2zC6dp6J4Rnha1onmnA8k8DPeCq17yoKClbneZwumprQuR76ipMjHXXwhIwux1efgESARewaXa8QgAAAABJRU5ErkJggg=='/>"
      ],
      "text/plain": [
       "<IPython.core.display.HTML object>"
      ]
     },
     "metadata": {},
     "output_type": "display_data"
    },
    {
     "data": {
      "text/html": [
       "<img src='data:image/png;base64,iVBORw0KGgoAAAANSUhEUgAAACAAAAAgCAIAAAD8GO2jAAAE7UlEQVR4nGVWQY7lOg4jJSXVdf8TzOav/v2mK5bIWdh53cAEKTzAhYgSZVLif/75FwxGkgRgQ/K0ZkaamZkRAQLdPTPqCboyaNqQxXBmZpHJqKgrmQEynATLBmDYAD4AkjQaqVszQ4NwzwEgbQdNbADathFB0rADNgHbAEpjEPAABGhbo+7Zobu7uyHD3hVYQ3pF0NjnDNSV5SxmBB0CABIkwJIM4vNoPOPV7p6Z6dVrLUuWZvXM2EMiIiBDBhyBUSKu687YUc9rAHW4MUDYHmOEGe13jZ7VkjzTq6cbHpIHYAQ4EnLWFcGozGSQBHdQ1KaOJEi9sG8GVvdaa0Yz08+abtokMwjZEuxMGPr6dUdkZmaSpHHaWgwSJPPlTQcPm2TPqLu7Z61WN4AkHdy80bYjKmxEREQe8g1btot4KwAIIIigz8WiDwwky5JF0IBFCxqT4L6DJs/Hti27eyzXaS55LilgQLBg2QZ8Tk5Tg++JoZ1C4qRiWufblrolqWxvbnbWMCzLbrttAYg4l942LCAYm02TBgLcrWupJViSerR6xi4AtnrWZrw14zEdEVkRE0hyyGBehaCl9kgDgxFX1X1X3skqRwy2vLFGv3+muzeAe1q2jLYGWzsR1z1QrJ+YyEoG0ey1+pFWZ+TXXb++f/36/opi3jciRQ4wxjP+7+/1/Kzy5vQw691qBwkEmJXXfdkwoLVMjNQaaUAiyMq6rroi65LRrRn1zBr1uAf19pi7DyEYDO5LzKy6v74A2ljdo/MMnPvD2DRVVUoz45npmbV69QeAOMZBkkjsfsIGrto676XMDFK2pN3wLemMrLwIdvd4uqe719OrZ7XqLQBxhECDeu2QEWRMK/OJCEb85VuneDBACl7d3Wv/raefR71cb9hdALbiwvy4N8DtABHB4IERuONaMz0TkNaz1npWr+fp52fWj6Y/QsPu6qngxD/qY8UJHwgyiAD0ZqBtjPb8fp7n+VlrPc96fqYfu1H2dj6+hZCg3uIBIJARyQgw9slb6LaE3fWZeZ71+3nWs55nPU/PA58mHwWfkP6bYHJTcdL9DL73n9vIELQwm63zqEe7guM/rwW+WgC02wLCOAb2AjAYwW2fWZlZ8rFhHtxti/4DsH+PbW0GCNo+bRzZJCJYV9p5X/d9X/d9XXVlplBfX18GopK5mBmc6b8APrUbe2hDsDEzs1bPDGCSe6AAuO/7uq+6KqsiolDf399Z+axVtarWE9Ot/wegX5IJjvp5nrXWFhfJqy5BJO77zvvKqyIJKpPf39/XddV6NkBFzyu0t4O2DIMf1NW9nmembTNYV6EMIgL3dX/dd92VV8brBFkZlVmVWYGn11QEbMiWNXtoCTMtycaoe5atLN4s6UzWTF5139fX13VdV1Wl6RlR3OKHqRZwzM5/k2TvzUsGdMYaSGZGhAEyWMlr01OMZFbsNYEiBxKqVFcZf8zuqIc0CQaC+8pS+tjPmdwR75s4IgmQr8EYmZGZVQm/XnS8GtSeDiTN12U/Eo/jbMmMrNr+FBFB8jRRewMQ6SAzWNjW77/SP1tSENYHfssnyEQkM/KqqtcDd7XvOiFYhJImUeRn03qdKBAAQYNvfhFBBmOnnxEZ9a5ZkSZpwdbOPQkwnAnwzzX9A/DZLv86ITfpjIzMyNyXhe+CgXeZ83bO4J4d/B8CCGnW8LRUVwAAAABJRU5ErkJggg=='/>"
      ],
      "text/plain": [
       "<IPython.core.display.HTML object>"
      ]
     },
     "metadata": {},
     "output_type": "display_data"
    },
    {
     "name": "stdout",
     "output_type": "stream",
     "text": [
      "3\n"
     ]
    },
    {
     "data": {
      "text/html": [
       "<img src='data:image/png;base64,iVBORw0KGgoAAAANSUhEUgAAACAAAAAgCAAAAABWESUoAAAC/UlEQVR4nDXRSWzUdRjG8c/8Oy1dpquUApV2pCy1xWqBNkjQg4KBIAlGRSIYlxgFE2+SwMFEMYSIB06KJJ5EOSCEuASXVCgxRMQlbLEUKwhNaEvTlqG00G1+HqZ9T0+e9zk8+T4xRBVdLEz11r5xZ11sx+yBQ1acMnXx7Nyy7EHEyuKre/Z8vryrcUNfxylWrF5ycXAnihML6+9H7dKVl19Hsi188za6Qhg+gygV2m/OJT8vVM8/jJH5bl3HTPKaZhIZMlReVzijpLriwi3kj1k2C/voFCeisK60Y7C0Iqd5OlSnzY/w1ofmKCDSvOXpolGFc+9WzoKyESZgO7qIJxuK8wbpr4weVDDEP6MkQaq45TbR0poH7mujp/zhAmmcS7EIjNmGaE7NRPcxBsrrSUMnj6/B89O/PktTPPtqrA2x/BmMQOuTitaXLEi+4iusiTfE8n5BSV3CaXCD776vaqzkPJVN8c0Z5OMJKkG5nz7+oSR3JHfRoxe88NDUJukQDk7KEA6wIxzH/hCiSTfG1kk5rKo4q9YtTLvdG3k37M4gSU0G9ppRX1fjCxxa/wQhXMMfIWQRg42hf+vG1MVMH1EzJ0gk/FtP6y58K3dlU9gHvTgawgo+Sw/sXuyR8CtcCd0toW6qft+lE+gP4fQzC18KAdpD6BibfM+Oyn5+EYG6qnlPZcw2ckYzsuEdAWxu7X/P8k9DiKP6t3DlHio2HQl3Xc9EV107GZuzJcMlqyUMp7Hz8Pmhv6aquBReTq5rD82w504I6B2/2P7RFEkHbEv2tVkF3ZHbmD5xcv8n0cE3N70Pu/6uiXe2WgupvJF+Clw5efqqEELYDs+FdYm16QAbQssxyjs+KM/lSAgh1KEhvFpadTPAsvDa1nk8kUT82YK+aT2XUWrJ8bl7r0L6aOqI2ntnBxAZOq57HAsU5OT1/AjD5xJ0ZmeXJGRFGtc4A7+7MZ4dW4DCx4q6mEgPj4UycV/yJ1QaKcovrc3pLWxcfKf+8n9ZPaNhLJr4Hyx+JzT3FXI1AAAAAElFTkSuQmCC'/>"
      ],
      "text/plain": [
       "<IPython.core.display.HTML object>"
      ]
     },
     "metadata": {},
     "output_type": "display_data"
    },
    {
     "data": {
      "text/html": [
       "<img src='data:image/png;base64,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'/>"
      ],
      "text/plain": [
       "<IPython.core.display.HTML object>"
      ]
     },
     "metadata": {},
     "output_type": "display_data"
    },
    {
     "name": "stdout",
     "output_type": "stream",
     "text": [
      "1\n"
     ]
    },
    {
     "data": {
      "text/html": [
       "<img src='data:image/png;base64,iVBORw0KGgoAAAANSUhEUgAAACAAAAAgCAAAAABWESUoAAACoElEQVR4nG3SX2jWdRTH8dd+e3Rjf9rcn5Zta5IhszmWoywa0i6GtZGGriDQuouYKF2GVAS1iIlgVFCB5RIKCgKVMvoHUt0IG4iYZKbbai2blpruzzM3Txe/52FdeG6+3885b77nwznfAjeLovXVDZc+oKJvVeamQPZbJR3IFrDjiUqt23c9DHojIiZ2g2Xw3jlx/tcTEfEq+DgiIobroRreOJuoW9mKCririRvHT7e/AI2wvM7JiIgYakb522dH9zz59JGIR1AFByY9+1FE7IPNX45OvI7dEb815tzuD2waeArsmZrph6aI6M0Bn0WGw4dTcS2GD8IYCnPA1I2EFR2pOJhdk17mGMoNrPRyhp13lHwDx2fqe4ZgKZEb2IXJZN32ltr2VNZ5fgs6uT6Ra1HZnNQUj525kKqMkp2NyjdyOpsDFmQmLh2tnkrVbLHON4/Wb+XdXL24hq6ue9rvTeU7ERHxR8RYfmnNP0Xm1tsebC7b1w99Zdtwu/mX8kDBUsl8yZaWpkerwCc/g99P5YHxSZlro991yU5DTVfd3I9/zjWM5uvmTjZljqisX20WWosmS78YXtn7TEPfGBRls4UlCfuH/Q2q1o0fGvx+/gHdn2+FrILJywm13eqgvCMZ3PFPHPiQNdVpi5hdSLivWhu0da4Yg7dQmTOxpCihkTPQvbZyLYxM05oDyioSMoxACw+lK2Lz4ylw5WrCLKegiHNgGYV3p8DILwnzTMFs+lfSuJoe2YVE24vcAscoh9Lrxl/ZmwLT2czX9ctzpo9NlbbVXKRniUMv5186L2Iq4n0wHDH+2nNDEfFYvl67qyBsu7jqr0+hZ7A2TZ9oywOrNxmosxj1X43MxL/9i4n1AwUVV/4HuH/DnRU/7F3UGzb+B4+u8UZ6qrbHAAAAAElFTkSuQmCC'/>"
      ],
      "text/plain": [
       "<IPython.core.display.HTML object>"
      ]
     },
     "metadata": {},
     "output_type": "display_data"
    },
    {
     "data": {
      "text/html": [
       "<img src='data:image/png;base64,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'/>"
      ],
      "text/plain": [
       "<IPython.core.display.HTML object>"
      ]
     },
     "metadata": {},
     "output_type": "display_data"
    },
    {
     "name": "stdout",
     "output_type": "stream",
     "text": [
      "8\n"
     ]
    },
    {
     "data": {
      "text/html": [
       "<img src='data:image/png;base64,iVBORw0KGgoAAAANSUhEUgAAACAAAAAgCAAAAABWESUoAAACuUlEQVR4nHWSWUiUYRSGn9/+nFFbdDJHHdSwRS0zKyttg7JVNCISbKOdBiSiIIoikkha78qosCjQgrCihQpRp7mwQqVFHM1xUpPMfSfc53QxM6VS5+o957zf+50NgIPL+K+pAHa3v4Gk17p41Rz20zKS4KkFSPSPnb/AES2Ngu53dRNKK6IAOBCHHm7/FKfVlA254KAKUN2OT1NIQgDUm78Y5Me8lPsFfkmr/vzAjMmsCV53WaRlmwaAPZnBTMkUubvptLKu1qp/+q2tx2IruaPsc5Wa05JqP2acBaiXrP0D3jvpPpe32r/9Ty+fzhs/v7wBoGa5N0h+YkyxqbVwOAlA2wcYIDr1HQDhEX6uZ8uLokAkBTCJXPnH1Ey/npnFAsQ0i90RugDAltkO77qI7ALIFjkLXA3BDBAqIvIQSN8znAyAiACd4gFuwFIABTy/5hp7AEjnCnD5eK9DOUTkQdpu0PnDVskF3Cv3jypO2i8ao1xYQoGPHWfmrrynBVEAGjsqfawn2xwEFECAKlsCFBOdQuzzZhFb9ChNEYlzQOv354fDG0Xk6Yj8+bxGa7ITP8o4NYdd3dLZ0PhkKgC+6TWZ/5hi/EuRdAgUEZHtwN4VbDj2QlQXIV+xrNcb6gHKujXAg34ijwaijBDZvGCw+uvCuArrwCvYeLI1+7Ers3ZxoAPse5sl0v+h4EiR8yRtsQrAteqGkmrn+gSADNW7ylQAzqPUtzRtCA9O++jcyShTAW5WaoJ0hpmVv8a25mZ3EAqga7LGL6JkTH5RQF+LAoFhO4q6Jg56vTFovXQzDpW/t/SOGw6aUFdbHNtX666afCMh5n1h7ZAxcsDQ7qWbXqcuWVqvtNaX6Lr69YPKCdvs5lt49AJ6X4+65iSlXKbN/awZ39lUtf97jeeoot3UAVAUu8t/WJoz6TfPNzBifiHZ2AAAAABJRU5ErkJggg=='/>"
      ],
      "text/plain": [
       "<IPython.core.display.HTML object>"
      ]
     },
     "metadata": {},
     "output_type": "display_data"
    },
    {
     "data": {
      "text/html": [
       "<img src='data:image/png;base64,iVBORw0KGgoAAAANSUhEUgAAACAAAAAgCAIAAAD8GO2jAAAHZ0lEQVR4nC2WaY4c1xGEI5f3aunuGQ4li4Rk+78N+Co+h0/i2wm+gA0Y3iQOZzi9VFXXWzLTP8gbBCICER/99S9/JuJgJdZpfjSguwWotUYikrj1XnoJclVNquSwVgmRs4qwu6mQOVp3sw6ASIqhtmDEOKoqURA7QACBGCyBYDIOIiZiVmRlCFRVVUfV6E2IkgoRhRsLR8A8ajdzd4ftLdgElJMqOYFBIBAFBxAIIlEFSDjPEwlTYlIWESYkYrgRBYMowrtpTsISxBbUzbr5Mai1bq0xhQIggIkcCI4AglhFnIlUZRglacoJjG7mZsWDwBThZhRgZpiAkqhmSQniQSCupZT97lY1mIMlgCAEURABHMoUzJokDZIVot1sve/7fav3xkEACTCOaZ7Hvndik6SaQiQza04J8N733qEGApMDYPaveRCzMILBWloXEMi3Ui/n6+16++W/nxjCLGPK758enp4ejofscNQq2lIako6X83a7ruu6AKbT48kAA5FomiYDMyjA4VzN631N41h7P5+vz8/Pz88vz798MaMh5WkcPy7FnFJ6Spl673strJWiPv/vy6dPL9u2HA+jyjQiQERO0kEszKy9U7XWWhBJaV5rW9bl7Xx+e7s2A4Xc797KjnjTnE6P09NwGKeplLqs+7Je//6Pf3/+9Nqtfff+ndZuQdwBJ3OrIkoUraOUXpsFsSMiopt3c03px58+CuXbZel7s+69m5uDwMy998v5+vJyff1yPl9vcB9y1t67kzioOd1r8aAIMovucCdNGQQWSZIP80wkv//d79zk+ZeX9bJE9HmeiMjM932/nG+vL+cvzwuZKucWrXvo/b4j2MENtDdvFr312qw1d4/xcMg5D9M0z/OHDx9bq6C+rrd1u5ayT9OYU2Ii776X++vr5fxl2dY6jNPsXuueh1HZ4eEBUk0ff/PUPEptt3Vbr9u97HXfk0h00yyHw9Sq/Prp08vny/m8RIvTaZ7GaRpnuF3flpfPb9tWRXMaxtSbe2e4wpFzBqU0HebTiTkZ4n1t1+vt7e3tfi8cHla3peVxuF6ub6+v27K1vSSZj4fjfDzM8/Hz66///Nd/Pv36eR7ff//+Q2l1c/dev7y+KUDMwqI5iygRAR7KSEpZpSs7vLXeWuvdzWIYBp+obubNrtfb29tlGmW5baU0N1j3Wmot97rfrZXwphYe36aIhkE8vNaOaMxBQiQS3Uqte22lrOM4/fThp+1UWsVyWdd1WdZlXZJ5H8dhmkbrdrmew63VQox5mtUc5oCHhydBixAJVmIW1eRe9r0ty76Ver0sj4/xpz/8cbkt1/NWturevRYgTqcD//bHx4en+9p7o7cvbyyUcj6eBh2GUZMSMYDeKzGLUM6pW6RdRTVQzL0VK3tbaXn5/LIuW9nvTJjHPI46DGk+jPM8DsP4Jrflsjcr5i5EEa7H40E0hSOpWuspZZbETK15EknKRABRwIlj3W5/+/lnN9/3QiTHw+M4ZOIQJRCDeinb7Xa5Lpd7WXtQN9FjHsAc4PAoyy5HHVRJSLWPQ85ZD/No3cN7+Lgty+vL52kcp2l+enr34cMPD4+HCFuXW+t929Zlu5xvLx67R22dUs5KdXcwwBZRo1OwdZigd2fhx9NRmBFB8Jz4cR7qw/Hp3buHx4fT6TRO2a2t283czK3WKow86GM6HR9GFT4cRq3Xi4MB6sQNVEuP20JJSRUiOevsQ2stos+j6tPjh+9/OBxmTcnJ674va3G3iBCR4/GY8/Dw8MhJmHlMkqekvtwc7MTGbCK1cGdCSmnInLIREDSo+DC4WhY9zoMmdjSzBjZJYCHv7h5EBAIrnw7TOA3DlIecFKUQmIhIRdPk8AB5tN4ivPcIZgVkGgZECOi+3zN6wM2bmdVaWChRImbVFEF5bO9O8zgnMMK66leDwwOsSqSiLBYo1lupRtysUuiY55QHYTocR01ibq2jUSThlGZmFU05DR7RaulRm/Ve9n3b1HpzcrBAQIlZmJgoCEwiuG17LdVqFN1yzprS8fEjOAQUwjCGptu2hcMR5tHdeu/bvoKCwtxMm/dgBCgAVYUQESeWRBwhTLKyrLaW++2+BoTX/UrCQhRu1rq3vqybI5wQAScEMI4jMxMjkSg0gSVUQ6WHhzPJ12ViEKnKmDWmLMLucIpPL7+CwQEGwiwsEAQGibCqqoB4ng9JBRQSoabiLFABc4THN4AxBIKgQq7Sk7pb6x7h371/FxTuFt9uj8wNAAlDhISJJGdRFhAkQsd3j8HMokhCo0bAiYgQEREe3kQwTXkY1CMCFAnNrPfmvbs7OUUEEQXBQAAiKKkyEQeYWcd3p2AWEWJxMnfv7mYeHhEYkwSxOwJfux4uYAaRBQtTYlXrDkQEHBQRESwQhhCRANrZ3d3g0WurBQQA5vBwc2cmsAIUCHPrbq7i4XALuIdFd7Nv6BwgAOTIOVMwIphIm1dEtEZhtu87M6sKgiI8wpqBpbMKAEIAFvYNThHo4TBzB0BE/FU1IXJiOHkPJvo/8yRv5eeuu9IAAAAASUVORK5CYII='/>"
      ],
      "text/plain": [
       "<IPython.core.display.HTML object>"
      ]
     },
     "metadata": {},
     "output_type": "display_data"
    },
    {
     "name": "stdout",
     "output_type": "stream",
     "text": [
      "3\n"
     ]
    },
    {
     "data": {
      "text/html": [
       "<img src='data:image/png;base64,iVBORw0KGgoAAAANSUhEUgAAACAAAAAgCAAAAABWESUoAAACgklEQVR4nH2S20vTYRjHP04329TMeZzz7DRxWZrDNAPJzMhFBwgkuqxujC666iaQQOhKIQihPyCoCCELxMoMKQcpiqAmeXY60OFhHjZ+/mZPFzu4bvxeve/zft6H7/t9XgiqwsLRMoQWJ4pzIuua4LE1LVQpr8qPBGICWNVN5aD2T3+Rfa/1O/Dh+vBV7enWmvUcb5C79rJLFREReQogIqO9IiKGYAdGcP1oD1gAkoB3MzMtEGqA2UK2Rzo+7m5eBBgWsWc1eKQn5MFk0y067xsc1unpfoC+3NWcyb1PBWMhYGMzUaO3JBkvmAP7nJQU2/REb0N0CFB+p8bEJDduFadv631ALqR51pais0IAhtx5daS8KoFdH4APLo3Ge/cawkGp/mxvX/ckLAEwMY/+SU1aYlwYSFYU1r4NerwbAU+fQVerroeThKzdxdTK5kSqAXTnTMDAuCYvnHi+HczPRGTdDJT6ReRXAQmPw0BmnRH4KuJKBTJdsv+6DigMexC/CWxZMO4GXPNofzqAbdA8vwwQVVJ6Q4ZOsusAYBOUA8ACmhkVYN+96uwE4s9nA4yB+wBYAawJANb6UsjrEVGvANiXHaeC7jQzOwATU25YWYC5OYD042UWgCLQKAFw3w3N1TA3C1CcEFdpger68CtQ4V5bOfj/ApjB56HsQdshsA1rCmBKAtDChpt9n/cQ0IFeD5ytAYiGWNCyfDgLBWwq4FwAMEH7sYE7DyOGBaSkAENOgESIbjI2cQgYb62TGYd3ZWkHwAeU+AqhcDZ4+5Ei8uatiEgLwBcR76sXInI39KvrdfDeW1EEHZ1A96BOutSSRrSQEUukzmTwv6Juby1PcYT+Aer07xI2gESdAAAAAElFTkSuQmCC'/>"
      ],
      "text/plain": [
       "<IPython.core.display.HTML object>"
      ]
     },
     "metadata": {},
     "output_type": "display_data"
    },
    {
     "data": {
      "text/html": [
       "<img src='data:image/png;base64,iVBORw0KGgoAAAANSUhEUgAAACAAAAAgCAIAAAD8GO2jAAAE70lEQVR4nFVW7ZLkxg0DQGpvHZ/jN0pV8v6P4/h2pCbgHy3t3qmmpjStEb8AguR//vdfgKRKR/fbcXw7jrc+Dh0HpLGdhAwAgBRAOASIr8tjzwD+PAkDGkjfBxREcF8Cte8BBAhuBwAJUtoOkiBOsp8QArJfAUEWiSYJiBQpipRYUndVRyLJBBSfwPDlbN8V4SRMiPBxkOdfnQQIdhgkJFX1UXUc6uO3o0J5hxSs5Y+Pj7/+/9e6rqL++P7H9++/v79/S+a6LsICKAVZM3//+Ps8z12iJEkQECRFqdTd397ef3tX9TgAbZzndV7X63V+/PjR1d//+PP9X7//+e/v8bxeH4glSnJ8XufH+Rq7b9z4hdmueBIkZFHFBCDgDQGh+1wCGRASS8mufpJMMvbMNPArIwhwnzCAEwQJkoyzZtZaa2bNkJqx7fFIYBUCJhsH30VBh9ssHx4WJUo7pZkVMJGDmbnO6zyv13md50I4MzOzZh3qqoqRTJId1iZO/8Q+kJuUmwgiNqsUiom5OUUbfgADCQoSd54TZ92Eoaq6fyqNNt644QZBoaQCFMeMWLyjuMuIzW/WHRgcICQoqljdhB7rArTjIe+fCQFKCsEBoJjJLkMSIbqjpRgkjicIJFXvDPSAnE+UAe5IN1K7xbeXm2nB7h87M0GoagD0enioUKD6k598LnydPMa+Hm9uAd6FRIIZJ5CUaKe4QXJgsB/pYB6+7ng3WUWWqrspATr6rfut++jD3UdVl0oshHZmvJavmWvNVknnU+x+Ks7TbwEgsqSuUjXh23p3ralqSSpJneC61lrXdV3nuZbX7jI7/VPlHfpB4hbTzXQnegSTvJt8N6CN2Ndahtc6z+s8r2vNSrLbsFUMvurzlQ5BsqqqSiKC2DfmW8Ztjz1OMp7ltdZas9Za3vWxbXcflcAgxVtHkB1/Fd/f397ev6kOO/bYK5it4r6LYJCA7WXPHUOCxDMz03n0GjHiW7pvmmdrAVjbqUrdVbWnyLax1iwhsGHD+92NsG237YBBeEvOVradYq7rguqNkkqFqiq1JInZRZg1c+1pwZuEzwRwcjsIgFihObNmlj3OOJOdVgwUgMTequq1RxqFIkvaQ6Wr3F32jK/SlNr2p7xxq29mZ5cMGd0TOoARJ8u+kkVKShW7VaVniOjIYVuc7p6dAZ5W3bKfTOJ9w4oaKpATTPZ3jGRTtorHW0vMZYQoieVwzLUOOJ08u0ZuCu3ibQe34iB7ZdE9s9Utka17dkise6OgKAckSiyxn87Kr59HS75OttKySn10dWkPJyIxsGHnhmVvFBJJ9Ja0W3+eXLBNP43hmMB47IGHSN27wRZdb5IV4WEQoEbzkhbZP1v9pZMBYe9VY0/ga62ZyxnEYLbtZOwFi9qSzk+ydlFEi1uOQ0V71kjSzp7jueYyGWNdM2vZg5gwgXh5nXPWAqpqg19U7qqghM8MsudZ8eZ1lUSu60yANxKCXWRLXWqRQMbrul4vxS4VYhKpVhVyz4TW03pMKilEiO7e81wzZQz39BbS0tG1qjHJzPVxYma6q7YDHsfR3QB8razpLm3pBCnEs67XR+zXxwerJVH1US9CAJxc12Ly1hXG1/Vhv3QrCREyUm2+rGvNmt6bMrEzSTxznTMGKNXx/k6V/doam73T2i0FiX2tCaIN3DOtfybLPx0lcMyy6vjKAAAAAElFTkSuQmCC'/>"
      ],
      "text/plain": [
       "<IPython.core.display.HTML object>"
      ]
     },
     "metadata": {},
     "output_type": "display_data"
    },
    {
     "name": "stdout",
     "output_type": "stream",
     "text": [
      "1\n"
     ]
    },
    {
     "data": {
      "text/html": [
       "<img src='data:image/png;base64,iVBORw0KGgoAAAANSUhEUgAAACAAAAAgCAAAAABWESUoAAACsklEQVR4nJWTXUiTcRTGf///3vm2zblNU+dyokhp6qRQiZIKkSgoMjCILrqOsq5CocIoCIo+wQiqOyO76SIsorpIsrQikElaGllKOtfmcm7qPlzz7aKVeFP03B3Oec5zzsM5gN3Cb2x04SxnGcTH4AZ6esNDNWvjxgzTmgxGHgQShpLpiemQGkxP8wngjLMzzXgl0zcuLuhccv7g6KdA1OPzJj1mVVUEwNXn+spWHtx6PwaQJxttP6L9k2MFBmUhLADqhusPWT9de/ZH+Jgzej5EWURkhBSAitoaWXx/Kc+RxCk9fABQAKptEU1dADguZ9uAWKk5osYBUPInyPFGdRG6gCfbQX8Zzt1seDmM0JCLyshr+9TblQVTvT2AI9XzdovJBFqaatHk6PBgsjIeztcAxoFMgAm7DgzrHVkOZW1TTUGkQ703D9Bdq5jsAJ703a6u74MLIlvh+s5N5nyHzgugqjoWAYy55b65MOCX8OhkX9E2ZgD00VlsAAMWfdgKkJAAb0o3EgUIW0wMA4zNWKv9AEiAtCpBH0Ao4CcPIJgTdId+FewCBpxQBOD15FIGYJZZUlBYlpcjG1PuZgMoWpI4gE2JFEvGv3r1sipVUAigOgzkA0jfnHsVyQQe6QJwgxPAqkAA4HX/ZxmEeGpInn6FA8CLru5FN0DOHq97dmkLxgqgDRiKbZHFAO1YZyAzV0jlLEAdkcHHAPWCagA774KIadBkK3BpHx2vsgFuQCcA2jdMRiO6Xwp3NU/DxfFsAEoAiD3calX5fVGGkhOvui37TzcBfAQ4HHDWxBLfTSsUKYH2dYq5ZYOn9qBIebKXO4EFf5LZaCIq2NG8OdL9paIn4Vod6+icxHm0GX97lj85EiJdFSKmpmiEll6QpA5NjKrpRik0/g6xLLIJbeZfjP/GT3Z68H4urMNkAAAAAElFTkSuQmCC'/>"
      ],
      "text/plain": [
       "<IPython.core.display.HTML object>"
      ]
     },
     "metadata": {},
     "output_type": "display_data"
    },
    {
     "data": {
      "text/html": [
       "<img src='data:image/png;base64,iVBORw0KGgoAAAANSUhEUgAAACAAAAAgCAIAAAD8GO2jAAAFjUlEQVR4nFVWQZIkuQ0DQCozq3rC+w3f/AD//ysbPm/MdFeVRMIHVY/XGbomRQEgQP77X/+MwTFC0uqyW8RQnEfMuWaXBgeHkLDRhhAkYIFBSTJWdRlqC1B12wAAWHB+3M9WH0MjsztIUpYp4TiybbvQZIOUFAQBGBWUBImM0QwYNm0YsgkQAIz8+fUL7Jm8nefIAEWSZEQAdFW3Xb1eky2SgkQdY0C0YQNtEIZt07C/a4MA8+vxaVcIdI8fHyREhUSq21X1eq2e9fnzC01RhEJ5v90zNI5kiqTIhgnQIN/tG6CRFFHAdy+kRaai272qXvV6vuZzPZ8vtQgBkqqqr+MAbkFRJMjGRp4ETQCmCaRsE0ElmIyISAkmjLX68/Pr6+tzrUIjIyHZ7Fe9+gVDmcd1BtxVgIgGiLZRGyRDGaK860YEU5TZMOyumnPOubrx4+N+nTciYD6+nq/nXNVzVVVn0jYAUgBsAwZAAe78x/0D7ow4RyQY1r66u2uuNbsbkq6P+/26yIAF8jnn9NJ8PuYReUQIRqMJQuSbYBPMj+sGOCNSEEkKNMq9as01X7OqpFAQQWy5BByuVz3m83idxylJwFa/CVgU9h1IGd4ahoKibZM2ml2ocpUyBYgkYJMMgJhVhGetavceLJAA3k3S+wWPx2uMDBoCjK62JSbBmoCDluJ0yW3IYEuWuFXY5W6WnREhcZPRACADRH4+5tloD8MIBwQEHO62BQswGYYMEUVsDg2wW90wDPwGdxMMAoIM56/nfC1fxW7qoCIg9Z7KfdobAhqbvT3qsNtdVe4mxDdG3CgSgA0jV/fquSyAh5RBkTCAAtpbdAYskyAI2A3CtLuql91vkUrdvYnYn0ghvFyver1qLaNJE737dht+KxsNmDBhifoWlLsNaBf9dlFyHwLIOLCARr9qzi6I+wcGFciUl8H3rxIjtZYVCgUDkbmdQt8ltzVtXwIgJahtie5NnwBZgUhKoEz6/ytQlPjdqfS+Q28nfns1QDJHxEu9CtXdsGUKhMOMIQ3SIBxESBIiqJAkhWyH3mU3SpLQBr55BjLzIAq2DaON3p0EFSEFSQQRoiTJ7/Z33AQk8S0sUYJtgkDbARJIKRUJLGnDZlEKSb6u6+vxms81XeXl1s4WutmtPdSKEWOMwbdNk0EYhL0voCJz1MA5djAjMyXCuN9uv349fvHRvdxLPkIjhFKFGCKQ13m73e7HILZYAfobHQNAuhCMkTiv8zzPY4zIIFyr4I5ABGFXlyLP41R4zVKEBEnXbRxnUg1rDwnfjrfnwelWKjXiuq7b/TzOI1MuWz1GXtdxux9zVs2ec80VbK9aqybVOZCDSijk3kkv75n0+xWJBhkjeR3HcYwxRgjllZRC1zpvr2fGqtWfX4+5ZiTnfAJ9XMftOscZClAUBTS9E/J/Qk2RkXmM43Zd1zEI2BYNUeTH/XL31+P5118/53wCuQrdS9J1nR8f9/v9yAxpry1Nv9Pt95cft/tx5nVdH/fzOsJdREdGw4YlkRrHObthbCnmOGLE/bxutyszISiIdjfAvR7xHTdw/rhfx5veIC0BMCnWaoOI81SOM88x56xVFCLiOPN2XePIqnL77bci+u/tG0D+8ccf44iI4DvwGqAMheguQ6Ez4sBRtboLoE0CkWO7g9HEln5vuzbfigWQxxgS3F29uTfghnOvCF1Nkw3XEYkxunutWtXztToUKTG29b8lCv5Nq8j//Pmn471xgA3YLhquZZsUQwKOYxhoVLvLaBsQbLr1/RCDpKrrzQYNMH/++tkRJAy3l22w1XQ73gYJkY/Hw3a5F3bE+S2Ydioi4ts+VS67d3TATPMdqg2Xge00hrR9VduhV1cb1S5g7T23DW800fyNeRuAgL0ZU/8F1y7ehoMBG5UAAAAASUVORK5CYII='/>"
      ],
      "text/plain": [
       "<IPython.core.display.HTML object>"
      ]
     },
     "metadata": {},
     "output_type": "display_data"
    },
    {
     "name": "stdout",
     "output_type": "stream",
     "text": [
      "0\n"
     ]
    },
    {
     "data": {
      "text/html": [
       "<img src='data:image/png;base64,iVBORw0KGgoAAAANSUhEUgAAACAAAAAgCAAAAABWESUoAAACBklEQVR4nH2TT0jTYRjHP793c2tbNpbaalOTYdM2SLBFFNIfkZJKCdo18NQ9iI7RIehgt84dOtSlCCEKQahOnWrIEkHQQUqDXNnUtrXN7enw/v7sMr+n58/n932f5335GbRR2N/fFVCG32gHAAQ7jke4vh9B95ghs/ft9NbdXKOQXfjpALE4ItNmcu2JiIjsPYw6QF8akdMAPNoTS/W39+wpkkgOgMtmc/61iIg8dkzkPQCvRORpejwJd0REqsMAGIA8B+C7yMaE/uSFiNTTloHiNwA+yGR0aXYVKgMOoJfy0lza0qXFNegcdoA6wJlD1L5atQyQMmND4Qc4B9WsBXwuwcik7eAD6IZfqxaQ2wQumEsqmgBlbazlCwFR22EXIAHfbKC0DVIDIBBRlAF6oGED/3b1FQGCWwcNsBej4w/o5Sg3zBmWIWADA3Egb86jUADrrUeEw8CajgOKg+YW/TZwElj/oeOK4hhAFc4+MPveSaC4qJOiIgzwDkic0rXUEeDjjk6aigpAcYXigV5dGwvC0px1nmIDgGzN0zcCQGy6k/zCJwtw64vC8HhGR2/MFY7Gzichbz/cYWQegJvSqpcuC4gichuAmZ0WYMLqe08g8uaKThIfRERWnl3FUe+UG0IXv2wBLI+nLmWLm4VSC9BoGoOVv9u0kSsYH9rn73aFhiJdPf8BczXPaA0m4WQAAAAASUVORK5CYII='/>"
      ],
      "text/plain": [
       "<IPython.core.display.HTML object>"
      ]
     },
     "metadata": {},
     "output_type": "display_data"
    },
    {
     "data": {
      "text/html": [
       "<img src='data:image/png;base64,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'/>"
      ],
      "text/plain": [
       "<IPython.core.display.HTML object>"
      ]
     },
     "metadata": {},
     "output_type": "display_data"
    },
    {
     "name": "stdout",
     "output_type": "stream",
     "text": [
      "0\n"
     ]
    },
    {
     "data": {
      "text/html": [
       "<img src='data:image/png;base64,iVBORw0KGgoAAAANSUhEUgAAACAAAAAgCAAAAABWESUoAAACnklEQVR4nKWQTUiUYRSFn/n41HEmzSYzdUzCcpzSJjO1xAwtxCyCCKxFtWxVECVEK8tFixbVohaCkYG0CAqENK1ACrHMshDJrAH/aZjxJ6eccX50botvvsFq2dm8933Pec+598L/wvDvk81h2+5s1G9q9Fy7r9w4+WIYUuqO7zdBsO2gsacfMLyTWdeCwVhSCtA5Ztq5S/vRt5fOk78A+Ru+zyPR6rVtVYSO0NNHQ+sr6ooATNOA2piRv8Li+j3Mjvb3fPDOAfROnakBFv2A2pLpSF/5Fjplz3J3dOk+vdUACoAyMTj2earvTfN8ytG4WJBsBVjWVMkZu/OyZ8MqlMQE1jWA5yeAmmHPWStZjkwv5MYEJbJsCAZDAKorWJ4YCqYWJyw423S+6oBDwRTv1DY5P+xLlg2Z8Ze6XFE+sa5IAdRItNNwYtKVhoS7LTrPUnDKA3BCE8Qpc+a09J5nq7b1+Ml78JNXCag2e0kg0D1zE7MvJujFegQTFL4C9XCSGL+GHoMPcqufuAFwmwGwAGqte9w5MLEIkHashkdzABZt4jxAtVq8Cy7N/dxlo/97G4C5FIB4QMm3Lkd8AuC4YKQsBYDNWsQioKxEQjNBLTEMCb8AaPcDhLsBlsZvbYw23yByX9HKJpGh7vZswDA53tyqjxdX/DZamZusH72R64AyOrUcmz+s8/j6xr4GVADF88Ofwj+wWo2W7IIcQB32Ze2fV0Y8f/AFRZHpzE3ZW0ZBfbt5W/WOnECrK9zxSefP58UbTEkV66pegupcslUlYzz70108+PpNAICIt6gWYG/iEkDhFxERiYgM1msONRc7RERkIDlq+VDk3gMREbkGQG7VDRHxjFTqmalXb9tPi4jIUBlAnP3Qj/DzO/UAvwHS0hbkGFxNXwAAAABJRU5ErkJggg=='/>"
      ],
      "text/plain": [
       "<IPython.core.display.HTML object>"
      ]
     },
     "metadata": {},
     "output_type": "display_data"
    },
    {
     "data": {
      "text/html": [
       "<img src='data:image/png;base64,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'/>"
      ],
      "text/plain": [
       "<IPython.core.display.HTML object>"
      ]
     },
     "metadata": {},
     "output_type": "display_data"
    },
    {
     "name": "stdout",
     "output_type": "stream",
     "text": [
      "4\n"
     ]
    },
    {
     "data": {
      "text/html": [
       "<img src='data:image/png;base64,iVBORw0KGgoAAAANSUhEUgAAACAAAAAgCAAAAABWESUoAAADD0lEQVR4nF2TXUxbZRjHfz19D5Ry2p7KKfQLVtIthUwQGcnC1BHJ2FR2s8TEGBO50MQrYmZmwp3xRr0wGVHv5o1eaDThahHqkolZWIQ4O+bGPsjaHSkUSsZHKawtlL5enGKC79U/7/NP/s/7e5/HBgC+rsay3KmoYuGjt+H6z4v1fm+92KakCQCc0Q7Nub5Q68l1twBLhj0afZq1q/a8tAG82Ham31hauJZWtT79TnbGfuFsTE7+WFPnzhkC8LfHTkeIPUw/3DzpSY0AXRGB0VGoz5imDQhEwn1tSuGrX4FXpiRAz/BgYX47EZ/BitAafTVLYwCibHXNyOALqW+/ARs4pKo+p2+bJQ6fseWPCyCgof5ZSe7l/18nvlEABIR0cyt01KisANDfWvxt2WIzAyDwOiLC1+mXx78GYOhdGH9rG/Tzd/8GBBstzXi8R7zL7i3ACANvTF5ZVod7h69aEbZg4FE0oGmhLeDpRD/Q0wMwEP/0DwSkgjLjbmjZ9wLwpXF2R8k8czeegoHVP8sCbuY9Ct6YzFUBjADgeu8ySqiMAnpL0OFrs92aO/TI/PUncOw1BHWf92XunmtfuQpA7RfypxkAdlpBu/CyQvhIq+ZqwmUxPtp98UofAAHgid4mWJjOzWadZxZ1AOb+Ot0xOjwFNEH6tlIRlG6kRTY1W/JY2TnoGpgCVmE+XTEEJO37TeqxiGKR9AOdAFNwY3zPJ2DDtru2C71KBWg2gGYApjv/uVcUCuwV1ip2Da8bIJ0CVAA2nQE/ZQUa1u15VjbNTQB+B+4D0EjGBAGu2uL6/cjKtNXkxMXXE2MAJJ13rM9yKbtORzZ1s4pwdLQq7Imq4V4oWPRE6/T44YFyOW4fSG904LuMlO8cqjs+k98f6JqG9strUiZiwPuvVi/jUsre/+zdH85JKScvnf9Byk8cQGBcSimzH4C1m4maJj1Y3HD7JQydME3VfxJg/3lf0XYQOfimOfF43XfipUvwYDFxPNhelx279ktZVA3FR7fWpndJpxeHfIRn55Na+NRqMlnmX2ruHGxkfIMXAAAAAElFTkSuQmCC'/>"
      ],
      "text/plain": [
       "<IPython.core.display.HTML object>"
      ]
     },
     "metadata": {},
     "output_type": "display_data"
    },
    {
     "data": {
      "text/html": [
       "<img src='data:image/png;base64,iVBORw0KGgoAAAANSUhEUgAAACAAAAAgCAIAAAD8GO2jAAAGEklEQVR4nFVWy5LsOgpMHpJc1Y+4/7+ezazm2+Z2V9mygJyFq/vcIRwKL2xAQGYi//r3fwCIiKq6uWszc1UDUMXKqqjMrCoSJNz9tm1mFpmZSVJExERNVUVEAJAAQQoABwQARK5HRCCAAAQAkvXHQACZ81yqWZnFujIztcsvyesvEqwrgCjkuoKpuqqbmqgUWVXBWhmxsjJZgOha+dwPAEKYauveehOqFAhWFUGSRVwJOUQgENHroYACkpmVGes8jznXGRFJiopW1Zyzqly1e9tu48q3nICQRTJZkbWyinTIKwIgyWKhSJIRsc61P4/n85jHjBUg1FpmPh7fEdGtbWPc5naea9y2PoaaAShWRMy15rky018tgFw9TFawKmut8zzm47l/fz2P44hzCaT1Hlnfj0es1b3FWhFrRWwRW2TrTc2yap7rOI7nvkeGQxSQ66zi1dWIPOd5HMfz+Xw8HscxI5aK9iwSIEWkqs61svJca57nPM/ttvUxsuo45uO5f31/r7WuKXqViGSRWRUZZ6x5nsecx3HMY0aGqgnEzM3dzIQiQERERF4jJoBIVh1z7vv+fO7nefo1mNfJf1pVVmVmZKxYkWHGYm+qo7UrAKsiV1aZu4gCQiCLERmZmZGV/urAFeNlAEAIIUVU8fr48qiqfYzRhqmQWGtFpap6a967uScpqqKq7kY6WYBCf7GGV9EgIEhWvkwgWUVSRc2tmYuIeSuWmrp7H8N7U/VMkBDRyPAqqpKXfwXq1Q9QSLnSj8i1kiXrjNXjYghCRLw5IHA3795H995bLzVvrfXRI9Or6gfcJAG+5pUEi5VckWvFeZ5pae4+W9t3UNzDzFVUTZNOhTV3oLnJNtRUTPM3QFUCIgQoKGGBxSpG5Iqc5zrnNDXTZnoAeq5UMVMTVWvWR7/lgIq31lprvUG1iMx0vToiqvJbfhUoCxk153o+j+fzWOscfUBMrYlaFbJi1ooMKG73rfDeer9XiYqaQYVgZnrzpmrXWUVWqkHVSFkr931+fT2/v3eSze9je397/2uMJkCc69iPr6/vueb7x10V7/f7xfwiMNXW3N1c/n8+BaI/w0SysnJlRkEFaq2Nbbu/vd1E5Hg+zxWReRyHu845V6yqqEriGhqIiPPF+QSrklWVVVV1KYmZeeutByBuTUTc/f39s3d/9JbM/37/vc89q9ZaFx4jFgC58oQ4qihgZgkvxfiZJ6iquffRVnSB9O5u2pu/vd23bRPBcRy9NQEyY87znHOd001IiOoVw6tKBCmlgkuOBFAVd23NxvBt9MoCZIzRexut38a4bVvF2vowVVadM45dn4/H/twvKRS9ig1nEUIKqfzVPBFRNfcLLy0zAPSmbqJKE5jA9CXDYGXEOec8jrnviktipAQA/ELXPwpDCEWhJmbiF3W6VpGsyDjXecxDBOc5MxcvYSRZzIi1lrteiKoiCcfLXu4BXpyk1y1MzVRVqzJZ6zz3/fn99Xes8ziOY98zloAmcsGomJGBYhXPyCr+bBUgwD/vQihFICrmIoqqjDWP4/n9ZaY6Wlvnejy+15xCullv7qZgXWq+VuzzzMw/NwD4EmeB8LWNuFtr7q5LQVbEue8PskztqnvEeY3D/bZto7ubCFgVa815rIirB6iiKkQp1wIjaN3H1m/37b7fM1NVWBhtqOpac12JRqhi2/rtvn18vH98vN/GBrIiRQASxd8AJSKkqoqYCkwgIGOtWKGqY4wqNnMWz3lGLjJVMbbemn98vH9+fry93bdtRATJiOy+hPDX5Lz0EqQoRFWlOYC8VyXd/TiOqmrqlXUc+5qrMgUw1zH6x+f75+fH7XZz97UWRC5BXCv8on5VXLqgShAKMXV14UYQ7j7GAOlqVXXOW6xgpQBu2kd/e397+3gbY5jaWktM1c2bR/w0+ZckMkvktXGKqJm31kiqKkkTEbK3xousADNtza/Fy1tT1QJb76OKlMz0l8bjBeOquhRR9fL2C2xlFSCiOnpTEXlRAlTFmv1KOEBVMbPWXFVfN/hZu18Nf9HhCxavAPWzcrm5u+EfwNSf3ylCAVQu2SHkfx33RdwnAS38AAAAAElFTkSuQmCC'/>"
      ],
      "text/plain": [
       "<IPython.core.display.HTML object>"
      ]
     },
     "metadata": {},
     "output_type": "display_data"
    },
    {
     "name": "stdout",
     "output_type": "stream",
     "text": [
      "6\n"
     ]
    },
    {
     "data": {
      "text/html": [
       "<img src='data:image/png;base64,iVBORw0KGgoAAAANSUhEUgAAACAAAAAgCAAAAABWESUoAAACwklEQVR4nFWSa0iUWRzGf+87l8bZbbJxjMxqMjGyC5W5ZPcLhJRJ0EKFXakvEbEI+6n6VLRQLeHCbsHCskWF3SiKCgu6YlHgZk6URuRMl6kZu5ml6cw79uyHd9Lp+XL+5znPnz/nd44BhoCyqoLY+bc9n0Z7ImErRUF3nHw++D99NkEAD6bPGqz/mvyr86xcn4epFgQLu5OpHCe2jPqmSPiHjo+R7btC99TT4oYnRXS4Dee1Z9GrN6Gw6+XHdZda8txBFs508Fss8cEKk0xZzvm8WXXr95fBhtk/z8wK1ce95u3AolFlrtIbTR3wNWEoHiLae6WzbN4cDm5IDxz5vLmx8WwEAB3fNGeQMezvF5L28E27Y/p1pF2OsJc/JVnlfYHsuPbn5znI7nNmSDpIvw7r0DCvF1efUSA1OAC81QCMV2j65MBAMNOBBNzpBYZ31dwMAo/aJ04M5LgDmFT+BeCGBMBhKJkE0GaMcAX8uNgolQMLpG1AjSRdAPiqyqG5HjCXQjGwA74AjQARAIM8b68bkPQYqiUNB0ZL0k6AVh3d4naBCdF4EcVAFAi/Bp4CRBm7MGkBlfkAk95JDoBq6ZQHoFZWCF8/mFVtWg7AkiG2USc9JFNS+3f7ToULoR8Uj8muyAw4SeQAmD+2agJAPWyxj7IAGEBXpweAbmkjME/SFGDZufBWe+SR9HesSV5cDNAm1ZZPOCap3g6cAPu5SwHYLNXBLknvAZbpVYUJGFBa6QNoluxGTQaI6S6GA8Nkr1Rh37sOoEqXAIY0aC9OFxjOadAD4KcFoDZxGmD957v3SQ20yKLk2B9pUP/0Q/hFV1bOAH8GlzLpZCbWM2NgUCAjsEcdifnpem5CrWtygdzB43xpGJtX4GPtdaB4avYUK3bgcjuQE39mOjeVuB/9u68oCCwf/5Mdf3ghZKSAWHeS/wFLUS07qYw5GAAAAABJRU5ErkJggg=='/>"
      ],
      "text/plain": [
       "<IPython.core.display.HTML object>"
      ]
     },
     "metadata": {},
     "output_type": "display_data"
    },
    {
     "data": {
      "text/html": [
       "<img src='data:image/png;base64,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'/>"
      ],
      "text/plain": [
       "<IPython.core.display.HTML object>"
      ]
     },
     "metadata": {},
     "output_type": "display_data"
    },
    {
     "name": "stdout",
     "output_type": "stream",
     "text": [
      "9\n"
     ]
    },
    {
     "data": {
      "text/html": [
       "<img src='data:image/png;base64,iVBORw0KGgoAAAANSUhEUgAAACAAAAAgCAAAAABWESUoAAACgklEQVR4nG2TXUiTYRiGr63PafnblmhYZqBTqciESvo1JZEOikipA4mICCNMgsqOokCiHzoohcKUOupAIU2RigqNUilxZk5S1KZLwwJtm02dcz0dfJv7BO+T535urvfl4f1BRL6+FXH0i4xIQINji1aps7WHhJvX633THx+bjoV3uJ0rbM+T+wZC1xjdk3UHd+sAOF9J54/rvfh1I9EY+9fa0vwPtqrJRrvY7xBUasnTp2bVKgDYvhnHHRrA8ab2F1oAS8KsVwNMyXTA6tXS3eX2aQDvidtpS4GFCSVKA2zes80c8G+LAbg4NJAFMXeaXr74JIOt98wA0a/ugkg+QKlIa5HJGzie0wCIyFk93kQgfB/DD+p0Hf5tfQLAZahSmLIAobaGJ414ThYpn21xGSWrTADE8xqkDGBHxTXNjBXNN/OAQpEqFB4ARCl2DXBlf/4p82huKbjgNwCZF2LQqk48XSLSCPpzAGRvSVoCrMSQANbDgf6IiH0J0CPiFilf7MtFKuMgs9Q7UBYOcEhEqraDelnrjp6BgvH+9Ox0xXzcVgtEAK87/cuL1cObGFJrOcB1kWoArHBLzeftHpkUEakBeCQ/MwBqRGENgHWkfTZufqHUxJcmICF2pqUXyDuEgg8aevr6vs9Birlo4VoTkBTpHPUBl+JRqI69/94/zeDFhPomgDC30wKgY4GlSlFL7rt61VwtYFnFpywTHgjanZpYHzCbsoLhsAZQn318vjM7x/HQn20odNU6AoAuh1mTp3DvWNo6144Bo2EiaVd2yM6VH9p+KjMGQ1RqmM6ydi6izZQlIfDMmOybXx0dCWDFFBat/6OPRkSku1dcIhL88xr9B+iaOcNg8UhyAAAAAElFTkSuQmCC'/>"
      ],
      "text/plain": [
       "<IPython.core.display.HTML object>"
      ]
     },
     "metadata": {},
     "output_type": "display_data"
    },
    {
     "data": {
      "text/html": [
       "<img src='data:image/png;base64,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'/>"
      ],
      "text/plain": [
       "<IPython.core.display.HTML object>"
      ]
     },
     "metadata": {},
     "output_type": "display_data"
    },
    {
     "name": "stdout",
     "output_type": "stream",
     "text": [
      "5\n"
     ]
    },
    {
     "data": {
      "text/html": [
       "<img src='data:image/png;base64,iVBORw0KGgoAAAANSUhEUgAAACAAAAAgCAAAAABWESUoAAADS0lEQVR4nEWRW0ybdRjGf9/X/0dpC/1aWigtLTAY3UDE7MDCDpA5Lpwk24V4YYzJ4mHTaOaFxkuNcVGTXciVMWpmYojuwugUvdBsI8NkYBbGWDgVmqywjrFiy8ehLS2l/XvBwffqSZ7nvXien1K6xt50Mq+lcoqlwl2+eLfylYaxqwmgbmHdY4lRAk52zuoH1NfP1QLU+Iv9pQjA2HKLlFxaAQoxxW4uq6vKelvmRsNic/vZ1/ksT0xSBKrMoeGFYPtzrZobQGS2IsWHTj+lyIx2EMj0ju1xF0cHfR1Wm0mYtSSA0+cpzkXihdCR+OhP/ShyoDcK+5pswreaBE11xG4dGP19SYtuAHBcvQQwPY1QXPYI1gO21Rs3h3bb0Lm2o9ScpaTYUn/COTv+8H/fdSrTtC1FYjWb2d9mXkwV1cwDHB7mhbNdZbOBC9NFgaa+K5gsgO+tjuevTXYBX8r0R2Epf4ZLN7JSTjSLvAI8NiftbZUNQC2Wi254AD9kjhYRHlfJAbg2ImHMwDCM9UIzhD79MM9FRIkez8LSw9WB9kZg8ovJ7ze/6TnZN7TxS63pXhTMngrgVWfZj/LP3RbHJuSTq++E5RUQm/ZSI8dyq+80sd3A4HhTybS3lhCIyorq2Dz2kiPOyctbUDeA+ejtj51nWgwQ+VKbSZF/qHYsWYDfEq8BdYEmNDVvBbSDZ4MAx2/OfQDMSukERqTk2LJsAcB7CuoaYUxOvfurlPIlYEjK5vNSAios3AG7s75M5dHoYBIOA/fgXBchQABJytPOdo+t/425v02fsReIpGzdfvoB9ZkaB5oxk1KCj7+bg8+3IS+yR5v/C0yiRh8hB9F9a+H72yMAbSK8/E+4D/JiYSUJEChfWyoAvFd/GajenIl/OwMgppKAbj4aSKxXTQI9AIx0PD2lZwFESi2gFGQhkyh4Hcs7W0dedFQbRf2AarHo7tK1fyeWjERV9y4Ms4M79yu60c8LrUyVD+B2jTOZdIH1a2/aiJjajGufPHrz/ZONnQqAvgIvn4huuof9F/bT45lZF8ZX8HbbrWVdAGjAmJQ2vTUQBItSvipiYM/NKgqKSdhdK/EcuPyBYIM1b5hNXk3Xrw/EjOAhq939H+aNPencTWotAAAAAElFTkSuQmCC'/>"
      ],
      "text/plain": [
       "<IPython.core.display.HTML object>"
      ]
     },
     "metadata": {},
     "output_type": "display_data"
    },
    {
     "data": {
      "text/html": [
       "<img src='data:image/png;base64,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'/>"
      ],
      "text/plain": [
       "<IPython.core.display.HTML object>"
      ]
     },
     "metadata": {},
     "output_type": "display_data"
    },
    {
     "name": "stdout",
     "output_type": "stream",
     "text": [
      "5\n"
     ]
    },
    {
     "data": {
      "text/html": [
       "<img src='data:image/png;base64,iVBORw0KGgoAAAANSUhEUgAAACAAAAAgCAAAAABWESUoAAACN0lEQVR4nHWTTUhUYRSGn/t5515zxnEcc6wsjcwJKZhcCBJGMvTjTjNqImpREAXVPgqKFm1atwiKCmoXKLRw06KIIAqxH8hCM7XInwZ1uDXMOI5zWnx3Zpyh3s1973mf73yHc7nGide1P7O+aWC3k0itZjAqsgCBNvsFWBnTYMKnpgGS3wCQLAAJyYJFUFVMeZkFYIYSzS0BykM3/Xds8LnlQ/l8PXTXAsok4izDH7eeo2gSq/WgvhPPeYuNn+XNIrx3AGUhY0n+ozgoxeJL/Xa4B7AAqIAjIV01DdKLbJgDY2DlyeCexuFcfzLcPBYKYGjCzwWD/cBlKVMMAGXgFaJeCJcP8Etf0TIyCakkDJ0m/Wl1ZnQm3NTH0vTI4HPN3aTqaBQAu3D2lcgwAB6r1bzR2xyc/7AALBeAWXgKwIpvXGXmNgbTCyWXN0TztG8dAJE6AA7sqtXAkIhcAwiWTh2p0c/rIjLRoVdg/mu/90XkFBTWCnvPbF6T219EHrpegYKqlsr4GmDnDqh3YwF4KyKP1gAnReSi2wxQQx1A97YisAX4qkfwg199Bkg0FfLGY8AUAJl4JQ69IiIPig1uichjADqhBojFRaSvkG+dFxltBzh4VU/aldKwq0shGHgH0NmmgXM/gGgBOA4kAGjwgx3A9Nx1epjI512bAP1rjRtgOdWmwZuPxr08EIP8hnM14DerKdFtkd/jrrfPA5R9rit17ZMZ13vjDSkHAI8JwdZeyrT97D6Av0jxwysz4pcMAAAAAElFTkSuQmCC'/>"
      ],
      "text/plain": [
       "<IPython.core.display.HTML object>"
      ]
     },
     "metadata": {},
     "output_type": "display_data"
    },
    {
     "data": {
      "text/html": [
       "<img src='data:image/png;base64,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'/>"
      ],
      "text/plain": [
       "<IPython.core.display.HTML object>"
      ]
     },
     "metadata": {},
     "output_type": "display_data"
    },
    {
     "name": "stdout",
     "output_type": "stream",
     "text": [
      "7\n"
     ]
    },
    {
     "data": {
      "text/html": [
       "<img src='data:image/png;base64,iVBORw0KGgoAAAANSUhEUgAAACAAAAAgCAAAAABWESUoAAACKElEQVR4nG3SX0iXZxQH8I+vv6aiuXLa0uXSKGX9WhSjRgQtFmwXg43F1oUgBF1E2G23QV1FRDdRDLabGAyqi12MjTZwIEQ0YawuStzP5bY0Co0i/6Smni7e9/1V4vfmOTzP95zvOd/zVIQcT3r7/mva1PrPjVujDhwviuaHKOybS6pnKqueTv39zEtc/qioYh4Kv1sWQ2h+hGTJw9vZuR4tlhDORcSDwUvbYB6TUKDu0+KakVP0HIWOjvs3MYUxKDSe7cbNU+D29S8b06LzmACrByIiAlXdnXRFXIOTEdEGyfSdvIXZ7wfp5X+oxVoozF4tfff+3oWc9ZyLqFzE+hso+JahH9tzQjVvwDTqXxlzOCc00IiFMSws9QF2UyEbccoy+DVGUifvRmzP7mpfLTARd9Po54jaVGLd4WN/9W/NCO112leA/rLEF6WI6MoI36SeYVuMw6akpj1wJiMUOZ9Gez2FEW/tv9BbTts5FaV30vC3KOWNVW6OiBbwdUR0gjeHs6SEhTslimAL7oE9bdnnSaCPtPW1/DsNPsCOMuEXBkAFV1LdddgIySoMpMuhlf6XrtVA8gSLLIIPGU0fZ7GyLNGZrpDVZeMnUVcmHGQwr/s4PeZkSYUVJz7/aX8ugWxXz9KO8MlI/mlpKVvq0EzE7TRsOD0T8Wcaf7UjL/Te6YihbHIbPvbDtNfwWcOuI8abMkIZ71ZOjiVb6v+Y39WzZmObuSq8AIjvvlyquCTWAAAAAElFTkSuQmCC'/>"
      ],
      "text/plain": [
       "<IPython.core.display.HTML object>"
      ]
     },
     "metadata": {},
     "output_type": "display_data"
    },
    {
     "data": {
      "text/html": [
       "<img src='data:image/png;base64,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'/>"
      ],
      "text/plain": [
       "<IPython.core.display.HTML object>"
      ]
     },
     "metadata": {},
     "output_type": "display_data"
    },
    {
     "name": "stdout",
     "output_type": "stream",
     "text": [
      "7\n"
     ]
    }
   ],
   "source": [
    "grays = img_prepare_all(proc.X)\n",
    "y_inv = invert(10, proc.y)\n",
    "Xb, yb, X_inv = img_select(grays, proc.y, y_inv, 20, None)\n",
    "for (a, b, c) in zip(Xb, yb, X_inv):\n",
    "    img_show(a)\n",
    "    img_show(proc.X[c])\n",
    "    print(b)"
   ]
  },
  {
   "cell_type": "code",
   "execution_count": null,
   "metadata": {
    "collapsed": true
   },
   "outputs": [],
   "source": []
  }
 ],
 "metadata": {
  "anaconda-cloud": {},
  "kernelspec": {
   "display_name": "Python [default]",
   "language": "python",
   "name": "python3"
  },
  "language_info": {
   "codemirror_mode": {
    "name": "ipython",
    "version": 3
   },
   "file_extension": ".py",
   "mimetype": "text/x-python",
   "name": "python",
   "nbconvert_exporter": "python",
   "pygments_lexer": "ipython3",
   "version": "3.5.2"
  }
 },
 "nbformat": 4,
 "nbformat_minor": 1
}
