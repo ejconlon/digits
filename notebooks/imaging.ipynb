{
 "cells": [
  {
   "cell_type": "code",
   "execution_count": 1,
   "metadata": {
    "collapsed": false
   },
   "outputs": [
    {
     "name": "stdout",
     "output_type": "stream",
     "text": [
      "ready\n"
     ]
    }
   ],
   "source": [
    "import sys\n",
    "for p in ['..']:\n",
    "  if p not in sys.path:\n",
    "    sys.path.insert(0, p)\n",
    "\n",
    "from collections import namedtuple\n",
    "import os\n",
    "import pickle\n",
    "import random\n",
    "import warnings\n",
    "\n",
    "import matplotlib.pyplot as plt\n",
    "import numpy as np\n",
    "import pandas as pd\n",
    "from IPython.core.display import HTML, display\n",
    "import skimage.color\n",
    "import skimage.transform\n",
    "\n",
    "from digits.data import Env, Loader\n",
    "from digits.explore import img_tag, img_show\n",
    "from digits.images import *\n",
    "\n",
    "%matplotlib inline\n",
    "\n",
    "env = Env('..')\n",
    "env.assert_ready()\n",
    "loader = Loader.from_env(env)\n",
    "loader.assert_ready()\n",
    "print(\"ready\")"
   ]
  },
  {
   "cell_type": "code",
   "execution_count": 2,
   "metadata": {
    "collapsed": false
   },
   "outputs": [],
   "source": [
    "orig, proc = loader.load_data('crop-test-small', 42)"
   ]
  },
  {
   "cell_type": "code",
   "execution_count": 3,
   "metadata": {
    "collapsed": false
   },
   "outputs": [
    {
     "data": {
      "text/plain": [
       "(100, 32, 32, 3)"
      ]
     },
     "execution_count": 3,
     "metadata": {},
     "output_type": "execute_result"
    }
   ],
   "source": [
    "proc.X.shape"
   ]
  },
  {
   "cell_type": "code",
   "execution_count": 4,
   "metadata": {
    "collapsed": false
   },
   "outputs": [
    {
     "data": {
      "text/html": [
       "<img src='data:image/png;base64,iVBORw0KGgoAAAANSUhEUgAAACAAAAAgCAIAAAD8GO2jAAAFiUlEQVR4nFVWwZIruQ0DQKntmezLH+4hp/x/VfaNWyKJHOSZTbrc1QeXBIkAAfJf//7TBtx0d5UbMNzea7sNAIBtgwZsAwBR3tm3hmKMMYYkhgB0tcu2TQK0PSJEAC13ETZgo9GV5Tb43rQN/w1mqGMEpQhFKMZQBACHXW53l7sBeohBmIJN0KYNNLz3rizw3OH/ANodk89rasQYGiPmnIpx/kbD9n3vdAIcgAADDQJUu93u8n3fmUnyfWrTAIjuaveF8fCw2w4yqAiJJAzQLu7ergYwaEcEGZ1ZVZm57nXf99q79m67u7uboEET3ZW1r5yaYGhes6q6u+ccChcqu7ruve57ZdZ4lwB8/w4JNgADbrt9eDif7i577/z66xVTrmZDIBqthtnZVXW/1tfXV2YOfGuDIEGKkkISSVEWAZskDZTbTQHd/Xq9ItXVaBCCaRlml6tqvdbr6/4bgABAggG23s+IAdl9VMezmoCrd63X19Jgl+kIjsHBoW+Azl25MjMH/F0cWpIUYo8Yz+tRVfgf7dvOqsUFITsz73AUu0af7hFECiyTIkUGOX7KDwPkG0Pj+Xx295sf0kC7994klaqqtW4xCAkSI3TNuAgIpDGgAUH6IfmUCJIiBIf4eFeNhwBnVUQAkLT3HppkCEFIjKkxNUjShCCIJs3hoxBSJCWySSoiIkgeAEkHQFJVujsUZBAieY5MiwyCcrONbnSj/PcNTNDnNNKp27tilGTCpHJLImWzqkUme1d3O12ZSSD33iv3zszMymESx5gOGwBA89gSgFPgAGD2fjMnAN1udu1U5L1qrhQHgb33uu/MqnKlh8EGYRAmoBAItVANgKKN06trrXXv0+d7725QjAhKJtsom3CjQcac87ooDQMNAJZNidKMAcOZsNvOzKrce6+1vr5ef/3+/fv379drHad+PB6fn5+PxzUiKImY1zVicETMWXu/OTDQBG2YBkk0Wd2dWZl7773utdZaa6+11yLx8fmp0OPxuJ6Px8fz+Xxcc5Lsns6CCKAixvHLwynemeK39t1Zudf9et17r73Wfd/3urOKGmMMxDtwIuI0/9mth6cvkn3lt4r84/xvU3O7qtba92vdr3vvc42NMhFjXh/Pp8XHdV1zjpNrodM0ADQ5gt1j8G0G5BHS2zk6s9autfZ9r71y78psN4NjDj8/Pn79+sXQjHHN63pc1zXHoIHOYwkF08a7RHyniul3luauvHN9rftrdVe3AcYYAV3i5z/++OOfv47hjog555xDAbt5rL1x2vCbZOMAwiRod2YeUvfOs0RnQYxxzY/nx2PMBkTGT5oZNoEGLDEUJMd3KP4Q8I7Io8u9du4mGSQJQaGYY44YBAm/NYKfRHHT5He6HIBjtu/XBujGztqr1u6slkSd7D7ZQds707CkiCAbwBiDJCnS3W13IIb7yNR9wvLbuV2d1dXVXRRNNtxuuRtYudZ/bgMkxxjXdc0xxwwSsKvKQJCmh3FAAbK6elee4mS3XfaqxM4IXjPmvKrr9Xq9djeSohRzXnvv6xqx4zTCmQLOZUeDIuPtkShUu6uq3IZBtJ17RYu8pHbnrmxUIxmMMc527TFqiDp13HvtvW0Pg4AMvb1UhIISAwpGcAxVE2TDWclj3SizUTJaKlYyASI4ABK99r7Xje4B0US9+1cGIcacMee4alZlldEnkpot0O1GN1tClTMpKS11g00Q7MaZp2qAPIMqjohFBmVe16SbNIV9BQx9uwDc5Sq3aZIa0pAiNEISzxZ7MULk+M78M22ZkhCEnx+PMTRmXI+ZuWD+ABDOylVpNMmIGHPOxxxz/vhRHlV2vxutz3REAmSIGkOMA5CX6/k9AIAM0ln52vv0J8UxZ1xzzDEUAklmleGu/i/EyrRCBj94qgAAAABJRU5ErkJggg=='/>"
      ],
      "text/plain": [
       "<IPython.core.display.HTML object>"
      ]
     },
     "metadata": {},
     "output_type": "display_data"
    }
   ],
   "source": [
    "img_show(proc.X[0])"
   ]
  },
  {
   "cell_type": "code",
   "execution_count": 5,
   "metadata": {
    "collapsed": false
   },
   "outputs": [],
   "source": [
    "g = skimage.color.rgb2gray(proc.X[2])"
   ]
  },
  {
   "cell_type": "code",
   "execution_count": 6,
   "metadata": {
    "collapsed": false,
    "scrolled": true
   },
   "outputs": [
    {
     "data": {
      "text/html": [
       "<img src='data:image/png;base64,iVBORw0KGgoAAAANSUhEUgAAACAAAAAgCAAAAABWESUoAAACOUlEQVR4nC2TS5IjQQxCQVJWVbv75nPbHtuVH6WYhYcVC+ItCOCf1fsMz/5+vVMAza/H9+MrJNCAoJmZcmVuAYB2WZvHNgAAEbRolXOMkSUYdmbS3GGk0RgSzdeevSfMAlm7k34wgoAhCjRnrTnlFqcn53rZcbkJMDIEmplyLos4H23byjnGPEoEwBAZMqoE83Ydpf7KlbsAmBHx4RA092itaTUrqQQzJxkAaXFetew8mvs2N5UE0j2IKIJqj31MNA/uTMENAD0iwNgE1H7s7BvQ0urJcCfN3B2MbRTOK44YM2vWHANHc6OZuwEBgPSmmmPNmbnWVjQjaUZQ8bEWzsrRx8oC3I0fgdFg9HBZZc7RV4kOWhhqO4AIgEZQgrmZUVIVBEkCGQRI1dqIi3GsnXOrMrMEmikMBHaOnnbGeeXurzvXWplVACwclHK97o52sHa+ucbKOXNXSQiSVet+vnuLOBzZ8qnKnbml/wHs/vp9zqud7bLCO1CqKkmAQtBe/fn7d+b1YGvZ3AAJAEggJOwc9/s98LOqau8tIwmCBBEF7b3mmrPNOUeu970AQcKnh/rw3FG5BjB+X2luJAFIDED0dj0ymf1513y+K9xobiipgiDivHJ15HDkvAeat4gId/5fIzNr3ol111pjtcvbeUY0dzLKjGzHo2pUrtx74/hux/fjcRBliOUwMY4v3XcfWWA7v87z++t0QlIMc6IAejRxF2CHG1XbKDNEsojPkz2wC6AJqFIVAPwDRcmksjQ5JNwAAAAASUVORK5CYII='/>"
      ],
      "text/plain": [
       "<IPython.core.display.HTML object>"
      ]
     },
     "metadata": {},
     "output_type": "display_data"
    }
   ],
   "source": [
    "img_show(g)"
   ]
  },
  {
   "cell_type": "code",
   "execution_count": 7,
   "metadata": {
    "collapsed": false
   },
   "outputs": [
    {
     "data": {
      "text/html": [
       "<img src='data:image/png;base64,iVBORw0KGgoAAAANSUhEUgAAACAAAAAgCAAAAABWESUoAAACMklEQVR4nC1Sy5IbOQwDSKrb9iQfnt/djadbEknk4DmiCoVXgX+s15zdeV/XXaB1rj5ev38/j3APDzNG9+o15xIZgd3zbotwcwABiea+a68N9/O0zbrv4/EYIZLRJpg7kTst4nhGcd177WyQZEAiPZxqwXyco+vhd1ZJtPCPhXE5QbPwiB7Du6qbFh4BAUaOcWbaOYIU3AwSaOYeAGTgeGVsjvBeucqHEwLNLSQBVLzssQro1etePIIAaECoBQD2Os45187ca64ON0gCEF2CCD+Go+aac61dMiMIlVsIIkiaKdg573sXSIHobiFIA41uHq6uqhalrsqsajGcBGlmZkYbh1io7Npr7axWmBEAIbU4nvHYpf19bx/zOLM6DABAdq/Vdgx06/aaa8xjZysMAEFkXddsjzDq4v3uytzVHQ6AQNf8/nvpOY4zMPbpVd3dUpAQKeR8//+mBseJPoa3JEkI8qOwr/d/b+KRAgD6lrq7OtoloCvnfX3Lv7626Z5bxEciipDQXZm5e973kfX+XvjUR0eSAlogI2auyyy//y6MMDN3j24KAGM8vqo1L2jf1+IYY4S7BwSAsni8urbyVu955/kc56/XGQwjAZLHs9G5bFfuLMbz8fj1Oh3hDgE062zw3jV3ijHGCEMlItgSjLTRkt+z4SQHiaruDqiyYYYC6RHNaoD8GRIxu6rx83PSXJLQ3T84JroE6ROVUGUV1McPIz7T08kmKeWeu4iMoVbL/gHFic2nHd564gAAAABJRU5ErkJggg=='/>"
      ],
      "text/plain": [
       "<IPython.core.display.HTML object>"
      ]
     },
     "metadata": {},
     "output_type": "display_data"
    },
    {
     "data": {
      "text/html": [
       "<img src='data:image/png;base64,iVBORw0KGgoAAAANSUhEUgAAACAAAAAgCAAAAABWESUoAAACMElEQVR4nC2SQZLcSAwDAZJVUk/sz/ezDo+nJVWRhA9tHngCDhkJ/p/XvcLz+fl5pwCQ8/X19TUJuhmDMJqqqwUAoPk8jmMGBKkZNI/qvdfOBgAIoJlRACFEC2a5nntli0CrPbPb8ImHQGPnc+8ijepsRMxBggARAknl8xTdIppZt8cx4EYaEaDLkDs7fByzPde+jjWdRtAQoMHR3TCfr0O27retXQ2ARoSMZuYeiDGPAz1Z1ZIAEkQ0KT9e6RhjjpAbShBIMyMRTSC+yp52H44W1ABBMzcDQi2bg35vAVX5pNyNZh7hFAKgDUrArsrOe2GMcHOPcABhZDjD2WunKvfCnOHuHu6gwmnDYehc98qqbswRbh7uBjAcZiZ07vU8qyR6hJt/GMT4CKhqEOqWDOYRRvLjwkHlXmmzaZaVatGM0Gcf4VLVfS8Ni3Hu51rq7gYAEkBYdz5/7sfnPHOvN3JXVvfHBBBQXu/fV55jBPrx/b6zdnYDIIDofN6/f13SyWPo6B+HuqskQISicr2/v9+MjThoMwBJkgABn8BzXZc92SClEgmQ/AxY0V1ZnV5Z23Ffq2if4wcTNB/hRO87+/19FUnj5wEI95jneUv7atb1fetfn6BBCh/Huc6Z2s/uvP+kWbiHEf8oHDFf61pWF2qvm8PHiDGcEARFiTG/8src3ZV9nBbnOecIIyHEhYLFC9e9qiE//ovxer1GmJEAYwMQaDGZLcXrPM7zPIZRhIS/y8WJi6xHtQEAAAAASUVORK5CYII='/>"
      ],
      "text/plain": [
       "<IPython.core.display.HTML object>"
      ]
     },
     "metadata": {},
     "output_type": "display_data"
    },
    {
     "data": {
      "text/html": [
       "<img src='data:image/png;base64,iVBORw0KGgoAAAANSUhEUgAAACAAAAAgCAAAAABWESUoAAACLUlEQVR4nDWTQZIjRwwDAZJV3dLs2t/1vx07UncVAR80vpLJAxMB/nOeU67j63kWYZLr9efP9yVbbaEYpJtqAQAtXe/rupcJEIGAbEQwSACApd79wcFgqbsj5jGKnxEy4sMCAMtu1TzPo4IGosi97hIMwEDREus4jrTcrBpU72XJsoCCJeQ4Brb28owxve9L2wJsFCQhx8jWut6anOd5z7GasASUhRKDsNb10q7HI0dlEIBhlN0tdXvvdd/teyMjgrBlm0VD93s6+r7XtmSSJKyWDFcQuv71ld67ySRg2x9fACqA/a2+Z8Ax4pjpLdna+wMQ7tWyjspizTPbS+ruvQWgbPd2beQcmTUqtfeW1N0GULJ2oxHjOObIZPRqSd2yQVe7W0RWzfMYSXurJdsAPh4MkEHbIEDQ2i3+RFqyWXOwL6p31GAECIKAAVQDFedZurWuWcfjiKhM0pYAVEfU8XxMrZs5xhN1VI1KEjaAMvL4+vWoa9/bMfd4RuUYGQHQQDHH49ffT8b9vhZGfDUZkZkgTaCyjufvv77sb/Ql3dsmCYIkAVTmPJ/Pp++Z+P/fT1wfExWZY4zhUTU2zvOIn+3HFYsA1CJrnMnH70f93NIfD9K+X3Mm64Ty/OtktyTZBEyU9nrP4zE5zow8v4bX3r1bAAmy2vd7zAeV58yaZ+y911prt3+apd7vylVxRmZWv9e+3tdau2XDNUDtd+hxzEoQ9+u9Xq/v9/7U1/8BPWO886qqNfgAAAAASUVORK5CYII='/>"
      ],
      "text/plain": [
       "<IPython.core.display.HTML object>"
      ]
     },
     "metadata": {},
     "output_type": "display_data"
    },
    {
     "data": {
      "text/html": [
       "<img src='data:image/png;base64,iVBORw0KGgoAAAANSUhEUgAAACAAAAAgCAAAAABWESUoAAACL0lEQVR4nC2SWZbjSAwDAZKZUrmO3redtiXlQmI+3LhA4AXAP1j3s8LXc32uFECL4/X6PQOCkQGABCSVAADKhHs4QYAWoLm71pwrJRC19xbN4WYAw+DRaq3xzCWjMzWHYM1AgIyiaL5rzbFpfnj5HjfbEeYAGILgbsi1Kryfh1rlPcY8JdAQEmjhVJZo7Tjp66q9MwUaGRCNCCdA82id6oGsLNEsLADQbEdrhdbDjeZhqhLoERaCCMbxqq7o3VQpegGAmZuHBBA8EWPTWDPHVJQTpLlbJCATz9bG2LtG7fGkmRMgSUQJBnmnGzLnWmvuTTcSIMGAvv1de2iNZ6wlmRlJVBmCBtLMPFy553hWgRAIVBUQAZB0M7Mv1UylzMwsARbO7+CSECe8L+XcuddauwoIAwBSey354efKGtdnzjb6uVMKAwhg1/1MRacqH1vPXnOuXaVwgJD2vN43j+huddXFzMydVQqDyKr9vP/ezh5nk93ds6pKAOLro+b9/u8OOxFdM9wKgCQwIEG15329r2i/u6oyRehfogShcs8xx36eOZT3s/A9uqRIAPgClWs+PtbnM+lOkqqKAgDRoh9r57gS6/4sNjdzd2MAAOj9eOV+at6Z63nSW7QWHuFBAFT0n6xVyLH3GrOOn3b+/hxOhQmgGTKruDG0Msv66/j5fXUHgiUYzaOX7JljbtGj996cqlRUJsxZ8OgpyVKgO6GqSiKeXTKnRJIWsiyAFCQJ0P8mCsFmOawrIQAAAABJRU5ErkJggg=='/>"
      ],
      "text/plain": [
       "<IPython.core.display.HTML object>"
      ]
     },
     "metadata": {},
     "output_type": "display_data"
    },
    {
     "data": {
      "text/html": [
       "<img src='data:image/png;base64,iVBORw0KGgoAAAANSUhEUgAAACAAAAAgCAAAAABWESUoAAACLklEQVR4nFXRMaIbOQwE0W4ApEbfJ9/rrq3RkATQGzjaiit7/Oc8TwXP87m/JYAWr59fP++QQAMDEP5Xp+fJMgAAGaRbtzKrBBDq0zR3GEkawzyG8qxnlUBj9U7QguEOkAGae9Ze+8BsWPHkDZ9OE0iGQDN27i33uEZ7fpfNa0Q7AIZADyJP0n1eL3nttfepBoxECAY51YL5mC9yjc6qFkijhWjGYWZm7jGCMZzd3aB5GAMgEa8rg3MOM4FuLQHm4c6QKMW7Yis8UJUFJwHQzJ3RABU/NlYJysy1282NpLkboghgzDG/a5/qOmuV0QnSjGC0ibARqOyzzjknm+EECIAIAqS5wtF7PfuUYDQzSi0gnEZzQ7Azz9kpkRIgtQTGAOEkCZi7O6RWd1e3RGM4RFJdsNk+d/bZWWefky2AQZBU1T7ya2ZWPZ/7nLN3ZrUURgBd+/5uTmMrb+zn5N5ZLSkcgOp8P/ce7zGNGeePOquy1EIQRNW+f//JK15xeeEOSq2WAAQAdT6ff/+cnG8bUWFuEAQBRAhQnfW9P1s/p7uzSgQgQRBDUFedvdfytVbkvp9DQJAkKRpoqUWq9n6E/ftOg5FG9N8BsBjXTubzefp87nZzNzMzMAjIY74zD3K55X5Wh48REe7Gv5rjys6VOl/kXsfmHO/3aziJAGBgZVct1ZNZJb/er/ev93Sqo0Wa+Xg1vmufk6LPeb1eM6iG4ogiZB7zrx5g0wl0l5X6PwU8vUNU+nPdAAAAAElFTkSuQmCC'/>"
      ],
      "text/plain": [
       "<IPython.core.display.HTML object>"
      ]
     },
     "metadata": {},
     "output_type": "display_data"
    },
    {
     "data": {
      "text/html": [
       "<img src='data:image/png;base64,iVBORw0KGgoAAAANSUhEUgAAACAAAAAgCAAAAABWESUoAAACL0lEQVR4nEWTwY4jOQxDSVm2qxL0zM/ur3dSZUviHhJgdCYkPJLif+jHMSJ9Pp5nJyFpv9+/7zsJVXlRVUX31sxIAMiIvXeIFOhEZTT3MYYbABDNCAifcZJQWT/m7KQAa0Qsb1kEBCegEn0c3ZBV9DasYq8qSdA/wXBFxsaw2c+97oqUVE4pWWjuFrXvW9vmPNbVdxWgckClIRpVsa+rsj8O7+4tIElOlFSZsbFjrVvcyS+xJLhJYt4vC+ZeK1UlA0CpqkpuEhgvq9Uqo9CMHztVVVlyK6PWVkY3oFmbvalKpYqIggNQRpGG0ej0Ma12RGV+BCkpsiKLfbiZe7dYOzMzIwseUEWgYD6O0VszWuzIysxMwBOoFGDe+5zDSWlHVlamILiAEsyMKoE0KpWxUwD02SC6T8e+UNWb2xcTBgCeIJvN82Bcse8+jmlm3+4IcsnMx+Oc2heu3o9q07w1I1UlusQ2zz+PvnJtWX/aPNnc3QgAcrKN8+fvs71u7aVWM2D2LSgFN/o4f/48Gn4Zd3jfMpAkAYJwaz6O83xwjQYJJFkCPiCEG625N6c3d7cxp6tUVZIEwEFImWWwNoH58+zSN20JcFXGuq/p8qMOHj8Pr6yq7xl6ifu+5gn6JNt4TkRkZpY+mCrt9R4PVpvdfBxeFTv2ToEk3AoV69W38zBr3mtF3vfaO0oQfRasYv3WOUdrJPdrxf1+rR1ZEnwUyM8HG03M+3Wv631fUQCA/wEzvNB0E+SfnAAAAABJRU5ErkJggg=='/>"
      ],
      "text/plain": [
       "<IPython.core.display.HTML object>"
      ]
     },
     "metadata": {},
     "output_type": "display_data"
    },
    {
     "data": {
      "text/html": [
       "<img src='data:image/png;base64,iVBORw0KGgoAAAANSUhEUgAAACAAAAAgCAAAAABWESUoAAACM0lEQVR4nCXS23EkRwwEwCoA/ZglQ7JWlovi7kwDKH2cCRmR/Ee+9gTHel3boWbMyM/Pv//dJ6sypM7D4XPNQSlTgViuPFUEEJI6zeljDnaeT0bZ187PeEi0wkR1lRgjlPW8H6vY15zDTN0dBKDKkrm1Op8b3Afu4YQ6A4RKzJIkVVbhPKfdzaCqChDq7nHO0/2cahlVCZpRqg4AQON8fjp0TjJ8uI4JANQdAAFD/uqeplaM2ItpDRKSgka02O/ns2ZEeMy1hqoBEmCYERTr1kmZrzXnDGNKAD06zEwtqRJeiLX3DEMTAM3NAhAAqeuEzCIiCNAjIsIMIUnqru5qqTOfJt0ZYz1PuEUVIKlBoPPWGU6fe46V59zhUYAIiRbOfuo2o++OMeac8/YQIEFwG3u67m4hXtwrYoxwi4YAAYz9es2qc2fbmX/Rzd2NUX8U5uP6+l6n7vqk+ecUjKQx1AQE2Nrff+9P3uhCq9Jp5uYBgQAY83p97fG8f0MxwwTSaBYmEIR5zDmXX9dVY7yuUAsgEEMAQDN3gr7WFsbXNZTZUndENwASXecOj/0dNq5rKDMzq8INAIB63oN22Urzubfn/dy/7zsDAAR03m+nO3x6jBmWv/fn5/epKAkCJBkBOsaKMOZ5Pnc2PbJEAK1+guo1pztKdQSae0cW3CgBdcxMQLtBapJmRIAMN7XokLqTaidAEoQQAxZOtP4sbgmkg3AYgY4JMwfYgloCLGY4WX1DJf0PQ+aWnRRa94IAAAAASUVORK5CYII='/>"
      ],
      "text/plain": [
       "<IPython.core.display.HTML object>"
      ]
     },
     "metadata": {},
     "output_type": "display_data"
    },
    {
     "data": {
      "text/html": [
       "<img src='data:image/png;base64,iVBORw0KGgoAAAANSUhEUgAAACAAAAAgCAAAAABWESUoAAACL0lEQVR4nC2SSXIrORBDgRzIKtk+bt/8W1IVmYleyHsEhhfgf4p5DLWPx+McJADq/Xz+vpbQ3SF1VVnkzDBSooc51YVqAiF1LUvPOdOlKoalUbUEAR0E1eWMnINd++5QjKj72kWAQQBdLWZG975e29tzHu90At1BQqpqmptU672I8eURYUSrA5RKVg2oq/a6GXfRzI1SVQBUNdfeq2qtXW1d1TQSqtpBAFCtV1b0vTbMHV0Cqe76dIBw/9M10I3wnKnVLUFdFUYI4L32NSPM3XNO21WC1FKYoUFce+8+IjJijPSuFgAIQYKQesM3bMw5MgzdLYG0CjWE7u69m57zmGFoARJoxigArepWg59JTZqbuZsBUQKgT2Lvi73dPOmZGW6G+CtD82Df2hHu8zwixxjpxmgIAJg5h/d10SxO5cgcI8IsCoBA9/k4R61Vgn/Z+fCITDeLBiCY5/n9FXfVdbf1sWDmZmaI5sfh+Pr5jtd617V9rN0gSQABEaDl8fXzE349IQFQEQBJBgmQHmMe58DvzLSYI0SSNDJcBMw8MiLHHId6fD9CLQGihYnA53crmccZHN9ntKrVkuIP716vNFccu2w8TqvaVbV3xYdT7evlPtzHKR/HsPve13Xv6mgAkNbL6WO2H8xI7+t5v3+fVynaPgK/zHiGzQij9v26nq+rxACNQqv2bdjH4VCh16omzVzh4ZQ3Aura+1YZoS2CZkaLw53qv7Ooi3ACAj6k9T920JLFtQK4kgAAAABJRU5ErkJggg=='/>"
      ],
      "text/plain": [
       "<IPython.core.display.HTML object>"
      ]
     },
     "metadata": {},
     "output_type": "display_data"
    },
    {
     "data": {
      "text/html": [
       "<img src='data:image/png;base64,iVBORw0KGgoAAAANSUhEUgAAACAAAAAgCAAAAABWESUoAAACMElEQVR4nC2SQXIkOQwDAZJSte39+f521u4qSSSxBw+OeUEkAvw377Wd+bx/nhQAaH58fX5dJMyMQUa6cu9dDZCdmSKdbg7Sgu6jd+5nH9GcrbMbNnxSABn9i89eSfMZir4XYw43B8iQYG7oczp8vC5O5Xutkw3QiBBM7uxqwcb1YZ73OzOrQZIMkc7jBGEeMRwzUFUN0N0ZAM1GjCmMMcJpHpaSRPNwBkTAry/NjjFMyoYZINDdndEAYR+Ip0DrU2u3h5M0czdGUQRfY14rs0u5nrThJEEjGUUjYsKIqnPyrEyEG34lEABIM1cu5bPWOS2akYBaQBhJM/NwVe717AZNpFHdAmOANHczCiBIb6iqq7oFWvx2QBL9ko2jPNV5TmYLZBAA0X1Scfl1qvf7fc7Z+1S1FAYCqLqfozHRqsdyn7P3yVYzHKB09vvn5jWGo2/dP52ZWd1SEGR3Pt//Pc4Zr1Dsy7K7uyUgCBK13t9/nhEvjqkMN0KCBDAAqXPfP9/3nJ8tSIIBgCAA0QCqzlrrqXutC3U/R9TfICSgu6rVedZ67/z+2TAjAEiKFiCYj7mV+26e989mhJu5AQgBoI/XZ+budWef507zERHuYb9Luq6PrCPkc2qv1fM1rtc1woggQAxVdbKxlJnF62u+/vm8nFAIoCHG1fJ9zskGY37M1zWdXR3VNKcYs2SQKDKGEeoyyOIRzKgGaB6wEmgU1C1JiqNfaf5ez9SAJAAASP4PVOK3kI553bgAAAAASUVORK5CYII='/>"
      ],
      "text/plain": [
       "<IPython.core.display.HTML object>"
      ]
     },
     "metadata": {},
     "output_type": "display_data"
    },
    {
     "data": {
      "text/html": [
       "<img src='data:image/png;base64,iVBORw0KGgoAAAANSUhEUgAAACAAAAAgCAAAAABWESUoAAACMklEQVR4nDWSW3LERgwDAZIzo10/Lpujx96VNCSRD1cu0FXdAP/BWMeUjeP5nEZA2u/fn9clQg2F0JU+5jqmGwW6h3LvakFohAHqZqxjurrbpge6dme1JAVBdcPnGqrayY716H2l1FArCKkKNoZn7/NCeqzjnFcC+COoFE0zqvZ5qufTx3AjIUEBoJWlLlXu+27eZW5GqFtCEIJ6n29ZXncmukSSVHelEAYAuv7Vwzt308KgFqTOTCFcIPSuuocDbnEMVnWrK7OkMEHY1656rBHTYh3cO7u7qkoISVIlPRVrRowIy12t7m6JkVArGwWLdawRRlS2+k9CkYC6imJ4zDWNKHRli0YAUaBaJInOrJKRpACSgBCCJHpMrwu1p48Z5u5GAi1EAYDFfEzuut4jjs+nx4hwUhKiIVqMj+eB+26z8cG5xpjTnaQQEsDx/PpcWfeZiBxfNI8II0gEKIv18f09r/vMd7lfBZI0kiCCoI/j4+trvV4/qo2SBACCACAMdJ/H8Ti0hluMMawlCZL0t6aZu5lHjPno9fkYEAGAgBQEpMr7noj5HFzfT+tqqQEACAGd+3zN2XGUfH4e3JlV1SDJEKR9zlgHbYqxjtGZO3dm/V1Oau3TR8weYTGGnWfe72vvbAkxOhud1y8fMyKMlufPPn9fZwqgYnU0qN6X0SCp7/O8zve1BZoQQykAgCopJ7BTAs0FKyiAP2cC6gKBEgCSJF2IVIrmAGjuTsgg4P/c+A9s38WkckJ7pwAAAABJRU5ErkJggg=='/>"
      ],
      "text/plain": [
       "<IPython.core.display.HTML object>"
      ]
     },
     "metadata": {},
     "output_type": "display_data"
    }
   ],
   "source": [
    "img_show(img_map(lambda x: rando(x), np.tile(g, (10, 1, 1))))"
   ]
  },
  {
   "cell_type": "code",
   "execution_count": 8,
   "metadata": {
    "collapsed": false
   },
   "outputs": [],
   "source": [
    "def squish(z):\n",
    "    z = z - np.min(z)\n",
    "    m = np.max(z)\n",
    "    if m == 0.0:\n",
    "        return z\n",
    "    else:\n",
    "        return z / m"
   ]
  },
  {
   "cell_type": "code",
   "execution_count": 20,
   "metadata": {
    "collapsed": false
   },
   "outputs": [],
   "source": [
    "import skimage.morphology\n",
    "import skimage.filters.rank\n",
    "\n",
    "def lcn(img, s):\n",
    "    selem = skimage.morphology.disk(s, dtype=img.dtype)\n",
    "    return skimage.filters.rank.equalize(img, selem=selem)"
   ]
  },
  {
   "cell_type": "code",
   "execution_count": 47,
   "metadata": {
    "collapsed": false
   },
   "outputs": [
    {
     "data": {
      "text/html": [
       "<img src='data:image/png;base64,iVBORw0KGgoAAAANSUhEUgAAACAAAAAgCAAAAABWESUoAAACA0lEQVR4nDWSQXIcUQhDJUH3jFNJbpn7bxJ7+n9AWfSYBRtUKpV4/GOjx14DGDA4nZEK9BhwBjyApwy/FamIDMTMDJOgKc9u3BbOIzOPgO3LSNCkZ64ibHD8eNqUiBkPEmJ1XdfenqE5tVNnzxHds69KAIDte9nj/e8Y00L166sSBimJAkjMYF7VA4f7WwBAUsimB6xXNCR7unal73M+GgbcVJdVY9IkmQBNSc8BiNmsXgQVQYLUHVJhgqQ7oB0iGEGLQBqmyAiScqtHBAmT8My8HQRQEliSm6yZwl67Okl8jwJDEsMdawn7qq4EDARnIPesta49CsFD8ziVBi2G267e6+vz84p8/HiEeEZkJQAaJqZ6r7XWwo94PD+eB6eFSuJ+M93rtde1WqnIkAic7HwH9PR6vfa+Gvnk48gMEhmTtAEAtde1dln58SvieJzphuAkYAPe6/U1g0j9/E3GccjAkPlG1bXWhsk4nwmGeDfD5P1v77WKJCMDuMsjASbHhDG1dkuw4YKCSJLTyMEdc3rmJqr+gnnmQTc4CZJTe5VdW8c5r2Xp2OcSeowERds9oFcwpmBlz6TsvZ3mN5LKFko0GyrRwL6cog3wyLPbEDCGuuQB4JmbBypOUKdJ2ENmKgLcwTdR4EfmWRaBLjDycYgcTBIYIsQ4qkGSvQAexxFgo/8DsJyNN/mI1qgAAAAASUVORK5CYII='/>"
      ],
      "text/plain": [
       "<IPython.core.display.HTML object>"
      ]
     },
     "metadata": {},
     "output_type": "display_data"
    },
    {
     "data": {
      "text/html": [
       "<img src='data:image/png;base64,iVBORw0KGgoAAAANSUhEUgAAACAAAAAgCAAAAABWESUoAAAB9UlEQVR4nDWSQZZcRwgEI4Gqbun+K1/Tz5LmV0Fq0eN98CCS1D9IEVKVQAgUc283ERKqQYKAFEhI7u6+F4UyqQEBEfsbiO7pvteEXkkBGKleYX2A2znCUuSKwkZa+71KEVg5zvtEtDL3exUajEJSBIRC7ziBLpmvH6tAxjMzg2VFaGcFhCP33gXiQ1wJR5K1ku5xhEIlLM/M+QpktGavyAzc1owLsGa6/whb0UMt29NtGRcATJ9mbNUQnQbPYKMSwjO+2GO1qi0pIpxZWd8W7sDTRjNWsKpKuVdlGRsMYE+AQqHJKjLcXUCYdgSOzNf7/S763LbnyKcQ1riVEVXr9fPnW8/5/fvrueSd+7EQMlFr7713znPPOedqhlsYjADVfu+9S/e5594ezNf5zgEUud+vtYr+818/X+e00lJhic/8fq2VPvPr3+77nAksygbps+AVcs/59du+Pbb9+cWnrbXWAuY+ZxgbsD3lz4Wo9i6P5SHA6bEJlS2EUFZmC0L1A997LxG4JBmhzIzQ9MQSzHlOQ4YKbIdqpRSrz5Nva7oy24pdBXgEwmNFZFhMYMvE2vXJ0Z6+pwJiJNBUe5CiRgY890lp5DGB7Zkea7owBk8/9Fny4Azcz9eZkf7vpNvu81XYdqxvDRMuf6L0gD2y7ZTw2Ab0F33fhZdVxRaWAAAAAElFTkSuQmCC'/>"
      ],
      "text/plain": [
       "<IPython.core.display.HTML object>"
      ]
     },
     "metadata": {},
     "output_type": "display_data"
    },
    {
     "data": {
      "text/html": [
       "<img src='data:image/png;base64,iVBORw0KGgoAAAANSUhEUgAAACAAAAAgCAAAAABWESUoAAAC+ElEQVR4nAXByXIkNRAA0EwpJVWptt4cbsYOwwQc+RH+nRtnIIIJ20N303btKi0p3sPfUClVSb1vCYRAKVmZcP8cFtZWSYm0AOlSasBWohQCpMjLNPX9Z9SFbmukS8ZdFoh6TwBSIJFz0zjd3gfTWd1IcgCrTVJ1J81SSBDKLbWfNXnSttxXJMP9Xh4Pz19aq0qVs9KBi4eurM7U1s8vLVEM4NEYQmm0ACApzjSSoDrXzdO5IZCKE29bSAEzJGmlPNj/DELJRdPuTgSi8CH5JYTFSWC57qqyLHBbnddKKUMmex6Xzd2tQUygqggFaisxrElu0ZHIAOjWuReGUxB1G3Jjcs5+nIyIzAQImcNUioV9SNQ9ZdqIM0TvMGWhqIR6mi5dGPvovdNHanwQgshoXbaVtYQgIbp1ZvbLfC+VC0xCd5U9qObcNEb4sABsmSMA998dSCkloiqrtrIqL54AqJ35r7m1HA4P+5evjw8F8DK6lNZPTB8khQFxGd/p57Y57s4vT+dn3JZ/Ltf3T7ye/EwAKF2pQ/DN6fjD0647mfgxDMPl2qONPNEKeV3AEPqie/6x6/YV+psb+mGZgbO/UQawwQtsnnZfXo5ts4Pw+s19vF7eX6uHNCuCVILTBtX5+HxsbBHS9vaHG+7ffp9LPhLTGBPWlsAcvhwPSvHkx7c/0/bx98xpqtyNIHOtNWXqHnetgBTXz8sKW3QZeFmngcaULACiPrTNLviM7NmCiF/dZ5jiQVMMFQkk0HXbGBElSLH/Rfj+eL5x1aCjKtKaNShbG61IulV3+qe0zZfrGFVtiJJYe9/+enqsUJA0KlQqS+/GoumTKo6WsplnjwkV8MYEqvGJwI+ZmTYsdi1xYkD0bpqWYS+BhdIIAkKYtMxSKpq3ACTi1v9bS3HSmw9SiRSCj25JsispZU7AvRWvee1vMqXExkBch7fr5FFHyjmjwF4Enq+HVkQfYvlAab59vw4BqkjMgBLCh4PEcZEphlgpDZuPMTEg/Q9xPMVMx9ViOwAAAABJRU5ErkJggg=='/>"
      ],
      "text/plain": [
       "<IPython.core.display.HTML object>"
      ]
     },
     "metadata": {},
     "output_type": "display_data"
    },
    {
     "data": {
      "text/html": [
       "<img src='data:image/png;base64,iVBORw0KGgoAAAANSUhEUgAAACAAAAAgCAAAAABWESUoAAAB3UlEQVR4nF2TUW4eRwyDP1Izu4kduMjhev8zFGga/94ZsQ9rJ271TFAkRelPsYXqfPl6mv228c/XH38/Vvfx8sfTlyFASRQQvS7solPedplBRAiAlOxHasqoQFWlARCJQETe3rp2Bw+2a5iBiCIAi6yrSal09pYtBgAkEFCys+05ObO3JI1ApaPIo5Uf/8zrGb7V619v35/tGBB88HQTUJnubQUMtwUg7Kv3lsasrNWyb8DHNOvaa0PN2qs9rMQkvzawHmsvXIN1MUdJ/2PY194bl/bbpaNs4vwWmaxr75akfe36YvNfkdDd2Ujpqz0twSCEBKHSXqyU1tqP19Nn6pOGALiEcHq1agCyw30o3gFSw76Wj0PcLnITJDCPskXWY4/zlB0MCXdfYB5W0ayVeR4Sknn3GYBx2IO1ujWOugEBGu5GjGmJ1cHDEEmfkwSVZPUtHwQakIRSZ6zaP6+1fax1HN+OcZBmEBQhwJKrhFSD0l3GcfctIOy2LavGoVlWFI1fKYR0sGn7bI5hBB+lBaKtpsawLTiHgsh4DzJJAnWcc2oM6Sg3ESOQ3P9nap5P46tL6lkmRL9XEBXzWONERdlEUUaEhCQ8s/XyvPspmmHf8Q59yjGSwZIkoSbiX8brGEpsfPPSAAAAAElFTkSuQmCC'/>"
      ],
      "text/plain": [
       "<IPython.core.display.HTML object>"
      ]
     },
     "metadata": {},
     "output_type": "display_data"
    },
    {
     "data": {
      "text/html": [
       "<img src='data:image/png;base64,iVBORw0KGgoAAAANSUhEUgAAACAAAAAgCAAAAABWESUoAAABy0lEQVR4nE2TQZLdRgxDH0C2/tjOIqfL/e+QKtv1pSa8kGYSbpsEH0m0/kmQ1ve/PpbnPEf7989/f50z/ePvHx9+N6AQArDPy7KIPbZLVAPPu5R5n+oIlTdVltwQIUiQ9vnW1shl4rJQQ0AJsjLXJcq9urgkIRqABABlX3LXYW9qlYQcSplE9uT69T6n1N/q/VtHCWjQXU6SyRiLyd4R8DCEQJLr2ttYOveObEEMoEfguvYe1JU9qhIEJ4BuifPc15ZL+5zqKgHmiZDsc89gc53TbSnBTwNIsvfsIGVf9LK4pwgEkNgze8TMPqO2TNxfh5JImBF7X5dcQo78KU9QlQRk79QqgSQ/ExDQDaZcZ/podG8yj0TQcZSVmX3RR0sC9b0BBdA6LGfPHq1V3AkB8WD2sp2d4C6BuCHnSaDaUnZANgh9+kFMFDIJ1nD41S0loUmClXhq70lUW0ct+x6vc/shYLnKkqpXtSWIaMhtDQQuJ+5XvMrkcdR9jTAKVcYl6ShFkP9Mm2zHax3lKvuouwOdL0MYr9e39eHGrNJ8MTwZstbrWi/ZUhkF5dPVAlpT3xc+rCZD+IR8cAx69aRznyk3A/8LSQ7cf+6JP/CnITTnIaRUAAAAAElFTkSuQmCC'/>"
      ],
      "text/plain": [
       "<IPython.core.display.HTML object>"
      ]
     },
     "metadata": {},
     "output_type": "display_data"
    },
    {
     "data": {
      "text/html": [
       "<img src='data:image/png;base64,iVBORw0KGgoAAAANSUhEUgAAACAAAAAgCAAAAABWESUoAAACzElEQVR4nC3SuW5bRxQG4P8sM3M38loLbcWyDMtwG6RNlTxEyrxt6nQp3BkIHAiGAEmmRPIuM3NOiuQFvuqj3/NLoqG/+vThdvPy5X6R6du3P74sxcLut7dvw6OCJOS1Q3VN36eHSTRIcZEq25CEWzXUXOBwTuyn/YFbo4ZZMnapEU0K2BKTm2UXOh6eeVZrRbuXehZbgTLbbIu5u3bk8/RyXIq+3/748xg6ERFREsBOgwMMzdMssefNL2EtskkSmDn7m3h4Mg9bqfn49c+/c5T+Tf/XUxwbEQoKChPc3SvKcX2eZggj54dcRAiAwpZaHO7Flvvlft4jBLJ5qhqUqynDiQB31OXwdHxY9tBNZ1Phd7ERr+A5g5IC8GV6fFlzpabT9XMJtykkNzDwH2DlmI/HshbWZKc7S11syasxoGQOd1uX+Z9ilYL6tPowxESAqWMyMwc4YH0wq4R5/X7yvmlZWom6ALYUg8dxb7N7VczL18xnSRErKQMwuJm7p3AtIJO83EE+NoQQSBkRK3x2W02H90wwlGn29GpgVhFVzA6ri5tpdzlGYiv5tKDdbkWUXNVm8LpGd0e32whpPS5LpbO+Yw1qUReAgdWAGq4GISmnas4fUzJNtio78Ayf4A7aDR2LzQamsyjCxFEVteYaqFo6bA7ryVyleCsX4yjNXErWus4nXKZcxzk9zg4LaeXN9RC6zrIb6eribOzwoe+b/pGIw+ans6ZvtSjASl4KFzOrgUK4vIMlyjdp6FsnYWZ1EKoXN+ynma8/C6WeWV7v2oIKZzUDwaqb7Zs1XnQfmmbbpebqYjNZdhedyQw5m68Rm/H81/FV2I6d3lyKZ3KwZilVnEHrRRdej1f9LvRD5HMFBY8mispCQRl8FY/ntyN177qudcsECBVVsKqFSK6dc3tzecg/WGo5gOBFCEry/0kHhMOSiJmZBQQ4gH8BTL6nIT7LnycAAAAASUVORK5CYII='/>"
      ],
      "text/plain": [
       "<IPython.core.display.HTML object>"
      ]
     },
     "metadata": {},
     "output_type": "display_data"
    },
    {
     "data": {
      "text/html": [
       "<img src='data:image/png;base64,iVBORw0KGgoAAAANSUhEUgAAACAAAAAgCAAAAABWESUoAAACOUlEQVR4nC2TS5IjQQxCQVJWVbv75nPbHtuVH6WYhYcVC+ItCOCf1fsMz/5+vVMAza/H9+MrJNCAoJmZcmVuAYB2WZvHNgAAEbRolXOMkSUYdmbS3GGk0RgSzdeevSfMAlm7k34wgoAhCjRnrTnlFqcn53rZcbkJMDIEmplyLos4H23byjnGPEoEwBAZMqoE83Ydpf7KlbsAmBHx4RA092itaTUrqQQzJxkAaXFetew8mvs2N5UE0j2IKIJqj31MNA/uTMENAD0iwNgE1H7s7BvQ0urJcCfN3B2MbRTOK44YM2vWHANHc6OZuwEBgPSmmmPNmbnWVjQjaUZQ8bEWzsrRx8oC3I0fgdFg9HBZZc7RV4kOWhhqO4AIgEZQgrmZUVIVBEkCGQRI1dqIi3GsnXOrMrMEmikMBHaOnnbGeeXurzvXWplVACwclHK97o52sHa+ucbKOXNXSQiSVet+vnuLOBzZ8qnKnbml/wHs/vp9zqud7bLCO1CqKkmAQtBe/fn7d+b1YGvZ3AAJAEggJOwc9/s98LOqau8tIwmCBBEF7b3mmrPNOUeu970AQcKnh/rw3FG5BjB+X2luJAFIDED0dj0ymf1513y+K9xobiipgiDivHJ15HDkvAeat4gId/5fIzNr3ol111pjtcvbeUY0dzLKjGzHo2pUrtx74/hux/fjcRBliOUwMY4v3XcfWWA7v87z++t0QlIMc6IAejRxF2CHG1XbKDNEsojPkz2wC6AJqFIVAPwDRcmksjQ5JNwAAAAASUVORK5CYII='/>"
      ],
      "text/plain": [
       "<IPython.core.display.HTML object>"
      ]
     },
     "metadata": {},
     "output_type": "display_data"
    },
    {
     "data": {
      "text/html": [
       "<img src='data:image/png;base64,iVBORw0KGgoAAAANSUhEUgAAACAAAAAgCAAAAABWESUoAAACNUlEQVR4nDXSS24kSQwDUFJSRGSW23PYPvkAHpcrPhJnUd37BxIEyN/W+mjtuu4rqJNs98Dr69/v1zp5sgKoPE7vozFzzeryce9rbYMkhBHKFKNF6cyfM9VGG80JSKogVHlSZqbKPZf7/Tk8wqA6qSBQ4klBqsxzau00dyPq5FEQKmntNTPXPiXqpEhSVZkKAFLtn68MrZ1srXnuEghVFYIUxPPU7ITYrd1N6wgAJCiMopjP9Rq9tYjoV7dzRBICEGYqIOc8st5G76O5VZUEepaCBAtK2S5r47qaUwIAMycUKEhVlUyaR7gDtHAPd1IVKahUVVXS2YZDC/PWews3Io4gSCRRizmbsV9X9D3WDDdGvvcYe7Ocm2Ycnz60x2phZiEBAtyue1iuLPDS+LCIaP5OEER6f3w8+DprJlZ8njAzcwKRhESP6/HPA3a0JzB3Os2MJEKiAMb18fkLnE8IUCXINwkQBL2N+/Gwen63ZB+NII00szCAoHlE9FjXtdwej44sCQD5FwCobDHuc8X9a+CckjJL4QIB5ZlPd/ZbaOPu2Hufk5kVBADUeT3NGuMC+7hiv9b8fs4jhARA2j9O703NvLXA+Xm9/vueCUYBgEoMg2730YLIvedKmYtRNAqq3BM617CUVFuguacpYG6ogqsqzzYlKRRIMxKIHmFQgiagKkkHYPYuVsWwIEQBkgCYhxG5zd6/D+MfS6sSo40IoHKRIJWREFU7ES5GC6s6Zu3KPKOxzv/bxKJCc8o7CAAAAABJRU5ErkJggg=='/>"
      ],
      "text/plain": [
       "<IPython.core.display.HTML object>"
      ]
     },
     "metadata": {},
     "output_type": "display_data"
    },
    {
     "data": {
      "text/html": [
       "<img src='data:image/png;base64,iVBORw0KGgoAAAANSUhEUgAAACAAAAAgCAAAAABWESUoAAAC+ElEQVR4nAXByZLbNhAA0G6gAZAAKFEcyRpPHGerHFKV//+U3JJU+eCpeCyNKHHD2nkP/9Tnl867/fA0WJm3BfenPV7/+fL1Nof1cZ8JapzbjI3rvIzbeCuParqndXysK9aQK2nJcaMqmp0t83y7rq52HXnfSFFjSok01m02kVVDtYTtts709klaoyTW9TZGMljDFX3kWssWY1homqLVjRQ1TeP3RBJ4jnF4PC5+naYtM9YQLZKUHO7vcyFAkesyXV83m5c1yLbtaONUATktS2RSovqgLlQOXtWKTu73ntNaAKGmAkyGqjRy/ev4sutaZ7XZ94MMW0IUyABAVteQxfzvl/vv5LzfdQffUM6ZQRjfRCZFNda8zVEfD2T649ApwYzMIMyueTBlqJziFuNlEtoY1xAiSG1No7URDDRxqev6yLytNW/LjVdQVra+u/vReQS61Fo5ZwCJeZLp5rVw56Ht+mke+05HWpgRUlX0fKI8TlIRdZs+7Zb7w9lOI4Vaa+bq3R8fdypNIbMc6nAkY5uWWjvSO1coqA6ff3k+ies8v43wq/7hN6WN1loJoAWRs9SHz8dPJ6D1/b+/szhNgUhKkiSBkhC1oDn1zy8/At7eOHLhGpyQQklnJQEKRNU/9f3zR5m/fzvfxUvXIqMkKaVWZBARdds0zlsc+v6jNR+ed6LEAsBoFPkiBJoWkWPWfvcUDs3pfIR1SynndUnUZRSIJaz31+YF+0PBtj/7usz3dQmPayIFACzmS/9G1Co/ALnD0U6X++3tbbxEppKYmZPoG6T9LllpnbOwfXsfv15eR9D0YGRIy2qtwHo07dA1hOtjnh6pmH3RNCuneFnW96vCGg6VQoEa74VBKufXQsINDuYFHecct5l4MVhLQSkISSDTz/3BwbawUsy1liAACIUgFMA5x4l+apwCozNgKVxYKOOUwGYWUkJaloUaQuASQlFNKSy0fbKNgLBMgkCKPNIonCnT9VbO+4rWWZMTk/EfQtp2VmyX/wGvjMq5tYmRMwAAAABJRU5ErkJggg=='/>"
      ],
      "text/plain": [
       "<IPython.core.display.HTML object>"
      ]
     },
     "metadata": {},
     "output_type": "display_data"
    },
    {
     "data": {
      "text/html": [
       "<img src='data:image/png;base64,iVBORw0KGgoAAAANSUhEUgAAACAAAAAgCAAAAABWESUoAAACOUlEQVR4nE1TSZIcRwwDkMxaehvF+OT/v8BP8sE+KUJWzEx3VWUm4UO3HTqTBEEA5B+Xy2IgH19//znKcp2vb7dT0DRgAPEFmUDuj60fQmDaD5yrDYAGYltsuh/fP+88o4zPY9veIsRMkEBwucxs/f7Xhss7xv7j548PrfPKlg7B8e2yhFu73++n9wu7vtLHvdm0iQTjtASdbd8blzV62dA8xkiBBIBYAx7t2DujThPKvRvZ+xAIgNBaOXrbt65gzMu6VuaxH90kDCNukSPbtjVqXlaism/xrY+0QQARMTB67yNRa2WX+7FtR3+WyWgAYEgkKErIzN4SBABAH48GKkLCsAFKZI60nx3aulFrCcEwKD5B7CcA4/v+tqJOztatoAsNgUUwq3uLn1hOjJB7yzRSpIpAGlRiqA2jlKLiMY6jJ6goEQTgBBhHG5YUtY39MUXrVikRxc/rGANIWbGM/JwZx6M5VCth0AYDIEjN19RxVx1bVi3LJBpwGsEoVNTl1lsee46uZbqeauFzA6JGlMj5nMfHjlG99zJNUy22DZsxTxFinND2f/atsHGRaiVoOMmY50qa9bwvQDczptNl0ssJMC6L0olSL7dmSq7X324T4GfsHb9HHtKKXM43UlKplVJCIAzEBAIEyPWdhEopIl9WAQiQL1m9AEBQhX7pCDhIkrBtwAY7leLzqwAgRDzjmYi0QcIp4r8l8brHQKnpNF8D/3N4JYsUKcMgfuWIeKUXBNI2kgR+gfgX2itVi46ZvHoAAAAASUVORK5CYII='/>"
      ],
      "text/plain": [
       "<IPython.core.display.HTML object>"
      ]
     },
     "metadata": {},
     "output_type": "display_data"
    },
    {
     "data": {
      "text/html": [
       "<img src='data:image/png;base64,iVBORw0KGgoAAAANSUhEUgAAACAAAAAgCAAAAABWESUoAAACMklEQVR4nE2TQa7kNgxEq0hKst09H7NJ7n+LuVEQIAgQ5GfstiWxZuGeJAR3KqnA0iO/PbYQ1Pe/fvu927qV9fHcPh5mOUUDYgogaObm5svSnh8fdbEUSAiIV/UgMfrVBZpHKaW5gLsRdIPm3L9/HiOz9JKS8F/F9lwwztcfn6+xADhhEXTHT1F8WUNz7H9+sj5j9OPv1zXZgpBAAbEENa/9n319fPg4zn6OeFy15EiSQAQ0rtd+DN8ePuy4eo4hABKMQlSMfh778FpbSa6XCEC3g4hoXf2173NppTRo2bug/00Sxuzn65gsy9pyhGXOMWaCb8FMzTkmrC61Tmf2sffMf6OInoIgCzc3IefoVx8p4H7DEkYS5gYAqZkwZd7nJGwX3ZG3QpmA2c8YCdA65ZZ9pEUYUoIZQYG3wgAjNUcajamccjc3CiRABkRIRjAnplL0iHAAbjOBoCQxxH6eMcaUl1rcARiZaWGA4AtxfPdyvQas1FYIURDACBO9bcB1WPT9QonWCgUAAhHh8LJu0+bp3k8U39ZqAIgEyCghb4+zX9chn9229nxUpwClAEQQLNu179c4I6e1ti7VbgMQCCjh61k1z2mp2ry2MAmQQCC6yUpZH88BcLBuz63cDhCJDKU15a+lzpk5tXz9spYbBYkUAgBIPH6RBNI9wt683TyQQKa4CYCbg/c/EBIlBClJggmgm5ndV8UbiCAgpcgUNNMl4g32neQ7UmemQCjfW32X+APtv2taBJG4rQAAAABJRU5ErkJggg=='/>"
      ],
      "text/plain": [
       "<IPython.core.display.HTML object>"
      ]
     },
     "metadata": {},
     "output_type": "display_data"
    },
    {
     "data": {
      "text/html": [
       "<img src='data:image/png;base64,iVBORw0KGgoAAAANSUhEUgAAACAAAAAgCAAAAABWESUoAAADM0lEQVR4nAXBS48cNRAA4Cq77PZ0T0/P7Ex2WbIoaFcgERQBOSCQ4IbEAS4cuPAD+QfckDhwi4QQIgkRIhEhhOxrsvPoh+22q/g+/HZ+NE+cNq/Xz59G7ZZ2WjeTky8/1eOPl0f3piMxMyutDWlFqOeVa+bL6Z37fyzHo0aeoKHBbHqtpR+CZ1CajDGTtz7urusL5dZ7RgLSmGO8aTfdmMUXhpljTpoDyE5AaHp4otc3u4td6x0gBNRk1cOzMs7yaCIALd/5+q+fw3B+RdXcRt/uupD12nyQX1zo2YaBFl8tH/Vdu+7KZm6i9ds+UH011uyfVqf1mOmA/3m89/suuao2QU0mPuUkGeC5V4dz3tE3xQ/XbdcmXU6ctdTFrADk/BZvsb7ZuUKdHoxtv98yObJ14wqyCJJ/l6yUU4hAgMPg/Z5VUTWLMRaUY4zhKkvttSgFSsaQUhxB22J2tCBIIezHccg5Q1pfJ1DbBywCglqTO3QiOY4+RN+3gU5INNCLoVSoEJ1GROaUMyhOYwLr9NIuRX1/g0ZBBkVaFZJEUBEIBDEa1Mo51d4RMpyYtV1+JpkZlVaA170jIIVIuCsImWVEvXKDSGKjyZSzQZZTMEqIhwKEURDHVz/1OWckq22zeFXcN+EXf0j0OmVGDZi6f7d9zqKdK4oFhhkBPulfkobEYFyAtrrc9sPIamKLydsxeFYxi1LVu4XSblFg6Hav9+0A1kxcfXw9WISgqKHlJ+VTM22ySl7T6KGiWTktm5fhFqSNxYa+M++VZRz84El0Hql282lVW9GWu2dAiQ4w6kmo25su9jYnrFxZLz6EgDml2V40oTxgO48F5/1ISUqkYnp8N9xIv/uvP86GHp/uKsZ2ukqiALAom/rgC+st9+frozvbv+m3cO/97tHtX11KzAnccnWwWsAQi+5iXMyxp7pYYLHCV1lYRClji4OPIG3UZO+1cB/opOH28cvRrEREla4ifXbW8hvHE7ncLKIv8Up3z/7soh8ZkKbu9udVCu1Ya0V9RCVMhRq2Q5e1jonTfgjXdw+pna6RJgJXsjCEmPYspqHeR1Ca+4dvrhJcMTqte7HF/4425HFTzohCAAAAAElFTkSuQmCC'/>"
      ],
      "text/plain": [
       "<IPython.core.display.HTML object>"
      ]
     },
     "metadata": {},
     "output_type": "display_data"
    },
    {
     "data": {
      "text/html": [
       "<img src='data:image/png;base64,iVBORw0KGgoAAAANSUhEUgAAACAAAAAgCAAAAABWESUoAAACfElEQVR4nAXBAXbbRgwFwP8B7C4pSrKd9Ai9/7362tiJaEokdwF0hn/DA99SiwhpplWOg23SIpkkxTIRsdO7UKV4Lehbt7lWRQJFzUkZycwULXMpDe117mcthgDFLFQ8KKpaL5dLNUGb1vUBF6qJiYVSABBS5uU2Cch+/+cPMrXO7SMt0qMNCiFlKYkEq45tC5vffhQ1AygQICIyiH2PurTb0sd0/fGhNEtAIAiM0U+L9RFXnabbK+v97RY9LamEOYb0c/fx2KSOoRMTatm3sEwKC4I5djE/U2phwId79P7oBkBoiHQ/UrNDi3EcI8JP2bfdAJAFnsjjNGGZJ8tzH348tO1/nsZEQsMywz1qXd7fl3ie42Se5Xw+LdLFgqLhSbl8vL9d8vn1OfK1rwg2Q7gYqEiA8/tft+L7r39XMsKT7WJgAhBRTdXLfdJxPj7XhBCkWDUE3Q1J1VbmxXzffq+HUpgACIsAVUlIndpSsa+P9ZWqZvQxPCw8oEoS2uZJ9++vr+cpKtNc4vU60sIJMYFKaUsdY/9et6xV6sc1H4/PtHQkawqkLTcetRQrUlTb7SfEf3XLBD1Ba61WMu9dXsgTZZ7l9Xu4IZgOammFXaVeeR/9+d9I9Msi5TQSgEsijs0plOXCXPuer2JyvXeTADMj48xdtDYV0zSVc00V/RhGoQgyTscIafNUqsZz9Nz0u/LmZpKqItn76GPYMtVq2SN20KBWTBVqRQGPiIxjUDXY4vk8xjkNMwGLNSIolhCGJzIDeSLPixcTiKohKSRBRFjlOKdQ9q33ainIkQhPEVXRUkxlfOfVR3j4bggNGUggkR4RQ0V5CQ+PyKv8Dz5ao8zCJqW3AAAAAElFTkSuQmCC'/>"
      ],
      "text/plain": [
       "<IPython.core.display.HTML object>"
      ]
     },
     "metadata": {},
     "output_type": "display_data"
    },
    {
     "data": {
      "text/html": [
       "<img src='data:image/png;base64,iVBORw0KGgoAAAANSUhEUgAAACAAAAAgCAAAAABWESUoAAACeElEQVR4nCXPWWLdRgwEQDSAWcj3JEvOEXL/kyVxZEnchgN0PlI3KPwpzBx3qaYq5lb83i8pxZURFPUUSF4j0s1MBRBxq90MGUyDh0IyIRmk6JQiMaiEKR2AeqqSqWbmtTazStzXcS6tQMxMPIWEQGH1uS4FCCTPr9EKoNbcRSjexIC6PJeq5LLUv7eRQ1VxqgugokIReHWhmBXshyTU3ZEuUKFmIklmjPBeH6/npXV91G7hgILGoMW85rXdy3ttvWVZ396KKh1QTUsw5wk5dmLSm1t7/eMH0sTxfzbI+wgZ02uBaAb6WuOmOgAxDyNHDk3x1izGCAHm9S3qzDSoeea8w609Vue5TQFvOT7TnGGeoqpBSukv729tXvvIayu+fc7qEKHAmCJYfrw9nzWP39udG4aeWzQnKQpVI3x9e+12b//8tUV8n5/KzOkZkQ6iuNXlWXkeH7++bpLXEF/s8pAIAFpa673kOL5+fwUACsRXGT6pDqhZW3vJ8/tr+x4KRZLihe5BzYRqXR6V4/vXx3mjWnXecwpTPBFCoPSXF5w5tq9Dmviy6tgOyUknU2C1r70za63l1mLl8bOd/8ogq4uAYqUVDXh/3rZnSH2+L/vcRuTDAZAicdo0xWqv1/ZxaO9L+pzB7mZG5n3MvbbmuqzcSUdI1QzR6kWLIq6R9P5YWy3mVjCOhtojbfFqbuAd8876fCxLxXVNHKUVealpr16sqmQIGWOfe6/IO3IvW5OXJd1cvYgA6o2CmMPSbM7UAmuVCpcQIcUVQs5QZUpet0hUMeZ0copQEqqqEEVeo9xxfc5qhUoXiJAQYQqsFMN19nbH3Dd3av4Hc1qhadJY6+YAAAAASUVORK5CYII='/>"
      ],
      "text/plain": [
       "<IPython.core.display.HTML object>"
      ]
     },
     "metadata": {},
     "output_type": "display_data"
    },
    {
     "data": {
      "text/html": [
       "<img src='data:image/png;base64,iVBORw0KGgoAAAANSUhEUgAAACAAAAAgCAAAAABWESUoAAADcklEQVR4nAXBSW8cRRgA0Fq+6q6uql5ntT3x4AUEIeD4QoiUC3CCAxL/kBvHSNyQkEJQhFgSEUVCIk6imMRL7JnxzPTi7q7uruI9/J1t8/p0EW8mitNkI1Ci+PvI3tjuO12xziGElFGbX9Zar30/CCwBjCaDjR4H0rZd6xAoPJ+2LcJ6pdtOYaNQedSqCDtgW0IJg5K7ZdVhR8hkd2ePu4Glb18/Pbw9kBQDczHURrcuJgz83S82YkmxJt/8+PLB85vbHvV45AEiBvV87DG+PRrHEjqThL3vH5P6pfSljBVYYGrtINvYQPiuNZi5Ltx7ZksIRpOQ1oBdhbTb1G1x3Rmjq9oLvP6nn7+QO3enInZawI7vlOFCd+myWFfr82K4J2T4YbZ1b3/KKRig4CoZXV+31fkVxbPf9JebnRtsxgc7eyNkCQbH5SLsZ0Xbnj15Hx3PR0pSBEUKQQxGWwIAjITDRd6as/JY5GSYSGiKVytEsannlkFX58oVQVFW2SrrBR993OcmuzyxxGi8Omk4dKuENlhJ71ojOzo82J9InZ6e1i93BJv9V4UAje0QS+qStO6tb3fGQ25Wb3+9qB/CoTN/uLwJui21z6XoNc7g1t5WAPXi1f0/yuqf4xHvqmoO12yVK3Dke77wewPPpOs3v/x81aFunWK+H72GDC3yzMVu1FNR4HXZ8vzPn3JKoTME+7edN1BYPgOmuOv3Qt6m786fPThzXE51ZVE4bXpQd6xIBedB0he2uPj3h6MlHUXToX4zz2iTWTCm7rQQIhnFqDbFo79y5NLozpStHz+15cyAtTWh4XgQKWodKffCkvpiuvuBTAPyoqk2ASFS0Vj5glhE1Ohu/Ptqjfc2piKrx0eL6h5gTHVDbJUxnxKcsK3PLh89DmMPpDebZc0+MMdHXV4QPReBz1nSs4OmVrhjQIoy4yEEbuKRpWHX1Xhr3PclB863SZ4yLG8t06QHw2gQyeZ0ebbIJ1990o8UyZeX7EoqhvZ7jdiA0XBHodQg21Qnjy6n2wGr0lkRCqXQJO64C8lgQjruyUFWY7Z6dxSX/mg2X38tCROeJRj0gtqmImPOjNUXqcd1MVsfnyNS+5ZZVEPTnbNaIwyOYHSCGdVXlzfm+XNxx/c8RCxQFzWNIQgbbbjwOCdRsnXw6urqSTPcqFT2PwRprhb38pfbAAAAAElFTkSuQmCC'/>"
      ],
      "text/plain": [
       "<IPython.core.display.HTML object>"
      ]
     },
     "metadata": {},
     "output_type": "display_data"
    },
    {
     "data": {
      "text/html": [
       "<img src='data:image/png;base64,iVBORw0KGgoAAAANSUhEUgAAACAAAAAgCAAAAABWESUoAAACLElEQVR4nDXSMZbcVgxE0aoCPsmWAp/jXXn/S5F6pkl8oBxYzl/wgst/AESacBsAImFPe0DCZP4FEjBoGyAUGI9tiCCYf5N0z38BQQJjgCRJ25mSjOmZMQDYQEhLIvvzTEpJtPe92wbgceRxhGzs+jw5tLqer697twH2IM/XDw+m635/5xMj9/N5fz1D2G2uMjnc9Xn//s4yZ+rzfr+fBggPD6yz7KrvX78+2UF4P8/neRoM4c9+9937fnb2NBmRxyQUmaTyvK6F3cP1WjkGEZF5jFYeGRG5MsPRna9jEmCgRYKK48yVay1Kjum+BkmGxnZXa+xlhBkiTLrMNADAXZ/CUZXnNZBDnO66zbRhALPvx1WlY/fMtQK7q+5mEubMzGA8XbK7xz4ECFOTUsiMdZx0rhD3TUYErFjcT5IKxPWjonis0PN279pNO4LTaYJ5abA6jgx9YNHT6N04Xsq9hzxonta55N91m5g9M7vjdebeg7Cv1ea5WPP97KDvILrmXAnC/1OyCUoSCYBkhDKIJveuGsxW3UP9AQlydorgTNXzbFeynhobpECizQQM976fu/oTrNpFGSQMP+0kYXqmnntbqmqvRSYNu+/JsQGJQD+gd3WktBY3JaGTgCVSktoeO9ZxHidiusuRIQJU5DrRYwaunz+v80SYdFaulOTIQ5E92IjXj9d5LiYzdU6uTAUaMWs1sJGv64hMchRRzpAkNTSSzY18nVKICIrpfwH9N67MHHDT4QAAAABJRU5ErkJggg=='/>"
      ],
      "text/plain": [
       "<IPython.core.display.HTML object>"
      ]
     },
     "metadata": {},
     "output_type": "display_data"
    },
    {
     "data": {
      "text/html": [
       "<img src='data:image/png;base64,iVBORw0KGgoAAAANSUhEUgAAACAAAAAgCAAAAABWESUoAAACFklEQVR4nDWTQY4kRwwDSUpZhRlgD/6W//8SY9bdlSmJPvSaR4IIUALIv0UpRBIgJUkEwFAo/Ox0A0yZ9icRCcCQFCFG/rINwIbHAJjHsP0/Lv8yPNODmRnbEMeeGYM0Ii+KnvLHNEy7p2dmYNsZDMLR4xb+6MP6KE3KM2f3ACIJSkkRNGYmd9I++9/XblASwFzXpRTppycPyKn36+d9QEG21v39DRqY8+wc2/W8fn5exyJpxypK0HSd1zvHhnvv93MMiR61rvuAVc/r95O2QSmuiSHJaZD0HJ/z/PPzJP4Uj8tSSgBj3Xe6qvb7OSkFBgCoXNcKKRQZGhSQdyREeLpOEQHlWitFoVG9vlcnCXt6PxtrPA0tpUhNRvKaBAFPn+ft1b3vMSUSHy6YIfVMdbdBnDNj+Ep213mKTElDZayZDLpeBgCoq/ZzPoHI++uXtiOIqfNWZtIG+gwSYNyoiVIE/f7xVHXTUKAOciDS37yHS+jfY3FmeoZyHyRAKr9WjZa8vTfIaXeV12UnPbINKe4wrrUtztF0tb6WU/BUVQ1SxpiyiDZch1+cJN3nnNNend57+HkUAEbGJOmp/eyaXOFzakSS/KxlnAQ8dfZuRnR3exkUDLuHnysIzzmWuhqRlITxnAMyCRAkMR7U6RAjFwee2gOlCCgiVrfHQKz7ui4XQUxBGZIVF6jqUeD+/v66L8d0PQ3Hfy3axN0+GZF3AAAAAElFTkSuQmCC'/>"
      ],
      "text/plain": [
       "<IPython.core.display.HTML object>"
      ]
     },
     "metadata": {},
     "output_type": "display_data"
    },
    {
     "data": {
      "text/html": [
       "<img src='data:image/png;base64,iVBORw0KGgoAAAANSUhEUgAAACAAAAAgCAAAAABWESUoAAADCElEQVR4nAXB2XIbRRQA0Nvdt5eZkTyWbBHHTvEAJFTxynfw0fxCXqhK2IIXWZK1zNbT++Uc9pvU2lwpJgUAV1VdGcWBQF7Xi8qkl2dMaS56NAQlFSakqpqFIEpCmcXCNHqJv6YUi6BYYgmRGJNLUwqFzJg0tVKa/R5KivPgs3fex1RAo49xcskXhYVqfEApsuttydaFlErm5OzkrPeJUogJK11hye3gvDQFGGcMUvAhxpByjLFg0kLwYPfbzheJSgrGlb4yRnKA7P2Au2tm0vHpy19bW1Brw4tabu7u1q0WPO2fPO6KkGH/7evnF5eRc1EIl9//+IsUmcG8fXzBEHPutl8+/32aiXPBStbaMmWymft+988juhDB9W+HbowEjPNCXuvXhzcQ3Wn79c8zxpKErrSpkiPgnKdMyFkcmdv33/7YTcikFklWpkpKGqURiJt3H+7WeRpO+8sUUTU1c6UQoKoWm3XTaF23bVPN0F+EbhwKLSm6aRwCBwX6+ubdar1ExWw5dqt54REQSprHYZzB+jI6VrdNqxQ30+G0ltYhCsjeD8OYIMY8dFOWjeaSI6XQn5lEbXScpy4SQQndZFPIkB9I2vPp7XkWHJvGeLlopSwkBCd/IAIGQo9jv78MArFSWN8+fNyhLagQXOq3dXO1ZjEzCj5xTMDr+9TPyx7bhcj/PlI4Dn2PjuSiOA/oiLP23uN7j7cNDKuYpPCzlZPFClImZADA24+bn+f6tolbf3gFw53N9jjGqiZCXYhRKayurzaS2Ieb1yTR7eown3q90oAGCoVz92bZd/oqT4kJXmnqE6TuxDcYUIkSz4eXyyUfLzfp+SlKNCiQE3Bky0VA5OSPj9vtJWz/a93leA7IUStMpfASfUABkO14eN31sm3sxc6FiEslMpXovSUEYFKx5M8XeEPnHFSNwMqQi/NgiQtEYIwxFJBzoNl5rcRidYOhS7MbExOoOROmXlytrM85ERPNh839PewlKpY9ITaKqbq9J65P3mGk9qdPn37YlMp17/eWsvkf+kkEKfCpNXgAAAAASUVORK5CYII='/>"
      ],
      "text/plain": [
       "<IPython.core.display.HTML object>"
      ]
     },
     "metadata": {},
     "output_type": "display_data"
    },
    {
     "data": {
      "text/html": [
       "<img src='data:image/png;base64,iVBORw0KGgoAAAANSUhEUgAAACAAAAAgCAAAAABWESUoAAACmklEQVR4nC2QWW4jRxAF38vMquqNCzgeLzOAj+qzGjBgwOZIIimKze6uyvSHfIFARPAPhyZ4E9S7Dp3WpdLMKQj3II1KUbYQIqViAKgmHiLRghRTQAASTIOVqFuDGivNHI0qxvBKooml3rguS0vCIEUDUKN9zPMaYtKNkrE958qoQKgADlXY2+26VJbhaF3bno8FuTaKZaE7zdwu18syR3/sHHV5n1uOutayI8OdqmGrC2PFpFljvm1Q1HlpA6V5qIjYkIbNHf2UsdyvdVfK9n4bjxqhWcNpI4GOtR27dnu96bGkdv2xrkRIknCxZDl30lqR+eX8OJWM9X7tq5MEKbCtoS/JK56vf51zGUrDfG/RnBLCgP0dwxaDer2/nR/Trte1bm4IpxDhsD99eLZTF8vtOqfDPrfn3KSIuwgQEfZWb9H1qT2u72k6DPK8vC2paARCIsLllObL7PSP1xedxl6Wy7/PYey0BQC4y/cvdl8D7X4+237KWO4vcdj3iiAQAfnt10MLoH1cLum4t7Y+7umnfaeflaTsv54UooT77tCLb9szf5kUIiKkiO22n9upoL7ej0Nny49/7r983yelNxeBhKVyzF87367bt0Ha7eXSfv/Wq7DVkKSEVek45urdfjfi8bHl077PEhEgAcAWz2XXPXQ4HkddPrY8nY59YhAAAmHOnPq0pbEOGl6l3x/GLkWQ+DxpkJQs5clTddWSpj7nXJ0EERE2qFKpedykVu1KHrqctJLaEIhmJctWGXmC9IqRuZQsESBJhoeZEhtC9wW912KaTOEBgJ8O9PAGchpg61pUNLM1DwQAkMYIIhAmLcyyB+itquB/iDlobA5QNknqHjXcGQA/CQ412xZEAKIirW2gVIoIEJD/ABpQiNSqFUt2AAAAAElFTkSuQmCC'/>"
      ],
      "text/plain": [
       "<IPython.core.display.HTML object>"
      ]
     },
     "metadata": {},
     "output_type": "display_data"
    },
    {
     "data": {
      "text/html": [
       "<img src='data:image/png;base64,iVBORw0KGgoAAAANSUhEUgAAACAAAAAgCAAAAABWESUoAAACiUlEQVR4nC2T2W4bWRBDyaq6vWrzlpeB/3V+NpjEliNblqxW63ZxHpz3A5CHAPkvLbAsRD370HidKzxEEpkiGQaIJBmdNyEJ5hQISQIUl2QEZFEsIpe60AMJoyAAiF+zvC1N37et5W2eVdwTFpZK0hS/L5XtuFFpVG/TnA5k0twEuJni9HWp7dZGZc7TNZ1VTnODZO5UNHW+Tj3CdT1fqrd5lbed25LyMCAe52WuZdNHXj5mdFjmuVhvyEVeIMajGl3resDl472Opb2ev7qehlzw3bbrOt5ubVwP+2PZ9M3l+D7eBwWngbD46kppKq/v/+2Xx6HldHhTGpJhFCn79ec8J+bP3z8PGsYmr59nAUa6EUDGT3o2eXnff8R629ttutRiShpIABZv43bgfDwcsbpfl/p1vjVdSDACEhGXKZnT+/4y3O36PB0+lnFwpRmQomCLjHnev8zDdtXU4+tBq6FAACRlyuhuy2n/qu1utPn4+tncrVt+A5mStV1bNJ9O/d2u0/T5Z9k+bBoC/CZgzz9Gq4eT392tfJm+PuPpYQiQ4HdOPD+19fw2PW2Hct2/HJuHp02hmZlIgBbrVZmm7J/WPn+8vN2e/9m1wczqhEm02K1syu7+ftTp82qbu4feDbnQgyYRMXZpNvbbDpfz0re7TeeSIIkAiejL4mVAy6zV2/V23QUAEBIAKBpLL70sheLdatV3TP2VEKHIW1q7WgpQRmv7ri24kQQgQWRUikMubaBpvLRd4wtoEiABVFSQfWSptXGL0jgSJEEpZUIwgaZJu1lj9OJaUhTIzESSUWrCmUuUSNFRE39PB4iyKEqIgIdlIrGkmwSAAEnENyyYk8gboEUA8T0G8T+yD4cfOxtUuQAAAABJRU5ErkJggg=='/>"
      ],
      "text/plain": [
       "<IPython.core.display.HTML object>"
      ]
     },
     "metadata": {},
     "output_type": "display_data"
    },
    {
     "data": {
      "text/html": [
       "<img src='data:image/png;base64,iVBORw0KGgoAAAANSUhEUgAAACAAAAAgCAAAAABWESUoAAADRklEQVR4nAXBWXPbVBgA0Lt8d5F0JdmSlzglTdKWlAyFGQoPPNBnZvgx/FcYZljaNCVJE8fYji3pWsvdOAf/ypMZ3m4kWd3z4/NydV2RZDIgRVBXWRoxiDDpOZUSplq9ODLWYBaxnuDgO2t8QHDtSZx5m5azpDzbPTwMkM1JxWLZhj4Q8PB+CJRLWaDX58Xu5moXkmKkaXw2u70FFgsL68FhJlKvToarmw+1Y8jojienow2CXEkDXW89SJo6/eFmVRuOD3cblo6L0Nm4nMAA4Lw1gFhsr+8rS6mtdyLLTyZ3u0Gdlc5Bbpx1oIqpXq8GIoLRPQdehNV2mHxN6himKPHNMDshH5e1jdK00VqMxCI8tPT5vPcTGBev2N32rPzndn2gajR6qrTsZ3EFKZ1TyAVsi+dvrz/B1fuH2mdxSlvdIDfBlTpOuAHq4QGBVv7u789bI2Q5X3ftEJCXoHguPEMtbAi1M7283/dE5hN12xtPoW6VcSqHgDgc6qqh++W+RTyb5Kt16wnndidmBHCPMQJnAjZP28owNS66zxvtuZBDNY2JO7SYAPEek36/rx2Py7le7Q6Ix5HXjmBX10/7FjBhrGnqjkfjI9XU1cDU6IQ1HuO+2ZsYA+GyrM0QWHZ88bTTLZKjZy8EARyGemO1IKPxVLWNQUn5YlodeoezxTcvuYooRR5h72B2XC73OkBcLP78478OR+Xpl1E+jklI4t7KDLLF4qoLJInZv++XjUuLyflr6dZ4LkhGnCjh2Y/RB0uFSsPN2hCpxkVZ4t2KLi6zQoSIka9+ueQgY6X808HzNJ88W+jVYK1uAkRJ5OCHE5VSEQRxgyM8KU/fXlCLMGWhR47aHt6RKBfCY8MwlTKbffez2mLBgAdtLIsG2PJVkmgHCLEUx+Wrd2VQeyGp8Loz3GL469qxwrhEojQRyfzNJUY477XDZmhsTABubUwvlMkbnYlkuviJIt9LIS0z1camzAEMGp2fV8nn+5NITr6dB9R1sRNMNnvtcZrD5ccdHY0ft+Ojl7tenaJ+Y/1BB4Kddd72AN+H31Hw2B29GT+u8ZN7vD+bmsHxAAxCEgUwXaDBGJh/IRRd/hZMt2wBSRYIxphG4X/5S8PrJEGDoQAAAABJRU5ErkJggg=='/>"
      ],
      "text/plain": [
       "<IPython.core.display.HTML object>"
      ]
     },
     "metadata": {},
     "output_type": "display_data"
    },
    {
     "data": {
      "text/html": [
       "<img src='data:image/png;base64,iVBORw0KGgoAAAANSUhEUgAAACAAAAAgCAAAAABWESUoAAAB5ElEQVR4nDWTQbYbMQgEqxFjJy/3v0jOlm/PSILOYmxtBV3QgP5iu3e3Yhyiq+2OR1KX8zgiAUASCOyuatLG2LbTn4AgsHrPNTudQRv31ldhNIKudZ1vfo9uScKlWyGMMO51vX9+NJ4GpbFJaERg4651vv795J+2pGi7nRgjpG5T63q93o9ShIS6IaFNDBmarvV+nar+cA3Zti3MDdnnOY/GdhDyqASMLQBB790A2BLDzg/e9PcDfaIlwsHn3e2OQJkZwdfZ5E6wbQaZMcYjc0SDcVUi0Xz9zBzxeKQk3FC1E5A+2OgYI3PcijR77USyMG1CkiIUI7pNyXvulLK77fY985DJUQzZveZKMAJEhLChWyqFXHteM227HAIryra7doWxe8155V0PAqiqqqbbvpdjnlfcu2YD3vOae1d1g3DXPN/5SQZ315qzWlVGQq51nt8A46491zLg1gjkPa933C4bwLVXWxKSQvS+3mdid9/Do6taESEE7lp3DdUWCltduxx5DAm797zer8RIigjsWnMWx2OE5Kp9vV+v+y50I1zV5ON5DLm7a13Xmf2ZJJIM4zh+PTMEdtVeMyFobJAURz/yeeQI8TnOFLKMW8TxrIfGyDFCBkv63ua9kTGOGEHEjRWS/gPWlKH9yIklJQAAAABJRU5ErkJggg=='/>"
      ],
      "text/plain": [
       "<IPython.core.display.HTML object>"
      ]
     },
     "metadata": {},
     "output_type": "display_data"
    },
    {
     "data": {
      "text/html": [
       "<img src='data:image/png;base64,iVBORw0KGgoAAAANSUhEUgAAACAAAAAgCAAAAABWESUoAAAB0klEQVR4nEWTQXbdMAwDByQtO0mv1vtfpIvkWyK6kH+rLfVIcADqN0iKivBa00SGFOu1qKH7nsX7GQBJCkkgAPH+4F1HkVXRhJGQovR8aGGLrHOcvJwmQFH1ry6AzHF9fPjPDLmXUNaeZowk5bg+fn3OnxA2ejQI0xAi8ji/vj5/CrfdoYgCITXGBFHn59fplG3bsTuEYFlIRB7Xdc6UhG3CFUgSSwgh5TgrBUiml8rsIdaDJlP/2FldgB2bCrYterXZm9n/UQvwmsvdc3Z7N4x6Y5Ykes251v2aqy2QIgts4jGrmWute7btUFpZBcYGB9j26rWWUYiE4yizgcSjkTaeHWkk1QhgdVuS9g52qDsTEzXON0lM0wZBpBQtRxzjLCEp1DayFVI4MhZIWeMsgyRkA1lVma6QAOUxrtrd48njOEelM2NhozzOesdVljKPMQIp5G5QjisezEKKqON4O9ltq8YVQrFHgiIz8LbK/zVExPaWqEp6TdtIkcd5FSBh3MhZR4XnPW0UWeP6LN45aMS+mvu1VqOIGtdVCCPbxiaCtX5+7vYjepT2dCQbvG7P79dc+yoisoAW0s7ofMF63TswElAGPxzo9fqeXr26jXc+/gIUzymt5VWtMAAAAABJRU5ErkJggg=='/>"
      ],
      "text/plain": [
       "<IPython.core.display.HTML object>"
      ]
     },
     "metadata": {},
     "output_type": "display_data"
    },
    {
     "data": {
      "text/html": [
       "<img src='data:image/png;base64,iVBORw0KGgoAAAANSUhEUgAAACAAAAAgCAAAAABWESUoAAADJUlEQVR4nCXBS29bRRQA4HPOnJn78rWvHdtpGpQ6D9Q2LVUFbEBiA6v+UjZs+BFILEEgKhAtal5NHMcJft57Z+YcFnwf9gCz3sGLl12Oy/c/3vHnr3p5mTz88DO9ecO/fH/B8L+oCgCANs/K0lLSMWgBXUpMgAAg2xy1DczHk0mRmgAHg3THUuf0knMAAZQ1O1006fDVyypPqJXDr7QHmh1+wwygJJvZskDQ8ui0KrNcV66qFne3NvZecwFYUTxfmsT1+ODpsMxLF1uy7XS27WZuwAhuYu6aP2JxVHXyvSIpkqxhjNd/b3775NnjHgNWaVlMz+5XnRcFJS5N8hQMbN8/1GEh3SHnUI26ZH+PDdseWuPSzHoyXIaruPnzyZgn0O8UzvfmSZ8dIhprkQndaHC3ieufBiwqYG3Rcza3FBXQAKoqgCURP3tL2zo2Ic0f5eOqpKiiiBpV/HbhFTTeEoB6Qeaiw0YWjY+qEkKcXS4BAOgzAvDzZQQzGOZOL6Y+RAltCDc35AxSdsoBpuRGGOogIPP0IERpYpRauofN1nz3Ka+wbgZrarbWiD9PYxARES2He+bRtPd1j2uczR+Os87zYaGby7GoCGgIe9/WvtodTTK6v9/Us3/W2bBy9eL+AVEVMfrxM7mE/aedlB2mbA2FNmw7FytPAGCIyJZpd2e/m2W8A4PO3mFy9U7iyXncMwaNkrEesdwpc5dwVOgPGbhdhmV18kXqiMCQCSpaOJc5bgDC9r7KBqs0H76eZNYikDXQLlpkYy0h+fk1IHXyx8Pj54U1SGiIZPbrXzUZl7CjbbO2nBSDwXicJ4khBSWUqxvjDVPGBOPqaJBupG6UrGECVVEQ36aZcTZhku6T/VEb27O70QkzI6iIqABXO84lhlCTUSm+vb798DYYJiZofZB6m35ZGM6QQa3RerX80MA7NZaZxPvgl+3owBp2wJlFX2MTRWUdiRBiaINv18lun9kQ8BDwbpkqEmpTq0oQ8U3bPqxsikSIpBquPq4l3UWSf0Mb683Gt/7647UAIgBwwHDV7xfZrlW9bduaVUL087NpBFAF+A8cKqCwUzX3sAAAAABJRU5ErkJggg=='/>"
      ],
      "text/plain": [
       "<IPython.core.display.HTML object>"
      ]
     },
     "metadata": {},
     "output_type": "display_data"
    },
    {
     "data": {
      "text/html": [
       "<img src='data:image/png;base64,iVBORw0KGgoAAAANSUhEUgAAACAAAAAgCAAAAABWESUoAAACY0lEQVR4nCXRSXIjSQxEUXcAkZEkVVJ31Tn6/rcqDSSVQwTgvdD+L57Z53+ERMCMZGbJnQYBNIOZhQqiAIFmUCrDUz8BzTyqYAAZ4ThVVUoGBbAMsAihKPO+XlY9K0dOaYgwEip5gDZo6Lff1+xgw37kyebaH9/TjGHEpFn0tVdiufA4y6LV9n7ugBAuhUW/9BZlFu5crDce06xVCaGSeWuBHGPjeQStG2sc25kUGVUF5jyeGeMd5q3fuOC8f3x+pUEIgkpII3w+Jay/ljIdz8f3IWtQMApSnhMgayavoMbzsQ2YAwrCDAVNyVuV5O65Px97hVsBJoAkqoQa41RrS8tj2waM5I8hIcBJJKpdb577x99HOo0CwiFJ+DkGX6/rEttjnyQJGiMKrCyQktB66zzv9326YxJVcRU0h2CSZP3lYnN/HlNUTutidHK2RQIk6fb71sY+5GyEWUuPMywgCZJm/PPakNtAeCAbTYxv9+5GFQiL9TKP7THpLeCGQcbpDm+eKdJijXMcW8IjBAtmiykZZ1FDHmujHY+Cu0627hSi6KRSOWTLbdH+dR9uleUBGBR0Qsoc5fHvy3ps98dYHAWdp3cgDKyJmWnL9eazyDpntHBD1qoKpZFgtOXXWz6/NVsbZa1HhMPmiDLBGNH6222fYzyfvLTrdTFv3fZjDzgE977262U5Hl8fj/7y5+XqY+RJdw8KEpf10pdLe06Xlrc/K8b2fSRbjlDBLJb1sjSXytrL6+sF97+fBxtOZoAijDXsmHUcg2G55ef7x2juflSE05Bnbu7MPLapsWM+vo8iCtD/MnitjJltwWAAAAAASUVORK5CYII='/>"
      ],
      "text/plain": [
       "<IPython.core.display.HTML object>"
      ]
     },
     "metadata": {},
     "output_type": "display_data"
    },
    {
     "data": {
      "text/html": [
       "<img src='data:image/png;base64,iVBORw0KGgoAAAANSUhEUgAAACAAAAAgCAAAAABWESUoAAACSElEQVR4nC3TUXbjRgxE0SoATVKSnZxk/6vKRjLHsiWyG0DlI7OB93Uf/wFIAKpquY+gukVB3TQqaAAE5boWBsxBtddc5beHo8MJCL2u1/eJm2rWCHCdaQ9sbgiINFHn69fbUvOdMZDX4n1k5mAIYgDqNScDc2Wn5tTg2MKAaICqnFe2SKc3lGnY7x+fD1NHE6zKbG6Mz43oPn9y+X67HRurg6SB9O0janwcRl1f0+j7bXdUIQxGIsjxkG3hJgRp2+22M6sZkAAY6AAlc7m6fduPgCREowgRdBLdHtVdHcfjcEliCICaBiNEp9d1tu+Px27dAgKUQIJqCQ7lNbO2+x4mkggIIkkQIoCctTqO2+ZsumW0AIBmkkB1nbNtPwbVJaKjGpTophYAzu+fJXdqdcrZcbYgmFMSQJ1fr0IMa2UiW/EWGjSCAuA635NjP6yRCe8MObtVAAmyVTP3iM3UInKt2MPUmf1/Rl1ZGoeh26KXEIeb2qxK5oHqmfL7I1pmRpgi3NSQAMZAz3Nhe9yPakFCMMxMgmBmI7qeZwVhsfWaKys7JECg0SOU14XdmatM633NdV3RJgFOGnJ9P3Hc/D40r/P5mi0pQNAMUmdeX09EHB+fez7/fV44jhFBEmat7jXP15l+bLHH6/nrtPufj6GgwAapnO9zXm/0LbPfPyc+//7rUP8mR6rmdc5qI3oxbYvHH59bVYCkSeiqhu0j7luQcSjuW5gUJH7/7ccocRvbMIY7VWXqaGt2FzzkXSWqqqzrqjY/tP4DiEfEVW/WSA8AAAAASUVORK5CYII='/>"
      ],
      "text/plain": [
       "<IPython.core.display.HTML object>"
      ]
     },
     "metadata": {},
     "output_type": "display_data"
    },
    {
     "data": {
      "text/html": [
       "<img src='data:image/png;base64,iVBORw0KGgoAAAANSUhEUgAAACAAAAAgCAAAAABWESUoAAADT0lEQVR4nAXB224bRRgA4Dn8O7NH7zq2E8clbRMlgKJWiAsqLpB4C254P96EXoAQotA2FcG1kjquNz7taWZ2dmeG78N/GJow57BYbJs+Pv5uSKyWGmtb5SVMh3tIBuB601Xzj3d7lOFfB5h0Mq3WuyZ8/uoZamDMqFX97s3t/P6AM9uJNvAxFrVkR2S2PPEBkKOJ5cW7h+WBKiT2mgeoFT2K/Gr7r5dAZ10YGqy1bATxkNK97WxnHAV/cpJggJ3pMi7+u82VsQQ8CtY51SEM6eibn5KugSWNcbv6sJYkwGwSE2e7atNZHKdn30+w18CAjBLk8Xhc+Z3/9DT05XIuDoiEw9klMsLB2MQeOX4JbFga/mSSzarXdxgTno7Pg3bzkEGvFfJc9iWbGCDSjZ73f7ve4mgwfYKkFAx27pAhQdDADwfuTl5mjXJtD4Ph9VUjcjkA4dC2aXgKRwkuwyT28F1hIRldvEzrfWMVOK9TyPO4r+dS46l2b9eNNkF6fh32cBYYUMo6HFEPMGso+FjdiLZnyReXMfHGQ1ZAaSyiJXepVQabfTK/kZ3H0yyx/VowlMNeOq81vAj62mKE5ndvd61ljFX3i09mzgr4oAwymEXU9sZhYpb5TmPG/PKvz48olxrurTG9xz2MrEOUuX0hCY9mUas2OxqoGnQCqu2FQ5R4BPWma1TsB8dBJ1qOqn0JszTSsqilwZxTZ1ute+dHAapk4ncrh+B8GOk63wTSsCDGQsrWwehiLHUw8FXn93A8OS02ThqEaDzFi0PRonj04sfFzqJOwRGFeHocNxRhDtF0pNrH2gIm8cVX6s/3630lBKj6qFUWgKejsc0faud7pF6uZ/3tP/lBVQJUVSnkUkpC/Li6yckgZVlqX+t377fCWmvBeTgclUi3ZV6uVo8uYPHJt1+vfr/Ja5zEEQc2TindtZ1UVV4XZeslfnZ19dvHTyUbTk8yB1Ad060FTzePVVGJFpu0zOvFriaTsx+udQWmrAOHKbONqkppHMaoXbGahGz84udn6jMQzvxT25q+0QZDwFgWJtRPC8SGT2eED4EfcWA+x5iyxO8tCcJ4GHkhB9SVxcSUIDY63W4Ozot7MJ02xKqmGHS66eybX16Jxf8tYALFL8Wj9AAAAABJRU5ErkJggg=='/>"
      ],
      "text/plain": [
       "<IPython.core.display.HTML object>"
      ]
     },
     "metadata": {},
     "output_type": "display_data"
    },
    {
     "data": {
      "text/html": [
       "<img src='data:image/png;base64,iVBORw0KGgoAAAANSUhEUgAAACAAAAAgCAAAAABWESUoAAACG0lEQVR4nFWSW3YkNwxDAZKSqtrVc7yM7H9jyXji7nqRmI9yOxPpU4B4SZB/AaQJtCMrzyo4TaciTBA9VhIkAQglAShSIEnRaLHRwK+rEkxgliDQ6G6BKpIgAQkwA7mnwiMY4QwB0FWihGjNqUob0zS8DasgQBAAKdDHFCgOH/Nt6mPG5yUQIZUAxu2WR2pa7vc5WuM9iNchaD4ty/l85pjvyzA3738IOsHptrwd2WtM3c6CjxYAoC+/LPo00z1ihNZH8v0tXn5dqNH7iTMRno9/DusWV/UXBOktmEdGU25bJP4HCWUKUhXMqTyM/BIIRAo61nXeVzndUOfO9Ph246Ql1+e07TKRktGbBSVefZgTdRwp1pmwNua6LwzpVR+At3m4mUO7pvdxTm9HSBCvLNPa8r70lc31ucw/3luej9ALkkbziDDUtvbeNzFIBPXqkqSHO0v7v41YrCKme+B7EBLpzQkAtT8Z5a3596iBouARtGiDDnPAeIbw3x/eRzNE78PGNAbY7FcAkF3P3nt3FtvY221ZRpjtHwECIgCaR7i2Osqnvvy4tW7nc/uDASTr3Pd1L8EdpXz8/Bmm753NPLfPdXtsn3sNXxH69fdHNF2YxJk0fdS21lq346PVmXUcVxYihMROWu67so5gVmZlBvm1lfJSnVZJkFCWsgSPJhBASSSVlSU2NSNhBvNoV5JVOlAgqmQe3pyQmcdvVUwzCF6/raMAAAAASUVORK5CYII='/>"
      ],
      "text/plain": [
       "<IPython.core.display.HTML object>"
      ]
     },
     "metadata": {},
     "output_type": "display_data"
    },
    {
     "data": {
      "text/html": [
       "<img src='data:image/png;base64,iVBORw0KGgoAAAANSUhEUgAAACAAAAAgCAAAAABWESUoAAACJ0lEQVR4nEWSUXIbSQxDATZ7NLKd5P4320ukvJvIM+puktgPSUkV/4giHwHyHxACCNKsGQHJDDGjKlbJhUIBKHPAAAqKRtEM3kt+KakkkQAAQlUEH2Ul30pSQQL4FOGxFTCJ3kySIAmkQaABkCRCAhwEiwJBECpCZhSAQkl0QYAA0IiIBOzSEBmJqsJTAAASFGOWuTHnGFGZpLleWEZUjiN8wz3GfaxY6V0vAVBUruNXbO8dx+3rXLmqb+kACAgVQBy333ndos7br3tUlEh/bpAkrHF8wTPmeS41Yo3qDjwpJWjd760erNvF8ja1Pxj46FfM2dEdc9n1e0984tsfH0XQUAlzZyxtbx8fPfRueBprrbn37v3iVjPQ+sZC6y9IkGq6XC77bpEh895n5NacLyNToHnvbirBGhGrzJ2UHh+lGOcACUjKOer3UQj/Ez8x//v8SioEr/Nz2O20uj0ZoFLGHItmhu16zp8/Se38928WqDVX9ra9me4aWqkmjccEAVbIOfPS2ua1OBVznuXNKf2dMAtAJf1izI6vfH9/MUAx7/coZayckWGAQOsvhso17jOBXEvjOCYReX2dCUAVEerYrGYcv45RQn+rcXPpETUg+ubXzXIdt/uc2PY9juEJgYK59z33fr3snrDmybfv38Z5ukgJaLZd8dF6t00WbcWyjx/XkeVFEKDYepV3b70Ke7GZ9da5+yTMSBLWrDUSZNtk1qzReP0fIB+vREFCIDAAAAAASUVORK5CYII='/>"
      ],
      "text/plain": [
       "<IPython.core.display.HTML object>"
      ]
     },
     "metadata": {},
     "output_type": "display_data"
    },
    {
     "data": {
      "text/html": [
       "<img src='data:image/png;base64,iVBORw0KGgoAAAANSUhEUgAAACAAAAAgCAAAAABWESUoAAAC/klEQVR4nCXQTW4cVRAA4Kp69bpfd894PHGCgyCIRAKJG3ABdpyLa4U9OwshNojYihXbY890T/+93yoWfEf48DckKECk3DSX799bkui3DTz8fu/97HPhrFCSoha+ED6+cybIw/2PPNrNVuYpCP8w5jVkyWoQAAHBPxwIjCHDZN2i/OvDcPBrCBnINa8YlCsgg6JAXFcZufuQw3j2Q1qUXn1HhezVVFHqvWhOUQwDGgdt2ghx4/h5dBC+35JgSlBWL4YVishKqnxdy783h4Lttwbi3fMiMSVgjlBUiqgXSf7mryFR9/GXLx/v+pBDBmIOCKKI7eWF1fPT8zFW6x9/jkO/puhLVSnPSEYJTJltuHk4vaS6tMvx2E8hLrlrE2c2pHVJt5+CHp6OL2nnQjqfXvqUchkQGYqSAuM4SRmG8wB25+d5moUq8lmJRYMgAoSSpISp5y2UOK9l21E+vKjjoBEJiUvImnJYHFTu7BfefmULPsM1j6hQGcXMCgylKLuGoq+bTRcOgrv/o4zghVntWNW2aZ0pS6xt3aYM6NgIgCED35zOP6V/XLvrTMhe2DbtlAEt24ylFGsOz+lvW1VdxVykQMWIcQG0fJX9dBLeM+fPd6dVCQFVxccxDyfFzEoILqZV6vXL7eMpoIYC9Xi+H/k0oxwZRVSxnMJ0HJdlIWZD1f7sb5UQCD/zS1MWLVqk+MWH7GzztdVVpuKzsOrKBkRBkcHl6JfMXL97HWZaNa5LX6qK6xgAACq7xGWdM4BMzrQzgTRwzK93jFqMqi75cZinWEoKj/3gcyZVUTINhxzAgKxPT+MaEmIO43kc5okwpF2ByIpozaphWdckNbaUl9C/nOeg0F7KfOJDzEChEKmAbdtNa9I69Sfvwe02qT/yE0XEKJfXfdvtu2bjdpUHU5dE+zf7cB44Wi65VO+Xc8A9t519Gz9l3mVvrq4ux1S4t1ihrcv27SkVt3vz6ucnD9tsKuKu66jlB0PWOX9ba+3EdcgV1bWosVW1cWz2/wFXOiKb9uYlRQAAAABJRU5ErkJggg=='/>"
      ],
      "text/plain": [
       "<IPython.core.display.HTML object>"
      ]
     },
     "metadata": {},
     "output_type": "display_data"
    }
   ],
   "source": [
    "import skimage.feature\n",
    "import skimage.exposure\n",
    "for x in proc.X[:10]:\n",
    "    gray = skimage.color.rgb2gray(x)\n",
    "    rand = rando(gray)\n",
    "    alt = skimage.exposure.equalize_hist(rand)\n",
    "    img_show(gray)\n",
    "    img_show(rand)\n",
    "    img_show(alt)"
   ]
  },
  {
   "cell_type": "markdown",
   "metadata": {},
   "source": [
    "# "
   ]
  }
 ],
 "metadata": {
  "anaconda-cloud": {},
  "kernelspec": {
   "display_name": "Python [default]",
   "language": "python",
   "name": "python3"
  },
  "language_info": {
   "codemirror_mode": {
    "name": "ipython",
    "version": 3
   },
   "file_extension": ".py",
   "mimetype": "text/x-python",
   "name": "python",
   "nbconvert_exporter": "python",
   "pygments_lexer": "ipython3",
   "version": "3.5.2"
  }
 },
 "nbformat": 4,
 "nbformat_minor": 1
}
