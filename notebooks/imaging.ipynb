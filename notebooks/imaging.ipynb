{
 "cells": [
  {
   "cell_type": "code",
   "execution_count": 1,
   "metadata": {
    "collapsed": false
   },
   "outputs": [
    {
     "name": "stdout",
     "output_type": "stream",
     "text": [
      "ready\n"
     ]
    }
   ],
   "source": [
    "import sys\n",
    "for p in ['..']:\n",
    "  if p not in sys.path:\n",
    "    sys.path.insert(0, p)\n",
    "\n",
    "from collections import namedtuple\n",
    "import os\n",
    "import pickle\n",
    "import random\n",
    "import warnings\n",
    "\n",
    "import matplotlib.pyplot as plt\n",
    "import numpy as np\n",
    "import pandas as pd\n",
    "from IPython.core.display import HTML, display\n",
    "import skimage.color\n",
    "import skimage.transform\n",
    "\n",
    "from digits.data import Env, Loader, invert\n",
    "from digits.explore import img_tag, img_show\n",
    "from digits.images import *\n",
    "\n",
    "%matplotlib inline\n",
    "\n",
    "env = Env('..')\n",
    "env.assert_ready()\n",
    "loader = Loader.from_env(env)\n",
    "loader.assert_ready()\n",
    "print(\"ready\")"
   ]
  },
  {
   "cell_type": "code",
   "execution_count": 2,
   "metadata": {
    "collapsed": false
   },
   "outputs": [
    {
     "name": "stdout",
     "output_type": "stream",
     "text": [
      "loading crop-test-small noop 42\n",
      "deriving data\n",
      "preprocessing with noop\n"
     ]
    }
   ],
   "source": [
    "#os.system('rm ../pickled/crop-test-small.42.noop.proc.pickle')\n",
    "proc = loader.load_data('crop-test-small', 'noop', 42)"
   ]
  },
  {
   "cell_type": "code",
   "execution_count": 3,
   "metadata": {
    "collapsed": false
   },
   "outputs": [
    {
     "data": {
      "text/plain": [
       "(400, 32, 32, 3)"
      ]
     },
     "execution_count": 3,
     "metadata": {},
     "output_type": "execute_result"
    }
   ],
   "source": [
    "proc.X.shape"
   ]
  },
  {
   "cell_type": "code",
   "execution_count": 4,
   "metadata": {
    "collapsed": false
   },
   "outputs": [
    {
     "data": {
      "text/html": [
       "<img src='data:image/png;base64,iVBORw0KGgoAAAANSUhEUgAAACAAAAAgCAIAAAD8GO2jAAAFiUlEQVR4nFVWwZIruQ0DQKntmezLH+4hp/x/VfaNWyKJHOSZTbrc1QeXBIkAAfJf//7TBtx0d5UbMNzea7sNAIBtgwZsAwBR3tm3hmKMMYYkhgB0tcu2TQK0PSJEAC13ETZgo9GV5Tb43rQN/w1mqGMEpQhFKMZQBACHXW53l7sBeohBmIJN0KYNNLz3rizw3OH/ANodk89rasQYGiPmnIpx/kbD9n3vdAIcgAADDQJUu93u8n3fmUnyfWrTAIjuaveF8fCw2w4yqAiJJAzQLu7ergYwaEcEGZ1ZVZm57nXf99q79m67u7uboEET3ZW1r5yaYGhes6q6u+ccChcqu7ruve57ZdZ4lwB8/w4JNgADbrt9eDif7i577/z66xVTrmZDIBqthtnZVXW/1tfXV2YOfGuDIEGKkkISSVEWAZskDZTbTQHd/Xq9ItXVaBCCaRlml6tqvdbr6/4bgABAggG23s+IAdl9VMezmoCrd63X19Jgl+kIjsHBoW+Azl25MjMH/F0cWpIUYo8Yz+tRVfgf7dvOqsUFITsz73AUu0af7hFECiyTIkUGOX7KDwPkG0Pj+Xx295sf0kC7994klaqqtW4xCAkSI3TNuAgIpDGgAUH6IfmUCJIiBIf4eFeNhwBnVUQAkLT3HppkCEFIjKkxNUjShCCIJs3hoxBSJCWySSoiIkgeAEkHQFJVujsUZBAieY5MiwyCcrONbnSj/PcNTNDnNNKp27tilGTCpHJLImWzqkUme1d3O12ZSSD33iv3zszMymESx5gOGwBA89gSgFPgAGD2fjMnAN1udu1U5L1qrhQHgb33uu/MqnKlh8EGYRAmoBAItVANgKKN06trrXXv0+d7725QjAhKJtsom3CjQcac87ooDQMNAJZNidKMAcOZsNvOzKrce6+1vr5ef/3+/fv379drHad+PB6fn5+PxzUiKImY1zVicETMWXu/OTDQBG2YBkk0Wd2dWZl7773utdZaa6+11yLx8fmp0OPxuJ6Px8fz+Xxcc5Lsns6CCKAixvHLwynemeK39t1Zudf9et17r73Wfd/3urOKGmMMxDtwIuI0/9mth6cvkn3lt4r84/xvU3O7qtba92vdr3vvc42NMhFjXh/Pp8XHdV1zjpNrodM0ADQ5gt1j8G0G5BHS2zk6s9autfZ9r71y78psN4NjDj8/Pn79+sXQjHHN63pc1zXHoIHOYwkF08a7RHyniul3luauvHN9rftrdVe3AcYYAV3i5z/++OOfv47hjog555xDAbt5rL1x2vCbZOMAwiRod2YeUvfOs0RnQYxxzY/nx2PMBkTGT5oZNoEGLDEUJMd3KP4Q8I7Io8u9du4mGSQJQaGYY44YBAm/NYKfRHHT5He6HIBjtu/XBujGztqr1u6slkSd7D7ZQds707CkiCAbwBiDJCnS3W13IIb7yNR9wvLbuV2d1dXVXRRNNtxuuRtYudZ/bgMkxxjXdc0xxwwSsKvKQJCmh3FAAbK6elee4mS3XfaqxM4IXjPmvKrr9Xq9djeSohRzXnvv6xqx4zTCmQLOZUeDIuPtkShUu6uq3IZBtJ17RYu8pHbnrmxUIxmMMc527TFqiDp13HvtvW0Pg4AMvb1UhIISAwpGcAxVE2TDWclj3SizUTJaKlYyASI4ABK99r7Xje4B0US9+1cGIcacMee4alZlldEnkpot0O1GN1tClTMpKS11g00Q7MaZp2qAPIMqjohFBmVe16SbNIV9BQx9uwDc5Sq3aZIa0pAiNEISzxZ7MULk+M78M22ZkhCEnx+PMTRmXI+ZuWD+ABDOylVpNMmIGHPOxxxz/vhRHlV2vxutz3REAmSIGkOMA5CX6/k9AIAM0ln52vv0J8UxZ1xzzDEUAklmleGu/i/EyrRCBj94qgAAAABJRU5ErkJggg=='/>"
      ],
      "text/plain": [
       "<IPython.core.display.HTML object>"
      ]
     },
     "metadata": {},
     "output_type": "display_data"
    }
   ],
   "source": [
    "img_show(proc.X[0])"
   ]
  },
  {
   "cell_type": "code",
   "execution_count": 5,
   "metadata": {
    "collapsed": false
   },
   "outputs": [],
   "source": [
    "g = skimage.color.rgb2gray(proc.X[2])"
   ]
  },
  {
   "cell_type": "code",
   "execution_count": 6,
   "metadata": {
    "collapsed": false,
    "scrolled": true
   },
   "outputs": [
    {
     "data": {
      "text/html": [
       "<img src='data:image/png;base64,iVBORw0KGgoAAAANSUhEUgAAACAAAAAgCAAAAABWESUoAAACOUlEQVR4nC2TS5IjQQxCQVJWVbv75nPbHtuVH6WYhYcVC+ItCOCf1fsMz/5+vVMAza/H9+MrJNCAoJmZcmVuAYB2WZvHNgAAEbRolXOMkSUYdmbS3GGk0RgSzdeevSfMAlm7k34wgoAhCjRnrTnlFqcn53rZcbkJMDIEmplyLos4H23byjnGPEoEwBAZMqoE83Ydpf7KlbsAmBHx4RA092itaTUrqQQzJxkAaXFetew8mvs2N5UE0j2IKIJqj31MNA/uTMENAD0iwNgE1H7s7BvQ0urJcCfN3B2MbRTOK44YM2vWHANHc6OZuwEBgPSmmmPNmbnWVjQjaUZQ8bEWzsrRx8oC3I0fgdFg9HBZZc7RV4kOWhhqO4AIgEZQgrmZUVIVBEkCGQRI1dqIi3GsnXOrMrMEmikMBHaOnnbGeeXurzvXWplVACwclHK97o52sHa+ucbKOXNXSQiSVet+vnuLOBzZ8qnKnbml/wHs/vp9zqud7bLCO1CqKkmAQtBe/fn7d+b1YGvZ3AAJAEggJOwc9/s98LOqau8tIwmCBBEF7b3mmrPNOUeu970AQcKnh/rw3FG5BjB+X2luJAFIDED0dj0ymf1513y+K9xobiipgiDivHJ15HDkvAeat4gId/5fIzNr3ol111pjtcvbeUY0dzLKjGzHo2pUrtx74/hux/fjcRBliOUwMY4v3XcfWWA7v87z++t0QlIMc6IAejRxF2CHG1XbKDNEsojPkz2wC6AJqFIVAPwDRcmksjQ5JNwAAAAASUVORK5CYII='/>"
      ],
      "text/plain": [
       "<IPython.core.display.HTML object>"
      ]
     },
     "metadata": {},
     "output_type": "display_data"
    }
   ],
   "source": [
    "img_show(g)"
   ]
  },
  {
   "cell_type": "code",
   "execution_count": 7,
   "metadata": {
    "collapsed": false
   },
   "outputs": [
    {
     "data": {
      "text/html": [
       "<img src='data:image/png;base64,iVBORw0KGgoAAAANSUhEUgAAACAAAAAgCAAAAABWESUoAAACLUlEQVR4nDWRSRbdVghEq4AnyfLJxrPb2Plfr4PKQA5TDlRz+fd6egbX8/n0Ekg7rp8/78MkkkAAtFJllQBAUKlKEN4J89iVe46VAqHKZLTDHSBJhGCea/U+UyS1l2Qe1swAGkKgG/bsS2bhmnt2i9YYBI0MgWbIObd7nCdG7fUc1/pfI0BzpzIFa9dlsXufc+0SCJAhuqUBoEU7LuNoykwBpBkRIOnR2lmttRaWYShJ72ciVAY772xl7XBKIAgA5h4kIg3i+Zc/G3TsGlsGEuYebkQUBL9atLGyJvbo6RZmZh5uQEiEHYJy7Z251kwPN6O5GYEgSTeEI+eYa2WVhxvN7IXVYBYOR+3Zx8gC3d/jF1aIZiaoBFWVAIFG6MUbJIiqLGunaJm7VCW9VQBhALX33GiIY+31jNx77SyBJMIBVY5vT48rc3ertdda+1VAGJB7fv7tOM9myi/GN3OtnSUBCEJa39+/uvNsp1fMhqrKLAkCQqw9vr/+6Uf8YDu0DwdejwCEKOYez+fzHNcSKQgUQP5hFoXca8wxNNdayNHXuwHfFIU3Mmqv+Yz1+zNBEoAAEgHA4rjmYs7vxvx8tpmbOSEJCMLjOO/VK8czcj1PhYe7hxGAggTOO+czuR/s1SdPb8fRIowEQ0a248fOp/KbmTuvH63d99XCCCI2XPTjVvSxVkJ+3ud531d7TUR3YwEWLUtMwM6jteYGFQTELnsrozdkAXQQpaqUGfAf0nSZ2deXnnYAAAAASUVORK5CYII='/>"
      ],
      "text/plain": [
       "<IPython.core.display.HTML object>"
      ]
     },
     "metadata": {},
     "output_type": "display_data"
    },
    {
     "data": {
      "text/html": [
       "<img src='data:image/png;base64,iVBORw0KGgoAAAANSUhEUgAAACAAAAAgCAAAAABWESUoAAACL0lEQVR4nC2SUXJjOQwDAZLSiz1H39tOEvtJIon98Fygq9AN/lfrXnSt9+/vlkD6fD7/PAclGhAgSai7GwAASS21IABgkO5emXtnCYRUbTGGG0CQQVpU17rXacDY5xyYB8MMNEYLNPZZd8osvJj5ok9HGEALCeam2rvd4xq6M7fNr+ESSYZAc2NnyW18fcFzrb1PNQASIdIRFECLcV3EHV3VDdCMDICkR8TAiDEGYpha/SEbQjLCr2cPxZxOgUYIgLmHIRoQ/KG4i+7K2ikzA80igowiqAiPuVN9dq6tcDfS3Z2INok2w4jKrMq9OoYbjWYkgoDRw8pRa++TWW3hRpqRRASM5kZn577vXS26mRk/7SJAuJuo6q7MlgwwM6gFMBz65JbFrGZXqbu7JYGGIEiq8pRdjGvXWasrM6sFkuEA0Lleq/1xVdb90+9z9sluAQgD1blfv7fmCCrf3O/KszNbAoIgdO6f79s557Se+Y2uqmxJQoBQ7d+/f+/pD7tG63K2JEkAFBLqrNfv931dR3QS5McBQSAaqNrrXnffO+vU3gmS5L/TNtDd1V2VZ793/ry2/lkUwBAAWsy5UfvdPD8/abQPQlAQMB/X85yu9d59Xu8KC/dwAvrUHNcj93103sxzLw0fc8QIJxmigfOr6tyod1eeHF9jPJ7XCLPPo8w8ruqxc2VKnM/rej4ewygplrmhzcclqGAA57zmnEE1hNhm9hlk0fAWOEiquzvN+D/Wj6fcgulxewAAAABJRU5ErkJggg=='/>"
      ],
      "text/plain": [
       "<IPython.core.display.HTML object>"
      ]
     },
     "metadata": {},
     "output_type": "display_data"
    },
    {
     "data": {
      "text/html": [
       "<img src='data:image/png;base64,iVBORw0KGgoAAAANSUhEUgAAACAAAAAgCAAAAABWESUoAAAAEklEQVR4nGNgGAWjYBSMAuwAAAQgAAGGsz1EAAAAAElFTkSuQmCC'/>"
      ],
      "text/plain": [
       "<IPython.core.display.HTML object>"
      ]
     },
     "metadata": {},
     "output_type": "display_data"
    },
    {
     "data": {
      "text/html": [
       "<img src='data:image/png;base64,iVBORw0KGgoAAAANSUhEUgAAACAAAAAgCAAAAABWESUoAAAAEklEQVR4nGNgGAWjYBSMAuwAAAQgAAGGsz1EAAAAAElFTkSuQmCC'/>"
      ],
      "text/plain": [
       "<IPython.core.display.HTML object>"
      ]
     },
     "metadata": {},
     "output_type": "display_data"
    },
    {
     "data": {
      "text/html": [
       "<img src='data:image/png;base64,iVBORw0KGgoAAAANSUhEUgAAACAAAAAgCAAAAABWESUoAAAAEklEQVR4nGNgGAWjYBSMAuwAAAQgAAGGsz1EAAAAAElFTkSuQmCC'/>"
      ],
      "text/plain": [
       "<IPython.core.display.HTML object>"
      ]
     },
     "metadata": {},
     "output_type": "display_data"
    },
    {
     "data": {
      "text/html": [
       "<img src='data:image/png;base64,iVBORw0KGgoAAAANSUhEUgAAACAAAAAgCAAAAABWESUoAAAAEklEQVR4nGNgGAWjYBSMAuwAAAQgAAGGsz1EAAAAAElFTkSuQmCC'/>"
      ],
      "text/plain": [
       "<IPython.core.display.HTML object>"
      ]
     },
     "metadata": {},
     "output_type": "display_data"
    },
    {
     "data": {
      "text/html": [
       "<img src='data:image/png;base64,iVBORw0KGgoAAAANSUhEUgAAACAAAAAgCAAAAABWESUoAAAAEklEQVR4nGNgGAWjYBSMAuwAAAQgAAGGsz1EAAAAAElFTkSuQmCC'/>"
      ],
      "text/plain": [
       "<IPython.core.display.HTML object>"
      ]
     },
     "metadata": {},
     "output_type": "display_data"
    },
    {
     "data": {
      "text/html": [
       "<img src='data:image/png;base64,iVBORw0KGgoAAAANSUhEUgAAACAAAAAgCAAAAABWESUoAAAAEklEQVR4nGNgGAWjYBSMAuwAAAQgAAGGsz1EAAAAAElFTkSuQmCC'/>"
      ],
      "text/plain": [
       "<IPython.core.display.HTML object>"
      ]
     },
     "metadata": {},
     "output_type": "display_data"
    },
    {
     "data": {
      "text/html": [
       "<img src='data:image/png;base64,iVBORw0KGgoAAAANSUhEUgAAACAAAAAgCAAAAABWESUoAAACK0lEQVR4nDWTQZIjOQwDAZKqst0vn+/utG2VRBJ7sCePDPCCSPDPnrOC+X493yWA9PPx+LkPCDTC8EH4B83MzPg5K8zMu3tnlgBAnV5V/fkgghbVe19zlUSgU3IfgyQIIgQata/rSpgZslbTYtDNSDIEmqH2tWAWg1trP32cDgK0f4HeK93GcfON9b7mbQ0XQDJAR1LVgsV5j+xrrrWrBZJggGblBM09jiN8DXZ3C6SRCJGwOG7qOI4IlzsltWDmTkQDsPNHoyxGUC2An8Lcg4iGwBvs2IIhtVbRnaR5hJPRAMYYMeZOLdSeyRFuZubun6Jg4ercmdm51/4G3N2oMNLckYbac+XObkQYaTQCjCAtXI7KdV0rWzRzN4IAgQjAjIAkqKskEjQ3dAtAEDCoSoyjwewqdXdLEgiGAeida2MgjpX7uqqrMhugEeGAuq73LLudlbmeeufemV9nwiDlej4njhGmmrZn5t5ZJQkMsnu//v5OxzFO01FPqruqJAkIoXO+/v53Db/bOIBXmL4AUEiV1+v3d57nlrmMAAmAJAFEq3Jf1zV17azstVLfDEEiGt1dUlfuNbOer6sJ6Ks9Q4BZHMdi7wnm63fB3cz4GVMQ5sdt7aVa7639fm5juLkbJClIjPOe+53ak7Wv2eExRoxw+0gbHGfudbHeytzbjxG32xERRkMUSY/zp+fKnaVWPM7j/rifQUCM1YTMx/0zS5if5/183M9hUBP/A0rCpKD6+xVWAAAAAElFTkSuQmCC'/>"
      ],
      "text/plain": [
       "<IPython.core.display.HTML object>"
      ]
     },
     "metadata": {},
     "output_type": "display_data"
    },
    {
     "data": {
      "text/html": [
       "<img src='data:image/png;base64,iVBORw0KGgoAAAANSUhEUgAAACAAAAAgCAAAAABWESUoAAACNUlEQVR4nDWSwZojOQyCQZJdlXS/+bzszk4n5bJlsYfMwpUDH/z8pTVGOuZ4ve8SpY3z+f31aDQ3twAkgXQzAhDM43w+zsMAQBUEaaXauwQApLfee3cKgBSER9Zea64tAEKVQPITQJREQ84x5pYI7aXouQMAQIQEGmuOkaI59l5l0ZoZaSRCAI1a9y1375a4J6IfHk7AEKJBVK5Ni/6Mhfsa/VzNjCQZAIOOKpnH8Yi2rytXZgmAkSEY6R6NFu3oYT2wd0kgjWQUScX5zcXWWngZBUKgmZGIIqH2pZgyD+zcEknSLIJElJW8N4uxCjVrzqS7mXlEEAgC9Kaq2llLe97JHmH+f8BoDFeYcs7cuTO9Nf8IRDTQwmXa6x53ZkHewt08nBTCQDNCO3fOe5Zo4e72uZ8IA0jlLkaEGwoCPZwqGYBwiLXnSOvy6LlWlfAxPiVLK6/rVovjnPN63bX3LoA0QmHgnuPPWHEGa92xZ2bm3gJJMIBa18/vq55HHFYD46d2ZtaHQEQp7/fvfy7yab0j7gZIVSVIoKIq5/v1eltf8ob8wAyAAiREVa55jxErd22slUWjkTQCQEiQRFTtvKter1Gk0czMQChI8/a4J5Q3PV//3vqwBsAABC36cZ5XaV4T6/2zzN3djQA+O6Cfa/SlHNhrDDRvEc0JCVLI3Nr5ve7KV+2c2Q5vx9F6+1tyGmDtsd9j3buq7HxGfzyPFmEkELdBAL3t2hKsPb768XicYQAA/AcLq46n3pKefAAAAABJRU5ErkJggg=='/>"
      ],
      "text/plain": [
       "<IPython.core.display.HTML object>"
      ]
     },
     "metadata": {},
     "output_type": "display_data"
    }
   ],
   "source": [
    "img_show(img_map(lambda x: img_rando(x), np.tile(g, (10, 1, 1))))"
   ]
  },
  {
   "cell_type": "code",
   "execution_count": 8,
   "metadata": {
    "collapsed": false
   },
   "outputs": [
    {
     "data": {
      "text/html": [
       "<img src='data:image/png;base64,iVBORw0KGgoAAAANSUhEUgAAABQAAAAgCAAAAAA3CQdqAAABqUlEQVR4nGWQwUtUYRTFf+/Ns6czg6U26sAYiM0IKoRhi6BVSDkE6q5ok6BBEoikQrRw4T/Qok3gxlWLIhqC3EQLcZPQIlHRdDWJZI46gs4Mg713XDzfq5izuudyv9+59zPqu9Zc18JQqXzZ2Qegzjo8DanoEnIcfuMpD2ECxUz+UTwKwOLqHc8nbKD/OgDuHND6oIOmCNB+FaDq421g4uQzFgA2QPcowFB5i3rbB1/yGDzq/BvW8XLaL73X5r2Y/fBWYWEhGEkNMrx5tCjpOUDLZNqCwSuZG0mqgANgZBZMONxlJ8834C0QD7CNr96MSXsAPX8kH5x8satcHEjOPktY582tT7W9O7+AUvp+M81es2Fk/nT7KZCQRAyAsfljyYMtS1YOgKIZBbi2DOMtWS74STe/SE3nJhRc1rCiKBVy1O8VJpCaAWDUJB18Ee+lrNzpbWkdhvU1A3RmJUnfJX0Af7Oe1seZpdeptr4p4IkkoyJuILVHW+UWmBf/szYxwKgpAYS7FT4o/kjeXdo4BqOu9x3QWB3J1ZaPCt68lbciBWqcn7AfQM4Aj5iW1vnnMloAAAAASUVORK5CYII='/>"
      ],
      "text/plain": [
       "<IPython.core.display.HTML object>"
      ]
     },
     "metadata": {},
     "output_type": "display_data"
    },
    {
     "data": {
      "text/html": [
       "<img src='data:image/png;base64,iVBORw0KGgoAAAANSUhEUgAAACAAAAAgCAIAAAD8GO2jAAAFGUlEQVR4nG1W0ZLkNg4DQMqem6q9ur2vyP//WZLd6W5bJPIg90xvEj253RZJgRAI/vbbb7YBAODL+nz56zJgE4DtMgyAzw9N/O2JZAJ82QzYAEy+vloff2WAYf/6+ivmL+XYKwGBfu6nAbhXCAsEARj9GdGAImihq9FfJzVsG+C1CSTT7GdWftbbBlyAAUkC4PaKRCBCYwzCPYk51z8rZNtlkxAliVIK9C/HuqKstCIp4rkfIAWKinBN2yQjQhGSGmAVqgBIotWF/NdOEhDgJ3ykEKAAUCJFAl6NaCgUkZnZAFXklcB2lxN/p4G/GnY1hJJILkzX80KLZrUpkJKCXEQUTCkAlyrJL4D4yof2ShCQKMYCJijB7nOSQkR3g79ALEmMzKxq20n+g+9epRKAxJGRY0SmpMyk6PLD96OObttAu9vdaLoNmtS6S7CRv96Cr6MoYlW9bdu2bTlGZmampJoT9nnMqoYZMbZt3/b9ojEZESTPc3bzX5q8QFt9I7mNbd/fxrZl5r5vko7jrFk/8bPbmfn+/v7tv9/e398hSYoIAFV1v98/Pu5JxKr+pRUGEGJIYERk5thyy8x97JJo3iMixr6/7W9v//v+/f/fv3/79m19u/hzHI/ff//D/jOfbHztwLPXfnL/SaTFFjFs2QCYmfu2v729/+ftnakcQ9Kcc865KJVgw3rNYZtAVdsldVevFRHgSiziyVwQkI1ZRbhtG3Oet9vtfr8fx5GNpkBohe5u2GxX2T5JRMTI6Bwab2xBlGKMbd/fjUV/1ayP281Et6tqzvl4PD4+bh8fH3kVjQZoeJW1Hj5F240ud3f3pbNLasSwYRuklIChNjw4SJ7neRyP/ALmpQEmSBIiTQpcvykxQiT2fdvGdhwnwO7r3A0QHDE4tG2u6uM484X+LxpPtk22JJOQGIqIiBgjyCT5cXvodgdYsx/3o21K6xJsW4wx9m3ftz0X9P+8Ct1LBeTnev6lzOzGGCMiznMej4fE8zwtkciMqhpjdHdm5jXCnhJE8jlhvLS0qs7zPI7jng8QFEnZIAizZp/npI7znBZJZCbAS4gy00/g/VU+AFAEqFDD55w6jkVTxYhokCDa7vas5jklFiwJULe7r1GRzSdEBkkTDQQYoYgcY5CxYFz67nZESJE5tBYJsBuGGcyMbdv2fbf7PI80fQ3xS4S44ApFjjG2LZgRMcYY2x4jIyMzIyIUYmTkGEMZhoXcRu5LHbdxnmdVXxB9orTutAmsIrdtaGTmtm37/rbUjBKeKq/Utu9jH4ZBjZHbvi8qd3dVZV9S97xfK8GLR4rUyMiMpWKz5u1+I3l7fBz1IKnBsQ9RlCIjI7rr8aj7/fZ43NPNaxKKAmG6XGcJ89TZ3TXOOUaeB+NhA7yM148/ft4+7vu23e5h9Ng2kHJGR9jznD9+/vnjx4/XeUA/3QzArj6Pc6rcPeeUDpO2q2tWlT2P091m+ebZp44k1/QX7Xme99v9VSpwcX+5JrLds6asCXfVGvTtnlWz6uwSENKsAyemCyTBNaYEV815nvYa+rzMJslny3tZxCVll127uGzSAS/lwBrJ81glqrM7g+juWbPmzMX9z0mw3K3I7qo2OiqAZaQAwgIswRYIu9GYa9QDBufZEam03VXdnXi1tZeSXrYJ3Xzese4WeDljm0D3dNk0vFTjGaZUnLgcG7980brPV6MJkQhdMu3rdAYuiwJUza6J1FLfZVUuxFxY01zxF3K7kK8f0gjOAAAAAElFTkSuQmCC'/>"
      ],
      "text/plain": [
       "<IPython.core.display.HTML object>"
      ]
     },
     "metadata": {},
     "output_type": "display_data"
    },
    {
     "name": "stdout",
     "output_type": "stream",
     "text": [
      "9 (32, 20, 1)\n"
     ]
    },
    {
     "data": {
      "text/html": [
       "<img src='data:image/png;base64,iVBORw0KGgoAAAANSUhEUgAAABQAAAAgCAAAAAA3CQdqAAABhUlEQVR4nJXQO0jVARQH4M9/N6XM4JJRXQR7KVlhYJaZlWDYEm0NUUtEo0MUCC0t0VDQ0CiB0FY0JIFDr6EWSStJzJKLlBEGmuVw0ZL0NFy95la/8TsPDod/TRGOnxt62TcbdRWbS7tfLHjlw4h4NxIREe9b0nlsj78ydHVdXici4vnriIh407y4tzOiHVVt16/kIYUvTCObLd6UxwRT7Aazo0u4lupldyZYw8ZlmMJ6aqC6peRWofAkIpDuiugs4I2IXw1a70ZEHFscH+RxzY7KJjg7OLbQ+upyeUnd6Y6IiKEzi/P7QP14RGQvIbmGvnx/xzw9k0guLJ2X+82WNJLVS1hWzKEDdSQOF/ArZHIkCh/U28vb/u8kniIDJsfo7/6GgHs3wZ34cKoYySjq92yFtkbb0huQlKNxftdemk5WSZ24WEuqdMWc6eEjXZ+fHT2I2k8VA1LmmPm4s7piVQZ+JDlSD5CbH1458WjqfI2B1nEUNfZQtn97euS+5oaft2f8V/4AqmSVjorPl8gAAAAASUVORK5CYII='/>"
      ],
      "text/plain": [
       "<IPython.core.display.HTML object>"
      ]
     },
     "metadata": {},
     "output_type": "display_data"
    },
    {
     "data": {
      "text/html": [
       "<img src='data:image/png;base64,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'/>"
      ],
      "text/plain": [
       "<IPython.core.display.HTML object>"
      ]
     },
     "metadata": {},
     "output_type": "display_data"
    },
    {
     "name": "stdout",
     "output_type": "stream",
     "text": [
      "5 (32, 20, 1)\n"
     ]
    },
    {
     "data": {
      "text/html": [
       "<img src='data:image/png;base64,iVBORw0KGgoAAAANSUhEUgAAABQAAAAgCAAAAAA3CQdqAAAB/ElEQVR4nC2Qz0uTcRzHX8/jt/nINmp7tpXoWKJj05VWW6VGP7CgOmjDlNEWQp2CwOjQofBQ1K2Ll4z+gS7dahBBHcIO4SCKgvXjUPNXlJPNUtP5bJ8Oz97HF+83n/fnTTu24ntxBjxesxcuq4rN/AsV1tYwtSrMKAfKApZcVWMDmrVtYOotOy0NcASHoNH49LEH/up4fQJUrC89TqVgcwBDA/zHrXzXnh9PLIvmn+YyKPBWa9ri3GLFNw/e3XktfhVAhTxA83gLBCdlXkQHrHIJcOsLMNrH28eocM3SGlaA2TykzySWRygQGz3m7+4HpyIQeS9yEVzQlYRuaFKQXJFVIAwoiJgGQEHkNnDX/ryzqQGMmyITAGUbZhqh7YSIeABEES0We2Wz/587A3dKAL9IdUAsumt6cignt+yccLIVgPP3H4oAl9ZAcNaXz4gIIAKib9Rh35/VKPh4CRo44ocSbak3kj8KoAOoNJ+3It7QER5MA9SAAZwHDNUZTtUr1q/XNZZNg/vZulwH0Ww2XEjceF44dRpCs8wA4OjKsF3k9VO71jDss72x5OCV8sb8fgB2BEEBLRq+XPYawJgqO8Dynat9XS91115MAekpnUoAiuFv37XWd68G22HikRPcAeAggGv8w73DIyKiMMUfXc4BdJS3LpzdWsr+/g/lELSkY7IS3AAAAABJRU5ErkJggg=='/>"
      ],
      "text/plain": [
       "<IPython.core.display.HTML object>"
      ]
     },
     "metadata": {},
     "output_type": "display_data"
    },
    {
     "data": {
      "text/html": [
       "<img src='data:image/png;base64,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'/>"
      ],
      "text/plain": [
       "<IPython.core.display.HTML object>"
      ]
     },
     "metadata": {},
     "output_type": "display_data"
    },
    {
     "name": "stdout",
     "output_type": "stream",
     "text": [
      "4 (32, 20, 1)\n"
     ]
    },
    {
     "data": {
      "text/html": [
       "<img src='data:image/png;base64,iVBORw0KGgoAAAANSUhEUgAAABQAAAAgCAAAAAA3CQdqAAABkUlEQVR4nG3Qv0tbURTA8e+7udrUSJKG0qIkUCmmGMQ2FLtYsBD8RbZOjoYubvkDdCldSqeCuggOgosUqmuhRUhqRVysODgFJD80RH0+DaJGPR1uXkDSs9zD59577jnXoil6h1Uz7p7xpVnjlJoxop0HV+ho9LLg5K3PhRmAkrX2J9c1FvZ7C3vFWP+535yVe/FtdWcUmBWRuwbuiKTBiic/zS/pVMdB7HmQ45RPloGrCffRtvH0gMl0a5+LF8Xj9Toy4mJiqqTzuwbTLr563fFo1rtfAX3z00W5sU+fhHQFlG5Mp+2jjcxTD4BM1m1ORE6DrabmtftjQODszlRqXJ8WKbotm+WjiKykTG7VtwIiIosRAPo/qHcAOF8BPQTA1m+19gaAFiDyPgmArUgAtPiA2uBbAIKKFwC1GPCwPQdASeEDiNYADwJYVJVp1MkCVfsv4AeNDVD+Ho5ms+1bwMsM+nYBAM/mdv5XFaAngw4fAlB2Kj8EINAdOlHGKOuQB4CeZ/wnOq3G8AA8TrAM+P4BJx2WYgXEelcAAAAASUVORK5CYII='/>"
      ],
      "text/plain": [
       "<IPython.core.display.HTML object>"
      ]
     },
     "metadata": {},
     "output_type": "display_data"
    },
    {
     "data": {
      "text/html": [
       "<img src='data:image/png;base64,iVBORw0KGgoAAAANSUhEUgAAACAAAAAgCAIAAAD8GO2jAAAFSUlEQVR4nEVWQZIjOQ4DIKXLVX3e2Nj/v3Cmu8Z2igT2oHSNwgcflKQIAiD5v//8FwCQJIkTt9Gx0ySBhJEmScAkiX2dgEK2HRuANEWB3geAJEnzOMb+6t8E4Kq1qgmABCGBAECSIBAABIidNgGQONxRnJjc32be7x8kSSYBktjg8xSeDYIiyKFxBRYQxEEEKMF+7PtxP1A0QEo6MD8/76Sk62FJjIxJMRA1REmUAHBfgB1AMdeqjrs7OzYAOGkgGpqHjtuYH/fbBmtnSBJkDB1zYmgnGNJGEUgMO+RYZ/3+/b2rf0O2cUQIDY7BMTiPY0o/Ka4aj+P4/PoEyUGKY5fIBIGRgBz//PN6Pl9HzQ0NASIAJZEQMcQ5xzyOsaEjcTtu8ziqipLmXFWJqcwxJYnUEKgY3SZHrb593B+v1/PxOJ9Pd81jDM7QQM/b+Pz6mCRj2yYQTgpARBxTNqovjmxSSBIVIsHQmHPOo2eXpHDXFrzBJKHJmez4BaJ7ddPuTbXXOqsKQM85xpAw55AGoOqsWt3d1V3d3ba9meQATXo3fNrltNOCSEqaB8/X+f3nz7lW20DG7vYYx5xzTGq0cb52eHfFHXfs2JECIjFixtPupC+VMiSpdPfz+TzPs9pAxuQY0hg+bn3cxpg2q7aK48T73cBbjgRIRswMjA0cAzqpVNzd3VVVVQEcJRqJxlCsbFH+MBPZkjRJiqQAUKIG54/wE1ctAOvZz8fzPM+1VnXjUvAgCQdOFEQgEREiRe4/QxoSKHBTYIz5b01Akqo6z/U6X+d5nudpb+iGiRZtI76MMQgACBDAbSPUpKIBacwxjjHnjk5S+02x3VW11qoqOxKHmKGNy2UZQRzbQRDQW+MEFV3t2IyZIkhQ0BBFOLn6EZAUNTSOeRzHcTtux20eN+mApW44rvb2ooAIEiTv1uwCFSgQAuRqtMtVfYns7QM/R9QghcBGt32JwHBg48f4AiQzMoiA6dCx81r1OtdrLZukwpTnSDoocBhAumHH75M2OqHjhgE6vCx8Vi3bVb3WVg2qqpPj46MLBOcxbvf716/Pz8+vj+MOaK0+13qeZ9VZdXYXidsxyZDZ4jsIJALnRs7pqvM8uzuIRM0pMgjnHHPebrfP++fXMW9dPleXXVXbKjbTNESYQCewYXC70cf9ZveYGvO4rVrLbq7yWsWE3AOTG972liUEkuw4eYO+ycEIADlAkSTnr19ftqvclVp1rl6Vx+OsNhGSHIII0aABAwC3ZW6DSwIYQQgCIknpGvSeX1+/7Lhtp8rnuV6nbbyerzCAqEEp4J5l+7dDVl8+Su7gO/mubwBCMO/3r2vRCKoyZ2nU83mS1DX1RZNG3Gm6vYN2u6rafjvNDz2JrS0Q0Bwam90AAduYHV35s28n2d63a62qLrtjOw6ACEGAKBsZIrLZhVnVF5Zgl2vtZzmJAySAu7tWkRS7O2utWqnqfePtqZeIfRW0ZYj5/f24xBJUeZ1V5bXO9lV9woKYZYdUt9datVxrxeC14SnhXnlEhLRhp53519+/Y7vdnapeq+08Hi+Xk4szCgG0A7DtWlVnr1V7kPxsLtsDNx2a6E6X599//U7c3Wu5VrltqytuOL2HUQEIqCDodlXXaneD2e3cs3BnQGKCSXe6Mr///PO2ii3L2JCGJL83ww4iSmTwM+nc2zW32+9NI3vmK7gGRjD//PlOfkb2ViWT3sN2066T7iZNIE4ub9gr8ybE3qzE9/Zp+DxPAvPxeL3Ze80m7BVuE3BLNkg6ia71GpIAJul20sllDCSDi4HnWl39f4xIh+xYXQh5AAAAAElFTkSuQmCC'/>"
      ],
      "text/plain": [
       "<IPython.core.display.HTML object>"
      ]
     },
     "metadata": {},
     "output_type": "display_data"
    },
    {
     "name": "stdout",
     "output_type": "stream",
     "text": [
      "7 (32, 20, 1)\n"
     ]
    },
    {
     "data": {
      "text/html": [
       "<img src='data:image/png;base64,iVBORw0KGgoAAAANSUhEUgAAABQAAAAgCAAAAAA3CQdqAAABWUlEQVR4nI3Qz4vNURjH8df53jPXzL1mzM2dO6SkFHc0C+UPsGNlIVYWypKSslD+AAolGysrGwv+AAt7KwulrJSSNBvMhvv7+1jcn0h5b57T+zmfc3oeDSBlLNOAXBnLzdUvpQHfIRUl1H6Oexu524wPKQXV/vquGZc/+X/ypJ5YcImUSsLXl7uj3vuni4GYcBs3bU7liys7EXGBdjhs3+z68ziL/aE1f6J+49I4lQcz9+BI/d0ztBe+ehIREWhFIU3kR/CInkJM5N1aSnd02FLM8x3eaHJ+Ks89Bn0drio4sETr2n047TX3WHIMZyLGc7Vxy9E9bRyMqHkYEdtg3aGFhbz9ba2tVxHD6/6k2V77y8051ZSLf3bXp4cNKJBoXFQFx0+ubm8lclkZRlEWZf3H3rVvrTz6nKEMpWq3b9hZ6RZplIkywdDKYLkX1R1QSblepaJODU2/AA80dkCau3N7AAAAAElFTkSuQmCC'/>"
      ],
      "text/plain": [
       "<IPython.core.display.HTML object>"
      ]
     },
     "metadata": {},
     "output_type": "display_data"
    },
    {
     "data": {
      "text/html": [
       "<img src='data:image/png;base64,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'/>"
      ],
      "text/plain": [
       "<IPython.core.display.HTML object>"
      ]
     },
     "metadata": {},
     "output_type": "display_data"
    },
    {
     "name": "stdout",
     "output_type": "stream",
     "text": [
      "3 (32, 20, 1)\n"
     ]
    },
    {
     "data": {
      "text/html": [
       "<img src='data:image/png;base64,iVBORw0KGgoAAAANSUhEUgAAABQAAAAgCAAAAAA3CQdqAAAB30lEQVR4nFXQT0iTcRzH8ffz7Ddca7l/bIsnycpkJuZhk7EulVkRDBodDA9Bp7TCKOkSRHboYlQgHT1IEIYd6hBYBB2axTQ8VSNk4NisrBhrm7k9Kqtfh/Y0ns/xxff34/P9KuyMRiPWCEYmpvNZwbI11O6fWgr4S3prT6A6qCXTApbmHU3n6nNbDg+L7apyIK0fK81v/H9+KlhtEcMlnbmGkSi72yjL7H03poyoKZpzRTMmxYOPuRnAfrRzNlnHFUQQgEuLsvbyvBMA47dtn6SUUtZGQd3XTa8LoKUmpZRS/rlZ3ByPqTeGAL4koKKDorisl/eI3o3bAH2esHM11Gr7BnQh35r7ZOTvO4I1M47FykXBnBkn3u/oUpkFoH+3oe++B5A9ABd+vIobOvpBUAPw+ftcmy8AiEf3q+gAfgiPPbQDWDRUPADNQPeZqwDpHAJX4wYOgNRrL7I0AFyXsvB43AGcffO5IqqFCjAdLGQzpTVQQ/bCqvLs1gKATdH/FToR82ZE2wIA60bLSn45pXbeM6/Jr9xPlf7jA+0NOthh8S6qJNzhEWPxvU8f7ap9LQtW7NohyxCAM3rxJE1by4gneZ9PG4xPPtdO2zT3+l08Ao5oHddmZD2pKa5MRvgLLJyp+WZ2RvQAAAAASUVORK5CYII='/>"
      ],
      "text/plain": [
       "<IPython.core.display.HTML object>"
      ]
     },
     "metadata": {},
     "output_type": "display_data"
    },
    {
     "data": {
      "text/html": [
       "<img src='data:image/png;base64,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'/>"
      ],
      "text/plain": [
       "<IPython.core.display.HTML object>"
      ]
     },
     "metadata": {},
     "output_type": "display_data"
    },
    {
     "name": "stdout",
     "output_type": "stream",
     "text": [
      "6 (32, 20, 1)\n"
     ]
    },
    {
     "data": {
      "text/html": [
       "<img src='data:image/png;base64,iVBORw0KGgoAAAANSUhEUgAAABQAAAAgCAAAAAA3CQdqAAABf0lEQVR4nG3SP0jUcRjH8dd9PcU7jzT/nNVdSuDQEEEWRdjQEkS0ReESEQTN0dxSmy1BNES05hDUELQ4NjXk5qCDgXhgRgcanULnPQ0/77yoz/Tw4f18v5/v83xzH/cmTr9c/LW5gOETFzbecS9/P8qjO8XtBtTraQu7QD6nS8n/1I2MHGkuQyVPcTItwezMen0ZM2+6wFex/hTnfkTq75hXVRJGh6VdXLuCS1XWUN2/vtSLfpl5qvU1wbccCljCVOtJgp6j++F6UMlvpj4cO7Tf+hPjthVQGoJG7EBE1WCxHelxvIe9KOS3oPc3PunPxnGHfJv8EKtQi3C4PJR5DyPq8CwCA5n5KOILWIxET3ZCYhFM30o0NWGU1aznbeqs5DiDWXU+0crKi5wtg5udad6NiLUHMBedlLfRmsT8bAe80YqIlRcVlYho77i3Se35Qk1tHiPl6SmY+Os/HDz+X528foCmM6XBMRgfCPowVk25zysbjddrbaY6PXW59P0PIi9xh1mABR0AAAAASUVORK5CYII='/>"
      ],
      "text/plain": [
       "<IPython.core.display.HTML object>"
      ]
     },
     "metadata": {},
     "output_type": "display_data"
    },
    {
     "data": {
      "text/html": [
       "<img src='data:image/png;base64,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'/>"
      ],
      "text/plain": [
       "<IPython.core.display.HTML object>"
      ]
     },
     "metadata": {},
     "output_type": "display_data"
    },
    {
     "name": "stdout",
     "output_type": "stream",
     "text": [
      "1 (32, 20, 1)\n"
     ]
    },
    {
     "data": {
      "text/html": [
       "<img src='data:image/png;base64,iVBORw0KGgoAAAANSUhEUgAAABQAAAAgCAAAAAA3CQdqAAAB8UlEQVR4nF3Rz0vTcRzH8ef3s6/OfaebMlnOMbFNaQ1qEkWgBgVFpJSHIKJOnezQn9BF7FIE/cCgQ53C6BrECBuFUTlaGU6conOlw0021zbXNvPH99OhAufr+IA3rxe8ldKzd8rpi40AEJpcEvlgTNUcDsW6CbBZWZorNJm0lphK6D73NLe19GurkKemx+9sMCmyOcvuaN32oCIV9qRvWdC6x/bLsqCjilruPtUTKv73AC/8geRKquzsv1w/tKVyCK4Mu8ELRKcyD8ufEQThefjfsc8c/fKtgiKt60D/QHt6Mmk/4u2Mjj4Gad/dE5LyiQVkV1W7LmU3gmQVngLrPrGdrsLxkfJRl9gAwPx6J+AEIKD52kX9eTDfmjorzl0AoBG3R9CruIYGPYANgDiOZoFJE5lIDDCbABY/bhsFb0tLt+88APADyNGVHXUhBKRqAcM0wI1L+oZYXQUiOUAtARz0xefFBAAfpgk+AiDDzIL66u/ow//XJyJxXRiqn+ExTyXmRddglV0/qc6sCbOtZxdePeNz5xDfJ2qvjRTk2Ik2Y92x4eMWpfgb1eisa2qIdOkDrS5DtrD2Rklto2YsHTtzn25Kp+615X98/VnUQR23rzu17Eyx0+Itzb4MAzW1arG42NfbdmAsp6Szs2EAa+UP1oqyckBlPYoAAAAASUVORK5CYII='/>"
      ],
      "text/plain": [
       "<IPython.core.display.HTML object>"
      ]
     },
     "metadata": {},
     "output_type": "display_data"
    },
    {
     "data": {
      "text/html": [
       "<img src='data:image/png;base64,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'/>"
      ],
      "text/plain": [
       "<IPython.core.display.HTML object>"
      ]
     },
     "metadata": {},
     "output_type": "display_data"
    },
    {
     "name": "stdout",
     "output_type": "stream",
     "text": [
      "5 (32, 20, 1)\n"
     ]
    },
    {
     "data": {
      "text/html": [
       "<img src='data:image/png;base64,iVBORw0KGgoAAAANSUhEUgAAABQAAAAgCAAAAAA3CQdqAAAB00lEQVR4nE3NS2sTcRTG4V8mM0lmxtQLSUpNbFMbsUqkWCHSVryASr6AukihS79AwU3BjUuF7N24cOtGdOWiilix2qBSNCWKNbWttiQydXIxneR08R/Bd3eecw4vwIhInEPQB8zdXTiFBoTATLchAMZ67FcZDchAuhVCt7D7O87GLhqwAz9HYhjh4L54y3oJOvAVwp4RPRDv6Anvy2OFDmSDK4n+lJmutcwm/nv1+1I+u+D2nu0cHFtRCKvdKUrM10enulVdvYMbHvDWaH26kgsMbfzDYN+JNkBtf2z4vd1Q2DMHkwAPL+XtrYB/afxOpgHInGTbdFWRduwHGYCnNNdCEwpr9QhHAByam6GjCtumjgWw/M2yAm8UGn/trSrAq3k3l46rIuzIYl3rARU7I+s+nk1EuuefA0N24fMHYFqkeFMW/fVcV0o6FKAZouopvNMqnNZglfZA0nmCn3vv0MGlc/zq9gOA6B/gIxpYuLnDDsCFGYBzaBBBD3IGGB67CHADHWK7vIgWgenUfSABQEnk1mUARgH0imgwCI23AJQBvNcAIjLBf8kLIFLxx9S1MDAuQE2KyrJLchuYFGBTypMAMyJyHZgVoCGyDBRERMaBR7IH876mURYIeaQAAAAASUVORK5CYII='/>"
      ],
      "text/plain": [
       "<IPython.core.display.HTML object>"
      ]
     },
     "metadata": {},
     "output_type": "display_data"
    },
    {
     "data": {
      "text/html": [
       "<img src='data:image/png;base64,iVBORw0KGgoAAAANSUhEUgAAACAAAAAgCAIAAAD8GO2jAAAFgElEQVR4nG1WS47syA2MCFJSf+zBDAwvDHuu4Kv4EL7/xkB3qZRJhhepem9gWAstEhDFZPzIf//rnwBSrNlGIN4G9t7f9fnLX//x+99+/3uEes4QSHS3CQJuA7CdEV3t9vn4Ps/z8fV4/OcbwL7vtk2kDRJo0CDYYJsFEG12AyJMQFwfAABIwLBAtAF3V1XNOasKAimSZBidBAWQAmwDq0OiJSpAm6YakGmv+jBooA3a7u6qOee8rmvOIVEhpUjZTJLrEzdNriYNgCi6ZbENhAijbd1/WG2gbdtjzuu6zvOsqvf9LTMjIhS2cxWHBRDQqzeHDbcJkCCAAiD84bEA2O3qGnPO+Xw+Keax7/suMZW0U5BtQMA9gRtGmLBgAtTCyTQAEKRB2g3bhqu7qucsReS+x7EFIhVwp5skGmaEIWXAHGP86Xj77ddfQ7QnXN0WE3aNZyht2KUbPn18fFzPaz8ORcx2NN/ej4Cu80wAgAz0AgNcL4mSCNrQYlp1X3M8r44mJYEh2DDJUGyKzWRNz3AXFDD5miqx7g3SBqmbkS/i0Oiq63w+vs/v78fz+ey2sS4gkpm5HTvJOWbXLNciWP7AjABJkhJfHAFAQUQDbM9rjK/vpaNDEiNBhqLb27Yd+95tyGbDdpfdyZuWAYjmzdBX+Rcn7w6q6nw+a8x66y23iD2PHSQJReQWWwUjM1OCge5K2wT/WJIGxZ+EAZbaCdCoa1zXFGJ+1DIOKsxSKDOVY9siUxKXCJMECUmzERFVZUuZUki6p0ShS6DWQOo5rvH4fhxv79t+QG5Q0uefP/e3w3aQEerZPzHgy2SWknWDLhr+oewlRYpglcfsObuqGIQbcoSAqDJho9vVLoFltN0C71lBAOE1mmWCBuimwWAQ0e1xzTHmnLPdN0TuRUPKtueY1b2G0DTw8plbznxdAoBFsLvRztykqPa45nWOcc0qgyRlkURGhKKqxhw158uu/8/zP6dGtW2FQNacNp7XNcbcqymKy0GsCHcZnmPOmsvsYBjs/qGrprsBgw2DMhuGaUsOuqts1pxdbZMQF8nIkNpGec7Z1UnSEuRgjnbblt4+P/7y2297Btt2uwsyMNtjjCfQ+5YNPr4fuW1Kff7yqUyYAdm+Xdh0M81Y6gJhuQCT27YfxxFQwMvxUY0q10Q1gMzo5hjj6+srt9CWFLcjSKEtC80AbeXCs9102VrpiFtnti2i4e5eoLk7iAqSMarO55lfEXtuR+SeKxjXcCdEhWysFr24I1GCfpKWpKSuuq45x7QtKkKRAjHG9TjP53XVLAAmGi57tpcP5u2ZBowG2iYZEdSdOxRNVvW4rmtMW5ISNBQhTtpNmIvPNsiGC92AhRV7rzjnbUUgIa5jSQnBnNM9GzYVUkREZmRmZuSWW262uw3QxhoJQ2nfR90u9qqoLRhsg/B1jr6u5/c5r2GTYETAGLNI7vu275skwBEB2F1SRGZuyWbeUBron25NrjGLwDWucZ6P8+kmqeqaly21i0CGKAJdVWgrVCiQkZn7hsl8Od3SiUw03WyGIqPnVVXXmNdzdpuMGtWYiPD6kHDfK1dVGV5UWUAa+JFoXIZyE5RkkGJ3zzHnNZ/n1aNXKIQCIRjFLmJtFXPOUXNjShSZGd2OiFxLyitalnXfR9U9q8YY87pqTnrNdlMojk3C6HrOuXjvn2ufJKXSGxtImbdxvkL4Tkm7Z80556zZBlxoEXns+7Htxw5BY/R5DhfFOxf5SihLtsikV2m1RcbaV45toykwI/LYz/N5dYGMnW/vx/vHWyja9axR7kZTUNwrr42qCUCiieQdL9Ege4ko9zwCksSM7W3jQxXILfJ92z72fNsFuOmT5QKxfuBABzDrBSMI/xdMJ1ITTl+10wAAAABJRU5ErkJggg=='/>"
      ],
      "text/plain": [
       "<IPython.core.display.HTML object>"
      ]
     },
     "metadata": {},
     "output_type": "display_data"
    },
    {
     "name": "stdout",
     "output_type": "stream",
     "text": [
      "4 (32, 20, 1)\n"
     ]
    },
    {
     "data": {
      "text/html": [
       "<img src='data:image/png;base64,iVBORw0KGgoAAAANSUhEUgAAABQAAAAgCAAAAAA3CQdqAAACD0lEQVR4nC2QT0iTcRjHP779VuY29+r+6VTQ/DPK1ULCpERSLOuUFhJ2CwyE/hy8BFanzt061EkQgkChoBBLMNIiciTDILNgK+dcupZOp8nUPR3e9zk9fL6f7+F58ri24nGuOH0lrWX3h893rH1cO5xVDMKBioqMr4i38/Nb6YVEvBpj8mkZFaD2SGlhWadqnAbYZnJdA+z12ziSqnfalMPj+7N9pz1f0vEbDNI8cLvdf8aDDoD2MCvc5JlIKrox2e82Gr0RUR8YUpLA76678giAxFBtHnT7clP1XdXfLZcAui76K7UiLI7E8h+n01sMQNXRuhKVOdFkj+kLP6sCDgC2Usu62tnTl+Krub+/su0APA7vOBSRpcTnFKFKdxwA272spuzrewUFKdjMzQJ4XzSB5rKVdBzCobOaBPDWAFrb5YLkBZce8B27CjAbBrgrfeUBK61zIgB0jkWFpyEXAP0m9IdEWDpunGyJxQAIfhXRSsMG9EYzxrISASkH21k8b8w6PQPvNBahpd3eEjR/vW/xYBQBKKR22DTzbz1/rwRgnR93bNsAWIOBGm3KrG0oLwCnGmvQRkyY9DQA4PwNWpPB3D0vXwEwWwxIc0P3qIhIs8+IX4sorkdyXoDBWBsAI+dQWGZ2CxsAVWSY2qZVTTyZk9DEg/RY9iQAuvOfVc2E0zC+m/lW+QnQg64KF/8BJcLANEqnmrAAAAAASUVORK5CYII='/>"
      ],
      "text/plain": [
       "<IPython.core.display.HTML object>"
      ]
     },
     "metadata": {},
     "output_type": "display_data"
    },
    {
     "data": {
      "text/html": [
       "<img src='data:image/png;base64,iVBORw0KGgoAAAANSUhEUgAAACAAAAAgCAIAAAD8GO2jAAAExElEQVR4nG1WXZPbSA4DSLY9k+yv3pd7uF+7lWzsUTeBe2jJmZsKS+VSyRI/AaL593/+C6dBE7ZpZHBUhkGSJICggyRomuRxHN1NkmGQAQQREQF4X4QkSbYrIu0ACBgAbBiSLJMkgwR4RgMMsLvnXBGMBEmQIADwTALbtW1JlVk2DQKwhQBgWzuS2fsrGSBIADyOY84ZEVmMiIxAECADEQBoWXa3urvGKJs4ixAAqXtNEtskyW0blx3HXGtGhBxZAVSwAMqggaAMyfuqCNIJJIhgkV4LWGuPZNcKa9e7w3S3ZNIWLBoUTboqEWHAn6ySwQAhk7mzDuJWeT61JPeQPOc8jmPO4+fPfx+Ph6Sq8e3b+/fv397jrUaCaUDq3cNjHnMeFXuOG0KX/w0kROzE1VbL9lpL8vN5/Pjx71prjEH6dhu3211CBNxavY7jeH4cHx/P5/xVhHHiwCeQTlB8tY3aiAgGETzxQAmSuhdpwHPOj+M4jo+55lxd9IXN7RsgGLFhDQM2eFGCdERkVtUgWSOqKjNOrF52dmgec6n+kGnsVw2EfZZF+nKBSGQFGJkZwU8G0Cf03JLYij8EACKAuOoB7BM/JCMQAVIb06/YAIwTaTWqqpIBsXyugy8hQHCT8fo9wQfQttRS22G3/98AvL99s7CmsvoPLTJOZ/K5Ui7qa0M8IqrKduYeVowxxhhZYWv/C0Ddlmqvl68x/OJXt1tuXNVIHcGqtFU1bvdxu49xq9t9VIbtlmx398fzWTvUH0q4qpVlrd2iTX5/QhzpICOuK9O2icqaxxxjZObXAPYG514mO2VLDdAWIAba3VrSWsLS0jmncwAwYq/AiIioiI1F7LquFo+Pj4+1ptTdvVafwpBZgKG5ZneDsXqtNddaVRU5ghGkGr1skch6eX+ZpL1M1lrS6u61FoBNvZ0EyU0RtVZrWQ2nBVvSzobkH1pEUtKcc8658bMrABAhkmtNwC/USpC8pNUKNkGp11zHMbtFoq5cfuOnuzfXdfX0KhK25W7Jv/sOCd1eS4EOcq31+PV4Ph7HcUiqXc6XFnV394u9uLYcAafz9X63e9vqzm6GybXWj3/+eTwesr+26KUnx3Gs2TghiN30Tzz3a3mcj7S1GCYszNay9j74GoBkS4/HU+3gRhk+u+5lyxc1z1W/aUDGeU6Is+SsrC/9IdFrPZ8Pi5FRzr0PANsBoLUAErGXJwmeyp+ZuTGSWZkV8RVFBmSH5O629rojEMDvMxKZQABBZsR2m5lZVZlFQlJEMgIBB38HuCR9Q1kAt4ZGnKeViNiQ2zf7q9gSxx0rNm3rNnKlbYK1mwWgqvaX9/v9+/e/SGTGGON2Gy/XmxCSAERkZu26tkhcG2kHK1tg7JOdX6O8+hCAyaiKMaqqpH4+nz9//trsI3m73aqShCHQ+9pnr6Cr0g7BtZG+SbTFJCLf3++bXJlxu92yKIWst9k2MvMUf776tqkniTbG7SZ7zonWZjJOzbMBRLBqSAIcQcN2WLuk2HpSlTw1OV7zv7L02/3+Ys1ryLyA9Pt4sg8VasHYG0kygMwcY5CsHSqTjEu9Qcb729sOfE7plfvn++vm5HZ3X/KgrZGvABH72HIlbWbmfQzYkfk/RlCi2+0K4DkAAAAASUVORK5CYII='/>"
      ],
      "text/plain": [
       "<IPython.core.display.HTML object>"
      ]
     },
     "metadata": {},
     "output_type": "display_data"
    },
    {
     "name": "stdout",
     "output_type": "stream",
     "text": [
      "4 (32, 20, 1)\n"
     ]
    },
    {
     "data": {
      "text/html": [
       "<img src='data:image/png;base64,iVBORw0KGgoAAAANSUhEUgAAABQAAAAgCAAAAAA3CQdqAAABxElEQVR4nF3SvWtTURjH8a8nJ5Cb9tY0TVpomybBJGrrC1TtoFDc6kttFR2UiouTOOjgoLj4J7g4qiAI4qBOgmjAIuJbRBRbwaJtCK2SEuPNDRqbxsfh3txiftvzOZwfnIdDFFhHSwxAt5hKmhjBtTmzLw2cPLZji98Vvfu+yNwEekM98KbumHll5yikkmj5MDvvVaUBFPpl7kezryfeAbCEWvGMkK8NwEKtGSMdFjD9FF1oUufwYLnhD1Ye1dBl1/r2ppK+UltwdsZ7TGh8z6aBcKDSTWfRq7tcFDczMVAOHok2j+1q8/rxAKXCUvyvmeB72cGhE7u6Sg/u2NuHEwlK7tampsyfn3NZoStgrbddPDqw8uTZTeGVPaQnFhw8mEFl7/0BvvrfNhYABVvBmlsGCBn1ahjQtE/CvAXA+W1GJHID4IKIXOsBOFCQxmp+Pyg2A7EawGA/qlIbBbgrInIoiC91XUQWV4un0Kl2gFg6nAmPAHVfdPKWHu8DXuS/dW/sTULlU5XH8E6ejxnA4YdfRCR37vQYIHIRgDOLIiK30wD646+rALxf7gV+5/kvl7Iictb5AB5Ov7ah2ILxiAn9APwDEB6fdtN8PWAAAAAASUVORK5CYII='/>"
      ],
      "text/plain": [
       "<IPython.core.display.HTML object>"
      ]
     },
     "metadata": {},
     "output_type": "display_data"
    },
    {
     "data": {
      "text/html": [
       "<img src='data:image/png;base64,iVBORw0KGgoAAAANSUhEUgAAACAAAAAgCAIAAAD8GO2jAAAHJElEQVR4nIVWy5IkKQ50SUC8n9l72P//ve2Z6sqMjAhA0h6yZq+LYVwwQ5LjcheN078JYGZhZoKreq1uCndyA35OZmJmCcIhSJCQYtP14zwP4xRjQyyqdpzvv7++/nx/3flSrebq7gH/Z7nDAXcABBAxEYtICDGEGH4WWABlFmYiIgIBgAOO4GY/TxEAIgBMBIK5A3A3N3dzEAsLU0qx6ftu6IdpmuZ1GKcQozvlUkC4rvM8z1qranVzdwumRgQisJMTmEFgkDsc5mZupmYKEFxEuGmbeR7nbZuXdVm3YZxEQlU7r5uIzut8v4+S75rJ1cwsuBmInNwZcICIyD8FmcPdzcxcyYWEQgpt107ztO3buj3WdRuGiVhyqeH1Lrl2zTOFVuhNTq5uagH+gZo+MLk73F1N1eyTvJvDhcAiMaWma/txmudtWbdl3ft+APi6iikdzRVjG0JiCm5k6qYe6OfzQCCA3NzUXE1NVdXcDA6AREKKqe/6cRimaZznaVqGaW7b3p3cr+usQRrhhikC4v4JYIGJiYjBBCaQO8yg6mau5gA+pGnatuv7YRiGcRrHaRimbpjatm+aVhVZjCiQBxj/s8mdHBQkCBGJiIgQkX4gNzMzc2fmkELbNeM0Tts67+u0LsM8tcOQmkZCBImZluq5WM5aitXqqjBjuAAeYowAmEVEAChg7mb+YamItF07zeO6rdvjse2/lm0fpjl1raTozNWQi913vc5ynuW6ar61FnclciEgEDEAIvqnr8hBICYEEaQ2DcO4bNv62LbHvmzbtCzdODZt+0lf1XPR6y7nmc+zXGe5Ti3Z3ZgQGBTcHYB9sAccTkQsgRgxSjd007rtj1/7r317PJZtG5e1G8bY9hwaQvBqVXHderzL67hfR36f+b7VlBmRIMHMfuhJBMDdiSVIkCAf6Jd13/Zf++Ox7OuwzN04Nl0fY8MU3Fjdc7Xrqsc7H698HPl813w7ORNFcg9V6/9k4sNU5hBiaLu2H/t5m5dtn7dtXJZ+nJq2D7FhCWA2Z3Oq5qXYlcv7yu8rX1fN2apDIAEM8lBK+REmOBGHEFOMbdtO07Tsy7qv677309z0vcToQgqv7q4GN1XK1e6i51XfZz6vkotWhYMAJgbBQ6nlgwyAwCGEGGLs+n5elv3XY3ts8zZ3Yx+a5MLF3LV6LUEYDq2Uq961XrncuZRa1eAgh+ATBQjuP1r6cYWU0jB08zSu27Lv27Kt/dw3XcMxOENdoUxsjp8KilpVVzNzd4CYWMSrENtH6sNHwgFippSafuinZV73ddu3dd+ndYpd5EhgqJs6yMmoqgdyskpVVU1BYCYRCSHEEMgrwz6GEFJqiIiYRKTrumme1m3ZHtv22NZt6acBgSqqQtWsmhGBRYmd3M1h5h81CSmmJqUmlSYRPt3scA9D3xMRC4cQ+6Ff13Xf933flnUZxqHpWyNzdTOHG4hARETMTM5gkJBEjk1ou6Yb2pw7s0JUylWqmbuFZZmJSILEmIZxePzaf/3r8fj1mNep71tJsaJWElM3OJiZQ0qpSYkQanEzpDb1fTeOfc3VVOHqVmq9NJu5hmmamDnG2DTtOI2Px2N77Mu69GOf2kiBXVmY1UXo42opNalJDUGEzNWbJrZ90019qdWsmOVS3ufJClNoGIaemZu27YdhmqdlXcZhaLu2SSnE4EwCYyUhIhJnlpBSjDEKIG4uQhIoNaHtUr5TvlO8giSGuEEdGpq2EZFhHNZ1mZdlmsemTUFYhEUEDDVmImEWIv5AGUIUNiMlIgILhcSpldRKaIgTSMypGlUghxiiBOnadpjGaR7bvhVhc1NVqgyGVvPqBOcgIUgIIYoI8f/8z70CCjJnNa5G1ag6FDDAgn88k+kzrMChashVzXCdTqhaqxkxJTBHChABE2ButZacr+s63+f7fR7neVz3O+ezWnE2ErhzqKauyKXcOd/XTcRqRqUUrbncZgYGS0hNYpKUACc4oGal5Ps638fr+fzz5/nn6/v7+/n8/j7erzvfBnCMxhzuO4vIdd3v42SWqh5TdOA836/jVbWGFNu+74dBYkqtRjVTc0It9T7v43V8//n+6/dff//99Xw+36/3+T7v+ycASQiv4y0iDiLiUrU57xCDuR/H6/n8rqZN24xzMfUYm6bpgyiTASh3va98Hufr+fr6+vPX779ez9d93TWXWpWJU2oAhO/vg5lz1pL1OO6YogQxt9fxer2eZtYPfS0Go5S6pu1FEiGAJOd6nfk4zuf38+v337//8/v9PGqpMDBLSE1MkYjC6/Vm5lqtVr/uEqOwsJkex+t5vBwoVVliTO1wXvdVmlRFlAkla875vu73cT6fr++v5/16Qw3MMbUpcQyJmYOquaNWVdVaFQCpmWnOtZQKoH7uVE0/s6rD3Nnd3c3NzFS1aq0VtcIcDvoM40RE9F+ukMUqvWIrbQAAAABJRU5ErkJggg=='/>"
      ],
      "text/plain": [
       "<IPython.core.display.HTML object>"
      ]
     },
     "metadata": {},
     "output_type": "display_data"
    },
    {
     "name": "stdout",
     "output_type": "stream",
     "text": [
      "4 (32, 20, 1)\n"
     ]
    },
    {
     "data": {
      "text/html": [
       "<img src='data:image/png;base64,iVBORw0KGgoAAAANSUhEUgAAABQAAAAgCAAAAAA3CQdqAAABoklEQVR4nI3QPUjVYRQG8N+93gy/chAl00AiSinIQvsawrAMHRqDmmoLgoLmlmopqKihQCgwIoSUIAiKiqZ00CCIRNPuIilJgaRmdat7Gv7Xsq2zvOd9znnOec7D/0YKHetatiwO3p7enJs91jx/o/UKOsfmIiImJyMfEfGjF07PxT/RJM2nCljsvlSYOAodEREfzq5K90ZEzGXJ8GQgN/rs62MOT3TWL1zOJ9v7Bq4mxJrW1d/uIs3FrkOlCZhbWPiSAccfRLQm4IV8nEyyplOzMwfB+Yi3TUtXHT2TcHoi4hxk0FMozmMN9i+zoSEbMdWIO+m/YHGOe2O4lYZaMP7Q5yF4ldl1oO/7iZX9z6ms9uIltGXqdk+lNkyPcaS73NMJ6EnVVzQUzQwjCpaLZcuvRyTfyUhDNcwuKfspY1ONrmvvE9mw/VFkjIwoLsebQnN7y4oMzED23fph2LhNWlmNbDWqPv5aW4tx7KwsU9qO+xHRgH2vw54lSYMRUZWk6RKJJ1uLkCuAE/KgrQ7NBTBVYN/sx44/91UU3r19QyWg8TdllaQLzm5wSwAAAABJRU5ErkJggg=='/>"
      ],
      "text/plain": [
       "<IPython.core.display.HTML object>"
      ]
     },
     "metadata": {},
     "output_type": "display_data"
    },
    {
     "data": {
      "text/html": [
       "<img src='data:image/png;base64,iVBORw0KGgoAAAANSUhEUgAAACAAAAAgCAIAAAD8GO2jAAAFmUlEQVR4nE1Wwa4cOQ4jKdnVnQCDxWD+/yuzyauyJe7B/Qbrs21JlEiKf/3zj5iSLBpAG2XDEZKUQQkKCBZgF9gQLIkk3XB3k3Gv3Q3wfES33aqqHGMQAaBhwwRMEI7kdeWIMS9mJlno6r0aDX6fiCB3+Vk1cq7da20ApEzvatsJNEFDAAAYkDTGuF7j9bpeV17XHJOU2av2apsiADgUIXNVP/du+37Wl+9uA3K1BTaSBEEYNGjYVmjMOed4v1/v13i9r3lBYfTotRomBUBIgG7uvYbG/ey9W5K72SibsIJJyyAAAgIaIBhipjI5xhgjMkltk7QCoEREaNjugu3I6vvZVXvX3gXDBoAIJcADDk8YGjrlkCIJwt3tblRXNYAxIkIHa6ABGK7avXdXVW2bokIxxkh+kIcJEgIJ2w3bdlU9y6y2y3vt2iRtYkoQjKquc7rche6uNihR4pwj6f8PQEK0a9fetde+7WfB3sbuvWrviKjt3hhhEFV932s9u1dVu1zuIkgxQzMzP/iQIsADF23Y3ru7qruq11p37ZvAnJctQB0NssrPvZ/neZ69nrXXdjcVIjNzzJE+7QAIijQAMRQku2F4rVrreda97jsjiDGya6CsU0GVq1xV3WXbsIjMnFe+XjNP+ufYNiAqIrpRZZp79Z8/91oPDJFVtklKkQDX6r1rrd3tzzMjIq5rXte8rivJOAU0DNomGnu3TLto7N1dtIN2xrxe73G9R77Esfeu7fXUc+/nWaRTmle8rx8/Xj9e85XSp4KDUrcBdPfzPIqICgJ776rymUaQSDFDKaVkMk6KBKQYQyPH+/rxfr9ySIE06c//AAy67O5Sq0owuqvbIPSRCAjC4cg3h2woYmaMMUZmDoWOwDnPK9tnWAHY1V2NkinIbbAliBE5RmZEkIS7au+99n72XhQUMXLMOXIkQrC7Kg0QJtpHjwDQZJ9cSSM6wAimIvPItIHe3VVr1+ouwC7DjozrNa8xKLmqan14ABGfIixAmbZBSyR0VGUoIgjaaLurd/UyNuUxVHtLypEzx8xp9NdzV1V+gIdB2ASgkKTuBjoiRPAwMRSpDIVobHdVb/cGCqgcMa7IFMV276r7eaoqz1T3YYPCNgSEwNNOAYabZISua77f1xwJevez99da965l98+f758/3+PKpr+e537uP/cDO0mRCCUFoNy2sesj+lVYXbXukfF+/fV+v3+8X5Gx1tp7PV9/nvuOkeN6/f33f94/fhpcz/p9f/369WvvPeeVcAPUcVHSVJW7SyLQBGx3dxf2WrV3l8WiSwCpHDFnzjkpGj54K5VjUplj5lEI2ATtz6WjHECItt2Ij9ACkPExKAaJMea8Xq9XZhJuAGBoXBe6OyKydpM0mqQJ2yR0Jv30osHMSEgSJUNGnwhkQjNy5iDYBghJmXn0mGTati3LsvVhWvcmgzAhkooQWrTd7u86gYiwLUmRUkiiwmIIY3R3204eBtOg0N9mCRD90VY60CFKH9IfagpxPBYgwMwROSiKslXtdsNIQWbz3NXh0WmCadAWCSkiMjPOukWGIjMIdXeXj9dTQavRH+khI5X//kqCFAjj+EK7C4IQ/vi/MuecMyK6m18Bq6rWKmr9xm/d6/T/EDZzxlCGBNDqEwGEbbgNt9std8PWKUMZMXJE7SJEBtlVvr+e//65u227bUAROa/r9RopCQCktvGZQHwXRHefsZJyZIK0KWYTAKWIwK793M/9rH2soy1Ejvn+2SDy4zRtEx9N6g9I3+Ny1oGgBB6lJUAxyYDbZjW6SUQyqDNiggUrP2Zgg/aB6GwxsH0Mi6IIdrEK3a7qakAEZak3qpqQIhEMo41QRGRoJLr644eG28QnQYT5vXCQNvfutfbX/VSDxiqW6eYuV1kMKkkBlP29R+h/8slm8ScT0JoAAAAASUVORK5CYII='/>"
      ],
      "text/plain": [
       "<IPython.core.display.HTML object>"
      ]
     },
     "metadata": {},
     "output_type": "display_data"
    },
    {
     "name": "stdout",
     "output_type": "stream",
     "text": [
      "7 (32, 20, 1)\n"
     ]
    },
    {
     "data": {
      "text/html": [
       "<img src='data:image/png;base64,iVBORw0KGgoAAAANSUhEUgAAABQAAAAgCAAAAAA3CQdqAAAB0UlEQVR4nEXQy0uUcRTG8c/8er1P02tqYl6aHLIbRSBYuWpRELUzgrZBm5btokX9G7UIWriPghYt2hRRVlgUWCmmXSidUUdjcmxS3xZv0LP8ngfO95xM48hw+cX8wicKrb3Z2VcnLt++FzVl4/lkooJQ1xy3t8cNRxejQ+0bxckKTE0V85Wvm42FkWhb51Zlaaa/V41/ye0NHX7OlVLWosrUnfG20J/tXPhXPAAeFY+GXG71e8ouXekAJWFnNtkCTl09Pwj+CKsbcQROF6IR0Cok9fFvcJLjoCDq6WgDHd0MgD5hoKUyC6Vl6sGmqFhcT0ADmqp4L3r9piE1mumhuYpnQnxhOIXLvFyEMkmSnIWuhWQ03X4jCeiEoTZ7dsCuncI0ryDP0DVoKQi3Fj++hbF0wMqKMDmxCp6/Yw7WasKOOL3IOLOQyQjHDvX1gxWWoFYWKksOkzochtqk8GRZ378/yMJaSXj9eKIO3OUmqKxHMw9/LoHRrWMPQDIXbYY4B35cTy2aqlNBnOk66H8a8/tyEb1DnRf/w7Vkcz3I1OWH2rHrBNid/bUW+bylfv/Yhze14aZvT+/XBru6j7RGygsbUX//GaXW6Fw8253v2/77L7LFmNwpdNI+AAAAAElFTkSuQmCC'/>"
      ],
      "text/plain": [
       "<IPython.core.display.HTML object>"
      ]
     },
     "metadata": {},
     "output_type": "display_data"
    },
    {
     "data": {
      "text/html": [
       "<img src='data:image/png;base64,iVBORw0KGgoAAAANSUhEUgAAACAAAAAgCAIAAAD8GO2jAAAFD0lEQVR4nHVW0W4tuQ0jKdmTbO9+dZ/6Af3I7mOxC+wZW2IfPCc3i0UFAwmSgWVRFCn+81//FpkRkkREjhiDpO211+u+X+u11r3W7jYASSFGKEJSBJVjjjls2wZJklLTe1e707YB27BNgQTOef7mcpe7z4c49/gr3r+CIEgSPD+pMM2sKj9pGSIoUuei7qqqXXvv3bvP/VBbtGVHCKal6g5JJCVRYgikLNtZ1YhowxAZ5/bz/G5X1V61V1W1bZI2ZMHd7c0KCiRDkREKkopQCCRM23kAISVFREjn+ef23rvX2mvtqgIckYQgVNW+N4FQ2BYJDw4aEBkRlFC77TyYie/a3vjYqPLadRLYfkAIkeruvXZ3iwRwOBKZTz+eIOAMRirPESTzQH0qqPVAJIUiMnOMlGh3Va+1CJMcY8TI7PGQ4RsNMqRzROpwwIaBtvsJ2yQiYoxrXkNkt0m620BXV9f5DE8DDwhtOyN/HuoLH8M+OfwkYGZe8+PjuhSwOyIpuavx7e6/Rc4xM/OalyLwJj9MmG50uQo2pcgc13V9fHwoWLXnHGvF3n3G5vDkKyjKgp0ZI3OMcVGqLlQRBL5AcrvPiEbkGHPOS4G15pzz9RrVReqM1jMEpERKcsCdpERFiJLtpsl+D9rPgAHwoXIgMzMzIgjhdBTf2fNMrqzsrm5Vd5CgydOmn2LQVfVug8QHAIUU5+3+2anvWcDD4HvfpkelhJCq2+gDy1NEdXd12W0YfNSKoAxXl8Gu6uqqLiOABmTAhJG///7fMUZ3fX58zDlJUIhUbJ3JAvkoFEnQRhWqjAYah68AD+mqe1erGsB5Y/7223/GGL/88o8fP378+uuPz8/POWdEdztHZuYcwzmua44xMxPG675fr7v7FIscipHMMLh3AUsMN8plO//444/M3LWNjlSOnHNIkCCSZEQcMcg4HZaKR/UO4KQiQgxbbXbjoXqj7RRl+N73a73WPsJzu7336t5GtZsgzCAjYo6p0Fr3YdqjYaf3oZCe5lOkCWaMeM93V++qtfewUX0EoLoLzdp7791VxrEP2Ycpxz8EiND3aTMMO3PO42kgDZ9G2Sh3dVd17erGa91/3vfrdecYEB6JwvEwEXrI8C1EEU5FAIb70NukQX8jcndX9Wut17rvteZaFHfVdn95MAjz/2gRdf7zQEkKEuyn3AiItXvXXnvd+157SqwD1zEJ6T2f73xH0557H5d/O8S3QVQonhB5Sqndu9zt6i6j3wPyl/d/t50knwXiWKeJZ0UQH4fJODpi9+699jawq46JQmIE/xo/Vw4gHzY/y8qjoz/pnalM7mV4175fr8OQP1+vRjMiIjJCb8t9by3fetCHQiCoNx2eBBGRI3Mk7zivfq3bBIy1F8jML1VVBL+l0VcnsrpJREqpiJDifJJkjR5zzutae9cuAGuvdne1YUmZkZlzzjFGRD6LSZxBe4BKUIynVp29IkISu3t61DXXtbvWa8Eg2e67lshrXGPkGGPOceJdTn5nS17XjIh55bwuSiJDigic3YaoWnZHhI0x8j0fVlBSfsGUoXOkx1EaJvLz8/NJ8FQa7zKpEIhdG8Qcq9tH+CKj3SRy5NfbjxgeN8bZfGgA+eMfvzI4RubMOUbGOFOukCCQIOac6961C0a7r495HCkUb3hGjlTEgf4sPoeNOcZk8Hh/ZsbDtWcm8yi2IrX3ql273WbY3dXi1yQ+y+/fpeJ/zJIhkhUc3dgAAAAASUVORK5CYII='/>"
      ],
      "text/plain": [
       "<IPython.core.display.HTML object>"
      ]
     },
     "metadata": {},
     "output_type": "display_data"
    },
    {
     "name": "stdout",
     "output_type": "stream",
     "text": [
      "0 (32, 20, 1)\n"
     ]
    },
    {
     "data": {
      "text/html": [
       "<img src='data:image/png;base64,iVBORw0KGgoAAAANSUhEUgAAABQAAAAgCAAAAAA3CQdqAAAB70lEQVR4nH2QTUiTARyHn/fdu2Vrs7G1aq0UWWVkpdCnS2GQLqJmn4fAskuQdOgQQXUupEMnqcAgKAgPQlGWbUhEwiIWE6Fa1HRUy2appTi1fej+HaYjInqOz+H5wU8BwHzGa432tFLAce5s64QkxlOSa6DenJdtIyISqD90R+SiefeRWhNw8KGIXAeoOL8B11GfZyXaGpVkcztAJEKJZWjGWR3Xykp53D6X118wd/fnFru1UttYx/xm1rsq9ml6gV39qXv/AGh+6gXChv3bHVN6rgzeBRB5BWwRCZw64NOWOwcAO2wFwiN2Wyyo0+oIAe65appUfwp1CUkgA4m8fvMZ1GFSQARuAHynB9A+5GrCEG9M3wNIrO8FlMPF2/puFt55ZNwFqKuL+tIF59m3wgsW1VFucdigpuMEMMO6vZsdx7T7Bq/n+FjVIoJAMFKxszhWpZidDZsagWg5YP2RGR8NDWuVTa50Vs/rPQCn8VuNg13a9NuZr92zbRkAzyVSyYQ/RF3T0sJ4p4QGkoFl4NPm1cbnk09eilwGbl1rcQFUd4RFnonM7gBEJNt11R/NiYh8EWnJv/snU5UArL39a0hEROIy2XkyX1cAzO6yyRcf+R+mf7hiHerfTjMoKLXvksaF8g0oKVJsE2MZk370N+gvzc/9Y4BAAAAAAElFTkSuQmCC'/>"
      ],
      "text/plain": [
       "<IPython.core.display.HTML object>"
      ]
     },
     "metadata": {},
     "output_type": "display_data"
    },
    {
     "data": {
      "text/html": [
       "<img src='data:image/png;base64,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'/>"
      ],
      "text/plain": [
       "<IPython.core.display.HTML object>"
      ]
     },
     "metadata": {},
     "output_type": "display_data"
    },
    {
     "name": "stdout",
     "output_type": "stream",
     "text": [
      "9 (32, 20, 1)\n"
     ]
    },
    {
     "data": {
      "text/html": [
       "<img src='data:image/png;base64,iVBORw0KGgoAAAANSUhEUgAAABQAAAAgCAAAAAA3CQdqAAABqUlEQVR4nHWQTUhUYRiFn3v9mNGEGZ0oEtQMKsZajLSxJCcEHdxVtHGRLl20CRRcSNSuTYsIIgiCoKCdEEXUzKZowAK1DO0mOTYRNIOKqNcZ+6E8Le69jSCe1eHhPe/5vtcadLv35xauHGBoLJTjyJ2TE59rTLVbLE46DfGFR4vA/IP3mW9Yo6/qnTyEf1GRKcxsAGxn2NUb7JCx/9smClWtNRN/wXwEoDY+d7/zQ7aQOJ3rAw4BcOHubUlTY1+lbrDzALSf7YXi3I8YDATrjq7oycMmoHFW2uPDS9KzSOAiGAAEx1wAFtfyLrYBMNDiZQbrYmD/AagDLgK0pyjhx8vAzf7SbKkLPgXt5+XpxRvpcjC5DMDv+bKFXwG0gNLp59F4W4rjQfyW9LQT4Jr0E7wjJWA6C7AJ4X7sMDBwhs0CAG+BPgBOOJKS3qLkslIYIBoCGj34uuNwBht4ea8MQ35notY356YkDUeAnhnlfNhwVZLkflmSpFPBQ6+vKtCSwQrwSHKvY6LNse83HlcgAKHmfesOu+hgm/fTqm3MereVyW6RpmO8Av8BZO2nrRM0ptsAAAAASUVORK5CYII='/>"
      ],
      "text/plain": [
       "<IPython.core.display.HTML object>"
      ]
     },
     "metadata": {},
     "output_type": "display_data"
    },
    {
     "data": {
      "text/html": [
       "<img src='data:image/png;base64,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'/>"
      ],
      "text/plain": [
       "<IPython.core.display.HTML object>"
      ]
     },
     "metadata": {},
     "output_type": "display_data"
    },
    {
     "name": "stdout",
     "output_type": "stream",
     "text": [
      "8 (32, 20, 1)\n"
     ]
    },
    {
     "data": {
      "text/html": [
       "<img src='data:image/png;base64,iVBORw0KGgoAAAANSUhEUgAAABQAAAAgCAAAAAA3CQdqAAABxUlEQVR4nGWQTUgUARiGnxmG0nUnYdyFUdky06zE2owOhR6KlIoKIgYNFKJLHqJDhwLp7K0uUXSr7ZBEUARCVEQQ1BqFP4VpQRu6Zmlth1bNZnPfDuvPlu/te97L834GUF/vBL5kStyNzh/584bjWlDgRMrMgg+PU2VFM0WlkQozZHnjvzdU26ns4ABJAEL7dxmd49nDay/fIj9WMFi8c/5fhvHyQV/29dfcsWlP4iEAurFQr2s9/VzqBjAJAFBz/UKtZUPrDsCkD6B86MSRbOIVcBYakQNwTtKbZi8pdbPmickPgH1AXab32jC9bN2LAJiSNGLTFItXQdxc0IWxS2nK7dRH6EfHADpPRQHnkxSFKxYuQBcARyvAh2oUWVp36J30Hpgw/eQS3Lyazx1AqbVq+Q9xzd6czm1nRZRTqo09u7otHwO0/9K3223LSAAnJUl3zjcDWGIGoEuSpO+DF8PgiQxATIvpOVD1VKYFcPftooTrGEEsAO6PhorD2xu2gDHn/8SiMgEMAETb2u2EEfBh1svza2xZD940/R0lKyaZj9zjdf9Do2l3QzpdGXrRcy8PRlrOFCoMkyN+4dzk6PDQRODgX1/br2O/z4cCAAAAAElFTkSuQmCC'/>"
      ],
      "text/plain": [
       "<IPython.core.display.HTML object>"
      ]
     },
     "metadata": {},
     "output_type": "display_data"
    },
    {
     "data": {
      "text/html": [
       "<img src='data:image/png;base64,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'/>"
      ],
      "text/plain": [
       "<IPython.core.display.HTML object>"
      ]
     },
     "metadata": {},
     "output_type": "display_data"
    },
    {
     "name": "stdout",
     "output_type": "stream",
     "text": [
      "2 (32, 20, 1)\n"
     ]
    },
    {
     "data": {
      "text/html": [
       "<img src='data:image/png;base64,iVBORw0KGgoAAAANSUhEUgAAABQAAAAgCAAAAAA3CQdqAAABj0lEQVR4nFXQT2jPcRzH8cfv6+eg/bE2I8ro56DMsppSyA5CUcqfs5RIaXEg7nJwcFIcdnDhgJyctByGA6HWhN+afq3fNiZtWdPWlL0dvp9vbe/L5/1+ft7v9+vzeZWsiC1Hxocnoa2RTTk7fre2bTVldrQ1z7Q/AAvzPxszylS6snqaHhiozKPE1uZoWTO4uGxzKT+6DyyM1upWRld19veXp5eL8gLYvBgRERMJxn7Y+DUiIqIPZK7Aj+e/QGqNqORJdv7F9EgTKNNRA0v9I+fmFXC20Dx0ZqY6NAjx9mBinyIibVKdzrPbO3lcwPJUUsSNAnbuBhvW8W4MrWS6j4JLJ3gJLWTMQGdvK2Pwj8zne/C3AethnMyb77DYiB5YQlzNFfsiIi4WLjWkpKMaEa/Sk04mWO/H+9Q5dbj4+82ID+3Jutd3enO4Zy7iVnKpq2n7YG7e8F51KM81rd3Vknf2zBkayU2MiCfg+mTEt7P5/alHpxvgWUTEx2OWxbWJiIjqPkkI/BldVbv/MBX/Abkck/vnzRNKAAAAAElFTkSuQmCC'/>"
      ],
      "text/plain": [
       "<IPython.core.display.HTML object>"
      ]
     },
     "metadata": {},
     "output_type": "display_data"
    },
    {
     "data": {
      "text/html": [
       "<img src='data:image/png;base64,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'/>"
      ],
      "text/plain": [
       "<IPython.core.display.HTML object>"
      ]
     },
     "metadata": {},
     "output_type": "display_data"
    },
    {
     "name": "stdout",
     "output_type": "stream",
     "text": [
      "3 (32, 20, 1)\n"
     ]
    },
    {
     "data": {
      "text/html": [
       "<img src='data:image/png;base64,iVBORw0KGgoAAAANSUhEUgAAABQAAAAgCAAAAAA3CQdqAAACAklEQVR4nE3Qz0uTcQDH8ffzfb7bnv3QNhsrtXYwaNPEXFE7RFmIBlHdkijvCdEt6pB/QUQH6VBEdYqgDkW7iGVGSpJY2cJSa8JS59oPU7bWfDb37VKtz/HF5/TWtmo6y/ZyEaNSUrh96SJ1eC2g211uNDTwATX1MgPCYl0Dd2XdrFhs61quUXorih9afa3X51nxTIm1jTJxGXIUy5kdzYGWnVZrNGJ7lXpf2tAG86ufwh1b+LNH92Jzkj2TQyWlnrrgAvRMvTQvYwXvTaX6/x45o65SB1yK3PpneFVCHJaQf/ixihk8/iSwMtNVReLq9G7BFU+gDnCPLQwADNHUBUotAbxRSt0F7qjh64JFegEagCQwwNKC4EFpBDhggWcF4MPgY0MSsAAcyiymlgBorq8R6GWAY7tit/P7gKbGkClAArRh/JxJAFYZSgm2AzDPJiM9AdSSTwoCtAJROnqyY4BBXghstAA6nPV9AcaZjAsWMYE+IAh4TaZjcP8zAAm1GgZy6l23QzI3C0DDkREAF9GsDr2R/xrxYvmUgaBy/Iaziv6JnN0haOd8vFrT/TaBRdIGm69dBKDP7+e726ZLOhk9eC45ezTQv3/bKM+NoLOgddboeqnd1d3Kt+mvrydO2qJmVvNpwpoNR/eekOaTOe1XGkA643owPsxMSRfjBZcBwG+1qre0Csh3twAAAABJRU5ErkJggg=='/>"
      ],
      "text/plain": [
       "<IPython.core.display.HTML object>"
      ]
     },
     "metadata": {},
     "output_type": "display_data"
    },
    {
     "data": {
      "text/html": [
       "<img src='data:image/png;base64,iVBORw0KGgoAAAANSUhEUgAAACAAAAAgCAIAAAD8GO2jAAAFk0lEQVR4nGVWy5IjuQ3MBECW1I/dCDvW/v9/8NX+pZ2Yne5WkQTSB0ryTLgOCorFAoFMIAH+6z//pockPB6Sj2VJACigIIg/vbofBUEBEACwTABgVGtOAUAAqFoASN9GAVKQpLs1EXBAYAGQntcQUoliUSQFFPc+BAMfFwCQRG7rkIT/xXN/+7iJ+DUIe/ymltGe55+QhGhAkUzkM0DcjdjP0AEwQYQAkpIoQiAEIUCVZPcv11qAkQxJpAFQqQym7Wj9EgIIEDDAKJIoQcoNP0FIgAGFugOYmRuHgAhQgqBakMQwynaoRgNMqqpNpIGUJJaZkRJUkm2QYUYpC2QViiUgAGbmXPq6fX38+FGZ//zHH70HIDNGtDnn7TbOr3W7TfcW0c5xlvLt/Xoc3R29BUpa09y7t2QWkXfsEHOutfI859fn+fHXbYwR3t9/e+299bBR4+vj9tf3z6+vMcYy6x4+5yisMc92tN9/ewtveFL1WFAwIIl4EK4qVSkzv337bmGgKlmpH98/v3//McZSurls2shZWkX1yuNyuVwUZkUPUkUQLD2pC4eVQZKWcq45J8iZOVcu1cr1efs655klN5gHKRMqudbSwFhjVZFOoMQSJNL4rKcwt529WWuMcZ6nH91o7k01a2jlLBXJaNGPEAxlNc6Za57rds6xlrk7WdgFCtDJEkQgSDqtR2ut9eNYSjeL1r31XEidAszh3l9eX1+uLzSba31++Y+Pj1lrZc6VrYugGaqgXfY7gYGoupPALSzk5XKJ3iGMMcc5qhTRjuN4e3t5e32n+cxFt68x5qyCSgIoUkCqANpPxR6ZVVVrrTHnHOccg2RlDuh2O8eYEKPF5eithYfRuESaRQtb4zzHmDOrCAo0t7vukdvvgCRBMgOMDvIcY8wR5WstSTS4u3f3QGmpuHLS0PtxO88xxjnOtRZoYU4PlqR6Cm8QJAlKhapSld3/Q4UsmGhuEW4klCUAcpBiVhIwN5hM4nb2V6U0MzOSYpWylFXYJVhSllZCCLPuEe6QsBZVNJKoFEA3MxKGbVosVYkAJMq2/5v1LdTUJttUuj8Fd4uwrfmoRNVempnBjGa2G4wAFBK4q1f8rN1GGriPu5mbq1RamUuSGY3ilvuUsgg5SaMZCBEklVmFMtruFbYpFjdYRjMAbhbu5kZpzZxzZaaRHqRDpcxVtQww0k0wkPbIHD1kqQBFqWqnlZFuNAoI9xZhxoKycq2ZVTQ3dCOkVVml2tlPwR/gPJUfAGEQQmSqUlpSCa1fosXKtVlpvYGamR8fn+/vb+4hWInnPMe4hfsff//b+/urk1IJyCpRm/HdxwLEqkppKpdKBM1TVStXLbgpWarPc3776+Pol1x1jrkyQVyv/e312luoioSglHCfNAygpJCUlZk5K29zEITTwFTuqaGqAJy38eef34/jVGGtXFkefrl2c0D1bLE0qFjSszHEzs6q0koKokijsXlba2VmZs4555wkKyuzJJqhNYtwYCtzPog1UCTAggxbTUmjIcKP3oUyICIi3MwiHh5k3f3Y0u2tH/04Lh4Exfs1zzazS0oAwtwi7Kj++nKFCmBvvfd+tGi99d4MMOJcw2DNW1ZFby/H5XLpr29XdwPqJ+s7EIN0l+ug9/AIJ+luJF+u10s7opkhw42Ch401UQj3UkXvl360iOvlmliZ+RjAABC603u/wMyiBUFUhQFmvbfeHZQSEWbXw52ZiyTpmelB9yBYuxc8rctwH9kMsr0fEREIERGeuUrw8KwFAKhMkOy9k83MAKvagBDSGMN8b27FyR2BtKrurOzZtCg4KTNU2S+AitxFv12re1/UPsMx5qYzKyuRmRClLQ+AGLXS4t4ewlkkHs1oa4sk8v8G959dKFQhlzJzrVwrJezqgey/lpJ6gwXP3AIAAAAASUVORK5CYII='/>"
      ],
      "text/plain": [
       "<IPython.core.display.HTML object>"
      ]
     },
     "metadata": {},
     "output_type": "display_data"
    },
    {
     "name": "stdout",
     "output_type": "stream",
     "text": [
      "0 (32, 20, 1)\n"
     ]
    },
    {
     "data": {
      "text/html": [
       "<img src='data:image/png;base64,iVBORw0KGgoAAAANSUhEUgAAABQAAAAgCAAAAAA3CQdqAAAB/UlEQVR4nD3PTUjTcRjA8e//t/9e1WqTciqWb/mSdnA17WXL8rCLYdClQ4cudiw7luGlS0LQKbpoGBVBYBAdgkBBWiAzhmG+sfAlly8Ltsmaewn16bC55/g5PM/z1YAT5ZxsT86VWyfnDscidaVTOo1VVzv1VgC+zUxPxLPzKOrbLvivvYH16J3h6s6mmu0kwJMZDuZx8GmPBRTHy4oL+NlVv5IB/ZD3elEBW1j/AeimzeivAt4kBOYs8HAQOFsBINIODUDPp83Fe/uyDHhEHFAJfAm8fykiXkDkGVAK7PS7b4ukgCp53mGBShTBNXsXXAHesWrgGBo68abmM/QGoPs8ZSuZDEabTrrW5Rh4AbSAKwWYNHi7JeHcl8MiA6cxl6KwmcnH977iogFn1KaY+o7KB92i3WXJkFJkf+4WMsftba3/UIpzO+OVl+i6CzBCtWgoHXc6dHk0UYezHwJY/1jYhYmPwcTaBxEBkHQfoLNww86IMbezkeA0oFNbtOCJMdnnB1zIhtoHlmWpcP2RhL2Aooa9AlYkAqsammKf+QMrjoyNhksQndfNcwfoiS7GDElQGOIlOXow5rFsOFptoN9fSlqHmt2hBhPEZ7f/JhTo5kHnEZ/PZDX9HkrtqfjXhAU0axp8HcnZU9v+SFF5ZAtrOrfNUGw05ps4CvwHCzC0PdAlA5AAAAAASUVORK5CYII='/>"
      ],
      "text/plain": [
       "<IPython.core.display.HTML object>"
      ]
     },
     "metadata": {},
     "output_type": "display_data"
    },
    {
     "data": {
      "text/html": [
       "<img src='data:image/png;base64,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'/>"
      ],
      "text/plain": [
       "<IPython.core.display.HTML object>"
      ]
     },
     "metadata": {},
     "output_type": "display_data"
    },
    {
     "name": "stdout",
     "output_type": "stream",
     "text": [
      "3 (32, 20, 1)\n"
     ]
    },
    {
     "data": {
      "text/html": [
       "<img src='data:image/png;base64,iVBORw0KGgoAAAANSUhEUgAAABQAAAAgCAAAAAA3CQdqAAABkUlEQVR4nG3Qv0tbURTA8e+7udrUSJKG0qIkUCmmGMQ2FLtYsBD8RbZOjoYubvkDdCldSqeCuggOgosUqmuhRUhqRVysODgFJD80RH0+DaJGPR1uXkDSs9zD59577jnXoil6h1Uz7p7xpVnjlJoxop0HV+ho9LLg5K3PhRmAkrX2J9c1FvZ7C3vFWP+535yVe/FtdWcUmBWRuwbuiKTBiic/zS/pVMdB7HmQ45RPloGrCffRtvH0gMl0a5+LF8Xj9Toy4mJiqqTzuwbTLr563fFo1rtfAX3z00W5sU+fhHQFlG5Mp+2jjcxTD4BM1m1ORE6DrabmtftjQODszlRqXJ8WKbotm+WjiKykTG7VtwIiIosRAPo/qHcAOF8BPQTA1m+19gaAFiDyPgmArUgAtPiA2uBbAIKKFwC1GPCwPQdASeEDiNYADwJYVJVp1MkCVfsv4AeNDVD+Ho5ms+1bwMsM+nYBAM/mdv5XFaAngw4fAlB2Kj8EINAdOlHGKOuQB4CeZ/wnOq3G8AA8TrAM+P4BJx2WYgXEelcAAAAASUVORK5CYII='/>"
      ],
      "text/plain": [
       "<IPython.core.display.HTML object>"
      ]
     },
     "metadata": {},
     "output_type": "display_data"
    },
    {
     "data": {
      "text/html": [
       "<img src='data:image/png;base64,iVBORw0KGgoAAAANSUhEUgAAACAAAAAgCAIAAAD8GO2jAAAFSUlEQVR4nEVWQZIjOQ4DIKXLVX3e2Nj/v3Cmu8Z2igT2oHSNwgcflKQIAiD5v//8FwCQJIkTt9Gx0ySBhJEmScAkiX2dgEK2HRuANEWB3geAJEnzOMb+6t8E4Kq1qgmABCGBAECSIBAABIidNgGQONxRnJjc32be7x8kSSYBktjg8xSeDYIiyKFxBRYQxEEEKMF+7PtxP1A0QEo6MD8/76Sk62FJjIxJMRA1REmUAHBfgB1AMdeqjrs7OzYAOGkgGpqHjtuYH/fbBmtnSBJkDB1zYmgnGNJGEUgMO+RYZ/3+/b2rf0O2cUQIDY7BMTiPY0o/Ka4aj+P4/PoEyUGKY5fIBIGRgBz//PN6Pl9HzQ0NASIAJZEQMcQ5xzyOsaEjcTtu8ziqipLmXFWJqcwxJYnUEKgY3SZHrb593B+v1/PxOJ9Pd81jDM7QQM/b+Pz6mCRj2yYQTgpARBxTNqovjmxSSBIVIsHQmHPOo2eXpHDXFrzBJKHJmez4BaJ7ddPuTbXXOqsKQM85xpAw55AGoOqsWt3d1V3d3ba9meQATXo3fNrltNOCSEqaB8/X+f3nz7lW20DG7vYYx5xzTGq0cb52eHfFHXfs2JECIjFixtPupC+VMiSpdPfz+TzPs9pAxuQY0hg+bn3cxpg2q7aK48T73cBbjgRIRswMjA0cAzqpVNzd3VVVVQEcJRqJxlCsbFH+MBPZkjRJiqQAUKIG54/wE1ctAOvZz8fzPM+1VnXjUvAgCQdOFEQgEREiRe4/QxoSKHBTYIz5b01Akqo6z/U6X+d5nudpb+iGiRZtI76MMQgACBDAbSPUpKIBacwxjjHnjk5S+02x3VW11qoqOxKHmKGNy2UZQRzbQRDQW+MEFV3t2IyZIkhQ0BBFOLn6EZAUNTSOeRzHcTtux20eN+mApW44rvb2ooAIEiTv1uwCFSgQAuRqtMtVfYns7QM/R9QghcBGt32JwHBg48f4AiQzMoiA6dCx81r1OtdrLZukwpTnSDoocBhAumHH75M2OqHjhgE6vCx8Vi3bVb3WVg2qqpPj46MLBOcxbvf716/Pz8+vj+MOaK0+13qeZ9VZdXYXidsxyZDZ4jsIJALnRs7pqvM8uzuIRM0pMgjnHHPebrfP++fXMW9dPleXXVXbKjbTNESYQCewYXC70cf9ZveYGvO4rVrLbq7yWsWE3AOTG972liUEkuw4eYO+ycEIADlAkSTnr19ftqvclVp1rl6Vx+OsNhGSHIII0aABAwC3ZW6DSwIYQQgCIknpGvSeX1+/7Lhtp8rnuV6nbbyerzCAqEEp4J5l+7dDVl8+Su7gO/mubwBCMO/3r2vRCKoyZ2nU83mS1DX1RZNG3Gm6vYN2u6rafjvNDz2JrS0Q0Bwam90AAduYHV35s28n2d63a62qLrtjOw6ACEGAKBsZIrLZhVnVF5Zgl2vtZzmJAySAu7tWkRS7O2utWqnqfePtqZeIfRW0ZYj5/f24xBJUeZ1V5bXO9lV9woKYZYdUt9datVxrxeC14SnhXnlEhLRhp53519+/Y7vdnapeq+08Hi+Xk4szCgG0A7DtWlVnr1V7kPxsLtsDNx2a6E6X599//U7c3Wu5VrltqytuOL2HUQEIqCDodlXXaneD2e3cs3BnQGKCSXe6Mr///PO2ii3L2JCGJL83ww4iSmTwM+nc2zW32+9NI3vmK7gGRjD//PlOfkb2ViWT3sN2066T7iZNIE4ub9gr8ybE3qzE9/Zp+DxPAvPxeL3Ze80m7BVuE3BLNkg6ia71GpIAJul20sllDCSDi4HnWl39f4xIh+xYXQh5AAAAAElFTkSuQmCC'/>"
      ],
      "text/plain": [
       "<IPython.core.display.HTML object>"
      ]
     },
     "metadata": {},
     "output_type": "display_data"
    },
    {
     "name": "stdout",
     "output_type": "stream",
     "text": [
      "7 (32, 20, 1)\n"
     ]
    },
    {
     "data": {
      "text/html": [
       "<img src='data:image/png;base64,iVBORw0KGgoAAAANSUhEUgAAABQAAAAgCAAAAAA3CQdqAAAB/ElEQVR4nE3RTUiTcQDH8e/+e6Zubc2K1dIha5YoyFoHh4KRlkUZREaFVPQCXeog9EJEt7BTrEtEF3uDwBAioqAVRQQKGalM2TSqWQ9B27O2aht75lzz32FYfo+f4+9noHUU9u2PjdCjfQ412qKhGAo+Y6rSm/2UTQdbOrpCJXcyhmJwt43kazLqVOK9dqFpvFRZAmEueNz5aPhDAl5Pp0yKtQYUPfU1OEK5sxfXf1xwgSDnrWUx084T67IgFOuboX/YHzX4fKvhwTmWVPtYynZEr9UGLPOXsbCGX3kExSzQdOTuwCkgeTu+og5kAOBMQsoMwNop2YugCNDiANtpIPaF5QgSgGIC2A2gY0NwH+hKq4AfYA47YiYJbM0/fDKHuRkIY0FkAQ5Gnt+8AtVAij8I/0nAVXz1YuytpQHQmUDwA5DHHMTbMmlgpaoieAqom3fQiT0HeOarUWILQLi+2xlATwIVGypQnAB3VtU1wLMxoAMJ0ghw47eUchdAUK1H4AV4ZweGAYs9GkXQDPBSB4qA35wGgQ4QPw+DBaDfVwLk5fK8ew4DNGpy0goy2Lfkji2a1DyIGetx13/8OUtkFnH9+6bxRTrQfU0OPgLolPJo2QZkaOjWpW0gCI8S2N43fM/Zc4iN36ar5kHBGGl1XPXRvjdXlZ+wK5oB/gI3o7wta0opPQAAAABJRU5ErkJggg=='/>"
      ],
      "text/plain": [
       "<IPython.core.display.HTML object>"
      ]
     },
     "metadata": {},
     "output_type": "display_data"
    },
    {
     "data": {
      "text/html": [
       "<img src='data:image/png;base64,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'/>"
      ],
      "text/plain": [
       "<IPython.core.display.HTML object>"
      ]
     },
     "metadata": {},
     "output_type": "display_data"
    },
    {
     "name": "stdout",
     "output_type": "stream",
     "text": [
      "0 (32, 20, 1)\n"
     ]
    },
    {
     "data": {
      "text/html": [
       "<img src='data:image/png;base64,iVBORw0KGgoAAAANSUhEUgAAABQAAAAgCAAAAAA3CQdqAAABmElEQVR4nKWQv09TcRTFP+/1kfaVH7UUWlqLBdqHhg4koE2ILsiMAxoU40AYHBgIf4AODkZHZxM3ExMXBowbEwvBaCQlhEBgawrGWqjBFFNyHL6PRmbOck8+996c3GsB0UzeC5Ua1d5koG/t8Nt3rIVa6tfR3hcA2nu8z4muwbBTzGaHSunWgx+nXuQw2RuzkvGc8/WkJ+BGx4ORP/X9znq4ghVOOrX14K1ArNHI1srxxLED5ZJnATeuxs4S0Up94+RnVcAEAFhcTmlTpqVB4kCgDegH4Lm0DBHATZ+Pv5dUMDY0GjMm/luqA2CTyw0beL8NXgDgkBnwtydh/xVAwaYlZBuYghEA5oHgVBTgrrRpujs22NfHAJ7BWyACHk8S9x4BIGnITKp500upxDn0U9iSpptw8loLwKx05rOUnGXjCvDRh4+b2w+g6Ns75j9jq5L2mpkVbsNrSdISAHngE0DHiqTiDADvnsKGA9Qm3O72v7sAee3ABy5qLm1ed0G7V06P1LAW3/wPOx92lLer3ATIhHENdQH+AVTjf1nsiRF4AAAAAElFTkSuQmCC'/>"
      ],
      "text/plain": [
       "<IPython.core.display.HTML object>"
      ]
     },
     "metadata": {},
     "output_type": "display_data"
    },
    {
     "data": {
      "text/html": [
       "<img src='data:image/png;base64,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'/>"
      ],
      "text/plain": [
       "<IPython.core.display.HTML object>"
      ]
     },
     "metadata": {},
     "output_type": "display_data"
    },
    {
     "name": "stdout",
     "output_type": "stream",
     "text": [
      "1 (32, 20, 1)\n"
     ]
    },
    {
     "data": {
      "text/html": [
       "<img src='data:image/png;base64,iVBORw0KGgoAAAANSUhEUgAAABQAAAAgCAAAAAA3CQdqAAABYUlEQVR4nI3QP0iVURzG8c897+1/1KUgMzBKFGq5i6CgRINCi+DmUtAUBY1BLQ2NQVs0NOogQoJugpBDNESBhNdWu4bWrUgLrBv0556G875XqKVnOQ/fcw6/5/eUJtdbv99NNf2lcjp6TxbgQGGGl+Nibg/dL+UuooTy1c7sUoidxeMl+HWi2noU7AWPc+jj69kbwRrYxTfQbCwJIkydZw8YP1fk2V/FF7g+4shWSH/mUYFuqsIKuIUzsEy/kEfeZgueMiY8a4fchnrToLCZ4Etaxe3lMJBgB6fAeyZSTGZirCV3b+2neBhMx7iad3D6WjACfuz0W38YDIFPhDYOesFmqhN9F5XtBm84CCpzXYvBOtjgaDfc6dIIMpChB6YRvAXHMQrPJxEvgJsxxnqatBDLFsDq932eJHi3Uazp9tdXx9pBa4UZ7dtZath/qoSesy8+MFipbRi6krWyzx7Ef/UHrUB3vvGlS9MAAAAASUVORK5CYII='/>"
      ],
      "text/plain": [
       "<IPython.core.display.HTML object>"
      ]
     },
     "metadata": {},
     "output_type": "display_data"
    },
    {
     "data": {
      "text/html": [
       "<img src='data:image/png;base64,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'/>"
      ],
      "text/plain": [
       "<IPython.core.display.HTML object>"
      ]
     },
     "metadata": {},
     "output_type": "display_data"
    },
    {
     "name": "stdout",
     "output_type": "stream",
     "text": [
      "1 (32, 20, 1)\n"
     ]
    },
    {
     "data": {
      "text/html": [
       "<img src='data:image/png;base64,iVBORw0KGgoAAAANSUhEUgAAABQAAAAgCAAAAAA3CQdqAAABnUlEQVR4nJ3SvUuVcRQH8M99fG6JpmYKaca9kWaCFoaVkxkIRkFjlEMEQv9Bc0ND0NYYTTUFLdUgTRFFBZLRYKRXMV/zhcyrZYp269fw9LJEQ2c4wwfOdzjn8B+V6q5EuofUbzvcdCx3713J1UOdYthzIlMoztcfr1stPXtUe3+MxjOnW0onb20UGi82VNDSH6O1p5lsfrSjCcRixM2wOP+oqHonXogxO1fL0uzr8lzbkVaTw6BlIITwFFwO4SYxRqfbmAJXOopeJlhShWTIx60zCebn+DqQ4ML8cyLI8fBtgl8GP/3EclbKEqzK/NpEXwjhNtcule26vjmWZIYypMnUP1udSO9NMP0dM/TWjOueDElmNkYl6+N0ZTeTzM73IYQnoCGEsF+EHVuwliBOidBUjA9gArtFGOlHANMYE+HN41dsIOkjItQWVpa+tdXDBZSIibYtDy5kqu6O3U9VnMOQFPG+4u3Z2q4uVoZrstbr8jGFIdXLU+2oOJCb/7yYT+5uce18NaT7HqQ2/nxIdLL1YPfMnRtLf/mnf9QPU9OGONVipr0AAAAASUVORK5CYII='/>"
      ],
      "text/plain": [
       "<IPython.core.display.HTML object>"
      ]
     },
     "metadata": {},
     "output_type": "display_data"
    },
    {
     "data": {
      "text/html": [
       "<img src='data:image/png;base64,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'/>"
      ],
      "text/plain": [
       "<IPython.core.display.HTML object>"
      ]
     },
     "metadata": {},
     "output_type": "display_data"
    },
    {
     "name": "stdout",
     "output_type": "stream",
     "text": [
      "6 (32, 20, 1)\n"
     ]
    },
    {
     "data": {
      "text/html": [
       "<img src='data:image/png;base64,iVBORw0KGgoAAAANSUhEUgAAABQAAAAgCAAAAAA3CQdqAAAB6UlEQVR4nE3QTWzLcRzH8ff/v59aZ/5TTbpoo401a2yxmAZ7MPEwT8lEXGQniUxcRZw8HCQuIjHOJObOBWFqgukmjGU01YzFHtBl05ny17FW+/86tOt8j6/L9/P5aCycLQPG8XU7cp1RZZdsFhxzGYD6cufgxTBKav9G8WVsnnTGXTPrnX8dBmUNBcBhVDSU1KWSZTWOwbLfaDiSNO53je/UjGSjAS+aQSGw+pj9xuWcd4nfgA0ANMGBRG8XgL31oUg5QFCru5A+sz6fy2/JIdCxNq3ZNXU/ksdRjc2gE3TU+j5Hih1oAQUN+5zpRWMl4IU7chI43QEQl59AM1x53gTIBEBIBFjL3kmpBGQYYEyygOfwMxEn8O0xgMgE6KbpBjvwbj7/KA16KtlNJA7c+5LHLCgtbNX3A/TYABeYoJfw6vqeTmBqDkhAPvOyLhGRFqrPAt1yF8BwtouIFPr0yS1Q+I2RkUBvXwGncYOianksFDtiFjBOEHSOurbM3l4wBijtQFG9amboa3GjR3DiiU6yUmv7XkQf/NgGbTk5t7imSOxUq8Kj8/S/jc2boWlFACaLdPDlh4GUpfDyYBSAjVX9Fe1v34zPZBQruArgOb/dvJa0fxortf5oKsHWGOzuAX5dWhp9/zHFP7wJt6FXIZ7CAAAAAElFTkSuQmCC'/>"
      ],
      "text/plain": [
       "<IPython.core.display.HTML object>"
      ]
     },
     "metadata": {},
     "output_type": "display_data"
    },
    {
     "data": {
      "text/html": [
       "<img src='data:image/png;base64,iVBORw0KGgoAAAANSUhEUgAAACAAAAAgCAIAAAD8GO2jAAAE9klEQVR4nG1WwZYjuQ0DQErunvPmw3PNYf9yMnZJJHKQ7e6ZDQ/1nlRVhEiChPj3f/7tJo7RduNlJIH30iRNfDOScrO79t7XdVV1d5e9qw1nZsTI86FtgMcL/rTvewdPAF6b7u619lp1XVd3tbl2g+jZmciXDwHw7y5tA/qKgw0QAOnXmdx2lfeux2Nd16oqANfeho0PQHn+eXoDz8oN6sDx/SToJ97xDlhwuXd3Ve29dlUZsXYbHVkZlYDO0UnYgHkCcLdhSSQa7W5aGwYspxQkSJ2a7XU9fv1au6sMkggwSI0YKcB8neibfW1SbOyq2msZANLMhEIROHXfe6+1qrCrFVJkBCMi50h+S/0354Jto21277337p8/72UDHO5IZWpkhEwygpL23t1tFBVkCBS+ikzbkmy/o5EEoLvXWte1fv78ubtJRT8iYt7yY+bHbTIo6XjYVW5EjpNokV8Ap9Bv7y+eoKrWWvf7436/VxtkdJJsD+FjzhSfAA1XbQNV1R0AYSZJvjj0RuKz4rBdVdd13e/3qmqA0N7bNtkjwv0R0FBQsr32BlFVe++uxjtFX+m3vzCA7u7uEwQAKWyfk45Wu+0GokWR3V1dANfaEtvmHwDkiQdV1Xh2U1V1N+DIzDG7+qpdQHW1ve2EgwJJSQopI0Sya+29098Yeop8AExIOhGcQRIZc85atdWS6nDrvBYoilJoZN5uU0Rd67quP1N0LCIgviG7e3cHaXTz1fJKKSS+CdLPhiUId230Wr8DvIPJTPNradvdltrPpiFFUhFSvOlnmyAJCYar1lqP/x/Bdzq97UB92z2nf706MLCBCJlY116Ph96+/kmnN5LEjODTBQicY1Ki9JzEJwJS4hiZoe7q3vru623VjT7eLFJUhGDDlkEUYBIUGKeP9IS2ToYzB+XVK4HXoDdpnnnd3ZZhZPB2y6pJ8r+/fgltUOLplrarO/2kg0iKMOCO0OfnZ0pp91MOX11mO6lGUYyYc+RtjOuzAD4eD7fnzNoNAt51XZsD4Mjb52133dH1uN8/P+dff/3r4zYTMA0CtE6VjuwQQNtus2pfe+1aq/bpCXQ3BHeDTQZZIkWKABXJMVIiyHzr+FMMn8kSwO5uuHY91vq1rlW7utwA2W4ZdtOSEBFj5Jxj17Z9G3POGamRI4+mEDTtg2KQbLBhVq1dj2s/fq0q77aBMGCAIoJQUEh8fNzORAHw4/PzNqeSc8wEYLAJ+vyHPpypArja117Xdd2vddrIJiLoEqEQCIgjEnAQM0ny4/Mj54hQ5vi9kwkAgklDdMONKuyqvZeZYIQoCXCGMuLclSIiqakYETlSESYUERFJBGjb4FFPN9DI53ihu2uvqupIRAReSqeIGIqUQhEkEUwRiqRU7rObkky+LnSnT1G1jkxV1f3xWHufXoyIw3fJt5kj88ePH2Om2yQpztt8FVEG4JceGBD8ZOgzVd1dKMPUSQZ41DHEDIyMHEnC7e8ZPoRs2ICsBEA30QAIg2ZDRJ9x6iYYDI4gqFDMTCkDc445x9ek+xpoRBMGAcNnVIAGfS5fTeDQxQWXYUZknvk5c8ycGSlG5hj5BYAXgEWYr2W+JuFzhH6jFLq6yjCGImMwFbccIzJCNOMpNyc5PHc+AlT5FcU/Rf8ZJGn30TICkiI1b7ecOWYq8L5lymieS6oAADqZ8aur/gdmksrtR2RBigAAAABJRU5ErkJggg=='/>"
      ],
      "text/plain": [
       "<IPython.core.display.HTML object>"
      ]
     },
     "metadata": {},
     "output_type": "display_data"
    },
    {
     "name": "stdout",
     "output_type": "stream",
     "text": [
      "2 (32, 20, 1)\n"
     ]
    },
    {
     "data": {
      "text/html": [
       "<img src='data:image/png;base64,iVBORw0KGgoAAAANSUhEUgAAABQAAAAgCAAAAAA3CQdqAAAB9ElEQVR4nD2Rz0vTYQDGP993734W6eY2ly1bzJQoDDcXRVbQaEXYKUK6ZYeE+geC8tChSyBEWd06poKXDhWBRTQIqUNFjESQzXCb2tp0P9zm5vft8KU9x8/l4fM8GtDmaXPsknqhsFERooCm5EB+2evf5+uw1LOfVrE6TTpoI9X63t7+uUcEB7sXVygVtipojEWczmYMsN/5WxLpRLkg4HpaPTcDBA7CtQfnfBKB1sW9BjD5IglTpuNeO/BEzQOgFICM3+6xCX6RBhiFIaB5ym3dEegcA5iAEwBal0UXLGACyEMRAJfUBQ1cAOsgAJAKQYw9ANOwCPgobWuCAMSAx/AB8JOpIfj9nasAo1MAt3KpqhmevqkpH8BpYFx9vOyR8tAPPdSZ1YA4LPSRyudMwl+cs4EbABJQ3lYIJS+1cTFnwCuz1d12l0bfw7WamVa+fhlpl+Js2DveAGbUEEA2EnBI1pRyAANK5QAuqGdBqyynPVtAFDoA3rHfnZTBYBQw/I1BLAiWQu2A1oIWgYCxSSAFxjCsN+X/H44olQHoVbMhIWi5fAa4SbKCNE6A9/4JgPDGUgW4W1HhVsv5/HTUKWRPJGG/sZo22OGZ5XimjjYY7my66ps/33YfnT9w3/vq9Z/NmgbDRffJM/02gJfxlW/F6s4/BDqvKavwCPUAAAAASUVORK5CYII='/>"
      ],
      "text/plain": [
       "<IPython.core.display.HTML object>"
      ]
     },
     "metadata": {},
     "output_type": "display_data"
    },
    {
     "data": {
      "text/html": [
       "<img src='data:image/png;base64,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'/>"
      ],
      "text/plain": [
       "<IPython.core.display.HTML object>"
      ]
     },
     "metadata": {},
     "output_type": "display_data"
    },
    {
     "name": "stdout",
     "output_type": "stream",
     "text": [
      "8 (32, 20, 1)\n"
     ]
    },
    {
     "data": {
      "text/html": [
       "<img src='data:image/png;base64,iVBORw0KGgoAAAANSUhEUgAAABQAAAAgCAAAAAA3CQdqAAAB6UlEQVR4nF3ST0jTYRjA8e/v17vhSNdyS5SByzJqYwcj/HcQSqJDHTpJeShCKILoWJcOHiIMPIYdiihEaETQoYNQGFEoNbLUydy0Nlna/LNNnTOdyz0dfjO2ntPzfnge3ud9eejvfyciItLLPSPpRvsQyFsss6da0eDGWdcRc6A9oSUev/gGzg7nLQB3c/XwR0hfpySse0FV1JdiGtBpaOH/0IODE0Z2ugOgK7bTDdEer4FzcklTN9dE/tTrB1vbDXRy0qF5rdDzXeFyHwsZ3DUdbQCaDujITGj3go34FnDmnE5watd+jowMrQHXEBk26NkPgM4FkQFEPpXMeDfvf6OY95dtFeGjqtqkQhsvNrKTZS06q2Ml7Tt1zsPI/dJ3t8d+5dTLPuNw4kqsF8A+tX9SffU02ryNdU5g6wFgSccXkGWJT/tFxGd0dA5GPmsSmRjeQ+Vt7ClD7zQfVTM+//tsznHofMGwLS6pVCSagcT8RsHaxG5RzbHqis1EbZOtgKb1gF3hWon+bivXVg1r8da8TWkPn/uzAHoeoNV8sTI4qp6MGiV5oLzm6oppPbyo/n0xkHEod/710LLed7xoG1SVx5HNmVVbcjY8ty+yxOULX0yehC+dlG1t81UkVGMNDyAAT8fGU5ntv2/NxHm/3FOXAAAAAElFTkSuQmCC'/>"
      ],
      "text/plain": [
       "<IPython.core.display.HTML object>"
      ]
     },
     "metadata": {},
     "output_type": "display_data"
    },
    {
     "data": {
      "text/html": [
       "<img src='data:image/png;base64,iVBORw0KGgoAAAANSUhEUgAAACAAAAAgCAIAAAD8GO2jAAAEgElEQVR4nH1WbY7ryA2sKtKe3ePmAEHunCwwb6RmVX605PHkLUIIgmHDTTbrg+S//vkPAABIAEiQBEFCALmCJBP+599/HcdRVdXVrSpKCnDOOr7Wcay11ufn16/P8zzX8XXMMY3vIN5TOL4iCQEmOY6v4zi7yq64XCUZhOc7PH6P7wQkkwBAYHuW11oznomdJLY/Pz9nzVTVqunuLhVB2F5r1lprrZnZRe1KfyTYPbE9M+e5/7Dftu3J8XXsXx9VGc9Ut1QMEDsISBWrmbC7FP6eAADszMxac+441lw5JkkojtMuNlnBThAmQkRWMVYqA7xjsNuPGDASzLwSnDNOIFAggSBAyIDZpanYkIkkQW3MIDTJXbs9a/k8ZsZrPDNrrfNcx7E8RlBVf358tMoxiWo9Ht3PqkdRFWcD9nWcOhZ5blD7rXzm72ITadfxfH48Hz2zyFTtBF3PpmRn1szEydi2gCToDSwAQGJJtl9JtbkbJEaSKj0fPQwAlqq7NpNIyGkmUFFFSdJNUxIAEfwW1yWQTd60qrsBA5HUYktVRVGRXIInGXtWdqX9djRfT8AL7ez6gSR0EoTYzcSVm6AkAmAI1Zgcaja0jTAXTUWC1OZIfj4IkqxzzlqzBrELVFRVKUAgJCIURYg3J3/o4BWSJAFInDg2AiOfv37NWp4BXA9OniEpgqQE6Po/fCvpbPzfuG5w+Qe+Pr9OHfGQ6VUOKKqEqipSAHn52HjGa317EV+CeIELBGDChAQBHsdCkkwRHgPq6u6oQlAhhPiWqmPfOiAgMt85NpIvu86lXSd2YhMhdc4azzjLkUPB+767vbDR3wzSrvg3kia2GUramMSgcIHj2HDg7RoBceGHAEZnzxlkYuNNZG+wf38jCjK8LQjkpUQyV0G6ObJ/S98yxq9fv2x74BiApI+Pj/32SgwgBDJe67SHZNUDug0uiEHgPNfX11cCSVVqbI4E1/ACSFQJz4ek7v74cIY2EnvNWieEGQFgFTb8uPXI2GMPEAlVvBKQeD6fV8uXrUxlSVqaGYsK4Hyu85xz4sQEw92nrR1QISGhSjOUKLFfLf7utcSEGRLbZHYbwwSTNwC4zTCXwbyrtKqq6sdM/h+F4Yf55e7ivj4gUKzakqcEcrd6T7Ry3G7ibWSG3kfxnap4KS6vz7vQKnX34/Hobl1BAGrVVJA4ot68SLwKvQS3vS9UGAIQ9e5U3d3dVVUlqV58FtktskjM1FuCvQ8hgV8l34P3cliJ96HV3c/n4/ncX4gUADISq0SFZFX6Be+suVg0l1XNeGbsmbmWMJUefOzTu3uf3l1V31ypKhA2CSf5ZhHupeje6ebtnb1LlYrF7leCR9092icYJrFVTArv8+DWC+8R8zeM2tffVT8eFwYv59m9JVDcI4d4Z5FEssQt+MvZXzZDxrZA8Q3h3ui+7P3iB4Dac5L49qLLuDbBUwCq9tEg93qqP54fj35sBVSJulZybBHg3tGRV+d/Cu2mOW4DuJt7demPP//8eD6T25qzJ3reCsS9K1zxX8JxUqQ6V4ZaAAAAAElFTkSuQmCC'/>"
      ],
      "text/plain": [
       "<IPython.core.display.HTML object>"
      ]
     },
     "metadata": {},
     "output_type": "display_data"
    },
    {
     "name": "stdout",
     "output_type": "stream",
     "text": [
      "5 (32, 20, 1)\n"
     ]
    },
    {
     "data": {
      "text/html": [
       "<img src='data:image/png;base64,iVBORw0KGgoAAAANSUhEUgAAABQAAAAgCAAAAAA3CQdqAAABj0lEQVR4nFXQT2jPcRzH8cfv6+eg/bE2I8ro56DMsppSyA5CUcqfs5RIaXEg7nJwcFIcdnDhgJyctByGA6HWhN+afq3fNiZtWdPWlL0dvp9vbe/L5/1+ft7v9+vzeZWsiC1Hxocnoa2RTTk7fre2bTVldrQ1z7Q/AAvzPxszylS6snqaHhiozKPE1uZoWTO4uGxzKT+6DyyM1upWRld19veXp5eL8gLYvBgRERMJxn7Y+DUiIqIPZK7Aj+e/QGqNqORJdv7F9EgTKNNRA0v9I+fmFXC20Dx0ZqY6NAjx9mBinyIibVKdzrPbO3lcwPJUUsSNAnbuBhvW8W4MrWS6j4JLJ3gJLWTMQGdvK2Pwj8zne/C3AethnMyb77DYiB5YQlzNFfsiIi4WLjWkpKMaEa/Sk04mWO/H+9Q5dbj4+82ID+3Jutd3enO4Zy7iVnKpq2n7YG7e8F51KM81rd3Vknf2zBkayU2MiCfg+mTEt7P5/alHpxvgWUTEx2OWxbWJiIjqPkkI/BldVbv/MBX/Abkck/vnzRNKAAAAAElFTkSuQmCC'/>"
      ],
      "text/plain": [
       "<IPython.core.display.HTML object>"
      ]
     },
     "metadata": {},
     "output_type": "display_data"
    },
    {
     "data": {
      "text/html": [
       "<img src='data:image/png;base64,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'/>"
      ],
      "text/plain": [
       "<IPython.core.display.HTML object>"
      ]
     },
     "metadata": {},
     "output_type": "display_data"
    },
    {
     "name": "stdout",
     "output_type": "stream",
     "text": [
      "3 (32, 20, 1)\n"
     ]
    },
    {
     "data": {
      "text/html": [
       "<img src='data:image/png;base64,iVBORw0KGgoAAAANSUhEUgAAABQAAAAgCAAAAAA3CQdqAAABjUlEQVR4nG3QS0jUARAH4G//rYgPiLZUTDDZSpDUhR4YQo9L2qUH1a269oKga12CiELomJc6JRZJlwIJgqCg7BAaBIsdpKIIElNDlqgwmQ67ymb+bvPBzDBjcCz+S0p5Gtv3tDa0NFsh+11diWMvDEf+9uD3e8e6SvgIdbMRV5yPiBK+RdtUBB5E3MDqRBOO1oEn9OB6oqaeA8WuX3zB2cTcFH+KWMMrSOTRTz8KtBUXjYEKOBPxHoVEAczDOR6iVvQt3bE7YgHZEOvYUMSJiJu4EGUHn46Ialwrw0sRhW4YWcTuy6MR0QtGS7h2JCLu1haLWyXs/RCFXYtzTkV6MNdB5uPMwItFrJQcb8+Ra5mdWNq4ICHLvuz2zqzk4EB+vMlzaYWnvN6a6Yqkfmc3J/rGP6VN/mSaHZmq9urip34nUpuppHpTV00Kw8ynD1e84+KaqnxTaw/ufGbIP9nSCRk9JxPLkz7UmHs8nZt5M1mGKdZum9o4PdfQ+GzVj3Tz+iOzQy+Xd3Z8jW/3/wKGU5vMW+zxbAAAAABJRU5ErkJggg=='/>"
      ],
      "text/plain": [
       "<IPython.core.display.HTML object>"
      ]
     },
     "metadata": {},
     "output_type": "display_data"
    },
    {
     "data": {
      "text/html": [
       "<img src='data:image/png;base64,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'/>"
      ],
      "text/plain": [
       "<IPython.core.display.HTML object>"
      ]
     },
     "metadata": {},
     "output_type": "display_data"
    },
    {
     "name": "stdout",
     "output_type": "stream",
     "text": [
      "2 (32, 20, 1)\n"
     ]
    },
    {
     "data": {
      "text/html": [
       "<img src='data:image/png;base64,iVBORw0KGgoAAAANSUhEUgAAABQAAAAgCAAAAAA3CQdqAAABm0lEQVR4nG2Rz0uTcRzHX8+zZ6215WTp+mFOIhGnRIbhDww16FQhnsSLQvkveKurBxERZAerg6Se8lJdVOjiZSMPAzFNAiPXSSnd5pKF03eH5xm62fv0+b4+vPm+eX+MsD/rzqeMkwMBQCRobBph734uw1kFT6jwUCrrHAEwTseplr317Xj87LZqXJK0O2z7/c2XQu7s9ysAVI7loljgq+2560q8XnMsT6NYsFPWAzeX44N32i42+PDZ32cAzFiMZ63uJg5t+AM4WASm07WwDyZQDnguA+Q8kAITAr3AhQiAvx4sMCEUABBAuAIOwYSdLWBhGqAG+AkWZGIdtz5NAlQ3AdtO3roqAG4sS1qpKermwVdJf/uLC/soJUcjxcyUEt2FR+jFY4D2hP6EHWRRnd4C6HStzSRLLkDbI2eoPD3HtaPfAPfvRVbfOqjr1exDIHos6WUh4ZI0cp2rvyTpuc2CWUm5ufYhSTputEt+4wM8fandjQZ4tw4GzAzYhi/zn71P8hPfwIIQ5BeSXlf6wyrvCwnrbpdm/q/+AWZyhkAY+yroAAAAAElFTkSuQmCC'/>"
      ],
      "text/plain": [
       "<IPython.core.display.HTML object>"
      ]
     },
     "metadata": {},
     "output_type": "display_data"
    },
    {
     "data": {
      "text/html": [
       "<img src='data:image/png;base64,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'/>"
      ],
      "text/plain": [
       "<IPython.core.display.HTML object>"
      ]
     },
     "metadata": {},
     "output_type": "display_data"
    },
    {
     "name": "stdout",
     "output_type": "stream",
     "text": [
      "2 (32, 20, 1)\n"
     ]
    },
    {
     "data": {
      "text/html": [
       "<img src='data:image/png;base64,iVBORw0KGgoAAAANSUhEUgAAABQAAAAgCAAAAAA3CQdqAAABWElEQVR4nJ3Rv2uTURQG4CfXpAFFgz+rKa0iNoodpEMpiCg4uYiSQTv6Dzh20MVZ54KbOrgVdBBqJycFh4KLFkFBQYjRIlWkGNskx+H7kjSr73R47r3vcI8LmKzuKZco7ACVmeIIWg0QHfBrM61hzVC+MJmPswNNmvnU9b+pX8IIKEKh2Fbobi0+PTu20q1vnBr/vv5sXoVbMZQ/pVSlNtS1vrxV3GDphta7TmO1UZu4qrk0nx2W+9deRdwnjeJvH7/ygvRje9/oRTqkNmaOVzJ8uJedSDixK7M7EbFSw+Vtrx9ExBwsDKz8PuIRpCMDnDrJAUj1iT6exjIkV/o4jo8Z7uvZ2DV8BnG4h/ci4nE2Rs+OfYtYnYYzqd948xBP3sBUcj7HOfzMfiB5mdm5KtqgmRbzfV+nt7yS3ZktRPz+kBcdLB59C27vn/60mWOlcPd167nhzP4DhMtubeGwESAAAAAASUVORK5CYII='/>"
      ],
      "text/plain": [
       "<IPython.core.display.HTML object>"
      ]
     },
     "metadata": {},
     "output_type": "display_data"
    },
    {
     "data": {
      "text/html": [
       "<img src='data:image/png;base64,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'/>"
      ],
      "text/plain": [
       "<IPython.core.display.HTML object>"
      ]
     },
     "metadata": {},
     "output_type": "display_data"
    },
    {
     "name": "stdout",
     "output_type": "stream",
     "text": [
      "7 (32, 20, 1)\n"
     ]
    },
    {
     "data": {
      "text/html": [
       "<img src='data:image/png;base64,iVBORw0KGgoAAAANSUhEUgAAABQAAAAgCAAAAAA3CQdqAAABrElEQVR4nGXRy0vVcRAF8M/9+bs+ydel9IrkRSUqCsWNCzcSLmpR5CpoVa3aVH9Hq1bRrpVBC5FAKhARInoobiQJHyUaimnYVSwFH/fb4ucVpNnMmcMw58xM6sX39XxZTX7/1FY2TsdzVYXyEvHMwko+Xf1rrzJ/Ji5Lz1anKkvoqvZfxH92EpBuCE0N87MJWb+7GzfnGi/dyGK5bxbi7ZBpb8ucbzoNzUNvBqZI1W5q7iwtyFakp1/ff8aTl0upkbeDK4VjicUWE593hPD8hHLH0/kQ8eUEOVVoJ3w86bFrKITIZFL0Xk1yTR5hBDSEcC9h7y6GSBl4xINu8GlTZBRcoPMOmNkWmYD2FnReB+siY9CVQ0sP2BXZh8t1DmR6M1AhUg99FJS2tRY7yyFlf5W9tQRH/sKC93MM/4BDkTrY+H0QF6/wU+QKNNaf6yhuvyS2CstySD6Ulox0czqEsF8DBkI0BobHMb511BnVgsNXmEpmromqEjT8+NvkhwSm2Lh9JHrxbJIzgyGu7155B74eXb4nK/Ywmx4tWtR/LcSNIjpbjzm3+nO1Of8AOpSEroHOUEQAAAAASUVORK5CYII='/>"
      ],
      "text/plain": [
       "<IPython.core.display.HTML object>"
      ]
     },
     "metadata": {},
     "output_type": "display_data"
    },
    {
     "data": {
      "text/html": [
       "<img src='data:image/png;base64,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'/>"
      ],
      "text/plain": [
       "<IPython.core.display.HTML object>"
      ]
     },
     "metadata": {},
     "output_type": "display_data"
    },
    {
     "name": "stdout",
     "output_type": "stream",
     "text": [
      "0 (32, 20, 1)\n"
     ]
    },
    {
     "data": {
      "text/html": [
       "<img src='data:image/png;base64,iVBORw0KGgoAAAANSUhEUgAAABQAAAAgCAAAAAA3CQdqAAAB3klEQVR4nEXQ3UvTcRTH8fe+fJXCjD0UjjaduBajqYV2I8iqQU8Qg/DK6KIFpXTRXUEP9Dd00666qausJNjAECqkaCLljCEV8jNZ/ixmLuYGM+f0dPFb27l8cc6Hcw4w8PI2hO6KiIgYU2YkpkFtBnZv9J/MFd8Fwp8TDuk1bXB6Yvnx69V8HriRG+uNlH3AWRGZa+d/7bt8R0M/YK7UcS3co8AFVHfqSNcxBaeAYsMYQOEygRIA9mgLML4CVEQKIwCEXz3xwRnR0MSvtT4AgkdVMsskCj7R3DMPENxeTM6ARsES65kdAOOAK+IFHwq8mE2bAFW7cSkFi2jw4PF7AHgUSgF80dCBHxcAg7taS8BhbS18EIAhe+4ZXEPD2wh8B+BiZxpoQ0ECtj2HAP6kAd6gIJs25oIXGrevo6GQy8za3aOZVA2dKHDk01MZd/zD16sWdqOgo+Xp/NZ+G8Fb3davUJA1PJRMgfbV+rjj3s3jfCzPwHML/6KpVjacre5qH8StTD+a0rSMl6LOicDDaQBeDE3CFZHEuTZbV8Tq22tKHEJLshBurP5AZMwGJ65vJSvvf9cCDbBpKP60NUvNiEEU2PNNlu97gfPDg50jP2QWYFjEiB0BFkQKIuVR+AfgU7EJ3hYeuAAAAABJRU5ErkJggg=='/>"
      ],
      "text/plain": [
       "<IPython.core.display.HTML object>"
      ]
     },
     "metadata": {},
     "output_type": "display_data"
    },
    {
     "data": {
      "text/html": [
       "<img src='data:image/png;base64,iVBORw0KGgoAAAANSUhEUgAAACAAAAAgCAIAAAD8GO2jAAAE+ElEQVR4nFWWQXI1uQ2DP4B6nplkkfvkDKnK/Q8yf8VuCchCz55Ei940i5BIAKT+9e9//vpz//rz+fXr8/naxBb/+PvH77+9fl+v0ShqhVVZszpOBUChogbc5JGUTaMcg+flmVm///FKDh2xnnG2jIZlRozkdzZc9GSfNAXZNhQystsqIHl6ACSpBtZ68XqtfLR7FB2sIMmyxpINJ93JznmSh5ybaUaSyprOpI5l0471fSlg3Vy27ZEKBLBwZXmGoH2yz97nP/v5PLtYtmfGstVOilZRzLS1JFmD1CW9g2dqx570eNBIYwRwmp3z7Ofr6/NzJ+DxmsmMbdLAh6cW8szYY0bGZrWFtA3Uqm7jLCOCVLXtyfl89tdXTk4kmCO1tapWcgbbYMlCINAhizRJOSUX7KcBSG3bpk3OOSfN7SASCDnpfg5iPuRcxjU77bltXlLl6vvYU+LpZQi4bZpzzt5PCpYl25ZVihJl5+whB1mST89JKNJS+30n26166y4bOye5CI1HaotkS8g2pj17P0/Xfq3fbM3eOfskedK9t5Glos5gg1q1RALe5alS2vZGfx8k3kJr9z5nc5J3MZPsc/ZZVaVa3+IU1b1xGQDEG6ZF+PaPixgS7q+Wpo1NBzot6SxuYAUtKZRTppzityPwI5ze1LodEqW58ByUmVDZI/Ranv0GAFIiRZJuSknv5DURRaXQqCpOo9OeNIF2f/aoqyONZzwZIy0JGzl614q3s0mW0ZFlSZUhTVokTlDJLU5QWrVPeznGjFCVLgl0acp9ioWRxPUQUstv5V0raW+naGihUmYtr3qq0Uw97cEni/YS51bqUqeyGNWIOrLftAG1Bn83WrdBI488MNfHzLghsMLpOdlIBuccuqhzXN/XUTEza1bCOeKUntK+XwClLiPsmA17n6+vJiwuyyprSbS1Fp0d5mCRImt9zEdeoIezd88TdMkZjEtaeYDUoK+v8/m53bV0XQULGQlTNWp8Qt8itNdrltZRj3HOvXxDaU9LUUuu+0kn7N3mLChcSvab7ApOyaVlpc6y9XqJQx9IOT2n3ddESIYRFqOLdHJOOFn8da51FloUaClQCdv2SzbSlp/ypA/nNCDEvOTRGhnaSEVpw6JXUtcUaGk7b5gr7RsykpcEK8d7ox00VVAkW2u46ZEYrdE+dP1QtD/e3/IeBPVP1S4jbRt50KCRl6mcMbZdu+9KG42Xl9aPAL6RAgfhq647jTjVhXBpe0KqoMp4tJZHXlpjtQXv0etFozsy+fmW0sBtwamuo7kNqDnndGeffsHG8ZXI8stjZKYC6WPUlxtdmmI7le3L2ua0bk2jVko7Oc05z1ee/ZlsVI9m1sfH/PH7a71e54rzRv/2+tvH/Pr1ua5x9vu8l5nxuFZRm5y0Z3M4x89uzk7Pe5CMZnkG6e55Tbub8dDIrB96/kVXtd2qxYDSNuGQw/OcZ+fktKdihrW0XvJIdnues1u2kuPX+pD0F8D/PuLsc9zBEi6gQ5MmJzmiI3Bn8frwWtaw++z9AOcOETtZjNf/mWjTvjcMX5egqu5sTqJqzasDjab+YC17KOfsfj4byiWSdrWb+dHBO70K7dLH3NL2QJpm9+xK87FeQih1tTpTIOnX3s/5vGtyQvgKNPNTorfcQnVVoKFWoQFZYxdpZmaWlOiwKpM+eS83qnCVnCdPC13/BaGI0RMEI180AAAAAElFTkSuQmCC'/>"
      ],
      "text/plain": [
       "<IPython.core.display.HTML object>"
      ]
     },
     "metadata": {},
     "output_type": "display_data"
    },
    {
     "name": "stdout",
     "output_type": "stream",
     "text": [
      "9 (32, 20, 1)\n"
     ]
    },
    {
     "data": {
      "text/html": [
       "<img src='data:image/png;base64,iVBORw0KGgoAAAANSUhEUgAAABQAAAAgCAAAAAA3CQdqAAABq0lEQVR4nE3R3WvNcRwH8Nf5nuezh3ZmxhhjU7JYmhJXU+ThRrtxuRTlhhvcKH/BSiEXlAsyV/MQMnJ3XClltWIRraxpG5azaTt7/rnYYT6Xr3q/P/X5mB881erfXOs5FpNMdI89LoIrzwtsKS0TS9wZLYGDF7MF5jKV8cV04tscOPxKC7ZNFRf9DivmEW34NC8QVixTyUuYTyyLI4lsFHXBu+kuWgKXETfYA+lcjln2RR1ko07wbPYc+eCEQ5SGnoCH7+dq/Qo268T3Ha1tuPd5bWNSUJRA+80PA3vxNbMxLxiXQ6qD63hbF5sQjGooX2MPxuoyS4JRSfwwLInJbKpa8AZ0n2nqg59N9XGIopX02WgT6z9eyscCX8qVRxwlVxXqosC4dnBfE0MLzUFgShfoNYb4mkigpLlcsB3x6VmBYVtBzn7EkwmB93aBGRnMpUr+204D8tkqgddgp5Mi3Fho/fsjLhy/axZ9+XWreKCXfsRUr+JImluYSNdUhPoyVjHwAsOpTDrsLmM/t2FmKZ5ITFKsaRxxeuppAaKB2g1hmAeu4nyhHClW/AFH24ACmK4pMwAAAABJRU5ErkJggg=='/>"
      ],
      "text/plain": [
       "<IPython.core.display.HTML object>"
      ]
     },
     "metadata": {},
     "output_type": "display_data"
    },
    {
     "data": {
      "text/html": [
       "<img src='data:image/png;base64,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'/>"
      ],
      "text/plain": [
       "<IPython.core.display.HTML object>"
      ]
     },
     "metadata": {},
     "output_type": "display_data"
    },
    {
     "name": "stdout",
     "output_type": "stream",
     "text": [
      "5 (32, 20, 1)\n"
     ]
    },
    {
     "data": {
      "text/html": [
       "<img src='data:image/png;base64,iVBORw0KGgoAAAANSUhEUgAAABQAAAAgCAAAAAA3CQdqAAABiklEQVR4nHXQ32vNcQDG8dc+5+xXbGzZWc6ZOZuZI0qLmTslrcmVuKKYOyUX/CVygytJXCquJClulGErpkmy2ZizMu2s6Pju7OPiey7ceO6ed09PPQ//Vf9I87+2oTRD+62B19cn6mR8qOYodr2JcX4wZaeXYgzT6Bmi50QKc12ERUzMYQsojCBA5Q560TY8dornAfb24S2OvRxdcf9IgJYiOnDOWHLxZC3Awgzasar957N65/dPFSq4aXaxkSyYr1LGsmJ3pp7UlrAbBX4sEJqhkKcLS1SaCNugBxGvpmwfJNTgyzrFTQy22PAkJ5Tg6QfKK8yV+J3nEijHeAHi3GFuZ2eht4EmuPv+a8P5s0pwJsZ4L70uP/oihl+wGTsz4FvnHyGBRuQOptGpj+nJqujdmsKxA/WZazAA+o7vEwI8KrM8Dzb24xC4EePDLtD6IMZQhbDGcA6sT68m2fwkMp+XOyfXQPXq48QV0LGnGYqXu8E1kNmfgcZWkG0CtXcRkgSEdJzqOtgB/gLNinp+CaDwKQAAAABJRU5ErkJggg=='/>"
      ],
      "text/plain": [
       "<IPython.core.display.HTML object>"
      ]
     },
     "metadata": {},
     "output_type": "display_data"
    },
    {
     "data": {
      "text/html": [
       "<img src='data:image/png;base64,iVBORw0KGgoAAAANSUhEUgAAACAAAAAgCAIAAAD8GO2jAAAFcUlEQVR4nFVW0a7rOA4jJTk5nZ3//9AFZk9jW+Q+uL2LBfoQNI4kihRl/vX3i2AQkQwQgG1bAEhG5RhXRBjYe++tvXd3SwJwDgOfwyQBAIzIP2/rPIAAzmsQ8ImekZlVFRGyAUvmp4ZPgiBrjMqKSCRhq9Wy5VPEN8E3OggQaJDIjDHquiqybOydNj/fWrAjoqru133fd9VA0K1e+9mrV++1d+8iTeCgM00SoAnEQRBVWWMwYu90QAQCzACQGdd1/bzun/se42aGWnvtXHOv9f5997vr07gvBttfTAaQmWOMcV9gMFOATRCRQbJGXdd133XdV42bQcs5iivdN8jVu76NN4AT3LYhAz7cBCMiMplsuyyH5YqIzLzGdd1jXFflEEEjM5Glva+1r3sVGafYb+2HQdMyhIMvwIpilJ0qwRXMzMqqquu6xhhkdDeJqHEVN2dd++elCqahk+Nbvm0DPKUjP8EERCoyQ4rgff9c100gsuTo1to7gqNijKocRpg8HHyUaRsnvA3QpAkGGWREkFHKyraCMe77/nlpG8De+5nzWTMzwawr6ho/IMwiAz7CB+V2HyiS+4gRQBBBRmRGZqZERmZVjrYlSb2WnmfVcA0LwagxAi/WUT4ZpBEgiKbNLZVats8cfnEwMkJkAGGTIEAhlrC2TbQIJBgMZo2KCBuHV/DLKgBT+rJBkBGnSyQizCQrY/ij6SW7jZABZlZmgYZc39nld47/yPb7zwl/WMhkBvURLyOBgPqgkU4xEcyItA3qlH/MCgf4efx07vQ+MiLJ+JDxaSjlAJLMiAwWWWRFDCCIBLGl4hfkH/Mi/4fjS89pfxL7jLjNbrc6YzCYeY1x/1w9xsgcESl7d+/eBRk0j1cQx7kBwbAJBAwb5xAYYJysAGWOiBiJQKsDzKr7ujOSpFo9dyVpB2CTBgIIJmnANtWWYNOAbNlqryX1ExyvG5YMQhhZfL2ua7x+7oqwu9dez6xiABZwxqq/jTcEY++WTJIMS7219p5z/v4zk/Wv199zPZZbDfiv1/16va5rdO89pbnW81SY9mkEhJBJGzDhYEQUOYgiEkx4o2nB0vM8//zzT/GKiMyoUfc1rlEZoYYlbfXuKmZDsuwT2TRokkmMiMqoYAXzuBMNNCC8f9/0v3+uv37un8yRwZFRQcDu7rXWmnuuqiz0/tjPMY2PgCKYgc+PKMCBJAIG5LmmNvBiRo6RsEgDUmutOed7Pr9zPhUfeQtwGKc+4IQnEUc9n6QOImEa0b2kObLu69JOK7p7ztnd7/f79/f3eZ69Z1XQwXYYkg2BIM1wAGFQslofDxRw9MCwLLVGQ02LttUNzbWe+fs8772WumtkykjbgiAAcAAGP4jV3at7NYA+qhVsSHK31VYfAVuyvfdc85nzWWvuvasilJJoU+THHkEYlrz3nnPNJ5IG17P22upj5ZLa2t179+rObtrez1rPXPNZ61lrVkSkozJkCxRsWd/JWr1zrXy/ZZOcc+3n2Wuqt7Wp7u691nqeGbZmy8/vfH7/M5/3B0GkEwg50hR4bmoEYAja1F5rJoBI7rX3Xr2X1kwbEYD2ns8DYD+Tlucz5/t3zqe7M1wRDjkCYTMNC9K5tdiQeu/FSVsIaqnXUi9IeW6I1l7zce8ViM8Hc87eG1YQNQIKkCYd4Ujz0BVBQMJa09Zes2G3erfUhDMZQUtbe6+P1wCQJMkyDBn1MaEwbVqUQJFntoPI3gYckbbU3mprE5AowbLRxtfMyJPju2ZcR9uE/yyBs9AsuIUwTcAKAeq2dJbj57Ypf0wWcITP2jJBMMISijBx/Af/l+OwIDEIkTaoM3SAEGcXEf4YOSCfYv7cIQQT/wVL5MJbp58HFAAAAABJRU5ErkJggg=='/>"
      ],
      "text/plain": [
       "<IPython.core.display.HTML object>"
      ]
     },
     "metadata": {},
     "output_type": "display_data"
    },
    {
     "name": "stdout",
     "output_type": "stream",
     "text": [
      "1 (32, 20, 1)\n"
     ]
    },
    {
     "data": {
      "text/html": [
       "<img src='data:image/png;base64,iVBORw0KGgoAAAANSUhEUgAAABQAAAAgCAAAAAA3CQdqAAABiElEQVR4nG2SsWtTURjFf3l55CXaaFpiSyhplJAWpIEMQVCpKDp0SSglOAUEMYgtSDu5ScB/wMGhU4tIQMSlqIsgiEgRJ9GhAR+WlJZWm6IiURd7HO59lZie6d7DOd893+HCwYj9dz8jl9HL7YUucooQTKTeDCZ+tsIDO5sAlJcBCFcfS5J+3wfIyjjuyGIGwJKNgNR14CYAxWfr764dDWdLS1IheG/lRSMDwHFpAXABXsWbLQC+w7glz5f3IsZSgLPWvSjtngLor+1KgAOTwz4DFYCvq3HaRjjoS/p2AeCKdNfabzQl+TWPi01t5IJIzp6kzpYkbQztFxN6FGz0Fkju8zO/9FLS3L/dLY7dPgdMdJMGs3L6gnPynnwAPNxby5/Gpj8+zZ1Mz5Kt14EMbnU7lBo9nC7lDsGXOsAJeDgEz19LkhpmTkVcgpiJ2AmmC+CqJG3NA5wG2+cDeLJjRF7+Q09EZ6Q3djRvqwgqKSba7//0yDzz0UKpiFXGfwA4hejKkeLw57W/KO+h/rYGTE8AAAAASUVORK5CYII='/>"
      ],
      "text/plain": [
       "<IPython.core.display.HTML object>"
      ]
     },
     "metadata": {},
     "output_type": "display_data"
    },
    {
     "data": {
      "text/html": [
       "<img src='data:image/png;base64,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'/>"
      ],
      "text/plain": [
       "<IPython.core.display.HTML object>"
      ]
     },
     "metadata": {},
     "output_type": "display_data"
    },
    {
     "name": "stdout",
     "output_type": "stream",
     "text": [
      "9 (32, 20, 1)\n"
     ]
    },
    {
     "data": {
      "text/html": [
       "<img src='data:image/png;base64,iVBORw0KGgoAAAANSUhEUgAAABQAAAAgCAAAAAA3CQdqAAABf0lEQVR4nHXQP0gUABzF8c8dV1TXH/TA8q6MMoywP9hfsqWEGs4hqYZQcAnHgqCptUZpiGiIpjiHaKiG1hyilohKBWmwhEDrovAkqE7OX8N1fwp645f34L3Hf5XLYfDBne4GOnzz/a/y/S8RMV4FKbReRGsKCw1nRJT3T0VExI2V3B2DckQh/SoiIuJxV3u+A15H3Mvlrk9PLc48GqjFn0Q83AWZPyCJWd8mpuFrEyz5OPFX7SQ+FxezJ5phCifb2pZaxhtsPQajsQV0p+iD7exLfU+n0l3509MwVImabsNL2DMb8awUERF5CBiOWDjF3lsRPTWYKUSMwYGIqxBJdmR4CnN01spHsdHmaA2W3/2Uhk3VgSR5G6tsgdVU6vF5LkCCUv2QT7RAPxvrcB3ejGSOZLmGDbCtEBERlcn5WO6DH0k+zFQzW4teTMLZBBzv3dw+YCTRMVpqvnrn5Yjzh/LZxvMMH9zN2hVLnXM8P8YZODd66QqsoTf66fGPYshvT2CbVqeL0iYAAAAASUVORK5CYII='/>"
      ],
      "text/plain": [
       "<IPython.core.display.HTML object>"
      ]
     },
     "metadata": {},
     "output_type": "display_data"
    },
    {
     "data": {
      "text/html": [
       "<img src='data:image/png;base64,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'/>"
      ],
      "text/plain": [
       "<IPython.core.display.HTML object>"
      ]
     },
     "metadata": {},
     "output_type": "display_data"
    },
    {
     "name": "stdout",
     "output_type": "stream",
     "text": [
      "6 (32, 20, 1)\n"
     ]
    },
    {
     "data": {
      "text/html": [
       "<img src='data:image/png;base64,iVBORw0KGgoAAAANSUhEUgAAABQAAAAgCAAAAAA3CQdqAAABzklEQVR4nDXOvW/McQDH8Zev37nS6921x526NtLqQ5QYpANDE+kkbAZRi9g6WAixWOwS/4BILBYDEZPYyuAhUqIIGqloevqovV7ptfo1lPf4zjuffIDGs/1syZdPPYhLJ0lAqbu4utLTOFmlKUNS3pV5qvVbLjU+zkCb+hxhcjbkQ9eR3ino32dpkcTKWle6Y9fIFGz/Y3uWxHyxpbn05iaY+FyorpNIMl2t1XubJ9Q1RoJyurxn4j3oP9hm9ReJQqEt9QEcPr63RdwgKJb2HT2A0rXLxyrvpNJQvLo4D3fnXz//EuNYkWBjW3YZhppbq+us1kgUu3wEvx4vLffK/SHo6PYIuTuD5269JQcuVGIJAxdRWIizeWSvxwoUSzAaYychUzYH0z8gz27CtrwUZMAq7YS1Fa/hxUwaD8kRtv70FIP7d97ACHOEmNGEPuLm5gwhvUUe0yygiTohqWvBMz5uljsItTFtqFBBiTVCatIhpKijlzXs7J9dhvtfE3yPcS+yhScVaB6GaowNaO258uKSfwzHOJojZOu15Y3/soOGKmFhcnrx8KFNd2aImQ2SaeO1zInfn3S2dJxu5xUSPr880ne+OlpbbOhk4jb+AqjWnsEYMbFOAAAAAElFTkSuQmCC'/>"
      ],
      "text/plain": [
       "<IPython.core.display.HTML object>"
      ]
     },
     "metadata": {},
     "output_type": "display_data"
    },
    {
     "data": {
      "text/html": [
       "<img src='data:image/png;base64,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'/>"
      ],
      "text/plain": [
       "<IPython.core.display.HTML object>"
      ]
     },
     "metadata": {},
     "output_type": "display_data"
    },
    {
     "name": "stdout",
     "output_type": "stream",
     "text": [
      "6 (32, 20, 1)\n"
     ]
    },
    {
     "data": {
      "text/html": [
       "<img src='data:image/png;base64,iVBORw0KGgoAAAANSUhEUgAAABQAAAAgCAAAAAA3CQdqAAAB30lEQVR4nD3QOUjWcRgH8I9//69nZvma2Kl2oJ2iYpadBKFBEFGBW0QNNhQEQcdQbh1TTQ1NDR1TEbVkNHRZWVHWUKChFRVRpGYpr2S/hjd9xg98n+fhm0HFj5FR/2dX6cCFYZHJXwYnTCIrdxHxrOpXHycsq6x0cuKZ+GBV593iipNprK7fkDn1lCgvPzGrsaUojSs3ZlpF9KjjfbKysDqNGQhYf+h8Khym/uGlqRz7HK6ifs/hVG8xW0K4gdbf98hILipq7j3NlP50+l3J7IEoEXp7XmNgiHzqyn8NixZUTUvEcI4VtESfR0XFY7JL4CJr2KSHqPPr0KSZMMoL3phL9Cm/Yt7KWrxt94AqNcg+dnksnAHraAohEC9uWhbJAndpAlFZ4yR6xmt6igYOhBCeZk+UdyKEI+Jrq39dv51izf10klyy96+Go13bwPYQ9rHsRC10hNAGzt5ZK1qYOQiDHG+G9kRCVFc2Ci+xFb6XFIoaqpfAbSyEospM0c8/FfAHBZDs7hJ3juWN//gBalOBZNtOSD7of7IXO0JYitbdDTnYXBnB+xC2is0oHZn745aboHQOM8R1y6f3J4Zu/V+bQoF4uLvzyfOx8Vs5PfNdEX9o//YY5X3gb1tNRp9/fliZ8ngtsykAAAAASUVORK5CYII='/>"
      ],
      "text/plain": [
       "<IPython.core.display.HTML object>"
      ]
     },
     "metadata": {},
     "output_type": "display_data"
    },
    {
     "data": {
      "text/html": [
       "<img src='data:image/png;base64,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'/>"
      ],
      "text/plain": [
       "<IPython.core.display.HTML object>"
      ]
     },
     "metadata": {},
     "output_type": "display_data"
    },
    {
     "name": "stdout",
     "output_type": "stream",
     "text": [
      "8 (32, 20, 1)\n"
     ]
    },
    {
     "data": {
      "text/html": [
       "<img src='data:image/png;base64,iVBORw0KGgoAAAANSUhEUgAAABQAAAAgCAAAAAA3CQdqAAACD0lEQVR4nF2Qu09TYQBHz/362cuFXlpaaGlKAVFoiQhWSfCR4GSUgJuTozHGwZioDBgnY/wHdMHFxRAHEoVEQxiM8ZEYUOMrAjKUSIu8WizScm9p2s+lOPgbz/I7ORr+aGP2QxJcWQBRaqja0oCIiOeh2ipQ78z8MUwTPezk/2kGFkCwpXMjvpHOACB9ScB1JuzxOvbmMvEvWUD27aii1hqT8Qd1RlO42rGQspCL/UFnuv2oev27OVjrb9UsR2FHTk5e6PMYXyfHk9vRUNYs5aS+poFv+OD0tTQAkROh5HIqBXQodXVXZnhsoMLbDtxS6p/hzHwAENDNS2DUvgk8cd2oBcFAS3EEOKdfBoruSBOanO50zE8BUA/UVdb6hFMUdLm8DoATCNPUpmyuvHs7cRfo/XgRUOpOFWEYHP2p+svng0rFICBY6m1kqQyXoBsMwWMbPpdhDSxABWCrWYAQQOLbJTemoFJnCCrfJ4eAe3akni1AKeCsUnNA94+x611I3GwAPRABdsxwtDQvOMkcEAUb8Norm5mg4DyrwAt4CBxfmXo6IWFG3QeIHQP49egAeCSJ9iLAJ4AjetaCvDAWNvs8u41j48bpqNsp8LrbbpfZqf0rb56nqkxpjegNhZ6pat+e5o6O3PdXi4iS5Nn2ofy+roB2OG+u5i0NSkh/wN/QVhOq0xO5NXN23eVL6/6/zju12sSode4AAAAASUVORK5CYII='/>"
      ],
      "text/plain": [
       "<IPython.core.display.HTML object>"
      ]
     },
     "metadata": {},
     "output_type": "display_data"
    },
    {
     "data": {
      "text/html": [
       "<img src='data:image/png;base64,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'/>"
      ],
      "text/plain": [
       "<IPython.core.display.HTML object>"
      ]
     },
     "metadata": {},
     "output_type": "display_data"
    },
    {
     "name": "stdout",
     "output_type": "stream",
     "text": [
      "8 (32, 20, 1)\n"
     ]
    }
   ],
   "source": [
    "grays = img_prepare_all(proc.X)\n",
    "y_inv = invert(10, proc.y)\n",
    "Xb, yb, X_inv = img_select(grays, proc.y, y_inv, 40, None)\n",
    "for (a, b, c) in zip(Xb, yb, X_inv):\n",
    "    img_show(a)\n",
    "    img_show(img_rando(a, i=0.0))\n",
    "    img_show(img_rando(a, i=1.0))\n",
    "    img_show(proc.X[c])\n",
    "    print(b, a.shape)"
   ]
  },
  {
   "cell_type": "code",
   "execution_count": null,
   "metadata": {
    "collapsed": true
   },
   "outputs": [],
   "source": []
  }
 ],
 "metadata": {
  "anaconda-cloud": {},
  "kernelspec": {
   "display_name": "Python [default]",
   "language": "python",
   "name": "python3"
  },
  "language_info": {
   "codemirror_mode": {
    "name": "ipython",
    "version": 3
   },
   "file_extension": ".py",
   "mimetype": "text/x-python",
   "name": "python",
   "nbconvert_exporter": "python",
   "pygments_lexer": "ipython3",
   "version": "3.5.2"
  }
 },
 "nbformat": 4,
 "nbformat_minor": 1
}
