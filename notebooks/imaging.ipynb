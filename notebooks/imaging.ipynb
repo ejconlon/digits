{
 "cells": [
  {
   "cell_type": "code",
   "execution_count": 1,
   "metadata": {
    "collapsed": false
   },
   "outputs": [
    {
     "name": "stdout",
     "output_type": "stream",
     "text": [
      "ready\n"
     ]
    }
   ],
   "source": [
    "import sys\n",
    "for p in ['..']:\n",
    "  if p not in sys.path:\n",
    "    sys.path.insert(0, p)\n",
    "\n",
    "from collections import namedtuple\n",
    "import os\n",
    "import pickle\n",
    "import random\n",
    "import warnings\n",
    "\n",
    "import matplotlib.pyplot as plt\n",
    "import numpy as np\n",
    "import pandas as pd\n",
    "from IPython.core.display import HTML, display\n",
    "import skimage.color\n",
    "import skimage.transform\n",
    "\n",
    "from digits.data import Env, Loader, invert\n",
    "from digits.explore import img_tag, img_show\n",
    "from digits.images import *\n",
    "\n",
    "%matplotlib inline\n",
    "\n",
    "env = Env('..')\n",
    "env.assert_ready()\n",
    "loader = Loader.from_env(env)\n",
    "loader.assert_ready()\n",
    "print(\"ready\")"
   ]
  },
  {
   "cell_type": "code",
   "execution_count": 2,
   "metadata": {
    "collapsed": false
   },
   "outputs": [
    {
     "name": "stdout",
     "output_type": "stream",
     "text": [
      "loading crop-test-small noop 42\n",
      "unpickling data\n"
     ]
    }
   ],
   "source": [
    "#os.system('rm ../pickled/crop-test-small.42.noop.proc.pickle')\n",
    "proc = loader.load_data('crop-test-small', 'noop', 42)"
   ]
  },
  {
   "cell_type": "code",
   "execution_count": 3,
   "metadata": {
    "collapsed": false
   },
   "outputs": [
    {
     "data": {
      "text/plain": [
       "(400, 32, 32, 3)"
      ]
     },
     "execution_count": 3,
     "metadata": {},
     "output_type": "execute_result"
    }
   ],
   "source": [
    "proc.X.shape"
   ]
  },
  {
   "cell_type": "code",
   "execution_count": 4,
   "metadata": {
    "collapsed": false
   },
   "outputs": [
    {
     "data": {
      "text/html": [
       "<img src='data:image/png;base64,iVBORw0KGgoAAAANSUhEUgAAACAAAAAgCAIAAAD8GO2jAAAFiUlEQVR4nFVWwZIruQ0DQKntmezLH+4hp/x/VfaNWyKJHOSZTbrc1QeXBIkAAfJf//7TBtx0d5UbMNzea7sNAIBtgwZsAwBR3tm3hmKMMYYkhgB0tcu2TQK0PSJEAC13ETZgo9GV5Tb43rQN/w1mqGMEpQhFKMZQBACHXW53l7sBeohBmIJN0KYNNLz3rizw3OH/ANodk89rasQYGiPmnIpx/kbD9n3vdAIcgAADDQJUu93u8n3fmUnyfWrTAIjuaveF8fCw2w4yqAiJJAzQLu7ergYwaEcEGZ1ZVZm57nXf99q79m67u7uboEET3ZW1r5yaYGhes6q6u+ccChcqu7ruve57ZdZ4lwB8/w4JNgADbrt9eDif7i577/z66xVTrmZDIBqthtnZVXW/1tfXV2YOfGuDIEGKkkISSVEWAZskDZTbTQHd/Xq9ItXVaBCCaRlml6tqvdbr6/4bgABAggG23s+IAdl9VMezmoCrd63X19Jgl+kIjsHBoW+Azl25MjMH/F0cWpIUYo8Yz+tRVfgf7dvOqsUFITsz73AUu0af7hFECiyTIkUGOX7KDwPkG0Pj+Xx295sf0kC7994klaqqtW4xCAkSI3TNuAgIpDGgAUH6IfmUCJIiBIf4eFeNhwBnVUQAkLT3HppkCEFIjKkxNUjShCCIJs3hoxBSJCWySSoiIkgeAEkHQFJVujsUZBAieY5MiwyCcrONbnSj/PcNTNDnNNKp27tilGTCpHJLImWzqkUme1d3O12ZSSD33iv3zszMymESx5gOGwBA89gSgFPgAGD2fjMnAN1udu1U5L1qrhQHgb33uu/MqnKlh8EGYRAmoBAItVANgKKN06trrXXv0+d7725QjAhKJtsom3CjQcac87ooDQMNAJZNidKMAcOZsNvOzKrce6+1vr5ef/3+/fv379drHad+PB6fn5+PxzUiKImY1zVicETMWXu/OTDQBG2YBkk0Wd2dWZl7773utdZaa6+11yLx8fmp0OPxuJ6Px8fz+Xxcc5Lsns6CCKAixvHLwynemeK39t1Zudf9et17r73Wfd/3urOKGmMMxDtwIuI0/9mth6cvkn3lt4r84/xvU3O7qtba92vdr3vvc42NMhFjXh/Pp8XHdV1zjpNrodM0ADQ5gt1j8G0G5BHS2zk6s9autfZ9r71y78psN4NjDj8/Pn79+sXQjHHN63pc1zXHoIHOYwkF08a7RHyniul3luauvHN9rftrdVe3AcYYAV3i5z/++OOfv47hjog555xDAbt5rL1x2vCbZOMAwiRod2YeUvfOs0RnQYxxzY/nx2PMBkTGT5oZNoEGLDEUJMd3KP4Q8I7Io8u9du4mGSQJQaGYY44YBAm/NYKfRHHT5He6HIBjtu/XBujGztqr1u6slkSd7D7ZQds707CkiCAbwBiDJCnS3W13IIb7yNR9wvLbuV2d1dXVXRRNNtxuuRtYudZ/bgMkxxjXdc0xxwwSsKvKQJCmh3FAAbK6elee4mS3XfaqxM4IXjPmvKrr9Xq9djeSohRzXnvv6xqx4zTCmQLOZUeDIuPtkShUu6uq3IZBtJ17RYu8pHbnrmxUIxmMMc527TFqiDp13HvtvW0Pg4AMvb1UhIISAwpGcAxVE2TDWclj3SizUTJaKlYyASI4ABK99r7Xje4B0US9+1cGIcacMee4alZlldEnkpot0O1GN1tClTMpKS11g00Q7MaZp2qAPIMqjohFBmVe16SbNIV9BQx9uwDc5Sq3aZIa0pAiNEISzxZ7MULk+M78M22ZkhCEnx+PMTRmXI+ZuWD+ABDOylVpNMmIGHPOxxxz/vhRHlV2vxutz3REAmSIGkOMA5CX6/k9AIAM0ln52vv0J8UxZ1xzzDEUAklmleGu/i/EyrRCBj94qgAAAABJRU5ErkJggg=='/>"
      ],
      "text/plain": [
       "<IPython.core.display.HTML object>"
      ]
     },
     "metadata": {},
     "output_type": "display_data"
    }
   ],
   "source": [
    "img_show(proc.X[0])"
   ]
  },
  {
   "cell_type": "code",
   "execution_count": 5,
   "metadata": {
    "collapsed": false
   },
   "outputs": [],
   "source": [
    "g = skimage.color.rgb2gray(proc.X[2])"
   ]
  },
  {
   "cell_type": "code",
   "execution_count": 6,
   "metadata": {
    "collapsed": false,
    "scrolled": true
   },
   "outputs": [
    {
     "data": {
      "text/html": [
       "<img src='data:image/png;base64,iVBORw0KGgoAAAANSUhEUgAAACAAAAAgCAAAAABWESUoAAACOUlEQVR4nC2TS5IjQQxCQVJWVbv75nPbHtuVH6WYhYcVC+ItCOCf1fsMz/5+vVMAza/H9+MrJNCAoJmZcmVuAYB2WZvHNgAAEbRolXOMkSUYdmbS3GGk0RgSzdeevSfMAlm7k34wgoAhCjRnrTnlFqcn53rZcbkJMDIEmplyLos4H23byjnGPEoEwBAZMqoE83Ydpf7KlbsAmBHx4RA092itaTUrqQQzJxkAaXFetew8mvs2N5UE0j2IKIJqj31MNA/uTMENAD0iwNgE1H7s7BvQ0urJcCfN3B2MbRTOK44YM2vWHANHc6OZuwEBgPSmmmPNmbnWVjQjaUZQ8bEWzsrRx8oC3I0fgdFg9HBZZc7RV4kOWhhqO4AIgEZQgrmZUVIVBEkCGQRI1dqIi3GsnXOrMrMEmikMBHaOnnbGeeXurzvXWplVACwclHK97o52sHa+ucbKOXNXSQiSVet+vnuLOBzZ8qnKnbml/wHs/vp9zqud7bLCO1CqKkmAQtBe/fn7d+b1YGvZ3AAJAEggJOwc9/s98LOqau8tIwmCBBEF7b3mmrPNOUeu970AQcKnh/rw3FG5BjB+X2luJAFIDED0dj0ymf1513y+K9xobiipgiDivHJ15HDkvAeat4gId/5fIzNr3ol111pjtcvbeUY0dzLKjGzHo2pUrtx74/hux/fjcRBliOUwMY4v3XcfWWA7v87z++t0QlIMc6IAejRxF2CHG1XbKDNEsojPkz2wC6AJqFIVAPwDRcmksjQ5JNwAAAAASUVORK5CYII='/>"
      ],
      "text/plain": [
       "<IPython.core.display.HTML object>"
      ]
     },
     "metadata": {},
     "output_type": "display_data"
    }
   ],
   "source": [
    "img_show(g)"
   ]
  },
  {
   "cell_type": "code",
   "execution_count": 7,
   "metadata": {
    "collapsed": false
   },
   "outputs": [
    {
     "data": {
      "text/html": [
       "<img src='data:image/png;base64,iVBORw0KGgoAAAANSUhEUgAAACAAAAAgCAAAAABWESUoAAACMElEQVR4nDWTUZIjSQxCQVJWldtH39PudLtdmUqJ/fAsByB4BPCf/b5X+L5fr98SQPPr+fW8XIAZEKCZqXZVAyCUG+7h4kdBi+id6167RbJqF+gudwKGICyqat0zYTZYWrMZYTTAyGjAnMo123ycoyznO85ruACAIdHc0LnlcXwdbbnWXNkCjUQIdDnVAm0cl3R/fyKTZmSINA6nGT0iAmM4ulugexABGS2OKx3HOZwNM4MkmkeQIQjwR/mUR2BXloUBgLk7EUWZ7GFjpqRU3ksRTpq5GxANk+I8j/d9r6qdc/UYRoAkiGiKtKD26pxrZVabG0kSAMJA0szCVeu+VxboNCO63IAIkOZuTnVX7RJECX9RGQGQRgDwcTSiq1W1d0mgMQwA0djN8Ygzd807d661d+uTAaCq7tl2HY/q/MXOteba1RLCAUC5Xr+Tx+lQjv3OnTt3qY1BkN35/vlZR/g1mHj/q+6qVgMKgkTN15/v9RhXXJ5zOCRJAoAAhMr79f1n1eMJMxKfjgSADIndteZ937xXZs2ZRf1vwWg0qmp37ZxzEvfPu/lhU0vRED5jSu35mj3/vDvCjWaAEALAOB65N/J21vy9MTw8PMKMQQCu87H3yl6mXHfGGcd5DncCQYDgVV05sX9r79R4Hufz+RiEFBJpjHE13itnlhDjuq6vK0wNxRbcIYvjAahhoJ1uUHdBZnELbpBAWjR3AzQJ3d0mKRJo49/azAwCIXx+R/I/H6mugpNaEmYAAAAASUVORK5CYII='/>"
      ],
      "text/plain": [
       "<IPython.core.display.HTML object>"
      ]
     },
     "metadata": {},
     "output_type": "display_data"
    },
    {
     "data": {
      "text/html": [
       "<img src='data:image/png;base64,iVBORw0KGgoAAAANSUhEUgAAACAAAAAgCAAAAABWESUoAAACMElEQVR4nC1SS5IsNw4DSEpZ1fbNfdqJ5+pMiSLhRQ1WWCACgQ//6X0vOfb9+V0tkD7fP3/9TEo0IACS+gIAJDEyjxsAkEGzOOqz9mmJUFeK7gwaQQvCPHrv9eyCmSmzBHOHEyCjAXND7bVFi4Hos+RzGB0kQwDN2ZlpY1yXpc691rpGCCBDoEVRddos5juy1537tAAaEQKN/fWzGHPYHqyuEszMGAAMMcaYFTNGeEdQLYHm4QwBgI13etmYju6GEQLMIxzRIKj5t10pMxzt3RZuIM3dGA0CmHPMJ6szz36SI8xoZmaIglEcblTvzMqdyREEYEbwy2ih4zrP2pkluhlJAEQ4aHR3uers9ewWLcyc6hYQQcDcaJRAANZQNSS1QEZAIKFq+CX67Mrqk3lK+q5JkK3c7ZfPPL1+7zp75+kGEAYQqLrv3THe3XUz1x57n9OSwgGqz/p8Hr7GNNTVv5+qk6fUUhAgtO9//zxhM14ufybV3S3p+0no7N8//3tmvG3M3uGEBAkkQhDrrPvzua/XLqm7Zd/EAhgCuirXXktr7a1zP/l9tyQhGlBLLagyl9v+8zkkCQL/FwD08VqJWr+J/fkctzAzI74pYD5eOzNr/Ubt++nwiIhws++ajtep2sB5ePbaNsd4veYIJwIAyXmdqqh+6tSRv1/Xz8/PMEhRojktrlY8a+cRfV4/1/s9HE1ENs3RMB/VDQuAVxDqLkIWSzD/dkIbsBZoANQtqfEf4jqwp4cet1wAAAAASUVORK5CYII='/>"
      ],
      "text/plain": [
       "<IPython.core.display.HTML object>"
      ]
     },
     "metadata": {},
     "output_type": "display_data"
    },
    {
     "data": {
      "text/html": [
       "<img src='data:image/png;base64,iVBORw0KGgoAAAANSUhEUgAAACAAAAAgCAAAAABWESUoAAACLklEQVR4nC2SwZIjSQxCQVJW2e797/3ejRm7KjMlsQf3mRcQBPDf+17mPa/3Z0kg/Xj8vF6HSTACQTNDVWY1AEgNXyMdAEAgLEbnXnPulghVbtHdRBpJBmievefcTXM29hItXOEADCGYsXPNovkYmlUTfg43A+3XwVB7K3w8T4zOa835qAABMkCXs6tBG+fDPK/PzioB3xYwMIw0WIxxmI5Ad7dg/htB+DhOYowRTjenugXSwoFoUPH4h1M+hkklkARoHmFkNCh/cdwJWu+au83NSLr7FwDGEWPMXVWd6y63MKOZuwEhEXY4utbeWXvvNAsjzYyggiTdGIZac+5dLbqRJAmC4aS7y1m1572yQTdzo9QOIAI0IyAJkEBJDQJqCUSYaFC1bDzAqMpSV1ZLoBFBA5S5EoNx7sz73pWZWRJIhAOontcsO8+uWm/t3GvtrJaIMKprfd6XxjkMPW19dtXe1ZKEMED7/vvn4s8RZ2j221XVXS1BCEC1Pn/+u90eGCd4hP12AgBEo3Je7/cn4qe/O4G/IsEvkHPed8y1c2POLQKAAJCIRqtKUuVed9X1votGgJIEhgBYjHOp1k3L6++Ef/eGJARlfpzPvZfWVcr7vTjC3cONAILUOJ6ZU8iZlfOuiDjGiPgeBjQeZ9a21o3KnRjPcb5eRzgBRJuZj7M6Zu6sksbj53i8nmcQkmJ5o+njbKAAI45jHMcIQ5eEmG6AQPMoWQsYTkjdRbThfzrAouy8mplaAAAAAElFTkSuQmCC'/>"
      ],
      "text/plain": [
       "<IPython.core.display.HTML object>"
      ]
     },
     "metadata": {},
     "output_type": "display_data"
    },
    {
     "data": {
      "text/html": [
       "<img src='data:image/png;base64,iVBORw0KGgoAAAANSUhEUgAAACAAAAAgCAAAAABWESUoAAACL0lEQVR4nD2T27YjOQhDJcCuSk7/eH/u9OTisg2ah6RHz4K1kDb8vd5XOtb7+bpKAGTH/efnFiTdyIAAEqQRAEiL8zyO5gIkMUgjSplZ+MjM3YwQISjMPbTXvFYKhKTVsiR97VGgIecY82PI3IzWPQCCQAhmrHWNDWMwr7nh0RxmIIkAaNS+ptz98LJ9De9HYxA0ImCQIXci/Lj1sjXXNVcWSJIMMOgowTzaeUjjsdfOlACSDBnNozWwtd6benBXCSTNSISKivMHE6318KShAAHmbiQiAbUfxFVmrr1XwUnSzMMphErWm/l7JWppjYkIN1pEOKEAaGFS1d5SrjnRW7i5hzuBIBnOMNaca+fKRG9ubu5uACJo4TTmWuOaOwVGuJmZERTDYUaisnLPawvfYfJTRhCkKgsWEYmUJJoRVQ4A4YD2vhbazdq11tySvm0TQLiUNcYoP/s51/V6rdw7S6AZgLBSXs/XYO+uXG+ua++1svTlgcjr+ecxmx9HcPf9VOZnhz5E1RqPf/5dZ7/FzQtPF1RVAiQAUXuN1+Mx6ycZLcPwvwgBkbmvMcaMlVW59/5LCkkACFVVQpV7zeHz8Vz4fAn5OVM070dP5hqJ+ee5zOwzThIV5tGPc2zm9bC6nu+K+EYtQAhjP9cai3lJe47JFvFlQYLC4O24z9qcO3Nd1Vv03nsLIwhFGqydvzjWzKzKOG/R7/fews0AxpsQrB1Vu7Lg/Xbv5/08g5+g/gOzyYtl1tC7rgAAAABJRU5ErkJggg=='/>"
      ],
      "text/plain": [
       "<IPython.core.display.HTML object>"
      ]
     },
     "metadata": {},
     "output_type": "display_data"
    },
    {
     "data": {
      "text/html": [
       "<img src='data:image/png;base64,iVBORw0KGgoAAAANSUhEUgAAACAAAAAgCAAAAABWESUoAAACL0lEQVR4nC1SS7LcRgwDQbakea6cPLe1PTPqbpLIQsGaBRAf+ze/93bW/Lw/KQFm4/Xz83MRAGkBcy9l7l2SDKpKGZ1hRjMGFaMz5712w8hW74Y5FQ6YhWD07D3nFhmOVXmLYzj5HAh0qvZKepyHHaj7HtcZLgB4GIjObHKcL+5e9167BBgfCUc4JJjHOML3sKqqlpFkyAimk67wGBEag90tGekDAZlZHNei4hj+v3tIMEa4hSCA5z+8i+FWtbJJGmB0d4syUXZ5XKuF6lp32nCaGelENCj5eY77O1dW51wLI2gwM4NFm8wYRO+Zc+29suVuMMAAhNlDFm6d8547GxYkDSonImCku4tdlbmXZJAAqCVYBAzko+cRA+pWV1XWY9UBGNTZNi4bZ3bO1bnXzmoB8fzStVbxiCur50f33mvtLOkpXcj8fGbHQalv33dl7p3VzSBgqpzv920/4wzq258/u6qquoEwGKT9/ft7Bg+/hngPQt397AEAlPP95/d9+Es+tJ4qHjxlVa77+/nuc2aVqhrQAyAEoWuvvZfmXFP1+S6ZAZIgRT+RCWa91/Q7P38X/IlOrehH6bhWds93Ir/vhQinu5shDBDjuHbu2euu3vedHDEiwoMMA0xxvqqWrOauvWaf1zh/vY6gIQAYqbO6vDQ7q5rnr+P69TrD0NEymnEcLZ9zrWxjjPM4xiC6OrbgtIb7OLplow0+zKAuGhhToEMNM3qAJYAQ1C1J+g93N8ZxgEnTjAAAAABJRU5ErkJggg=='/>"
      ],
      "text/plain": [
       "<IPython.core.display.HTML object>"
      ]
     },
     "metadata": {},
     "output_type": "display_data"
    },
    {
     "data": {
      "text/html": [
       "<img src='data:image/png;base64,iVBORw0KGgoAAAANSUhEUgAAACAAAAAgCAAAAABWESUoAAACLklEQVR4nDWTS44DRwxDSUnVbXsOnvtO/KmuksQsPFkKeiAIkOQ/87PC83q93imAFufP4+fuEowADCAhtQQAgLq7u78HyTB3195rVwOEasNjDBIECQQ9eu05ry2YoXo1zAPmBAwI0Qy15iyYD6auSzYOGwaQRADmplxb4ePuZXt+4ryFC/wC9DZUpjHO+2iua6+VLfwPmMEpgebjONVvy6xqgGYAAmSER8jHGCMUYZIaMDcnECIYt4c2jzGMDSMEiOYRBKJBxY/Gkplp5yq4ETT3cBJRgGL48cnqurTm5ggz0twdRKjBGGaYWdm514VjOGnmRgoBwjxQoZpr753dEUaSJECEG83NXb3XnLsaZmZmgGQAIkA3E1XqqlSzDTSiWyAQBhrUDRtHi6rSN3H9ZWEglXu3nzzOXXtelbl3SaQB4QCq52cpoh9ZH6u599pZLQAIozrX8z15jIDqpfmu3DurJQFBSvvzfM5h5zmsfP2iq6pafwCU8/X7e93G3c5RdTik7xMAotl5vZ/PmbcfmIkA+W0sCCIalXtec+LaO5HXKv71myARje6qVtVe6+3r+d4kCAACifiO5TgWcn0S699XuTlpxJ9J0Y/bIxfqelmv96fDwz3cCABBcpz32jO1DLmuxSPGcUSE27e04Lkr94X8VGb2+Yjj8bgN/yoU3Gyc3Z+1Z5Zkx/08f+638TURyx2ix01Qm0AeY4wIqksGxHJSAGg+4A0wyO/GIQH/AbInmMlUZokLAAAAAElFTkSuQmCC'/>"
      ],
      "text/plain": [
       "<IPython.core.display.HTML object>"
      ]
     },
     "metadata": {},
     "output_type": "display_data"
    },
    {
     "data": {
      "text/html": [
       "<img src='data:image/png;base64,iVBORw0KGgoAAAANSUhEUgAAACAAAAAgCAAAAABWESUoAAACNElEQVR4nC3SS3LkSAwDUIBkpiQ7+uRz2o6yS8oPiVlUc4ENEVg9/pfjGXSN+/c9SyC9XV/fX90kGBmkmSlz7ywBEEqCBAAEFDSPXHuOsUoiVClvbQcAkYgSaMj5PCthhtpzwby5aEYyJJix1hhJt7B65r4tusMJ0EKgObXnUnicUbbfw/rZ3QCSIdLLkJk071cvW2POtbL0KQBGPhBoHr0f0OGZuwqkkQiAtGi901prrSmCJUigmZFRBBXXH5to0ZwFAgJIMw9DpAFq34hRNNPaM0EjYB4RZBQgHt3jXrtyaD1TEe5m5uFkAKCFqTJrpXLNgdbj83cijGSYh7PWmGvvrGrNPkcqgmS4OWuvZ4ydAsPdSDMCjADMjFBV1d5LotE8nCoZEARIKQved4mVQomAJIEIA6FdYylOa33tObNy75RAI8IBac373uztXHu+f+7ce2dJJBEGZM77967Wg9rD95h7rZUliQiytO7X68F3b9304H6p6jMhIYTa4/36+7id7B0+GlUllQQIUcw93j8/d/QlC7gRJP6ZBaKQe43xPG2szNRaGyRpJEkiJKmqVJl7jqr375MACH4iBNCiH5O1hln+vobcjCQhgEFY9OOao2reW/v+mYxwcyMgIUjiuPa8l/Yzc427wlpEhBsJBGhs/fyeD/NW7rmsRxxHb+1DYYeBcWS2uVdmldrX0a7r6wgjgBhpKFqcUu1MMI7rPK7rbAYJilWkPu4KXgKP8A+QhIj/AY3Pp/yYgbB0AAAAAElFTkSuQmCC'/>"
      ],
      "text/plain": [
       "<IPython.core.display.HTML object>"
      ]
     },
     "metadata": {},
     "output_type": "display_data"
    },
    {
     "data": {
      "text/html": [
       "<img src='data:image/png;base64,iVBORw0KGgoAAAANSUhEUgAAACAAAAAgCAAAAABWESUoAAACMklEQVR4nC2SQXYDNwxDAZKasZPcvLdtY89IIokuHKzxsPj4/EfrnsVe1+vaTagTj+/vn2e4ubkF4aNV6753i+bK3C24gwTJIMzdM9dcRYuDiVxtx+HuABgN0J3KvRFxPiOtfucx9yGAhhBAD0PtNPp4HM31vtfOFsxoIcCgMAA0j3EoT6/qEmgeDIFmttw9PMZw7whnt0TzCAYAGMbjS5vHEewqWFASzN0sBFkrnhq73Vi9Z9oIA0gzYzQAyr7HOXd1z1731AgjQJKMFkTFeYy47r1yr5llTvwl1BRpHsrZ655zZcPNSHW1MT5DZjYcneueu0EKkLoFhgM0c7c2CSDogiorqyVaBAgYQcDihI9U7sq99s6SEEYAhCob8RyPrJ6vd+41j7NKCgMBInXfG+Ngqy/uufdaO7sVDhBQrffrwjkOZ5/1UmVWVUthACHt+/Xf5TziMWTX4eruloAwgUDv6/ffK+yBODQ8vABJEAKA2Lmu1+874vmt7mqR+mwgGoC69prztsc9767rThJ/rD6F6q6Waq3b5/59bboRpKTozyfm41yZ97uwr/c2hru5O0MAAB+Pr6q31rtq33fZEccID7MAATCOZyoTNSv3XH0+j8fP18P5sRU0dqmU3HNXtR1f5/Pna5g6rAUaGUfL5lwrmx5jDEeXQYEumUyMcRYEjgbNAXV3E7EyRTMJgHnIsj/wJQlkzCrRDH+OEoDEFkAaaVEtCCBEEqqdKZGPlkia/w9P4MKSPvorNwAAAABJRU5ErkJggg=='/>"
      ],
      "text/plain": [
       "<IPython.core.display.HTML object>"
      ]
     },
     "metadata": {},
     "output_type": "display_data"
    },
    {
     "data": {
      "text/html": [
       "<img src='data:image/png;base64,iVBORw0KGgoAAAANSUhEUgAAACAAAAAgCAAAAABWESUoAAACNElEQVR4nC2SQXLcSBADAVQ1ybH8833teiUN2d1V2IN8wyEDh4zkP9j3PQPr/v6624Sb58fHx2uQDDFBRVbX88yySbh2GRIiCCgFRdbc83kWpMHtebdyiALEbJgKes9ZiryyY9/vOK5RAQBpmAqh1kLE8Tpb+5nP3AVAZBpgOOk2GOM8gTu7arcpSQmTwR2ioBw5sI9EVRuMGEzAIvM4L+E4MmhIgttUZDBtmIjrN6cjh6tWMUUCighmGzB06bi34b32PTEiCFIis0zLus7jeJ5ZtdfzVKRAkCTTTRkcZG+vZ861qhQiCABIEACl6GSt535WGUFK6GoxBVKMiGR37b22Abfd3TaZAwApkoTGaKerXHvv3Q0oRcCiu8zx0rl2z3vuNefa3UAKgIDaz1M6Rlfvm3vO+Zx7dzsDAI29v75ujAy6vvq+a6+1qu0UALr3/fX5johrqOP511VV3TZSBoGe3//9uUeeOkfvIwHb/vEAmL3n9+ef93m8TBlkAIBtMG3AXfN+v9/1+r029nyKaLdtOwsAqmpXLcznjpif703q58LZAGCAkYn1vBvz87tSkiTAaQCAxvVr16rna/b8flfEyIhMKQkAyuNatYB5z5r39HGM8zoyhL8Ar+resG/vtWu8Xuevj9cQnGqDEo6rEXOvvRrK89f5uobcSFdDJJRnO253AjqCcHdpK+cuMOgmFTGgNpgE3O2m86m26icvShL6x6EBkMzun/2ToLuqDTcMSor4H2bKtJzVQCEpAAAAAElFTkSuQmCC'/>"
      ],
      "text/plain": [
       "<IPython.core.display.HTML object>"
      ]
     },
     "metadata": {},
     "output_type": "display_data"
    },
    {
     "data": {
      "text/html": [
       "<img src='data:image/png;base64,iVBORw0KGgoAAAANSUhEUgAAACAAAAAgCAAAAABWESUoAAACNElEQVR4nDWRUY4bSwwDSUndY29y83fZh4XtmWm1xHxkU99FEAT5n/K8dzCv9/sqAaQ/vn59PRygG4OgkY2qlgCQNsacI0yipCAsoivzXlsABDUAEgAoREsw1rquVRKhyo65q00AgJBAY+d1bdGctbLMx3QnCTIE0tC5Vrv7tMLKj8/D4SSNITJk2LkRMZ9RvPMaj5xuAI0B0ODqhnnM56g+z8y9q0GSDMFoFjFgYxxz1Ax0dYs/QpPsePzmYswZLhIiAJi5EdEEMH8pbpk7erdkJGjmbkC0ST7DfGRDqXVvuJuZR4QBQYA+oOranaq8k3OEm0cEiXCS4XBDrbWrdm33Ee7u7gQiQAuXaed931kt2Qgzd3ejEAaaEeqqva7VgIW7u5kRIMIAUrsKHu60hkQfbhIIIBxiV17bpjzmzmwJIiCBUBhbuc/z1vB5rDzfd1dV/T0RDANrXa8z43Gw9h2VWfvHIBBA5/n6/uh5xLS+cL26Kve/olDv+/P9/4f8snlgrEmou7sBiIrqvT6v18ePlA9uxw8EBCi6dt7XdcXardbe1fwBgBCSWqDUlbf0fl9N0szMjISCtBiP66b2el/7/X31v/zfFfQYx+NxtvJc2J9XmoW7mxEkEAbMZ15zI09WXqeGR8RwSAIUMvN4/M5b+9OdK8f0MecY4QSkWA74fNbnzrW7m8eXz+fzmMONBGIRLTFG1e4Wx/PXOJ7PxzCKAKIIQYJF0yWMY8zjcQyjJEF/AEk7loW/Ivy/AAAAAElFTkSuQmCC'/>"
      ],
      "text/plain": [
       "<IPython.core.display.HTML object>"
      ]
     },
     "metadata": {},
     "output_type": "display_data"
    }
   ],
   "source": [
    "img_show(img_map(lambda x: img_rando(x), np.tile(g, (10, 1, 1))))"
   ]
  },
  {
   "cell_type": "code",
   "execution_count": 8,
   "metadata": {
    "collapsed": false
   },
   "outputs": [
    {
     "data": {
      "text/html": [
       "<img src='data:image/png;base64,iVBORw0KGgoAAAANSUhEUgAAABQAAAAgCAAAAAA3CQdqAAAB+klEQVR4nCXQzW+MewDF8U9/faYtpTrToQ+l9IYZtEURjdfGXQjh3s31ssPKio3wR0gkYi0RNhZiYSEWNhYkhBJvjVAvrUsobZ9pGTraTi1m+03OyfecKuCv7leFrzVNLZnS41Wd5yPphM2by9N9P3yvKc/NZ8ZFytnyrN2dxad9TL7c0ZPMTwRjwx0739Zvug3lRae7lzULNVpaurYXL4KqdttuHRctn1y2YM6S3kvgv8MaLxDVlGemBib7hyA+tNjTaaKJd6WxX+t7QfMWLkIjDVVrKrY7JmYKEE3RMCuqwNW1vkLUWLWwNd889Ak2ksGZUJ9as2t3+1GwgSYcCaOjP+N5qbYepGOe4Ur4ZnCw1LapHclr7uFkoO/Gg47OPLwYG173DwKGnidqITsv230UId24tCkUVEMdOhYSlXLVdZk2dfARcUJomB4fGvnpN9z/zuUJwvL/+9/cuVvp7B/gGnEo/uBjrzb4VuQee0JhijgvB5klTNIT3lPd9XclXkqBXCDTuTUtwOAIWBS0rly3qrLZ2CB4G+2LM/OT8sMT4AOtH+wPqdp03ciLs4/AE7IkUf1w9eyJR9cq1w8QIyp+Ljd9vlFhshy6SUiSQuHLmwrrOkj7KaIoSq1oHe1n7558Zi3xsQP/RuPFbK55xfWZcznwaXaLq38AYGalBPInZyEAAAAASUVORK5CYII='/>"
      ],
      "text/plain": [
       "<IPython.core.display.HTML object>"
      ]
     },
     "metadata": {},
     "output_type": "display_data"
    },
    {
     "data": {
      "text/html": [
       "<img src='data:image/png;base64,iVBORw0KGgoAAAANSUhEUgAAABQAAAAgCAAAAAA3CQdqAAACEklEQVR4nCXRS08TYRjF8f+887Yz0zJtoaRDbQMUMJrUgCR4wYWILozGhS7YuDBu/CgmLvwIxoXGBHcmJhp3kriQaFCDYAAlGAolxTL0Ri9zczHP8rc65zwK4V1XyofteDYTrTCxIUNbyNV7e81mT8kNR8y6hKSrXp3vX16tgZ24drrDMwG1wdlUu+AfA3D5zljVk6BZZwrplUUAzmYt/zGyEJjDAxl3qQKQvjul/AWZcHXR2O2sATA/mygvgXSaVbeUiP4EID8abL8B+c92jgxdC5OZcWcDEG0HoWtBiDnpHgMyLt38yEjzFQBjRIcA2ReNTE8P2/W3QHEM1QTESaul59PpGQ1IJzjZBMR+9WDvSI5fmAa+7/idQ0AAnz+WilOTQH2r6d2aC7G2td4zkgDJRObSQxCq1HPRZk01AFSITBlIQw7phml1+wB2A0UYbYSuRTp2zVUBWG7gvwaZD8q2F/k2YwL82plU34OICNvxV76qEwDlVsAqyLrnwMCgKAL0WXAC8o8PFGeDOEDDDxRAuD6xiYuWIgF2yj5ho+T4ZFGwBcBmD0CeV3JWzne3nwCw3o3d/IAs+FY2Vfu9GH7zS6s/A1Kj3Qi6P56H02+3yINwvIP9w9KLSogW3IghbVkNlMqn0E49SDP69KV08LxU6mANzPtXRs/1B6nbc7Lr92Ij+cK70qN7Q5qqchRko/8BjbvCjN1Z57UAAAAASUVORK5CYII='/>"
      ],
      "text/plain": [
       "<IPython.core.display.HTML object>"
      ]
     },
     "metadata": {},
     "output_type": "display_data"
    },
    {
     "data": {
      "text/html": [
       "<img src='data:image/png;base64,iVBORw0KGgoAAAANSUhEUgAAABQAAAAgCAAAAAA3CQdqAAABiklEQVR4nI3Ov0vUcRgH8Jef+56nnh7WWWlehSKYkYNYEFRQNAURLWE/hsCl5ub+heg/aLalpXIKt4Y2h0gi6CJ/YHni9047Pc/ThvsR1dJ7fPE8z/tpG1sZG5pfgOPRN+B+W24pkSrD5Egx/wmshESqVobzz+5msuDRQPjZWd+5fvnccAn6HosKdTMuM/ABrvXPhYadHtVeA1MHM00cPyvVDa6mt4IUGN6mC05FifmgpxMhWSGGSslCpAD7Hzd62xZgNY41b758He8vgb1cC71a3e2AzmrPE4lMHbvfHjwF0/liuHDmKNjKmwDP57qjZKW9PlpsPOdFLnq/V21i+sgalAphu2E2HZoEt4Zb7YLeS+Bm9Bs3pHLQNdIVcHI0iVgSZJLHAol0oorP5VCDnUo2kC7kYbnoMJRjoT+XXNuGjaLBUexufg071fV6UW/N0BV4sx7i74326X59F2H5ROulvhtZBjuwuN/Ch+NUKx2Yede0ifmDyuLsPX9k6suP2Tv+zoPb/9B/5BehUnWXvCOEwQAAAABJRU5ErkJggg=='/>"
      ],
      "text/plain": [
       "<IPython.core.display.HTML object>"
      ]
     },
     "metadata": {},
     "output_type": "display_data"
    },
    {
     "data": {
      "text/html": [
       "<img src='data:image/png;base64,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'/>"
      ],
      "text/plain": [
       "<IPython.core.display.HTML object>"
      ]
     },
     "metadata": {},
     "output_type": "display_data"
    },
    {
     "name": "stdout",
     "output_type": "stream",
     "text": [
      "1 (32, 20, 1)\n"
     ]
    },
    {
     "data": {
      "text/html": [
       "<img src='data:image/png;base64,iVBORw0KGgoAAAANSUhEUgAAABQAAAAgCAAAAAA3CQdqAAAB4ElEQVR4nF2RT0iTARjGf98cc6glW7SlVnMGTawIkbLAkqyNIjpZHSooyJtldKhbF/tzsXsFUqciKrxIVGoECbJDJF5GauYsUzZcs5a6v9/T4ZtUPrf39/K+zwOPMTCbvOCajnvqSH96N7flt7nkrLAv2rd9yMy9qToYnxofTrf92OhZ2WqUrz9byD2LY2mH2Rio2Wnwvxy+lsPNayFltb56o2oe2O+OVbR+7C9y0Q8wpPBlqcdim4QAZvSk7qUiFgwJHQAkcUm6BcBtoatFWCuNA1wfFeoCnkrWBghLaDPg6TmFX7oP8FPi4WrAbqkZIKm3jBfj741IJUBQUx3ohgUfS2MAj1J3D9noAMB/Jta5GyA5Eq3GsqyUeq2LtuMXx4owrmOrhs7WBzY4CufW3XsFQBCMeIyM/NAwdBKARi/QGbU7mIbFhe1AS3fZPsDnswPga2oPmdUB62kEy6hXlpYBbLLzHHBDoQSifQBm1rZ8GhiBm4MrnwcGAZocHAHgivdvdUGtLRO4I/u/o82E+hMhDFdX8PXCxPv8nnQikPMM7/JWL80aL9qBfF/sfDiRd6cnnDWTiVHjWpVrw7fKZKZ0MpXypL+kVuZtCaPJLC3PZbM5/8yvhu+5rwWzkDP+AHLe19nAXh2+AAAAAElFTkSuQmCC'/>"
      ],
      "text/plain": [
       "<IPython.core.display.HTML object>"
      ]
     },
     "metadata": {},
     "output_type": "display_data"
    },
    {
     "data": {
      "text/html": [
       "<img src='data:image/png;base64,iVBORw0KGgoAAAANSUhEUgAAABQAAAAgCAAAAAA3CQdqAAAB8UlEQVR4nGXRT0iTcRzH8ffz7Ods2+P+iNOVmqO23CooEowoKu1SEdJJwkOnoJvQoUOXgk7dunToGtShQqyg1S3SwEPrn/+Ys7nlNNvmcnObm1t7fh22MNjn+IIvfPh+lKelttbM9GKPY2lxPmL1y/3dHV4x7nBXoi/XAWAzotm7Oj0KBlclyU46/T4PjemYVgAw2Zs8Z+ae1TWNH+BxNHCjKh/WrD3OC4AF+fzgWHnJC8ClZbYA1mSBkXX5BEB5kEJeBUJSYpyTawAXZrdV9gGBHJQTaAAH9hoFCeBeNQ9/eAdgNabE9wkgeROOtjMDYCvPqKF8vd1Il0wDuJMf1b7hOg62rk4AGMNxdfdwGwCj3jdDQcAwNWVBFoYAzv6MDNYuevuvI+UtwBr8fPjfQ+znVDgGXHPengXgCJTtqpQu4Pf8VwAGFmDrkFrVDUA43Q+cn7xbAnJC0AyI3junW/zHVQkwLqAFOOWzuIVRlRsAMYHcBnwmRVMh/goAVdcfAd9KjL3PLE++rrUKfgLg/ujOcgLN0TDnFaWBuk+e+B/Ne5y2rPQ6UQYSly8Ws6VQuK8npdi0X4nmQkz5EOt1yWJx5YdWim5Um5LxfDYnArkvZlMxV8wqlRW0dCZV1avirSINu0S5UjaZN4VFV4VBr/wFY5q63UHrto0AAAAASUVORK5CYII='/>"
      ],
      "text/plain": [
       "<IPython.core.display.HTML object>"
      ]
     },
     "metadata": {},
     "output_type": "display_data"
    },
    {
     "data": {
      "text/html": [
       "<img src='data:image/png;base64,iVBORw0KGgoAAAANSUhEUgAAABQAAAAgCAAAAAA3CQdqAAABrklEQVR4nK3RvWtTYRTH8e/zNNXc5hIhRmKhlVa5pVgkVGuzOIgu+gco6KSjDi6CXcTdwXYQqkNBEIovg+CgaK2iLqWhVAxKg5ZIfYtJaancNL039+U43EscXTzLDz7Dec45D/yrlBFnFMcKll+37Y3FMoDak9ObOn/yUOClteO8vf++AeqWGTif13Lmp+XkyKnD9RXHm7kON0Sm4p7Hv4tIOI3m4W92xvhyqgLV1wB35VX7/Uey9Vih4YkbAuwG+Ik9K2h4seQDFAAc3A+gwd3wMkASIENQBg1HhgbOJjmwDmARVgG4KtKshfMA278GJSABC07SMLwKQCHrF+M5bor45aMA98Q9E+OYhNWLAGO+1EdivCLN29EWIuM9MQ7KN8CYFPnxoMvojTUoAa5IczxDarSLBIC2gDfZzeJl6M93zAGkRf5+wqVnEwCMRhcBoGemsdKXANKtX208OJxKndCAJattzJu0Ghq4YO5q416NvZyA0znVe/4Oz7vnVndkrPVtpY/qmnNuoANvvj/bsr/U1mpq6+k7VUR17jMbYefs4sJSRaImffuj7Oa/1R9dVKjd89BycwAAAABJRU5ErkJggg=='/>"
      ],
      "text/plain": [
       "<IPython.core.display.HTML object>"
      ]
     },
     "metadata": {},
     "output_type": "display_data"
    },
    {
     "data": {
      "text/html": [
       "<img src='data:image/png;base64,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'/>"
      ],
      "text/plain": [
       "<IPython.core.display.HTML object>"
      ]
     },
     "metadata": {},
     "output_type": "display_data"
    },
    {
     "name": "stdout",
     "output_type": "stream",
     "text": [
      "2 (32, 20, 1)\n"
     ]
    },
    {
     "data": {
      "text/html": [
       "<img src='data:image/png;base64,iVBORw0KGgoAAAANSUhEUgAAABQAAAAgCAAAAAA3CQdqAAABtklEQVR4nJXQz0vTcRzH8ee+fHFuMtYac0VMSUQkOmiCPwaRCP0Ag+hQdEkR6Vh/QGVRFw0Kbx7qUAyiwEN26xc7tOwHONpuM5LY12R8ZeVkYG0sXx0+TXftdfnA482L95sPQHAvOzmejIMF+NsGWuroOmmwgYMj8fCzGYP7vlQACF7PSho3+Dht3osrkrSVnB0PMfhLHWAzdLcVcOaKvQEvxWrznUQHXJC0dLsduo8ACdUcwaike7s3PZcEliuN7uLYqmRmQQC6ALxPJAsqsAmEnXfHgEoujwXrpleMRS4DJN/Igj+kAV5AEkD5FRuiuADnppbmAVq6OuGo5NCQ85LFMMRON6ALcENSdqxBrwiCGamavtnWeS1k8KqAnmV9zz1MpKrTAJz6JBsybzdffiz4Ds0/AvCNtGMD3o1XKVg05R7fchgC76XFQH2L//V6WbAgSRN1vC9JNj8AzDediAxcArCYycKc2w9w5mQMwPUA3U2lOE+BIWXORspfU6YbuPUAYH+EUN8esIn2fqC8VQEowMbnbf4jnsnCaq3E4ehP2c3lUq4E4NG/6bffll8eN792oNb0FytDtEpvqr+TAAAAAElFTkSuQmCC'/>"
      ],
      "text/plain": [
       "<IPython.core.display.HTML object>"
      ]
     },
     "metadata": {},
     "output_type": "display_data"
    },
    {
     "data": {
      "text/html": [
       "<img src='data:image/png;base64,iVBORw0KGgoAAAANSUhEUgAAABQAAAAgCAAAAAA3CQdqAAAB0klEQVR4nI3Qz0vTcRzH8ef362d929oWkvOrtq+0OcqCYAcJ62CHQjx4ybrknxAE9QfopUFdOnSIDiXZtaKDFBErLPplWYItyOXaDHXK+NLYwvmdn+/8dFhbHnudXjwO7xe8AdgX7aARTyKMANjbd9hITtexvbJSL8N304X0cL1f/hAFIHwzK5VauDc2atHz2E0ggPODlqC8+NPf3bH6K7814gd45yr79XgI84QP4u+dMsCsUjOjzfljc64O5GtkHzTx47StAzMlVmUTmVrQgVmbTYCDT64BfE8JYLmCAYQfHoolX8DaKx0o/HaqQPueXdslgE0ByO1yAZi7cjL5CTACAoiaog1gchIALSCAs72y/984Tg4LJpTKX9ih6EFYqRC6eDUOA39RA4z7p72l7MuMNXTrNsCAAKrjnZEvmYwm5r8CcFwAzKfko2eZxkXTJwAs0+vLNWcunSMIbW+k+jHYsKF0jSm4vqGUStQpNPJWKuHAt+JuPa8OLAFn+s0ugZiAO5FTLc8XjywBnz3rT2NbGgCtrdV47AZAJMdRVwDgZrW+bgBykNLYD3QB7PzJf0cL9lqeomwRnT1ex+P3azXbrmm5gM/QAdhYl8JAri0X/wBJwaKxso+YWQAAAABJRU5ErkJggg=='/>"
      ],
      "text/plain": [
       "<IPython.core.display.HTML object>"
      ]
     },
     "metadata": {},
     "output_type": "display_data"
    },
    {
     "data": {
      "text/html": [
       "<img src='data:image/png;base64,iVBORw0KGgoAAAANSUhEUgAAABQAAAAgCAAAAAA3CQdqAAAB30lEQVR4nG2QPWhTYRSGn3vz3SRNkxoTI8U2ILFRIgaswWBRESuIolN1daibWFxEHEQcdHCSrropgSq4xNpBsFjQ4mCkJan2Ry2tYjS2SenNT/N38znckKr4Li/n4eUc3sPai0sO2H1zURq/1jeSIaBXWBSjBAu3Owcot9lqDYgcFPyYBeDyN0/Hga2peTh7RLTNvAaAu3CsKwVYNfQ+/lHgAkt/zltME07T1Yudz5J7+8UwABIA20heLsYmdHkDQKUX4NxRJ+mFPJw2k+cBHhb09x30JIzSCUDFA+ATzyM6n8fyRQegogC4LcMAT1czGqBSBLzdIgwQtGWygMo7QKvLwT4IX/HlfwLoADwpS/l4NC/l2xDAFADRyWxhNmtImTkD8KHZ8Pr90NCKlLmrfqDu36w+XpUfr3lAVe5twrFVY3I8Byp7tBYc8FmYB0R9oga4T3V/Xz8eESwXARJm6E5y6tGbipF2AjQfSPJQMPdlrhYvAAivCV+u+D8las3d6pDpuTXXPtm6WBzZBsCtxtxgC6ZOgg0YlfU4hAFvVI2/wt3VDruw9G/vie7E7jaUarrktS3FlmNWmX3g2F+ubOxwKdN2u2aVX6cD7TNVGThslQ2hKPwlR9BddlX4n34Df7CtovYjy+YAAAAASUVORK5CYII='/>"
      ],
      "text/plain": [
       "<IPython.core.display.HTML object>"
      ]
     },
     "metadata": {},
     "output_type": "display_data"
    },
    {
     "data": {
      "text/html": [
       "<img src='data:image/png;base64,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'/>"
      ],
      "text/plain": [
       "<IPython.core.display.HTML object>"
      ]
     },
     "metadata": {},
     "output_type": "display_data"
    },
    {
     "name": "stdout",
     "output_type": "stream",
     "text": [
      "9 (32, 20, 1)\n"
     ]
    },
    {
     "data": {
      "text/html": [
       "<img src='data:image/png;base64,iVBORw0KGgoAAAANSUhEUgAAABQAAAAgCAAAAAA3CQdqAAABzklEQVR4nF3QT0jTcRjH8fe++87an9/WTxfO6I9NoZjlJLGojCLKhAytQyfr0CmI8NSlLtE1OkUUdCiYUEQQQbBDUaRFkfSPSUFODH65aOVMp4O22dNhv99kPbfnxfN8HniQ0tjsxKiIyJWSiLwdK4poUg+aR3Ln9pFMrDhD8faLPQf7WBg0GsG4FAXjxgUF7H7HVQBoADgOwGpRcxWcAXgNwC9430SM2hLVMdQzUGt+FIFgi9N6AXCjSH955OARABZAzOrejvt2Jgno/P8Q28LnZRg4dHYrQM9p+kVP5esIA5OeFEDbse/d6FleftMnsplUGoCl7g0+2N549I7Ix7idd1lErumOslmA9pCNi8B1tTL0twWI+SuYgs/jytIFDYTKFZz8yj2UUZ7LAvV/KvghWbiJzljuKTsLgIDPnFZvXO554IeD/bSj50shARK2nQzSho6rtQbcKtgYgZ/oQTO2kyennO1i/u5jtPUss+bhUPVDcf/i+lU1P/O2Hv4kIp3KARewFKufFtjIAKjlWd17UWSvcnnYtYzlUYvkcx0MzkSq1orPO/IKHf+dP/A0R9eWOnMdWU/T/vAwOmrlo805jK5NkYh3PB1tCGzmH1IumMZ3XQWPAAAAAElFTkSuQmCC'/>"
      ],
      "text/plain": [
       "<IPython.core.display.HTML object>"
      ]
     },
     "metadata": {},
     "output_type": "display_data"
    },
    {
     "data": {
      "text/html": [
       "<img src='data:image/png;base64,iVBORw0KGgoAAAANSUhEUgAAABQAAAAgCAAAAAA3CQdqAAAB6UlEQVR4nFWQXUiTcRTGf/u//zmmy4/5anMttVYEfVFkJEv6WnUREkZBeNdNXQhdRxfRRRBEtyVBFEREV3UjQVFYFGUS5lbZMB0zIfcJrrUP5+b7drH3ne7cHM6P55zD86Avjc+PPonrpY/nR3Qt0t/efy9h0XJhTzK3D5IvByW5iaVupyozY19bf6lqV2E6lVYpN7i8CvLLrSkZtcR8P0YXmweUqQeW475OzgFg6QAOXusDvA/n2U+1rF0A3EkKf1OrCUu/AWhR5aFo3X1qqgWxbPV21ML1yO+TC1FjcmQBaINdq5KLlZbXRZg9BtvgrHR7hrbrpZs1J1V9VhTrS83AgVMAnD7GAAVZnPnTfCQSH6/IfC7nYSQ7ht4tz952G7uPMqGonhTuJmHd5LWZz9ZtTY+khL3FjbCZVhWUD8MhqSk20KQBC8SHAz0iky0DOQMm8p8CvBaxRBkyptPJ+FMYFxo2WEhVXeUBsVJXD89NO2cbXdArT2xz8GzMYBc24wG/POMvvxo0hZ1aNgR2eXUoeLcaRmPs8QR8k4FLqwFt3Euxu9GyNrP2visRXX/RczkosJowkVyM5FE8O3dLhzpn0un0P+1o7K8dsX3NgXS09PPG2zdJeXJqDtFrlw25FUXZkn8f5nPwP+0SqZUMOD/LAAAAAElFTkSuQmCC'/>"
      ],
      "text/plain": [
       "<IPython.core.display.HTML object>"
      ]
     },
     "metadata": {},
     "output_type": "display_data"
    },
    {
     "data": {
      "text/html": [
       "<img src='data:image/png;base64,iVBORw0KGgoAAAANSUhEUgAAABQAAAAgCAAAAAA3CQdqAAABxElEQVR4nG3R32tScRjH8bfHr8v54yjlfsRCa1JjxCJcNYS03aygJjHabdf9CXW5f6KroMu169pVi4K8UHYRQSlzccyj1jYn/pie6Y7O04VnLUfP1cMLHvh8eODMLEdBAOChzuhC4TOOF9H9TkIAk7Z535r2bC61VVp6OL0fSggIBVXvvVRt9u6Y8ulWwDEeQkC+nn0yZ+RjXItmvQaSEwHlMil3RIHjQiZ7jOFAAmCj+/MAo7iuZgXisontSveoY/kRJ6khzfgFMOoK7zSHq5oq9QL5VvOwIgC30ng83Vh9n47EIrkHLXvb7DG/+RJYKRlv/m0Xm5VYTOhGHACb02X6o9WqYSQBpI7WNDGny2C/CGYkAHa/7oI0Nog1ZRucE4Moejr4FgbRPTECw1ODeCnsB9tVzwDe9LuAeB0kcJo4NWKB1l7/XOvbTMhvg7qLk8cBLN3wVIvd1AZgObHFO+PtTHpnC0DcbyXDzyczRu3tlyNDb/QTr73Lu4LOrNVulc8FgkPlj9sgXm+qareYDj69cN0tW+rW8/IB4lUBPvjoXpG/V3K/KtJvQOwdQq/JkO/beomzs3L7dP9bU+n8B3XvKf4B4HmkVgwufi0AAAAASUVORK5CYII='/>"
      ],
      "text/plain": [
       "<IPython.core.display.HTML object>"
      ]
     },
     "metadata": {},
     "output_type": "display_data"
    },
    {
     "data": {
      "text/html": [
       "<img src='data:image/png;base64,iVBORw0KGgoAAAANSUhEUgAAACAAAAAgCAIAAAD8GO2jAAAE7UlEQVR4nGVWQY7lOg4jJSXVdf8TzOav/v2mK5bIWdh53cAEKTzAhYgSZVLif/75FwxGkgRgQ/K0ZkaamZkRAQLdPTPqCboyaNqQxXBmZpHJqKgrmQEynATLBmDYAD4AkjQaqVszQ4NwzwEgbQdNbADathFB0rADNgHbAEpjEPAABGhbo+7Zobu7uyHD3hVYQ3pF0NjnDNSV5SxmBB0CABIkwJIM4vNoPOPV7p6Z6dVrLUuWZvXM2EMiIiBDBhyBUSKu687YUc9rAHW4MUDYHmOEGe13jZ7VkjzTq6cbHpIHYAQ4EnLWFcGozGSQBHdQ1KaOJEi9sG8GVvdaa0Yz08+abtokMwjZEuxMGPr6dUdkZmaSpHHaWgwSJPPlTQcPm2TPqLu7Z61WN4AkHdy80bYjKmxEREQe8g1btot4KwAIIIigz8WiDwwky5JF0IBFCxqT4L6DJs/Hti27eyzXaS55LilgQLBg2QZ8Tk5Tg++JoZ1C4qRiWufblrolqWxvbnbWMCzLbrttAYg4l942LCAYm02TBgLcrWupJViSerR6xi4AtnrWZrw14zEdEVkRE0hyyGBehaCl9kgDgxFX1X1X3skqRwy2vLFGv3+muzeAe1q2jLYGWzsR1z1QrJ+YyEoG0ey1+pFWZ+TXXb++f/36/opi3jciRQ4wxjP+7+/1/Kzy5vQw691qBwkEmJXXfdkwoLVMjNQaaUAiyMq6rroi65LRrRn1zBr1uAf19pi7DyEYDO5LzKy6v74A2ljdo/MMnPvD2DRVVUoz45npmbV69QeAOMZBkkjsfsIGrto676XMDFK2pN3wLemMrLwIdvd4uqe719OrZ7XqLQBxhECDeu2QEWRMK/OJCEb85VuneDBACl7d3Wv/raefR71cb9hdALbiwvy4N8DtABHB4IERuONaMz0TkNaz1npWr+fp52fWj6Y/QsPu6qngxD/qY8UJHwgyiAD0ZqBtjPb8fp7n+VlrPc96fqYfu1H2dj6+hZCg3uIBIJARyQgw9slb6LaE3fWZeZ71+3nWs55nPU/PA58mHwWfkP6bYHJTcdL9DL73n9vIELQwm63zqEe7guM/rwW+WgC02wLCOAb2AjAYwW2fWZlZ8rFhHtxti/4DsH+PbW0GCNo+bRzZJCJYV9p5X/d9X/d9XXVlplBfX18GopK5mBmc6b8APrUbe2hDsDEzs1bPDGCSe6AAuO/7uq+6KqsiolDf399Z+axVtarWE9Ot/wegX5IJjvp5nrXWFhfJqy5BJO77zvvKqyIJKpPf39/XddV6NkBFzyu0t4O2DIMf1NW9nmembTNYV6EMIgL3dX/dd92VV8brBFkZlVmVWYGn11QEbMiWNXtoCTMtycaoe5atLN4s6UzWTF5139fX13VdV1Wl6RlR3OKHqRZwzM5/k2TvzUsGdMYaSGZGhAEyWMlr01OMZFbsNYEiBxKqVFcZf8zuqIc0CQaC+8pS+tjPmdwR75s4IgmQr8EYmZGZVQm/XnS8GtSeDiTN12U/Eo/jbMmMrNr+FBFB8jRRewMQ6SAzWNjW77/SP1tSENYHfssnyEQkM/KqqtcDd7XvOiFYhJImUeRn03qdKBAAQYNvfhFBBmOnnxEZ9a5ZkSZpwdbOPQkwnAnwzzX9A/DZLv86ITfpjIzMyNyXhe+CgXeZ83bO4J4d/B8CCGnW8LRUVwAAAABJRU5ErkJggg=='/>"
      ],
      "text/plain": [
       "<IPython.core.display.HTML object>"
      ]
     },
     "metadata": {},
     "output_type": "display_data"
    },
    {
     "name": "stdout",
     "output_type": "stream",
     "text": [
      "3 (32, 20, 1)\n"
     ]
    },
    {
     "data": {
      "text/html": [
       "<img src='data:image/png;base64,iVBORw0KGgoAAAANSUhEUgAAABQAAAAgCAAAAAA3CQdqAAABoUlEQVR4nG2ST0iTYRzHP+/ru9d3uq0pawyS1GFIjiBLNPsDaZciiiJIugb9wVsJ0r1Tt6CbXewcHqxTXUSlgxCNyKg5CCoUcwzn6sVXh3077J3bzM/peT7P8/z4/XkMAGLnWtcT7etT2YOhnd9t/RZAoMV038TtxpyTy/M3sGakmvL29pGWdIZdUsZozssaW4fmqcHq2io4n0seddJuWM2WWKmTjPA/ZqexjxxSdWP33no88/MpqLkqjz2a3JCWMXGr8pMbDUAYszbW6R4jCB5WRZw3ndjN4SBQrMjQ4G37R9tlAIKV58m4E20oFAH4iHUfwPjz7cVaJrUyfBZ4vTftoScfJvBjJu2vZTljdS375+ML6ev+8o6WAIg+c6VJv6Zp6QTAyw1JHkDkwnNXuoJFZCACNALOjZNXmyAP3JMk6W7i1IPZ7I70FizO+GU2H+8LFExKGaBvqXzzfVrStqR3Njxc9FRHsRtrcWIgfvjAr3AnbAYBwh3lL9Ce7Lg4py/fJUkZ2B1baGzVvtS9ufBqurYXIYgdTeztUA3X9pn7P0vWn9ztwcwsAAAAAElFTkSuQmCC'/>"
      ],
      "text/plain": [
       "<IPython.core.display.HTML object>"
      ]
     },
     "metadata": {},
     "output_type": "display_data"
    },
    {
     "data": {
      "text/html": [
       "<img src='data:image/png;base64,iVBORw0KGgoAAAANSUhEUgAAABQAAAAgCAAAAAA3CQdqAAABtUlEQVR4nH3Qv2tTYRTG8e/73jfJzY8mxkRjEhUjQhIltahJzWDA1oBUKSjt6OQqgosu/gPOTt2ddHYJdqgYBFEqtLSiOFiDP5JGUuJN2tzcex1q6bUFn+k5nzOdIwBUtuAxY9rK256XvjeXVgA+j/XzjZK/TQbQXzYEqHDklH/eYDdqQhgdvgfdhip9bRtr3ZTbkMmRbmvDbvyDqrVaZ2/kj0/u0Tf+qD4Hj8+57OrDl7+GrZScPOtCPZUKa8G0zJ90od+PxBooArs2cb2cEAyEQt+GdCUQKlZjErxJxSEAjlan7HYiIoFuU5EH4Ihob6w2htkMdN6rWhNANuu1BkSz5bHsc2vfNTefPdip6fGddmvzs9xuN2pLf/fRuZ5zDYDZxaHzGoDQvY+Wcwdg9FXfcYZ5IH93oeeYtyVQyemgzcCZmemczso7BRSiAFfW+uXzEVtYhkdNzvtOSIDMlH/0oPCgZS6r2aWxDACxiyNRAOIlVagmhOmx7S15HMdSgHZYLZuNp6cPhLe+hIrxdS0O5rcFEV8H0DfhfvUDxWTnxZNF99mXgvJC5di+b/w/gVJwL/0BbF2DRT1z7gAAAAAASUVORK5CYII='/>"
      ],
      "text/plain": [
       "<IPython.core.display.HTML object>"
      ]
     },
     "metadata": {},
     "output_type": "display_data"
    },
    {
     "data": {
      "text/html": [
       "<img src='data:image/png;base64,iVBORw0KGgoAAAANSUhEUgAAABQAAAAgCAAAAAA3CQdqAAABvElEQVR4nGXQu2tTYRjH8W/OeeqxuSe2aauJSDXeihcItKJYLIJOIi5OXYqC4Ojf4CC4OLo4Kwg6OYgSQbwgVMQYaxXFJiQmbTwxDTa3k5PXobnV/KYfH3gfnud1XFLN77VMk814/a4d+pK0NN3WHG2jXAaQjNG0q1YHdZstMXq1+9B7tZosBdc1yzZXpYPTp+vDKZczYGhf45votsRd2JCIsS8S1GMnBEbCRrMVmj1a8eWMXfvHhh0IRA/ZDX1ybipv29u9Rvm3zyMwHrCaMu7XfM6CWcqlzOk5gdDuoRrhUf3L03tZgJ0PhNCR4+G6cjlRxSwAv24IsXlxgfrjMIvt7QrCvI/a0o+NZfn5ro0Cr5SVuB7qP/iixjdSDx+v9WNUC+ytJV/ktnyNX3t2slFxB/tt9JTErEQ8sT55OVovv3liA1ybJX17BuBRo7H6/OZhgLiSxVsmwF815IqkWoBzArlrArCmSq9zi8tAxdOdfmHlzky72qqrC3s6TaUZyIR6qw3geaqDOEJxECGpTf1PHj7Jh/xKOvPxfg/Drc8opZSqn+2NfF87J/kxB2w7kz1YfAl4jl05YCz8AyDgoPTJnVtiAAAAAElFTkSuQmCC'/>"
      ],
      "text/plain": [
       "<IPython.core.display.HTML object>"
      ]
     },
     "metadata": {},
     "output_type": "display_data"
    },
    {
     "data": {
      "text/html": [
       "<img src='data:image/png;base64,iVBORw0KGgoAAAANSUhEUgAAACAAAAAgCAIAAAD8GO2jAAAGGklEQVR4nEVW0ZIkuY0DQEqZVd12jP0H91X+/1c7wr44705XpkTiHqpnV6E3KQgSogjwx//8AwDQAEDj1yIJwCQgUAYW/D5WI7bVHXCgAy1YJCRToMh0q5ZsJn/FAwDiTwAQgEGANBtw2+8c/Ovgz3wAAH6HoEH7e2dKAExD3ygwAdhogKYhm25707ZgAmwLkKF3YBriG8+WwW5202YKemcJ4n0d5psLNmyiBRNlrkVDVBJvZuI7KxJQy5apBtrsZm3aTLRIMMTvumEKhk0YKLoBE20ZtAeQRsiBFltogYDfVdmsZpWr0EWbGZEgJEFvbr/JtOmGm2i4yYaaYYQ0hCGEWnxvEWiwDDTbLNJANVzIOcavh0QD3d3VVa5yF7qFBttoRyOIoR6pMzkiIxyCAhQK3oVrSwtcbWNvN5yfH4eBhnd7d++N6gZsdxu2YQIWW+EkZuox8Th0TGUqUzFIoexV+Lr8us2rza5u0Pn3vz3LXtX3rte9TO+mv5vI758gWmjBGTxOPE59PPU48zzGnBFDDLRxLfz21fmq+NqM3QBv54+/Pav8Wv11LRPVvRf1izCgQZAOYYSPofPk46mPz/h4jsd5HOcYUwzuxutuHoWfG4Ey7jLU+ePHxy6Pq/R1d6OWbxVB0GCDJkAhUsfUecT5jMdHPj/Gx+d8Puf5GONIiLsdV5fWBlbVWHXcIpB//cvz3s3YZV6vnXmHSBlooiOR4kgdQx+PfJ758RzPj/H8nM/P4/mc53POIyGubed67crFuKikAgrn83PEXXchXytTkWS851CLniOOmeeZjzO/AR758ZzPz/P5OZ/PeTzGOMIgltPNLyKb2VQZq105jmggRimpYESMiBHRmUSfZ55nno98nvl8zueZ5xnncxwfOR85n2OemSMaKLWWEIBguFGr1qqdUkstWaIkSWOM4zgjJNVx6jz1B8w8cxyKI3IqpjSlEUzRQBkE9T0Dq3qt+77utMtuu91tN4CgjpEzFenzxHHqODiPyCm9CQxYsGC6aQIFlFFGNXZ7rV67q6qqctda1Wuttffe3W0IORQRY/Bx6DgwJ3OAIkkQbXf3rl67ER1QN9butXotr9v3XWtVm6DSKKP93fWWODLEnDPOQ8+Tx4EYoLrclN8wfs9z24ZNG266v6d0N2mlEolU4N1PCsTg7OAcI/Q48nHq8dBxILIb+1p3o//stIAipIgQSclSSKGIjBxjnKdLmdSmTJmJmBjQYB4jPx7z+Yzng8dERO9eurpckcoZc8YYkalIhQhAosR47+AYgSMrlI1tGCrFztEij9TjyM+P+fGIx4FjIhOriVirERk545g5Z46pSFBsmzRhAUlkcCZzpsPZqKatUngMInQMPc54POLxyOeBOZGJbDfmaikj811B5giKhgm/WxEuogOOt/IJadgw0FJnQuAcmlNzcA7NoZlQmnb5SKekSM2hzFCEwSp7d6+qtauqq93Nt0gR6f5WYBASA0xR357ij/4yyYwkQsFIZTAoMdqort5du2t3l2GLFPk2KelOdKHjHchAV9euda8bHZaNbFCgGaEgg28RE5tou+yyd6PAAq1ApGw26LyX1+191b5ql+n2NnZjVU/VzTmZg5FipPKX75AskqjCvrFur8vr6r3cy2gK3zzk/Xtd1/752/X1WlWgeVO39BpxDJ1Tc2qkckYeR45QMlMjHSFIVb5uv778+qrXV91XrVV7bW9kpMh8/e99rX39vl6vtXd3NRsCQhj5/c5j5nEej48+zhnJMWIMR4TJXb6u9fPr/u2/18/f7+tr77trQ1BEZkT+9u9777qvWlfd17rvtfaqvfuP/54xR35+Pn/8fT8/nmPkGDlmK2Rjrfq6rq/X/fXzuq/aN3rTCCojZ2Tm//3rv2Vfu++977Xve11r3WuttcpNMVJjxO+vWo6PlzPzjUGp7bXruq/rvu9r17KLaAKsZKxud/7rn/8xUGb/Mk/ugN1GVbl6le/qwmJ+va5+i1JEknz7qF219967qowmmjBSed+dEfn6+TJohiUoTL5N8lvy20CjdmvXdW1YFCQp6j1T2/1e36PeRMNGyYAq+v8B06dnJgMlUnMAAAAASUVORK5CYII='/>"
      ],
      "text/plain": [
       "<IPython.core.display.HTML object>"
      ]
     },
     "metadata": {},
     "output_type": "display_data"
    },
    {
     "name": "stdout",
     "output_type": "stream",
     "text": [
      "4 (32, 20, 1)\n"
     ]
    },
    {
     "data": {
      "text/html": [
       "<img src='data:image/png;base64,iVBORw0KGgoAAAANSUhEUgAAABQAAAAgCAAAAAA3CQdqAAAB/ElEQVR4nE3RTUiTcQDH8e/+e6Zubc2K1dIha5YoyFoHh4KRlkUZREaFVPQCXeog9EJEt7BTrEtEF3uDwBAioqAVRQQKGalM2TSqWQ9B27O2aht75lzz32FYfo+f4+9noHUU9u2PjdCjfQ412qKhGAo+Y6rSm/2UTQdbOrpCJXcyhmJwt43kazLqVOK9dqFpvFRZAmEueNz5aPhDAl5Pp0yKtQYUPfU1OEK5sxfXf1xwgSDnrWUx084T67IgFOuboX/YHzX4fKvhwTmWVPtYynZEr9UGLPOXsbCGX3kExSzQdOTuwCkgeTu+og5kAOBMQsoMwNop2YugCNDiANtpIPaF5QgSgGIC2A2gY0NwH+hKq4AfYA47YiYJbM0/fDKHuRkIY0FkAQ5Gnt+8AtVAij8I/0nAVXz1YuytpQHQmUDwA5DHHMTbMmlgpaoieAqom3fQiT0HeOarUWILQLi+2xlATwIVGypQnAB3VtU1wLMxoAMJ0ghw47eUchdAUK1H4AV4ZweGAYs9GkXQDPBSB4qA35wGgQ4QPw+DBaDfVwLk5fK8ew4DNGpy0goy2Lfkji2a1DyIGetx13/8OUtkFnH9+6bxRTrQfU0OPgLolPJo2QZkaOjWpW0gCI8S2N43fM/Zc4iN36ar5kHBGGl1XPXRvjdXlZ+wK5oB/gI3o7wta0opPQAAAABJRU5ErkJggg=='/>"
      ],
      "text/plain": [
       "<IPython.core.display.HTML object>"
      ]
     },
     "metadata": {},
     "output_type": "display_data"
    },
    {
     "data": {
      "text/html": [
       "<img src='data:image/png;base64,iVBORw0KGgoAAAANSUhEUgAAABQAAAAgCAAAAAA3CQdqAAACEElEQVR4nE3RzUvTcQDH8ffvu+9v+60tV5E50jEfSCuSHpxFoVZkgTnwNPDQoVMRdOzWf9CpIDtEIUSnyNMugUhWOGJFWFaLNpfTmU7nHtzDbw9uvw5W+Dq+j5+Pgsn3acPpbf8ZqvdpqYhDi80uSqXtxNE57WBq/lf699Xevplay+qi1Oy7GzPp1PLcPKv2c656TZaQ+nqmEAyb0joQeKtoJbEPyYp1Vz7BtocOd1Q/gOB44c3s30ZJDHibcsixNX+Q/8Z6nd0xyL/sZYeRYH0aaTPCAINaKJkF5N5qGonIAAyfVJav1WFiyGdFUgHoHOhWq8H7QEjfQrAOMNikovYDhHI1BJMAzZUaHLYDOcNAxPxAv/XHQtlweQBdEYgkgK88NTFbkS4gXgLRdga4sjb57OkKKrCplJGqHXC3hPWGJed+wGKOIDJTQHGoA+HZSgBtxRAyAohY18WUz2qkgB6lgiwA9feN/Z23jUQEaHErSABedHT1oD8PAZcayggFYDp+qJ3kA4BKPIwwAxC1wFoccKpf5xBVAF4vU9sAOGueB2FqBQg8jn8ZB+St5jzw4eb25B4HwGgi8wiEHOwA4GMWoFUz7wERPXJ3x0WlbHEBhF8ZHfmXTt04H5sKgHi1YLpuAuDYu/Hh6reZzyCT0cLle/nTtSepOx65/r2UWQKp5gybt9nGhU27WMxayhXgD6DUzN1ZdDm5AAAAAElFTkSuQmCC'/>"
      ],
      "text/plain": [
       "<IPython.core.display.HTML object>"
      ]
     },
     "metadata": {},
     "output_type": "display_data"
    },
    {
     "data": {
      "text/html": [
       "<img src='data:image/png;base64,iVBORw0KGgoAAAANSUhEUgAAABQAAAAgCAAAAAA3CQdqAAABtElEQVR4nGXRP2gUQRTH8e8+NmHxTIKReHGxCHIxdwa9JoIgkjOmEQsbESHEwkKshWvsTWsUCxGUNLEUREEMBLEIaqWFnEEuKrJulsvFO01uc3/3WUzW+Oc183ufYYY3DDjjGf6srrtqU3/5l9GqInHuOzmynUq/9/vzi3ODJp4p2wDOnuTkhbGfcgmAYlW6AWt3JjNE7+QUACuW3YQj0+Gr5VwiHMiXnwPRdyC7tPXezd5YmNXoMwBLwLCnKyCuHWhrGOCZQDpJAiK/fbtl5wHKAllbqwDMFKOzh4AvAimsO2bC+Q13AigIpCIeGbwXMAp8FXCtN77BNY/DgCfYtlWIH+uR3gUVQUO+xRgwmIE+ofOJBtAD8DGMesERWKUCdAN88Cob4AsIDWAdIGwGPtQEHNz4zqGBzRIg0OZY1zZOJ+ttgz7Hrxk7eAqAfQJF9uYS5nR/5wcwIvB61UqdA6DRqSwAHYCnWn9xAOCi/5Z45KsNrT124PST5Zs7/7+oWn14+UFTa1d2cLyg0ebalkZBDsA2el1VVXXCdD2WWe+X3o2dn71lmjT7k/xbJ2T06H8Y/QL+npgDnPNQ0wAAAABJRU5ErkJggg=='/>"
      ],
      "text/plain": [
       "<IPython.core.display.HTML object>"
      ]
     },
     "metadata": {},
     "output_type": "display_data"
    },
    {
     "data": {
      "text/html": [
       "<img src='data:image/png;base64,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'/>"
      ],
      "text/plain": [
       "<IPython.core.display.HTML object>"
      ]
     },
     "metadata": {},
     "output_type": "display_data"
    },
    {
     "name": "stdout",
     "output_type": "stream",
     "text": [
      "0 (32, 20, 1)\n"
     ]
    },
    {
     "data": {
      "text/html": [
       "<img src='data:image/png;base64,iVBORw0KGgoAAAANSUhEUgAAABQAAAAgCAAAAAA3CQdqAAAB30lEQVR4nD3QOUjWcRgH8I9//69nZvma2Kl2oJ2iYpadBKFBEFGBW0QNNhQEQcdQbh1TTQ1NDR1TEbVkNHRZWVHWUKChFRVRpGYpr2S/hjd9xg98n+fhm0HFj5FR/2dX6cCFYZHJXwYnTCIrdxHxrOpXHycsq6x0cuKZ+GBV593iipNprK7fkDn1lCgvPzGrsaUojSs3ZlpF9KjjfbKysDqNGQhYf+h8Khym/uGlqRz7HK6ifs/hVG8xW0K4gdbf98hILipq7j3NlP50+l3J7IEoEXp7XmNgiHzqyn8NixZUTUvEcI4VtESfR0XFY7JL4CJr2KSHqPPr0KSZMMoL3phL9Cm/Yt7KWrxt94AqNcg+dnksnAHraAohEC9uWhbJAndpAlFZ4yR6xmt6igYOhBCeZk+UdyKEI+Jrq39dv51izf10klyy96+Go13bwPYQ9rHsRC10hNAGzt5ZK1qYOQiDHG+G9kRCVFc2Ci+xFb6XFIoaqpfAbSyEospM0c8/FfAHBZDs7hJ3juWN//gBalOBZNtOSD7of7IXO0JYitbdDTnYXBnB+xC2is0oHZn745aboHQOM8R1y6f3J4Zu/V+bQoF4uLvzyfOx8Vs5PfNdEX9o//YY5X3gb1tNRp9/fliZ8ngtsykAAAAASUVORK5CYII='/>"
      ],
      "text/plain": [
       "<IPython.core.display.HTML object>"
      ]
     },
     "metadata": {},
     "output_type": "display_data"
    },
    {
     "data": {
      "text/html": [
       "<img src='data:image/png;base64,iVBORw0KGgoAAAANSUhEUgAAABQAAAAgCAAAAAA3CQdqAAACGElEQVR4nD2Q20uTYQCHn717+5zH+X1uTWdNXftM5wEV80TYQZp00VUE3lRXQYc/oVtvgyAKugyCCqHAEhOkImKCF8sUIxVTl+Vhp5Y7uX1qF7aey4ffze8xgTgeTRscUj5UtjKCAHNyJ+8wWazuBiS4t/lP0QmPYnyTZ2X74teyqjeH0tvTsc89OWR47Jba7vE9ABo6Ee2ITDyUsjXW+w6Xq0sZwojZmTmTr39+HB4/a+X19clUEBmKFbkb1QkwnfbW9DF1Z9TlltGIsudXRuFgw9urxgj+6nGIUGR7zf8xDHzIcQmoTGeFpqmWRBpgeJ4OGKyIxoWrxmGVZUcBZvBAuSKkyCRiKUM7CRAxorC066wX4bkVadX7AJ76l6FVs+pSTah623n9QQpmzgDnSnGKLuex/v6q6lP5JArUCJ9e11uNUPJyZJE60Vxrt5uNhXd5+XIaTW5ubwXi70f3oGsagJ8o3K/Uhq8C3A1cA6BpakoES4r/LANcaHvyCGD+eVwo3obCLMBqjls3AD47hGxpc0iAyQRcBIg7RFVnV1MjwKswuAHMv6XdlizWAZI7IAGcMZlaD+0UHMkBsZyxBnBFl8GN2WZr3SIwUbAxBlwesHO7m5abgzZAcQHwMHcgVTPp6tKSzBjZIABCIjuT35s70irxT//ObyaLZVq17a//8C/E8kUCLzT5dncrW7gUACoiAKx/cf0F97y6KA/yzVAAAAAASUVORK5CYII='/>"
      ],
      "text/plain": [
       "<IPython.core.display.HTML object>"
      ]
     },
     "metadata": {},
     "output_type": "display_data"
    },
    {
     "data": {
      "text/html": [
       "<img src='data:image/png;base64,iVBORw0KGgoAAAANSUhEUgAAABQAAAAgCAAAAAA3CQdqAAABrUlEQVR4nFXRP2gTYRzG8W/au6TE/LGtmiiWElEMGEiJQqQ6OCUGXMwQEPwDDm4FQXDq0qWbi4sgdHIQ0iGlg3ZxslUpJCFag4IxRHvWXpPDyClJesnrkLve+dveD8/zvi/8XLP6e4Lu0N2rwb668XIN4IH0BmjTko+5u97+HgBVCQAG+dBJv6bWAfhpIq8n49Pd9vCkYs3tCHhSZwH8lj2qAFx5cQ/HrIlTgPShnwZGhibL5ACj0tqy8VCH6wDLzxRH/an4kwXIYCep4k0Cx685sQxR4PCO83U6onELUnEAl4Vb5wyl1vI+rDqTS0IIo6Mv/lefL6+8+i2EcdmJN28EMoWuEAs2TWUvARfyuigeWDL/Ng1wpDQQ961/BmMXEwDN521ysolumSQAhSZTp038BdEEwJcm+5KJmyq+MwDU0VQTe+sd3AA0tOIu5uIKscDYEAuPsfDdYtQ/ocH50OZHcEHE9RXgTm91Lr09sv4EJFCGxdK072gkoeuABL0eAJ+2Bzu7vh+fObiT8Xi9IWk1z/c97HXMzJ7A+LsvvOOjdnLjm4ZnMBkOKmGFfwvGki+hUKd+AAAAAElFTkSuQmCC'/>"
      ],
      "text/plain": [
       "<IPython.core.display.HTML object>"
      ]
     },
     "metadata": {},
     "output_type": "display_data"
    },
    {
     "data": {
      "text/html": [
       "<img src='data:image/png;base64,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'/>"
      ],
      "text/plain": [
       "<IPython.core.display.HTML object>"
      ]
     },
     "metadata": {},
     "output_type": "display_data"
    },
    {
     "name": "stdout",
     "output_type": "stream",
     "text": [
      "8 (32, 20, 1)\n"
     ]
    },
    {
     "data": {
      "text/html": [
       "<img src='data:image/png;base64,iVBORw0KGgoAAAANSUhEUgAAABQAAAAgCAAAAAA3CQdqAAABrklEQVR4nIWRS0tbQRSAvzuZm6sx8YGPNLakNU1aKW1t3OThwoWaoG61XRUKgptCXVoLXRe69A9IF11k0SJ00UXxkWB9dVFBECwaqyGIolK0YqKGcXEDzS0Bz2bOfDNz5jszcE2039PNREu4w0bJws90Lu/SVJkjEqayja46aROZ6bQr8KgbQL2x7ur9MDshmbPCr4fN65yVqSnmy8kpTzGpNAd3DCSvR3AMDgZ82s7v/VP9vEa2jqM+6XQmVEmkwpLMBcnkl/5YocoBwHGzFzVs1qrG6Bv7rjamUx8NTUUW/93aEH9os6c+a0qzyFTE+7feif8MczuX9RWCNnOmB4ovVOePCJ4D+IbGJ1+a8HJ7GfXrxc3I0JJSahOA4KteKLEOATIMSE4PtitlEKAeaH2wCHJ3cn7hTL5/BlkD8N25u1eQ3xJJYOwktLa6CxwXvCrNaFGwy2zC+dRvQziKcMr81r+Zah0Rq7W25HzsRJznrfB+TwTxp8HCQjduR5En9hIUDzb6/EdPZMuAbNtYruoOTPzwvI1mZ/IXhlNG7U1eNlsEHStuD7fch7lc0xVsXpAUeoiXpwAAAABJRU5ErkJggg=='/>"
      ],
      "text/plain": [
       "<IPython.core.display.HTML object>"
      ]
     },
     "metadata": {},
     "output_type": "display_data"
    },
    {
     "data": {
      "text/html": [
       "<img src='data:image/png;base64,iVBORw0KGgoAAAANSUhEUgAAABQAAAAgCAAAAAA3CQdqAAAB5klEQVR4nG2Pz0/ScRzGX98PH+WXAg1CQMFgQhTWSNNsbR7UWmyVrUO1jnVs6z/oH+jepYv3Lm79WnOudahDSYeGKSr9mJJSaiIlBN+vfDrQlizfl2fvZ8/2vB7Y57S44QlVtn8Z1HZdgfWldQBtTnN0mP6FSh/yxYqmqBR2beZWIVStKszmFlHf1dT3p4+2vF6vo72ey1SCyeE+Aep1pKlE3J58JvXZT01m/X5WY/7q/0jC5toHVE0C4B8YO30AgJNBJIfOTXH5Wn+HfWetUNQNU+viPYlRhnzJUHVb7DAAuRVJ4RWk02OpQFunx2nX6lVLQLIMwPQ0MJo6b13Tt55r6ubEntreYb89+0CS28syO3vqYtAs8DUjLlXbIoKhxpMY1wAwuUJJyZmRF3BhpCd26RaAXX1Na+rnu4xynYiZ2YhvAj1DxSeo2vbK6jdDKaVuAAwAsjS3sKCs4wlJ1Qx0J2ZAph9PzcGXO6Hf+R0gHOxd1uXMw1Vgonx2MfsWKOne8mfu/uVzN6TlSsyEON7AY7MhesEpET578yLXMQui2NLkWY8M9yN+NCdHg+FBpGMw7MnO0+V+D0dTfkukO56Ufbqjq5B1RywvM6Hr4eU3hm5ql96oNxCNdQqiH30ePE6jUjv4B/t9p5WkfF9LAAAAAElFTkSuQmCC'/>"
      ],
      "text/plain": [
       "<IPython.core.display.HTML object>"
      ]
     },
     "metadata": {},
     "output_type": "display_data"
    },
    {
     "data": {
      "text/html": [
       "<img src='data:image/png;base64,iVBORw0KGgoAAAANSUhEUgAAABQAAAAgCAAAAAA3CQdqAAABv0lEQVR4nH2QT0iTcRjHP+/2Y8O5rddt6P64aa5WaFpYh9VB6VoEUZ2ioEOXTh275zEIoktdIhE6dAliEXQaFHSIVioLSS2ZmLM5mdur8u5lezq8aGuDPqeHz8PzPF8eTdhnBbPSNOt1Y0e7WvZHI7ovGApWkz2a3dZoIXJ6Mtare7v/kQC4w4kOZxM/F2lXGk8na/MLlZo2GJflt99s+0AaVnlxfm7JEKlnr9jyZVP+Yk4PE+xDPfbqP9cM6Y4NRYM+V2r8+DXPtHpfWyvZM4Mn/MaX1ZFIRIf+ttO37sLQ1G1HR8z7pe0359tz5oex1r/mej7PtFgRkaZZaW4+v26LU0BZmiKNuogUn6QB0qAyl3az2VUZuTHed7k2twuzoB4tFTPr8M7sd4vbAvZantw1E/6deWbXBxn3Cq5KHsAP6iCGPvo9T0ICzKJwNmy5WfpkUHWIMybqzlHrHgAruQWosAWomwOy8RA4cszt2d+keqNMHX4xMRZPMvYKVMgwUMUkrgup0UMetkOAnioYODaqOGNnwh6o7wADEwFQGeusqnUFYOvDa2D5Rw40fGnr18mL3sWP2SpAotDx8v/wB6YzrU1RQpqkAAAAAElFTkSuQmCC'/>"
      ],
      "text/plain": [
       "<IPython.core.display.HTML object>"
      ]
     },
     "metadata": {},
     "output_type": "display_data"
    },
    {
     "data": {
      "text/html": [
       "<img src='data:image/png;base64,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'/>"
      ],
      "text/plain": [
       "<IPython.core.display.HTML object>"
      ]
     },
     "metadata": {},
     "output_type": "display_data"
    },
    {
     "name": "stdout",
     "output_type": "stream",
     "text": [
      "5 (32, 20, 1)\n"
     ]
    },
    {
     "data": {
      "text/html": [
       "<img src='data:image/png;base64,iVBORw0KGgoAAAANSUhEUgAAABQAAAAgCAAAAAA3CQdqAAAB5ElEQVR4nFXQz2uScRzA8ffz7WtiKW7saanhmPY7M1eRyGYULOpSLKJLG7Rj0F/QIapT96BdOkQRtMM6FBhFG8E8NKNGtlGtS7FcP9z0mTU39cnHb4dHoz63z4vPh88P7f71Kbd+eiA6ubTSXcx9GA8NX0UejLspzm3JP0oBwOe3i52oc9Vx/o1DDxXqbxYPAnB2eJ3EWbMtuWtjDqBsWpIex5QFHB9sNwuzgBlAUnJaAP0H9mqhahK+eEGBBpxIKaVMwwEXbiEBBaw/CpjTvyEeOyyao18+A16NAn07OltYnwCe3IZTOz0V2UQjMBK2bgBR8LUqedywUjXgDMwKjtm4auS+AVx6X9wkCdgY/ZE2ACYiV/olXhuPCPdS1j4+LKkDIHq6On427gFEkSwDENsvI66guGu3qTgAgRdKqbWsC3itBDoAA9sBVywETM4I9gDg0gHMIrA2I2gDIANQfpMHisFWe6UGfJ0DCHsEDXulCmCkAbwbBJ8AmC5TqppZgNWMpm56zwP7EonM6AoA/muyoUX0AnQt3HlnG86SfJpaKAApX6nafKLfw8jmKP9FMq1kwc22vKZb803r6EsgQ7tF5GR58cE8+C62p8d0rwMZ3lrv7a087/Z/9w9d/tU29nEZ/gDDwqauZYPCIwAAAABJRU5ErkJggg=='/>"
      ],
      "text/plain": [
       "<IPython.core.display.HTML object>"
      ]
     },
     "metadata": {},
     "output_type": "display_data"
    },
    {
     "data": {
      "text/html": [
       "<img src='data:image/png;base64,iVBORw0KGgoAAAANSUhEUgAAABQAAAAgCAAAAAA3CQdqAAAB+0lEQVR4nD3Nv09TYRTG8e9971u9UCwotkBKBGubVFESEE1I1BIjJLpg4qCLLi4m/pg00ejgH6CDcSYuTiaO+KspComDoOlgSoNCKekVS9sUoa2Vtvdehxc9yznPZziP9jD/KHr//JmmeFF41pZj5uj1caR3U3flV1PaVKwQyJVhNhJpkwPrjVR24l09CymAjfmvYZKnbqBGqHVxTEh7ZkaFwZ45E6BUtUWrT1nfhXNXPQCWB9ni98cBxk8fqPcv3wazC6p7PABHX5QceyMB3HysS6MIgP9YC5rIAEPBE9uVLGQcSEwCw4faBQYA5psavH8Ko/vbLIkNQOX3ZKf1DAg1pE/iMwGId4n4N+CsZv8QHFZPk8VcGuDu27RfMKCwdWN6CSAxfmdQ0KGwP9TZ6wbg5CWJujgyYmaNCYC+Nomj8GB4dzDY8gQo25I/Ctdq3c6+ju+vYGZYoCncK1073OEB4PXn/0XeZtCwgbQp8SrMC6itpoAtQ+DpBSBnQWWlAOjtAmMXAOU6bC3OAZYucRoALG7ptXphE2BBoh9PApjP3dMvSwDEpNMUCT0AZOzXx5rqtORKZqkKEO3ObRtB+elnVABYK9vEtVvSLOZ2ChvN+Wd9/QGpu7uMoRCVD3PQc6V5Kmq4dBmohVwjY+XZtflK9+V7643olyJ/AXXVtOZPdzVfAAAAAElFTkSuQmCC'/>"
      ],
      "text/plain": [
       "<IPython.core.display.HTML object>"
      ]
     },
     "metadata": {},
     "output_type": "display_data"
    },
    {
     "data": {
      "text/html": [
       "<img src='data:image/png;base64,iVBORw0KGgoAAAANSUhEUgAAABQAAAAgCAAAAAA3CQdqAAABtklEQVR4nHWSvWtTYRTGf/f0cnNTqalVU1q4hJimkCJ28gNiwSHOru3g0L/A0VEE6VZwcHD2AywUHaSDWIdCHSwoEqz1gxQM8SOBxMbmprm5N+/rcF+xCD7TOT+e83A4HPhHWcD6205ntk5mZ1LLPjYAd15W9LFiferK1Hjr4wrARHF5oIK3i5B44OtKCQTq7aaqvth8CsGj1c5IwaTlt+/eOg/A8P3BGghAUKlvvAKg+xAbbEg5B/3kezNU8zfBhuGL6RPJs19j6P1aBYGONz93+oxxXtrbAYF00rGONGK2dO01IBB8rlmjCw6AN997HMMf5R2QOYCFrDLOyM4guVmAkOSiCb+ntQ6vApS6WveXEKCqoFEGWH/WhTcA3Ay1jivST3ToIsBAQSeGjRvaTiBA3oKmyS/3uYAAQxpzbCCkhADbIfrDHxjhxTCg1TJsSBEiwE9fH582cELRQ4CjrsVlA4s2NgL09hUpYy0IFgI8z73Ttz8BzOZ2D9gzq/j71dgWBe3+txiOOP74uS0mxRlVG7U18zbX21+a38cm3d3ITdSqh35pLJ9prYMdcVgFj//JPQW/AQ7Nm0QePVedAAAAAElFTkSuQmCC'/>"
      ],
      "text/plain": [
       "<IPython.core.display.HTML object>"
      ]
     },
     "metadata": {},
     "output_type": "display_data"
    },
    {
     "data": {
      "text/html": [
       "<img src='data:image/png;base64,iVBORw0KGgoAAAANSUhEUgAAACAAAAAgCAIAAAD8GO2jAAAE3UlEQVR4nE1WW7YjuQ0DQFb39GSPWUGy/U5fSwTyIdl39OHjqmOTIokH+e///NfIAEhYTLQnr9kSxvPn6ythEsfb27btZGzDQJCk6+fTP56nnypRntmvr7XWWtuTJokACACAeB+SAGx/EtiemZkBHE8MhAxDx4YdKUgChDHijKdvbAcAQoBAYu9w71lrJ7gJYM8gTuIdOwkYElMajwYO7Jm19l4z20g6YZwJCCgJMPbae2bWXl9fr+QUBwktAWV7I/bMHgBPPTS87f2FxHvW67XXBlhVfUoCYoBQkmTg05J8ogMgSyQBEpZKAbPHceIYJoAzoLGd05A2YDC3+0ngQYwENzUIhGJJLRE0HUMpeu/1J5N0ECDIxOM49px/tsEkyEmPc+mZjM9PT3coUqxiiQzC0LxAAk50HlDd4wAI00kmcUxSYYIY3jPe47ENoFhCCSpJZBJQQxRVVLGL3ZRhscIoSyfpGTJAgBct9raXvbf3eMYVIKRMBCFBBg5pMOlS6aSRgNFYF+JAmLSDBD5oTRyPZzx79qw1exNUEFWUO6wkE8/ELlWxitKpQNCbS7wzSHwSHCwlH0LNzKwNiWSNZ48pSkhm7/Vae29SIkmCH0R8sxVAT2wcMNKAgzHGsTOTvR0CGWqrtBZNJllrrfWaSXchSJwoiO3x7HjHDIC032i8JAYc37Kc7QnB4Wxvme0QGa+1X6+J03Vveub3z+oZIGnwjjtJrDinXjt7vGdMEKqJHTsg8g7kyd5bp4dVJ8RFNZg4Sd/8yNhI5nAI9Vp/vr7W2hZAVgPAUb3cjgZ7z+/fv/98/e/Xr7/+/vtvSVI9j8ROsPcG2CQFBAT54S6g96wUEgRJiJCO9kpSSYV4EiW5vwEkoKrqOddokkFw4PcNgQQJKQkAeeJ1lYSQRNLPHmsvkxQp8Ij80f8uAQXy+EEAHHLwI0rE51IUVapSVRVAGcykt/d6LSdJmG8XUYWFoki2ColCkpwxOeRbQSmJBB5Vk0VWVZOMQSTZazuGMfZrdrN1WXFLl9SHG0LmXaDIEossgSRDSdV1KyCZY0otyRlP9nU66H2+iQaAR0sBEnWbrS6NlIRglSRVVZ0LOqTennosapych1wyXcA07ksoQDiEpFY9VbvKdlMl8ZZ3D97U+Rj5+Z5/nFtBkhwRIQMI1B3oUzXJ8B0bRwxvGDsDuEVTEaELwvDsAgQQsvOpK6AKgZQDcqnEAH7Dg7kswcdRURQkidIljwCRuvBrOHdsAJFPJ6pUqmgE8RtYsUF/uhDWAVd944fiG68ku6pAFBUwzkxgt/pfv34V+fu3i/V0SbIHAyTYXnslqP7x45mq6qdBqA9PMDMQjl4djREoXpINQIqF6u7uKnZVSwRoH9s1SEpV/fz4WVXdXU/1IUlyPo+49rdFBCTFElLI0JK6fxRKEsM7ghAkKAoF/Pjrp6Q+OapAnuHcHHHz3D130WQiKkSgbvz8eR6ONL11FJKAQ8BDnW493VUA9t7jwRBC7BbyWX5A6LBOZCBUEfFR9m0jIAMSZOGIo1yq7tbzdFUSAvEc40WldZEXhAkJiBglCchUnb12hhMgoEJCEs4eBFbxML9bCDagmJlCz2br4wHRNRKGPAILggNPzrpy3/BsSEiQZQgoookiRVRLKU7VUy7+H+KSsAyQc2RcAAAAAElFTkSuQmCC'/>"
      ],
      "text/plain": [
       "<IPython.core.display.HTML object>"
      ]
     },
     "metadata": {},
     "output_type": "display_data"
    },
    {
     "name": "stdout",
     "output_type": "stream",
     "text": [
      "6 (32, 20, 1)\n"
     ]
    },
    {
     "data": {
      "text/html": [
       "<img src='data:image/png;base64,iVBORw0KGgoAAAANSUhEUgAAABQAAAAgCAAAAAA3CQdqAAABjElEQVR4nJWRT0jTARTHP1u/kiiwZM0tNmFgTIaCZJNYM1iishGCwohkEBJEzEusf0fpmhchqEt16jDoYiBI7BDi5iUEO2zUCsrt0tgWITLZ0r4eGlv9PPVO7314fL9f3rMAQHf5N5wL2J314i/s/FdNLyUOsZikq+H5wtZNAIIjGOABAp1xeB7L2S47wAVsSXqVkSTtS5IwiPYASVdptP4u740CcaAzKS005QdXVZo3ewaldC9Y/4HXYPNLa3IDMCsp0l6xALAm7Z1qko6+i1aA+w0pZHI5nZPemq1tknrM8Ja002zHhnx+rwEktqUXTduXtZONyvoyt58B/VkgcsQ4Vv7YUc5AGFjJAr5Q3fj0+f3PKnCe6kYK4FL/V0vImS4ACB4+BsL7BQdDAwDMSG8Apofbca5LmjJnbEh63ZoMACbvfp8Yr1n093nmbrSVroy4/cBRz5I+PDgDwJM/n8PzaHFX0ibAlCSV7sBTSZLyNkBSvgsMkkXf8bMnvqUrQGpsZ+KHOVnXvQsAB+ZCpMKa0w9sAAAAAElFTkSuQmCC'/>"
      ],
      "text/plain": [
       "<IPython.core.display.HTML object>"
      ]
     },
     "metadata": {},
     "output_type": "display_data"
    },
    {
     "data": {
      "text/html": [
       "<img src='data:image/png;base64,iVBORw0KGgoAAAANSUhEUgAAABQAAAAgCAAAAAA3CQdqAAABsklEQVR4nHWQz0uTcRzHX3v2EGy5UTM1R5AKj+nBjDrYKMewILJRUN08SJcIFTzPk4c8ReHo0D9Q4MGoQ5iI/bgE7RBpJYjLqG3OxpZDmY5nz7N9PGxu84E+p8/7xefz/ry/XxsAHDV18PafOllM6DRzuBwALv5XvvDYYaBC24vTZna946oeXq1BzakcuXhhyMOtN0u5s5onfRuYL4i8/GCISC71ryASR6WnU0VeubcD5ue4dgVyjwEmYztPKmbB5WLioTXHjT39bQso9cw+6MhHUlXpBWB0V2LnrdufpLRUfUBHLwBTuqy3WeZ6f8r2I+tyQORLuau7PkhxueI3nDWU9FcDng2Tmq3AwI7N2MxGmX6ArM0B+O3q7sYf2YiCT0p/wwDBPkP9lo4kATQz9u41cMzXvqWuKkmA7uPm5lOg5dxcyc2Jsvdz+X0NcA001OLMiERqqpyzsXtty3O5ClWAxjsj0t+Ur0Ib4JlWJmIV3XVdO9MEzoHQr1xkEoC+HyKlQgFCiyumSOY+wHsxM9+n7qm4G+wJpyR1IHRJouMLB86t7c0A/o8rd60fCjeDAOwDuyCjHU2pQHEAAAAASUVORK5CYII='/>"
      ],
      "text/plain": [
       "<IPython.core.display.HTML object>"
      ]
     },
     "metadata": {},
     "output_type": "display_data"
    },
    {
     "data": {
      "text/html": [
       "<img src='data:image/png;base64,iVBORw0KGgoAAAANSUhEUgAAABQAAAAgCAAAAAA3CQdqAAACCElEQVR4nGWR20uTcRyHn/f117ZX3TysKcvhRXN4KKmxjLqMTpSCBRp54UXZRdDhogNFBP0F3QQJYSeCpINRjtVFy5CiiGIsI7MVZblRGuudY3PvZu/butiC0s/Vlwe+n4vPIzVYRFo3olTa5Y8UI7YutWl6fBSndS6mFaF0UdE1QzFZq5yoD+7NoGSTGenKw/B7uNzgcComMolULpOekvL+TqCkvsKzpt1tKb7rd7v/9mNZvzf5fMrVyYSJhXHQsYiBXAeA91+2R3Qk/Fm6z6g/k9q7a0mArtMitc4rDJvaYuf38HUA18Hl8mA45yj1nxvLEb+vAvQ0I97WyzPTrxqzhj5yCaB2czU0WC1A10T+zSYADsUyadFaE8lS21JJ/yOA3v0iMC9WT5uztHVWMwRQcqLp8fmUGJ8Uit290jQeBxhulOPhnLgFOO3RyGGAfVuEMWuyCIDvKf8RANYu0SNPzWUCgNYQAGbPh7GBIMgAO5qiAAzYng0GAUH5rhW++ScArm2hF/7CJn0hNXYAgFNDu4s7XZ35pR8D4M6Xk4BnGWYpXSqNbgDouWANnJ1s86nfnNJ02c3jCYCqoFfWorE5VasQR40bIHQg4i5XbLOTn/BIhWb7Rt+qmuTrwMh/rvq0fHbnQoF1OeP2IqtNP74Wjsb2ZkQ6M/byc0TpleNSHujfbsqE/gBGObvkRA1PEwAAAABJRU5ErkJggg=='/>"
      ],
      "text/plain": [
       "<IPython.core.display.HTML object>"
      ]
     },
     "metadata": {},
     "output_type": "display_data"
    },
    {
     "data": {
      "text/html": [
       "<img src='data:image/png;base64,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'/>"
      ],
      "text/plain": [
       "<IPython.core.display.HTML object>"
      ]
     },
     "metadata": {},
     "output_type": "display_data"
    },
    {
     "name": "stdout",
     "output_type": "stream",
     "text": [
      "7 (32, 20, 1)\n"
     ]
    }
   ],
   "source": [
    "grays = img_prepare_all(proc.X)\n",
    "y_inv = invert(10, proc.y)\n",
    "Xb, yb, X_inv = img_select(grays, proc.y, y_inv, 10, augment=None, invert=False)\n",
    "for (a, b, c) in zip(Xb, yb, X_inv):\n",
    "    img_show(a)\n",
    "    img_show(img_rando(a, i=0.0))\n",
    "    img_show(img_rando(a, i=1.0))\n",
    "    img_show(proc.X[c])\n",
    "    print(b, a.shape)"
   ]
  },
  {
   "cell_type": "code",
   "execution_count": 10,
   "metadata": {
    "collapsed": false
   },
   "outputs": [
    {
     "data": {
      "text/html": [
       "<img src='data:image/png;base64,iVBORw0KGgoAAAANSUhEUgAAABQAAAAgCAAAAAA3CQdqAAABkElEQVR4nG2QzUtUYRTGf13HnPGzZuFFyAEZTRdDTESWixJ3LnTXoqULcRFCK9EkEHShuBL8A1rY2ogpqBAJovws1CllGLRkGkXcqDN6wa48Lt57FcaezTnv7z3nPe956OQ/SlymFReZTAhB16snleYQMKGkNdjYdBY//bllYOkJcLv5RXD0dzKb8dorgWhC0lP7WU9bGQDjAB8lKXprVofvav1hgTlJ3+GXlGkBLIChh8A0fIPdPVPXm9iXNAAMbrkzNgDRA0mpAYBhybkDWDRUAa/HAOIQvA9Y1ANvRgBIAzcBCwFvzevXgBLAYg+mZg384V1YpGDb267chWrAIglz3hJrLiT9z//zDT2CsA8fe9C+AbYPqzyYuw6xkDFPTtjAmryUsb3KYKuBkSL4kwN4JOn9A2Ayf7wzP/28HeDestzNLxN3eyRl+6qLTdNLV0aHuQ9tdaURCMBiugmA1OfY+rwTyIIFn7rzAITspVUH98xM/9o/tbIDu2Hn76Vbnto7FpY3KFTjFVKgaH0hOQf49JCLFsznOwAAAABJRU5ErkJggg=='/>"
      ],
      "text/plain": [
       "<IPython.core.display.HTML object>"
      ]
     },
     "metadata": {},
     "output_type": "display_data"
    },
    {
     "data": {
      "text/html": [
       "<img src='data:image/png;base64,iVBORw0KGgoAAAANSUhEUgAAACAAAAAgCAIAAAD8GO2jAAAFWklEQVR4nGVWYcosyQ2TbHfP7IbA3i+H2DPkxktg3/u6y5byo/qbF0hRFD0wuEqWJZv//vNfAEha6rXWve6vu+/WkuUgM/OoyiCNTJ6VJGdGmpmRWm5JMgwAABEkAmQAqNf7DQCGZmh43DUcYUwgIp8VEUAGM4OkARCwibCSJCF8L4Kfs/75xx8ALM9a19eF+DmyxjA5zogj6zzPIzPICGYSNCfVPcFpYmLYIQreIEh+znr//g/YllaVwB7VvaaHBhPFOqvO8zyqKhhBkLYYI+4Ie1kA4H0D438QZJVta9KqI4+j1lHTBxE0z6yz6nXWWXVUfbJPoNO2w7ANGyAk0wD8IACAAsOeJfXMjG0wMqsIBnjU+TrP93mcVRkJG1ibR0SAYRCyw/SO6M/b93fd3d39df1c19X30moZjIxkRbxe5/v1/u31PjIhzwxmCBQr0xFDJoSRIRgwRYAMAoIA1N8/fnT3z58/1nV7BDmAyCTjyDqOs46zjjMjptszAAFGpIFESFqZiBRG4E4M92karr/++s9GoO4wKvKsI7POI86q4zzzKARkjWak8c43CAYQJEmTBg08OOKTIdSPv3/M9HV9aVSRPIiDedRZx1mVdUSE5Z651+o1MyZpE9w0JRjPo/1coEckAFC9ZmZ6SRKCRyKiqs46j8xKBuzuXmtd1zUzdERmBBmBIENkkgHBel4NGbBhwBVMwUQSJILMiIrcO2HPaK37/rqu65KUcRSZ8CYTEYgAngLa8cPfv4F6//Z7dxuc7iQzMzIigpEGrVlr/fy6rq+v+7oAVAHBVEZEbAZIkCJFw4ath2QArPN4BXN6GqRNJjeFgO2eudb6Wtd1X73WNoLMlGXIH7IZu/T9y46eVRWJ8JEHBKg3ObIk2V5332td675mjZogZ2L6kAQEgQD4bRrfqn7ccOsgIx2oKIdkB2lbkmVZa+Zafa++V6s7yIgsf+jcxAGB/1ubEVcwM5wRirDChmSNO2Wpp3vWvdZaS5pkVMqWLBOI5+WGH5ExACMMWDLgOvIIUIds+9tu9bBl2ztey5YRnm2cm6Z4fGEr4cHxBPlG8D7fPf1h1dbjWQYRjCST8TSUx8kCDDIYQSMYJGPfAgIGv6MDrtf5qknA9kx3qz9GQIJRWc8mGEEEtZMTxPb9HTuIJESAsD/9rc7XOROGpFlrufWtuGCwjqP6rPNVsmMecYG7chiECdLc/ha7OoN2wGPbtTP/7F8VTJNkRB3H+X7PBHNmCGTG63VUFhja5SzBjmBkPO+2YT0t8+v6mu7ruq7r6tWyokLcKmJGnS8y4ny9e62M+O11HpUkYN/X6l7dg2c8MDGyLcJBgnSta3X39XXf9+oeQUlGeEYRyciqzErpnJ4g3ucZRPcO3X2vXjNtizR/SfnbDmq6p/te67rvu29bOWkhWBmOdFQGj9jmInl6ujVbI90zPSNJ2s1Cn+j7s7q7u6dX91r3rX2BkRmRYJ7MiGREBGHMBjozq2et1WtNt7o9I40kSL86slEb6cyaXqvXSDGSdzH7oVxGRASt2Yh7rb3Xurvb3RhB8tMFHpXCrv2PjVXzoAUdC0ETVndVRQQJW1pLuwGt+77vjcAjaGBtjdKG9PSDdV8z0700gkwbsGdmxY1lad3XFukujiRgT3f36nt1r+mxRAkwgcAek/aJuq+v8cy0PR87gWWNGkvT3JOfWh3EkRngzGha0+rWfFL/dHvufreraF1f9vZmE04SgQgGDI8GtiR1d/cNYFUFac2TcUnPt7aB7hk5vgfUmhkDtj6MfmqYxu49MzPT3Y3HCWgN7MAvPr/9QAatcHBPN/8Fb90BlNir21sAAAAASUVORK5CYII='/>"
      ],
      "text/plain": [
       "<IPython.core.display.HTML object>"
      ]
     },
     "metadata": {},
     "output_type": "display_data"
    },
    {
     "name": "stdout",
     "output_type": "stream",
     "text": [
      "0 (32, 20, 1)\n"
     ]
    },
    {
     "data": {
      "text/html": [
       "<img src='data:image/png;base64,iVBORw0KGgoAAAANSUhEUgAAABQAAAAgCAAAAAA3CQdqAAABzklEQVR4nFXQ30tTcRjH8ff3u1M7LW22dLbKpsSWbEbNY1Y4BBEjAu1Ogu7tZv+B1/4T0VVdSEFXBZl3gWRCjaIc1gqSM8c2px3a1Ol+fLs45yh+rr68eJ7n+/AIXkwDz3rGSC2nusKba76DkkZ6GtLfrJHCSvq9bzjvrTcswcQ7wcKj7aGiCXiuBXSfpZGHSmabTwA0M5GgKklWf7PwBSeiC6zrEkrW9+cuqg1/W0+H4N7bnVCFo4xHRmSsj5xtHWEArNGE/KBPxewSoxuA7ugl6X/zugVAMGE3XNnya2TtuocPGosA5O6iOeMH51myAGgH6cybh/5eAEp7Lt6MghYAoLzuYmwD9ocA+Nvu4HDiIlT/2R+dRRICYknA6wEg3kTSCZwCqAkACgLJPrAF0DLt6x0gOQGsVIHoBADFGqgIQEYppZS9iaVkcRPgZR14auMSzNqvzrmke1Djleb0lGddk/KXnJvheFo7XsnUMToDoiwUj58cmRjQT+shDeJXfxziDSNY3W1q0Dvu/+MLhH+uAhcC/fndrIaZrsRvD45dNie/nu+rN4v6uYpILa9XjeTofcgs3jr52dRVo03msuXax7U9IDhwx/AUig3Ef7CAm4/GLbUnAAAAAElFTkSuQmCC'/>"
      ],
      "text/plain": [
       "<IPython.core.display.HTML object>"
      ]
     },
     "metadata": {},
     "output_type": "display_data"
    },
    {
     "data": {
      "text/html": [
       "<img src='data:image/png;base64,iVBORw0KGgoAAAANSUhEUgAAACAAAAAgCAIAAAD8GO2jAAAFWklEQVR4nGVWYcosyQ2TbHfP7IbA3i+H2DPkxktg3/u6y5byo/qbF0hRFD0wuEqWJZv//vNfAEha6rXWve6vu+/WkuUgM/OoyiCNTJ6VJGdGmpmRWm5JMgwAABEkAmQAqNf7DQCGZmh43DUcYUwgIp8VEUAGM4OkARCwibCSJCF8L4Kfs/75xx8ALM9a19eF+DmyxjA5zogj6zzPIzPICGYSNCfVPcFpYmLYIQreIEh+znr//g/YllaVwB7VvaaHBhPFOqvO8zyqKhhBkLYYI+4Ie1kA4H0D438QZJVta9KqI4+j1lHTBxE0z6yz6nXWWXVUfbJPoNO2w7ANGyAk0wD8IACAAsOeJfXMjG0wMqsIBnjU+TrP93mcVRkJG1ibR0SAYRCyw/SO6M/b93fd3d39df1c19X30moZjIxkRbxe5/v1/u31PjIhzwxmCBQr0xFDJoSRIRgwRYAMAoIA1N8/fnT3z58/1nV7BDmAyCTjyDqOs46zjjMjptszAAFGpIFESFqZiBRG4E4M92karr/++s9GoO4wKvKsI7POI86q4zzzKARkjWak8c43CAYQJEmTBg08OOKTIdSPv3/M9HV9aVSRPIiDedRZx1mVdUSE5Z651+o1MyZpE9w0JRjPo/1coEckAFC9ZmZ6SRKCRyKiqs46j8xKBuzuXmtd1zUzdERmBBmBIENkkgHBel4NGbBhwBVMwUQSJILMiIrcO2HPaK37/rqu65KUcRSZ8CYTEYgAngLa8cPfv4F6//Z7dxuc7iQzMzIigpEGrVlr/fy6rq+v+7oAVAHBVEZEbAZIkCJFw4ath2QArPN4BXN6GqRNJjeFgO2eudb6Wtd1X73WNoLMlGXIH7IZu/T9y46eVRWJ8JEHBKg3ObIk2V5332td675mjZogZ2L6kAQEgQD4bRrfqn7ccOsgIx2oKIdkB2lbkmVZa+Zafa++V6s7yIgsf+jcxAGB/1ubEVcwM5wRirDChmSNO2Wpp3vWvdZaS5pkVMqWLBOI5+WGH5ExACMMWDLgOvIIUIds+9tu9bBl2ztey5YRnm2cm6Z4fGEr4cHxBPlG8D7fPf1h1dbjWQYRjCST8TSUx8kCDDIYQSMYJGPfAgIGv6MDrtf5qknA9kx3qz9GQIJRWc8mGEEEtZMTxPb9HTuIJESAsD/9rc7XOROGpFlrufWtuGCwjqP6rPNVsmMecYG7chiECdLc/ha7OoN2wGPbtTP/7F8VTJNkRB3H+X7PBHNmCGTG63VUFhja5SzBjmBkPO+2YT0t8+v6mu7ruq7r6tWyokLcKmJGnS8y4ny9e62M+O11HpUkYN/X6l7dg2c8MDGyLcJBgnSta3X39XXf9+oeQUlGeEYRyciqzErpnJ4g3ucZRPcO3X2vXjNtizR/SfnbDmq6p/te67rvu29bOWkhWBmOdFQGj9jmInl6ujVbI90zPSNJ2s1Cn+j7s7q7u6dX91r3rX2BkRmRYJ7MiGREBGHMBjozq2et1WtNt7o9I40kSL86slEb6cyaXqvXSDGSdzH7oVxGRASt2Yh7rb3Xurvb3RhB8tMFHpXCrv2PjVXzoAUdC0ETVndVRQQJW1pLuwGt+77vjcAjaGBtjdKG9PSDdV8z0700gkwbsGdmxY1lad3XFukujiRgT3f36nt1r+mxRAkwgcAek/aJuq+v8cy0PR87gWWNGkvT3JOfWh3EkRngzGha0+rWfFL/dHvufreraF1f9vZmE04SgQgGDI8GtiR1d/cNYFUFac2TcUnPt7aB7hk5vgfUmhkDtj6MfmqYxu49MzPT3Y3HCWgN7MAvPr/9QAatcHBPN/8Fb90BlNir21sAAAAASUVORK5CYII='/>"
      ],
      "text/plain": [
       "<IPython.core.display.HTML object>"
      ]
     },
     "metadata": {},
     "output_type": "display_data"
    },
    {
     "name": "stdout",
     "output_type": "stream",
     "text": [
      "0 (32, 20, 1)\n"
     ]
    },
    {
     "data": {
      "text/html": [
       "<img src='data:image/png;base64,iVBORw0KGgoAAAANSUhEUgAAABQAAAAgCAAAAAA3CQdqAAABzElEQVR4nGXPT0iTcRzH8ffz9CvZxmbbLPcEslU2GGQH+0OM0LB/hwoEiSCsQwdDIgUhoh06VOxUN08RXTwEO0hoYVFZ7rCVXVphspYTdaiQNjdS6nk2fx3cfDb6nL68+P2+f5THjt2H+LmDUuYtdpEROWuhGO13ddjiq7ktc5Fd6Vgiqlxqt6+HEuWHYZ9bGepXR2R9atMI3Xs1MYnIztasYCb78huopP8YFbi8DKgk1goVaHTeAUG2prYCD7QKEOQDLcNxtocCQvccmVv4dBfAK+XHy25DltIFqJxi4WFEiZf/S0AwNfBskL9XOsX4dH3zTVsdACd7KuY8evvgLCi0WZ+baGk7p8VmwUlVhqTxRqXJU4VWRE698O51FXohrR778UKD5l4jecsG0AcO0cPVtUl/a0D4L05HADuMIaXMz28ccx8gLGOogK7xC0AD0NYHETNfP+ie34VeN5+HgYadmTFo37sV2DcgjfMALdEJ7+YmdaM3ADg9Mg6ihEvXUhuFI8l/0fyl4rhpQQBUaDhqYqo8IjzVXTbf7etOQOlq7NizejDp2rboC56wBC3vR79klCeH98NTZ2NRd9baAb7ni8KlA2dcZls//AM18qD6yFBZKQAAAABJRU5ErkJggg=='/>"
      ],
      "text/plain": [
       "<IPython.core.display.HTML object>"
      ]
     },
     "metadata": {},
     "output_type": "display_data"
    },
    {
     "data": {
      "text/html": [
       "<img src='data:image/png;base64,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'/>"
      ],
      "text/plain": [
       "<IPython.core.display.HTML object>"
      ]
     },
     "metadata": {},
     "output_type": "display_data"
    },
    {
     "name": "stdout",
     "output_type": "stream",
     "text": [
      "5 (32, 20, 1)\n"
     ]
    },
    {
     "data": {
      "text/html": [
       "<img src='data:image/png;base64,iVBORw0KGgoAAAANSUhEUgAAABQAAAAgCAAAAAA3CQdqAAABkUlEQVR4nI2RT0jTcRiHn/32ZUyWMmW5UaxATHGXRAz/lJ1EGl7UQ0J46dLRFETw2DlPHWIevYSKEIkWJShOpcIYMhVT6qA4JGQia/zWlPbpsJq5k8/lhefyeeCFy+IA4Ik/cnbtnjbL3wLcAiCwo6XZbeXip9UAM9QCnZJ9JCmtBnCOyboDXIESH+ChCrz1WCHguDDRAslhTArwAx/TFXtrRIFV+AzwLPJf0EuRK46clqyxYrkB1i+gd23wXL6ZOjF7UP482HjjnWm6vrQVg/XHTeY3PAhCt9Pd6kmXxQB7kVFKopJ0kJSymQEngBUl8x04+fIVXO7u+wBmBp52eZmc9wbsXKWvsjB41ZW/WWkBwAI4Os3LQ4gX5D9ekZgDei5IF8srwMgF2U4iA9Qa4KbjZxKg4TYpgFITNqE6n2v2BTT3QwJww+HCgSSNE3gtaQh4KKT4N0nayUhSB9xNCm200ak8kUeYqCTz4f0y86kygP0fBk05W3HU7AJ9I59sb2J3wgY6wuG/hUEwxX+5DH8AHeSifSdRkKMAAAAASUVORK5CYII='/>"
      ],
      "text/plain": [
       "<IPython.core.display.HTML object>"
      ]
     },
     "metadata": {},
     "output_type": "display_data"
    },
    {
     "data": {
      "text/html": [
       "<img src='data:image/png;base64,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'/>"
      ],
      "text/plain": [
       "<IPython.core.display.HTML object>"
      ]
     },
     "metadata": {},
     "output_type": "display_data"
    },
    {
     "name": "stdout",
     "output_type": "stream",
     "text": [
      "5 (32, 20, 1)\n"
     ]
    },
    {
     "data": {
      "text/html": [
       "<img src='data:image/png;base64,iVBORw0KGgoAAAANSUhEUgAAABQAAAAgCAAAAAA3CQdqAAABu0lEQVR4nF3Sz0/PcRwH8Mf30+err2+m4VvxjfyYsb4rhk1D6saGrc3NkY2tOZhzBwezmYu52vwLKTrIZjEOmJa0xrBhhRLFd199a8Xb4ZtMr+Njz8PrV8L/1Vg9M/YjXoLl6WTxV2IJqskVigmc75gbeTTwtWW8+x1I40wIIYTh2RDCQjpiFi5ff4IuUEd5bwjhCvUhhB5QzakQnlyC4RCugqrYrMGLL6E7Z7zsF+YjmxRXLYNxsof3IRGpG91w8gBM0lDbiGTs0Hq1PbCM5Ns+lEUyv9kMu1kzCcnIq15y0EI6Bcsjn/N5QzDC0zFYF5uuvFM+Aau5/wFWR+7tz/Qeaaem6e+iXuJ4x83wmLYQQj04GNOpX4rKhQwbY2g9+4LC4p4zMRQGppnhA8jVxNDcVr7zdtrEadi0/XcMj7LHmr6lht48hD21qdI1b6X3bJvvf105g6qoWMKZuV2FT6OjP2HLiBhWXDiX1HdtEFQU8zEahmC0ZAof52HrjRBCOLrQZd3a5tKHNO7d8aCzZJuzE1WJE13FxVG0Vsy3t3YOR5nqfyakqqceP3sev/8CVubh4/fs3YqnU38A+EqbbjwZ9YkAAAAASUVORK5CYII='/>"
      ],
      "text/plain": [
       "<IPython.core.display.HTML object>"
      ]
     },
     "metadata": {},
     "output_type": "display_data"
    },
    {
     "data": {
      "text/html": [
       "<img src='data:image/png;base64,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'/>"
      ],
      "text/plain": [
       "<IPython.core.display.HTML object>"
      ]
     },
     "metadata": {},
     "output_type": "display_data"
    },
    {
     "name": "stdout",
     "output_type": "stream",
     "text": [
      "9 (32, 20, 1)\n"
     ]
    },
    {
     "data": {
      "text/html": [
       "<img src='data:image/png;base64,iVBORw0KGgoAAAANSUhEUgAAABQAAAAgCAAAAAA3CQdqAAABqUlEQVR4nE3Q3WvNARgH8M9+O8fLjDSsps2ZUJiSUTTLyxW5cuFGyIUbt5Q/APkPcCPlSpFY4YbSihqat7ys4+UYWrOzYeacbW1zHhfnHDyXn/p++/bU3G8eWV3PYGFy+sfQ5UcjkCqlN9agCYwOljFdmM4+bG6al5mF9q9TryC6Gv29MxEvWhYSp/+ZVEQcXFWb8uw/nFneVVzqd+I62Lsf/FS/bpwAi6eG9kDb69Lb9iruizgPdnyJQ5JyWS3LQPeABVX8TmXZqKYqbmUDSO+SSPKgRA7sYkpSTj3nCqjjVzU+mxEw8cn7Kmbl+2HR2IwCj8t64SRYfyDiLB9Xgi2d4OJYxDGi+2oD5rTAiojo7SAi7uHIFlgTEYdTEuxcRq4AbeQezHAu4uLff96M+InkCZsbqljHbSQDtB2vYu+kLiR9FDetruDIcHl3Q7HnaIVWnpqIOAadU5cq1vEyIuIGUifS+Qpuq8kNz2+9hdTTzdnM50Br5nnftf7fM6hh9/ZMS3NpNJu/e2e6nEnh3Zu1S/KlHx/6KibF3Pc9C4qTjXML3+rGy/gH1mWos0UrYfIAAAAASUVORK5CYII='/>"
      ],
      "text/plain": [
       "<IPython.core.display.HTML object>"
      ]
     },
     "metadata": {},
     "output_type": "display_data"
    },
    {
     "data": {
      "text/html": [
       "<img src='data:image/png;base64,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'/>"
      ],
      "text/plain": [
       "<IPython.core.display.HTML object>"
      ]
     },
     "metadata": {},
     "output_type": "display_data"
    },
    {
     "name": "stdout",
     "output_type": "stream",
     "text": [
      "9 (32, 20, 1)\n"
     ]
    },
    {
     "data": {
      "text/html": [
       "<img src='data:image/png;base64,iVBORw0KGgoAAAANSUhEUgAAABQAAAAgCAAAAAA3CQdqAAAB3ElEQVR4nGWSTUjTARjGf/v7b66cGiswax9EubbMPiTwUKNDURoVRJbkoY+DYFKHsEsp5DEPkhBCUQcPQZSHEiw1SMKM/AqtZiV1aGvZ1jAiauL8eDqM8Ou5Pb/D8z7wvHSxWJ3ixBJYOonVszPPbwXH9nNS714An5msqCE2NDoV/pYGrqLuKfhogfofazNt5syvt874QN/8nJqkJHWkjNPAcXJr1vGDy4DwbCmbSiBiYSyX0a/TOfaYEdrlBvoqh0FSqGoVAIclaSwd6Ndg/v/ofZKqgNpXTc65g3f1YT8Y1z5FI3NwKLrxPBjTg4551RpOdzvAwG4FyA4EvABP++0eIPgToOl95D4A19UISMATSQIgIa2HW38ASRoHQJpYAWcugi0oDQNg+65KoPN3AWdbH1XnAOzu0d9CTHIzm9u3hUbaYkBGyxqCs8Ce9p5g26UNAJRLiWOAQX6v6typ7sXP4sUAtacapPABAG9LRLqCr9r0vzCg9TVQdxVAbC43b67O+5K8AOB7Ew1ZXV2W8ctQFuxYMHuGC+B2xeJ3AA4tIQYUHF1AVh5Js+AfsTwow1/o2fEykW01S4p4jvOxpBv3IkopLilo1qdPLJ9858macdO8LnCncYv388N/q47D1givCKMAAAAASUVORK5CYII='/>"
      ],
      "text/plain": [
       "<IPython.core.display.HTML object>"
      ]
     },
     "metadata": {},
     "output_type": "display_data"
    },
    {
     "data": {
      "text/html": [
       "<img src='data:image/png;base64,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'/>"
      ],
      "text/plain": [
       "<IPython.core.display.HTML object>"
      ]
     },
     "metadata": {},
     "output_type": "display_data"
    },
    {
     "name": "stdout",
     "output_type": "stream",
     "text": [
      "2 (32, 20, 1)\n"
     ]
    },
    {
     "data": {
      "text/html": [
       "<img src='data:image/png;base64,iVBORw0KGgoAAAANSUhEUgAAABQAAAAgCAAAAAA3CQdqAAABmklEQVR4nJWRT0jTYRjHP79fazawTVTIwDA8JTbw32BgHkREIYRIhsMYJYVQlxjIQEQPXgQZiEEg6EEQzD/gaVAoamBRBymrIUjhUFCRDhIl06l8Pfx+00knP5f3y+d5H3ie9zX442Z+bqewyQ8As+0bOFjzcbXMuRf99ztuep8VJSs3MKz6lRPrxF+bertqDIS5wOPsw31D3niGuua7kXeQNFkemo7etF3ubsn30pwpQhea66Gg5hYe/qPBCE4AUOQ5dJlfLCkeAPRIkjQJwCsBMCabOoAPAri7n5YvARpFDCq2tBSub3m9KN0HXGISqpMnzwHapE9VgOgCn3ZMgFLpOAqMIPDoIQCtksbtoQjIAUCnNHMHgBi8WAfgtqQIQJRBwCovS4MA9PMuvXHzT/2y0iOHw3bBNzBlxa+QBUBIUqoWwFtWnm6uSujv2duZ6TA0fN0KTuzfLL+3mUic3zT6I1D8MX92IbX9PvD025xrlF4UhG5lEHB3oB94jjLlqD+M+uCJdLy1MvZ5d3s11gmwDuA8G+JyZJ0C3cK63nPXEiQAAAAASUVORK5CYII='/>"
      ],
      "text/plain": [
       "<IPython.core.display.HTML object>"
      ]
     },
     "metadata": {},
     "output_type": "display_data"
    },
    {
     "data": {
      "text/html": [
       "<img src='data:image/png;base64,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'/>"
      ],
      "text/plain": [
       "<IPython.core.display.HTML object>"
      ]
     },
     "metadata": {},
     "output_type": "display_data"
    },
    {
     "name": "stdout",
     "output_type": "stream",
     "text": [
      "2 (32, 20, 1)\n"
     ]
    },
    {
     "data": {
      "text/html": [
       "<img src='data:image/png;base64,iVBORw0KGgoAAAANSUhEUgAAABQAAAAgCAAAAAA3CQdqAAACD0lEQVR4nJXOz0uTcQDH8ffz3Xe/nFuPW1uaTjcFU8NohlaQoUs72F9gCFGnoFNg/4IQdYgOUVIRBNElKLDIsBCiZFK4NGfhr9bKqVPaD7d0z9zTQU916n3+fOClAPYMpnwg35M2mz7GN1Y05IUnJU1v9Naqw2XtMaPa9H32fSEmTfbKspZ4+5Hx8EJ42RkIVv/+GZO3y70bHt+Bb9cAGE13eDcQGDrNakP5TXa6t6A6EFiPNTnc6Rg8fNQGaJ4MkpT70MgvIzT20auAoyaDwKVZms/EwQCUQN/qFIKisb5RNcDnKGwSrDCrCKo9MjKWBHwWpXh+GJcfwX5zZGQqUAVsQVyi1iJYj65XBs9d3hG9vJjw1yFZXqSrm6+7zjul12vsgkZLYiv9aZCTtwZOAfd1IaEtERp84YEJXZ/rBjJjDoG61zv3ahVs4OoHjCYhaM4iwsBjUGuA6HhSELBV9LQYIAT0A9oPBJEF6g4KeP6B7BBcVTS7ZCB0Yp+lfhpaAZze4XBOwuulo10d0zvMzt7J0dS2AJwVK9ZLQBnBs5trlpxduaJZGzKzrnbtba1/qPp4brGQmFT0jJ54OuM/3VoUJK1mdF17puj8lb52QxK1qRIIyYKS+pKbfzfzz+x/UwBK91h9JcUCms28tGlZXJIP7kZN7rzNmV/LbhdShqzNlEROTmSZB8P27tWq6/wB8l7AOkUsvuYAAAAASUVORK5CYII='/>"
      ],
      "text/plain": [
       "<IPython.core.display.HTML object>"
      ]
     },
     "metadata": {},
     "output_type": "display_data"
    },
    {
     "data": {
      "text/html": [
       "<img src='data:image/png;base64,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'/>"
      ],
      "text/plain": [
       "<IPython.core.display.HTML object>"
      ]
     },
     "metadata": {},
     "output_type": "display_data"
    },
    {
     "name": "stdout",
     "output_type": "stream",
     "text": [
      "8 (32, 20, 1)\n"
     ]
    },
    {
     "data": {
      "text/html": [
       "<img src='data:image/png;base64,iVBORw0KGgoAAAANSUhEUgAAABQAAAAgCAAAAAA3CQdqAAABQUlEQVR4nK2QMUtCYRSGH++9ZplZaIhYoCFRINGSRnO0BEEQuTU1ttdUSyLRL2iJaI2IoP5BEQ1FEEG4RISCEmVDCEH5Ntx71bKxdznne773fOd8h5hpMZViiIaMtB39tCppAFD7AWvGnJPN3kjSAUAHcqCUy0laBgIu3FAWeFYBMF14IoBRCYi68NqO2m4t31MRIA/gdeGStE4qAcBwo/uFJF0CMN6Ap5+SVAEIe+Sx4ebrlzeb4XARcJ0zCwD7coZwPnQMQFHzgL0QMk6yRaIJa9iLGUAtw7uPyQd9TbgKHKlkn9YAeJDK52dqWNIA0RdJ2gHAYjeftG9XIsT5F3naUWza0xs0xiaoT46UBuOm61Sbs/5oQbnf4q5wf6Xup3qlp1qOhLA6osFfVt9fzRMWhD/eg8ab2RUKmJ3+2yqY31s0etUufylwAAAAAElFTkSuQmCC'/>"
      ],
      "text/plain": [
       "<IPython.core.display.HTML object>"
      ]
     },
     "metadata": {},
     "output_type": "display_data"
    },
    {
     "data": {
      "text/html": [
       "<img src='data:image/png;base64,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'/>"
      ],
      "text/plain": [
       "<IPython.core.display.HTML object>"
      ]
     },
     "metadata": {},
     "output_type": "display_data"
    },
    {
     "name": "stdout",
     "output_type": "stream",
     "text": [
      "8 (32, 20, 1)\n"
     ]
    },
    {
     "data": {
      "text/html": [
       "<img src='data:image/png;base64,iVBORw0KGgoAAAANSUhEUgAAABQAAAAgCAAAAAA3CQdqAAABpUlEQVR4nGWQTUhUcRTFf755PnnPkYgSNAahFlqiQUmFGm5EhRiCCgwX7WJo586Ne3ERblxluAgFpUTcFYWIIohgkdGQzTigOPY55gfhG8zxtHj/yY/O5t77457L5fBCikJRKxCdiN241ghwUyMWAHjTij+oLwCs2fcr5wMYusrOzzkB4N7F6PTIEwAcjqqj9NhI+Vlo9v07+bkto6QkDUhSLQDhyi5JKUmrkv4A1qHfeqWslAj6PDyYwYe0gYUTAS3D2yQHgO1uOT8ak4CH4+AGm/6b7GQSIAs5Xhv73GrgP4XEjoHWtwoAtimwOQhu8uXpGABLyZL1io/mlzpTLyW2Fr9WAgxQNtkdwB5J6gMygjOpD9cB9iXpGU5cstkovjBflYAQkBqlaDjsA5LuA0t7yj02OVAPfAbWCv3vm//y6dQQQJ+kd+F8SuPpTwDngF+/DSyJRHYBXEj3529abWQAmiFy+zD0qAt4y5IWXINij563w61FSdKVwP7wXqipGmKXAWjB6xjqt9O9U9k4vCweHG2tmX7LbmJtnf/VhH0SXWzY4C/m26k1SX4IvQAAAABJRU5ErkJggg=='/>"
      ],
      "text/plain": [
       "<IPython.core.display.HTML object>"
      ]
     },
     "metadata": {},
     "output_type": "display_data"
    },
    {
     "data": {
      "text/html": [
       "<img src='data:image/png;base64,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'/>"
      ],
      "text/plain": [
       "<IPython.core.display.HTML object>"
      ]
     },
     "metadata": {},
     "output_type": "display_data"
    },
    {
     "name": "stdout",
     "output_type": "stream",
     "text": [
      "1 (32, 20, 1)\n"
     ]
    },
    {
     "data": {
      "text/html": [
       "<img src='data:image/png;base64,iVBORw0KGgoAAAANSUhEUgAAABQAAAAgCAAAAAA3CQdqAAAB1ElEQVR4nF2QX0iTcRSGn319fNZazDIolFmBKxspBIsihyRSOaMikYTINFq7qQsDMaGGVw5G5IUFEaYSFUJlBOUISurKQVgXllDswuyqfyQztNLF28VvE+pcHF4ezuGc93UBtK5L4B39vg+AhqzHBlgdaH13/EEcACbWWrY3A4tW00wlcYBwdWoiyAU4MXpFkoaAUkmdoHT97XlJ0sIh6JfUvQEp5qu9GoHgToChWbVtZv8u/qndgyEX/9Wq+A4qbNHr3Pt57usZA7ceeGyvcOnzxb4v2WIwS/5kcrrETnTyvKykP7/eUlY14xgZOD83YtSk/jQ0WSHAv8brzk0WYnUV2R+BGm8V8wYWQ2WptRGwmeb10leLYwSBVwvSHUMkPXKzkppbkiQDP0lFAEQlacDAS7HlwC+AyJzCBvoBrIJB4MaHnCFs004DjAcyABS0ZZ95jvINgB8yRiNT6hv4jU4Ce5auPxzefuq6zXsgBG8BKA87b+567JExoBxMIMccutz1JAFeSBUA1BkfqlsG4+rOGc9IeskRgPi1fBrtT2Kb1hvZWJuHPgALfLAlCDjAwea9AM1SR+HZ+9HL0uTT9OzUTYcWUlLKV92TljR8eFsiCjT+BRDRttRp7Z0WAAAAAElFTkSuQmCC'/>"
      ],
      "text/plain": [
       "<IPython.core.display.HTML object>"
      ]
     },
     "metadata": {},
     "output_type": "display_data"
    },
    {
     "data": {
      "text/html": [
       "<img src='data:image/png;base64,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'/>"
      ],
      "text/plain": [
       "<IPython.core.display.HTML object>"
      ]
     },
     "metadata": {},
     "output_type": "display_data"
    },
    {
     "name": "stdout",
     "output_type": "stream",
     "text": [
      "1 (32, 20, 1)\n"
     ]
    },
    {
     "data": {
      "text/html": [
       "<img src='data:image/png;base64,iVBORw0KGgoAAAANSUhEUgAAABQAAAAgCAAAAAA3CQdqAAABxElEQVR4nG3QP2hTURTH8e+7ec0zBkvlGRr7V9vaGEyJBJt2CIiTIuoYEEGjuLqKY3AQdHNyUFD6qIuoFAdFikIyOFQomhocSiJpk4o2sSFES5/xOLyXEv+c5XA/51zu5QfgiV4REZGfIlKxzo4DJNOR+LUUADfWH08AGqR9zxbDb+koHb6Xcs0/DJ0jlx7VO8CzcySoEwuFOyw2VmZVY2/m0+zyuVDjQNHKloGeE6a70BIRkVLX9o0h4LaIiMhJRxQXCneD/StP5hdrG+Vj7dfHPJfz1vqdV79GL06d7i/Ws2+AoyIPDk0BcH5OpHQTFLlv2JUGADPzMGiComYwGXe//wKaS6DgA9HpMw5OwqYFCvKQGHGwGzJV0MEL4ZaDITA1QcEm6MZBgB0pMMSZzyyv5m8BsXsictXJk5db0cPJ90/N4+NAzcU1PaAPW2vZBQ0qBRcz3tfxhNT7UnsqfVXbRft5JHBqyO6Cj3NL+e304ved6K6751GAfbMiIvKuvZRwWrr4deHhdBuT/FvK/g8yYEZ8f5uuV6tBfSvg9+4v5gB8P0DzNwF6BgqG8Vl1b+webq30apia7ea+qzHh/6IGVe9vSPmoeDT2G50AAAAASUVORK5CYII='/>"
      ],
      "text/plain": [
       "<IPython.core.display.HTML object>"
      ]
     },
     "metadata": {},
     "output_type": "display_data"
    },
    {
     "data": {
      "text/html": [
       "<img src='data:image/png;base64,iVBORw0KGgoAAAANSUhEUgAAACAAAAAgCAIAAAD8GO2jAAAFe0lEQVR4nFVWQZLdyg0DSLbezPxUDpVFdrn/LVKxPfY8qZtAFq0Zf/dGJVWpSYIASP7nX/9GWLBxH1NjjJfH4ziOGpWVOUYxbUlea3U3EQu2Peeca605ey33khtWgqRF264ImAzQgEnCJqqqxsgqgBY0+6l1XfNac66pduVRoxiQpKU1tXpJq4IwRJEAQLIYBLBfDSJsIiIigiRJ25LW0lprrnWe15zrGKouhuVeU2stuSUpMknAtkkCqPtmfD4NE9y3f4FmCJYNG7Ct1dNwBA3LQEQgI2jL8NePnwHg3x9s21mVVcGQYRsESAQjYtQggyRIMoldZANJ6DyfNhj3TSRL9u8ABigbFZERDIZtI6pCiAxJliW1re5u27DVMiwYDO9K+ZlteVdNGMZOC4AVcEQwMiLqOKqGCTJ66tfz43k+n8+n17WDkGQEAczfqd4QTTVp7ABAZT0ex1rz44kakRXH43E83l7f/jqOxziO53nx2/fxUbbXtezlfdDujgigLX92TLVWMzarGBG2TY2R49jJRySl7l5L4cV2RzFG1THGkUaqZW3wjK/+0oAA1OpJmSQZNiIo63iMl5cHCRAMyn1ez3NN8Gl4tQRk5fHyiOTm71xtUPoDogBqzpNkVZGbggEhs8YYDO5+rta1nrMtiRGRRTCTL4/Hyui5gpfRckP+vN+7yzXnzAwSmbEpupkKMFgOqZdmn/P6OK9uMVhjPMYjM6sqg4sBa3Vy/hYAcYumbNm2aQOgLVC2dk/QsNDd5/P68f4+52RwjOOvt7/e3l5rjKqEe61b9V+a/RJoFeNmJwmCYZKSElEsU6SkvuY8n89rXgivnptsPAo0aEJUUw7d6O90iSySDEYGE/yM1N0SiIhEdmQmSVmCbIcaVCQjGEEuSN6WhT9PAJUZEUyaQNABA5hrLgk7dGYqMyMzEmk7iExkMm5jgy1JLW2PgP+m5MfLQTq+3AXoboK2ZSEiMhN5vByvry+x0lZVPh6PY9QYw61b+zYBSbRhBAjARD0eD0AkttZgd/cm6FLv+or58vr6T/d5nQaOcfzj7e3t8TqqlhdxQ0SwJRqxFQSQqj0WSGyPtM2I85wf48kxjkBWFOs1XiPw6JcIHmMc4/E4Hpb2wNFUT/VSOGgQBAwIZgUL/KoAyCApuXv1utSRdVRFRo7BVoOsrMEiKUDqVgMOMsmW4NhmSgTpSoYDN44wvD3DUz17DYlwFsfxYD4MtKSl9LZurdVrrTnXea11rqoyYCNuvFmwYXwaNQWYsN1rXfPKGVGIg8VRORgswGVdmnPOec051+xesvZs8EZ/+zPpMj7hiq1xAmjJ14VApLMwVgHODGYCELvPnnN+/Do/Pp7XeUkKsnJYZtys2s5akvjVlYABy1OLDaEjMcZYa9mIyMxq9Vp9nuevn79+fH//9fPndV66GtrC8m103pmz/GXiNrzHPtSS2+hIVlUdx8s5H0fbuOb8+f7x6/3n928/vv3v+/PjQ2u5QdHmqIHb5mCDRAFoiyARaDuMIG11n+qWu33Nnqvf339Fxmpd5/r48fP7tx/v7z/nOWkGgjYkZ2z898xhoOacJkhGRERSG66oKAcgPp/nec3/fvtOBBmytRqyum1UDjYhG2J4zdMw4/a0CNTuLrm7f5cGgkjI2p7bkiXf+gQQew80uddBAiZI0yQYvvkS9+L1+aMBQPLd9ts+TCCRQRoUQDt8b2g38wiCJiOTYVCEg9y0/mM+3KFk/y0qCTD22up7l7sXThLMu8Mkq8IQP9fCYBRJ0AC95QDaaPXOzLxlb+7JR4OEbwOjSQT2dkeQGaFg7NLsAIufu+rvQoDM/NKfYe+V05ZlMhnw5gXt2122gUbusN63k/w/FvekLGO6zVMAAAAASUVORK5CYII='/>"
      ],
      "text/plain": [
       "<IPython.core.display.HTML object>"
      ]
     },
     "metadata": {},
     "output_type": "display_data"
    },
    {
     "name": "stdout",
     "output_type": "stream",
     "text": [
      "6 (32, 20, 1)\n"
     ]
    },
    {
     "data": {
      "text/html": [
       "<img src='data:image/png;base64,iVBORw0KGgoAAAANSUhEUgAAABQAAAAgCAAAAAA3CQdqAAABwklEQVR4nF2RQUiTYRjHf++31302lvnJtGRuSrooxFYYoun0IBUFCgOpiyB491JBNyPo0K2LFw9dIqjoGkZQQWKywqmYhRU1lyE15xI31xTd02H7yPWc/s/vfX88L++DfLnAf+VUMnQfgKOhdt/NKBAONiBnAWi8915kb6TGdyv+YVuzCXgzrWELjDtHvtdMLSnNIvgH00ELIBKZHgc0wA95kc7Kanzm11YeQInaN7d/ID35GJQ8WnY03Z4tUmHh4ddzmrvvuk6u2Fcn23P1xy6V6lTXJQK9IcTuvXYIvbShf/zp6OFi3LDhdRHZugxA656BD4A2wDUCQNgw6AJgCWAVgOMYFJwUwB8AdwCDGAATAPMAGQf21zEm8gQA32tBYocAaL7RUzi9JoJkT5cuo3Mioz8lpBT2XUSPeTylMAPKM3DqzbPkPuhvq8P5IPvx35IDo8O9Jnqn7MCJ88+LzPUZotMpgwhcfdVdfCzgrOxU9LeYVxodtj8zl1hZV7jdHaEzwQqA5OJcNFbmjiuAKlewpTy/s5n9uQ65g0nwmrZaqytrq6lqthRD+djaWgqgPIe5DaCs32BY2vQ2fHurdwvKX5kqlJicKd79AAAAAElFTkSuQmCC'/>"
      ],
      "text/plain": [
       "<IPython.core.display.HTML object>"
      ]
     },
     "metadata": {},
     "output_type": "display_data"
    },
    {
     "data": {
      "text/html": [
       "<img src='data:image/png;base64,iVBORw0KGgoAAAANSUhEUgAAACAAAAAgCAIAAAD8GO2jAAAFe0lEQVR4nFVWQZLdyg0DSLbezPxUDpVFdrn/LVKxPfY8qZtAFq0Zf/dGJVWpSYIASP7nX/9GWLBxH1NjjJfH4ziOGpWVOUYxbUlea3U3EQu2Peeca605ey33khtWgqRF264ImAzQgEnCJqqqxsgqgBY0+6l1XfNac66pduVRoxiQpKU1tXpJq4IwRJEAQLIYBLBfDSJsIiIigiRJ25LW0lprrnWe15zrGKouhuVeU2stuSUpMknAtkkCqPtmfD4NE9y3f4FmCJYNG7Ct1dNwBA3LQEQgI2jL8NePnwHg3x9s21mVVcGQYRsESAQjYtQggyRIMoldZANJ6DyfNhj3TSRL9u8ABigbFZERDIZtI6pCiAxJliW1re5u27DVMiwYDO9K+ZlteVdNGMZOC4AVcEQwMiLqOKqGCTJ66tfz43k+n8+n17WDkGQEAczfqd4QTTVp7ABAZT0ex1rz44kakRXH43E83l7f/jqOxziO53nx2/fxUbbXtezlfdDujgigLX92TLVWMzarGBG2TY2R49jJRySl7l5L4cV2RzFG1THGkUaqZW3wjK/+0oAA1OpJmSQZNiIo63iMl5cHCRAMyn1ez3NN8Gl4tQRk5fHyiOTm71xtUPoDogBqzpNkVZGbggEhs8YYDO5+rta1nrMtiRGRRTCTL4/Hyui5gpfRckP+vN+7yzXnzAwSmbEpupkKMFgOqZdmn/P6OK9uMVhjPMYjM6sqg4sBa3Vy/hYAcYumbNm2aQOgLVC2dk/QsNDd5/P68f4+52RwjOOvt7/e3l5rjKqEe61b9V+a/RJoFeNmJwmCYZKSElEsU6SkvuY8n89rXgivnptsPAo0aEJUUw7d6O90iSySDEYGE/yM1N0SiIhEdmQmSVmCbIcaVCQjGEEuSN6WhT9PAJUZEUyaQNABA5hrLgk7dGYqMyMzEmk7iExkMm5jgy1JLW2PgP+m5MfLQTq+3AXoboK2ZSEiMhN5vByvry+x0lZVPh6PY9QYw61b+zYBSbRhBAjARD0eD0AkttZgd/cm6FLv+or58vr6T/d5nQaOcfzj7e3t8TqqlhdxQ0SwJRqxFQSQqj0WSGyPtM2I85wf48kxjkBWFOs1XiPw6JcIHmMc4/E4Hpb2wNFUT/VSOGgQBAwIZgUL/KoAyCApuXv1utSRdVRFRo7BVoOsrMEiKUDqVgMOMsmW4NhmSgTpSoYDN44wvD3DUz17DYlwFsfxYD4MtKSl9LZurdVrrTnXea11rqoyYCNuvFmwYXwaNQWYsN1rXfPKGVGIg8VRORgswGVdmnPOec051+xesvZs8EZ/+zPpMj7hiq1xAmjJ14VApLMwVgHODGYCELvPnnN+/Do/Pp7XeUkKsnJYZtys2s5akvjVlYABy1OLDaEjMcZYa9mIyMxq9Vp9nuevn79+fH//9fPndV66GtrC8m103pmz/GXiNrzHPtSS2+hIVlUdx8s5H0fbuOb8+f7x6/3n928/vv3v+/PjQ2u5QdHmqIHb5mCDRAFoiyARaDuMIG11n+qWu33Nnqvf339Fxmpd5/r48fP7tx/v7z/nOWkGgjYkZ2z898xhoOacJkhGRERSG66oKAcgPp/nec3/fvtOBBmytRqyum1UDjYhG2J4zdMw4/a0CNTuLrm7f5cGgkjI2p7bkiXf+gQQew80uddBAiZI0yQYvvkS9+L1+aMBQPLd9ts+TCCRQRoUQDt8b2g38wiCJiOTYVCEg9y0/mM+3KFk/y0qCTD22up7l7sXThLMu8Mkq8IQP9fCYBRJ0AC95QDaaPXOzLxlb+7JR4OEbwOjSQT2dkeQGaFg7NLsAIufu+rvQoDM/NKfYe+V05ZlMhnw5gXt2122gUbusN63k/w/FvekLGO6zVMAAAAASUVORK5CYII='/>"
      ],
      "text/plain": [
       "<IPython.core.display.HTML object>"
      ]
     },
     "metadata": {},
     "output_type": "display_data"
    },
    {
     "name": "stdout",
     "output_type": "stream",
     "text": [
      "6 (32, 20, 1)\n"
     ]
    },
    {
     "data": {
      "text/html": [
       "<img src='data:image/png;base64,iVBORw0KGgoAAAANSUhEUgAAABQAAAAgCAAAAAA3CQdqAAABwklEQVR4nF3R3WvNcQAG8M/59ttZZiaHODNjtfJShIa1sJVaqCW0lpW3cjNJrrQ7pZRyoZSSl38AyS0tV4qhzcucNXnJTsNmxbYj2mz7ujiu9tw8PU/PxfP08C02AfVFcu9ScNFoUVy9VQblfS/Y8+5/IsaHkD2TCo4+LHodNENFEpPL7Q3gQAtfIJkQFvkNpZtX8BwmskLeWpj8U0o3lNUL5RNZMDPLB0itbwuNFSOwcFOGr7BkVVNYmLsN86qyioWnVSb9r8D5Rno/Qa1fyVg33G3l/nuwp3s2FIZhBM1HNsL3mS9h4DMUECsPQW68EIbGIJfL9+TVQG9Jb/IMlHXmyxtP/oWxFX1hWCMtSwf6evpfV6/BgtpvCafb1Q3dNBWyy6veUZmWcHC6UPImbcvhbRKsJiGkM1OxvKqtlRJsJ0CqNDM1vxYrsYugoXNBKvt4784feIJjOZyC9PHO9mtxGGQFH2Hq5WB69FeX/+s67oAL/fkYf0JTJ/uvw+7JGGOMcOWR5O84nEiDVYPsqxF2rIMlxe83kK1RJxYgs4y11SXwICZilzk4Jyib4y3eIhXtfpppDjewtfb920mzqbP/AEd6krgIqsK+AAAAAElFTkSuQmCC'/>"
      ],
      "text/plain": [
       "<IPython.core.display.HTML object>"
      ]
     },
     "metadata": {},
     "output_type": "display_data"
    },
    {
     "data": {
      "text/html": [
       "<img src='data:image/png;base64,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'/>"
      ],
      "text/plain": [
       "<IPython.core.display.HTML object>"
      ]
     },
     "metadata": {},
     "output_type": "display_data"
    },
    {
     "name": "stdout",
     "output_type": "stream",
     "text": [
      "4 (32, 20, 1)\n"
     ]
    },
    {
     "data": {
      "text/html": [
       "<img src='data:image/png;base64,iVBORw0KGgoAAAANSUhEUgAAABQAAAAgCAAAAAA3CQdqAAABj0lEQVR4nE3OwWvOcRwH8Ne+2wybLcmWIj0PhZBNapIkS9FwoBQ57KAofwBuO0wOOw5FO7hMbrJ2UCOlrUhDbSuTWNmGVjOPxdZDH4ff88j79O71/fb9vm3AxYfDExHaB+5HsasSD3BvKj68vo4rb59dQFUt9W2Nvvf1YKD58zRSN8cb6b+1hJqFuiWOVA1yHrd/wtpcamBzQjVfZsDh1oO7eZ4wSe0KsLfWVt4kLLKqBuyjid8J65ifB8EiUBERkdWIGEHiBC6DZRjMji9FdGatPiI2Zjd3kMuwgPYMK8kGMcJOJMsLPCnhIw6B3NHHfatLeKC0Y0+LClhT3kRDOr1FwKZK5exPbc1Z+/gHvpqjLuULGc6CMUMspYmX/st7wyw6i/X/MGKUXs06IkZLti0iWi3I+RURxzI8FRG7FLNtsT3DlogBbiS+8Wk8w7nxH72MoTOKJ8sfddypogFNd3uWlbH6XKlcjdlrVK9E/sxUV3lbOcXJiKj3NDHIzBC8638xTcGr8mP57u48TN3EX/x7nghhB42cAAAAAElFTkSuQmCC'/>"
      ],
      "text/plain": [
       "<IPython.core.display.HTML object>"
      ]
     },
     "metadata": {},
     "output_type": "display_data"
    },
    {
     "data": {
      "text/html": [
       "<img src='data:image/png;base64,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'/>"
      ],
      "text/plain": [
       "<IPython.core.display.HTML object>"
      ]
     },
     "metadata": {},
     "output_type": "display_data"
    },
    {
     "name": "stdout",
     "output_type": "stream",
     "text": [
      "4 (32, 20, 1)\n"
     ]
    },
    {
     "data": {
      "text/html": [
       "<img src='data:image/png;base64,iVBORw0KGgoAAAANSUhEUgAAABQAAAAgCAAAAAA3CQdqAAAB/ElEQVR4nEXRvWtTURjH8W9OTvWmSUzTliQm1ZtSUyt9L42SasShIC4OOkmlLiKCODgp6OIiDo7+AQ6KS+kk4ssgEocYgmCqtKVN05CQaBLNtW9JTdPrcG/rsxz4wAO/53cs7E3b2HK13dmchwsyXHQoLlcp3xmePFVNVT7Ow4gMTayVWrwdl3Yau7aut0vtXXluYDOWdd14w9rdh7qoAeDgqYEul9qSFhGA7pvnbxvoYTAbFW4F4b7W887MYOHM4aKwHkRvV0f2gtkgjWjsoKczBaeJWzCEcNiAlD02aWARaghloA1Lsz783sAC+BGNBfqt83UQRl5QkFtoGmKQlV0AOmAd8dvXCiszPDNrgVVkqOmY84X7FoMGfoAJpK+pRdQrvuyxsS8AdbiYly9ywMJ0wHIAgEOQeS5yAMlYebNhnkm3xQiyudk5PgrAH9B6AWi9n9H0WbPY/KtPFsAzfccPeEsAsfSPiByoeM5e9gMESgDLS/FFGf0VtBVmvadBAcAdXZ+RVeLllyX/d9gG4JzrxJzsfZMAtP3vd6H2CTUJwBzp7J5/lRWjnSETQvecD5CB4Or+Kk+Gc4kUyO3+/+j2do5NWQM/eX1VAfAEA9bjj3Rd1/XHSPXo9XJJ8d+qrW3k/n62r3l7PEh7pJI7uTE+Ckm5k4g3jkx94x+haakbDzFwHAAAAABJRU5ErkJggg=='/>"
      ],
      "text/plain": [
       "<IPython.core.display.HTML object>"
      ]
     },
     "metadata": {},
     "output_type": "display_data"
    },
    {
     "data": {
      "text/html": [
       "<img src='data:image/png;base64,iVBORw0KGgoAAAANSUhEUgAAACAAAAAgCAIAAAD8GO2jAAAEw0lEQVR4nGVWUa4juREjWWrbM5sgF9wD7NX3M9gMsK9bReZDansmEWzAsN1FFcmixD/++D1BAkVJEpBCkDgwAIAAAQQJQxIhQJJkQABAKFaNCgGAJPazGCDBIECAkACz/xRo/SlhEm4oUhvyrg7HEakiCYJAorWFoZJtIDcy4ZBAiCDIwiCZJE7QJEkkICmJZACJVQqQJIkNICRHVQGwHSAwjARctT5Lr9ezG19f55xX4gV5HMfz+Xw+nyIkVdU155yz29c155y2x2o7N8mbEySLRQIggTnndV3neXZPOAAoVlUSAAIJ+l7ds/sGWORvQgMwFGNEuVUhgPM8z6/zOq/ZTUCAqtx+AySZn9Vz2k6SwXsBgLC6ByEgYBCS6cw5z/M8z2vOSaBKlYweXg/o/wE2wgYAl3ewgHAbcNkGRIwES2fDgYM4vdsn7J5zS3Bd19VtG8nYVUkkBCDG22iLsqVDVVWVpAVmB9wkBAEB0na33z3YBvDpgFsMkgIDGkBABCKP4+juOaek3F5A4qSTArNe26Pu1QEw1gjopmiNKARAWF4GSIwxjuM4z1PSe+cdOJuAn5SMkWUnALo7wC8vAPcQrVjYn3cFJEuH+KaRZFWxRqjV20dk8F0VAJczmWyRKZEfWrbSayzfSUWypEFNSrwL/mTTGyC+vURmtR8kgRHTRoIO2xGD6B6y5fJ3KZFakzpABGn7zcz7neVQEUanSYjszjI5zTnbDaDIkvh6cnXe3dd1SQEwVjzZhtZOuCPz9hPJBI0WVRoruDw75LzaibRyqKRDKjvXeZbKMskBCCzWpndR4AQhw4TaFIsUSanIIoKbmKV8EjtvgxlY4zQAUBKR/duKoDCL4s2aqGIVS5QoUIGdvaW75zX0WFWyDxwsbuRkzUQSOASYiKq1fQGVo8bQGKxmJ4QZozvdIUHRK1PyQd4AAnqN++qAJLi2XKqCugPjGI/HeHyNqWmlY/S0p7smGbIWgAmHMcCVRZ+VLS5QYEFDNTQKNRhFPfoY41CdFNCJ7bjjjmtvOvcgrij7BUD3yamgsGRd/YlkilVVqpLqFja++Xb8YXmDkBi6ZeGujXgdb0zSNjwDSOPW8l6BAmEflisE1wxviyT2/1K0f0BoJ54Mr7iSxwNOun0raAoSR+kY9TgOFp3OrwvA+GTQffkBENszmbaRnuKkuBLfNyuAIag4Rj0eDyjn1e9EvpniEPeemH3mZM+qPTOn3SakGhTPvmY6AooMVNRQFceQYbtXDL4jB8CQOKd7NkAEjBAndNBxp6fTs//915/tGSYwpO///O3x+Nfr2/P1el399dePPuf5nx8/rtnndX6dfwOoUSSHtBy3JzFLaDlC1sksRPjqOftiYYw6HuP17fn9+7fn8xijoBhz9px9dTuxCuMoclAcMAgOKbs6SEilSlbCOiRe//jumEyVjkOP5zgeNQ6NQ6oiBeCazzE8u6rVs7cLApNQkVEME1NJoqqARaMjYTwGENAix9DxqON5jFFVUolQjTqOo8rlOnx05jpJBxAIjAihQEJIghoEBVqVBJT2cadIXJUpgEjWl6ghhYVKkhWjfE/yT1cuEtK+xu5bNu7DQgQssYqr9DJ7bCDSvkYt+6zC/wV/sy/Vf1FmBQAAAABJRU5ErkJggg=='/>"
      ],
      "text/plain": [
       "<IPython.core.display.HTML object>"
      ]
     },
     "metadata": {},
     "output_type": "display_data"
    },
    {
     "name": "stdout",
     "output_type": "stream",
     "text": [
      "3 (32, 20, 1)\n"
     ]
    },
    {
     "data": {
      "text/html": [
       "<img src='data:image/png;base64,iVBORw0KGgoAAAANSUhEUgAAABQAAAAgCAAAAAA3CQdqAAABlklEQVR4nG3Sy0uUARQF8N988yljvpjSNHQhiUOOILQRetEighbVul1EEG0Kioj+ghZtpF2bFkUPIoIWtZB2QS2m2ggNFCRCIZrhpGbaaN4WYzVYZ3k4995zz72ZbE8h5itz39MloPP01G2bURw7I9lMlieey2g8kO/Izd7VcLW7MDJ6EdJcd0fX+6lxrgwV+i1u6LcUh3twcnrt5XKM/u6SgT0RERH34HpCwL6aYA7OY3AwwbVKRMQDiJQV2XUufz7V027pj7V20HrjVcQTiATzYLElTxOMJ7Tpg/aF6ooJqCQs9P6AE00/c6ahpS6JLxHxBhrqovgQEdEEieyOvi7wArPLkCYDvVunZmC12riRZNp/dLV7OV/B9Hynbck67D18aKjWc+RhRByHtOzbWo0svcMApF/rxlfyCrXpf7E4S3Uz2TLAJ0jZeay37WYJuzK0bpDndh9cqpbQjNoeOm69rt0nPj66sB37A5eexrNyRMTbIrgfGYpHmif7z+ZmSmN3arWRQXa4uTxX52LSf/D4nwdD+gsQ84/t3Y8WTAAAAABJRU5ErkJggg=='/>"
      ],
      "text/plain": [
       "<IPython.core.display.HTML object>"
      ]
     },
     "metadata": {},
     "output_type": "display_data"
    },
    {
     "data": {
      "text/html": [
       "<img src='data:image/png;base64,iVBORw0KGgoAAAANSUhEUgAAACAAAAAgCAIAAAD8GO2jAAAEw0lEQVR4nGVWUa4juREjWWrbM5sgF9wD7NX3M9gMsK9bReZDansmEWzAsN1FFcmixD/++D1BAkVJEpBCkDgwAIAAAQQJQxIhQJJkQABAKFaNCgGAJPazGCDBIECAkACz/xRo/SlhEm4oUhvyrg7HEakiCYJAorWFoZJtIDcy4ZBAiCDIwiCZJE7QJEkkICmJZACJVQqQJIkNICRHVQGwHSAwjARctT5Lr9ezG19f55xX4gV5HMfz+Xw+nyIkVdU155yz29c155y2x2o7N8mbEySLRQIggTnndV3neXZPOAAoVlUSAAIJ+l7ds/sGWORvQgMwFGNEuVUhgPM8z6/zOq/ZTUCAqtx+AySZn9Vz2k6SwXsBgLC6ByEgYBCS6cw5z/M8z2vOSaBKlYweXg/o/wE2wgYAl3ewgHAbcNkGRIwES2fDgYM4vdsn7J5zS3Bd19VtG8nYVUkkBCDG22iLsqVDVVWVpAVmB9wkBAEB0na33z3YBvDpgFsMkgIDGkBABCKP4+juOaek3F5A4qSTArNe26Pu1QEw1gjopmiNKARAWF4GSIwxjuM4z1PSe+cdOJuAn5SMkWUnALo7wC8vAPcQrVjYn3cFJEuH+KaRZFWxRqjV20dk8F0VAJczmWyRKZEfWrbSayzfSUWypEFNSrwL/mTTGyC+vURmtR8kgRHTRoIO2xGD6B6y5fJ3KZFakzpABGn7zcz7neVQEUanSYjszjI5zTnbDaDIkvh6cnXe3dd1SQEwVjzZhtZOuCPz9hPJBI0WVRoruDw75LzaibRyqKRDKjvXeZbKMskBCCzWpndR4AQhw4TaFIsUSanIIoKbmKV8EjtvgxlY4zQAUBKR/duKoDCL4s2aqGIVS5QoUIGdvaW75zX0WFWyDxwsbuRkzUQSOASYiKq1fQGVo8bQGKxmJ4QZozvdIUHRK1PyQd4AAnqN++qAJLi2XKqCugPjGI/HeHyNqWmlY/S0p7smGbIWgAmHMcCVRZ+VLS5QYEFDNTQKNRhFPfoY41CdFNCJ7bjjjmtvOvcgrij7BUD3yamgsGRd/YlkilVVqpLqFja++Xb8YXmDkBi6ZeGujXgdb0zSNjwDSOPW8l6BAmEflisE1wxviyT2/1K0f0BoJ54Mr7iSxwNOun0raAoSR+kY9TgOFp3OrwvA+GTQffkBENszmbaRnuKkuBLfNyuAIag4Rj0eDyjn1e9EvpniEPeemH3mZM+qPTOn3SakGhTPvmY6AooMVNRQFceQYbtXDL4jB8CQOKd7NkAEjBAndNBxp6fTs//915/tGSYwpO///O3x+Nfr2/P1el399dePPuf5nx8/rtnndX6dfwOoUSSHtBy3JzFLaDlC1sksRPjqOftiYYw6HuP17fn9+7fn8xijoBhz9px9dTuxCuMoclAcMAgOKbs6SEilSlbCOiRe//jumEyVjkOP5zgeNQ6NQ6oiBeCazzE8u6rVs7cLApNQkVEME1NJoqqARaMjYTwGENAix9DxqON5jFFVUolQjTqOo8rlOnx05jpJBxAIjAihQEJIghoEBVqVBJT2cadIXJUpgEjWl6ghhYVKkhWjfE/yT1cuEtK+xu5bNu7DQgQssYqr9DJ7bCDSvkYt+6zC/wV/sy/Vf1FmBQAAAABJRU5ErkJggg=='/>"
      ],
      "text/plain": [
       "<IPython.core.display.HTML object>"
      ]
     },
     "metadata": {},
     "output_type": "display_data"
    },
    {
     "name": "stdout",
     "output_type": "stream",
     "text": [
      "3 (32, 20, 1)\n"
     ]
    },
    {
     "data": {
      "text/html": [
       "<img src='data:image/png;base64,iVBORw0KGgoAAAANSUhEUgAAABQAAAAgCAAAAAA3CQdqAAABjElEQVR4nJWRT0jTARTHP1u/kiiwZM0tNmFgTIaCZJNYM1iishGCwohkEBJEzEusf0fpmhchqEt16jDoYiBI7BDi5iUEO2zUCsrt0tgWITLZ0r4eGlv9PPVO7314fL9f3rMAQHf5N5wL2J314i/s/FdNLyUOsZikq+H5wtZNAIIjGOABAp1xeB7L2S47wAVsSXqVkSTtS5IwiPYASVdptP4u740CcaAzKS005QdXVZo3ewaldC9Y/4HXYPNLa3IDMCsp0l6xALAm7Z1qko6+i1aA+w0pZHI5nZPemq1tknrM8Ja002zHhnx+rwEktqUXTduXtZONyvoyt58B/VkgcsQ4Vv7YUc5AGFjJAr5Q3fj0+f3PKnCe6kYK4FL/V0vImS4ACB4+BsL7BQdDAwDMSG8Apofbca5LmjJnbEh63ZoMACbvfp8Yr1n093nmbrSVroy4/cBRz5I+PDgDwJM/n8PzaHFX0ibAlCSV7sBTSZLyNkBSvgsMkkXf8bMnvqUrQGpsZ+KHOVnXvQsAB+ZCpMKa0w9sAAAAAElFTkSuQmCC'/>"
      ],
      "text/plain": [
       "<IPython.core.display.HTML object>"
      ]
     },
     "metadata": {},
     "output_type": "display_data"
    },
    {
     "data": {
      "text/html": [
       "<img src='data:image/png;base64,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'/>"
      ],
      "text/plain": [
       "<IPython.core.display.HTML object>"
      ]
     },
     "metadata": {},
     "output_type": "display_data"
    },
    {
     "name": "stdout",
     "output_type": "stream",
     "text": [
      "7 (32, 20, 1)\n"
     ]
    },
    {
     "data": {
      "text/html": [
       "<img src='data:image/png;base64,iVBORw0KGgoAAAANSUhEUgAAABQAAAAgCAAAAAA3CQdqAAAB30lEQVR4nGWRUUiTARDHf9/2jS1nc2kqY7NkTpgjikgahUgEY9GIKKgEi4jwNYjVg/TQi4QU4kNJSQVRYFE9BDoiCmmLzGhYQeWqbxH2oNlcyVySc7se9s2C/V/u7sf/juNOcdvzadPiNC7rchJdarC5plA1e2eHd2MudT+6qs6lGj4p12zZbNbZyf9SufEsA69NDW01zhUqw/8cttaB7npoQ0Yo14KzDFUTLvdF1XUA3Ev9XDAqIxMAR9uZPO23mY+JiIgcAiAiysOv841Vs/FgCH448oAn5lCv5F1mGb885W5hMA/Q4UAdqy7kxhJsaGH6NgA7mcG33gDQLXIYgJh83s+efX6b0bg9IgLAZpEBq+ov1FeaKkK79R2HoHZR/Vh4b66wZ6AHoMsLM026IfS0C4B+kURgrQ47zhXjI+2BD9RisasYepvisQ9gKO7WaAHg5FJiVO89MvhWAgCe8b7VOvM8FokC7NU0BzSf8Cn2QK+bPxaATCVnb9UeaNDo+SYiZwC4ICIy9zwyxM2JXPq4PiguIl8uhVvV1MXlX8Os2WZJeA8uvXpx9R3A+S267bqUDgWnSu/aKqKV8k0rT0xLHQB9TwiWWHtyzgpwV4SpN/PyO/n95WhGpB8Ii8hf6s25PKH1iqgAAAAASUVORK5CYII='/>"
      ],
      "text/plain": [
       "<IPython.core.display.HTML object>"
      ]
     },
     "metadata": {},
     "output_type": "display_data"
    },
    {
     "data": {
      "text/html": [
       "<img src='data:image/png;base64,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'/>"
      ],
      "text/plain": [
       "<IPython.core.display.HTML object>"
      ]
     },
     "metadata": {},
     "output_type": "display_data"
    },
    {
     "name": "stdout",
     "output_type": "stream",
     "text": [
      "7 (32, 20, 1)\n"
     ]
    }
   ],
   "source": [
    "Xb, yb, X_inv = img_select(grays, proc.y, y_inv, 10, augment=None, invert=True)\n",
    "for (a, b, c) in zip(Xb, yb, X_inv):\n",
    "    img_show(a)\n",
    "    img_show(proc.X[c])\n",
    "    print(b, a.shape)"
   ]
  },
  {
   "cell_type": "code",
   "execution_count": null,
   "metadata": {
    "collapsed": true
   },
   "outputs": [],
   "source": []
  }
 ],
 "metadata": {
  "anaconda-cloud": {},
  "kernelspec": {
   "display_name": "Python [default]",
   "language": "python",
   "name": "python3"
  },
  "language_info": {
   "codemirror_mode": {
    "name": "ipython",
    "version": 3
   },
   "file_extension": ".py",
   "mimetype": "text/x-python",
   "name": "python",
   "nbconvert_exporter": "python",
   "pygments_lexer": "ipython3",
   "version": "3.5.2"
  }
 },
 "nbformat": 4,
 "nbformat_minor": 1
}
