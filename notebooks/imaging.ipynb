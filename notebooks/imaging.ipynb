{
 "cells": [
  {
   "cell_type": "code",
   "execution_count": 1,
   "metadata": {
    "collapsed": false
   },
   "outputs": [
    {
     "name": "stdout",
     "output_type": "stream",
     "text": [
      "ready\n"
     ]
    }
   ],
   "source": [
    "import sys\n",
    "for p in ['..']:\n",
    "  if p not in sys.path:\n",
    "    sys.path.insert(0, p)\n",
    "\n",
    "from collections import namedtuple\n",
    "import os\n",
    "import pickle\n",
    "import random\n",
    "import warnings\n",
    "\n",
    "import matplotlib.pyplot as plt\n",
    "import numpy as np\n",
    "import pandas as pd\n",
    "from IPython.core.display import HTML, display\n",
    "import skimage.color\n",
    "import skimage.transform\n",
    "\n",
    "from digits.data import Env, Loader\n",
    "from digits.explore import img_tag, img_show\n",
    "from digits.images import *\n",
    "\n",
    "%matplotlib inline\n",
    "\n",
    "env = Env('..')\n",
    "env.assert_ready()\n",
    "loader = Loader.from_env(env)\n",
    "loader.assert_ready()\n",
    "print(\"ready\")"
   ]
  },
  {
   "cell_type": "code",
   "execution_count": 2,
   "metadata": {
    "collapsed": false
   },
   "outputs": [
    {
     "name": "stdout",
     "output_type": "stream",
     "text": [
      "loading crop-test-small noop 42\n",
      "unpickling data\n"
     ]
    }
   ],
   "source": [
    "proc = loader.load_data('crop-test-small', 'noop', 42)"
   ]
  },
  {
   "cell_type": "code",
   "execution_count": 3,
   "metadata": {
    "collapsed": false
   },
   "outputs": [
    {
     "data": {
      "text/plain": [
       "(200, 32, 32, 3)"
      ]
     },
     "execution_count": 3,
     "metadata": {},
     "output_type": "execute_result"
    }
   ],
   "source": [
    "proc.X.shape"
   ]
  },
  {
   "cell_type": "code",
   "execution_count": 4,
   "metadata": {
    "collapsed": false
   },
   "outputs": [
    {
     "data": {
      "text/html": [
       "<img src='data:image/png;base64,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'/>"
      ],
      "text/plain": [
       "<IPython.core.display.HTML object>"
      ]
     },
     "metadata": {},
     "output_type": "display_data"
    }
   ],
   "source": [
    "img_show(proc.X[0])"
   ]
  },
  {
   "cell_type": "code",
   "execution_count": 5,
   "metadata": {
    "collapsed": false
   },
   "outputs": [],
   "source": [
    "g = skimage.color.rgb2gray(proc.X[2])"
   ]
  },
  {
   "cell_type": "code",
   "execution_count": 6,
   "metadata": {
    "collapsed": false,
    "scrolled": true
   },
   "outputs": [
    {
     "data": {
      "text/html": [
       "<img src='data:image/png;base64,iVBORw0KGgoAAAANSUhEUgAAACAAAAAgCAAAAABWESUoAAAB+ElEQVR4nDVTQY4kNwwjKbmqZ3Y6QJBLfpX//yHILch2l0XmUDuAb6ZMiqT5l47PA7aqYr/fu86FoSTYJvstjplYSOwZOCJJQgDY/3YeSwkSeK5r4EAgCYhAv9PbsJXEe++hpaFEMAb65ZqQBGL7eltxCQgJCOifUxudCeLk+okFpx2CIIDeNCjKCBAPJgAI3vdoA2CR5Q3Ejh2AFHkDkACgCBLxeBsUcAOSLsEBxZCEd0JVIfx+oYS5NqsiiEhCSQiAW2QL+3Wy1OM0AUrVtxDB6IZf/3UoSK7SUCUhAUjCXZ5X0fYhdQmkVDc/SbKJeVeR4IdK5PdGvDkgeOZ9zYzxLfweBiiSfe3BglRFUghIJKR+ofof9B+/P89jcWCs8+XLRADCu8D+u397/vlFi7F5PK65QgBKHEi9lCSs6gKnu0tVSIAgBvsrC4Z0NAFJVSXSBO7Tz6lm9VqViMgdsojIENmfmy2QAjwzdmAXiNsI9lkhDBL27D12kvAmINnt8TWB4dnbSYw7yzvOrr7dY2KHKom8+yaQ7EUfLUkGqD59rtb9awKI/Tn4+vHxWIxq5Ro8zu7b6gBkf6SePx6HAhVwDo5j1dyxBUA/eDw/W9gokOfgWL9UIQbZH1pHFw1wxcHRj9K6rWaAPrRKSkAW98qqg5T9XYv/AQoeLCG7XY8CAAAAAElFTkSuQmCC'/>"
      ],
      "text/plain": [
       "<IPython.core.display.HTML object>"
      ]
     },
     "metadata": {},
     "output_type": "display_data"
    }
   ],
   "source": [
    "img_show(g)"
   ]
  },
  {
   "cell_type": "code",
   "execution_count": 7,
   "metadata": {
    "collapsed": false
   },
   "outputs": [
    {
     "data": {
      "text/html": [
       "<img src='data:image/png;base64,iVBORw0KGgoAAAANSUhEUgAAACAAAAAgCAAAAABWESUoAAAB8ElEQVR4nDWSS24kSQxDHylF1scGGuhz9f2vMYtZjMuVIc4i3doSkMgn6g91fxyZuGvmfL123Y8ayVYS+ov2MSKTMPs8NwOSLaGh/9Oqc2nGSWaf59YgJCTF9Ley9hQimZnzezQTE4EE/WL3qc4OmeT8nsrE5NLpl/IeCg8BsmdPQFgg6E1NZKlmQ5LZOyDJEkqHmUQWGonMeQ6ykSRBC2USSTiC2RPZBkmILsw+T1exYwuCXE4ASd2Y83XY6hFdAsmlISDTjfL+WsI2dJfAltlEEl1kXu2ZrCp1GZAt6crSZub9pSS5F1U/8SUpyDRi3nJ198i2yF9/CNGj2TovNki+9OQCPe4Xs9fxuN+WM1DH4nzPtSI76X9C33/9flQVA33/er3PCFDIpv8dP3h83KQqk169rSoSEUgv5OzBXuWkqlySNCaA+2lU4OpVTBmAgEM8qD8d2lJ1a5gkMzNTCEWoH870RSaZfe6990wum0J91GxnT0hm7x0yk+TiidrlZO/JVafgsv5yDHR38lMPJap1m9Xlq0+BPorScXSXsWvdTo6jS5JFQj+LqY/n/WhUgXOrV9dP6Uk/Df35vC1v3NKMarUTIkj6GXx8PNpJLBcsP1rm+in9HHmtsoIoTdI+bGcCoD4GtyUSZMXOdf1n/gepPjwc7gre1AAAAABJRU5ErkJggg=='/>"
      ],
      "text/plain": [
       "<IPython.core.display.HTML object>"
      ]
     },
     "metadata": {},
     "output_type": "display_data"
    },
    {
     "data": {
      "text/html": [
       "<img src='data:image/png;base64,iVBORw0KGgoAAAANSUhEUgAAACAAAAAgCAAAAABWESUoAAAB7ElEQVR4nD2SQXIcVwxDH0B290iW4/LFcv9TuMqryDP9iSy+EmzJYj0Q0N+qx1sxqfLM/XzmODuRLWai/tTRyyQhmXWvOBGShAn9j6evYpiQue8XNfpawFE/rXuFQMhar5tGQpZQQn8W12BCmLlfT89Mi0ig0H/MK+4smMm8nh2CAwikvmuCCyeBzNIK/AcBnQRUODcka9YEfYnQggSkeETmZiIbvCG6rMzEzkjKzES2NwHQZeV+teUZygTZVfuqQrc0z89yVUV3mb2w2O+cLnh9HoZgdVmyy/IikklX5v5TzOQoyhKyLSkg4VZmnmXbdWAL+IoiQkonk/t1zhcVX9pZGfVnlo4+jiqBZEFIkBAR/Yv6/uPn29nFKD6O3He0T6xY/dvXX99/Ptg/6Ot8ziBASYL7wplgdzmpLTMowNAfUYOqD2vGli0ZEiey+iM5S9VHO4Hdg8ghGcn9ljlLyMrMuteazEQIjbH6mmUSIHs+kyRC20v3Cuteu/RrZf8p/F+5EiVJaLYtlS1pW5X6TPfVXeWRqs9rXUd5NzLgfs+c396vs2PXcd2zHmcX0iZTP9D18X4dLBXKPes82rMbF+iH6vHtUZqoZBbrOsqbNIP6TXUd7QCuUZzjtLWNA32oamcsldPkaEsDCUL/AqkROz/JWsNbAAAAAElFTkSuQmCC'/>"
      ],
      "text/plain": [
       "<IPython.core.display.HTML object>"
      ]
     },
     "metadata": {},
     "output_type": "display_data"
    },
    {
     "data": {
      "text/html": [
       "<img src='data:image/png;base64,iVBORw0KGgoAAAANSUhEUgAAACAAAAAgCAAAAABWESUoAAAB6klEQVR4nD2SQWLkRgwDCyCl0djOLQ/b/z8iue3aGjWRg+zwSjRBsEu/6jg6kyrPrPOc3jdGtskEdWYlhACZtZYmkiSBA/1VviyGUWZdr9GGR7ZQRvTvTY/WJElmXdd4kEQkKOgzdUXkVlznOJMiQgjoz+Ur5QWZcH2xZSLQ3ae/Vi8Kh0CSWSvwsyb0S2uwJ1k/OYIkWYKkM5lgMSPBrGuQzf8TxMytcCSyVrAdwb1kmXWttjWxDYlcngBS0mWu87TKDd0GbJsJkjPd4vrcJJdKq0tBsgNBQl3k/OPM7C53l0AW0u1BV+b1KWbm6FTff4gkBUlpZZZc1T23eUISmbktkplXr4CQy8p8J7AG0+dc7I/nYyuG1L6/XucAiKyx+5/w/Pj7Y/MtOI61LqwgQpL+l2073t9MdcG2dVm2MpFA9CbPGuStja6yLRAmClZ/KJ1QvZcSS7phFWGQ+i+mjFzlZNZkZq11n0pI/dTCCfqGYbJmJQAoqHdfk7UGZmZWEHP3BZK6HGZdkygzUbX9DZwC6vYPPxKq7RhtXZZkCPTmnuOxbV2kZl8r7F0VWUDoN4fj7fnYPKpohuxd38xn6Dfh4/25V2Jhwjy6HIAE+kD9fD5KC+wUzr7L/CTp96j2+4lstCttSYu7/gMWP1DDyP8htQAAAABJRU5ErkJggg=='/>"
      ],
      "text/plain": [
       "<IPython.core.display.HTML object>"
      ]
     },
     "metadata": {},
     "output_type": "display_data"
    },
    {
     "data": {
      "text/html": [
       "<img src='data:image/png;base64,iVBORw0KGgoAAAANSUhEUgAAACAAAAAgCAAAAABWESUoAAAB50lEQVR4nEWTS3IjRwxE8yXQbJGaiPHO1/L9r2FHWCK7kF4UFa5tJX75AP6q896ZVDmzns+rzoMBm8yIHpLo/wegCCkzg/z1vCZJEiUzM0kEb63UXzlWkUwla71eIQIMEg798ppk4iRzXVccbYXkSP3NNQIlM+t6vdSB3QkZqb+9VDULzcr6flYythSQLPWKcJlIylqXIuEIEJJasl3xrCizlkcS0vtf/TMPmS3IjvYeVV0kkRFIs1ZF2JIR0qhN1tW21jY3cpWlHUHaWs9X+6ASI+Gq2nVEUHueXweUaZUlylVMJJmMmvX810ludgpwlc3bcDSd9fpuG07XTwkLaSPDM+v1WuuaH84bE0IYu19DhG1Abw/eKICo/z5///F53g6SgCVBdgp7UP9z+/3nndjDqG9X1vYaaSlSF2DjKuE+nMEoTiYx9MehyD6Kja2rikSKMoh+fLSr+7DG24Yyg0RESN/Ptl1FlFmz99UoJAb10aVgMnNd1xqRKSGYYNRmZqRk1nqt2euP2DxRlxVtwbVmH8/7kDCoz9tRtplEch1dfq/jO8Pn+bifRyngvp113tobi7fg1/3zcR4MlaxzrfvZLWFlG96/Ho+zPcGluWZ93A4PRuyt6sf9PJyIwlmZ8yjerUaS/gPLszAMzKzhmgAAAABJRU5ErkJggg=='/>"
      ],
      "text/plain": [
       "<IPython.core.display.HTML object>"
      ]
     },
     "metadata": {},
     "output_type": "display_data"
    },
    {
     "data": {
      "text/html": [
       "<img src='data:image/png;base64,iVBORw0KGgoAAAANSUhEUgAAACAAAAAgCAAAAABWESUoAAAB9UlEQVR4nDWTSRIcRwwDEySrexaFTvLD/P8/2EfPUiR8aOmOQBBMQH/X7Uy3IuXen8/UuWRFBLahNj1hRpY9ew8LIUnII+q1ogJ7wp7eezSKlkCQUK+pHsayPb2/relILISA+njtIwS2zX5PzTgxIIB6dT0p2tjgnj02IqRL8Pa3lYrBYHu6BySFJOza0XaEchrB7L2NAl1Bpuxpo5BGktx7UMZ1gYgS0z2ZUtshPEMobZCCqQzv706lCrICo8icMUhyZbDf7xBptFbKliKwsaSoEt9XYRahXiWs+JNRQSX+/KfZ+1apqdSMudxBUqXn+8K2HxVZgce2pRhJUgm3Iqt6pN/cbCMFblOeae0hQoZYx7s/2yDB2FGf+fq8/3icyWCd9+73RlgYD/XP+Pzr189DETZxnG9dH7IMUP9SEcdRZKU8q8pC4TCyFbUUdA9ZK5nMiMFGMralegblIdcq2UKe7p7g6qTqR1gJiguUx909tgAJ1SPGgQ2yp+eqjA26BEe43T1mPDOjkI0kJAJV1Nh7ty3bjlpdEZIUyFBZQwgpJJTruOtcmZJC2NSRVBzHqgzS0NZaGeIC7roXzufjPNNKpBllZWAssOsZsJ73W2kTRNqZt7rsbVR3FMfjtsKgwmjpTAUDAPUcxVoZMhAxNUiga3vmfxieZLllzx9JAAAAAElFTkSuQmCC'/>"
      ],
      "text/plain": [
       "<IPython.core.display.HTML object>"
      ]
     },
     "metadata": {},
     "output_type": "display_data"
    },
    {
     "data": {
      "text/html": [
       "<img src='data:image/png;base64,iVBORw0KGgoAAAANSUhEUgAAACAAAAAgCAAAAABWESUoAAAB7ElEQVR4nDWTQZIbVwxDH0B+tSzZ2eRiuf8hvEtqRupPZNHyGq+KJAjonzruzaTKs8/vV9bRimyRBPWrvIpknMw+z3gQkoQS6H8Xt9aEXAA7FrIEIPqV3mP+AG9qpkyEI1B/T58YSCbz/tYtUw4IA/TXrpPORAnMqTMgri2I+sVE1iQDzLAnYKxri04m2GJGIjvnYOsDTJpkJiqdjsieHblAgBBdzj532bVzuYNsAkhiusz5fntZo3QJZHd2ACP3Eu+vJZWsdNdGsvC+Dp0u8vrPmSyZd1tgCykgma7My8rM/SiqTD7jAxJqZcZlu2+SLSXJ51nyXD68+wiAbIWEIAMZ1O996rgdtzYDfXzP67xoctrq39HPv/5+dlUG1v1rnxuBSBjcv3U8H79+iC6TtRaSzaAApJc8e1CtclJV22AISmT1T1FB3asYWxASmTCR3L+YVbi6NcnMzOyJQHgk9YNdIkhk9p7Zeyb5JFL0wZvMDsnM3iEzJODL0C7NnnMSSAZVWfIn9sJdWhZwJbDWPbcuSzIE3DdV7sda7XH18R7dblVcQKAfGj0f96ORC91Ha7UHABL1D1HP5315U5In7ltZlwz0Ha/HfVVAVYNW3UtO+FTvEfetSgmUJim15bkA6BX1p6mfU5jkjxz9D6RePhbutUcyAAAAAElFTkSuQmCC'/>"
      ],
      "text/plain": [
       "<IPython.core.display.HTML object>"
      ]
     },
     "metadata": {},
     "output_type": "display_data"
    },
    {
     "data": {
      "text/html": [
       "<img src='data:image/png;base64,iVBORw0KGgoAAAANSUhEUgAAACAAAAAgCAAAAABWESUoAAAB5klEQVR4nE2TQZbcRgxDP0BK6umxd7lY7n+MLOIeqQgv1BOHq3r1UCgCBPX3/tyZcVVmvr6uOjaWbDMzEp5JkgCQ/Dl/V784WsmYzKxrEWQkYRD0S2ucTMKs8xxNkCyBBfRXX6NEycx1XeOxl2ShDNCvXhhgZuZ8UYwt8qZIv/ZRZ4VM5vzSnqECCAH0BFmeDGSWJnA/1q3i3VKtQGaYIIylt0wl4CgSmcUKspAkSGgzK9gji1mKXAXoTdHmOk9tNUVJAZXrdlPvL85fm9xVmpZwuWomYDHQWq9/K8j2lIVc5ShIUqC5XqUkR6tsJPtbgSTorPNVVdWbLXTfSgqyEnqWrkluyrf2/1AC/1p1HPtWemMA3mgh6H8+f/713Ko1RNt+rjOAhFaM6Nfz4+enUqVQ+74yGBBJsNOtJK4uh7rLJApkEP2xC1ftViKpyjbjeG4r+3m03d3OgjuxkUM8kkQ/trrHP7OuNZNMhNAYWbgrM8DMuq5rfQdf30q7lDWQzKz1Xol7lpGFerMtpJDInSq/LTKS0h/+2LetHFS9H3VsbSETIqP+7B/Px15xZVuPuR57F5JDQEp/Hj+ee7MoOK65jr09d+YDqD+P59GaSJJWZt/Kd6cTJPqxdzsBqzzKdtj634b/BuggKirhjKC1AAAAAElFTkSuQmCC'/>"
      ],
      "text/plain": [
       "<IPython.core.display.HTML object>"
      ]
     },
     "metadata": {},
     "output_type": "display_data"
    },
    {
     "data": {
      "text/html": [
       "<img src='data:image/png;base64,iVBORw0KGgoAAAANSUhEUgAAACAAAAAgCAAAAABWESUoAAAB4UlEQVR4nDWTQZIcNxADE6jq7pHCclgnf8v/f8nONlnwoUd3BAkkk/qvX1dlqNLM/f7OebWQLRKggySQhGQXZSVOYAL0N2cSAkCeZEhCJpH6K9d4RoGZvbcBkD759N2TSUiYdX/vmiAkf1L9rglEkFn32kSeTy8D/T5GPcDM7PsdI2Fb4EB6pCorysy83zqZFERSBtRyufDMkL1XBeQgBEVoJEnymmTvEYBA+izpEiBFUvbemkgSRoJAW7PHlS0xa1m2DRYKQCvrPkpyRZnIrvIHfQLNen+Vy64UQdXVmj9NUO/7q4UOdSxwVxfJw1Go5/7+KpvTZaLqrhoFZEaoN/da6z5tK8FdJT3LFOFeimxLIpMHsqSAZKLev//5eZ7tR4DHpIeLkeTW738vsIZJH/OMR5Y/JUsqyeVEx/me/Qf0PCb2ZfAzza6uKimIbCyR/nFUd7fYAvXRVXmuGSymr8PPAWJmXGXhZMgjb7eFrJm97ntsgZRo4sdJzY7I7HXfax2ICClEFpkuCUhmr7UHiUenjzHy6+wuk5kgV5Xh+UeWJPXff/24+gPt3NfZlhD4o37/+nmdCq4+zpder6OepwgYUP96lTO4kmv5dR0VySFBYtxnm4+o5+rrPLwf50HC+R+fNxgw2DmHCQAAAABJRU5ErkJggg=='/>"
      ],
      "text/plain": [
       "<IPython.core.display.HTML object>"
      ]
     },
     "metadata": {},
     "output_type": "display_data"
    },
    {
     "data": {
      "text/html": [
       "<img src='data:image/png;base64,iVBORw0KGgoAAAANSUhEUgAAACAAAAAgCAAAAABWESUoAAAB7UlEQVR4nDWTMbbbWAxDL0BKsj3/t1lV9r+KdDlnJrb1iCnktCQaABf6SR2PnYmrZs7Xa/pojWwnE/o/tY5RhkpmnedoQJIEDv1HW63RJElmvd+pSNgWSuinsq0ISLLO800HAeCALgGlITOZ19N7phyQFOiXWHHVipLMOmsSpAAS9NIEFc4syCwmIGRJkA4EWQkDWZMVJGEJoC0yQSISmdODXJdTQpfMnEulkS1GyDYRIOjGOV+7qzKrDOCqyiet6ZLm+aelUmm1he2qpYAM3cn5/FeZlL3KklyWE5BQS2s9LcJtp2zAnyaQlFay3rW9u3fJ4npcMcq4V9bSGnRdiQQJ8kiC/s3U4+vrvrcycffMBBBWRupf6u/vH49SMYr3/Xm+I8DJmlKfYrbjMFWFa9tOYROARO4HqgR7K4eq6iqbAYJIf5HduHorxuJTo0MUyf0Pa2+7ujXMzExILj8jqe9ZNkFK1lprJjNTIJDk3oJmrZDMnOdMJmQEIERXhkyAzMx8cBZ/s+4tom1bIrh3tq6PJsJ9Y+lx37dy7N6P08fexQUkuO+kvh/3w5GbHKtuWzuSIYG+of3rsXWGQqypY2svrilB3/Fx20uJ5HFY21FWgBDoQ966LoBc2knvNpcvofaFyTU1JMfiGmcA/gd/PjJUAcKNnQAAAABJRU5ErkJggg=='/>"
      ],
      "text/plain": [
       "<IPython.core.display.HTML object>"
      ]
     },
     "metadata": {},
     "output_type": "display_data"
    },
    {
     "data": {
      "text/html": [
       "<img src='data:image/png;base64,iVBORw0KGgoAAAANSUhEUgAAACAAAAAgCAAAAABWESUoAAAB6klEQVR4nE2TSXIkVwxDH0DmUJK8cF/M9z+EF73pkKryE16kFGGuX3AAQP0j74+dGVdl5vl8+dg82CaZmPD/EpIEQCChv1SeURJIsmaYCIFASv/RpqOdTELW9VqVIElC4/RT7GuYcZJ1XdfSyCNb4NBfZh9AJDPr9VoOSPeUoT+dfamzIJN5fdIZKvcepi9VUKGQJOtiIFLuLekxyIUyC2aGSSSwENAQ7pnXKFkrMyBkSZAumwSZ0d1mkM2PYF1SZi1ZdkSG2FVB3EDLeT03d2UoE0lVTgDMdMF6frYsSqssuexe861GV3J9liax1WXJrpJzA2rPXF9l4NwoAbLvC26ATPzctusa/Xgk0C2V6WtW1tz+Ich3HCQkS/0bnY+/3s+tNIpkEcgNIPpfnx9//zrsYhTv+7Wu3C0yQGeW9uOQyka1bcPIgMIk1W9pJ7i6NOOqqiqTKJBMf4w3u7o3oSVwlc04HhD9PtlLrq47xgESOcSD1eeatpCVmeu6JnDHSWPk3rSYFcjMWtdaM0kiFIHUlfw8xaw194X3NymIbnkryRJJqE77R1Uj9TnzOI+9K5Jq248ce/s2JOB+hLePx7FpVMl+TM69C30D6pN+ez82BwNzJcfW/rYsUj/Ub+dmBpWUBcdWCkAy0n8HuzkHa9yfMgAAAABJRU5ErkJggg=='/>"
      ],
      "text/plain": [
       "<IPython.core.display.HTML object>"
      ]
     },
     "metadata": {},
     "output_type": "display_data"
    }
   ],
   "source": [
    "img_show(img_map(lambda x: img_rando(x), np.tile(g, (10, 1, 1))))"
   ]
  },
  {
   "cell_type": "code",
   "execution_count": 8,
   "metadata": {
    "collapsed": false
   },
   "outputs": [
    {
     "name": "stderr",
     "output_type": "stream",
     "text": [
      "/Users/charolastra/miniconda3/lib/python3.5/site-packages/skimage/util/dtype.py:110: UserWarning: Possible precision loss when converting from float64 to uint8\n",
      "  \"%s to %s\" % (dtypeobj_in, dtypeobj))\n"
     ]
    },
    {
     "data": {
      "text/html": [
       "<img src='data:image/png;base64,iVBORw0KGgoAAAANSUhEUgAAACAAAAAgCAAAAABWESUoAAADDUlEQVR4nC3B2W4bVRgA4H87ZzaPPXXjBEKdElArQFyhPgIvw3MiwTWgiosqJcRx63W8z8yZs3HD9+EvaaE6L4y9BdTjyWD1vE9vXvAK04FSrKT1OOIYO4g20YnOmuc/z9MqY0GtfchH0vaQE0bvwIsi5MOHv3wZk0im3dS2eieNkBVk75AphmCPz8eU8yym683pk3l5I9ZKD0IIqJija7bLrqqux607LetF3y5Ih761ABAjM4E/1rVTyYAPT/OdURyWkkHsMyIAQFHW+bNRCn2z/vS8T5NiuBMdrAdgQpFUo3F+wJlid2pCMi6V2kvfQlQFWRcDZ/1me5l0WI6p2WffTbGuzxIjxkgAJGUq5vExv1pZVZjNx7c//3T6ze2IhMn3xlgZ0qE+uuq2VOCi711y/fU0zISZFPTRQwzn7aobvh6tWyLgNNqYquNaAijNDlDn8bLewvUdCkULaWo228GpUeSDZIo5LQvpD0c1/QKNtU3I8njcft6md+IjMxGpFJvOhMmbybzpbUda2/l7PYM7YeEQPRJE17j8q2+HndNaqfH08QniP/qNAKG3pCgSW6+KxLvB+OZl/uU39dKE+S1SjIgIxOxOrfdmt4PqqiAa3xaug2qoBIAEACA09dnwYUY7xON8FDQ6qgYDIyRKIAQb95v9hVcfuTbN0o950ZWv7s3uIKQUx+h7Wy82nYQg29OuqSr+9zj54fv69ychRgCIruutsfHC6rDG87Aqdr66fzv/dSYKQw8IlEz0K9KYnlwt5UD5PmSj0daeBIN3jIH18F7luVYPpr19d91+WHCRmUtyJYAYkIIBTRy8FKOinP54s3w0LGgOh4s4AAwRvY2tIl1Wn1cNJzo0ZjQaJRhBYvCCAN4bL+xUsz96SRLNQqSLgZAgYKAQvSfnVcLYH23APM1Sv18nmBbCQBECxACBgIWbM5jGqVJvH96fZq0WIgFkRIrICEDnls71ORmq80OxWB9IgBiQgVSHggC+94flfp+kWk5//C0vhhIBgOB/iCC5Twi5nKxbgXRa/Qf3Xr597YP+WgAAAABJRU5ErkJggg=='/>"
      ],
      "text/plain": [
       "<IPython.core.display.HTML object>"
      ]
     },
     "metadata": {},
     "output_type": "display_data"
    },
    {
     "name": "stdout",
     "output_type": "stream",
     "text": [
      "4\n"
     ]
    },
    {
     "data": {
      "text/html": [
       "<img src='data:image/png;base64,iVBORw0KGgoAAAANSUhEUgAAACAAAAAgCAAAAABWESUoAAACwElEQVR4nAXB624jRRAG0K8u3TOeseMkLBDBIsEu8OI8C0/Ab1YLigQoceLs2HPp7qriHPqN8vOEuBTuD/uuz+LniSmqOTScRBVETAZERIS1Vt4mVi8G4vAgDZa865p4UJc0JYqUiD0cMJhB/xlHHm78ACuiIpq05vCWWgNZk9C/jl8fdn0QIpXm1vqgnqLtagtYpdDP3w73+2Q7sc1Ko1z9CiVCUjQhIn1KD5QTGUQiWiDqTEkSgwBrQYr1Mh2olbD5PG3CoaQgGrkU3Sygdzyd+mE1ny/npwVu9+9yQgekKFEJ+v5tPeXdbLS8vJzWWuvS9UK5I6o1vJH+9Hm9nPoWNC9LXTYv1y9LR8wdSqlB0F/Kv62KkY6q3b5ZwWmM7so1h0hC6I+vyzpoKKc1Rum0PJ6chAiUkKySjjeD7wHe5y1337wf3v74c+G6owTibIl0aUlNSClr3d1/OLy+vKA1j8ZbGphF/562uuRoyTawGNk6FxcidxEEoI/zvFKtYqXN9nRbn6daPZNkiLoZ9FPvmkttgtpK204vlrQGzJQk3F3P3w0yLtFAIJHilRNZrUYiFAGo5cN+uOomKZjFagnyCLMwIgCkkcbjwEuARJWxrQYEcWLlWgtYhUXJ3ZhZ92N2LI0k9UoEhMP1eOh9vlznxNIfHg6nc1tddrs+A0BF1rv7o0/rdO1kGB5+uE3/lRbQvuu2wOZkend7s602T0vZ9dd2ep6iNkl9To4tgFBZXJqjrm962RZ8WpS2fUoc2AIgUr8sI3ScX8/n5fe7KL9+GHDoid1KBBDKJUveH8uStpeT0fHdx2EYs21REABBCfA8FrSMw93lzBnZGS2ieQvAtctd8KjHY/l5vkxv5Xtt5OEOsILBWtC2/W4XX6Ws0ua3L+vaOAEAWExEr6SFqGNO+/sBfn48rdXNEQAFCP8D/RfPIUohRzIAAAAASUVORK5CYII='/>"
      ],
      "text/plain": [
       "<IPython.core.display.HTML object>"
      ]
     },
     "metadata": {},
     "output_type": "display_data"
    },
    {
     "name": "stdout",
     "output_type": "stream",
     "text": [
      "0\n"
     ]
    },
    {
     "data": {
      "text/html": [
       "<img src='data:image/png;base64,iVBORw0KGgoAAAANSUhEUgAAACAAAAAgCAAAAABWESUoAAAC7ElEQVR4nAXBSY9bRRAA4Krq6u73nrexZ/MoA4qUE4ILiH/PiTtSDgRGYhQJQjKJw6y239JLVfF9+AuwlVyEgi8cUTnyZG4awnpZ727+6XgDCCml7GL0s6CCjD5bo6iGWgQ4QhFjahHcvCWtIGmYIERDcg5NuNq+FN81kPSrIlqdpmPtLmZm5tuAxnd23/NyEzp7evexxAhlGppvmuBKCURo/NYOz902uzV/uf31ZXvZyF6uLsTQkZlzyp+gDsWKu5y1m+3q9bXv78rZZsYIZoAEvIEWx+dd9xQX32/8t+v85a9+u11yBVMDI/4Jz8OHt7t9X7vXV6uL8JiW7XbTiiCAKRB/h1dY/zQECZE7b9PztNosKBVCQhXHG5qnrNwF1UlHLru7/jQ6qTUQgYmwB3n4PM3PWulHV4b9x6/ooNRsAKACQLXsbm6e55crN1Wk/Php33ZYclEEETHiXm9/+52uF/PpCEDj/Vddr7lWQ0IpSkzD8e4+oQ4T+RDs4cNxfXHSQhJEK4WaGStcvHEl/03n1Lb68kSnq4gyCYHWaj5wxB+25//u3oM76cIxa+xYaq5iAGoAyJHOVjB8ft4U12C/L7FlKdWIPYvzgUgE2pMWFKNvsT/UtgtkSqGJDl0Ijvo+IbOI87GFcYBu1ngCiq3XasTMe9rAmKsqeR0Oo7FDJOLAUscM3vMD+bB7kKZ1tr9/6ivKyMLEOtTjKM7xe7rXx52cXsahfzok1JJUgKDk4fiSveNbdCnj4tWa8lDcnFs0RYeQ+uN+IMdMts9hff2qE8D2auY3XSRAqsPLIfumYf7Zkrjm9CRKpgWt3LLzYKApZQ0hMvGPNig7zzapW86AGKE6ntKQlL0n4qUF8M6kIJPv0CyXEiFNY0XnGJUTKJjWkjOWFEBqLeptOhQMnsmA/4OEWOsgmZJ4rYpoAJohhMBowO+gmqQyggKiE3ERq7kQQmyYDJD/wCA1gYCDRSMCQFSEgJvgvQm4/wGoQs9s25qkHAAAAABJRU5ErkJggg=='/>"
      ],
      "text/plain": [
       "<IPython.core.display.HTML object>"
      ]
     },
     "metadata": {},
     "output_type": "display_data"
    },
    {
     "name": "stdout",
     "output_type": "stream",
     "text": [
      "7\n"
     ]
    },
    {
     "data": {
      "text/html": [
       "<img src='data:image/png;base64,iVBORw0KGgoAAAANSUhEUgAAACAAAAAgCAAAAABWESUoAAADB0lEQVR4nAXB6W4cRRAA4Kruqu65Zw/bSQwKUhLET3hgnoYXQEJIEAERCY7B2fVesz3Td/N9+OO6edyvvu0yK3E5TJErCp40lLZ/1fd/Avnr5dcPzU81DmMVzLYdm14i/75MsLnc6BhIpNOn3/iJud+MJXzfX86tEuLT7p9Jb7eVinSnE+GsOSzQsSkP+Rpl1XUPHz7HZq0xUNMM49bUcpK3b9vj+ed0OerXP+C7jv/aX6pvPMWYhdQtFuxXg/7lge2EfnnRbDanqpEt0EzOulKLIHQ/1HUni1Yqj0qflitjCRS98wCVSKLuV+n2DkaJpLd9CvHMxSaC4n3OUrDUTR2NV1ILEKCTrJxQTUU1i+SER68QMMy+5YAtWwPzcamrWpAWyadi0RPmGNenTQ0BkrX5bAznGchdz7wtdczpchz7N41w8pidkhlAEM5EaXFywMaXsP+oX7xdf9kFN/AQZqH9QswERFVmJf0yfXSP3eN/E2zvVkXKqk7MCYiYdVRSMKVz3Kd/rzT2t6NPxkTRqESEiEIUAKWtDWg8rr6+08qY3cOlotoRQSzBqhpEKUuCet2++mo01/P56clLIXKgkLxz4BTWAj3er7errYzP+9lkXQvrFMnivEsCmLtcxMuXPWQ/HZ9lrVUnYojEMs0BASQxa3WTD85eDs9x3UpWYLMkRIm5hJwYK93g42kxJwutTAsNDbtCLAGwWJYoJJv3u6V4m9tB+4U7QTlRBGCZQyqAMZzeT9gLZl2qihCtK4VELAiZhcRk7NNO9B04oYcmOig+pECI3keUrBV4O+v6dmVjbreVSVHKkgsBgA8SuR/BmtdvMofPF9/rvqZrdqkEcvPirWxks2J/rW6WZS+ZmqqPGUzKAPSHpVUBmve0UZVGIcfvXuO4kmYySYVAVMVmLLaEE9qytEvi4Z7A2mm3n6JgpWlgiJVZhDuczXl9L7pMlZgOl93RIkMBknWK3Njk/HT48vC3Hu82NU3TfF2waWUBAhRCShYRkrf2rC7RV8rM0WO33pQI/wPZBsr5S4FiYgAAAABJRU5ErkJggg=='/>"
      ],
      "text/plain": [
       "<IPython.core.display.HTML object>"
      ]
     },
     "metadata": {},
     "output_type": "display_data"
    },
    {
     "name": "stdout",
     "output_type": "stream",
     "text": [
      "2\n"
     ]
    },
    {
     "data": {
      "text/html": [
       "<img src='data:image/png;base64,iVBORw0KGgoAAAANSUhEUgAAACAAAAAgCAAAAABWESUoAAACzUlEQVR4nDWRy44cRRQFz828+ax+joWNQGxYgPh1fww/gBDCku1hWt3T091VWfm6ycIQ69iEgj4CkkG+PStHgSaLXlRPY0e3dcfceNAAAAwMECCAgoC0lUGMBpV7UcEBFHcAlMMoZDHyXIFKDB5FAcqDjxhQjiCr12Ze4AExqjH+g3dDMpDRcnCauyg7jB5glyU7qW4Uk/PIsqb6bqL8cBMpJg1WtkhmybHeU2l3ebyYn6NelmkvrVdKDB16A6RYbnNP9/vZnH/caud9lzy3GwMAATBPRfqNNOtyWYI1yki+5r7wAGmUJk+Hx1QGuMda09oFvaxvj7LwCmhrhqWXV/vDVc2zUU3ZhKWsQtcv12+Z3Fcx7nDcxVN6UHQMWuvwG76fvgmttNlgmrjMWtttYCl1OKvfnhf21GqCDpRVKV3ymtR2Q1KKs9tNPi28skFFH6S53tfr5fWx3081V4Hdq/b+xAGtAmP4I9sypyrxw4d4lxUq7E2JhgEewABZ068vy9vr0IZpNAwXWZf/ZxF6lnS+PD79aX8b6A1E2mBNlQEY1NoobmW9vX7+279KTwXKsmqPR2PUakcbg/3Wbg+5r1RybaJYGdPm+8K+1B6CTu0N+19/OevXz/+c9s34uJPn89fqedRmAQJyMQd/+Pr7lzzfKNRp2/7465P9nu8NJrDAON2rETW9P6rOmhXK49G94tLgohgfY3BKujr89J0BBlC7skGIGywTQC2bqkbn6cOTQSeryUw7Ys3dxqA7UHJVznaJZpJqrPGONu8OnlkXR7aVJPWWN0FV5yPlpp3nrg/Ka4aLuqTU5jmMNfIygqFCAb3NVWtS7JxG7lKuqdT7Zspj2vk60OfbdZhpZxgu6JZldOlptX4MxDBX9OV0qfGoHSPHnHjnzrBRhY2j4MOaSr6erjnMLTCQ1UAI2oZjiBOF5mOeL+fL21zwkjb/Ah2Hwp4+q9riAAAAAElFTkSuQmCC'/>"
      ],
      "text/plain": [
       "<IPython.core.display.HTML object>"
      ]
     },
     "metadata": {},
     "output_type": "display_data"
    },
    {
     "name": "stdout",
     "output_type": "stream",
     "text": [
      "3\n"
     ]
    },
    {
     "data": {
      "text/html": [
       "<img src='data:image/png;base64,iVBORw0KGgoAAAANSUhEUgAAACAAAAAgCAAAAABWESUoAAACyElEQVR4nAXB2XYjNRAA0KpSSeoldtuZTCZz4IFv5U+ZMxAgDontXtRSLdyLv/N7wJxzyufp8NvX27+XRYMsH/+8r7tWA2b32buFul7FP8Oy7ILEzMyMggIcFPZLE4Px8fHlNcs6a9+D3ee9qqoDZwlye19Xjeen57BupYThfBp0b6WpIXJw3bWsixEEuv93uxefnp+nFAkABJDrVtXcVHMkSmOrXsoypxByQq0K7NrW+97AQ9f14zGlzfYc09in5EXN2atgZMI89ONwountttXccRoCtjobcuIYCSKFcXx4/DVOw9t1IVKtg7SyVWSOkbvcQuyPX56/90MEqcUgNs8kyw04ckTPrv3p/OXgQhxZN7AYZOy2awZOPl+WMPLx5SmXV9C5IQdPwzT18XgFZCy3j5L66fHrw/rX4rIWyC/j+ZQY140yMVgI0GgXbfvba2sLH6bzt5dxu15//vFZM2e1UgHWZUaYf1QqqeEx9A84b5e/r8IsquRg3sTcMXgAtG3T0CXOUzZjY6ktRjRTGL97uVNPaKLuPJwcGxcj55QZMfgvT3p7E8IIukppNBI1dlIgThyJ6eB3uFeXVvZrvVwue2ThYLVCSohqKXn0uEudu2Vfr/etuQhBcENyK+vcKLFj1L21sizVWdwro1oEKRq62He5ctRASIrOQxkjGFNwQ5eNcvI4zH2y1IgCue6eEgBDq2IZdijG0QxAFBDZ7Ta3tqHz9v4xC4wcoM0f3e2+lurMAWm/1yaUuKmS1W7qovz8k6mVhuN0TBRzclMAxpDHkFNEkbZhDk1THjLw8aWvixpxodhhPwRwWe6pUXPrWt2MznkezJGvy2KUEUCt7kCE7g5WlahnM3f+/KyaRo4a5jD0iZKlLhGhmGpIZozcpYenA+96CKFzrQJ9QnGtBtFUOeYjHr+dI2k5H03lJhu4bvtu7E4K/wN/ovGgNHelHgAAAABJRU5ErkJggg=='/>"
      ],
      "text/plain": [
       "<IPython.core.display.HTML object>"
      ]
     },
     "metadata": {},
     "output_type": "display_data"
    },
    {
     "name": "stdout",
     "output_type": "stream",
     "text": [
      "3\n"
     ]
    },
    {
     "data": {
      "text/html": [
       "<img src='data:image/png;base64,iVBORw0KGgoAAAANSUhEUgAAACAAAAAgCAAAAABWESUoAAACnElEQVR4nD2TyXZjRRBEI6uyhqcnyTIcQ9NL+HN+iQ2rZmH6NG5jy7L0hhoyk4VkYn3PjVxE0u9+syySHSIoD/f3Gfo2H98KABCBuA5Zq1B0pmv/IclLcebZkwEwA5gh0hQuwRw7Oz7+u/38cGgKwGAG3oS21j5659M95Pj859dftj9v38kAAgHsubYmPQyDu5RYX759j1OPOVRcw0FaW6mrd31uUs/vyzRNKqHZDSBtAh9iSrZcQrm09XJ+3XIs/Qo4g1pMiQH1vp6en49TLcruJoAjU5+SJ6p1iPVyOi6NhjHgI8yLuJAS01yDUwmxh7wbEeh/QAyctyOsWg/jfs+HuyE2NQBoFtz74kMYBhaxCFDe7/IQGYpigCj4yWfKscqpl1n23LLkgSAaEgCAeABCoHX6J7eSD3fyRffD1KqtC2UA4AHIAfV8fh/viZxzcUe1kerqhqAI7APl5DpRdcNm71zk7RDEASCQc45N8pCZLoMQyJF3nmNujWJUMsDcpXQFKMQs52brXKROzTs2EAEEbuBFeD69lh2c1UlcLyUzzAgGGLP2ecX8cmwS9+V8WtpauiOncFfD2KUGnc9r6XHsX/96TA+v+UC1fxgCaUqypE17laqPf/x9+OnTQZ3BiBSkDPKe/Z1kjtv9VI5vSUJEd/RxJNBhcbuned75t7B8uv/184FKN9wqBFpN/N1hgx/x7eG3Z92HZiIWfQW6MWDWBa7wXZi/n2gXSJsuq4JKpMIMGAQ4TanUy9NxVT9yXFYz0L5g6HzdTe+5uqdymVbE0em7GoACKLgAADzgmq66GDnqS5PbZtX4+iEBPsc1ya6GYYMmDbiNkl1oAIRD9qsbY405aV1NYSUB1vhKiu8w85tUXA7lVXFTqP4HnCebseIP5EQAAAAASUVORK5CYII='/>"
      ],
      "text/plain": [
       "<IPython.core.display.HTML object>"
      ]
     },
     "metadata": {},
     "output_type": "display_data"
    },
    {
     "name": "stdout",
     "output_type": "stream",
     "text": [
      "4\n"
     ]
    },
    {
     "data": {
      "text/html": [
       "<img src='data:image/png;base64,iVBORw0KGgoAAAANSUhEUgAAACAAAAAgCAAAAABWESUoAAADC0lEQVR4nAXBbU/jRhAA4JnZsddviS8kIYUCB1ep6qkf+qk/uP+n/VJVak8InY6iQiDBieM43l3vTJ8HfyPUEYhcJ9AdCZ0p3X4ff/p19rLG85sPrAoAoKKACggSDRlD6lsWm+bgWAVFgxvDCWjwtkii7wdH9UXRnUJFCY+IKsIw9IGBUyJVxGiWd/7+P6XLhEcAkihBsjIv8tyEvjvEfTGv35pHn/4wYQUUlWHkajotEmbsdq3ZJqkO7Ta0g2MABVEQU8zOch1GWyYTfcQ4jjEKEjCqIoC6cWps7iWgsWZSxug1LSUjYQBQENenmFW5iBe2xuZhOGh9DctEmBBA/Gjm1xdV93h/OPs4t4H3m529UDyzxEwAIybFz7/MDw9//N5/nklVxXVxfbUsWeOJRQmjEoageZ5g9ADCWXz7lhTW9J0yqEAMDtwAxbQqezVp1En6+pfclehOwgKEIKMe28EIJtaAyYzhsDmk5RD7yACiahh985q9HKSo83L62gqpndev/XNkVFDlQsIbxIc1zC/qKmnWPZhqmoe3ryMrKiKRDJtj97Svbu+Wsv7WnLLFagr7hz+FEVUJVYI77d7h/Oa8bP5+CGP63XnZH7/+E1kFSblw6NsdzFbzwj992aQpppbEd60yKILYbDi59935x2WO2/sXyM/s6EcnkxkwGIqo3vf7WM2Xi8m4eQ/5NO/adtDZ5wEYCIDi6EOsqpvVDLeb5Ky8evyyez/aa50jAwCAesXMXl5Oh+75UM/rxU76pl0sshkyKIJSMgyumExM37Qxn9YcITZrW9aMDAoghH2jMwbXu2K2KuG5BWoek1WZIAMqwBh6nSw/mKHXxe0y3b61mbgnEytABiEVd/TV958uxoPXySrLdo3WdNqvDQXDAKJxcPXVj3e2yXOjWyMbKZDZh60fDAOgAuXz25uZV0jCtoknpzYmaQTvQ2RFEkiy3IzH43uzPcQQAzJRkoBomgMrqcZR+1fB3b+vh8iGNLUmSxkFVJENqWg4dqdnv123WkwLSymDIUQEQv0fvgfn33GCFNEAAAAASUVORK5CYII='/>"
      ],
      "text/plain": [
       "<IPython.core.display.HTML object>"
      ]
     },
     "metadata": {},
     "output_type": "display_data"
    },
    {
     "name": "stdout",
     "output_type": "stream",
     "text": [
      "2\n"
     ]
    },
    {
     "data": {
      "text/html": [
       "<img src='data:image/png;base64,iVBORw0KGgoAAAANSUhEUgAAACAAAAAgCAAAAABWESUoAAADNElEQVR4nAXBW5LcNBQAUF35WrLdLdn9nOmkkxqoAj4oPvjli2WxJlbADlgBVCWQ10zITKd7ZizLD1mydTkHfpP7ijFvBhbCdssYLrAss8Y0/YKd/vz7GbUoBLEo5hhjwhlwAMaIKBKLRAzxSpZyDsAL52ZdYg6U6lJQnIHLSLFHYp6NXQCAyIQiTFx4soswpAvXt20fsJbPoXfAkyTJOPnz5cG2cVWqArFt/MSQKJjnx5gtN+ty4c359v1HJ6qqWu9lFyUvcJVaPpzt4npf7RbDcLr99MlBVm2PeEixXI/4Gs5mbLssyXfqy629mGkzztlCSwSRZZsWXzlLIfLFqsjj27/Axx0RKlWW6wXjWSrwqvm3NV7q/Ua0p3dMZnq7kcudwimOSP2AeoquCdky41yqKxlhfyylrjQfus48mh77uzdvjNwdr9bJfEXDyDJMEpxjAUNs69Hj3R+/337z48+/7u0/74ZrbS/nD2UZs0KJJtjnZsbpcu6n4vXLyp3v8sJN46levxR6HJNlrE3PUElNQP3D14dzfX8S8Pj1cmlj9Ls1IU+XiNn2qK+z/iGra3OblKJzKZn7NAZOc74WhEFuioPoGleH9kueL/Pcuzm0qerjJHRweOkDi7M1oalrofX1qjCP5yROo59Cwonh+49PRdtbEu3nR5OS/m43fKDHPm074lJmDN/eNYFxgoTV9USLw81r272nDlZBSsEJsO1oSDnnmi9UKNO03KU6oTmQVJGC88hVU1QKtIYXIWgETBI/O5CFzlwcRo9ZvsUXAMdKVcvPucaha03jxeZwPXeTs45bex+bhjXE9SoZ+s42tWsmlm8rVYB3DoVILKygrEr4zwY4Psztw5eQ51mSChGcxx/8ZNqbn37RxtyZ2q6mr/3HU7IVedb5wRqPS61jxyvgFaj6Sd4y052cYFxyNpqnbuJ8WTAOFhgwyAol/NOlnhlwb/sYI2OYzx0oYFZZit/XK419SA7Ll5vUN1NMUsCeLy0AUNM07GZWCd0j0u7bQw7k50LPqPUqBQWxmafldq9il5OPm+M6b5mbZR5RVa9avjqw2Xb4Yq0oaCKW7sA748aR2P+qmO9nkJIY1AAAAABJRU5ErkJggg=='/>"
      ],
      "text/plain": [
       "<IPython.core.display.HTML object>"
      ]
     },
     "metadata": {},
     "output_type": "display_data"
    },
    {
     "name": "stdout",
     "output_type": "stream",
     "text": [
      "6\n"
     ]
    },
    {
     "data": {
      "text/html": [
       "<img src='data:image/png;base64,iVBORw0KGgoAAAANSUhEUgAAACAAAAAgCAAAAABWESUoAAAC7ElEQVR4nAXBx5IcRRQF0PtMVmaX6e5Ra0AmZEImWCDW/DDfxIIgQBZJo5mptuXSPM6hP8hyYSbKcECJEijmZCwRYInQDBGw04qdVy4xI80zZ+OKOcFBJWdiFh+kaoJaSsvEBrCy01ISlAtMfdvk/YACFRe8ejFwVakRkkqmzBK624//DceDdMVevnuICnNZMlPrtTCAZfR3f30XS5jMx/O6a7H/sNROd50ml4ziNPZ99fKhMfaHcqwbHT7/idqtjrUSF5Yl50O/e/WuycPH94djvcvpxz9509Znp0xwfhK5/KjCk/W0v7fD0T9TXfpoOc6kQKo9KV9umuMQspc0xGao/LO3p/W2lqTIIBDFNBxvPgyNtl2YT+e8epXP3bZGVIwaj8HN9YMm3ZXdbn398X6JE3cv83rdxoURUcZK49Uvr7p8GUe3keNIU1y48U5gCsuVFOiD38OTq6oL45SEs6XDwYXLaoiaBFQh0e4qbwM5tXOySsimo1RzdY6ahTKVwa+m8ZLYpZt9Xq1XjFzMEM9RiaOkWFIHK8Xl891Yms7lWESIqBRFFZFO86rpOLSt3d3dTi7wUNKKEQAoQXJJiyuFgiuXmy+3c5XTEitAtUhRzgJqwsq38dux/35zbl9vH1+J2QLzlJIKBJDQrupPf3/6fsGLN2+uWBTLOXXrMkaFFSJz4vrbfdlu/NvnG5yI5wmFFUNUWCJ1Uk1fvuJxaF3X4dSTMyksEoekACy7qp4+/xs2P/28sSR5ItEMdXkeTa0AgFSX/tQ+ffFE5yWPq2QTF1/RPEFLBmDsg8ru0aMHJUgOeqHUkxcuCysEMCNimvb9tfqvaKqtk/PJRIFMagpAuZx6u3yOH+xb2QVA43pUHu9PXgEALBZR9u/7gH4JznebdVjMxh/7oJYJVDI31/dlXChPacrVc7cTIpQE0lIAsWIPf/MXxzmWuD+YtmsdYOTbWgEgp0TbX6+XzsUk6fZm2j69Gtk0bK7b/wEOC76UQhhsvgAAAABJRU5ErkJggg=='/>"
      ],
      "text/plain": [
       "<IPython.core.display.HTML object>"
      ]
     },
     "metadata": {},
     "output_type": "display_data"
    },
    {
     "name": "stdout",
     "output_type": "stream",
     "text": [
      "2\n"
     ]
    },
    {
     "data": {
      "text/html": [
       "<img src='data:image/png;base64,iVBORw0KGgoAAAANSUhEUgAAACAAAAAgCAAAAABWESUoAAAC80lEQVR4nCXKy3IbRRQG4P+cPj3TMyONZMkyKXNxTKgCFmyAB+dBeABCQuGUY8e2bEnWZS59Oyz41h/9EZ86N6+7zb6ZcnO5TMdhf3v/sl6PxXLenE0FYEKKIQslW9rUjwk59tv717ZazeatQBUETUqaikmxv3m9WL5b/Lx52T+T35dGAEUEVMkY4XH3sHPny2laedy83wx5K4CqEFS5rEo53L0/VGcTlqqdls+hP3YCzUgUFahm82Kz/tK97EIsxtpNv52cdr0AGmpSo5jO2/HwZQuzrE7+pL29Wg1riI4qbDXDiOWwW7+0q+sQTgaDTmquOg6wTEQJEvy4fXzuXN3ak4/9brfXanYuNgbEyBCbfX66fQimqU/ZmxSoL+AWDAWgaowROmzvPtHKdbYSrio348I2koyCAALbJrJqOZ9CbUFlA+fBVvIYiSiHRFWtTdXOzibpGExV2lOXKxgBjBI0R5ROXT2fTZ2JyU24X2/LARAoQFDNCVw65wpByFQUfvPP3flLn/4PREw6eHalNYRCnI3bz389xG7TMzKIAFDqoymcpMFHU2J/++FzcjaPYpRBSCkrWAw0BRhb9MfHO3r3o0TIKRCyZh+4LKywglJiF46f1le//5KyEygAMBg55jACLIkE278P17/+MOhXogqAQCb3Pb0exzLbelQMR1pdLnaLkoUAQkogTWEYAltXN2Y4jGbmyB+OrCpElJSK2kpSO2lIah76YJqSYt8xKYklo6imtUmRSzEcM4mUznGKWaCgDFLUrvbB5zgM3o9cWs6BI4mohkKtRrHWxFM3dkPfpeyqHB+e3PMxi7ewSJrY8eHh8TBGztErOzPc/Fs/PUEUiShnmJK2H2/3WX2pPix++u3D/Z+X3Z0RACBVLkiH3cjurPVb9VK8eT587MYbIwEAkMli3G9Pk8XXbRi67Hh18dTvAkOgiEXMxAg+t9Pvri+K7IXn36Nuz+IyC0CcSYkV0l61b99MjPfIzTeza9v4Hv8BqzLGPi7Y3RwAAAAASUVORK5CYII='/>"
      ],
      "text/plain": [
       "<IPython.core.display.HTML object>"
      ]
     },
     "metadata": {},
     "output_type": "display_data"
    },
    {
     "name": "stdout",
     "output_type": "stream",
     "text": [
      "1\n"
     ]
    },
    {
     "data": {
      "text/html": [
       "<img src='data:image/png;base64,iVBORw0KGgoAAAANSUhEUgAAACAAAAAgCAAAAABWESUoAAAC90lEQVR4nAXB247cRBAA0Krq6na37RnP7G5gV5EICYnEO6/wEfwxXwFSXjaKEhI2k7U9vva1OAd/b+vQ97s9O+v2vpeHB4d7v1WHtvElpJofj26LWyhWI5AiIEIQATIk1WYM8GaczKMS1xIbKCgjGRHAhJhBEPhP205PyzVoRqslpEav+xo9sfMRPBv+o+mmp8uln5a46DW2ut1TWH1SWPty0MB3N7fLy+8fvr1/7lHN0HakZgkl7HafHALwP3f3TF472Z4FRvzt9ZQx+CyUpAgA8F/VL3yH4zXlSkp1uH/7WNraTaJLoZXxxH+/0KdBpX8j1IZf3Lyjn/NAxNJJmJLAyKkiyXH4b0/14RYf3v34OOD6PLcKQtsPgPz2p/s4l4SjtKrSd6/uLpf+8nVNQBwFRfjVTTt3SwoAUWY9f9xKDolxA6cXdVIN31e6Hq7etMJVpXFQz3NJQVDy7g+6AXYGpKDhim9uzw2+b+Mw9FfRNQiac12Y1wACKNq23cPp2wffwOQ30JFBVTUQX5eA2xgM2Pp4Pn79onAf95RqVLbEzQHjvOA6JLRtdzCMTjnlrZtCqbLH3SNTnvISBAxR8Yt7wypj3mKRkgEEhGM+yCwAFEM/0+tfV7PoPPqSN4R1ReQlj+Ki1ITzmuklHsFcPzNWsSgAEKETlOMskDa/LZ8+fpGuU1SyWEIGGAvwuSvwME4BdiffSV2ZJKdSCKpuiB0A319uXe+/TWJkm3keRoXDVRzYwyE9ngE4SFmNOjWlbJ4y5GGah0+lru+MKjB2wk89YtkKsi31iabnYd6/rIqarjIZyoD8sUeKK5I5EJ1cuqoDWZtJNgwFRYQvW11SAkiiUaUhES6xykhSmBvfBO6BrAQweUe2y9O1sSGTqa07qEVrMESwjXsuACkpi56qShtgXTmWLADI51np9cgoYl3Wc/AKEAgzYAyrsjufT0WONkbhiuQpkoCIR5emuHz+3uw7dyAilLOYCuSHRbUcrM++9mWKhJL+B/aT6U1GS9A/AAAAAElFTkSuQmCC'/>"
      ],
      "text/plain": [
       "<IPython.core.display.HTML object>"
      ]
     },
     "metadata": {},
     "output_type": "display_data"
    },
    {
     "name": "stdout",
     "output_type": "stream",
     "text": [
      "4\n"
     ]
    },
    {
     "data": {
      "text/html": [
       "<img src='data:image/png;base64,iVBORw0KGgoAAAANSUhEUgAAACAAAAAgCAAAAABWESUoAAAC5klEQVR4nCWQWU9jRxQGv7Pc3TbYGEMSUFZpJoqUn5dfmuUhmRHJDAjkAbz3vbe7z8kD9VwvVfRbPIUEqmfaJ6SM/Vg1iJOGHARAdN8XVYpu0jKyS/bMnLNDshAA6GtcTXHIlEcZgp5Rqqa6H5KTAshMupPpTfswAjGH46yuSSa5H0LNiuzI0Nf55ffdZkAysmZxVVcyjcPBBhWS7GK6v7j+Sf44GFKLy+++KQqfxD4+jS3EBNn5Oc+vJrZ93Z2iXt0uPAS+vJ3YED0O0UU5np11cuxHcGquV3z/8XM/v6kxBPNkALg8aznuehB7uTwb7u8+b3JdU0z2lsnn02L/ug9QIu7q0/39y74fPUcDyB3Qs3J4ed7EokyW43hcf2lTGE/RchInADrXwMGLsnDLx7FQqqqxD+ZO/HZyXg5KWiLHFIfqqx/3N0vtR4ezkAPQOXZO3RDyIc+CXP/cXy5aFWQD4ABUwws3Kxr63dg8h+lsRgPNl9VrTE4wsNJhPTl/v9itT2G32fRPD4kmq+GfhzE7QAw9fzyVK7p6rEarKGzv/tpsFj+8+/P3Yyypdyv0322x6br9/jildqGHzcuj/ULXSwpJnAHScEAnh7u/n7W5mFVl03UV0mjkBji5a1FU0+7Tp/ttdaXI1erbyXKVv+y4gMEg0OBFPeHkbpb6ofj63XZ5K7sgoslBcF2nWE+bdgFDHFK7PC2WF/E1VFKYCQH6wX89X1ZcNqmU09p52pz748ddXXJ2Aly3MiIllzoXaZ2Huqf4/PRh3zSajRhQKbErd5Eb6DBmaoOFdP+Eri2yMcS1uWjWx3UwEgpeHMY+xfhymlalRCMT6HzRjjHkkUQ4e3aWcTAVhguzMPR9mf47PVlDyNp0CE5jaipGJmEXQBfCm8NYNIVnLyYaE4iUkQFmA6BGfRqydpVH05KyGUlZ8N6JwQA0GefIZVW5J7in5OpaCBneUHeSnAFLKYE4GUEgYuxvwv82q89g9FZj5QAAAABJRU5ErkJggg=='/>"
      ],
      "text/plain": [
       "<IPython.core.display.HTML object>"
      ]
     },
     "metadata": {},
     "output_type": "display_data"
    },
    {
     "name": "stdout",
     "output_type": "stream",
     "text": [
      "8\n"
     ]
    },
    {
     "data": {
      "text/html": [
       "<img src='data:image/png;base64,iVBORw0KGgoAAAANSUhEUgAAACAAAAAgCAAAAABWESUoAAAC7klEQVR4nAXByZIcNRAA0EwptdXaC90M7vAQ9sGc+BY+nRsXAsLGxszE9Exv1VWqkpTJe/hbY+YFaM5oKafU7tTxsviuCpU6Q0Ag7bzPiRMCi2i7eheCGhSAiDKMCqgoqyWPcxZNDuvtoVb3BRGEi1FGAYF2FpZcEzSEbDTPMUu2rnGC2iBQCK3DyCbp1iKY3bY4jhldY+2NGYFM1dd60VMEG6pmfWiH5YvEor1TkhiBwIbglsgxz972P390T8+1G0oaTSwZFRALLzlO0yyU72W+htPnE3R+1ZgyFWOQPN2+3tEx2q4d//zPVTi9ymrf8BwnJGdo357/OO1+IUbjz//8Pm/6IAQaliGz9Y2n2lvEasPXO8KQte0e7JDmIZfCrq4bTxmrnd+7t+9vazE/iWxWrG+lACty1jpHxxYctjgeX+CwsT03duaMCozRSgCRvlQ12FB5o0z7I3clyD2OCYmBuAgSPe0t6WY17stut09YPIvTqSRQAiDClAoFCq7ZLrWzS5RGBcwlzyiFFOdElS6CvOj2IuPr02etHmoCzgYgA8SoKfCt2DMxqeXCf/+lukcdCAAQjUw+Atl0ieSN02o8zc/f8ZPTzi3kUFSRNMzk03A2/YNr3fnoj6cATpOERhVg6ctdUbvc3kJ2Pa1v4+04dd4BGGWwoMjCxSqrAQHI+2Dz5W76WopRGtB6q5MAU2LtnBKO1+swyA8fNlhEs6pS8SqzMVTQr0Kly3gest6+//UwnxICpwypGDSexPRN3RpZMpCzh0N1f7nEQhpS1qyUpmQaFxqYp6KDb3Yb/fx8mgDAp5ySIaLituu2UtfrKN1q+1gt17cxZQyAABlzJtc/vmvl5XyJav3h/R7uU5lEkgCAyaiIbGjX4Xz69zU6Vnx6O04gGZbUTdkaE2p60nSHp6/f4uygfJPr1eYIFAIY9IY84afQtXG6L1YRE7Nyo16vNrWFLGAgGHpNmbIh0xNMKUHoRupAIQAACAr8D/99pdmJQ44FAAAAAElFTkSuQmCC'/>"
      ],
      "text/plain": [
       "<IPython.core.display.HTML object>"
      ]
     },
     "metadata": {},
     "output_type": "display_data"
    },
    {
     "name": "stdout",
     "output_type": "stream",
     "text": [
      "5\n"
     ]
    },
    {
     "data": {
      "text/html": [
       "<img src='data:image/png;base64,iVBORw0KGgoAAAANSUhEUgAAACAAAAAgCAAAAABWESUoAAAC3ElEQVR4nCXTW24bRxBG4b+6qofTMyIlWRfKlhI4COIgD0EWka1mF1lAXgM/BbkAhiVbciIS5HA4l+6urjxoDec79Ev3X64CGaKrZTIb2jAdIwAABCapR1edtJZQ4mCj5UNz5Z0rABkTAIndwS8rTUw6xIliF0+E2cCUlQuRPN5v6xCcZY80aUgwkkRsBs4Kg3z+3NW1hCKuDKlZLjTUjqEGVgCAbPs5P7r1iYvjgTmQxcIEiBaAALhJajvsUtW6eUokOnZDARgsJMIsgmvd9cmdtirOiehB51wsg8EwdZD6NZU+ymrZibSBiHJCUYgaAChk/XP168PhMNVPf0+3b2L4Pl77JAYwEbJBzt/xe58So6gsl31gtCUbzFQABglV9cK6Y6JFMJF6djWNABQMQB3ksC957joT8sViKaousytmKjAoJO0d/DzCexn2G7ffhSASBnVCpgZI/1SolszB5eHfSnaPuF17RwBbNgDy8NvXTzFZlpqmrV+Nu6557aseAIwJkEfdF9AYzcs0hTOfp8nqQgaYFgc4nnuqKk3ZuzTOXogKLbwvBgUBkDtrz26eMfGqmcvZjdj7/aYVq11hzgbIpV3e0J9TxPlp1S9uX+HDbnvRGLMCAoN8Fe+utN1k42WV7fLdfNX1CpAaIDQXuTuurtOqy2OKltPi/NWqjGMrpcwKcwa3sJgsRsuH5OnQzUNM2QhM0GwGyOMGaf/4HMVVgcY4jl0EiS+QZFqY5K/hMm0/bCxU61M3xWG/ofMFcjKIscsmOadhs7Hgadn4/Kn540tZUE6JTV7Qrmw4Rlo14zhINf2z//3jFXlN2QAyMMRjM95/exUfhvnNN9unj8+3P/6wmExMHdQA8bT9cry9mz9RWH93r1N999Pb3SxR+UWlNMEkofE5BHfB3B9P6immBIG85F6lfWqwbjMQVjX3Qyt9TAYArMYkpwkGf9FMAzzDB1DWMWaml7Hof4lUylX/XxriAAAAAElFTkSuQmCC'/>"
      ],
      "text/plain": [
       "<IPython.core.display.HTML object>"
      ]
     },
     "metadata": {},
     "output_type": "display_data"
    },
    {
     "name": "stdout",
     "output_type": "stream",
     "text": [
      "6\n"
     ]
    },
    {
     "data": {
      "text/html": [
       "<img src='data:image/png;base64,iVBORw0KGgoAAAANSUhEUgAAACAAAAAgCAAAAABWESUoAAADO0lEQVR4nAXBSZPbRBgA0K+7v+7WLln22B7PwkwIBE4U3Pi1/AuuQBVVVE7AIVQCEyqEMbN4PF4ktdTqjffId+AggAC9b5mkxqcRBa42R56Tp1t9LnCkJDjnudEBgmlYEBRIkh6NISGerDh2lFnvsYYgqANVScLVmOZ3LakuTxYrjcEZ44RITMZoGOu8kpL66QOnbLpkxdTi1GllZQwkllRDFheUk8Y2Iy2uSoIiwU/N/mmQ0dCRhA2e5ysmxtt/1pqevwoPzkl81d7uR0+bvUDeqMRlSVno77d5VedD5DygHABsr45NEdPDzh6vXQTeDRkZlJns+wZ/9H1Zv7snqWS2u19//sjIw19bkJn98OadiyT+IKKvr3d3LE8kYzpAcpW++709Sc7Stz/90pcZDsf42PF0z3jg+Un6soLdv3CWC2ssTpNJhFRLjOcPa+49jeftixl7uNkigdEmV5OziUSnymg2c79aPTDLp/O4Xf/ZXMq4WohrWRcpwgiWFWUgoe0Ju6gO9+8PZZFni8usVWTwyMGYlrUMQ6tkcUH//rDmmXX9YS/0/c5TlNGgD6SdyK6DerU4Pn6Mvj0cN1TLdvvHjRZI0YIZh0opnLw4bW+2/Ktvfnu9GQ9Rp3e3vcRpw+pJImA3LC/P4jdv2+VyOYfQYe9oOhslLnosMkG2G0zmxeH2I5wC1p/0oayXnCgjsCohJkGtzeSkNM8POpG2n15ubL08d8+Johg00cewU6dffDZphvxicsa9ZKbLo1LZbg/483HRJM93bPbyWrrqS5dW/S4ilLK0ysrQOXw9X1G+b+I4j7CEFMAM62j0g3HgfFIHlNM69RamJenoOAT0lo66Gcf93RroPAl4vqjYoJx0W2u6DuMIJdcWI3i+n2TzEvBiJfUwQPdoWL/TcTmbToUhScm6O6NHD3hdiEaNSLnWzcE5rj1lHpLakd3BdsDwIj4+9TZHTsERkpeZALU9OKGV8WPjAK3a/ufFDCnRkfIiNOoeOh08jE6E4AA37vGRzqOCwdiJ3ivdD65IMcqAoM8dYAO9RxZTyqgLMHhKCUYx55wKypwHDBCAEBoCAGEUCHeAaSoZcCmtB/gfj17Llr491rIAAAAASUVORK5CYII='/>"
      ],
      "text/plain": [
       "<IPython.core.display.HTML object>"
      ]
     },
     "metadata": {},
     "output_type": "display_data"
    },
    {
     "name": "stdout",
     "output_type": "stream",
     "text": [
      "4\n"
     ]
    },
    {
     "data": {
      "text/html": [
       "<img src='data:image/png;base64,iVBORw0KGgoAAAANSUhEUgAAACAAAAAgCAAAAABWESUoAAADJElEQVR4nAXB224cRRAG4L+qu+e0u/bG9spmk7UdEyWCKL4BIUCROD4BD8ODcYMEV4g7ZMkoSpREkOCASbDlPc7szvT0dBXfR98rJMDxYjnbeHH59q3CMSJAGiMSsaTQKB03bYRVhioAkApUlEStIMYoFMXt5LZbbXxljIFQohFKpJYUUYTTvXx7vB3e/HUV2syBtININKqWRUUjF3uj0XhHD3efXIbWaBMNSxeNEYsYSckmWVL+UQx3HixnC6OhbLMB1Z6t2BhBRsJKZtWsG396cvdiVrXtTN6/h4u1B9kggEJCGebX67due2vIta/z08+OFple1gMGiA0RW7a5nb243p2kVUWn3301Gd09TnRsiYhVKEmNMl39Ny32qLInjx/ePA3cV71lQVAQkaU0OPKeqAs0ubf44dfJx065zxAFRBgSu1Z7fZovfLu39ernX160O1nvgAkKVaALrffueNJdrSi5U1zd1NN6f3t0zEQMMMUurBf17S+O/r0IyXAUl11evUtGt3MLVjBDYrtZDR9/Lk/ewAx68NRPZv7IlBYKAPCdL7NPvsnPX5bsrPXBFlnsxlRaAACij0t69OXBy7MLybTP6w05i27YXVsVMLNvms3J1/dvzp9XmXaFi5EtMQabikUVQuqbvY8+2Jz9Ps23MpsRkSO1rjANAxDS4OPktHh19lp7eZqg6YxTsUnOntlYVmiTHO8vnr1ue30L6YIaBDXWSs3EBBXB4KCY/1PmgyJNEBo4ozDaNQ0zFAy4zLSLFRWptZZDQ9YInNS1ZyYV0ajaLmeNc4ZUyc9jj+vWoQ01ExOpGjSzacOM2IYYq5tQuLbLqMXGCkjhEtde76I3D2Ui66a+CRl16XDdUGejYUNwLq5KHk6bulXvm78v0zTbH17KOLcKIii50NTFAcqg2ubT6nqyM3nQe9nd2bcQYpIki8t3w60PwSApn1+uigN/f7CU4tCygshI2sZlt94dpK5/a+v4p2n1rebzPzPz0AIKYmuTWPn4Nokxe+8IZXU1Si5+e7b17JFVQAls04i2aZtyQzuH4/nV+Y28erpofpz/D8ZD4rtFTzupAAAAAElFTkSuQmCC'/>"
      ],
      "text/plain": [
       "<IPython.core.display.HTML object>"
      ]
     },
     "metadata": {},
     "output_type": "display_data"
    },
    {
     "name": "stdout",
     "output_type": "stream",
     "text": [
      "2\n"
     ]
    },
    {
     "data": {
      "text/html": [
       "<img src='data:image/png;base64,iVBORw0KGgoAAAANSUhEUgAAACAAAAAgCAAAAABWESUoAAADI0lEQVR4nAXBWW5cRRQA0FtVt+rVG/r1HMdOjBMlKAgh2AZ7YTtshF3wFYRQvpzEuLGdds/DG2q+nMN+S1RqY3snUk+6HKDQwgmkBEmQRYFAjAMAgYjOtO3aikqHjJzj/OzVRCAD4BSJgIgJzqPhYI0OfY956JVO6EkwYMBQKwVSKhMlNWggMUbAIGGCyAhU4hOpMRe6B29PPLRtsBuUQBgCRiFEVHVZqciUpoZxwVP03neGe5TEuQemFUkVTyZkLIAIpAaZZvs2RZx6MfXJx7iX7rxaP9RFNatTj/VoKD0DwhI4G0J3trw/LG7vnstq/uFdGXvKd+cDywJ2jEQQpve5D802zKnxej7LGtY/fNpejPd4Ittz5CRRMjV5f3O43TA5KJvd4dNfPcZb3KfUtZ7YGIrqVfXj9wv1dTqvs+682llSvEWEYdUfNse2S/oNL5Z3a7yaFn7zbTe8CTMcYZ5djGVcL44ajJb3i7vl1cV1fv/vhr+d2vd0RJIKQsqGoOHE3Oflws9v3i4+/l3/cMVMlmbYK5GMNx7Ru5Bfyu3j5tjc/7P45RUPzUepMbgUvHexj9F3H35d7Y6bb182kIdn2hryAavMchTCQt/3q/HP/11/prYb/jTLXe8GdX/AGQQoRIfZ0TXNwx+7r3FcVvN6681DeX21u0Ntz2Uh09AFasXd7+EgBxnLhl2zehbehoCnYDcxo/xlISOtttXF63d6fTKPX5922tybHe4pdptqVA94oMF1MR4Uab8WYf20NQ6b3REdY6Z3FEqufXH5pojt46HRevByDDhiTxpFlmWeubPPeZ7o1DhrQghQvBhORkO+XyIWRRGMcaYtckQbrWv5oKiATS/rgucKk1JRCHU6+HxcXdTeOpypYuCOukgrHL7AmGJkeV1uVptDweaS8/LsQ2f7bhl36maMySWSAriumTN/5lICbXPFWeAMOvaF4aSMkadAuqCe2i6QjVHlGWcTJJXI4muwPhF5GFUevrPO2BhSJriYCiKiiN5ADMmVEjjxzPnAKHHvPGggYgxwecxkomSV5IwlSKKQnkdrI0FMnMH/BqYGJe1/x4sAAAAASUVORK5CYII='/>"
      ],
      "text/plain": [
       "<IPython.core.display.HTML object>"
      ]
     },
     "metadata": {},
     "output_type": "display_data"
    },
    {
     "name": "stdout",
     "output_type": "stream",
     "text": [
      "3\n"
     ]
    },
    {
     "data": {
      "text/html": [
       "<img src='data:image/png;base64,iVBORw0KGgoAAAANSUhEUgAAACAAAAAgCAAAAABWESUoAAADWUlEQVR4nAXBW0/jRhgA0G++mfHYTpxACBBCuCREpeSllSptH1bqa/tL+yP6sH1spVbtSkthWS6lkAsEQhLHscdz7TnkZyWl9jZ9zWhE5eqNnn2dFCvlg0b08vlRbLPfwQMP/bqMDjqJnF78O96OKQFwqtLozLRkI8Yx1L6A5tkBgeNqMZs0BHpntebb9blhCUOjrZeYbPF//GAwShfzLUTwWnLBlGPvqVu8zNYZ57Xyj7F9/274uF0jXBvJ482TdM4GQbC+PV+kzFaoumx90+8PX9sxIrGySATm+DQje/3DpFxKutm2l3eVQWv+pCl6Z8uCRQ5/+fBp3ezt+OWiTPrN8bU+6qi5JohglAqqiL9++O0/0j5Miuc3dtgpvkzrvVohPRLijOKVCPPp+edFvdt244lpHPKHR9bdk0uDFIkpbVjFbzuvVy+ifSBeJ+tqb2t0nu52g1QCJeC0i2r40zv2OFXhTlI8L8TxYXb9Vm2Fq9wBAbCKVfCH73eXozTe2yyGL7DXYzd3fq+epwaReF1aiv1+qxyuRbOFo5Hd6DZn98V2S88VUnTOQoiZESRXVCRV+bqO2vtmlFVaSVkCJeCMYfjxRhIlCatW9UvK9jrqy5Af7OilIYjeWI5/XeXUKUAu7PNINU8bTzdye8ctNSXgrCU4XYCgHrSJ2PPtIu53i7tZ0uJ5iRQRCSLjgQiFlzpO8tuxb30V30/iTmWZOoqEeMCA8yCKfZbzRjy7yXYGjfG92qypAjkCOIKUEipiWGW+Eq3v03qvnd+n9Q0ovAjQg0fvFFTCbG6CsKqvP65OvhMX06TJ5nkYoiUUKRoS0cU0DxoNkV6MaqfN+VAKWhaeUooEo9CD8ItxXu8d18u7T1l3EL8VgXBFCUjBsshZg+uHhyI5KO+Gq7/bvR+P9rVBV9oA0VvGmHXl+GocbG5lgtOXP/nJUbTKmJBlyJQDRpAYXdD9Rm8XRI2xRzxrqcdlSGyWcGqBIQuk2IXG5ml1Snk1WN+9NdlyjqJcbnDqHRNesKhVb4p4vVJBFAq5nFOmAb2UaK1hLIhSzXx+fyknz1xQJMwjI2Bd5LS2jjngZnIxuroxzAVNFoIAxgNBVEkCB4QwAOKUzIvchMDAA3jinDNEa3QI4P8HEZrfxqxXmbsAAAAASUVORK5CYII='/>"
      ],
      "text/plain": [
       "<IPython.core.display.HTML object>"
      ]
     },
     "metadata": {},
     "output_type": "display_data"
    },
    {
     "name": "stdout",
     "output_type": "stream",
     "text": [
      "0\n"
     ]
    },
    {
     "data": {
      "text/html": [
       "<img src='data:image/png;base64,iVBORw0KGgoAAAANSUhEUgAAACAAAAAgCAAAAABWESUoAAAC6klEQVR4nAXByXLcNhAA0G6gsRDcZrPGcnLLT+ezXJVDTj64XElZcqQZakhiR+c9/FNbjCEYsCEA+Pt9KdfZdN36ax/GUVUBjADAgAAKSim5MICQUqAUSitFlTsEw6gZWsm5pFTvWDDvqXEtWCl0yVjWSYe4ZsTBZX1yZPjNZ5FjLZQJUGcNKe6PqO00j8fr0Or+oz5aDVQIETk236LfHgW0mq+H68D5dnMxJi6ZAAFqzC349S6IyZppMCWT0iLshgKRkhx9jHFbkwRptCKhGgAD5I1ppbG34H0MMchRT71RihQ2jr4yV+BEXdeFvPkYpZ2GeRhV2xfa/bb51mQnPwig5cxhrW4+9JN2UNNa/GNZfZTGoSEsnGpjBvc0D05pgprS4vfbrYmx455aYr8XBuVO50kJks0ihvvL+82M1raBVkh5D3JSx9NZIRBWktXf3t/v/cFKoem/FEsDO3VfrCoZESmDL9t+Swc5itbR45Gadvbzce7y4yG06jTnt5eFhescMFOIwaru9MXaCNujTBapWxcf0XWWqEUqhfXh+HzSPsT7R8EqNOwlgVBNcmUgZqDT9TSrfV/uNyGlQhMaCoWci2yJLJfD5TxBq37fExUouSW0WI2KD1U8DVb89nzWvPvWQOtxIM3CTMyCt0y1kDPmy3mSIfhQNfaXE4gyfHIs6utidAAan/vZCmETIbGexrFl0c094fbhW1tGuvwxtFaVKdrKBr2RWMWgiywl7SmujvrjsO3cCisjpbYKBQo7cosPvw/VJ2qlokhrDosXzllDIQtpsIRWam6FiT1JtXx/B+aD1FZhWpsyDVOW2qKytL5nB+s/3+U8oyFjallqZhJlpWlu3NPft3EQ//71s/udzRGFDDHsy661BPvZNGvp27t2/OPr69N6aa6JFpb72+tdn2c1H3QNQBqKT29vH/qStg+yGNZfP7+99J+er08XbvGFlBZaaNOf565z1vaIkv3Gbr32J1Xvr/8D4WDkERe/QygAAAAASUVORK5CYII='/>"
      ],
      "text/plain": [
       "<IPython.core.display.HTML object>"
      ]
     },
     "metadata": {},
     "output_type": "display_data"
    },
    {
     "name": "stdout",
     "output_type": "stream",
     "text": [
      "4\n"
     ]
    }
   ],
   "source": [
    "grays = img_prepare_all(proc.X)\n",
    "Xb, yb = img_select(grays, proc.y, 20, img_rando)\n",
    "for (a, b) in zip(Xb, yb):\n",
    "    img_show(a)\n",
    "    print(b)"
   ]
  },
  {
   "cell_type": "code",
   "execution_count": null,
   "metadata": {
    "collapsed": true
   },
   "outputs": [],
   "source": []
  }
 ],
 "metadata": {
  "anaconda-cloud": {},
  "kernelspec": {
   "display_name": "Python [default]",
   "language": "python",
   "name": "python3"
  },
  "language_info": {
   "codemirror_mode": {
    "name": "ipython",
    "version": 3
   },
   "file_extension": ".py",
   "mimetype": "text/x-python",
   "name": "python",
   "nbconvert_exporter": "python",
   "pygments_lexer": "ipython3",
   "version": "3.5.2"
  }
 },
 "nbformat": 4,
 "nbformat_minor": 1
}
