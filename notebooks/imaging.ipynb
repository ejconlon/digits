{
 "cells": [
  {
   "cell_type": "code",
   "execution_count": 1,
   "metadata": {
    "collapsed": false
   },
   "outputs": [
    {
     "name": "stdout",
     "output_type": "stream",
     "text": [
      "ready\n"
     ]
    }
   ],
   "source": [
    "import sys\n",
    "for p in ['..']:\n",
    "  if p not in sys.path:\n",
    "    sys.path.insert(0, p)\n",
    "\n",
    "from collections import namedtuple\n",
    "import os\n",
    "import pickle\n",
    "import random\n",
    "import warnings\n",
    "\n",
    "import matplotlib.pyplot as plt\n",
    "import numpy as np\n",
    "import pandas as pd\n",
    "from IPython.core.display import HTML, display\n",
    "import skimage.color\n",
    "import skimage.transform\n",
    "\n",
    "from digits.data import Env, Loader, invert\n",
    "from digits.explore import img_tag, img_show\n",
    "from digits.images import *\n",
    "\n",
    "%matplotlib inline\n",
    "\n",
    "env = Env('..')\n",
    "env.assert_ready()\n",
    "loader = Loader.from_env(env)\n",
    "loader.assert_ready()\n",
    "print(\"ready\")"
   ]
  },
  {
   "cell_type": "code",
   "execution_count": 2,
   "metadata": {
    "collapsed": false
   },
   "outputs": [
    {
     "name": "stdout",
     "output_type": "stream",
     "text": [
      "loading crop-test-small noop 42\n",
      "unpickling data\n"
     ]
    }
   ],
   "source": [
    "#os.system('rm ../pickled/crop-test-small.42.noop.proc.pickle')\n",
    "proc = loader.load_data('crop-test-small', 'noop', 42)"
   ]
  },
  {
   "cell_type": "code",
   "execution_count": 3,
   "metadata": {
    "collapsed": false
   },
   "outputs": [
    {
     "data": {
      "text/plain": [
       "(400, 32, 32, 3)"
      ]
     },
     "execution_count": 3,
     "metadata": {},
     "output_type": "execute_result"
    }
   ],
   "source": [
    "proc.X.shape"
   ]
  },
  {
   "cell_type": "code",
   "execution_count": 4,
   "metadata": {
    "collapsed": false
   },
   "outputs": [
    {
     "data": {
      "text/html": [
       "<img src='data:image/png;base64,iVBORw0KGgoAAAANSUhEUgAAACAAAAAgCAIAAAD8GO2jAAAFiUlEQVR4nFVWwZIruQ0DQKntmezLH+4hp/x/VfaNWyKJHOSZTbrc1QeXBIkAAfJf//7TBtx0d5UbMNzea7sNAIBtgwZsAwBR3tm3hmKMMYYkhgB0tcu2TQK0PSJEAC13ETZgo9GV5Tb43rQN/w1mqGMEpQhFKMZQBACHXW53l7sBeohBmIJN0KYNNLz3rizw3OH/ANodk89rasQYGiPmnIpx/kbD9n3vdAIcgAADDQJUu93u8n3fmUnyfWrTAIjuaveF8fCw2w4yqAiJJAzQLu7ergYwaEcEGZ1ZVZm57nXf99q79m67u7uboEET3ZW1r5yaYGhes6q6u+ccChcqu7ruve57ZdZ4lwB8/w4JNgADbrt9eDif7i577/z66xVTrmZDIBqthtnZVXW/1tfXV2YOfGuDIEGKkkISSVEWAZskDZTbTQHd/Xq9ItXVaBCCaRlml6tqvdbr6/4bgABAggG23s+IAdl9VMezmoCrd63X19Jgl+kIjsHBoW+Azl25MjMH/F0cWpIUYo8Yz+tRVfgf7dvOqsUFITsz73AUu0af7hFECiyTIkUGOX7KDwPkG0Pj+Xx295sf0kC7994klaqqtW4xCAkSI3TNuAgIpDGgAUH6IfmUCJIiBIf4eFeNhwBnVUQAkLT3HppkCEFIjKkxNUjShCCIJs3hoxBSJCWySSoiIkgeAEkHQFJVujsUZBAieY5MiwyCcrONbnSj/PcNTNDnNNKp27tilGTCpHJLImWzqkUme1d3O12ZSSD33iv3zszMymESx5gOGwBA89gSgFPgAGD2fjMnAN1udu1U5L1qrhQHgb33uu/MqnKlh8EGYRAmoBAItVANgKKN06trrXXv0+d7725QjAhKJtsom3CjQcac87ooDQMNAJZNidKMAcOZsNvOzKrce6+1vr5ef/3+/fv379drHad+PB6fn5+PxzUiKImY1zVicETMWXu/OTDQBG2YBkk0Wd2dWZl7773utdZaa6+11yLx8fmp0OPxuJ6Px8fz+Xxcc5Lsns6CCKAixvHLwynemeK39t1Zudf9et17r73Wfd/3urOKGmMMxDtwIuI0/9mth6cvkn3lt4r84/xvU3O7qtba92vdr3vvc42NMhFjXh/Pp8XHdV1zjpNrodM0ADQ5gt1j8G0G5BHS2zk6s9autfZ9r71y78psN4NjDj8/Pn79+sXQjHHN63pc1zXHoIHOYwkF08a7RHyniul3luauvHN9rftrdVe3AcYYAV3i5z/++OOfv47hjog555xDAbt5rL1x2vCbZOMAwiRod2YeUvfOs0RnQYxxzY/nx2PMBkTGT5oZNoEGLDEUJMd3KP4Q8I7Io8u9du4mGSQJQaGYY44YBAm/NYKfRHHT5He6HIBjtu/XBujGztqr1u6slkSd7D7ZQds707CkiCAbwBiDJCnS3W13IIb7yNR9wvLbuV2d1dXVXRRNNtxuuRtYudZ/bgMkxxjXdc0xxwwSsKvKQJCmh3FAAbK6elee4mS3XfaqxM4IXjPmvKrr9Xq9djeSohRzXnvv6xqx4zTCmQLOZUeDIuPtkShUu6uq3IZBtJ17RYu8pHbnrmxUIxmMMc527TFqiDp13HvtvW0Pg4AMvb1UhIISAwpGcAxVE2TDWclj3SizUTJaKlYyASI4ABK99r7Xje4B0US9+1cGIcacMee4alZlldEnkpot0O1GN1tClTMpKS11g00Q7MaZp2qAPIMqjohFBmVe16SbNIV9BQx9uwDc5Sq3aZIa0pAiNEISzxZ7MULk+M78M22ZkhCEnx+PMTRmXI+ZuWD+ABDOylVpNMmIGHPOxxxz/vhRHlV2vxutz3REAmSIGkOMA5CX6/k9AIAM0ln52vv0J8UxZ1xzzDEUAklmleGu/i/EyrRCBj94qgAAAABJRU5ErkJggg=='/>"
      ],
      "text/plain": [
       "<IPython.core.display.HTML object>"
      ]
     },
     "metadata": {},
     "output_type": "display_data"
    }
   ],
   "source": [
    "img_show(proc.X[0])"
   ]
  },
  {
   "cell_type": "code",
   "execution_count": 5,
   "metadata": {
    "collapsed": false
   },
   "outputs": [],
   "source": [
    "g = skimage.color.rgb2gray(proc.X[2])"
   ]
  },
  {
   "cell_type": "code",
   "execution_count": 6,
   "metadata": {
    "collapsed": false,
    "scrolled": true
   },
   "outputs": [
    {
     "data": {
      "text/html": [
       "<img src='data:image/png;base64,iVBORw0KGgoAAAANSUhEUgAAACAAAAAgCAAAAABWESUoAAACOUlEQVR4nC2TS5IjQQxCQVJWVbv75nPbHtuVH6WYhYcVC+ItCOCf1fsMz/5+vVMAza/H9+MrJNCAoJmZcmVuAYB2WZvHNgAAEbRolXOMkSUYdmbS3GGk0RgSzdeevSfMAlm7k34wgoAhCjRnrTnlFqcn53rZcbkJMDIEmplyLos4H23byjnGPEoEwBAZMqoE83Ydpf7KlbsAmBHx4RA092itaTUrqQQzJxkAaXFetew8mvs2N5UE0j2IKIJqj31MNA/uTMENAD0iwNgE1H7s7BvQ0urJcCfN3B2MbRTOK44YM2vWHANHc6OZuwEBgPSmmmPNmbnWVjQjaUZQ8bEWzsrRx8oC3I0fgdFg9HBZZc7RV4kOWhhqO4AIgEZQgrmZUVIVBEkCGQRI1dqIi3GsnXOrMrMEmikMBHaOnnbGeeXurzvXWplVACwclHK97o52sHa+ucbKOXNXSQiSVet+vnuLOBzZ8qnKnbml/wHs/vp9zqud7bLCO1CqKkmAQtBe/fn7d+b1YGvZ3AAJAEggJOwc9/s98LOqau8tIwmCBBEF7b3mmrPNOUeu970AQcKnh/rw3FG5BjB+X2luJAFIDED0dj0ymf1513y+K9xobiipgiDivHJ15HDkvAeat4gId/5fIzNr3ol111pjtcvbeUY0dzLKjGzHo2pUrtx74/hux/fjcRBliOUwMY4v3XcfWWA7v87z++t0QlIMc6IAejRxF2CHG1XbKDNEsojPkz2wC6AJqFIVAPwDRcmksjQ5JNwAAAAASUVORK5CYII='/>"
      ],
      "text/plain": [
       "<IPython.core.display.HTML object>"
      ]
     },
     "metadata": {},
     "output_type": "display_data"
    }
   ],
   "source": [
    "img_show(g)"
   ]
  },
  {
   "cell_type": "code",
   "execution_count": 7,
   "metadata": {
    "collapsed": false
   },
   "outputs": [
    {
     "data": {
      "text/html": [
       "<img src='data:image/png;base64,iVBORw0KGgoAAAANSUhEUgAAACAAAAAgCAAAAABWESUoAAACLklEQVR4nDWTQYLbSAwDAZAteTx5+T53N7al7iaxh0nudSoU+M/63Du5Pq/X1QbAeDyf348AJZFJhdhee7dBoKq3IY6QQSGlHF3zumYBCrBWGxEEAZJpKrJq3XMj4ojNvUrjSBkAmDYVxJ7TGcdzdNa+x2OVAZFIg9GBrgJjnA9zvvfa1aBEMg2GUzTIGGOwznTVbkMaRJqUdkY2x8gMRIbcNhQZYsIi83z2xDgG3eVIwqYigkyjhfhyzpJU3vdChsgfUciCDH6N455VVb2uuzMEkBSJbFiO88zUZ8695lxbKdoAAGSTIEPet9d93Ws1RFFwt4gUQIoxErXnfa0GacDubpCZIJURlkGSku3aVVUNiJkAScBgnI6xvdeuNeeqbgApAKT32shH7l19v18z5n08drX/AKi+PtN50N0fzc9ac65tt1IE7b3er4/PPJJ99otVVbvbQAqka1+v/97CEY9hfY5wd3fbQMqke31+//sWH8jDMyP2X09Mw+ha1/v3W/n87u5d5o+GNvAH2HPOi+d1X12fz4II2O5WNozu7gZqzSuv/XothgjRtrNhGMrjnLPud2N93kvKCEX+9AAgxvmssuene17XjiOPkRkhJgGQx9fuvVx37TWnx/N4/Po+A3YSgHxWuXt73Xt363ieX7++htBI2ISYR5v3da9qZo5MoUuQssoyDcU43VAZVACu7pY77zIlNEAqBncDhG3/ud4qIH4mJQnABhoARSn0P8fsuq4PnBNIAAAAAElFTkSuQmCC'/>"
      ],
      "text/plain": [
       "<IPython.core.display.HTML object>"
      ]
     },
     "metadata": {},
     "output_type": "display_data"
    },
    {
     "data": {
      "text/html": [
       "<img src='data:image/png;base64,iVBORw0KGgoAAAANSUhEUgAAACAAAAAgCAAAAABWESUoAAACKUlEQVR4nEWSW3YcOQxDAZKlarc3nvUmdpdKIon5aE+CBeBxD/hrzkWr+/V6pQQyxvP5+XGwQQMQ5lG9c+1sCZQ2d1YLAEAgYO6Vc87dINGVZRFhRhAEQqCh1rwTxkCqJiyGhRtJIkBz9l5L4TE8ufbl4wwzgEYE6E3lTqOP51G2933cu1rA28FMDgn0GI/RfX3nuyVJEAGDu7vL4xjj6BFsqQXSjUBIZJxPpR3jcBONEgSamxkQDWh86lhwD3SWYARh5hEAoiEO9zFT6K01ExFGmkf4O0I+YORctVX7XhwRZubuDioIM2cfd++1MzMTx2FmZm6kGGYMM6dqzXvtkhjhZrSfmQFzJ1WZ654pmJu5k3grSCMkie5mph8GhFogFEaiehWHLMaunerubv2gDAe093W3P45z5bpeqzLfrI1AuLr2/J4Vw1R5R63M/e8zQSjn19fEc5zBujS/94+FBCqgul+/f99upz1CsQ7+X0ICFF15f//5c43xyTiVYQCgn5FCdOWa1+uquUutqgb/CkB0d2Zl2t77Vl2vuwkQIElQIYH0MHSu18yvr1s04k3yfTk/zo+10eu1kK+vbXQzJyFRCGOMx16zak3WnleHRUSEERAQBpwfteeyvFRrLRt+jHEc4UZCIXOPR9bMemVX9fk8jo/n4wgzEohtkMej7LpXFhHjOc7nx2MY36BuQgAsDiFa4Hkc7wYNEYgiAAmwQLXAAKnuoswB/AeWZqG6B6huUQAAAABJRU5ErkJggg=='/>"
      ],
      "text/plain": [
       "<IPython.core.display.HTML object>"
      ]
     },
     "metadata": {},
     "output_type": "display_data"
    },
    {
     "data": {
      "text/html": [
       "<img src='data:image/png;base64,iVBORw0KGgoAAAANSUhEUgAAACAAAAAgCAAAAABWESUoAAACMklEQVR4nD2Ty3IrRwxDARLdM5KTL8/Xumxpph8ks9BNsD6FQpEA/6l1jS2u6/26o0CYzufz63AAZhRBIysjMwsASJea3KqIgghzZew5ZhSAKkRWFQCAKCWKxhj3PaNAVKww9a0/hAqgMdcYq2jGrBlUa15GglSBZqw9R7qrKTjX5e0Q5KRRRZobYm3I+6Ml5xp6rFABJAVQdGSCpv7oWfdrrxWRIEmqYDSXWllrvfdc4s5KkDAjlSTLz6+aaK3Li4aPzI2EkkS1Z2qkmSP2ThgJmrnsAxSPZrpWIGetsSGZ0dVkhEDQZZWZO7JyjcnW5O7uboScpJxyxJwr9o7F3tzM3N0ACTQ5DbHnPebOApvc7WNQcsCMREbEGiOKlLmbkQBAWdFYsROmtjayUDB3w+ejMoC191jscPW9ZlRVVaFAAnJURdzXFX6247Gv1xWxd1SRRkBk5r5f72FHt4r1why2PwQIiECO1/drHjpOYfn8yYy9I7JQhAox37/fP/vrfLbTIg5HVWbWJ6Wy9rpfv6/Fv5PSdIL4XwVlxpr3uPexdgb2Wkmj2ScioKyqLAC19zTev9ciSNJoJCAWrR3nKMR8z7q/32FOkgBIlmje+vG4k/sGYvzckNw/pyQgGtu55rEZI3KPa7s1fbpQVVCZuY6vxcAYsde0Lh29tyYjUVrJMh1/8Z5jZ2bp2XU+H725GwENYyXoPSKQoM7n0Z/n2Y1VIPTfYukNJhSPJqm5oZIF/AvaO4e4izeN2QAAAABJRU5ErkJggg=='/>"
      ],
      "text/plain": [
       "<IPython.core.display.HTML object>"
      ]
     },
     "metadata": {},
     "output_type": "display_data"
    },
    {
     "data": {
      "text/html": [
       "<img src='data:image/png;base64,iVBORw0KGgoAAAANSUhEUgAAACAAAAAgCAAAAABWESUoAAACLklEQVR4nC1TUXIsOQwCJLtnktqT72n3vSTTtixpPyZ8UxQUwH8R973dzv3z/TrdIDU/Pj6fkw2SQuMNgugGAEmiSAKEE5TU55zMBoDG0cmqRgOgk+ZeJ/ZapxpEnyqZu0QQ8O6mqXO9VrRoyIyE3OUmQN4NyJixV0k2lYzzkk8nCdILoMQ+O2g+niMVZ9m1pzdIeoOCC5lN2XyOxr7viLch0gFIbQAo8zln51RlVTUo0QEQZnM+juYY7mXGqm5AMskLamA8//GgD1dXkeRb0Vxe6AYmOVeTzIp9YBIhmTs9IbTmtPGKUyd7rw0fJsnMjN4EKDd0ZkZmRuwew0TJTHCBpMzcVWftfU5WuYskRdAdpNxkrIy1VmRDkiQCANwBvrutQldmFxuUhK4GXABIVBZsXA2rzK7sru5u8k1A1o72h80dZ99R+Z4HRTcA3RGvV2COxznnxdwndmQVQCeIyri/XuHXECpG3vc5ESeru50gOtf33598DLsGgutPV1VmdXc7gKr9+vvfT9cD/lDsIXRVd6MBb3Sd/fr++m5+JmWp37IAkvACMmOtdfe1I7NiRxHvzRP0AqqqqjtPxALv79f5VWiA/r6K+fTus3523X9+0kySgHcK0Hw+YwNxg7m+FtxNMuMvwTAfESuZq+usOzhsjOFuJnqT5LzOic7ekefsuh4+HtfwIdGTRsrnR2mdOJlduj7n9fHxHGTTF11MmF8FZFfTxvW4Hh+PYezC/0m1oA85EB+cAAAAAElFTkSuQmCC'/>"
      ],
      "text/plain": [
       "<IPython.core.display.HTML object>"
      ]
     },
     "metadata": {},
     "output_type": "display_data"
    },
    {
     "data": {
      "text/html": [
       "<img src='data:image/png;base64,iVBORw0KGgoAAAANSUhEUgAAACAAAAAgCAAAAABWESUoAAACMElEQVR4nC3SW5LjSAxDUYBkSrKrdz67nShZ+SLRH24u4ETwBvhfjj7oGp/7MyUAiNf7/XMaaW4M0Mwqc+8siFDumYKhuQG0oHmrtWcfq2Rm4l4lhpMGAEGYR2rPMcssDi7cs/xo4QLIKIDm1F6LEecrtuXvOMYrBRoZAs3DkDvdvF1HYtxr7S2QZhYCLBAmAfTWjtqnV2YV6B5fwdg8At4i3ODhqirBPNwCAAztemPZcTgqE94IiWbmDEFWijfOKXNmrr7Zwgh8QxUAyn/aOVZW7pq9qwUBgACiRFHtOFo8z15zzbnT3PDvokQj6aE9tHofMwtGGlVZxiBI0syaI/ccfQlkSVJVwcIBmrlbGUDSHJJyr7WzAEYAhBEEGSf8SO2595pznllQGAEQyp2Iq127atz3nG0c185SGEAQW70vtJNSPbaeteZcu0rh/4D5uR+ccYTVWbdVZu4qIQwApT3u34+hxStgz+FVVVUCwgQCWs/9/8d4yg+FuxcASUIAELXnc//eFq+fTGWK0NeokABl7jXHwNn7qfz0BQMESIoEgKrKgmqO8en7vifdSZJQFAAI5u2cI8dd2M9nsUW4uX8nB8Da9c4sza5avW8/orUW7gwQAEPXUq7KkbnmqPN9XH/+nIFvB9D4KlQtrLkyi+11XT9XUBlWAkm2o8Q+x8xieAunqjYUUIpugseRACwLpEvKLEmx9hbMUCDNPPAlBQgCGL1SsG8XfF8vICWRRvO/5rm2nbIVZOwAAAAASUVORK5CYII='/>"
      ],
      "text/plain": [
       "<IPython.core.display.HTML object>"
      ]
     },
     "metadata": {},
     "output_type": "display_data"
    },
    {
     "data": {
      "text/html": [
       "<img src='data:image/png;base64,iVBORw0KGgoAAAANSUhEUgAAACAAAAAgCAAAAABWESUoAAACL0lEQVR4nE2RQZJjNwxDAZKS/XsunusmPf1tSSSRhTNVwQoLAAs8/rXei9brvu8jgYzH9evXNSTQAIa5e+fZJ1sChKpuSfhIAbrXWe/3KYHoavnYw0EABEKkodZ7JcwcuXbTY5gZjQYEYM4+a8Etph3tc8d8eNDwCZgXO09ajHl5Yt/r/TzDBZJUwNiGbtDjcUXW67VPVgsAQQTIcDOHR8wZNgPd3QLpJBASEM8vpM3HCG8zSBBobkYiGsD8pXHoEahqgQRJ8zAK0YI93MYqsU/vVQw3mkeEEQoRNgeN66RUeyVHuJl7uBEKkh6ozdo7KzOP+XAzc3cCDKeFwalc732yJAt3MzMjIYbT3MXOPPu9SzA3dzcSAIgwkOpumRtBSKKZEf0BGgaqcrfNtpiZp9TShzcBhAud67U0bD52rvtdlVkt0AxAmDr3z+vNMdh5bpx98pz/DgPCqvf9/bOHz4fhjLx/PhMtiVCo8/3779/nms+4WLhd6q5qSAIUXfv18/19+qt9xBlOfGgBgICoyvV6vU7sbHVXyfhHABBdVVmVec5Ztu5Xkv9LKATSRxQq3631z520P21SCLrP57Wb+Tb2/r47wtyMgAAoDPNx7XVYC13rdTh8eIRTkqBw68c5O1srO/fqMXzOOYa7EWI0zceV2Lk7u9ofz/G4rjnCSLBjUfJ4NpU7RY7ra17X9XTic9T+GIshK4mPOeecYUSzAYUEQQB90CUOAyV1wZpg/wt/4qYCKLEOigAAAABJRU5ErkJggg=='/>"
      ],
      "text/plain": [
       "<IPython.core.display.HTML object>"
      ]
     },
     "metadata": {},
     "output_type": "display_data"
    },
    {
     "data": {
      "text/html": [
       "<img src='data:image/png;base64,iVBORw0KGgoAAAANSUhEUgAAACAAAAAgCAAAAABWESUoAAACM0lEQVR4nC2TwZIjSQxCQVJWuewfn++d7rErU0qxB++dACIe8M99L9qe7/e7JJBxXK/nc1CiAQhzt85aWS0BUtne3YIAAAiYe+e872yB6N1tMYYbQBAIwTz3umfBzLG7mh7D3Yw0IkAz9FoLbnF4YqX8OAMEQCJAd6qyLMZxxeaqOR65XYDREDC6SQ26n9eo/Xln1t4C+HUwhJs5PMYYw9dgd7dImhEICYzHhbLjOMJlBgkC6GYkogEcLx2JCEfvBowgzT2cUDRkD7cxW1R1zqK7keYR/n+EHcPMZu7SXjN5DDczd3cCQcJDI6xX1q7K5Ag3Mw83AOG0MDi71pxZu4UINzMjQTEc7i5qV8577Qbd3Z0kQRBGIyG1aARASKCZoftL00jsyraj6bN2tlqSJIAAwoFd67MU1zhXrc9de9duAfYtqa78vKdioCtv21lZWS0ABILq/Py8p7/GYap3f7R3Zu2WvovSnv/+/q5znOO09jmg7u7+EkH0zs/v35/1ul52RK8wAJIACAKiK+fn/Z6cJVDqBkASJAEgdu/MyszMSuU9SyRJ41cRkkhzw64JWz+/67tmAIRBQfNxPnOz5r8b6/e93Z3mxPcZYT6OR96Lexr2+twaHuHuhNRAGPtRdS9pSbVm2vBjHGOEkYQC5j6uwupce+/SuGI8H0cMdxKItGacG597VkmKx+s4r+c1SBFSTKoB8xgNNjDO83xc53BKTSg2IEkwH+wGIoyAelNtoP4Dh3+ZMGMWxs8AAAAASUVORK5CYII='/>"
      ],
      "text/plain": [
       "<IPython.core.display.HTML object>"
      ]
     },
     "metadata": {},
     "output_type": "display_data"
    },
    {
     "data": {
      "text/html": [
       "<img src='data:image/png;base64,iVBORw0KGgoAAAANSUhEUgAAACAAAAAgCAAAAABWESUoAAACK0lEQVR4nDWSy5IbQQgEq4CeGWn94f5dx1qafkH5oDXnhCgS+Lv3YV7j/fe9C6D5+fX8eoQEI4AASSirBAFQITOzBEAkEOYeudaYuwBCuWTeGkkYSQQtMvfofRXMmDkT5kE3A4wIgU6tMRJuzRNzlbXDQYAkQjSjci65t6uV7feI87FdPwDocmQmmh+PQ5x9z7VToP0HEAaR5u04UadnZgqkGX/WjGgH2FqLUIRJKoHmTiLKCL++MNVaM1SRBAB6eJCIguBPtF401tpzI5ykmcdnAoA4vB1zZw2tPhAfwt0JhAT64VStvXeuuao1N5q5kfqEdGdz7DHmWlnyMPIThYgg3Z2m3HP0mQULMzeoAAARoBmNKkBVAiQRkPRzTdGgLHi7wKhcVZmZkkADggZor5k8rJ0r5z0y99q7BBIIp5DV372iXbWzW8611txZkogwqnK8Xjeu1gz5Vn/lXusDAGGA5v393cOOdrp8NFZVZUmAEGLt8fr+04942HHUak5Jwk+FVHver9d9XL8KAISPIXxcRSFzzTG6xlwLu/cNfDQAIKNQpQKQew339f2esE+zBCIEmLdrLOZ4b6y/r+3mRjNIKgRh3q655s5xz1z3XeHhEWEGEkES18rdB/bNvfrkEe08WrTPy4nOdu6976q7du46n0d7fj0Oo0REgrQ4S9Hn3CnYcT3O5/MKg1SI4cYEvR0l0UWezd2oSpgBMd0AQTBv8BLoAKqqChLxDxc+nOjEe0flAAAAAElFTkSuQmCC'/>"
      ],
      "text/plain": [
       "<IPython.core.display.HTML object>"
      ]
     },
     "metadata": {},
     "output_type": "display_data"
    },
    {
     "data": {
      "text/html": [
       "<img src='data:image/png;base64,iVBORw0KGgoAAAANSUhEUgAAACAAAAAgCAAAAABWESUoAAACMklEQVR4nDVSy5IjSQwCpKyqtj99/nambVdm6rGH7uVIACER8E/c95Lifr/f2QBl5+P5/PJuUIBL5llrrx0NEJ2p2JEiABDekFnu+76jQXVFFM2dJEXCu0kh11wJyRGVN80PmREQvUAJteeiuZ/avfbbj9MpgKSD9GRFpMmvL99Ye82100CS9KbRhW7S/Lh85OcVkVUASNIBmpmZ032M4RrGqqoGJRHeaHB8LYWNY5iSAoAGZWaEFwGehWPDTB2RDZGkzNwITzV0uo2ZhVq17pCbSJm7SO8mdIDknVkde24ew0wmMxFOkuYYzlxrR0QkhxslM5HtTsoFsXLdc0U25CaJIgi6gzKBnZF7zWiINDOiGwBcTRLdBZmZrLq78cMBvzd0xkoerXFE7N1VmfX/HgxAxfrMdh3XjvnunRGR9ZPjYlfs9/vucaozPhZr770jqxuAC+j9+f6eeh6nM89+f1dmRHajQQcq5uvvv3n4ZZe37sHuqupGN+CF3Pfr3995nU/60dMIovGL9kLGuj+fu2dUd2YUCJIgScALVRkZsfdes+L9Xj924ueLBkj5WKi9XtzfrwVJ5K/K2bJxPvZSztfd+/UdJpNMRHfDSY7zK+anc32Q+3O323B3F4GGQ8BxxZqb8anYc/tp4zjGGCYSXiJtXFkzYkVl9nj6eDyuYSIJX0XAxvnUfe9IclyP43xc19BPUSuJAij3g16ADnczE7rQoBcIdDdozixABrC7KlEi/gP1JpL1vS8aUgAAAABJRU5ErkJggg=='/>"
      ],
      "text/plain": [
       "<IPython.core.display.HTML object>"
      ]
     },
     "metadata": {},
     "output_type": "display_data"
    },
    {
     "data": {
      "text/html": [
       "<img src='data:image/png;base64,iVBORw0KGgoAAAANSUhEUgAAACAAAAAgCAAAAABWESUoAAACLUlEQVR4nEWSyZIjNxBDAWSS1dL4w/27do9UxWIuPqgnjPMLRGDh3+tatLrfr/fdDdLm8/nrMdGgQIikUJlZjf9FkADQ7XLP2Hvdkd1EV8JHpPHDwRuyyHVdd0FERQTNnUYSJLwhsfZaCWkw+07Kp7UZKcJBGSvWDbfxZcl7nTa/hgwgCQethMwUfT5G8b7XundW/wFEGLtJ83kcVW9FZBVA/ThQ5mNSY8zh5c7qLkCSCHiB8Mdf3PQxjA3+NEGZA/ACMH5hrJJUO3bBRELm/gM0j2l+7uis3ufmcJNk7gbCAdoQqrJ3Ve57YQ6XzMxEwEmazA11rzsiMjGGJMlENtxJN4kVe113ZENmJlIEQbhBEtlVlbmjm6TMhC4DACfI7izYzCpVdleTRPdnTREdtTb8S+PYse6qisgGKQLu3b3XeYaOmTvWq6/cEVnV4CdF5v1+nTUPZ+WpfUXsHX8e5qre5/f3RcwxVbNeisqIbHQD8K64Xv/+cw17cM7m24Gu7u5GA/DMuN+v39c4ArIW+TPX57XwyrjXta66d2T03gFS4kdor+4uoDL2viJ/v1YB6I8Hwc9Yx3Gr9tWM1/eCiRKBBtFO+Tge6+q633ft850mN5mx0Y12Eccz1hm9L+S+rh42xhhuBgJwimM+Yi/kuzJ2jC/z4xhjmJGAl0A7Ms8Vd2QX5q8xn8/ntJ+Yp1CkzaoCQNPxmF/Px3SiuwHfZKOb8qZXQ1MCuquiBeA/P9mO8dd9G/8AAAAASUVORK5CYII='/>"
      ],
      "text/plain": [
       "<IPython.core.display.HTML object>"
      ]
     },
     "metadata": {},
     "output_type": "display_data"
    }
   ],
   "source": [
    "img_show(img_map(lambda x: img_rando(x), np.tile(g, (10, 1, 1))))"
   ]
  },
  {
   "cell_type": "code",
   "execution_count": 8,
   "metadata": {
    "collapsed": false
   },
   "outputs": [],
   "source": [
    "grays = img_prepare_all(proc.X)\n",
    "grays_none = img_prepare_all(proc.X, use_gcn=False, use_lcn=False)\n",
    "grays_gcn = img_prepare_all(proc.X, use_gcn=True, use_lcn=False)\n",
    "grays_lcn = img_prepare_all(proc.X, use_gcn=False, use_lcn=True)\n",
    "grays_both = img_prepare_all(proc.X, use_gcn=True, use_lcn=True)"
   ]
  },
  {
   "cell_type": "code",
   "execution_count": 9,
   "metadata": {
    "collapsed": false
   },
   "outputs": [
    {
     "name": "stdout",
     "output_type": "stream",
     "text": [
      "6\n"
     ]
    },
    {
     "data": {
      "text/html": [
       "<img src='data:image/png;base64,iVBORw0KGgoAAAANSUhEUgAAABgAAAAgCAAAAAAtNefkAAABnElEQVR4nC3OQXYbQQwDUQJk90h5OVDufyhbM00CWdi1/ZvCP49sg7uCqRaSz/dXVwQYDuQqJOMIhDJdAYJA1qqs9JEZnGEFmJW1VmUlLRmmcQqZtfd1rUySViCGwS5k7ev9fu2CwQiE2sMp5trX+++fnT5OBkKnX3SBWev1fm+OBYCQsgKVtdZa+9qBIw8jbWSwfttbM48jK6QgqmqtykzS0Y8iFZIMVmVmZjJg9cAcj0QzVxEAGAZCtqWRpshKAISxOyYi3OfQBYAEQbB2jJMm1FNABJJVnmetmWCmz/1VI0cEACCAiGDmSqu6R3bYtschJp21UTNShCV7WoGs1NqvKv00tPoMirvUT0xZI013qM89BDKxNvwL55HP80yWIgKLrpk++dyURxYsSbJR6sO8E4MOEnbHnMcoTVc/CdF1FRdG8zxiafqQ8BQzB/Tx+b7FmrBtTa+1WaFzdD6fyRpJnuleFwrunu7PZ7I6unvPmcteped+uj+3qjpiRuo5565feI5XdQQd7v6QDKtbM6bLEQpE2IGfD41R+g9TcGetuoglBgAAAABJRU5ErkJggg=='/>"
      ],
      "text/plain": [
       "<IPython.core.display.HTML object>"
      ]
     },
     "metadata": {},
     "output_type": "display_data"
    },
    {
     "data": {
      "text/html": [
       "<img src='data:image/png;base64,iVBORw0KGgoAAAANSUhEUgAAABgAAAAgCAAAAAAtNefkAAABzklEQVR4nLWSS28SYRSGH5hvgGEodCgQLq1BKzVNwUvw9gO6buLCf2jcGFf9AU2MbJRGV8WQALWMyEUuHWCYYbi4mJboXt/VyXlW5z0P/P94NlMgHYrGrAEyP6t/gGJxPzBWNO/at57V3ugg3P2r18XU7Nsste33ME3W3t2ChycnKlurfkBRQji9ZKJ7A/LPVCDaN03Noy6d4J6kCQA5lwNofjG90cPs8NoO7u4LgETCB9D41JfS47nZNuahmABIZQAYXbb8ViRj9cYT4QhAURUAFMU2QpPxsNPs2FEBJLZkAAovl21Z8piNC+OXJUAKh7cBuPN89WOV0kzND7oAj1B33DOPDtq6rKUy9lsQsFjdFiOFpbUUTqYfv7cRQG+6dEHXsYeJtCTv7NYQgLl0wapuzP1ZCY6e6rYARiMDgMtK27+nAS+OfboAGLaeAFyUvkcVH0DRPxUA/RYA5+Wr9INrBTgMLr0Atc8lwOmOFoPRCGBiS27tH9Mir9Z90aHiGMD66zjsgsqHwDBu3T0+0PIKUD7vRW5ee2Zd3Y9n4j1FW5jT6mmpG9lYEs8XHsUWTFn1q6etjQzQO+vKOTGr681G52+vIFu4NyhX+Of5DdUor8VuNxzpAAAAAElFTkSuQmCC'/>"
      ],
      "text/plain": [
       "<IPython.core.display.HTML object>"
      ]
     },
     "metadata": {},
     "output_type": "display_data"
    },
    {
     "data": {
      "text/html": [
       "<img src='data:image/png;base64,iVBORw0KGgoAAAANSUhEUgAAABgAAAAgCAAAAAAtNefkAAABzElEQVR4nJ3ST2jPcRzH8cfv235jv9nPfjPRKNpmc9hmtkLG74BWDhRLDiut5CZ3OS4OyoXLTkom5SQpIf+L9JvDyGxjxBY2szUtzNjH4TtTOHkfX8/3u97v9+vlxCL/roa/pXl/KYkdJUh2/KlvPXz72Cqps2EXErFW07LiR/Hkpsrx42FPo/tNv3o3nn4XQujsDuHjZAhhBHkg25LGi6d1SmCC5RGYSsPLZ7fMwAUOxhN9o6WMDXZnrtasqeX63BUN3SGEu+BoCDmEiEJ6BvEGHBn2ECIiFpSiN54OXpEWsYHRt0x3xWDkxjk+iWiNu6/0xGDs8nsciphCmomiGJRVwykWnCRxLYRwhjudJRW5EBYhMvmcUIQk2dYtSx/QFr/kJvkzGKK4Kqd5JroXrztCeR4yTOSojxTEII8V5agCFTvZHYMvLJ6Hz6ASWaojigo0zccH8BqptvbeiMEvBvoQwCC6ng7NGvWodlnGVGwNHue+io3KlmVorIB9SHkiD9u+rSsc/z6dujBwMbFwL/oZTsDa9cnMcrUbmOhdspJtN7TPxkfV6vwDzfjc98PXzXMpof/d/kJIXr6UCH4HDtH2+rrmofMdY/6zfgI9RJTaBlpLtQAAAABJRU5ErkJggg=='/>"
      ],
      "text/plain": [
       "<IPython.core.display.HTML object>"
      ]
     },
     "metadata": {},
     "output_type": "display_data"
    },
    {
     "data": {
      "text/html": [
       "<img src='data:image/png;base64,iVBORw0KGgoAAAANSUhEUgAAABgAAAAgCAAAAAAtNefkAAABzElEQVR4nJ3ST2jPcRzH8cfv235jv9nPfjPRKNpmc9hmtkLG74BWDhRLDiut5CZ3OS4OyoXLTkom5SQpIf+L9JvDyGxjxBY2szUtzNjH4TtTOHkfX8/3u97v9+vlxCL/roa/pXl/KYkdJUh2/KlvPXz72Cqps2EXErFW07LiR/Hkpsrx42FPo/tNv3o3nn4XQujsDuHjZAhhBHkg25LGi6d1SmCC5RGYSsPLZ7fMwAUOxhN9o6WMDXZnrtasqeX63BUN3SGEu+BoCDmEiEJ6BvEGHBn2ECIiFpSiN54OXpEWsYHRt0x3xWDkxjk+iWiNu6/0xGDs8nsciphCmomiGJRVwykWnCRxLYRwhjudJRW5EBYhMvmcUIQk2dYtSx/QFr/kJvkzGKK4Kqd5JroXrztCeR4yTOSojxTEII8V5agCFTvZHYMvLJ6Hz6ASWaojigo0zccH8BqptvbeiMEvBvoQwCC6ng7NGvWodlnGVGwNHue+io3KlmVorIB9SHkiD9u+rSsc/z6dujBwMbFwL/oZTsDa9cnMcrUbmOhdspJtN7TPxkfV6vwDzfjc98PXzXMpof/d/kJIXr6UCH4HDtH2+rrmofMdY/6zfgI9RJTaBlpLtQAAAABJRU5ErkJggg=='/>"
      ],
      "text/plain": [
       "<IPython.core.display.HTML object>"
      ]
     },
     "metadata": {},
     "output_type": "display_data"
    },
    {
     "name": "stdout",
     "output_type": "stream",
     "text": [
      "7\n"
     ]
    },
    {
     "data": {
      "text/html": [
       "<img src='data:image/png;base64,iVBORw0KGgoAAAANSUhEUgAAABgAAAAgCAAAAAAtNefkAAACBElEQVR4nDXOzXLdRBQE4D4/M5Js3xuSgqyyyBuE9+T92FAsCBRJDHbka+lqpJk5zcKmt191V8svJjBjD6BeylEfv/69a5Lufyb1lETNzKeBLZdvYCj8t5xSdhumnBNSVptzIQH/asmEOt3lcbRhmg6OWzOlX5CUHcONTTd5vP2BNngI4EQDe7Qa42nIm4yavEHgb6NRpIptvVnn3WCmEIH//Pyw+60xSu8rLE1kiFL80/0fa373JrVjm//aJCcDKBT/ONaL//jhrFy/2D/uDEAA+vv2SDu/eTeN2/hQ9Xx3CEnSzVhbud7dTH6bBx2zEiDhpVwfazfI2GptCdH50mh1fVhK6HiOct3i4P4/9H15Qj7/VPu2btzRCZLw2tpxlLX0WtdlxW5BAKCvNRDNsrXLw7zokXtEKKlNTPueMsplXis0D0KCVHhW9jTI+n0u3cbRQADwoQ8i0zj4079zoU88QlRJJSE2nE7pWJe9U/AaJQM2nk9almsNdrySJomw8TRwfVo6I17eAtp7h5pJL6WKSevxCvtBSylZtC7JEBASALQcSEPKyhB3E1UVAQAdk1q+nRKDqqpqBgACjd5CM47rsveAupu8TM3PWyX2y+O8HEExlZcp/70uzdva5u/LETADX+FXliPuXb89dfOk3K97CCD+GZr6/dKfF7gm7fVaqBD+B6rlXV4J744YAAAAAElFTkSuQmCC'/>"
      ],
      "text/plain": [
       "<IPython.core.display.HTML object>"
      ]
     },
     "metadata": {},
     "output_type": "display_data"
    },
    {
     "data": {
      "text/html": [
       "<img src='data:image/png;base64,iVBORw0KGgoAAAANSUhEUgAAABgAAAAgCAAAAAAtNefkAAABqElEQVR4nG3QQUtUURgG4GfUkUnTGVIpNKxpLMmCjKB2tZWIoFWriv5Ai6B+QC1cVeuIVkFJCEHSIhdh6MJiUBCMGocydGEqjqmjMGPeFne8MtG7es99Dud898QCexmd+jn/qtJj99qbWtsPxxP7sV4sLQ/2VwDxIwdT3b2d6UObKb73zYA6lPN579SfOpk8cbZ3ZlsEYUqTk5ovXSs3/wuwNlTT0xDWGtWZKrdW4GI1dJzpqhz1ceTmnNtX2wuz2cFVjnbMVLYEwcsbd3NBEARB0Mmd4fsR7Lx4G34PniVa3m8/jS4P5r/+CRfpTOZ07d64489/rT8A80txViIYy3tYfASfF4s/SrnoqByeDMO4Ym7hdwTLCKZhgvzCVgRbkMY3zC4WIkjBMQygIZOJII2mLrxGT3dLBMfR3cDAF5zbye/9IPowBvHd16xhA1cwAqvqq6a6QHYa1jd2IlgN2zRYKWxGUA7bAtiMxaouRwkkGpMR7OM81kDjgVQEBToxCtramiPIUotPIJmoDaHu8VyWJd6E6+TuLJVcv1UpE7nL/psPQ21h+QuDKo+FE7VMTgAAAABJRU5ErkJggg=='/>"
      ],
      "text/plain": [
       "<IPython.core.display.HTML object>"
      ]
     },
     "metadata": {},
     "output_type": "display_data"
    },
    {
     "data": {
      "text/html": [
       "<img src='data:image/png;base64,iVBORw0KGgoAAAANSUhEUgAAABgAAAAgCAAAAAAtNefkAAABnElEQVR4nF3QzUvUURTG8Y+/xrfJSImoUNOwhVBRUEG2qUUQFZSbom0YtG1l6/6PAhdBtoqgghZC0aaSIChUCKUwxBTtZQhfZpzT4v4mc57Fvefc7z3PPeeKXJMTE3fVdHRIw50jLe29fWurO/Fw6ezhP33fcXIcdB0fuP16vVYKPf5T5+XTt75EPIFL6tQ8Hy9hULYVrA1X9sByPfC20A/NsqGt4EzaphXuDdzk4pX5V9OzVexPoEQEHkRExCiGI2AvEYe0fEojYCqBNmIFN6ZrIK2KxCPouX4/YmoTZDLr8HV0jA+YsQhVmc7URyu/8Vk55ZmOFJxgGbNp5EzmB9hxjReYM5esrL0HVyNWGjGSHidrOtiaOz0t4/y/z4k4Bc9j4VxKp9C+T5aaOXDB4lS6uYpqWcHqXHKY/JbAdlQoaPmJAZ7l3tuwETKlvP5dDn4hCrLqR2hnIQcNqGay8RnopZiDXdioEOupy+jPuy+h2EVEx+Zv14LG3TIqtKlTWeHNUoljdedN5Vo0MtZds3qMYne9RVPEIJr7/AW+mrj4tNwLfAAAAABJRU5ErkJggg=='/>"
      ],
      "text/plain": [
       "<IPython.core.display.HTML object>"
      ]
     },
     "metadata": {},
     "output_type": "display_data"
    },
    {
     "data": {
      "text/html": [
       "<img src='data:image/png;base64,iVBORw0KGgoAAAANSUhEUgAAABgAAAAgCAAAAAAtNefkAAABnElEQVR4nF3QzUvUURTG8Y+/xrfJSImoUNOwhVBRUEG2qUUQFZSbom0YtG1l6/6PAhdBtoqgghZC0aaSIChUCKUwxBTtZQhfZpzT4v4mc57Fvefc7z3PPeeKXJMTE3fVdHRIw50jLe29fWurO/Fw6ezhP33fcXIcdB0fuP16vVYKPf5T5+XTt75EPIFL6tQ8Hy9hULYVrA1X9sByPfC20A/NsqGt4EzaphXuDdzk4pX5V9OzVexPoEQEHkRExCiGI2AvEYe0fEojYCqBNmIFN6ZrIK2KxCPouX4/YmoTZDLr8HV0jA+YsQhVmc7URyu/8Vk55ZmOFJxgGbNp5EzmB9hxjReYM5esrL0HVyNWGjGSHidrOtiaOz0t4/y/z4k4Bc9j4VxKp9C+T5aaOXDB4lS6uYpqWcHqXHKY/JbAdlQoaPmJAZ7l3tuwETKlvP5dDn4hCrLqR2hnIQcNqGay8RnopZiDXdioEOupy+jPuy+h2EVEx+Zv14LG3TIqtKlTWeHNUoljdedN5Vo0MtZds3qMYne9RVPEIJr7/AW+mrj4tNwLfAAAAABJRU5ErkJggg=='/>"
      ],
      "text/plain": [
       "<IPython.core.display.HTML object>"
      ]
     },
     "metadata": {},
     "output_type": "display_data"
    },
    {
     "name": "stdout",
     "output_type": "stream",
     "text": [
      "0\n"
     ]
    },
    {
     "data": {
      "text/html": [
       "<img src='data:image/png;base64,iVBORw0KGgoAAAANSUhEUgAAABgAAAAgCAAAAAAtNefkAAAB2ElEQVR4nAXBSY7cBhAEwMxaSHZjDC+ALJ31/38Z8GHk0YhskrU5gt9RjU2SGFUM5Zon7fkwAl26bo6msLuRJxSwraQjn79vkk3JuO45oFP2Z6TSnn89mQ2Jl1RfVRn29b7W1b98e2MWJI7P7ed/AdK+nuf28C9/v0kUNV5vT4+zTWydifZtc8JEFJ2vB4o0W2qFWl9TYt0QWzwwMFF1Cg7UuHOyZogGrEFR6VcWHsXpzqyqhg0BukudebmLipoqmyYgaKtF/YJvj4duz+2OW+1Rp9R0V8SM1ags5p5m68XOW6W70A1Ruqu5inEqo0AABKmiqqpqoFq5UcxhJqipwQAGUXU3UgRKoLumu8Sa1DEBZghgpmowXXY3hYLuLlb3DEAREbuUOqZNCkkSAEBRSxGj+SzrTV9d0AMAYySmw5Zl2cQX42RiuttcoxPNrYW6qPRUDQlbZKq867muIc4uwV00MZmOG+7rIGHIlonIGst7P87TBxCDVOV9R2aKfb7ePy7V34aVkDj3zz0yU+1j//F5y/pHshuM174fdzRg778+9pTtx0u6yTj347gShP1zHlfrz38XQZN17XFdRTU77oJovLtxwLlfndGqYglxSp9hMhBEcGqU8j+O3E38ixqH+gAAAABJRU5ErkJggg=='/>"
      ],
      "text/plain": [
       "<IPython.core.display.HTML object>"
      ]
     },
     "metadata": {},
     "output_type": "display_data"
    },
    {
     "data": {
      "text/html": [
       "<img src='data:image/png;base64,iVBORw0KGgoAAAANSUhEUgAAABgAAAAgCAAAAAAtNefkAAABsklEQVR4nK2SPW/TYBSFH9t1cSJ/pEF2aJq2ESnFtAqhLVM6oO6ofwAmBhb+A0MnFnZWJBaGTlRCSAwVA6ITqgQSIUIqQaQ0YGK3yJFtWjM4ryX2nuXVex6de4dz4fxlzfz/l8bvw7vGlz7Ox52Xgjx/sAJspkJPVzJ/oh1HnZBb+Yg7h+8BkGvXl28WGrM5UObtLMF05VqhpMDouALwJ0zGAMVwSt7br311w1Wj0Ov5GUg0RS66bvnd7rc3ywu2Y1SsAEBWDU1Wautuw9vf3nqyN5re2MyWQ7VIPOT7J+DzUaK7qwLIQe9D928QAEFUAFcsT34fFFvShRSY1HWwRcKembtSV0qzwKWyAn2RqNaC5hyaCZSI4EgAtXIyb3J6BnAa4/8QozAMYwJ/APgnMYkiEthRTcI0f4GmTZJKeaJ+1YLmGtTXGiZhnCfOhsMpWqtdy21dLiYHnRwMesoUyr2yVG06WjLyc+ANGoBzP5UA1Ypy0N1PltS8fz3NGkvTndv64qu88/jZxQwkLxaBdeEfPl4ad/zoBgC7aZr89MK9rebYF3fVbpuhrxU6r485d/0DzzidBMeXYukAAAAASUVORK5CYII='/>"
      ],
      "text/plain": [
       "<IPython.core.display.HTML object>"
      ]
     },
     "metadata": {},
     "output_type": "display_data"
    },
    {
     "data": {
      "text/html": [
       "<img src='data:image/png;base64,iVBORw0KGgoAAAANSUhEUgAAABgAAAAgCAAAAAAtNefkAAABxklEQVR4nHWRS0iUYRSGn/kaHGkymGgTWUnZBVTcNGFJBeEmpIXi1ghcdqNFRhESRVCrFhpFA10WRS6qVVBghYRG5CBO0xQ5OVhZjRlC/X9RJm+L81Ej5Ls63/sczu2LABAPKVHvWOwQ82i//oaVc8nWiA+aNz++Xwoc3861AMxKp3buKwycqTWwBUlJ2Kt/6gRIOXj0DGZLqrQCDUscSgPjMHEsFQCQAMJ8lHdPgJEHvSkqx9dOlbXGe4DnN6N9X24DH46kIRLPDy3dMNANMExbF8DRh77Bjtd9CyxqOQ80Sdfs2S71WyQB1dJxe3ZI8hv+APIXeW9glS+ZcObcYLkZKz1IOr4C7GETAPVxD1456mzbBAAzAWQB3jrKAMoZBuDzLxix5oUCwCiXDASQNLA6F4MVVUHRalfAOoBljk9tcKJiUYOBct/8o2NxFDomWWNGmt9dVqqxaSHQzTaAql11xcwbSwl0Bdg9qKlq1t99OSmdBriAlAMOSrp1+I4kaRqgHakHaJY0Omh/nvHXDWN2ZGWvFiVlr9cAEOXeTz/hxEwIuf6hFwAbUSMA35U5sP1kOHbWj33ZZ1NTyxw9ZR7J/d93/AEolrhqYS/iuwAAAABJRU5ErkJggg=='/>"
      ],
      "text/plain": [
       "<IPython.core.display.HTML object>"
      ]
     },
     "metadata": {},
     "output_type": "display_data"
    },
    {
     "data": {
      "text/html": [
       "<img src='data:image/png;base64,iVBORw0KGgoAAAANSUhEUgAAABgAAAAgCAAAAAAtNefkAAABxklEQVR4nHWRS0iUYRSGn/kaHGkymGgTWUnZBVTcNGFJBeEmpIXi1ghcdqNFRhESRVCrFhpFA10WRS6qVVBghYRG5CBO0xQ5OVhZjRlC/X9RJm+L81Ej5Ls63/sczu2LABAPKVHvWOwQ82i//oaVc8nWiA+aNz++Xwoc3861AMxKp3buKwycqTWwBUlJ2Kt/6gRIOXj0DGZLqrQCDUscSgPjMHEsFQCQAMJ8lHdPgJEHvSkqx9dOlbXGe4DnN6N9X24DH46kIRLPDy3dMNANMExbF8DRh77Bjtd9CyxqOQ80Sdfs2S71WyQB1dJxe3ZI8hv+APIXeW9glS+ZcObcYLkZKz1IOr4C7GETAPVxD1456mzbBAAzAWQB3jrKAMoZBuDzLxix5oUCwCiXDASQNLA6F4MVVUHRalfAOoBljk9tcKJiUYOBct/8o2NxFDomWWNGmt9dVqqxaSHQzTaAql11xcwbSwl0Bdg9qKlq1t99OSmdBriAlAMOSrp1+I4kaRqgHakHaJY0Omh/nvHXDWN2ZGWvFiVlr9cAEOXeTz/hxEwIuf6hFwAbUSMA35U5sP1kOHbWj33ZZ1NTyxw9ZR7J/d93/AEolrhqYS/iuwAAAABJRU5ErkJggg=='/>"
      ],
      "text/plain": [
       "<IPython.core.display.HTML object>"
      ]
     },
     "metadata": {},
     "output_type": "display_data"
    },
    {
     "name": "stdout",
     "output_type": "stream",
     "text": [
      "9\n"
     ]
    },
    {
     "data": {
      "text/html": [
       "<img src='data:image/png;base64,iVBORw0KGgoAAAANSUhEUgAAABgAAAAgCAAAAAAtNefkAAACBUlEQVR4nAXB7XLcNgwFUAC8FKnV7tpuO5lpXrVv2z+dOrFT7YclkQRuz9G/vtcRAoGLtUjhbX1ft3wC1KkM37vCpeQptblpvcIkwtT3x6bm5bLUOXq6p4wkIer77ecjsZfX6+uSr6bNoUp6u//6517Z8HjtMWHeRUHR8K/140eX1LuP6ZrhaABpbM/1o5cFaP3x7GFJ6Raq4m17puvb2yVHf37uAliAHRL7+/Pbn7/lsf798TPnmlMdEGXEaFHPZzAyt8/lWg4qxHK403KZEKYc+/41NidoSX1QDEikD1UOGV0RVFFVVTIiIuj0pEkwgqKAjtGst0G6kEqijWCaINtNdNz3hpxh6gN9uFo2Pn8F4/bcqqWUpQ0oqdPy9nV8HvD/1j1TMzoDJsq8/HG/PY5prBuTGtT7QBKKpel8HGwuWTLMVEQAo6Zy+b0/zCT1bapTIkVQjKJ5cS7UqI7lVNIgBXPWkFTOdnbv9oy5TqYM4jQ5KShM9O1IinlKXVRRQboyTcbRRDABSYViKjRxSqmyPzY7n2tiUAQHrejRlW19/3Esr9++a+82EarSow/enkev88vbi1mo0CGJY2/7cTtUS7mc50kIwNA1hR+PezMrmM8lQ1g6A+syUZFUNNd5Xk4QSziZ4f20VMsnaTbVuRYYQ1IW4t98eTmpztcE5GxBUQ8x+R+Z8lhMP57BxwAAAABJRU5ErkJggg=='/>"
      ],
      "text/plain": [
       "<IPython.core.display.HTML object>"
      ]
     },
     "metadata": {},
     "output_type": "display_data"
    },
    {
     "data": {
      "text/html": [
       "<img src='data:image/png;base64,iVBORw0KGgoAAAANSUhEUgAAABgAAAAgCAAAAAAtNefkAAACJElEQVR4nFWQu09TYRyGn379aAstLVCgqQXkCAQiRkFQ8QLxQtRghGgiibqocdDBxMGoCYsT/4C7m7rh7CUmSEDjgEEEtBCEBFOulpa2h9Pb53Aql3d8nnd4fz+a0mpX9JHLAAi/FQD+Dn9b+xEEx/ELJrhlFofvVdW1Bq4OKqXSDwHBI5NfN2vcX1Jq9pkV6FMqpSZu8D8dE0p96bAViDRshgZebYlPM6BVSE3EIDv2mu1MRSl3JpdFFJKhyR3i6XvQildFPARhACo7GwB4EKGs85i02YiZ4ram94WB0IvW0Q0hlZfCVYCaFm25KAwwMP1mJSMNyA8B1FSUxzYBmM8uglgCaQVI6tH1dQCWDQFyQc9XboBf312zOgBGsjACTKnIEwCqa3ODK095QfAbewkAczM54a8/AAID6/52dqZ+bxoEFmi8tkvUehZBkCHtrdglXDIPhM+Dw32ia6cIuHQQRz1k8d1s2ebFpSkDRFcjOrTdubglmr3OOMiefAwnVW0pf2RlCIAmfxCQfkg47RnfQVdqZiwKUO2zpUAAJRbi4uRZ8TEKUBRIhJMgE4angMy0TI/2zwOUjtmDk94VpKMAkuPBzefj5g2Py/ISTgFSwNrI16GhrDnpbk8eldXaEuInxOY+D+Z4d1sdcOT0IWR/b3PcsdfEe7p7zwBol9xuC1zpLPrz7gPY28+fO2w2VoNvLQA9jo1Egz+wry73zExi4eU/2oDV3URkcNkAAAAASUVORK5CYII='/>"
      ],
      "text/plain": [
       "<IPython.core.display.HTML object>"
      ]
     },
     "metadata": {},
     "output_type": "display_data"
    },
    {
     "data": {
      "text/html": [
       "<img src='data:image/png;base64,iVBORw0KGgoAAAANSUhEUgAAABgAAAAgCAAAAAAtNefkAAACIElEQVR4nE3RX2jVBRwF8I+/XR1cXd7pbX+qZXjRVET0QUomGQhB0QgtRA3Ul3CoYNGDsuxBn0Qo/z4oqfVQSgTWhcJ/+JJOBsIQbRRXmDpvc9ON7shZu06+PtypO4/nfL+H8z1ftkWb2r9GIyLip283r3wDSJnV1d+Sre8pdr47u5D6eIPS2tP4ja9++ehIX/w635xV1UtvREQsxx/88E1bRN8nFQPrHkcMbedVzub3RXzpKbLtER1IyVQn/5/a/0wYSDMd5KPnUovnGIwIJBrVRQnWtIEtWAxrh+JyLbZGxPfwWcSxrMTU/8oP/8EyfAB7aa/JpSyqdx8moxeUq46TyNFNJUo/1E66j8QDEkgjU5loaCTRW+FUoQZeYDmJ69TW42ylId5hEolrVL+MQxc6b1+BGawn8WjYvI0orDx0dBeMcAvejL54lBnXyc6I1SR6i9cfD4+OE8qMkih33a2aumacMJceEoNdHbSuQMvJVsiNNfDhxrobMfLz1vf2Dsdh6B+r/eDEeyeVpjW9/2naCGbXVRzvxHe0n7h47s+IWIYJlUelXvG3pqvVjTlurbuITCnTORYjovB5d0QreD3izkKkZBfmG848vD13BDTsYKAAuyOOTnx+xKabEYUskim8XfOMT5V6mbke0vmIY0vG+AUnIiLix69zMOtUuX8VvHWgGPHv+eGhjuLvJsCLzfVNX1R29uSLzVdeOpx+7QnFqtyHCTDhDgAAAABJRU5ErkJggg=='/>"
      ],
      "text/plain": [
       "<IPython.core.display.HTML object>"
      ]
     },
     "metadata": {},
     "output_type": "display_data"
    },
    {
     "data": {
      "text/html": [
       "<img src='data:image/png;base64,iVBORw0KGgoAAAANSUhEUgAAABgAAAAgCAAAAAAtNefkAAACIElEQVR4nE3RX2jVBRwF8I+/XR1cXd7pbX+qZXjRVET0QUomGQhB0QgtRA3Ul3CoYNGDsuxBn0Qo/z4oqfVQSgTWhcJ/+JJOBsIQbRRXmDpvc9ON7shZu06+PtypO4/nfL+H8z1ftkWb2r9GIyLip283r3wDSJnV1d+Sre8pdr47u5D6eIPS2tP4ja9++ehIX/w635xV1UtvREQsxx/88E1bRN8nFQPrHkcMbedVzub3RXzpKbLtER1IyVQn/5/a/0wYSDMd5KPnUovnGIwIJBrVRQnWtIEtWAxrh+JyLbZGxPfwWcSxrMTU/8oP/8EyfAB7aa/JpSyqdx8moxeUq46TyNFNJUo/1E66j8QDEkgjU5loaCTRW+FUoQZeYDmJ69TW42ylId5hEolrVL+MQxc6b1+BGawn8WjYvI0orDx0dBeMcAvejL54lBnXyc6I1SR6i9cfD4+OE8qMkih33a2aumacMJceEoNdHbSuQMvJVsiNNfDhxrobMfLz1vf2Dsdh6B+r/eDEeyeVpjW9/2naCGbXVRzvxHe0n7h47s+IWIYJlUelXvG3pqvVjTlurbuITCnTORYjovB5d0QreD3izkKkZBfmG848vD13BDTsYKAAuyOOTnx+xKabEYUskim8XfOMT5V6mbke0vmIY0vG+AUnIiLix69zMOtUuX8VvHWgGPHv+eGhjuLvJsCLzfVNX1R29uSLzVdeOpx+7QnFqtyHCTDhDgAAAABJRU5ErkJggg=='/>"
      ],
      "text/plain": [
       "<IPython.core.display.HTML object>"
      ]
     },
     "metadata": {},
     "output_type": "display_data"
    },
    {
     "name": "stdout",
     "output_type": "stream",
     "text": [
      "9\n"
     ]
    },
    {
     "data": {
      "text/html": [
       "<img src='data:image/png;base64,iVBORw0KGgoAAAANSUhEUgAAABgAAAAgCAAAAAAtNefkAAAB70lEQVR4nAXBWZLcNhAFwFoeAJLNth1hh+5/H93EHw5ppkliqcWZ/DOqcjKt5QxweHDlXAESkUz3MVaWXTOoALYWRITCZn+e6eUszEAt+gyIkNt8PvcznL9alaNI4+wgDlv9vu6+wrMWOvXPYv0CsdvsTx8rKFd26/Imvy4wh805Rih4y+z9+vVf+GdBON3MU1GhWF9j3l8Zl4GFMyMY+6vWOuQOuzzvACtRJkvZz1aBsXfvK6YiLCndIxlHcdam4wN2QaykcLM1XWRZVh7P1pJEFKUWobBxWykcc7k5A5msAKbPW3K3dfWJiFIRQYwCts429/n712eCGQ1EjNqqjtlRq/3+95tUFRtYhHiNp48RCv/+nluBSIGoisYaY67JxYZrbYUzQJmp7XTCPVLGaHLuFDaRQcnS3ro9Y/lnJV4vH/YgM51ZX/WY6/leW2nHa9h4oByRzFJRLL+M2nlu9PgEMXOkpDCxEuN4vVrcCKQxa6QThYfs234exY/bwMmcFDFWX9dNtdXaYqsCZuHIWPd1T4t6HFtrXjWQohmZ3j8fK+f7KCh1KQdSmIiIiaW8fxyFSFhKmQgmEqGyLcIffyMjhbSeBDYRUS1Orb2KGwOkxz9vUCYxlFNXLW6EDW7lLwITEYtqkhYyF66lk9T6Pz4aYe2hcc26AAAAAElFTkSuQmCC'/>"
      ],
      "text/plain": [
       "<IPython.core.display.HTML object>"
      ]
     },
     "metadata": {},
     "output_type": "display_data"
    },
    {
     "data": {
      "text/html": [
       "<img src='data:image/png;base64,iVBORw0KGgoAAAANSUhEUgAAABgAAAAgCAAAAAAtNefkAAACCUlEQVR4nHWSS08TYRSGnw4fw0y5pMXEKcRgaUgszEJoYoCViQuNSgxxQVyZ+APc6o9gxcIfIHGtiURcaIRoQuNCECOUm1qq2KHYTLn1MgjHRWmpEt/dOU/ec97kHN9bt69NHdSzkkgb4bCRS7tmrDm/7CiCQUUh7czEF0s916xijh4L/6clFQg0kU/OT7/YhNVXUbMhEgF8cVK7sj/7eISqtDERmTTZONpbeHJPPwGcE5GHaPgyS3OvvRrwYxR3HGXifp39Tq0ebGXSqGa8zXX+1iigFA3e8aBAbCA+VYEKNCkAcH3QDndMSwUc1hUoO8JD3Rl/KF0Brl7y7QKwHjSya9V4WktLZ9QGYOa5Y9tN1R1FvaEtsgCQe5S/sXoSMJlMvrxfKQarBjQwOmMXj6v4XhUoI6hb/uV5TqkkIvJh+D9AJvpPge2SiMiv8aF/+j4HE0PnKDH7PvGmBigLz803Nmp2e1fq4F0NAF3fOazzE4z6Q+VeyAE0b8drbDMKWShsZAHov1oPKL2oAzk3/nFmzgE429fvToDCAIqZL0+flec0Xb40kJ4AhQ6/S8VUOZE23NvRE+0GlFf+HAOA2yO2yBlau9bAERFxEpM3gV5XpLAvsnIHlLl+HiwrmtXnYncD/DSDELq1H/dtpy8AcDS1aNtW6rAT4DMoo3KYK6GI+rbVDEBrO38A6WXQ1lIHa2IAAAAASUVORK5CYII='/>"
      ],
      "text/plain": [
       "<IPython.core.display.HTML object>"
      ]
     },
     "metadata": {},
     "output_type": "display_data"
    },
    {
     "data": {
      "text/html": [
       "<img src='data:image/png;base64,iVBORw0KGgoAAAANSUhEUgAAABgAAAAgCAAAAAAtNefkAAACBUlEQVR4nF2QW0jTARTGf84pNWZSq9bNkeuCs6gIWnsQGmQldhELKYLAIhKMIKEiFoUFueihelDKjHzLl2AVhUWUisTaUImyaa2LCzeETCFkUCpfD/+1Zt/T+X7nwPnOAfAH7iutRijesgEAv5JR6fMFj+eOJF+u7Vb4OsASSYnH1QA0dDSXWPdJygfuSerbyz/VSvICknpOZnCskooAJW8eYYbGJcCq9vUzOQ0SmCuY+/4vcVRPXAN6f/aD2c3mdX0ANFpKCyiog1hgELgr7QHgtCQpCrgOm8HUxe9pAPoB+G6FgdYpIL/rldfY8EQa6X54xjCHOCtNGa85J0lqMRox0yBk7wCg+wFARyogWHve+Q1T1iFFUskF1H14YU/ZylO5RrFC4HwrXf7vdtyCdkkqy6ReCwiqIpJiKzMaN+zGju3PJLWVW8F10QHwaScYIWzNo5oc+ioFFwNX1QpOtjYBtkuTkiQ3QFwBgAOqAnZ3SpKMpOljckosFVckKQFQI/0CsmDem2h93rJZ3xJZIQDPy9l4QrCKsLR8aVE67JphaRuYo65NeIfmx1O4dEFOEnrBxEHoYtTAtdPPKxVkfAxMnIdinLsAaDIxkPjCa2PsWGT/HN/wIqBFE4WsfhqvLwQg71HFCSm4keMffyyEkFTj8LVjwt529LakcPnYiAeQtDZb+gPwmf6gBOtSDwAAAABJRU5ErkJggg=='/>"
      ],
      "text/plain": [
       "<IPython.core.display.HTML object>"
      ]
     },
     "metadata": {},
     "output_type": "display_data"
    },
    {
     "data": {
      "text/html": [
       "<img src='data:image/png;base64,iVBORw0KGgoAAAANSUhEUgAAABgAAAAgCAAAAAAtNefkAAACBUlEQVR4nF2QW0jTARTGf84pNWZSq9bNkeuCs6gIWnsQGmQldhELKYLAIhKMIKEiFoUFueihelDKjHzLl2AVhUWUisTaUImyaa2LCzeETCFkUCpfD/+1Zt/T+X7nwPnOAfAH7iutRijesgEAv5JR6fMFj+eOJF+u7Vb4OsASSYnH1QA0dDSXWPdJygfuSerbyz/VSvICknpOZnCskooAJW8eYYbGJcCq9vUzOQ0SmCuY+/4vcVRPXAN6f/aD2c3mdX0ANFpKCyiog1hgELgr7QHgtCQpCrgOm8HUxe9pAPoB+G6FgdYpIL/rldfY8EQa6X54xjCHOCtNGa85J0lqMRox0yBk7wCg+wFARyogWHve+Q1T1iFFUskF1H14YU/ZylO5RrFC4HwrXf7vdtyCdkkqy6ReCwiqIpJiKzMaN+zGju3PJLWVW8F10QHwaScYIWzNo5oc+ioFFwNX1QpOtjYBtkuTkiQ3QFwBgAOqAnZ3SpKMpOljckosFVckKQFQI/0CsmDem2h93rJZ3xJZIQDPy9l4QrCKsLR8aVE67JphaRuYo65NeIfmx1O4dEFOEnrBxEHoYtTAtdPPKxVkfAxMnIdinLsAaDIxkPjCa2PsWGT/HN/wIqBFE4WsfhqvLwQg71HFCSm4keMffyyEkFTj8LVjwt529LakcPnYiAeQtDZb+gPwmf6gBOtSDwAAAABJRU5ErkJggg=='/>"
      ],
      "text/plain": [
       "<IPython.core.display.HTML object>"
      ]
     },
     "metadata": {},
     "output_type": "display_data"
    },
    {
     "name": "stdout",
     "output_type": "stream",
     "text": [
      "1\n"
     ]
    },
    {
     "data": {
      "text/html": [
       "<img src='data:image/png;base64,iVBORw0KGgoAAAANSUhEUgAAABgAAAAgCAAAAAAtNefkAAABpElEQVR4nDWSsY4cRxQDi+zXM7uz57MBA1Lir/W/KhEMBxJwB+1MPzpYOCWYVJH6W72WLExiGSsgaktmgiTSCrYAUWfGcK8IM9IBC5RajFLWJY9ZpMEGpRj73s9fHz1ujyqtYECqNavO9fnjWQ9XRSEA+N+PtVb39fm8GpS1QhLqn/nb5po155zbBjRYUV3Xx5Af61zzPqGMUKI6z+dVdXvqxCxJMnFTn8sqy6zzakGIFKhWzW24stJRnPAi347bbTpCsi0ZKYJ63I/N3XLVLJmICKj3fai745pDNi2FoPrzGAAaFoAsJUL15TaE5MEKRHIQqN5lMYbdJEid1x4ezWrPGkuKNkdGtutXMzxUPp8XNnrBq76PYy9l9XVejTyEQdS3/f24tZ9nr05AICTq57lvqwlbebj1+oKox/1x7LuP44+323RcCUiqv27v29hLn8fb257loRUk1dd5d9fG72/3R50diyUpdR+1npS22jey1AMLUxth6sx9uDNukhwSlQgjS0MJGiKQtAogQBBAlHSISkCkCAVCXi1Kemn+P2yqrrb+A43d3boiTa+8AAAAAElFTkSuQmCC'/>"
      ],
      "text/plain": [
       "<IPython.core.display.HTML object>"
      ]
     },
     "metadata": {},
     "output_type": "display_data"
    },
    {
     "data": {
      "text/html": [
       "<img src='data:image/png;base64,iVBORw0KGgoAAAANSUhEUgAAABgAAAAgCAAAAAAtNefkAAABy0lEQVR4nL2Ry27TQBSGv7EnsZ2Mm4tb4qgqqJCKS7lKbEBiwQbRbaTu6BoWLHgnlhVvAO8AKmJTKQXakEgJUS5ODHbtYeGkTV6Af/X/8+nozDkH/o8ql1ZeOAN4cBn1Cvh5vkhCrYDgIu09zc2dKZabbd8Kg65tU4ymagXspLlaYK87E7OHsQy+h9MgGEbIRAgD4HZzE4A4jQV/wsiMlZLA7rOtURug7HkOeM5MZRPtXRl0AHhc9vL9ItjZqL4zamfA86uSgjVLNELCthWm8z8I4VKwJ4FmTbKxo0xV+g1AFNhudYISKHng+vmkcdICGHuu6ikXzRrGzQ6tTu05ACP3pT906yjf9+Vh12jUG9nyYt+LS8otOz5KfuFD9ZGb7XEYV/N3lFFHFoUEBp/66wBMk4RCgkIpkd3oLAHgaqVbqhUAxzEz0Nz8CvBkY1i7F4wwi0VLwlazsV8rv4NXB0H7umVV+4ayYPf18eCb1voabwb65P2Rnku+vdE4/Rjf58XD/Qp/j9XdxXF+taLTzz+0PppprfXZeFEhJqmeyShVxTwrMgyNqZNcLlp6TONeKNKEKDALoSIPhIYF0HOk0AA6BvIk43NDYQHwD8hfqf6KF/BTAAAAAElFTkSuQmCC'/>"
      ],
      "text/plain": [
       "<IPython.core.display.HTML object>"
      ]
     },
     "metadata": {},
     "output_type": "display_data"
    },
    {
     "data": {
      "text/html": [
       "<img src='data:image/png;base64,iVBORw0KGgoAAAANSUhEUgAAABgAAAAgCAAAAAAtNefkAAACTklEQVR4nHWSS0iUARSFP2d+n0OZSoZi+UAXalo6BVL4itCsFkoUESYRGAUZggYhJUKUQiQpGEiFEaaQlhXRZqBS85EaFgZDZvgaJ6PFSDoqWp0Wo9Cmuzwf53Av98B/xktv7/9adM8fLg7qrbIBeJuX12HpRNetDkmrnbkAeW0FadUhAEO/nxekHLvcMCPVAo8lyQ7mdumaxympNq9RkiS4KCnHk1mpgQzYG+VFagLwR9rlAeVfG/5drE+6AcCOBelfkP95/O5ZgGlprCa2bKhHXy7IgMFHYRHxUy/Bl8maqPQcK8QmvQASrzybndkH1P1o2hAKLRp8AAZsSz5oEATYR+zz83Ciw9EHJsjYb8AC4BcSlgAw1QcYkLsJ5laArOTAxYk7253v8ICZCOeiewoIJzLa20jtP9TpAY7ASX8fE7CK/b1P1inL7USQQcGSc87XFAA45j8+c2+JaTgPdBufTK5pdi8FA65Jd9Dyh92ngeNnTImuuFFnVHwKYJmNGcjAqAFa7aaRkdHMYsgAetx7yMYAtAqws/CaVAVY60e1QEgHJMqx9oi+rQAlT/UagI0LAwYA7f7TACz29wLwszrcBEBhZgzgHe6qmLsXD9B2AKhoapS6gLKxS0RLcYD5ISdbpeeSIE0qA6kbssfPcaVHzVgl6JSAFl3n5hsJ2/0vaXhfrbOUDGs4C5qlDlVIXvk+LhsQFhEZYP7u9Fs5UkHpE4fAQgBAIKFFRdZgM+WT6Z7bksIygWxgpj7LAmxeK4+nkK+OQuW3dcVmdugvL3IJZKi2IBEAAAAASUVORK5CYII='/>"
      ],
      "text/plain": [
       "<IPython.core.display.HTML object>"
      ]
     },
     "metadata": {},
     "output_type": "display_data"
    },
    {
     "data": {
      "text/html": [
       "<img src='data:image/png;base64,iVBORw0KGgoAAAANSUhEUgAAABgAAAAgCAAAAAAtNefkAAACTklEQVR4nHWSS0iUARSFP2d+n0OZSoZi+UAXalo6BVL4itCsFkoUESYRGAUZggYhJUKUQiQpGEiFEaaQlhXRZqBS85EaFgZDZvgaJ6PFSDoqWp0Wo9Cmuzwf53Av98B/xktv7/9adM8fLg7qrbIBeJuX12HpRNetDkmrnbkAeW0FadUhAEO/nxekHLvcMCPVAo8lyQ7mdumaxympNq9RkiS4KCnHk1mpgQzYG+VFagLwR9rlAeVfG/5drE+6AcCOBelfkP95/O5ZgGlprCa2bKhHXy7IgMFHYRHxUy/Bl8maqPQcK8QmvQASrzybndkH1P1o2hAKLRp8AAZsSz5oEATYR+zz83Ciw9EHJsjYb8AC4BcSlgAw1QcYkLsJ5laArOTAxYk7253v8ICZCOeiewoIJzLa20jtP9TpAY7ASX8fE7CK/b1P1inL7USQQcGSc87XFAA45j8+c2+JaTgPdBufTK5pdi8FA65Jd9Dyh92ngeNnTImuuFFnVHwKYJmNGcjAqAFa7aaRkdHMYsgAetx7yMYAtAqws/CaVAVY60e1QEgHJMqx9oi+rQAlT/UagI0LAwYA7f7TACz29wLwszrcBEBhZgzgHe6qmLsXD9B2AKhoapS6gLKxS0RLcYD5ISdbpeeSIE0qA6kbssfPcaVHzVgl6JSAFl3n5hsJ2/0vaXhfrbOUDGs4C5qlDlVIXvk+LhsQFhEZYP7u9Fs5UkHpE4fAQgBAIKFFRdZgM+WT6Z7bksIygWxgpj7LAmxeK4+nkK+OQuW3dcVmdugvL3IJZKi2IBEAAAAASUVORK5CYII='/>"
      ],
      "text/plain": [
       "<IPython.core.display.HTML object>"
      ]
     },
     "metadata": {},
     "output_type": "display_data"
    },
    {
     "name": "stdout",
     "output_type": "stream",
     "text": [
      "1\n"
     ]
    },
    {
     "data": {
      "text/html": [
       "<img src='data:image/png;base64,iVBORw0KGgoAAAANSUhEUgAAABgAAAAgCAAAAAAtNefkAAABm0lEQVR4nC2S220cQRADyR7uS6c8nH9wsm53pkl/nAMoECgW/4xRhV62U8U5u47jnD8CkiSxm+BICMK9BAPBWm1T2lXtyppTIYAkAMd2nt7uBa+7BRIAEtbx9TpbgOecEUEAQFHX9+tYefdc7y4FAIAB7V/fr+39znqeB0NAmBRre72uS2Y/9z1FATACjm0/z73otZ7Zo4QYSApDmyrd3W2SQsA4/ozZ3e3a96EARjqzbS+vTqDrkIIkadez1hN3MI7t2j6EY6/Z3eiVkiSVDCaOBgGzV3cAuGUm9scLYocE0ksmbDPqsAiwymlMIXGMIByqHkWmy0tI0p2Cqb1aKiwELdKxUzW2baulQTuEVQFhsEYRGOP/Oy6yQKKD9dyzQZYGKYEcrnaybu0EAdklEeSwHfR8YwOBUVOHwAJsSOV2FW2B41LAApjz3FVDg1kEtksBgtrHuUnDv39/zYfFyCRIHXsV8Tw/P80Hlx8F+FibD8r373t2M30LAMIOwMXMZ60GekIIiGABeJC+7xUyTX16s7mgpFcHFdv/AEnPUlXOiI1RAAAAAElFTkSuQmCC'/>"
      ],
      "text/plain": [
       "<IPython.core.display.HTML object>"
      ]
     },
     "metadata": {},
     "output_type": "display_data"
    },
    {
     "data": {
      "text/html": [
       "<img src='data:image/png;base64,iVBORw0KGgoAAAANSUhEUgAAABgAAAAgCAAAAAAtNefkAAABNUlEQVR4nG2Qu0oDURCGv01Wdg1rFFOIgkYFsbUxjaUIYm9lJ1hZRQTBTvBN7CxsBC1t8gQWWniBeAtGhGhMjLpmLGZv2eM0c/75mH/mjAXeRMF/vCMZq5WaDT/vtv/WU6dWA8AZzoeVxUkAAp3xMkF9/exgYyhudFxLH5tNkcs1zwDLnyIi24ENAAJQ2nEBmoklLID5IxERkaXeBRktdxQUk1aAjDn6qKZA41fzBynQudJ8kwac3gMQHCcbgydt6QCQm4oBXQAUt68TQL//aszgW01MoLcumkCvOueQDr1IO290aPRnDNDQ5BrgQpNjgOBY3TTwCprrAIzHDWVf11K1H3UMLGQBuFX5FYEVdXrYUnkSOc3stUTkeTfUdrTT4WBppF45DrUVT5+e7Wudv/BP5JLiD/MIYjVCAIVEAAAAAElFTkSuQmCC'/>"
      ],
      "text/plain": [
       "<IPython.core.display.HTML object>"
      ]
     },
     "metadata": {},
     "output_type": "display_data"
    },
    {
     "data": {
      "text/html": [
       "<img src='data:image/png;base64,iVBORw0KGgoAAAANSUhEUgAAABgAAAAgCAAAAAAtNefkAAAB6UlEQVR4nGWQT0jTYRjHP/z6rZaiLa2JUtsgFkWuCMTIRQV6SQgiysAQw0N0rkPkbdVgRKco6BiMQrDDYkRE0iVGaVDSv0namrYGa0x0taYM+XZ4f+vic/p+n8/7fZ73fYG4JEUH+gA6AEhI2JCZ2UPl6eQagD8P4CIFwLmHL3HqWgNASpewgM07vjl972hiAAZ5ex9guFBKOeCB9KHLPzPZA8BPyUn0LUqzu2jrNFbS1P+AkkYOW/AV3gFwtAv4YcAFm/7d2c93AXyn9gHOVL+F/2859wkgHIR6mC8Wexv2rwHwuwaUcwasWrwh22IBZJeAQh7Aut0Pv/TYbU6N/pHSXoBxyYpvIbZiwFIV0h5g2xGAy3rhvPueVI0AsKykxRSBAwA0BqE4Z1aXztgsFIMmUKnCawPS5VWbBW/9zz3Q3ArA91ewvd7GvSLl73Q7zkoWRhx5cRO0h9sdZx8i4MgegJ0b6gnodeQEgDbWQbGQCzsgOjZNpcmYbp5o+exWY1pbrki3zJiP1jzNkYMGlBbdcBhog058km4AnH4UO1mTBMB5QULTx4DGOSkj6TkAEQGuwV6OT5QkSZmr5lbXBRDy4DoxNCZJsZBZNyIbCMxSe0Z83tdULFYMeD8OcDPEuopaQIdvPaj8A1hIw1gV54hGAAAAAElFTkSuQmCC'/>"
      ],
      "text/plain": [
       "<IPython.core.display.HTML object>"
      ]
     },
     "metadata": {},
     "output_type": "display_data"
    },
    {
     "data": {
      "text/html": [
       "<img src='data:image/png;base64,iVBORw0KGgoAAAANSUhEUgAAABgAAAAgCAAAAAAtNefkAAAB6UlEQVR4nGWQT0jTYRjHP/z6rZaiLa2JUtsgFkWuCMTIRQV6SQgiysAQw0N0rkPkbdVgRKco6BiMQrDDYkRE0iVGaVDSv0namrYGa0x0taYM+XZ4f+vic/p+n8/7fZ73fYG4JEUH+gA6AEhI2JCZ2UPl6eQagD8P4CIFwLmHL3HqWgNASpewgM07vjl972hiAAZ5ex9guFBKOeCB9KHLPzPZA8BPyUn0LUqzu2jrNFbS1P+AkkYOW/AV3gFwtAv4YcAFm/7d2c93AXyn9gHOVL+F/2859wkgHIR6mC8Wexv2rwHwuwaUcwasWrwh22IBZJeAQh7Aut0Pv/TYbU6N/pHSXoBxyYpvIbZiwFIV0h5g2xGAy3rhvPueVI0AsKykxRSBAwA0BqE4Z1aXztgsFIMmUKnCawPS5VWbBW/9zz3Q3ArA91ewvd7GvSLl73Q7zkoWRhx5cRO0h9sdZx8i4MgegJ0b6gnodeQEgDbWQbGQCzsgOjZNpcmYbp5o+exWY1pbrki3zJiP1jzNkYMGlBbdcBhog058km4AnH4UO1mTBMB5QULTx4DGOSkj6TkAEQGuwV6OT5QkSZmr5lbXBRDy4DoxNCZJsZBZNyIbCMxSe0Z83tdULFYMeD8OcDPEuopaQIdvPaj8A1hIw1gV54hGAAAAAElFTkSuQmCC'/>"
      ],
      "text/plain": [
       "<IPython.core.display.HTML object>"
      ]
     },
     "metadata": {},
     "output_type": "display_data"
    },
    {
     "name": "stdout",
     "output_type": "stream",
     "text": [
      "4\n"
     ]
    },
    {
     "data": {
      "text/html": [
       "<img src='data:image/png;base64,iVBORw0KGgoAAAANSUhEUgAAABgAAAAgCAAAAAAtNefkAAABXklEQVR4nDWSW7YcVwxCN0jVN9Pw/OfnON11IB/V/tMSeoCQfiGBCk1bg6BoARCi6AkE/AUeVIEnjb5AgcpKv0XFLUCbyJL+tntNkWgbtfn2q7v9xOu052xPbE6FbKltqbAt6Ttvp22iohmrt4QMWtO4gPbSiaW6FWsDGtY/L30e5ggtRd6x93VJ94SAyqog7+51WWfcqpK69/1mZHuvyYxQgXZPSpHtGQyFCliQxvY8BymBSuzOaF87swZIQlR3f6DX/uyMvrJTmuw/7tl9rQBJfoSUndl5vcZIRpL9mLL2q9eOHr22H2asJlyXofrSe4bt9tZ4iIQ1k0YosoG2yBK2LT9+9Hxgjph5fsQHQff9/sOJxfVzKQdJast+/vuTvSWuWHlcbmFz7nM65byeJ2lyEHtyQgrch5ykbSvtv+c6KrY+v5ub3EGCfUfOsZq32uQkRWWbJArlFuQ8+8X/yC7oS2EywrQAAAAASUVORK5CYII='/>"
      ],
      "text/plain": [
       "<IPython.core.display.HTML object>"
      ]
     },
     "metadata": {},
     "output_type": "display_data"
    },
    {
     "data": {
      "text/html": [
       "<img src='data:image/png;base64,iVBORw0KGgoAAAANSUhEUgAAABgAAAAgCAAAAAAtNefkAAABJklEQVR4nN2QsUoDQRRFT2LQBCKBgAbcGE1io2AQlCBCBImFoCCIlbWIjR9gZadg40dYWCjYBCtdsLRKI6hFENlCIcUqhlVM4FnszM74C95m3p3Dm3fnwX/XuCmHSjaoR9VS43bHAmvh0Te29yhyNxndJwYAmFqsbQHVyoMG8SsAcoUyANNRR/wrnFueBSBtQDihWEoA0DMgD7C7OhfabwOO8sBCTdkRE1duclTfRenSxGWm/rad0TZrdYh7IZG8ogWCwABZseKmUqaf+Yk//zByHAPOGxZIJtM6lbffdQ+iWLFspqPAcYuTayc1uL4B4Pu+TlVRxaiIiBwu96sZT88KeE0gePV+FNj81M+fwYdLS6/kPgp0OtzuvDT14mNW1EKPdlebXxhHZN+Ugw4VAAAAAElFTkSuQmCC'/>"
      ],
      "text/plain": [
       "<IPython.core.display.HTML object>"
      ]
     },
     "metadata": {},
     "output_type": "display_data"
    },
    {
     "data": {
      "text/html": [
       "<img src='data:image/png;base64,iVBORw0KGgoAAAANSUhEUgAAABgAAAAgCAAAAAAtNefkAAAB30lEQVR4nG3SXWjPcRTH8Vc/6+9xqJXRpNVGajNbZMIsz8/CnRFiCLkjLmjcaG0ltXJlxIUL0pSEJG3zUG4mD0mJtRqJLdHMuDgu/r8N5Vyd73mfzsPnfOGQEfuPqPCP5WD8QIYFtYOh1yOfr3EiwUAGfT82tQ7Dk5g2cYStdVBt08YSdkecLT28vmZPtPI8B90n77VhHaVb+mrzX6hcNrYUrH6xD+JeObP3rqb4TIhGRFyHNX9NlehFrzb4CqNqUpCHpStPw+JRKF+e7tGJDrBlyoROfl6GInFtqGxEB8YUY8d9UY/1TZNpiQis2LVMdBQnvqBk5+O69g38QHdyl/IyAaua9yQPIuIbph8lFnIFVLI9It5AFTGXA4Otq75GPE7977E4KYAlc9icy/0U1GsWGZR9eDbv4q+IWynIbSDuYFbE+W0XIh6koKJIoh1ruXH18x8FRxdJPEW1W9f721MVUTBOzvtvWKQnMzCWqSl4mUs0URcROwuOR/RPy4J2xBPORUTXq76IOJkFbfISj7iNm28/YYB85OkR89BwqpDGiK4MDSVUkBVx8B7dk5gxM30NxXMj4iCXwPzEjEFQjMLsp+Vh0prAcLwTLR/r1aR5lX967BjyJmbP8h871vIbD5mzafVjSrQAAAAASUVORK5CYII='/>"
      ],
      "text/plain": [
       "<IPython.core.display.HTML object>"
      ]
     },
     "metadata": {},
     "output_type": "display_data"
    },
    {
     "data": {
      "text/html": [
       "<img src='data:image/png;base64,iVBORw0KGgoAAAANSUhEUgAAABgAAAAgCAAAAAAtNefkAAAB30lEQVR4nG3SXWjPcRTH8Vc/6+9xqJXRpNVGajNbZMIsz8/CnRFiCLkjLmjcaG0ltXJlxIUL0pSEJG3zUG4mD0mJtRqJLdHMuDgu/r8N5Vyd73mfzsPnfOGQEfuPqPCP5WD8QIYFtYOh1yOfr3EiwUAGfT82tQ7Dk5g2cYStdVBt08YSdkecLT28vmZPtPI8B90n77VhHaVb+mrzX6hcNrYUrH6xD+JeObP3rqb4TIhGRFyHNX9NlehFrzb4CqNqUpCHpStPw+JRKF+e7tGJDrBlyoROfl6GInFtqGxEB8YUY8d9UY/1TZNpiQis2LVMdBQnvqBk5+O69g38QHdyl/IyAaua9yQPIuIbph8lFnIFVLI9It5AFTGXA4Otq75GPE7977E4KYAlc9icy/0U1GsWGZR9eDbv4q+IWynIbSDuYFbE+W0XIh6koKJIoh1ruXH18x8FRxdJPEW1W9f721MVUTBOzvtvWKQnMzCWqSl4mUs0URcROwuOR/RPy4J2xBPORUTXq76IOJkFbfISj7iNm28/YYB85OkR89BwqpDGiK4MDSVUkBVx8B7dk5gxM30NxXMj4iCXwPzEjEFQjMLsp+Vh0prAcLwTLR/r1aR5lX967BjyJmbP8h871vIbD5mzafVjSrQAAAAASUVORK5CYII='/>"
      ],
      "text/plain": [
       "<IPython.core.display.HTML object>"
      ]
     },
     "metadata": {},
     "output_type": "display_data"
    },
    {
     "name": "stdout",
     "output_type": "stream",
     "text": [
      "0\n"
     ]
    },
    {
     "data": {
      "text/html": [
       "<img src='data:image/png;base64,iVBORw0KGgoAAAANSUhEUgAAABgAAAAgCAAAAAAtNefkAAACDElEQVR4nAXBV24TURQA0NvmTXGJ44CUH/bB/lfCT7BACo7HU165hXPwp4JQAAEYuKn31LGVYJmKETIxAqBr00RCZCXkZW8NWISlx2ilGjIGicj35V8DxHQYUw8l33dzRpaLXOOhSNAdrxNC3VqpRubHV0mECjgdz+fklLq2t+LQX64CrSjScDh3u3cgl+dqTcbrq3hZNHWH4+BLHvppmqhWPFwmem7qNE491L+/bhlhZHQ+HEM+FmLpB9b598f7xWkcw8aXFPJZXXjsvGz5frRI/ah5mMSJEByYQYMIiJk5pXAgGkkbCoc3tQgI4o7dPOi11xbckbeiDm4RBK3VStdBswkjuELHEOYQJavLMbk6UoAHS8fhEa4NEg0TKkQgGA6ThEFY1+4ZhYUJAhAxwiAoAizfP1mIU58ozN0DAsEwie23IkAydGTRHJEJwiF1TLMKADB5AzWUjsPckMYDNwkDU3UkIRYJ3Sv2b29YpDp5bcqgcZi0b9uy87cftEjJrZbtPESSYah9WZ5LitSD7FvxbVHpLu/9MWn+WpZxLYlkyYF1yza8IE+wzvNeZZ1Hlq/VPD/nkwwSUB6P1TEef08nuVeRku9ivfiaH4+Kgo/bGSTDGGBztJRsLfPcgGL/uqkYysDR1kLkWmszEpPyZxNBStUQoylCMJwg1LA+hAVBzAGRCBEwoTWF5v8Bxj9sdo0yTwkAAAAASUVORK5CYII='/>"
      ],
      "text/plain": [
       "<IPython.core.display.HTML object>"
      ]
     },
     "metadata": {},
     "output_type": "display_data"
    },
    {
     "data": {
      "text/html": [
       "<img src='data:image/png;base64,iVBORw0KGgoAAAANSUhEUgAAABgAAAAgCAAAAAAtNefkAAABd0lEQVR4nK3SPWzOURQG8J9/3mqHtkslPt5aGolExNKIRFgkBgaTkJRBjMJqMYmhg8RAYiHpQhpiEExdROpjeQdTvUIqaKi0aZRIUO1juP9+rBLPcu49z73Pc849l3/FutVlsyuTa5irgyXuvjD65u3ds6tEhkHHtSTJ/IE6fVJugFMpaNWyn+U8GKuJFLHbkX1wJEnaSfKoGMQEuJnknKNJ/sDxRCc02knwMkkT40nxOphkrHYaQpIKbMIPdKNZzhZiK17jF/rwleowbME7LGERr6iuLEvNoB/zeEq1HbrwDdvwvb7hEH5itnZcwAiVgfrZGnVcgBENG9FTlwsdcLpV6SvElxlrcb2yWCp5P1enppeVpzFFT/8HMD+BY52thjm0f6/PR/bj/iQnbpmtPMODT3bsYi9GS/MbTIHHyR297WQcGkmUv3AxycPnydIQeJHoBZuny8Qvl5IGlgfFnlaSJ5d66+1wVn5i9+DOmXtLKw2e8f/wF49fr8WHcpiIAAAAAElFTkSuQmCC'/>"
      ],
      "text/plain": [
       "<IPython.core.display.HTML object>"
      ]
     },
     "metadata": {},
     "output_type": "display_data"
    },
    {
     "data": {
      "text/html": [
       "<img src='data:image/png;base64,iVBORw0KGgoAAAANSUhEUgAAABgAAAAgCAAAAAAtNefkAAAByklEQVR4nG3SO0iWARTG8d/3on5WpFGSZWaJkjQ0SGpFQVCI0OIcuDc4VBQZ2JUuNNUWTkJbFIhLIApFNCRSUEOBRIXaxS5ev/KWdhpehyKf6fB/ODyHw8P/2rcCg1MfzyJp/wuVwpqjZRmI+ylsaG1/NvKoE3Uvq+gSw6lxJiIiIrO8HOI52DaSGn0prwrRAW5E3D3eOxRxEHSGOAFlUxH1Ks9FXAYzIQ7B2YivaIzogbIIneBhxBVUT8Y4XIynadaB0Rhvwe4vEVvQHy+SYtiw3mQZajZSjAklSStU5JscQwHWYsRs0laAzcx+hmkWMTj2OCmqRglLYyjPihxeLW5OFCLIy6Ema3oOS6VHEjswSeYbtrM2gz4SeViiJIsFfgf0SiRYz8zP1PhRCE1XE6vSq95OYBW/8sH5RCYNH4ZK8r+kz0jMIcc6qGDgOzqaJYoxujAzBSM8xL1j3ZcSE+jLra6Ffj+e4AO7RCN8ithEy3x8hq0Rt8UeGIjoKaodjbgD3sSgAG1pFWKuGTRFuJBedz3l15bb8y4y2fl03Fu+f/TWwjK38zWyVlR5S/fVf0BDHcjcPInOB+PvhxTX11buOMx01+/TE38AXYfKP1MGs40AAAAASUVORK5CYII='/>"
      ],
      "text/plain": [
       "<IPython.core.display.HTML object>"
      ]
     },
     "metadata": {},
     "output_type": "display_data"
    },
    {
     "data": {
      "text/html": [
       "<img src='data:image/png;base64,iVBORw0KGgoAAAANSUhEUgAAABgAAAAgCAAAAAAtNefkAAAByklEQVR4nG3SO0iWARTG8d/3on5WpFGSZWaJkjQ0SGpFQVCI0OIcuDc4VBQZ2JUuNNUWTkJbFIhLIApFNCRSUEOBRIXaxS5ev/KWdhpehyKf6fB/ODyHw8P/2rcCg1MfzyJp/wuVwpqjZRmI+ylsaG1/NvKoE3Uvq+gSw6lxJiIiIrO8HOI52DaSGn0prwrRAW5E3D3eOxRxEHSGOAFlUxH1Ks9FXAYzIQ7B2YivaIzogbIIneBhxBVUT8Y4XIynadaB0Rhvwe4vEVvQHy+SYtiw3mQZajZSjAklSStU5JscQwHWYsRs0laAzcx+hmkWMTj2OCmqRglLYyjPihxeLW5OFCLIy6Ema3oOS6VHEjswSeYbtrM2gz4SeViiJIsFfgf0SiRYz8zP1PhRCE1XE6vSq95OYBW/8sH5RCYNH4ZK8r+kz0jMIcc6qGDgOzqaJYoxujAzBSM8xL1j3ZcSE+jLra6Ffj+e4AO7RCN8ithEy3x8hq0Rt8UeGIjoKaodjbgD3sSgAG1pFWKuGTRFuJBedz3l15bb8y4y2fl03Fu+f/TWwjK38zWyVlR5S/fVf0BDHcjcPInOB+PvhxTX11buOMx01+/TE38AXYfKP1MGs40AAAAASUVORK5CYII='/>"
      ],
      "text/plain": [
       "<IPython.core.display.HTML object>"
      ]
     },
     "metadata": {},
     "output_type": "display_data"
    },
    {
     "name": "stdout",
     "output_type": "stream",
     "text": [
      "5\n"
     ]
    },
    {
     "data": {
      "text/html": [
       "<img src='data:image/png;base64,iVBORw0KGgoAAAANSUhEUgAAABgAAAAgCAAAAAAtNefkAAAB+0lEQVR4nAXBWbYTOwwAQI12utOE3PN4fPHD/pfGFNKjLUuiCr8Vt9ENCEdWt1KVMjxTKAOECktJquEI6d0zQGg43FTLNKsquLVtz5EJEmfcluen+7woU/RzExieEeIGdP/yZZ7vgjlaxX6WNiDFEWV6fEy1UhqrqzARBUoSEDMzMwF0Hx4+unlKChJEJzdMv7a+HdfVWpKksmQ/rvDWvbXox3qNSBRSFhxHXOt768QY3jwRQYhEMcy214+3lZkBAhkThJ0zk1VIPktvhNEHAqJgB6e6FPg4Bx+vbg0TzFFg5Cif/1NRjNH2n79fQITdBZy1TsttqhQ+rpsCDIgISVNWQq03SswG0dqB6S5+qV3nWQSAKsry3LaVGUNAyNeffZ1V6rMAlarChCkwa/99lnvl2/PbQ4gYkQhBhsS6Zqrg/ev1/X9iIgAgkqjRrQ+AnNrj44mOzMwskhLA4j5sXNu6lRZcVEQFDFDFDZOh7y8d54AEACEn1gBHLZX6yuNqNsxDVJDIrQdPy6Ju/Tz27TCQGxIhOIE+nkul0Y/tuBxA5i6KdQakx8dSKe3cz0BKEdd5KsKIZV64n/vWExFAOEGmZS7oyTiOv3/+Xo7oKWjkgaII1tzev369kxEy5CC0Haxi7862v947FQVIuRTHGVagj+BxnK0JCyD+A2EkXPmo/o/9AAAAAElFTkSuQmCC'/>"
      ],
      "text/plain": [
       "<IPython.core.display.HTML object>"
      ]
     },
     "metadata": {},
     "output_type": "display_data"
    },
    {
     "data": {
      "text/html": [
       "<img src='data:image/png;base64,iVBORw0KGgoAAAANSUhEUgAAABgAAAAgCAAAAAAtNefkAAABcklEQVR4nJXROyyDURTA8X9pMciXaENLRL1i0I2EpIPHIGJhMhGDyWIVu9VmMYjBQCIGg8QrQUjTkCDiER3aRluPKE0RUqU5hrbf/dpOznRyf+fcnHMv/DdMetbSUOMsjj5c+nJ4cPZYRETkcbHLCFMvko3naQ2AIgDHkE2vqawxgFalmpMfMQDMAEVv+vnntudLwU+gHeK3wajv5j0QR0HZ00n8YnM/Zw8zgPkjFN7LPU9D4ltz28vXCtdvWxURud45n+uw5sCwvp6cjBlhRoGER1ELVhuKasc7FFwa23u7FGzMvxqkHtD/o6LHZXP1pfOFiVTe1CVRERFZNutXZSI5CYBmywd2AbA2FcDrAUA0VQAEgchVBDKPmI1uJ+I7894XdAy08hn0bJEPI30OEnfeX/SrtBaH1WJpcrfB6eE5Cjr73Y2lsWQFHC+vYICExW7HFLqNh9aXMMJRKuKy+P0xa1h9fOYR65pN/shvWUJN8geGr5XVMq6IGAAAAABJRU5ErkJggg=='/>"
      ],
      "text/plain": [
       "<IPython.core.display.HTML object>"
      ]
     },
     "metadata": {},
     "output_type": "display_data"
    },
    {
     "data": {
      "text/html": [
       "<img src='data:image/png;base64,iVBORw0KGgoAAAANSUhEUgAAABgAAAAgCAAAAAAtNefkAAABt0lEQVR4nG2Qz0vTcRjHX5vfZktlmcOGQ5wjC8JyC88iGHowCUSlgxQYgocO6rVjdJDAk4SXwD+gOjVBEZEOKoimMZ1fYmKazJ84h2K2H0+Hz2d8h9tzep7nzfN+3u83XPRRsDq/Fd4b/YPZtqKq0Z12ppZmFfDLBAaqM95ml60cOJt0hgDoBpquxCpzpArAvgA8ciiy7SRw704dNKjFM8mtdwDYAXYhE0kkIbF8mfk+aUnzLCSGg55rcgEeHM6P5vkAKI18LeySen++c+cl8KRmwwyDd88CbPVhCExVTu9WFhs35GhsDm75NoAO4KNlYqcne9IFnObY+xNQe/sOcKj6IwDvoH7uAFbL0q5k9Ef8hdtwUKwBFzD2PuqXMJQ1GkGOC/kZF5HP+gdDOcAeELipB5mwgDdW7AY2ilr/xjYBWAHOap/OoEJMt5180VSh2Hn1cQYNMLGqqXr9kXDi52yeqNcH8nv8lR5ikM28ZF1EzFZt0ANv2/+dXmwtlz5/CCxOZ9XCjIovJSIyClChgQaVbjQkotS9bAbDBmvlvpbH+x9S3L5rAuC9P6fksv0JgHhc0Rf54D/k38cDa4NK9AAAAABJRU5ErkJggg=='/>"
      ],
      "text/plain": [
       "<IPython.core.display.HTML object>"
      ]
     },
     "metadata": {},
     "output_type": "display_data"
    },
    {
     "data": {
      "text/html": [
       "<img src='data:image/png;base64,iVBORw0KGgoAAAANSUhEUgAAABgAAAAgCAAAAAAtNefkAAABt0lEQVR4nG2Qz0vTcRjHX5vfZktlmcOGQ5wjC8JyC88iGHowCUSlgxQYgocO6rVjdJDAk4SXwD+gOjVBEZEOKoimMZ1fYmKazJ84h2K2H0+Hz2d8h9tzep7nzfN+3u83XPRRsDq/Fd4b/YPZtqKq0Z12ppZmFfDLBAaqM95ml60cOJt0hgDoBpquxCpzpArAvgA8ciiy7SRw704dNKjFM8mtdwDYAXYhE0kkIbF8mfk+aUnzLCSGg55rcgEeHM6P5vkAKI18LeySen++c+cl8KRmwwyDd88CbPVhCExVTu9WFhs35GhsDm75NoAO4KNlYqcne9IFnObY+xNQe/sOcKj6IwDvoH7uAFbL0q5k9Ef8hdtwUKwBFzD2PuqXMJQ1GkGOC/kZF5HP+gdDOcAeELipB5mwgDdW7AY2ilr/xjYBWAHOap/OoEJMt5180VSh2Hn1cQYNMLGqqXr9kXDi52yeqNcH8nv8lR5ikM28ZF1EzFZt0ANv2/+dXmwtlz5/CCxOZ9XCjIovJSIyClChgQaVbjQkotS9bAbDBmvlvpbH+x9S3L5rAuC9P6fksv0JgHhc0Rf54D/k38cDa4NK9AAAAABJRU5ErkJggg=='/>"
      ],
      "text/plain": [
       "<IPython.core.display.HTML object>"
      ]
     },
     "metadata": {},
     "output_type": "display_data"
    }
   ],
   "source": [
    "for i in range(10, 20):\n",
    "    print(proc.y[i])\n",
    "    img_show(grays_none[i])\n",
    "    img_show(grays_gcn[i])\n",
    "    img_show(grays_lcn[i])\n",
    "    img_show(grays_both[i])"
   ]
  },
  {
   "cell_type": "code",
   "execution_count": 10,
   "metadata": {
    "collapsed": false
   },
   "outputs": [
    {
     "name": "stdout",
     "output_type": "stream",
     "text": [
      "0 (32, 24, 1)\n"
     ]
    },
    {
     "data": {
      "text/html": [
       "<img src='data:image/png;base64,iVBORw0KGgoAAAANSUhEUgAAABgAAAAgCAAAAAAtNefkAAAB7klEQVR4nFWRzYoTQRSFT92u7rodzKRFEqKjIUbTyci4GBDRhStB48aVT+JzCPMAvoJL3ejK5UDc+AeCEgcSSMa/bpIh1ZVOl4vqDJO7qXvOV8UtzhVv4aevXyVwpZ4/6fAi1IA8EpQMNz6yYfGs5xUBIIUef/iEs3r3/nrnUpAkoMc9cc4HzJvvocfpjJryG7bqhwG0qRBOvm6D2e81IARNR+XkvRvu/HM8g6iCJuWDK3cf3XLdcAQOIE++OHl/oAp353g6z3NP/p04sB+rkes+jo2VUhblzKAa7rgunYEBCitOni4tlXfSLFOguOOUtv6FEmgNARJ9p6J2pEvQjKBD8tpOzVf5vATMgJKXm+VfPtfTDQCQyYtRGetBqwyNW8s1IJe5twaA4kVcZtDzYQqfAtVwOt+EebsWWAuqt+LtdNGv+74tqNK9s+3vxw27KAqC6j7cAnu9GpSwBEP9p+fBQeQRLAiLYHdw7czePbznebkBxBhAKl4eApC1VjeuP7i5shAswQQTDk4rLMJWvVGrqjy3AYyYKJjp6tc/S/CuctSoap1bWEiG0ZkubJZB/eQo2VFBztpC8tqs5gnaqdZghkaNoCEg4RWa0OylOtXMUAy3Fok1cRApFhoMBeZyXRIAKyDJdIaEGZaRAcB/Vai3dfNdbS8AAAAASUVORK5CYII='/>"
      ],
      "text/plain": [
       "<IPython.core.display.HTML object>"
      ]
     },
     "metadata": {},
     "output_type": "display_data"
    },
    {
     "data": {
      "text/html": [
       "<img src='data:image/png;base64,iVBORw0KGgoAAAANSUhEUgAAABgAAAAgCAAAAAAtNefkAAACCklEQVR4nFWQy2tTQRSHz5w595Gbd24u0TT2YcUHPhZCRQU3IhSKuPe/8l9wJa504Upxp0Wki4qoNGgWpqQkNY82ae5j7sy4mFttzur7fj/mzDDsLQAN3zyH03m68Wh5SqConSo13P2Xw4vP/lLNORrheDZpv/vyv4Bfr/Y87s3olnsw2IGz83EAICSt5cPBQg6H3XGVE2o7+r1YwI8uQAF7w37H+NUHvoHtb2Pu4M9ed2T89sMtA7udQSSx3d832ti4f48Mfj9METvDYVY0L6yuG2yPuYVjgcamyi42DHZHMUOwasZ6x6mb3d6fCEb11RNjscrpevbgopdgwzufbaay42UF2gwDLN8wtj8Ks9zSwCioF7ITH665R4aCWqyo5Islo++LwbahJtOClGS5bMNrVAYu5Z0IJVB+OWuyHNYqnLBcqi1fX/xdf8WHCFtB6fLd/ELRWq0wB8sAlStbC83NKiFDCcCd9Sdn8sebJVSSQoAZNVrq5Wm+eccvJNJlexUepxiLnWdfKzW/uXZxpVHPK4VsICURhuLPpwPPsoNGtV61EqE0oVYAYj6ZnisqhRRNdORyxoAUR6aSOIyZE0uVIGDqFQg0gYUgouQ4LJXnScw8x845qdRAwBmgVOQGzXk4TS0HcyQ0AGnNNFhuzubcEjZLwBbM1gIIAIBhzhHpSRxJHTMuFQOAvzFhyvvXtzHfAAAAAElFTkSuQmCC'/>"
      ],
      "text/plain": [
       "<IPython.core.display.HTML object>"
      ]
     },
     "metadata": {},
     "output_type": "display_data"
    },
    {
     "data": {
      "text/html": [
       "<img src='data:image/png;base64,iVBORw0KGgoAAAANSUhEUgAAABgAAAAgCAAAAAAtNefkAAABP0lEQVR4nNXRsUvUYRgH8I+/rjr0QLqgcEgClyJEjWwJDk1qCBqk1baW8D9piKDRXRqiJQo0oRqCmiIQ0Ro80LBACw91OLzf0/S+d/4Jfcfv53nhfZ8XuHwYEdFZnpVTgPF+KE6VTubBx4iIiPaTgRP948hZvtXTV75HRGfpSzsiYuNsF6YjIhbm5hcjIuJmGqeB+PC2aF6ZwGC+Vf02Nlb/7r15DfUMjQbWvuHTHkYyjMNX+FliKsN5aMJRDdfrCQ6gDVHFuaEEf6CE0yWKWoJNOIIioJrgVz5xUEF7P8FhHitgp5XgGIbhAqw3E5RwZwjXYK1M0Gri7txFN+7lp6Jia+URZ6Zav6+OYfV9d7svxyaZKXcuDfPj+bZuen7wxWhPr/4u9Z1n1V4wn+DVRO76wMP7/YXa8eenu/7T/AMdupAWRB2JZQAAAABJRU5ErkJggg=='/>"
      ],
      "text/plain": [
       "<IPython.core.display.HTML object>"
      ]
     },
     "metadata": {},
     "output_type": "display_data"
    },
    {
     "data": {
      "text/html": [
       "<img src='data:image/png;base64,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'/>"
      ],
      "text/plain": [
       "<IPython.core.display.HTML object>"
      ]
     },
     "metadata": {},
     "output_type": "display_data"
    },
    {
     "name": "stdout",
     "output_type": "stream",
     "text": [
      "1 (32, 24, 1)\n"
     ]
    },
    {
     "data": {
      "text/html": [
       "<img src='data:image/png;base64,iVBORw0KGgoAAAANSUhEUgAAABgAAAAgCAAAAAAtNefkAAABcElEQVR4nF3STWsTURTG8Z8aW2lmqk1EmAZCLSbdV0G6EMGd6EJcSPAb+DXcunHtJxDEle5FV+Ii1Vh8iS58qUgtFtGgzUtzXaSTmelZ3cv/Ps9zOPcAd4YhhLDb6WzfrptUCfRA+6laUvuSB2PQvT9snosKCoMSHr/yZv3nPjgsq5f4fKgIBuj/hmoBHD+B4Q+cLQLwDUoL84VweAbx6lx78wB4AqNGpbdZtNp9AElzdXAgozuCZDn+ACcz8BbEcbQFSQa+g5n5Pjidha+DyvMN0MoUCaiOPoFxBpbB3PA9nI8noIeLE/7vNdwoT8AeVurw9W8XLs3mZnUZ2huw1Iwm4IjUq7MN9Zkop1iCjwNISvsj+QV34foLuOZMTpHAbAxxOsRjU6uogUoj/Y8/U9ni4s4jV5op6Gd+SXU8aCkoGhCtrZUrF6bvboUQwk7CzXchhF4IIeS6Wriq1oIyxU28t/VwbyW95LaEU0eT6fk/u5ZlD+6L3hsAAAAASUVORK5CYII='/>"
      ],
      "text/plain": [
       "<IPython.core.display.HTML object>"
      ]
     },
     "metadata": {},
     "output_type": "display_data"
    },
    {
     "data": {
      "text/html": [
       "<img src='data:image/png;base64,iVBORw0KGgoAAAANSUhEUgAAABgAAAAgCAAAAAAtNefkAAABg0lEQVR4nF3RMU9TYRTG8d+9vRQqbTEptA0UwUa0kZAYjA5VI5sxcXD2exhXE1e/h18BJgcnE4SaYIwwwSIDSDUUhUhfh7ZXypnOe/4553nOe8Db8xBCaK9vfn2Z1Y8Eol6azYycd4fAMfj0MSlXJ/cvghDB1ru4MTcxAOD1aQghPMVcWosNRI7WsTsMor/4dQjlIXA1h4Mu7haHR8EejJbHLroCH6BUH984vLTge8guju9eAtstqDWSH5c0tsBMLTqAqb5dfAH5QgDT/zv2wFjcBrcqqcY3MLLRgvh5SEfVQKGzA7dNxnCOBsj+3IRmvh7DCVbA2dEfeDR+o3cPPOhZ2IelpU4x1cg8htYONKcLPY0YlmG7DZXR3FgCXTiDzglcK0a5OK2tQmMHcVMhiSEDM5CvYGFiMD6if9TyHTyc1v/23wbZfPl4deZJ+jyFEsxWytfnn6WgO7B7r7a4eHM2l65wBVaqkhdVI8tT0o4I6q/WFu6XDMWbEEIIof35e0jjHxQLbNwnwjteAAAAAElFTkSuQmCC'/>"
      ],
      "text/plain": [
       "<IPython.core.display.HTML object>"
      ]
     },
     "metadata": {},
     "output_type": "display_data"
    },
    {
     "data": {
      "text/html": [
       "<img src='data:image/png;base64,iVBORw0KGgoAAAANSUhEUgAAABgAAAAgCAAAAAAtNefkAAABxElEQVR4nG2STWsTURSGnzn3TDKTmc7QfLTaaOhCUEvFbooguPUf6I/xDwj+BJduSxH8wpUIkpAgWsTiQlSw8aMYKLaNhKSZGRf3phX1wF2c97nnHs57D5sbd1r8ETcKG+LFpcpMPG2AgoNdQMxEak5fuX61xafnw8cbe6DBWCMHlpZ1uLO12f58rbrfVROkiQM3Vw+3yR/ur92i/Ebzeb/pwPlWvwY7GtUJfmompdlTafNXAkwbc/BOPC3HDixydhHgDPBKCjRSq58irAJcgu9fZDrOo3kA1oAakF6BDpJnxoFVIAHSZXiJ5JhyCu52EwiAPYS8UOtJAuRAHRggYVApGwC+AgvAEvAWUTy/AcAz4II9xUckkDyyPXpbULJgG0QpKlU74FPAgxjeg2Aqxn3II+AyjGAAMhp7fmq7d4Bz8AMykCQswrqzMYMGDOAFSGAKP16wwMAujPjWAa0a6fsrH2yFIYFu+6APGjL2sGbxep0StO8dAVoWQucJvXUuAncBRE2kgatow+FslZQCY0o2ud/1e8eggMqcG318O35yDNTDYFz2QGc64oGcLMr0BBxlk8kwi/k7JMsKI0H1XwDo/8BvbZt59CbcalcAAAAASUVORK5CYII='/>"
      ],
      "text/plain": [
       "<IPython.core.display.HTML object>"
      ]
     },
     "metadata": {},
     "output_type": "display_data"
    },
    {
     "data": {
      "text/html": [
       "<img src='data:image/png;base64,iVBORw0KGgoAAAANSUhEUgAAACAAAAAgCAIAAAD8GO2jAAAE2klEQVR4nIVWW3IkNw7MBEBS3SPJ9t38tfc/wDosS6oiHv5gValnPN5lRDM6GFF4ZAIJ8D+//w4mUJ5BEgBJVY4xXl9fb7dx702UACJi32ZEABCR7WP//Px8e3t/e3vbts3dMzMz2+jPr6+//fJyv9+fnrot6wCW6TrO8f96B5CZ7j7nBCBiIiJi672qVFVEPENERES1iQgAkwKAJABUFZBVBRgAIJf1y3FEbNvGEtU06ySXFZKqSih8ClVVqUpTksvQcaqKPOJd4Reiqq6Xfd/3fUdSVd2z8shSRJoNACsD1WZmIgKIrdgBVAXJBQ6QK/z1MUkUK+Gec0ZmNrQoqCrF1Lowx3jKzBmx0jq+AmwRUPwujxN8sNYPlPUeM6OqkNHEVKS11lqjYYxehRk+M0ghldCSkkQlqipUtYRVlZmZqKKQImJmmV4Vhfzz/a+/3t+n+/vH1kaHMBC359vLr88B/+OP/358vN/u9/u3F4pSWkHkIrPkIYvvTi6GMz0zFitJJFFCMV08Z2bkjAgRKWEdmMhFcjJFClVX0T4wj4zIOWdmRoQwzEjSzArq9PDYPT0qM0naUVzAWY7/eqRQ6UCG+5xbxUz3pMBMCqpa5Koud58ZJTTri+FCVoWcrB74FKUoXx5YVcVCzH3fNnePCHdf1aWqZpaAu+8+i7DezExVV/cAkJ+E/QMDmQAiwvctPSqiPLhqX5RkRHzu+5yTZG9DlSIQ5SJPftCDswO+HB/a4THnjIiIWEBfJyLn9BlJtX57EpGlXQfIj4b+Tx4B5AI2pSAgqazKPPgXkdZMlGSRtWK1y/R1L0V6UFYlyj0X9O6OWnLDmO7hEb5tnx/bxxhdRMYYS/uuTv75+T6hJZBKUsB1K4WFikz3zBRQVa0JkACBBItycvAocACuokIRJQWhNrFOKkkhM5OsQkTMObf0XRR9WO/9Sv27KvqBgAuuQK2qba31/qSqIio0AQGwMt33zy1jdpUx2hiNXKVeQJEPDh45KKnAl8+iaOu9dxFVqKoCWM7TZ/peFdbkqdtoCuZjEvIY/lmpjzlJggDMrPUhNIiY2WI7PTIz0xXsZr33q8XWXCEf+gBnTwFgluLLW4JqrbVGFZKkAjJjj/Jr4Ng5Yhabp5efd3L+4wbJZR1CCIuIqDx0UUqOIbOK40Jijcw8oY8jHAVZkbPKu2n6VNXp8fnxvs3P3adlUKWNvrvvHjb6L8O+vTy3YWbSuwWWvCfrgYPDLfPrBoAUAVlrEKrqgTL0QEHVzMT06qw8p/rVaALEVT+EoM7SIhPHfpKSVDlxYEmtJrcmvfdittbW5rIEnOdtVQXIKXB5cF5yTDFgJXuSadf8Ws7GGJmeqN77ojkWw6tR/iEVX5wTipKlxiRXfdFU2lEvx+ogA8hEjTHMjKQuABbNBUOxDvXgSfi131VVeaUBAFW1dxtjNButNZLWxDDIgmA1gYisUI5tilgQEYdNkgUgKUkpUdQCvUjV1sYY97ub9dt9iOJsqxEVFwerhAQnB2fj8sdhDwAIlIqpAIccdXc362MMnGsyoGcbCAApJImVQcFQhQfpSBaFcmmhSGu2tlIIn19fbt/uGcjM2/2+5rU2YxUK6YcKS2GpHFF2gML/Mc54tf6x6p77JMklbV8BkVH5xQHwNwQ1kZLvLkgBAAAAAElFTkSuQmCC'/>"
      ],
      "text/plain": [
       "<IPython.core.display.HTML object>"
      ]
     },
     "metadata": {},
     "output_type": "display_data"
    },
    {
     "name": "stdout",
     "output_type": "stream",
     "text": [
      "2 (32, 24, 1)\n"
     ]
    },
    {
     "data": {
      "text/html": [
       "<img src='data:image/png;base64,iVBORw0KGgoAAAANSUhEUgAAABgAAAAgCAAAAAAtNefkAAAB2ElEQVR4nGWRS2sTYRSGn8x8ZUpMJpc2JG1Hg6HGRAylWutWulO68Q/4E9yKrnTpUlyIblyJXaSgSBfa6kZURIpiTKskKBhTEyhKc482PS4mmXbiuzrf+3znxvHkq63q4wrU93o1vJVOaO6slaDwVaWMBusVbx1bkYlU6kySzDelhUfKZQY+8dn5+WMQiyl2qkX2Vd9pBu1IlhZxKXb5vYiUFK2mG1TuGtvxzgdFzHIDunfa0+2iwntkquwmjWe1dkHDGssMpdAajYQUlnU48QPM3m8HJE7phsJINYL4TX8vt7bZB8mk+UeBefyE328GKFpX+mA3qO8piKObJjA9Obllg59vtVUFjHZ6AISDffB0XF9RQNR+5h9sDLpvaz01iPNryy8HcXAioCEiItJ9dX3Gmfborc9b7/oZueztXQekp6xD2Bm1ayP7e4/dKImIDbJpxw6eu1kWEVEAH7ODnXlohk/6ALvUPadQtPK9bo+jAaz+HYCM0u3/KKD7xulQe71rpZ1SB2/rNSKL97+IiEcoLF/FJePi6ZCm4Nem26e7lAu1FERjDCs/7kGkvuL7j9jNS5f0ITMwM+cRYOPFo+cH/QsLiZBHAPi0XsTvD/hyT5pEF87Pwj8ohLgF+iDRUAAAAABJRU5ErkJggg=='/>"
      ],
      "text/plain": [
       "<IPython.core.display.HTML object>"
      ]
     },
     "metadata": {},
     "output_type": "display_data"
    },
    {
     "data": {
      "text/html": [
       "<img src='data:image/png;base64,iVBORw0KGgoAAAANSUhEUgAAABgAAAAgCAAAAAAtNefkAAAByklEQVR4nF2RTWsTURSGn0xu0pS2MYlkpo0kJDEfRSltsW5EwUVFqpviwj/gSpf+AH+D/0AQBBGFglBoQO1C+iG1GluRFDSWaEnTJrElyXTa1HGRuTM47+re9+Hcc859PV+b7frcxrHePgAgNjp97SqAyDTrvuo3bKmhEQCEP3paLzv+zkJDn03Db4Gys15xAM3CWmUmbWwI6oUn/KfG4+okPwUBbwCXnv8J7yoMJHNuQCd8ToCWVWsukJzsKHA+cQWAPgckRi8KiOf3To8jWqz/x+InC+h+XQA5IzWoqmlRSZY6PbC10hJArJMMDguIZ3Ofe+D1AArg1YIBAdBvyiY1QwCEQn8Btp8VLd+bymNKNV7etad6uFoT8rz/7tULeVZHhqN2xfyss8btN6YpQeW+bXvvzJmmKZ9anpf+o8yFS4BVsX1P+tFS2TCdimJBgrFI1w9ggS92iK3ikRbXbOCk/uHBYTc3fXnCAroz6xbsL41P9JqvjuHSoNIAjFLVDVpKG+g7m3IDlCBA/pbbz1oLLrnIzFOPlc3a8uL6rzOpRDxS3jzyZ27clH81NXX943fP0FDIZxT39AMfHjvNtwvvd7snrcPeLfwPJ7q6dT5uSA4AAAAASUVORK5CYII='/>"
      ],
      "text/plain": [
       "<IPython.core.display.HTML object>"
      ]
     },
     "metadata": {},
     "output_type": "display_data"
    },
    {
     "data": {
      "text/html": [
       "<img src='data:image/png;base64,iVBORw0KGgoAAAANSUhEUgAAABgAAAAgCAAAAAAtNefkAAABgUlEQVR4nGWR3ytDYRzGn3OMdo7N1uRnmBWWH7nx42pFkdzMH0CLXLh1o9zgimvKlRt3YvdqpUQuXBGRkrSJtY6RbW0xOXlcODs7e/fcfN+ez/t+n++3V4JFlYqc042z9F+qZFd1raLWycdxA9gAAANDtLvqVLtX1vdKQCgAT1sFAAxlYnfF3o5zmnrcnykCd4QWPa4oJtnWrOQ5ZGZctamKnNKbBwEArfUm2H+z6dk0u4IBHwDoEDW49kWSSwDkEnBxegkALWUAsQwAjHeWAU0DgN5AGZiaBIDnpBgeTJAkl0Xft0uSPOwX/O71LEm+rgr+yGaMJHcW60v9jq0oST6J/bFxTZKcFv2xW5LMHhTmN/eY6AOAj4dfAbSPAgA8TtUwbEb1dwMAHL5gws5otBgxV/g+LZW+Dy80mi/cv0bTBsDVatOPChlJy2uow/0dBXAWsc6ee49L5uKz8834fEl91zjT0ZNwSipe8/bkn+I/gD+f/BLXt0gqt/xNVdoN/gCJeK6AhiksygAAAABJRU5ErkJggg=='/>"
      ],
      "text/plain": [
       "<IPython.core.display.HTML object>"
      ]
     },
     "metadata": {},
     "output_type": "display_data"
    },
    {
     "data": {
      "text/html": [
       "<img src='data:image/png;base64,iVBORw0KGgoAAAANSUhEUgAAACAAAAAgCAIAAAD8GO2jAAAFiUlEQVR4nFVWwZIruQ0DQKntmezLH+4hp/x/VfaNWyKJHOSZTbrc1QeXBIkAAfJf//7TBtx0d5UbMNzea7sNAIBtgwZsAwBR3tm3hmKMMYYkhgB0tcu2TQK0PSJEAC13ETZgo9GV5Tb43rQN/w1mqGMEpQhFKMZQBACHXW53l7sBeohBmIJN0KYNNLz3rizw3OH/ANodk89rasQYGiPmnIpx/kbD9n3vdAIcgAADDQJUu93u8n3fmUnyfWrTAIjuaveF8fCw2w4yqAiJJAzQLu7ergYwaEcEGZ1ZVZm57nXf99q79m67u7uboEET3ZW1r5yaYGhes6q6u+ccChcqu7ruve57ZdZ4lwB8/w4JNgADbrt9eDif7i577/z66xVTrmZDIBqthtnZVXW/1tfXV2YOfGuDIEGKkkISSVEWAZskDZTbTQHd/Xq9ItXVaBCCaRlml6tqvdbr6/4bgABAggG23s+IAdl9VMezmoCrd63X19Jgl+kIjsHBoW+Azl25MjMH/F0cWpIUYo8Yz+tRVfgf7dvOqsUFITsz73AUu0af7hFECiyTIkUGOX7KDwPkG0Pj+Xx295sf0kC7994klaqqtW4xCAkSI3TNuAgIpDGgAUH6IfmUCJIiBIf4eFeNhwBnVUQAkLT3HppkCEFIjKkxNUjShCCIJs3hoxBSJCWySSoiIkgeAEkHQFJVujsUZBAieY5MiwyCcrONbnSj/PcNTNDnNNKp27tilGTCpHJLImWzqkUme1d3O12ZSSD33iv3zszMymESx5gOGwBA89gSgFPgAGD2fjMnAN1udu1U5L1qrhQHgb33uu/MqnKlh8EGYRAmoBAItVANgKKN06trrXXv0+d7725QjAhKJtsom3CjQcac87ooDQMNAJZNidKMAcOZsNvOzKrce6+1vr5ef/3+/fv379drHad+PB6fn5+PxzUiKImY1zVicETMWXu/OTDQBG2YBkk0Wd2dWZl7773utdZaa6+11yLx8fmp0OPxuJ6Px8fz+Xxcc5Lsns6CCKAixvHLwynemeK39t1Zudf9et17r73Wfd/3urOKGmMMxDtwIuI0/9mth6cvkn3lt4r84/xvU3O7qtba92vdr3vvc42NMhFjXh/Pp8XHdV1zjpNrodM0ADQ5gt1j8G0G5BHS2zk6s9autfZ9r71y78psN4NjDj8/Pn79+sXQjHHN63pc1zXHoIHOYwkF08a7RHyniul3luauvHN9rftrdVe3AcYYAV3i5z/++OOfv47hjog555xDAbt5rL1x2vCbZOMAwiRod2YeUvfOs0RnQYxxzY/nx2PMBkTGT5oZNoEGLDEUJMd3KP4Q8I7Io8u9du4mGSQJQaGYY44YBAm/NYKfRHHT5He6HIBjtu/XBujGztqr1u6slkSd7D7ZQds707CkiCAbwBiDJCnS3W13IIb7yNR9wvLbuV2d1dXVXRRNNtxuuRtYudZ/bgMkxxjXdc0xxwwSsKvKQJCmh3FAAbK6elee4mS3XfaqxM4IXjPmvKrr9Xq9djeSohRzXnvv6xqx4zTCmQLOZUeDIuPtkShUu6uq3IZBtJ17RYu8pHbnrmxUIxmMMc527TFqiDp13HvtvW0Pg4AMvb1UhIISAwpGcAxVE2TDWclj3SizUTJaKlYyASI4ABK99r7Xje4B0US9+1cGIcacMee4alZlldEnkpot0O1GN1tClTMpKS11g00Q7MaZp2qAPIMqjohFBmVe16SbNIV9BQx9uwDc5Sq3aZIa0pAiNEISzxZ7MULk+M78M22ZkhCEnx+PMTRmXI+ZuWD+ABDOylVpNMmIGHPOxxxz/vhRHlV2vxutz3REAmSIGkOMA5CX6/k9AIAM0ln52vv0J8UxZ1xzzDEUAklmleGu/i/EyrRCBj94qgAAAABJRU5ErkJggg=='/>"
      ],
      "text/plain": [
       "<IPython.core.display.HTML object>"
      ]
     },
     "metadata": {},
     "output_type": "display_data"
    },
    {
     "name": "stdout",
     "output_type": "stream",
     "text": [
      "3 (32, 24, 1)\n"
     ]
    },
    {
     "data": {
      "text/html": [
       "<img src='data:image/png;base64,iVBORw0KGgoAAAANSUhEUgAAABgAAAAgCAAAAAAtNefkAAABwklEQVR4nGWSzWtTQRRHT6YvwcSktFEs1ihitYG4UhSxVkTd6aruRAQ34v/gRl24s+BSobhTwYWg+AWNLrpoEVMjiI2mabT1C1NjW4PP9tn252Leqy/1bubOOdxh7p3hwu2hgT5CceSOJMmsb4wVS2FReD0B4HSXRvNfw+Ln3a5oKuWYzNJkE4c3z55P/cJsjM+wKobL9d+Y9qQbgC0tdq1U6ws4dK7x+f7emQGbzdKCIbvWF7v39uyxmbuUxJA5andd2zbE0zZdjLVi4MxpgI5spFau+MVtBge6rx54/NmLuaXiaNXyRAqQJA1dPLy1LbZy31NVyQCQ5e2HWW9FJOJgRfx7U/eJRCCmy2Heui4SCDfMmccNRCS3MyS8d/VATKR7j23/Z0rj4AA8ekDuYGL6y/gtK15WbB839tF5+YWk5X6/5GxNSIMdwPGCJClnRd97Gab6vwEPPwGQsWJZGJ4+AeAVAB+tiEYxPmFkHrjn/xfPwyCbF/Nzjfvng5kYHHY5iwC1Kzd/jDR8sbkdNHmC/+K6hJQ/tJr3DEtIc9d2NPOTg5KQNHYpE8KZcwXJvqBJbgqJNH/ATtdbME1H1QH+AjAWrMWai9yAAAAAAElFTkSuQmCC'/>"
      ],
      "text/plain": [
       "<IPython.core.display.HTML object>"
      ]
     },
     "metadata": {},
     "output_type": "display_data"
    },
    {
     "data": {
      "text/html": [
       "<img src='data:image/png;base64,iVBORw0KGgoAAAANSUhEUgAAABgAAAAgCAAAAAAtNefkAAABxklEQVR4nF3Sy2sTURTH8W9mbhySZhqrWCc2VLtQtKJFsEVEqLqxdO0/IG7cqTsXLtyquNBu3aiIIIggCIqlUIgPaMUXlrYQjWEitGjSSgbTdOJxcWemMz2be+f34TD3lbpjqpU3z4RYHbkwvLNX7TO/vn+ZyPkwlcE2dhTTyy2SVVr89dfYtqunHQb5YKy5XkdttwtW8N1/pnPfB6C+bimb/U4Ah4dVdRKAhp9R4AwGsMdZ79WzppkxgLGTABzKrlS+afDTKODo9QdTrtVju/X5dxpMCwUwMvKiNFdxF36HyzNNDTD27/uiF9tJCiOYbW3E8y4iWPuZ2HsrAj+Rl39EkDuYj0HtczmE5sD4cWdDSnPBqqqvV4dO296f6r06APOfEBGRyuW+A9dKIiKPg5bzGi4Co5MiIjKq4azRAh7dBqa/AFDQ0DbugvcEAH3iZQ2rnHJltqgP6JWIPA3+cULNLPQ1mwB0nndnZ24E0K0UFIemAZj46M2G78VhvCpyawub6yYTIrJ0aVNsXVmmIiLy9lwi779aE7Ub4Fij/XAjTw3ko/so7B2MdUhzKYSU2RXL/bXoopRKxzr8Ti6EbE7FoN42+A+QMqTt2qx7xQAAAABJRU5ErkJggg=='/>"
      ],
      "text/plain": [
       "<IPython.core.display.HTML object>"
      ]
     },
     "metadata": {},
     "output_type": "display_data"
    },
    {
     "data": {
      "text/html": [
       "<img src='data:image/png;base64,iVBORw0KGgoAAAANSUhEUgAAABgAAAAgCAAAAAAtNefkAAAB3ElEQVR4nGWSS0wTURSGP4ZKbJlmmqDyskbEJqJimwrBR9wIWKNRXLhSw8INW90RTXTjiuhOt2rYY6IrUyUm1Zho8IHW4oO6qFFqKWY6oeoA5biYO60T/tXJ/e5//3NOLgAM3TNFRMR+d7UNRz6A3fGwDkBD93LuDlV1XZosrK4sZPMiIqmjNceB/n2BUvHLJ19fDxw6M1VUBuNmWSR7/0L3tuGPImKeBkCDxnAACunk+6/jtwFjjwtWfFDOZTJA0gRa3IzCyy2hmVevAWa/hyCoL6rwa+n2H29nAer/AprmdlWZcBuPGkDZVhk19Z3oAH7a1ckBWrdu3tnbWw9Wgf9BZ+JgfAcAOdMD4oPHGpwqn3fncNanq3OWLI8j1cRh59LGDXgVG7nxUESkdJk1Co+JiExE1xL/ExHJDFfDE0cU+PMIaGlzw6+cK/5+5pDPQKNfOU5djOw/qywaUKmoaiAEA+scEAVEFNCB7TEAAglgeVWBpxbQA8DoXuBXSb2r3xKRuxHoGs2LiEyeVF0tjic6iRyfa4/1N4M982IKoA7g/MgmsxjoaAWyyekHc7WJB6+nnM8rY7vUkbPdx8FgkwEw/fyDB8i3tDbf7Md+M48HYFsLBuvrlqyKC/4Bsy2tiVqLxNMAAAAASUVORK5CYII='/>"
      ],
      "text/plain": [
       "<IPython.core.display.HTML object>"
      ]
     },
     "metadata": {},
     "output_type": "display_data"
    },
    {
     "data": {
      "text/html": [
       "<img src='data:image/png;base64,iVBORw0KGgoAAAANSUhEUgAAACAAAAAgCAIAAAD8GO2jAAAGAUlEQVR4nF1WybLjsA3sBkDJ9puPzjm3fGpmbFkkthxkT1JBSSeyAJDsBfzXP//h4a/zPM/T1zIbohYR85zH6/16vY7jqAh2AQAgoAjV5L7vP4+f+8/j8fNzv9/MrLu6s1EUUAgQoJEQ0kRMJEWqK2OFh4dHeGZ2N9D4BLuRWVmp1M1ijIgtcqQIgW50owHy+gGjUFSGaQ7LKg9fvuac81xzekRUFRoESQHQVREZERUQqIiqmpo2oQSkISUUkhSCtK7sLhAiVOWKjsy51nnOOT08AYqYkWpGMCOqOnOd5yJIETHVzUi2qRCCz+V8C3Q1qtlQiJJEV4X7XHPN6IaqqehQ2/ddVTOClLXc3Z/Hm2q2bdttmakI2fI3+/VbdQMQQoV17emOCF/uEUI1o5pu2/Z4PMYYlSki7h4Ra60555weK2rLMtP+9A9ct0rrbhAUGrW7RQVkVVdVd4MtQlMd27bfbvu2dVV3n+f5er0iwj0y4rrmT1LIFZ9HvhAiIqCANDMhr40qVBVVNRtjjG2MfWzV5e5jDBHpLFShurK6WxpCUVERFQoJENYoXAghKKKm+77db7fKSk8R3bdt28YYQ0yhwmwRqqpS2EThgjGbAlGKipmqDAEBtGU1CbJAdPcY9njcM2uMzVcQMmwbOswMYFZWREaiQaiKCYV/OSJUlWFqZqLfE2QlSbIAdGOMTX8NEd22fZ5eWWgKpLs93L1z+XlO9yBhZqb2KUP53qiq6v8UyKRQyG4AvO1Db8PMxphvm3Mun15RWbnWqkxfa8015wSwbdsYm6qKmFBFLt6pqooI2I02/D0gQYqqjmHdyGxfOefyCJ8ey+OK5ekRmdVtY9gwEeUnwA+ARMBLXkyEvBBLiui1wUxNlURVefg5Tz/XnNPdyy/xoEBM7WqW/xdfKgCwMcZHJCmqJmZUkxaKZ9XVtK815zzP05ejGt0kIQaAcqmRiQjArspMVQJKEICZaaMbl6wIiCaaKKD7QxG52vzSp6u7uxtVXdXAlQD937j0AiSM5PcNSBKNygyPzARk2H67gVCzMbYRKzr7EomOrurMj7heunv1REIEEDZoIgqgeRVFZlbUnGueM6Mosm+7qe37nrdHelbGPOfr9T6PGREevtyXL48tI6pGV+OvHBGmaleB62ge4V7H6/0+znk6wGFj33aSSFRWRhzHQUisOOdJlxFrrjHXWrnvmVnVXd0qfRnOR3mkqqvSPd7v+Xw+j9d7nTFs2I+ZjX3bTYxARmxjZMTz9epnZ2VkeoZHRHhmdNf3+1gmwevBu7LX6cfr/fv3n+efl6+47/cxttt+H7bdbzcTq0qAr+Mws8vguqqqsrMqu7MvDKAbRLd1X8mR2dPzfZ7P5+vfv/88fz9jRv7k7fb4eRRFbIwxRkXaGKL2IRO70F/Fu0SPFw4bIGjVuFYz08PnXO/3+30cx3H4GYScv6a7V3U1qpDZmZ1Z3c2PfTXZYF95L0P7ghJWdclcZ2Zmuvtayz19xVprDl/L1/qY1yUVx/E63m93v8DSjUZ398ccOhtfsPJb4MOqBtAAL5sBvToj3H3NOdEgsOb6/fvP8Xp5BEWol/V+m8Y32ecZYN9phyRUbYztdtvvPw+PjEhSIuI8z+fzecq7q9by5/N5HEdWyTBTfmlOVaVIA39h1B+YgiD1gvy+3253j/Ll85wEI2LOaWrsjsi1/P1+n3M2egwzpQ01UzNVUx16KfdfcH4KCEUIbojbLSKrypef7zOjALiv98Gq9nBfPudc4WPofttMZQzd9n3bx6fSMNGrxjW2VAlFhJftbDb2see9KhuJOb2yPHL54dckmZUZjR6bPX7dxrB9Gz8/95/H/fa42zYoArIukAIWvkTsMnw0hBymt23re0vxeJ/v93zPNdeKiMoEQbYNbvu432/bPm638evxc7/ft32oKb72e6HG5nlSNDSECjCrrrFVLn8wGyOrm0TkBbkmWgRjN1GKEGChsyurIxvs6hapa8k8UthdJPNLkv6Q8pr4lDa0SWZ1FVBAX/b3d+iuT3QVPrxCF5rAfwAr+wD1ckRGlgAAAABJRU5ErkJggg=='/>"
      ],
      "text/plain": [
       "<IPython.core.display.HTML object>"
      ]
     },
     "metadata": {},
     "output_type": "display_data"
    },
    {
     "name": "stdout",
     "output_type": "stream",
     "text": [
      "4 (32, 24, 1)\n"
     ]
    },
    {
     "data": {
      "text/html": [
       "<img src='data:image/png;base64,iVBORw0KGgoAAAANSUhEUgAAABgAAAAgCAAAAAAtNefkAAABJklEQVR4nN2QsUoDQRRFT2LQBCKBgAbcGE1io2AQlCBCBImFoCCIlbWIjR9gZadg40dYWCjYBCtdsLRKI6hFENlCIcUqhlVM4FnszM74C95m3p3Dm3fnwX/XuCmHSjaoR9VS43bHAmvh0Te29yhyNxndJwYAmFqsbQHVyoMG8SsAcoUyANNRR/wrnFueBSBtQDihWEoA0DMgD7C7OhfabwOO8sBCTdkRE1duclTfRenSxGWm/rad0TZrdYh7IZG8ogWCwABZseKmUqaf+Yk//zByHAPOGxZIJtM6lbffdQ+iWLFspqPAcYuTayc1uL4B4Pu+TlVRxaiIiBwu96sZT88KeE0gePV+FNj81M+fwYdLS6/kPgp0OtzuvDT14mNW1EKPdlebXxhHZN+Ugw4VAAAAAElFTkSuQmCC'/>"
      ],
      "text/plain": [
       "<IPython.core.display.HTML object>"
      ]
     },
     "metadata": {},
     "output_type": "display_data"
    },
    {
     "data": {
      "text/html": [
       "<img src='data:image/png;base64,iVBORw0KGgoAAAANSUhEUgAAABgAAAAgCAAAAAAtNefkAAABHUlEQVR4nGNgGCaABYc4kwyCrSOMLKMOYyh1nligjyShyMDAwMAgZJ5z4P///5UYJgZNfPb/////y3gQdjAwMDAwiMlrSjIwMDCoSqBJyCpDTGf/hSbhbCLGwMDAwPDtI8J0fQYGBs/r/yFgO5K1h9QYGGZBxf8fQ5L4X6yXBhP/f5YZLs7C4CNnD+dxcH5B6PjxCK7h/1s1JKNQgBeac+HAUA4hceAUkoSIONzyNzWcKeEIA9jhEg1HGfacUBdVMmRgYGBg+MfN8gcqI8nAwMDAwKY0/f////9/V5vA9T5nYGBgYPh1bykDAwPDi/ffMFx1+zMDA8PlJ/cRPoeCl5Nj39878/A7jM8Id5CC2a9Pdx8yYEowyPz7ihQdACHFd9U1vMGHAAAAAElFTkSuQmCC'/>"
      ],
      "text/plain": [
       "<IPython.core.display.HTML object>"
      ]
     },
     "metadata": {},
     "output_type": "display_data"
    },
    {
     "data": {
      "text/html": [
       "<img src='data:image/png;base64,iVBORw0KGgoAAAANSUhEUgAAABgAAAAgCAAAAAAtNefkAAACKElEQVR4nF3NzU4TURTA8XPvPbfzVVqGTpmpiIhKUDeyNjHRGHc+iy/gU7jyIVwZXWnigrgyRpAESUqsKcTQQOlM22ln5s79cCFY6Vn+fznnkHcwGQqRa8e2W2HdEaPpZKq5VyCA0VIoAEOxYnk0B2DGdXMEMEakhk0oycdMKiGEJIQAAhiDXBJKJ2khLDYRuTKqyBEBDHEp8tqgO54scSmNBhgPsU8JK1XNc+tHhxknToWxjFBnSj936mvV4Tk0w5XlBadaI5oySswZtqtukBz0MSq3lndaD+rHKQZqnFrYvYeuX+fVSq6yVPhL+oRtABSb2ONBOLheRua0vT/gtzaT2Ck5WA2cUt9jTObx/tsdi63zeKT6AWRDhCrJewcnZbJdQvE+Ykxhd1wRBfIWP/v+YR/+zna16VIyZVLjk2f+6PCyw89O1iCaGQfx8R1YjC87qFHNMaYvFl26AtD//Q/AYhqJsm2GpwCfvsygFngeEqSAr+87b2a9Fa1zHyrFFLHz8ubHGaxEweLqMD3mEmF3d9ZhKpymD3Xpa4Qrk2SWZxT4C5pehcHpUSwVMELmNvJfoatBoZw/Be3lZoiGGDMPJ71xAspRMPcD4DxOJgQMoXD3KmQiLyl3EF88+voq/w+0Il5QBYnPH95O9pT8dgl+FC44CAyz1L5BDZV7FxBtbNFUA8EfutIYtrvpRV9da11z41hbWMMGJyMZdgAAYOnplt2z0YbKH7zQ+Ox/PiMMAAAAAElFTkSuQmCC'/>"
      ],
      "text/plain": [
       "<IPython.core.display.HTML object>"
      ]
     },
     "metadata": {},
     "output_type": "display_data"
    },
    {
     "data": {
      "text/html": [
       "<img src='data:image/png;base64,iVBORw0KGgoAAAANSUhEUgAAACAAAAAgCAIAAAD8GO2jAAAEy0lEQVR4nF1WW5IjyQ0DQKZ6do/gX5/B9z/UerzdqiTgjyyp22aEIlRRWckXCIL/+sc/GRAUBAAASTJAwIQGkgBAEttJEiKgQog4h3Xe53wtEBXEcCdBAOS8w9vuJ92eEoCkgBAAX5Hg/REBASRBECIARn3Ce4f/f0bwRH/uEytOcFL6GVF+ZE9S4QkjXSCAnLhuM0C8U0OCJBFVUkDHToDb+R09fNcBooTbdTrMndbrRoInmFO5IAYSSJTKMMwTFBggrxx5qkeBxLkKTLMIECByX52c13fFHUychAaZOx0bCV93x7nzYBI4CRAiQOtXe5IJQalizHWNrarWA2Iyngnw9Gx7dSeeuWKXWCQAzyQhaSIkRZRQBNmSApMoFEEfEAZOjBDIqe7BBglBYShzeBf3ZJZXN26IgxWiey3ZsZVCgkxO5R3bJBIDDlmlVSoxhCJskSJJhBTlG3YCmLw89eOPX57JNgaZ+K6wJSBzzgkAuboeq0GEGxYsHaAGkhAaIRMiZPhy8Meff3i8n3t/XYmp74EgWRLIECytj358LBDzLAIb1pxBuQFDBDSY8EYigK71oJzQe/Z+9Z8Q0aXqRYlCre6P7lUgN+g9miHC3PBmQMpg4O/JI9vkewrDDGbgIBJb6vPr6sejVqkYxjMqQgcMuJFNUASACO+OB33t7T2zr9n72tdzX8/rYlBVFiJSlFSL/WiV7KkqVkXMQEzeRIHjMb6nGDba9ni2x/bY45kMQcNmIqSIJiSV1MoEInjA6MDBPZgvL7qRenqA19MZPABQwKSRYgoppInS4WbwfXt8gnwXHMABz6FDAmCTVUqq2FFvdHGapNaqj6XV7GIVV6dkYpgBjNi2/fZCUhElBolf9I5ea6WqpM3nXUcmiVazu349uptVKEYvQta9acKbfU5T82Ml3R0JuqqiOgAQBXHTM6O1tPqAJ+QoBOpcf3M+QfoQy9telPy2vq7rjltkSVXVi6X1WOux1AVViBAWimT4NpGQ8h3yt/HVrd7XPgAhBUVV6/FIvNbq9aHq6O4ibwIHKUlSRaYONA9HMPexbzedGZKHTECU3FVA9XrUWpLCswLAM9PEAWypIEdIyLPhboL7H+vD46UTGifmkGRVlVTVZmKHEKQIZLFb3VUs2xjnjpk8ubwfSbZakgRWaYABFQWgobM+jiQQzwYB0qxWFwv0jSO+e/vmHZAA0Utd538A23vmuUNsaNeF8elwV0UK+WPeirCYQAXhjBx+FEkA0K2ShGT2HCb6+vwMMntjjKoQIGY1H796fQDIxOOztEPdGz1HeR1OuPUIya4qkkw8s6/r+fX1/Pwcu/vKZUjHQa2lP/nBDngkQF7ms2jvxf+NHxKEu7sJxnY2xt57X9eMsSMLxZN47Zn1wFFdDl8MF8CJHY99RvtM1UsYtW6pEo8z5gBzhIo981I9QJhrPIOjIcYw4jhJ5rhwzFvYnq4TRP/+6y8Es/fn31/7ujz+6I9hCMgkJIliwHnO53/+Tpyx9+BgYu/tMU1BYF67h4BCmv3737+BZPt67oxtExJzBBfilyzzPJ9fPNIUsT0zs8fbnvyYs5eOu2m9n19f9+bzEejJXdQEYOijQkBfe7+IzcnMNb5OfRIf3PwcsXP0v2w6/64TeIDQAAAAAElFTkSuQmCC'/>"
      ],
      "text/plain": [
       "<IPython.core.display.HTML object>"
      ]
     },
     "metadata": {},
     "output_type": "display_data"
    },
    {
     "name": "stdout",
     "output_type": "stream",
     "text": [
      "5 (32, 24, 1)\n"
     ]
    },
    {
     "data": {
      "text/html": [
       "<img src='data:image/png;base64,iVBORw0KGgoAAAANSUhEUgAAABgAAAAgCAAAAAAtNefkAAACAklEQVR4nHWSTU8TURSGn5netjIMUhwCAm4kqLEYNRiJ4kKIceECVrrAGBMSF25d6i9w4co/QDRGXbgwpiZWQt2oRPwgxQhNkA+lSmeItEw7kiLT40KpbRPv8nmTc54358J/ntYeWg+Y+fUtoC7S6btu+m/gLH/VzY1cPhg26lTAd72f+k4j0mhoAuRXMm5Q0HxvU1kd7Y0ACkg9mUhnfR/dzVJ//PRQDwAi7y9Wr708Viil44rV2P3q4G5Tznj7WmUS92pNX3lewlZrybnawJ39bKOMaC0/28/UI5TZ2f2pgu7vO3Koa6tz6Z1qNhvLdHdvT9+AAtrSczr5rXKQSWZEAdQ3hBXF3L9BX0ZD1uEg8M1RaFrFiuJtZ/hEC6kUCvt7ldPDXGHILOnoNOyrtn32cuZHIYJOdLimx+yiU9hoU3RdsW8BELHmAVhe1OaTKwoi16y41zrUb7k3HgDY07adARERKTieiMgkACrc3bsHHYBfm5sAoTBAg0IzUQAzbxwGo+QeFwFMVW+4KGAy/iLpjp80Jp4CEGy2JICCj7HYFIyNbetqhqn56OAsTFX1sA4eaC2hoMWsLnjsTGh6BwpMc9daBT81eI69q2lEiqMDFbzjjojI5HVE5MPN8+UrXnguIiLi/fmiS+OJBd+fI3r1UtO2mwCQTTh+MFU6OlIe+RsuFMyQMKkpxwAAAABJRU5ErkJggg=='/>"
      ],
      "text/plain": [
       "<IPython.core.display.HTML object>"
      ]
     },
     "metadata": {},
     "output_type": "display_data"
    },
    {
     "data": {
      "text/html": [
       "<img src='data:image/png;base64,iVBORw0KGgoAAAANSUhEUgAAABgAAAAgCAAAAAAtNefkAAACBklEQVR4nHWOvU9TYRhHz23ffl2KUlKpQIKSNKICEnTAiCHowKCjYjSQuPgX6L/g5KSDky46mTA4KDFRiaYREqJgAZUIJEApcvvdXlp6vYX7Oll6iT7jOcnzO/CfU4ZT6yUr/Q8hYyvG7q/YVtEwTKc3s7VRFUAynig5FJdwUElpKb24XTZ0RVJ5/2m15Kz3H/YLd0NjoCEUcMEuMvGwveZ1z923UkopJdlnp+yrwxNSSinF1ItFuxhrsVq1JafIRA+GTvvq5r+6RXNo64DIzaW+gAgGD/Bz/aYGCKtSA1tOdLaHmzPeOQuRSVSx5/LAYJ8CEP3oc+TiVfF7MmYpAKfbG/uFVtz/pD8/0ngSKCSKXpGrHS492L3eC7MzZkK0qjs1xnjsUjuSmwm2HUO3bbGFyUUtawqOOo7duWIzq5vJbDHobhKcvd/73TrTo+YefQbIa8vJhbyiC+jtznv9gO8aQGmlkv5psC6AeDngB8IA7L3u8OhQFhSmZ9PqSAdEAPBLU7HALbR3E5FVZi8Foq8AOOSpU0zwiYUPL3UYH/9bpQbVHRPcwtB0W65ar5oWeIXLaeP+cNteAagXDU02cXEotLYE3ibR1nVhap93jgx71rLReN955I+nN6p8cExKKefvjT4pKpK9qTcz6e1lGLh5tQ2AjXw3ioRyJGaKb9njt7pqxv4AZH7XhAqPC/IAAAAASUVORK5CYII='/>"
      ],
      "text/plain": [
       "<IPython.core.display.HTML object>"
      ]
     },
     "metadata": {},
     "output_type": "display_data"
    },
    {
     "data": {
      "text/html": [
       "<img src='data:image/png;base64,iVBORw0KGgoAAAANSUhEUgAAABgAAAAgCAAAAAAtNefkAAABn0lEQVR4nHWSO0sjYRSGn0wmmzHEuBpjNNFdx1vlBURB8MJ2i1YithZaWGix3eL+g2239BeksBC1EBSsBC0UFUQFL4OQZSPROAkhJib6WcxkksnqU77v957vnMNxADWKXNcS8le7lbuLlEtp+BLw+XBQSa3aHmoMev7TTZwfGcVSjlpShXeMxcmOqmwmkXB5YntrWsn9VRAltkctfSIuyvmjAEhAsN5Wvflr0Yhq5fr5zi0wKAPJexUoHJ39S2ceLg/yAA8y4PUD7G/sn8et3I0MtLYBjLyIdBwbv8128ivjdmPV6vRwxmZslWa4njc1CWCpbLoTM+MDcEaEEOJV14UQIqIajgy8zO2q8WMt7V34AcFW27gGn7Zi1yvfSwmL58hnr/4EQLdki1xlpWQSgC5bAtdjLnoPgMOeaCep60ZVGSA0HP57fOPv7R/pjDrzAGRlgLGpPtet1tQTBqdSAPAYXbnVLtRvALgfXwGqZQkgkbJ+0U6Nv7MABH6e5IxVxWbNBzXmwU33N/mHAmJ9ebMYtY7a3TDgvdqrXNI7vAEEKboo+vA+QgAAAABJRU5ErkJggg=='/>"
      ],
      "text/plain": [
       "<IPython.core.display.HTML object>"
      ]
     },
     "metadata": {},
     "output_type": "display_data"
    },
    {
     "data": {
      "text/html": [
       "<img src='data:image/png;base64,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'/>"
      ],
      "text/plain": [
       "<IPython.core.display.HTML object>"
      ]
     },
     "metadata": {},
     "output_type": "display_data"
    },
    {
     "name": "stdout",
     "output_type": "stream",
     "text": [
      "6 (32, 24, 1)\n"
     ]
    },
    {
     "data": {
      "text/html": [
       "<img src='data:image/png;base64,iVBORw0KGgoAAAANSUhEUgAAABgAAAAgCAAAAAAtNefkAAABzklEQVR4nLWSS28SYRSGH5hvgGEodCgQLq1BKzVNwUvw9gO6buLCf2jcGFf9AU2MbJRGV8WQALWMyEUuHWCYYbi4mJboXt/VyXlW5z0P/P94NlMgHYrGrAEyP6t/gGJxPzBWNO/at57V3ugg3P2r18XU7Nsste33ME3W3t2ChycnKlurfkBRQji9ZKJ7A/LPVCDaN03Noy6d4J6kCQA5lwNofjG90cPs8NoO7u4LgETCB9D41JfS47nZNuahmABIZQAYXbb8ViRj9cYT4QhAURUAFMU2QpPxsNPs2FEBJLZkAAovl21Z8piNC+OXJUAKh7cBuPN89WOV0kzND7oAj1B33DOPDtq6rKUy9lsQsFjdFiOFpbUUTqYfv7cRQG+6dEHXsYeJtCTv7NYQgLl0wapuzP1ZCY6e6rYARiMDgMtK27+nAS+OfboAGLaeAFyUvkcVH0DRPxUA/RYA5+Wr9INrBTgMLr0Atc8lwOmOFoPRCGBiS27tH9Mir9Z90aHiGMD66zjsgsqHwDBu3T0+0PIKUD7vRW5ee2Zd3Y9n4j1FW5jT6mmpG9lYEs8XHsUWTFn1q6etjQzQO+vKOTGr681G52+vIFu4NyhX+Of5DdUor8VuNxzpAAAAAElFTkSuQmCC'/>"
      ],
      "text/plain": [
       "<IPython.core.display.HTML object>"
      ]
     },
     "metadata": {},
     "output_type": "display_data"
    },
    {
     "data": {
      "text/html": [
       "<img src='data:image/png;base64,iVBORw0KGgoAAAANSUhEUgAAABgAAAAgCAAAAAAtNefkAAABtElEQVR4nL3S32/SUBTA8S+0FFoKLT/KwJlN2aL4Ky4zWdAYs3/BB/1Hjc8uW2Lim4mwbGziFoWNWX6lLbQUmA8tBN+N9+nmfnLuPefcA/9sRVb2a4WScTuRlUjrA4iL02y1kpmn84mYIvo/7E9LePruVZmLaTGTkGIj+ck3MwTt7fsKqGZMEFVBUo3yIuLZXgUoDJyh4hW9iZj1Q9jcAhidXPnJTXfWH5MMIZ8DGNQant71ZdN2w4i8pgPMfje9TLyQ7vX6TgC6IgGomuBELVvotppWAEpQZ2bPaswkUYp4VpCVnhKCp3bHhpM2ctg/L0WAeEIKoLhfvR4k8/fzIcyWHZNVBMXQpEpCBBiO7BCuPHusaaw9fiEC+GbfiwO4zaGrPgJeHwdZDfq9EkD7tC1uyMD6fgA37V8lgOaX81TMSwG70eDu1ncAGrWv9ctrgFQIF7VzgIHlds0OQCts4vDwDtuYQkaW50NgVl/84FHutmM4xsu70gN1HuXz0bI09c3OhsbEjqYK6zQPPq5MyfbDcrkUw7Wdm8ahuTo+bFWfZ6ed05O69/dcgb5zTz47mPKf1h/PyZmTH97HnwAAAABJRU5ErkJggg=='/>"
      ],
      "text/plain": [
       "<IPython.core.display.HTML object>"
      ]
     },
     "metadata": {},
     "output_type": "display_data"
    },
    {
     "data": {
      "text/html": [
       "<img src='data:image/png;base64,iVBORw0KGgoAAAANSUhEUgAAABgAAAAgCAAAAAAtNefkAAABT0lEQVR4nHWTyU4CQRRFb1ceojK3TWwIUyIBjNOC6Mb4Aa5M/BxXbl35N64xxgQCMQ6AA52wQKUxgtIMCWhSbrAZuqhV1T3Je/e+qpI4xIvN0UH/G1770HXDsx7xDiGboK5pVb3ZMLruaEjmzuMEAM754PrsSB0XkYInTc7BeT9zuj1dP3xe5wQ832Tup0HtYhgm6I/FwqylbG+ZUC6XurOgk/+lh7tixZriB0yraC1h8qeXmjA5e622xeC7KdTBOn2rKKsA2SUrsKUiHVLcnxbQONwipnhEHXwKOV0CvWRfIKdXAPJvNnL47AMreQfzB4KiJmDRRNI8TDpn4diaea2TT4l5YvENUSnCjtHq5kQAB2zJe2WZGAHYX1H8WW2sJUNf7UUCgJTqd2NEAure7mrDcEgjJ4XL3G0F8fRmQE2rQM8EAHR94Io6zEzzvsEfrnhqKhAMNkkAAAAASUVORK5CYII='/>"
      ],
      "text/plain": [
       "<IPython.core.display.HTML object>"
      ]
     },
     "metadata": {},
     "output_type": "display_data"
    },
    {
     "data": {
      "text/html": [
       "<img src='data:image/png;base64,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'/>"
      ],
      "text/plain": [
       "<IPython.core.display.HTML object>"
      ]
     },
     "metadata": {},
     "output_type": "display_data"
    },
    {
     "name": "stdout",
     "output_type": "stream",
     "text": [
      "7 (32, 24, 1)\n"
     ]
    },
    {
     "data": {
      "text/html": [
       "<img src='data:image/png;base64,iVBORw0KGgoAAAANSUhEUgAAABgAAAAgCAAAAAAtNefkAAABZ0lEQVR4nK2Ry0uUYRTGfzOICpqYl0AYRJMSFAQvFS1DUBgQN9JGE1e6cCn0H5gE4zpoIehCRGoRiKsooU0gLgQJjVBhmEALZZDJG/Jr8c18hN+37GzOeZ5ze973wH+zBADtz88zcYlnn+DreW237z7kNqqftJ28N8i+9pbNQhJg6PaCxsC176nZ/D8dvcWC0Y8/V6Gic2Il4F9GNKaOVI9jxOdVp6OJlOo2UFQV2mOANzH/sKmuxvBp1Q6iox4B89+iDVWHakOUr9lSD0qorPtP4SJZKADLPcBC+KSWe4mTXzeXV7TuAyQNJ5Q/uAPAkOp6jNYl9expCdWFfKfqSAhrw+hQzcYMGlQ9jfLpY9UvVSXcNQDA3Rfq5cZccOrhzOLnawF6536o5rsAXhXPDjzMnAVxGhhVvcj03wemssWiMaj8rU4CJGmsPgoW5jYhlYPZtwAJ6Gtuam6p399d+w7MjO+MCfAXV5fIeeyNhPEAAAAASUVORK5CYII='/>"
      ],
      "text/plain": [
       "<IPython.core.display.HTML object>"
      ]
     },
     "metadata": {},
     "output_type": "display_data"
    },
    {
     "data": {
      "text/html": [
       "<img src='data:image/png;base64,iVBORw0KGgoAAAANSUhEUgAAABgAAAAgCAAAAAAtNefkAAABX0lEQVR4nK2STShEYRSGn+EyUuKGhSh/5bfIQpKVFBkbip2VbGY1s6AkS2ys7Gbht1lakqSUIkkWIysjRUZSZCwmjJ/X4t6ZYe4svatz3vec9zvf+T74Z8yEdtqKMvDjkq7Pb/Uy3/JX2FMK39Lnmt3d/Kg0DEEW8LAPBI9SDh9hO8gf8TUDDROXVoPXMcWkJGkDLKs0fE05hVaAyStn8ZOk8wwXnZWkaiefF5U0kaFhVNJJBr4yLKkrmdaY2VbQHpF0n+QN04xG46+fGIFyYDFlkFtXDECnJN2leCNuL2wQYNV5cv2bpC23U9iU9FSQTM1EMCZJC78rrSV2TwPE0m0Kfe+SdNr3m3SR0+vxuoCl2RuA0p4ys7bJCMHwlvWeAYD+q8R/MDqGB2xDoHEb4PjgOb/CKMmSC4AwMAcEvdYQVR7/8tmXbgIVwIq0nliJm9hdzv3DxW4EOGyI+G3hB9G/s4WeuMSVAAAAAElFTkSuQmCC'/>"
      ],
      "text/plain": [
       "<IPython.core.display.HTML object>"
      ]
     },
     "metadata": {},
     "output_type": "display_data"
    },
    {
     "data": {
      "text/html": [
       "<img src='data:image/png;base64,iVBORw0KGgoAAAANSUhEUgAAABgAAAAgCAAAAAAtNefkAAACPUlEQVR4nGWSzUtUYRSHn/vedz7unY8m5+po4oQjpGLYYpLcuIgWQeAiaBFk0R8QtNJVREs3/QUSuJNC3EXkooWRhmaEpmaTmFPp+JE6H3c+mrlzW9xRF3NWh+fh5fzOy1FKlbKS3zssmlpHzMXBdk4Gve6CmZZut6V4bZHLW5oLDANLBayMBLV6/H11u/HSgaEDqFDNpIsSWH/3agYgoGqtuhH4ugiDw9i2/ecRdfVcAO6derEuoPx+uo77+ymVP47UP3hhy3+6bLq4BXT5ZHa1xuMPkH7ibnVmLdvz8EKzb+qxI+5IJNCpx5HWodHJNYdHboHMFd1q6JxPy6w1Q8ERQ5dBHuQDfo9PQcTCMAtA97CgIv1uTRdHuVzZAKYAuBsBU7gUWxFeRehe+LYI0HQfCMq/+3pEL5pFlxksvARgsB1Q5HxCj3kzR0Kq2vozAFqygdJmQI7/EE1CVG23R33tZAr8tJZ2Q/ItJABEg9cG4EpwZ39xLyhPfkcUjp3mRvAouWtWJK1qElrCpH85oqGQynSrG9KIimrWaul3fXHEUPtWKRpVVNlYVkIRf0+/Mg9A33Dvp30hj/2yrWifb+uIh5fnAJBdXGVhLrEpe03hibZrq2POhLkP19mcmEghNVWx0p9/T9dG3z6ceTMKIDc8rmx2baMW+t5Y8smkE38lq2SXTjhhbWmyttdKXpaTp0ewMP4UgJFlWUn4U2fXYS6nAG6OKoK9qn0m+mIDAAMKgpDXOOWaUDwAsyb/Aa0jx1A8T/TgAAAAAElFTkSuQmCC'/>"
      ],
      "text/plain": [
       "<IPython.core.display.HTML object>"
      ]
     },
     "metadata": {},
     "output_type": "display_data"
    },
    {
     "data": {
      "text/html": [
       "<img src='data:image/png;base64,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'/>"
      ],
      "text/plain": [
       "<IPython.core.display.HTML object>"
      ]
     },
     "metadata": {},
     "output_type": "display_data"
    },
    {
     "name": "stdout",
     "output_type": "stream",
     "text": [
      "8 (32, 24, 1)\n"
     ]
    },
    {
     "data": {
      "text/html": [
       "<img src='data:image/png;base64,iVBORw0KGgoAAAANSUhEUgAAABgAAAAgCAAAAAAtNefkAAAB8UlEQVR4nM2Ou09TYRxATz++S9tLpRVKKbWEKCKaIEuDg4/BYGIk6mIcNQwOxs3HP0BiQtS4OLHpJiaGBRNddBIZlEVEbARNSSui0nvp694+uD+H1v/Bs57k5GAXfpZd+WHJL2lIk5r77R46zJ5CgL4aPbTRpM0IChrYMRXtUEpXVkvRI2ModA5k/v5CWUTEuRMHiLyqimxegAfwTEREHrdCqSVXrLMAPBIRWR+E6akx4GVZdi6igQyw8XGd3gnfyCXwTKdYRwMe0P0VtgbCg8Cos2UKCnAAVQLOvZmCq1Ej2Nbc7QJyJWBxHPZfCRDONlDAXrDtgdbUd8/1Aq6LAooQPnxyvGVuvfcIggKsIr5Q725LrMy6mM1U0nAgu9ASvMhXaxV0qMRmAHae1rk9kvkyCxv5/loJvQudUFxehtSZtYORGTB8GKjj0AvOeg3SPaljJ4BdqwzKhBjEot2wQvvQa7gcV0Y/SuBTHpId8Hyu8PkJ3IiFY0PNj+kVN3v339RDS+rbN1EAi5li4tQkAEfnrgUslIsGOocTUQ5dT8wP76tPnDbRVS+CnunoN5N9EI+Pnvd3ZQ+YoHXFhVxBRMTN/fakXpFtR8RzrbcptKEB/AnA9nzappDO2u+W8C3btQ/t/lBY1lYblbqdKf7hP+YvevzdmqzuRsMAAAAASUVORK5CYII='/>"
      ],
      "text/plain": [
       "<IPython.core.display.HTML object>"
      ]
     },
     "metadata": {},
     "output_type": "display_data"
    },
    {
     "data": {
      "text/html": [
       "<img src='data:image/png;base64,iVBORw0KGgoAAAANSUhEUgAAABgAAAAgCAAAAAAtNefkAAAB+0lEQVR4nMXQvWsTcRzH8Xfufrm75kIejBVjTNqYBMWCRaRTB+vi0kkEFxEquOmoOIiL4FShW1EcK24uDm4+gIoiFmuxEEnbWKxpJa2pSe6Se8j9HJrqn+B7fcGXD19ajbrt9TbbflPuFTjvSogo2AJTVyPs5bVbayjQcSAqUP+CQtdFLH5KnkwCWEtWs5XKFwVCc4AYl1ellHLnzjGA409dKdszAIxtSim9B/074x8duXMVBHRNsCszcF1/UuZttaQpv0BAZgCcpTKcN0pToGo9394FFfQVIHcoBeTVZn0FFDgCbFSByWfTcG7Ys60KCMhBa8MHFiahMJXw9IYDCoQglCz1Rw0OIdQaoIDrEy0c7sP7N/VQaGsXMj7I9b1/3FtFsXYhZsD8YzAB+PbdCRqAgGFYe1HmzKXWl4dAw+3UAMHRAdzlr1CcsDLhWYiE3Z+AYDyOFvhQzwrTmYV04PyGuIJdg30afA7Iv4axvGu3IQtMV4PKNeDGh+fAnGvND8EF4OKrxvb9cH/t7R/SXdwPd5Xk6MjBRPLUTRXg7KMr8W6vswUp8VJPxwmNJLILCdU8fcL0vaANGGIU6LqRYnoi7PoFAyEsG0iJtqZhGGBmwj3fAHrNFUCIW3pu8EDMa3oiGddtv77trM8ByyH+Zegxf6ejBAAl/md/AGNNzNf+2667AAAAAElFTkSuQmCC'/>"
      ],
      "text/plain": [
       "<IPython.core.display.HTML object>"
      ]
     },
     "metadata": {},
     "output_type": "display_data"
    },
    {
     "data": {
      "text/html": [
       "<img src='data:image/png;base64,iVBORw0KGgoAAAANSUhEUgAAABgAAAAgCAAAAAAtNefkAAABW0lEQVR4nK3SPWtUQRjF8d+duyRZ17CJ1yVZCZJSUiki0VKwERYLC60iCBZiPkC6NH4C0WhsrKzFwjKVleCCIL5EBQWTQjZRUImsGjMWc02avZ1P9TznP4c588Lguh8qwE4ViFXgcKaxVfa1ifapYxsLoLnqybNS33cG891FMN2vzRr9Di5uYGl2Jq0aDmTJceU4rH4DBTEmvUjN5Q44F0P/SwIZn2byo28fgVFhZH8Cmx9NvNzuFmkaFwyVqR5CvrwH/tXrn9C+BRqC3yV4s3hzZYf5gzBGXEv6yGkUt2O8BA9iMJXA+SY+X7uhnRy7e0wfAMsfemVcXxMYPgH+vHsKk4JeAqGTQ+fxC4h7V3IhLqBYGgPPYxZdvQvutFbW1uvd7XSoI9n1+r1XyXP2fX9rs4zSaxlc61VvnlcY/IqD9ZMx1naH8R95NtTKG4ea9ak5sgqPqg/3P8FfRVtcc0NDLbkAAAAASUVORK5CYII='/>"
      ],
      "text/plain": [
       "<IPython.core.display.HTML object>"
      ]
     },
     "metadata": {},
     "output_type": "display_data"
    },
    {
     "data": {
      "text/html": [
       "<img src='data:image/png;base64,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'/>"
      ],
      "text/plain": [
       "<IPython.core.display.HTML object>"
      ]
     },
     "metadata": {},
     "output_type": "display_data"
    },
    {
     "name": "stdout",
     "output_type": "stream",
     "text": [
      "9 (32, 24, 1)\n"
     ]
    },
    {
     "data": {
      "text/html": [
       "<img src='data:image/png;base64,iVBORw0KGgoAAAANSUhEUgAAABgAAAAgCAAAAAAtNefkAAACJElEQVR4nFWQu09TYRyGn379aAstLVCgqQXkCAQiRkFQ8QLxQtRghGgiibqocdDBxMGoCYsT/4C7m7rh7CUmSEDjgEEEtBCEBFOulpa2h9Pb53Aql3d8nnd4fz+a0mpX9JHLAAi/FQD+Dn9b+xEEx/ELJrhlFofvVdW1Bq4OKqXSDwHBI5NfN2vcX1Jq9pkV6FMqpSZu8D8dE0p96bAViDRshgZebYlPM6BVSE3EIDv2mu1MRSl3JpdFFJKhyR3i6XvQildFPARhACo7GwB4EKGs85i02YiZ4ram94WB0IvW0Q0hlZfCVYCaFm25KAwwMP1mJSMNyA8B1FSUxzYBmM8uglgCaQVI6tH1dQCWDQFyQc9XboBf312zOgBGsjACTKnIEwCqa3ODK095QfAbewkAczM54a8/AAID6/52dqZ+bxoEFmi8tkvUehZBkCHtrdglXDIPhM+Dw32ia6cIuHQQRz1k8d1s2ebFpSkDRFcjOrTdubglmr3OOMiefAwnVW0pf2RlCIAmfxCQfkg47RnfQVdqZiwKUO2zpUAAJRbi4uRZ8TEKUBRIhJMgE4angMy0TI/2zwOUjtmDk94VpKMAkuPBzefj5g2Py/ISTgFSwNrI16GhrDnpbk8eldXaEuInxOY+D+Z4d1sdcOT0IWR/b3PcsdfEe7p7zwBol9xuC1zpLPrz7gPY28+fO2w2VoNvLQA9jo1Egz+wry73zExi4eU/2oDV3URkcNkAAAAASUVORK5CYII='/>"
      ],
      "text/plain": [
       "<IPython.core.display.HTML object>"
      ]
     },
     "metadata": {},
     "output_type": "display_data"
    },
    {
     "data": {
      "text/html": [
       "<img src='data:image/png;base64,iVBORw0KGgoAAAANSUhEUgAAABgAAAAgCAAAAAAtNefkAAACGElEQVR4nFXSvU9TURzG8S+n56YvtlCoWKUlRd4TRE2KkhACizKAg0wuaoKJiw4uxMH/wU3jH2BYNCxKVNRE0kRRIlEjAaNS1AClpVBoby8tvXAcbnnpMz6f5Pec4dA1pEqT/zwEIPz1FJMBdkGaaQB5LGDVk5F5f9BsuYDoPD8KcPeFUkoZzwcAaH+ilPp7CeDeB6WUMdqzd3A4r9SrfmD4i1Jr433s51ZCJR7WIjI21L+x1wfwbInqupBHZBwU4p8Oehbj4NaEyG+SW5s6BIzoeF07QvORiQNQd/UyAI/HsAVq5W4ItwVXwtvxSYCRht8EZZlAiwL4wm3rEoCJ9vmfWZmHrQ2ApuPujSQA+tRsDJGBrAlQ2IwtLVjzyRTI2JpPdwJMj1f8yVlgajlkKunjCAAP9t7rc2kgqndxNFOS2oAPRNBNeYe3BJqCbhB+gb3mdAk0ulZBNNjx1IdLoGonAaLZAUd7D6+crDS3QXS583D2WuUBnCs3ABmgYKem23gzaxSh3ZkGJBhOmy0UluHldzpA4JQza4HDtBmONueS/aMO0Nm8rgNii3K7uayfCMSergJwpiqXAqQTWPilItOPrIX7PVvR4kZibmYu+rK4fPuGZ2FFWbA49Xb/k9y87qXaowFiZiVjxPf6wYsdUFHXCMg7/TXehm/WbN9AL0BrT/o9ZTAYSn7/kXe1hLs7WwHIfo1MaP8BCq7MB65SunsAAAAASUVORK5CYII='/>"
      ],
      "text/plain": [
       "<IPython.core.display.HTML object>"
      ]
     },
     "metadata": {},
     "output_type": "display_data"
    },
    {
     "data": {
      "text/html": [
       "<img src='data:image/png;base64,iVBORw0KGgoAAAANSUhEUgAAABgAAAAgCAAAAAAtNefkAAABlklEQVR4nG2SzUtbURDFf+ozkDRoQYzaggUVYiq4cSEiEpBi7a4IhYo7BUFx2023dWNBETf6Dyh0UVHciYgIVSwtCNUWLIoYxSh+RCWphehxcd97eU8yq5lzmLlzzlzIE6NpHRXmI5LH2R0rHzH9pG6lIFeGbkNp2fmbM5eIDlf/q7yfG7kyZZWDl2xKkrT9+tHYSdnxw4+/lRtxHzEhafvD5xNJiz5C0lEtMCtp3IMHJU0BDEhSPYBRHgG2ADIAcaDYKH8OnAKEAUqh5JnpyABFNgalkE4ZIgnUAETt8XdBngJwI/1+AS0ZSeoDWq2GbwAHL4l9Wg3Hg07/Jc0ADEqS/hvtrUATdUbJXs4TNQDdheeGmPfITXk9qVh3GxIA75ybn/R+2d/dE8AyQMi9+Z/39eVVbUPAGhAI+jymY19SFAj0+79P8hYOdwEr4Cc6auFrFrCyXtiakTRq8nYPXja0pdRHu3jlblXUE4tcrC+NOes7H66xK5a9uv67cOrOdZRXhxO/vv/MDS4os83qjCQ2Mp4XHwDt/ba5rWidBAAAAABJRU5ErkJggg=='/>"
      ],
      "text/plain": [
       "<IPython.core.display.HTML object>"
      ]
     },
     "metadata": {},
     "output_type": "display_data"
    },
    {
     "data": {
      "text/html": [
       "<img src='data:image/png;base64,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'/>"
      ],
      "text/plain": [
       "<IPython.core.display.HTML object>"
      ]
     },
     "metadata": {},
     "output_type": "display_data"
    }
   ],
   "source": [
    "y_inv = invert(10, proc.y)\n",
    "Xb, yb, X_inv = img_select(grays, proc.y, y_inv, 10, augment=None, invert=False, step=0)\n",
    "for (a, b, c) in zip(Xb, yb, X_inv):\n",
    "    print(b, a.shape)\n",
    "    img_show(a)\n",
    "    img_show(img_rando(a, i=0.0))\n",
    "    img_show(img_rando(a, i=1.0))\n",
    "    img_show(proc.X[c])"
   ]
  },
  {
   "cell_type": "code",
   "execution_count": 11,
   "metadata": {
    "collapsed": false
   },
   "outputs": [
    {
     "name": "stdout",
     "output_type": "stream",
     "text": [
      "0 (32, 24, 1)\n"
     ]
    },
    {
     "data": {
      "text/html": [
       "<img src='data:image/png;base64,iVBORw0KGgoAAAANSUhEUgAAABgAAAAgCAAAAAAtNefkAAABd0lEQVR4nK3SPWzOURQG8J9/3mqHtkslPt5aGolExNKIRFgkBgaTkJRBjMJqMYmhg8RAYiHpQhpiEExdROpjeQdTvUIqaKi0aZRIUO1juP9+rBLPcu49z73Pc849l3/FutVlsyuTa5irgyXuvjD65u3ds6tEhkHHtSTJ/IE6fVJugFMpaNWyn+U8GKuJFLHbkX1wJEnaSfKoGMQEuJnknKNJ/sDxRCc02knwMkkT40nxOphkrHYaQpIKbMIPdKNZzhZiK17jF/rwleowbME7LGERr6iuLEvNoB/zeEq1HbrwDdvwvb7hEH5itnZcwAiVgfrZGnVcgBENG9FTlwsdcLpV6SvElxlrcb2yWCp5P1enppeVpzFFT/8HMD+BY52thjm0f6/PR/bj/iQnbpmtPMODT3bsYi9GS/MbTIHHyR297WQcGkmUv3AxycPnydIQeJHoBZuny8Qvl5IGlgfFnlaSJ5d66+1wVn5i9+DOmXtLKw2e8f/wF49fr8WHcpiIAAAAAElFTkSuQmCC'/>"
      ],
      "text/plain": [
       "<IPython.core.display.HTML object>"
      ]
     },
     "metadata": {},
     "output_type": "display_data"
    },
    {
     "data": {
      "text/html": [
       "<img src='data:image/png;base64,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'/>"
      ],
      "text/plain": [
       "<IPython.core.display.HTML object>"
      ]
     },
     "metadata": {},
     "output_type": "display_data"
    },
    {
     "name": "stdout",
     "output_type": "stream",
     "text": [
      "0 (32, 24, 1)\n"
     ]
    },
    {
     "data": {
      "text/html": [
       "<img src='data:image/png;base64,iVBORw0KGgoAAAANSUhEUgAAABgAAAAgCAAAAAAtNefkAAACF0lEQVR4nEXQQWhcBRgE4O+9vLQ2TYyJ27Sp3a1paKhtDGhLUSEFycWLIB4EL72L9lAK4l3wYO/eSimCBy8Fe1CkgmitglCCsdYSiaZdLckmMdnubtrdt/097K6d4wwz/z+TzI/33a3uyBuP0rH2yL4Bm5u/rYy91L+eXTleqNe21/6tt/sejjwz+ezC1nK9VpwZTIbmpqbSyp2l9bv32HF8Zn9z9cHk7OFywptvtMrL3ywD43N7kpVDRxsfZ1QObjf+7PLuVaf3Hnp65KvbGfWixmU9XJl6ZfjhjUtSTh4cr/70vxB/FY4Nfw2uReUDjzEXsdVHaqho8yo4ACq5jTacuRnfgrfjXCcsPkF6/rWhxiqYdbqb9gPSjVb/QBtUtUDNE0ivbuzzAEzYDRbtRvrzDQbBCQNd5zGkvmO06+jUb3kBqQWeAolFsFMJqSABuS9Byd4SKQTI7AFNPuwKN7v/Z+AWr05I+dut3ubgV+6/M5sR7neF37sF5z9fnczIlMDWcPfdX969Tsqao2Cw4zw1V77eCWjGOvjjArgY5Q5/ICJOwhHwYh4BqVN4/fHpM328BS5H9MwY24yIa3B2KSLivZ7wUUREfIovltYiYuF98PKl6OCE5Pvh5ky/9o/l6lqhOF3sbXAx+axZHZkeq92pje7f3lkYdTvfNZGwna38U0sXi0/meb2ylbfa+Xyj8Hzp0XO7/gOIWNxkzXYSagAAAABJRU5ErkJggg=='/>"
      ],
      "text/plain": [
       "<IPython.core.display.HTML object>"
      ]
     },
     "metadata": {},
     "output_type": "display_data"
    },
    {
     "data": {
      "text/html": [
       "<img src='data:image/png;base64,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'/>"
      ],
      "text/plain": [
       "<IPython.core.display.HTML object>"
      ]
     },
     "metadata": {},
     "output_type": "display_data"
    },
    {
     "name": "stdout",
     "output_type": "stream",
     "text": [
      "1 (32, 24, 1)\n"
     ]
    },
    {
     "data": {
      "text/html": [
       "<img src='data:image/png;base64,iVBORw0KGgoAAAANSUhEUgAAABgAAAAgCAAAAAAtNefkAAABy0lEQVR4nL2Ry27TQBSGv7EnsZ2Mm4tb4qgqqJCKS7lKbEBiwQbRbaTu6BoWLHgnlhVvAO8AKmJTKQXakEgJUS5ODHbtYeGkTV6Af/X/8+nozDkH/o8ql1ZeOAN4cBn1Cvh5vkhCrYDgIu09zc2dKZabbd8Kg65tU4ymagXspLlaYK87E7OHsQy+h9MgGEbIRAgD4HZzE4A4jQV/wsiMlZLA7rOtURug7HkOeM5MZRPtXRl0AHhc9vL9ItjZqL4zamfA86uSgjVLNELCthWm8z8I4VKwJ4FmTbKxo0xV+g1AFNhudYISKHng+vmkcdICGHuu6ikXzRrGzQ6tTu05ACP3pT906yjf9+Vh12jUG9nyYt+LS8otOz5KfuFD9ZGb7XEYV/N3lFFHFoUEBp/66wBMk4RCgkIpkd3oLAHgaqVbqhUAxzEz0Nz8CvBkY1i7F4wwi0VLwlazsV8rv4NXB0H7umVV+4ayYPf18eCb1voabwb65P2Rnku+vdE4/Rjf58XD/Qp/j9XdxXF+taLTzz+0PppprfXZeFEhJqmeyShVxTwrMgyNqZNcLlp6TONeKNKEKDALoSIPhIYF0HOk0AA6BvIk43NDYQHwD8hfqf6KF/BTAAAAAElFTkSuQmCC'/>"
      ],
      "text/plain": [
       "<IPython.core.display.HTML object>"
      ]
     },
     "metadata": {},
     "output_type": "display_data"
    },
    {
     "data": {
      "text/html": [
       "<img src='data:image/png;base64,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'/>"
      ],
      "text/plain": [
       "<IPython.core.display.HTML object>"
      ]
     },
     "metadata": {},
     "output_type": "display_data"
    },
    {
     "name": "stdout",
     "output_type": "stream",
     "text": [
      "1 (32, 24, 1)\n"
     ]
    },
    {
     "data": {
      "text/html": [
       "<img src='data:image/png;base64,iVBORw0KGgoAAAANSUhEUgAAABgAAAAgCAAAAAAtNefkAAABfElEQVR4nM2Pz0obcRRGz/yYmNSMThKNCKWgJdBUbRUFUUFEV6IgPoagXfgWXXTdLqRPoBvBnUh146IgLTUKohFFYnRSTZpEJ/9mbhfZZEK677e58B3OvVxtp9o1FOaxYOerpu/xyXqyyiYUlPYhaKrAi2DBKuoRs2ao9LWNaHn0mfab81RPzK9UJqVCLzscrKxyn4N63L04ss3+ETd1dnDihHs1O3WrVV2/bp9vf1Ozi/Bqwk78dPqMUrZSo+Kq2N0h7iAAK299FF3XbxhGW0CF1geIRqmnhPE6FlJGJOJTME3mBwCX+3CV+O04D9d/8oik56fWT0VEVmmIgt7xUOIrQLYJkDvd2xdguBEgcv8eOBaRDb/X2PgFFIFc2Wt0AuyKyJL3xkUeoB1IesFHAHLAcyPQl7cByAAdHqPekwaM5j8AToBKK/AdGPWA5O4cQBwYaASIyOYCfBGRreZVY2+gE7CajPJKN7wTkUkPePhUn59ljdbx/aP/r/IX7nWV7fuCK0AAAAAASUVORK5CYII='/>"
      ],
      "text/plain": [
       "<IPython.core.display.HTML object>"
      ]
     },
     "metadata": {},
     "output_type": "display_data"
    },
    {
     "data": {
      "text/html": [
       "<img src='data:image/png;base64,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'/>"
      ],
      "text/plain": [
       "<IPython.core.display.HTML object>"
      ]
     },
     "metadata": {},
     "output_type": "display_data"
    },
    {
     "name": "stdout",
     "output_type": "stream",
     "text": [
      "2 (32, 24, 1)\n"
     ]
    },
    {
     "data": {
      "text/html": [
       "<img src='data:image/png;base64,iVBORw0KGgoAAAANSUhEUgAAABgAAAAgCAAAAAAtNefkAAAB2UlEQVR4nEXPTWtTQRTG8f9MJtxLk8xNixVpTRe+0JoW3IhQLLipuhMEQbf6MfwkLgTXgrhwY7vqRggt6EbSNBQ1NElrUhq907zcJvSOi9xMZjNwfnPOM0fs/QOCGKz2AJFvHZU+VEERACBylhiJxta3q4AEtEYG4AuRW7S2U9kFkAMhWhaBEErOqp6Meg0AFAMRtEdLenB8bqCgZ7skAPgRWVPZO8ZbXy4OHVh9ev73srT7DvhU3CiMf6OuGwMF6l8+ArC//3IBAGkMaChvkZzOuEOidQBhuTuBk5kEDATa1Cd1wiRca8pRYMoO/vSDEFAFw5ZPvelg2JkLkz3W5mm4Oukk3MD6ncK0ztI4RQKQ1VPQmilA1sFC4KB21rVzDm7qCEAO4/gsbK+9dlBLFqm0D3/XLqz9/iYB8SoDIPuhyKjTblTaTsDP5wFU5jKlh/XLH5+/JTBaXG0C0vPw/IuDr5MG0lc30oCKUSAOd1z4zPyyfXuC8vFIe60DB7nU6rXi+01l7QBMKnRwbyWTuZIvEoahtY3n04amtdZaq1AWjmoONnPjW0o/gq6b9OhFAkpFktGvnwCkHt64/yR5oSIL/WoMsPL4bnArPwGA0AA8ePrsds9OZv4H9lutneExJi8AAAAASUVORK5CYII='/>"
      ],
      "text/plain": [
       "<IPython.core.display.HTML object>"
      ]
     },
     "metadata": {},
     "output_type": "display_data"
    },
    {
     "data": {
      "text/html": [
       "<img src='data:image/png;base64,iVBORw0KGgoAAAANSUhEUgAAACAAAAAgCAIAAAD8GO2jAAAE9klEQVR4nG1WwZYjuQ0DQErunvPmw3PNYf9yMnZJJHKQ7e6ZDQ/1nlRVhEiChPj3f/7tJo7RduNlJIH30iRNfDOScrO79t7XdVV1d5e9qw1nZsTI86FtgMcL/rTvewdPAF6b7u619lp1XVd3tbl2g+jZmciXDwHw7y5tA/qKgw0QAOnXmdx2lfeux2Nd16oqANfeho0PQHn+eXoDz8oN6sDx/SToJ97xDlhwuXd3Ve29dlUZsXYbHVkZlYDO0UnYgHkCcLdhSSQa7W5aGwYspxQkSJ2a7XU9fv1au6sMkggwSI0YKcB8neibfW1SbOyq2msZANLMhEIROHXfe6+1qrCrFVJkBCMi50h+S/0354Jto21277337p8/72UDHO5IZWpkhEwygpL23t1tFBVkCBS+ikzbkmy/o5EEoLvXWte1fv78ubtJRT8iYt7yY+bHbTIo6XjYVW5EjpNokV8Ap9Bv7y+eoKrWWvf7436/VxtkdJJsD+FjzhSfAA1XbQNV1R0AYSZJvjj0RuKz4rBdVdd13e/3qmqA0N7bNtkjwv0R0FBQsr32BlFVe++uxjtFX+m3vzCA7u7uEwQAKWyfk45Wu+0GokWR3V1dANfaEtvmHwDkiQdV1Xh2U1V1N+DIzDG7+qpdQHW1ve2EgwJJSQopI0Sya+29098Yeop8AExIOhGcQRIZc85atdWS6nDrvBYoilJoZN5uU0Rd67quP1N0LCIgviG7e3cHaXTz1fJKKSS+CdLPhiUId230Wr8DvIPJTPNradvdltrPpiFFUhFSvOlnmyAJCYar1lqP/x/Bdzq97UB92z2nf706MLCBCJlY116Ph96+/kmnN5LEjODTBQicY1Ki9JzEJwJS4hiZoe7q3vru623VjT7eLFJUhGDDlkEUYBIUGKeP9IS2ToYzB+XVK4HXoDdpnnnd3ZZhZPB2y6pJ8r+/fgltUOLplrarO/2kg0iKMOCO0OfnZ0pp91MOX11mO6lGUYyYc+RtjOuzAD4eD7fnzNoNAt51XZsD4Mjb52133dH1uN8/P+dff/3r4zYTMA0CtE6VjuwQQNtus2pfe+1aq/bpCXQ3BHeDTQZZIkWKABXJMVIiyHzr+FMMn8kSwO5uuHY91vq1rlW7utwA2W4ZdtOSEBFj5Jxj17Z9G3POGamRI4+mEDTtg2KQbLBhVq1dj2s/fq0q77aBMGCAIoJQUEh8fNzORAHw4/PzNqeSc8wEYLAJ+vyHPpypArja117Xdd2vddrIJiLoEqEQCIgjEnAQM0ny4/Mj54hQ5vi9kwkAgklDdMONKuyqvZeZYIQoCXCGMuLclSIiqakYETlSESYUERFJBGjb4FFPN9DI53ihu2uvqupIRAReSqeIGIqUQhEkEUwRiqRU7rObkky+LnSnT1G1jkxV1f3xWHufXoyIw3fJt5kj88ePH2Om2yQpztt8FVEG4JceGBD8ZOgzVd1dKMPUSQZ41DHEDIyMHEnC7e8ZPoRs2ICsBEA30QAIg2ZDRJ9x6iYYDI4gqFDMTCkDc445x9ek+xpoRBMGAcNnVIAGfS5fTeDQxQWXYUZknvk5c8ycGSlG5hj5BYAXgEWYr2W+JuFzhH6jFLq6yjCGImMwFbccIzJCNOMpNyc5PHc+AlT5FcU/Rf8ZJGn30TICkiI1b7ecOWYq8L5lymieS6oAADqZ8aur/gdmksrtR2RBigAAAABJRU5ErkJggg=='/>"
      ],
      "text/plain": [
       "<IPython.core.display.HTML object>"
      ]
     },
     "metadata": {},
     "output_type": "display_data"
    },
    {
     "name": "stdout",
     "output_type": "stream",
     "text": [
      "2 (32, 24, 1)\n"
     ]
    },
    {
     "data": {
      "text/html": [
       "<img src='data:image/png;base64,iVBORw0KGgoAAAANSUhEUgAAABgAAAAgCAAAAAAtNefkAAABVUlEQVR4nG3ROUsDURDA8X8OwZWYTfAkuFoIpglELAURLC1sBWvxqP0CktKvIBZ2IlYiiJWNipAmIQSTQkFijAlm1Q0e5HAsNsfuuq95vPm9mXk768Ft+bQRj1t8alULucW9iZyI1wUmY1HXBmyIuGfMA/gt52H5TNaAO/s9T67xWrvdVmFNRKQHOyIi8rAOCzZYLomIiJzAqK15bNzch+AdoAsT0AAIQ90KXhWOi0B8DCoWUDXoawHVMgStpYIQ8gE5oN8CHwYEWoDeqd3ef58g6ANKDqAKAT/w4oREgqaYz3Wu3aIYIofAjX3sSxEGIdJ+QA+m58wPAi6shcL75hCvAPYs0938MuEAgJXF7h+MKwCU0wCcdhPUvIjIT/1yth3oZGzNgF54ez5KOUD5VtALj9lrHNCshJqZs/us7gQlYxjnvZZdiA7kU+kM/0FrFZJ5a5w/P4WK57mPRrIAAAAASUVORK5CYII='/>"
      ],
      "text/plain": [
       "<IPython.core.display.HTML object>"
      ]
     },
     "metadata": {},
     "output_type": "display_data"
    },
    {
     "data": {
      "text/html": [
       "<img src='data:image/png;base64,iVBORw0KGgoAAAANSUhEUgAAACAAAAAgCAIAAAD8GO2jAAAE9klEQVR4nG1WwZYjuQ0DQErunvPmw3PNYf9yMnZJJHKQ7e6ZDQ/1nlRVhEiChPj3f/7tJo7RduNlJIH30iRNfDOScrO79t7XdVV1d5e9qw1nZsTI86FtgMcL/rTvewdPAF6b7u619lp1XVd3tbl2g+jZmciXDwHw7y5tA/qKgw0QAOnXmdx2lfeux2Nd16oqANfeho0PQHn+eXoDz8oN6sDx/SToJ97xDlhwuXd3Ve29dlUZsXYbHVkZlYDO0UnYgHkCcLdhSSQa7W5aGwYspxQkSJ2a7XU9fv1au6sMkggwSI0YKcB8neibfW1SbOyq2msZANLMhEIROHXfe6+1qrCrFVJkBCMi50h+S/0354Jto21277337p8/72UDHO5IZWpkhEwygpL23t1tFBVkCBS+ikzbkmy/o5EEoLvXWte1fv78ubtJRT8iYt7yY+bHbTIo6XjYVW5EjpNokV8Ap9Bv7y+eoKrWWvf7436/VxtkdJJsD+FjzhSfAA1XbQNV1R0AYSZJvjj0RuKz4rBdVdd13e/3qmqA0N7bNtkjwv0R0FBQsr32BlFVe++uxjtFX+m3vzCA7u7uEwQAKWyfk45Wu+0GokWR3V1dANfaEtvmHwDkiQdV1Xh2U1V1N+DIzDG7+qpdQHW1ve2EgwJJSQopI0Sya+29098Yeop8AExIOhGcQRIZc85atdWS6nDrvBYoilJoZN5uU0Rd67quP1N0LCIgviG7e3cHaXTz1fJKKSS+CdLPhiUId230Wr8DvIPJTPNradvdltrPpiFFUhFSvOlnmyAJCYar1lqP/x/Bdzq97UB92z2nf706MLCBCJlY116Ph96+/kmnN5LEjODTBQicY1Ki9JzEJwJS4hiZoe7q3vru623VjT7eLFJUhGDDlkEUYBIUGKeP9IS2ToYzB+XVK4HXoDdpnnnd3ZZhZPB2y6pJ8r+/fgltUOLplrarO/2kg0iKMOCO0OfnZ0pp91MOX11mO6lGUYyYc+RtjOuzAD4eD7fnzNoNAt51XZsD4Mjb52133dH1uN8/P+dff/3r4zYTMA0CtE6VjuwQQNtus2pfe+1aq/bpCXQ3BHeDTQZZIkWKABXJMVIiyHzr+FMMn8kSwO5uuHY91vq1rlW7utwA2W4ZdtOSEBFj5Jxj17Z9G3POGamRI4+mEDTtg2KQbLBhVq1dj2s/fq0q77aBMGCAIoJQUEh8fNzORAHw4/PzNqeSc8wEYLAJ+vyHPpypArja117Xdd2vddrIJiLoEqEQCIgjEnAQM0ny4/Mj54hQ5vi9kwkAgklDdMONKuyqvZeZYIQoCXCGMuLclSIiqakYETlSESYUERFJBGjb4FFPN9DI53ihu2uvqupIRAReSqeIGIqUQhEkEUwRiqRU7rObkky+LnSnT1G1jkxV1f3xWHufXoyIw3fJt5kj88ePH2Om2yQpztt8FVEG4JceGBD8ZOgzVd1dKMPUSQZ41DHEDIyMHEnC7e8ZPoRs2ICsBEA30QAIg2ZDRJ9x6iYYDI4gqFDMTCkDc445x9ek+xpoRBMGAcNnVIAGfS5fTeDQxQWXYUZknvk5c8ycGSlG5hj5BYAXgEWYr2W+JuFzhH6jFLq6yjCGImMwFbccIzJCNOMpNyc5PHc+AlT5FcU/Rf8ZJGn30TICkiI1b7ecOWYq8L5lymieS6oAADqZ8aur/gdmksrtR2RBigAAAABJRU5ErkJggg=='/>"
      ],
      "text/plain": [
       "<IPython.core.display.HTML object>"
      ]
     },
     "metadata": {},
     "output_type": "display_data"
    },
    {
     "name": "stdout",
     "output_type": "stream",
     "text": [
      "3 (32, 24, 1)\n"
     ]
    },
    {
     "data": {
      "text/html": [
       "<img src='data:image/png;base64,iVBORw0KGgoAAAANSUhEUgAAABgAAAAgCAAAAAAtNefkAAABV0lEQVR4nHWPwSvDYRjHP5uFbUJaURO5KCUKOSztwIEDcXR28weg/BVKLhwc5OQkLFJTSmmtKTtoaVlmoTZrRXLxdXh/++1deC7v9/v9vM/zPi/8Ux5LR3tLieLvK33rGRU2R36DDUnSlusnnHNakqTPGcd711oBaJkzvnmwCmanABged4JydZTMHhdyKlLtMAv3udu8uaAE0B50fOXZBT6A97zjHyouCAFkzxx/jwsCDcD3+aXxjzVQDAPEjo1vcn+urzEjTiRJh7WOxh6jdgEI1zpkEjwHklS0wMeQUfOSVO50RxHoMLL4DaReawAHlF6AJBb4NLLND6SsN9LdRq1Kug5ZHYknABYWgVN7q2Xzgbikr1EsEAWY3JakJDboAvr3JEl7NihEgKWMpJ1+K/eRqwC5tDcR26cO3GWBuH/gKENdacWcQU997svfGvFRn+O9uuHP+gF5tI8vXvJjYwAAAABJRU5ErkJggg=='/>"
      ],
      "text/plain": [
       "<IPython.core.display.HTML object>"
      ]
     },
     "metadata": {},
     "output_type": "display_data"
    },
    {
     "data": {
      "text/html": [
       "<img src='data:image/png;base64,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'/>"
      ],
      "text/plain": [
       "<IPython.core.display.HTML object>"
      ]
     },
     "metadata": {},
     "output_type": "display_data"
    },
    {
     "name": "stdout",
     "output_type": "stream",
     "text": [
      "3 (32, 24, 1)\n"
     ]
    },
    {
     "data": {
      "text/html": [
       "<img src='data:image/png;base64,iVBORw0KGgoAAAANSUhEUgAAABgAAAAgCAAAAAAtNefkAAACH0lEQVR4nE3QTU8TQQCH8WdmZ3fpO6+lTVsIpQoJQRA00cjBm5J4MTHGix/Kr+HVgxeMaOSCxkQMNUIIJIgNrQWxlN3u23jYCs7x+eU/mYz4kkomonareZLZ2j3OzN2ar7pHgk6kfhSHzj3fbx18Wvfg1b2nD0dNH9NVdVmxLbzG5hoAG/nbWa0iw5Avd9qRDk73PxCf19vdQJuRVh9ThZp9frTp9sHdmJvsarRifcHL9fbq/DvN0O5qM1LwuRR19i87hbQnhe9I6NVmjbdXMKy1ZRaLEqy0bjtXYAnh4UcKbMV/nVLCD2SkJZy5mP/12UEsARKOLiz7CuZvjkfE0Gg52ZlLqA4RKPxAAr87unYJNgR+vOCXHl1+JvvQcFEGoIA/dnFkZfxFDLv1KhAv3u2Qq6z0F9v10yQgJbCz5fROph70P/FnlB1ARApAY4/ZhRjSpXQPw1AS4LAlQpWJYWbIAjxPAYTOWXjcjqFsh5bbfxVF0ZCNNzFM07UUXUcBo0XZPthuAnBjNnKxPCEUUBnofFv/Hg8eLSctQ/evmhJ7a3txn3q81HVxAztQwJhX73cWFknhIy8QQGnyayfu95/czY1454IQBWTyxQ7A4PM7483DcKKsfSUkMFldTACZ1eVCOnROHBVphYLyRCXvvD/jWiWbMpNaDYAFCiq5HEtm93C6PJw0omGdkQlBqCBvGYlczVrNXy8YHpaVzQL+Xz6Lz9mGFVnhAAAAAElFTkSuQmCC'/>"
      ],
      "text/plain": [
       "<IPython.core.display.HTML object>"
      ]
     },
     "metadata": {},
     "output_type": "display_data"
    },
    {
     "data": {
      "text/html": [
       "<img src='data:image/png;base64,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'/>"
      ],
      "text/plain": [
       "<IPython.core.display.HTML object>"
      ]
     },
     "metadata": {},
     "output_type": "display_data"
    },
    {
     "name": "stdout",
     "output_type": "stream",
     "text": [
      "4 (32, 24, 1)\n"
     ]
    },
    {
     "data": {
      "text/html": [
       "<img src='data:image/png;base64,iVBORw0KGgoAAAANSUhEUgAAABgAAAAgCAAAAAAtNefkAAAB30lEQVR4nGWRTWsTURSGnxnulEzGNDRp89FEhNSWCtaKla50rYLgX3Cl6yzFX+AP8C+oC10IWhc1WjEIbapIi1HbNCVNTETbfMOYZOJ1MTP5wLs778O559znKpLR0zaVjnXy4fVzlDHQVyjXtJM7WRCjeaWSr8+s9FNZAClltyGllFL2X91LcFc2Q2B3mPQ0gB+5dJ7Mlmg4oIdHA2Bv8z18+jjZBVCxTCYAaH5NAWxXpA2qNcUe3f1ZAfiFF0Bt5co9G9RLNp+NAYh3O8K6ZABUqwDIwBSAeLIVlZ5oTIHdLACKboOnnX3df7YzRytzAICuAiA6UNqXli/Uajmj2spAxYO2lMUzTrGa30ku+M8LgKgBzwoOOOwuJefXagLAgNKm2/77c7+QfmHbNb8cbTweXPzmz9EjR/vx+vraUH42cuDY5fteauRXqorqgm9vR3KEPwioANujOfGo6YLWGFhYmtIdMH5OzV+//X8KPJSyeF8MvSAiShHA9NDLbAgA3ThmMeA1LBdoiz0BEL+KdqNcM+ovgUh+BQLnBIB18cLpRPNQFK6k4bLanYCQAPBOz8WZXJbBW7uN8M2whvvyaCwOoIRXk7nla7MMwMy0s1hC/xuPMQRBn130/X6fu/w/xnCsWfLehDIAAAAASUVORK5CYII='/>"
      ],
      "text/plain": [
       "<IPython.core.display.HTML object>"
      ]
     },
     "metadata": {},
     "output_type": "display_data"
    },
    {
     "data": {
      "text/html": [
       "<img src='data:image/png;base64,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'/>"
      ],
      "text/plain": [
       "<IPython.core.display.HTML object>"
      ]
     },
     "metadata": {},
     "output_type": "display_data"
    },
    {
     "name": "stdout",
     "output_type": "stream",
     "text": [
      "4 (32, 24, 1)\n"
     ]
    },
    {
     "data": {
      "text/html": [
       "<img src='data:image/png;base64,iVBORw0KGgoAAAANSUhEUgAAABgAAAAgCAAAAAAtNefkAAABnklEQVR4nG2RS0tbURSFPw/HS1S4VWvRgFq0qRZNA0WqKE5TOyqdqCl04MDO+wtUEKctKP4BaUsnTiriuCjiA0wnuSqKDyjGt6F5WNPqdnBzTa7cPTmb9Z11NmftIjyrOOKtPx3Z8NRHY0m5r5UDiEhcuXV/yD7//dQuvexdwDqFPfP7pNvRFxl4BTq2tf3b5agNv6TzG/+b6hPXLkN4X2TaHn7leqq1Hh7areECzwBfrlc8r3L0igbAABKwr150BB3woDr3w4nlqX5SIu9tfWhVRCTlXBORTwAMnIqIiBOSAtYAyK5v2akAFD1S9ixQzenoHEA3oIfHVM5lDL5uvLL+AEGgLdyvgTp48vZNO5vWgQkBwOc3NRCi9EOvH0wASoBkBg100NbdCKQzGkgBl+dooKWhuY6/vpPdoyRwAqzP1mig2CjTHF5sLsWzQBbg86UGuDk7NjdivxauE0AcIDuuAUttzwR+rOxAtAe+5iOZhsrHAETykSAiX+4WUr0nBwVgPr+qwejHArCYB3Q5jQKWCsBiIVjAoxSw6wVuAUc1kCMjvy+yAAAAAElFTkSuQmCC'/>"
      ],
      "text/plain": [
       "<IPython.core.display.HTML object>"
      ]
     },
     "metadata": {},
     "output_type": "display_data"
    },
    {
     "data": {
      "text/html": [
       "<img src='data:image/png;base64,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'/>"
      ],
      "text/plain": [
       "<IPython.core.display.HTML object>"
      ]
     },
     "metadata": {},
     "output_type": "display_data"
    },
    {
     "name": "stdout",
     "output_type": "stream",
     "text": [
      "5 (32, 24, 1)\n"
     ]
    },
    {
     "data": {
      "text/html": [
       "<img src='data:image/png;base64,iVBORw0KGgoAAAANSUhEUgAAABgAAAAgCAAAAAAtNefkAAACVElEQVR4nE2Oz0/TYByHP337tm+7rd1Yu4VuQxkgvw6CB8NJTTAkXk30D/Don+bFO0FijCF6MEEgAhFRpjLI1m3Qduve/vSAwL7H50k+30d4G0JKUyYzwGuMT+u9o902rU1E1EsIh4iAC+nZJyuYigUtkFkoUp4SSIqW8n506Ui2ngRKlSmxTAMJmmGZ3HYddTFDPbcX6wU2UGkKUdb06KJ72pHn0WyduHridg85ZbJAhb59tHPcCiqR70T5qbS53gNVsylp/fi9uQFgGwDuzV++6wE0J2vD06+be7i+3tjFAABRdFNo7t9yVK1kDADNGXCd7g0eW7uvJ1ZxD/TEKwbaUrP5X7xY1XcOetN3KfVYMSSlmSYAPMqfKEidgU/VMuUBQxhIAICPOa/RmgvzgmQPKXgcuo56NeTBffPgyYosfwMFBzMk8bZqO79qDIsOzRJYshvfCmwtq53Eo5PIpErn/YgI//i7/SHVgpbPjMqIQClz6bsULkfMi6YNwOgAAEwlFSIyjOuV9rr4agl4/loDAETMUBXCTKaWK9mUA11/AQDwl8yW+1RSUsmK7eND4EN/CAD4vljzXCpFgUb1XzsA8OXqud0rJKA8DQMa2j9HqkijvQUKRnQk7mgu85IzEKiFsiZKuRFh3BkvgbAEgigV5kbE9PLyUxDqthwopYfmDa/PVpi5QvigZSel+uKza770ctJvJI+pzOzx6gRIPndurH3eqkmWFZ0fLNSpQEzRBasUqn6+VpgqKNl8lMzOVIV9HsuCygAS9D2IOstmztuc6/8AVHD77ttkS5EAAAAASUVORK5CYII='/>"
      ],
      "text/plain": [
       "<IPython.core.display.HTML object>"
      ]
     },
     "metadata": {},
     "output_type": "display_data"
    },
    {
     "data": {
      "text/html": [
       "<img src='data:image/png;base64,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'/>"
      ],
      "text/plain": [
       "<IPython.core.display.HTML object>"
      ]
     },
     "metadata": {},
     "output_type": "display_data"
    },
    {
     "name": "stdout",
     "output_type": "stream",
     "text": [
      "5 (32, 24, 1)\n"
     ]
    },
    {
     "data": {
      "text/html": [
       "<img src='data:image/png;base64,iVBORw0KGgoAAAANSUhEUgAAABgAAAAgCAAAAAAtNefkAAABKklEQVR4nMWSPSxDURTHfx55TfMsBoNKUxMLUiItg4+IkLBKB4vZYjMZzCIREYnVKrGZRNpJgoVNKpqGxECaNHTwfET+hr5764ZR4iz3nPM75/7Pubnwj9b0e3p8yIL4QGcyE17dnD0AK2uByQ8eSZJ0MAewKnlRfW667pTKAMeHpiG5L0nn+e0o9nsN2ZR0EvearXxLdD4BYfhtrkiDN2CylY4fHWXAe7x7qa7n3Y1GZGzeBcMW3LoafbYklXZACeDyA6AxMgA7qmXISVK/C+j2AEkac64CLwAKQNrZg67l2l6ReyAFELNgYYnsYqUHEEC7Ad4oTMzWssAFQNqAmA/sAnAN+AkjHhadEd8r1p2yb5IA8BtFG5/1/FY9bHyfYKbt9JXnqvhr+wIvqXO2p07QPwAAAABJRU5ErkJggg=='/>"
      ],
      "text/plain": [
       "<IPython.core.display.HTML object>"
      ]
     },
     "metadata": {},
     "output_type": "display_data"
    },
    {
     "data": {
      "text/html": [
       "<img src='data:image/png;base64,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'/>"
      ],
      "text/plain": [
       "<IPython.core.display.HTML object>"
      ]
     },
     "metadata": {},
     "output_type": "display_data"
    },
    {
     "name": "stdout",
     "output_type": "stream",
     "text": [
      "6 (32, 24, 1)\n"
     ]
    },
    {
     "data": {
      "text/html": [
       "<img src='data:image/png;base64,iVBORw0KGgoAAAANSUhEUgAAABgAAAAgCAAAAAAtNefkAAACEElEQVR4nF2R3UuTURjAf+95z/BjiXPiXJOsaJARTM0uhAjyQsguuoyMuuwmim6D+gei2+o6yMrqJiIKIUGzwspSwqiYpDOm+6iX6WRvm9ueLs78mM/NOc/vd3iec55j3WsiVCqn/rluvd/5KbW1rWv2wXxRdCCAR2f3q/mvn2YLCw3tTmQf9XiVlQxANhltnBn7/AsTga5wcFUXIbOS1l9ejLARqfGGUlbjrkdJL41tccgvptc1TiFTjv2YYnu4dUVdVk48vnq3ivsjdkZ77XXXmdhA3uPdHXk9eqJlUef+5ErldIXfCPe1A+nDLUUkNvq0Z7PI5ZRITmIi3xUeT668KW4HdvfeHPFBhwInNb2tceLDrZk1QOFE56quRO7ZDKDxs1AtmBy29hzSkI3tEDy0upc0bjKxU5TeW381/kCmkncePRt99wBgbm+npsFf4ZHzXnW613cHwFOjsSvcd+VUpqat7eL4LBBPKEraiIHBUFsJgkEA29bYTZYA1NdBbbI4/BpAdSpobjbvUjS2e9++BCDsU9B8AIA8wC73IwChiIKuAdMc4M3zNQCOLCvwtFoAr7b9bk0wpIDWboDlq5MF5lcAqNM2IpK4bs6Frw2dNLtzU0VERCb6KyWCZul/nBJERAr3q2Z4KStlI2RpKLzFLyyKyIoR8u3RoDK454khZhxAem56PPvb6jtzzOT/AXCA2rmmH5AMAAAAAElFTkSuQmCC'/>"
      ],
      "text/plain": [
       "<IPython.core.display.HTML object>"
      ]
     },
     "metadata": {},
     "output_type": "display_data"
    },
    {
     "data": {
      "text/html": [
       "<img src='data:image/png;base64,iVBORw0KGgoAAAANSUhEUgAAACAAAAAgCAIAAAD8GO2jAAAFiklEQVR4nF1WwY7sSI4jKYUz6/XsYuYH97D7/7fBq8qMEDkHV3U3NmDAhzAsiaQo8X/+9/8cAgksgASAIgEHnIghAwagSSaxD5AwYSIiBCQ1I2CA++sgOk5DhGkAUGiSAAwKYCIBQGzPeJJJkNggKDhiFUUABIOAIKAwlAFBbQKiwCASS0QAAIlje4N0Yo9nzuvEGJ9ACKCSqlZLcm1JUJCsKlD7tQk17r8xRAIMIAAxkmRMjO0zs8/s4z0ZjAM4pAQLDli6UlhIgkBJ9pxzzkYDCIEbZAQJAnsAOJhozjnnnPeZ98lMhmMDACkZGrlpVD8Sx1AwiAd7z9fv/V0BAIBAkiRICNiWzTN675xtHzMkKBL3S6ACHgCmCBEEEPOMz5nP319/QgQAAQkkhjNJov3Ce+P1JR8xXUgVugqMCiqqaCYEZNWtDPrO1Nj73AFMirlxSv5k4OTr937veb03fFrQEou/fj2oUVMlFIMxM8dskopBwyThwK3YBBKCd9zAwJ3E7Nfn2XPOGzEXG8Xi+vgosZqqChHKyFe+WibpIKQ44BFOr2KgZCZmyUaCiGe/f/9+eb/Pe89+sZLVYR3r8/X78WjxMm3ENpi1qqtiKpikdFrzx3O1EMAHJlAMYMCJhwNMsumtbDqy4z5Tvz9/v6Z6f0FFsbu6tCqkxYLIxPKqVLkBgCGoW6NAEic5OTPnnDnbZ0rKTiqOv5ycHUHVq9fH46EHISIRZaHQvbp7qqtJmiHJHxZs287Ex6/3mWMcVJFTGRIwc44PHM6jU6wlWrIAgmBJrsU+3wFIIAAB4vai2PaZM7MnAwCQ0FXdbABWoOCM97w/QZ936RdA0aWSkoSUip0kAEkk+W4KxIl92yUIVtdjXc/H+ijVjaF3Zu8zM+/3+0yevxbA1kBg1XfHAo26HRMgkTCgQ4cmg1UMgGY/1R91fSyJBSCe5LPfn6/3++wk55zDCuwQlIFBQvx08s8hKXJmvr5e7/dbFIR61OO5Hs91XauKz257zgwa5uzPvd/vr89XoUWySahqXVc+//31l9nxbzQkQQYML5X0WPVx9ce1ahVoc3BBUe9a6WtEd8AJTZg0kdhJ8FPB7WF2BA5wO1MQlVav5/P64/nrsS41BxOaJZBNrjlXLy1kECMWLOjm0U46BAMCAoGb1FtLP+UUV61HrWevYYBsxECEiGI1K5gZwALuh9+gM3+3a/D7QGJXNXWMWIbMNgtMEgIYjz3bZ8eTCQ0GAsSqEICAxP6L5JnJdxiRklTqDBQmGnBIikITHA/3eGfGx5xbHJIk3mgYDGOI0Y23QyNGSEqsUlULhVTAwJFVrGYVS8UAJzn4kR5JU6NKN8kCxNR9QUldLRVIVlc/rsdHXz1jkiWRCQY85GC893ufnaDUVQ2wV/dSVZL3Oe85W9aljxsigbASkyzTESlRKzpmxu85zqmoVEXl77QJLEooAdShbufBDM8b/f8YvvtbFGvVikpO3vtVr4MqYE1V2LePOOMMiJKKIhqoO+MZv99zvqYRgQbuBS0gxFXF7vRyXwDOPpMvDNpJraukvefs8Zn4KKnmqqt7CUXwXqPO8Yz7Zyn71idiEJK6e11+PNaZPd77GK8Y6s1u2jgHMwYsobqf69m9ivzpJcOYmcY9jwGVMiELDFlJrtV//OPjvfF++fgg2DsexwCZ3ALRdakf18f1ADsYZxCIpFD1l1Uw+V6NyAIiqbo+fj30SphseMIoZnyXS4Iqrauf1/V49IzO3LIF6OA8ntWkEt+z8jahO1JVS9yZ9bzQXHvZmUOgCJJc1avr8eB6qlcLpMAuhWNfj/7nv/5r91cDd1P8OW94b6e3A/a6FFWXr8vjOUwqBsBqXiuPC73S3e+zQ5FQAFBdAB///fwPP2GAWnzPplcAAAAASUVORK5CYII='/>"
      ],
      "text/plain": [
       "<IPython.core.display.HTML object>"
      ]
     },
     "metadata": {},
     "output_type": "display_data"
    },
    {
     "name": "stdout",
     "output_type": "stream",
     "text": [
      "6 (32, 24, 1)\n"
     ]
    },
    {
     "data": {
      "text/html": [
       "<img src='data:image/png;base64,iVBORw0KGgoAAAANSUhEUgAAABgAAAAgCAAAAAAtNefkAAABjElEQVR4nJWSTyjDcRjGn802mvyb/JmQIaNFDv4luSlqSm5M2kEpZy7kzEGJgzgK5SInhYtcUEPzN6FhJaffajbbNPU4fH+/735ykOf09n6+z9P7fXuB/8qgq3vLXYas4P12GABMsp3Z73Y5+fFQWXC1q7daJq4p5N/I0DsGPC4AQOQlajamgGloLh9InkQv/f6veCwVtEWSPM35NZxI3/zVXxbgTucwQje0c3PQ8sOQcUsp37QONFEvbwp4fgCuy3SH4P4LW3F1HuAZ0hwLJMmrDnt2WesayS61XyMSegAAaatksEmANpLkvPqs4Y2vblE2k+SxHGWJHBMfVADgQIKnTxQJEEgAMGv9rMZ0GNSVPAKQa2qpBZ5V4JNLA9CaC4TVukIhx9Xa1LfBI+3h8wNQrzmUeCIqE7aB4VHRL7ZH7l6h3ZUjAGByBkB+t8sW2juUB/dYBcRnd86s7nZLcP9cOmAdmSrEzfXqe11JZCUm1w7EFhPeRmtpWSgZ94nj0d2uo/PrU7lU8Ie+AdCmwbWlhIHrAAAAAElFTkSuQmCC'/>"
      ],
      "text/plain": [
       "<IPython.core.display.HTML object>"
      ]
     },
     "metadata": {},
     "output_type": "display_data"
    },
    {
     "data": {
      "text/html": [
       "<img src='data:image/png;base64,iVBORw0KGgoAAAANSUhEUgAAACAAAAAgCAIAAAD8GO2jAAAFiklEQVR4nF1WwY7sSI4jKYUz6/XsYuYH97D7/7fBq8qMEDkHV3U3NmDAhzAsiaQo8X/+9/8cAgksgASAIgEHnIghAwagSSaxD5AwYSIiBCQ1I2CA++sgOk5DhGkAUGiSAAwKYCIBQGzPeJJJkNggKDhiFUUABIOAIKAwlAFBbQKiwCASS0QAAIlje4N0Yo9nzuvEGJ9ACKCSqlZLcm1JUJCsKlD7tQk17r8xRAIMIAAxkmRMjO0zs8/s4z0ZjAM4pAQLDli6UlhIgkBJ9pxzzkYDCIEbZAQJAnsAOJhozjnnnPeZ98lMhmMDACkZGrlpVD8Sx1AwiAd7z9fv/V0BAIBAkiRICNiWzTN675xtHzMkKBL3S6ACHgCmCBEEEPOMz5nP319/QgQAAQkkhjNJov3Ce+P1JR8xXUgVugqMCiqqaCYEZNWtDPrO1Nj73AFMirlxSv5k4OTr937veb03fFrQEou/fj2oUVMlFIMxM8dskopBwyThwK3YBBKCd9zAwJ3E7Nfn2XPOGzEXG8Xi+vgosZqqChHKyFe+WibpIKQ44BFOr2KgZCZmyUaCiGe/f/9+eb/Pe89+sZLVYR3r8/X78WjxMm3ENpi1qqtiKpikdFrzx3O1EMAHJlAMYMCJhwNMsumtbDqy4z5Tvz9/v6Z6f0FFsbu6tCqkxYLIxPKqVLkBgCGoW6NAEic5OTPnnDnbZ0rKTiqOv5ycHUHVq9fH46EHISIRZaHQvbp7qqtJmiHJHxZs287Ex6/3mWMcVJFTGRIwc44PHM6jU6wlWrIAgmBJrsU+3wFIIAAB4vai2PaZM7MnAwCQ0FXdbABWoOCM97w/QZ936RdA0aWSkoSUip0kAEkk+W4KxIl92yUIVtdjXc/H+ijVjaF3Zu8zM+/3+0yevxbA1kBg1XfHAo26HRMgkTCgQ4cmg1UMgGY/1R91fSyJBSCe5LPfn6/3++wk55zDCuwQlIFBQvx08s8hKXJmvr5e7/dbFIR61OO5Hs91XauKz257zgwa5uzPvd/vr89XoUWySahqXVc+//31l9nxbzQkQQYML5X0WPVx9ce1ahVoc3BBUe9a6WtEd8AJTZg0kdhJ8FPB7WF2BA5wO1MQlVav5/P64/nrsS41BxOaJZBNrjlXLy1kECMWLOjm0U46BAMCAoGb1FtLP+UUV61HrWevYYBsxECEiGI1K5gZwALuh9+gM3+3a/D7QGJXNXWMWIbMNgtMEgIYjz3bZ8eTCQ0GAsSqEICAxP6L5JnJdxiRklTqDBQmGnBIikITHA/3eGfGx5xbHJIk3mgYDGOI0Y23QyNGSEqsUlULhVTAwJFVrGYVS8UAJzn4kR5JU6NKN8kCxNR9QUldLRVIVlc/rsdHXz1jkiWRCQY85GC893ufnaDUVQ2wV/dSVZL3Oe85W9aljxsigbASkyzTESlRKzpmxu85zqmoVEXl77QJLEooAdShbufBDM8b/f8YvvtbFGvVikpO3vtVr4MqYE1V2LePOOMMiJKKIhqoO+MZv99zvqYRgQbuBS0gxFXF7vRyXwDOPpMvDNpJraukvefs8Zn4KKnmqqt7CUXwXqPO8Yz7Zyn71idiEJK6e11+PNaZPd77GK8Y6s1u2jgHMwYsobqf69m9ivzpJcOYmcY9jwGVMiELDFlJrtV//OPjvfF++fgg2DsexwCZ3ALRdakf18f1ADsYZxCIpFD1l1Uw+V6NyAIiqbo+fj30SphseMIoZnyXS4Iqrauf1/V49IzO3LIF6OA8ntWkEt+z8jahO1JVS9yZ9bzQXHvZmUOgCJJc1avr8eB6qlcLpMAuhWNfj/7nv/5r91cDd1P8OW94b6e3A/a6FFWXr8vjOUwqBsBqXiuPC73S3e+zQ5FQAFBdAB///fwPP2GAWnzPplcAAAAASUVORK5CYII='/>"
      ],
      "text/plain": [
       "<IPython.core.display.HTML object>"
      ]
     },
     "metadata": {},
     "output_type": "display_data"
    },
    {
     "name": "stdout",
     "output_type": "stream",
     "text": [
      "7 (32, 24, 1)\n"
     ]
    },
    {
     "data": {
      "text/html": [
       "<img src='data:image/png;base64,iVBORw0KGgoAAAANSUhEUgAAABgAAAAgCAAAAAAtNefkAAABjklEQVR4nG2Sv0tbURiGH8OtEGNvqibRaMWqFXWoiiC4lQ6CQxFd2qFrh07+BW5dhO6CIA5OpUVwEQQFqaioqKhDRKONxKAmVcNN1KSa9nM4Nz88+i4vPA/fOeeDU8SDVLgy8RQARXlYWl9h+NyJ2FGwQDS+8/u8VcUZt2kFtzc3omAA0D38NjfY3uCvDFhOJb7kOXSKuM9NB0B7IQezvLTkzgBofFXIr61bsc4MAOd/h2JzaU+bsRe+vDhaNQD+HDYBHEyvuN6IGf4d3N1SrwquN8G/2e/zxx01cUmc7Qf+KhFa9L2M/fq5AxFvrfPSSF5k95iKek4WLKCsuUFC6ShZcTJpv6i7w8WzZARwPNigut8LkkAX5YMDQDpB7iiVuqHPADdXaBkTEZHzr36NfxQRERnv1bgZEBGR5U8eTYyrgW+vn7xAlt5rvFVxGWmxQXaPPrtTN5qosvs0qYmU3XtxTVyrChygiZiqmV1dnEYB5ibQ82I0kgn9+JAHub/b02WG19ceDQDO50/Rx7kHpo6b1TI0+L0AAAAASUVORK5CYII='/>"
      ],
      "text/plain": [
       "<IPython.core.display.HTML object>"
      ]
     },
     "metadata": {},
     "output_type": "display_data"
    },
    {
     "data": {
      "text/html": [
       "<img src='data:image/png;base64,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'/>"
      ],
      "text/plain": [
       "<IPython.core.display.HTML object>"
      ]
     },
     "metadata": {},
     "output_type": "display_data"
    },
    {
     "name": "stdout",
     "output_type": "stream",
     "text": [
      "7 (32, 24, 1)\n"
     ]
    },
    {
     "data": {
      "text/html": [
       "<img src='data:image/png;base64,iVBORw0KGgoAAAANSUhEUgAAABgAAAAgCAAAAAAtNefkAAABxUlEQVR4nG2QPW/TUBSGX9/e4DpxoUnt2G5spYgYVKKigIJgAAZQB8oOG3+Gnf+AmFFVOnTrBwNLK5C6VCBQISE0tWhTx/VHPprLcGNHCJ/pnue577lHV2AAMNo66Pxuff91PgJw2bIt/QoFAOysfj456oJX9wsVQgLGGNt8in9LuVECY6z5EinF2PEbKYUT4GA/TBUD92faJAKa6aZwgcA5E1PEXQJvOPc/r1QpZKOcDQAAt5aid5xPlSsEOX3xIQDgwfN7cXahbFBIeubZpa+uWK2VjvbGwtJmKaii5K4dOn5WbO1+4rxg5DMUAEzztHHY+Lb/YRxQVXWGju8UZH8n5pjRzSKNG7WznSyrXa0aJG683U58LF63DSRi420SsKQMErH+KuHFOQSJaL1uxlxeWsh5p7FYm7w8n5fgOUO+1cf3k/8TL3ph8GfARbM5EVNk6DoXoADg+aOEU3EU9NvuCQWA/kBIRGVeBjtr/6AAQKkc80LNJMMIgU8BICclYuW+6vfCfvuYJzR7i/PF5Tuyex4F+R7fSrtd3wMA5cVjE1EU9YuMC9tbdhqYrT9ZMYHpabBsyIVYsmuaZNUf3eQTBUX/C3V+kepVt6KDAAAAAElFTkSuQmCC'/>"
      ],
      "text/plain": [
       "<IPython.core.display.HTML object>"
      ]
     },
     "metadata": {},
     "output_type": "display_data"
    },
    {
     "data": {
      "text/html": [
       "<img src='data:image/png;base64,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'/>"
      ],
      "text/plain": [
       "<IPython.core.display.HTML object>"
      ]
     },
     "metadata": {},
     "output_type": "display_data"
    },
    {
     "name": "stdout",
     "output_type": "stream",
     "text": [
      "8 (32, 24, 1)\n"
     ]
    },
    {
     "data": {
      "text/html": [
       "<img src='data:image/png;base64,iVBORw0KGgoAAAANSUhEUgAAABgAAAAgCAAAAAAtNefkAAAB50lEQVR4nK3SS08TURTA8f8M44R2hr4EUwoNpYkQC4pd0ISUpHHhkohx79qNC+PChV/Dr6Brdj4SSYkSdAiJSkrBokjT2qbFWlr7mJnacTFT07XxrO49v5x7ck4u/LcQgGQsJAgigiJ0C5r2FxbvJiOuTtsURJ8qN/Y3nvQAkLixuiw1G9Wu7NcnhECqkX1pw1I8LCGVdw4vTF8lDNErDiQj1AK97IaGsta/6MaQ7B6SZHSNZvapBq1Xfl+0c1RwoHDiUiub2wC1tL8kHGQceEF3tnxiX7K+qnp6ap/F9s4XUxyfA8A/7pJ+604FpZ+eYHCllP9hBsMR9aw+qjuAOjGlKMB5Txk1jhu7HwbQEy4B4AXkWGPPBhF2P1aHlpdIeAeQy9aHQLweH0DnvDO879D8oMfivB9oFzqeWQD/1LQz/P20ZVnbc7jjD99alqU/W7fzkw/eWVYpBoD70adyU99cA0S8LhlqBwC007miIS9cBkRMUYFYyi6fVWWTTAaQEAOTwOMtGEmEbictWsUcIKGPjQE305qxMtO6BlS+fwMk8kdfo0Aq1Rft584qfXuO18HlJa89K0B+TwP7X83EFm6tAmD+an1+//zNAIDUnXWP3q/s16uHW2WGgJF7oW67eFwt6/xr/AGBt7I/r1hJswAAAABJRU5ErkJggg=='/>"
      ],
      "text/plain": [
       "<IPython.core.display.HTML object>"
      ]
     },
     "metadata": {},
     "output_type": "display_data"
    },
    {
     "data": {
      "text/html": [
       "<img src='data:image/png;base64,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'/>"
      ],
      "text/plain": [
       "<IPython.core.display.HTML object>"
      ]
     },
     "metadata": {},
     "output_type": "display_data"
    },
    {
     "name": "stdout",
     "output_type": "stream",
     "text": [
      "8 (32, 24, 1)\n"
     ]
    },
    {
     "data": {
      "text/html": [
       "<img src='data:image/png;base64,iVBORw0KGgoAAAANSUhEUgAAABgAAAAgCAAAAAAtNefkAAABm0lEQVR4nGXRwUsUYRjH8e+8zKyy7q5prkgrpdQq4UIiZUQkdBCiCLpWhpf+iI7+BYIXL6IQHaJugnRKEfPmYSKytqSwosip3cJVg5H112Fm3GXmPf2e5wMzz/O+lgD+fU73o8MUjWMDlD9+O+rBx8kPFBrgL6+/2a7t132wTxYv3xoN5eW95g/A6alfkiRuEz+PypJELgFXH0uS2U3A1vZPwERlsRilv/t+NC4wdN3qeRXE7u6OBqSvDVvO7/cA9BWyDch0llrSf7wKQOEEgH1pA8B7tpvxNioAtGYAeNAWn+rhW0ky7YpDdQ/AZJ04lL8AmLErcXi39hUwFwYSq7suYPLtqTi83gTMluvH4WATYDa6raYhznyQuBMW89XK3HgkE9/FcBCznrQzfTOE0pJMuHhtBV6suiEMDWJ3hfn+0/rS8U/On8PuDXN9sWmus2CKLYkFyfcB7ngSblQltDAS7w8uSEKamxzrau6PztQC0Kf1J3eP2/0Tzw8kyQreaW95ccdqy+ScXG/pIgBW9IA/vHrKORIdp4L6P4tSka1Yj718AAAAAElFTkSuQmCC'/>"
      ],
      "text/plain": [
       "<IPython.core.display.HTML object>"
      ]
     },
     "metadata": {},
     "output_type": "display_data"
    },
    {
     "data": {
      "text/html": [
       "<img src='data:image/png;base64,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'/>"
      ],
      "text/plain": [
       "<IPython.core.display.HTML object>"
      ]
     },
     "metadata": {},
     "output_type": "display_data"
    },
    {
     "name": "stdout",
     "output_type": "stream",
     "text": [
      "9 (32, 24, 1)\n"
     ]
    },
    {
     "data": {
      "text/html": [
       "<img src='data:image/png;base64,iVBORw0KGgoAAAANSUhEUgAAABgAAAAgCAAAAAAtNefkAAACCklEQVR4nF2RT28SQRjGn13ehR0ggVkIpQv+AYyJwMGEmlgjmGjsqdGbH8GP1G/hwaPaxCYYjdb0oAbaGFISAmm1sEDB2YXt4mEHrJ3T8/x+mUned5QF4IKAo54NcIDpBicABIDciThqtv9AZ4a+nnUAX7gYfKwfNtoA4qZZ3thQALgEt2X3dt4BADAcNppOxODAjND6ctqQHAC6u3zNZKpLTueg+RWXzs9Pxr2cBhq1Dz54lwXeh5NmGBS9fu1/DpzOAwQK37gt+8vYztQXAWUG1XV++1y///iBnzrH0+k5jU5O/KrEkyl593CoLsiyLL/Ng6m8FK3eIqgKIfzmDsRMCks4IIDJutffk0nYoSSBmbK+/r4vUzzGOXGzfLMNAOj3l4OsZRJcDfF87cqACOvaQmXRzMPtKyLmjc5UR+eZavWKcGfndIFIqvCisvvjHzfS7hi0sBU9YeacUWclNnMcgsSQLWLRQDbfXS25UjRtQZmE4iiG6Hxe8UfFdFyANA1RgAUvlvzZ8ztGgIEA17a943pdcl6rFlQANLYte9jafzWWolYpqABAA6tn9968nUt+90lRBeBqNJ/2xdm3Jc9ub6YAATCajYQt5F9FSltbJaDFmA6CB8CYAMiWS+VKSYVlWdwIUczEwHva9XiuVMiEkwBiockvLUgBxhjLr2vpW8W0/6AahC28v7b8wdmz/6vQAAAAAElFTkSuQmCC'/>"
      ],
      "text/plain": [
       "<IPython.core.display.HTML object>"
      ]
     },
     "metadata": {},
     "output_type": "display_data"
    },
    {
     "data": {
      "text/html": [
       "<img src='data:image/png;base64,iVBORw0KGgoAAAANSUhEUgAAACAAAAAgCAIAAAD8GO2jAAAFnElEQVR4nG2WzZLjOA6EMwGSkuu3e97/ffa6l32O6a6psiT+IPdA2eWOGIYPDllmkkDiA/if//4PhBlAEAQAQBIAdzOz0aK3GCPmQwBmNr+QJGlmZja/z//OFREAEv5tkZTUe0hjtN7bGD1CetyUpLknd9yE/3UlMyPB80ynPoCIqEc9jtrb6K233mPEPL7fVs5ZpbAUAwFKmpfXg2QiSID83r33LmGM8c/n19fnV29j9DH6kDTPnpK7e0q5lALJzijxdsYz0EYKSkaCIL93P2qNod76x++P379/jx4IKATAbQqkeYNY13N3p7uTJEidyZg6CRBBgoJC0UdvtfU2am3bdd+ue4wgiICR4TSzGOHuntzMcs7JzQ0sxVMiCNzjIwJJCIAGJ6DQ6NFqP46678e2H/XoFIzm7jQjDcDoESMihpHJ3Qgj3MzdYQIgCDg9mWw+mAmkJ8/J21e7/vPx+fH3x/XrWsry8vzy/vZ+WVdz1lo/Pz6u16967Cn58+vzz58/1pIpGWQQgJAkaIbISEkxAqTTsuecyuj6/Pj6+PXPvu1vbym/Lz/f//rx453Gz8+P47rVvf76+xcQx76t2fX+ZhAhTivPOpAe6kASQAiShtQjeoyhMYCgwXNelnJxZ681p2RkjFD0ftR21Fbr6J1ROBUgAjPVNwECghQxIkYoBH1niyBAmrlZspRmfskhaYxeWz3qaF0RMuosRtAoIAUgIAhICsRcZ62P3nsfY8Sg5GAynxY1MwFjRO2tttZamy/OWjca7eSOCZpn1QNGCE7gRIz7ihhSPJhQoRgR/fw1ZhGfOLlhLc2ynqA77UWm5GX6moyI0Xttx35sEX0/9tbaGONk07ecJIF0MzejGSgBSQqAuAmSdPdcynpZL+uyb8XdRkStddu21o7tej2OvfcO3CDhRiPNTq6eT87YJD1k3IwTYeu6PD9fXl9feh85ZTfWVr+uX0Zu29fX9brXOhQwWnJzp5m5nckxM3cmo6CJihNRIEgzpuTLsjw/P7+/vwOEmHOO0H4cir5dv/Z9660CMj+5ZGakkRSpm0mnN9OMi5lBDMlIdy6LIp5+/Bgp5dEDgieOaHU/tm07jqPHIJncc845Z3en8fQ5gD6+6+DWiG6k5SR+Wpbl9VU553q03nooWqt99NbbiACZcl5KWpallJJTpjFwYgcBjj8ESFJiQCJgpFtSujw95VKO/Tj2o7UeMQTcmWXZ12VZL5dlXfKSzT1mKQkCTJrbphPimCmZphVPOlpKBkkRgFo7W6+5JaRkVtayrEtZ17wsntIsnUkhSUbyfoNp04mos1uc5WjJR0o+hrvb/KTkZiglrZd1WZdlKbmUlLO73zvudL6IpJuDQLonM0zoATRzSj46K0Ojjz7GEGXOlPPlsj6/vLy8va5PTynnaVZIiJh7njSdZDAEzbOl+YJOAYuIWeGt19r2Hg0IT1ZKeXp+eX17fXt/u1wuKc/hYdLHELPzC9KJipmAUNwFJPQxRu/HsR/HXtvRRxOCxmSplLKuy7quy7Iuy5JSIv9olnf8JNy3V2h8C0So915r3a/Xfb+2ViMGoEnTy+WyrpdlWUrJs9YAzdicwAHAuwAUERIVjNAc4saIfd/2fTu2bd4gEJ7PcejydLk8r8u6pJxpJkBC4AbLP6eKOwsRQEgjQtKIUVvd9q3Vo48uws9xKC3L8vT0tF7WvBS6BaT4HixP29+skkhKIDW72Onhs+FIEg05e6Gbe865lJJzXtd1Xdec8zRC7/1esA8xut3g1OMtO7c1Z6zkJJXcU35YpeSc/WxKMefcSVI8sudh+KWRMrjPwXQAXNeSswFhBk8p55RSdncj52RHmiSagQxFxHDCZx/gHFUfp+s5QhL3y6bk7gRlbjn5VDDamcjbEH+2K9067kMDAPB//d8kTUlSYtgAAAAASUVORK5CYII='/>"
      ],
      "text/plain": [
       "<IPython.core.display.HTML object>"
      ]
     },
     "metadata": {},
     "output_type": "display_data"
    },
    {
     "name": "stdout",
     "output_type": "stream",
     "text": [
      "9 (32, 24, 1)\n"
     ]
    },
    {
     "data": {
      "text/html": [
       "<img src='data:image/png;base64,iVBORw0KGgoAAAANSUhEUgAAABgAAAAgCAAAAAAtNefkAAABeUlEQVR4nJWQPUuCYRSGL+0DDSEUxIgCLaIiEyEc+qAPhBxtiJamlgjaon/QH6m2IBocGrSCqGgIarEI5aUCezUqzcK+oE7D6/NaNnlP53kuzjn3faBWWcyqvoVC6R/o6PF57W8FTdf0P2BkxetoJp/XdD1+XB4AwPQ4gMfTol/lky8VEI6U+51O12sm9qX2dCdERLbmoyufIiKLpoGIiIh0AUkRkTMArEAbgKSBNEDQrUAzwDdABoBhBZoA6gCMEH4FvgHwmDtbFdAACAB9lZNYgdMTgBD4RgEoqoDptRAQiJSm2gF4Uh2s7gPOsdk5Y0rBPElpecHbeOOecBlAr1wX21Cvwz/TCMBlNGVel/e98z6X1ah3UlQA3Fn6C26Axz3TrqFcNgvA7iF/ZV+6FxHZHKj6J7guIrId+pXcUKAdeEicVIPBfheUYnH1Vq4mRwMN13py41yBcsDwUKfbcqsdHFHVYS9evOeSF7+8lDt6bR+Z52qfNeoH+sh59eDxQGsAAAAASUVORK5CYII='/>"
      ],
      "text/plain": [
       "<IPython.core.display.HTML object>"
      ]
     },
     "metadata": {},
     "output_type": "display_data"
    },
    {
     "data": {
      "text/html": [
       "<img src='data:image/png;base64,iVBORw0KGgoAAAANSUhEUgAAACAAAAAgCAIAAAD8GO2jAAAFnElEQVR4nG2WzZLjOA6EMwGSkuu3e97/ffa6l32O6a6psiT+IPdA2eWOGIYPDllmkkDiA/if//4PhBlAEAQAQBIAdzOz0aK3GCPmQwBmNr+QJGlmZja/z//OFREAEv5tkZTUe0hjtN7bGD1CetyUpLknd9yE/3UlMyPB80ynPoCIqEc9jtrb6K233mPEPL7fVs5ZpbAUAwFKmpfXg2QiSID83r33LmGM8c/n19fnV29j9DH6kDTPnpK7e0q5lALJzijxdsYz0EYKSkaCIL93P2qNod76x++P379/jx4IKATAbQqkeYNY13N3p7uTJEidyZg6CRBBgoJC0UdvtfU2am3bdd+ue4wgiICR4TSzGOHuntzMcs7JzQ0sxVMiCNzjIwJJCIAGJ6DQ6NFqP46678e2H/XoFIzm7jQjDcDoESMihpHJ3Qgj3MzdYQIgCDg9mWw+mAmkJ8/J21e7/vPx+fH3x/XrWsry8vzy/vZ+WVdz1lo/Pz6u16967Cn58+vzz58/1pIpGWQQgJAkaIbISEkxAqTTsuecyuj6/Pj6+PXPvu1vbym/Lz/f//rx453Gz8+P47rVvf76+xcQx76t2fX+ZhAhTivPOpAe6kASQAiShtQjeoyhMYCgwXNelnJxZ681p2RkjFD0ftR21Fbr6J1ROBUgAjPVNwECghQxIkYoBH1niyBAmrlZspRmfskhaYxeWz3qaF0RMuosRtAoIAUgIAhICsRcZ62P3nsfY8Sg5GAynxY1MwFjRO2tttZamy/OWjca7eSOCZpn1QNGCE7gRIz7ihhSPJhQoRgR/fw1ZhGfOLlhLc2ynqA77UWm5GX6moyI0Xttx35sEX0/9tbaGONk07ecJIF0MzejGSgBSQqAuAmSdPdcynpZL+uyb8XdRkStddu21o7tej2OvfcO3CDhRiPNTq6eT87YJD1k3IwTYeu6PD9fXl9feh85ZTfWVr+uX0Zu29fX9brXOhQwWnJzp5m5nckxM3cmo6CJihNRIEgzpuTLsjw/P7+/vwOEmHOO0H4cir5dv/Z9660CMj+5ZGakkRSpm0mnN9OMi5lBDMlIdy6LIp5+/Bgp5dEDgieOaHU/tm07jqPHIJncc845Z3en8fQ5gD6+6+DWiG6k5SR+Wpbl9VU553q03nooWqt99NbbiACZcl5KWpallJJTpjFwYgcBjj8ESFJiQCJgpFtSujw95VKO/Tj2o7UeMQTcmWXZ12VZL5dlXfKSzT1mKQkCTJrbphPimCmZphVPOlpKBkkRgFo7W6+5JaRkVtayrEtZ17wsntIsnUkhSUbyfoNp04mos1uc5WjJR0o+hrvb/KTkZiglrZd1WZdlKbmUlLO73zvudL6IpJuDQLonM0zoATRzSj46K0Ojjz7GEGXOlPPlsj6/vLy8va5PTynnaVZIiJh7njSdZDAEzbOl+YJOAYuIWeGt19r2Hg0IT1ZKeXp+eX17fXt/u1wuKc/hYdLHELPzC9KJipmAUNwFJPQxRu/HsR/HXtvRRxOCxmSplLKuy7quy7Iuy5JSIv9olnf8JNy3V2h8C0So915r3a/Xfb+2ViMGoEnTy+WyrpdlWUrJs9YAzdicwAHAuwAUERIVjNAc4saIfd/2fTu2bd4gEJ7PcejydLk8r8u6pJxpJkBC4AbLP6eKOwsRQEgjQtKIUVvd9q3Vo48uws9xKC3L8vT0tF7WvBS6BaT4HixP29+skkhKIDW72Onhs+FIEg05e6Gbe865lJJzXtd1Xdec8zRC7/1esA8xut3g1OMtO7c1Z6zkJJXcU35YpeSc/WxKMefcSVI8sudh+KWRMrjPwXQAXNeSswFhBk8p55RSdncj52RHmiSagQxFxHDCZx/gHFUfp+s5QhL3y6bk7gRlbjn5VDDamcjbEH+2K9067kMDAPB//d8kTUlSYtgAAAAASUVORK5CYII='/>"
      ],
      "text/plain": [
       "<IPython.core.display.HTML object>"
      ]
     },
     "metadata": {},
     "output_type": "display_data"
    }
   ],
   "source": [
    "Xb, yb, X_inv = img_select(grays, proc.y, y_inv, 10, augment=None, invert=True, step=1, step_offset=2)\n",
    "for (a, b, c) in zip(Xb, yb, X_inv):\n",
    "    print(b, a.shape)\n",
    "    img_show(a)\n",
    "    img_show(proc.X[c])"
   ]
  },
  {
   "cell_type": "code",
   "execution_count": null,
   "metadata": {
    "collapsed": true
   },
   "outputs": [],
   "source": []
  }
 ],
 "metadata": {
  "anaconda-cloud": {},
  "kernelspec": {
   "display_name": "Python [default]",
   "language": "python",
   "name": "python3"
  },
  "language_info": {
   "codemirror_mode": {
    "name": "ipython",
    "version": 3
   },
   "file_extension": ".py",
   "mimetype": "text/x-python",
   "name": "python",
   "nbconvert_exporter": "python",
   "pygments_lexer": "ipython3",
   "version": "3.5.2"
  }
 },
 "nbformat": 4,
 "nbformat_minor": 1
}
