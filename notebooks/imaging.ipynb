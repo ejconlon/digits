{
 "cells": [
  {
   "cell_type": "code",
   "execution_count": 1,
   "metadata": {
    "collapsed": false
   },
   "outputs": [
    {
     "name": "stdout",
     "output_type": "stream",
     "text": [
      "ready\n"
     ]
    }
   ],
   "source": [
    "import sys\n",
    "for p in ['..']:\n",
    "  if p not in sys.path:\n",
    "    sys.path.insert(0, p)\n",
    "\n",
    "from collections import namedtuple\n",
    "import os\n",
    "import pickle\n",
    "import random\n",
    "import warnings\n",
    "\n",
    "import matplotlib.pyplot as plt\n",
    "import numpy as np\n",
    "import pandas as pd\n",
    "from IPython.core.display import HTML, display\n",
    "import skimage.color\n",
    "import skimage.transform\n",
    "\n",
    "from digits.data import Env, Loader, invert\n",
    "from digits.explore import img_tag, img_show\n",
    "from digits.images import *\n",
    "\n",
    "%matplotlib inline\n",
    "\n",
    "env = Env('..')\n",
    "env.assert_ready()\n",
    "loader = Loader.from_env(env)\n",
    "loader.assert_ready()\n",
    "print(\"ready\")"
   ]
  },
  {
   "cell_type": "code",
   "execution_count": 2,
   "metadata": {
    "collapsed": false
   },
   "outputs": [
    {
     "name": "stdout",
     "output_type": "stream",
     "text": [
      "loading crop-test-small noop 42\n",
      "unpickling data\n"
     ]
    }
   ],
   "source": [
    "proc = loader.load_data('crop-test-small', 'noop', 42)"
   ]
  },
  {
   "cell_type": "code",
   "execution_count": 3,
   "metadata": {
    "collapsed": false
   },
   "outputs": [
    {
     "data": {
      "text/plain": [
       "(200, 32, 32, 3)"
      ]
     },
     "execution_count": 3,
     "metadata": {},
     "output_type": "execute_result"
    }
   ],
   "source": [
    "proc.X.shape"
   ]
  },
  {
   "cell_type": "code",
   "execution_count": 4,
   "metadata": {
    "collapsed": false
   },
   "outputs": [
    {
     "data": {
      "text/html": [
       "<img src='data:image/png;base64,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'/>"
      ],
      "text/plain": [
       "<IPython.core.display.HTML object>"
      ]
     },
     "metadata": {},
     "output_type": "display_data"
    }
   ],
   "source": [
    "img_show(proc.X[0])"
   ]
  },
  {
   "cell_type": "code",
   "execution_count": 5,
   "metadata": {
    "collapsed": false
   },
   "outputs": [],
   "source": [
    "g = skimage.color.rgb2gray(proc.X[2])"
   ]
  },
  {
   "cell_type": "code",
   "execution_count": 6,
   "metadata": {
    "collapsed": false,
    "scrolled": true
   },
   "outputs": [
    {
     "data": {
      "text/html": [
       "<img src='data:image/png;base64,iVBORw0KGgoAAAANSUhEUgAAACAAAAAgCAAAAABWESUoAAAB+ElEQVR4nDVTQY4kNwwjKbmqZ3Y6QJBLfpX//yHILch2l0XmUDuAb6ZMiqT5l47PA7aqYr/fu86FoSTYJvstjplYSOwZOCJJQgDY/3YeSwkSeK5r4EAgCYhAv9PbsJXEe++hpaFEMAb65ZqQBGL7eltxCQgJCOifUxudCeLk+okFpx2CIIDeNCjKCBAPJgAI3vdoA2CR5Q3Ejh2AFHkDkACgCBLxeBsUcAOSLsEBxZCEd0JVIfx+oYS5NqsiiEhCSQiAW2QL+3Wy1OM0AUrVtxDB6IZf/3UoSK7SUCUhAUjCXZ5X0fYhdQmkVDc/SbKJeVeR4IdK5PdGvDkgeOZ9zYzxLfweBiiSfe3BglRFUghIJKR+ofof9B+/P89jcWCs8+XLRADCu8D+u397/vlFi7F5PK65QgBKHEi9lCSs6gKnu0tVSIAgBvsrC4Z0NAFJVSXSBO7Tz6lm9VqViMgdsojIENmfmy2QAjwzdmAXiNsI9lkhDBL27D12kvAmINnt8TWB4dnbSYw7yzvOrr7dY2KHKom8+yaQ7EUfLUkGqD59rtb9awKI/Tn4+vHxWIxq5Ro8zu7b6gBkf6SePx6HAhVwDo5j1dyxBUA/eDw/W9gokOfgWL9UIQbZH1pHFw1wxcHRj9K6rWaAPrRKSkAW98qqg5T9XYv/AQoeLCG7XY8CAAAAAElFTkSuQmCC'/>"
      ],
      "text/plain": [
       "<IPython.core.display.HTML object>"
      ]
     },
     "metadata": {},
     "output_type": "display_data"
    }
   ],
   "source": [
    "img_show(g)"
   ]
  },
  {
   "cell_type": "code",
   "execution_count": 7,
   "metadata": {
    "collapsed": false
   },
   "outputs": [
    {
     "data": {
      "text/html": [
       "<img src='data:image/png;base64,iVBORw0KGgoAAAANSUhEUgAAACAAAAAgCAAAAABWESUoAAAB60lEQVR4nDWSS3bkRhADA8gk2S3NPHvlc/n+Z/BqNpKarIQXlJb5CpWfAPSvj+eWSZVn1uu1+miNbCcT0ZdrlZIxZNY1GpAkKQr0R3GMySSZdV6jwSNbKAP92b42Zpxk1jrHAQkQGPpr6ookMsmcr3SmCiIhoD+Xz1StkEmuF3uC8/NOv7IPtocAmawJSJZuwaoJLtVckMxcK0jcgqRJBmThiKy1vk/46WBlVmSx7lUH2cr3HXSZdV3VpkiZgFwkIJPptq6vL7urRZeF7GIFkEbd5PxoUKnovgVCyg28K/P60Kx1dKnLgH4YYGgxpy2gZJeVe3wGLKeViar3NRG2SOC2QyjqNSseVBbIpR+UIgvoP8nx/vf7Y6ss6OOT8wwgJyt2/8e+//XPG1ig7djPRCYAJNPDGojd7dDdY9sMAEL9lDSjqr0049sj4ZBEUv8mm1W9bU5EksncCUqQ+53p2zwya2Zm1kzdTiH1g8vKIGVmrclak4wARVJvMNd5DcPMzHdehQRG6tJAACWJalt9b2oI3x22su2RajtOjr0byTfxfmh4f3scm6gkj+V965o7cIF+KvXr/Xl4cEtrtG3lm1MG9RNtv972Ilh2qD5KTSAo9BNvx/1HRcFWR91xuDkcaGv7rky1bNBtFuF/ToE3+xCZ1sEAAAAASUVORK5CYII='/>"
      ],
      "text/plain": [
       "<IPython.core.display.HTML object>"
      ]
     },
     "metadata": {},
     "output_type": "display_data"
    },
    {
     "data": {
      "text/html": [
       "<img src='data:image/png;base64,iVBORw0KGgoAAAANSUhEUgAAACAAAAAgCAAAAABWESUoAAAB9UlEQVR4nD2TPYKkRwhDnwTVPzPeYANfy/c/hCMH9kx3FXLwrU0MAj1Af/TzUTmq5pzv77cf9wLbkAD91bUE45Bz9q6DR7a4ov+5rbsZZpTZe2cmJpFQBP3idWKFMHNe7zWTUkBgoL9mHfeMmJD91klAEkKB/maPqiYEyNlnQFiSAPqcCaXhjMjM3hMZWRJJeuYMUhFJys7Brv+aQJs5E0s5sRhFsgMgaehy9nurK6Vpk8hVk0RyRLfz/lry6uOsUpBdnEuB6VK+/65EsrJKiWxJl9e4O+e7OPvcu1LtHSSci4anxXl/CeSWy1YmQRLIilozUa1zBsklkmvAUcaoz5k4rnKCeu15HQJyJiX1X8Pzx8/Pezsnuj3f89oIRBKs/pPbx8/f76gsvG6LC1RQAHo0+wz2Kk+6O79MXALqD6wzql6FxlIISCGJrP5BluVe7SGQmXMihAZJ/aFZBqRkzjlz9pmxACGpH9pihqt2YGZC0GVFvcjZew9JZiKXkKTraKUuRQTwBNV6aLUtyRCkXvKsri5j9/09vq8uroRI/dTot4/HraUK2tF9dR0AMqifoj4/nzcPbvtEa5WDuGD2E63P560AO4Vu/bA6w3WW/RH3vVsTKE2y3Jbm/9+8obKvdISUXyCuKegLOqBkZvbrxbhIfK3zXwGoU7g/CgGzAAAAAElFTkSuQmCC'/>"
      ],
      "text/plain": [
       "<IPython.core.display.HTML object>"
      ]
     },
     "metadata": {},
     "output_type": "display_data"
    },
    {
     "data": {
      "text/html": [
       "<img src='data:image/png;base64,iVBORw0KGgoAAAANSUhEUgAAACAAAAAgCAAAAABWESUoAAAB8klEQVR4nDWTQc6bRwxDHyXNZztJERTosXr/U3TXRfPbM2QXdtYSKOqJ0t/r+71s9XD289fW/TZQVZAA899ZM0kqxHvvOlSQEErQPLVPJcTyOfvVxxFEAgHzpeeDMkmc83wt20sBJID5xd3dNoTkbDmJhCRBmNecqCtJIDk6BqHSR+E4qEmOAR+2UYmSUMjEx0EiksjhoG7Qx8QUPkaFK6VYUVXxdikzLe/XnuqYniJIPXZABZ6Wn1+LVnVltfJRCEiKpnV+rTKo5GkF1e8NUDHt/VU5x9fUTMt5+1OgJI3YXyqBlrq6nI86SJJK8X4+93EiVQlCjEoioNrnbFPdRage+XVCpJL3QfOv+fnz5+Nasqzrsc9zIyJIKM0/+nb768+JWlDXtYSqQgASxnVsp3pazsxEUsUoSUnz0IpTvaY5p943Rh1iKM0fqUa91hABSXwihIhU893Mh0x8ju1z7AZFIOZuFw6fevBxsPhcfJZf3vskie28Wb1TjZCmFcUJSkLNUneXJIkgzaR6uroqqrlu53WbblRSCJpHPI/H7RqlQ3b6tqb9+3GYB8yPb/dLppFO6pou8wHJ3Knrx7dVmFYfs9attRIICnNX3a7VMtLQ0ZmrSn5riLlTq1UJUEo39Y7be4imeIeED+a9j7pIPm3/A3bgTrdXgZQ2AAAAAElFTkSuQmCC'/>"
      ],
      "text/plain": [
       "<IPython.core.display.HTML object>"
      ]
     },
     "metadata": {},
     "output_type": "display_data"
    },
    {
     "data": {
      "text/html": [
       "<img src='data:image/png;base64,iVBORw0KGgoAAAANSUhEUgAAACAAAAAgCAAAAABWESUoAAAB7UlEQVR4nDWTQXIcRxADE6iamSWpcFj6mP//C59Mcbe74MNQ545AJJDV+kf9uDqDyzPr+ZzjbI1tkQm9PSGABAhZVpIEZqL+rPMYZ5SQzAwEBJAk9O/mMUliyKy1VEFIEib0c2rP3AmzXq/lASRJ4NC/j9o4gWT2eq0OAltSRvQzx6jkIZl5fW0lN8J3wi7kkiYkWc9pSDMIKdAJdkk1CzI7A/oDIWgbQFYEs/dMvueQIHTZCbIGkb0yyAZLAHSbWUtdY8RMsKvI3XPSZdbz6Xb1LhHZVSZ3D9HF/vps2TFlSVVVPfu2I1qzvtpJ2t5CdlU5CpJhmuH1VZZ9YIGqyvcEElLPZq29Z+emlu0bEElRf6ZUVVUWugvfeJGM3P+eP3/+dZ1dJLktK8HknrL/4/r19zkUk/ho7fnjKgH6tIFyWXEdnSAROdlY6vcuST7abEtWd/m+0mykfvdV1UeXJgJVVzn3ZRKl33KU7HJIZk9JICcaJNSdEkhk1nrt3SIgJYokuiZ7h2Tv/Vp77mSkDLLoxhJSMvt+lsI9qiT6ocdRdX8mXMfRNwUICfqjf3y8Xa1Y1cfF42xLOBhJ9I/z4/06NHLluFZdj6MjmYRY9Mf1cbVmKMja9TgPz7cRSfTbeR7fbq09x3n1jUCCwv9RkSlRCbYUOwAAAABJRU5ErkJggg=='/>"
      ],
      "text/plain": [
       "<IPython.core.display.HTML object>"
      ]
     },
     "metadata": {},
     "output_type": "display_data"
    },
    {
     "data": {
      "text/html": [
       "<img src='data:image/png;base64,iVBORw0KGgoAAAANSUhEUgAAACAAAAAgCAAAAABWESUoAAAB+klEQVR4nD2TUW4dVwxDDyXdGee5TYsi++r+11G0sWeuxHyM0W8JFAke6W/l8a1oojR9f14c5wJlgA11EzpCtixP35u0cAghW/UvxZGyx2a6b3IcwhII6vLktsDDeO5LaybDgATUpzu2Mxo89r6ibQSSBK4PV95OwgDyzB4bKfQo7KEH5eAtwcxuK8SzMGXP9CjEhIWntxUJAEIlmO4hpJYkz1ghPS5FJUHvXRlKXClsRXkMhKhUsK/PVKWlvfL2E2CMkCpD2h9LVim1Vor/TyBFBfj+qek+V0RVyl8zg0Qp6PtD2NYbWcn0GCkwEmWZvpRVNSgqsMF+fKCaodvZRIQjctXc1zxNuCfqbu95f//+OovBdb79vK4RIGNT//T4+OvHnwcRoDyPTxGJLYxU/10OkRnKSk1XVXxlIEZRBZG9h1iVdGSEPJbSj8Kbgwir1ioM4JluCSFQvUiTMk9RPePu7kRPn3WqPGEPsqdnYHbbskSgqljes+8e254h0kISEoJSJtaMQTaq45zKCCkkTK1cyBkREUSs8/Y+KxOFANdLS63Xt/MoOS2afVTFADCu75Ny/vZ6O2JIQu37qAgBGOqPG7TeX0diQi6i1xmhebCo3z+HWOcqDaLUhzpL+sLW9RaNVklfmD+/YWMLoKqxAAvZ7u7rkiNshMwvGXFPojTUD/8AAAAASUVORK5CYII='/>"
      ],
      "text/plain": [
       "<IPython.core.display.HTML object>"
      ]
     },
     "metadata": {},
     "output_type": "display_data"
    },
    {
     "data": {
      "text/html": [
       "<img src='data:image/png;base64,iVBORw0KGgoAAAANSUhEUgAAACAAAAAgCAAAAABWESUoAAAB70lEQVR4nEWSQZIbVwxDH0D+bmnGqWx8r9z/Ellk45HUn8hC4/KaKJAPhP5RHfeVSZUz+/ncfTZbtpkZ9UhJgECSTJJIkkCS+kuto5QkYfa1t+Y9Elj0Lx21RxNCZr9e8SAkCSX0U6wdETIz13WN8y1QgH4oa2MgmZnXQyvBkLeiH+IadXaUJNfTJ8FEQoK+1MGFMwMzkz3hGwHSIUFG7EBma4KELAloifxZymztyAZLInTJmT22RhYZRXYFAYIuiet1ya6iTJBdNQEkTbc8z6+lapemrbeACcjQTfbjVyXIniohl+UEJNRmXw9rJmerSwryNwFSWsk8q13Vy/b3aUgKktOT2XrtJL9fCHojS5b6K5O1jtWlBFnJBCKPMqb/RR8/fn6uWhpG63zsVwBwhqj/0zo//v5wbKE6zlcGKzjJxn3Db+9uQ1V1uax5uyT9IyyiqlVKbKksyRDA6h+Zo+1ayxnIvPurCh7kvmeXQRKZfV0zk5kCgZD64CVlIjKzrz3zLj7vpNWdyb4mhNl7I4jIH4dOYiE8SeRaXbbE+0z1keJ2dJckudeN8yh/FxLcd8afH/ezSWXltnUeq/MGDeo79F+f59LggmvrONqbd07QN3R+3tsZSvZMraP9O0fom7xWF4PU7OTo0+oMBIX/AfRAQiQIc3rrAAAAAElFTkSuQmCC'/>"
      ],
      "text/plain": [
       "<IPython.core.display.HTML object>"
      ]
     },
     "metadata": {},
     "output_type": "display_data"
    },
    {
     "data": {
      "text/html": [
       "<img src='data:image/png;base64,iVBORw0KGgoAAAANSUhEUgAAACAAAAAgCAAAAABWESUoAAAB8klEQVR4nDWTQW5kRwxDHynV7x47k1WAXCv3v0N2AcZtV4lZ/LG2eiBEiNQ//XxWBpdn9utz1qMV2U4C9NE+TqIkc/YeLYQkKQn0R+sqkjHMOXs8UiQh3cCq3ZpbYfbXeMYWkRDQr+k9JZKZzNcrnaEI957+OPVFc0ICszmTIIxu4DXrqOQhAJl9BiRLEkkfT6JSzQGSvXewbx9AJ3MGFRoJ5pzBNnwDUs4ZLJ3YJhPJJoCU6RJn71KpSZdI5LpPkkS32a+XTQ06qxUkm0OEUDf5+tWExlqrlNwOvhUKPn95znmsortIbgcKWGln9ksk8VK1lZME+VZQixzcvc8gl0NCInmUY3pyDnuwHVRrfe7PA0HmTKk/ZvP8+fPt0Qzjx4/Zrw0ghhz3v+Hx919/LmxQXY+XkR2Cguj/qKLKqi7NdHcJOQlJrH5IPnvkXhW5bJIghSRyvzutqNZqEkgy57QQGkS/OyqBrOTMJHPOjAUIqX84USZAZs5v4DtyUl+ek71PMpkZXPejJaGIdg+ZSVAC7ktdJckSge6OypLlSH09p66uRjIk9NWsej6utZQKnPFjdR0ASPq9SL+/PR8eCuvEV9edRwL9JnH98XYVwUqF1Q9rZSBAv0W+ntcdtWKiU5flEQDqt8GrbO66UHVX7vfkf3NoVc2p2eXLAAAAAElFTkSuQmCC'/>"
      ],
      "text/plain": [
       "<IPython.core.display.HTML object>"
      ]
     },
     "metadata": {},
     "output_type": "display_data"
    },
    {
     "data": {
      "text/html": [
       "<img src='data:image/png;base64,iVBORw0KGgoAAAANSUhEUgAAACAAAAAgCAAAAABWESUoAAAB7ElEQVR4nD2TsZIcOQxDAZBSe2fWDhzcd93/f4YD3822BDjoHquKiciCHgmK/87HpK2q2OdraU4akhAbRL9wWImFxHvvOCRIAkKI/h8fAzYTeJ/naoe4CiAAffYyEybxXmvRZEgRTAL0q3aoIE72+bUZQ2BIgAH61ZsNmbGzXm4kDRMEAaCXQ5FGgHhnOwDEO48OyKLiBSS2A4DQhQk0EoC8wntfindBghbskMIi4b0DqRj+VRD2ebJVhSKTUCUGwA0prNdUCcU0AUrVcQAKMVp+/deAKKVKpkrKBUYTzfX1m3ZmKSWSUt0tkiQ6+0tFUi2J9y3J3F7IXueyt/kGf3tFkWSvTVAqAdSVT0jdWuhf48fPz2MMmkZP+zQQgshGiP714/OfpyzF5vx2+jSJKLEjoZU4qOoCd3VVVSkBAhhAfwyE0iwBJVaXJPNmBfrZLfUYQnRNn4CIyCDJfrBJUoz33tuBLRC816JnBIOEvc+17SQh3m+w5b124HsXHAPBdUSiezMAmMSBuvQep0ASPTMucAQ1jj1Hl0ABAUT0E5/P4xiKauRYGEcXeRWERD/r+/M4FKiAY2PMUblsC0n0Y34+hrBQII+NMbr2xZiQ6Mc4RtEARxzM+mh2AuTqpecoKdfvWCNDU6L9nin/AGQEKxcaUcnGAAAAAElFTkSuQmCC'/>"
      ],
      "text/plain": [
       "<IPython.core.display.HTML object>"
      ]
     },
     "metadata": {},
     "output_type": "display_data"
    },
    {
     "data": {
      "text/html": [
       "<img src='data:image/png;base64,iVBORw0KGgoAAAANSUhEUgAAACAAAAAgCAAAAABWESUoAAAB70lEQVR4nD2SS5IlVQxDj2Rn5qsP0RDsiv0vgwEjqKp3r9WDrGZshWQfS3/V4+1g4vbs9fE1x+N0sE0S6H8PXaUMgVlrjUeKbaEE+otjHZ4kM7PXM04QRAJBf05v5ChJ8vykM9WJEAL6Y/eiMyGT7Kf27aB7Tj+1o2KSADPZE5As3YI9QZbZS0p21gaJW5A0mQmSIkFmdnCBfjmUM3tKzsZiJsgG4F6yzHout3tTZSWyiwnIZLrN+jildoluS7JNCEijLvL5Xycqmy4LXI4CkkxX9qe191yHu8t3tpwADu09T5ckt7FFwq8bJGgy469jZm48BJKbpEC99mZUVQZU7ax955Mdqf+J3n/8eL26slFfn3kuIHKyY/ffevn9jz9PKIGO89hBhgAk03L2DHa3ku7GsplvlOo3ShNVH9ZsW5IQJkkk9W/hkKuP9giSZCYSSoLcr0kbJCV79syeman7U0j9yC4yiMzsPZk9yQhQJHUnWc9JkswOEv9TMlL3RCTozqwjbUvCEKRu7KPKdqQ6ruXr6EbfLNQvjN9er6sVF1lT19k1d+EC/QL9/vY4NRTSHp/dvjllUD/w+f7aZijVnvRxWU0gKPQLdZ5dGqTG4ezLcr5Zqy982N8FUqpVlpS716SF7oYASWavcY0SAUQ/ARkzQwdx5l0MAAAAAElFTkSuQmCC'/>"
      ],
      "text/plain": [
       "<IPython.core.display.HTML object>"
      ]
     },
     "metadata": {},
     "output_type": "display_data"
    },
    {
     "data": {
      "text/html": [
       "<img src='data:image/png;base64,iVBORw0KGgoAAAANSUhEUgAAACAAAAAgCAAAAABWESUoAAAB9klEQVR4nDWSQXIdRwxDH0D2jCQ75SrnYLn/OVyVWH+miSxGxpIEFwCf/qHO986kWjPX79cc5yFkCxL6k9Kykpli9n2PD3kkCUD9L0tnK6Mks/cVT7CIpKB+MXVPoWRmcr1Ss6snQhL0Z9o35QkE9pUjSSQLQfo3u6+UZhQIM/cOSLIE6jvsQeXkBpJ938F6RDpJZuQwjmD2PdgGSYgWzJ7B0sR2ZoLsABh1xezr7rInVWUSuTwDSOmKuV+fpfZCq4sg2yQxUnfE/Xs5akp71VORpBBJbeD6z7n3uey9Shn+ODAtZy6JSXSqqzST5KlRohHZclX3yG6HhEQOyrjHmU3N10l1X/c1IkiZuK+Ze9b7t4+z2cTn+9yfG8BJQv+ayfHz7x+Hypn4PF8KcggA/etK4eNYVJdmuttCzigK7kLy3qFWF7PLFgmqkET9HlMMtdYiEQqzdwuhQf0hR/VQmszOZO49QYBQv9mJSRCZ2ZPM3gnoMayq2ex7J5PZk68AEobQcg/Ze4ICeB13lf1AGbq7Sn+E+jj36+xqJEPSZ7Xab+dxtKmQnTpWewAg/V2tqW8fb0cNhTTjo8sRQOgfW1J//zhKwXKFtU6rGQj0X6/Ix9uxFKRi0FGH5dHzi481uJf9ZDNVPKtHfTBRfY3CZPYF9kMV+R+i81YIUFMCqgAAAABJRU5ErkJggg=='/>"
      ],
      "text/plain": [
       "<IPython.core.display.HTML object>"
      ]
     },
     "metadata": {},
     "output_type": "display_data"
    }
   ],
   "source": [
    "img_show(img_map(lambda x: img_rando(x), np.tile(g, (10, 1, 1))))"
   ]
  },
  {
   "cell_type": "code",
   "execution_count": 8,
   "metadata": {
    "collapsed": false
   },
   "outputs": [
    {
     "name": "stderr",
     "output_type": "stream",
     "text": [
      "/Users/charolastra/miniconda3/lib/python3.5/site-packages/skimage/util/dtype.py:110: UserWarning: Possible precision loss when converting from float64 to uint8\n",
      "  \"%s to %s\" % (dtypeobj_in, dtypeobj))\n"
     ]
    },
    {
     "data": {
      "text/html": [
       "<img src='data:image/png;base64,iVBORw0KGgoAAAANSUhEUgAAACAAAAAgCAAAAABWESUoAAAC60lEQVR4nCXQV25cRxAF0Nvd1fXyRFPUiJL4JQiQ978DL8GAYQKGAQd5GCa/1LH8obOEo34BcgrLSnE43dRqi5doMU8uqKby//7xQr8qAFPdrna534dhwEgFxZCULWtNCvQERH+h5aPR+6dpUwm3Jd2cKTpljIbQDHGX12nLn+3hr+FsY7usc++rLbkyiyT6KGnUY9JsOY1u1mM2aTq5hV1FJ0iZfs7j2c7d5u6dVMZWda4q5S7OwgAKIvQlHcylXD/stq5iNB2XdTJKmaIsKOWY6CHOw9Bst2s/2/v5/b0J09W09WbTldl5GGp8eH7+cLfmF198HXaf14en11zXDx9adteBFnroL8eTX75joGg2XddqNwdqFg2TTllrenUv++cVKp8kZ408XK/9uKxLSVpDYqZ+ulwP574PPk+jjpM/vp0FTD6UKUQBKQ1r7eWZOI69dROOr5eaVQreUdYK2gfbdDieUr1oAG75cpNmuShNEiBm6Izl3Tq8veZiyQAX+ex5c7+tuSAFBVDJuy/j6UU/KENQ1l/OYfXTqi61UIDRIMOP1v3529txIq0LM33/+7wu4Ym0goAMnbldbZ+1S0LFsm3c7dAnceLrwFAQTbMEg/OIN+eq+23x9n2/3n1kN3oNIjU7rcRN4/7t9N8w+u5e/vn9uP32dUfTZQ5iQt9Tz23vlEo5IoTrcO7rtkAQkCIFw0IN14nbktqCFayf/WpRJAJgNQCALInYZoW2KQrA9bndGBuCWIWYAVBOU+/BYoUAd7i5u65Q/kdSzALqVT+MUEqFAV72+9tjoYIAIJ0QM9EV+TbqzrbMHt47KFbBCwAgJBLaI/tBd1XDDDhwy8p7743CD3RKEyRyY8WzCLiNHn5wudKUARBpUdD2fKp7iO8Ph3419DQ7oxAFAOg9chQ86K6wXnqxtm2UWEvW8hzHVNB7AGlm0laxs+3Gftq2HJl0kjjMmYihSUofCwDcfsrHRVfwxIDELIL0PwZRvcvA6N3lAAAAAElFTkSuQmCC'/>"
      ],
      "text/plain": [
       "<IPython.core.display.HTML object>"
      ]
     },
     "metadata": {},
     "output_type": "display_data"
    },
    {
     "name": "stdout",
     "output_type": "stream",
     "text": [
      "7\n"
     ]
    },
    {
     "data": {
      "text/html": [
       "<img src='data:image/png;base64,iVBORw0KGgoAAAANSUhEUgAAACAAAAAgCAAAAABWESUoAAADBElEQVR4nAXByW4bRxAA0Krq6mVWkhIXUQhi2LDhe74wv5dbTskliB0rgWRaGokczvQ23Z338FeA6wxqJ9/O1xLi4pbk5HaNYxCVTJcLA6RCmQRARiTCnCK1XZ9ywwo8GYYlEmUlcZkuCaAwgrPOlQiYqQByLlQIEf0UnVdGsFwe3STyHFSnYrQcpQxQICdZW12tZLUKeWyFt1bXqgjDmFAlFYYludasO9Ns3EvdU76qptkY61nNgCXbH4BsNtu26ut5p9soVTbtsXeBgQPA4h+Xcmu43UolzRrFkiyKfn3IkZnPADe5Mua2ud2uMEBRbXbRL03ItS6sCgBIvdntbqq6X8BraQ74d9OLu3f3+ZQYIiQcxtkSqxX5y9kZfeSXLtU/HQ/Pf3mOPgaUL87OVgRjHx7x9qNYQva1IJpeA4dgAWMJaGcaqucvD8PP73G6ZIVNR9dx4eBjBug2u+2NQW/dj+fe2XEKriOy46lwIekxU1OBZx1tDEuZh7fzQITT6Y+vggmR0XokRCx+vPqUFzu8TBLc9PbfP5JJMkQMuQ2dMcIo3fYVRetKpBLOF8OcmKu5qNVh321Kshg/7aFkrNu2liITQ0KJRazuj3eHdWnbd7S9GznOtWx1MZuOQRJzeo3dapr6al+OrDgVf20iCWXaNQeWObnJPU5fj+87P4uec5jHSxOi0Lrp2VYiWidp+PO8/dSN8/0v9+H72MFejk/fPQnGGEHZgvPL6bLQ04+PyqQTfYBV8/TtOa6ZEAgAXJZN30p3Hv59EBtdUo4LFNJdxQjaJ32vfamb4zWr3qyrKs1ToPVKN4EZqBSn69qZfb/zm1F/3qEBN+kF+7sQmMHYnLEWNeTNtrSL+ryacnZzlc3NPgfJGdDNNYH3ZbaVVordGFKB6GBzEBnZ9yZfESEnTUBNLtNp9CmbRpBsFRRGgNJgPRuFdbuuuKRvb0PI4CCEqCkwlwyAswU06dyrZnn63Y5vC4B7fR1myqyzK+U6XipMSZ1vOv/ltyiGGRoKqzcpxP+J3NAFaxkxuwAAAABJRU5ErkJggg=='/>"
      ],
      "text/plain": [
       "<IPython.core.display.HTML object>"
      ]
     },
     "metadata": {},
     "output_type": "display_data"
    },
    {
     "name": "stdout",
     "output_type": "stream",
     "text": [
      "9\n"
     ]
    },
    {
     "data": {
      "text/html": [
       "<img src='data:image/png;base64,iVBORw0KGgoAAAANSUhEUgAAACAAAAAgCAAAAABWESUoAAAC8ElEQVR4nAXB2VLcVhAA0O6+fRdpRpoNMCTO5sqby9+b30oeklCpSgUCNhAMw0ijkXSX7pyDvyipUI4lxl4BACIAgANwEAhL5ISAyROLWVxWuZ+HYQYCg0AqAvPAXxyZQ2CdTDPU83iKBQxzcA4tGCmRe4NmzyYlO7j7QxdNVS2DVRGnBYGZATRqzNPsE76dkobAYROHQdXZChHZMpQqFSAtpibj23axWe37t1m13SAgWwRwRKxhubTZ+Laqtt51r4PakgsCI4CoNSFsLt5vu0mrqq7iIXCDLigpsVEBiFotzi7eNyiZwkqP0zCVZo0CiiwAqkNxZlmv54enuWqb0t0/J0Q2URC4kOQUZTxN8+3j70+nsLXj8PXUnPnRcxbgIqopUsyI//7529+n1YXLNIMfDTsFAAYBLUKKDj9f/3N36qI1jQ2EExg2qsxaDJARWJqXPgW/WkvVVo4NWl8KKyNmq+hFrWaz24Xd+XF2aMk5V6wCcsJMCXhydX/2gZpmFd4ehkPnnQULkIFVcR8RQp3xyq2vaievm9v+EBg9aorEtUTwJuzOTtsfP4MT73w9fTEy4tRm0MIXZbQz1qtlWx+fXlP49qpyzW5I3mNxlIFr9ZwwbFY13Pxxc9h9cusI9XIMSzAhF8OTFjSIWob+1+vbY3/ZEVBVF2Mq9tkRv2oWQBPT8e3u9r/UlliMSElQbMUuAL9gyYrkDotpLgXDsm2lF5Gcowc0wBNAUYF5OKTRbsL332zrYT7NQHmkhAjc6ISoiJr7g2zPvtt5TP3XPUrOyRtErgAyEKrmbuL1zx+vbDo8PXUVZkUkBAZhU4pkGc15e/7DZZBh//gsi207FxglMBBlUNU01WH304d30j28JuMXC+KAGS0jZCRHmPndcr2t5v3+r34whgoDuqiek6UiLgQ3X1oYX573b9dwMp4pASRAYc1WE5B1dBGPd/M0DPetdYuAoKAWhEGJDJZJTOxurh+7QZbrtqkqlgSQkf8Hq128Qwh23AsAAAAASUVORK5CYII='/>"
      ],
      "text/plain": [
       "<IPython.core.display.HTML object>"
      ]
     },
     "metadata": {},
     "output_type": "display_data"
    },
    {
     "name": "stdout",
     "output_type": "stream",
     "text": [
      "5\n"
     ]
    },
    {
     "data": {
      "text/html": [
       "<img src='data:image/png;base64,iVBORw0KGgoAAAANSUhEUgAAACAAAAAgCAAAAABWESUoAAACy0lEQVR4nEXMyW4bRxRG4f8OVdUDm6QtxbIBZdgHedw8WPYBDBiOE1sWRbPJ7q7xZmEg2X/n0O8cYGsEBQ4tWuuc47RVKGUwVSgAmAEEgtUMIrF1UVcB0VbBIvQ/ANCMrIGcGIQNUK/ecmqsTpi0URCyBsDwvVARJ9KyeEcm2hkpQysn+g+4TjsPBzOTYqYM4yVZiJa9AXrtuoEDuObaRrYGJB311KKhZQP0FLpdh2hWbrEfWSLBjcXHYBYLiemTG6aRcNtup7yPQ4zFcS8cQBRaYdNP/XCYujZfXv7K94fj8tzGAgrLRuLMEvQJ/XF3WNPl9E/KuV7+rjuEqc/RKhEALeulxqROS5UwYDvneoz3ErdsFQB04H4cfe2Cf0V3b+zSbalKx16y4wJAdzINd8OpNh2nnx4RnzfiMBgbmL8faH93X9d5q3x8eNc+CAcfxmjKyamY8RRgXJfzec7kNG41GroRxWJLRZR1iLTOsk8fL0N2E2u9aaIedTUYAYnDbuTSAk5zMTs+PE6nLwt5R0QAcobK/vXdvWyiw2HniDldBUH8sS5rCdygtRt6Wkod3auhvXx9/9RKE9bOSWQSNC2CvJw+bgfR6+fy+f3HOIrjvGzZkQOTJm60XK/Ve5nzp/d//PnSw9VcmxmamGnwwVGJvTqq1/nDp4seJp9jymtxQK06TYd9F8shUr2e5tmOu5/f+mUtzUAEM+2naTe46VqwPKX+mOTtrz/R+bZVZ4EhUGsp7nYcCmTuhsnf/fjbm3zNzVJjQEy/Bc9819tqLaXqhsdfHnxcaqseDED0heKczeKcz+dvyR1/2Le0pWzZE4UWVW92fvb7+mVLX5+/Rq+c11xvS/UgIjJoe6H19LSev82fL7M8DNzOsDUlgFoEoGNqvUpb0m29Na+hZ8nVzMCEBoO+yu7+8d1gs+6r1/71a15hQDPXO7Nc/wVx5cMdsame7AAAAABJRU5ErkJggg=='/>"
      ],
      "text/plain": [
       "<IPython.core.display.HTML object>"
      ]
     },
     "metadata": {},
     "output_type": "display_data"
    },
    {
     "name": "stdout",
     "output_type": "stream",
     "text": [
      "9\n"
     ]
    },
    {
     "data": {
      "text/html": [
       "<img src='data:image/png;base64,iVBORw0KGgoAAAANSUhEUgAAACAAAAAgCAAAAABWESUoAAAC+0lEQVR4nCXIOXMcVRAA4O5+/Y6ZnV3tStbhwirKdkIAZSInDvm5/AhiEheFIVBxlCUVFrZWx45mduYd/ZqAL/zwR7QKtQo5W3xADQFHgn3sDvzthz/oJZ8AY04pc/B+5asClRjBA6gNnlLhDagmY6tB7jxqkX3fx+bIQcHFkqfKiClGtZ5SvckFytgPj+ar0EkUZqqZB971ya6cx8dfL3rykPv4fB1bgyQcYOYL+3hXVsd1sbz/56ers9dr3RnfOgIoaIwqvzd5qAd7WZ1052+/e/UyPF3O5ycLyliBDCEn4g3KFjZd+81x8/UmXtXhdBOKGGUERH6TFof16vLxYV6eHXXH7l5qt+k4Zka0WBP/8LA4GfQmSQGT0mDuvvTrYLRIBYMGKr9Y+LUSscWS9hn18+dxXUvNVaUCkLJtjPQ7WK44TsWV+cuteMpSKkBVQKSp5ru/P+6Xz5aUFWHc9m4TqihilcrB0V/TcPH+9y02bbCqstuWzWHHKSlAEW4CfRj2l/9OGu8HY1ufPm2bZy1DjqmUqqqVMZrNa1eGi3hmXVPIOAc5FjFIhp1FfuPw2/OP19d/1nAaaD+K9ZhLJbbWBt8Av9qVw2MXbx5HJCfjKE2wFcC4YAUsK1mq1a87A2TckuJMTfDeoGmcpKzGcp7G4NhTSWpJoiCBAFlgGctU0HLa9473UVEKjve7scg8mmoV4jTtntTwzbaPu/5mbtYhjQ9j1hKjVcVS49Nu8sy/jIPl/vbp4CjM46QNBlQ1gaG/HWLTOv5Zi8bZHD4/JDL+NOBm2TIAxiwavDO8XSzAdN3JixXOpcUlLToHYMowRSVrid81LYoJi6XXCO1CDVPNhDXFDGRY+XvbaiT7f7MnqDlmSvOUkK1B4A05ZbJGSqE6T5hTzEVrGhNbx6hcQDSpKXGMs4wCKVWUomQsN44U+JOwTJL345NkVcIC7DWSYx+sxQL8WxWpOe4lgsGVUwWgqgqgtVZC5WtO6kWSAhlCQFQVMKh1BlRm+A+XMOPQcBGQGgAAAABJRU5ErkJggg=='/>"
      ],
      "text/plain": [
       "<IPython.core.display.HTML object>"
      ]
     },
     "metadata": {},
     "output_type": "display_data"
    },
    {
     "name": "stdout",
     "output_type": "stream",
     "text": [
      "7\n"
     ]
    },
    {
     "data": {
      "text/html": [
       "<img src='data:image/png;base64,iVBORw0KGgoAAAANSUhEUgAAACAAAAAgCAAAAABWESUoAAAC9ElEQVR4nAXB2XJbRRAA0J6enu2ukizZSZykKHiG/+DjeeCRB8oVyqEiYy227jozPc056ncdHK+FSgRjJSXb2/G66qapgpkXZwi1DSpkTlyEAcjvtiNdBAEATQJFs1fWSo5jBKXR2v7Dw5DjisBJgzOaVg3kkadc2HoN2jtCUAKm8sjWaDIuVI3OIE58QMB240eIS3HgfJ4AKHjfbQw7E9lVLtT7g9I/YI3KVV6VVEgrqlsHWG7MxfYffjqMsXUQl8EkjEVTMiKSJKe4FpvGc8jT8Y19aDdBrasSil7n1zEKZ/QVPP8JWxiPZ7vdmTJN0Vm62+z57yfz9aFk1/Dxjx+b3kMi53lamE2Nu01r88DNzsbbOI/TMOvKIS/DlJK0bUUo4vcfuzsavmvu6sdm8+AHKbEUJhtsS5d46Ey3ddPxm28Pn9ytaZSJEQG9IhChp7ou2YQqAWe7td2tMivcRJGw0RGAvld3DerQyd3O7g/euEDjYidhAFAiQKOsEmJV4+FeN52SbB2YwjJTZg8i1DuHytgiTb/GZfznrB5bKyWXJFHnNNGOcI7r+5uzZhlej3+9wuc+EBQQ0PROHVUabzC40AHm2+nf52OvN944RZQN5DRRhTLcbvbQVkHO7et/l8V4C7Z2xahlX2Z6ALgebwfqzPZ0fjleIThSZJxdAaTkRAFEsRKsTNuN13Pue8yoDSqtGRZUlADAFhKV1nF5n+uvDxiBUCyxYY6OEijdhIC8nM9z9Pe//oxvCwJIgcLaEwHo1tK+xrQwms2nXx7y6bpyTipnVECUBarGtipOrC3q+30YXk5jFOU5SUZNK4d627ZhfhvZ7bovGxxO72ssRkQkK02Ww8fPOzu8XEbuvzx+qtdxnZmhgAJNBaiP3f5xm95P51lM1dP5dOHCwlmpokgFOi+6c+fLt6fLqF/tbIZr4ZnRWtTWAHr1Ww7bOxnfBlCkLUlRDL5pm0CFlUZLz4oTFjSm9iWtSWyby7YyVitQAAD/A7LMr/C+mjwwAAAAAElFTkSuQmCC'/>"
      ],
      "text/plain": [
       "<IPython.core.display.HTML object>"
      ]
     },
     "metadata": {},
     "output_type": "display_data"
    },
    {
     "name": "stdout",
     "output_type": "stream",
     "text": [
      "5\n"
     ]
    },
    {
     "data": {
      "text/html": [
       "<img src='data:image/png;base64,iVBORw0KGgoAAAANSUhEUgAAACAAAAAgCAAAAABWESUoAAAC3UlEQVR4nAXB627cNhAG0G/IEUmJ2l1f1k6cBAhQ9Fn7ckXfoL9coI5re23vSuKd03PoD0R9d8WjBjCp0I4PDMBDln6pWgsH9N4JRTWhqEurVQlBFCk1DAC4AihJ59KK9EYh5H2BUrsN6xrvJvCtSEonRRUF5wXb8aA8K9poC1v6/V74YNbez1yRBe/nsr7tNGZgWWhdy/lLZxIBFNFkJB/0uylh1iwyy9JNO+nGJwp1Z5HMjJyt+EvTu3tQmy+b/Xz/D1yROmskGCuLIMh5msZhXHdfgrv8+eT4NvR+pqSHTMbmai7Ue5wdhK7G1/zrios6hhqUVgQwoApy66dsNxmm+v7U+Pl4mN2lYxpY0mAGnw43er9zBzHXwbmJ65amqDWRBoqyZKfRmvujjbD71x/5mr0soYOgPBAXxNLK4luQGsLnP3nQHPwySUhqFKm09GWJcVCVUD9ieKxesWweUiN1I5V6bg2Nd7Mjqi+v67UISw/z2Fps5DhM0oct6NmyJZNO/et8YZDTc4+jVnZ0gio1kpEOg/PF2F3mGYoUEQ/OjT1L1q0NKKub+unt2/G+MUE7AFB20mLGRCUXyQKSuLRxxwz02GNrQ+4aonTZeoriqlECpdBZe9e3sjaGsdnWLrltSxVYFtIKnUGql9iaaH+11TJQqSWiY3TjrScI38VnErXTY3rb0lKG/S15bmwIomdZNduQux0Opq2fTWQwN79hryW9rH+//Pvzx/GNfy1pPJiWpS1banYnkE0peq6Pjy/t+7e/2FO0jlraSlyXqlf1Lqpb4rKWKB868o3VKEbSeSsxJVV0UL0LKyVQl9U8sQw257WkGIS8BxVn5tl6Z4Y52sCVLyRA7zLZ1NxI2II9Hpyf482DPZwWw497sx9jjiUSWa/l49N8vVLDIV79PE6fJPyqye2GMks3mkadHJuHucrsvxfrR2hugALIT8WoRFacMVYVTqP/MU0K/X8qtNl9WL6V3QAAAABJRU5ErkJggg=='/>"
      ],
      "text/plain": [
       "<IPython.core.display.HTML object>"
      ]
     },
     "metadata": {},
     "output_type": "display_data"
    },
    {
     "name": "stdout",
     "output_type": "stream",
     "text": [
      "3\n"
     ]
    },
    {
     "data": {
      "text/html": [
       "<img src='data:image/png;base64,iVBORw0KGgoAAAANSUhEUgAAACAAAAAgCAAAAABWESUoAAACtElEQVR4nC3Sy24jVRRG4X9fzimXHdtJxyGhG4iQegSPxQMjxAgx6TQ0OFHu6ZSrTu0Lg7DeYEkf/UIAEpCj3frw193m2+PqM2stNvH6SFiJOMiRmWmPV3/y+xNMrw6hcawrNlMF2CkTMAfTOKhNB0tmh40WTUHsmtEppyyWyza30UtJ7YgzphgVSeIQpkhd1Xmc3u36HvMcz41XjFmBGelI61ghzWn307rCvu5fm6x/lFTkHJIBKlkgsjj7+H1adFt5ecmyJVcg4KQgOwxws8356vrzsP14/ngz+SGeFFBACIlIlpi517vf7i/6953413u/UpCmu6YzM/edhNnz/t+4PYVERJomiBQAEQHcSbuJoUGqCEvfl+/USAiAK1OSFHr448vfdHZ+Wir0aFM7JbgAEOTcita8Z/66vfhwNA9DkL/MqoAByOo2U12wT7q6vFzn7T93Otw8PygABWDiUF0qozs7/vCu3ew/PR49t9e94i0Fg0TgUi5ON77/dP3ki9r5QhOUAJCmlpzh3XZNw+N9rPHNbv3U1FM9AWRYQJhkc7Ka+OTnVXkdqaxntQQBnskUIJV6su5r6btNvb2aYrNShZBBnUoRykJuI7wZHWKaDtxt9P8NqaAYLVr7QmpGWHbDvm05FUCC0mZ0h+bM7W4IF6VlpVdHPCiASI4wnsdhJvGHgVCYDrXONNrDG7mAKArGMfL5sFvEBLNaU3pJtRQSAAVdlXr8Q6XjEuHjrJV4XYpaJgkRcybz8nI3FSZGa1E7QsmqAkKAbYC2ablalaqF4SF9j+Hu+qCcQglHhvk0tW4xkXCAShI//fpZVJPTkoQjmONgY1owSGSx6Pa/v1xopiMgkgyw2Yy0ZBKmNh01UFEDwEhAIiwCIBCCkyCL1eL2Xt9AMHsiIgIQZRBALFp5PvwHcDidEQ/mtlcAAAAASUVORK5CYII='/>"
      ],
      "text/plain": [
       "<IPython.core.display.HTML object>"
      ]
     },
     "metadata": {},
     "output_type": "display_data"
    },
    {
     "name": "stdout",
     "output_type": "stream",
     "text": [
      "2\n"
     ]
    },
    {
     "data": {
      "text/html": [
       "<img src='data:image/png;base64,iVBORw0KGgoAAAANSUhEUgAAACAAAAAgCAAAAABWESUoAAAC5klEQVR4nAXB23IcNRAA0O5WazS3vdlruxYHHlIVHvIF/AU/n4InHkgZDDjxer0zmpHU6uYc/Nl3mJvT54/1y1P3+cPR/fHbX6m7e+wvTy+HX3/pmFBz5GGWmud0vkvLP98maKpJrTxuQuDjzSZNdrxprhWYUdc5Fg+WIQuNHQF//HRM79If2lfa3B27LreNQ2KCqtQ1oLz/8Lie18bL6m4fb4bBdptVuW0RwDwTkfN5Smr5/Ga3N4364bANzrNDUCUE5DXyZfY+Pf/bj5TJOLDmvEZbpKIVoMtbEUG//vkivSapgCWXorkYuIAqJNmA22b6+p32bFWNipBzSOSp9cwkkswHd32V7d2WsVbyqNx4JAQfGiZdEzahXibfO8fODLlmq1LWNaljR4etd57Taw5+jua9t2Wt7JicUjUy3o0IDq5vRcs14sa5EmPTjYNrAiF4pQYrOJ3eFWGZZnGkUqqpSKXgHQNzNSRYFz+EMkOhhhEZal5L9Q1JYg/iWbPsT6cSc/J98E3HoFrBO5OVghSjmuDw+GOI5+x74r5nRCJDwpqIzQBSwsPjia6vmZsKobFqDkURLRECoOSMoW/j2/eMbk1mWUBLkqplYjawAmBkdb5M3PK6LG2OVqQYapoJEEkVvKYpKrbB53khwqrg+4CS6F0dGCDX5Rxh13OWJbuORdxmP6IAn3tS5WEbyiVsuSuLoe8CmOBmbLUSJ2pAcfMA8c3thz5H2huUMind3o2owD401fi4vL7/vfT3I2HXx/yWIw2b0z7ogfeDy8b3gCJ8e9q24k2iJNrvDp3MRHzaKq7VDbuFqT8EkOUyAfnx/v5Gv5urfGwyWkIbWcG7fP3v+Vyw724f9uMapWH2WkoVbUcu6iyWr09X32y3P9x1Ls65HzhqSkk7QKhG8cWeZ26Zu83Ga3zP5vh3Rcl8W3ROSPNL/baE8bDth2A5rrK2/IWoRrfxNkkb0BBt//DTLvS6rslI8v9/odhBBB0U7wAAAABJRU5ErkJggg=='/>"
      ],
      "text/plain": [
       "<IPython.core.display.HTML object>"
      ]
     },
     "metadata": {},
     "output_type": "display_data"
    },
    {
     "name": "stdout",
     "output_type": "stream",
     "text": [
      "6\n"
     ]
    },
    {
     "data": {
      "text/html": [
       "<img src='data:image/png;base64,iVBORw0KGgoAAAANSUhEUgAAACAAAAAgCAAAAABWESUoAAAC0klEQVR4nDXNy25cVRBG4b9q1z73vrjTxEHBkZAy4wUQL8fzMWEYLAGRYhs5Tex2232u+1LFIGGyRp+06NdNTWOfG59o04VeG576Oah3KaiAWOpCUoogmJkqUcrnl0khLs0qhSNpajcdj9V2o7mVmNnBMQGWU0jOBCIcnj4e9m9bWXz/2Hd1aeQX9eZUybNJ9MO/f33WVBXx6dPd+J3bF+AyOBAYIAhBp8fHd1T49PD3H+fLVUvsQAoxp4lJClfVmZpul4+/f/gnLbe7VqbnRCTmVBWcqPBVu95v9e7D5/rSXV8vq1qMUlBlJgiZcrVe7cr+y/j9j93N8xO7UqqEJHCeICBw69atHm7yT7+Uv10z1DxgxmreQSAmq2pNp9t7//5nuvszzElqYRAFYoOACVJUob8fL67ezVUa+oVcZFEDWQab5oTCD4eT219IsrwMYyYGkQIA2OkyLJlzH9av/elhgo5z1pgtKwiAIM/96BnLVL2i42MsKcY4R5gafwNhmirvc2paPZ2pVSJiMwBEANhcIUw1xdk3PM3UluIcGbEawQzsirrtKn05LfCFs7CMVHoYSAHkZOwcmbGDWdSikfnLA0oKls0XBGJiJotwzvs0pGrtw0ylg5plZsALWDhlqqXy9JyrrR8XX7OJwHJUOAE7pCS1Kzsfg+9siFUJQy1QVaiCSecpkVTdqlTCco5tiejFGQDkbGzLMMxGvm5LzP3zmbadAwHA14qO5/N5ydx0bX6Kh7666NigMQMAYDIPx2PfB6OyWe7507jbVCmnnO0rgMT+9HIeljloOt2mm/5NJ8E0RONvizhlsTANQXD8GA7Re0shhuj+X5iWW23D7DfN8xDz5WUVlzFkIjABIJHu1dX2bcvSbGLU/fqqDOMUGlYBGMpS7mQb3uw790Ne5SSr1x3KtnJklhhEKq6rN7kuqNullbpVKWUsqlEdL2qA5f8AsdK3oikodc0AAAAASUVORK5CYII='/>"
      ],
      "text/plain": [
       "<IPython.core.display.HTML object>"
      ]
     },
     "metadata": {},
     "output_type": "display_data"
    },
    {
     "name": "stdout",
     "output_type": "stream",
     "text": [
      "0\n"
     ]
    },
    {
     "data": {
      "text/html": [
       "<img src='data:image/png;base64,iVBORw0KGgoAAAANSUhEUgAAACAAAAAgCAAAAABWESUoAAADG0lEQVR4nAXByW5cVRAA0Kq6dd/U0+vJQ2zjOIqUOGGRPRsWrPhWFqz4BcQuQgFCZBHLsduW1W338PoNd6jiHLxAwy6xKZdlMRzlYbWabyFdx3A2mR3Lc8VTaxPHDPZo3LQE7lkn58Pwz00toIKE/LMldpapOC3/+3sbOzl7dzqt3LIFUkVE/gkcdBY5n/bXibStPZ5PRsLeRQUgAA7SSBAgSbjdtuSLkirZtW1Q8YAAfIdtwASgMLRv98bMprpuvAsSQQQR2BiIQl68hOgbnh/afTsgBESOERH4hLRrnNcsdU0M9uCINi7PGQAoBAFg6/1u1RWDnNYP68jjaWyRDERVdgmB8m+x223K7+e95uv1Bg4uB4suZwMxCjdoUPmPtN76D5N5evdt2Y1fHrjtLiUCVeWgSERpXmQHr8/H9PTQ5CdvB/7pEcioKpioikh5kffO3hxm+2/3tTl8lbrbB84sgAB7NYjcmA7mJ1lc3qxh+rronq41L4wEVI6oivS82uDRRNv7x5i+epPK7ZdQpCxq0BsFEPJP++ywL/Vig+W7F7S7euwxxkigHYmCUm/vRzOO60WdnL7E9aePVea7pos+tBgAkY59nA1Vl6s6f1/ur3//vJdmXwV0rsMQVPnI4dgEuNvGyXe4ud9OJyO3cbO3V1qjRjB8kuHIxmax5/lQut6PP8BIK74sg3NWAA2/OA19ifvKmwxDRzMEv2/Loe8vhRRBOZnVsZOdR9IQ2lZIpdXUq9ZdGlSUk6MdQdw64iQrskpEgxoQsqDKTMLJLGGKVcz6o+EMMudd6ykzkKQWjFHlbGZTCq0WZSbCaXTC1iTVYqNWEBHZDgJD8JjR6tPV8/Pz0l9+sP7rx9ss7QBBmNICMHSSmM2/4anaPMZxXlQPn5vzvAZE5KznswQNZuM0OuyDD+Ws1x+AGfWWuVPi0tnRuO4XtsgpH8YiCxcX1MwH9TCDVBT5sFz3h/e2r5wYhAjYCrhdh6lVA6TKX6p7Hm8WXc6EpIh++9evUP1ZJxAIDSr/snyUYdHiKGHCSMy8uEll41MIJEj4P7/+2XCgfKJgAAAAAElFTkSuQmCC'/>"
      ],
      "text/plain": [
       "<IPython.core.display.HTML object>"
      ]
     },
     "metadata": {},
     "output_type": "display_data"
    },
    {
     "name": "stdout",
     "output_type": "stream",
     "text": [
      "4\n"
     ]
    },
    {
     "data": {
      "text/html": [
       "<img src='data:image/png;base64,iVBORw0KGgoAAAANSUhEUgAAACAAAAAgCAAAAABWESUoAAAC3UlEQVR4nCXRyXIcRRAG4D8rs3qZnpZmPMgyiwkUdnDwiRfikXkADhCyQZYHWbOop5daspKD79/to98tR+ZSksKJudqBnBYaJ0ZlYJaEwtI1eUoQD2IHwFJer2AOkEoEALGnVrJvGIAqyMELAEC8OCaTMlgqngtXlE0BwDGYAVNhT+aslGy1rzxUFYCrpSFUGrSIdyCuOVfWtjWFJZlmrtlXgCu2RCkOKFE0WVm8zJdsLI0nJBbo5eskGQILUxiCglxUz00PEc2OEZ73k6TsAYcU5iWAp9R3npyrgjZeEQ9H6TOxEKSZQ7250cNh/7j/4cN3Eo8Px8NxeyuNgWTVFIupv/uFHv44Pp7D3Wqdn+4/zv1v7yQCMNexLqmvXUlGpilMNYfTSbZ3H6RoRqrI0nyR/Sfs7we7vrlar1yDTH7VSrACNyYc9i9Bdtv0OMBfv7ltokvJ0XonJIAjaJqeTjj93GVlAVEaL/NSX/30TogBkJfu6mVcknReMxvVgGOgXvff0jRKs4k+9rerJx8XJV/ZuvXQefgGMtqubjZp+756+TrOh/8+7zTFBOcgAgC+66t69fbV26vD6fHLsP90a9PTRcn3GyE14aalkOrbX98vsfc525KRDVy5AtGCLJzGJVf0qgvPF6V207e7q4ebFx4+bqQoM2HaPy/Ncfjbzv+eXdOuuy501315/lMFBQSdD/8M/Pm+QRwOofbQy2UCp/NfFxGnBicIYz5/8ZpIwc7Fw3n0bVgeDkLsmGXVbcuCHJOrq6br3SKxfj2l/GQCkJXi3/DrmK1Ys24r7np26L5PdjqOAiCpb3bbmIow99u2hNK04JXstC1FADD7lfdk8OLrvk3DmKb5yHLld5uTAJC2EmEPkXL5WlVpGoc5UtdvNvZjEgBlmY/eERzZ85G8i/O49NeqpWNVecmaY4IDGCpxFk+lKMKwxJEpZUkppykDgLfsrVgBSMyiSQFS/h9OMrb+Aeg58wAAAABJRU5ErkJggg=='/>"
      ],
      "text/plain": [
       "<IPython.core.display.HTML object>"
      ]
     },
     "metadata": {},
     "output_type": "display_data"
    },
    {
     "name": "stdout",
     "output_type": "stream",
     "text": [
      "3\n"
     ]
    },
    {
     "data": {
      "text/html": [
       "<img src='data:image/png;base64,iVBORw0KGgoAAAANSUhEUgAAACAAAAAgCAAAAABWESUoAAACz0lEQVR4nAXB23JbRRAF0N3TPXMuOpJsE6MKKcovqcBX8DF8NsVTqnBisCNZOpe5drMW/Znv+/1hkuXdTZ1qUahaLpbPi8nx414olGAoaY7Okata0xxbdb5m0wrpxKApzznfEjc39Sme325Jxt7BKQwk2VLS2i/XLNX5zrRsyTgMXVugcekEVYt0HJeZ1lp6XSJN0xSGIZHGlKLAVyLHATFtrQyIZeg/HMBDTFs0sDjH6nfHbvmRaPOu88Tj0DVIEC/STSLCOD485OW7Gvx+tFLKedNdn0xBXS8cWMbdrp/alY+fT/b9/LaG+0N/S3FbR/IC17Era8vnl+npj7tvX5+/zvv5aVq3tOVAJNy0d/mm0U2nz7+FGET16mOuK8AMldLQitXlMjz9esfzuw0POee0rc0EXqNYS0ZSltdz2t6fX/669o/bbWdLSeAQ6iZSDZp9mV+W39P7f690dxcpmNXGwlxW6RwMwbeI/adf9j2Px2ErIAM7HwJBiAAEOD08fvny4TyOp93lfLVc4MMYOnEEwJsRhtPHxxFJw/3pfmipGXwnTFKK+Zwox9Lmaz6/hp9pHGwh9j0RE8TMCkaudYu387Re/WpDKJt0zERoJmIrW+ZaCmnJqjHx8diDg/dMtbF0rirMiOt8uThF07B//OnGTOyKsZPgakJp1WN5u46llLLMz2etMo1SawcJ5s0Fnk7UEzettb1d/37vCu8GKhVeWETFQe6Ng8h42MRcCNSxqZHV6uCIVCH90Leo+9MRiQ47T2KAwUwAghkgXZv/7fgQtzdoV4MYqMAgIOYGwA/X2zc+ir+sNm+rJ4MBMKlmrRTHYJ7/aZ+q/TBHGnVCcmTOCVnTpqI+UHy1wPGS/IHgPeCrehEzhwqA+h6r2x+oRB179SGE4IqDkGMSAN2OlhuyGyd10660sGN4KCSYeavwvsv75M1xH5VYzAwwg/0PfIXQsHP5S78AAAAASUVORK5CYII='/>"
      ],
      "text/plain": [
       "<IPython.core.display.HTML object>"
      ]
     },
     "metadata": {},
     "output_type": "display_data"
    },
    {
     "name": "stdout",
     "output_type": "stream",
     "text": [
      "6\n"
     ]
    },
    {
     "data": {
      "text/html": [
       "<img src='data:image/png;base64,iVBORw0KGgoAAAANSUhEUgAAACAAAAAgCAAAAABWESUoAAADBElEQVR4nAXBx3YkNRQAUOm9p1Cpg9vTnvHYnnCAw4Lf4ntZseTYxgM4daxSKUvcy3+vyw1Nru+L7zrYHfIxrTbD7Eo75CkLTgwk8YKYYhDIbKilckBA1NzOKjKqAIUly2qMs8yj5ymYhkwAKUkwXokxhGCMs8H26CPxFIGbmRFq5TNVQgJgJQQfJs4mXSGX5MZQ2nbPDChOoGrIqXBWhS5qoXioTeEuk9mbokSmRgfuXJKSLVYsXlAIVcV9iuF48H1DiQZmnQ21MGy7Rq64MUxiE3cuWb76rI40lwmCC6CEXDWoi6q8U3CwOeb+46/DM3lvWApn399sWhZ3B4vLVZfXc9rNDfXDOzUZOShkVbXan1/+Og3X5cvyyhwrw2JhIgBEYKE2Uqp8fvoxGbENA2eBLxb1MB0phgIMUJBuOsKIWhCJdNpZWg7Sh0o+ZF5cyKJttFhvyetPd7cpGx9RMMs5uVxzMmffZ63T5c+TwQ+3H96ntyg6NlvIVBFSsFO2GYEN6GxdXsD74z/sdi1nI1qoAllKKRcqMRQg1Sp2+vfh4S02GOeZkWgz90xBL4Ibj/NM7VBrTSVbH3CASnJReHaotot62u/ep367AbG4mxjbyU6nQBplCINu1zLEw/2zWWvqFl9/E2PCVJBZOpjOT7VbX/ZgT4/3/vM16y799/TfPntVg6fRLcsbbLtFg6fz4ejg8elbz3vlX6vUyo/EZbEjLllFgSkiPz38gT/Sq3u7v+yulTekNfMCkrFFXlx9wnPW7jn5+XS27d1PZP+kxTp6x2S2EYevaT+W4epSzbuXdPv97gZ2K5KS6b5Amg66uR1Gk9tV60Inr5pfvnwsmxsKezuWnJPJ/mLVQF+pFUGotlPLFmqzodkYzmPlyYzrJSUNMtTj/uhSmXZUDp7SObUCY3Le+wOmRmvI0+E4Tojytb78TesIKwrWyqmEXQJqGsm8jf5cWrFLr0+0xrpl1jgPQG7KqLUmrLqyLKO1JlLhJGsODFpNrWcsAlNccL0mLREr/A8LGPVoQKgPPgAAAABJRU5ErkJggg=='/>"
      ],
      "text/plain": [
       "<IPython.core.display.HTML object>"
      ]
     },
     "metadata": {},
     "output_type": "display_data"
    },
    {
     "name": "stdout",
     "output_type": "stream",
     "text": [
      "8\n"
     ]
    },
    {
     "data": {
      "text/html": [
       "<img src='data:image/png;base64,iVBORw0KGgoAAAANSUhEUgAAACAAAAAgCAAAAABWESUoAAAC5UlEQVR4nAXBCVLjRhQA0L+1Wm7Jkm0YwkBRpOauOWMqC5UMYVgG79ba2897+FvKHCJYnCbb1hSDEjOglNZ3HjIKSAIFloRSCIEqIgBEtRmXjEACxvQZiNUUdW2ialQEICIANsRGsmBUI1lKLkueO69GC2ZhilMQVgFgATFqrAWk4d23UQsHRId9MMY4MZANGAFhJjjtd2BLKJo5hL8/ols4J5QCGkZkUpwO+yO3dV1VcHp570TTMEmeIyFSAs2pH85np1XTSvr4KzRXq3TphUgjc0opMQ/73cWwaxwMn/v1/UNzDgcCEsOQNac49pfT2bOrZHj592dxdX/bihdkEE7ETBjVz1AsKpuPL9+7WC7dMc2SkAgBjTU4GzFuvWoWU3cY3WZdC0aQpAAIwGUB0jbNYrOqzay0uf31to6QUTikiIhGOYurFuVqaVCj3Hy7dSkktFLDyQdkP9pSR1Qg0anbdwH8eUg9N6K84KCoYV7ThJ/YRR+nnLvtj5moUysTIRUKjOpt9EGVVd399rh/ehXQBHJWIyQESKjgFW1pC21WX0I/0xwNSVJkQgJkzmEKlbDlZIoqFNaO50FliUick0JONPe+jAFMSn4qr6/a/vsbSkUKIcUsU+I0zJDnYMbXp93j5vHm3J+sZEopp5hJieKUDSfV48tzXlz/skrGNOL7xKhEpasMgHXWFty//bhprpfaH0+ODOQQVMqybUzwauyisv3n0d7crbk/XCZhUSAj4mob52EGYDF+iu31dZPRByvb2ZWlkBgO3aXzOSbWISy/LgugHNBJQLIWmfVwfP7nHPoha+jil5aG0PVBSuGiFFDQOOz+ePPop3kaqofn7ueq+vgcIUtRWI6Kmi7/vRzVGh1OYx62v3N/+/42wEWySI4Y0W9fD7SpNhUMI+DwNH4+jjvCgxSiSQkRcXF3XzTrr62Jzd379j1Fm2vthXLOmQojKyNt62zZ2AXXD3/uZL3kMM//A852xEOA0U1CAAAAAElFTkSuQmCC'/>"
      ],
      "text/plain": [
       "<IPython.core.display.HTML object>"
      ]
     },
     "metadata": {},
     "output_type": "display_data"
    },
    {
     "name": "stdout",
     "output_type": "stream",
     "text": [
      "1\n"
     ]
    },
    {
     "data": {
      "text/html": [
       "<img src='data:image/png;base64,iVBORw0KGgoAAAANSUhEUgAAACAAAAAgCAAAAABWESUoAAAC5ElEQVR4nAXByW4cVRQG4P8Mt6Z2D652iBXswCKLMChseANeiudDwIoFEghlYYRwTBw7GLe7uru67nAO30ffz5adlcmViVgDrFuEh/d74dAq3LJatZiBJ1ZzYVWz2dz3AYWFCQ5Rna86azUXSy4iKcapWaym0R0EYtO661pu2cajIdh/H7d8djFbbsaSHQ6CBkqEQ46P2/r5/PG3Xzfd5/lVpSCGOyDapo+P7x/StKnfnKXbt/9ouLs+bYK6MpHBtIqPb39551Q++2ZeHvLr1+Hmr/6yqUcQAQZlR3tx2uputlxNvPjiO/z80xDhqnCCuUL7029P2v3vt526yslluGqcDEIAHNCM+dm65+s/pdI4HUbTpoXXehjbABh0r42B8n6XHVph+LDOTVMRZVMRsOuBQ1dLvr/be2k+WWz/WN/KfHEkuBGxu0Y6jOmpPO1YpV4/+/BDM877fhPEzAQEjYguadxMfWDtz2+ueDEn0zZEwN2h5ibiaZe7OlvVzs9nDT2ujEQVxQ1KIGHBMascfbOp3rwsf9/QGpLN2OFcByR0ZYtZo/Hpbnf21Zf9/n6gQKmAiJTgMSOZMrzsNwOv6TT/O19V2BuITBlAmSJVtbqVaTjQyVKGSaqGCgjEDGJOh9x06q5NGQYPxcCsbQUAqkTCaTjOlyEnnun2erofQ2NjNgYArUZiH3eHhVpK1TLc/Lh4Fz89k6eBZsEBVfY8HcbJ7ABdvLi6ve3Sy+fP4sOoHRxQK2kcs9RSjqVr1694U/UvX3TFEZhArsVLtKa/6Bspg1VfX+5L6NcUczXr3ADlQMazc53NydPxZLHyglCX5MiZAFJVuFHfihbuNKVQByG4BB/ySXBXuNuUApfolSCmKVYKt0iccxa4cgCOY0V5dOUSJ2fmXDhP0gQBSLkGjSRyHIp4SdnhqYSmJjEmJtLoVA7HQnFrARmNWowUWALgSWqosaBMiYyZWVk4hM4lMAMFcPwPNzGpVQxenW0AAAAASUVORK5CYII='/>"
      ],
      "text/plain": [
       "<IPython.core.display.HTML object>"
      ]
     },
     "metadata": {},
     "output_type": "display_data"
    },
    {
     "name": "stdout",
     "output_type": "stream",
     "text": [
      "8\n"
     ]
    },
    {
     "data": {
      "text/html": [
       "<img src='data:image/png;base64,iVBORw0KGgoAAAANSUhEUgAAACAAAAAgCAAAAABWESUoAAAC6ElEQVR4nCXSy5LyRABA4dNJJyHkHhgYGGdAy41VPoIP56v5AJYbN64U/rn8A4RcSYAk3S5me3Zf1RG/v6cTgIfpgwfMAvJdQRxTZ4FzdY8GKA0ASmNIgWEAGoQ0hAESTgtXgCA3p7HHGFwV6BHXRXitKWHhPk4QMHPV6aS1LktEUYAQfuokUsHjdgJac2o0Wa2pjAggSKvaEHKveXyZwLFVmnOTVbm5jQE0zdnfuFJ/pEsXzcPxvwtAXibRBg117/v+HPkHP7OcfHaHllMDUJgiEjkEAFPP2DhfSI67S9aca5JNBFCdv7Lc6+9XPrvjbnc5NQ0kSURJlUMNyw1Ss3DgsNvtLqcmDUhDigLKMQVvxlSCEIDWSqcKkk1IUUEINJm/xdjfDlfgweX0beInm80mFuUuF6LeXRPtzeWTMXeA7LXT6ixmhpGC1lWN1gQvc0NucOH4bd+cWrTOZ/GLn6vy7yJ4/uF5ZnRX+dvh2Tnu/zwedhdoX7RhbnVF/u/6KdjOjD1ysp6KcQjyIQphNgUunVHno2refvoxbTP5xONTfK71sQVqq6hRReUFGdNAdWWClFhWOVpy3nbEnqkUKGVET7FhMImEKQFGhShvUF9iynf19vb+0c+A63e0AZBOzu+NgrE/v1f3bLfL+pFL0Z77fpBks6y7D3cFFJZ3Hxnv99HXehKoAZB/3T1/rZLVNLsWgwhXXuisD+ccTNONcV35D/GvFtbS6nSKFTlmq2wnWhGsVm4TG1LeuFYLElVEQYkwNYOGiNpxHDEAEtJEYqV9UBohNTT1xR/wTKArzV4u8ks1A3s5nsL68+Y0r0MvIxo36KrwPo5yWt66bAC7En1WFtdR+jaWNY3t8Q4gDz351AbuQ98Wr9d4mqz9S6NvNnArI9nCbQQIB4Ku0MWxZO04ozMJhmrhIn8prK995/Pow/Xz0o4ftnE1pJY9tGYwkcvQpjJtwlB6y9VH2dtxPE96bcM1l6n8HzQYhgWKj0AbAAAAAElFTkSuQmCC'/>"
      ],
      "text/plain": [
       "<IPython.core.display.HTML object>"
      ]
     },
     "metadata": {},
     "output_type": "display_data"
    },
    {
     "name": "stdout",
     "output_type": "stream",
     "text": [
      "0\n"
     ]
    },
    {
     "data": {
      "text/html": [
       "<img src='data:image/png;base64,iVBORw0KGgoAAAANSUhEUgAAACAAAAAgCAAAAABWESUoAAACvElEQVR4nAXB2W4cNxAF0FsLye4ezchaDAgBEuQL8pX5wzzEebEiL5IMbR5NL+wmWeVz6G94cZEklosGgYedFYPVavFMfVWCA3DAzdzImysVeKnFzJVMe1R3VWWIi4hzCMYOJiIQHLpHGxopoxpzikAfa6hupVgcuG2aYLV6lOoBknqlGOtmZq2iT7zNWuDV0GAOltglttrA7ETaByPWE4QBUMAGaEpapqVwUIK1UHPWUfrArl3IxUhiCp0/v+jFVRiNoh6PGiQEgrAwwcybI789dOkm1ZYO9v1Je04EwJoBlt9R8tv9iU3PO9Py/P2HdlDxBrRtzd6mZXw/zezM3aEt3z7dnlRhRl6M1rxZLq+vx5IuhoErbU///XPaKerqQk18q0DbpuPRNZ51XMr08Onfq9+1rLkkRkEVhclutzXVFJHnl2+3jzc3mvPoTlDhLibd+iG9rXN1X8bTNC/cKeDu0hwkw/mOrq7jduc3N83T+dXhgFkDinekpIDEodsP+eG4zRahWv8Y46K9woNXoSZmxL1dplV0ODC8/ytRUPEeUokE3JaFgmlout8faMGHPzEFBYBGJAkgy1Rqa3W4vNxnlPrRnlxLrU0B5gRWAup02izqtpVT6A/jyg3wChXUwqJCdXzfnOuUl2Vs2FatAregyDMCYKhrSz0bIPBtfpqVACnNqFShADhc+rMUU/C6rj++vCngzWtl0pSiqrNI7MLZR0vzevx6d1SBmrGDQwze3KZxQWsyUCkvj1+eJyUxc2YSYsutrQ+3D+P8eq/0cvf1eY6ilQC4O5GvyzpP948n1OfPP+3l9rXStetWqTqbA7BtOo0nub68yP9/LvNxC7EnrWZgIhgZ11ra8NsFf4jvYy4tpCiiBWBygztYOgwpOsn2M7IQsxu0BwtbMwAcdyT7M0Fb3tfUq5Wc2y810dmktTNu7AAAAABJRU5ErkJggg=='/>"
      ],
      "text/plain": [
       "<IPython.core.display.HTML object>"
      ]
     },
     "metadata": {},
     "output_type": "display_data"
    },
    {
     "name": "stdout",
     "output_type": "stream",
     "text": [
      "1\n"
     ]
    },
    {
     "data": {
      "text/html": [
       "<img src='data:image/png;base64,iVBORw0KGgoAAAANSUhEUgAAACAAAAAgCAAAAABWESUoAAADNUlEQVR4nAXB2W4jRRQA0FpuVXV39eZ4ibN6NBmBeIBn/pZv4C8QD2gkNGIYERJmiWPH8dJ713Y5h/5CENELbuoqKBEspIJQdnrtI+1ensMSGuDBexuF0TPie6NAEMokYAgBGaMwUOYDFZqg4OiNzThDI6LoMACLz8slAPHWSxGbhHB0SMtYeSoZEIMzzZcZ3Ni2sUqzoATYEXkaA1LuDFOTi1LoFN6OO9JJOdSowCHoecrC8XV3csX1inkB8P3erDvH6go4Nq1i6SxST//eD6J4c3040AjazjJWd3WrI3s6heY8j7O42bBCKiISQuBXwPOr9xsWK+7q9fPlrdb9y+uoBbZbRt0L/BHHF9ePTzJPIkfrZmBnefXxK4nK9PThtxc5AbYr+14mNReRTCZiNUvD9ikUSVEeP/z+wCfgB670Yv0tRkLSi+PdMjo+vEaJDA7j83mhwQ1xMova986MMsj8coq7v9a54JSpqzCfaPCBenmWMeoqQ+nNArcPj66I5WRZXP481QUwGmyDJ8Fo39HsWn1e/9PkIhXp2dK8GGdAiHE84jCBqsXZ8tZ//XS4ZdibwzY1h2cHQDkJo3XlaKB8d8W+7LvVd/993mGT4Pj3n5WG0k/LtKb+FGY3N/Gnh0r/8BN9OPVVwX272WUwF+dlbvxhn5a30/3ne3JXlpMYrLDI1QwSyDGXdNxtzCRP7PPjNmMhTFZNSGfnUu3TGJxD21U7u7hbxd3R6lnJfD5Nm2JxSVttAD6KeT18OeXvflz5U/TWLeboGbVDSApj2orB/RvC6uc+nlxMLRULr333wgISkZZYYOchKoqoHlSuiWFRptA1dsMGOzjCjFUZwsU8DYNJSuiI7wYmPWfONONYbdchnHGEq5y29eDajSH9iSVZkkSyDxCFwzZPF1mAi2RsOmrb9fN4amS2nC9ihVwXql67HoHApT2Ynk5jZQwTkeJMCmpQO8L2R98xBrzaWZ8LlBRh0FmuiBm3A4nGdrS2Qwab17U/KxIihqGSzNb1jtOKeu9rkGMXCBz2LXqhBdW1qA1WpjV0IZhOkQgVhQDOEcETtJKIUVvCBQOeMAmCSBRDwP8BOf3cs655BZMAAAAASUVORK5CYII='/>"
      ],
      "text/plain": [
       "<IPython.core.display.HTML object>"
      ]
     },
     "metadata": {},
     "output_type": "display_data"
    },
    {
     "name": "stdout",
     "output_type": "stream",
     "text": [
      "4\n"
     ]
    },
    {
     "data": {
      "text/html": [
       "<img src='data:image/png;base64,iVBORw0KGgoAAAANSUhEUgAAACAAAAAgCAAAAABWESUoAAADKklEQVR4nAXB627bNhgA0I/UJ+pq6+rYnd0VWdYWGwbswfa6+9EUWJAmm2+xYkuUeJFEcueQv0iUMCX0cpc2zX/cr9bZuH8h9YIFZgIvQAkumT001BGwfpmsqoB7sVcXSWjGWTskYFhCfBWGcbD0w3S5YCEtgyJOAqvkoDGFepvYC2dZrgOd5p4HwTonjvg+8X3isLZFlUouEf1IBywMnCLhp/ZZ6oCRWSoMTZAtwksw3dSthWkizicpjWwzzkHspEI5ps6DWHSPXI9JQkRQbEs3Z4fHa7hL5gbPyq7ogPH1csYATbuHXVBG0aiuHSbF8IyPssmQWOKztKpW5vm1Mfm28hI6ksVDcfwbnwS/v0usnCLv4fNGsEPT9zaMYgq0/FpTh4IvJ+JLxZWJVg/ilnui5908EBIV1fYaYOXXdxV2/P1o6vvZ+UZD80JTISlDIEmKX5uPHzfq0F/f3Pnfwh0F84qYkskyr3211xATjY4QQjEkjr/qlx6yarX2cVIS30yj8NbAG6fJmq10YY78Zpcffvlty+ZjeAJhzxyfju/3n/M8Md1pFJw3cxC6aQoLd4YBwVhsL+Sm/BiBXVsx2bjS5naAcsGl8ZNERRgGjCWBR8cZZhJHMSiT0vH95bR32XJlMtyZcl1Fg+SNCYNqk1PZSTLzb9+umz+yNfyEv/pZjXrgbXOhm922pu3l0E/69bFnXpjKNZYyRjH1WnZnfzHqHnrOpaPLCtB0l+uIg5xPK8dV10hzFj9izQfN6uJn891evu/bJ/xnjzZBMbbneZxOMA7KYYVpvPC7J463C76dMTkwM181JYMRXTv5eRZVbMj12LMRcDn4ZRlTqHuMnVZDq1xx//sXGoqUJTgU+OcHb/clJ5PREYLoTCvNYr25Y47HcUZuEu9Lmm8qIkF5QNdSCikxo8OoaXxXk+gdQwJULJ2yAhyEDiIjpBQd6X4MC0thws46ZyTb29m5AArC1PyuT4WTz6aMfdnjzSPjMHkvInMOIhsJq7VRdtaNu+W+sKgjYgQS3tNIRSKCWBEYiZsM6HGmBqgDADNbZy2AAyBACXiOICOILEzJ/2tY7pBFvOZwAAAAAElFTkSuQmCC'/>"
      ],
      "text/plain": [
       "<IPython.core.display.HTML object>"
      ]
     },
     "metadata": {},
     "output_type": "display_data"
    },
    {
     "name": "stdout",
     "output_type": "stream",
     "text": [
      "2\n"
     ]
    }
   ],
   "source": [
    "grays = img_prepare_all(proc.X)\n",
    "y_inv = invert(10, proc.y)\n",
    "Xb, yb = img_select(grays, proc.y, y_inv, 20, img_rando)\n",
    "for (a, b) in zip(Xb, yb):\n",
    "    img_show(a)\n",
    "    print(b)"
   ]
  },
  {
   "cell_type": "code",
   "execution_count": null,
   "metadata": {
    "collapsed": true
   },
   "outputs": [],
   "source": []
  }
 ],
 "metadata": {
  "anaconda-cloud": {},
  "kernelspec": {
   "display_name": "Python [default]",
   "language": "python",
   "name": "python3"
  },
  "language_info": {
   "codemirror_mode": {
    "name": "ipython",
    "version": 3
   },
   "file_extension": ".py",
   "mimetype": "text/x-python",
   "name": "python",
   "nbconvert_exporter": "python",
   "pygments_lexer": "ipython3",
   "version": "3.5.2"
  }
 },
 "nbformat": 4,
 "nbformat_minor": 1
}
