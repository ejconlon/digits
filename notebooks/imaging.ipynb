{
 "cells": [
  {
   "cell_type": "code",
   "execution_count": 1,
   "metadata": {
    "collapsed": false
   },
   "outputs": [
    {
     "name": "stdout",
     "output_type": "stream",
     "text": [
      "ready\n"
     ]
    }
   ],
   "source": [
    "import sys\n",
    "for p in ['..']:\n",
    "  if p not in sys.path:\n",
    "    sys.path.insert(0, p)\n",
    "\n",
    "from collections import namedtuple\n",
    "import os\n",
    "import pickle\n",
    "import random\n",
    "import warnings\n",
    "\n",
    "import matplotlib.pyplot as plt\n",
    "import numpy as np\n",
    "import pandas as pd\n",
    "from IPython.core.display import HTML, display\n",
    "import skimage.color\n",
    "import skimage.transform\n",
    "\n",
    "from digits.data import Env, Loader, invert\n",
    "from digits.explore import img_tag, img_show\n",
    "from digits.images import *\n",
    "\n",
    "%matplotlib inline\n",
    "\n",
    "env = Env('..')\n",
    "env.assert_ready()\n",
    "loader = Loader.from_env(env)\n",
    "loader.assert_ready()\n",
    "print(\"ready\")"
   ]
  },
  {
   "cell_type": "code",
   "execution_count": 2,
   "metadata": {
    "collapsed": false
   },
   "outputs": [
    {
     "name": "stdout",
     "output_type": "stream",
     "text": [
      "loading crop-test-small noop 42\n",
      "unpickling data\n"
     ]
    }
   ],
   "source": [
    "#os.system('rm ../pickled/crop-test-small.42.noop.proc.pickle')\n",
    "proc = loader.load_data('crop-test-small', 'noop', 42)"
   ]
  },
  {
   "cell_type": "code",
   "execution_count": 3,
   "metadata": {
    "collapsed": false
   },
   "outputs": [
    {
     "data": {
      "text/plain": [
       "(400, 32, 32, 3)"
      ]
     },
     "execution_count": 3,
     "metadata": {},
     "output_type": "execute_result"
    }
   ],
   "source": [
    "proc.X.shape"
   ]
  },
  {
   "cell_type": "code",
   "execution_count": 4,
   "metadata": {
    "collapsed": false
   },
   "outputs": [
    {
     "data": {
      "text/html": [
       "<img src='data:image/png;base64,iVBORw0KGgoAAAANSUhEUgAAACAAAAAgCAIAAAD8GO2jAAAFiUlEQVR4nFVWwZIruQ0DQKntmezLH+4hp/x/VfaNWyKJHOSZTbrc1QeXBIkAAfJf//7TBtx0d5UbMNzea7sNAIBtgwZsAwBR3tm3hmKMMYYkhgB0tcu2TQK0PSJEAC13ETZgo9GV5Tb43rQN/w1mqGMEpQhFKMZQBACHXW53l7sBeohBmIJN0KYNNLz3rizw3OH/ANodk89rasQYGiPmnIpx/kbD9n3vdAIcgAADDQJUu93u8n3fmUnyfWrTAIjuaveF8fCw2w4yqAiJJAzQLu7ergYwaEcEGZ1ZVZm57nXf99q79m67u7uboEET3ZW1r5yaYGhes6q6u+ccChcqu7ruve57ZdZ4lwB8/w4JNgADbrt9eDif7i577/z66xVTrmZDIBqthtnZVXW/1tfXV2YOfGuDIEGKkkISSVEWAZskDZTbTQHd/Xq9ItXVaBCCaRlml6tqvdbr6/4bgABAggG23s+IAdl9VMezmoCrd63X19Jgl+kIjsHBoW+Azl25MjMH/F0cWpIUYo8Yz+tRVfgf7dvOqsUFITsz73AUu0af7hFECiyTIkUGOX7KDwPkG0Pj+Xx295sf0kC7994klaqqtW4xCAkSI3TNuAgIpDGgAUH6IfmUCJIiBIf4eFeNhwBnVUQAkLT3HppkCEFIjKkxNUjShCCIJs3hoxBSJCWySSoiIkgeAEkHQFJVujsUZBAieY5MiwyCcrONbnSj/PcNTNDnNNKp27tilGTCpHJLImWzqkUme1d3O12ZSSD33iv3zszMymESx5gOGwBA89gSgFPgAGD2fjMnAN1udu1U5L1qrhQHgb33uu/MqnKlh8EGYRAmoBAItVANgKKN06trrXXv0+d7725QjAhKJtsom3CjQcac87ooDQMNAJZNidKMAcOZsNvOzKrce6+1vr5ef/3+/fv379drHad+PB6fn5+PxzUiKImY1zVicETMWXu/OTDQBG2YBkk0Wd2dWZl7773utdZaa6+11yLx8fmp0OPxuJ6Px8fz+Xxcc5Lsns6CCKAixvHLwynemeK39t1Zudf9et17r73Wfd/3urOKGmMMxDtwIuI0/9mth6cvkn3lt4r84/xvU3O7qtba92vdr3vvc42NMhFjXh/Pp8XHdV1zjpNrodM0ADQ5gt1j8G0G5BHS2zk6s9autfZ9r71y78psN4NjDj8/Pn79+sXQjHHN63pc1zXHoIHOYwkF08a7RHyniul3luauvHN9rftrdVe3AcYYAV3i5z/++OOfv47hjog555xDAbt5rL1x2vCbZOMAwiRod2YeUvfOs0RnQYxxzY/nx2PMBkTGT5oZNoEGLDEUJMd3KP4Q8I7Io8u9du4mGSQJQaGYY44YBAm/NYKfRHHT5He6HIBjtu/XBujGztqr1u6slkSd7D7ZQds707CkiCAbwBiDJCnS3W13IIb7yNR9wvLbuV2d1dXVXRRNNtxuuRtYudZ/bgMkxxjXdc0xxwwSsKvKQJCmh3FAAbK6elee4mS3XfaqxM4IXjPmvKrr9Xq9djeSohRzXnvv6xqx4zTCmQLOZUeDIuPtkShUu6uq3IZBtJ17RYu8pHbnrmxUIxmMMc527TFqiDp13HvtvW0Pg4AMvb1UhIISAwpGcAxVE2TDWclj3SizUTJaKlYyASI4ABK99r7Xje4B0US9+1cGIcacMee4alZlldEnkpot0O1GN1tClTMpKS11g00Q7MaZp2qAPIMqjohFBmVe16SbNIV9BQx9uwDc5Sq3aZIa0pAiNEISzxZ7MULk+M78M22ZkhCEnx+PMTRmXI+ZuWD+ABDOylVpNMmIGHPOxxxz/vhRHlV2vxutz3REAmSIGkOMA5CX6/k9AIAM0ln52vv0J8UxZ1xzzDEUAklmleGu/i/EyrRCBj94qgAAAABJRU5ErkJggg=='/>"
      ],
      "text/plain": [
       "<IPython.core.display.HTML object>"
      ]
     },
     "metadata": {},
     "output_type": "display_data"
    }
   ],
   "source": [
    "img_show(proc.X[0])"
   ]
  },
  {
   "cell_type": "code",
   "execution_count": 5,
   "metadata": {
    "collapsed": false
   },
   "outputs": [],
   "source": [
    "g = skimage.color.rgb2gray(proc.X[2])"
   ]
  },
  {
   "cell_type": "code",
   "execution_count": 6,
   "metadata": {
    "collapsed": false,
    "scrolled": true
   },
   "outputs": [
    {
     "data": {
      "text/html": [
       "<img src='data:image/png;base64,iVBORw0KGgoAAAANSUhEUgAAACAAAAAgCAAAAABWESUoAAACOUlEQVR4nC2TS5IjQQxCQVJWVbv75nPbHtuVH6WYhYcVC+ItCOCf1fsMz/5+vVMAza/H9+MrJNCAoJmZcmVuAYB2WZvHNgAAEbRolXOMkSUYdmbS3GGk0RgSzdeevSfMAlm7k34wgoAhCjRnrTnlFqcn53rZcbkJMDIEmplyLos4H23byjnGPEoEwBAZMqoE83Ydpf7KlbsAmBHx4RA092itaTUrqQQzJxkAaXFetew8mvs2N5UE0j2IKIJqj31MNA/uTMENAD0iwNgE1H7s7BvQ0urJcCfN3B2MbRTOK44YM2vWHANHc6OZuwEBgPSmmmPNmbnWVjQjaUZQ8bEWzsrRx8oC3I0fgdFg9HBZZc7RV4kOWhhqO4AIgEZQgrmZUVIVBEkCGQRI1dqIi3GsnXOrMrMEmikMBHaOnnbGeeXurzvXWplVACwclHK97o52sHa+ucbKOXNXSQiSVet+vnuLOBzZ8qnKnbml/wHs/vp9zqud7bLCO1CqKkmAQtBe/fn7d+b1YGvZ3AAJAEggJOwc9/s98LOqau8tIwmCBBEF7b3mmrPNOUeu970AQcKnh/rw3FG5BjB+X2luJAFIDED0dj0ymf1513y+K9xobiipgiDivHJ15HDkvAeat4gId/5fIzNr3ol111pjtcvbeUY0dzLKjGzHo2pUrtx74/hux/fjcRBliOUwMY4v3XcfWWA7v87z++t0QlIMc6IAejRxF2CHG1XbKDNEsojPkz2wC6AJqFIVAPwDRcmksjQ5JNwAAAAASUVORK5CYII='/>"
      ],
      "text/plain": [
       "<IPython.core.display.HTML object>"
      ]
     },
     "metadata": {},
     "output_type": "display_data"
    }
   ],
   "source": [
    "img_show(g)"
   ]
  },
  {
   "cell_type": "code",
   "execution_count": 7,
   "metadata": {
    "collapsed": false
   },
   "outputs": [
    {
     "data": {
      "text/html": [
       "<img src='data:image/png;base64,iVBORw0KGgoAAAANSUhEUgAAACAAAAAgCAAAAABWESUoAAACLElEQVR4nEWSQZIbSQwDAZDVLY398f2uYzTqrioSe9BuGDdeyGQG+M+87pbn+/UzbYAcX1+/vk4ZFIFU5Hbte+62CVdtKlNBEiSSiuw9r2sWJHrVNiM1QiCFbDDkPe8JaaRV18UYKQoUmYAk9Jo7YjwOjl7zOp4rAwDINBTBrjJinE9l3ddauw2IBNLkqCBARR5H8E5XV5uS+DmBzDHOHmNkKiJYbQNSCkjT0PFVo+IYgW6QhM2ITBHZFvhAvDco776XAyLJiBCRJVjnyONa5Yl9XxXKIKWQgLQNDhJdc+291lpSkB9GOAkwQp2sed9z7TYzRIIkwAyKEQp17fu6V4NBKYhuEcgEpQ84YIO227Btg2CGSaK7maeZu/Z2V1W1QQFJEqie2/nIc+19vedec+1qA2QGAK/1fi+ep6vWy2uvdT92tU2niO71/v5Z+RxJz1g/s/Zeu20bSQJ1v/686jEe58HZr3B3d7cNIwH3er/+fFc9Ok/pCAE2ABAfk7Wu1+u79LsMdBsCCfzXyYZrr3nfdd1zJq/rLnw0fL5ouN0mu9a82u/vqyV+1BlIw1Qej9leb6mvP5czRemzJwnEOB9rba6b3vfPZObIyAwRTEI8nrvX7L6717xqnHmcR46UyDSZPM6qXl5z1y6cv8fj19cjCdO5RVDj0Xjfc+4i83yez6/nIbiBvFWEpRjVRjSYIwR3Fy0iF4sADCrNMiAZH9kAkYbxf0j+HUAA4L/ctabsy4fEMQAAAABJRU5ErkJggg=='/>"
      ],
      "text/plain": [
       "<IPython.core.display.HTML object>"
      ]
     },
     "metadata": {},
     "output_type": "display_data"
    },
    {
     "data": {
      "text/html": [
       "<img src='data:image/png;base64,iVBORw0KGgoAAAANSUhEUgAAACAAAAAgCAAAAABWESUoAAACMklEQVR4nC3RUXLsOAxDUYCkbCf9Zt+z3tRruyWRxHxkNoBbhcN/52eSNe/3UwLUGl+v1+s00s2IMPeoXHNlN8nW2g1zhjtAQ9BHd+3P3DJz18p9w8NpAkmEQDfknkmL48Do2s84j3AHAAZoblBmho3ri6v3XGuXANrvgnkYugWP43TfN7KqGmbmRIhuHUaaeUSEjrCsaoAeDgZgGOM41XEMN4BukCRzdydDAOx86UwfYd074U6CNHcHowno+Cc+S0Cp5kyLIEEzIxVNCMc1zmetrN5zbg4nQBoBRhnFGGTtnGvtlSV3AoBAIAgYzUaaaj1zZYNGc6q6jQin0c3hqsrcW79iUqtBIoIwI4ykx2iqq7tyZ7VAQ4RAg6oRF8e1O+esvdba2ZIYJIjOPYvDr6peb917z+PK6ibCQKDzcz/phxM9fT+VuX8jCgfQte73XVcch+Oj+yerqroFMQgKNd8/b/XgOGmfwyFJgkAEAPR+3j9/pfObTjcaIUgCYCGga8/Pc7e/VibWSkHqliQghFZX7r1zzvmRnns2jQCklqIhNQD3rDXv2c/fD8Lt10qIBmA+ru9srZvIz3thhId7uBmDgGxcX5WLOdl7PdvPGMcZ7v9rksdVypXcXXvvPr+P88/rGoQUAAx2ZAkza2VKflzX1/c1qEZHiTB6nMLz+SQMtMMd6jLKLJboRJHmEYelADqk/j1CsUQjJYD0AFogBAgASEYBMAEECHWXRJdEGs3c/gN3trWkbByR3AAAAABJRU5ErkJggg=='/>"
      ],
      "text/plain": [
       "<IPython.core.display.HTML object>"
      ]
     },
     "metadata": {},
     "output_type": "display_data"
    },
    {
     "data": {
      "text/html": [
       "<img src='data:image/png;base64,iVBORw0KGgoAAAANSUhEUgAAACAAAAAgCAAAAABWESUoAAACMklEQVR4nD1Ty2LbSAwDSI4kO90v79+msSXNkEQPSZcn3PAkf/c67wrO8/W+WiBtPJ4fz50QSRoIghAAAQBA0kgSAKAgzFzVc2ULgCTEqmoTACIIi+o5r2uWRHbVgke4kyQZLdCodd+zaG4915L58OEG0EIAzVTrTrpvAa+8GfswA0iGAHNjr9Xh22NH1LrmPfOHJEQ6gmqBPvbDbL17ZdW3HwRkZLiZK2KMzXp4Uy3RzMgQRdh2PE2xjXCYGSSBZh5kNAyw4z+7ynxYK1s0ALSIIKMIwR4W2yogq64pdzeauzsZTQqxhdt1ZarXvDoi3MzcnQgSpIdVsO6ZuVZVDCdpbqTiH3R2zuue2YKH2U9fjAHQ3GWqWvO+WzCnh1EtAOECjZAEC3dnCy2AkMRvDaAqV9sO32bmzK7KbIA0hANA1zwnhm+PlffrvXKtzBZIhIHqWq/3pbE/VHliXivnrGpJDILQOr++brd9D+aWL3VVZkkSAoTqfn3+ubc4/IjGK6ButQRAIbHW9frzeR/HL8ZWYT97BUAgGqic13Veuld1ZWbz34GIBrorq3Ktue5cr/cUBUH/T06gxbiR62rOz1eafwctAUHIYjuea1rdr7PX17uHu7mbJCkIcuyPnGf3PFXzvDF8jIgIAxiigduR655c6lyztiPGvo/v54kizXwcVVfWzFJx+zW2j+djM4qI29ogi/3Dzq5umO/Hfjwfu1NqxLQyCAA9xGrRNjOgy6g2/AWEH5wdd+xhagAAAABJRU5ErkJggg=='/>"
      ],
      "text/plain": [
       "<IPython.core.display.HTML object>"
      ]
     },
     "metadata": {},
     "output_type": "display_data"
    },
    {
     "data": {
      "text/html": [
       "<img src='data:image/png;base64,iVBORw0KGgoAAAANSUhEUgAAACAAAAAgCAAAAABWESUoAAACMElEQVR4nC3SQZLjOAxE0UwAlOzy3Hvu2zGWRBJAzqJ6/yL+5vPf51nOfK7vXQIlHT+fz89B0s2IoLsr91olgVTtFOgIJ2BEeIzeOZ+1ZQwr7NXwYaSBIEIwT+WaSYtj6Ol72jiHOwCCAZobOneHj/fJ0XvOtUsAjUSIFm6qFiyOl9m+kJkl0IxkgM7hJGEeMUzHYFe1YB5GhMxsjONojWO4keZWkmDu7kRApJ+fPtqPYa3d8CIAmruR0QR4wmeKLNWc7cNJkG4GRJmA8zieZ2dl5ZzJcII0EkS0XDbcqcq19lpZcCMAAAQCAM1CacpnPjtbRjODqhxgGGnmLlfVnmtJbAlCSyIRA6STRsA8ckityszdLdAQDtCgFuPEOLNzrc619q4WgCBAdK7VdsYrq9ele+95vLLUZPgveO5ZNgzqx/ede++d1RLCCHSt63vpHOcwPbp8V1WWfgEo5PP9c6GHnYP+HAapJQFEgEDv+78/X+LVNhDuTgiSADAEdK15X1/4Z1dpZwFStySBIaGr1lqrz2c+6utaIoG/mWig+3foXPOadX+nwo00QEI0IPo43nn3uoB8vosR7u7hRgYI+Dh/qhLrQe95bzvjGMPdzRAkiONdytlaXXutPt7H+c/nPYi2IGBmmd3anWtXN4+f8/X5OQwNRYs0i/ESn2dmy8xHhFFlFC222KY2i1ElVoMMAF3dDVNM0QwCQXrAWiAkCQIARgKuvwcSUEtsAaDR3Px/Mu+4mBoqlLEAAAAASUVORK5CYII='/>"
      ],
      "text/plain": [
       "<IPython.core.display.HTML object>"
      ]
     },
     "metadata": {},
     "output_type": "display_data"
    },
    {
     "data": {
      "text/html": [
       "<img src='data:image/png;base64,iVBORw0KGgoAAAANSUhEUgAAACAAAAAgCAAAAABWESUoAAACMElEQVR4nEWSQZIjRwwDAZJVLc3aH/drNzyWuquLJHzQOHxHJBFE8i/mdd1mud6vswSo259fv3493MzMg4AkmhmNEkAf8/n19ZgEAAUBM1NVdQsAYB5jjhHSJyDzqNp73dkAoKYAEvgQGgJt39da2SLQVTazfnAIATQq7+tuGk25Sx4jYCTJ/wMrzT1CK/d9jjnN/RMgXYba2ebjMRF1b87HdhNAC4AGh1owH4+Ddp9r76wWfk4Yzdw9EDHnwZ5e6G7g06FJyo9nhmLMEXJDGwCQZsZoEopn2dXmw9EtfeDm7oZoUpyDPnYD1bmy6Ua6RwQVIGjhgnBXbe17yUe4m0c4GQ4y3MKt953VmbeOGWHuEUZEgBZuhs77WpnV0hhh7u5mQDhgbqQy97ruatA83M2M5GduUl0lGiEJIj3CP3MyHIAqV2I84LFrNwSSgAAgHFLv+7wUz5jHvs/V/WMPSQTZXet1Lo7Ho/Z+s66qyhZIo4JEr/f3a4/wSe3RZ2furG4QsJDqfn//fuXX4zkOJk5vdlcLEKBo5X3+8/1K/NE+PVdQgvRRFoju3Os8z5p3A1C3aAA/2grR3ZXZVV1771znlUb7709AAKTHcKFyNa6/3/kxhSQJBM1jPtZF5EXT9f0ud/sBkAgD5vFch1CrVet1c0R4uEGCECRjHl+XWGtX3qvDY4wx3AgBUS76kX/6rrO7M8cRMY9jjjASistYsHgKvaoAzl9zPB9fx3AzAv8CjjyJwkAYfbgAAAAASUVORK5CYII='/>"
      ],
      "text/plain": [
       "<IPython.core.display.HTML object>"
      ]
     },
     "metadata": {},
     "output_type": "display_data"
    },
    {
     "data": {
      "text/html": [
       "<img src='data:image/png;base64,iVBORw0KGgoAAAANSUhEUgAAACAAAAAgCAAAAABWESUoAAACMUlEQVR4nCWT0a4bQQxCwfbs7k365/3btkl2ZmzTh7yiI4EQ8Hevz1RovV+vJQHg+Hk8H6cBZsYAaVbVO0sQoarVMKO7gcYgfbRy3fcqmVHILdD9IAEyKDP3nWuuNouB3TllxzBzAIwGzJ3KvRlxXr5Z7/uY1yHRiBBAd1NlufnxE6X5WSurQZIMAUaFSaBFjKP2YdVVAj2cIdDA4e6KiAhHDFO1RHd3CwAkxs8DaecIqJtmhEBzdwtBoOKhc8GcVXuWhZEgzR3RIqB4xjkzO7PWPXkMA2BGMAoQFccx4lO5c6+1O5wAQAAhUaS592atea9VTTca0eVAfM3MGKbOec8UzECgu9sZAdDMnU4JIA1CV1V2f6sBQAMk2rgQR3Xuzr32rhYQ9k3TyuLgyKy6X/dea56ZLQUJEMq8Z/I42dovrbnXWru6LZwApT1fr9uvYzgy9uuuqqpuIVwgu/fn3995xHmcXv0KdHe3AAQBEjXff/7Ma1x2RA43QpIEMABInfPz/nfn9azu6v6K6haiAaEy51w37nuGr/ddBARB6i/Q6pZUa93A/PupMCMMkr6AYHFeifyMu9fr0/EdixtDAEA/rmflzvn2XJ+pGGOM8DALAoDjfFTtN/NGrpV+nefj188wKEwAwbNa7aW7dhfifF6P5xVUBVuEQ3E8EPeaq2U2xnBDF2XR1aDQ9BinBC+Aw4Cu7iZi7gadaoK0AL0BkwAIIGOlQBHfHxGQhBIkkmb2HwOJs8Euj/29AAAAAElFTkSuQmCC'/>"
      ],
      "text/plain": [
       "<IPython.core.display.HTML object>"
      ]
     },
     "metadata": {},
     "output_type": "display_data"
    },
    {
     "data": {
      "text/html": [
       "<img src='data:image/png;base64,iVBORw0KGgoAAAANSUhEUgAAACAAAAAgCAAAAABWESUoAAACNElEQVR4nC3SS3blVgxDUQCkpGc7mXfGWy5buh8Sadh9dM5e4H/PM4k1vu6nTLg63z8+/rlEhUSk8vBa45m7IbFqb0PJTBgUEorYvcZYkI5o7XUzz1QLJJGGQq41K3S8Th9d8zlfZwYIgAkqhNrbEcf1Yu7xzLnLAEUiwUAEDDDyvMRxoGq3IUlkQtAZoUDmkak6ktXdpiJFpEnG+VqBvI6gDakBQ4oIIt1CvP6NUcrA7rkdTZCMCJHZNPgW57PKWKvGqECKJEMCskTHdZ3HPcauvebcPIK/DUTapFLes9eYc61qhAgAAIEkSUkZ6D2esaopSEF3BcBMUhFqubtql2F3w3bbJDIBCSSgPNvh3u7ae5dBCimAcO1mvuJcu+cz9ppz7WoDv4PyGFvX8ba7nqh7rXG+dtlmCjT2+vp+cJwB1I3nrr3X3t1NpAjXer7+PqHzOuRjfrKruroNOElWz+/PP+OIS9fhvlJt2wYAJODe4/vz87nOdyuapBqAf6TSRu/5PPe938berLkKtNtuA8yGq2vttTDGyLW+vhf4Q+02swEbVAp73ub6+7WkkETYdhqA8vqoqhrfq9d9b0VGKEIik0Dk9Vp7Ds971npGH8dxHkdmiEgCPPq9e4E9sNdaOt/P18fHFbSRhiSvl52r5t7diOv9evt4OwNuZgEg83TrfqbB5HlkCF2EqRxQwCYVeUJtMAW4u7uhzkkGYJiUEt0AYdi/lGmr+XM/wC4bMAxSkqT/AQBkqdpsQZgUAAAAAElFTkSuQmCC'/>"
      ],
      "text/plain": [
       "<IPython.core.display.HTML object>"
      ]
     },
     "metadata": {},
     "output_type": "display_data"
    },
    {
     "data": {
      "text/html": [
       "<img src='data:image/png;base64,iVBORw0KGgoAAAANSUhEUgAAACAAAAAgCAAAAABWESUoAAACLklEQVR4nD2QQZIbSQwDAZDVLY2evq9d21J3FYvkHmbWxIUHREYg+U/cM9hxfz6zGiD9+Xq9TjVIEi7zrB3zXtlNdNam+zDjT6FaUsW854ak2hEtGzYkQIQ3YEKuuSBzx8x70g/nAEjBG5KQsVLyx8lRMXE+zlEGkvCmfAtZZTbOp3zfV8TOAkiADpiGAZRsHKd4eGdWgZREOADKz0e3H2OY5EJ3A5RJhJeKOl99pMYwVDUIApTZIODVaj5oRzRUUXO1IJJyNwGeavhx+LjWzt173Wlyo2RmJBwgbHTt1bFy74htbpJMJgAuURJM2OueEdktN5IUQcAHKDcY9l7zntmQyUxENwC4ARLR3RABon/e7gYBJyhU7tLZtJEZ2VVZ1Q2R7QawImbAn+OMvT73zoid1aRAN3TXvj9X2kDvvJQrdsSu6m7Cyc49339uPI/DkGdff3LvyOxuNJ1Arc+vX7frtKeX3YNdVVndaLQ3cs/373/vY3xxHLVcABr/nxdyr+vzufZXVHdVFkECIAnCqyt3RATXill5XdF/ASS80A2as3NPMX6/FynyBwJn0/x8rkDN9+p4v9Nkkn27hJP08xHrzlz3zHVdPeTu7hIAOMhxPve6J/fVe63w08ZxjDEkEl4m2nhkXTs/OzN7vMZ4fT2HfROiDNB4lK65IkE/n+f5ep7O7m74NLIByEfDq6HTTURXogV4tn7EyYYKoBqoqip8rxDZ+M6Pnb+au4H/AMZPkRugkc/3AAAAAElFTkSuQmCC'/>"
      ],
      "text/plain": [
       "<IPython.core.display.HTML object>"
      ]
     },
     "metadata": {},
     "output_type": "display_data"
    },
    {
     "data": {
      "text/html": [
       "<img src='data:image/png;base64,iVBORw0KGgoAAAANSUhEUgAAACAAAAAgCAAAAABWESUoAAACK0lEQVR4nE2S0a4jOQhEqwrs7mQ+fX92NZObbttg9iHRaHnlIBUc+E+Oe8D3vH7ecxcA2Pl8/jodpIkOACD+FmntOI7eVEBVSZSEjIj8zAOUTCRBVDkoj7XmvFdWEVWbLbOqPrjvAm3lvMbaEJERSW/dAJCEFyhhzzE2TY6oOejerSSQ/AK55qKbnwqMdXmfToIQvSiYKnNLfj5aYK455icySQdEFwo0b/1sGccrInMXSJJe/Kyebq311tgMu6pAUiJ9A0B/poW8NeP3agVKX6DAA2yzaNq1YkMkSZkb4FWF3pr5vRKxc40Fd0nmzQ1wgDRXRqzMXblGqDc3mZkLdCNlRmfFmJERGTI3mcwkwB00N7JizXus3AW5m2QmEuUCJQKZO2POXRRkZiJJgBJJ7IhNb+5uQhVkIj72XQAy5kh1WBux5kd1FQoE3FC11nVPNO/njOt1Z0ZkAZIAV1Wu6+cKP5w7VttzRkRkFUjAgYrr9fuqR/due3K8KjMis4AivPa6f37/ewkP9s65OlG19y5UAfCdMa/X61Jbpaay/314seCZMccYt82VtSsiih9ZJPGRVXvXZmZM4P1zJz+qxW9IyY9jsGK+R77/XPltgSDggvXjHPeudQXy+jNpLsmIAlgu9nWu0RfinnuNd0ju3kxAFcph8H4+x2DclWsNdfPeW2v+CZlV9OOZ18wrcu99PN3Px9GbmQj4TWzQj6odEYQfv1p/PB7dhALxH7eYiwyxjgtkAAAAAElFTkSuQmCC'/>"
      ],
      "text/plain": [
       "<IPython.core.display.HTML object>"
      ]
     },
     "metadata": {},
     "output_type": "display_data"
    },
    {
     "data": {
      "text/html": [
       "<img src='data:image/png;base64,iVBORw0KGgoAAAANSUhEUgAAACAAAAAgCAAAAABWESUoAAACMElEQVR4nDWSQZLcSAwDAZIlqWdiX76/tT0tVRVJ7KHXOGfgACT/rfksMOf7facAAMfX9/fXCcDMECaPqr2elS2QVZkwCzqNJEMwj6o1ny1jsNaaog2OAGAMAWZUrlW0OKI9n9vGNVwAwZBobqq9FX68TkXlPec6hwASIdDlpmrQ47zI9e6d1Z9qhkjjMNLgMcawPlzd1aC5GQMyWozjIo4xwkE3SgLoHsYQBPj1D1dHDLay6QRE9wgyiqDsZTFTZHU+S04nSTczRkNEHMe458rcvefTYW6kmRsRTRE2Ap291s69M204/w/CQNKMZej9zLWraWZGAAIQTtLc6azca84UjKAZ1RIZA6AZSYBmZi5B3d3dEg1hAAh1yY62cVbt3ZWZ2Q2QH0BZcytex5W175+Ze62sbgBhIKS9fu7Nw9C1f/fae6+VJekDdK33nzuPOIZpcf5ZnVnVLSEIQvn8/Hr3a7yOkyt/uVrqFgQEAPW+//z66X61D1M4CQkACIQg1Z73+6f92d2oahD4ILRooKv22qvmXNNwv58CAEASEA1IEsyy9rqz79+P3EkSkhQCRB/na0v7Juv5/SjCP18KQYA+rlft5H7QOe9t4SPCI8wYBIjjyl6rtbr2nnVecX5dR7gBIZDB46zG6j2zqu38Pq7vrysIKfLz7riE5547mxbHdVzncHZJMWFJNGkRQxwN+CAhlRHq2KB/7KH5YDVgBNQtSW2hj1ng33GAlgB+HOJ/LlKrmjLqG0YAAAAASUVORK5CYII='/>"
      ],
      "text/plain": [
       "<IPython.core.display.HTML object>"
      ]
     },
     "metadata": {},
     "output_type": "display_data"
    }
   ],
   "source": [
    "img_show(img_map(lambda x: img_rando(x), np.tile(g, (10, 1, 1))))"
   ]
  },
  {
   "cell_type": "code",
   "execution_count": 8,
   "metadata": {
    "collapsed": false
   },
   "outputs": [
    {
     "data": {
      "text/html": [
       "<img src='data:image/png;base64,iVBORw0KGgoAAAANSUhEUgAAABgAAAAgCAAAAAAtNefkAAAChUlEQVR4nE2Sy0uUYRjFf9/rNzna6IzmZTQvpQ6ipZk6WWZalou8hVCgUESRtHEjtahNiwqjP6ACqUVEhUFCahBlWmg3ycbKW87gZbykSY7laI4z+rb4IjybA+fHA4fDo0iYxzFoNk+O/XDIzmH0OunZktKsSPpsO9KWbGsZQcCzrjnV4+j9c9ioADA9kQ3NpQAsfn3eshSYowLwMwsogwtr3qwEq2hbEQPaRWOF5pquJ90OMgkA/Fmvi32+wGQN7KVyHXjd1zMzIkxAvJEjVojQcpk3Mzv2XZ0HRmlVugAFwMWUKSgqQgC5eAaHO2AUwG4aqfkQHZEogHoanb7ttG8FKpJmbn30GJYHVbBuc/0OLQ5xFwI04mgdN6/ZZwXcp3VDZvpiEMApaFrSh1vDQgQnLTZfevQDAwDV3HxsCFNHg70wKuv75SOtaaOUVfgLXWjuPmGO7eywj9RpoAJ241lLXjU7RYfocg/c7dHAJTAegKmd2csiCd1C2NlDGrgyRGV+HHNeczjSsUupkzL1306t8qXVHBxfHYcsBv9ar7Q91HY8I+8lbi44tgkZCWSUt0sphwDolgUJlcWoi1mOOFPcp6tTMfmWL+lAQ2ba/KQXtctQJG3G477Oye7atP2vIIAIr9uM6HHOtry7M1yxJ/VXHyWASuRyWhHqdELstJO6zBPYLRQCc6RsdAYg2kRSKXD0IBZIBYzMG/RvEOOOlZIooE2p8fACCKdhzOBGiOFuXRMAN/RKOWBZmIzXW+LFqneiP7lj3Y+ob8MTVqIWhE7h8rU83//8SeDTqd7g6Dkh3PZvbZ/9ZBkAMbLcNehy+cUCkHP6vE3K91UtUkrZnw266nP8BffA+bXXLkMDAAAAAElFTkSuQmCC'/>"
      ],
      "text/plain": [
       "<IPython.core.display.HTML object>"
      ]
     },
     "metadata": {},
     "output_type": "display_data"
    },
    {
     "data": {
      "text/html": [
       "<img src='data:image/png;base64,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'/>"
      ],
      "text/plain": [
       "<IPython.core.display.HTML object>"
      ]
     },
     "metadata": {},
     "output_type": "display_data"
    },
    {
     "name": "stdout",
     "output_type": "stream",
     "text": [
      "3 (32, 24, 1)\n"
     ]
    },
    {
     "data": {
      "text/html": [
       "<img src='data:image/png;base64,iVBORw0KGgoAAAANSUhEUgAAABgAAAAgCAAAAAAtNefkAAACLElEQVR4nF2S30tTcRjGP+e7s+bmdHXc1F00taWUSoFCRgoNrMAuqptuUogI+hO8K8qb6Ko/QAi6iYJuA0mTsiQhL1Jb+aPBzDldW/7YyM2zs71dnAXic/l8eB5e3vfVoO9aW7+XA7J0QIfuhp0vfufoTKq+zf/TuOyYfdZ/9aZHC24M9rnn0y9KBzMM3dEgZBhL6xzSU92z92st6DPTh0Cj8jYj+7/lcELXq11QO6Km3iQO+ue66GyFUExk7vbRrocb4yMRF0BfWfcuQil5gjN3e3y3aLzQ3PoyB0ENuDj6ahDui4jIdQDtuYgAj+OTHmBLROYAUCIiCt6Nfd4D3kNmCoDykyIomJhwOIAkxGbsmdIroADL5QQCYH6zgdsApQJNLHdAcwhWowAcG2gEXaVZvRSDzvPw1QIgrAPKq8CqB4HSrN0UPgUoFYBcCKrKRD/YoL+WMqqtCRyaH7+i2vZr9qGMOh6AfC6DB8J1ABQMyKGOVMFCAc7C7h8Ain9hPsWVAUDrGBaRdrvKNyYiQqQXYCgh8qhyi9NlERGVzwPEJ6ElaAOXRjG+oudNgORuIZvesIETHNmgbhYAMtvTxv8HypYk5alRhb0QkH37YytfAT7H+uudkorvn2wBlvLLaxXQsxnNLGzqmGYRKCTMYgWUF79/WnDr9el2XwJy3m6J2kvs7X3wkTq9KKYFEIgYDSPjaDJ8w5mEbX0bywIIGoTvRTqj0R434RjT/wBpStpgRkbbogAAAABJRU5ErkJggg=='/>"
      ],
      "text/plain": [
       "<IPython.core.display.HTML object>"
      ]
     },
     "metadata": {},
     "output_type": "display_data"
    },
    {
     "data": {
      "text/html": [
       "<img src='data:image/png;base64,iVBORw0KGgoAAAANSUhEUgAAACAAAAAgCAIAAAD8GO2jAAAE2klEQVR4nH1WW5LcSA4DQKbUYc9cey6xV5jTrT3dJSlJ7Eeq+uF1jKJ/WlVBkAAIFv/6z9/4+kSEKJq2u2bVdZxznrPP6m7btLstaYxBAWgSYx/7y7ZvW6QoQAAJID8Kk4ABgABgu7ur+rrqPM7zcc7jmrPcDbu7RI0cDEAQ+VIb3AKAVApAu91OrKoECQMwbBuGUVXXnMdxvj0ej3/ezrfjPGfNcnd3CRiRTDKYqet66SoS4J5IyNec15y5OjY+6nbbLjSqqmbNWdcxj+M6HudxHNd19azqpp2igpHKfRilwNgiMxQicD7O17dHfmafgOFy0eAahwC8prLdvf66q9zdAIUoGb4y5j57Tvd0h82qqjnT/KIwie6CSRCgyIgYmdu2uQwzFJ3zuq6ahW4CAmXDveSBvZpCA0uDrzMATZgUc4BaHCpjbLnN/ao5q+o8j+u6+iq7ReRQ5GAoIqQkBLvbc3Z+ah03KW4CJCMUQiojRsTIHDWnq9w+jsd5HPOcXWWUhBihDMYCCds163FrYBIkb3sCxPqfkhSiGKEYI2qW2+iOpIRTqppGRDBGjLFHDkVS0VXncb7+85q2cbvzduy2bSES7u5rXm5ExP6yfeNLVV3n+Xh9u+bx+vbz7fVQcNvHtr/88eef3//4/rJvEXFd139//Pjx8+fj8cib9wUCA5AkEW67q9ttBUMcmRRq0ujqec3zvI5EbEilxsu2vexjDBLzuo7jPM9z1kz+YiPYrrZo2+ByCQC0XV2zepbLsAUKIkiAtN12ra9LkkC2P7no1gBwe4n98Ybo5453d1W1gdWZiBAlSiRJLh6a9/c/XPQxAmw015tPr9t+Lll32SZIKhQRkbq7vos9e7vDTiSBvsdgG7RJmoQJisAKV1e57lQFGFKmckEw7rrLlAsy33l4CuDuMkkFfMt+z252o6oXAEBSpKSICIl6b9y3gAzps4UIE+1uuw2bJsl3mgy3qzxnr1AAKEqhe70kfsouEArls/o7BmTAaHgNFysEDZjVqNk1290LVIqIjIyIiNBdhIYahKhfXWS4acL3TVpLDRHsO1FdVd32XUGhEIO8hTQM3s3VfYI+QBZH7pv9pwjgwgPYcPetwVNOSgqJ5PMsrjB1/wJAkOB7/L8vwVMFVnd1Pz+5xf/8+D0PnsJ9ATAMWClKTyMoIii1fZ7XeV5VRXLOOa+Ly2yKtQEmltKS9n3f932M8ZUiwMt8uu1GQhLEcs95VU23SXZ3dVOSGGLEvQJSUFJw23PbR47xy8H5Cub7t8XyLtCkQTeaITko3upqpT1tGEQEI9am/Q6AuBPQzwfVz6u8tCERy/7PXHt6hLwXLyNSGb8B+Ngs3kPAhftsGGiSmWEzM5ZCeDcCISiYEcixbfv+GwBR7z4ijO61fGBDliBxjDQ6khFYZBBCS7qXUspt3799+/4ZgPBHEL471fe9NukIRebYWjEAZOa275mfAs3va1H79tLf/BXgk8D/z5ukkVlbA91NkpnbGCMi7hSw3aBEQoF934mvUeG7hxUStHvdUEoKCOjuzQ20nSIzchs5MiLCRlUvBtb12caW+leb8j5rK5QJctyt3FyEYtsyMyStE7FobcBYp4gfALafvxW/0vaMG9LRcuY96grrCCmeB2MZuddar4PzP+Gbmi4HA9qjAAAAAElFTkSuQmCC'/>"
      ],
      "text/plain": [
       "<IPython.core.display.HTML object>"
      ]
     },
     "metadata": {},
     "output_type": "display_data"
    },
    {
     "name": "stdout",
     "output_type": "stream",
     "text": [
      "7 (32, 24, 1)\n"
     ]
    },
    {
     "data": {
      "text/html": [
       "<img src='data:image/png;base64,iVBORw0KGgoAAAANSUhEUgAAABgAAAAgCAAAAAAtNefkAAACDklEQVR4nFWRTUhUURSAvze9N848Z/wZM62eNTANoQYZTj9QbqSioKKgXbsWJbRwF1EERYugpUibKC3Cylo0FdFmsoQsdEpEosgGf8ZMp5h0apofdU6LN68Zz+rc+93v3nPOVTj6mELoTqOl2e/69fqpuq62NAlQo0vKbXep3kw6Yp+bSqrNW28DuPdtcWRGf6YcVem+dPa3s1rNTacANu3YPh5+HsfmqJifnFPXauoXFYDFpdGeV0Au6NeSSX1NiWI+uqFBPk8WFUGjAmX1Oz2uoQesCKcKxvET7tFeABp8FdotAFLA6isiVwF4JiLLewHwAWx89LAEABERuQxAqVJ0r7oIBF9ExiYAWxHwfkde3ukTDUCBI8kQAJX1zqmxgg6nqkKAdmZPIjS4ouRPMYDTIiLSUVZkvHcAeAE4sNj/NmaxuhaAThEJ3jj/QWRoV97QtHwS7Q3N1m4j0P7ONDruAXSJyMF8k3VmHx4BWMg3dQlYZRoBA+CsiLQB5V9FdPNQeNoq4y+wMAy54pH4gI8AM7Af1wXVAmkgAzCes21uPXbyv3H3JrQC6MMDsbJGXWlyDi6bKOGO9lxfOmTIbL/ncAvXzllOu4hIdKRzN4DdZlRboOsHYFTOvAHIqim7BRIX28plpPtJfhmO+As/oK+vsVJFCAe//dEmBgrYEzeHGnAZ2fvzhf2m1u44/AMJKL7NenmT1QAAAABJRU5ErkJggg=='/>"
      ],
      "text/plain": [
       "<IPython.core.display.HTML object>"
      ]
     },
     "metadata": {},
     "output_type": "display_data"
    },
    {
     "data": {
      "text/html": [
       "<img src='data:image/png;base64,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'/>"
      ],
      "text/plain": [
       "<IPython.core.display.HTML object>"
      ]
     },
     "metadata": {},
     "output_type": "display_data"
    },
    {
     "name": "stdout",
     "output_type": "stream",
     "text": [
      "6 (32, 24, 1)\n"
     ]
    },
    {
     "data": {
      "text/html": [
       "<img src='data:image/png;base64,iVBORw0KGgoAAAANSUhEUgAAABgAAAAgCAAAAAAtNefkAAACTElEQVR4nHWSW0iTcRyGn+/zM53mYQcdDtmgKUqiBYkHSiIDySIosG4qqNYBuomsKCIi6KqCLoIuCiUhMBC7iOwgBR0IUtFMcurmluE2nc1Pp3PZNrd/F5MIxOfy974XvxceSfA/bcqi989wRPbPsB7S2pPBmOYoqFgT5BbYjF9CLRsUjmW7fcbpUEQXis+XNaua4oqW1qrefOn6YEpwbG+pfWJeSl2qrDJmlnVeBVBSelTwHZhcWcqrVMyeqajxIwDKt9un4O1Co744cdox8zCM45EZQK55DdC//da+uD0jFoY3+kYyO4RS2gGQ2GoYyzO5ewEy2uwlJuRAJUC5bny01iL5AMjP+foBhHgJdApx48lIcolwXdvZ/FkBDSCI7dF1rW70+lWNRXFbXcA88az+S6tBeVF0f6GcSChAlPTl82C2AejyCquRf3ndwC68j1X49ACA4lQSynIsCGTiaoUTFgCcs5txyQXWOCDzIgrJ/hnbSAlapsVhoM8HIEQy2rIovAp4gAk9wM2nTgCasmjHLYqAfqEB6pPvHhFCNDEsTIAQ49AQOAkwIIR4D4N2gCEh7vuEcAGMCzF0B9n6DuBsmB0msAI4waFFTncC9LRHBi7ciwFg7r640HNOsRcBMPu8b9Q+W7dtgCtTTt9vQ73SdfDy3U11YY8jbc4bmmywVB+1fRdU/JAOHY/6a9VnHudcANiYWIn+U2xDzu7CtT6uS1JRoznkD5ITMdZ4tGpVcEUzEZa6fwa0Sp1BjUsZuUv6V5KqWLLDMYfuL/b68qCiaGJ+AAAAAElFTkSuQmCC'/>"
      ],
      "text/plain": [
       "<IPython.core.display.HTML object>"
      ]
     },
     "metadata": {},
     "output_type": "display_data"
    },
    {
     "data": {
      "text/html": [
       "<img src='data:image/png;base64,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'/>"
      ],
      "text/plain": [
       "<IPython.core.display.HTML object>"
      ]
     },
     "metadata": {},
     "output_type": "display_data"
    },
    {
     "name": "stdout",
     "output_type": "stream",
     "text": [
      "4 (32, 24, 1)\n"
     ]
    },
    {
     "data": {
      "text/html": [
       "<img src='data:image/png;base64,iVBORw0KGgoAAAANSUhEUgAAABgAAAAgCAAAAAAtNefkAAACG0lEQVR4nJWQXUhTcRjGfzs7Krg2zXFgxmZ+hAaWK4UENYJygQRJBNVl4F1fdBNeFBSIEMQIvOkLiyiKhAUVUWpKmcqKtCaamtUKs6VTNnJNZ7m3i3PMpKueu//78H/e5/fC/8rEdlMHsMfcNYU91TYzDXk5llYr9SJ3LMVXJf7u/fCnGZGI/2lQJBgiJCJ1TfKPFAeAdTl7obsNALW3gof3vxdsvVxc6b8YyrTO305WV3tK4ZxIM+svvKzbdy3vz7eahKjfYJ6RD/n9wy3LeY+GXIoLDmiVmpY//zdFTrqSCb5wz9CwtgKvLV1xwyl4ECgAON7YLcEqoAN1DtIgkqqUDHDkPBCZBNahAs5xsGXtXHRupt/sujIGrEGdhCRQsHbWqf30Pw9+bAXIRU2BNMBWFh3bVhqPDioAFKOqeg1JFpbt5XpXQL+OHUZFPMA9mRuTiRKjrVtEiYIKfF38MR7rHDCMwNuYqkEMiH9WLKsmlvhSR/yKBjZgIjwN5YAFtvjeRAcRkR3AoQVfdvsJwAOdIvJC/eIkAexOsYe8jwF3WsIBt0ZplL58audEkt7VgHKz7/UzrxMIySDgld79+t7Dl+prdwGISC5UPWlYapRpwWwYZ6BBkqyUAkxhLcK0SR9sKDKMCPQwG9b5wbEx22RcTyQDCl8F9GeGx2Jk9UsLcFTkNJB18kZTuWGclRp02IPHmttFft2tAOA3Lq7oIzGShQYAAAAASUVORK5CYII='/>"
      ],
      "text/plain": [
       "<IPython.core.display.HTML object>"
      ]
     },
     "metadata": {},
     "output_type": "display_data"
    },
    {
     "data": {
      "text/html": [
       "<img src='data:image/png;base64,iVBORw0KGgoAAAANSUhEUgAAACAAAAAgCAIAAAD8GO2jAAAFoElEQVR4nE2WQdLkug2DAZCSu2cmR8guV8n9D5O81922SGQh919xaWVXCRZIfCL//a9/miyqgBxjzskIA22PMeZxHI8jZq613q9XZEYIMNDdbRsAAaFJgnSjbdtt2DachiHFCDHGnMdxKNKE7fwKaGR2xUhJEn8E2iYoIASFSFYBdqO7enV3O42OzDyGcs7n4/F85pgkbccY83Ecx8EI290NNgAYQLe7uwWGFKmMkFS1v3VVneu6uhJkRByPI+bx/PP7+efXcRxk2Igx5jHncVAiAKC9DbANo+0CIGlkzDlCaWMLXOv6nOd1VYJQMIfmY/76/fz9jz/HcVBqI8eYx2PMCZgkyaqqqu3+j9URnHMex5E5goLZ3Z91js/nvK68iwHmjOMxfj0f8zhANZBjjnmMOdoNQAxc57eGhu2GYZNAkJk55hiAuppLIBFKwEa3F9ASMyMzt0BkRIhkNwAQXqvP8zrXWdXuht3dktoESEbEDAkCIhELK9Ko6rVq2U1SIaVAoREitYvqrl5dn8/5en/e57t6udvrFti2kRrjQKphG7seCbhc1cvbaIkhQNzfAQBur6rrqtf5eb3f7/e7enXdnShpRyIiH48nCAPbVQBp0mDvxISUERmAQDMClAnQdru7q67r+nw+a62qta6q7siEInKc11rd6gJ//g2pnDnmnI8Yg5LJHcLqBgk17zCxqmyPMZ7P56pV1VW9X65Vr/d7HvO6zvEYCvW5bEPIMY9xHPPxzDEUsl1dXVirGk4xKCmoaEBjPOf4zT9d1baNa6336/XXf/77/rzzlde6drBOn22DyjwGQqu7AVOIMNjsJmjaIgNkjPn4haoiKXKttdaqqlUFAIIbJiyCNtps0zDSZLtXrzJAiqS0YWAYJCSJKVL8RgzlGwir+9rHoSFQBGEaxF65zkIyuu0GsH+QoE0bBhiKCNmkuntzBnS7a611Xeta5bo3DIIACO6FvK6TiOw2dpdKEmkDN40VkQkbbNtVtSPmanTDljjnzIzn86EgNhp+BLpbLd9RlCRKNzUBACREQgrQsNuurlW11qpyNcGR4/E8Ho+HqJu2BEUaIvfhQGF3DKnbJwD4KpOSCHbXeV3nfj6fa512R8YYIzOB/wsxSDJBIcQQSULE3n0fkYRswvgWta61Pt/n/HzWdVEMTpEGDNy07d5tkmUnqQhFUMR9IH0XYXQb9K7wWus8z7VW982ukEaOjJEK2l0F0qh9jlxrpUdGhETqBv+PS4Tdm84/l8Heesx5zLmqIvjr1+P5fBzzQKOqIOpLi0Sb2Nbzbt6vf/vq39fXWvV+vds+P9d1XXfipAFmaowxx8jMZvveY9vspIISKIM2vCMDUKKoCJG2q9Z5XlvmPE/bKSlCqYgg0PZaa/VFSRkZsR1OjaFISQarfF0VZsMMzWPOcWTkdgbA5/N+v19VRRgkgYiIUFW9/vqr3VddexaZx5GRpBJ2KEYemTMy77HE7m5XF6sb13W9X++///779Xq93+/z8yGJdEgAugg0iFX1Pl9zDqBDlCk5fWd1ZI6IVIQkbuCUwcZG5nlugc/7s65TkoCTrCqRcIFcvV7vV3dl5sgZSkIJCN9Z51vdCCF05wukJHffvX+dvVZElFSSN1NqAa5a13VKWOtyFQyJedenulZ3ddu8p0L/f0uB/IqH4IjYft4jWJVd3aXGzm0oRmR+w41ur+pVrqpbr0rKvqHqvfUYQ4RDsYtLuhvdXa7aTKVu6OylNPgzq9nd1QSrvFaTi3cf+NswSQK9kSvC7ap1Xte11mkXqQ3w61prLVJpwI2u6q616roWq1d1VWcOShEBYMz5fD4js2uhiyLNruUufQFZ/v5rd3ettcS4+dftfYNXFbr3WAVQiswkOcY4jkOKruVeezquC+5VK/YtYri7cXthd7v7fybM+8Q/VDZLAAAAAElFTkSuQmCC'/>"
      ],
      "text/plain": [
       "<IPython.core.display.HTML object>"
      ]
     },
     "metadata": {},
     "output_type": "display_data"
    },
    {
     "name": "stdout",
     "output_type": "stream",
     "text": [
      "2 (32, 24, 1)\n"
     ]
    },
    {
     "data": {
      "text/html": [
       "<img src='data:image/png;base64,iVBORw0KGgoAAAANSUhEUgAAABgAAAAgCAAAAAAtNefkAAABkklEQVR4nJXRT2jPcRzH8ce+xpiyhaYpWpq4kVL+HFZLOexCcqGUaKXEyQ52UIrDWg6yRFETlly4KC3/Li4S8rfELgo1imwcxsvh+/sztYv35f3q/fx8er9f73fDqam5X4qpj1cnzRBFmVYunwnqfpLRql588nVDDYTfjWjsbXox/9ja4tKr4Rp7ClPta3LjAknK6mhyDhw63sDBxtrz2UyAiSKcKar1K100gZ1byp65D83Pk5yAA8n60kI/TN5CK3SwAbK3Om5yB3YnI7Ct2uR7ch06ku//OL+XXATjSUdtTXjCH/CYQYreKlhCB/jMjqGu4tzY0hLMoQ3sOcuCVsn7Eowk7yqfu/taSNIMhusAin72l8PUJylQDNEDvlA5ztaBiuM3Ko7HQeunbIeXuQ26kqyAwSQNCuO+glnohGu4e8SqH9kHdiU5DS4nSf20fUnGSnkzSf20737O86CUh88vWyTpq5Cj3561TXOYhzXZs25a3cYW/xflFjpXP/rMppbnH2zunfVr8m37QhoHMlP8BSzksifbseDjAAAAAElFTkSuQmCC'/>"
      ],
      "text/plain": [
       "<IPython.core.display.HTML object>"
      ]
     },
     "metadata": {},
     "output_type": "display_data"
    },
    {
     "data": {
      "text/html": [
       "<img src='data:image/png;base64,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'/>"
      ],
      "text/plain": [
       "<IPython.core.display.HTML object>"
      ]
     },
     "metadata": {},
     "output_type": "display_data"
    },
    {
     "name": "stdout",
     "output_type": "stream",
     "text": [
      "1 (32, 24, 1)\n"
     ]
    },
    {
     "data": {
      "text/html": [
       "<img src='data:image/png;base64,iVBORw0KGgoAAAANSUhEUgAAABgAAAAgCAAAAAAtNefkAAAB/UlEQVR4nG3RXWjOURwH8M/++z8by7zM4zEvsRXStFIUbfIuSgrtgriQXJMrUoobKbmQK+yCEsoFknAhF1Ima0teSnnZi5fZZoaZ5zE7Lv6PZ5Rzdc7vU7/zO+drFGnRpErl/llFpVmVmZrOKPt4MF9aWJxrIc5SlCqb/aV3eO7SxmGWl+VyRaRjDDV3RV/7VJxacf3ujLaUBf30xBiq62jHElva9daMaZvf9bDnBKg5sByenJ5D9cp5lEzZ5cJevAvHYfVfU0Ul39HnBWShtD6BmROxfd0pWFmGWbUg7r2DFrBtRuYNuftJr0f7C21DaMGoNCqmRh23sOHkdK4wH9VVk22ofheHN6jZubFx9RJ+oH9sl7Xdn+LN0Hrp/tk1GEKUoefi6xjc/tzkTD1d6EyTHZ1KQBOvvpbrhla+NTQnsGLgoa3l3M3P92xPzmKoff+47tzPEG7mYcIW0b3dSFXW7rpzXiHFiqeijias5/rlnpEfLC4VtTzBMjevDt7jSx5KfxTHL3NYpbckO5bZefgQ/xL2cSiEsHPawRAG5ySwFuEajSGE9ucDIYTDCdQROc8t3HjVnUQ1BqNxGo4eqeJYCO0lrEozHptGhgzh7RQymSTahYV6OVMbqP+YwKICzEIV45JTUf5FWcb3hasPKkaSHlk7CrvUf/TPfb8BZIapqYHUtPUAAAAASUVORK5CYII='/>"
      ],
      "text/plain": [
       "<IPython.core.display.HTML object>"
      ]
     },
     "metadata": {},
     "output_type": "display_data"
    },
    {
     "data": {
      "text/html": [
       "<img src='data:image/png;base64,iVBORw0KGgoAAAANSUhEUgAAACAAAAAgCAIAAAD8GO2jAAAEy0lEQVR4nF1WW5IjyQ0DQKZ6do/gX5/B9z/UerzdqiTgjyyp22aEIlRRWckXCIL/+sc/GRAUBAAASTJAwIQGkgBAEttJEiKgQog4h3Xe53wtEBXEcCdBAOS8w9vuJ92eEoCkgBAAX5Hg/REBASRBECIARn3Ce4f/f0bwRH/uEytOcFL6GVF+ZE9S4QkjXSCAnLhuM0C8U0OCJBFVUkDHToDb+R09fNcBooTbdTrMndbrRoInmFO5IAYSSJTKMMwTFBggrxx5qkeBxLkKTLMIECByX52c13fFHUychAaZOx0bCV93x7nzYBI4CRAiQOtXe5IJQalizHWNrarWA2Iyngnw9Gx7dSeeuWKXWCQAzyQhaSIkRZRQBNmSApMoFEEfEAZOjBDIqe7BBglBYShzeBf3ZJZXN26IgxWiey3ZsZVCgkxO5R3bJBIDDlmlVSoxhCJskSJJhBTlG3YCmLw89eOPX57JNgaZ+K6wJSBzzgkAuboeq0GEGxYsHaAGkhAaIRMiZPhy8Meff3i8n3t/XYmp74EgWRLIECytj358LBDzLAIb1pxBuQFDBDSY8EYigK71oJzQe/Z+9Z8Q0aXqRYlCre6P7lUgN+g9miHC3PBmQMpg4O/JI9vkewrDDGbgIBJb6vPr6sejVqkYxjMqQgcMuJFNUASACO+OB33t7T2zr9n72tdzX8/rYlBVFiJSlFSL/WiV7KkqVkXMQEzeRIHjMb6nGDba9ni2x/bY45kMQcNmIqSIJiSV1MoEInjA6MDBPZgvL7qRenqA19MZPABQwKSRYgoppInS4WbwfXt8gnwXHMABz6FDAmCTVUqq2FFvdHGapNaqj6XV7GIVV6dkYpgBjNi2/fZCUhElBolf9I5ea6WqpM3nXUcmiVazu349uptVKEYvQta9acKbfU5T82Ml3R0JuqqiOgAQBXHTM6O1tPqAJ+QoBOpcf3M+QfoQy9telPy2vq7rjltkSVXVi6X1WOux1AVViBAWimT4NpGQ8h3yt/HVrd7XPgAhBUVV6/FIvNbq9aHq6O4ibwIHKUlSRaYONA9HMPexbzedGZKHTECU3FVA9XrUWpLCswLAM9PEAWypIEdIyLPhboL7H+vD46UTGifmkGRVlVTVZmKHEKQIZLFb3VUs2xjnjpk8ubwfSbZakgRWaYABFQWgobM+jiQQzwYB0qxWFwv0jSO+e/vmHZAA0Utd538A23vmuUNsaNeF8elwV0UK+WPeirCYQAXhjBx+FEkA0K2ShGT2HCb6+vwMMntjjKoQIGY1H796fQDIxOOztEPdGz1HeR1OuPUIya4qkkw8s6/r+fX1/Pwcu/vKZUjHQa2lP/nBDngkQF7ms2jvxf+NHxKEu7sJxnY2xt57X9eMsSMLxZN47Zn1wFFdDl8MF8CJHY99RvtM1UsYtW6pEo8z5gBzhIo981I9QJhrPIOjIcYw4jhJ5rhwzFvYnq4TRP/+6y8Es/fn31/7ujz+6I9hCMgkJIliwHnO53/+Tpyx9+BgYu/tMU1BYF67h4BCmv3737+BZPt67oxtExJzBBfilyzzPJ9fPNIUsT0zs8fbnvyYs5eOu2m9n19f9+bzEejJXdQEYOijQkBfe7+IzcnMNb5OfRIf3PwcsXP0v2w6/64TeIDQAAAAAElFTkSuQmCC'/>"
      ],
      "text/plain": [
       "<IPython.core.display.HTML object>"
      ]
     },
     "metadata": {},
     "output_type": "display_data"
    },
    {
     "name": "stdout",
     "output_type": "stream",
     "text": [
      "4 (32, 24, 1)\n"
     ]
    },
    {
     "data": {
      "text/html": [
       "<img src='data:image/png;base64,iVBORw0KGgoAAAANSUhEUgAAABgAAAAgCAAAAAAtNefkAAAB9ElEQVR4nG3RwUvTYRzH8XfPnm1u6db0N3V5mDlEJxUl2CU7FDgjKEyITkJ/gddOHRLq0LF7EF1KTxFCEcslRARu2ghCMS1yTLbWb3POzf228XT4ud9A+l4e+Lx4vt+H5wvAhAKYNtRFAOgzD86uKgm8VuqZGdxoB34tvP2rqsATQynlBrBNB0AEQ6XtxCNgIGHAPYBGdBdk7D32P3NwbTPnGD3qXgREdCl76jswXvi6A500SxzSNRIHIsG2PHS3wN0b9meAy7cDeei1QDp6hsgB+L0nwN+6kdc0dKDwsXSmOeP6GMhuQ2QBlhNbHqgC8CMNwqiLFMDPT4sfmq22yiD0k+0FADaL82B3AChA5AzziVMdsAHDreGKMjDZr8E38Lagyh5wFx+sQMUCVSMDBMjBKhxaIOrpNiBFHoogLfBUtvuAOBWQ4Gv9VYfhBJYpgQaaBRQz512wTgT84LHAWf99MAMkvRCEIQsuhfX1CeDKczgHdywYDbqrN4uw74FJ6Lf2MbZrNKRz9ik9joDLXDfArHANjOy81Advhb2B0D48NvOH9yWqJDbyw/54pdTlhHcmXDgtWUundG+n3aYfqPnBN0kAXGHkYrIQc41nP79K12wvjgZMhXxl/lNLjURqQRxP3ZHYVbG3EpXH8rkHAF9qa/8A3oGpkg+qe8EAAAAASUVORK5CYII='/>"
      ],
      "text/plain": [
       "<IPython.core.display.HTML object>"
      ]
     },
     "metadata": {},
     "output_type": "display_data"
    },
    {
     "data": {
      "text/html": [
       "<img src='data:image/png;base64,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'/>"
      ],
      "text/plain": [
       "<IPython.core.display.HTML object>"
      ]
     },
     "metadata": {},
     "output_type": "display_data"
    },
    {
     "name": "stdout",
     "output_type": "stream",
     "text": [
      "6 (32, 24, 1)\n"
     ]
    },
    {
     "data": {
      "text/html": [
       "<img src='data:image/png;base64,iVBORw0KGgoAAAANSUhEUgAAABgAAAAgCAAAAAAtNefkAAABrklEQVR4nHWRT0iTcRjHP1vv3k0sneFwmmmWf2ij/5HtEO3iIesmnVPoKh29dA1E0C4V4UUQjAj1WHbLBS+iQhBIGaQ4wkGuOSekbGzfDpvv3sX8nJ7f8/0+/J7v7+fyBf3epCeXcuUzAoDLAX0qYHgMd/7gT5oyXzELYDQ1ZhK7VJIFqHNTFZfz8PpWam3LWvrf0zouSUoMA2AABK7VNpuZ9QAAwYnUzJH3/BMrW7AGnqrIG3si4Y9ApDs2GL7tC9Xit4WDXYBcLMZQr3mluK0BwA9gfwGY2uuENEAxRQPgPQVw6HMK5x4C5kWAkz2lhdwAwQYAAbQ1wp4t/NoCPkwBtAM/y6EfxTUfATj7WdqOOJ4j3AZAy6KkeVdpssydb5J+9wNcrxAsKT7aDcAFZ98tfYmWag9A/8sBgOi21GG7DGhqT38H6DOSrzapwt0HpcIHzq89k90BuHm1a3nOaZ+cvQe8yEsacSb4KD1rpTkpSY/L/dN/JR2+jQ5Lki7Zfe97SVJ2ZmxN0jvsy1dvFA0bs4vm/fzz9SMhZNWTW4jXnNifXqlM0NdVLdcx/AOs2KK2qCGcqwAAAABJRU5ErkJggg=='/>"
      ],
      "text/plain": [
       "<IPython.core.display.HTML object>"
      ]
     },
     "metadata": {},
     "output_type": "display_data"
    },
    {
     "data": {
      "text/html": [
       "<img src='data:image/png;base64,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'/>"
      ],
      "text/plain": [
       "<IPython.core.display.HTML object>"
      ]
     },
     "metadata": {},
     "output_type": "display_data"
    },
    {
     "name": "stdout",
     "output_type": "stream",
     "text": [
      "2 (32, 24, 1)\n"
     ]
    },
    {
     "data": {
      "text/html": [
       "<img src='data:image/png;base64,iVBORw0KGgoAAAANSUhEUgAAABgAAAAgCAAAAAAtNefkAAABzUlEQVR4nG2STUiTcRzHPxs7DC0rbZSbKwxfCIroErODWgwhSA+mIaQIIeVgl2D0co0urehmRUZ4kJSIoDcfMAgaIsIUJBF38KJt1JMSlW6DSX47PI9uQ7+n7wv8+f2+vz9AvyRNRTzA6fYTbOPMd+nzUXYgnJW0w+1B+vdtyQfAQMRREEnxixaLSdGi4KlFgpLWQhcscfYOmuoEoPVmVlJ29hIAz+YcseGxJNAdmPTVHWmBwWsAiXqX8SkJUJF+Cd7pSg4AdNXD4T0A9HcBvJCuAgeT+QUaqwEua8MPPJTktIOZHIAXlxsog18uO0inAUrBCQz4a6qKixjSyl6AKlPcuF2+ZV8xpJVKgCcS0s9my38uSWq120HSPSs4l5KkSQ/Agx9IithPtY9J0psKgPtIaspf4Yuk6wCNGPp9CGgIAtCZkMIAOPtWR00gtQ5AfDFnmgC4Uh4AlpcB8JX8TZjsgnfSdIEMR90WKctJjwH8lj7+yrgVunveTa/0HuDRVu0nxyVJEylttAEdme179MrGCMCx1/lDZSzf8Nra4QgG3s4BLc2x/bUl88P5iYZWE6d2G5z4WuZDeZGzLxBqAL4u/FlPRgs+7UdJ2tR/ZejhIdXuCU0AAAAASUVORK5CYII='/>"
      ],
      "text/plain": [
       "<IPython.core.display.HTML object>"
      ]
     },
     "metadata": {},
     "output_type": "display_data"
    },
    {
     "data": {
      "text/html": [
       "<img src='data:image/png;base64,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'/>"
      ],
      "text/plain": [
       "<IPython.core.display.HTML object>"
      ]
     },
     "metadata": {},
     "output_type": "display_data"
    },
    {
     "name": "stdout",
     "output_type": "stream",
     "text": [
      "3 (32, 24, 1)\n"
     ]
    },
    {
     "data": {
      "text/html": [
       "<img src='data:image/png;base64,iVBORw0KGgoAAAANSUhEUgAAABgAAAAgCAAAAAAtNefkAAACDUlEQVR4nG2SXUiTYRTHf3u33OZH21wfaureTZeK9LXKglVrrCgoI8MrvexDCKEuvCuIQCzqrqCibkOiKOmirFgMJcJZdJHkRcRgOVfDmnvNJTPpdPHOqdD/5nme83/OOf/zYYBA2/TkPWD06hOAvrmRMIEeEyRepWKNlsFnECjLtEnOmIAhA4CF5egI8n/Y9UMpGE6m5SPAie6CyeIAEBEZB+5Pq2wEBaslWAf4AJoUmLTvdfQClHKgEwiORft/ymWgPZ9jFik2QdWqL68j+IGnAJiAXHwBqhoami3EgO5HidW/j5mAuB34q9m2kBkGfLX9YwsJAK8bqLgyLjM3AS4c0cU2t3QdBgh9kGE/QK2eY/ZPtD7yAti5DU8O4JuuqsRep6oeoAI29AHs0z2umV3mGSNQBBy8ewb2X9RSjRFg06V24PzzgYci88A5EREBWk7rrXq5ds9EEigZERFRgJgu78fUmweVRsgePXt9aQqVIlYYEAGw5edhA0phDlL6L00njLuAagDiSyEUkBBQDy6QFYQa8MJn6CyshRO8ikp5NglD0ApmMsC6Vrd7jdKhGsJZoIfdxZRxG9i83e/4xA6HK4Re4dsbIl1A0yEXAFY7i1siUgOwnuW4IyJyq/A0YHYm8/feosdRgGpnegKDy1P+7usK163H5xODUyZfjdOtaelf8e+LxKlA5n2Yf89JrtxFKyBaAAAAAElFTkSuQmCC'/>"
      ],
      "text/plain": [
       "<IPython.core.display.HTML object>"
      ]
     },
     "metadata": {},
     "output_type": "display_data"
    },
    {
     "data": {
      "text/html": [
       "<img src='data:image/png;base64,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'/>"
      ],
      "text/plain": [
       "<IPython.core.display.HTML object>"
      ]
     },
     "metadata": {},
     "output_type": "display_data"
    },
    {
     "name": "stdout",
     "output_type": "stream",
     "text": [
      "8 (32, 24, 1)\n"
     ]
    },
    {
     "data": {
      "text/html": [
       "<img src='data:image/png;base64,iVBORw0KGgoAAAANSUhEUgAAABgAAAAgCAAAAAAtNefkAAACLElEQVR4nIWQTUgTABiGn82ZP2mzZIYerE36sbDMrFQMJbLoEGJRhAghBXXoB4NuHiKzS9IlCqTCSqiwxLQwiSwLq2maSWp/lKmhbUoM3ZrO5dtBVxhEz+WD5+P74YVpos72uu0nmMWic9dKKiXnD0n55JoDvvCdJKkhZ8dVqcycV7g1HsBQXALA+UPAyoLb7Ykbx4yh0U2tBgE4im7MzNti500m71nbcssEQEPAzykz13RNhrMhxIQjJGqoJnDQtzmy5+OoH5KND6408rkWOPhwC1BPQVbsEMCuqMO6CSC1AqlSd3FRefeUqc87l0+ABdYBbcMWy5snVmeBaSxtG3YgY+bKBN5OV0fHW6M7bCGjgA8Gp1vtX4DrxkGvk0mgGy4AOKgHSMWWUOE9CZC/E4Ba7wqAZpKWr9pXffxPpHXNAJkyxhrXhL0Y/+2zt1vzIOQSRl/MktXR8RbIrNoL+InbnWGtWAbr0xM3XXa67G7pCECXRh7fk0TKfGynGyXpPcACSfop+VmKrbLnqU/qjAMolr1PHo0kmfKrHS+De2r85T6A7BI8Lt/rzjMTpsUWs/eoI/DUMV6lhX/vqZgA+Q5EBHRSk7u+RaoOmU67/84pG0B6VZv0SFIukMNzSfLcLbv/YUqSBqSLAFmUajaelMDi6NIW/4AkqV/uuv0BbZgukRlW97Ne/kfEP3xUEGC0Jv3tg0NNgCEobnic6HB9BRLCDDGuEd+80G8OfgFnUgb81x3JfAAAAABJRU5ErkJggg=='/>"
      ],
      "text/plain": [
       "<IPython.core.display.HTML object>"
      ]
     },
     "metadata": {},
     "output_type": "display_data"
    },
    {
     "data": {
      "text/html": [
       "<img src='data:image/png;base64,iVBORw0KGgoAAAANSUhEUgAAACAAAAAgCAIAAAD8GO2jAAAIJElEQVR4nCXWWXJjSRUA0DtlvkmDJc+uopqABbAKItj/D0RAB91QVbZsWdPTG3K6lw82ceLg3/7y15AhG3HlulVbL5vN/c3N3e16u2nbtqoq3/iqYsdkVmJI0xQu1/7YH6dpMLMU5xJLCjGlNM9zCLPlXHKEXEgLZJVciElQpO6a7e325mH98vV5+7Ct25pQiISdZLUwB1VU5apub5gM1IuQUJjnEmIMcZ5nRDArUQsYqpllA1MxYGPvvO9Wy+3D3dMfHu+ftstVI96RsoKkbKfPy+l4Ui3OU9dVyGoGiMTEXduZr1MVvffeOxG+Is4GqeSsBbVIVnRC3Wpx93T/9O3l67fnpvPiUZyUqNM17HanX3/98fb6YWbt0m/vusXSA2ZCIODae/CqTd11XUyxarxzcgYcUoo2a1KRpl5sVg9fHr788uXpy+N6u2IBwwym0zS9ve5//ef3v//j97e3vQGsN91jv3l4XK3WzaprKxYRYWYWEuaipW5qEWdFS4pxnkJMst4s718eXr49P315WNy07JAcqFKc5ms/vL99/Pqvf3///ccYMnvhEeUTRbBr6mrTNE1DgszM3tWOgZCYTDXPYR7H6+WCiLK93z5/fXx6ud/er31XsSNAtWJzyKfzsP84ng4nEX7ebF1bAUHWfLkM87whFOdqZGUmFhHviQkAySBO8+lwFPHILPdPt4/P95uHTbtolSBbVtVSdJrz8bM/HXtm+sO356/fvrm2PZ4vu7e3cZxPxyE+JSLyTpARmQ0IkJAJReqmbbuuqet5uMrN3fr2frNcLchxzimlZGAlUwowjjlMyTt5fLj54x8f/GLpXt3heD4d+sP75foyPz6hd17RkpYUJpitaIoxEFFVVa7yzCLbu223XlaVVwIqxZDMEIBishgN0S0X3XrddEt2C9cOjfd1mMvxcDkdzmG475Y+lzzHEFM0UwCzUooqErIIEctivfTel2JFAZCd1AoQiqZkOYCwrxvsFo59JgkiRsIKPsY8zzmmlFOaSxqncRiGnBMRMqDmUooiIBCK894AUkkABMyIxEiEBZEBkZmdAwNLJWtKwzANwzxPkZzFUmJOcwhTCpdr358vqWTHLExMlLOWUkrKQo4Ui5ZCRKRMyADkMDt23hN7VbAQy9AnHef9rv98v1wuV1n5oHHK4Rp5imGc5jkmBRXnxNdYsqrmrDlnSZpDnBHFsxByKcggitp1fnu/GOdmnIbLdQ52uo75x39Oh8Ox7/vt5tYQoqZQUiqlmBqBF9+07aJpMNvcD1aKxiTiHDtBRCIQQEJKKeY0L1p5+XpnGH7+2B2Ox3g4xwyXy1BSrCpBQvEeWNQAEMW5GqDy1aJbdFVdQnAiIkyA4qqKHaEaMRKAmbmKDC0VrRrplk29qKrgMRknaBeuW3iARdW0q/XtzfrWVVCj1nVdSm6qumubCmUshQE0xRhmceSZQC0ZFENCASY2Jg/cWr1aL+/DXFVUTHPWpusZ68spsBdfdd637UKEoWgGzZX3TkRDJLCSwjQM4/UqoGgKZqBgBQsCxByKFu8dM7Ng3bpp3IYUj4frtS8iM0vynpALMy7axntENCvKwprT9RqG/nI+Hs+HQxgnKdmIARER0aAU1VwSGCKiqlaV27rN3Mbrdfz8uF4uQ99f1ez2drteV5tNW1dc1Y4Qc8qqeZqn8+nw9vrjfffW95eUg0BSdISMBKaac05E4sSVoikWVShFh376/LwcP4f+NAvJ9mH5pz+/3N93TYuACYANuJQUwnw+H3e717ePt/P1lDSTY5n6SXxXOcdoSmaacw5BVTNNU57GeRjG3e795+v+5/f9OI5N2zw83Dw9rZ5fNiwKAKpach6u19PpsHv78b7fXfpTjDML1HUl58PRVyhcmymSQslkmku+9OHj9bJ7/dwf94fP0zBMpcB2u3l8vP3ll4fHh5vao1lx4orBHMKlPx8PH/3pGOcJTFmoalxBlN3rT/EkclMvnDh2rrpO/TRO45Cv/Xw89Mf9OcRQiSy2q/vHu+en26enzWLFJUdmRqM4zZfD5+du97n/uJ5PmoJ31LU1ak4c5O37d2aEEpabVdM43yIZVs6tuhruW8Zms1kDZu+p7ZrNdt000i1q5hKTCVU623g4H97eTx/74XLMYfQE5L0ACNioIK+//SfM83Tttw+3681itam7deuE1fN6KcJyc8Mo2Qu5yvmqRihoWlKJUynTNI/T2+vPtx//7S+nHMeswSGyASAWRmGS434/pZBinMYpjNtSbnJRFldMciSk1C1AHBKYQrGciEhzSSEP/TRfj7ufP3a71+Pne0nBNBlkYfAizMgGQihFx8N+iHE694f9fn33sV1tFk23rOoOjJynqlXLarmkCDEiM4eYpmHo+8tpf9y/786nz2kaKoeIiqBUeVVAJkbyJNJ2bFMI0yWG4bj/+O9vvFwtV6t123TeexbwNbADNEpRYywpletwnaYxhHGaJlRTTZWQIBoCAqAqKBqigaKqdAsvjlMyVcs55Sl8nC/v9pOZ0RCwGIB4FPHCDgBSSSnNpQSFgkhd2zlhFkEALYbIVkzRQDOAaTYhMnFAiKrkhLBAQUq5lFJKLFqKElrijMVsZEYkIyoIBej/kSgGZkpgoKqACoikiP/XBlBMs6maGhigAQKZJk0JzJiQmYwQwAgBmYmB2QAUUZTVgAAKgBUEAgBSsJLNyICRmRkNBEoCM0MwVVADRSITh6ZmAAAGYMVMTaEYIBETkxGpCBqioSohozKRGYKRmRlYMSMzIvofwM+hiwJ58owAAAAASUVORK5CYII='/>"
      ],
      "text/plain": [
       "<IPython.core.display.HTML object>"
      ]
     },
     "metadata": {},
     "output_type": "display_data"
    },
    {
     "name": "stdout",
     "output_type": "stream",
     "text": [
      "9 (32, 24, 1)\n"
     ]
    },
    {
     "data": {
      "text/html": [
       "<img src='data:image/png;base64,iVBORw0KGgoAAAANSUhEUgAAABgAAAAgCAAAAAAtNefkAAACOklEQVR4nDXSPWzUdQDG8c/9+r/j+sZ5lFo07XnSohjTpImIYrDpqIkvsUFIZFJDWJyNxsXBwUUZTUxkcNCJRI1hIFFaRETBUEl6pDYolAq0lWvPSml797+fQ+uzfpfnm+fhyMc7wBsxxltnDtpMYnLuNoy848QBH7y7d2bgu6WFikSMoG/FFD++N8RQoffZCvteB+9XL8IXv175++RaPCvR1UTv868Wv4K391SLY6PHS6VE/SYOH+lPT8Hh0fM/1CZi30Si0QhNA/3++gU+dOlW4fqX/eXEfcVxpmuFzzd7/vxT07H2nUFax+1zf36/CW40HyV3KphrYG3109NQ5K3OhfLom7OJmCYNPcN/gF3kHsw/MbI0E2g2GOja/wz0cqX9lZcfv/RiIgNDBgfPbYBrjx3qufBRNWyAFm37YCsde3bf+aQqCAHT7IJZtnfMHj9BsJLFtzwMM+zOnz2GoCWb4/RlD0CFJ7dMryJYrq/TOshOLNFdWoPgehvKGbJIF1XjPJ4LtmcSLkwwhXrRtrt30ZNoyrA2/tC9/9dOf0cp0UhTtvQUI7QjLqE9qBeb7H1JB3SskOlFNig0Onm6TQ7mJsnkMR7U0wZ9rIMpmo/gmyDtjmxlEqxyf+fGnwZeKxHjb2VwMcbK8mcILXeyWZi/Bv5lvmURYTGby8PVDYmayzdb9yPkcv8ss64Ctq1Mjd3w1AGSWj5tUuvugpGDw/fOLxwtHH1hTKtDZb6Ok4GTMcbm8I4zMcb4H1661BJin9TNAAAAAElFTkSuQmCC'/>"
      ],
      "text/plain": [
       "<IPython.core.display.HTML object>"
      ]
     },
     "metadata": {},
     "output_type": "display_data"
    },
    {
     "data": {
      "text/html": [
       "<img src='data:image/png;base64,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'/>"
      ],
      "text/plain": [
       "<IPython.core.display.HTML object>"
      ]
     },
     "metadata": {},
     "output_type": "display_data"
    },
    {
     "name": "stdout",
     "output_type": "stream",
     "text": [
      "1 (32, 24, 1)\n"
     ]
    },
    {
     "data": {
      "text/html": [
       "<img src='data:image/png;base64,iVBORw0KGgoAAAANSUhEUgAAABgAAAAgCAAAAAAtNefkAAAB7klEQVR4nI2QT0iTcRjHP+/2zmVQeylbpDNnEmjbTPoDVjMXQWDMgwZheooiUrxVEKxDIF26BUUHA6kgCJnRoUMQFAVao2G0pXPmlpWZmG0TdZnC0+F9lzU79L38vjyf3/P7Pd9HORYE3C7LxoVYjWckNpQyzwBnJhQA2N20/OnOEr91xaVS3lYYIFzwfQSAXZJMA7NDKslCZ8UYX1L61Y9KGmCmV4W1pWMwbrzxTT/mE8AbuUm+fAAJGXX684AK4G6CyvY+kezg6VWtDaLrAmw/GtyZ6wE/P19mGqHKYas/0Kz0hKb0+g6RQ0C3DFes9/dJ+NGA8amIAJwTccKNV4EH8hwAswG6RYDiEuridwF4LNIJMCjSkhvHBLAJwgDl8PqvYRtFjgO3RWJ5MR6K3Kq9KCIdeeC8SObZqEhyVXIAElOndLNGK3Wof4B+5w/AuoglTcFKueOJBHRnY2VXEHVBXLcZrCV2rF64pK+2HYBqRxmbvSfVxffWw13AQlEWsCxR5woNf8iKyteus3Dt/gDA5XVBi3ffhvTk3JzSuvVEtX0a8FR5WszRLW+X9/RcB9Sayuik+2nZOJFIcX/I1jbde+8FgLLXEX/377z/oYNXa3NW9QEY+Y+kJJUDngaTb/82NOo1sGtoJgNEPv8CAeG58LG7BGYAAAAASUVORK5CYII='/>"
      ],
      "text/plain": [
       "<IPython.core.display.HTML object>"
      ]
     },
     "metadata": {},
     "output_type": "display_data"
    },
    {
     "data": {
      "text/html": [
       "<img src='data:image/png;base64,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'/>"
      ],
      "text/plain": [
       "<IPython.core.display.HTML object>"
      ]
     },
     "metadata": {},
     "output_type": "display_data"
    },
    {
     "name": "stdout",
     "output_type": "stream",
     "text": [
      "9 (32, 24, 1)\n"
     ]
    },
    {
     "data": {
      "text/html": [
       "<img src='data:image/png;base64,iVBORw0KGgoAAAANSUhEUgAAABgAAAAgCAAAAAAtNefkAAACSUlEQVR4nEXSQWzTdRjG8c9+69ayMTfWbQUCC0Ea4lbDjAmLgRn14EFjjFw8ePGkMUQPevFgjJ418cJBTyZcNHpZhgSNGpJp0KANGDYc1cEY0q7bYLWs3f5s698DXXxP3zfPk7xPnry+eDL58EcvZ5++ef/sKx+Ov5/UnMSFSbNdb1yLB4vfnj96OHPvcr66c6g6o2XHGqdOmu5864zw9YmL5V+u1gblbybWME/06Rkanx/rPLj45z9bjc1kAuYoTMA3C/ONiQkzCPAQp+fByB8vjj44HuAxzjXDLHsm+yAV5JqmBlWZkWTxrlRII+cSTt3ZzRUHxo7n0ulceAK9fsDJntf5/bvaUGbvoYHFMIzI92AMX5XbE3HnRjnsxYpfGaQN5/6+MzdXWo4SBdQX75HhNkq3NqeWOjaFGfQmsY9lqKQ6otAlFNDTjawbW9Ca7Yv6e4WN7Z4zVhZhf097tNEuvIuFKVQNZeHorsloPuoLB7CUxHWpNqjEobdWrScaqO5HngxU29KNf0vrAdZ7HuUq/bC62j+6Z4fQiornQBd2t0Tdj+yLhbtY9RKIkQ3306n1SMijaBRFBYz21kN9dk24jStgwnkcz7WUy1USeVxkeNpn4RMcThZXSrdIzGOWVi5/vIUOGwuN7Tb8FZ/Yxun6q/8/gx+9ti1Ur/1MamdzOxuXm/R4HL9j1/CRkZCBAQNvgxfe5Nmn4krcnnhv8qe159v5YGm8++CXewq/rU8tVyobh1pqtXq9lD7C9Qt9x7qMn64vXsLYf0Lx27tfm+JAAAAAAElFTkSuQmCC'/>"
      ],
      "text/plain": [
       "<IPython.core.display.HTML object>"
      ]
     },
     "metadata": {},
     "output_type": "display_data"
    },
    {
     "data": {
      "text/html": [
       "<img src='data:image/png;base64,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'/>"
      ],
      "text/plain": [
       "<IPython.core.display.HTML object>"
      ]
     },
     "metadata": {},
     "output_type": "display_data"
    },
    {
     "name": "stdout",
     "output_type": "stream",
     "text": [
      "0 (32, 24, 1)\n"
     ]
    },
    {
     "data": {
      "text/html": [
       "<img src='data:image/png;base64,iVBORw0KGgoAAAANSUhEUgAAABgAAAAgCAAAAAAtNefkAAACU0lEQVR4nF2RT0iTcRjHP++vd2tuM1vTlW6otPzXwZkkakhp3frnsZKgWxHUJToEgYe0IiQoJIg6eMhMOlpolIqRof3RymFrqaRim22mbnObc+59O4zA+Ry/H748z4dHupJnmJ0xHas2AEBgxC0CPQOYZK/RaFHSAisGYC06M6pmGUO5Wf6QXGhb6HoP+t0Z4ZV4YBnN8ZoSU6Z/ndHuU6RO+tmblSC0yvwmEGr320BstxRsAjgSQYGw5phTY1vX0LpbQcZSkgw6Hd2e396I9fJhgj6Q323TFblpuGGHYuD7z/jzyOtVNLJmrtcNHSfsyd7eqUF/zA9xuWrcA3CmvT7fN+qxlBc3xe4CAjV+LmX3sKoO79KbkJ8lfCmgSpEqq4cQ4vpTV+q5dWC26mSxEvGkgret1OXqJNGwLyloeJXotgLQw/58vYzqugYYmidVVb0IwGlVba1BUHywloKWC3Yg2f0FJq1eBJcNJsTCt0nAkAYw5UIjKWLI9fUl7saW+wAOALVtLZ5QRO3fgTjgnQG2OAEu3dFGjXrRKiSAsSVADgOUSdNj3oS41T8LwKCT3gcAhPn4IxqXlx5FkmKl/w09jGujq4KQI9W8wDIy4Uqkg7h3e2O+pyM8lvzNyRedJzaAh6qayACkxryAM1xQUc+bppk/UsX5I9ks5sTMUblsfjVbm2mLbS27ml8kexe9k2I6Bmty21r6zlpltGdEsR8qRePq9y0rEF+X576QGyxMn/+w7NtRnvXpcR+gN60gbDD7ZCLnaPOBiDTn/NwHYE4I3T9GY+kp0tHpeAAAAABJRU5ErkJggg=='/>"
      ],
      "text/plain": [
       "<IPython.core.display.HTML object>"
      ]
     },
     "metadata": {},
     "output_type": "display_data"
    },
    {
     "data": {
      "text/html": [
       "<img src='data:image/png;base64,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'/>"
      ],
      "text/plain": [
       "<IPython.core.display.HTML object>"
      ]
     },
     "metadata": {},
     "output_type": "display_data"
    },
    {
     "name": "stdout",
     "output_type": "stream",
     "text": [
      "5 (32, 24, 1)\n"
     ]
    },
    {
     "data": {
      "text/html": [
       "<img src='data:image/png;base64,iVBORw0KGgoAAAANSUhEUgAAABgAAAAgCAAAAAAtNefkAAABmElEQVR4nJWSPUhbcRTFf+8laVr8oIRITQUt0iwGUVqoFBGkjgVFUXQoutSlxMHJODkJTioEWii4C6HiKuKioGaRFnHQQuNHtFCCpjUpxDYch/9DX1AHz3Iv5557z+VyrTfBuoqZM159vejqX8XSwv/u2PPs+nfrdfBhdplSROxMFrC5DwJ3yQctJ2nNpPMAnZUHawBhh4+rcPwzt79/kpHmXY3jciPO1UrrjuBPCuAUgFHjpZ2pd+3AZylnqKTR9gVMHJGSgwDeB4ZIOMO6QGkAO1K6/yN2v2wC2L7SwuP0SvIvgJ0v4aMN53tbJv0G0DhkJn6UFt86GtlAeU8rwKSkD88AqDcFPDWAV9InR19F0SRPgDZJTVd2ndfOHdIct2FaywC+jpd+8EKo+AuAeJQlgKchb1kBG8paAJiMQgqg8CN16h6UkdQL4G/w4X6RTTjKAxQO/7kbIgkV35ff3Kh5Vio6lzYPMgFA9YYkvTAFc3ApBgxLkjym4MGYh4DDHHDinMeE7QEAmsYWptyetsVN1IYbw78vAfK/mH5b4DLBAAAAAElFTkSuQmCC'/>"
      ],
      "text/plain": [
       "<IPython.core.display.HTML object>"
      ]
     },
     "metadata": {},
     "output_type": "display_data"
    },
    {
     "data": {
      "text/html": [
       "<img src='data:image/png;base64,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'/>"
      ],
      "text/plain": [
       "<IPython.core.display.HTML object>"
      ]
     },
     "metadata": {},
     "output_type": "display_data"
    },
    {
     "name": "stdout",
     "output_type": "stream",
     "text": [
      "7 (32, 24, 1)\n"
     ]
    },
    {
     "data": {
      "text/html": [
       "<img src='data:image/png;base64,iVBORw0KGgoAAAANSUhEUgAAABgAAAAgCAAAAAAtNefkAAACEElEQVR4nFXSO0yUeRQF8B/fDDPiDg6Z8YGgwcXJGojxEdTELTQWvjobC+IjW1mZqKW7MdFsYaF29ppoYaGNJhiNUyhZ1kRRA5EAvtDIsmLA4MiIws7f4oPd9TT3nnvuvcl9VIXBrs6bIyCq0JSanJ4sQ7h1LOv/yNRna1El8Y/vUb87U+yT9G88qsT275/T74Y/JkHtobE3bevOPAH59Nqp7HgVbDi3ZbR7t0oCzDvVUve5PyK5Y88W5e4Z0XEwdemPH7avxr5rr0I4lTgfQunC0QM51NwIvaw/1xdCf5pyCCG8PpHC2dDFr71/Pb/xC/YPhBBCbwE7B05HNq9eWvOuD5cvjuHHGfx5b5AQQuhYAxs7Qggd4OCyCDQvggdPR3gKim+jBLx8CzW1C9m4BIZF+ce4PwCNmWq2npxd0NYsXoCPFWhpiIX2Znqeg9FSCfPjK0T49DIVl09OYXE+Fq4/HMqs31QLkgk01cdCd9f76aU/rYxJDkKcFG1voXlxfFUwHSetaMG8apCC9z2xMARj4yCHqb6huFUPjAxBrsDos9uzA4YvSKehbRWlZ52gMfL7DK2tyLdj5YtOaK6LXCxSWIEjexH6wYJyZLhIvpWq9gzuXGVuJcWSiaY9ud8KuH4FLI8mkjza1fhlvNLw4e7XO4PDD6At8WnSHFIN//324W11ojmSHJ+YcwvLs2XfAI29t7AZmPmfAAAAAElFTkSuQmCC'/>"
      ],
      "text/plain": [
       "<IPython.core.display.HTML object>"
      ]
     },
     "metadata": {},
     "output_type": "display_data"
    },
    {
     "data": {
      "text/html": [
       "<img src='data:image/png;base64,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'/>"
      ],
      "text/plain": [
       "<IPython.core.display.HTML object>"
      ]
     },
     "metadata": {},
     "output_type": "display_data"
    },
    {
     "name": "stdout",
     "output_type": "stream",
     "text": [
      "0 (32, 24, 1)\n"
     ]
    },
    {
     "data": {
      "text/html": [
       "<img src='data:image/png;base64,iVBORw0KGgoAAAANSUhEUgAAABgAAAAgCAAAAAAtNefkAAABsElEQVR4nG2QvUtbYRjFf7lcbTSNShA1KjiIFtLcYs0g+EFb/ECnCEqJQ7vUDgrZ/APUsZYi1UFwcxIHwUEXqW1dunQoCG6SSqsRTQSxF7S1OQ65N8boM73POZznnPPyagh8bxooHDMtsBP7dwhaQ0Bxbo1tfQRgnkdeF2scaR+YkgTQ9dO8MNyj8e603eosMw0EXEH3kfRXWcW0dHN+Udm5gIeSKHeJ35L+pKTXUCvJLLuys0QA2P4V3lqCY1igxr11IH2N1kUBSJ513RTa0Wp+PyP3CPPtXqIHHt/9F2BTOrDydtNVtsBxx3PL++NDjvBnbKgyYM/zNFbSt7MJ8NIA/z+gPgAVVm8J1S8AmDXhEGAcKCoqdYoyHHQsmiRp4kn8UpoGwityiH5JowAZDQLvDtNuqM/nzwD4lKwFjuzFwjqJJNAjrRXgMckHY5KMW3jnWzAglNccCFqRUDv8h3qQCeCzwfe+rdKPl4wBCc7WAbDKYVKSrqTvABujVQBEmuGLJJ0nTuMAlY5HxgOXAKnt5BxAyrF9AAxKOpntLXOjeHKhopHd5fzo/sLuAKEg16n2oxP9auz8AAAAAElFTkSuQmCC'/>"
      ],
      "text/plain": [
       "<IPython.core.display.HTML object>"
      ]
     },
     "metadata": {},
     "output_type": "display_data"
    },
    {
     "data": {
      "text/html": [
       "<img src='data:image/png;base64,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'/>"
      ],
      "text/plain": [
       "<IPython.core.display.HTML object>"
      ]
     },
     "metadata": {},
     "output_type": "display_data"
    },
    {
     "name": "stdout",
     "output_type": "stream",
     "text": [
      "5 (32, 24, 1)\n"
     ]
    },
    {
     "data": {
      "text/html": [
       "<img src='data:image/png;base64,iVBORw0KGgoAAAANSUhEUgAAABgAAAAgCAAAAAAtNefkAAAB0UlEQVR4nGXRTYgVZBTG8d/4NeBwnQ+FFs5gqIsohmkiEALJRVM6JGIjEqiza2FisxQxCNIQBtGFgpt0I7RMXagI7TJowEtKkIjo3Bs6iTEY5fU6M+Dj4r23xM7mcM7/Pec857wdXrXOjSv7H5/9XxosH8Hg5wc/AmNJMjMJepHkMPguSVJdDStZhG5Yv4bnN26/cwgGkFx/A5VTd2vHPh2/nGxGH/ItbL9SmzmKyeT3gaJgDzjWaB6BNUnGwKJz4EmqF6COxS8rf3v2r3fBXLK2VIyAG83uUbCMlLcHiltI4xNsSuY7S8WfBSyxfP+AylZuz5XMe8U1k5yfmHyY7GuNLTOdTpI8SOptPbUviz+XJMnCeBvk5z7w8a0kyb1WB0vMPYVVH7w2f+2P+f6af4FnMNj5qOtSdd3YZ/1769Ap34Ox6g+n+jrGZ5Nfd7Vm/ASV47/shuNJvigLGoKhTa/X4SR6WuAObBnuGYbppwy2wDS8xfvlumzfUcBvRYR7oJfFbxbQgGflj4r9U8AKmKICXQvuf32igB6YahhahdGlLn7V2uMMqCb3v5m4nmRbq+H+nWD0UblubnrVVl+dbubvI+2w4z+y4cO13T+eaEcvANkou/Fdhc+zAAAAAElFTkSuQmCC'/>"
      ],
      "text/plain": [
       "<IPython.core.display.HTML object>"
      ]
     },
     "metadata": {},
     "output_type": "display_data"
    },
    {
     "data": {
      "text/html": [
       "<img src='data:image/png;base64,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'/>"
      ],
      "text/plain": [
       "<IPython.core.display.HTML object>"
      ]
     },
     "metadata": {},
     "output_type": "display_data"
    },
    {
     "name": "stdout",
     "output_type": "stream",
     "text": [
      "8 (32, 24, 1)\n"
     ]
    }
   ],
   "source": [
    "grays = img_prepare_all(proc.X)\n",
    "y_inv = invert(10, proc.y)\n",
    "Xb, yb, X_inv = img_select(grays, proc.y, y_inv, 20, None)\n",
    "for (a, b, c) in zip(Xb, yb, X_inv):\n",
    "    img_show(a)\n",
    "    img_show(proc.X[c])\n",
    "    print(b, a.shape)"
   ]
  },
  {
   "cell_type": "code",
   "execution_count": null,
   "metadata": {
    "collapsed": true
   },
   "outputs": [],
   "source": []
  }
 ],
 "metadata": {
  "anaconda-cloud": {},
  "kernelspec": {
   "display_name": "Python [default]",
   "language": "python",
   "name": "python3"
  },
  "language_info": {
   "codemirror_mode": {
    "name": "ipython",
    "version": 3
   },
   "file_extension": ".py",
   "mimetype": "text/x-python",
   "name": "python",
   "nbconvert_exporter": "python",
   "pygments_lexer": "ipython3",
   "version": "3.5.2"
  }
 },
 "nbformat": 4,
 "nbformat_minor": 1
}
