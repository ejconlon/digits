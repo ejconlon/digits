{
 "cells": [
  {
   "cell_type": "code",
   "execution_count": 1,
   "metadata": {
    "collapsed": false
   },
   "outputs": [
    {
     "name": "stdout",
     "output_type": "stream",
     "text": [
      "ready\n"
     ]
    }
   ],
   "source": [
    "import sys\n",
    "for p in ['..']:\n",
    "  if p not in sys.path:\n",
    "    sys.path.insert(0, p)\n",
    "\n",
    "from collections import namedtuple\n",
    "import os\n",
    "import pickle\n",
    "import random\n",
    "import warnings\n",
    "\n",
    "import matplotlib.pyplot as plt\n",
    "import numpy as np\n",
    "import pandas as pd\n",
    "from IPython.core.display import HTML, display\n",
    "import skimage.color\n",
    "import skimage.transform\n",
    "\n",
    "from digits.data import Env, Loader\n",
    "from digits.explore import img_tag, img_show\n",
    "from digits.images import *\n",
    "\n",
    "%matplotlib inline\n",
    "\n",
    "env = Env('..')\n",
    "env.assert_ready()\n",
    "loader = Loader.from_env(env)\n",
    "loader.assert_ready()\n",
    "print(\"ready\")"
   ]
  },
  {
   "cell_type": "code",
   "execution_count": 2,
   "metadata": {
    "collapsed": false
   },
   "outputs": [
    {
     "name": "stdout",
     "output_type": "stream",
     "text": [
      "loading crop-test-small noop 42\n",
      "deriving data\n",
      "preprocessing with noop\n"
     ]
    }
   ],
   "source": [
    "orig, proc = loader.load_data('crop-test-small', 'noop', 42)"
   ]
  },
  {
   "cell_type": "code",
   "execution_count": 3,
   "metadata": {
    "collapsed": false
   },
   "outputs": [
    {
     "data": {
      "text/plain": [
       "(200, 32, 32, 3)"
      ]
     },
     "execution_count": 3,
     "metadata": {},
     "output_type": "execute_result"
    }
   ],
   "source": [
    "proc.X.shape"
   ]
  },
  {
   "cell_type": "code",
   "execution_count": 4,
   "metadata": {
    "collapsed": false
   },
   "outputs": [
    {
     "data": {
      "text/html": [
       "<img src='data:image/png;base64,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'/>"
      ],
      "text/plain": [
       "<IPython.core.display.HTML object>"
      ]
     },
     "metadata": {},
     "output_type": "display_data"
    }
   ],
   "source": [
    "img_show(proc.X[0])"
   ]
  },
  {
   "cell_type": "code",
   "execution_count": 5,
   "metadata": {
    "collapsed": false
   },
   "outputs": [],
   "source": [
    "g = skimage.color.rgb2gray(proc.X[2])"
   ]
  },
  {
   "cell_type": "code",
   "execution_count": 6,
   "metadata": {
    "collapsed": false,
    "scrolled": true
   },
   "outputs": [
    {
     "data": {
      "text/html": [
       "<img src='data:image/png;base64,iVBORw0KGgoAAAANSUhEUgAAACAAAAAgCAAAAABWESUoAAAB+ElEQVR4nDVTQY4kNwwjKbmqZ3Y6QJBLfpX//yHILch2l0XmUDuAb6ZMiqT5l47PA7aqYr/fu86FoSTYJvstjplYSOwZOCJJQgDY/3YeSwkSeK5r4EAgCYhAv9PbsJXEe++hpaFEMAb65ZqQBGL7eltxCQgJCOifUxudCeLk+okFpx2CIIDeNCjKCBAPJgAI3vdoA2CR5Q3Ejh2AFHkDkACgCBLxeBsUcAOSLsEBxZCEd0JVIfx+oYS5NqsiiEhCSQiAW2QL+3Wy1OM0AUrVtxDB6IZf/3UoSK7SUCUhAUjCXZ5X0fYhdQmkVDc/SbKJeVeR4IdK5PdGvDkgeOZ9zYzxLfweBiiSfe3BglRFUghIJKR+ofof9B+/P89jcWCs8+XLRADCu8D+u397/vlFi7F5PK65QgBKHEi9lCSs6gKnu0tVSIAgBvsrC4Z0NAFJVSXSBO7Tz6lm9VqViMgdsojIENmfmy2QAjwzdmAXiNsI9lkhDBL27D12kvAmINnt8TWB4dnbSYw7yzvOrr7dY2KHKom8+yaQ7EUfLUkGqD59rtb9awKI/Tn4+vHxWIxq5Ro8zu7b6gBkf6SePx6HAhVwDo5j1dyxBUA/eDw/W9gokOfgWL9UIQbZH1pHFw1wxcHRj9K6rWaAPrRKSkAW98qqg5T9XYv/AQoeLCG7XY8CAAAAAElFTkSuQmCC'/>"
      ],
      "text/plain": [
       "<IPython.core.display.HTML object>"
      ]
     },
     "metadata": {},
     "output_type": "display_data"
    }
   ],
   "source": [
    "img_show(g)"
   ]
  },
  {
   "cell_type": "code",
   "execution_count": 7,
   "metadata": {
    "collapsed": false
   },
   "outputs": [
    {
     "data": {
      "text/html": [
       "<img src='data:image/png;base64,iVBORw0KGgoAAAANSUhEUgAAACAAAAAgCAAAAABWESUoAAAB7UlEQVR4nD2TQZIbWRBCH2RWSepuz8a3mvufZBa2W/o/mUUpzJqECCD1r47Ho5lUObOfz123gy3bJEP/qjkmSQLJzIS/yIz6u71nGJJkr7VIIkm6SP2cmoQQMnu9FhUwkjDQf47amMtgv57LIxPbgEW/2LjRKNmznusgsSSEMvREdkkTkqznLohJJMA0km1Re8OsNQNCXBLQtpFUZEP2ngS9AdBtMbGwxOyVQbJicRHKmrVsj0P2Jq4qcikkXc7reVa7CpPYVWUi3hbO+v7TKlGUQF1VlQEQoZn13YZ7GSO5qqq2AjJMZ/N6tu1HyUTurpIAWYp6b/ae2YOkBLtKSAEJqX/T1XVdJROVhCR4l/Xfx+fPj6OPIjDBZbiuLaR+fnz9/NS2M5s6nkxEhCM5qM9Woi4XUh2VjUQEDIJ+3EtydSnIdne3gmCmLPXH46w6us0Mobq7GEJghHy7teUqQ2ZGVUaW33Wmqw2ykr1ea0e+MpQHSbQ1E5jsvV6vHWAKcSUl+mhfWrPWuvIkQkHI0PfHrcsmSSJTJYhytSn6x9fX4354hFzHqdtZ7zEJSel/Pj/P05Erc952Pc7DSPBuq3983tusuHKca+p268v8Wn76cR5mIiGvNX07ei6Fa3TdZSWgjm/pehzmevAB4H+cbRqbmo+D5wAAAABJRU5ErkJggg=='/>"
      ],
      "text/plain": [
       "<IPython.core.display.HTML object>"
      ]
     },
     "metadata": {},
     "output_type": "display_data"
    },
    {
     "data": {
      "text/html": [
       "<img src='data:image/png;base64,iVBORw0KGgoAAAANSUhEUgAAACAAAAAgCAAAAABWESUoAAAB7UlEQVR4nDWTQXIkRwwDEyCrW9KEw95/+f/v8MkrzXQRPvT4TAQJJkH9XefXwUxVZfbzedW5NNgmM6h/L52jZExm9rWZSEgCE/VPeo8mSTLX6zUM4hZg6CdrRyQks69rNPKWLZSB/s4xlFBmZr+eKSaG3DPop3dcVpRJXj86CJUIIaBnkAtPBma2JtwmEEAHkJF3SGaYBCTfNmkDwSRbZG/2SIZbkLSdmWDGUWYrchXR/x1KuV6XyrNjEcm2CYAIXZrnT6uqWlMCVXXPvq0xXVw/v43A2rZl244CkqLWvL5NMkdRJWRXSW+B1AyvZ5fd6+3cNwVADr0317VzLw+xuI+Zm0V/T9da3SUBtyxBHt0j/lm//vrzY3WzFa+VuQJIJmPofz/7j18HlJL4PJ7XRjeDnZJ7GYLdpaSrqlxvTgylfrjB1V3Mlt1dNgMEKfSDo6rWqjuDQZJwiIKk/kgbyc7svfcEJpKIBkt97CIRZOa6iSR6Z0bGdmYPzMx1XZMkZEJACHWrJCEyM8jY4u6AJPU55+oqaZBrnTm6LCEUZPqRx+PzXI5d6/gYzqPr/puA1F9+PD7OylbBeQ0fRzuyuHfuz/X4WsVgpLnCseqd+ASlv/pcrQF1ihTnsnLXw6hXl98H1sxhHW1n4J2Q/wD6zjA9XYcJVAAAAABJRU5ErkJggg=='/>"
      ],
      "text/plain": [
       "<IPython.core.display.HTML object>"
      ]
     },
     "metadata": {},
     "output_type": "display_data"
    },
    {
     "data": {
      "text/html": [
       "<img src='data:image/png;base64,iVBORw0KGgoAAAANSUhEUgAAACAAAAAgCAAAAABWESUoAAAB9UlEQVR4nC2Ty5FkRxDDQFbW656PjrJr/TdCOmo13ZVJHZ4cQDAYgH5dnw/NeK1Mv15d12Zsi0kEZQEQIJk+VCSQcADqzS4nGSdz3s3gkSWUgOp311ZCwpzuo0YSkRCg+uH1MCFD5rxa02sRIRBQP9mfGJIM/T6eyb1BIqL+neuoMgAwfTpBsmQA6sUZLU3SgvQ5g4wliQnV02EheoTSpyMbSUJOKnM6WRDJynQjrwAYUC3lnLEXzSpnIq81A0gZajnvn0te9GQvJZJMEiGFKvP+XWDW4tpKsCWF+7Bays8/mp5tp8pnkORRwIiqzEtMz/PDa9XqzAT5JiSlzMheqwZ5iRmSm9FGFWZUgwRy7fe8TgIyPcuu02+ez8/n5TS6Pt7z845ADGlUfw0f33/+UVpE3o/rgM1ECoL6m1r7eVlVhr0rQo6DElt1STmDvctJLZEMEmFAri+z01r7WhkB091jEA6ivh2byCIzM9Pn3D4DkurTE2WCkukO053cNwap9pqe95mMZiZaZdCtQ5Br1ZDpCQJcj95lW7IIqKqiZduWtfazqb2WbiUD9ShmP5/XtciCGWmv21cyqL4W7O+P51arZCKusgIEhfqU9Pj63E5kxxSP0vq/A1FfkR+PvdSghbKy7zIBovoYeS/dKUtSpie3EwT+Az9RU65j9hYqAAAAAElFTkSuQmCC'/>"
      ],
      "text/plain": [
       "<IPython.core.display.HTML object>"
      ]
     },
     "metadata": {},
     "output_type": "display_data"
    },
    {
     "data": {
      "text/html": [
       "<img src='data:image/png;base64,iVBORw0KGgoAAAANSUhEUgAAACAAAAAgCAAAAABWESUoAAAB8UlEQVR4nDWSQXIbQQwDAZCzKytOKgc/LP//Rg62pCGQwzpXDmqqmwT/RH27yWYV4tfjxXVUIolx0hNjTCAB4plBBQRJQkF/WasPIqGZ2XtzAoIimaQfoxxbMBLas1/qkCAAAuznCKdBBnE8z1fZbiUkCfTXKI9h20gc72c7FwRAoJ8jTljlJAA8HAP8xkR7YocFZQaIvSchCV2BJHG+GQhka0IV/v8gEXZAISMxhiEJuTxaRWa/9pJSkJiEUsUAKHSB9OtxUAUzSwykKicAyRZBPz47FKR0MaBE8jtAIfurOOMl9RXgZQBQTcHzFJPc31QlJgBAMqDYFjNQrz0TkiITJFRMkm1jBhNIRVASMheh4F39qRjn+6/7uTg0j9v4ObgO4aT/7vD28fF7QYLD43xkQCKEEffrFa1UFaqLdndLlEKAIXuJqIxRqwtTpSIviTBgv4GpgnqtRkIgzLXFwEC/SUYLoJh47IzHFqAQ6LNkCwG+Sx1j7AQMGHa3vLP3ILY9AXPFL9WWeoJcPYzDWpYkkmCAXl3SqmsG1jrHxyqRFBD0XRWvt9t5NFKBd+bsrlAEkH6HgOPH/VwyC8xkjlUaXNj9c0Cd7/elmEXRmHNJ13vQP3ZY57kKASQo8jok+apF33ZQ6+oJKaSTEkFerv8AtF1lxF30QcEAAAAASUVORK5CYII='/>"
      ],
      "text/plain": [
       "<IPython.core.display.HTML object>"
      ]
     },
     "metadata": {},
     "output_type": "display_data"
    },
    {
     "data": {
      "text/html": [
       "<img src='data:image/png;base64,iVBORw0KGgoAAAANSUhEUgAAACAAAAAgCAAAAABWESUoAAAB+0lEQVR4nD2TQW4cWQxDHylVtd1JYCDHmvtfZBbJ2F3/i7OoIFuJAKlHSP+o3987Q7X2+vq8OJ8P4pIg0L911GkSjTN7XdTEUoQJ6pd4rVJIJjPrpWOmHBAS9JdyrEd5FCasS3sSgSRB+lO7tzoTBZHNmoCwJDR9wRqsJBuUmWsPEpIk3JuZwR7tsWD2HlzKLaDvUShxp589khwAoS6ctbZtdlwlglyeAUm5BV8PqR1pdV0JsqOApG7E9XmAS6XjbCWy5SQgdUFe/zkzp8t9lHLbS4lMW8zLzN7zVu4uZf/FiGg5WV+yXccplzOTJDgo4x4ni1oDQu7y7DW3SSb2Xnvv1Pk4ihnq8abrawNYZKZ/MVMfPz8eVRrGb+8rG/mOCv3vNf7++PhRuEvO0V1CDpGCeiLNWlM+uhhXlUhQhSTq8xTn7LiPdrBF9t4thAb1UxUbucrcJ85eE4Ei1E87FLnRzZ5k9p6M/rR5VmWz904yMzMSdwtIhK7qZK9rAiRxHViyJAO0qxNzo4M6HsvnUYVUkPTRjXV0dZkaslKP7hoJIP3NrdHz/e08Irc0cbfvNaF/pER9fz4Ob0qupPtR6uR+vY8LfD7fj0pQM2j5LDsTgP52DXWcVQpgz0Qyf6qCfvPgv54As0PVZJBIVxGS5CY5s16fc6gyGKT/Ae3vWeZKR/uCAAAAAElFTkSuQmCC'/>"
      ],
      "text/plain": [
       "<IPython.core.display.HTML object>"
      ]
     },
     "metadata": {},
     "output_type": "display_data"
    },
    {
     "data": {
      "text/html": [
       "<img src='data:image/png;base64,iVBORw0KGgoAAAANSUhEUgAAACAAAAAgCAAAAABWESUoAAAB+0lEQVR4nC2SO44DRxBDH1k1o5VkOPG1fP9TGHBoSdNddKDNiQf+9Pf9cTBxe6736z3n815IsgFEv3yWJkqSrM94dlUiEAD9qZ9TIknC+uSYBEnSr+A/PdOZkICyrzVBkiWR0K/6jCphELDXNcG/CA291o6KhEhfglxfB8Lpmb2RSEZyZm9kE0Bm6My192ElkypnD3LPBCQx7azPdaiaUc7WzJcQQJLb7M+7sarD7fCeSEgKYE231uvwBFkcR00mICcgoS72y7mudR6uOvqanSCZIETX7LcyE1quozRrMpYkdqQWc0lVxwyuLvZaA0hkT6lhoh5JjHT8vNf7PQI8kLGva00//3jcnBmO+4/2wtbXouh/J/c//vqzKVt9nkeLyAES5P6Ho+psq7u0++hSZqz63bdb3teaqqMNtpW9dgmhBPVTOmdTRzchkL3WzvctSP2sWAmyMjMJe63JCAlBPyphJpBkJlL2BAkjoG+VnXWtY5RJVD1GlmQBtDuZtScI8HHedbR/BSFdBQjJHrtvKz67LCRg0seh5nYeZ5sCDeW2Cd8k/WhHj/vP2cGowD5LJuHbg6V6Pn5ag6pitc6WmW8T/Yx03m9tBDaK87UFgvRzcB+2fm8szcTlSYSSvm1kgQLJZNb7U2lvJJC7Jt+K5Z3sWe/Xy5yGb4z/AbeSVL7rbf7qAAAAAElFTkSuQmCC'/>"
      ],
      "text/plain": [
       "<IPython.core.display.HTML object>"
      ]
     },
     "metadata": {},
     "output_type": "display_data"
    },
    {
     "data": {
      "text/html": [
       "<img src='data:image/png;base64,iVBORw0KGgoAAAANSUhEUgAAACAAAAAgCAAAAABWESUoAAAB7klEQVR4nD2TQXIkNwwEswrobq3GungPfpf//wnvZS1pSJQPPeEIRvDAIoAsAPr7eL+YcVVmf3/v4+xEtjKDSC/PKAkkmckERZKQQPRn3sZJEmavZ5RIkoQVlP72GmZIMuu5UpG4I4xA/VUrApKZ9XzSwx3dMUB/1qK8Q2bm+eWTKRNJCkA/V1QoJMleNQHdRwA9oELMgszmFtxlEqUZwPeH2Tt7kF+CgFpM0J2V2YlU5uaAqM2spa4YixEqG7gFqEvr63S5964SyO6aAaQMas3Xv40q5SlLqrKjIAnh9v76rZk57C5Lsi1BkBOp2d9lCb3pvmUhBSQF9Wx9H2vteaHDC0FyhHpvGlcVkhIkkhd2FPpX/fzz4+04GMbnMWsFQGQDov/5+OOvD409xNf1uVfuVmSnpHSRRNVV0NVdrmIAyDjp95PBdZYS23XbgObVzn7UYfdxVEaQm6ISTySTfqeFbDJ775lkxkhxsJQ+54bLzF5rzySJ0MsP2pm9wzD7JgwE5fWuPmQAJRPcKfu29N6O9HVcZ3d5JPd5+TrK/4+TUD/08fhxHcR1zHMfb1cXkklASj/q43GdGgryNus62rlTANDvx+O9ncGyJ/s8ygOQRCT94zirGGTFozku2xPy8qy75BvKpJMuv1xAoPwHNhM1IPs1afcAAAAASUVORK5CYII='/>"
      ],
      "text/plain": [
       "<IPython.core.display.HTML object>"
      ]
     },
     "metadata": {},
     "output_type": "display_data"
    },
    {
     "data": {
      "text/html": [
       "<img src='data:image/png;base64,iVBORw0KGgoAAAANSUhEUgAAACAAAAAgCAAAAABWESUoAAAB9klEQVR4nE2TO5LkZgyDP4CU1D0PZy5fy/c/g8uhd6eln3Cg8ZYZMSAKJAHoz6gfj8pSFZnz69S2V2JbydAvrCThuyRZBCCTof+hZh8nMWTWWv41TKJ+pb1mMkqYdb5WTRCSMNBfmVohATLXdS0ijyyBRf9g1VJJyWSt12sc6d5EGfpEC1etUdbM66c2TQyRwPQQWYUmA7MuJ+AgCUEjJFuqFTIzBCSQBNClEkGVQay1MjfaEpAuWZmxGQ+5rka2uQdCt8x1ni7PKiVBrqr8ouhoXj/bZTclUFWVE0BAV+b6+mEUucuSq6u1AkiZVnJ9tSX2khXc1UYKskZO1rpe53le2A7I5ZtfktTXLCroP/m4VZCCZOi/VZ+fH89jKwEZXL7ByJL6r/744/ffSnZm8HYyEUHifvUOte+NbcK2f8118zkDqD9msyRtZXS5qlxF8DDB7s+rdlfXViSSausyExQyqJ9Le8ndzpAZuW6zjYOgj0slZDPrOq8ViUgVZSSpa5Q1kMy6znNNSATSGEtdYwFKZl3X5O4R3Kbp3bW3LU2S4O7S/0JEv02/Px97E8m97zn2spDuo+g3jve3Y9PIte3H4rlvxe0mJPpRz/ejPFHBOobjaCOJBKR+q8fRTlBJc4Vjq/CtrkRvvbn4tmKmfGx1Zz2JxL/EJis0yJCPGAAAAABJRU5ErkJggg=='/>"
      ],
      "text/plain": [
       "<IPython.core.display.HTML object>"
      ]
     },
     "metadata": {},
     "output_type": "display_data"
    },
    {
     "data": {
      "text/html": [
       "<img src='data:image/png;base64,iVBORw0KGgoAAAANSUhEUgAAACAAAAAgCAAAAABWESUoAAAB70lEQVR4nC2TQZIjNwwEKwvo7tHOHO137f8/4Qif1pJIlA8tXkGiwMwAv89fl2Zcnb1fz3ddlwM2SST1M2c7GSeZ9d45gmSDGEn9n96HEiWZvfaqLSQJOZbUr1pTUjLKXq91zMSSYpCkfvIrFlEy2q/lTCDirqufXrEzUhTNrJ0Ige6oXjOiMxlJyd57JMCAEnWSAJ6AMnvtYAs+Ga3sCcAMaLYD5bs/ktqatafMTGwlwa5EAifTxbxfRXXCbkvYVTORgKFL6/nHMhS7mwjbIRII2nr/Ke1ctncbBSOPdKNoz/vpTObrpMsoH86RTGgyL1d1neCyboc3KIDObPX+BJooiSIcZZfw87V8Pa6jNFGdl9Z7Pi1mL9H/6Ovvv34ON6Px9bX2+5Z1h9H/HnX9fFvuQn0cXWCPovv0hfYOHF1iV5UBnITI0D85NFSdLQUEyhiijDD9My5wlzMzk5nZE4RQgH5MrNwPZ+/J3jP5yAT6WpPZI2VmrySZUQhCQnRFWTuJMhNV23DPQoBu7A9W4T4Xx33HigR9zlzncXRpXOde0dlVwigK9CN6fD+ug7ik2crZ7SCJSeiH/Ph+nJWhQJOcbY+km3V/0Y/HVWzhKqtynrbnli76QZ1djoQdgrqBSLeOPqj6bNn9lySfGkr0P9jhTM3tqOUqAAAAAElFTkSuQmCC'/>"
      ],
      "text/plain": [
       "<IPython.core.display.HTML object>"
      ]
     },
     "metadata": {},
     "output_type": "display_data"
    },
    {
     "data": {
      "text/html": [
       "<img src='data:image/png;base64,iVBORw0KGgoAAAANSUhEUgAAACAAAAAgCAAAAABWESUoAAAB7klEQVR4nDWTS3IlVwhETybU+7kd4eh9ef+b8MgTS3oF6UFJBAMGeSE4N9Hf6P66s+uu3fn8nH4cWqtENrSxLSSBJBdlkSiwG/WQTQjf8VNcktD/0Z5VskV2zlltJF0tTX9w61lnnWTP9zsOsiyBQ3+KY5KE7M55nkysyJKS0B/ObTCQ7M7XlzpbVoRA9Jc1cWei3ez7s0PkgCRCTxa58CZkZ5wAQkKIBpCMPAu7Oxuk7yRtiwSTlbIz2uuBvkeUzO7ajKTMGLkqkhDQLeV8Hy7XYhHkKgfQJUDz9dEuVyiDqqo8lyLbFc6PVoiKtiWXS9kgCbWY87MEuRc22C5J13Iriz3fX+/31xnZkpC/V0Sye2aY/YFDcgG6lF71v9H98Xrej9LFDIl8FxL9jx+/fv91tysT6vaZc3+6DVFvph6vQyor9K3ZSMTJJla/cjiRu4rdcrmqnEDIiv5zfNjV3WJ0YbRDLjvQr+Uouw4TuPiATLxI6sdsGyztznnOVLKF0OWZPjTaCWTnPM/ZBX78Jqs7IbksObNwncMVgm7qVrZEElzdbV9eMJL6OXk977ejVqo67nu7Hb7OJmD1M/rj1+NeqJLb/eR2PzqSISD6wfHrdWuduOAcbrej5vrvgPrpft5bSSx71se9vQLIIv0PYaUy9+vHQIgAAAAASUVORK5CYII='/>"
      ],
      "text/plain": [
       "<IPython.core.display.HTML object>"
      ]
     },
     "metadata": {},
     "output_type": "display_data"
    }
   ],
   "source": [
    "img_show(img_map(lambda x: img_rando(x), np.tile(g, (10, 1, 1))))"
   ]
  },
  {
   "cell_type": "code",
   "execution_count": 8,
   "metadata": {
    "collapsed": false
   },
   "outputs": [
    {
     "name": "stderr",
     "output_type": "stream",
     "text": [
      "/Users/charolastra/miniconda3/lib/python3.5/site-packages/skimage/util/dtype.py:110: UserWarning: Possible precision loss when converting from float64 to uint16\n",
      "  \"%s to %s\" % (dtypeobj_in, dtypeobj))\n",
      "/Users/charolastra/miniconda3/lib/python3.5/site-packages/skimage/exposure/exposure.py:63: UserWarning: This might be a color image. The histogram will be computed on the flattened image. You can instead apply this function to each color channel.\n",
      "  warn(\"This might be a color image. The histogram will be \"\n"
     ]
    },
    {
     "data": {
      "text/html": [
       "<img src='data:image/png;base64,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'/>"
      ],
      "text/plain": [
       "<IPython.core.display.HTML object>"
      ]
     },
     "metadata": {},
     "output_type": "display_data"
    },
    {
     "name": "stdout",
     "output_type": "stream",
     "text": [
      "5\n"
     ]
    },
    {
     "data": {
      "text/html": [
       "<img src='data:image/png;base64,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'/>"
      ],
      "text/plain": [
       "<IPython.core.display.HTML object>"
      ]
     },
     "metadata": {},
     "output_type": "display_data"
    },
    {
     "name": "stdout",
     "output_type": "stream",
     "text": [
      "2\n"
     ]
    },
    {
     "data": {
      "text/html": [
       "<img src='data:image/png;base64,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'/>"
      ],
      "text/plain": [
       "<IPython.core.display.HTML object>"
      ]
     },
     "metadata": {},
     "output_type": "display_data"
    },
    {
     "name": "stdout",
     "output_type": "stream",
     "text": [
      "0\n"
     ]
    },
    {
     "data": {
      "text/html": [
       "<img src='data:image/png;base64,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'/>"
      ],
      "text/plain": [
       "<IPython.core.display.HTML object>"
      ]
     },
     "metadata": {},
     "output_type": "display_data"
    },
    {
     "name": "stdout",
     "output_type": "stream",
     "text": [
      "0\n"
     ]
    },
    {
     "data": {
      "text/html": [
       "<img src='data:image/png;base64,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'/>"
      ],
      "text/plain": [
       "<IPython.core.display.HTML object>"
      ]
     },
     "metadata": {},
     "output_type": "display_data"
    },
    {
     "name": "stdout",
     "output_type": "stream",
     "text": [
      "7\n"
     ]
    },
    {
     "data": {
      "text/html": [
       "<img src='data:image/png;base64,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'/>"
      ],
      "text/plain": [
       "<IPython.core.display.HTML object>"
      ]
     },
     "metadata": {},
     "output_type": "display_data"
    },
    {
     "name": "stdout",
     "output_type": "stream",
     "text": [
      "0\n"
     ]
    },
    {
     "data": {
      "text/html": [
       "<img src='data:image/png;base64,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'/>"
      ],
      "text/plain": [
       "<IPython.core.display.HTML object>"
      ]
     },
     "metadata": {},
     "output_type": "display_data"
    },
    {
     "name": "stdout",
     "output_type": "stream",
     "text": [
      "9\n"
     ]
    },
    {
     "data": {
      "text/html": [
       "<img src='data:image/png;base64,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'/>"
      ],
      "text/plain": [
       "<IPython.core.display.HTML object>"
      ]
     },
     "metadata": {},
     "output_type": "display_data"
    },
    {
     "name": "stdout",
     "output_type": "stream",
     "text": [
      "3\n"
     ]
    },
    {
     "data": {
      "text/html": [
       "<img src='data:image/png;base64,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'/>"
      ],
      "text/plain": [
       "<IPython.core.display.HTML object>"
      ]
     },
     "metadata": {},
     "output_type": "display_data"
    },
    {
     "name": "stdout",
     "output_type": "stream",
     "text": [
      "3\n"
     ]
    },
    {
     "data": {
      "text/html": [
       "<img src='data:image/png;base64,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'/>"
      ],
      "text/plain": [
       "<IPython.core.display.HTML object>"
      ]
     },
     "metadata": {},
     "output_type": "display_data"
    },
    {
     "name": "stdout",
     "output_type": "stream",
     "text": [
      "4\n"
     ]
    },
    {
     "data": {
      "text/html": [
       "<img src='data:image/png;base64,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'/>"
      ],
      "text/plain": [
       "<IPython.core.display.HTML object>"
      ]
     },
     "metadata": {},
     "output_type": "display_data"
    },
    {
     "name": "stdout",
     "output_type": "stream",
     "text": [
      "5\n"
     ]
    },
    {
     "data": {
      "text/html": [
       "<img src='data:image/png;base64,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'/>"
      ],
      "text/plain": [
       "<IPython.core.display.HTML object>"
      ]
     },
     "metadata": {},
     "output_type": "display_data"
    },
    {
     "name": "stdout",
     "output_type": "stream",
     "text": [
      "3\n"
     ]
    },
    {
     "data": {
      "text/html": [
       "<img src='data:image/png;base64,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'/>"
      ],
      "text/plain": [
       "<IPython.core.display.HTML object>"
      ]
     },
     "metadata": {},
     "output_type": "display_data"
    },
    {
     "name": "stdout",
     "output_type": "stream",
     "text": [
      "1\n"
     ]
    },
    {
     "data": {
      "text/html": [
       "<img src='data:image/png;base64,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'/>"
      ],
      "text/plain": [
       "<IPython.core.display.HTML object>"
      ]
     },
     "metadata": {},
     "output_type": "display_data"
    },
    {
     "name": "stdout",
     "output_type": "stream",
     "text": [
      "9\n"
     ]
    },
    {
     "data": {
      "text/html": [
       "<img src='data:image/png;base64,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'/>"
      ],
      "text/plain": [
       "<IPython.core.display.HTML object>"
      ]
     },
     "metadata": {},
     "output_type": "display_data"
    },
    {
     "name": "stdout",
     "output_type": "stream",
     "text": [
      "0\n"
     ]
    },
    {
     "data": {
      "text/html": [
       "<img src='data:image/png;base64,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'/>"
      ],
      "text/plain": [
       "<IPython.core.display.HTML object>"
      ]
     },
     "metadata": {},
     "output_type": "display_data"
    },
    {
     "name": "stdout",
     "output_type": "stream",
     "text": [
      "1\n"
     ]
    },
    {
     "data": {
      "text/html": [
       "<img src='data:image/png;base64,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'/>"
      ],
      "text/plain": [
       "<IPython.core.display.HTML object>"
      ]
     },
     "metadata": {},
     "output_type": "display_data"
    },
    {
     "name": "stdout",
     "output_type": "stream",
     "text": [
      "5\n"
     ]
    },
    {
     "data": {
      "text/html": [
       "<img src='data:image/png;base64,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'/>"
      ],
      "text/plain": [
       "<IPython.core.display.HTML object>"
      ]
     },
     "metadata": {},
     "output_type": "display_data"
    },
    {
     "name": "stdout",
     "output_type": "stream",
     "text": [
      "4\n"
     ]
    },
    {
     "data": {
      "text/html": [
       "<img src='data:image/png;base64,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'/>"
      ],
      "text/plain": [
       "<IPython.core.display.HTML object>"
      ]
     },
     "metadata": {},
     "output_type": "display_data"
    },
    {
     "name": "stdout",
     "output_type": "stream",
     "text": [
      "3\n"
     ]
    },
    {
     "data": {
      "text/html": [
       "<img src='data:image/png;base64,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'/>"
      ],
      "text/plain": [
       "<IPython.core.display.HTML object>"
      ]
     },
     "metadata": {},
     "output_type": "display_data"
    },
    {
     "name": "stdout",
     "output_type": "stream",
     "text": [
      "6\n"
     ]
    }
   ],
   "source": [
    "grays = img_prepare_all(proc.X)\n",
    "Xb, yb = img_select(grays, proc.y, 20, img_rando)\n",
    "for (a, b) in zip(Xb, yb):\n",
    "    img_show(a)\n",
    "    print(b)"
   ]
  },
  {
   "cell_type": "code",
   "execution_count": null,
   "metadata": {
    "collapsed": true
   },
   "outputs": [],
   "source": []
  }
 ],
 "metadata": {
  "anaconda-cloud": {},
  "kernelspec": {
   "display_name": "Python [default]",
   "language": "python",
   "name": "python3"
  },
  "language_info": {
   "codemirror_mode": {
    "name": "ipython",
    "version": 3
   },
   "file_extension": ".py",
   "mimetype": "text/x-python",
   "name": "python",
   "nbconvert_exporter": "python",
   "pygments_lexer": "ipython3",
   "version": "3.5.2"
  }
 },
 "nbformat": 4,
 "nbformat_minor": 1
}
