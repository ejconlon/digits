{
 "cells": [
  {
   "cell_type": "code",
   "execution_count": 1,
   "metadata": {
    "collapsed": false
   },
   "outputs": [
    {
     "name": "stdout",
     "output_type": "stream",
     "text": [
      "ready\n"
     ]
    }
   ],
   "source": [
    "import sys\n",
    "for p in ['..']:\n",
    "  if p not in sys.path:\n",
    "    sys.path.insert(0, p)\n",
    "\n",
    "from collections import namedtuple\n",
    "import os\n",
    "import pickle\n",
    "import random\n",
    "import warnings\n",
    "\n",
    "import matplotlib.pyplot as plt\n",
    "import numpy as np\n",
    "import pandas as pd\n",
    "from IPython.core.display import HTML, display\n",
    "import skimage.color\n",
    "import skimage.transform\n",
    "\n",
    "from digits.data import Env, Loader\n",
    "from digits.explore import img_tag, img_show\n",
    "from digits.images import *\n",
    "\n",
    "%matplotlib inline\n",
    "\n",
    "env = Env('..')\n",
    "env.assert_ready()\n",
    "loader = Loader.from_env(env)\n",
    "loader.assert_ready()\n",
    "print(\"ready\")"
   ]
  },
  {
   "cell_type": "code",
   "execution_count": 2,
   "metadata": {
    "collapsed": false
   },
   "outputs": [],
   "source": [
    "orig, proc = loader.load_data('crop-test-small', 42)"
   ]
  },
  {
   "cell_type": "code",
   "execution_count": 3,
   "metadata": {
    "collapsed": false
   },
   "outputs": [
    {
     "data": {
      "text/plain": [
       "(100, 32, 32, 3)"
      ]
     },
     "execution_count": 3,
     "metadata": {},
     "output_type": "execute_result"
    }
   ],
   "source": [
    "proc.X.shape"
   ]
  },
  {
   "cell_type": "code",
   "execution_count": 4,
   "metadata": {
    "collapsed": false
   },
   "outputs": [
    {
     "data": {
      "text/html": [
       "<img src='data:image/png;base64,iVBORw0KGgoAAAANSUhEUgAAACAAAAAgCAIAAAD8GO2jAAAFiUlEQVR4nFVWwZIruQ0DQKntmezLH+4hp/x/VfaNWyKJHOSZTbrc1QeXBIkAAfJf//7TBtx0d5UbMNzea7sNAIBtgwZsAwBR3tm3hmKMMYYkhgB0tcu2TQK0PSJEAC13ETZgo9GV5Tb43rQN/w1mqGMEpQhFKMZQBACHXW53l7sBeohBmIJN0KYNNLz3rizw3OH/ANodk89rasQYGiPmnIpx/kbD9n3vdAIcgAADDQJUu93u8n3fmUnyfWrTAIjuaveF8fCw2w4yqAiJJAzQLu7ergYwaEcEGZ1ZVZm57nXf99q79m67u7uboEET3ZW1r5yaYGhes6q6u+ccChcqu7ruve57ZdZ4lwB8/w4JNgADbrt9eDif7i577/z66xVTrmZDIBqthtnZVXW/1tfXV2YOfGuDIEGKkkISSVEWAZskDZTbTQHd/Xq9ItXVaBCCaRlml6tqvdbr6/4bgABAggG23s+IAdl9VMezmoCrd63X19Jgl+kIjsHBoW+Azl25MjMH/F0cWpIUYo8Yz+tRVfgf7dvOqsUFITsz73AUu0af7hFECiyTIkUGOX7KDwPkG0Pj+Xx295sf0kC7994klaqqtW4xCAkSI3TNuAgIpDGgAUH6IfmUCJIiBIf4eFeNhwBnVUQAkLT3HppkCEFIjKkxNUjShCCIJs3hoxBSJCWySSoiIkgeAEkHQFJVujsUZBAieY5MiwyCcrONbnSj/PcNTNDnNNKp27tilGTCpHJLImWzqkUme1d3O12ZSSD33iv3zszMymESx5gOGwBA89gSgFPgAGD2fjMnAN1udu1U5L1qrhQHgb33uu/MqnKlh8EGYRAmoBAItVANgKKN06trrXXv0+d7725QjAhKJtsom3CjQcac87ooDQMNAJZNidKMAcOZsNvOzKrce6+1vr5ef/3+/fv379drHad+PB6fn5+PxzUiKImY1zVicETMWXu/OTDQBG2YBkk0Wd2dWZl7773utdZaa6+11yLx8fmp0OPxuJ6Px8fz+Xxcc5Lsns6CCKAixvHLwynemeK39t1Zudf9et17r73Wfd/3urOKGmMMxDtwIuI0/9mth6cvkn3lt4r84/xvU3O7qtba92vdr3vvc42NMhFjXh/Pp8XHdV1zjpNrodM0ADQ5gt1j8G0G5BHS2zk6s9autfZ9r71y78psN4NjDj8/Pn79+sXQjHHN63pc1zXHoIHOYwkF08a7RHyniul3luauvHN9rftrdVe3AcYYAV3i5z/++OOfv47hjog555xDAbt5rL1x2vCbZOMAwiRod2YeUvfOs0RnQYxxzY/nx2PMBkTGT5oZNoEGLDEUJMd3KP4Q8I7Io8u9du4mGSQJQaGYY44YBAm/NYKfRHHT5He6HIBjtu/XBujGztqr1u6slkSd7D7ZQds707CkiCAbwBiDJCnS3W13IIb7yNR9wvLbuV2d1dXVXRRNNtxuuRtYudZ/bgMkxxjXdc0xxwwSsKvKQJCmh3FAAbK6elee4mS3XfaqxM4IXjPmvKrr9Xq9djeSohRzXnvv6xqx4zTCmQLOZUeDIuPtkShUu6uq3IZBtJ17RYu8pHbnrmxUIxmMMc527TFqiDp13HvtvW0Pg4AMvb1UhIISAwpGcAxVE2TDWclj3SizUTJaKlYyASI4ABK99r7Xje4B0US9+1cGIcacMee4alZlldEnkpot0O1GN1tClTMpKS11g00Q7MaZp2qAPIMqjohFBmVe16SbNIV9BQx9uwDc5Sq3aZIa0pAiNEISzxZ7MULk+M78M22ZkhCEnx+PMTRmXI+ZuWD+ABDOylVpNMmIGHPOxxxz/vhRHlV2vxutz3REAmSIGkOMA5CX6/k9AIAM0ln52vv0J8UxZ1xzzDEUAklmleGu/i/EyrRCBj94qgAAAABJRU5ErkJggg=='/>"
      ],
      "text/plain": [
       "<IPython.core.display.HTML object>"
      ]
     },
     "metadata": {},
     "output_type": "display_data"
    }
   ],
   "source": [
    "img_show(proc.X[0])"
   ]
  },
  {
   "cell_type": "code",
   "execution_count": 5,
   "metadata": {
    "collapsed": false
   },
   "outputs": [],
   "source": [
    "g = skimage.color.rgb2gray(proc.X[2])"
   ]
  },
  {
   "cell_type": "code",
   "execution_count": 6,
   "metadata": {
    "collapsed": false,
    "scrolled": true
   },
   "outputs": [
    {
     "data": {
      "text/html": [
       "<img src='data:image/png;base64,iVBORw0KGgoAAAANSUhEUgAAACAAAAAgCAAAAABWESUoAAACOUlEQVR4nC2TS5IjQQxCQVJWVbv75nPbHtuVH6WYhYcVC+ItCOCf1fsMz/5+vVMAza/H9+MrJNCAoJmZcmVuAYB2WZvHNgAAEbRolXOMkSUYdmbS3GGk0RgSzdeevSfMAlm7k34wgoAhCjRnrTnlFqcn53rZcbkJMDIEmplyLos4H23byjnGPEoEwBAZMqoE83Ydpf7KlbsAmBHx4RA092itaTUrqQQzJxkAaXFetew8mvs2N5UE0j2IKIJqj31MNA/uTMENAD0iwNgE1H7s7BvQ0urJcCfN3B2MbRTOK44YM2vWHANHc6OZuwEBgPSmmmPNmbnWVjQjaUZQ8bEWzsrRx8oC3I0fgdFg9HBZZc7RV4kOWhhqO4AIgEZQgrmZUVIVBEkCGQRI1dqIi3GsnXOrMrMEmikMBHaOnnbGeeXurzvXWplVACwclHK97o52sHa+ucbKOXNXSQiSVet+vnuLOBzZ8qnKnbml/wHs/vp9zqud7bLCO1CqKkmAQtBe/fn7d+b1YGvZ3AAJAEggJOwc9/s98LOqau8tIwmCBBEF7b3mmrPNOUeu970AQcKnh/rw3FG5BjB+X2luJAFIDED0dj0ymf1513y+K9xobiipgiDivHJ15HDkvAeat4gId/5fIzNr3ol111pjtcvbeUY0dzLKjGzHo2pUrtx74/hux/fjcRBliOUwMY4v3XcfWWA7v87z++t0QlIMc6IAejRxF2CHG1XbKDNEsojPkz2wC6AJqFIVAPwDRcmksjQ5JNwAAAAASUVORK5CYII='/>"
      ],
      "text/plain": [
       "<IPython.core.display.HTML object>"
      ]
     },
     "metadata": {},
     "output_type": "display_data"
    }
   ],
   "source": [
    "img_show(g)"
   ]
  },
  {
   "cell_type": "code",
   "execution_count": 7,
   "metadata": {
    "collapsed": false
   },
   "outputs": [
    {
     "data": {
      "text/html": [
       "<img src='data:image/png;base64,iVBORw0KGgoAAAANSUhEUgAAACAAAAAgCAAAAABWESUoAAACMklEQVR4nC2TsXIsOQwDAZKaGa/r/fd9r+3dHUkkcYEdIEF10kHzv/te9Fqv5zMl0Px8PD4/hgQagAAAgH8D1FVV3fy7g2ZEVWYJINS7zSNoIEkyzEfvnHNmCWTXStGcYU4YETDz7D3nEi1MM3fTh5MCSYZgbqq10jyOQ9G5bJxHOACQIZoZOnfTxnVx1Fpz7WqBJBCARThaoMdxma2nqqpAMyMZoFk5aXCPEdYj0N0SaGFEyMgY18M0jsONoFlJgnm4E6E22PXP7rIIlnbBRYDm7k5EmYDL49wtZOWc5XQjae4GRMvk5zmO91xZtddMMydJI0GFCNJdtbTnWntXIdwAkiAYJOlm4ah9z7lTcJoZ1e0AIkhz96aqau8tsSVAaglkBEgjCViMkqkaVVXVEs0UBhCqbIwPO1bWvnflWpktEPYLVM9Zdoyqqjdr7f1LCAgHoNw/rxuHu1RPzTtzr6xuAUGye7+fP/fw4worX1+qqq6WRAVJ9Hx9fc8zLr+i63To1wEEAkLv+fz+uh/nAxZJmFGAAIIIQZXrvt+3PteunXsXAUlqgYyGqnNnbp9zhu2fd9pfBZIQDUGghyvX3VjfrzJzIym1IQTAx/VZpbyfd6/Xu8PD3d2NZBDwOD8y5+71Zq576YhxHCPCnAyCYFfXullv7dw5rvN4fH4cTgkh0DjG1XrtmpktG9fH9XhcQTQYmw7Ax9m87xIddozhRnXBDDFpht/u46C3wEFA3d2E+D+zmK6wfOgq1QAAAABJRU5ErkJggg=='/>"
      ],
      "text/plain": [
       "<IPython.core.display.HTML object>"
      ]
     },
     "metadata": {},
     "output_type": "display_data"
    },
    {
     "data": {
      "text/html": [
       "<img src='data:image/png;base64,iVBORw0KGgoAAAANSUhEUgAAACAAAAAgCAAAAABWESUoAAACLklEQVR4nC2TS3YjSQwDAZJZku059xx4Xkuq/BCYhXsfq0CA/973qtzz9focg7bq6/v75xkRkREoRqb33qcNkOi9W0iOIkCyslrnrHseMzIdvT+OyogAQBaz1DprbUSOixuan7oeowASKCMyqbM7WI+vPDxzzX1kMEgWGJkBdTPyelbr/jPPOTIjiiwzShkAGZl19ePK7pbArF8gE1dmRY1RSUYlLZkREcECyBrfKzseI93nOEcQBn89GDauH36OI3y0782rCAAkiRJM1z/jOc/p3mfd05UBGCSBagK+rmvk55y111pHkYQBKYgSSUamz/Se91wtBkhaksEiQTJYCZ0157EJyVLLCFaSERmRAUREApbPWXt3C2ANgL+zRD0xVrvn6jXmtbtlV8IkrCMUqlteL91rzPHYl8QiSKA1743xIOw79t17730ku4Kgcfb7ffuqq8K333m6u1sGKgFa537/edMjnwM5H3UsyTZYBAjv+/Xfm7i+YuBkJu1fBEUD7n2/Xi/E87vlbgGWJUkuG1aftebt8ZkTft/bJA3AdgmGpG7prHlfu9+v25kkggRKMAxGXZd6fci+XxMjKzMygyUA5nh8t9rrQ6/5Objquq6RQRQBsPR11Fta0F6zr+fz8fPzHIR/AV4SrIV+n9NiPb6+vp9Ft4sGGKEt8157LyFyZFJSEy7LQIA1HiKBlMki7JZs12khCIGRWWL3XwGGAbJmCxGw+Tdj2ICA32PU/877yGuz9JYjAAAAAElFTkSuQmCC'/>"
      ],
      "text/plain": [
       "<IPython.core.display.HTML object>"
      ]
     },
     "metadata": {},
     "output_type": "display_data"
    },
    {
     "data": {
      "text/html": [
       "<img src='data:image/png;base64,iVBORw0KGgoAAAANSUhEUgAAACAAAAAgCAAAAABWESUoAAACLklEQVR4nD2SS3YkNxADgfyQ1a3R3NY3t1pdJDPhhfSMLVaBAP9RXNeo8uv58QwS0lmv19f3gkGNkNTdjIhwEgAZHe5mAgBFo862zDFnGCHQh6vqqCBBYSK64eOayVbJLRxdu1mSFCTVJeac1lWrQiOfve8jNdRBQF1iZKpqfW+rjHG9xzoEgCCksoI50bXet2E+rkw3AmoFgJamoO46ey36ajdzQt1SAJC61h3Va+1TVtU0kuiuozAI4n7FGdjniO6AJKC7zlE4BHB/aV0GyT1m4FS31KdK4ZKI+z77jGEZnnPi7OruqioFKEi1YZk+wiMzbe+WurulaPzYONUWc45IM1RVS2oBsYFWnWJbxJhXGtGnuhowAHEAqAXQAAE/QikIRkohABItDHWza5un/QSEFA0I8JjT6651R8zHZZEZZoA6ChAZ+XwM7kX3eCoemTnCDEAIktm4/jzH+d5bjO1Pc88IN5IhCIz58fcj3/u9VgceB2bmZiQZAOj5+Pz76f5+1V0xTwMkCAAIg+h5PT4+Qv8GIdLQwg+dEAbQI+cYuUZm+njMwP9RGECSlGCRE5h/ntEt6Pf2AKA693ca4jqXzc+HVVWrhR+K336kcjZiPCd2nTqn9LsDsN4RY5CDFuPKs2qtffapVhCoxrpfzoExPDywX2e9vu5TDUSqJfR5Gx5zpDtQ92u9X9/v3SDjUlfTpNpupBo6a+9zSjQnI9AmEID6UG5AHQn8EW7/Af3ZqyqXeqYPAAAAAElFTkSuQmCC'/>"
      ],
      "text/plain": [
       "<IPython.core.display.HTML object>"
      ]
     },
     "metadata": {},
     "output_type": "display_data"
    },
    {
     "data": {
      "text/html": [
       "<img src='data:image/png;base64,iVBORw0KGgoAAAANSUhEUgAAACAAAAAgCAAAAABWESUoAAACL0lEQVR4nD2SyZLENgxDAYqS2z357nxvlm4vEknk4KnceACqHgjwz/NabnF+v1cKpPX9/f4ZJpAGwGlmysiSAAAgaTRCoAC4uVfEvGcIhFTwyCwTABBy0azmdc4UyIqYaN5bIwkD6IARcd9LZs2KK87mo8EaSUIOM1POGa351nWuuGy8uhGgEXKaBytTbGPf0Na85r2yHlzAaXSDQPO+vaDXJ1ZmPX5CDpp5H1Lvo3eEsyQBpBkBegm2/aGr3IezQDwBrbVGQF6U7WhnwEyRM0Ujac39VwBs7u73yppa90R3t0cASg6ydVasWlm51q0x3Ky11oyA3GitobHWfa+ILPVuZrRmpEBvbN5kFeu+7lUCvTUzM4Ig8HsqC6rMzAKtuUH1lOsGIlfARwotM1UiAAEgIG9C6L7TNuvbiuvKysjS80rITVrrOG+OsceaXx0Za0XpqQJuWfP4HLHt3ZW3zXNFrP8XJofW+fnrUI395briw19YQQDkFffxz99f2ht9A0YDJAmAIECesa7jOLitAgEJJMlfAsAzY805udZapuuaIknSHgVdAKyZKtYZ8f1c9fgFkhKc1sZ+z9Q6i3H8u2hmZiQEUPKmsb3269Y8V63rCLf+bEFFSG4+XrEuMS/mum+O1nvv3Y0kBIeZbz/hUWdmRb527/t76701EjSflPn4seOakVDbfsZ4v/dOihDgNyXBWi+0FGwb4/XavPHpW16ABMEcmQA7DapKyEio/gMTWJn1s1+H7AAAAABJRU5ErkJggg=='/>"
      ],
      "text/plain": [
       "<IPython.core.display.HTML object>"
      ]
     },
     "metadata": {},
     "output_type": "display_data"
    },
    {
     "data": {
      "text/html": [
       "<img src='data:image/png;base64,iVBORw0KGgoAAAANSUhEUgAAACAAAAAgCAAAAABWESUoAAACNElEQVR4nC3SQZYsNRBDUUkRtrOqP2yWlcOB7sq0I8QAxu8OH/9AzjVjXq/XDPi05jv6+68/v++zqyqNrqPQmDPd595cek/ve58i7BToroZGqmp/bm+NNecIwW0nAZfKUrD67E9Xvr4yMwl31X8AWQ2j65xTeHZnhIjuUwna3XHO2dznVNt9ChTprqoE2Pa5v2Pr3LsZKVTbBFzdSUKN/rBWulsj1oo6bdN2O0UY5L2ftTI0Vl5rYh8QhIEUaZD32buvnHPMOVLVBkGpU0IT3QeaiHldcwRd7rYiDtMG4LbPaSrnmgG2pJAkOl1wd1exDHTXaYjMMeYTIvLAsBsAuh71M6RcmXM9Y0QoCwZtSilvPxHS1V+z9/XcGUobsM0Ra4ZvG4yX55VjzJFiFmCYjPV+X/15nup48hcjIkJkFgBYGtfXb9fp53wO8X4KFCUym4BNzdev36/n3Dhbp+okIUpMgwCV8/316/Xsn4yKCBqURCkFglCMudaK13XtyPeVbgAkmWGAkCJI5VpXeXy9h0/ZbiOzAILoPs+IvL6C4/UernO6uiopAEDvnyFdWi/FXFfWs/ezd3USBtDn/kllOFfkmFP39/P5+5/7OMsG0IYEMTzmjJDPz+fz/SkoCwTg03ETPeeYQ336qYZC4WykaAO9JTXgI6OLgBTFpDLkMAN21UbH/5uSBJAvRdBtELBtGyTRImG7c0gC0PivQzkiCO2bFIkkbLjLCBuMnCsIxjk5Rn73v2DIk+C0kanXAAAAAElFTkSuQmCC'/>"
      ],
      "text/plain": [
       "<IPython.core.display.HTML object>"
      ]
     },
     "metadata": {},
     "output_type": "display_data"
    },
    {
     "data": {
      "text/html": [
       "<img src='data:image/png;base64,iVBORw0KGgoAAAANSUhEUgAAACAAAAAgCAAAAABWESUoAAACMElEQVR4nDVTwXIcSwwCSd0zu2u/v82Pp2J7plsS77AJnKiiuAD8pXicM2ucr4/TCaHy5/vrazWhFkKAJLq7kwCI4arMLkiQQuhM8zHPGaQEH+ZQ9a4G1AGp0t2P8wh0JcLGid4pNSQFCXTJxpxWlVcNjPnMe2URgIKguho+hrLu7x0dcx4zDFA3goCKJRqh2vcye3aEu1GSFKCU2i11V+7ctlabuUFdWQqCrcr7Gqm1sgR1gyTV+TaAQF6/80BlMsZglySoqkphFJv9XesIg03Oc2pnS62uRhjR5L7v9TjPERbzmFy7IXQLCpoo9SbjsHnMMcOtSsKbgYakbmTD53nOYVB2t2heQCSg7mq1zN0jjIAZANIoRAJQSxJQy01mbvQY4QaoowFAMg7rpbyHxXlGjDHDnUA0AIHhx7Sq283ni2PMY40wmqIAiIzj4zlrZcFmjWd4jBFmZDQhmc/nx2vcmffWYa8a7uZmxN/JwY/nf5/+vX721bp3AyQBAAGA9HG+Pj+H/fyhJKAFACSgMAJwn+f5mHUeY+g4poF/gXAANHc38zHnSXt8nNb/MhgGAFTXWoPjzIefnwcyu7sEMAAAqvUzIjAewjheU7l3ZmVJIQDCvobHdJuwMc9Y176vtata0QRUusM8JkZERGD9WdfX150gAySqlfsyPOacw6Fa131dq0BneJiswa59EaRM6N0CzVxkPJzvGUPq2nqXTNDMSDLCgW4B75tLIkjwn/oflWuhfOMlvpgAAAAASUVORK5CYII='/>"
      ],
      "text/plain": [
       "<IPython.core.display.HTML object>"
      ]
     },
     "metadata": {},
     "output_type": "display_data"
    },
    {
     "data": {
      "text/html": [
       "<img src='data:image/png;base64,iVBORw0KGgoAAAANSUhEUgAAACAAAAAgCAAAAABWESUoAAACLUlEQVR4nEWSUbLcOAwDAZKS7Jm8qj3vnjsvHksisR9OsvzuYoFg89/jaDvb8X69nACk+/r+vqaIqoICgEBAAACocs21VhIACEZVGqNF+EOQxN8hEMr01sYYYRRg9Foz/NkgIKAS2zh6oCQwgrX3kqTSb6DofTRW5Wa5HdprKrOAAgJVBW/dq/a80a23c913FqCSEKrdZG5Urs+l5aO33sKMgB5AWyCUue67qi+6uxFSSWIAqr1ucM+5liwLJEmpSoLChPz8xGG55xYoPAeqMktgmJgXcgaUcGthqpKUe+8CEAbMe+cezay16MOqMqsqM0tACMoF8+jNzaINz1xZmbmzIIZUmUxZG715hHnOnVWVVQIUqdxJWcQYo7lBmVX1BAEQpRQAMzNvzYhE7Z2F308NSfQI1rrNYW60xw4SEBEJuPXueWuvFn0EzcxIqAQhkmztPBvm+lytnXp5RIQTUAEI0dvrfca6d9H78tEjWpjZnwyM88fXyWvuO9lxfNE8wo0gBYa38fr65xQurVurzwKNND52MjzG6/1+1eqsXV7/G/vYHu5tHMeRvYW5tRZWVZKemoCgmRE09xjE6306AOkPwkDlmnOAbeTw19fhz4JHCiIy17z6cLbTEeePob0zswokCEau+4pxd8Ro1sbLs9bae2cJBBi12vx894Sf8Oi95t5zzrWzJEBBat/ua8Thbsb9a+7ruu6VJYGKUwblbbRwJ/K+PvO6PrP0FPUfuwKr43AJ1dIAAAAASUVORK5CYII='/>"
      ],
      "text/plain": [
       "<IPython.core.display.HTML object>"
      ]
     },
     "metadata": {},
     "output_type": "display_data"
    },
    {
     "data": {
      "text/html": [
       "<img src='data:image/png;base64,iVBORw0KGgoAAAANSUhEUgAAACAAAAAgCAAAAABWESUoAAACM0lEQVR4nDWSQZIjOQwDAZKSyp7p2dfO09t2SSSxh97FOQOBCCT/yta10JzP569JQqr9/n69tkg1osXuNo85wgCAMCPxfwJEV9lY65pOCvRg7nATACgIomv4vK6guhU+vStPd0tQEIBaNtZiV+8OzIk6uw9K6iDQZeKYo7P2uxwzHnmPXQVIQUjJhhnRud8nuK4xRzgpSAGgUS2pqs69T40jdzNCaClMoJT7bdF7n0xUgSABdbXCJIDn23KoMkUjIQjoriqEq8G+q88yCh5jOrIkdWYWgiCpvbtrDbPh4xrKrOquzFY0hK7EOYtjuPuIoX2yq6pKigRaWSgx5poj3EyZ1d1d+gHQ2ZDFmNeablBVdne3JESDasloBoFmZFOdKZAUoimJHsNqG7rCw0gCIPnTAMB8PiaPcs+Yj0X3cAKSFA3RYjweFzM/rxFP+RUR4UZICgm08fh6rvzeRxbbHuY+Rvx4FQAY169/fo/P/pxbrkfS3NydIBEkYjy+/nwNf33XzlinSfA/LRkG+liP53PUCkiAUfoZCAFhoPuYMUZEjOHzsVxSq3+IIAiiu5weE7q+nkMtCIAkhIDOfb8GFVcV15+nV3V3CyAUgirvz7yGYgG+nksns6paJBFsad/vcQ3Ycou5ojLPOedUCwhHqet+RU+byz2i7537fZ+T3VLMKplqf+t5zXAS5/0+n9f7ky0AMasFAqrjlAjc9+d+vz+7QIJh+nmWUKKLwM4WYOYAhX8BgivBrz/mzPcAAAAASUVORK5CYII='/>"
      ],
      "text/plain": [
       "<IPython.core.display.HTML object>"
      ]
     },
     "metadata": {},
     "output_type": "display_data"
    },
    {
     "data": {
      "text/html": [
       "<img src='data:image/png;base64,iVBORw0KGgoAAAANSUhEUgAAACAAAAAgCAAAAABWESUoAAACOElEQVR4nDWTy5IcSQgEI4DM6u7Rn+/XSvOoykogdGgtFy6YhRs4/K/WdQN7ff9cLaKrjo+PXx/DzNwcAXW3OyqcgMBxPF6v5wwAUCMAAJDeHYSPecwRLkFshJm7aefeJQCiBJAEQAgIwdz3fa2VEqGu9pnVFEAQIcBMe12rYMbOvekxXCRhQEg0U93Xplu4rr1PGzPgTpII0cxQe1fYeAx57mXHM90A2nsgkl0N+nw8ZPe19t458GYNkHQ3M0SM44CmVZYE0N4RAmw8ntSYc4TcUUADZmYEokHY4xfPdh+GbkAgaeZhBKIAxMtibAF950qFkzSPcEABETGMvFYqtdfCGOFmHu6ggiQ9lKZ9766dN+YId3cPEoggLbwNua91V7Y0hpuZO0khQnQjlbnXtVKiu7uZGUkQRjNjd4vu/Hd5cye6BQBhIEtrKx7wsXOX/peDBBAOaed5ph0xH/v+uXZVVgs0AxSGrn1+XxXTXpmn1Z2ZWS2AAIPQPj8/L77mEcyjz6+qvasbEIGQcn3/+X2FP/0x2s63xt2QBCi6c/18fV7zkRyzh1MA8OYUEJ15X+d19sqWuqpk/FcAEK3u6q6s3Kvy++cGQdrbBigA85hzsXOB+8/nfi+RAEgh6D6O57pY6/vq/fXT4e5ufHMoDPN45Tpb96nc58LwiHg/oqCgMcbzvm/b3bnvGtOPOccIIyFESRzz1eedK7vLn884Xq9juJOAxWkoMGZ3dbd8Pl/H4/k8wgQR+gvlH4yZnMsL3wAAAABJRU5ErkJggg=='/>"
      ],
      "text/plain": [
       "<IPython.core.display.HTML object>"
      ]
     },
     "metadata": {},
     "output_type": "display_data"
    },
    {
     "data": {
      "text/html": [
       "<img src='data:image/png;base64,iVBORw0KGgoAAAANSUhEUgAAACAAAAAgCAAAAABWESUoAAACM0lEQVR4nD2SwYJbNwwDAZKS7HXa/G2/vLHfk0iih016Bw6YAf9Zj4XmfL6+phFSn+v9ft9FoFsKdbW5j+FGAIC6KqsECgQD6vKx5mM6KZBsN4ICABBBqBHzucLQgodbnREJABIQUDdsrkVVJ4aHde5d1RL+D/hco0/m3ZMzvvK+EpLUQKDkMjei8/rU5hpzznGKgCSE1C0AXXnuq2rsV4xwM0iSEBSU+zbLvfcpZJMEIalbYhjR9y873rVPCQAhAOpuCQoD6oM+gyoZhxslqbszG2AQOlnVj2EW4XO5Mqu7MrNBhKRKRrYNh/l4RGVWVWWmAEahsqxl4zHCw83qnKzKrJbAaGV1I8ZYa4YTqFPd3VUtQtFqkOZmFnMYVJWZVdUCBERLjBnocyLoBkJVDRobAKLBEWtZXsozxxgkAQEEBCLaPB6PR+g+9zXWi8Pc3QCpATHE8Xh9LV0n4eNLMd3D3QhJAMNivX6+5q57H/jxF+kef/4HhI/nj58/5vtmXWX4KpJmZgQIkRHj8fX6MTWt83gJf6oACNI85pprjHAzjxhB6bdqgGCQoBr0mM8af70GpO7ubuGbZOd9LcrmMzD/fo3uliRAksjIs6/1dMVq2Xo9LauqSgJbIKPO/Vm3t01jzMfUqczM+mZJi+7cv0YH1jIfkydz731O9feKGKZz/6vnWO5025+d+33tk986FYsk+oSFOVH7fZ3r87myBIjqcMAIVbIPqeve+/O5T4MESP4Hjh7CexaQhnoAAAAASUVORK5CYII='/>"
      ],
      "text/plain": [
       "<IPython.core.display.HTML object>"
      ]
     },
     "metadata": {},
     "output_type": "display_data"
    }
   ],
   "source": [
    "img_show(img_map(lambda x: img_rando(x), np.tile(g, (10, 1, 1))))"
   ]
  },
  {
   "cell_type": "code",
   "execution_count": 8,
   "metadata": {
    "collapsed": false
   },
   "outputs": [
    {
     "data": {
      "text/html": [
       "<img src='data:image/png;base64,iVBORw0KGgoAAAANSUhEUgAAACAAAAAgCAAAAABWESUoAAACFElEQVR4nD2TS3MjNwyEvwYh2bI32UrlsP91f2vOySEPp2xLGs0Q6BxmNjzwQKKARj/0HWgEktwQsuy2wAjllDTC1Y7AplHIbsBIyicjqXsqxuiu2Yqw22AR5K/d27Ztjzrl5cz2cBUDugFk8pt9f9vmtE4vr1qvvTUIA8Yiz4ozrtUjT88jtiFAWOwn/408/zRvY3Z1R1fNqRAyyIb8I7/8ch5PT9J2O196XWZrGuyj4O8TP2eeTuV1WS/M2aJs74NQ3p5Wzom7enMMKWzbDQLh2MhzUnNb10lEhPazQ7Tz/PJ6rvuyrDUagdn772uivLy+juV2e0wH6ppVbeFGBnC+fHnpz/tajhHubZvVlrxLBc6XS1zfrltLgprVti2jfUvyEsvHn5/T2PQx/rgxkKe+/vNW03S3QQc8GbBwjvr8eISFq1tYuKUGsIyTx3Ubw3a5PASeTnaebUiv9fzsZS1sMlP2DqV3NvIyFbl+3lecmRkhu3aAxpBfs4IFVH3K4IcNdj0NSSabu23bj3VWQ+877AW/9/B2f1+2pa/XeL+vJRrJBxv5W2T041a9Fm/L9f0uqTpCB2n5V8bQfCg8l4/rcpunk9yH3wxZaKodowfrXDcTSPiH6InktjxJlmpFP7AtdPjhaIYJlyVc7IYM21J20941OPICEiGEQ8pC2kN2RAlhaX8NKV0K/Z+j/SOoduzp/g+mXbcotC/bXQAAAABJRU5ErkJggg=='/>"
      ],
      "text/plain": [
       "<IPython.core.display.HTML object>"
      ]
     },
     "metadata": {},
     "output_type": "display_data"
    },
    {
     "name": "stdout",
     "output_type": "stream",
     "text": [
      "1\n"
     ]
    },
    {
     "data": {
      "text/html": [
       "<img src='data:image/png;base64,iVBORw0KGgoAAAANSUhEUgAAACAAAAAgCAAAAABWESUoAAACVklEQVR4nEWPy5IcRwwDAZLVPbNr6/+/z1cr9FjtzHRVkaAPCts45SEPCf7V491nGSTlyqrKyl0pmI9jnNH4b/9iN1QFY9M6GoDUTf5vAN2NbhAdYotqEkRL6gbQpMGMIKOBBkiCLZUEmpkNgUaAAYA0GAUAdIcSQjdAdns0SYuGJNBJWudE/m5QM0Sao6pKcu/fHQxDZwrq6AZoUlZbeNece2eP02p1biGKDYAELM7I/fq4CmOMqJ756meUtZoWoh2n1fr4+6Hzj1MgtB4LsVkqc/NyD63Xx88ndaxJSPv1OSNdv78PUtfj87nK0PuCC9B6RpXUEodhz18/Pi5ZOJXFZgy32K4mkm69fn77/pFxxmExwszjvFXsqCYFGvXz6/dH8vSmRbjpvpZFltoI0lgfX3880u7vzBLPY+pFRHWDFrSu6/PX5yUjAY8zvuT17foVVQ00iJ7P11zl3tec8jMtCFWk1OrtQs5rrh7hudKP+3zVrLhFVWV2Wav2XtPux9iZj9ufr0e90s/YudcyunWlSubHwZX7ej1HPjc9MtccwwzKbMDiuNnqzvmp9eOxFGvNV+Dsva7NGMc4jj5KvT6v18erOua8jjD3mlNx1u12uIejp/r5OYWY8zXc3a067u8cw0APMnM/HrMQ6zrDx3Gajbcvk0C2OMxZmVWlyH1Z3NsHpZq9UC0nCOoUt6Jy2bEKjpOa9dgCw42ofb7NXaHaNufKLMX9feNqMIYb0F2ZCtTGuJ4PieFv8pltFk6aByVFJ8ofh73HgL3Ffa5k0+hx3A5D/wMZH/t5VVSomQAAAABJRU5ErkJggg=='/>"
      ],
      "text/plain": [
       "<IPython.core.display.HTML object>"
      ]
     },
     "metadata": {},
     "output_type": "display_data"
    },
    {
     "name": "stdout",
     "output_type": "stream",
     "text": [
      "6\n"
     ]
    },
    {
     "data": {
      "text/html": [
       "<img src='data:image/png;base64,iVBORw0KGgoAAAANSUhEUgAAACAAAAAgCAAAAABWESUoAAAB6ElEQVR4nE2Tx3bbUAxE74CgZRXLllO+Nx8c5ziJ1Sg+TBaP8skaZTAF+oEAJBkKJGMIF1E8jmkBgC2QsWRAJhSxXWevgrBsoz5eBhg3TyEJJAxl92bAAkFExgKKDUZIlEKWoJ2cwgsmBHY/BNuEuLbEBQHqTMoC7MBGTFPaGMvAQthGudLUcFUlwp+XgTBF7vb6OLaqUFoSYMKWITBavx5K8zmsCJeRItSpgqzH/fdvu1RIIju0uNcpj7vXw3aCoCAsdZC75BWbw+smyn0kiKXB7hvIzX4jK0SVO46rjC2aYXw6bOsyC1tCqc5PclA4tH5+ilNuWzHgyJQNQgQeoiofNuP1sn7U+mU+X4bMHoRFJVkPu914qmFYf32Zfr3HmIvGy4Ve7b+8JKv9psb5mAEJRvdyDavnl92QXo/X2/Hvx0Ut9ekRoOFhpYsrbsP0/nb6uGlOGWQhGVnt/NMtVoe4Hf+eZ4qUJd/XBOe331W537ay7Wqk/1OZ4DoPIrddpWrlLCR6fEKYKg3DQ7bmapZYogVYi7qlzPnjz+VWSEqgpxrb9B5Nv2/H081GSukeONk9E56Pp2mamrFJ9X/rn9J9n6+tblWL+XeG2FJgTE2z625P/81PloviCyjgXA4DxZ1PDFG1mKx/qINB/DM/AfUAAAAASUVORK5CYII='/>"
      ],
      "text/plain": [
       "<IPython.core.display.HTML object>"
      ]
     },
     "metadata": {},
     "output_type": "display_data"
    },
    {
     "name": "stdout",
     "output_type": "stream",
     "text": [
      "4\n"
     ]
    },
    {
     "data": {
      "text/html": [
       "<img src='data:image/png;base64,iVBORw0KGgoAAAANSUhEUgAAACAAAAAgCAAAAABWESUoAAACGklEQVR4nDVSyZIsRwiTBJld3ePwJ/r/7/ZMbQnyoeZxRQrQwn8A2G6bkgRDIaLutTS/JhO/YxO2bYCgq6t9X0bSAAgJlEQ0pIDRakUEkjAIkaEM0W1J6EUotr+mkzRIKccYI4huhbrOjMrP35uTICjl6/XeZga6I1nnLq3xfr+cNAwjxvb+2mbSTWGlr46cIzsN0C0wxnxtKVS3CQCU3E6YdLG624ALvs9e+35cVi06QcDu7u5al+ze9679v/9uOVR/AEB33VEs189P1/79XQkhnXyuETZA0gZcVVUWW04AhgiAMaZcHXFd7DprHReRMOAWqPH6bMGu9+c8d9lnXw2mn6jAyDG3KdR9XdcP1113lZ80KVEkQBJKjZl9XgW4mTAokq7rPHgLBhiv92e/oTD+9KHuM7h+AgXNORhzu5n9C2jLtutMdntsn6/JnNNpI0GgmlXd9xGuhflVpBnZYTwygQYolLzKS+NdACQSTgMgARCA2+2u7sbjK/0r04wYI+Va/TBhioHHaptU5JyJ6tWZGQ1CkezHakOKfG1D9jpzpkyII7XSBp793L5eI7gufrZoV1nRvz+AUuSYn20OFoS71zpqLFYSgAzAXbWqlANe93kcxx3JThlouHtdR6BGjKm69n+/9/0m6SRhG31T9DoycuK6ju+fYxVA59NZdNu9rpQy+z7O6662ASRAuIEHIDJGn9dVDcIG/wcaL5jr0FxdhwAAAABJRU5ErkJggg=='/>"
      ],
      "text/plain": [
       "<IPython.core.display.HTML object>"
      ]
     },
     "metadata": {},
     "output_type": "display_data"
    },
    {
     "name": "stdout",
     "output_type": "stream",
     "text": [
      "5\n"
     ]
    },
    {
     "data": {
      "text/html": [
       "<img src='data:image/png;base64,iVBORw0KGgoAAAANSUhEUgAAACAAAAAgCAAAAABWESUoAAACBklEQVR4nDWT0Y7lRghETwFt+26U/Hr+daXMjN3dVB6cvCIoBFVHf1tuW5HhbgcmM7odbEKUbWwLGwAshIJADlFtsHFjvO0AjBthLMrI+q/U2wjAe9G0wpRl0NtvqUIRsd3ddoRUxnpVwYrMyFA03cgtqoURNoaKrKzU7IkjU1DGCLqNwlLUkWIFzmMk1Hueu03YRI6RbAHjU0e+Ctb7ChR1XiP6sZtxjnNQxn5XhIk6rs9ginbmqJQK9E7T1Liuzyf3xkjesVrVIbUzA/L649d1Du35LCLZbFEtdwuFIq/rHCnPr6+fruvXh+87Su+TFJljRAS97udZrqyi76wIgxRVdV5Hhrx3K7a7bUIlIaMc4ziv8zyqQZlAWzmiGrdRjvM6r/OsXCsyyyDlcNSTblKKMc7zGENEZuZuKeuqqO3Xd6zXUNvg7t67KlXgVu8ZwrY75nye+cyO+5BEIeS91Hs+a60j1vfP1z/36rnmZwQFyN5e83nca9b6+f7+ns3cXkd0tbAEbfNU7+r75763Mlh7xSqBkAD3nsY959yOGqOOoajgjaSgZyrotS1y/HXlKGa9HLQk8wj2fjqKiM+fmcEu/R9o1N3rlufcgl5LApXtboMk9owQ3Viav+dRIVXb3RhJ2A2hQKj7HiVR3X7RCr1ikSS096yUXC+MkkIv4ooQbsvewv8CL1iE7peZvxEAAAAASUVORK5CYII='/>"
      ],
      "text/plain": [
       "<IPython.core.display.HTML object>"
      ]
     },
     "metadata": {},
     "output_type": "display_data"
    },
    {
     "name": "stdout",
     "output_type": "stream",
     "text": [
      "4\n"
     ]
    },
    {
     "data": {
      "text/html": [
       "<img src='data:image/png;base64,iVBORw0KGgoAAAANSUhEUgAAACAAAAAgCAAAAABWESUoAAACKElEQVR4nC2TQY4bSwxDSUlV1fYk979EzvaB/GRsd5ckZmFrww0BEdIjf/35+/eVdII0AwRIMDMzdzcGCADQWwkKgKDPIABAkoxGugFotaAGSIIBdWWCZqS5G9Xd1YKaJBAgJDUsRI/hpq7KnSIBiPFWtZw+5ghTJRsCBJII0oykuccYcwSEkrpBNmkMmpsZ6GPONYeh0LkzQboJDNDcjD7WWms6G5372gUa9Q5JM8NYt9vtGKw+n6/XWe+MIAOqAsC4/7gNq7y+H+e5RYJ8G2qXYDaOHyu0L0kgBanZ3RZAt2jzONay7hizCNTn2F2hlsC4fd1GEObjQBizGoSKCqkacXz9vC9KgE8O45UtgISiJTHW/WuidmXD6YRfJYkkQhJtHrfF63WqJZgR7yUwY4A0n8ew/f3nCbqZeXz+ae4MmpnF9H7+/u/BOUcMoxv5RszCzEh37Of/v799HWuZ+KGIAMKMRrLP5/Px8AajAQmqAtsQAKHuUjUICDC+qUrIiCihmTvIOMQR5hGkujIld0RVN3LPiHUAY4w5pqjO3EL026DM5rhpyH2t5YXOqmpmVFw7C3WuEXe/Ffy4L9TOyqpmVcXzSiHP11wzOtvn9H1lZlZBAuK1M7lfY5nTnM7q69qZVQDNLK7Kgni+OIxCZ+l6njvrU9DIksS6Hj2HU+ru63ztEmhuZLRAQPuRcw5DZWZeuVukmVHRoonKfY41TJVZld0NmhHSP9m6omFa0eDVAAAAAElFTkSuQmCC'/>"
      ],
      "text/plain": [
       "<IPython.core.display.HTML object>"
      ]
     },
     "metadata": {},
     "output_type": "display_data"
    },
    {
     "name": "stdout",
     "output_type": "stream",
     "text": [
      "6\n"
     ]
    },
    {
     "data": {
      "text/html": [
       "<img src='data:image/png;base64,iVBORw0KGgoAAAANSUhEUgAAACAAAAAgCAAAAABWESUoAAABuUlEQVR4nE2TUZbdIAxDr4Tzpl1F97+/9pxOElv9IG86/IHBiCuhXyAhIQiZJO+JJFIRX0NBIISAAFDf6iTSAHtNkrM35DmQyJq8+0mC8nNYhCCPnt5sLfXqkaYlacJAhr1HEqgcQxgZkZ41HYtBAkGVw3SSEISlt17GtupH94QkQ/AyZKTojad+3uclEhBaxxpmw9gaqINugrSM67X6TAcckIgKbayrltdx+J47ux9IUPd1933P8qo6jiWWPW+wiOruvruN7HWstIXIZhEoQhLJ9lpeMZDk8Sqxlm2vqlprWbu8mWw3XyY9OV5HrVoiMzMJ2dqpUiB91EfJ2g4mo4hEUDcr/ZrjdayNbqcJZgupsbSOHMcyT4PvGaIQdvE61kPGtpknMlAytF3lHVPJ9n6jQJStCFlmJGTbjvJ1hch0080j0bZHaLbjpcx1ngss1/L/tBJJojTX+fd039b6+ND0PJHaqaU8c52fmltabWYmb9xKRDHdd6PAWl0zSTKZr2f+Ps8LkZa6p7tnkszobdafq1sriaT+vKcnO8YP0fp83Bsl91+RvrvfPzpK5VHEQF8i05PkURD+AVucM8zB9kRhAAAAAElFTkSuQmCC'/>"
      ],
      "text/plain": [
       "<IPython.core.display.HTML object>"
      ]
     },
     "metadata": {},
     "output_type": "display_data"
    },
    {
     "name": "stdout",
     "output_type": "stream",
     "text": [
      "4\n"
     ]
    },
    {
     "data": {
      "text/html": [
       "<img src='data:image/png;base64,iVBORw0KGgoAAAANSUhEUgAAACAAAAAgCAAAAABWESUoAAAB5ElEQVR4nEWUy3YjNwxEb4HQK0dWpDj53vxwTh5jWbIkEpUFu8ebXpAgUai6bP0JEiDJgI0M4GAg9RQIgLlsIIyREEJhs+wbluL1o2iR67YsI5b6cNVsFJrlSxt7tpFcgFAGWgTY8ypJFBEEslOLwKldmseNbKtMWran4jnrsCXViHIolBjsacUiRdjEVr3ACSCv6ud4ZWL7lvfbYKSRQJhFjbCL/fnSPrg50oCFZDTVioo8/vHeX1ehBM8rBLbAeLTD5ffzNRwmWQVaq9mOw+X9bUspivzp4ndetTmcTlsKcOVsD55pGdH2p9N2EE3TSYlaZymHYne57B794N5LkUAtBggLiMNx15+bNrRhkDMEIQmi1Ri5O7THIxzH1u8/0isgEyaivZ2P+YzdJls9/36lZ34LUVW5P79flPW2H/Eadmo5Pm2w2y+n417Nu834+vj8cUshr06C1Tbx6Haznv/9dbv3DErIEjIEfvx7q2qH39rr6/PeWeJe4Lc0rq+w8/xr2diVP2H3RKoevcHO2JJcWVgKygKFDFVqbZejV40iv2OaiQgVka1/3O59oFxfA4Brcq3Q859++3zaZIBnnBI1uaD69fp8vkZNaGOiNLEHqPH1ql5lmfx+rfb6D2B4Pj3j/wG1YTW8vvJDaQAAAABJRU5ErkJggg=='/>"
      ],
      "text/plain": [
       "<IPython.core.display.HTML object>"
      ]
     },
     "metadata": {},
     "output_type": "display_data"
    },
    {
     "name": "stdout",
     "output_type": "stream",
     "text": [
      "4\n"
     ]
    },
    {
     "data": {
      "text/html": [
       "<img src='data:image/png;base64,iVBORw0KGgoAAAANSUhEUgAAACAAAAAgCAAAAABWESUoAAACK0lEQVR4nCWTQXIkRwwDAZLVPSOH7f9/ZF/m1U5XkYAPuiHymgn+WoV+zjmNul7vBfh8/ttJvt50RQEACUCWGUBYM4PwjkyjLMO2Ne3dVhC9z0769P1K14QgTZ9zxMFUYrrP9mD9vYzSJCT12ccRfeAwMHu2Fr9eKGsgq/duZuTKYHrFfD69riOXJQKec1R5vd5pcvn5qA9OGyWoWEnYUa/3m2Pmfa8kgpLrBLNirgxHVYXHEdd1raUMC/UJrwzv78eRxZ7tWlHruibpUf2h7/fivmpAsvchs2qt1dQZ1R/gPVHXSgL2CIyMzEyqZ1zH9bQZEYTsWJnXzVWJ6SW45D7PTsOeGdVi3Ze6MjyyUbRn2qdP63mutTLv1VWZSxlw1UQGep9zkFdlwB1mRCQhoa5ZqwDZo08SutJGy1bvPa73qYSRa9We80lOmjjdPZpu1Vfn67qo84yh6U1OUzNjqM/UP4r762bO5zmKjIigPef0ePaZ+ldRV2FWVToiq5Izz95nhOmpLzEyNN3nNG9EUjrPbpmkVAFLOt+//3yOND95Pp8WV8VdqI8t6zxnEIiAFZCcN4V6/ZX1bRmQeL041xWIgueOuIW8X1HPCJGs27wVK1kXOAiOwWtlacSIYpAlBpBFFzJkRlZVYZiVIJlJImCwiDJAgLWYzKSNDAZBH8hEypL8I4KwWWEA0GnL/vmjzdLP8Iws2yZhGyAMmPV7ZnpGIAAQZIIAyB/wPylK2yV1U09QAAAAAElFTkSuQmCC'/>"
      ],
      "text/plain": [
       "<IPython.core.display.HTML object>"
      ]
     },
     "metadata": {},
     "output_type": "display_data"
    },
    {
     "name": "stdout",
     "output_type": "stream",
     "text": [
      "9\n"
     ]
    },
    {
     "data": {
      "text/html": [
       "<img src='data:image/png;base64,iVBORw0KGgoAAAANSUhEUgAAACAAAAAgCAAAAABWESUoAAACQElEQVR4nC2TQY4cORADyUxKVd1jYx+0/3/Qrj3TXSVl0ocxeCHAIyP4L4C23dXgd2zAbTAyU80h77tNggwCsG3gb5Hj/PCrNyIQUtKGa127OMYM6tTzaV/bSo0xhGri/ty9Yp4PQQ+dZ625cZzPcyR7V/CK/Q4d549TmuMYIYnnz3+e6b7CGblfJ+fz4+fzUEYQDFKPj7PXundkjDEfc/74+PiYiqANA1Ts6/Pr7fE8HMez52OKpQjYJgDf9fv/rzsOMkLTQ9E3BNC2jbp8//r1asXaI8R27ftugYC73dfvXK+7mcog6d1Gd8sge63qV4WLM+dxTnbdF3btLgFE77V6vTM1lOOYs691v7326hIYwa7q2nmOOSkNlde69qjqVgTBTOxdsOZESrFrr3uVDSsI5lAYGaEgQtGr6t7exAgZJBk5G+S+C3PsqAYzmCnpG4scQRZXBYtjROoRDM2kwIxITUt7rY2A9pQ0GZLCAsmIyJyz37+3XWVESpFzyBYAuxE5j+BVlREMMOTjPOSWu1ndDUp9uKWpsNuh+Rho2cWu7q6O+UxnnoPuXUDkoLX34tprU+vIU44ciepeaAOkViav676LmVNpR3S/r1VRewvUBfJ6v9Zq0JPu6r1fn1837nVR1Odacb/eKxt0Za0m7tfX51pgL4X+iwyvqu6ua4Tb7nVdVzX6mqJuMACj21jBgLv2bqOveiuoAINoG+hqEu7aZQRcvYPfwAANssFvQNt/PyYpAOT34v52u/96AMD+A439sFXfZrWtAAAAAElFTkSuQmCC'/>"
      ],
      "text/plain": [
       "<IPython.core.display.HTML object>"
      ]
     },
     "metadata": {},
     "output_type": "display_data"
    },
    {
     "name": "stdout",
     "output_type": "stream",
     "text": [
      "3\n"
     ]
    },
    {
     "data": {
      "text/html": [
       "<img src='data:image/png;base64,iVBORw0KGgoAAAANSUhEUgAAACAAAAAgCAAAAABWESUoAAACzUlEQVR4nD2P3VbbSBAGv/6Z0ciSbGwZYkjIa+z7v0tIYAk22NiypJnuveCcrdu6qaJ/UNzG0QWFIFWsYoz4HHSze/y56wIp3M3MDA5ObVMvmqa2tw+/uXu47xND3d1KLu5gXW77Zdt21ZSqsrrtV7UYFO5u5m4kcbm777tmoZ9jsfXtpq2QXQlf3omqm93jtq0qs7TgzbpROEHd3c0AkNbrb7s+MV3dOXUJ40yAwswNIGdNq369oDyd3vZnLuPRNMavC4BApNViETGez/unp8lWKla14K9Id4AkRPXr6XB8/fXLrM5CXVxAp1LyNLmKpjb55XzYH/79sy/z1FX1bb0JWhylFCKJ9XJZYzgej5/DOIxz2/bLuWQFHBAJMTXd+mYOIqGKNI7MTVrImNWmnF1CqJrVuq3C2qsKl+gjJe2WMRct02yQEEJq28jcUFXJ+HqYEZbbdZxciznALKwhsHNoYtLry8Gb/u7baj4XLazmAMDCMHBVN/K5WYX1z+99msZZM7NZyVJJ4DLCQx27rl219z+2DbGYTkI5F3ABymfOJXYtNHbh+26pHtus80wlsyOOwzthuGj/UGVtu7tNbVyT6wSBW6bhdKjf53GuvW2z3PTbVrIGcQUAIkI+PY/qUiXy4rpYdUlM4dDkbkwaePj9lpb96q5vmaoiKio0XU3ZjYjAwpJutre7u1XM5mTTwIzr2VTMAQOH2GzuH+62y6TTPNnwMRDsejHVYnB3DlW7ffx5uwpepuE8l6Lm+TqYisHdIDE1m/sfm5gv54/D/hI/xEqeJlOZ3d2dWGO9vGnset6/vrycuBGzUgqUAQBwwM0tT8e3l6enPydaqLkDUNHiTmTzPB7/ts11//L89PvvVWYBiBnKweGFbBpOr4s5je/7t5f3Sw4ZADNIIcEKUGa5fDzPaTydPk5XIyICMTEYcAAggFhURESYCP/zH0PopG3xbqc0AAAAAElFTkSuQmCC'/>"
      ],
      "text/plain": [
       "<IPython.core.display.HTML object>"
      ]
     },
     "metadata": {},
     "output_type": "display_data"
    },
    {
     "name": "stdout",
     "output_type": "stream",
     "text": [
      "5\n"
     ]
    },
    {
     "data": {
      "text/html": [
       "<img src='data:image/png;base64,iVBORw0KGgoAAAANSUhEUgAAACAAAAAgCAAAAABWESUoAAACS0lEQVR4nCXRS5bbVgwE0CoAj6QoOT7J/leVdWRityx+HoDKoOd3dvkvSAFqqTzC2GoRgCSgKhwQoc5UqEuUQECSSDbDIKjnfZy5BAk6jDnL1n1jQwESLZ2/fuc6NNMWR9/THj/H4iCiEYQwj6M665wcVvfUxmdOGBGNZs17zkyzAlQ5r3SMdRhAhdjIOYvO9aEu9V309fnj9Qw1GTQKsOUZ2H8APc+vvHzd931jTzDMKB/AKK47TQc/hG/7I9AFINQGC9omEu7WBtn62FerbJLRkAAGiC5zUFW+PLaBlgiG2EUDSYAxas7S8nztLkkAggIBQi2Z2OeR3J7P1boFCdEA8Z1Dou7rSq3PLSgSoEUDZBsEgsw7U+vjsbhgzlkdk5B5o0V05ftIW9dAd5GsVBwQ3QmJAK5f78kxrO8qGqsRF0QzECJM769TvizsyiJERyzdXQWSIHqeGeu2sDvLWHLG3j2zBNr3ZPtYgt1wzdkLYlHRsmBu6Dm7+VithbAsqRAhqo2yCF33mf54PUc1Hb6EboQ1AdI8LO/3Mce6byO7W+LAxZAaNHN31XW0o4rh856VWUqLFuCkse73h7vCc7qOz5l53RlLkGi06s7z1zuWsTx3fY6vPxcIWWUYZK3u+z7+fHyx9efr/v3f16X1sYY1A2oQPa/jvM5c+ZLu9+/Dn389BxAeAr7Bec7Mgb4/nyNt/+fvnSVZEM5WZbZsw7a4sn3D8/XalF0IABTBwVHyZdtHLGtpHW5NUpHoFmxwVLW5EwCU856hrsL/IaPFOEghNzIAAAAASUVORK5CYII='/>"
      ],
      "text/plain": [
       "<IPython.core.display.HTML object>"
      ]
     },
     "metadata": {},
     "output_type": "display_data"
    },
    {
     "name": "stdout",
     "output_type": "stream",
     "text": [
      "7\n"
     ]
    },
    {
     "data": {
      "text/html": [
       "<img src='data:image/png;base64,iVBORw0KGgoAAAANSUhEUgAAACAAAAAgCAAAAABWESUoAAACNklEQVR4nC2QwY4cRwxDSUlV07Mbx0Au+cj8uwEDnp6uLknMYffCA0kQ4ON/wDg+Pp9zHjOT6zx//d6KgP37j1dXNMfj88dfR/e2zH4vHFeLgjsldYj++Ph8znU3tPe148fdCWBMSLmDtBjDOm81VQ2fH0stjgCgDtIirPI68/aQYHHMVPtwwMzjSyrfr/uaT1c3RljRB9qDFoS5W+b1XtFzBNQkwYg2GzHC3AkJnTs9W10NAnQWGK4AyZbFeHSp5DBVg4wwi0d0tCQY7bm1nRLNJIBu7j6iQpXVchtjYgw3ucEoQQLUCnWut4MNixEjQNBIdAaVpaDu05jcYsQYDpVoRJWghIKdp2p6JuIx3VrZ7q7KRm8ioGz0tMJ8PI+QOttGZW1BZYiWOil2cB4HU3nLZ6tKlAgjocosxOM5g5WZMg/rJiFaAAYk5vH3z6fVXtclH1aGzgwnAxQlMI7nYGVmxfGoftv6nZ8fQgAGkTZGOOU+YxyRTuUpjomgAIIxH9OhDiiGy9md97oGAgAgxPE8rLsHNyUJUOU6qQAJkXE8H0hZKLt678yuFkpfC0TMEQW1QKXWundVtbaCIAiakZ17V3ZVrfPaRdbdCgEQjYA677ty7cz7fTecKCkalEzu2vf1Wqozd+ZKEZIKIQBgS7uv889bffXOTCMICt83gVqD5/l+d6/ubJHfwTcH3ifxer1W11ZLJCl9FUgBncvqdV6rVWrAvmwChm8QUFdVd0sQQAIEgP8BkJ3TCRspuycAAAAASUVORK5CYII='/>"
      ],
      "text/plain": [
       "<IPython.core.display.HTML object>"
      ]
     },
     "metadata": {},
     "output_type": "display_data"
    },
    {
     "name": "stdout",
     "output_type": "stream",
     "text": [
      "2\n"
     ]
    },
    {
     "data": {
      "text/html": [
       "<img src='data:image/png;base64,iVBORw0KGgoAAAANSUhEUgAAACAAAAAgCAAAAABWESUoAAACYElEQVR4nCXQS64kNRAF0HtvhO3MqvfjoUaI/W+AnTBiBQiJCYOm6cqyHREMOEs4/DUjYz//eczndc2oysiK9Jcvv/w0ML96SiD2ba3rcV3X2rn33rvWt7/HR6vwv1wm3xu0XrRIzPm8cl1Vx9mR/lvzcfRYRlTELkpmYmItmZj+O/18HxUEICfIythJ0l0V8J0z2C3WmuH301GFirQ2BlEJfwudL015PfYMs2ImKzRe3j5fLTf8yPb20ePpKlVXVZQK7K8/fzm1A24at9cRVzMNdkesYFDy5kYkXGnjPLP11qa67UcSAFEpEkUn1fuAN+9LDc/cWSjK3EgkvNTG0SAfK6itjEgBMneiih5kc4c6oqwm94qNTEoCEuZFUAKNCUUqS15VvTcyi+ZHGzQWAQGxAoAaeH+9kSiYm5kA1FazyDXLgUg7zk6iaH54dxqihMrcMw/FM+ROEiX3u5/NHUwi99opE0TSTAqa++lHMyMDiLV2qQlCARRRaq7ca3caKyv2rtasWJVFoBLmrD0vay5wZyS8K5iVJbAgeVbsf/M8nMjMMnOxQIDMpNG/Z8NcSVpmRMkNKNDs/wb5nxz3e7XRGGvtIhVZkDcpiib/43y3U0JGxN4lARllzYFKmryPcdxf7g25V1g7OjMC3h3IhOg/3l4+f3i7NUSu4HE/lN7QzAEkjP55u32834dlZGwAJCVvYqGKRj9H747KiLU3s6oAmDkCWUS5u2sjGdfjuawikCU1LasZltsr8/tUt7wej+mXyVbQHLPlCgX925pfS91zXs9lcz48rsnKrdxZuf4DsjGaiot/EP4AAAAASUVORK5CYII='/>"
      ],
      "text/plain": [
       "<IPython.core.display.HTML object>"
      ]
     },
     "metadata": {},
     "output_type": "display_data"
    },
    {
     "name": "stdout",
     "output_type": "stream",
     "text": [
      "7\n"
     ]
    },
    {
     "data": {
      "text/html": [
       "<img src='data:image/png;base64,iVBORw0KGgoAAAANSUhEUgAAACAAAAAgCAAAAABWESUoAAACWklEQVR4nAXBW6LaSAwE0NKrbQzcCf/Z/wITAna3pJpz5Pd3ubOgNsZwdIuOUDTUXHLC1QoAQZK9ulrDrDPhe9y8xdXQDVLAAppq4ZbnlHDZj3AXRRegZtLZjP24hZ7Ctpa43zcXQVHNQyVn2XZ/3T11dgq7JYarCgsmKr3O3uP5uuu3Dk4gr3M3VzPpLitdK6lju+1ctrUk8/wEXc2VqNmSsy1GKEgRQfU639JuCCcrF7p1P47AykVmZq9kPDx0eDe6Sd1//ntuwhZVE54f70e464iERK+W8Xz9+tlkXVJV+e8jz5luVm4tzuzu++v1E7jCfRivQfTXXTpsUgQk/Dg265Dbz9s5z+VId+N2SpcKRNXc0NQwQ8353Rzu1sOll1FUoe7dq7iNxzrXdhy7i3mYAWKlbPGRXLPUx3Gv2/F6urlsYapDE70Kasxz6W5xY99+PdzCtjGmWIN1zYSgJsJgm+jxPFyd276vapKsOReyEpcLXWyYugfqduUkTIbMz66rpHNCm+xJV9M+Zn9nDQk5//ooMUFNVGte6hEm9wURApLvwAHxlsrOIkmP4ZYJUeGq6w87NzVBrbmqak0fYxQLgrquq9dMPoay87pW5/p+fGxBJpSXdbILVpuhVmb2mufXw4Od1Do/wbA6/65hgiJYuUrcVBGxSV3XDJOs91fVVDyUTYqbCDSonClnla4rqWN4qwIA3EDRgFvDP9+zsxZVnQBEzcpdATE0t23lUhE1esQIhRjZrgJARFSF3STMfNt3V0Gbu7sAANjd63z/yyy9Hcc+lKwmyP8BQ/O3sYebvY4AAAAASUVORK5CYII='/>"
      ],
      "text/plain": [
       "<IPython.core.display.HTML object>"
      ]
     },
     "metadata": {},
     "output_type": "display_data"
    },
    {
     "name": "stdout",
     "output_type": "stream",
     "text": [
      "6\n"
     ]
    },
    {
     "data": {
      "text/html": [
       "<img src='data:image/png;base64,iVBORw0KGgoAAAANSUhEUgAAACAAAAAgCAAAAABWESUoAAACYUlEQVR4nCXTW3IbRxBE0axHDwYCQJF+RXj/f96ZwwrLpA0Q012V6Q+t4Z5rf/SxYAaRbEoFYOzDw+hpVJbgFulgrclmmWnkKSNh4a28eNNHoudnsWfDzWyc9zHcwsh8Cyky52HT3APhbblfb/swhVH5SwA2/PFQ4SSJ9ayxXb5et6I7lT8FiIgxPG8+Ip7f/3lsMc4v27McZJ5dDffrdnrRGCPvJ5VLkYMwgAkIgGX4CTky/PE9q7upSJKdoiAJPgIebjmCVVXdMNVaSQNBl6dkJoBrWbqpDKxStoMIMSVoYudxn+fz5mo4gu4wN8Akq1rHBOaURZq5wT2QniaCpE+gh2l15LaNiFqkLA0wdBWs3WWch07X62V3rgkgsuHd7CVzA/i8P/Xl5XrZVCV3QxajW2yGh2s9P4643PY0YpwMYhIGmIcQAR2Pd97eXjaDe7q6mB4hyMws0evz4794/fV1ZAihrup0T6nNA2DN4/Ec++3qAsS5ajEFMzUgM625CpHO9Vm0QNdSFoapGKGxarWNoYP3vz91On/JKuR0GdjwsK7jWYb5zvc/7/Hy5lczT1aDpHGr4/Pf95nrYfXx9zzHpRzw7FqiKNe6v3/7dmTOyXUAq1qiJbsgSTXn/eP7Xw+POS1yP+1fTgfLUiLMwDrmc5YoIW2/vv72+8+nx1xIwFzRbC5sN9xkgO+vb29vO7tbCfdwdlEat/G1QKRv18tuz2oLJSITXFPEFntLwpaRabMFh9LMAPOEylMShHAz8UchZBgbip06fvAmut0cMJOk3NMtzEiSIn8s4O6gTGT9Dy/I1oZjiUm/AAAAAElFTkSuQmCC'/>"
      ],
      "text/plain": [
       "<IPython.core.display.HTML object>"
      ]
     },
     "metadata": {},
     "output_type": "display_data"
    },
    {
     "name": "stdout",
     "output_type": "stream",
     "text": [
      "2\n"
     ]
    },
    {
     "data": {
      "text/html": [
       "<img src='data:image/png;base64,iVBORw0KGgoAAAANSUhEUgAAACAAAAAgCAAAAABWESUoAAACa0lEQVR4nDWTyW5cVxBDyap6U88txIC/2J8aJ5EdtVr9+k33FrOQsuLikCBAgPxhQTMpAUgJZBVkYVaWeSNCEpSQAKQESAIgQqC5AkgT8IUkiBIB0Z3YEPyMpCAIEiQCIBjVE5+GLwKIAvBV4+4pRi+ZIVnRsJSypSQLd6e7IRlOI5UVGYH1cV+q0F4v+2626FE9ABIgaYY63W/PjdZ3B7W+bt6uHqiVkJSG5eN9zK5l5jxNQ7s1UTYG6kqAhObx99s6nEKPf8e+6bRVe7wNASkJmrGMtzeeXvplXZd2t/o81Z9/7gPeZgKQaX7cG+wGONYtWuby/vPXM9A0pdQUWZMWwy7UdBv7vVa7j9xChDEraD4cNZwPgqwdhr76fMepBgEzMGG2v3TDMRBr3f1xiDq93rif4nN7CfD+PPS9kONyugxcfv81HoBgJmtmZXXvomtUl9nOl0Hj37/WfcmgQLOkcssEtK5b2307cXp7ncKFAN2ZtqIUCjlN83LYnzl/fGzH/aXZggJJAmke0PP5yPPLASXj2/djbzXgMplMbdN4zsttPF6vTVp37fqDVYYTYajMvvU6r/PWnXy8W9ecT91O1cMrizXelLbJ5f31w6/dP7PvXvrW3KtZlEISmTVLHZ/zEs/ptuwbixYqpUZsBaSUudn2nJYtn1rZ9a0JKaWiFJDKTKKUpEc7vMT+ECoSa2bUJAClSLEZor1ewklU1IpSM2AgYUqj+dBkfxyMVguUglQCRlIASGso60IgkYuMpCMAAiCdMBijI4hSYGZZSAWQImVqZQUedEoyCSkiYQDNQCEzBQCf5/tf+B9oTqdaR8hVtAAAAABJRU5ErkJggg=='/>"
      ],
      "text/plain": [
       "<IPython.core.display.HTML object>"
      ]
     },
     "metadata": {},
     "output_type": "display_data"
    },
    {
     "name": "stdout",
     "output_type": "stream",
     "text": [
      "2\n"
     ]
    },
    {
     "data": {
      "text/html": [
       "<img src='data:image/png;base64,iVBORw0KGgoAAAANSUhEUgAAACAAAAAgCAAAAABWESUoAAADIElEQVR4nAXBW28bRRQA4HNmzszO7voax3ZNnNA2NFACKkKVeOaVf84D4ioaFQht00Z1QhLbe53r4fvw8+9/eFFK2P77y4+XePLy5ZOxrH/96W169t1TspETTaelQiEHy5OrTVNXjhTo2VPdP5oPWQoP9MXZgjj6/a5yIDDFlFAeHIvddJgFgA7pm8+m4GJz9c/FZaNG40ICQ1aWVqXAkhXSt+ucU/Px9e+Xt3i4Wo21SP1u36EWCRCVoJOSGOzdu8tbXJyeHZWY3N2b26YsC4oQGSlYpNjvNrfh+PlXz+aFAHf9aoMnzCmBD4JuxlyosN82g8fPz9cmCOiv/rwZTa3HKEJMtB0CitjVPJoPQGj2Yr/5cCeECNFLIZhaQPa27X1/PSlKRdZt7xscHxZ2V6HJFbGUydne2upmOpqNDHBb+exgPm0u3ng9OiCtRfKut76vt7UNLG3bBuWrjzd/vNr6YklFhiG63idXVZYRRGg6D7d/PWwuriprLBUypehthP5+EQAQfeuDu+bhf28rJH9HGXoA13kIfRIkAHwfkruzevdAA2j3JCEodG3PEswgV8jBuui8l7Ufr+NVQyFg7FubgCkvjYDQt9ZaDoTj9ZnfP5BgEfrWo5CDPCPg0NZdSMgiX55+ul9sSSGkvrWAujRKQugedg6ISKrRfKEmA6EQUt/ZJKQ2WqZkd41nJi0kuu3WMhEAu85GIp0pZI5t60CVpczVnndVIMmcfG8TkdYKE6auDWb0yaORcH7ryhkRcwrOJQQyWrCIvYXBydfnK//ub7uiihKydwGFUMYo5OSaHorjF+czm7N/vGiJIfnegWAyRgH6qo56vH4yM2rpxNHYU0D2nU0AqsgVgq+dLA+Wk0yq4czMFJHz4HxEBGUMAfjGUT4tomNiMzQsiRIk0LkVJNk58lUdyoy7Alzjk+VImUzZcFFTNhkq7yDUVadjBK12m6A0d0QUB6tTtTTL9UQjJ2HIWlay+/CzyKZ6T71O2cKPuvxwNTMksvmxbaOzdf3+N3WyIqT3RqKcyFQcjowQmB19CdfQNbmLWZaaeP8/I63xou9x9WoAAAAASUVORK5CYII='/>"
      ],
      "text/plain": [
       "<IPython.core.display.HTML object>"
      ]
     },
     "metadata": {},
     "output_type": "display_data"
    },
    {
     "name": "stdout",
     "output_type": "stream",
     "text": [
      "1\n"
     ]
    },
    {
     "data": {
      "text/html": [
       "<img src='data:image/png;base64,iVBORw0KGgoAAAANSUhEUgAAACAAAAAgCAAAAABWESUoAAACfUlEQVR4nCXMS3LjOBAE0KwPAFKUbPlz/8NNxCw6esLTtiWKJFCVvfAB3pM7VZVkQkVAKCAgSUIggAMEQAhAApJJAQEhTQC4ECQA4McERQXMTCgAOkDwRxMQuv5kogBBOiEkUwARRqZJBiEwdyZJhwgyQkwYx77vfRwBa/N5ESEJh0rmGDCM9fZ9W++PIdqW59d+aaakb24YfZBj/fPx8XXfB2ntvA6qTALx3/PJI8bo6+fvXx/rMUwCLbTOp+oq4v9c308cx36//f/fr69h2rQPjt77vlcT8X+xmEb0bb3dHl2ny2LHkV5dBSkCv98ftapEHo8tYKf3t3bsQ0/X52VSEI7eA6YYx7aFWLu8L2MLnS/PS8NgujNIMmP0HmRGihevp2VuJSTTZxdwjD5ijJG4fZR7dpm7FBcw6XMxYfbe++j72DMfJcPml0dysSS9mhmQYz/6sR+I3BjU6Rbm1kD6rG4KYWaCHbZ3ycya5XyNVISfaIxMGNQUauYl1x42fx9QIbwFIzNgpoJWz+dzXREZ/egJEXHNHDnSKEqU5fpy1T/7cSD7GCmqLkIKCVURhc/XV+zVuyB775T0quaSCmFSMmFOUM1dOUIM3qBuaSaMJPq+PbjuVCtFQIG4ZlLdSxFRHdvtE/G5HlAvJqIKz5EuUPNWi0b/yK/8frCWqVUVEr5vI2lQn0/znb3vs9La8vJ2PRUm6Y/7fmCGteV69NQwsbo8Pb++vV+cHfR9e7C1agIxnx9EafPz09PT5VwlkunmxaxMUkubzu9drUzz1NpUiyYA8ROnsrSqpc7n1z20qEtSEOKiIuLnEtoKYN6madsHj/XoqV7nuZmb/gWoLb7YAacIHAAAAABJRU5ErkJggg=='/>"
      ],
      "text/plain": [
       "<IPython.core.display.HTML object>"
      ]
     },
     "metadata": {},
     "output_type": "display_data"
    },
    {
     "name": "stdout",
     "output_type": "stream",
     "text": [
      "6\n"
     ]
    },
    {
     "data": {
      "text/html": [
       "<img src='data:image/png;base64,iVBORw0KGgoAAAANSUhEUgAAACAAAAAgCAAAAABWESUoAAAB5klEQVR4nE2TUW7kNhBEXzVb0ni8AbIBcv+r5EpZ2OMZkezaD0lO+EUQhUJX16P+4TqSbaTAgAADKY5bYrvKRLbAIAyllBGg5rL3585238I0bBd2IgQwser576fujhVKZZc5BBZMh8fz41f1XHNhUHbZpHTOaM/9+fnRfbtvTbZtYzKwAVcx96/H19z3MadAWESlfKQQNfZXn8GZlgqbyPL3FmoMK5pCapgw2FlHYIAaFWtozmitzJEvZwhktO6PR60NvV7TZQNYZAlCLufr8zGXrWruY9aVjQwsyWbsY5Lr7N47gcHCynMHeP96ddpW1fd9clWkxJYl3J+v3pQOvz62pW1nSRlghKjeZ1hQ/Zdy/bsdLinsw6/KVOHqH24//goQXDMAITOfa+uj+kPrXHQ5yBgisMZsS6kFUeOsME+6oEULVEOpyOWm/wQ+Bdt7FAsVrS3vP/Ja1GUg7n++lTSfEOv7H+slMNJR99vPnZg9Rq82R18vB59Uarkvyvm1RzHL1gF+XjgYNUUb8/a+xG07fofENQuiyLD1ZmnZbuvxSAIlCZAkx5qbHZnSke+MaSDCRWuyi5CFDU5dzKKoabUmV4FdWD5nsIwM/wO4EPbhYMvCTBvZE3wgKeu7TQfUBSoQgJH4DefIUxNHNmenAAAAAElFTkSuQmCC'/>"
      ],
      "text/plain": [
       "<IPython.core.display.HTML object>"
      ]
     },
     "metadata": {},
     "output_type": "display_data"
    },
    {
     "name": "stdout",
     "output_type": "stream",
     "text": [
      "4\n"
     ]
    }
   ],
   "source": [
    "grays = img_prepare_all(proc.X)\n",
    "Xb, yb = img_select(grays, proc.y, 20, img_rando)\n",
    "for (a, b) in zip(Xb, yb):\n",
    "    img_show(a)\n",
    "    print(b)"
   ]
  },
  {
   "cell_type": "code",
   "execution_count": null,
   "metadata": {
    "collapsed": true
   },
   "outputs": [],
   "source": []
  }
 ],
 "metadata": {
  "anaconda-cloud": {},
  "kernelspec": {
   "display_name": "Python [default]",
   "language": "python",
   "name": "python3"
  },
  "language_info": {
   "codemirror_mode": {
    "name": "ipython",
    "version": 3
   },
   "file_extension": ".py",
   "mimetype": "text/x-python",
   "name": "python",
   "nbconvert_exporter": "python",
   "pygments_lexer": "ipython3",
   "version": "3.5.2"
  }
 },
 "nbformat": 4,
 "nbformat_minor": 1
}
