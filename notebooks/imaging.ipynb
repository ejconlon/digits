{
 "cells": [
  {
   "cell_type": "code",
   "execution_count": 1,
   "metadata": {
    "collapsed": false
   },
   "outputs": [
    {
     "name": "stdout",
     "output_type": "stream",
     "text": [
      "ready\n"
     ]
    }
   ],
   "source": [
    "import sys\n",
    "for p in ['..']:\n",
    "  if p not in sys.path:\n",
    "    sys.path.insert(0, p)\n",
    "\n",
    "from collections import namedtuple\n",
    "import os\n",
    "import pickle\n",
    "import random\n",
    "import warnings\n",
    "\n",
    "import matplotlib.pyplot as plt\n",
    "import numpy as np\n",
    "import pandas as pd\n",
    "from IPython.core.display import HTML, display\n",
    "import skimage.color\n",
    "import skimage.transform\n",
    "\n",
    "from digits.data import Env, Loader\n",
    "from digits.explore import img_tag, img_show\n",
    "from digits.images import *\n",
    "\n",
    "%matplotlib inline\n",
    "\n",
    "env = Env('..')\n",
    "env.assert_ready()\n",
    "loader = Loader.from_env(env)\n",
    "loader.assert_ready()\n",
    "print(\"ready\")"
   ]
  },
  {
   "cell_type": "code",
   "execution_count": 2,
   "metadata": {
    "collapsed": false
   },
   "outputs": [],
   "source": [
    "orig, proc = loader.load_data('crop-test-small', 42)"
   ]
  },
  {
   "cell_type": "code",
   "execution_count": 3,
   "metadata": {
    "collapsed": false
   },
   "outputs": [
    {
     "data": {
      "text/plain": [
       "(100, 32, 32, 3)"
      ]
     },
     "execution_count": 3,
     "metadata": {},
     "output_type": "execute_result"
    }
   ],
   "source": [
    "proc.X.shape"
   ]
  },
  {
   "cell_type": "code",
   "execution_count": 4,
   "metadata": {
    "collapsed": false
   },
   "outputs": [
    {
     "data": {
      "text/html": [
       "<img src='data:image/png;base64,iVBORw0KGgoAAAANSUhEUgAAACAAAAAgCAIAAAD8GO2jAAAFiUlEQVR4nFVWwZIruQ0DQKntmezLH+4hp/x/VfaNWyKJHOSZTbrc1QeXBIkAAfJf//7TBtx0d5UbMNzea7sNAIBtgwZsAwBR3tm3hmKMMYYkhgB0tcu2TQK0PSJEAC13ETZgo9GV5Tb43rQN/w1mqGMEpQhFKMZQBACHXW53l7sBeohBmIJN0KYNNLz3rizw3OH/ANodk89rasQYGiPmnIpx/kbD9n3vdAIcgAADDQJUu93u8n3fmUnyfWrTAIjuaveF8fCw2w4yqAiJJAzQLu7ergYwaEcEGZ1ZVZm57nXf99q79m67u7uboEET3ZW1r5yaYGhes6q6u+ccChcqu7ruve57ZdZ4lwB8/w4JNgADbrt9eDif7i577/z66xVTrmZDIBqthtnZVXW/1tfXV2YOfGuDIEGKkkISSVEWAZskDZTbTQHd/Xq9ItXVaBCCaRlml6tqvdbr6/4bgABAggG23s+IAdl9VMezmoCrd63X19Jgl+kIjsHBoW+Azl25MjMH/F0cWpIUYo8Yz+tRVfgf7dvOqsUFITsz73AUu0af7hFECiyTIkUGOX7KDwPkG0Pj+Xx295sf0kC7994klaqqtW4xCAkSI3TNuAgIpDGgAUH6IfmUCJIiBIf4eFeNhwBnVUQAkLT3HppkCEFIjKkxNUjShCCIJs3hoxBSJCWySSoiIkgeAEkHQFJVujsUZBAieY5MiwyCcrONbnSj/PcNTNDnNNKp27tilGTCpHJLImWzqkUme1d3O12ZSSD33iv3zszMymESx5gOGwBA89gSgFPgAGD2fjMnAN1udu1U5L1qrhQHgb33uu/MqnKlh8EGYRAmoBAItVANgKKN06trrXXv0+d7725QjAhKJtsom3CjQcac87ooDQMNAJZNidKMAcOZsNvOzKrce6+1vr5ef/3+/fv379drHad+PB6fn5+PxzUiKImY1zVicETMWXu/OTDQBG2YBkk0Wd2dWZl7773utdZaa6+11yLx8fmp0OPxuJ6Px8fz+Xxcc5Lsns6CCKAixvHLwynemeK39t1Zudf9et17r73Wfd/3urOKGmMMxDtwIuI0/9mth6cvkn3lt4r84/xvU3O7qtba92vdr3vvc42NMhFjXh/Pp8XHdV1zjpNrodM0ADQ5gt1j8G0G5BHS2zk6s9autfZ9r71y78psN4NjDj8/Pn79+sXQjHHN63pc1zXHoIHOYwkF08a7RHyniul3luauvHN9rftrdVe3AcYYAV3i5z/++OOfv47hjog555xDAbt5rL1x2vCbZOMAwiRod2YeUvfOs0RnQYxxzY/nx2PMBkTGT5oZNoEGLDEUJMd3KP4Q8I7Io8u9du4mGSQJQaGYY44YBAm/NYKfRHHT5He6HIBjtu/XBujGztqr1u6slkSd7D7ZQds707CkiCAbwBiDJCnS3W13IIb7yNR9wvLbuV2d1dXVXRRNNtxuuRtYudZ/bgMkxxjXdc0xxwwSsKvKQJCmh3FAAbK6elee4mS3XfaqxM4IXjPmvKrr9Xq9djeSohRzXnvv6xqx4zTCmQLOZUeDIuPtkShUu6uq3IZBtJ17RYu8pHbnrmxUIxmMMc527TFqiDp13HvtvW0Pg4AMvb1UhIISAwpGcAxVE2TDWclj3SizUTJaKlYyASI4ABK99r7Xje4B0US9+1cGIcacMee4alZlldEnkpot0O1GN1tClTMpKS11g00Q7MaZp2qAPIMqjohFBmVe16SbNIV9BQx9uwDc5Sq3aZIa0pAiNEISzxZ7MULk+M78M22ZkhCEnx+PMTRmXI+ZuWD+ABDOylVpNMmIGHPOxxxz/vhRHlV2vxutz3REAmSIGkOMA5CX6/k9AIAM0ln52vv0J8UxZ1xzzDEUAklmleGu/i/EyrRCBj94qgAAAABJRU5ErkJggg=='/>"
      ],
      "text/plain": [
       "<IPython.core.display.HTML object>"
      ]
     },
     "metadata": {},
     "output_type": "display_data"
    }
   ],
   "source": [
    "img_show(proc.X[0])"
   ]
  },
  {
   "cell_type": "code",
   "execution_count": 5,
   "metadata": {
    "collapsed": false
   },
   "outputs": [],
   "source": [
    "g = skimage.color.rgb2gray(proc.X[2])"
   ]
  },
  {
   "cell_type": "code",
   "execution_count": 6,
   "metadata": {
    "collapsed": false,
    "scrolled": true
   },
   "outputs": [
    {
     "data": {
      "text/html": [
       "<img src='data:image/png;base64,iVBORw0KGgoAAAANSUhEUgAAACAAAAAgCAAAAABWESUoAAACOUlEQVR4nC2TS5IjQQxCQVJWVbv75nPbHtuVH6WYhYcVC+ItCOCf1fsMz/5+vVMAza/H9+MrJNCAoJmZcmVuAYB2WZvHNgAAEbRolXOMkSUYdmbS3GGk0RgSzdeevSfMAlm7k34wgoAhCjRnrTnlFqcn53rZcbkJMDIEmplyLos4H23byjnGPEoEwBAZMqoE83Ydpf7KlbsAmBHx4RA092itaTUrqQQzJxkAaXFetew8mvs2N5UE0j2IKIJqj31MNA/uTMENAD0iwNgE1H7s7BvQ0urJcCfN3B2MbRTOK44YM2vWHANHc6OZuwEBgPSmmmPNmbnWVjQjaUZQ8bEWzsrRx8oC3I0fgdFg9HBZZc7RV4kOWhhqO4AIgEZQgrmZUVIVBEkCGQRI1dqIi3GsnXOrMrMEmikMBHaOnnbGeeXurzvXWplVACwclHK97o52sHa+ucbKOXNXSQiSVet+vnuLOBzZ8qnKnbml/wHs/vp9zqud7bLCO1CqKkmAQtBe/fn7d+b1YGvZ3AAJAEggJOwc9/s98LOqau8tIwmCBBEF7b3mmrPNOUeu970AQcKnh/rw3FG5BjB+X2luJAFIDED0dj0ymf1513y+K9xobiipgiDivHJ15HDkvAeat4gId/5fIzNr3ol111pjtcvbeUY0dzLKjGzHo2pUrtx74/hux/fjcRBliOUwMY4v3XcfWWA7v87z++t0QlIMc6IAejRxF2CHG1XbKDNEsojPkz2wC6AJqFIVAPwDRcmksjQ5JNwAAAAASUVORK5CYII='/>"
      ],
      "text/plain": [
       "<IPython.core.display.HTML object>"
      ]
     },
     "metadata": {},
     "output_type": "display_data"
    }
   ],
   "source": [
    "img_show(g)"
   ]
  },
  {
   "cell_type": "code",
   "execution_count": 7,
   "metadata": {
    "collapsed": false
   },
   "outputs": [
    {
     "data": {
      "text/html": [
       "<img src='data:image/png;base64,iVBORw0KGgoAAAANSUhEUgAAACAAAAAgCAAAAABWESUoAAACMUlEQVR4nEWSSXIsNxBDkQPJ6iHky/rmtlRVJBPwovXD2CZy8QDY394ew0v9eD2PMAjc1/nzfW0YRCWhorlnhhsAQBKLlAGCpYG1vfU+ehoEQ9qOcPu4kWYQ4e0YPQyERxP2mguCAH0M8jaOAFn00Zpqrw1SotIgUpa92649tzPb4LwnNwUxTSqjRThU85xWrY/eWy4DJCVAoGQG1p7XbThe8QdJUhoA1VpTnGvNZbn1YZBIIV2C7esfduw1iy7h95tFKV0A1jf2cLEQ2dxBSaqqLaTTrO7J2i0tuuWjYVdRVWuVkBJUWx4RHm7e+sCcu4pVVVJSVFGbiDZaRIuwuYqs2lVALohrQ4jWj94zAOxdRZKELPlJEh4e2UcaWNy7KAqCnJLgkQ6utasoM4gk3AEgCcitjaYJ7tlaS/vt2gAhC2YRj+OIutbd23g+0zMyDFIBKbm38X4M3pMe7YnW87cMQUjB4nh+vdq9eBVy5dMi/h9gmsV4fP31ju/r3FeFvcrg7u5mZkC6ZX+83u/Qv861cxMm/JEhPTLHcRx+t3D3zHRJkkgJQLpZuJu5Z7bRxuvR8HumBCSg2vMeQPRH4vh6JSlBAiQgidrzGochh+Tj/fDaVUUJBiFVmFcbtyuGe/ZH19q79iY+FJL2un86zEb37N3XrjnXWrsEWGZBNc/kiCPcI9Y19/w559pFCXlQDtXtNnoLE+d5rus878VPkinBDOCOu9yh+573ed6LMoPhP6ggwo/+j/nVAAAAAElFTkSuQmCC'/>"
      ],
      "text/plain": [
       "<IPython.core.display.HTML object>"
      ]
     },
     "metadata": {},
     "output_type": "display_data"
    },
    {
     "data": {
      "text/html": [
       "<img src='data:image/png;base64,iVBORw0KGgoAAAANSUhEUgAAACAAAAAgCAAAAABWESUoAAACNElEQVR4nC2TwZLsNgwDAZKS7dlPz88mLzseWaKIHCY4d+HQBfCvPcak13O/3ykBYL9eP68O0s0ZpBFQVUkSQIvjPI8eAoBC0DxyrzXnEr6huRshQEBUgZ5zPE+WCFQpcktfWggJRuXzmRtmrFoT0WcQBAiEQKNyPkm38HpWjmi9wc1IIkBzw16rwvrR5Gs9fqw0EjQiZEZHbcGiXYf4jDnnygD5bQBpbhGI6Meh3S1zf4WQRBQg76/tina0ULgSEEgz+wKSv8p6mTdHlQQQ/F8Golg4Oz1WAbnXkwo3o7mHAQiC1kwqzdqr1jPRWph5tDBAYUY3d2PNlbUzJ48eER5f3xFkCxr2mmOuXSVGCzf3cAIMI51EZa5nzBLoEW7uThJiGAzauWVuAATAvIURBECEi8o1FttFH5lLktEIiQAQXto5PqOat36tzz2rdhUAEhSCrDV+7xlHv3LNpsydWSXSKCKg/Pz+c9fZo9t++Lz33pklATApKp/3n79v6GX9UF+dUu1dAkRBsdfz+f292Zaio5yivmuEBCj2Xs94hq0sFfbeovE7BQpASJIg1c7Juu+xSXMzMwMABM3bOR5gz/vJ959RJGFGkgAUFq2f511an4W8/500dzcjQKIUzn6u0RM5UGt81LxFNCMkAArS4viZA0u1c65o3npv7futqpiQ92vHyLl3FY/T23X23pwEiBgsidH2rr3Bfv2047qu5iQoWhSkKph3Rgn97Md1nd35dYX/AAXekbBI6nLRAAAAAElFTkSuQmCC'/>"
      ],
      "text/plain": [
       "<IPython.core.display.HTML object>"
      ]
     },
     "metadata": {},
     "output_type": "display_data"
    },
    {
     "data": {
      "text/html": [
       "<img src='data:image/png;base64,iVBORw0KGgoAAAANSUhEUgAAACAAAAAgCAAAAABWESUoAAACLElEQVR4nC1Sy3LsOg4DSEpyd5L53vvjSdsWSczCh8UlCoUX/zuOIcbxeh9OQF3X3+/fZ8OgBhCqtDHmWmGAQLdyNxL/LqgWxzpWAC1aOCv3bgGCgIBajHUMdldxhh9d++5qSQ2E1E0f06tzb6SN8drXVVADDYSKDQsnep+nls8x1wgvQi0x1Joihcp9nd3jzYhwIx4RAaly30Tufe+2bBpJSF0SEDTW+cvN2ncWJDwO1d0tKAysP/bt6pLZcEIS1JXZAMKIj7pyBBnha5qqurvyHwDqSprbCCNjHp65q6qr6olaVZ0lG3O6D3erO6u7MksAojqrWxbjWDPcgMqqfpIkFI9YulvMNQzqXVXdetqASaK5oyuzuwRQXSX6YzcKCFuTear2jBGkgSAACUA0zdZxRF95zzFe72ke7oTUAhjtMd/vZXuf9LHKp0eMMKMkQAGb75/v2b/3nfIXj69wj3AjKYDh4/j638+68lNnstYGaWZGgnwA6+vnZ40zlJeNFAD+ewKMiHUcr4XpBtLcKElqSf9Ga+5m4RExGe/3Mj2IlgQqoMq9JyzmW+P7ez0MwtO6Rde+PmuUr68D4+t7tKqeMQEiIu/rnOeSzRd8vF7MzqosgRTJqNznmCMwyBhr1K69976fssEAap/BFXO5uWN/an8+d+6qFqBYxs7L9IrpBPL83dfn87mrn+3GghHq2uwwYJ/Xff6dV4p8kiRAEqqtJrGzW6CZgy3A/g9Usrfi0AueDwAAAABJRU5ErkJggg=='/>"
      ],
      "text/plain": [
       "<IPython.core.display.HTML object>"
      ]
     },
     "metadata": {},
     "output_type": "display_data"
    },
    {
     "data": {
      "text/html": [
       "<img src='data:image/png;base64,iVBORw0KGgoAAAANSUhEUgAAACAAAAAgCAAAAABWESUoAAACL0lEQVR4nCWSS44rORADmR9JZbvx7jsH77ZLyiRn4T1JBIGw/65rNHO9no80g9T7/ff73jSTBCS7w8aYGW4mmId17dMATAJSXZHjWms4JFhkgt00kZKUEHvEuFaCKgXGNPVptAARCZDyMZcV667osRbPfZrAd4HdshxJ1H5v78xrzXlHGQApQVTLHWDv+4bm0zPDAYkEEiRKJLurzkEcurubgaSkBMS+P3G49642kTAzE9lFIB2y8+dnoqrkkQZSkNjVDaUDtptnBWCZuaZ1kxK7i1A6TJt1HmtGDB9rWVVRJPsLCbHLYqycI3NkRp+mRFKQpaQmq+W51srhZmyKEiVB2VQ1SY+c6xphIthNmTsFZEGUZG6iBDrMHIKZGSCkIJmno25j74jh5hHhZhKFJGSRazl378+I+bwic3z1kJANQ47nY9nZ74i8FCPH/AoEIAmPcb2eq97nCPn06xURmelmBqSAWK9/r3HXfW56ryPz8DA3GJCwGNfr38/4vf+4y+ehzL4fACDdYlzP12viNwEBDgCCIEFCukfONdc8a45hea2EvmXoG/jCWOSY1Ph5TkgQvlYoDWKdzwzkek6bP68kmyIFgyGFrv0ZcyjXUzEfDy9WdzcFE1LC/oyYy3zScq6pU2efU9WkkBKxP5ExlM/ITN/vc96/n10koIyW+nzC1hwr3Vz7fd/vv/ehzICcLTP2+cA8aGzufe/7NOEwIWcDBogsUzigQ8nMQzAT/gcs+MQiYXm6KwAAAABJRU5ErkJggg=='/>"
      ],
      "text/plain": [
       "<IPython.core.display.HTML object>"
      ]
     },
     "metadata": {},
     "output_type": "display_data"
    },
    {
     "data": {
      "text/html": [
       "<img src='data:image/png;base64,iVBORw0KGgoAAAANSUhEUgAAACAAAAAgCAAAAABWESUoAAACK0lEQVR4nDWTMYLjSAwDAZIt2Z6X33t3bKubTWID7WUIKmEB5H9W65py5PX+XCWAFufr9XoGBFoABABAgu7QixEjSIAIgua+uzJ3N0D0rgLNaGZA0BTVyjXn2oA5uqsEcxsgGJBgZqg1Z8H8sObOL3wMMwAhCHSn9kpFjMeQd605V4YLDEEwc6r2Ntp4nLCaV+YugeS/WxQmAfQYBzUDVbsFmt+AcZqZe8SIQIxgtVo09wAAEnE+O22cYYBg1pJAcw8JojRePRbcA1W55W24DUVLBBU/fs7dUOaeqx1upJl7dIOAjnMc3zlzV+Vam+EEQDJaMpE+HJW91srM3XAnSFJB3cmsDJ3zmlmCkWZUbQsjaDQ3OLsqM7dEtQBJUgQA0owkQY/RRLe6au9qIQyESKhLdsiPszpn1l65dzfuWZCqWil/jEdVzffvzJzHuavDARDoWp9rYZyU6st17b0zd98AoNrX+7PC43TWsX/ZVVXVChNAVM/P728ecfrThc+w6u6WFIQAdV7vP3/W83zSjwpzawgQEHeovb7v9+zXT6mqSsT/HhqA1JVrzWnXXFfs75Xg/Qg3ALVapCrXRa7fz4Lf6v4BAD3Ox+a+3kv5eW9jmJm53YuSxfHclV0zVuU1yyPGiHCPu3aMR3atqX1x51yKxzifjyM8TACMPLeqQn313lVx/hyPn9fhCCuJMMY4G2OtzN20OM7zPMKg6CpQJnmMU5DgIiOMUHfxL8SDxWaPegIIAAAAAElFTkSuQmCC'/>"
      ],
      "text/plain": [
       "<IPython.core.display.HTML object>"
      ]
     },
     "metadata": {},
     "output_type": "display_data"
    },
    {
     "data": {
      "text/html": [
       "<img src='data:image/png;base64,iVBORw0KGgoAAAANSUhEUgAAACAAAAAgCAAAAABWESUoAAACKUlEQVR4nDWSS7YkOQhDJYztyMh61ZvtpXdlfAyoB5GlKaDDRfBf37ZR6WN/vzop0nQefz6fpaqqdICkVJIAgFLE+TmOOwgAdKGq2NybEQCgirXWiiIBmqMymrcxhhsJEEbi8RNAN0LFvs3ZjRDoRHRvVo+hAyrRxzYMqaT7sIp1Z0mS4Pw2jK6oWOg2+x7rykhBJYeShebdstZ1adic2332VQVBcqiQoBGV6zoq2mt67w9UqZylqqwMRKzrKs1ga39JJDeJeR+eFutaoSo9tFJlCW4C8mO1tcpImJF8ZquqJKdR11KGG2TdRjdkqSozIkEHVFEA53A2+JitKrIqI6IElxRZkWV9NDP30XKtyMyILMFDilSJbczRmxst7shHAjxRWZJ573MbboAiM+tZ8Rs3zMwo0Bqp1OMuAJAXwObDtS5C2ZykqgogBcCTaD62yTgz7j7mMJr9fR7A01rr+2siz+vsfftls7Xn1lUCHLDx+tl7fCJkfceYzd3dCEiAs/XXzz9vP+7zXmrZf2j2taAAbz73X7/fzg/jzNbuJEmjESABbz62fX/bGoYKFEgJggSAgFtrffRu3rw19DGcJamkEgA4AakkNB+l8fMe36RLkkCvynXO0dHGPjh+v/tTegR4xrrP+SJ8AjbfL0ZEZpa+mLXW2efNatPp4+VaERGRDwRdyrj+9N24wVofuCOv+14rSgDpA6x1/VfbmM3M7D7uuI/jXusJ9H+p98fW5KWlWgAAAABJRU5ErkJggg=='/>"
      ],
      "text/plain": [
       "<IPython.core.display.HTML object>"
      ]
     },
     "metadata": {},
     "output_type": "display_data"
    },
    {
     "data": {
      "text/html": [
       "<img src='data:image/png;base64,iVBORw0KGgoAAAANSUhEUgAAACAAAAAgCAAAAABWESUoAAACNUlEQVR4nDWTwY4bSQxDSUnVbc8A+fH925243VUliTk40ekdCIoCIf6nfd/pvufrulIAzc/n99dzQKAh8BlB0odaFmsMM4hgEOZeyrWzBBDKStEMQQMYpMfoXPOe2TBjd6VgbnACDEE0z95zbZhHtNV8y8cwGsgQQHdT7tXu8TgwlHPejzMCHwfQ3NBZchuPB6Pmvf8mMoZEutwg0XyMw7gGqqoFM7MQYLTtZsGIiLCOsOxugR4egEjG+ayhcQyHBBohwdzdQ6Ja/vgVs80dpZUwM5I0d48WRdgzxtwl7F3zThtupJm5RYlGjeMc7/dcWbXX2hxhAGhESABoHsqlPdfeqxpuJECC8QEzC0ftec9dgsHMiEpjOD5pzNndVZnC32YliREESBIkLUa1qUuVmVkNMhwADM1sjocdK3vP2bnXzi4hCBBE9Vpl5+isnr/r3nutnd0KB0Ap13VNDDeoLsx37b13ljoMILr3/Xrd4ccZ1iN/W3dVtfrfiprXz8884/BHSK9gS5IEBAWgc14//9/P4wmLNjNrQRCAkCBUrvd13f21sqoym4DUkhAtAF1751425xyZ13vDPi8gRUNAC6Kx97rB/XptuhtJqKMBABbnMws1X0v7fW1juLu7MQgAHsdj18qasWvNuz3GGBER/hHYeGTXvFk3aq+N8TjOr+fh/JxpsD6r+0jdVdWK8/t4fj8Pp6IbgNHiaMU95y4xxnGcIwwqRJZYhqL5yBa8BYYT6u4m/gCTt7xetLapJQAAAABJRU5ErkJggg=='/>"
      ],
      "text/plain": [
       "<IPython.core.display.HTML object>"
      ]
     },
     "metadata": {},
     "output_type": "display_data"
    },
    {
     "data": {
      "text/html": [
       "<img src='data:image/png;base64,iVBORw0KGgoAAAANSUhEUgAAACAAAAAgCAAAAABWESUoAAACMElEQVR4nDVS0Y4jSQizgapOsvfn97W3O5nurgJ8D5lFFkICWTbAf5HntcLz+n5/pwCaP16/Xs+QQEMQNDNVVrUAAOrWTwkgCIuo2uta2QLREiNmkgDAEETz3Nd1bZAurN30GDCj0UICzND7Xm3mg7vXoo/JoIEWDdCcvdemx3zYxrrPeDyGCyRDoEVTVe0WxzNS9733ymoARAAwkwOgecwjYk9WdougkQGAsJgzPcYcEQhnSw2YuTEaJDCe6WkxwyARH4fm7owiARywuURj5dpFN5IeI5xRNMiPEXHt1M5aVzLCzOzD8CELoisrq3LvbXO40dzdEEaS7gxn7Wvlzm6McJqZkYgB0sJpqFz3fWeLZm7GzzHiswiSaklVJZGgu6nbgSAAUp3NOFrMqtZPAEQYQChrbcTT58p931WZWQJoDAegrvu80o5Zmfe7M3PvrAaBIIGq+/vr0jwGVZetsz4DLTFIttb5589lOOLwnvnF7q5qQVAI6Lzfv/+7hj9tTuFw4q9KISTUvs/3+5zHP6KJAPgBCUQDVfu+77vXzrS+7xRJ8JOiAUkNqCvXlfn1vn9+XiAtAMB8Ho9ltc7mfn8thpsZKUHBT/+1ru51rt7nd7mFezghIQgSxzPXtbBP1rovDB9jxAgnGU0zy/nMfanOrtw1nxHPxzGGOxnbaWLMV49r31lqjtecr9dzGCXEbW5omI9qtQnO4ziO52MGJSmSTQISzQe8AA4joC6qDf8DBXGaHi3hFBIAAAAASUVORK5CYII='/>"
      ],
      "text/plain": [
       "<IPython.core.display.HTML object>"
      ]
     },
     "metadata": {},
     "output_type": "display_data"
    },
    {
     "data": {
      "text/html": [
       "<img src='data:image/png;base64,iVBORw0KGgoAAAANSUhEUgAAACAAAAAgCAAAAABWESUoAAACL0lEQVR4nDWTW7IbSRBCITOrWpK98NmvfaWuF8yHZv4JgjgA/xn3dHl9ft63DMDuz9frVw9GZESBQUv7HNkEtNeWEW5JgKzIOvvsMdYBIynsecTKCABgRUk6e425EdXL5c9E9ZZpkCgjorb3msqs62LHWaPPLYMkC2AqqH2c0fojm8Z77X0ERhZLYLqCABhZrWL2OPscm5EZZQa5KyOQVZnpamVJYmQmC2BE79eDqF4BHUckbRiMiIIJ5uM358lKnD3nzp6EyQiiBBC8os0l+5wz7olWAfvLQXAY/epjzDH3XmNsRRCwbaAOAka1DK+zxhhzy0GS0JFR3zCMpqTWuMc6IG1LkswKEBERsSlLEsLw2WuvI4OVJCP4VTUhD84+e83R1z5SFUEQsJkX22PJ6/NZs0br15YrAYA4Wtt5dcsepbnXnHMd6T8Ded/3cFUGNWK+9z57b30dSHuP98+Hz9Z74T5/a+tIklEBkNK6f/58ko3tIq5esC3brjBIaH1+/rwT/QmSZPB/EAXA0J735/NmPl97Yc4lwJZllQ1YOmvN6X7fXfq8x7cNwC7BsCSDPGvcbZz773BlRDAj6tAAkNUfW5ofYo/3RFWrysiob+3ZHi95Y37gNT+L/erP16MHCgTA6s9trY1lrbXUrtf1+vWsQH3/w0sCPKyx93FUe1wt4YMKfdfXusB7jikkoyXhoxMsWibCkdWPYZZMJvxFiTr7CBEWyIgsxNF3jzZI/guEXtOMdNx6CgAAAABJRU5ErkJggg=='/>"
      ],
      "text/plain": [
       "<IPython.core.display.HTML object>"
      ]
     },
     "metadata": {},
     "output_type": "display_data"
    },
    {
     "data": {
      "text/html": [
       "<img src='data:image/png;base64,iVBORw0KGgoAAAANSUhEUgAAACAAAAAgCAAAAABWESUoAAACLUlEQVR4nDWSQXIjSQwDAZJd3bLm4fveWVuqriKJPch7zwAiEuA/91zoPX/edxPo3ePrz5/n4W7uRoXH0M75XgljMHu/mx6kgSQRonl2rjtpcUZ53i8/znABIBGguaH27vDxODtyz/nYLZAGMERzp6pFP84LvH8qsxo0oxEBOtNJ0jziYI1AVbVoEQRDdBvHGI0xwk10N6hFc3eSAYB+PnsojsHqbAsjgA+AaAK8GDNBVuVcOswI0owEoijgHMc1965Ve97lbgQ+GhBllB3u1pn32mtn0Q0ABAAIAqSFtnXe817VcNIMXW0kwkgzd4U6915bYrfULQkGxgHSSSPgEQfRhcq9s1okEQ7wk3c87FzZOe/ca62slogwAGitVTaiqzSt3vdxnzurJYSBQPX7NcuHA/3m/VO51y4JQjiArvX6fus6xnCN/Gtd1dWfCoJCzp+/L2rYGNB5eEuSfv8AoPf7+99v8nrSRZoL+BBgCOjKe75eOJ4rd6+VUP+6AENoVeXO3fc9R9b3a+MzhtTW0fi0uXfe02y/vpeZm5kZAEYDMB+PXS+tV2vPd5ofEe7uRgYB+Li+Ojf27Nr3rHEd13UeTkCfNcejlbu4cudOjOf5eH4Np5oBkcaxv8R7150J+nic1xlUyRglwmBHtXze5Ub4Qai7DBJjNc1QID1C7AZJQd0SAPwCH2tmDvxvkSRJi4IAAiSBriyJLuFzNLdw0Z0qEqpcKwXyNLqbi+R/Iayn49A3vVAAAAAASUVORK5CYII='/>"
      ],
      "text/plain": [
       "<IPython.core.display.HTML object>"
      ]
     },
     "metadata": {},
     "output_type": "display_data"
    }
   ],
   "source": [
    "img_show(img_map(lambda x: img_rando(x), np.tile(g, (10, 1, 1))))"
   ]
  },
  {
   "cell_type": "code",
   "execution_count": 8,
   "metadata": {
    "collapsed": false
   },
   "outputs": [
    {
     "ename": "UnboundLocalError",
     "evalue": "local variable 'width' referenced before assignment",
     "output_type": "error",
     "traceback": [
      "\u001b[0;31m---------------------------------------------------------------------------\u001b[0m",
      "\u001b[0;31mUnboundLocalError\u001b[0m                         Traceback (most recent call last)",
      "\u001b[0;32m<ipython-input-8-3695d1be4bb3>\u001b[0m in \u001b[0;36m<module>\u001b[0;34m()\u001b[0m\n\u001b[1;32m      1\u001b[0m \u001b[0mgrays\u001b[0m \u001b[0;34m=\u001b[0m \u001b[0mimg_map\u001b[0m\u001b[0;34m(\u001b[0m\u001b[0mskimage\u001b[0m\u001b[0;34m.\u001b[0m\u001b[0mcolor\u001b[0m\u001b[0;34m.\u001b[0m\u001b[0mrgb2gray\u001b[0m\u001b[0;34m,\u001b[0m \u001b[0mproc\u001b[0m\u001b[0;34m.\u001b[0m\u001b[0mX\u001b[0m\u001b[0;34m)\u001b[0m\u001b[0;34m\u001b[0m\u001b[0m\n\u001b[0;32m----> 2\u001b[0;31m \u001b[0mXb\u001b[0m\u001b[0;34m,\u001b[0m \u001b[0myb\u001b[0m \u001b[0;34m=\u001b[0m \u001b[0mimg_select\u001b[0m\u001b[0;34m(\u001b[0m\u001b[0mgrays\u001b[0m\u001b[0;34m,\u001b[0m \u001b[0mproc\u001b[0m\u001b[0;34m.\u001b[0m\u001b[0my\u001b[0m\u001b[0;34m,\u001b[0m \u001b[0;36m20\u001b[0m\u001b[0;34m,\u001b[0m \u001b[0mimg_augment\u001b[0m\u001b[0;34m)\u001b[0m\u001b[0;34m\u001b[0m\u001b[0m\n\u001b[0m\u001b[1;32m      3\u001b[0m \u001b[0;32mfor\u001b[0m \u001b[0;34m(\u001b[0m\u001b[0ma\u001b[0m\u001b[0;34m,\u001b[0m \u001b[0mb\u001b[0m\u001b[0;34m)\u001b[0m \u001b[0;32min\u001b[0m \u001b[0mzip\u001b[0m\u001b[0;34m(\u001b[0m\u001b[0mXb\u001b[0m\u001b[0;34m,\u001b[0m \u001b[0myb\u001b[0m\u001b[0;34m)\u001b[0m\u001b[0;34m:\u001b[0m\u001b[0;34m\u001b[0m\u001b[0m\n\u001b[1;32m      4\u001b[0m     \u001b[0mimg_show\u001b[0m\u001b[0;34m(\u001b[0m\u001b[0ma\u001b[0m\u001b[0;34m)\u001b[0m\u001b[0;34m\u001b[0m\u001b[0m\n\u001b[1;32m      5\u001b[0m     \u001b[0mprint\u001b[0m\u001b[0;34m(\u001b[0m\u001b[0mb\u001b[0m\u001b[0;34m)\u001b[0m\u001b[0;34m\u001b[0m\u001b[0m\n",
      "\u001b[0;32m/Users/charolastra/school/digits/digits/images.py\u001b[0m in \u001b[0;36mimg_select\u001b[0;34m(X, y, batch_size, augment)\u001b[0m\n\u001b[1;32m    112\u001b[0m   \u001b[0mXb\u001b[0m \u001b[0;34m=\u001b[0m \u001b[0mX\u001b[0m\u001b[0;34m[\u001b[0m\u001b[0mindices\u001b[0m\u001b[0;34m]\u001b[0m\u001b[0;34m\u001b[0m\u001b[0m\n\u001b[1;32m    113\u001b[0m   \u001b[0;32mif\u001b[0m \u001b[0maugment\u001b[0m \u001b[0;32mis\u001b[0m \u001b[0;32mnot\u001b[0m \u001b[0;32mNone\u001b[0m\u001b[0;34m:\u001b[0m\u001b[0;34m\u001b[0m\u001b[0m\n\u001b[0;32m--> 114\u001b[0;31m     \u001b[0mXb\u001b[0m \u001b[0;34m=\u001b[0m \u001b[0mimg_map\u001b[0m\u001b[0;34m(\u001b[0m\u001b[0maugment\u001b[0m\u001b[0;34m,\u001b[0m \u001b[0mXb\u001b[0m\u001b[0;34m)\u001b[0m\u001b[0;34m\u001b[0m\u001b[0m\n\u001b[0m\u001b[1;32m    115\u001b[0m   \u001b[0myb\u001b[0m \u001b[0;34m=\u001b[0m \u001b[0my\u001b[0m\u001b[0;34m[\u001b[0m\u001b[0mindices\u001b[0m\u001b[0;34m]\u001b[0m\u001b[0;34m\u001b[0m\u001b[0m\n\u001b[1;32m    116\u001b[0m   \u001b[0;32mreturn\u001b[0m \u001b[0;34m(\u001b[0m\u001b[0mXb\u001b[0m\u001b[0;34m,\u001b[0m \u001b[0myb\u001b[0m\u001b[0;34m)\u001b[0m\u001b[0;34m\u001b[0m\u001b[0m\n",
      "\u001b[0;32m/Users/charolastra/school/digits/digits/images.py\u001b[0m in \u001b[0;36mimg_map\u001b[0;34m(f, arr)\u001b[0m\n\u001b[1;32m     48\u001b[0m     \u001b[0;32mreturn\u001b[0m \u001b[0mf\u001b[0m\u001b[0;34m(\u001b[0m\u001b[0marr\u001b[0m\u001b[0;34m)\u001b[0m\u001b[0;34m\u001b[0m\u001b[0m\n\u001b[1;32m     49\u001b[0m   \u001b[0;32melse\u001b[0m\u001b[0;34m:\u001b[0m\u001b[0;34m\u001b[0m\u001b[0m\n\u001b[0;32m---> 50\u001b[0;31m     \u001b[0;32mreturn\u001b[0m \u001b[0mnp\u001b[0m\u001b[0;34m.\u001b[0m\u001b[0mstack\u001b[0m\u001b[0;34m(\u001b[0m\u001b[0;34m[\u001b[0m\u001b[0mf\u001b[0m\u001b[0;34m(\u001b[0m\u001b[0marr\u001b[0m\u001b[0;34m[\u001b[0m\u001b[0mi\u001b[0m\u001b[0;34m]\u001b[0m\u001b[0;34m)\u001b[0m \u001b[0;32mfor\u001b[0m \u001b[0mi\u001b[0m \u001b[0;32min\u001b[0m \u001b[0mrange\u001b[0m\u001b[0;34m(\u001b[0m\u001b[0marr\u001b[0m\u001b[0;34m.\u001b[0m\u001b[0mshape\u001b[0m\u001b[0;34m[\u001b[0m\u001b[0;36m0\u001b[0m\u001b[0;34m]\u001b[0m\u001b[0;34m)\u001b[0m\u001b[0;34m]\u001b[0m\u001b[0;34m)\u001b[0m\u001b[0;34m\u001b[0m\u001b[0m\n\u001b[0m\u001b[1;32m     51\u001b[0m \u001b[0;34m\u001b[0m\u001b[0m\n\u001b[1;32m     52\u001b[0m \u001b[0;31m# apply a function for side effects\u001b[0m\u001b[0;34m\u001b[0m\u001b[0;34m\u001b[0m\u001b[0m\n",
      "\u001b[0;32m/Users/charolastra/school/digits/digits/images.py\u001b[0m in \u001b[0;36m<listcomp>\u001b[0;34m(.0)\u001b[0m\n\u001b[1;32m     48\u001b[0m     \u001b[0;32mreturn\u001b[0m \u001b[0mf\u001b[0m\u001b[0;34m(\u001b[0m\u001b[0marr\u001b[0m\u001b[0;34m)\u001b[0m\u001b[0;34m\u001b[0m\u001b[0m\n\u001b[1;32m     49\u001b[0m   \u001b[0;32melse\u001b[0m\u001b[0;34m:\u001b[0m\u001b[0;34m\u001b[0m\u001b[0m\n\u001b[0;32m---> 50\u001b[0;31m     \u001b[0;32mreturn\u001b[0m \u001b[0mnp\u001b[0m\u001b[0;34m.\u001b[0m\u001b[0mstack\u001b[0m\u001b[0;34m(\u001b[0m\u001b[0;34m[\u001b[0m\u001b[0mf\u001b[0m\u001b[0;34m(\u001b[0m\u001b[0marr\u001b[0m\u001b[0;34m[\u001b[0m\u001b[0mi\u001b[0m\u001b[0;34m]\u001b[0m\u001b[0;34m)\u001b[0m \u001b[0;32mfor\u001b[0m \u001b[0mi\u001b[0m \u001b[0;32min\u001b[0m \u001b[0mrange\u001b[0m\u001b[0;34m(\u001b[0m\u001b[0marr\u001b[0m\u001b[0;34m.\u001b[0m\u001b[0mshape\u001b[0m\u001b[0;34m[\u001b[0m\u001b[0;36m0\u001b[0m\u001b[0;34m]\u001b[0m\u001b[0;34m)\u001b[0m\u001b[0;34m]\u001b[0m\u001b[0;34m)\u001b[0m\u001b[0;34m\u001b[0m\u001b[0m\n\u001b[0m\u001b[1;32m     51\u001b[0m \u001b[0;34m\u001b[0m\u001b[0m\n\u001b[1;32m     52\u001b[0m \u001b[0;31m# apply a function for side effects\u001b[0m\u001b[0;34m\u001b[0m\u001b[0;34m\u001b[0m\u001b[0m\n",
      "\u001b[0;32m/Users/charolastra/school/digits/digits/images.py\u001b[0m in \u001b[0;36mimg_augment\u001b[0;34m(img)\u001b[0m\n\u001b[1;32m     93\u001b[0m   \u001b[0mm\u001b[0m \u001b[0;34m=\u001b[0m \u001b[0mnp\u001b[0m\u001b[0;34m.\u001b[0m\u001b[0mones\u001b[0m\u001b[0;34m(\u001b[0m\u001b[0mimg\u001b[0m\u001b[0;34m.\u001b[0m\u001b[0mshape\u001b[0m\u001b[0;34m)\u001b[0m\u001b[0;34m\u001b[0m\u001b[0m\n\u001b[1;32m     94\u001b[0m   \u001b[0mm\u001b[0m\u001b[0;34m[\u001b[0m\u001b[0;34m:\u001b[0m\u001b[0;34m,\u001b[0m \u001b[0;36m0\u001b[0m\u001b[0;34m:\u001b[0m\u001b[0me\u001b[0m\u001b[0;34m]\u001b[0m \u001b[0;34m=\u001b[0m \u001b[0;36m0\u001b[0m\u001b[0;34m\u001b[0m\u001b[0m\n\u001b[0;32m---> 95\u001b[0;31m   \u001b[0mm\u001b[0m\u001b[0;34m[\u001b[0m\u001b[0;34m:\u001b[0m\u001b[0;34m,\u001b[0m \u001b[0mwidth\u001b[0m\u001b[0;34m-\u001b[0m\u001b[0me\u001b[0m\u001b[0;34m:\u001b[0m\u001b[0;34m]\u001b[0m \u001b[0;34m=\u001b[0m \u001b[0;36m0\u001b[0m\u001b[0;34m\u001b[0m\u001b[0m\n\u001b[0m\u001b[1;32m     96\u001b[0m   \u001b[0;32mwith\u001b[0m \u001b[0mwarnings\u001b[0m\u001b[0;34m.\u001b[0m\u001b[0mcatch_warnings\u001b[0m\u001b[0;34m(\u001b[0m\u001b[0;34m)\u001b[0m\u001b[0;34m:\u001b[0m\u001b[0;34m\u001b[0m\u001b[0m\n\u001b[1;32m     97\u001b[0m     \u001b[0mwarnings\u001b[0m\u001b[0;34m.\u001b[0m\u001b[0msimplefilter\u001b[0m\u001b[0;34m(\u001b[0m\u001b[0;34m\"ignore\"\u001b[0m\u001b[0;34m)\u001b[0m\u001b[0;34m\u001b[0m\u001b[0m\n",
      "\u001b[0;31mUnboundLocalError\u001b[0m: local variable 'width' referenced before assignment"
     ]
    }
   ],
   "source": [
    "grays = img_map(skimage.color.rgb2gray, proc.X)\n",
    "Xb, yb = img_select(grays, proc.y, 20, img_augment)\n",
    "for (a, b) in zip(Xb, yb):\n",
    "    img_show(a)\n",
    "    print(b)"
   ]
  },
  {
   "cell_type": "code",
   "execution_count": null,
   "metadata": {
    "collapsed": true
   },
   "outputs": [],
   "source": []
  }
 ],
 "metadata": {
  "anaconda-cloud": {},
  "kernelspec": {
   "display_name": "Python [default]",
   "language": "python",
   "name": "python3"
  },
  "language_info": {
   "codemirror_mode": {
    "name": "ipython",
    "version": 3
   },
   "file_extension": ".py",
   "mimetype": "text/x-python",
   "name": "python",
   "nbconvert_exporter": "python",
   "pygments_lexer": "ipython3",
   "version": "3.5.2"
  }
 },
 "nbformat": 4,
 "nbformat_minor": 1
}
