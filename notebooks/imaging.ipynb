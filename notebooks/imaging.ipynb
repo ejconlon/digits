{
 "cells": [
  {
   "cell_type": "code",
   "execution_count": 136,
   "metadata": {
    "collapsed": false
   },
   "outputs": [
    {
     "name": "stdout",
     "output_type": "stream",
     "text": [
      "ready\n"
     ]
    }
   ],
   "source": [
    "import sys\n",
    "for p in ['..']:\n",
    "  if p not in sys.path:\n",
    "    sys.path.insert(0, p)\n",
    "\n",
    "from collections import namedtuple\n",
    "import os\n",
    "import pickle\n",
    "import random\n",
    "\n",
    "import matplotlib.pyplot as plt\n",
    "import numpy as np\n",
    "import pandas as pd\n",
    "from IPython.core.display import HTML, display\n",
    "import skimage.color\n",
    "import skimage.transform\n",
    "\n",
    "from digits.data import Env, Loader\n",
    "from digits.explore import img_tag\n",
    "\n",
    "%matplotlib inline\n",
    "\n",
    "env = Env('..')\n",
    "env.assert_ready()\n",
    "loader = Loader.from_env(env)\n",
    "loader.assert_ready()\n",
    "print(\"ready\")"
   ]
  },
  {
   "cell_type": "code",
   "execution_count": 2,
   "metadata": {
    "collapsed": false
   },
   "outputs": [],
   "source": [
    "orig, proc = loader.load_data('crop-test-small', 42)"
   ]
  },
  {
   "cell_type": "code",
   "execution_count": 3,
   "metadata": {
    "collapsed": false
   },
   "outputs": [
    {
     "data": {
      "text/plain": [
       "(100, 32, 32, 3)"
      ]
     },
     "execution_count": 3,
     "metadata": {},
     "output_type": "execute_result"
    }
   ],
   "source": [
    "proc.X.shape"
   ]
  },
  {
   "cell_type": "code",
   "execution_count": 4,
   "metadata": {
    "collapsed": true
   },
   "outputs": [],
   "source": [
    "def img_show(img):\n",
    "    return HTML(img_tag(img))"
   ]
  },
  {
   "cell_type": "code",
   "execution_count": 5,
   "metadata": {
    "collapsed": false
   },
   "outputs": [
    {
     "data": {
      "text/html": [
       "<img src='data:image/png;base64,iVBORw0KGgoAAAANSUhEUgAAACAAAAAgCAIAAAD8GO2jAAAFiUlEQVR4nFVWwZIruQ0DQKntmezLH+4hp/x/VfaNWyKJHOSZTbrc1QeXBIkAAfJf//7TBtx0d5UbMNzea7sNAIBtgwZsAwBR3tm3hmKMMYYkhgB0tcu2TQK0PSJEAC13ETZgo9GV5Tb43rQN/w1mqGMEpQhFKMZQBACHXW53l7sBeohBmIJN0KYNNLz3rizw3OH/ANodk89rasQYGiPmnIpx/kbD9n3vdAIcgAADDQJUu93u8n3fmUnyfWrTAIjuaveF8fCw2w4yqAiJJAzQLu7ergYwaEcEGZ1ZVZm57nXf99q79m67u7uboEET3ZW1r5yaYGhes6q6u+ccChcqu7ruve57ZdZ4lwB8/w4JNgADbrt9eDif7i577/z66xVTrmZDIBqthtnZVXW/1tfXV2YOfGuDIEGKkkISSVEWAZskDZTbTQHd/Xq9ItXVaBCCaRlml6tqvdbr6/4bgABAggG23s+IAdl9VMezmoCrd63X19Jgl+kIjsHBoW+Azl25MjMH/F0cWpIUYo8Yz+tRVfgf7dvOqsUFITsz73AUu0af7hFECiyTIkUGOX7KDwPkG0Pj+Xx295sf0kC7994klaqqtW4xCAkSI3TNuAgIpDGgAUH6IfmUCJIiBIf4eFeNhwBnVUQAkLT3HppkCEFIjKkxNUjShCCIJs3hoxBSJCWySSoiIkgeAEkHQFJVujsUZBAieY5MiwyCcrONbnSj/PcNTNDnNNKp27tilGTCpHJLImWzqkUme1d3O12ZSSD33iv3zszMymESx5gOGwBA89gSgFPgAGD2fjMnAN1udu1U5L1qrhQHgb33uu/MqnKlh8EGYRAmoBAItVANgKKN06trrXXv0+d7725QjAhKJtsom3CjQcac87ooDQMNAJZNidKMAcOZsNvOzKrce6+1vr5ef/3+/fv379drHad+PB6fn5+PxzUiKImY1zVicETMWXu/OTDQBG2YBkk0Wd2dWZl7773utdZaa6+11yLx8fmp0OPxuJ6Px8fz+Xxcc5Lsns6CCKAixvHLwynemeK39t1Zudf9et17r73Wfd/3urOKGmMMxDtwIuI0/9mth6cvkn3lt4r84/xvU3O7qtba92vdr3vvc42NMhFjXh/Pp8XHdV1zjpNrodM0ADQ5gt1j8G0G5BHS2zk6s9autfZ9r71y78psN4NjDj8/Pn79+sXQjHHN63pc1zXHoIHOYwkF08a7RHyniul3luauvHN9rftrdVe3AcYYAV3i5z/++OOfv47hjog555xDAbt5rL1x2vCbZOMAwiRod2YeUvfOs0RnQYxxzY/nx2PMBkTGT5oZNoEGLDEUJMd3KP4Q8I7Io8u9du4mGSQJQaGYY44YBAm/NYKfRHHT5He6HIBjtu/XBujGztqr1u6slkSd7D7ZQds707CkiCAbwBiDJCnS3W13IIb7yNR9wvLbuV2d1dXVXRRNNtxuuRtYudZ/bgMkxxjXdc0xxwwSsKvKQJCmh3FAAbK6elee4mS3XfaqxM4IXjPmvKrr9Xq9djeSohRzXnvv6xqx4zTCmQLOZUeDIuPtkShUu6uq3IZBtJ17RYu8pHbnrmxUIxmMMc527TFqiDp13HvtvW0Pg4AMvb1UhIISAwpGcAxVE2TDWclj3SizUTJaKlYyASI4ABK99r7Xje4B0US9+1cGIcacMee4alZlldEnkpot0O1GN1tClTMpKS11g00Q7MaZp2qAPIMqjohFBmVe16SbNIV9BQx9uwDc5Sq3aZIa0pAiNEISzxZ7MULk+M78M22ZkhCEnx+PMTRmXI+ZuWD+ABDOylVpNMmIGHPOxxxz/vhRHlV2vxutz3REAmSIGkOMA5CX6/k9AIAM0ln52vv0J8UxZ1xzzDEUAklmleGu/i/EyrRCBj94qgAAAABJRU5ErkJggg=='/>"
      ],
      "text/plain": [
       "<IPython.core.display.HTML object>"
      ]
     },
     "execution_count": 5,
     "metadata": {},
     "output_type": "execute_result"
    }
   ],
   "source": [
    "img_show(proc.X[0])"
   ]
  },
  {
   "cell_type": "code",
   "execution_count": 41,
   "metadata": {
    "collapsed": false
   },
   "outputs": [],
   "source": [
    "def mk_int(X):\n",
    "    return np.clip(np.round(255*X), 0, 255).astype(np.uint8)\n",
    "def mk_gray(X):\n",
    "    return mk_int(skimage.color.rgb2gray(X))"
   ]
  },
  {
   "cell_type": "code",
   "execution_count": 42,
   "metadata": {
    "collapsed": false
   },
   "outputs": [],
   "source": [
    "g = mk_gray(proc.X[0])"
   ]
  },
  {
   "cell_type": "code",
   "execution_count": 68,
   "metadata": {
    "collapsed": false
   },
   "outputs": [
    {
     "data": {
      "text/html": [
       "<img src='data:image/png;base64,iVBORw0KGgoAAAANSUhEUgAAACAAAAAgCAAAAABWESUoAAACA0lEQVR4nDWSQXIcUQhDJUH3jFNJbpn7bxJ7+n9AWfSYBRtUKpV4/GOjx14DGDA4nZEK9BhwBjyApwy/FamIDMTMDJOgKc9u3BbOIzOPgO3LSNCkZ64ibHD8eNqUiBkPEmJ1XdfenqE5tVNnzxHds69KAIDte9nj/e8Y00L166sSBimJAkjMYF7VA4f7WwBAUsimB6xXNCR7unal73M+GgbcVJdVY9IkmQBNSc8BiNmsXgQVQYLUHVJhgqQ7oB0iGEGLQBqmyAiScqtHBAmT8My8HQRQEliSm6yZwl67Okl8jwJDEsMdawn7qq4EDARnIPesta49CsFD8ziVBi2G267e6+vz84p8/HiEeEZkJQAaJqZ6r7XWwo94PD+eB6eFSuJ+M93rtde1WqnIkAic7HwH9PR6vfa+Gvnk48gMEhmTtAEAtde1dln58SvieJzphuAkYAPe6/U1g0j9/E3GccjAkPlG1bXWhsk4nwmGeDfD5P1v77WKJCMDuMsjASbHhDG1dkuw4YKCSJLTyMEdc3rmJqr+gnnmQTc4CZJTe5VdW8c5r2Xp2OcSeowERds9oFcwpmBlz6TsvZ3mN5LKFko0GyrRwL6cog3wyLPbEDCGuuQB4JmbBypOUKdJ2ENmKgLcwTdR4EfmWRaBLjDycYgcTBIYIsQ4qkGSvQAexxFgo/8DsJyNN/mI1qgAAAAASUVORK5CYII='/>"
      ],
      "text/plain": [
       "<IPython.core.display.HTML object>"
      ]
     },
     "execution_count": 68,
     "metadata": {},
     "output_type": "execute_result"
    }
   ],
   "source": [
    "img_show(g)"
   ]
  },
  {
   "cell_type": "code",
   "execution_count": 164,
   "metadata": {
    "collapsed": false
   },
   "outputs": [],
   "source": [
    "DEFAULT_S=1.05\n",
    "DEFAULT_R=0.1\n",
    "DEFAULT_T=2.0\n",
    "\n",
    "def rando(img, s=DEFAULT_S, r=DEFAULT_R, t=DEFAULT_T):\n",
    "    scale = random.uniform(1/s, s)\n",
    "    rot = random.uniform(-r, r)\n",
    "    trans = (random.uniform(-t, t), random.uniform(-t, t))\n",
    "    tform = SimilarityTransform(scale=scale, rotation=rot, translation=trans)\n",
    "    return mk_int(skimage.transform.warp(g, tform, mode='symmetric'))\n",
    "\n",
    "def randovec(X, s=DEFAULT_S, r=DEFAULT_R, t=DEFAULT_T):\n",
    "    return np.array([rando(img, s, r, t) for img in X])"
   ]
  },
  {
   "cell_type": "code",
   "execution_count": 167,
   "metadata": {
    "collapsed": false
   },
   "outputs": [
    {
     "data": {
      "text/html": [
       "<img src='data:image/png;base64,iVBORw0KGgoAAAANSUhEUgAAACAAAAAgCAAAAABWESUoAAAB/klEQVR4nEWSO5JkRwwDARTrda82dE7d35lRfQis0ROSQZuRieQ/ie18HyQJEj1Vcw4iWScowQC6twEjcRUASnHSnQJIxHcZTuAedLVnuXuv7aJsr7VPxwHS/dWzk0b3+t4ugAwAfs7p7dtJ0feslZ+HkoYJBvA+p0HIse1KAHLUIACk772OpkFFEgomNTzfJggf8RqgRoWDZIWEpGJIood4mgA1YiIpAIAGBimmBQ+CSJDY7QpCSShSyvUYcM7pPjnndhc+GAA1hEhEE3sVc02ySAAgQZK2bzskkUDzTRcQYMgG+979/f21Va9fTw1qjuoKGJHpdJ+z1lr5Nd6v93vSproAMAjZfdbe61zWGDUkkc9wfQQCyN1r730xnvHMqiLB8eMBiPustc/FeP1+jef1FBoBiwkA5J699jWLf/39aFSNABaLQAKkz17XkOZ7FqUfen0wg/Q5p//fNQlIJEUgDOCzrwUEaFBJMTZchAMk7rbJ2P0NaFYJ7aAMIoBj+1pD94vRmE8J7vtpkn3OCXJdD41gVHsO5q5bAIUGAIlIkwACSiDct4JPP1U1m2SQUD0SEBJLYABqPgEvKSCRZtUcbKMIfoS8Rz2NIbBN1XxN0dDPFqJY82WKog+gOafgukUAJkhQ6k9XCNyi4HP+WzO+51yTyb3BqGcS+Hf9AUMpj1hMol1LAAAAAElFTkSuQmCC'/>"
      ],
      "text/plain": [
       "<IPython.core.display.HTML object>"
      ]
     },
     "metadata": {},
     "output_type": "display_data"
    },
    {
     "data": {
      "text/html": [
       "<img src='data:image/png;base64,iVBORw0KGgoAAAANSUhEUgAAACAAAAAgCAAAAABWESUoAAAB+UlEQVR4nC2TUZYcRwgEI4Hu8VryQX3/91bTVQWpj9kLAJFB6n9wz8z+NmBhKbIyY3psCoQE/YwAQHdWXhme6eNC4fHZzzMAwpkQUcJDU4CY3quPx0AnuqxI7OkpMBIYGbDHD/fgUvd+n8ICFApLMI2Xx2I0/f6zyzIooq4c4xFnnXYETD9/dmEhKS7bxic0e1SnC7u7CwHKuQKgT2gWEBHCoDIEUqok6GVOIqkysFB9slFIUtB0C0JShLBdkkBCikgIhRsNHvc5Pzmg1CDJ2Hbr7L2D9ewzZeSInDYzvd/Pe02EPOM+xgXIEJ7us9f7+3tVvb7uEHk3XQIwMOestZ9n6998fX29ylXK/lCA3ft59lrbVVnXVUUE0SUbgLOf93P2dtz/xOuqSsMdUwIbZq/3+5xW5q/fUdd9hZuoH0wz+3mWrbhe//2W6kqNMZQM4F7POiKiXq8kMgQKgsKW7V5rd0jKCiSQJRSU9YHsfSzZ0CtKrbBsq1C4ez9npqciZluR930FY1lFyO3uYTZzz2oi65wrNCY+uqWPbM8cbVSXpxN3WxXYKPPadU0MAp04EYZnmfp8fNZtYhC2cYcHNGf4rEheynw18kxbeWUGksRPcaSo6/gjxUTdFXDmZwKAIj/X9gJd1xXM+XRT45mz92kiFH2kAEREoL9b6ogZlGIV+AAAAABJRU5ErkJggg=='/>"
      ],
      "text/plain": [
       "<IPython.core.display.HTML object>"
      ]
     },
     "metadata": {},
     "output_type": "display_data"
    },
    {
     "data": {
      "text/html": [
       "<img src='data:image/png;base64,iVBORw0KGgoAAAANSUhEUgAAACAAAAAgCAAAAABWESUoAAAB9ElEQVR4nC2SQZbdRgwDCySlP3Zy0Nx/kbG6m4QXmj1fEQ8o/Wdm2vPdNsZYWVlVydi7S8IK+yyDMRP3FZGZpOe4kCVm9mNs8IiCiJB7+hQB08+zdnsMNFbeMxPTvf4UCGzDC7C9dM3g4PTzXRhJCikAeYbj04PL3WsVBhSRqTCaofucUZawPWVAirx+3hypm+6xhEPFC4g7jOTZEX0EkRltqUBW5JCScIe0Q0BEOERhCyklSfLRdAjBgGem/F5bUoRMZ9DS6TnqvU8BgARShEcSox1rRZzdLsmgYJBwn7P3mcjAI+v6FJYV4bE5s9f39/8r8/71yYgrs94MSGp377We5/FXfj5fX3e6MwoQBpiz11prtyqzMiMMKgFg8Ozn2es5zjvvqzIDiAIjwHP28+zT5Oefqvu+Lw2i9HrG7PU8pyek3/9ekdeVEnLJMn4Byyaifn1KkfFWU8jwEvYBKa8KSUIWUslvyjl7H4VQaCRGkqKnxFi2ffaZMIxniayqYMY1PzXYM20U7meJvK5K3C6QmLNXm95Rd69tRZ2uxHMK4pVvJE6o3UCO8Yh+fraIiIqsQf0zTnRIeCp4vb7qnsERwggbIUIlhIn0TcRtSXhQ1nVVyF0/QkV9Vd3HIeEeRV53hewSYIVCdZ1GkuY05FVX4PoLeAaEl9eWDfwAAAAASUVORK5CYII='/>"
      ],
      "text/plain": [
       "<IPython.core.display.HTML object>"
      ]
     },
     "metadata": {},
     "output_type": "display_data"
    },
    {
     "data": {
      "text/html": [
       "<img src='data:image/png;base64,iVBORw0KGgoAAAANSUhEUgAAACAAAAAgCAAAAABWESUoAAAB80lEQVR4nC2SwbIcSQgDU0C1n3f/c///5pmqAu2hHVwlBYLUfzMz3hcwAENmRXjGYKqxbYWxXo0BhAQWFZaEx9hgUEVmJePphsoBZo7NO2tV1QrwfBtKkkR/jW0Y6bGlgGZ6KEm+Z+/xGNNu5epe0T37e6jUzN137iuY+cZq4/Dt75/jertJspBt38+9Y6e79+dQRhEZShl5rO5sFPZMd7uMUNQaAx51n1E+I+EIUaDIWWMQc3X7YJQRgxQu5IgoWZLnKG5IKDKIAApQJCkp3GEyhGyEPTNlwgohRbh9Qnb3TE+f03feBM8bSkQw9t47dfftdv19HZLk6e6xwdNp6tEURikPmu7v5/Nnk+vXk6GKrO2yHEr3+N6zP58/d9Xz8+vnSboipkDGwueevfe5rFprVQUS+e5gkHt/zv6eibVWVUYatF4BePp8v+dcx/r9rLXWCrfS1F9U79n7nHbEz78/mespDbJUelk8+/vpIZX//P6lqJAkRagwGPc5Z0C5VoZCAiRQyQC+Z1+/JkZohISHsvUm3Cbk8ZwmqjOZsaKQX1RmkPGcgVirUtM2JcJ99x3PVT7aFyLXs1Lue10K9Wun7aCBKOMSs7eLt01GZI7cAqy4ocDT8x5KVU+POySZFyi9CJQEilxD1BACW1HPWonG8z8hBKQulJqdOAAAAABJRU5ErkJggg=='/>"
      ],
      "text/plain": [
       "<IPython.core.display.HTML object>"
      ]
     },
     "metadata": {},
     "output_type": "display_data"
    },
    {
     "data": {
      "text/html": [
       "<img src='data:image/png;base64,iVBORw0KGgoAAAANSUhEUgAAACAAAAAgCAAAAABWESUoAAAB+0lEQVR4nDWTwY4kRwhEXwDVPSOt/Zv+f8na6cpMCB9qLbiBQg9FoH/AM+35MTyNsjLDM7ZrsBmbnP8XZmJicNu4BCDhMU9BKCLDGo8qgA7sM8/Y5CurKhj3fhTCstcRNozehCLzES0IrD7rPniA8eQMQj1nnwJpPPuenjFWW3G1Gc3Zn1VgJBCSkG3vn9Pjl6bX51N/Lo+IVFged//sJhQzZz0KKCKvwJZbWseq6woBlBFERH41iNmK3jaKNKEoQCbSWIguxU6JyLRDFMaSIgOF3DFO6cHGnjIPo1FE+EyGx90zPWef83jBc2YklsRor701a50ukCFqBuE55+wzATNtx9WFkRXhMb3P/fP79456f70ieEdeZUAg2X3Ouu/79ne9v7/fpanQHwZb8tmfve7VcUVVZsJF1h9G7N6fz173cb7jdVUl4lWFbAD6rHutM1Hff2Vd76umZUriSdJe90+3M+PX34p8VQiN6pkbn3XvsZSvrwvlY1VGocdwzl4bSVkJwiAJSg+D56zdikeMSFEId9nGNrhnQsxw/kX1qpIb1fMUfdYeH6/rNZ/liGu/UnS7QNL09CBWEHFwVM9UeNapJ7OKyIhMqS2riRMys1dJMKCqV7cdYE9MJw98CYQVeQ1xWcIeRV1ZCbsLBCj1ldfrOARzUNb7CnniP+KRlSZ9YNR4AAAAAElFTkSuQmCC'/>"
      ],
      "text/plain": [
       "<IPython.core.display.HTML object>"
      ]
     },
     "metadata": {},
     "output_type": "display_data"
    },
    {
     "data": {
      "text/html": [
       "<img src='data:image/png;base64,iVBORw0KGgoAAAANSUhEUgAAACAAAAAgCAAAAABWESUoAAACCklEQVR4nDWSQXIkRwwDEySrR4oN+5/+v2NnuqtI+KA17sAhkfqHnvb51/yJIjNT0wNGJUu47xEC0JVZlZrsGVAFnrM/9wBIzlJklTy+LSjAs58+HgNTqVE6hD2IsiSEZMBuf9zGNT37HlUZW5JSgjn4nnHQdL8/HVcZhTLX2HZDf86QGnq/3xNTkhWxNDZzbvVx1Gl5eu+OKIwirzK4N9EPRhEYkCgHUiyQptM8GRGZZYsgogCFIRQ+3luSpAgLG6L0B7AybUndjPFMnx7jMkTFELJnPDPscw793HsTp3Aofewz/bzfn22Cme7TM6YLGUtz+jzP+/dn1vr6WpLyOnJeBRiY8zz7ue9edX19f63oCl2uVwEwve/7Ps99qMpatRSJy/UqGzT7uT/P2a36rvVaKyWWmqgCM/18fu9uMr7/XlHXVW6Ug1SAfZ77aRORv/5Kci2ZH8EoMD73/VhSXq+SMiSjlDyUfxaeo/jB+acpkaCpHLtP94Sw6Vu5/tcnbFVq+tk927nWnPcnar3WwibG/jnLg/yU0iNlXX094UGBVGMUmVETnGgUA06521JlCanqOg3CRo6Tjdj3SNerQOkXyj3gsQXYZrqJdI1CfGVdxzCzh6i1Eo6EQj/KJVGDRD8NeVWImSZeX6XxzOnTDklUoFqrULtdX9+Fe/a9n+OIkBulI0dYilzrP77ammm0ogp7AAAAAElFTkSuQmCC'/>"
      ],
      "text/plain": [
       "<IPython.core.display.HTML object>"
      ]
     },
     "metadata": {},
     "output_type": "display_data"
    },
    {
     "data": {
      "text/html": [
       "<img src='data:image/png;base64,iVBORw0KGgoAAAANSUhEUgAAACAAAAAgCAAAAABWESUoAAACAUlEQVR4nD2TsXIsRwwDGyRnTyWXf9P/H0m3s0PCwT07Q8QCgYb+sT1t3wMGo3FlRdJjTAUemDnGGOxYkVlJeropIUsxz+FzwuvKrJXY84ZChKfPfmBAM/NCaQf2tIuQ3fd9Hs/I6u7Kq105Z/Z9CkAAMoDt87PGmvTp9+8pjFCEAiRm1O/TA+M+9/sUBikisS0Peu4zqsIz3V0GFFGvBvBR96bHBEQoCmRFxNcgeR6dswMiU1jSx2SkA0nuRBWSiFAIu4yFlEko3DotPqF6unsKAEkoItEJuaXnnPSzn+6SAAUWITxjT3Sfk5xjXGBIeayZ3vf9u1FVgKK+3GXkUNKec579+/PzrHp9f12lqMhTf0IW85xn770fvvJ1vV5L01KX+NQs934/+34mV9TKCMGK/nwB7rPf9z6PdX3Hda1ViKop2Rg4z33vc8j4/juzrivdBJTABj/7fs+Qqu+/pFwZth2qP6i6935AquuVKPRhJP5T+Nm720ipse0BSaYwYKaf0xJj5iZycmnGZBkZPD1uETF939K66shtqZA0c3bb3bGuft+OXOd6gu5xodBnUaFh2g1K2yvMvT9lOSIzcw0MWOJEh6Efl4RBtV62HJJtYeszBv/Pw0XkYwmmpbzWStQzBVhBfNW6DpLoY8W6VkhDl8AQThSFJPUGrbUSraN/AQlzljGP4trTAAAAAElFTkSuQmCC'/>"
      ],
      "text/plain": [
       "<IPython.core.display.HTML object>"
      ]
     },
     "metadata": {},
     "output_type": "display_data"
    },
    {
     "data": {
      "text/html": [
       "<img src='data:image/png;base64,iVBORw0KGgoAAAANSUhEUgAAACAAAAAgCAAAAABWESUoAAACAElEQVR4nCWRMbIjVwwDGyRH+uvy3tP3D3Y180jCgcKuQoAG9J93x/vHYAB5IytSuwumhBS7Z0EWoIrMTCSt5RLCO/dIWDJ1ZVUl6+2xKth9ns8zGCT75xcoU/buQmHsHe+ugd298m2R3t2GMpIEksBe95+XLadn76dVxkYKS+BZz2eWYJj5fFoFisi60rZXdM9YofT25+9QIEVcLLbn4NNkz8o7002BFVEBeDvEWVAosEAqFKsUQp7GkxtSVtmNQgVIIUnBxEx8OcICoIBvJhK15N2xbe9276oMye53B5BnOT3NPM/pjcKh2DG72/f9edrg3elzpjcKGYV3e875/P1zk9f7Cozy2o0CbLGnzzn3/exPvH5+va/IiHytviXtOc/dz/N0XPF6v9+XXIEcZQD3ue+7zzOqt15XZWp9URslW97z3PfpRvXPv5Gv11XIRDnKZunn83l2lVW/f0t1XblkkKjAeJ7naVDU+9cb5VUSrBJ/Lfq5z0oRdZWkEBgiwWUbzzlNyCBGaVtCEKbSM31mF+HFT0dedn2RrRzP6fV01Mv9eSLq9bpSthRsCckGZjXsQVU9nbItiVpQRkYmLBq0lpx4e6UsQFmvGW+AjYjOQPQ9qArC+Ra6FtlrBNhmp5HKKPWOvHqFd9pk1RUwEVYUQpSy9vvaY1TXJcGG9fofZiGmH5LYFUIAAAAASUVORK5CYII='/>"
      ],
      "text/plain": [
       "<IPython.core.display.HTML object>"
      ]
     },
     "metadata": {},
     "output_type": "display_data"
    },
    {
     "data": {
      "text/html": [
       "<img src='data:image/png;base64,iVBORw0KGgoAAAANSUhEUgAAACAAAAAgCAAAAABWESUoAAAB+klEQVR4nD2Tzc7tVghDl4Ektz/qa/b9J985yd7gDnJVpsYSRsv61zPj/WNsg4kz66jAntVQbc+YMq+OG8nBjMdQwoABAYAnZrD7NVRaMPRrBwiFIiYGAyVQ0M9v1arKrArPdFuUENP7HmGEIxRZFYy3Byo889w/T9sAk0orEmRPowJsG8+A6Z0cY5d61r0myygipHgT2LfbMJp+Ps/km18Kwtg7e00bWTP353EUKCJPj7Enllc78khN996TBVLEIQOzH3l5BikwQiogIikEvaS5R4rMbERY5UDKQBKd9hNIUoZH+P9PWoogJkOesLE9uweK36NICMk9e3fv2PdamyhDHNME47XW3m1N7/JePQ2FQ3LY3f18fz43UWcJyOMKZyFjMd1rPd/7u888//h1HYqMXGS9tMj93Ou576Uzz+u6Dk2JfBfA08/3u/a9XZfOqgzhUwdZLyh73fezdpPXX1HncSRCOahkg9f9/XQ7Iv7+R5Hnke4X0jKYWc/9YEWcf15SVsm2JPu9YdbzbEmq8wgi4qU3xJSF6XWvCYTEgCaEBPLbC7t7RmGb/SFrpjS2zVTCfr7bs1aV+t6KPM6j5JECV9D22PSMYjVknd0peixUWBEREWnNjkb9Fsq9NoqyIarObkkvwDu6JWYtqBeYulBsBGMrJAHYI/8HjNqg38sX2NMAAAAASUVORK5CYII='/>"
      ],
      "text/plain": [
       "<IPython.core.display.HTML object>"
      ]
     },
     "metadata": {},
     "output_type": "display_data"
    },
    {
     "data": {
      "text/html": [
       "<img src='data:image/png;base64,iVBORw0KGgoAAAANSUhEUgAAACAAAAAgCAAAAABWESUoAAAB9UlEQVR4nEWSwY5kSQgDw0B216zU/7n/f6l5mQneQ7W0VwQGB9a/MO7xvAcMWEaVmXKPKUFMMJyWZcBRmVkl5/QUCGHP0wIjuzIiq4R9d6HAvmefAyM0XpVKFPLIBQDTZ2Y8gO/N/hpP0XN3gSWEkIzwuP/OGEbT+29hGRSKkEKMZ/b0wGLmeZdlCEWWGHCjs28rQrjvKSxQRL4aw1xFb8e1iREuQCaiZIA+OldCkRlCKssolCQS7rBOKqTMkEVhIWISKeTLbYEEisFTgg9MIiJshdzStcf3nC4EJmx/5jAenTwndZ59y8iKiDHM9PPsZ09kMKNxxC9qZbS779nv93tnff/5Sqn4vFt8HN579t77xHd+v16vxVToV8HgPvs5+9ldlbVWpSagZCNg+j7Pc88e1Xd8rcqUWFHIDNBn7+ecJuqfn6j19ZUWypJlg+953mes0vr5kWqtcCMKDRj33ucaRX2/1gc0UkTo98p7nk9DrpSkTz2iPlHHvc81gSW3QqNAwmVksKd7ANuzr7JWlWasQtL47j3uVi3fv1uR62uVPKhQaOwZ4yMHc0RWT2d4+jf2ioiITNMINBZMePYtyQZVrdszgTGybrTM3F0SIMUalIPAw/8+f1cEemWtMwhPj6LWKtG3SzAiQ1GrjWDOoFwrpTv6D1O1gzxk5IPWAAAAAElFTkSuQmCC'/>"
      ],
      "text/plain": [
       "<IPython.core.display.HTML object>"
      ]
     },
     "metadata": {},
     "output_type": "display_data"
    }
   ],
   "source": [
    "for h in randovec(np.array([g for i in range(10)])):\n",
    "    display(img_show(h))"
   ]
  },
  {
   "cell_type": "code",
   "execution_count": null,
   "metadata": {
    "collapsed": true
   },
   "outputs": [],
   "source": []
  }
 ],
 "metadata": {
  "anaconda-cloud": {},
  "kernelspec": {
   "display_name": "Python [default]",
   "language": "python",
   "name": "python3"
  },
  "language_info": {
   "codemirror_mode": {
    "name": "ipython",
    "version": 3
   },
   "file_extension": ".py",
   "mimetype": "text/x-python",
   "name": "python",
   "nbconvert_exporter": "python",
   "pygments_lexer": "ipython3",
   "version": "3.5.2"
  }
 },
 "nbformat": 4,
 "nbformat_minor": 1
}
