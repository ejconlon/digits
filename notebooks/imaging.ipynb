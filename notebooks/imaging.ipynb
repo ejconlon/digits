{
 "cells": [
  {
   "cell_type": "code",
   "execution_count": 1,
   "metadata": {
    "collapsed": false
   },
   "outputs": [
    {
     "name": "stdout",
     "output_type": "stream",
     "text": [
      "ready\n"
     ]
    }
   ],
   "source": [
    "import sys\n",
    "for p in ['..']:\n",
    "  if p not in sys.path:\n",
    "    sys.path.insert(0, p)\n",
    "\n",
    "from collections import namedtuple\n",
    "import os\n",
    "import pickle\n",
    "import random\n",
    "import warnings\n",
    "\n",
    "import matplotlib.pyplot as plt\n",
    "import numpy as np\n",
    "import pandas as pd\n",
    "from IPython.core.display import HTML, display\n",
    "import skimage.color\n",
    "import skimage.transform\n",
    "\n",
    "from digits.data import Env, Loader, invert\n",
    "from digits.explore import img_tag, img_show\n",
    "from digits.images import *\n",
    "\n",
    "%matplotlib inline\n",
    "\n",
    "env = Env('..')\n",
    "env.assert_ready()\n",
    "loader = Loader.from_env(env)\n",
    "loader.assert_ready()\n",
    "print(\"ready\")"
   ]
  },
  {
   "cell_type": "code",
   "execution_count": 2,
   "metadata": {
    "collapsed": false
   },
   "outputs": [
    {
     "name": "stdout",
     "output_type": "stream",
     "text": [
      "loading crop-test-small noop 42\n",
      "deriving data\n",
      "preprocessing with noop\n"
     ]
    }
   ],
   "source": [
    "#os.system('rm ../pickled/crop-test-small.42.noop.proc.pickle')\n",
    "proc = loader.load_data('crop-test-small', 'noop', 42)"
   ]
  },
  {
   "cell_type": "code",
   "execution_count": 3,
   "metadata": {
    "collapsed": false
   },
   "outputs": [
    {
     "data": {
      "text/plain": [
       "(400, 32, 32, 3)"
      ]
     },
     "execution_count": 3,
     "metadata": {},
     "output_type": "execute_result"
    }
   ],
   "source": [
    "proc.X.shape"
   ]
  },
  {
   "cell_type": "code",
   "execution_count": 4,
   "metadata": {
    "collapsed": false
   },
   "outputs": [
    {
     "data": {
      "text/html": [
       "<img src='data:image/png;base64,iVBORw0KGgoAAAANSUhEUgAAACAAAAAgCAIAAAD8GO2jAAAFiUlEQVR4nFVWwZIruQ0DQKntmezLH+4hp/x/VfaNWyKJHOSZTbrc1QeXBIkAAfJf//7TBtx0d5UbMNzea7sNAIBtgwZsAwBR3tm3hmKMMYYkhgB0tcu2TQK0PSJEAC13ETZgo9GV5Tb43rQN/w1mqGMEpQhFKMZQBACHXW53l7sBeohBmIJN0KYNNLz3rizw3OH/ANodk89rasQYGiPmnIpx/kbD9n3vdAIcgAADDQJUu93u8n3fmUnyfWrTAIjuaveF8fCw2w4yqAiJJAzQLu7ergYwaEcEGZ1ZVZm57nXf99q79m67u7uboEET3ZW1r5yaYGhes6q6u+ccChcqu7ruve57ZdZ4lwB8/w4JNgADbrt9eDif7i577/z66xVTrmZDIBqthtnZVXW/1tfXV2YOfGuDIEGKkkISSVEWAZskDZTbTQHd/Xq9ItXVaBCCaRlml6tqvdbr6/4bgABAggG23s+IAdl9VMezmoCrd63X19Jgl+kIjsHBoW+Azl25MjMH/F0cWpIUYo8Yz+tRVfgf7dvOqsUFITsz73AUu0af7hFECiyTIkUGOX7KDwPkG0Pj+Xx295sf0kC7994klaqqtW4xCAkSI3TNuAgIpDGgAUH6IfmUCJIiBIf4eFeNhwBnVUQAkLT3HppkCEFIjKkxNUjShCCIJs3hoxBSJCWySSoiIkgeAEkHQFJVujsUZBAieY5MiwyCcrONbnSj/PcNTNDnNNKp27tilGTCpHJLImWzqkUme1d3O12ZSSD33iv3zszMymESx5gOGwBA89gSgFPgAGD2fjMnAN1udu1U5L1qrhQHgb33uu/MqnKlh8EGYRAmoBAItVANgKKN06trrXXv0+d7725QjAhKJtsom3CjQcac87ooDQMNAJZNidKMAcOZsNvOzKrce6+1vr5ef/3+/fv379drHad+PB6fn5+PxzUiKImY1zVicETMWXu/OTDQBG2YBkk0Wd2dWZl7773utdZaa6+11yLx8fmp0OPxuJ6Px8fz+Xxcc5Lsns6CCKAixvHLwynemeK39t1Zudf9et17r73Wfd/3urOKGmMMxDtwIuI0/9mth6cvkn3lt4r84/xvU3O7qtba92vdr3vvc42NMhFjXh/Pp8XHdV1zjpNrodM0ADQ5gt1j8G0G5BHS2zk6s9autfZ9r71y78psN4NjDj8/Pn79+sXQjHHN63pc1zXHoIHOYwkF08a7RHyniul3luauvHN9rftrdVe3AcYYAV3i5z/++OOfv47hjog555xDAbt5rL1x2vCbZOMAwiRod2YeUvfOs0RnQYxxzY/nx2PMBkTGT5oZNoEGLDEUJMd3KP4Q8I7Io8u9du4mGSQJQaGYY44YBAm/NYKfRHHT5He6HIBjtu/XBujGztqr1u6slkSd7D7ZQds707CkiCAbwBiDJCnS3W13IIb7yNR9wvLbuV2d1dXVXRRNNtxuuRtYudZ/bgMkxxjXdc0xxwwSsKvKQJCmh3FAAbK6elee4mS3XfaqxM4IXjPmvKrr9Xq9djeSohRzXnvv6xqx4zTCmQLOZUeDIuPtkShUu6uq3IZBtJ17RYu8pHbnrmxUIxmMMc527TFqiDp13HvtvW0Pg4AMvb1UhIISAwpGcAxVE2TDWclj3SizUTJaKlYyASI4ABK99r7Xje4B0US9+1cGIcacMee4alZlldEnkpot0O1GN1tClTMpKS11g00Q7MaZp2qAPIMqjohFBmVe16SbNIV9BQx9uwDc5Sq3aZIa0pAiNEISzxZ7MULk+M78M22ZkhCEnx+PMTRmXI+ZuWD+ABDOylVpNMmIGHPOxxxz/vhRHlV2vxutz3REAmSIGkOMA5CX6/k9AIAM0ln52vv0J8UxZ1xzzDEUAklmleGu/i/EyrRCBj94qgAAAABJRU5ErkJggg=='/>"
      ],
      "text/plain": [
       "<IPython.core.display.HTML object>"
      ]
     },
     "metadata": {},
     "output_type": "display_data"
    }
   ],
   "source": [
    "img_show(proc.X[0])"
   ]
  },
  {
   "cell_type": "code",
   "execution_count": 5,
   "metadata": {
    "collapsed": false
   },
   "outputs": [],
   "source": [
    "g = skimage.color.rgb2gray(proc.X[2])"
   ]
  },
  {
   "cell_type": "code",
   "execution_count": 6,
   "metadata": {
    "collapsed": false,
    "scrolled": true
   },
   "outputs": [
    {
     "data": {
      "text/html": [
       "<img src='data:image/png;base64,iVBORw0KGgoAAAANSUhEUgAAACAAAAAgCAAAAABWESUoAAACOUlEQVR4nC2TS5IjQQxCQVJWVbv75nPbHtuVH6WYhYcVC+ItCOCf1fsMz/5+vVMAza/H9+MrJNCAoJmZcmVuAYB2WZvHNgAAEbRolXOMkSUYdmbS3GGk0RgSzdeevSfMAlm7k34wgoAhCjRnrTnlFqcn53rZcbkJMDIEmplyLos4H23byjnGPEoEwBAZMqoE83Ydpf7KlbsAmBHx4RA092itaTUrqQQzJxkAaXFetew8mvs2N5UE0j2IKIJqj31MNA/uTMENAD0iwNgE1H7s7BvQ0urJcCfN3B2MbRTOK44YM2vWHANHc6OZuwEBgPSmmmPNmbnWVjQjaUZQ8bEWzsrRx8oC3I0fgdFg9HBZZc7RV4kOWhhqO4AIgEZQgrmZUVIVBEkCGQRI1dqIi3GsnXOrMrMEmikMBHaOnnbGeeXurzvXWplVACwclHK97o52sHa+ucbKOXNXSQiSVet+vnuLOBzZ8qnKnbml/wHs/vp9zqud7bLCO1CqKkmAQtBe/fn7d+b1YGvZ3AAJAEggJOwc9/s98LOqau8tIwmCBBEF7b3mmrPNOUeu970AQcKnh/rw3FG5BjB+X2luJAFIDED0dj0ymf1513y+K9xobiipgiDivHJ15HDkvAeat4gId/5fIzNr3ol111pjtcvbeUY0dzLKjGzHo2pUrtx74/hux/fjcRBliOUwMY4v3XcfWWA7v87z++t0QlIMc6IAejRxF2CHG1XbKDNEsojPkz2wC6AJqFIVAPwDRcmksjQ5JNwAAAAASUVORK5CYII='/>"
      ],
      "text/plain": [
       "<IPython.core.display.HTML object>"
      ]
     },
     "metadata": {},
     "output_type": "display_data"
    }
   ],
   "source": [
    "img_show(g)"
   ]
  },
  {
   "cell_type": "code",
   "execution_count": 7,
   "metadata": {
    "collapsed": false
   },
   "outputs": [
    {
     "data": {
      "text/html": [
       "<img src='data:image/png;base64,iVBORw0KGgoAAAANSUhEUgAAACAAAAAgCAAAAABWESUoAAACL0lEQVR4nC2SwZZruQpDJcA+uak/7799r5ObYxtQD1ITJpLW2iD4T37WDs/19/03JRA2/zyfz8sEmDEIghAkSQJAd48II0RIQTMv5cksAYBQrZYgAAQCdPez972yBUJ14OOkGwAQIdFMue6VMLoqd9NjmBsJMgSaoffeMPPB1N7wMR1wkvZrqLPTPObDEvv+xHWGG0BjgI6iukSP60+k7jv3yWoAAENGlgE08zHn8DNZVS2AZmQAIMe8umOOES53NtCgmZkhGoTNH820GGGQAAIA6R5EFAA+6PMIhsp9Gm4kLWI4GGpgjuFx79LJ2vdhhJuZuzsRAOlhXQeZ1XX24Rz+dRgRZqQ7ncq9TmZ2McL51akI0sJpqtxr7WzA3c1oJAiGg0YSaqkySzLRIwxqBxAEDZ3VFrOEqv79C30XDgfQvVdyIuY+Zx11VzVAGhgOKfPzWR1+PU7e7/fKk/k9NhFk97lfn+XXDHX+xb4zz/nWAQShWu9/3/uKaw5mnBe6v7gSGELtz+t/r/x5POPhrVdI+iUVEK3cn/frlfwp+ijjb1nfqeiu3GutnCerMzMLJEkjSSBa3d1SV5798f16bxEkAZJEQDQf12rkvhP7/+9jTn7jIILmMR97NXO92Pv9UXi4uUGCEAbMxzl3Wi8pz2djeEREuEFAwFjzcXa3dnaeXePyMa8RYUYimqCPP8V1TmV38/qJ+Xw+hhtJxO1smV8FrawG5+M5r+fjGkYJ+A/Vyp/TChpDJwAAAABJRU5ErkJggg=='/>"
      ],
      "text/plain": [
       "<IPython.core.display.HTML object>"
      ]
     },
     "metadata": {},
     "output_type": "display_data"
    },
    {
     "data": {
      "text/html": [
       "<img src='data:image/png;base64,iVBORw0KGgoAAAANSUhEUgAAACAAAAAgCAAAAABWESUoAAACLElEQVR4nD3RW3IrRwwDUIBkz8jy0rPbXMvqB0nkQ0n+USjUAf/SmTODZ75eswSQ8fX8fj5cgBkCNDM2MqsFEK2EubtIkgyDxeg6c65sGKFTDbrLnaCFQHPP3HMn6cHUWW0xjAaQIYjmVO4F9/GI5Jk17h0uAAwBNDflSYu4n6N51lo7G6ARIYAhNwkwH9fd9baqKolm9tkAbjNz94gRGsO7ugWzcAYgGuL+qmPXPQyCGSHJLMIZEtWKZ48tD+/MXQwjSXNzRosi/OnXylZv7bl5DSdo5sYo0ahrXOP9Xjs799odYSBoBEICQAvvY7XXPju73UmQABAkQDNDuOqsubJBN3NDlxsiAJq5w9Fd9blMDalbIiPwEQNAv1pWyu7KzGqRFgb8e3LbxbhP5Zonz95ZLSEMAKHMudv97qrz0jl7r08iHADQPV+/268w9vbzuzPzfAImEN37989v3hH3wNZvrK7qloQgQKDm6++f+r40HubvYZQkCUAAgOrM15+f1Ne3SAL8IAFkNARU7jXfx+fOw7V3Q1JLEqIBqTuzK89eU3r/zP7ISNKnQTAfV/aZr1nzz9QIMzODFAIAi+vr1OGehlyvTY9wd3ezIAD4eOzK1b3YZ80zHn7f9wg3BgEQrFSdw3xlZmp8j8f39yOIDrZoZFzVmuecLCmur/vxfAxDK7JAGeDjepJqGGiXUeoyymKVaAYJNI9mNUAT0N3dQJwC3P5zMxOE/xlJ/gNUY7tVt85BLwAAAABJRU5ErkJggg=='/>"
      ],
      "text/plain": [
       "<IPython.core.display.HTML object>"
      ]
     },
     "metadata": {},
     "output_type": "display_data"
    },
    {
     "data": {
      "text/html": [
       "<img src='data:image/png;base64,iVBORw0KGgoAAAANSUhEUgAAACAAAAAgCAAAAABWESUoAAACL0lEQVR4nDWSQa5jOQwDSUn2S9JHn9tO/yTPliXOontqXUCBAPnP+d47/Nyf9+cIoPnj9fr1DAk0IgCSkCQBAFRtESNIgSCCNDdlZlYDhE4VaA6nkWTQozvP+q4UzFm9S7DBEQBoIdE8O/c6cJve6+wPYoa3gWRIMDNVZrvNx8Sos9baGQ6QiAYtnH1K7uN60M/9zTwt0kiGaEQYAZrHnIYZqKoWzNwYAM1OeAyMER70CKol0DyMARH069VDY0yXGrSGRHN3YzRA2EOximZ9aqWcf5N/BJn4HOPeVcqd6+5QGGnmRkTBhJjTnffOc3Jn0p0kSBAhgrSgjnXee+9TohsBQADCSJqbuaHOvu9s0UFzqFpgDPwVKEESCKhbLUkgIwAYAQE+m366sqsyT0mkBQEQ3Xkw4Neu2p9VmTtPtYAwEFDVfSfmVFd9eZaNvZ6nJYWDkHK/37ddYxD17o+qzslSS0GQXfn9/bOGX/Oytnugq7olAUGQ6PX+/e++5tPG6D3CAP1dFBBUuT7vn/v5eDUpCQYQkERGQ6iz171u3Dt3n3sd6n8QDai7St0n1zLbP59DEgCltmgAovmYiVyfVP68j5ubmRFAAID5fLzO6Vofr/29232Ex5/DEIDF9azaW/nl2WtzjnE9RoQRQYBgn678or996vR4POfr12sapJBIY4yrNdfJrIaN63U9n9OpUhzBHbCYTwAtE3mFUd1laItbcINE0KLhBdApqVtN038O0rS979a7qgAAAABJRU5ErkJggg=='/>"
      ],
      "text/plain": [
       "<IPython.core.display.HTML object>"
      ]
     },
     "metadata": {},
     "output_type": "display_data"
    },
    {
     "data": {
      "text/html": [
       "<img src='data:image/png;base64,iVBORw0KGgoAAAANSUhEUgAAACAAAAAgCAAAAABWESUoAAACL0lEQVR4nDWRwXbkOAwDAZKynd5f36+dJG1LIok59Btc6lB1A//v/cw07ef9niUQHtfrv9flEowImkd25Vq7GoBQyKqWAAAISfTs9TwzBVJVQIxjgCCIaIDGzjmXaGaNXTAfATOSDIE0U65ZFj6GZuW0cR4WBtBChMtQmXI7rhORa865d7hIMgADFyXQYlwXbb3vndkCQTIgIzw8BiLGGKxhjZYAmhHRbMqPV4diHMNhRgkCzNwM0QTlL/nTZoOqbMFI0NzDEEUAx2E+dkFZey6Zu5l7RJAhAogggM5G7zU7RnwKJ8NIuHuEaa9VtbM6hpuZuTsQA2S4uan2M1emhH8BQUWIdDOqsvZ6tkSnuxsJEowPu1r0MDM1BJgb1QIQBhCltRUXfOzcqW597iYYDkh7P0/aGee19/1eXVnVAmkKA7r2/ftUjBOVT/TOzJ0tgWAQ6n3/fD94jWOwHj4/XZVZLYkIsWu+//x53C47h8Y6CHV3NyAhpN7z9+f7HkcyDlQYAQmAACFamWve951zl6SqEj8zAoiGurIqLXcu1P2eDXw8SYQAmo/h6FrvJ39/Zn8UAJJBWIzjmpO93gv5/t7GMDMjBCBIjvMr1129HtZ+7nKPiAgCggI0jHO/7m15K/daftg4xhjDjUQUQYur6s76rerq8+Xj63WN+AQzDW0+Xrzn3k3E+Rrn19fX4ZSIWG4QRHo0ogW7xnFeZxggFQNqQBDgAW/BnAZJRZkRfwGT3pwldIC26QAAAABJRU5ErkJggg=='/>"
      ],
      "text/plain": [
       "<IPython.core.display.HTML object>"
      ]
     },
     "metadata": {},
     "output_type": "display_data"
    },
    {
     "data": {
      "text/html": [
       "<img src='data:image/png;base64,iVBORw0KGgoAAAANSUhEUgAAACAAAAAgCAAAAABWESUoAAACL0lEQVR4nEVTy5IjSQiTgMyq8uyP7+fOdLtd+QDtwZ5YrigESIL/jnvAcr6eP0sCzY/H49cVEGgkzNwda865SwIggWZGAIRKIZjtNe6xUiBK6XtnGt71BiDHPRJGk/aWR2skCQIIkKacY8Ldm2bW8OiTbiRJBcyNtVe6xXHwzrle/VpOI2hgwJisLND7edH3a6y1sgTQSAVJc/eoiHYcRPdCVgEgQSrKwHb+svTee3AbiwBgZm4EowQ7Ey3pYaiCygmS7mYAooDezNtMsNYeq+hmtIjmFBQgopmEsbW1xyhv4eYe4aAURrorTGuuyr2Xjh7u7u5GQOG0cFntdY+1s6TWwt0+KzCMYYRyr3GPLdA83MzNSAAIksi9C+4EIJEeYYDeboUDu8ZSO2Gx9kpJJP/2EV5a83WnHdHPNV53VmUJhBkgBZHj9RzVuz3Wetlee++dEkkCFaj58/U93PrpWD1/nsj9Nus9Itfr+/efebQrTk++Qqqsqk+gFLnun6+vuR9lve3hKAIQIAlQRea873vY2pIqd/Edpc8liqpKqSpzjj2fr2Wk2V+ZgKB5P/pmrbs4fj/3/wwGCeHRj+teluPban7/lLt//gKEFN7OOY/JHNKer8kWES2MkAApvLxf/1RirNprqEX03no4CUgVu6ydG/ecmVXZru7n4/wgSItbBUbP3LkFPx5nu67rcAMJ0WJDEuhNFgLPox/XdTT7CIUgJAmwgAEIM0KVhIuA9B8vxZF9TISm1gAAAABJRU5ErkJggg=='/>"
      ],
      "text/plain": [
       "<IPython.core.display.HTML object>"
      ]
     },
     "metadata": {},
     "output_type": "display_data"
    },
    {
     "data": {
      "text/html": [
       "<img src='data:image/png;base64,iVBORw0KGgoAAAANSUhEUgAAACAAAAAgCAAAAABWESUoAAACL0lEQVR4nDWSwZIbOQxDAZJqeTyfvj+bSmJ3tygSOXgWV7AKxQfwP+R1rfC8Xq+zBMLH4/v7OU0iCQNImqqqWwAEtSQJH4XBIrpy3asEAl1lMUaAEIkQQLfM67w3YFTvFj18GJ1kCKAZat2rzT2wKi/GEQwHaNEAzdm50iyOydGZOB7z4zMEWhRV1Wbj8WWj7nut3C2QYAAwa4dg5nFMtzvU1Q2QRgYAwmLM6jiOEd7hkFqiuRmjYQKPZ0VZHEH1DwCa+SCiIQETNpdo2lopo5HmEW6MgkE+R4wrt3LVfZXT3WgebggRoA2gKndW7ZXbPYxmbkaEkaQbw1HrvnPvloWbmZmRiAHSwmmozOta1aC7uxEQgPiAIKEGoJYAgUaoBSAIgB+QY4petUvVLUmgIVwEeu8rNTjm2nleVTt3CbTPgdR5v89t81G1L6vcO3PXTwSpqvv199LjcRj2W9erdmZVS2KAgPL88/syznh4xxro7ioJEkJA5/X6/esa48lx9B5OfUwBCgm11/l+n+Mrfz4FSZAkgWigaq+1bq3MpTqv/L9PgowG9CGjyvW2/PN3wUgSEsggRBvzmYler1S+Xts/VQASgiDimF/r2nWPu/I8NXx4hBsABEDnfFaeN/epnXf69DGPMYYbGUU3+nhUnbveu6r68R3H8/sx3ADEMhnh41F+XvcuIubXnM/nDEJS3LYNEuARB6IFmyMijOpSM1qyzzTggWrIDEB3d6EN/wChj58B+ggSCwAAAABJRU5ErkJggg=='/>"
      ],
      "text/plain": [
       "<IPython.core.display.HTML object>"
      ]
     },
     "metadata": {},
     "output_type": "display_data"
    },
    {
     "data": {
      "text/html": [
       "<img src='data:image/png;base64,iVBORw0KGgoAAAANSUhEUgAAACAAAAAgCAAAAABWESUoAAACMUlEQVR4nDWQQY4jSQwDSUlZ5XbPz/e1O9O2KzMlcQ81GzcCBEEE/8nrWo59vd5XCwD96/n9/XAAZkCYeVTnmrskAlUQPVw0I8kQ3b1yXjNhZkDuhoUrCNAYEsxZa06ZxcGNXPJjuBnuBdCdypX0OL88ud9zzscRAECGYAhDVZvF8RjV13uv7AZoBoRohjCC7jGOI8/B7i7AzIwIgPQYxyP9GCPM3E2SRPNwICQC45mxOSLQVaARoHmEkVEENX7xmE0qtWZZGEmauxFRBug84/isVbVqXYtjuNHM75MSGYOqXWtlrl0YQZJGEggjaWYRVF5z7t3AMCP+EgGju8OUuea1GjSYm6FbdwH3mGBuNEqqltQSSIQBIDobcSLG7lzZuXe2QPu/0L1m2RnnV9b1eufee2e1RIQDUNb7fXUc7M4P19x7rayWxCAh5fX6uex5nM76yZ+frsxsCUKQ7F6fP7+v4Wc8ovUKdHerBUABoXO+fv97PY4n4qgwIwEIBIAQVLk+7/envlZ1ZVXb7UggGQ1V5d57ca01c78+CQoCABmjIUlwN+W6gPXnlea3OkkIAfBxPnei5mv2er1reJi73x8IuM6v3DNrBnN/JoaPERFhJIMgeD4r52X1Ue6V4zHG8+sMNwLRpNkYj+531ierm+N5nt/PxzBIiqQD8KN+2WdmNcyO83Geh1MNIS6aUQLNR8Mb4EFC3UWZIRLmgADQQmyBhNC6QQAEeGuRunUHgjf/AWwSmdtrySQRAAAAAElFTkSuQmCC'/>"
      ],
      "text/plain": [
       "<IPython.core.display.HTML object>"
      ]
     },
     "metadata": {},
     "output_type": "display_data"
    },
    {
     "data": {
      "text/html": [
       "<img src='data:image/png;base64,iVBORw0KGgoAAAANSUhEUgAAACAAAAAgCAAAAABWESUoAAACMUlEQVR4nDXSQYLjRgxDUQBkSXbP3Dv3nbRtqapIZNGZPVYPn//c163o+/16LxugxvPr19dJgCKRksK11y4DhGttKIIhEhRSOXqted2rDdG9V4OhEQGQTFCxve57tZhp1bwQIyWDJNNQyLXmZuRx8nbd1zjPEQGATFMR7L0rlY+nhuc1164GKAEJKlK0QeU4MtbBvXcZlCgkEOqUxMgxMj2S3bYhRYJpkTEeTzqPEYIhETYUmUGmW9CjeBUzWLW2JQKgIoLIkoEzxjXL2FXz2hopklIIyLasx2OMz33vqn3PxZ8BRRBpgopwTe9rrjWrHEEAJAgkQUqRwV7zutY2RCqILgnIhBQRDlfvvbeb3YbhboPMBCSCgHJU013uqv+pyBRAulchHzzm7nXN3nOtXW0LKQCofd+bI3tX39GfteZcu2wzBcJ7v1+XRwTcH87P3mut3W0jRdj7en1f5DiHfNS3uqrq55Ek2T0///65UqfOYZ9DZdsGACSM3vfr+881xtMKhygCBn6SM1x73Z/PZzx+7x01VwGw7bbJbLh7r7Wm532P2q/3tADAsM1soA0ow3te5H69FiNECradBqg8v3btut/b6/NeUkZEhAgmAeXxWHtdXp9V674qRx5HZqaEJMB8VNdq1j33WgvHczx+fx1BmGlI8vFo56pZu9p5fp3PX88jAHduGmSMh/W5ZjWCY4wRgrss5oQCNqkYDZXBDMLdXYSVk4wfNzISakAw8Jf6Pxdss8LokYDOAAAAAElFTkSuQmCC'/>"
      ],
      "text/plain": [
       "<IPython.core.display.HTML object>"
      ]
     },
     "metadata": {},
     "output_type": "display_data"
    },
    {
     "data": {
      "text/html": [
       "<img src='data:image/png;base64,iVBORw0KGgoAAAANSUhEUgAAACAAAAAgCAAAAABWESUoAAACLUlEQVR4nDWTy3YERwhDJUF199j58nyuY890VfHIYmwWHBZ3IZDgv/s1w7nvn+crGyB1fXx8PgYaFCG8i+DfZGZuRgBEt0iJFTuiGgC6MiurfnE4zbP2nnNFN4HKDfdjCCBAejeljnnPgKSO2C25UyIo+ltK7Lkg+cCutWjHISf4BmRC7RWmcVxaveY9rmtYAyQdlBk7qyG/HjbynnvveK8MOiilAMp8jMN1DmRWAZREeJPQOM4uP8ZwKxO6u5uSKHgBrfOfPlJjOPvvAKTMDfBCNy/o3E129FxFk0iZuwhPAGMMH/fK2ivXnRouycxMhBOEDavciJ0Ze2/ZMElmEuAkZaILse69I6o4TCQlEu1OmlmrM9acKwo0mcS3u3QHJAJdQFdWtxo0I7rfboJER7b8LCgqqru70d0g6CJYe8/Ng36u2PesjIhsUGK7sTvzft5ldkXEtHpF7B1ZDUAuVsf8ft68jsGOJ+bzD2ignUSu53/fc9g5DpXvL1ZVZnV3A96ouL+/vtY1Hjq987C3Wd1AA17IPV/fPzM/ArR8pxkkCPIN5Jpr3lo7grFWgCR/G7xQVQV0RqzX2t8/6/dFGqDgaMrHNTdzvQL7+2e/o0Ki0XQSflx7TcV8KvfzWW4uc2N3o53kce1cr+qljn1PDjvG8OEmEg4B43jsvRHPzNh5Ptwf1+G/QJLQOD/7tfaM6tL5OY7Px8chdoN+m7ooP6or1ZSd53k+HsOI7sb/fMeVCQicOhAAAAAASUVORK5CYII='/>"
      ],
      "text/plain": [
       "<IPython.core.display.HTML object>"
      ]
     },
     "metadata": {},
     "output_type": "display_data"
    },
    {
     "data": {
      "text/html": [
       "<img src='data:image/png;base64,iVBORw0KGgoAAAANSUhEUgAAACAAAAAgCAAAAABWESUoAAACLElEQVR4nD2SS7LjRhADAVSxKen55r7tWCOxu+vjBT3eIrAAMpJ/17xmW8/v78/qBqjj9fp5nWxQhJMyy4y9owCicyflLpEE6ZRnVqzr2tUQuyKa5nIzUPRCy1Qx52rJrZWzYIdRDZLeICXmXiHz88SsWByP080A0BuQGSuipOPx5JHzWjuyAZHwJuUpAqAdY5jmgcyshiTS0TSVm3kfh7tbuaGqCqRcdACgxiusfAxjF6UCALm76EkCPP/iGZQha+2WkaBkJnpBDZ5+fGdm753zSpOLlJkET0JtgyZee2futbZoJEmRcAKQzDpU+1prRxb8LgCACxRNMnXGuq7IplEmdpUBfgCUmSW7uqoK6KoGurubcAMgorthxwOMykBlxI2KLgBE1Q4c8LEj53fF3jui+t4ANiK/18Y4npnxQay91oqoaroB6Ir5/kw9DmPHyO8VsXdUdZcTYPX+vt9r+HkOBb/eVVVV3YADRMf1+9ev/RxPOz3mYUR3NwDAG0DG/LzfM18BEmgQAADeRnVnrGte0+bau9Y18z8KDdBvMFXdGWtNYr6/IZG44XjdQvg4N2L+nrX++ZSbUSLqftHy8fiJjbiMsT4XDnM3dzPSCZDHY+e+shY71hV22jGGu+tWTuB4ZMZEZEbuerzG+Pl5HkLJE6Rkx6P6u9aKbPh4no+f1zCg4LtpQsuOs7sbAjXMiKpkSz7vQgOSN6wAGoC63YAngP4fnBoN/gkA4F9FLJ3rvpmOQwAAAABJRU5ErkJggg=='/>"
      ],
      "text/plain": [
       "<IPython.core.display.HTML object>"
      ]
     },
     "metadata": {},
     "output_type": "display_data"
    }
   ],
   "source": [
    "img_show(img_map(lambda x: img_rando(x), np.tile(g, (10, 1, 1))))"
   ]
  },
  {
   "cell_type": "code",
   "execution_count": 8,
   "metadata": {
    "collapsed": false
   },
   "outputs": [
    {
     "data": {
      "text/html": [
       "<img src='data:image/png;base64,iVBORw0KGgoAAAANSUhEUgAAABgAAAAgCAAAAAAtNefkAAACWUlEQVR4nDXQT2jbBQDF8U9+/Zk0a2ObtU1LqgsrFoVtONTWwTYq9uQYMiri/MNELx70oBfFefLkYehNvDkYQkVR3GGgyPxTHZqx1Ramhw7XVtY/dkvSP0maxsSfh8x3e7z34PGNcSjdllwaeDkzmY4+PNP7ycU1EBo/VV/IXvjxZiyPF08PcCd46MRS2BMVCi3/7bMDtyIdjZ1APpGslsZ67xT7hzJdbKd6Q1Pv3fNP+4ODt0mXGOuwzb/lWsC756PO2Vm8MEg5phM1AQpDR+LQt8QfexPrQVu8TYjuJ43CI7hYFO7Y1WyEeIDDYUMui+LKyg5bOEk8iiYQfbaP5xefau+9T3JPOPmpOnOcdO/+XHP88lpHvGy7Grbu33/NmEPHNyfmz+50lUraqwFEdrNBqpisFbJq1FqLje44Hz395wdTX4ykumN/MbgWQkKcxYnwqpmZM3t2f9OQTATvo2wAs1fh4MhRdFbATHTO/5qKom6OCmBeDXZBlhw1QRarxuG1UzhWXK1L3Mz4OODtKIIb0TP4cm44fqAnF7z0BkVy2OsdLMe6ehr1xcBzrFIFB/D7VmY4sSW0SdmlW2Adix29d8UIfE9JlEDVFfT1pJvNpMB31B15BUxjaOf2/HZK4Gf2cwxfeQup+sL1SjUbwAhrePU4VPK/1svVSvgEFgqXNtMl6xeQr+UzKxti4LHTb85dbqH6Kdp8/WC/ZItVf+3R4ZHDoOHzK8uVRKMzxN0nfmtjIvXw2eXR8i/XbhSjSCX8evLvc3190z+MDjcfHzy/L3F9eqMB/wFWvOAwX1Np1wAAAABJRU5ErkJggg=='/>"
      ],
      "text/plain": [
       "<IPython.core.display.HTML object>"
      ]
     },
     "metadata": {},
     "output_type": "display_data"
    },
    {
     "data": {
      "text/html": [
       "<img src='data:image/png;base64,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'/>"
      ],
      "text/plain": [
       "<IPython.core.display.HTML object>"
      ]
     },
     "metadata": {},
     "output_type": "display_data"
    },
    {
     "name": "stdout",
     "output_type": "stream",
     "text": [
      "6 (32, 24, 1)\n"
     ]
    },
    {
     "data": {
      "text/html": [
       "<img src='data:image/png;base64,iVBORw0KGgoAAAANSUhEUgAAABgAAAAgCAAAAAAtNefkAAACWUlEQVR4nDXQT2jbBQDF8U9+/Zk0a2ObtU1LqgsrFoVtONTWwTYq9uQYMiri/MNELx70oBfFefLkYehNvDkYQkVR3GGgyPxTHZqx1Ramhw7XVtY/dkvSP0maxsSfh8x3e7z34PGNcSjdllwaeDkzmY4+PNP7ycU1EBo/VV/IXvjxZiyPF08PcCd46MRS2BMVCi3/7bMDtyIdjZ1APpGslsZ67xT7hzJdbKd6Q1Pv3fNP+4ODt0mXGOuwzb/lWsC756PO2Vm8MEg5phM1AQpDR+LQt8QfexPrQVu8TYjuJ43CI7hYFO7Y1WyEeIDDYUMui+LKyg5bOEk8iiYQfbaP5xefau+9T3JPOPmpOnOcdO/+XHP88lpHvGy7Grbu33/NmEPHNyfmz+50lUraqwFEdrNBqpisFbJq1FqLje44Hz395wdTX4ykumN/MbgWQkKcxYnwqpmZM3t2f9OQTATvo2wAs1fh4MhRdFbATHTO/5qKom6OCmBeDXZBlhw1QRarxuG1UzhWXK1L3Mz4OODtKIIb0TP4cm44fqAnF7z0BkVy2OsdLMe6ehr1xcBzrFIFB/D7VmY4sSW0SdmlW2Adix29d8UIfE9JlEDVFfT1pJvNpMB31B15BUxjaOf2/HZK4Gf2cwxfeQup+sL1SjUbwAhrePU4VPK/1svVSvgEFgqXNtMl6xeQr+UzKxti4LHTb85dbqH6Kdp8/WC/ZItVf+3R4ZHDoOHzK8uVRKMzxN0nfmtjIvXw2eXR8i/XbhSjSCX8evLvc3190z+MDjcfHzy/L3F9eqMB/wFWvOAwX1Np1wAAAABJRU5ErkJggg=='/>"
      ],
      "text/plain": [
       "<IPython.core.display.HTML object>"
      ]
     },
     "metadata": {},
     "output_type": "display_data"
    },
    {
     "data": {
      "text/html": [
       "<img src='data:image/png;base64,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'/>"
      ],
      "text/plain": [
       "<IPython.core.display.HTML object>"
      ]
     },
     "metadata": {},
     "output_type": "display_data"
    },
    {
     "name": "stdout",
     "output_type": "stream",
     "text": [
      "6 (32, 24, 1)\n"
     ]
    },
    {
     "data": {
      "text/html": [
       "<img src='data:image/png;base64,iVBORw0KGgoAAAANSUhEUgAAABgAAAAgCAAAAAAtNefkAAAB00lEQVR4nG3SyW/McRgG8M98O5WppqqLLVKtaFUIUlvSSMpFIg7q4ILEzZVI3CX8Ay4kwsXF0RaugputiSiiizZKO22nxlJdp74Ovxmp8Byf5837vMuT8i/WHh58uzz9H2Hh64vpgrj+L7IRyhEcLF/E11TDPNLez4PQ1r754VDNWKkkFVPg9M7VHZnRGwN3siUlgs5s/JKLsfvu8cQpVRIexJi79/XVcBw/Aif2VoWbYDUTAycvT6o/AI0tmaTfpu+x9+JKjY9jzMH1o60BNryrUn91zIrbferK2d33+VcaqjGGF2Ffs3meL5RPBdiObAH9S1mHns/ZAHX4GZFfzkZM5taESyjD+Chqa9kMM03hDBYwCY2rqAIfA0whAy0hqWI6wMdv1MBsgQYwG6ZQuSQ5tR9ltIL6MI3+imLrJ9NFM/lQQBeGYS7QAy35sAr7kYe2Or5Br9BdHLWXZOtc8VFb4UacPQQdMcYdCR9ew1Mze6A273lXIiS5qrDsXLg1tu1sjW6LcSHGGIdjjDGeh6WlSDXfjyXshi0Z4RT0jWIuN1G62Zt56fZrcOVDa8yUPRsaGvwEDYWR1LGRRyWnVBIlK5uask/SlS//jFDkd3XO9PEb3+6xcT6QwGIAAAAASUVORK5CYII='/>"
      ],
      "text/plain": [
       "<IPython.core.display.HTML object>"
      ]
     },
     "metadata": {},
     "output_type": "display_data"
    },
    {
     "data": {
      "text/html": [
       "<img src='data:image/png;base64,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'/>"
      ],
      "text/plain": [
       "<IPython.core.display.HTML object>"
      ]
     },
     "metadata": {},
     "output_type": "display_data"
    },
    {
     "name": "stdout",
     "output_type": "stream",
     "text": [
      "0 (32, 24, 1)\n"
     ]
    },
    {
     "data": {
      "text/html": [
       "<img src='data:image/png;base64,iVBORw0KGgoAAAANSUhEUgAAABgAAAAgCAAAAAAtNefkAAACVklEQVR4nDXQXUjddQDG8c/5+3dyjvPleJrmcjqtCG1la2tbkXRx6GWujW5GdF8QLCrownYRwaAXgkEXddPFLsMigmoEY1FRbYlQKhlLm2uz6VRUfDvnqOfor4vTvpcPD8/z8CQ+2lqoeJvuh75ZdPazc5XPD7/m84psS+LYzNpkQf2BnqGvzA9nRx/gQHTk5HA8chOWlmdyVb2ZrH5sPNHb85NmZWq19YUwW42ac0OhNTr4YC1Y0f6kq2dyaOis/nYyfjjTfH2Mo4v5N7J+/BgePeItcXpkfiuz8Nzpsaln+R7cwQVx5sYQ6qLVedb6wR6WRPs7YLAwNcEvAXSC8xnwT5jNX34JJEMIxBcXoGmvRuMXwcHy/npwOIQw9nRZeT2EHPHOJYiUzn456HbFatVGVM7t8cGb/+uus9XGF2AqZN2m5bcQekUDcHK3TdwTAlIJOkVj8CI/4xWOsjTKNi/vSuoOIWB3CCGD1Ie/9nHlj0II0wloLV5oAO2HiMav3aQ/QPGH84ugqwMnjr8fphvBU5f6QNvAFeLLu/b8eWYOHNu7CXoPqyzGmyszVy+Vz3tV2dBKei6q3hFKU+BdCqCbfaI4zo92p3HiBSpBM2lxKV6dnjs+UtF1fxMboIY7RcnlyYHZxvu6okmsgX85Jbo2vb5QN5Osz//9Nd+B8cInYzsTqmtDKV3XsX3j3sdOJSD16cx7h36PVZU2V+ebGnITxX3l2/ffvdGar4ktJlLb8fpfldvFlTw8/k57sWXwVkzIKS2H5I71/MTpW1WPPHOXudSE/wBnUejdIPjobAAAAABJRU5ErkJggg=='/>"
      ],
      "text/plain": [
       "<IPython.core.display.HTML object>"
      ]
     },
     "metadata": {},
     "output_type": "display_data"
    },
    {
     "data": {
      "text/html": [
       "<img src='data:image/png;base64,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'/>"
      ],
      "text/plain": [
       "<IPython.core.display.HTML object>"
      ]
     },
     "metadata": {},
     "output_type": "display_data"
    },
    {
     "name": "stdout",
     "output_type": "stream",
     "text": [
      "4 (32, 24, 1)\n"
     ]
    },
    {
     "data": {
      "text/html": [
       "<img src='data:image/png;base64,iVBORw0KGgoAAAANSUhEUgAAABgAAAAgCAAAAAAtNefkAAACW0lEQVR4nFWS20vTcRiHH7/8ck7NqZmkqUmt6dRMxTSkqEyhIO2IN1HQRWDeBFp3UnTRP5AXFWRRkRIpKFoEUpKVJ6ZRU1csM8120LGjpzndt4utwufqfT/P3ft5odxcw1/OVP4bBcnak5Hh5XjZIaDoctVegBI5mA1KbmlO8Z0ZA3D1t/x8M18w/OP7L1jDafcvuEYAg9NlNH1RQJWRaiazPHo9pkJnB/b4xnreo0DUwV1mTVVZmi+wb3kKWLSpXVYEeCimIHO732rq6nwAPA1qUzJQYEoaUdtGV74NWdwADJ5NyLMJSNToE3Ozl7euT4RyPuGJTVdgc1L15PX4+ztnVP6QcBChFkBtd1+bbOI/XVJ2lgpQxWhiZzuAHWGhhzQrMCpXW29tgeqWumgABqR8DkRKKZ3NQK2UvUWA1inlbQSrQehpAxxwuAE4nUBAIsAF7f1AJHAA2ASzKwjwgtcDRAXBCnwwEbWEAmnYBgAeztVYm4G+Qf1XUkFI+YwN1MkXTecE6fBko+jGGcgSKFC5USy+MtmDgkkLDReA2KrG8+rQHxh9cSqgXko55JdSSqkH4IrjjbtdwDxMud3huwL4jUsLHgVc7vh7/pa4S4XcmA/1sdeTEFDAPTb9cncHd49GvA4XdfGnYVgBdW/3eBDWUnVhkbSiXlYUOGKZxieCx67lrDcCoFsMzjoUYk6MvLWvlVCfQ735MRTnb3NPqeYVTuWt6ibsNh7lpho+AoY4beS4ySLYH+HrR8K71hmvDsjKT0nSuAMCL845gPXYYHphBgUVJcn4ouP/AGpP+dLv1kRUAAAAAElFTkSuQmCC'/>"
      ],
      "text/plain": [
       "<IPython.core.display.HTML object>"
      ]
     },
     "metadata": {},
     "output_type": "display_data"
    },
    {
     "data": {
      "text/html": [
       "<img src='data:image/png;base64,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'/>"
      ],
      "text/plain": [
       "<IPython.core.display.HTML object>"
      ]
     },
     "metadata": {},
     "output_type": "display_data"
    },
    {
     "name": "stdout",
     "output_type": "stream",
     "text": [
      "4 (32, 24, 1)\n"
     ]
    },
    {
     "data": {
      "text/html": [
       "<img src='data:image/png;base64,iVBORw0KGgoAAAANSUhEUgAAABgAAAAgCAAAAAAtNefkAAACeElEQVR4nD2SS0tUYQCGn/Od75y5mtMZPKmpeSvDqKQooxRaWCBBBEEQ0cJNf6CoRW4SWki/wE3batcioguZURGIXUwTnSa124w6No06l+OcmfO1GOxdPe/i2T0AdifayYHT526PqnE5pEa7bjWDBsijxfdqr9N7Uyt0wYdXz3zTccTBbkr7wpLZxYsd6cvA83k9sQ5y0uCAlXfhVD+1U4BqEj8bVtha9ROlKpRQKa6++FQ5ob6HSj2tsKPeYvdU+PiduNoSSKpB+/pOBAS272isnblXC1wBfMQGhgeRYPvn5laGVoGWkdgYpUIhjELAkuk646tAzzT18GU5mnj7BkGEqYPXagAuBPkBE2ljYWweSWb396jVCdCRDWcga8m4WkfWGJuNI24NMBic6QqA1lwXVxKRMkzJ3QmOjR56tGA2wxoW9hACXyiEiGFbY8PviUIZH4dbkZFMsanek916f/J417tW8Bi/lDyC3FTaRkFkfv1NUqdLH2wi75dBaK6Ty6UdNyOYzAodvrJag35G5iFaxHAdFbEtQrBYMBWGEqbQdQGUVcb1ysCfRP4YfY9F0St/rcKlygx9f2n5YON384MJCwHQBmheW8uM3w8kqmKRaYRGpQgtmJQdySwQ0Bdi8YqhAKN97XcksQHUF2/ETYQCQjrI9j3G2c/foPeIN/v6BBKgLMvoZmp1KeaHU6SYt8MadsOuNykA4W071HDe+/E0ny7NItF/qRQAgVx2zF92F+aKRpvfESQNXTdBCwTxcCY/TjrFXHE/AtPMCVEdVYYJEFz2lQha2xD4EkuGroiYHkCpdhPy6QCSDTz3f6nCjFZ/CJuzBfMfXSkALu6h17UAAAAASUVORK5CYII='/>"
      ],
      "text/plain": [
       "<IPython.core.display.HTML object>"
      ]
     },
     "metadata": {},
     "output_type": "display_data"
    },
    {
     "data": {
      "text/html": [
       "<img src='data:image/png;base64,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'/>"
      ],
      "text/plain": [
       "<IPython.core.display.HTML object>"
      ]
     },
     "metadata": {},
     "output_type": "display_data"
    },
    {
     "name": "stdout",
     "output_type": "stream",
     "text": [
      "1 (32, 24, 1)\n"
     ]
    },
    {
     "data": {
      "text/html": [
       "<img src='data:image/png;base64,iVBORw0KGgoAAAANSUhEUgAAABgAAAAgCAAAAAAtNefkAAACKklEQVR4nFWQS0hUYRiGn/PPP+OcSec4F9NGU0dFaSIbJcisNqLZnZCkaCO0adcqWrUJ2rRol9CqTdAqE0mQdmEa0Y0kKE0INKm8HDsz6tyOzt/izMT4Lt/n+96X7yMKQOB07wNV1KNb00rJHQC2vRd999ODodWI/vbZxKbWoTPQHqG6Nnjy3XMA9joJQ4r+lkr8hrdPrVAir5LJRIIk7FBVCjKfhWUpoLyJXQrHxboNsOnfDfoRMQPAPwcxmq9eKoAoxKjED9FZNf1wXT0ddMA9JQ+mqxcavhmB8bbubvjpDa8BaEjTlGZ5Ip/9+KFTkHy8tAVAEpnOpHIpNjItUcHU+FyhoxKxvb1DFmxbQkPe4/h9t5Eejwc3UGGMi8Z4WQ6ADgHXXcCRC2fnVQitppB06IkSOS/gD4TDmKg/BfBl2KbRB+DpGp0B2Vy8vElJOwUgFycXqlYvV6R+OyAIAcqoAz167u6r7OTR4soI7kjPceE/4AZTKTUSd3yXJeM17a9DUcuGIDCQd57VYwhr46UMLX0vRsR0AE4gtjL4qtYAEgBZVXiJzOV7l7QcwNCZWvv9RMbpvimRenD/zCIwNkZ11nISbaR3jzH1yYS29CIsF6vqkUYgoLsA678J0IHwl+tihZJhAEzwxTsBIqPDJX7dlV+aLwVw/gVoEGmT+1oP55d/WC55an7zb4W7/muMG1N3jnnCUgPyAu3a7HprZLq5azD2RnSVpP0DUqu+Y20yLnUAAAAASUVORK5CYII='/>"
      ],
      "text/plain": [
       "<IPython.core.display.HTML object>"
      ]
     },
     "metadata": {},
     "output_type": "display_data"
    },
    {
     "data": {
      "text/html": [
       "<img src='data:image/png;base64,iVBORw0KGgoAAAANSUhEUgAAACAAAAAgCAIAAAD8GO2jAAAENklEQVR4nI1WUbLbSA4DwJbspPa+e4L939smlprAfLRsv2Tem0mXypZdEtEgQbD53//9H8+VBAmCJEACAwwYAwGogB3b7m47bXfbdpIq3W63+/1+v+1A7Dnn4cyBP1gkEvSc3W6suG2jnW7bDcSWpKoqqYoASBIcJP8hMgIEAB3/fDwej9NJ2+12YKO7bYOpqul0kuS2b2MIBKE/ZECAx3H8+PEjTsezuwObTwDUVk4IiCyxaiBB8iXAtfUnAImefTyO5AKYTje6OwnA0XWFlvatxiARJFeKkuRTHBIgQQZFFtkADGRlKi8Aim237XTP2VNiiK8ZfCwEEIHbGLd9P3sCSaoZwsi1t6ybRTyJHQHIu8j8LS0AwOD6i+K+721XnzrFYzpoh2wmQAjTYKBQkFACyE8ZvGSV9zfBbRvJrokA3alqiSL8fFyAAgaCSqME/AbwN8k+WcUQqjTG6KRkkSKKABAbAB0uXcciR1UVSfyRTK9eICRKIMPkyv66gPcNQICAQOIJ8NLSp+FJEAATOO54tXDbjo1f3iLJIPZixD9k8OKxMpYgcOAgyxIgUlSphgbBOGb0xykCANt25zLC13JiaEkGS1Fp92w6JkdWoRZN4vU2nm4VhCDi7j7Pc87lDstT55znbFMSdGzneEgEkyRTIjDyJP+v2VlB8yym43avRdfJ8zyOBylCJIAiCYxXYVc78o2Vpb9g9aspSpIgiVzFRBA7YMvq7p5zlo7zJC+jftfgYyd/+AyysEnWqC2ZVcv2JYgQ0Ajg2N1eIBKZ3wDePPh2FCRcRhCoBiiIbdcxqkbVkEoyTEQ2uj1nSy1OfArwauY4i9VSCoIxxqiaZLe3bW7bNrZznKNtP2cGSVJYMxP4pQa/RH8VZvlihxSpKiUZVWOMMUYtGl1ExFKVVFIRdCIgL4AF/bfoXr0ahwTcIHL94ntJBLgAqiRdO/s0RR/L8e4lG/EptX2ePqe7l2C5sECwWK8lktBXACTf7eos7Sf4+TgSdPs858/jOM7Z9tWgK4OkJI7at20fy2q/ZsBLVFnh3ZmzZ7c7c87jPM9zdntlgtSqS41tbNvt2/377bbsczyf+GUSJFj7NmIEiNOP43GcJ8xun/OcyzQQiKXatm3f9n3btm3/fv/2n+/fL4CvCnC1ga/zQAfHPH8+HogSd3d7Os7qQKmGaq/tNm77tt/3/b4LfAM8a/4LiTU5sqYL2M5sk0jSCUQVB0WoxtjG2Le67WO/j7FVjRIAZEj1IeIFZmdVrsZGFQJVb7dbO6TyFhjW9kfVtm37vo9RVQDTaK+DF1V4av/1WkBQFAuoQQI1+n5+o5ZFXhIgKalK67wllcQiQk+fK82fn00pIms4LK8jqfvtPmrgdcwhltildalUEkSqBK1sfDEySYaBLy9NQGqMQenDM6Cu4a56AaxTwXPTxF/P57CtobWGlgAAAABJRU5ErkJggg=='/>"
      ],
      "text/plain": [
       "<IPython.core.display.HTML object>"
      ]
     },
     "metadata": {},
     "output_type": "display_data"
    },
    {
     "name": "stdout",
     "output_type": "stream",
     "text": [
      "3 (32, 24, 1)\n"
     ]
    },
    {
     "data": {
      "text/html": [
       "<img src='data:image/png;base64,iVBORw0KGgoAAAANSUhEUgAAABgAAAAgCAAAAAAtNefkAAACVElEQVR4nE3QT0jTYRzH8fdve5aWTGmb0zm1zUynYiipKZokJoURFElQWIeCoCD6c+8WnQJPeQm8FIGZpRPLg5naX9SZf0qxtTYyN6bObSg5N+3XYVv6vT2vD8/zfPlINfXy4DDRaTrtsIX3Fvd8AsT7oMmdGAKg6NBGyOM35iUDSICJ1Mhu1WrCnRy79XUw42Rm8uBinQBqtOnmTL/GrPf4pZC8pLtsvDnzRIDZpN/fyKqanj7fhxDhDSMU9ktQ2WzO3QwGqidrYzuMlIMkwLg5v6Aa6C/5GnPuv8SJQJu9NR5eeef3xJ2uiMqFoLTQmPJ92c+OUaFAwbGKH7vKjQCYD+YBEEAHuIa47ngEUD0myy8AbsnzKKSMdX6m6gGyLXAGYNTuQaGx79EUiWkAbVLsjw0ZhM8a+atedADEnbG7dgTdJWmGiDcehAF4Bgq8ngTl0hyAF5iM31IQkA8n2h0A7gBYAWg4hcjWGuoLBgCY/KIZGQa4dE8qEb+X92nSdAD8aV/pAEi9kcVFwPJmzXdhZyNXZ2RZloD2c8z1flbabVEvr6CqsFQAJsjP33LfjgXHdd8WqhGgLgNQ9nbGXoqY9DkmxJFAqdcArClj3lQVng1mZYjKMnWfpWB9tifKDa25E12DU48touzExNCA1umcjgZpztDzNg8fx8WvpUige3vVJJVr1gOEMD1sUW37FY88VRftyjVqi/z3isZ0inNiJT6di7Oh1qQHjsaOZ9vqgcwHXtltbelekmX5bTMg0Xqtf9x34HwS4LYtZNWkAK86O/4BrF/Ym7uZNpAAAAAASUVORK5CYII='/>"
      ],
      "text/plain": [
       "<IPython.core.display.HTML object>"
      ]
     },
     "metadata": {},
     "output_type": "display_data"
    },
    {
     "data": {
      "text/html": [
       "<img src='data:image/png;base64,iVBORw0KGgoAAAANSUhEUgAAACAAAAAgCAIAAAD8GO2jAAAGZUlEQVR4nDWWza7kOK6EGSQlO/PMfce7HWCefbqrq/LYEn9iFq6iZMDaMACR8Yn4z7//34Hh5m7mBoNASHYLm81uShHVQqrZUHNTkN0siChEFezqjIjoJhQKM9gYU9V97V0K0lrchSamqiJQCBVCCIUUinQroCKolibZhJAKABBVHe4gqapsdnVmqtI/vy535PRRPuccHO5uZgoVhRJNEZKgAICxNbuqml1Am0FluJmPMXxQqKrr3uu+q1K1fe9FuioAqJaZi4iqqrrARKCkVFNIkSpWZlRlRncperg5HgUHIMLqElER6xaKeHdXdzebJCkCwJ4tMABVJIXNzrrvvXdGVVaSbSo1zFTH8KlqZt3srKjekVUtIq42TP3Zaq5qCgUggIhUMrJWRCbXyr9//Pxcd3VTCNAdxxxCuo95CFS6O3Z9/7r//uvHfa+qch/Dh/scNtx8mDnURJQt1V3Z98rr3hF1r/3Pj1/f902IgApRlT0Hu919zDF7dPW19s/P579//X1dV2b6cRw+fBxjjOHu6g41CrqYWXvnfe/PZ90r7nt9f18rQt0AlnSzdmxmuvmYsw6y+7quX5/PPz9/fr4/meljTHf1P2HmqkoBhVWyo9bKde/v7+teW81eZlRQmh21Kyou9msda70V6Kr7viO2gGYqYj7HcNc5xuM0NwOQ+XhMMnutfV3Xda1svt+vMSch3RmxsjJ27h33fd33rRBW773JHsOAgyJ+HD7GmHPK00DmXR072MqWbrnX/uvHP6Qc52uex/vr6zhGVX6+f93r+s6Uzs/n+zh+skMVzRA0FK/Xy9z88ZWbsVtEVFCUKj6U6GZE3vetasfr7T6O43i/z+psprsKOyL2vu/725RmlrmrsjvF1czd3VWVfHCA7haKQkMkWZGZVSSrqjLNdM7h7iiaKRQi7K6IiNgR1m0REbl3bArJdopQpMnHF0Cx2GxSqjurulv42xaAqupjEkCE7O7MiJC1blN1s8zIvTsi2az0lkfid1qghCLPR7K7m/IkBEhWd3dVV1U+BOiuKlRmZYKsLDYB6Sp2uwjkTzyEBv+cKQ9BHmM3O3LvdQs9a99rPRlN1dRUVRVqMNF5DEBiR1c7DKpqqt1KPkyDqqL5aDwsbrKrI/Z9X5mWGff33VWqOo95HvM8jvOYY3h315g58tIr9nYzmMJUuyEEhCqAWZOqBVUz86FZ3d17B/SCsDL3WlXtbnOc79fr6/319TrHcApZzCiDLnPvbohAwN80FYGowgzudsx5nufeEZEUVOb1Xd2VERW7slz9OPz9er9er9frHGM8xasokmbm9RvH0l3NVlE+AoI5x3Eer8iqXisiMzIyMyMzg52mMo7xXM+cc4xjzqkKiNSoqgLgEaGq1H5ChA+u1cyHnudRRRKqN6/r/qz7WhErIxR9vg4zeygJ6POSuA9To3XuBOF8ulTkQYXwKaqKKA1j8Dg6q7ISN7oq91rrqgwzPV+H/xEwNUChNnxMH0LJSKG4m5uquzfJolCgJmoiiqaqqIkaursyuqs6I3dVCRwCMzcdrsPVnmFi2jzGAWCvqGwHTKAiphBxAQXQbpKd3dmVXVnRUo3acVXtOd31OI/j//719TrP4a6iLHR0MK++K9rUOltFXQRCsEV/P/wgJSKrGVVr72vf176yN1GRi6yvr6+v9/v9er+/Xuc8XA2N7l6xQ/P+Xs+Q9QDCu5tCoYjATEXQVXtHZKyMtfa11r3uHXczxlTTeR7jPOf5mseYw0woVdn59IioqsFMTVUA8b03BKY2XIQiQGbu2Nd9Xeu+Y6+9Y2fmFunXa4J4nefrfbxexzmHQjsronZERrAogMJM1QwA/L4+EDU4Z3EMUYuKta/P9fl8f6/cmdVFIU31/fUe7ud5vM/3eZ5uLs0ktzAz9rpjZ1MAuNoYpg7//Poo1NW7qrrdLasiYsdesbKSFHNThZtNtznGnPM8znOeqtpVUjRXKJtVHZkFQatR3EX9+vxSNff52ww9+2E0qVAzg+rwZ/nhNtzd/ZjHHK6wTpXZuW0P3a4IgZK/C6sU9b3CrCHoGs0iCGCYvc7TXCk08zHnmGP89hKgOszMoBAVlWN0HdVFETXEjqoSypg+xnBWCyB/DA2IAm52yFBTAW34nMc8hpk+UzwABQQiEDWMYT1nZFYmuwE8P2P4GP4/zQyCSlqM0/IAAAAASUVORK5CYII='/>"
      ],
      "text/plain": [
       "<IPython.core.display.HTML object>"
      ]
     },
     "metadata": {},
     "output_type": "display_data"
    },
    {
     "name": "stdout",
     "output_type": "stream",
     "text": [
      "9 (32, 24, 1)\n"
     ]
    },
    {
     "data": {
      "text/html": [
       "<img src='data:image/png;base64,iVBORw0KGgoAAAANSUhEUgAAABgAAAAgCAAAAAAtNefkAAACKklEQVR4nF2STUjTYRzHP/9nz5xOtzlfN3X93Zq6VSzTNBCSFkEQdumNDkEQBEGnKLr1QkQdunXpaAcpDIyoQxgbncSLh+zg65CJL/Ml0y01V6unwzOt/J1+n9+X53m+vy+PUbJuDwVPXQbg/cBDINMXs42uSytl/nD5h9aFoG2hZ7EnwpCronNzY8kYiAVU8fLHXv7WrcerEy9RyRU1coN/67pSatjoHva1rpz9T6iPu37F5ZNEVMbyE6vIAiT73GpeGFHfdAKA/bcHn1oB6NlyV8uDzXJS490LtC7dAcimms4JrxluXgTABM4EADJ7jiH8TofXBMAJmB1AeVfUimhxZO1tACSBzS3AqLWAZDBX6QDgRfrizJUY8OVZ5VUr6QeXrp3WbmXInffd3q+kc3XT6dSYG9tecdFAENhYn2RXff+BwB+xeXYLPwWCUHvdQp7t20KJG8He450+jfu633XllVVQSvUe1XRPqcxN3d5XAqif1eQDxwHdziPerqS8esGODiD/XAL5Jh5sjnwGOB+GiZG8X2RTrjC7DMA0UFqkhWKEo9RSrG2OzUHV4UYAPAjr76+JIABzs8A3fdqLXHNm1sYBKE+YW49epQFIIu3jU359r23o+favIIQsMjKfBgDo79/JqsyDiBhrU9W7Q6yqQKiWoLVAR7Uzrz1Rgyw4ksqkTwYsuUJL/DWEvfa6cKOvATk3YysxD5m2nHu0JprytLlUZUNjHfwBdJKpYVicpKcAAAAASUVORK5CYII='/>"
      ],
      "text/plain": [
       "<IPython.core.display.HTML object>"
      ]
     },
     "metadata": {},
     "output_type": "display_data"
    },
    {
     "data": {
      "text/html": [
       "<img src='data:image/png;base64,iVBORw0KGgoAAAANSUhEUgAAACAAAAAgCAIAAAD8GO2jAAAEZ0lEQVR4nG1WyZLrRgwDwJZn3v9XJbf8ZjISSeTAluwsXX2wVBZXACR//+0PALYB7B+GbXS32+7q6m670a6sKy+3FYqIUISCokRJERQJEgAI0gAWSQAkbT9uABiwXVXdXVXuRruqOnuCQAOy1bGCXByb4Hz7nBURT+y2u9s2ym1X1XXldZ7XeU0SbncbNgESIiP0+np9ff9ChCBR27nNcSDps0Qk58HtzLrO/PnrPH9+uhqf+XXDJhEhAOt4oc2gQNP1kcLq7s/wu7vbXXVVXud1/pzXeeaVNkQRFAG7je6dUUbWlbWqKS6ABgzumFdWTUTvErWruq66zrzOK8/qMkmFQhJIO0G4qt3lqq6syitFEtS0mZ4mjyPfZ/+urqrMzMzqsi1FRBxaIbltX2432Hb3OGivtk2TBKZL/3KAeW94OnofGCJesY51SLFj6SoCtrvnThXASQQUACz8/zHad14YCIKiFArbkkhhQGlPOHhCJEliHAgCYGII1vjEMQGRGqbA+Lz+d0T7gqTI2N8tUmNpYubz5eYfScKwUVVJIWg7q6u6dmE40GtPjYyHdHw7oMEy7LIBP4nSgLszk2BVS6fb13le15V52gUiszKrqqorWg2RkChxSbwzFD0kpP3BqpsfZQsk6O68rsqsuoyGfNWxOmv7CNmxA9RmMm4S/LfZj34MnDBlqequ7jSsYlV2VXV5ygSAlCTpzgB0DzZ4m73Pjded6H6s+6W77PZuQRtttAmMh7XRBIDN+7wTuCk+HQdB6v2HaSnZGLNu90bJ6CqxBi4PNG8PnImwxRWYfGcAwL5pfrk7FKRMNFyboxtMBhZ6HBoG3/YB+Lbf4zjWOo7jtV4CMvO6zvNk1sUQhXHQrg8FMOhVVZORARuEgEHRo/82wdA64vvr69f3r1Cc58/PGRB4EjI0+vJYdrer28DyyPU9wrzpiKe7uwHiWsfxen19f69YDDW9qeYCd0y7De6qqizLW4s2vLxDflo4h2QojuN4vV7HcYQiq2KtWCsq2H5QYaPbo8TTuTXTGLC76uYU7E9EkYyI4zjGOkmJFBVShGHwTaBhTFUClrRsPqUh+pGsB1EPOf4Bs+eIvHUFH9dgG24vuz5FkjC3Vs0mEr6z2T2Exya3bspUExDnMoKxGEGJwPqH0L7vtj4OJnC3syozKWZm1SDxUYWtDXzuTLQ9JQyBDb7nxUcGk4TtzOvPPwHgzOvKKzO7C7DGC0OMW228Rybv0u7CPDuPFBFrLQPdDbLtKzOv6u68xwFgcicxGUvxqTfPZgcbaJrQ3aq1onvZTgDADPfR/cbWAhJrkVp7mYyIKdS9Q67H1d41zGnVfLDWDnK6lF0/15mZ3CggY0hyW78PNvqxeIvf1P5ulEPqWBMnyaH0CJ4sghIViqX1Wsex1nHEWnsh3tvTpwNwDGk2B1mKte5e1z42XgdWLACPg+OI41jHsdZ6lwjc2+l/1hbfA1uUaUuG7nk3EQDaDv7vfOgxAPwNmd6wGhfAfuoAAAAASUVORK5CYII='/>"
      ],
      "text/plain": [
       "<IPython.core.display.HTML object>"
      ]
     },
     "metadata": {},
     "output_type": "display_data"
    },
    {
     "name": "stdout",
     "output_type": "stream",
     "text": [
      "8 (32, 24, 1)\n"
     ]
    },
    {
     "data": {
      "text/html": [
       "<img src='data:image/png;base64,iVBORw0KGgoAAAANSUhEUgAAABgAAAAgCAAAAAAtNefkAAACY0lEQVR4nE3RW0jdBQCA8d/5+1dPipdjHSk9oynTbRRol61Gi42yZY3qJRe1QXRdxV6CBr00CCIK6mUPo1h0peihoMm6DGEgQWBsa0xz7qgsJfM4dbmjx9PO2fHfg+vyPX7f4xfjrcRedj32R7+eTPqXjTVjF6dLk0KqO3YNxjuz6cWFo3fc232q1Fo9WSAgkXphe0fz4vnTA58dabizdKWy1JgnoLDQ2ro8Ojg8Q9/QXHlYk7ouQcjxxvjRfqvse619ZOXGynBSwJdTN6X8Q/nO51oXb0gQ0FE89vm/4cBY7Nbb1q5A15E3/Y/U91F0bj+BfVtjtajevBr+qic3RaClIZ/Fxj0fHX4Rc+9lNUdQit6Gly9EURau/zmae4RgXWARNiWpeQmZ31TUEqSYRFgOOyGvopHgVz5F16UJbIbLKnOEs+8X4J78V2074tfcPMRZ4gS+mYGec32H3qAe8/LT8MNKFwp7efCnlafxaNS3huCh+2O/I3qmUWZL9hIaZkebCFK5MyOY2NRtm7ocWoq1nVXC3vvOwlDbA8l3LM+hoqkikZwIp6IkfJxMreO7E9gmiP8pdHcBenfsqeNDyBgbzQoSyWYwUIcfUVV/fnScYD13Qd8yiri9aml4hmDh6qDMK3xxGa/forsN0tGB1fTwbtiwFF354AlCx9u2596FXtAUKWspETiVSz2/5r/n8+Pmz1wkVPy2vfP0tVf140v7o69nyxoIDWSbDjY8+Qk4/Gx6ZGJsPt5PaLi0kG4/NL2hZ/zVLU9pPzaVKI5nCLmwdrC96uB6W3cvlTlZH2ZiS/gbdQPfRSdvfWEAAAAASUVORK5CYII='/>"
      ],
      "text/plain": [
       "<IPython.core.display.HTML object>"
      ]
     },
     "metadata": {},
     "output_type": "display_data"
    },
    {
     "data": {
      "text/html": [
       "<img src='data:image/png;base64,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'/>"
      ],
      "text/plain": [
       "<IPython.core.display.HTML object>"
      ]
     },
     "metadata": {},
     "output_type": "display_data"
    },
    {
     "name": "stdout",
     "output_type": "stream",
     "text": [
      "0 (32, 24, 1)\n"
     ]
    },
    {
     "data": {
      "text/html": [
       "<img src='data:image/png;base64,iVBORw0KGgoAAAANSUhEUgAAABgAAAAgCAAAAAAtNefkAAACXUlEQVR4nGWST0jTcRiHn/322+am25rObaibTk23ZZGmqSlJCZGanbwEdSvoFBEdCqEggk5BSpcOeQxCwjoGkw4VWrEUjRg1o6abzm0O+an7Z/t22OrSe3yew/t5eT8qkO2eBmU+DEYFQCo4DckEKnrmwSeFMmDey1OjTW3rDWVl+4DZreP/kRvXNMksQG1zezKUSKSKXCcPlc8GAONovcWqbtpNff+sAJoDsrfcu5JKq1q75NCEXe92mdQrm2m0O7JvzTCSzyfafBi2mmptdo+0p97PxwrypQiHz/db1EuvX4V3POcUU2FXo48VUAH4Jl1zN5IAeE45w5FEfH1XAnANHgwUOcHO7pj/m87tAOCpEP/yf405gJqiCAg/MJ25Ddzfe1wNINN3tsqWewaMcfUB/NZ5G+KA/OSKChY+AuAAqiWbFUAK5UBENgHQAk7c3uK2KSEWZ+4BJwOXASEe6jHV2YHrX96tiOFSqJtCdIHc3yzBo1RfI9GSiEAPGDRWCRgHFkvCAiEwb/wAGBNiCaAWYHX5mgWzEQkwwjgYPq3dAiYz3jrttgL1MCQEMCpEEOgMzt49LYE0ABbSQDe0AjmT69CZFpDaYIhlwAMZoDKzvpW0gbQFF4kCszAFnEi+f/4iXzxeiAmA9l6A6MwRcAwigwfyAAsAxxxKGlKrWgmmYdD890+90/oRb4UqWSPBLzh6p8SHW6JvXm6WG7MxmYG5cI9J3/3BVKVp6OhQlvw/AVB1pXNlLb5M3OgQx7PmjfjC22Cxuxeyi2mry1PprEDZiRmX4xXVca3NUvkHSPfWQAVLvxkAAAAASUVORK5CYII='/>"
      ],
      "text/plain": [
       "<IPython.core.display.HTML object>"
      ]
     },
     "metadata": {},
     "output_type": "display_data"
    },
    {
     "data": {
      "text/html": [
       "<img src='data:image/png;base64,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'/>"
      ],
      "text/plain": [
       "<IPython.core.display.HTML object>"
      ]
     },
     "metadata": {},
     "output_type": "display_data"
    },
    {
     "name": "stdout",
     "output_type": "stream",
     "text": [
      "8 (32, 24, 1)\n"
     ]
    },
    {
     "data": {
      "text/html": [
       "<img src='data:image/png;base64,iVBORw0KGgoAAAANSUhEUgAAABgAAAAgCAAAAAAtNefkAAACOklEQVR4nG2RXUiTYRTHf+/razaXbuWc2cyURWoZWEbfQVoIShRdWBGVVpdG4EX3oXQlRBTEbgSJoAjBsFAKChLahSiE+f1d6pzfH9Nt76Y7XbwuFDxX5/n9eHjO/zxcv3ilukVERKSGZ0YTeF2JcscXn5SVLMMFZ1CgoiTdaQo/f+lBeUxwursfHKWOJwA5pzL63gEMNZRksqUsxlncjefYplRsazlZ25kmSNxoL5cC3J+U4RdX4SNkpBpiXO4q2qNZEelzgTwsvlVmCJHa5FiXiLTXmdCwhFP3HOky1IP+kZNAVqCgScUX1nu6oi+uTi4D5mO3UcnWOzqifMzt/j4FxOeCfK762mzguiGAG70isoKK1ycb85Y7AT68DfsxozG13JJiCmxKVnewaC4elSJ1zb2ZE/o9sn8ClRMxnp9bdhFx7kMH8RTbty6paEnEhab8B/nlf2sA7J2HF/xoAJcOZeVnOoDgK8C02DUdhp7B2k+iT7SKyHvjZlmLBHpRBtaHQpFfMdgqSJo3TFVp9rJFa9J75lda9ZA95doGxzo+24i23jM9vOqD6aVomAJ2JxxAq6z3ePVW/0zm2ehH7lhpSxlDwxmMW59dLUyIzn0+L+3HghnldKh/xSBqBOBCXJltoN37RYnTN6dOcFTPWZVvo50RLXaL8NljciMNzWOg/n6ayqZlaXuP2vWwjXRt5/HCoNX7xzro5d7Ntti8mTeLMxE9xay4/FMBiyctsbsWAahva58PsGv0HyUo8vN9ciwVAAAAAElFTkSuQmCC'/>"
      ],
      "text/plain": [
       "<IPython.core.display.HTML object>"
      ]
     },
     "metadata": {},
     "output_type": "display_data"
    },
    {
     "data": {
      "text/html": [
       "<img src='data:image/png;base64,iVBORw0KGgoAAAANSUhEUgAAACAAAAAgCAIAAAD8GO2jAAAEgElEQVR4nH1WbY7ryA2sKtKe3ePmAEHunCwwb6RmVX605PHkLUIIgmHDTTbrg+S//vkPAABIAEiQBEFCALmCJBP+599/HcdRVdXVrSpKCnDOOr7Wcay11ufn16/P8zzX8XXMMY3vIN5TOL4iCQEmOY6v4zi7yq64XCUZhOc7PH6P7wQkkwBAYHuW11oznomdJLY/Pz9nzVTVqunuLhVB2F5r1lprrZnZRe1KfyTYPbE9M+e5/7Dftu3J8XXsXx9VGc9Ut1QMEDsISBWrmbC7FP6eAADszMxac+441lw5JkkojtMuNlnBThAmQkRWMVYqA7xjsNuPGDASzLwSnDNOIFAggSBAyIDZpanYkIkkQW3MIDTJXbs9a/k8ZsZrPDNrrfNcx7E8RlBVf358tMoxiWo9Ht3PqkdRFWcD9nWcOhZ5blD7rXzm72ITadfxfH48Hz2zyFTtBF3PpmRn1szEydi2gCToDSwAQGJJtl9JtbkbJEaSKj0fPQwAlqq7NpNIyGkmUFFFSdJNUxIAEfwW1yWQTd60qrsBA5HUYktVRVGRXIInGXtWdqX9djRfT8AL7ez6gSR0EoTYzcSVm6AkAmAI1Zgcaja0jTAXTUWC1OZIfj4IkqxzzlqzBrELVFRVKUAgJCIURYg3J3/o4BWSJAFInDg2AiOfv37NWp4BXA9OniEpgqQE6Po/fCvpbPzfuG5w+Qe+Pr9OHfGQ6VUOKKqEqipSAHn52HjGa317EV+CeIELBGDChAQBHsdCkkwRHgPq6u6oQlAhhPiWqmPfOiAgMt85NpIvu86lXSd2YhMhdc4azzjLkUPB+767vbDR3wzSrvg3kia2GUramMSgcIHj2HDg7RoBceGHAEZnzxlkYuNNZG+wf38jCjK8LQjkpUQyV0G6ObJ/S98yxq9fv2x74BiApI+Pj/32SgwgBDJe67SHZNUDug0uiEHgPNfX11cCSVVqbI4E1/ACSFQJz4ek7v74cIY2EnvNWieEGQFgFTb8uPXI2GMPEAlVvBKQeD6fV8uXrUxlSVqaGYsK4Hyu85xz4sQEw92nrR1QISGhSjOUKLFfLf7utcSEGRLbZHYbwwSTNwC4zTCXwbyrtKqq6sdM/h+F4Yf55e7ivj4gUKzakqcEcrd6T7Ry3G7ibWSG3kfxnap4KS6vz7vQKnX34/Hobl1BAGrVVJA4ot68SLwKvQS3vS9UGAIQ9e5U3d3dVVUlqV58FtktskjM1FuCvQ8hgV8l34P3cliJ96HV3c/n4/ncX4gUADISq0SFZFX6Be+suVg0l1XNeGbsmbmWMJUefOzTu3uf3l1V31ypKhA2CSf5ZhHupeje6ebtnb1LlYrF7leCR9092icYJrFVTArv8+DWC+8R8zeM2tffVT8eFwYv59m9JVDcI4d4Z5FEssQt+MvZXzZDxrZA8Q3h3ui+7P3iB4Dac5L49qLLuDbBUwCq9tEg93qqP54fj35sBVSJulZybBHg3tGRV+d/Cu2mOW4DuJt7demPP//8eD6T25qzJ3reCsS9K1zxX8JxUqQ6V4ZaAAAAAElFTkSuQmCC'/>"
      ],
      "text/plain": [
       "<IPython.core.display.HTML object>"
      ]
     },
     "metadata": {},
     "output_type": "display_data"
    },
    {
     "name": "stdout",
     "output_type": "stream",
     "text": [
      "5 (32, 24, 1)\n"
     ]
    },
    {
     "data": {
      "text/html": [
       "<img src='data:image/png;base64,iVBORw0KGgoAAAANSUhEUgAAABgAAAAgCAAAAAAtNefkAAACR0lEQVR4nC3RS0+cZQAF4Gc+XhgGhhkylcJMuTTYUg1YtYnaNBGb6MqtCzcmTbrQhSYu/Av+BZOuTFy7tGHVRKUKMZqAAkGljYUWaBkuQ5gPZpjL5wK258lJTnJSn84tgy/HS8nB5Ojq1+V77x3f+0o4rgI9pd5cvDT7w/xIqv1klbBbBv351/d3X8zM8vS38OBbor0Y5CfSuebKLGT+XusmxJMbfamwneuvbszNwPgbtcFrC0KreTO0N8uNarHy4x5Mjb20ONz+M/xzuTXG8knvxeoa+HDEzUpUizzJXhkO1hsqFdBk4d+hC4Gjw+NtugrZs919fPdo+mpEtrc/x0UDZxCxdbgvsBXv/E5K1NmAhFNDQxFd3eke2l4pQrbIy3rfimg+2ywz5dWrcOs2UU+pFtHRk0WNKzAY6DxeXo0Yn8zjlAxUnrLn/jeBx5m/cJLThqkROydUvCPdC3tJcgcWkmd3v/hkQjSqHiNfoAZFMz+338wJ3xudaB0t3UUWfvko3TfUWhdoDCfN9ghi2FEr5nNlUYftlUZnMcv8Q4ilOgr9RH2IdmqLVQ82YcXorfevjwmBtc7T/fjX0QVQ3i5+VnBjPezSSvoqI88P1kE1k8kxIKD70sB0f/fRJqjv9sR5jwTUb1x7rfbT/AtQSCdx/ngbfPBHkvz37tlNPj+qJ8kcAft56svnMJ493OjeIkJzCQfnUFJ+3lk7azw+IX2em1aIK6dEGeKHiy5/jMFLlOS7sheImtDi9nVvL9/PpBo6SgMV/gc1GN1eZFtaOQAAAABJRU5ErkJggg=='/>"
      ],
      "text/plain": [
       "<IPython.core.display.HTML object>"
      ]
     },
     "metadata": {},
     "output_type": "display_data"
    },
    {
     "data": {
      "text/html": [
       "<img src='data:image/png;base64,iVBORw0KGgoAAAANSUhEUgAAACAAAAAgCAIAAAD8GO2jAAAFGUlEQVR4nGVWS7LjNhADuin7JXP/i6RytLEtkWwgC9KeNxmWFiyJ6i8aIP/5518AtmDZkuacU6pygciIzHa0O5lGSJjlsmzLkszgcT+yMWDVuK5uqR3H0Y7juGVkwx+LBAmuPdbGgG3LKNUslUoSgGxpCw7Dtg3vzXs12dhWliGQJJkkAAZBGAZWdupjXmNcfUhqLW84WIEAIUll7VCkmiW6LaO/wgeDRIYNwJ8MJFV5jLqu/jyvx+sE/NdfX9HikCQGBZoBmIZlzypSDTYAwYAJMghHYkW9PsJ2VY1R1zWer/Pn4/Xz8SAjs93v9jpEkMyWsMMAZMHgOwPtQwAjAoBhWzBsSK7yGPM6++vxevx8/Hw8W2s/fvywTO+2gWgREChDlg27rcobgGU4CAIkjRD2MZguz6Hr6o/n6/F4ns/zdr+pCgRjLZAEDNowLKIAtG1f8upPgBnLAQzDFgCoUFOjz+t5nc/zOi+SVbJWbQEDRARhwJBI2HCDFq7KFrxP7V/MhTu8kVGzxtn7q48+2nFI62fIphU0kQwCgmkDhfaBp22skyuY9xy8m8M1aGNqTkn6H/yWJ8K5kBhw2HYzZRiEScgCZKdNIwoqwgADAJFAyCgbzGAjc73Ep3HcSKRDy8HvUWAF9i02E0FEBjNbRhoEo2Ue7chsEZGMQJj8NacbNZB3iUgGaYPvZL1xagIR2dJsrbIdGdkyM/O43Y6jZWuRyaDfQdm2aVsllduHfAAswPyxgmyZbK211jKzRTtux+12y2zBWNSyDEsiCVNVVTVnNVBvjiMX/5BkwDZid4ABRvLIaBmZLZcnkP7WYrvKMhmmZo0x5qz2MW1YOxEIe4aBID8Pg5ERufYRmRkRkkoLhKg1F8acs/c+Z7XNnS03wUuLZqHvDjanGmYEI2wDPlq2ZGlgOtvKW5aqMIZ6H2PMN4q8q/Sr8gtvERGxarcdr2bJkpdcqAp0OFYjVNLQ6OM6x+ijfRcHVcGOCDIAIAkxyIio8htekAFJVTWrqpib0ve0S2PW2efVx7hmW0O7P1pLylazgTBpoFRVrveaKtJTUxp20R8BhOwqjVG9z/Mc/RqNG/sAuIq71qdcsjVn73VdV+99zF5zIDBrTle5CAJB5KIvCTXVr3me13VeOwPskH9bNmSopBp9jKv33ntVyWWttEoWmAsKy47srX3nOM/eBC7+AGCUAW1iog1Js1ATfYw++phTC0Bbh2SJzMyPA9qb2M9zPp+zYeuiP5cCfEvGhq1ZHnOMOaamYZKgSQACN5b2UIISxqzrmq+zv86+FG01XyqBdCyGI3ZilKpKo2apCEfAGczdJr5h8RbX6mOc/TrP8/U6l6Kh1pS97xAEGcElGnRJo3YGQiHZWrSjRQZie5Atq+QxdfVxXtfzdT2fr0ZIsCDRizQcdJIZNJciV80x+ujX6H1UAT6Odr8d2VpEIsLBgkuaVWPOs4/nazye5+N5fvSAQABLW2Lz03u0bS12lEQiMo/7cbvfjpaZi0rfF0+pSqPXdY3rGtfZ980uGB+47puj186gYK1+RvI4Wh7x9XW734/WWkR+JmbBuuSqqlmzz9Fn20Yjc11cVgs+ksZN3pFxHPmlo91btvy634/jaMfi083GMNe/C3vraasgybBhaNOZaK0KOSLyaLf77e/6areGIDOicalPywxGLGECw0HHvj7TpN8Z/KLU3xR5USqT0diOtsSNQdMZEQy+2/W+yr5tcT//AcxC7akHqz37AAAAAElFTkSuQmCC'/>"
      ],
      "text/plain": [
       "<IPython.core.display.HTML object>"
      ]
     },
     "metadata": {},
     "output_type": "display_data"
    },
    {
     "name": "stdout",
     "output_type": "stream",
     "text": [
      "1 (32, 24, 1)\n"
     ]
    },
    {
     "data": {
      "text/html": [
       "<img src='data:image/png;base64,iVBORw0KGgoAAAANSUhEUgAAABgAAAAgCAAAAAAtNefkAAABwUlEQVR4nG2ST0iTcRjHP7937941Z1N079xobqXiPzCQJEHo0qlIaHTxFOGha9euQUEHrYPHEkETRCpQyJN6CCvyEJ2KgqKgWsXY0LTltnd7Ovz2Osf2vfye5/k8z8Pz/HiQJFoTc5c5IiUKgGs3B1aff8QOD4/5pu4D5i+d0NuN/+9IS2d8FO5dHwDzjQaWxbAZarX8AP2AuQvA2dNgx4IRnfUBMGcBzkwYLz4tpE5eON+eLxSeLbgTnFvemAlRr5ZXItlYA8AlEVlP2vUgKSLlH+kd+bM+VgMeSVVRvTcmQIbS26+qLaZ6YPwhwGD2aOGV7d8itwEY6qtp+W5f5HXVjT65VbEWHRHpOgQvRSQBwLSIrOlgk55VtnUrkaURDZRBEchNAzAIuewhKOfYvPrY7dvq169lkHKI9wNwF9jdA8BwoKMgIj/XHjxNi8j8RV1gHAe2qv9xJ+G2PAZE3rvxSHU5n76RyZ5v35sPVtxowCn5aSD7RiIQbgTwWKAaEkMZ9cDXdBAs5jym6zqliuW1vKannCcOXqCz5hTCUa9hn6AIodgpIOCrgHypWQXLdKT+0RVKf2Gczyq/k4HEfuY/+b2rqmXwJKgAAAAASUVORK5CYII='/>"
      ],
      "text/plain": [
       "<IPython.core.display.HTML object>"
      ]
     },
     "metadata": {},
     "output_type": "display_data"
    },
    {
     "data": {
      "text/html": [
       "<img src='data:image/png;base64,iVBORw0KGgoAAAANSUhEUgAAACAAAAAgCAIAAAD8GO2jAAAILElEQVR4nD1WW4+byXE9Vd3fjeSQHA5nR9JaKzvIGv7/7wYM+MFGgCCwA8QONpFW0lw4Qw4v3/3r7qrKg3ZTqOc6wMG5FDXaz8DWh/3D4W//8d9//bf/+vj52IhMpOu3yw8/fv/Dv9z99oe3H96/u9msyXC+XNq2bZtL03Rd2/V1c349ffr06X9/+vjTP/7ZXBpTePbOOQBE5L35FGIc4vnUH/Z124wJiCqoKJ/ns1V5vV1+d7fZrBcFkSPkq/l2UendRlQtaRymw+64rZbZROO+24Vd17YSFWJKZlBvymHS+ty/vJx2u+PheO7GpJ65yLKZyyufl1mWsyNzEFMtmECeKXMgAtMc134Rj1330uw+Po3HITVpjCM8ESkseccuJu67dL4Mp7qv+2lU5aLKZ2U5r6oyL3LvvXPEHmyMDEwEApMRxJAoS36GcumvSimy5Jw6VkdmYmqafEzW9+l8Gc6XoR9SVFJ21by6ul5dX6+uVov5rCydd2aqYmIRxsSeCAIZNDThvK9fHy71czMex9iJTQZRQUoWRCd///Vw3J2+/Px0/3S8dCGBKc8W1+ub7eZmu12v12VeaEhtaGSIMSQIMfucMgRM9dS+dq9Px59/uv/5p6fzvh3aECeJEsM0BBuUgv/zX/+93rfPD4fD7nRshgjO8mK5Xm9ubrY32+VilTk/dkN36evzpbl0aRBVp4HHJvTHvj8Ow3k8PB92u5fLaZi6mGKKmgKmgEld8n/8019iJ3FSiZyMuKyq5VV1tdhuN7e3N29ur+cZpaburJcgp8Px8eGgKRuacHg4HR8v4ynIoDpJ0vF87MYk8Oxzb67KXYbc/Oeve5LMc+ZcDufIc2Iawygp5d4vZuUyzyjL1ll5vVwuV+tZ9djU03HXdK8pTvXL7tydBwJ7D+bKF2KszOKcqoOR+eNp8BSzrMhLYlKvrBbIKTvzjsjAQJ7ls7VfLVd3d2//8PsfL8f09Pn0z+XHUNPL/TmElghRxdiMoASFqamoGsyPQ2CnpffsrMhdNnPlLMsLLnJf5HnuvAd5IueYHJABZVaWmFULC/xyf3z89Bya2PfDEHtXqjooTKBRTc1M4acQfGEeyViQCWeclVyWXiSejq+IY+m5YKqyrCyLeVV5dt7TYknb28Xdm83dm+uh7ugkwynBMzkiEIHZyMAEeObkcp+VSnkSNiEBR3bWdc39vTyqQCV3blaV16vVu7e339/dORA7lDO/WpfLdZnPgFqMopEzEiMFjI0MIKifzSi/cotlXsyYC55fZVerYlZ5Juva7nI6tXWtqkVZbjfX3dTfbLdZxswoZ265KhdXntw0pSZhVKGEEGgUBEVUio7U5znKys0X2WI9Wyxnt7ebD+/fvX/3JqesOzeXw/54PF6ajn1Wd+38qjjXdbFee3ZZzrN5NlvkWUnsIjlJIsmCcBCKxglIRPDMIXOSecyr7HZz9cO7mx9/95sfP/w2Y99fWm82jVOI1ofUD7Hrp27o5aoCVcPQnup9N1xg0WcoCz9Ico6UCQDYjMmx+SzjPOPcU5H7zerq/du792++u9ssM0Oc5UN7d65PQwjnZqyq0jkqiix3vq0vD/f3h/2riIBomqYQRiNRTmZCrMYGqIhyTDL2UxgmSlI4d1WUqyrPIYYhhYvpJeO+cKHM4qywsvDrxZzIxr5r2qZp27bthxCMHDsPYoAIBBCMADZiPwwT2FdDSJMgEYPZjKEq0zhcwthAhqoQx9n15urNZp2Tm9qhPrftpWvrrm7aoR9FNIka068DAwAC2I99ULAvukvd1U3ftMM4BgDsXFUWm/XV+3fb2awU86vl5t3tRsZwPlz2j6fjS30+Npdz03VTjBIksQfIAABETACTwcdRggwKLqpy9/z6sj8d3mzv7rYzLvMFF7/Jrlfrvp9UOfNlxmV7qHdfXr5+2j18eXl+ej0czm3XC4QcG6mRgUEEM4CIAG9iQUTRH/anh/XL7ZfNarm4Wa2/u54vcj8vVqWbp5lASSMup+Hzxy/3/7P78ml3/3n39Lg/nc7DOBqRz73QpKRGqvyNHwPgGXBMKmi78elpX+aFxCRj+vD29vvtpnKsKSEpCU1DenrY/+ff//HyeN7vzvv9+XRq+m4MKZBnc2pQIzOyb6d/+SpUJlABsjCF5+fXYQzHw+nx6+5f3929v/tuU82dmExRptS1/dP98/39c1NPXTvWTd+2XZAkUCIFqZKCjH7FcGYE8+PUaYyQQon7buibYbgM42UcX4f91/N1NecgqQ+UTEJ8eXltm34MoevHpu3rrh3CCBafsS9JoigSWBhKZkYKg3fOVGOaxCgjX5CSBOma6VP79ML7hctKeE5qU4whjv1Ud3VKKZklVYP4nBJZkDCNk3EyJKgQhCBmgJqHBKhTwMiYWIlDR6/9lMMPnA9ZUbF3SeMw9m0XwySWFKpkQhCYUFJEsaAizEokIAEEZoCCzJtGMvVwxgKNGhAhRkzIgzevCvKUNA5DN3QhjlnuvgWykimpsYAFZOwMpPil0MzsF6t5gjjHnpjYGaCayDTLSlZRs5CSElPSqOOEIWEy80RmMIEmUiPFt4UQDFCYEWCgbzryjkAEn7FjNqOkMFGHQMQCSt+cY2mycUIfMRWUw8xgSU0gZmKqIIVpWXgiwH4VKdhgnsEMeDOGEsOB1EglGMiI1TERq5PkYuAQORR58f/8GlRNVZNByKDmGcTwBvuGombeuwwAVGGJ2DGImD2zKlQlaRImI9MMbuaRgBxkLCpE5I2TqRmxOag5OKe/pIQRhMyA/wPwd/vNdqYfCQAAAABJRU5ErkJggg=='/>"
      ],
      "text/plain": [
       "<IPython.core.display.HTML object>"
      ]
     },
     "metadata": {},
     "output_type": "display_data"
    },
    {
     "name": "stdout",
     "output_type": "stream",
     "text": [
      "5 (32, 24, 1)\n"
     ]
    },
    {
     "data": {
      "text/html": [
       "<img src='data:image/png;base64,iVBORw0KGgoAAAANSUhEUgAAABgAAAAgCAAAAAAtNefkAAACe0lEQVR4nE2OW0jTcRiGH//9PKTMTVObkabTPGyiLlimYmGaIJomSKXiRVF52YV0oi4qhKTDTRdRN4IdLlJCKspE09CmYploVtpm5HGmm6d52FL8d+Gs3svneb+XDwCKZbkuJrz8fOl7WZavaEjQIKEHMqDXTZG2b7wbSMuMyz2gFBjiHhVoaX1g2TO/ZJSWojz8kiJKlvcKenZER0ZNPrfws6ve2dTEtixNmLeHACJKaoZrEwAdG8npGm47LcHQSljoxAAw4BKvujta1wWkp4Xz2gno+lzG5lD7Se5lp9J9njYAXKzP3BAKmzlWRGUW8vgSAHNFaj0A67Y5SQpOoPfqGADdJLq2HL+9pLDdlA+5FiAegOT1Nou0yrLR1QuESoCkJH3SrKRceOtwiULIvgmUcVa/IplH5pQb3OPNjL26Cq6fgGynm/8Za1VmfrijvdnsOQ1w8r47LN8ANRgeWpo3H4JrC7LcqJaYBEOGOmhrwKZ40sHY60lB6EHVBTWqI1PNPX+PfiwgERcZ72S8XTpUkb5BtQnExyBQeCz1txi/WKuTA2tuA8ieqPKfAUKbddQX5WdZtlUC+N+VZfmygDVTUEDBolcs+O8EmDGWqggUwKqheLt6egtMvAOg86XGfUoAwp4IQWB+0QmAyhrcOyhQaOzeI6HQOLT4yQQQcTjCNNMvHavJmTc2sXinfjQ8JRXg+Lm8/aODwhCSUmszfjS1OQlw2gF0vnwzIRr8TDM2MwBWAEJahP+YQNhuzdv4l7xfs+t9yok1xK46/k/W99HoYLvbGKKi37QJUxyT9/It7Z4q6wcTQpvbbB3HPTVRV+TDVy3Buk7BLPwBGl3qGnj/WeYAAAAASUVORK5CYII='/>"
      ],
      "text/plain": [
       "<IPython.core.display.HTML object>"
      ]
     },
     "metadata": {},
     "output_type": "display_data"
    },
    {
     "data": {
      "text/html": [
       "<img src='data:image/png;base64,iVBORw0KGgoAAAANSUhEUgAAACAAAAAgCAIAAAD8GO2jAAAFgklEQVR4nFVWW5IjuQ3MBEBWVa/vfwt/Onwt2zurB0kg94OlnjajIiSFJJBEvsB//uvfEChBElAEVFCFeUREBKQ1xhgzMwFQAODRo/dwJ6lMQKDcQaKqMleurAKEgAQB2q+iGWAAQIKEUKXMqqoqkShBCSnFVSUzOgCCAEkSZlSxCBIAAqW7ukpGI0lD0WgQa9Vaa4y1VlYVQJXWKrPyWRbmYT3c3dxJ0oyCJFoRkITQ7xtIBZRAAISA0socY7zfY60llcS1ao4pmLt7RG+RRxw90L0cJO9eAyqVFPheIiSlYCQhIbPmXO/3/Gwglc25Xq9XlmjeWuu95epQN2/rxkhSSdp9Dd7VBYLYhYs0QFW13mu81nivzJRUmXOs92vMuSREeD971UWTB42ASJOqqlJKqe4bkLx3ohGEkKU51/M1no/Xe7yrRFKyLFVhzpxzuTEz6dZ6HLOF08yMALHBJBmSuPEnADOaxKzKteZrPB+vx1/P1/tFWrQWYe7R2vF6zTGmbZ70tq6euTKR6TQ3o4dJ4mLYzUcSNJoxCkrlHOv5fP/11+PXr19jjIh2iG7NPFozs3cVViV8nZmVVaUqVZVE0I1mDqCCwOchaaShMlfO93w9x/Pxer1ec84qhTcVPNwiWjSjL6mK2KT51tLvUgXyBwZ7GbRqzTXnmHOsudasXHKTJBJmRvPe+3FcsHdrFt7Cw32Tb5eDiAKyftIUWw9VqFSmqlQ3XN8Pzd3c/TjOr69lw9zRPsud5gDvjqhUld8biARREkoJCgTNWo+jmjtbaxHN/d7q6P2PP77MYFbnefZ+tHZ4yGxTnLdypZAEqHSTSCQoc/Yj/tDVmp/nMeYE6GYrU6+nxLVyrozw3o/zvHrrbu5G8yJv48osgLFFBqik7VIE3HlevbWW5znmfI8xxpwz5xyvmWOutYpm13XGfTMnaVsFwqrtXZIQsJtC4L2NVGakRTgyio5SVeaac87X4/F+PkYJrTUz9t5qHZVSfWhUpZIAGSHENvhvf4PkDjPfrcwsGrbuV049tdZ8vR5VyDwi4jyPtdY+rESUtO2TN11DqhvinSTuNCNo5oStVQCrSlBljT4f/pRqzlVC77t6SbU9DpBgoIgy7Dygvmm6Dd3MyB0kNIO7tRabEmvlHHOMUf97zFwr56oU6vf/+R1Vt7fF/XZrkCB1GxOB+240s96b0ZSo1Koac40/H6ksVUkFYTuNoSRKhO7A2bjzo4/MktIM9m2vpH+WCpk11vzPf/8UUFVVmZmZlZIMNJoM2o4NSQHxVjEBcH9F2jYUdyOxb55Z0ar31lrziDuChdvltJHmt5IBAopM3Z/u/u2GCYSZAZtRWzsF3f3YhkwH/Idsq0o7tIj7sdhWuEPmMxoYRBVg2NEGKLPmzDlzc9Ldz/M4jqO35hHmRlLkjmPhN3ECN9wUYDSjEZRQVWulGao0Ro4xx3vOkblKUmtxXdd1fZ3XeZy9teZud68/a3ck3IP7rNutzT7AiSwiM2uMMeeac2UuQO5srR8Hjus4ruM4j370aOFuG3hJEAmnIYg7RPfsJHHPE/tnlVprzTnnXGvlHpMyES2+wo/rPM6j995aePhPSd2xAERmEhR2AIFkZq2Va+WauSeX+Vm1au8d5/GPr6v1fpxHhPOeBQnQzFQQt6spqj4gkKBUlZlzrDHuU6+Vc67MWVUSAJrb0fvXdUXrrd+zgJGfG+gGoiToZtGGQKrM3O2ec40x18q19pBD0iPczGh2ndd5nN6iNe/NI8yM4q5Ze/AqlaQw83ueMEoE1s+INvMISgbC6eHh7hZ2Xtd5nebmYRHcg+nn2JJ+0JS0z1xkezD7Ud0Abbltw2geHm7uvffWGp1mW7kEgf/HeGv2b6eAxpQbBewrAAAAAElFTkSuQmCC'/>"
      ],
      "text/plain": [
       "<IPython.core.display.HTML object>"
      ]
     },
     "metadata": {},
     "output_type": "display_data"
    },
    {
     "name": "stdout",
     "output_type": "stream",
     "text": [
      "3 (32, 24, 1)\n"
     ]
    },
    {
     "data": {
      "text/html": [
       "<img src='data:image/png;base64,iVBORw0KGgoAAAANSUhEUgAAABgAAAAgCAAAAAAtNefkAAABwklEQVR4nGXSzUuUURTH8c9cJ3sbqcTyJSt0Roe0SAgMyog2IbQpKIjW0a5VbfoL2lRE1KZoEbQoQrJlQWBgBNUipYIoS9RSaChfmDHTelo8z5jS2Zxzz/ecc8/9cVMRGHvaP1KTaxh+OTju6IW8nW/SXStWT818nPXPHnTnVUo/858NUSUsSdQmPk/dIrhYjKKJ9/c6IGJW+kx94TKnz0Jr69fXmGFOuHr+WNzz9mZBPGCeElEUYeWJFk5GUT9cjqJD0nH53F08YQQybJQ+ly2Vt5rnNir+0Cx9SbYMVlEJRbYKDJVBNTX4/Y3qZQ/cRwom+LNMikfRGGguRDeEAxsXG/b6BT4NGBP6HrcloCmjaQXoMyzoaElAV7wxen0WuJKAdq7H0X7TZUnQWYw+bI7Dh9EuoYdGsG2NXAasa7dduEMH2IFRcDArJ/QmOqhjuFTeIidgEKS4H1+RpVYwqQi28EK5ZEpQ8hvs4UsMfkLQYBPYwNoYTLMgHOZdWa0fsSsSCXeXaPwpdt9JCZkkWf+vY3QSgfiTjh/ZnUpqnl8bKEifKvUkApUHdq/PVFZJ30qOjRXFQmirerXQebwmmx/xFxGphLO3VOPVAAAAAElFTkSuQmCC'/>"
      ],
      "text/plain": [
       "<IPython.core.display.HTML object>"
      ]
     },
     "metadata": {},
     "output_type": "display_data"
    },
    {
     "data": {
      "text/html": [
       "<img src='data:image/png;base64,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'/>"
      ],
      "text/plain": [
       "<IPython.core.display.HTML object>"
      ]
     },
     "metadata": {},
     "output_type": "display_data"
    },
    {
     "name": "stdout",
     "output_type": "stream",
     "text": [
      "7 (32, 24, 1)\n"
     ]
    },
    {
     "data": {
      "text/html": [
       "<img src='data:image/png;base64,iVBORw0KGgoAAAANSUhEUgAAABgAAAAgCAAAAAAtNefkAAACQUlEQVR4nIWQTUjTARiHn21/m0udOjaLjJwVHjQrlkozKQ0U0gqS8lBUhzpU9AF1MJEg7OPUpaJAtIMnzahsUkaGdOhDl5hpEpqZuTRzaei25r58O+gGRtBzeeF54f29/GAe/eVux7NyFnOxtvKOyMRvEdlLsT7ia9wiIk8LS+tEqvQ7929fCaCitjQRuHUSyNjX1J1mdamjgw0oZGtCGueZeoC+PsyJo4HM0mWeZvXStp8aWuoXzi6pqjCHgrr0bSiW4DSTD8J5/hJD/5ArhCVT7X1jDww+Ao49LwJaKduSND4bFY+eI7/uAojYgSyR1+eOV55KUHTuuIRBwATZQKfTZPz40mCKVbS5hbQDuQspPry9MzPDqP3RJmYAP4zNr947ANTjngl8QB/cBvhBKwCK8evQ94J2GDnguw8wmmEHyFElq2Kzit7ejDRnM+QBHFIv16yPtvsiPn9XaglQYVWHktasMyQbIa/xMBBkxZ6clCu7v5G+Ye3WGwNj7W6R0wAf5JOtQbwW0mIxX2gSEekHMIj4XU6xoUy6V53f6A9E0bMD4ARtxhSfrxqloMP1Thl5GKz2A+RfYnZ6sLflMUpAa/JWOMNPnaVrs+Fz/z2gprUsJqwzX7ifdIjUaQEO9nS1XF0NYG3sFGkTkWIADEMi4mm+1jIwJyLiELkOkADDsgiPJdJCececQ0RERsRtOxq2qvkRl5vqfvWF/xEDun/5eA2gtm7620dpNYAyRYwHg07GALNOZZye8sclTXk8fwCYQwAT6mIluAAAAABJRU5ErkJggg=='/>"
      ],
      "text/plain": [
       "<IPython.core.display.HTML object>"
      ]
     },
     "metadata": {},
     "output_type": "display_data"
    },
    {
     "data": {
      "text/html": [
       "<img src='data:image/png;base64,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'/>"
      ],
      "text/plain": [
       "<IPython.core.display.HTML object>"
      ]
     },
     "metadata": {},
     "output_type": "display_data"
    },
    {
     "name": "stdout",
     "output_type": "stream",
     "text": [
      "9 (32, 24, 1)\n"
     ]
    },
    {
     "data": {
      "text/html": [
       "<img src='data:image/png;base64,iVBORw0KGgoAAAANSUhEUgAAABgAAAAgCAAAAAAtNefkAAAB1ElEQVR4nG2RT0jTYRzGP++2ZDLXzFbMHIkhBFoEBaEXYWF0iQ7iLQsKz5VIRCF5saROYX8Q6mBE5C1IEqIOYlktklqFDc2Ulg2klNZQRs6nw7vfr9Se0/Pn/X553veF/8EEVupyl61bbwBMQ9uWQHng69KjVNHYfTsDQKf+otuOBIDdknT76tBnm0yUOvtuSWoBKOlLSlLKCU5KvQU6qHFJBwA8EJkc6HHrDCegw1KfpAvbLX+mc10ZyYo9kvrP3gHgpqBpZMiu+g5j0xdbYgBRILNQttOOpJSX1ATwVLB/cQTAB++iHuANwG8uedv5VijSLUkPAUJ5ZRel/kJQltBoKwDHpFeD+nLK6R7ZVw1A1RVlZrK6Ubzyzdn1flZJSbFVPm8lpeef9K2y45J0r8aRxiGfJKmHNTghPT9+uLSgNrv+9anll0FX9V52Dpz5KT12/QfuV3UlpenzBvDjPfpRygM+IPhrMvJiWOBtDm1orYSMDSoO5tPXxpeA5W3NuR+VMGCDQ1UmWDPvKcmi12Hfh1w9EzaoN0SOVKdDd6GtcSZcB5tsEAX8Meq2zm1spMJrYMoGc8BCsclFa3fMZuPxcAOjtm3R6b3uHfxAZ2Lty/yDP1bO0wXxbbHtAAAAAElFTkSuQmCC'/>"
      ],
      "text/plain": [
       "<IPython.core.display.HTML object>"
      ]
     },
     "metadata": {},
     "output_type": "display_data"
    },
    {
     "data": {
      "text/html": [
       "<img src='data:image/png;base64,iVBORw0KGgoAAAANSUhEUgAAACAAAAAgCAIAAAD8GO2jAAAG50lEQVR4nDVWya4kOZIjzbS4e0S8JbOqemYKA8xvzP//TJ86X8bmiyRjH+K1AAE6GUSaGUn+4///TyKUqIRw9YBk5jnnlFOdp1SyuXsi3WQ04+3669h3hVr03vsYY2i4m5EATAGAgqhQTwFJRpAkaJbczadaT8tpqnlZ5lqrZ0vF6AmUqN9T2fe9tf481nVd931vxw7ABAAGKgIgCQUSvp9sfUQLt5Rrnqfp4+1yOZ/e39+WWnN2L25uQ2NofJxP6972fb89bl9fv3/jyogRAwBDokgSEkAwUYAkBWmeUvEyTfV8Pv/8/Pj58Xk5X6aaS0klG4gW/ejt43w5+rg/7smsH21ft2579CBBQiARACQClkgCAuRmhE5z/Z//+vPv//77z8+fyT16v/++SSOnlLKlWupUx+jJzOs8ffpiqcr/2eN3v7bWB4a5iQbJjDAmACAoJJObnZf84/3yx+fb2/nUjvZ1u12/vh73h6RS/P3j4/PzY55qLZ5Smb24qDbaum3rOtBDkgBSFChACa9DRET2KMlSthHjOLZ93Z636/P+uF9vx3HQ0/PZtnX/37//UfMCiURKearT6XSqtez9GC1I0DBCEggkAJAZQASJaSpLnTLZ29HaJgxSrbXr9S7YvjaG/vrj51x76w1GMnJJy2mptfr25BAECcD3/UYgKbmfT8vH+9v72/l0mTGEKMdU2t4i8HhsvcexxTzNrY02eus7zQNw91xzqTnntHWAgzQCwiD5H4oAAO7MOaVkUBjhyaZSebb3y/q4bdvaFdZa7MdxHL5uK8xAttEjei45JQf1PfdUjHDaq8kSKGiMETGEMcYBEIplmWuZv349aplGayPk5sYkQRI0RAdIY0pm9ioPGCK+mbKAQgFERB+jrevz8bi33gBO01SnKQLuXqaZzjpNy3JyczOnJckEmruk3kMSSUE9Xh8FqW8EEASMMfZ9uz+fNc/ODIwYcbTWI9xZSq51mpdqzpTTzAVUkNuxjxF9jKH47m2EFGYCkYAA7NXxNsZ9XW/3Z82LZFSPrudz62PQUZd8Ps2Xt1OdsptZnUJqMSL2MdDbGGPgNZuAiACESGBAAI3i0fv9/vhVrsa67XCxHf3Y2ravpOalnt/m5VRzyaBF9KO3Nvr6XPd9347WeowADYLAIBlQeumEoBAYY92Or99XDZvrkSy3/YgYRvPiyzKf3095cnNEhEIRaq0/ntvj8di3tbch4XsFgnQDIokvNBQZQItxf6ztwJRbySVGlJRPp2Ve5vfPy9vbUrNL0XpA0Y6xbvv9/rheb/t+jD4EmAjh5RwSk6AXaSAERGjr7djj8JiX2ejJcs75dJov5/P5vDihwH6s+9Hvz8f9eb/d1m1toytCcIgICQLMEEym/yg3IWEojAwxEE4/L8sfP37+9eefp2WapmLh23as63q/7V9fX79v18fx2I8dYcY0xioyMiXKbB9y8CXX33on6FU3Jdbiy1J/fH7+9fOPz7d3UBrc2vF8bNfr835br9fn/fFsvQ/CLOVcUs/DB0jASQkKIlEgGAIIvXbPWEt5u1w+3t/f397meSY5+jiOo/f2fB5fX7f77f543Pdjg7OUbAUGdB27dplCJoNBinhNEd2kl1nTcknny/nj7e3Hj4/386WWooht2+73+/rc1q2t69ZaB1hrzVMuS07F1/48+t73HhgGezEeUCKF15LjZTtpmaf3y+X9/e1yOZ/Op2K5H12K0Ufbu7qmUovnEbNnr3Muc7Ziv27/uj1u6/6MAAGJkigmk4EWIkA3lJznabpcTufLMs3FnZKkMLNSCs9O+kveSeaaanW4hWk71uyJosbL96EIgokwyKhvkXVazXmqpZScndmhrlc50lJiSiklNzN3L1NOybqixZFyMjME49VPSgEaUkRAxHeY8amkZZnmuZZiyU19RIQbknkteXi4W60l1+JGM/NkHjGOBo2XZkYEjMlSdm+tJ8gAA+jG4qWUOtdpymXONadkIjtgMIcZXzDN6KSZpKFAxBijKwTJRIeNkIZEAEqyBBGigqIlS9lrKdU9mdNk0JCCDvprHZFLKsUBjRhggHIzRkAyIcEJYWCgk0wSCScZI3qMGIT4rScRggia0RhmQZA0qUcPCW0MGCNGP462H6MNBQwWkIQYssRE+iuCgaBMXePo235A1rMZSBmCx9F66wDdfN96AyNijAGzQBy9bdt2HE0hM3dqIF7xKL1MVXqFMG7t+LpezVhSpoMKEyHrI6KL9JQTAKdesdo90fwY7bmu+76PMcySmwNwmkkJgASKkvoY27b9uv5urRlBovdOmZmph0C3VEoeY0gao0UgpeTurff12NsYA3olVDf3AQD/Bt39+zZ/FjppAAAAAElFTkSuQmCC'/>"
      ],
      "text/plain": [
       "<IPython.core.display.HTML object>"
      ]
     },
     "metadata": {},
     "output_type": "display_data"
    },
    {
     "name": "stdout",
     "output_type": "stream",
     "text": [
      "2 (32, 24, 1)\n"
     ]
    },
    {
     "data": {
      "text/html": [
       "<img src='data:image/png;base64,iVBORw0KGgoAAAANSUhEUgAAABgAAAAgCAAAAAAtNefkAAAB6UlEQVR4nG2STUhUURTHf++9O36kNcMTmwhHqskPXmNEUgxISJBYWBASJbUKW7QIbFUEYoQQtgiE2rSK3LQoKGgRZIGalYXUUBS1sEWOTPMSZ0ZNh0Y8Lea9NwzOWf05v3vO/55zr0aJ2NtedlsvBT4vfgWIbCSRetT18vCZDcBeRTVk/YBqbMzGM7PaUPwOgG2gPTXTrxN7Ous2V8S/z1kHlrY4RdpsXXGXR776vkkuR/VL3C0CzSf3hyFhwi3zqtw/dHhkdGQ6JTJ//PRZIHgO7NVu9/Smnr42R7bq1FZYLliZ+/bGkTv1C9Dpgo6bvV0tedkC8tEzvpKdedF1cCtgvVPBVwMekFwqFTQNG45F9YvbazygUn/ejm1TQAOIfHDz90RkJVAGcE0UNLkgBlQurgNMrCEy5LXqF5l35FhhFzdE5Ml5d77CBv0iIg9C+UsET+E9bWYYUB0ArCUTAb3/aE+e+IBQ9wlnoqganDHik4CvCsi1f3kGQHlAJ7yjFSBnAZXVP/MVVX4FBMCZxnA9fxg6oAGkx4Hs35jj8U+xYKYBko9DTRPj1e+BfTGWLTUw1TYMgDH16dfLJYBIjHWfGmQ0X53M2M8FwN8Mdrzwd38r0wDA2gVMUyJqAL9WnKs9wkOA3cv/AUn1lsZftdZwAAAAAElFTkSuQmCC'/>"
      ],
      "text/plain": [
       "<IPython.core.display.HTML object>"
      ]
     },
     "metadata": {},
     "output_type": "display_data"
    },
    {
     "data": {
      "text/html": [
       "<img src='data:image/png;base64,iVBORw0KGgoAAAANSUhEUgAAACAAAAAgCAIAAAD8GO2jAAAFSUlEQVR4nEVWQZIjOQ4DIKXLVX3e2Nj/v3Cmu8Z2igT2oHSNwgcflKQIAiD5v//8FwCQJIkTt9Gx0ySBhJEmScAkiX2dgEK2HRuANEWB3geAJEnzOMb+6t8E4Kq1qgmABCGBAECSIBAABIidNgGQONxRnJjc32be7x8kSSYBktjg8xSeDYIiyKFxBRYQxEEEKMF+7PtxP1A0QEo6MD8/76Sk62FJjIxJMRA1REmUAHBfgB1AMdeqjrs7OzYAOGkgGpqHjtuYH/fbBmtnSBJkDB1zYmgnGNJGEUgMO+RYZ/3+/b2rf0O2cUQIDY7BMTiPY0o/Ka4aj+P4/PoEyUGKY5fIBIGRgBz//PN6Pl9HzQ0NASIAJZEQMcQ5xzyOsaEjcTtu8ziqipLmXFWJqcwxJYnUEKgY3SZHrb593B+v1/PxOJ9Pd81jDM7QQM/b+Pz6mCRj2yYQTgpARBxTNqovjmxSSBIVIsHQmHPOo2eXpHDXFrzBJKHJmez4BaJ7ddPuTbXXOqsKQM85xpAw55AGoOqsWt3d1V3d3ba9meQATXo3fNrltNOCSEqaB8/X+f3nz7lW20DG7vYYx5xzTGq0cb52eHfFHXfs2JECIjFixtPupC+VMiSpdPfz+TzPs9pAxuQY0hg+bn3cxpg2q7aK48T73cBbjgRIRswMjA0cAzqpVNzd3VVVVQEcJRqJxlCsbFH+MBPZkjRJiqQAUKIG54/wE1ctAOvZz8fzPM+1VnXjUvAgCQdOFEQgEREiRe4/QxoSKHBTYIz5b01Akqo6z/U6X+d5nudpb+iGiRZtI76MMQgACBDAbSPUpKIBacwxjjHnjk5S+02x3VW11qoqOxKHmKGNy2UZQRzbQRDQW+MEFV3t2IyZIkhQ0BBFOLn6EZAUNTSOeRzHcTtux20eN+mApW44rvb2ooAIEiTv1uwCFSgQAuRqtMtVfYns7QM/R9QghcBGt32JwHBg48f4AiQzMoiA6dCx81r1OtdrLZukwpTnSDoocBhAumHH75M2OqHjhgE6vCx8Vi3bVb3WVg2qqpPj46MLBOcxbvf716/Pz8+vj+MOaK0+13qeZ9VZdXYXidsxyZDZ4jsIJALnRs7pqvM8uzuIRM0pMgjnHHPebrfP++fXMW9dPleXXVXbKjbTNESYQCewYXC70cf9ZveYGvO4rVrLbq7yWsWE3AOTG972liUEkuw4eYO+ycEIADlAkSTnr19ftqvclVp1rl6Vx+OsNhGSHIII0aABAwC3ZW6DSwIYQQgCIknpGvSeX1+/7Lhtp8rnuV6nbbyerzCAqEEp4J5l+7dDVl8+Su7gO/mubwBCMO/3r2vRCKoyZ2nU83mS1DX1RZNG3Gm6vYN2u6rafjvNDz2JrS0Q0Bwam90AAduYHV35s28n2d63a62qLrtjOw6ACEGAKBsZIrLZhVnVF5Zgl2vtZzmJAySAu7tWkRS7O2utWqnqfePtqZeIfRW0ZYj5/f24xBJUeZ1V5bXO9lV9woKYZYdUt9datVxrxeC14SnhXnlEhLRhp53519+/Y7vdnapeq+08Hi+Xk4szCgG0A7DtWlVnr1V7kPxsLtsDNx2a6E6X599//U7c3Wu5VrltqytuOL2HUQEIqCDodlXXaneD2e3cs3BnQGKCSXe6Mr///PO2ii3L2JCGJL83ww4iSmTwM+nc2zW32+9NI3vmK7gGRjD//PlOfkb2ViWT3sN2066T7iZNIE4ub9gr8ybE3qzE9/Zp+DxPAvPxeL3Ze80m7BVuE3BLNkg6ia71GpIAJul20sllDCSDi4HnWl39f4xIh+xYXQh5AAAAAElFTkSuQmCC'/>"
      ],
      "text/plain": [
       "<IPython.core.display.HTML object>"
      ]
     },
     "metadata": {},
     "output_type": "display_data"
    },
    {
     "name": "stdout",
     "output_type": "stream",
     "text": [
      "7 (32, 24, 1)\n"
     ]
    },
    {
     "data": {
      "text/html": [
       "<img src='data:image/png;base64,iVBORw0KGgoAAAANSUhEUgAAABgAAAAgCAAAAAAtNefkAAACaElEQVR4nFWSW0iTYQCGn//ft3mYh8w0CWc6nfNQWhKdIyI0DyiIFiES0ZUUJXrX0W4M6iaFuokM6qKEIC8iyCRD0NAUMSt1CxXPujnneU63fV1olO/l88DLe/EqmcFhdZ2H1qsLDwBW+3DXbxFaXECNkEsRBhOTK2tjvSY5knWi9GPP4JAlrkJMG0Oz2vSjYd+buqa0KUdDyLYOO+p/IXQ+Q2oeEGEHvvpfS0L9YQOEbSMyGcAOwJOJdzhsAOqkv2aJf2kYJH0HgOrrG3L/J7CRZATgYFrlOKAWxm2KEinllxughs8P2IGyy+VRAOihdfXiaQT6hWagVmB7AJACc/G+hBa1H99nKBdQDMAeMHqXtQhlyW8WsoBFAIZwNTvMGQiNZmQNnMBTAHy3Xk2EF5XmC0eULtLCINx8CxB9amO8afrZsoJ/XHJ6EFWydnNtpZSyCtALKdSY3NXzeDdFGXC/ZoEV4bbrdq3lpToqAXhkwPv89XrmPjc6bVBa0Av38a2e5UtAkpSNYkPRxRQWjLqAM+WgXwJy4Q7ozHellKVgqvBJWbUXsMpPQHBOh9zapMnI2WosAXZfl7KabXFLA4LABBpubxcV5jFUTaiR99s5nseg+u3U0bydX8g0gxrgN455i9zLASDgyEMihLPDcKUHAO3VeKVPk599TsEg60SgMj1T3BayqE0ryNZ2H1aNoTOuOTcflHBfbNF4+DFTInhWnLGeNcY6fzbal4XONdXavv9kIgu9UzPRsaPWfnv7wBQIxeO0zH9rCXK96R1JNrZYumcVvKAVis/tRLFuzL6EwJX6v+c7+wcDJfP/T9JidgAAAABJRU5ErkJggg=='/>"
      ],
      "text/plain": [
       "<IPython.core.display.HTML object>"
      ]
     },
     "metadata": {},
     "output_type": "display_data"
    },
    {
     "data": {
      "text/html": [
       "<img src='data:image/png;base64,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'/>"
      ],
      "text/plain": [
       "<IPython.core.display.HTML object>"
      ]
     },
     "metadata": {},
     "output_type": "display_data"
    },
    {
     "name": "stdout",
     "output_type": "stream",
     "text": [
      "2 (32, 24, 1)\n"
     ]
    }
   ],
   "source": [
    "grays = img_prepare_all(proc.X)\n",
    "y_inv = invert(10, proc.y)\n",
    "Xb, yb, X_inv = img_select(grays, proc.y, y_inv, 40, None)\n",
    "for (a, b, c) in zip(Xb, yb, X_inv):\n",
    "    img_show(a)\n",
    "    img_show(proc.X[c])\n",
    "    print(b, a.shape)"
   ]
  },
  {
   "cell_type": "code",
   "execution_count": null,
   "metadata": {
    "collapsed": true
   },
   "outputs": [],
   "source": []
  }
 ],
 "metadata": {
  "anaconda-cloud": {},
  "kernelspec": {
   "display_name": "Python [default]",
   "language": "python",
   "name": "python3"
  },
  "language_info": {
   "codemirror_mode": {
    "name": "ipython",
    "version": 3
   },
   "file_extension": ".py",
   "mimetype": "text/x-python",
   "name": "python",
   "nbconvert_exporter": "python",
   "pygments_lexer": "ipython3",
   "version": "3.5.2"
  }
 },
 "nbformat": 4,
 "nbformat_minor": 1
}
