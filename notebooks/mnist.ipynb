{
 "cells": [
  {
   "cell_type": "code",
   "execution_count": 1,
   "metadata": {
    "collapsed": false
   },
   "outputs": [
    {
     "name": "stdout",
     "output_type": "stream",
     "text": [
      "ready\n"
     ]
    }
   ],
   "source": [
    "import sys\n",
    "for p in ['..']:\n",
    "  if p not in sys.path:\n",
    "    sys.path.insert(0, p)\n",
    "    \n",
    "import os\n",
    "import pickle\n",
    "import random\n",
    "\n",
    "import numpy as np\n",
    "from scipy.io import loadmat\n",
    "from sklearn.datasets import fetch_mldata\n",
    "from skimage.feature import hog\n",
    "    \n",
    "from digits.common import fildir\n",
    "from digits.data import Env, Loader, Data, invert\n",
    "from digits.explore import img_show\n",
    "from digits.images import *\n",
    "    \n",
    "env = Env('..')\n",
    "env.assert_ready()\n",
    "loader = Loader.from_env(env)\n",
    "loader.assert_ready()\n",
    "#data_home = env.resolve('data')\n",
    "#fetch_mldata('MNIST original', data_home=data_home)\n",
    "print('ready')"
   ]
  },
  {
   "cell_type": "code",
   "execution_count": 2,
   "metadata": {
    "collapsed": false
   },
   "outputs": [],
   "source": [
    "mnist = loader.read_mnist()"
   ]
  },
  {
   "cell_type": "code",
   "execution_count": 3,
   "metadata": {
    "collapsed": false
   },
   "outputs": [],
   "source": [
    "proc = img_prepare_all(mnist.X)"
   ]
  },
  {
   "cell_type": "code",
   "execution_count": 4,
   "metadata": {
    "collapsed": false
   },
   "outputs": [
    {
     "data": {
      "text/html": [
       "<img src='data:image/png;base64,iVBORw0KGgoAAAANSUhEUgAAABwAAAAcCAAAAABXZoBIAAAA/0lEQVR4nGNgGHhgPP/vfCMccgbv/vz58xa7nNnjv3/ev/xjyYYpxWXz4M/fP6dC/vytgggwIUnOPCDDwMBgxHOQQRdD0tibkfFQKeOL85OYGLG5ZTOPd6UoA8Pfz2gOVlv69+WFEAj775+lKHLsm/58cBeWgUkeRpG0/PPHHs5Blzz2dx+C8//vEWTX+hj834SQ/Pf/ArLG0D/PJOHWt//dxYMqeR8u1/znoTsDquREKMtg6Z+1DKgg7O9DCKPo3d9FaHIMoX9+TjKQDd308O/95RaYkn/+PL3+58+fI03oUgwMMsf//Pn758/LiZhSDAwMkg1//v7pVcUqR1cAAKxwbkTVIzd2AAAAAElFTkSuQmCC'/>"
      ],
      "text/plain": [
       "<IPython.core.display.HTML object>"
      ]
     },
     "metadata": {},
     "output_type": "display_data"
    }
   ],
   "source": [
    "img_show(proc[0])"
   ]
  },
  {
   "cell_type": "code",
   "execution_count": 5,
   "metadata": {
    "collapsed": false
   },
   "outputs": [
    {
     "data": {
      "text/html": [
       "<img src='data:image/png;base64,iVBORw0KGgoAAAANSUhEUgAAABwAAAAcCAAAAABXZoBIAAABW0lEQVR4nGNgGHig03K23YAVqxSj7rW3v18eFMImx2Jz+fefT+++m7JjSDEJeF37+ffXhapfB8IwDJZd8/HXn7+/XyRe/DsDIskEt47X1onn16G5DJ8frPzH8xvVKQJJb3+/m28Y2+vKr//7tDSKJH/Avu9Pd/iwCkmxMsj/fZuB4k6PM9/2e2rJMDAwMDBo/P28CCIKkRR31N9fffEvIwMDAwMDBwMDG5Ikk2Poyz3n/0CN4WT8/wvJtarOUrfPwuQYOBl+vEDSyc778/h5mLulbb+e24Ekycz25/l7aDjJRYbcWn4YWZL16vX/DAwMDAx8+gG2t1cd+o0sya4mCrE80E30xOwzMA9CzGIVDHp/VdBUU1WN8dgimBzcWGY31ce80kLfb+/Ye4sBFUjMe//n55cfX85WOEoxoAMmleoHf/8cb/AUQxGGBBgDM78MP+eHR29/Y+ijAQAAt2Z5v4PejToAAAAASUVORK5CYII='/>"
      ],
      "text/plain": [
       "<IPython.core.display.HTML object>"
      ]
     },
     "metadata": {},
     "output_type": "display_data"
    }
   ],
   "source": [
    "img_show(img_rando(proc[0], i=0.0))"
   ]
  },
  {
   "cell_type": "code",
   "execution_count": 6,
   "metadata": {
    "collapsed": false
   },
   "outputs": [
    {
     "data": {
      "text/html": [
       "<img src='data:image/png;base64,iVBORw0KGgoAAAANSUhEUgAAABwAAAAcCAAAAABXZoBIAAABL0lEQVR4nGNgGBmAEUqL/PnD8YaBgc/mziu2iOcvj/xjYGBgYIEoUSgT5TCactdKVfntuz/G7+7ee4LQLr70y9//f39+/Pzz79+/f//9vWvFANfJZuLFyfD/PwsPw48zF26qZf19+QEhycxyTpP1/5NN1x79//xJ3JXh2ZqHSA5iVbb4ceYOk4DIXU6zeLcHO2c9w+J0FgbFCe/frbCB8pmQJf//YRGW5ru37SY2SQYG2UhHhldXXmOVZLX1FmR4/4UBqyS3vBDjk8NPGLABjcXvfz0ul8QqJ9Ty4u/nyWqM2OTYqp/8/bvAgBWbHFP4xT//PqTyYTVUfO23f9+yRJmwStpf+/v3jBaKhXCFXAESDAzLn/zHKqnqxMvw//UvFMNYYIxHV3j5b2/8gSIJAFHxczcU6NVCAAAAAElFTkSuQmCC'/>"
      ],
      "text/plain": [
       "<IPython.core.display.HTML object>"
      ]
     },
     "metadata": {},
     "output_type": "display_data"
    },
    {
     "name": "stdout",
     "output_type": "stream",
     "text": [
      "7\n"
     ]
    },
    {
     "data": {
      "text/html": [
       "<img src='data:image/png;base64,iVBORw0KGgoAAAANSUhEUgAAABwAAAAcCAAAAABXZoBIAAABP0lEQVR4nGNgGGSAEYXHF6rz7enCr9iV6t5/9+a0IxOMy4QiyfKNT0AlzRS7Tj7flX/+vKjDrvPzwR1PGTgFsUv+//LsNcN/uINYkKTYlP/fYPzP8P8buiSrgJmnnNjXq9LSDP/QdLIL2CaZcTMw/TVk5kDXyW1e7gLRz87AwMAsIfb6P9wu3oC93//8+fPnz5+/f//8+fP9TJYYwiFBR7//+fp2Z1nVtb8QNSecWeGSG/78+bjMjUep8A5U8sMsHRaYnTwMDIcXMlW7y/EwMDxYbGgmzBN+5+l7qM4Tf/48ufDpz+8/f75eTBAzrn3y+88ScZjOB1qcEhIMDIwMDC27bn159ZzNQ/k63K/6665+/v7j14OZZgKMDAwMDNJBjapMDAzQyFYSKhb81f/mwdd/0ABn/cmABhjRBQYEAACGAYScHCnfegAAAABJRU5ErkJggg=='/>"
      ],
      "text/plain": [
       "<IPython.core.display.HTML object>"
      ]
     },
     "metadata": {},
     "output_type": "display_data"
    },
    {
     "name": "stdout",
     "output_type": "stream",
     "text": [
      "2\n"
     ]
    },
    {
     "data": {
      "text/html": [
       "<img src='data:image/png;base64,iVBORw0KGgoAAAANSUhEUgAAABwAAAAcCAAAAABXZoBIAAABAElEQVR4nGNgGGSAEYmtwcoszfL8FDZJZZ1wTiZ1pnupjzEk+U2jIjgv//r77++uw4z376NKhkxmO/Bp6zcJCyXlx8yPIiGCLFBJN54jUz4yS+vbqzApMAgzoEre/sZWwMykxPF4RZga01w0ydXCmmJveHZevXvYn4FhDYan5Jy17bkZGORf/p/MjsvjJR93qzFB2UxocrKBXFdf/MMhaSLH8uAvAw5JP6H7x3/gsDH43v9sHlzOWf7zgQGCh2qslCTb5le4JF1kHu94jUvSQvrqo9+4JLk4BDT5cEn+ZtDhQPIIC4rkw3f7zvxCcBlRJJUUn9z/xUAO8FhWKIrEBQCjV0pixlhqRwAAAABJRU5ErkJggg=='/>"
      ],
      "text/plain": [
       "<IPython.core.display.HTML object>"
      ]
     },
     "metadata": {},
     "output_type": "display_data"
    },
    {
     "name": "stdout",
     "output_type": "stream",
     "text": [
      "9\n"
     ]
    },
    {
     "data": {
      "text/html": [
       "<img src='data:image/png;base64,iVBORw0KGgoAAAANSUhEUgAAABwAAAAcCAAAAABXZoBIAAABXklEQVR4nGNgGGSAEUYrKshLiLNcu3/5tQjnd0Hus38YGBhYoJI8/Qq8P3++82Lj5n167yLz09vvkCRLjVfc//jhI5MwD6+ZktrZ87+QjT+yT4uBgYGBgZ0dSZAJSj9n42dgYGBg+PkTi+T1XwIwIR64ZpidlzQEGBhEzU2NDP9v33TuGark+7/C7DrhRv8et/JY5V7e9vAusj+VkuXWBShvOfTs1c+/arVKZyfdQbKbzfPb7ROhwhCOYP2VWShBJfvlYzScw5z+JwRZknX3H2Tu9vPCCK8w/N77UwxJsoVPmwUhyXDsqhCS5NF7wTJIkpenfmXgYYNzr9jowP3JwPB+IQODlNjd51Duh4/fkCQZGBgYOMy4IZJcmkpXzyEZy8DAwPCKO0CagYGFXcypmHPNB3gIQf1jnSl+8Mw3Lj2jr2t2/UCTZOCWFzHw03v54sr0WwxYABM3MzZhEgEA/99pnO9pCpoAAAAASUVORK5CYII='/>"
      ],
      "text/plain": [
       "<IPython.core.display.HTML object>"
      ]
     },
     "metadata": {},
     "output_type": "display_data"
    },
    {
     "name": "stdout",
     "output_type": "stream",
     "text": [
      "5\n"
     ]
    },
    {
     "data": {
      "text/html": [
       "<img src='data:image/png;base64,iVBORw0KGgoAAAANSUhEUgAAABwAAAAcCAAAAABXZoBIAAABQklEQVR4nL3QvUtCYRQG8MePxNBL0o2CUmqIwCUJGo1yCMLJhqaWKAInIfoPHByK2iKQcFJICCoXl7YaFFQIAyG4EIQUJdaNbll5fRoK4X6sdbZzfu/hnPcA/x8WbWod7HmRzV/ahsMZ8nHdFMU4SbJ1bGL9UYlkW+XdhsF6F29JtiuHVFO/G3TNFYp6gbfqwRms7/rG6RzJ56MgNsnET8netVgQ97VStow+QNbhTESQizvngN1jwKk5AflcHcCkH7miZqBvr8mrBQBwbjU6EZsGw2XWYwMA3POXLAU0NnGicH8MAGZPX5VVtwbjD5RCDgDju09MeLR/LKhcdgEYSiqsiboDSKQXGF3abrHq1F+nQQoIpyXyIqA3fJH5bIWdm6TfYI4CSVJJrhgIsPhS/Khk1kb0dQCAVfS5P5vXJn1/Ed+fdYRWf6tkFgAAAABJRU5ErkJggg=='/>"
      ],
      "text/plain": [
       "<IPython.core.display.HTML object>"
      ]
     },
     "metadata": {},
     "output_type": "display_data"
    },
    {
     "name": "stdout",
     "output_type": "stream",
     "text": [
      "0\n"
     ]
    },
    {
     "data": {
      "text/html": [
       "<img src='data:image/png;base64,iVBORw0KGgoAAAANSUhEUgAAABwAAAAcCAAAAABXZoBIAAABWUlEQVR4nGNgoD9ghFJMTP8Y/qJLskAoWV3Wl8xagoKSX188f/7wwWcUSYNCg39sLE+/8f96IS7zbNrCt8iSz7Zd/33u68O/opwfNUONfI6+RbNgcigvMwMDAwNP/ZNXsVxokrnXugUZGBgYvM9936TLjO62bS9CWBgYHPZ9vWTNii7HVvv7lIxM4rGfZ02xeFn+9JuenjtfdvhgkWMQKP/18unTBVbY5BhYQ57+vdugyYgQYUHYaZcmwsD88s5/bPqcd346d+XzCk0scoym6z+s8Ui89DhfAFNSbP2LHFl24f43h+xYMCS9H80QZ2Rg0D/5rVcULsgEpX/w8H39z8BwccWvGCFGNI2Mknd+5jAwMDAIX/kWzoSm8//X9b+q04QYGH7fYPT8h+7PT/38SQ3+D1//VX15EdO5THzOq598ev/i5iR2hGUIaWYReVkJ3ncXTmEJBlIBAGR3eaJZ3izKAAAAAElFTkSuQmCC'/>"
      ],
      "text/plain": [
       "<IPython.core.display.HTML object>"
      ]
     },
     "metadata": {},
     "output_type": "display_data"
    },
    {
     "name": "stdout",
     "output_type": "stream",
     "text": [
      "8\n"
     ]
    },
    {
     "data": {
      "text/html": [
       "<img src='data:image/png;base64,iVBORw0KGgoAAAANSUhEUgAAABwAAAAcCAAAAABXZoBIAAABVElEQVR4nGNgIBcwwhjsMoryYm85vp+59BddkpHfxkv0xdsHhmqvCt/BJVmgcv6xH44dff7tjG2a6kl0SfmS36XXfzAw/OH5dgdhJxOE+v6BkYedgYGBQ7PzPYa7WH0e7Cxy5GDgDODC4lqmAmcO1j2rb3B/YWAUeovuFUYDFRvdH7vXvIgKUrTHNJpB0n3y7dMrX8xVYcSUY2BgUkh/8+2jHQuaayHg3xfhv7s+TXTgwqo17Nx2M9fTz0slmTDlFFZdDWRn9Tv9vEkKQ44x5HKrGAMDi86uyxDvIuuXcftz8i0Dw58ra9kL9NAl1bVv3f3LwMDAsOGIqBQTmiQH07NXDAwMDAyvLrLKs6JJ/vhjHSDOwMDAqKLx9flPBqTgY2BgUIwL43r+68dvFf6/hyadRJNklTJ3VBKXEP52et2WRwxokgyMnEKsf358/YYleAYHAABHzGtb+3AVHwAAAABJRU5ErkJggg=='/>"
      ],
      "text/plain": [
       "<IPython.core.display.HTML object>"
      ]
     },
     "metadata": {},
     "output_type": "display_data"
    },
    {
     "name": "stdout",
     "output_type": "stream",
     "text": [
      "8\n"
     ]
    },
    {
     "data": {
      "text/html": [
       "<img src='data:image/png;base64,iVBORw0KGgoAAAANSUhEUgAAABwAAAAcCAAAAABXZoBIAAABLUlEQVR4nM3QMUtCURjG8f9Vs9TEFKyoLOUKBlHUFgWCFBi4thVEH6EphOa+RUtzIC0NaU0tNdeQ1iCogSlJ5TWvl3sboksdO3vPeH685zzvgX8WBcC/Hc7dWgCemFLSbXQBMJeuPmoA6r6ZrdnoAOi0A8kIAPFZXeE3GlipSQAaLX9QQO7aE6ODAOVGPCpi4UFfHVcApzcw7BKwdvmeWRwCxoJvTVNA8tWpjWknnoy6EHELq3B/pq7Vz58T6yE+rL7PSJT09tVJuWsYe8E+JFuoa52XimYcz9hn9srK0lbMW8wdrBQ3S/2jX9lt9nZ8Qls7p2Vz2Y0sN/rTvFNijvRr70IV7/uO79DSUo6/30TpmoRMCdLESknaol1jjcjQrBy18pI+MBBNhqX4I5+R9luDLsWFdgAAAABJRU5ErkJggg=='/>"
      ],
      "text/plain": [
       "<IPython.core.display.HTML object>"
      ]
     },
     "metadata": {},
     "output_type": "display_data"
    },
    {
     "name": "stdout",
     "output_type": "stream",
     "text": [
      "4\n"
     ]
    },
    {
     "data": {
      "text/html": [
       "<img src='data:image/png;base64,iVBORw0KGgoAAAANSUhEUgAAABwAAAAcCAAAAABXZoBIAAAA9UlEQVR4nGNgGFGAjRGbKAuEcqyTXf2CgfH7i5f3Xv1Cl3RREY75xcDPzcCwZ9f5M59QDZj58c+fP3/+/vnz5++fK5FcqJJee77DJX8es4CKQh3CKN7Dxc3FzcnFxc3G8NPrIIqd/19V8/Lx8vHw8fJxuyjYXPyAw1fc23+uFoUYyIThYxNNBqZv/7FKMkokS7zb9BO7oQJJz/6eEIVy0HXK2It8vfQah6SIFMPFbTicyjDl2+tKIRgHVSczhxT75i3vsOuT3vrpihcnDkOVnv6pEEVELYqx7EIijAfe/8eqj83m1q/T4kgCyDq5jZU+7HyLJAAAOYNTg4ea24sAAAAASUVORK5CYII='/>"
      ],
      "text/plain": [
       "<IPython.core.display.HTML object>"
      ]
     },
     "metadata": {},
     "output_type": "display_data"
    },
    {
     "name": "stdout",
     "output_type": "stream",
     "text": [
      "7\n"
     ]
    },
    {
     "data": {
      "text/html": [
       "<img src='data:image/png;base64,iVBORw0KGgoAAAANSUhEUgAAABwAAAAcCAAAAABXZoBIAAABQElEQVR4nGNgoAlgxBRik2T48PkfduXyjree1vNhl+M5+uTjn3PiDAwMDAwsqFLsYgH7mWR8p3/Coo3T/c7vv3//LpHAdAojt9/Lf3///v3lyYKpj9332d/vX//+PSMF1ciEkGMSLxD/tXopA8Obt//RJRm5bB3+Ppj4iuH/+j8YhrI5PvrzWFfy899vRpjOkZj69/dlrqa/v1bB5eDGchj6MbzrYmRmZPj/H0Oj+rm/H6ewCm3/+60IQ47D4/HfJwFsHn9+nZdBuB/qVPEgqb/vn4tmM/0+8Qxdo3DJ91+XPFkMfv37MokBXSebINuP8zuZJZkZvq1FSLLAFTHyaKi1M3xdfRbDPVIdf//++PDx9+fFwpghwOO17e/fv3//3LLFkm4Y+eJe/f3757oLG4oojGbnY2Fi+vv6F6ZGqgMAx014ceqtfssAAAAASUVORK5CYII='/>"
      ],
      "text/plain": [
       "<IPython.core.display.HTML object>"
      ]
     },
     "metadata": {},
     "output_type": "display_data"
    },
    {
     "name": "stdout",
     "output_type": "stream",
     "text": [
      "0\n"
     ]
    },
    {
     "data": {
      "text/html": [
       "<img src='data:image/png;base64,iVBORw0KGgoAAAANSUhEUgAAABwAAAAcCAAAAABXZoBIAAABZUlEQVR4nGNgwAMYMUSY+MUkhR/f+PyfgYEFQ9Io3lyA8XrviZ/oksyibjHGP84s+exhfPsZmoHuE06+/3M7X5yBwa7LjQFFJ5NdjhXvr20Tjv1gYHjCoYgqyWphx7Jnxv7PDAwMDPw/P6NKMv59snH1tZ8MDAwM7JoC11Elf288fevVHwYGBgYGCa0Pd3B5ntlmiTkjAwMDExY5RhFHiXP/cUiyWcTs/IvdTCYe6Rk9ggwMqA5i4JKzcpcW4Nv7LcD2A5oks7mZnaYYCzNr3O8fBo9+okgqOQaqvZ96+s37xPKLdwwu3/mDZKR4+90Lne5CTAwBF7dosfplySA7I+Da9jhpZgaujJtvAjkYxJpMkCO65Gg4FwODxoSHZ8J4GBjYbOUZkeyU+PBFyFDXzepg39k/DAy/DkNCAyqZFvb2k7zUm70briO5BKbziIKv3I0VR669Q3Yl3F4pW9nrp1GkBiEAAO3vcf3hKopLAAAAAElFTkSuQmCC'/>"
      ],
      "text/plain": [
       "<IPython.core.display.HTML object>"
      ]
     },
     "metadata": {},
     "output_type": "display_data"
    },
    {
     "name": "stdout",
     "output_type": "stream",
     "text": [
      "2\n"
     ]
    },
    {
     "data": {
      "text/html": [
       "<img src='data:image/png;base64,iVBORw0KGgoAAAANSUhEUgAAABwAAAAcCAAAAABXZoBIAAABQ0lEQVR4nGNgoAlghLMEQnW37MKlTGTx993iuCTZ4v9+VGFgYGBkF2OFCjHBJX9d/MPLycjAwO9Q4AiVZUFotfv5jYXpL0NOCZvG+dfodu74sUKWkcHw1p+9oTzodjpe/RvBzsDgcfWjO8wuuJ08dkKfP/xkYPj17TfbP3RJNXOBE28YGBh0JZ5xiHOjOojFUPXdzlsMDAzfGbi89F59+v345iu4JK+qzOlbbFJCxknSDPL/mP6+uHNk9VWYJAcLu0RstKCsmMD/z3ee/+f4yuHxDS75/eE7RVkGJmZGhi/rq14JS//mUXgCN/bLPnENpm/PD3zzTP3+nOHVKwbG04xwyT/XuhSYf3x+xaXFIsj8l4GB4f9fzOBnUr99QwLOQZP8d/+lMj8uSYZfN/6JMOOSZFj7ypQLp+SOxV9YMAQHCQAAdWxplUehnsMAAAAASUVORK5CYII='/>"
      ],
      "text/plain": [
       "<IPython.core.display.HTML object>"
      ]
     },
     "metadata": {},
     "output_type": "display_data"
    },
    {
     "name": "stdout",
     "output_type": "stream",
     "text": [
      "4\n"
     ]
    },
    {
     "data": {
      "text/html": [
       "<img src='data:image/png;base64,iVBORw0KGgoAAAANSUhEUgAAABwAAAAcCAAAAABXZoBIAAABXElEQVR4nGNgoD9gROYwcTF+RuEjc/hD+oVxSbJoeony4ZBkVAoXmPIAh/XC9XujUWxB0snq6Xxw3z8cGk0P7DBGE2KBMZSzZCpuMDAwMIiq87Nev/8LWRFj87spQgwMDAyGi4+evNAhhSKn/eSoKCMDA4Pqoa//Xm2+boLsMt6mD/4MDAxMsgd+v9pfZPwshQNJUvnAWSkGRk79vR96vSy4uZ7OYUZykKTQvucMXO79v0u2vPrHpPj7+V8kSTHG+/+Z5L0+1e/8ysAg6P39CHIgCHNxMvB7Oyzc8pWBgd0k5ORRZH/ys/xiENM8tekXAwOHScinRV+QJX9/+8b8++ODDwwMAu6+v6YcRgmhd3+5eZ5t/P+TwSzQ8ObyM39QJC98NNK9c+6PXJbXv51rbv9HDdsru9J4HzOZyH7duvP0G5gcPA0plmmIif5bvOXuy98M2AEzDwsOGVIBANUNdBBke02EAAAAAElFTkSuQmCC'/>"
      ],
      "text/plain": [
       "<IPython.core.display.HTML object>"
      ]
     },
     "metadata": {},
     "output_type": "display_data"
    },
    {
     "name": "stdout",
     "output_type": "stream",
     "text": [
      "6\n"
     ]
    },
    {
     "data": {
      "text/html": [
       "<img src='data:image/png;base64,iVBORw0KGgoAAAANSUhEUgAAABwAAAAcCAAAAABXZoBIAAABJklEQVR4nGNgGEqAEcFkFTDS/PXixt2fWJRxJizbe/3zr+16CCEWOMsl5eLBP3pedpo3MbXKHetWY2Pgr/64SgjT1PZTCowMDAyaX++yY9r4fREDAwMDs//f1whBJgjFrPH9NAMDAwOn0u9zGJI8dkwqjAwMDNyin85iSP7+xmvtwcMobGP07AqGV749uKXdc+aRgLHiym2YjmUJPv3jy8trj59lMWDoZPiz4aGnwMvHIUbvsEgy/L3wgO3zV7ffb7FJMvx5w8DAIPoPWSfUtdDY4RB/+RqLJM9Kc2YGBiW5A8iSMCD354o7A2PWV3NkQWhkM2mfYrp75KXjP5dfWHRyp/3+/enVzVgUQZhrv676HyZ2f9N6FElEGuKUEP5x7xsWQ3EAABVKYau8R6ZTAAAAAElFTkSuQmCC'/>"
      ],
      "text/plain": [
       "<IPython.core.display.HTML object>"
      ]
     },
     "metadata": {},
     "output_type": "display_data"
    },
    {
     "name": "stdout",
     "output_type": "stream",
     "text": [
      "9\n"
     ]
    },
    {
     "data": {
      "text/html": [
       "<img src='data:image/png;base64,iVBORw0KGgoAAAANSUhEUgAAABwAAAAcCAAAAABXZoBIAAABF0lEQVR4nGNgGG6APffQwSAudFEmCCVoZ8ooJ4AuyQKhXl+04ZGQ/f2H4TcT498fbH9//WdgYGBghCpSLghkfv3516/XrAyf7oq+23/+O5Iks6CVm/Z3AbY/bCx//6v92lbxBGEsw983u07xMXCysbKIGgaz/vz4G9lYKBDyVpdS1rx6YM3NP5iSrQFir69eOXj17T8MnZbxZpdO33vy9MM/zJAwPng2XJWbEVOCgYGBYeYXX9RAYkJiq7Hx/cKujYGBYdav23t6mXFIGn7893cNLp1sE/89tsMlyXfwRwE7dilG4YVvMoRRhKBhyyja/ErZceWyT9i0cWR//fhsogSaKEzn+2t8k1a+QbcJ5lIets9f0c0DADJPXFaJenfWAAAAAElFTkSuQmCC'/>"
      ],
      "text/plain": [
       "<IPython.core.display.HTML object>"
      ]
     },
     "metadata": {},
     "output_type": "display_data"
    },
    {
     "name": "stdout",
     "output_type": "stream",
     "text": [
      "3\n"
     ]
    },
    {
     "data": {
      "text/html": [
       "<img src='data:image/png;base64,iVBORw0KGgoAAAANSUhEUgAAABwAAAAcCAAAAABXZoBIAAABe0lEQVR4nGNgGGSAEc6SVWLnZnn54funz9//o0mymwfr8siIP/z0+/HhDffRTEg6/OHv379ff/z6+evj9c0pyuwInVzqHS4MLz68fyDIy8Ql9mC1i0neagYGBhYGBobQYAEuTYbXR46fv8rO+JeR7z3jvZ2XGaCSMtZSDAwMDCKs99/9Y2BgeMbAsJ3tF8y+nT/+Xr716c3P5wEcqA5hgdj7bJnMjxBDj2M/MPya+Pzvk15z4Zr3H+Uxda7/1qSUJH1Nhp39m8g77v/f/qGEEFdEoRbDp38C/029t+lKrL//GyUMJaIOfnxx7O3F1X/u7f53Y0lAFRdS8LFwGdv+vWD0OlSD58tvvgeK/xI3IWtmEhZiYJZSrZ4Zwx77+++XZgxXQ4FA6Z/3TdilGLm8//08rgr3ChzwSr/++9+q7//Xa58wJeUTXn3/bK7CeH/pG0zJT98S2BglPx9svvgXySswIG6vxa94bfLLfwxYJBkYROV/P3uNyx/EAwBRVJNhc6P4lAAAAABJRU5ErkJggg=='/>"
      ],
      "text/plain": [
       "<IPython.core.display.HTML object>"
      ]
     },
     "metadata": {},
     "output_type": "display_data"
    },
    {
     "name": "stdout",
     "output_type": "stream",
     "text": [
      "5\n"
     ]
    },
    {
     "data": {
      "text/html": [
       "<img src='data:image/png;base64,iVBORw0KGgoAAAANSUhEUgAAABwAAAAcCAAAAABXZoBIAAAAwklEQVR4nMXSuwqCcBQG8M8LXcgLjWJICZENtTQ19Sq+UUvP0IM0RWQQ0hQEjUn3LENN20rhf8bom845v3O2A/wkXK7TSsdbQq2O5sMWZWqYPMeZns9ilQNfI7DY4eA7BFa6PM4ugYIA+FcCFQPpZkmgZiJYewQaDezdC4GSiNgHG+WmgtedQNWSEVGXbR3YHgjs68DMY2N9oAJByEbTKgCPiI2SBGCXuxQ/VVRG6ixSMKNN4pWdH31/SOxZp6mHf+cNM60zcwE2m3sAAAAASUVORK5CYII='/>"
      ],
      "text/plain": [
       "<IPython.core.display.HTML object>"
      ]
     },
     "metadata": {},
     "output_type": "display_data"
    },
    {
     "name": "stdout",
     "output_type": "stream",
     "text": [
      "1\n"
     ]
    },
    {
     "data": {
      "text/html": [
       "<img src='data:image/png;base64,iVBORw0KGgoAAAANSUhEUgAAABwAAAAcCAAAAABXZoBIAAAAxElEQVR4nGNgGGSAEVNIRvXD1V84lPPWvlwhjMss11sPLZkhTCZ0OcFwuXN3/uLQGPL4TzAuQ3nX/L0hjUOONfPxiwIcckyat76uEsMhJ9P99wkuG9mcHnxcIIRdjlln1c+LjsgmIbE5TT3ebT2Lw6VmG/8eMUVxA4Ip6GT57uh1HK7xP/dukQEOpxqt+r7HkQVFCG4sh4bmz0On/mCX5NaVP7nvKw5TQ8+dDudGE4PrVJG5ew1dIzwN8Yj8efMDh6mkAwD1VjtOuBgYnQAAAABJRU5ErkJggg=='/>"
      ],
      "text/plain": [
       "<IPython.core.display.HTML object>"
      ]
     },
     "metadata": {},
     "output_type": "display_data"
    },
    {
     "name": "stdout",
     "output_type": "stream",
     "text": [
      "1\n"
     ]
    },
    {
     "data": {
      "text/html": [
       "<img src='data:image/png;base64,iVBORw0KGgoAAAANSUhEUgAAABwAAAAcCAAAAABXZoBIAAABQElEQVR4nGNgoD9gROExC5uy3H/4+R8WSV4Hfq0o0aNLNn6ECrAgSSZHsbP9fWDEcPTTfwxJ7yyma9uYXjvcfIdpu8GZXzNsmBgYOBkxpJg0N/95mYjD1byNX96Xq+OQVLnz47g0hnEQis9R+ubCVzg0ml/4ME+MgYGBgVWAlwPuIqhXRKR+v3jFwMAiaaT49cWZ139QJHmY/nxl4NHUMgiQ+/95/5R9aJLsGrkqqirMn67J8TrcQJNk5HKyl/h65uhZ4Tx9hl8MaJLM4gwfdiw7/jGc/f/ts2iSTAwMDE/X7f4tpSf85+EzVMln77kZGARtv712CRS+svISqj/FZ7z98+fvl9NbHv9+FM2BHgq2K69++fvnz5/Pd/NE4YKw0OBSk3PQVxd9cfHQ0ucYkgwMzNLK+qq3Tl78jm4o1QEAvhhuyXsTtewAAAAASUVORK5CYII='/>"
      ],
      "text/plain": [
       "<IPython.core.display.HTML object>"
      ]
     },
     "metadata": {},
     "output_type": "display_data"
    },
    {
     "name": "stdout",
     "output_type": "stream",
     "text": [
      "6\n"
     ]
    },
    {
     "data": {
      "text/html": [
       "<img src='data:image/png;base64,iVBORw0KGgoAAAANSUhEUgAAABwAAAAcCAAAAABXZoBIAAABc0lEQVR4nGNgoAlgROUKGBq83fQBxmNBkpE1YVP0UnzJuOEjmiQLj6mzuA6rgMx/Qa9jaJJSlua2Gv/fPGBhYPj76x+qsXJRQQpCzw4dvOqr8evsmpeokgKaooeO3b/9SlWF8f3+vV/QHBmQoc/NwGq94sPfPZYYPuIVYGBgEKl68+dJDS9ClAlCff7AwMCg78nPwCqlIwKXRPbnn98MDMK+Eud2n4QKIIeQgGeUIrcI8/ujC8+8+YsuySCgLiVpYqn67dr8ZZ/RjGXj/HmSgffEF3Fukx/3Dv5CcbB8VJ07AwMDu3n7hT/vFuii6FRL8OL5uJOB4efJBxw6vNrKlxFeYWDQ9lQ8C3Hl1y+MjAz/UXTycH98wSPOr/r/v6wNw9Pzr5ElJdT52FzUrwhp/f8vJPPr6MIbyJK/vv/l41UyZ+X4z8Dw/PzGc9+RJd/t5zAxEOFhZPh55c7Vfbe+o4YQj4CcpjATM9Pvy7fevWUYOAAAOyF55TpfnRYAAAAASUVORK5CYII='/>"
      ],
      "text/plain": [
       "<IPython.core.display.HTML object>"
      ]
     },
     "metadata": {},
     "output_type": "display_data"
    },
    {
     "name": "stdout",
     "output_type": "stream",
     "text": [
      "3\n"
     ]
    }
   ],
   "source": [
    "y_inv = invert(10, mnist.y)\n",
    "Xb, yb, _ = img_select(proc, mnist.y, y_inv, 20, lambda img: img_rando(img, i=0.0))\n",
    "for (a, b) in zip(Xb, yb):\n",
    "    img_show(a)\n",
    "    print(b)"
   ]
  },
  {
   "cell_type": "code",
   "execution_count": 7,
   "metadata": {
    "collapsed": false
   },
   "outputs": [
    {
     "data": {
      "text/html": [
       "<img src='data:image/png;base64,iVBORw0KGgoAAAANSUhEUgAAABwAAAAcCAAAAABXZoBIAAAA7UlEQVR4nGNgGPQgft3/RhxSQmW///69i1WKqfTp3784JGWW/f3799ldrJJs+//+fRUq5/S3B4tk0d+fLy0ZmJb+FcAimXq2iYGBIf7vPiYcrmVwv/fcFJccy8U/TVglLON41Hb8nYsQYITSrl6WDIYs1wQlGVTuo+lxOfzr78/3f//+/fv370p2VDnjz3//Hg6s//v3xY65n/4u50KR9Pn79+/l63//7jdjYFA/8xfVRSoP//79+3avIwsDAwND1defrCiy6ntyAuVhnLV/FXF5lIEh5G8hbsmAv+w45RKePWTBKfnkkSZuU6kCAAE9Yn6u0rxiAAAAAElFTkSuQmCC'/>"
      ],
      "text/plain": [
       "<IPython.core.display.HTML object>"
      ]
     },
     "metadata": {},
     "output_type": "display_data"
    },
    {
     "name": "stdout",
     "output_type": "stream",
     "text": [
      "orig shape (28, 28)\n",
      "hog shape (81,)\n",
      "values [ 0.  0.  0.  0.  0.  0.  0.  0.  0.  0.]\n"
     ]
    },
    {
     "data": {
      "text/html": [
       "<img src='data:image/png;base64,iVBORw0KGgoAAAANSUhEUgAAABwAAAAcCAAAAABXZoBIAAABIElEQVR4nLXRwUrcUBTG8V/ae8dJQk1EnAiRoaWrMhT3bnQ5dNlX8Cn6cr6GS0EUdCFiaWdqE9FF4jgVldn02xy4/3s433cOK2sdgqJ8ka0RhbGg+7aktPlDE+P2bXsFyYIkw/VL2AzlzVXzrHMwj+CmvX3fxOYlNygVwesq3s70j81ufLoPQ/X0OSNMbcDwsH8PEIJWKu79vL5GkmVmPQ4fwJe9H1WakmXfPy86Wy24OI7zOWaPXcsT7UsDTNXD10yjXjFkbtCvJFYwMaqeWL4lI2FHzdjk68Lt3yIv7n/zLrG7ecb5p4+nCxhiOm9ayp3qqLnn7mT27dfpXYczRSmnVsXu9tWB8ePQwiCHSnftymiy5HfQ19jX0Yo5/4ceAI4FNsBs7ICeAAAAAElFTkSuQmCC'/>"
      ],
      "text/plain": [
       "<IPython.core.display.HTML object>"
      ]
     },
     "metadata": {},
     "output_type": "display_data"
    }
   ],
   "source": [
    "index = 15500\n",
    "gray = proc[index].reshape(proc[index].shape[:2])\n",
    "img_show(gray)\n",
    "print('orig shape', gray.shape)\n",
    "gray_hog, example = hog(gray, transform_sqrt=True, visualise=True)\n",
    "print('hog shape', gray_hog.shape)\n",
    "print('values', gray_hog[0:10])\n",
    "img_show(example)"
   ]
  },
  {
   "cell_type": "code",
   "execution_count": null,
   "metadata": {
    "collapsed": true
   },
   "outputs": [],
   "source": []
  }
 ],
 "metadata": {
  "anaconda-cloud": {},
  "kernelspec": {
   "display_name": "Python [default]",
   "language": "python",
   "name": "python3"
  },
  "language_info": {
   "codemirror_mode": {
    "name": "ipython",
    "version": 3
   },
   "file_extension": ".py",
   "mimetype": "text/x-python",
   "name": "python",
   "nbconvert_exporter": "python",
   "pygments_lexer": "ipython3",
   "version": "3.5.2"
  }
 },
 "nbformat": 4,
 "nbformat_minor": 1
}
