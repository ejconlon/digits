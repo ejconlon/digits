{
 "cells": [
  {
   "cell_type": "code",
   "execution_count": 1,
   "metadata": {
    "collapsed": false
   },
   "outputs": [
    {
     "name": "stdout",
     "output_type": "stream",
     "text": [
      "ready\n"
     ]
    }
   ],
   "source": [
    "import sys\n",
    "for p in ['..']:\n",
    "  if p not in sys.path:\n",
    "    sys.path.insert(0, p)\n",
    "    \n",
    "import os\n",
    "import pickle\n",
    "import random\n",
    "\n",
    "import numpy as np\n",
    "from scipy.io import loadmat\n",
    "from sklearn.datasets import fetch_mldata\n",
    "    \n",
    "from digits.common import fildir\n",
    "from digits.data import Env, Loader, Data\n",
    "from digits.explore import img_show\n",
    "from digits.images import *\n",
    "    \n",
    "env = Env('..')\n",
    "env.assert_ready()\n",
    "loader = Loader.from_env(env)\n",
    "loader.assert_ready()\n",
    "#data_home = env.resolve('data')\n",
    "#fetch_mldata('MNIST original', data_home=data_home)\n",
    "print('ready')"
   ]
  },
  {
   "cell_type": "code",
   "execution_count": 2,
   "metadata": {
    "collapsed": false
   },
   "outputs": [],
   "source": [
    "mnist = loader.read_mnist()"
   ]
  },
  {
   "cell_type": "code",
   "execution_count": 3,
   "metadata": {
    "collapsed": false
   },
   "outputs": [],
   "source": [
    "proc = img_prepare_all(mnist.X)"
   ]
  },
  {
   "cell_type": "code",
   "execution_count": 4,
   "metadata": {
    "collapsed": false
   },
   "outputs": [
    {
     "data": {
      "text/html": [
       "<img src='data:image/png;base64,iVBORw0KGgoAAAANSUhEUgAAABwAAAAcCAAAAABXZoBIAAAA/0lEQVR4nGNgGHhgPP/vfCMccgbv/vz58xa7nNnjv3/ev/xjyYYpxWXz4M/fP6dC/vytgggwIUnOPCDDwMBgxHOQQRdD0tibkfFQKeOL85OYGLG5ZTOPd6UoA8Pfz2gOVlv69+WFEAj775+lKHLsm/58cBeWgUkeRpG0/PPHHs5Blzz2dx+C8//vEWTX+hj834SQ/Pf/ArLG0D/PJOHWt//dxYMqeR8u1/znoTsDquREKMtg6Z+1DKgg7O9DCKPo3d9FaHIMoX9+TjKQDd308O/95RaYkn/+PL3+58+fI03oUgwMMsf//Pn758/LiZhSDAwMkg1//v7pVcUqR1cAAKxwbkTVIzd2AAAAAElFTkSuQmCC'/>"
      ],
      "text/plain": [
       "<IPython.core.display.HTML object>"
      ]
     },
     "metadata": {},
     "output_type": "display_data"
    }
   ],
   "source": [
    "img_show(proc[0])"
   ]
  },
  {
   "cell_type": "code",
   "execution_count": 5,
   "metadata": {
    "collapsed": false
   },
   "outputs": [
    {
     "data": {
      "text/html": [
       "<img src='data:image/png;base64,iVBORw0KGgoAAAANSUhEUgAAABwAAAAcCAAAAABXZoBIAAABRklEQVR4nGNgGEqAEZXLpyrz8sbH/1iVCuduf3a5RBSrIXIdd3/9+P7JAoukmPGql7//PN77NYELQ4574rufv//+eRz7+k85VIgJJicUHsrHcnYuA/O3/d8loGIsUFrEfwLr980tJqwnzwo4f0SV5M8O/nP2+dybrw4/+/mRV0/2MZJ9HH5PnvZrCwszMDAwMBT+vRyArFMrj2d113OoStn/7D+RHCQTanZ7K0yOQY7x5yskST5lhr2n4XbIMnx5iWQsl8iP4y9gLrRWfLvrBQMC2F3cqgJlsoYff9/PyYCik/0DREon2uNdw47vyJKcwoLhmz6L8P+LjP67b/pJuIksDAwMzJws/4rMn8lqSXE8OLwMIcfAwMDAwGxy4c/vLx9+vjkzO1CQgwENsFls/PP30cY2GzRxaDLhVpJlvXvvG7ousgEAHQlzklcnrzEAAAAASUVORK5CYII='/>"
      ],
      "text/plain": [
       "<IPython.core.display.HTML object>"
      ]
     },
     "metadata": {},
     "output_type": "display_data"
    }
   ],
   "source": [
    "img_show(img_rando(proc[0], i=0.0))"
   ]
  },
  {
   "cell_type": "code",
   "execution_count": 6,
   "metadata": {
    "collapsed": false
   },
   "outputs": [
    {
     "data": {
      "text/html": [
       "<img src='data:image/png;base64,iVBORw0KGgoAAAANSUhEUgAAABwAAAAcCAAAAABXZoBIAAABPElEQVR4nGNgIBcw4pbilcMuzqLoNe3xv9cs2LRoKDrqagj+XIvFIrWqZ59+f78x2ZIdw0D5SXf//nl3osdLCs1QMTaG8JUv//y9OztYjhVNl9kqF4ml3/69WevKDTUGSdLb4QPjn+enlu35zoAhycHOyf557cFzt2FyyJJ8LNxiX7cw/f3PgEXy7+v/gn///UOyhwnB/Hb1swC2MGFgYGBgYBQ+8Hc+Jy5ZhrQ3/2zZsBvLwLDv7v9oTSSTUSx5fVQ+9P+aS2+RHYUwRqr59YfDfQH8qAbC3CRbfvb1lysHu+UhXIQMj7bC+/cvtYI9pP9/y1r+B9VOgVwTTqFv+27//M947vhfNDMFTm178vf377//fp0P4kA3liH0IYNQhgQHw5kNRz7+R5dkYGBi+c1tInbt9k9sfqEaAAAI9XLJ01Sm5QAAAABJRU5ErkJggg=='/>"
      ],
      "text/plain": [
       "<IPython.core.display.HTML object>"
      ]
     },
     "metadata": {},
     "output_type": "display_data"
    },
    {
     "name": "stdout",
     "output_type": "stream",
     "text": [
      "5\n"
     ]
    },
    {
     "data": {
      "text/html": [
       "<img src='data:image/png;base64,iVBORw0KGgoAAAANSUhEUgAAABwAAAAcCAAAAABXZoBIAAAAyUlEQVR4nGNgGDaAEcZglpe8//w/DlWGUy7P18FlRM69Pz+WKKGKMcEY329+Y4lgQ5VkgTH23uewZpK7iWIrXOeDYxsYv1qgugguycD258e3X8w4JHlE/4jqCuGQZJTgYHyGy9jXt98x6IrikPx1/ieDnhwrdkmG2/8Zxfn/4JD8tPX/m+/Y/cnA8OMEw+ufOOxk+Mn0R8kKlyQD03NWDTVcki/eMuLyJwMDmyDDh3e4JO//YwjWwiX56OhfFjMGHIDF7PghDWQBAE8IPiLZfM0rAAAAAElFTkSuQmCC'/>"
      ],
      "text/plain": [
       "<IPython.core.display.HTML object>"
      ]
     },
     "metadata": {},
     "output_type": "display_data"
    },
    {
     "name": "stdout",
     "output_type": "stream",
     "text": [
      "1\n"
     ]
    },
    {
     "data": {
      "text/html": [
       "<img src='data:image/png;base64,iVBORw0KGgoAAAANSUhEUgAAABwAAAAcCAAAAABXZoBIAAAAk0lEQVR4nGNgoAdgMgwSxynJuOtvAZJSVEkx5j8uXLgkQ7VYrrLhkuRnYHj8D5fk+58MwqxkSb77ySCM006yjWX8zYvb2P88yniMZfrN8O83LsnfbxkefmTEJfmGQVyPHYfk9we/RFQ5cHnl7DsmUVYckt/ufETyC5okaiigSz67+/PnFxiHEU2SQ4Pr/ov/DAMHAEAxL0RwrIYtAAAAAElFTkSuQmCC'/>"
      ],
      "text/plain": [
       "<IPython.core.display.HTML object>"
      ]
     },
     "metadata": {},
     "output_type": "display_data"
    },
    {
     "name": "stdout",
     "output_type": "stream",
     "text": [
      "1\n"
     ]
    },
    {
     "data": {
      "text/html": [
       "<img src='data:image/png;base64,iVBORw0KGgoAAAANSUhEUgAAABwAAAAcCAAAAABXZoBIAAABGUlEQVR4nGNgGGSAEcFiYWAVkeP//vDhHwxJCXkeaRtlTibWw5PuwcRYYHR4rCbnc+ZfP6SFLzz7gSbJqMT5iL3yF6dsoVz31dNodrOo+4pzs7MxR3z991wah/vEV//7dQeHnGjmi68nPbHLieVcerfZmwm7ZPbVf0dx6GPLvPT783Qd7JIqV3/93WvMgk2Kkbf+379dXuxY5cRLv/657YzdTMGYu/+edXJhlROOPfrv33INDk52ViRRiP2c3jlGDAyiAX/ev+F6f/TLfxSN0Se///v37/3zr79//X3VLIuqM9OQ5T8jwwuGB99ZBC58YEWRFPzyi+H13vUfRd/ce/xfkPMNiuSfOU8kFuz89YvhPwMDA1yKZgAAgyln3OEig+sAAAAASUVORK5CYII='/>"
      ],
      "text/plain": [
       "<IPython.core.display.HTML object>"
      ]
     },
     "metadata": {},
     "output_type": "display_data"
    },
    {
     "name": "stdout",
     "output_type": "stream",
     "text": [
      "2\n"
     ]
    },
    {
     "data": {
      "text/html": [
       "<img src='data:image/png;base64,iVBORw0KGgoAAAANSUhEUgAAABwAAAAcCAAAAABXZoBIAAABGElEQVR4nGNgoAlgRDAFMrR2P9YJ39nxB1MZa+i9JYr82isuuGIxQvPwcSNGBo7AhxmYkkqrdjqzMDAwyK6Zjikp6mvIxsDAwMCdv4cdJsYCY7zeDKH//JHlfwUVY0I34c/vdzA5TMm/9hhCCMD0HuEgDGXaf97C3cGCKsXM6vt7739skloebr/v+F27+RfTMs7k8z9+Pfr874I1K4YcR/atva7c8gdev1xpBJOFOYjRxH1f+u7vHqIzJ6qkKjKh2ikTzjT3DoNW4MetF75GeS96iyKpprnjHCNXpGbv5e8rfvLxvkWxMuhFM4NCx41+RQYGBjYZHlT32N+9tXT/k4lymL5gYGAQa/r7ak+ONFY5BkY8wU1XAACZc1ZFbCV9rwAAAABJRU5ErkJggg=='/>"
      ],
      "text/plain": [
       "<IPython.core.display.HTML object>"
      ]
     },
     "metadata": {},
     "output_type": "display_data"
    },
    {
     "name": "stdout",
     "output_type": "stream",
     "text": [
      "2\n"
     ]
    },
    {
     "data": {
      "text/html": [
       "<img src='data:image/png;base64,iVBORw0KGgoAAAANSUhEUgAAABwAAAAcCAAAAABXZoBIAAABDUlEQVR4nGNgIBcwovAW8HOxFZ3HqlCp8Nv////vYDcl4sbf/////y/GKtn58f//6uTPnzmxSW79/X+9Etfj/yIwARYkyRc/70969OcrAxc2ndouxlwMOjf/a2B3EgMDw4Y//41gbCY0OXUxZgZOXJI+igyV13AYmnzn3zU7OA/uWmFdtkvMRYn8jFtuYmiRbzx//fz1T///T5dmQNPJbRrlIwkRePoCXZ9M74f/UPAwg4cFVVJ+4f//////f71u2/+/Tybqo0pKzvn/////s/bcrAZrfvyfLYoiye5x6+vBaikWBgYGrUVfXpWiauUwM1fihzBVZ39fxI3izx+n4OpuT+N6KfgVw6+DHwAARCJnqSbR50UAAAAASUVORK5CYII='/>"
      ],
      "text/plain": [
       "<IPython.core.display.HTML object>"
      ]
     },
     "metadata": {},
     "output_type": "display_data"
    },
    {
     "name": "stdout",
     "output_type": "stream",
     "text": [
      "2\n"
     ]
    },
    {
     "data": {
      "text/html": [
       "<img src='data:image/png;base64,iVBORw0KGgoAAAANSUhEUgAAABwAAAAcCAAAAABXZoBIAAAAvElEQVR4nGNgGLSAmwtDiAnOcjzgxoxT0kYzT5oRhyTLXW4Hvv84JFl//v2shcvY7y+/MCoz4ZBk+HFBSIAFlyQ3LwuLAC7JT1wMHOy4JC8LMnz/hEOSUUD899uPOCSZlRjevmPAIcmkzMAhhVNSkYGdkQ2H5D+OL+ws/Dgkf335+fvBbxySDBK83/bi8govD9t/xX84JP/vZ/hngeZaeFD//PH64RU0SbjO35w/zl1Ek0RKGNIsL34yEA8A8rYwLEcjGIkAAAAASUVORK5CYII='/>"
      ],
      "text/plain": [
       "<IPython.core.display.HTML object>"
      ]
     },
     "metadata": {},
     "output_type": "display_data"
    },
    {
     "name": "stdout",
     "output_type": "stream",
     "text": [
      "1\n"
     ]
    },
    {
     "data": {
      "text/html": [
       "<img src='data:image/png;base64,iVBORw0KGgoAAAANSUhEUgAAABwAAAAcCAAAAABXZoBIAAAA5UlEQVR4nGNgGAW0AoxIbCamPwwMDGwi7Iy/3n9FkeQUZmFTkpDn/sPAycovw/txxfIvcElZK2MBGY9PXz68+83MwMX56rO2/jcGFqiJvpFsf7im7vn1n+X352cf33NIuHyDW8e65HiogIo8Byvcfj4GBpjOv6c4dB5c/PMPrvrfJyQH8Xj6Kh1cdO83Ll+ZLt+bKsiILioVF8LNwMDAIGC9zYENWYKFgYFBJ+nR05e/Pn8VtzMzP4wu+eaWRPh/QSFhkU8bT/9FDz5uHVM5Eb5vl299fH7/F7ok1Gecf3/9Y6AHAABmBEeucGJ8vQAAAABJRU5ErkJggg=='/>"
      ],
      "text/plain": [
       "<IPython.core.display.HTML object>"
      ]
     },
     "metadata": {},
     "output_type": "display_data"
    },
    {
     "name": "stdout",
     "output_type": "stream",
     "text": [
      "5\n"
     ]
    },
    {
     "data": {
      "text/html": [
       "<img src='data:image/png;base64,iVBORw0KGgoAAAANSUhEUgAAABwAAAAcCAAAAABXZoBIAAABIUlEQVR4nGNgGBmAkYGBgYGBiV/ix48f339gkWRXtxVU+f7t67fvTPGT3v74/vDxP4SkbEoGFycD43+G3z+4H33+9vXa8ZMP/8N0y3a+/vj524/vv/78+fvnz5/fX5+28sF1cpg4iggICrzew2fx/T6/gi3Pv6f5G9Edx8wtoyilZNv/9M+HmQwMDAwMLEiSf79+ZWBguMfhw/AH4iImDM9x6Sr/v7wAh6Sy8f8vN59jl2SzNPr/9Ogj7JIqTrI/Dp/GMI+BgYGBQaLryd89HhxY5fgLH/996s2GXWPJ9R+fOiUZscpxXfr9Z7c6M1Y5johPfz7HYPqOgYGBgUH53O/nMxRwuLT637e9SkgCyGaIGv5n/MOEQ5KHm+H/Hy4kAQAbjGwJRQByTQAAAABJRU5ErkJggg=='/>"
      ],
      "text/plain": [
       "<IPython.core.display.HTML object>"
      ]
     },
     "metadata": {},
     "output_type": "display_data"
    },
    {
     "name": "stdout",
     "output_type": "stream",
     "text": [
      "7\n"
     ]
    },
    {
     "data": {
      "text/html": [
       "<img src='data:image/png;base64,iVBORw0KGgoAAAANSUhEUgAAABwAAAAcCAAAAABXZoBIAAABF0lEQVR4nGNgGEqAEZkjaiR/7+pzbKpY2MzXnf7383A6Fkl+x3n3P9279PzvWWkMOU6/Qz9eLk1OWffvcw8fTJAFSmtHm/yeseSDNc9/Tl7OT2g6Cx7+aVNkCDz44++/RhF0nWJ8Lzb9iMkwZP3P8PgnmiQLH+9H9Vo1BSZGBkaEJBOE4n72U67P6uLcp///f335C03nt33mHq9mHPj4PYXrCVwjMpASYGbxOPFnlxIDmk4GBgaGZwwMnIpCn0+9hYswoWhW9ld+f+4zDklVVYbTV/5hs5OBgaH1yx9dFuxSzBp3/75GjkNkYyVipL/u/o9DUt6S9cU+BhySYnz/Xr7AJfnn34tdF5Elke2X9ede/gi7W7EAAH9LYvDgkaBmAAAAAElFTkSuQmCC'/>"
      ],
      "text/plain": [
       "<IPython.core.display.HTML object>"
      ]
     },
     "metadata": {},
     "output_type": "display_data"
    },
    {
     "name": "stdout",
     "output_type": "stream",
     "text": [
      "9\n"
     ]
    },
    {
     "data": {
      "text/html": [
       "<img src='data:image/png;base64,iVBORw0KGgoAAAANSUhEUgAAABwAAAAcCAAAAABXZoBIAAAA8klEQVR4nGNgGCKAxbGUhYEFh1y9/Kx/qEICbatZGRgYGBiYW7frsqPKZV/63sPMwMDAwNB5VI8ZRUrp+Lt9u7gZGBgYGEJemKLIsWe+WK1mrc7AwMDAUP4gFcUpbNM+FXEzMjMxMDAwmLwq5EKWY2x5bw01iFH/2g5uFPuYz9QwQuWUjt/SR3Un2/uNpgx8DIwGmc13rhuiOpSBye/Q19c3dp88ufjrE0c0OQYGBiZpeWE+AaHJH3OwhhkjAwN79as6DmxyDAwMbDmvW3DJMWm+7mXHIcfA3XdJEJccg9jHSkackoKLxHDKMTCw4tZIPwAA+9c2/kRAVhYAAAAASUVORK5CYII='/>"
      ],
      "text/plain": [
       "<IPython.core.display.HTML object>"
      ]
     },
     "metadata": {},
     "output_type": "display_data"
    },
    {
     "name": "stdout",
     "output_type": "stream",
     "text": [
      "4\n"
     ]
    },
    {
     "data": {
      "text/html": [
       "<img src='data:image/png;base64,iVBORw0KGgoAAAANSUhEUgAAABwAAAAcCAAAAABXZoBIAAABFklEQVR4nGNgGEqAEZnDxCLm7Mz//duR1Z8ZGBgYGFiQ5MTKvP9xi3IwMjCvZ0CXZFJK52L4uu0TK9u6LxiSXDlc31duuPWXleXWbwzrRTZ83yTNht1p7K73ngWiCiGMlcqQ+er27OXfL++xSLJzMfOEWn18t3/hBwxJVjklBiZBQYbfqpyTv0LFEIEgEap7moNdzlPhcNQLDGNfzuP8ycwk9DhLQO0FA3bApLv8VjKcgyb5j1uAgRmXpJCt0bPbuCQNPYTu38T0JwMDAwOXa6LB/VMfsbpGKf/IpyeN8oxYpLi9l9//dq5KDSEHZ3E5uVurPLq6cd+rf5iSprnC7y5deP7oE5JZcEl2UY6/Hz/9weoWrAAAFk1S9Vi8uNUAAAAASUVORK5CYII='/>"
      ],
      "text/plain": [
       "<IPython.core.display.HTML object>"
      ]
     },
     "metadata": {},
     "output_type": "display_data"
    },
    {
     "name": "stdout",
     "output_type": "stream",
     "text": [
      "5\n"
     ]
    },
    {
     "data": {
      "text/html": [
       "<img src='data:image/png;base64,iVBORw0KGgoAAAANSUhEUgAAABwAAAAcCAAAAABXZoBIAAABd0lEQVR4nGNgwAMYcYizSf59wsCEJijm4SbAwMDAYDolkgFdktGiv1iBgYGB6SfPXwYGFlRJDmGZX7wMDAwcuuIHMHSKu7J+fcjAwPDH4d8rdOewh3/7NpuBgYFB6N43B1YUYxkFFtiwfdjF+puBQe//kae/USTZe524Pq3b/5uBgSdA8OgPlj9IcpwR939/apRiZGAQL7j5e120BjvCVmHfZOP//TP/yYiJ6rsos/y/s3AV3FgW1xQD9i17dWINOVh4uZgYr06/CJdjUl365c/flw++/Pn28c/fv1+3aiFbmHr7z9+/f3///Xxl+9W3H1cqMzMgQohPR4nhPyPDv4fb7j6TyBRccZcBSVJW4z8Dw5cr16eeZ2Ax5fl5igFZ8vu7E3/OPdn/4hUDA4Or2JqvKAHHLGHsISbIwMDAwKB84lsqD4rOvy9ewNT5Sj259xNFEgn8+bjj5m+I/zAlZVkvPGHAIcn4kxkmiCkp+vXABUzjBgcAAG1bfyPGupEVAAAAAElFTkSuQmCC'/>"
      ],
      "text/plain": [
       "<IPython.core.display.HTML object>"
      ]
     },
     "metadata": {},
     "output_type": "display_data"
    },
    {
     "name": "stdout",
     "output_type": "stream",
     "text": [
      "4\n"
     ]
    },
    {
     "data": {
      "text/html": [
       "<img src='data:image/png;base64,iVBORw0KGgoAAAANSUhEUgAAABwAAAAcCAAAAABXZoBIAAAA40lEQVR4nGNgGDaAEYXDKf3756fff/5B+SzIkuwWWed+/ef/+fLB45uCX9l/o+rkN5OR52X7wSYuKiN6cd8JFEkIEBAS5PjH9EnBmB8hxpq9S40JbgYLMyMDA5zLkuw7+6cIHzOE9//P3/9IhnmeeXj+yZ0KVVYkMbhrv594fuaCcqXQ/Jv/GDAAv5IYByOD6dISESw6P35kYGBguHhBU+kNXJKJAQX8uvSWkwGXJBMjPxNOSTkfpeeY7mEQtldnEQpddyMVm1f+MHtpCUk+KtqBJAkPWyYeWY4Pn97/wWLo4AEAEBxAcWSvgEwAAAAASUVORK5CYII='/>"
      ],
      "text/plain": [
       "<IPython.core.display.HTML object>"
      ]
     },
     "metadata": {},
     "output_type": "display_data"
    },
    {
     "name": "stdout",
     "output_type": "stream",
     "text": [
      "5\n"
     ]
    },
    {
     "data": {
      "text/html": [
       "<img src='data:image/png;base64,iVBORw0KGgoAAAANSUhEUgAAABwAAAAcCAAAAABXZoBIAAABaklEQVR4nGNgoAlgRGJzyUhy/fl24SsWVRKJJ7//fHjyYKEoAyMLqk42h1L7/x+ffOMV/7H+nfTCM78ZGBgYoGqEAlKMGK9sO/hdUD0iiZXt0fUPCDOZDE9+u50jy8rAwKC19M/fPxNEGeA6GYVSNU637oIo5GNi+MeL7BqNN78imaDMi3/+PszhQJKMfndPAeo0rvQP31dwQ21jYGBgYHj2UrxIlJmBgYGBgdOR4/sGFK9KrPn27ZyrOj8TA0Pkiz81yIYyMLBZ1Zz99OZgQ6i849FfB8XRwoeVR7Ho0OvftzeeejtfhQkz/Fj0Gk9++fvncSw7phwDA6ParI9//v44H82JRVKw4O7HrW3Pfm+3xpTjj7/zYqKJqO/2v8sxJQP/fZ+oxMBivO7XZrgz4JK2v1h/+QuL2al8PIIpKfqLJeYvGwfnjzOLMCUnvNdWlmC5fPTS2ndw9yMs5dWQ/fPywav/2LxJPwAAu6CA0KT8Ll8AAAAASUVORK5CYII='/>"
      ],
      "text/plain": [
       "<IPython.core.display.HTML object>"
      ]
     },
     "metadata": {},
     "output_type": "display_data"
    },
    {
     "name": "stdout",
     "output_type": "stream",
     "text": [
      "8\n"
     ]
    },
    {
     "data": {
      "text/html": [
       "<img src='data:image/png;base64,iVBORw0KGgoAAAANSUhEUgAAABwAAAAcCAAAAABXZoBIAAABOElEQVR4nGNgGDaAEcFk+sfhwvj5G+PDj9/RJBl5xHlqtJm/ffjFfeHZkYMQQRYIxaNlZc/n+P/Toy+f5TMYtj27jSTJbJJrx//2+qm9z97LCykzfEKxWW7ix1+ncsV4uJiU53/7dz+GC1ky4Oy/i64MDAwMDBHX/n3bZgB1CRMDAwMDg6I4w+PP3EwMDAyyIgw3a678R3bQIzYG13f7L+n90nESYLh87Q+qnb23Pv/7+u7r0/d//30NRwsEVmlbO10x4W+PVfn/XfF6BpOEGPv7wZP9IhzMX0TbTD4c/owjLNWW/rsWjRSgyJL/VZUYHjzAIckgKcJw5DouSWFuhssfcUiKWQkwPPmPQ/LVNWaGr/8ZsANGpePfW4RwufbNGoZgO1wO+rJlJbcqkkmoBrNqGF87BecBADFnbQWomo1HAAAAAElFTkSuQmCC'/>"
      ],
      "text/plain": [
       "<IPython.core.display.HTML object>"
      ]
     },
     "metadata": {},
     "output_type": "display_data"
    },
    {
     "name": "stdout",
     "output_type": "stream",
     "text": [
      "9\n"
     ]
    },
    {
     "data": {
      "text/html": [
       "<img src='data:image/png;base64,iVBORw0KGgoAAAANSUhEUgAAABwAAAAcCAAAAABXZoBIAAABIklEQVR4nGNgIBGwcjFBGEyYcmZ7E3lwSYr6iItwoEpK8MJYSob3dr5ClXz39R+rIBcDAwOHtubrewyokr/+MXgVmzAwMIjpfN/5Gk2SgUHIJMKYgYFB0ID5yX8MSVHZLw8YGFh4Fa9eZECXZFNzZfvGwMAiJnz/I4Ykr47A3YMMDMze/w4wo/uOxej2S3NmBgal+ydUGeGCMBN0FL77sL8QceH56CJx9R2a1q5vf7/+/fHr378vpyYYoOlkOMDBrsT+QUb556EjFx+iW8qtICfJyRBxYYMZG9yRcJ1fvzIwMDBIC6499weuATVWBPl+vkTIoUlKqn+5yIBL8p8Yww1ckoz/hO98ZMABmC1+GCCrRtH5V+InMyMDLsAnglOKXgAA6rNOCTE6gNoAAAAASUVORK5CYII='/>"
      ],
      "text/plain": [
       "<IPython.core.display.HTML object>"
      ]
     },
     "metadata": {},
     "output_type": "display_data"
    },
    {
     "name": "stdout",
     "output_type": "stream",
     "text": [
      "4\n"
     ]
    },
    {
     "data": {
      "text/html": [
       "<img src='data:image/png;base64,iVBORw0KGgoAAAANSUhEUgAAABwAAAAcCAAAAABXZoBIAAABV0lEQVR4nGNgwARMGAwYsFnYJo9DklnG29dIAoekaKjX/2d/2LHYxcDA4nPlz48XN4KxSkpv+fn3398/f3VZsThT+fObPXM3Pv05UwNiELLkv4+Lf297yBwUF3zyBqZWRgYGBgYGr4Mfe4UxXfufgYGBgeHOZR5HHSxeYWBgYGB4/+S/pAwHDslPl36IBVqwozmIgYFBSEFB8YP8Tw7LbWd/okgyyTZriTGzsL3h5P28ZM9nFJ08AS7evEz3Xv2QkGBaP+sRij9ZPcrlXu/Zf+mHbSLzhXV3UW0zPv9iYbAiO5No+9f7hRyocuqbPq205GBgEE698LRJClWOK+vphQhmBmbFyhPvZiuhyjE7nHy7WIZFPnT3j7cbDJmholAH/f/wg99C0MDNQvvy5qUP/6J7fv2fP5euf364wgQpzGBeeTfznyPLrW1nL9z9x4AJuCWwxP4AAABIDXSHjrq6IAAAAABJRU5ErkJggg=='/>"
      ],
      "text/plain": [
       "<IPython.core.display.HTML object>"
      ]
     },
     "metadata": {},
     "output_type": "display_data"
    },
    {
     "name": "stdout",
     "output_type": "stream",
     "text": [
      "2\n"
     ]
    },
    {
     "data": {
      "text/html": [
       "<img src='data:image/png;base64,iVBORw0KGgoAAAANSUhEUgAAABwAAAAcCAAAAABXZoBIAAAA9UlEQVR4nGNgGDaAEYXHycn2+SsDA4+E4M833778QZbkUrTQEuPm5f0tyPPmzuuPqy+yIMwQsg1Xfvvg5Y9Pn/+zsQrwvPuMMJZRo9Dwy/FtT3/9+vbtPwMDAxfL179wObn1t+vNlXE4TOtztrQAG6ogzM7/Qj9cNZ/++c24+woWrzAaOtmxffrLK/xt4yRs/mST4+BhEovnSXryH9VYBgYGhl93GBgYFT5Jc/7HcBEkiCxWfuqXRDdWmfsZMxe/uqWp+NJpr2A6YcYq5L19LSAs+fPY3hMfMFzLpJ6n/ePVteO3X//E4hUGZgHBHx8/oztlCAEAxVtSA23cYN0AAAAASUVORK5CYII='/>"
      ],
      "text/plain": [
       "<IPython.core.display.HTML object>"
      ]
     },
     "metadata": {},
     "output_type": "display_data"
    },
    {
     "name": "stdout",
     "output_type": "stream",
     "text": [
      "5\n"
     ]
    },
    {
     "data": {
      "text/html": [
       "<img src='data:image/png;base64,iVBORw0KGgoAAAANSUhEUgAAABwAAAAcCAAAAABXZoBIAAABOklEQVR4nGNgGLaARaX8/ItXN2t5MaWY9Cccf/fr79/f540ZGBgYWJCkGDVi3ZQ5WRn+M/68fw9NktMy04GP5cUhFjMZht+f0SQtqk253+zewFQhzsDA9A9Fksc7T//fppmfLYM1WBk+7P2PLMmoH2f8/+JmxnAXJVaGn1e3/Ed2p3Tr+7+/nxy69Orn37+/b4UzMyDrFFbiY2ASE2FlYGBgeLd8+18UyT+/GBj+ffrG+5RLnuH99k8MKJJPV//lvfD0g5xYNMOLGVfRA4dbQ1+Ui9Vw/tfve1UYMcOOgYGBN+bZjwuxbFjl2ByO/H3ZKoRVjll38c/3C9SwyjFK1b75fSMSqxwDk/31v182ymCXU5rw99eVCOwahbMf/7rbIICiHiFpIfX12JIPyJKI+Py46/HnU3dQDAMAmRdw5z3tQ1AAAAAASUVORK5CYII='/>"
      ],
      "text/plain": [
       "<IPython.core.display.HTML object>"
      ]
     },
     "metadata": {},
     "output_type": "display_data"
    },
    {
     "name": "stdout",
     "output_type": "stream",
     "text": [
      "9\n"
     ]
    }
   ],
   "source": [
    "Xb, yb = img_select(proc, mnist.y, 20, lambda img: img_rando(img, i=0.0))\n",
    "for (a, b) in zip(Xb, yb):\n",
    "    img_show(a)\n",
    "    print(b)"
   ]
  },
  {
   "cell_type": "code",
   "execution_count": null,
   "metadata": {
    "collapsed": true
   },
   "outputs": [],
   "source": []
  }
 ],
 "metadata": {
  "anaconda-cloud": {},
  "kernelspec": {
   "display_name": "Python [default]",
   "language": "python",
   "name": "python3"
  },
  "language_info": {
   "codemirror_mode": {
    "name": "ipython",
    "version": 3
   },
   "file_extension": ".py",
   "mimetype": "text/x-python",
   "name": "python",
   "nbconvert_exporter": "python",
   "pygments_lexer": "ipython3",
   "version": "3.5.2"
  }
 },
 "nbformat": 4,
 "nbformat_minor": 1
}
