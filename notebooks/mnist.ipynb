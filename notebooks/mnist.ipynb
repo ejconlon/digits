{
 "cells": [
  {
   "cell_type": "code",
   "execution_count": 1,
   "metadata": {
    "collapsed": false
   },
   "outputs": [
    {
     "name": "stdout",
     "output_type": "stream",
     "text": [
      "ready\n"
     ]
    }
   ],
   "source": [
    "import sys\n",
    "for p in ['..']:\n",
    "  if p not in sys.path:\n",
    "    sys.path.insert(0, p)\n",
    "    \n",
    "import os\n",
    "import pickle\n",
    "import random\n",
    "\n",
    "import numpy as np\n",
    "from scipy.io import loadmat\n",
    "from sklearn.datasets import fetch_mldata\n",
    "    \n",
    "from digits.common import fildir\n",
    "from digits.data import Env, Loader, Data\n",
    "from digits.explore import img_show\n",
    "from digits.images import *\n",
    "    \n",
    "env = Env('..')\n",
    "env.assert_ready()\n",
    "loader = Loader.from_env(env)\n",
    "loader.assert_ready()\n",
    "#data_home = env.resolve('data')\n",
    "#fetch_mldata('MNIST original', data_home=data_home)\n",
    "print('ready')"
   ]
  },
  {
   "cell_type": "code",
   "execution_count": 2,
   "metadata": {
    "collapsed": false
   },
   "outputs": [],
   "source": [
    "mnist = loader.read_mnist()"
   ]
  },
  {
   "cell_type": "code",
   "execution_count": 3,
   "metadata": {
    "collapsed": false
   },
   "outputs": [],
   "source": [
    "proc = img_prepare_all(mnist.X)"
   ]
  },
  {
   "cell_type": "code",
   "execution_count": 4,
   "metadata": {
    "collapsed": false
   },
   "outputs": [
    {
     "data": {
      "text/html": [
       "<img src='data:image/png;base64,iVBORw0KGgoAAAANSUhEUgAAABwAAAAcCAAAAABXZoBIAAAA/0lEQVR4nGNgGHhgPP/vfCMccgbv/vz58xa7nNnjv3/ev/xjyYYpxWXz4M/fP6dC/vytgggwIUnOPCDDwMBgxHOQQRdD0tibkfFQKeOL85OYGLG5ZTOPd6UoA8Pfz2gOVlv69+WFEAj775+lKHLsm/58cBeWgUkeRpG0/PPHHs5Blzz2dx+C8//vEWTX+hj834SQ/Pf/ArLG0D/PJOHWt//dxYMqeR8u1/znoTsDquREKMtg6Z+1DKgg7O9DCKPo3d9FaHIMoX9+TjKQDd308O/95RaYkn/+PL3+58+fI03oUgwMMsf//Pn758/LiZhSDAwMkg1//v7pVcUqR1cAAKxwbkTVIzd2AAAAAElFTkSuQmCC'/>"
      ],
      "text/plain": [
       "<IPython.core.display.HTML object>"
      ]
     },
     "metadata": {},
     "output_type": "display_data"
    }
   ],
   "source": [
    "img_show(proc[0])"
   ]
  },
  {
   "cell_type": "code",
   "execution_count": 5,
   "metadata": {
    "collapsed": false
   },
   "outputs": [
    {
     "data": {
      "text/html": [
       "<img src='data:image/png;base64,iVBORw0KGgoAAAANSUhEUgAAABwAAAAcCAAAAABXZoBIAAABZ0lEQVR4nGNgGHggm3lgS6QodjmZWa9+fL2fhFVOcfabP1/ffemWYMKQYtda8PrPn4dTDryYpsfAwMDAgKwkY2WIACODGMvd/4aSDAwMDAwsCDkVTxW2W0espB/dUuFhRpNUnmTNerH108N7hz/5emsd+4AsKZto+Of+plNvL3z7/u8vv8ORE0iSbPmR3F373r399o2BgYGFUUEE2VgNH7Gqpa8Z/jAwMDAwMDOwMiJLlshc3vLiH5TDyvj/H5JX7GzZ97+CyTGwMLz+hKRTgO/Dxk8wKXu5R2tvIelkZvlx9w9UzrFAYvuO10g6GZkOf/7PwMDAwCDlFi0wYefDf0iSTCy6EIZjjMXnqRvfw+xmYGBgYGRkUszc9FbZRtFA6s3abe8ZUCSZmNizHd4oy/C/OrP0LEwOCph0r/z58+3j7w97Qk05GNABp8fi33//bMu3YkMWZYTSHHLqLMz37378j6GP+gAAhZV6uwpkP94AAAAASUVORK5CYII='/>"
      ],
      "text/plain": [
       "<IPython.core.display.HTML object>"
      ]
     },
     "metadata": {},
     "output_type": "display_data"
    }
   ],
   "source": [
    "img_show(img_rando(proc[0], i=0.0))"
   ]
  },
  {
   "cell_type": "code",
   "execution_count": 6,
   "metadata": {
    "collapsed": false
   },
   "outputs": [
    {
     "data": {
      "text/html": [
       "<img src='data:image/png;base64,iVBORw0KGgoAAAANSUhEUgAAABwAAAAcCAAAAABXZoBIAAABCElEQVR4nGNgGJ6AkZMPlY9gCagwiAbZ/F039QVMiAXGYNPzUX3H6c/OHPW1A91EZvslT9d7KIhJ1HyZy4CuUzne8cyCI18Y2P/+f4shKWLwYdL+fwwMgsp/4VYyMEFpDuHfL/4zMLAGWv59jqHzDZOi0q/v74pj5A/fxPChSNefbcvOnPzw+04IL4b/WXRWPfz0/u+/nxncSF6HMVhV/OWvu7vds3iPoRESDlanXvVil2JgMFzx67grsgATgsmspvJux2kcGlXX/NnlxIhdjnfym5uhfNjlGGJu/iwTw66RSeXV36vaLFjlmJUW/HqTzIRVjoHd/+uLXnZ0UahBf19vft39E10SAPXeVq4kNCwiAAAAAElFTkSuQmCC'/>"
      ],
      "text/plain": [
       "<IPython.core.display.HTML object>"
      ]
     },
     "metadata": {},
     "output_type": "display_data"
    },
    {
     "name": "stdout",
     "output_type": "stream",
     "text": [
      "9\n"
     ]
    },
    {
     "data": {
      "text/html": [
       "<img src='data:image/png;base64,iVBORw0KGgoAAAANSUhEUgAAABwAAAAcCAAAAABXZoBIAAAAlElEQVR4nGNgGNxArK9WEMFjQpU0sxPjwiXJaKT8+hsuSX7xV7dxSorJ3rvxE5fktx987Ay4JNm4v/1kxCX5+JWFOQ8uSVlZhk9/cBrL9fb2D1yS77/9/Pofp7GSH7/jdC0Ty5efOCW52Tn+4pZk2/wZp+QHpqe/cUoyspow4pRkYuHCbeebvy/+MuACnFXqOOWoBwCw1ClsAkRAUAAAAABJRU5ErkJggg=='/>"
      ],
      "text/plain": [
       "<IPython.core.display.HTML object>"
      ]
     },
     "metadata": {},
     "output_type": "display_data"
    },
    {
     "name": "stdout",
     "output_type": "stream",
     "text": [
      "1\n"
     ]
    },
    {
     "data": {
      "text/html": [
       "<img src='data:image/png;base64,iVBORw0KGgoAAAANSUhEUgAAABwAAAAcCAAAAABXZoBIAAABPElEQVR4nGNgIBcwIrFZZXnvfcaqij/t1d/fV2wYGBgYGDhEmVHkuOsf/f359WsGAwMDA2d0uxiKpPKZX38PbvpWy8LAwJT2950RimTQrT/dsvo3DskyMPDu+/1cnYGBgYGBCSopycGgocp0SVqWQWCC2b+1r1Bca1QRzPhy7ud/O62DTdjPVZz4jSzJoRKQxv/z4jlGVw3WHT0nfqB6hZnffOKX3x9e//h5xJ8fi1d1nv/58+dRsw3WcBB88ufv37sKCAEWJEleRob/DGI/EQJMCCZXGc/DW3+4+BixSbq7/Ft57AuDNDM2Scafvz/8ZsAh+eGzsLkkL6M0CzbJt68YFXiZ/0shdCK59vEOFYWfDP8lkeMfAbijHv7887aNDaskA0vEkm/LTbDLMTAwKGhy4JQbIMApwgVnAwAE4mNkSydZsQAAAABJRU5ErkJggg=='/>"
      ],
      "text/plain": [
       "<IPython.core.display.HTML object>"
      ]
     },
     "metadata": {},
     "output_type": "display_data"
    },
    {
     "name": "stdout",
     "output_type": "stream",
     "text": [
      "8\n"
     ]
    },
    {
     "data": {
      "text/html": [
       "<img src='data:image/png;base64,iVBORw0KGgoAAAANSUhEUgAAABwAAAAcCAAAAABXZoBIAAABB0lEQVR4nGNgoAlgRGJzigqy/j2PXVLHzEHk7783rz9N//Afw5A9P38+uvPtz9u7VbI8zOg619jc2PFeXEZGj+/75FUPfqFKCv/78/0fq6SAkZW16IrJN7G6jZFH2GrD3RIuBgYGJoQk1BX/v7y9d03eSw5VEgG4DP7+Z8QmwcDA7nn07d0k7HLcbhd+f00UxaaTTaf29I9764QwZRg5+V3mP/p21oMVizYhr+ydn59MsmDHZl3gtX/fL9Zrs2GT09v08/OeBDkWLFKsztu/P1vvhdVIBvMdX45EKGOVYpDu+nDZAbsUA4fPnUflvDgkhVcusBfAIcfAskOPGZccA4MFtlChDQAAYjZXNZNgVwQAAAAASUVORK5CYII='/>"
      ],
      "text/plain": [
       "<IPython.core.display.HTML object>"
      ]
     },
     "metadata": {},
     "output_type": "display_data"
    },
    {
     "name": "stdout",
     "output_type": "stream",
     "text": [
      "7\n"
     ]
    },
    {
     "data": {
      "text/html": [
       "<img src='data:image/png;base64,iVBORw0KGgoAAAANSUhEUgAAABwAAAAcCAAAAABXZoBIAAABgElEQVR4nGNgoD9gROPzSJhpSW25cwldkoWFi0/SUU9HnPsNw7kJR/4gS/LoSyvJK5vwMzAwMDD8uxV+hYGBBSbHVZoqxsjAwMD4/+3hj2L/Hj1mQJIMDRVnYHh7++33bwePvPvxDWIRTHKfszrD/51LX/388erLf5grYJKvHzMwvN27+y+y0+GSUlIMDO/YZCRVue9fe/UTTVJEjYFBLMJOUobz36upq7//RzaBweTqXwj49/f3/XxhJhRJtTN///79/fH9v3///v17WSeAYuzbi9psP46t+8rzSKdYSMRy3QdkyQ9TmGUerD74n/3Hq1ghBi5UYxkY+K2U2BkYGNiD3v79uVUWRYrTTIGLgYGBgcXn4d+/L/NQ9ZntmhPFxsDAX/nyz98/NxxR/Sks7mDAfMfayEn0///P8/aj6mSrefbj6tHHn//8+/ugUh3NOQzKUx/+/Pv3799/e0M5oEKIyGbUNFTQc3hy/+yiZ/8xJBkYmHlFed+9/4ISMbQAAKk2lSdYNF49AAAAAElFTkSuQmCC'/>"
      ],
      "text/plain": [
       "<IPython.core.display.HTML object>"
      ]
     },
     "metadata": {},
     "output_type": "display_data"
    },
    {
     "name": "stdout",
     "output_type": "stream",
     "text": [
      "5\n"
     ]
    },
    {
     "data": {
      "text/html": [
       "<img src='data:image/png;base64,iVBORw0KGgoAAAANSUhEUgAAABwAAAAcCAAAAABXZoBIAAABXElEQVR4nGNgoC3g52bEEIOJsOx2+HvwyIedT///+f4fXZHY5jff/vz++uL2pcXG7Og6GcVMTew4WJjYxTkvHt5x7DcWixk5Je1bb7zeF8aD3WEsgnaL3+ywY2ZgYGBgQpf88/74vvfSvAxYJRkYfu85KGIkhEOS4fMvbgNBXJISKkw3PjIwMDCwwB3Cw/TlF4TpovZg1ztkSR4VM8GrV5/9ZGBg0PQUZ/v7D8kkfv+Fd74/WerIycDClv/4b6kgckCbrf/0/uar3/u9hE2Kbv1aLIssxxhy7enM6N7r3051rHz3e6koSgTx1L5ab8QgkXvv79+/f6/Fw0Ie4iBVsx87n0qpMv1jYGB437r6F4rkb2ZWfRFJQyWh94x8x/b+YkABPKUP3r79+ff77Ym9V1+kooUJo8ziz39PT2iLk+WK+rVGAi4MpbTU+B+d+/7rPwPrKvY187CEKb0AAOfOfzWLzweHAAAAAElFTkSuQmCC'/>"
      ],
      "text/plain": [
       "<IPython.core.display.HTML object>"
      ]
     },
     "metadata": {},
     "output_type": "display_data"
    },
    {
     "name": "stdout",
     "output_type": "stream",
     "text": [
      "2\n"
     ]
    },
    {
     "data": {
      "text/html": [
       "<img src='data:image/png;base64,iVBORw0KGgoAAAANSUhEUgAAABwAAAAcCAAAAABXZoBIAAAA/UlEQVR4nGNgQAN5vyZywNhMaHLMYf/PMuGStBB8cf0bDklmK8FDHxlwSKqZsZ1/iEtSSeX1y584JMVMZG8eYcAhKWL978JjHJLsyrpftv/DIcnsLHTkEgMDj5IuHyMDAwMDC4qxlsxn/zMIJlozzzr4lQENuD+64cjqcODbh+9TldCNZfLnO/pQNs/6+eHX/KzokjwczLfe2uperbzEcPcluqQI95f3/xSFTgm5PjnyGd1B4nxf/otKM5u48Uw/+Bdd8tt3Pu3bgjw6fzdO/YXuVgbJps+3Nzz6+26yEIYUAwOz+oHP/z7P9ISbxogi7Wj/7eHpZz+waBzWAABsblMuu5xeFAAAAABJRU5ErkJggg=='/>"
      ],
      "text/plain": [
       "<IPython.core.display.HTML object>"
      ]
     },
     "metadata": {},
     "output_type": "display_data"
    },
    {
     "name": "stdout",
     "output_type": "stream",
     "text": [
      "6\n"
     ]
    },
    {
     "data": {
      "text/html": [
       "<img src='data:image/png;base64,iVBORw0KGgoAAAANSUhEUgAAABwAAAAcCAAAAABXZoBIAAABPElEQVR4nNXRvUtCURjH8e+56rXMMIW0MkmaqiV6pQYjonBpCKKpGl1qq7U9CKKWQBpqCpqaWqqpKQghcChyqEVMkoK4FtZ9scGEe9X7B/RMz+HD75zD88D/rehiv2xn8vrzbth0lky9e2Y+MBwAcDrqghMXirrdCbjHup01Fjt8Ve8HAWJnC81Wm77MlTJrfoATZcNvsdBpUf/aCQF0pPTjKED17vjkkGx83BqeEuHVLuM8b8bElM9hOEcjb3fGynI7etmMfq8EbZsUro24TzJ0TDgQcAghgNASgKgk/4bgedIqjRCAEJZkaq/QMpsNeiWXLKCcVSxv3jxIiXRf0NUz1wQvR49a3fyAkfS3qm6NN95Na7KoadXNSDWovEP+xwYR5A+KdiiJq2TJDnNK5rPc8DtAZL9X2JmlfgFAJlnFbJIafQAAAABJRU5ErkJggg=='/>"
      ],
      "text/plain": [
       "<IPython.core.display.HTML object>"
      ]
     },
     "metadata": {},
     "output_type": "display_data"
    },
    {
     "name": "stdout",
     "output_type": "stream",
     "text": [
      "4\n"
     ]
    },
    {
     "data": {
      "text/html": [
       "<img src='data:image/png;base64,iVBORw0KGgoAAAANSUhEUgAAABwAAAAcCAAAAABXZoBIAAABLUlEQVR4nGNgoAlgRBcQUBa/e/sfNqUCaZe/XDvZrwnlsiDL8fpl3Up57hb/8TjnJgzNGiu2qzMw6J27vHcWE7ocm88VX2YGRu333z5lMDAwMDAgq+AMZDj4l+G/HQfHi72M6JLKTmv/MzBw+TAyPGH8jy6p/e3ufwYGCzHmf8fforuWkfvFl58Mgr6inz9ef48uySLGx8brlSV1TeL5mX/oDvp/9Vfa3Nr/1Vv5rt3FCIQ/h4V9vk7Y/Lvj55bf6L5kYGDkNtYRZDb9MoMVUw4KNrzwZIMyMYJJT/HwzV+4JL15DrxkwCHJxvjp7VdckqqmX+8y4JBklbX5ehaXJJse141/uCS/Pvu9AsONcCCqjTsEGBiQEyR60pTJ+Dr3FYzDgiYpqq34bCGMAwBuLV8u/H5SpAAAAABJRU5ErkJggg=='/>"
      ],
      "text/plain": [
       "<IPython.core.display.HTML object>"
      ]
     },
     "metadata": {},
     "output_type": "display_data"
    },
    {
     "name": "stdout",
     "output_type": "stream",
     "text": [
      "9\n"
     ]
    },
    {
     "data": {
      "text/html": [
       "<img src='data:image/png;base64,iVBORw0KGgoAAAANSUhEUgAAABwAAAAcCAAAAABXZoBIAAABKUlEQVR4nGNgwAMYYQwZ+z+X7/xClWSBMYSD1W6uW/sDu+TH5y7KcpyL0PRCAaft3Kc/r1TJYbedXSP95q8H3RI4HCdc9ObPrTRG7JJMUrl3f511w6GVUcDrwrf1OCQZGLgiXxxjxSXJKH3woRnCHlTJ/++2fD3PwMDAyMjIgBQIUPDnOzsTA6MQH+vnV38RYcuoyszExMQR7iu/9zWHteT3zTlv4JJK0TacbGxs7KI8TH8YmX99PTL50C+Ysdw5EeJQdV/uXL2x4d7vPwg7BdzE7m/8pCmvz3Gm/PT3v6jukDz9+7SBqG7n+7dBHBj+Y897/m7v7uNPv8TwYPG90pz3f//+/bdcFjncYf58Mu2XpNnDOfue/0cOL7gqWVaez8+//cNi6hABANqMZZl98gxtAAAAAElFTkSuQmCC'/>"
      ],
      "text/plain": [
       "<IPython.core.display.HTML object>"
      ]
     },
     "metadata": {},
     "output_type": "display_data"
    },
    {
     "name": "stdout",
     "output_type": "stream",
     "text": [
      "2\n"
     ]
    },
    {
     "data": {
      "text/html": [
       "<img src='data:image/png;base64,iVBORw0KGgoAAAANSUhEUgAAABwAAAAcCAAAAABXZoBIAAABA0lEQVR4nGNgIBcwQmkmSVuvX7PP/sGqRrTp1NePB3RYsZpg/+jludffluijCLLAGLcu7rMI9zp+EZvk4/nnrjO5SMqy/sbhOPNNv/doIAswIbHv72NSVsEl+fEqg4QtEw7JX89+sllL4JD8//sZA4cIDkkG5teMxz/ikpRl/PP/Hy7JN/eYFHEa++wuoyQfLkkWgf/cb2EcRjTJX7wMXDeYuZkYGBhkXeS5EQHPwMDA8O7zX5Gyh6xP+WVldNQZ6xegSP559UmwmIv12z8mJlaW+4yoOhkOiRmps/1hZWNgeL1x+mV4MoEANjkxcS05MZ6Hj26ce4CZZBg5+JgxBAcNAABYUEs4sQp1XgAAAABJRU5ErkJggg=='/>"
      ],
      "text/plain": [
       "<IPython.core.display.HTML object>"
      ]
     },
     "metadata": {},
     "output_type": "display_data"
    },
    {
     "name": "stdout",
     "output_type": "stream",
     "text": [
      "2\n"
     ]
    },
    {
     "data": {
      "text/html": [
       "<img src='data:image/png;base64,iVBORw0KGgoAAAANSUhEUgAAABwAAAAcCAAAAABXZoBIAAAA60lEQVR4nGNgGDaAEUOEw1Lz+OU/2FXLx+55n8UBYbMghEUknr1T0XFwVj574w+qJKNouIXQi7eyqgp875adRZPUy/B8dV3KjvUT458t+z4xoEpqOLyafEZQ/b9UAue6e//RJDlezN/88f9ZpkLOgzd/oztSxlyQgYGBweLwRV9OXN6e8bxTApec2MWNFmwILhOyHGuAyJ5rv3BIqsV+u/Adl6nFb8t4ccnJHrutgBIRyMb6aq95/Z8BO5A9cEOPCYccw8xPs3H6n+vJQ1fMqIcA3qZvPdw45JiMnl3WRReEGcQo6vDuIHp0AABPqEjc5i2xtgAAAABJRU5ErkJggg=='/>"
      ],
      "text/plain": [
       "<IPython.core.display.HTML object>"
      ]
     },
     "metadata": {},
     "output_type": "display_data"
    },
    {
     "name": "stdout",
     "output_type": "stream",
     "text": [
      "7\n"
     ]
    },
    {
     "data": {
      "text/html": [
       "<img src='data:image/png;base64,iVBORw0KGgoAAAANSUhEUgAAABwAAAAcCAAAAABXZoBIAAABSElEQVR4nGNgoAlgROPziOtrK8itW/mOgYGBgQVVjj3a3lKS4eWP9ximsAu47Pj9/dbizW+nyaLLsTkuvf3zw+5Cq97fN7PQ9Vms+vLj8TwpRoVNf58YoklKTvj265o9AwOb78M/FwVR5Zjt7v2+HMfGyGu9++enAh5USaZpPz9licj65Z398feWLRMDile45f/9tTJX1+H6z8Dw9Nc/VEleViYuP0Y2lnffRBjvvoaaBpP8tO3Md+6f+0sc278w8kC1wHV+mXzO9vutG0/+mYv8YHiNJsnw99AhBgYGBmHJ/19Pv0czFgb+6DMwHkYXhIPPP9dKo8cVDHg+fuHLDvM7mpyIAeODVz9xSP6SE776lgGHpIH2szOPcEm+ffD91S9cku/f/L+Fw6kMDMwCOKUYGBgYGDjgvsQIIb87Cfw4JRm/uyjCBAH8km+j47MPVwAAAABJRU5ErkJggg=='/>"
      ],
      "text/plain": [
       "<IPython.core.display.HTML object>"
      ]
     },
     "metadata": {},
     "output_type": "display_data"
    },
    {
     "name": "stdout",
     "output_type": "stream",
     "text": [
      "9\n"
     ]
    },
    {
     "data": {
      "text/html": [
       "<img src='data:image/png;base64,iVBORw0KGgoAAAANSUhEUgAAABwAAAAcCAAAAABXZoBIAAABMElEQVR4nGNgIBcwYhET9dXYdoCBgYGBBVmUXYDn+7sfDIoBpt9OfkeXlPHS/PTo6qW/v9j4WDB0qoRZMXzdN4dR5PWVHxiS//78vnfxDreu1tHdvzFcIlD7epYcg87at30QPhOy5Idzzy3sha30n53BIslwaaust02i4OEDWDzIwBF47+a6V9ussckxMGhs//fjZCCMh2osIyPbv3eLDmLVxyiW9O7nEWnshspsfPXl22QEH8lYZs2Z7i92srIzYepiYFY//GWJlfufBFZMORbDAx/rxZj6vsexY8gxSTZ92STDaH3kmQkiuGEWMGkE/2x58V9b69uf/5g2hn99pcXUeutnNj8W97he+H7txscvU6Sw+VE4ftvnvw8qJZHFEAlMUIr358fXX/9h00lHAAA+AWo55DjyogAAAABJRU5ErkJggg=='/>"
      ],
      "text/plain": [
       "<IPython.core.display.HTML object>"
      ]
     },
     "metadata": {},
     "output_type": "display_data"
    },
    {
     "name": "stdout",
     "output_type": "stream",
     "text": [
      "8\n"
     ]
    },
    {
     "data": {
      "text/html": [
       "<img src='data:image/png;base64,iVBORw0KGgoAAAANSUhEUgAAABwAAAAcCAAAAABXZoBIAAAA/UlEQVR4nGNgGDaAEc5gYWZi5uDlYGNl+3z9N4okI7ezKRMzs5qtAAMDw96wdxBRFgilX+XH8v/v379/37Nx/v31jwFFUkLy877j//7++yvo7Pj40HdUq3mjYziZGRkYGE32vJ3CwYCq88u6/z8YGBgY+IxNvjz8AZNkglD/v0NEeFR43h1nQJOEASmvzyfO4ZDkUZd6veIbDkluVa43txiwS7IoBnzc8gSHJKeG6qNVDDgkBV3/XL6PQ5JDy+nLpr84JAWDODYfZMAO2OyfvHBHsQaJwx8k+uHhPxySLIrPmh7gMJXF+N4BXlQhhE5GXrGrn3FJMkvtmY1mGACkVErKh8ILEgAAAABJRU5ErkJggg=='/>"
      ],
      "text/plain": [
       "<IPython.core.display.HTML object>"
      ]
     },
     "metadata": {},
     "output_type": "display_data"
    },
    {
     "name": "stdout",
     "output_type": "stream",
     "text": [
      "7\n"
     ]
    },
    {
     "data": {
      "text/html": [
       "<img src='data:image/png;base64,iVBORw0KGgoAAAANSUhEUgAAABwAAAAcCAAAAABXZoBIAAAA9ElEQVR4nGNgIBVwQmlGVFE5eRlnc7asLRAuC7Ici0eIGi/Xi0W7sehkyyz8d+fr9i3P4IoRckwJ+Xc3nvv4+CM2Z+hvPeWMKsKE5Br+h/dxSTKzShy/h0uSyUPsIZpFCAf9NuQ8Kyov9O7SLyySDK9/Jv4WYNW9XgV3LpKDzr+IM7254bC9NjavcChaijMwhJyNxmbsj/v3GRg4JP/9xOJaCGDn/HoelySjsMvXBzgldU1X/8XmIAYGBgabA5uFscswsqjMuuKFFIlw1zKHSu+V9NRZdvI/Nm06s68/eT5dAdkRCEOYxGJ1b2278A+XcwYDAAD+YESeVQYuMQAAAABJRU5ErkJggg=='/>"
      ],
      "text/plain": [
       "<IPython.core.display.HTML object>"
      ]
     },
     "metadata": {},
     "output_type": "display_data"
    },
    {
     "name": "stdout",
     "output_type": "stream",
     "text": [
      "5\n"
     ]
    },
    {
     "data": {
      "text/html": [
       "<img src='data:image/png;base64,iVBORw0KGgoAAAANSUhEUgAAABwAAAAcCAAAAABXZoBIAAAAmElEQVR4nGNgwACMcBYTmoxSa7AApnooSLx6zA2nTmFZJU2cks9ZXt7GJcnByCwogEuSUZBZDKfkd97v/08y47JT9t8//r+4JP8yMyrjdO29v0wqeCSZcUve/4tkLDrgff73ExsunZ+f/mVSxiXJcP8vowpOyXt/mPBI4jP23h98xuJ10C+GXZxQNiO6JEP41zMvMASHAgAA6fMqluqRnPAAAAAASUVORK5CYII='/>"
      ],
      "text/plain": [
       "<IPython.core.display.HTML object>"
      ]
     },
     "metadata": {},
     "output_type": "display_data"
    },
    {
     "name": "stdout",
     "output_type": "stream",
     "text": [
      "1\n"
     ]
    },
    {
     "data": {
      "text/html": [
       "<img src='data:image/png;base64,iVBORw0KGgoAAAANSUhEUgAAABwAAAAcCAAAAABXZoBIAAABH0lEQVR4nGNgGHjApDzvwnJ5XHL73z+5lYlVjlnv8KfDdm5KWCVlNn7ab8DKzoRNTqzn+20HFhyu0X3wcaEwDjmxpk975bEaycDA5nH/ihuKHILDKBfKu+8As6goB1wIYT27WdSDUwb52n+PLj/3E12SX+PX8bdTtNgYFI2XrXuOJsnE8uUep/6DuafkQkukq9AkbUqef2H+sHbG99M/OhXRHcTK/OQCy52dn37//MnwF12SheH9U9af3xgY+DR5XmLoZOCTPL1bnoFBxfbuHvQwSP5+M5GZh5vV5/C1cl50r1zYZZfAe5TXKkjuwOHP6DpZom/++PD86ZubPRZc6HIMDDyRp//8vTnFR5QNJsKIJMvKxcH6/8fXH5j6qAsAhy5g65tL62sAAAAASUVORK5CYII='/>"
      ],
      "text/plain": [
       "<IPython.core.display.HTML object>"
      ]
     },
     "metadata": {},
     "output_type": "display_data"
    },
    {
     "name": "stdout",
     "output_type": "stream",
     "text": [
      "6\n"
     ]
    },
    {
     "data": {
      "text/html": [
       "<img src='data:image/png;base64,iVBORw0KGgoAAAANSUhEUgAAABwAAAAcCAAAAABXZoBIAAABQUlEQVR4nGNgGDaAEZnDKizC/evN6x9YJDm1raRU9FT+P4k4DhVhgcuJ+YRr/f38+ZbwL2kGXpP7D5B1KoVH8h6/eP3CIwZ2fqNQ7knHkKyTbruxL1+dmYGBgZE/5dLtfilkt8RfuhgjwMDAwMTmtOHlgy51FFdX38kWYWBg4FZMPf19e4wSqpfajysxMDBIhG//8G22JQ8Tqmv/Sek/YTXwCxV53bLn5S9UjcxmpzcYpV9/f6VZgp2RAR0I9b1a/eHjEkNmDBkGBgaRxr9/vyxQQBWE2skkpfHvz4uZD1Aloe5SDDO/u+ejIwdWSTWnf8uaDvvYMWKT1Jfauer01v8xwtgkVViP3mD48ErFFJuDPv8VF/ilJPHlOzbJ896BPz6HiSw9j82bCpOv//h1K5oPM3QYGBgYNDPW7fXiQhMEAAGeaQn/AqkTAAAAAElFTkSuQmCC'/>"
      ],
      "text/plain": [
       "<IPython.core.display.HTML object>"
      ]
     },
     "metadata": {},
     "output_type": "display_data"
    },
    {
     "name": "stdout",
     "output_type": "stream",
     "text": [
      "8\n"
     ]
    },
    {
     "data": {
      "text/html": [
       "<img src='data:image/png;base64,iVBORw0KGgoAAAANSUhEUgAAABwAAAAcCAAAAABXZoBIAAABGElEQVR4nGNgGGSAEYsQl+S3V3+QJJl4xVk+vBfRk+LifnPMMX3HtHsMDAwMLBBJHj///69/yKgKcXKy3/mvyXAMWVIg3glurAIHAzsvA5Lkp7cfeb9x/3707Omf87yN/75+RJHc+ljyNuu7Cw/ef/3j8f/t9uOobuSU4hXiZ2FgYBCd8WOzLA6/sTf8epuBy+Nz/vzdKoVDTuP236dasJBhQpXjShT9OvPJf6z6ZGqe/pyIw1Cutg//FqtjCW4GBgZG34v/tpsgySHbyaqi8WztWSQLWRBMwbCC/7fuYXcMd9Stv6fMsDuGzePMn6fJ2OUYhNf8/rWXFYek2vt/P2JwyDEYfvi3jgdNDO4rQZNv959jdyp2AADxT2Ij9r3q0wAAAABJRU5ErkJggg=='/>"
      ],
      "text/plain": [
       "<IPython.core.display.HTML object>"
      ]
     },
     "metadata": {},
     "output_type": "display_data"
    },
    {
     "name": "stdout",
     "output_type": "stream",
     "text": [
      "7\n"
     ]
    }
   ],
   "source": [
    "Xb, yb = img_select(proc, mnist.y, 20, lambda img: img_rando(img, i=0.0))\n",
    "for (a, b) in zip(Xb, yb):\n",
    "    img_show(a)\n",
    "    print(b)"
   ]
  },
  {
   "cell_type": "code",
   "execution_count": null,
   "metadata": {
    "collapsed": true
   },
   "outputs": [],
   "source": []
  }
 ],
 "metadata": {
  "anaconda-cloud": {},
  "kernelspec": {
   "display_name": "Python [default]",
   "language": "python",
   "name": "python3"
  },
  "language_info": {
   "codemirror_mode": {
    "name": "ipython",
    "version": 3
   },
   "file_extension": ".py",
   "mimetype": "text/x-python",
   "name": "python",
   "nbconvert_exporter": "python",
   "pygments_lexer": "ipython3",
   "version": "3.5.2"
  }
 },
 "nbformat": 4,
 "nbformat_minor": 1
}
