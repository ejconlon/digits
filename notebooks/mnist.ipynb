{
 "cells": [
  {
   "cell_type": "code",
   "execution_count": 1,
   "metadata": {
    "collapsed": false
   },
   "outputs": [
    {
     "name": "stdout",
     "output_type": "stream",
     "text": [
      "ready\n"
     ]
    }
   ],
   "source": [
    "import sys\n",
    "for p in ['..']:\n",
    "  if p not in sys.path:\n",
    "    sys.path.insert(0, p)\n",
    "    \n",
    "import os\n",
    "import pickle\n",
    "import random\n",
    "\n",
    "import numpy as np\n",
    "from scipy.io import loadmat\n",
    "from sklearn.datasets import fetch_mldata\n",
    "from skimage.feature import hog\n",
    "    \n",
    "from digits.common import fildir\n",
    "from digits.data import Env, Loader, Data, invert\n",
    "from digits.explore import img_show\n",
    "from digits.images import *\n",
    "    \n",
    "env = Env('..')\n",
    "env.assert_ready()\n",
    "loader = Loader.from_env(env)\n",
    "loader.assert_ready()\n",
    "#data_home = env.resolve('data')\n",
    "#fetch_mldata('MNIST original', data_home=data_home)\n",
    "print('ready')"
   ]
  },
  {
   "cell_type": "code",
   "execution_count": 2,
   "metadata": {
    "collapsed": false
   },
   "outputs": [],
   "source": [
    "mnist = loader.read_mnist()"
   ]
  },
  {
   "cell_type": "code",
   "execution_count": 3,
   "metadata": {
    "collapsed": false
   },
   "outputs": [],
   "source": [
    "proc = img_prepare_all(mnist.X)"
   ]
  },
  {
   "cell_type": "code",
   "execution_count": 4,
   "metadata": {
    "collapsed": false
   },
   "outputs": [
    {
     "data": {
      "text/html": [
       "<img src='data:image/png;base64,iVBORw0KGgoAAAANSUhEUgAAABwAAAAcCAAAAABXZoBIAAAA/0lEQVR4nGNgGHhgPP/vfCMccgbv/vz58xa7nNnjv3/ev/xjyYYpxWXz4M/fP6dC/vytgggwIUnOPCDDwMBgxHOQQRdD0tibkfFQKeOL85OYGLG5ZTOPd6UoA8Pfz2gOVlv69+WFEAj775+lKHLsm/58cBeWgUkeRpG0/PPHHs5Blzz2dx+C8//vEWTX+hj834SQ/Pf/ArLG0D/PJOHWt//dxYMqeR8u1/znoTsDquREKMtg6Z+1DKgg7O9DCKPo3d9FaHIMoX9+TjKQDd308O/95RaYkn/+PL3+58+fI03oUgwMMsf//Pn758/LiZhSDAwMkg1//v7pVcUqR1cAAKxwbkTVIzd2AAAAAElFTkSuQmCC'/>"
      ],
      "text/plain": [
       "<IPython.core.display.HTML object>"
      ]
     },
     "metadata": {},
     "output_type": "display_data"
    }
   ],
   "source": [
    "img_show(proc[0])"
   ]
  },
  {
   "cell_type": "code",
   "execution_count": 5,
   "metadata": {
    "collapsed": false
   },
   "outputs": [
    {
     "data": {
      "text/html": [
       "<img src='data:image/png;base64,iVBORw0KGgoAAAANSUhEUgAAABwAAAAcCAAAAABXZoBIAAABU0lEQVR4nGNgoD9gROGxcrN+/oFDJbtJ46ULqWJY5bgd1n7//ftzNFyABc5i5rdPt2X9+klITuTdP3R91g2nvv39c7/y9LdeSXSdYtHh/B8eS0ux31JVZ0GTlMzz4nu+9k70/6PHnf5/QzVTIv/Bp+fTpXXDpJgYXr8zQfEga+PNT1Py7FkZGBgYGH7/noyiUe/e73oFTj4GBgYGBp6/P9ajSG76fVYYxpb9+2UpkoMYfR1+r30LkxRk+vsFymRiYGBgE+O4uwYmxy779/1lJJ2s3H+f3oNwGXkss5/PX4Qkycb9ds8fiDZJmziVras/IUvy8itAQsnK1fJ90Qa4O1kYGBhYuTjMo46yaSsqWEhdmLiHAUWSmYNRt+kWo7Qow5PVu84xoEq+ufhMSl6K8d+9LWdPPWJAB7zBp//+OdnoK44mDg1iLmHBfy/f/8HQRhMAAIz2bcmGcfWDAAAAAElFTkSuQmCC'/>"
      ],
      "text/plain": [
       "<IPython.core.display.HTML object>"
      ]
     },
     "metadata": {},
     "output_type": "display_data"
    }
   ],
   "source": [
    "img_show(img_rando(proc[0], i=0.0))"
   ]
  },
  {
   "cell_type": "code",
   "execution_count": 6,
   "metadata": {
    "collapsed": false
   },
   "outputs": [
    {
     "data": {
      "text/html": [
       "<img src='data:image/png;base64,iVBORw0KGgoAAAANSUhEUgAAABwAAAAcCAAAAABXZoBIAAABGElEQVR4nGNgoD9gRDDZhf99+/YHuzJWy2XHL/37ulUdm6TWgu+vjq76/3O5EhbJoKdnfJilJ/4/6QoXYoKzDs/7zu8yP5PhL8IZLHDWl6ueS/4wMzL8/IUpyWOfbvxl9yUv09uPMK003ff/U524/7lp2qyYOtl4Gbav+WD0acONv5gOOnr9Jwd7Z86O8wg5JBD+8P+yp3MUmJCEEK698Ew6kuHn139IkgiFN9d8Y2D4+ROboQwMDJN//fz/350Zqxzj//87//yvZcQqyf//e9mu/+/MsErK/n/KLXLs3wWsDuJ4xZHFeJ5RQBeb5Ic5XBGCbAyv7mA1V2v7t////u/G7hUGlVlf/x+zxiHJwMDAwsuKW5IEAADYgGh0Ps8plwAAAABJRU5ErkJggg=='/>"
      ],
      "text/plain": [
       "<IPython.core.display.HTML object>"
      ]
     },
     "metadata": {},
     "output_type": "display_data"
    },
    {
     "name": "stdout",
     "output_type": "stream",
     "text": [
      "8\n"
     ]
    },
    {
     "data": {
      "text/html": [
       "<img src='data:image/png;base64,iVBORw0KGgoAAAANSUhEUgAAABwAAAAcCAAAAABXZoBIAAABH0lEQVR4nGNgoAlgROawqEgzPnj64z82hWzO88/fm+vEhdUU500n5h/+uFWPGW4SkmQo24T9ZinmgS9eYzE4JZqXgUHvyBN7VpxOjH4ZzgFlMmFI7v8tw4xTkpHNBp/kvz84JRnY//7GKSnG+g6nTtbk35uwhh8rt7yA7pcnOjA+LIQYhSx+/xOUUH1gyrDmCpokk1Ri4N//POr/Gf4/38L8F1VSICmL5eDXT49U5L5xF7+5DJNlYGBgYGA2vXipQ1mAR3/1mxXrPpzT5edAkuQMfLxcgYGJ3+vWGgO1DW9PTIxCMvbP20dKHo++q2ue7L7EXNdoZLoL4kqIViEfP0HGHzy3+q8yMLAIS3y+hyzJwKOhqsB5+cJtbN6nKwAAYdNb8lX+EjIAAAAASUVORK5CYII='/>"
      ],
      "text/plain": [
       "<IPython.core.display.HTML object>"
      ]
     },
     "metadata": {},
     "output_type": "display_data"
    },
    {
     "name": "stdout",
     "output_type": "stream",
     "text": [
      "2\n"
     ]
    },
    {
     "data": {
      "text/html": [
       "<img src='data:image/png;base64,iVBORw0KGgoAAAANSUhEUgAAABwAAAAcCAAAAABXZoBIAAAAvElEQVR4nGNgoD9gROFplf04sgSXUof/P9chcZlQJP8ysIngkhSyYnh7GJcklwrDj/u4JP/9Z/j5EKfkP4ZvZ3FJ8toz/HuHS5JNg4GZAZfkHwYGFlyS3PYMX/fikmTTZvh1iwEHYHO783MnLkkGiZf/n+B0EIMYA7saLslvOxi4M0IDsBvL2fn/7/Mrx+F8FH/9+8fAJCHxCbtOJsub////XoTDuSyFG/4s14BzUdMQg4S45qVrOHRSDQAAeq80s4RQ4yUAAAAASUVORK5CYII='/>"
      ],
      "text/plain": [
       "<IPython.core.display.HTML object>"
      ]
     },
     "metadata": {},
     "output_type": "display_data"
    },
    {
     "name": "stdout",
     "output_type": "stream",
     "text": [
      "1\n"
     ]
    },
    {
     "data": {
      "text/html": [
       "<img src='data:image/png;base64,iVBORw0KGgoAAAANSUhEUgAAABwAAAAcCAAAAABXZoBIAAABC0lEQVR4nGNgGDaAEUqzyGi9PfsHhyLxkuvL1DnQBFmgNIeiClP2+Yevv33+8/cXy6+fyJIckkL/+MKz39x6e/fPzychz5vvICR5HOLMT2zmNBDnF7fkZmP+d1cbIangE6J5afImBj4VMR5dQyOp91P2Iyz2OnJ3qi0vhM3sefzbdGUkV2lkJqtAmeyGyx5vN0VxMg/cEworv60yYUX2yp8vcHVGmixvXv/GHhYaO39ecmXDLsfW8fpLBh92OQb53T+3KeOQk0l78NyTHYdk/PFvbRKMOCSnfXqviMxnQmIbmrKseo9DH0PHxyeaTDjk5C/82sKFIoKkUkrp9pIfKJJIbpMIf7zzK4okAPunVUPhfc+RAAAAAElFTkSuQmCC'/>"
      ],
      "text/plain": [
       "<IPython.core.display.HTML object>"
      ]
     },
     "metadata": {},
     "output_type": "display_data"
    },
    {
     "name": "stdout",
     "output_type": "stream",
     "text": [
      "7\n"
     ]
    },
    {
     "data": {
      "text/html": [
       "<img src='data:image/png;base64,iVBORw0KGgoAAAANSUhEUgAAABwAAAAcCAAAAABXZoBIAAABYUlEQVR4nGNgoAlgRBdgYWH59+vvf0yVDsvf/fr79/8Ca05MOcMz3/78+fPn75/pchABJiRJHiE2xucPfzIweMpgSjL8Y7gU1f6CgeEPhksYGDgkXXMOf/j990k0D6YkX+2ZNz///HmexIcp5zjr8Y8/f/4cDoHLIdlp6SrOwsjAYGrMC/czQnL+H/ULh6xi9D2PvPqNaa6gBC8zl/6KD3usMOUggDniwtsKUSz+ZGBgYPi7YeEHCU4ckgw/rjxjY0I4KEL15J3n3+Gyv34zMSIk7T19H847+A0qx2WpfhdJklVIRltIc+1DBgYGBgbDSH+me+8RktceKnNYKvncfiD97I6lszTfkZMfEU5Qid9w+9OfP5+evHt2582vP0cCuKASjAwMDAw8GipGThqc/xkYGD99uj1n0zdkSQYGdnF1KxldPbYTiy68ffWZAVWSgYFZlEdY6N/L+5//YQ85KgIAUuN7F2C3ry0AAAAASUVORK5CYII='/>"
      ],
      "text/plain": [
       "<IPython.core.display.HTML object>"
      ]
     },
     "metadata": {},
     "output_type": "display_data"
    },
    {
     "name": "stdout",
     "output_type": "stream",
     "text": [
      "3\n"
     ]
    },
    {
     "data": {
      "text/html": [
       "<img src='data:image/png;base64,iVBORw0KGgoAAAANSUhEUgAAABwAAAAcCAAAAABXZoBIAAAAnklEQVR4nGNgoANgwsnlXXbInBmX5P8v5i5CuMxktNt12gfFYGSdd08I2gjjcsKzXS9t9XBJ/v/0RUQKp+NfXePixin54SwHbslfNxh5cEr+u/hLHackA+9HcwGcku8e8Buy4pJkuPjfgAun5OW3/Gw4Jb98UxHDKfniiaIsTslbB3mUcUq+P/Y20BWXJMPd3VJqDLgAs5ybLE5JegAAlh4qqjGaGcIAAAAASUVORK5CYII='/>"
      ],
      "text/plain": [
       "<IPython.core.display.HTML object>"
      ]
     },
     "metadata": {},
     "output_type": "display_data"
    },
    {
     "name": "stdout",
     "output_type": "stream",
     "text": [
      "1\n"
     ]
    },
    {
     "data": {
      "text/html": [
       "<img src='data:image/png;base64,iVBORw0KGgoAAAANSUhEUgAAABwAAAAcCAAAAABXZoBIAAABS0lEQVR4nM3Qz0pCQRTH8e/cO/4h/1RSGUUSFpIGZVC5C4MMKSI3BUGvED1R+gJtWkSbQIKCoCBahEEtXNnGlCTQ8HqnhVrXvA/Q2cxwPvPjcAb+aWmaXbN9yMRReqh9TV9cHrqsT5x790Y1twDAfqGRT1mTvrU4vhE3QDAelOOjVlTKhLlZAN+kV4iemZWTc5ieAEita6iWFd2LM5C/BQZDfjA7KAGY2omBsbRauI7GB+Dx2Yqby8BG0qxdNSIaFN+sKDUBusS9qxwC8WVYUShTAAqnQPHx3oPV109d+AIOQMHdQ72N3ZUQMrYS8GeiCo6z9f5vdrg9Y2dmq3XQ7chfNM2mazuiFMbP857wcCasuCnao+aV8FKxRyGFEKGtsN43E0BXikSsVGrZJM26AZ7TJwOb0pK5cjU77+hsL3rV6R+UtXLTLvi3vgFfj1prd2XSEwAAAABJRU5ErkJggg=='/>"
      ],
      "text/plain": [
       "<IPython.core.display.HTML object>"
      ]
     },
     "metadata": {},
     "output_type": "display_data"
    },
    {
     "name": "stdout",
     "output_type": "stream",
     "text": [
      "4\n"
     ]
    },
    {
     "data": {
      "text/html": [
       "<img src='data:image/png;base64,iVBORw0KGgoAAAANSUhEUgAAABwAAAAcCAAAAABXZoBIAAABLUlEQVR4nGNgGKqARa3h9uUsKS5scqxux7/++fP3bjpCNZzF41Wr/u/8Ip5CBc5/P9H0MVseebtAQ5xJf9v1nihONEn52d/2yzExMqgu+ffvagCasUJ2Tyc/+cfA8P39fwYmZogYE1ROLFzi4r5/DAxCYZEMDIxodqrfel3NyMDAEfDx14+/xzhRjGVTFLm1/j+zTFzuz5XcEUzfUTRyZ7zKZ2F3XPvrSYj47O+bUf35n4k39J9wDs/twv0i0l8Oo0r+vv/XVJuFaW3RS4Y//5ihjoW59s+JnqPfnkYlvmRg+MfM/ActDBgFxMUFWRgYGJhUnr0xRzWW4f8HmDI28U+PUY1FgP+/GVgZcUsysokIoIvCgPS3v3tKcEmyrfzxfiUzLlm1Q20WGLaRCABAZGV1ASHMhQAAAABJRU5ErkJggg=='/>"
      ],
      "text/plain": [
       "<IPython.core.display.HTML object>"
      ]
     },
     "metadata": {},
     "output_type": "display_data"
    },
    {
     "name": "stdout",
     "output_type": "stream",
     "text": [
      "9\n"
     ]
    },
    {
     "data": {
      "text/html": [
       "<img src='data:image/png;base64,iVBORw0KGgoAAAANSUhEUgAAABwAAAAcCAAAAABXZoBIAAABVUlEQVR4nGNgIBcwInM4RHm+vPqJISmtKqDubcDN8HD32hOfULXzu0w8fPX5jz9//vz9ucOJBVXScv+H33/+/P3z5evvv+975eHiLAwMDAw8Br/f/f1/bQm/i4k4r7nGQxTJaw1v37199/oDy9UG8Z8vHmB3us6xv/8+LDbSRNEJBbyhBv8ZOGzEmI4uvovhZfd3f/78/fPnz69Xe/O50GUlj/z68/fPnz9//v54E8yKHkJR8d/fvHqtIhrIxPDR5xhWZ8mqHvzx5089B3ZHM4Tf+v1njSQDAxMWOY537///1xXGqk+99sKPPy8SeLBISXvNevb7359JsgwogcDMzs4urGVjriTE+Ong+udIkiwyRtx8vHyyJrLsjAzfL8zcj2wai+klaAD8/ny5WQ0qCJMVggT379tnrm1+9gUiBg8h2bTUN69fv35x8fr7NxiuxObhgQAAXBaQXK+oGMsAAAAASUVORK5CYII='/>"
      ],
      "text/plain": [
       "<IPython.core.display.HTML object>"
      ]
     },
     "metadata": {},
     "output_type": "display_data"
    },
    {
     "name": "stdout",
     "output_type": "stream",
     "text": [
      "3\n"
     ]
    },
    {
     "data": {
      "text/html": [
       "<img src='data:image/png;base64,iVBORw0KGgoAAAANSUhEUgAAABwAAAAcCAAAAABXZoBIAAABY0lEQVR4nGNgoD9gROYwC0qL//v14cYvTElGEUsdU41fXx/O2w0VYUHIiUUUCHx4/FXWj+fqM3TzxfLu3p6fY6WedutJISuanETp3evFIgwMDKJNvw/xo0oKFn2+Vy7EwMAsZhz5+pwQip1sxgXf18z8wMDAbp7w4rgC3zsGBgYGBiaohUFiF6Z+YGBgYBLzdr7PIcmAJMkk4/9u80MGBgaGX3fuixv+/4ZsI6vbv6uqEKZI+79fB/mRdbII/Hn3EiLw9cK/t6u+I0ty6f24/QUi8OfFxzfzfqHYyfn/1z+IwO8nrxihGqGS//8zwgP53z+YHFTy71cmAViQMf7/hSr58xaHjixEgFlQWBhN8sodiSgpBgYGBkZBL/5LDKiAO+HtuxYDSQFh/cL7l61gojB3CNf7Cx4795bdyOXR/El/0SQZRWICJDjYv/17M33Zb3SdDAysmoaCAq/+Pd/yl4HGAABeoHjfJNq6UwAAAABJRU5ErkJggg=='/>"
      ],
      "text/plain": [
       "<IPython.core.display.HTML object>"
      ]
     },
     "metadata": {},
     "output_type": "display_data"
    },
    {
     "name": "stdout",
     "output_type": "stream",
     "text": [
      "0\n"
     ]
    },
    {
     "data": {
      "text/html": [
       "<img src='data:image/png;base64,iVBORw0KGgoAAAANSUhEUgAAABwAAAAcCAAAAABXZoBIAAABSklEQVR4nGNgGEqAEZnDxvL7319skszsrMzeXg8EnZd3f2ZRvfMbWROPYUr3rp+//vz998mM2f+SGAMDAwMDC0ROwrtU9vufF+cYma9kMqn0HvuGrHHSrw/LA3k5GRgYMh6Y3rsri+wUlpd/NwizMjAwMDBUZux4q4bqzFXfv09y4WZgYGDg7vxVwYTiISbNzS9/fu0RYWZgCvpxXQDdu7wJRz7/vBDOLHjqpiEjAzpgUmo5++3r6TlvI5gx5BgYGBgFsm/9+3WWBZscAwMDm/u/PzeVkUxDNlnU/8sFqVLsGnkTPsx0+XoAu6EON3dICDdd18ZmrKDzp4kvPp8WdMUiyaQSdW47AyPTfxYskrwG31cwMHAqIEU3kq+Yf//i4vTMe3IUi3u44j79+/frx71sVmyuVZz689+/OxkcCBHUQGZkY/7zC8EFABeBbogvfOCiAAAAAElFTkSuQmCC'/>"
      ],
      "text/plain": [
       "<IPython.core.display.HTML object>"
      ]
     },
     "metadata": {},
     "output_type": "display_data"
    },
    {
     "name": "stdout",
     "output_type": "stream",
     "text": [
      "8\n"
     ]
    },
    {
     "data": {
      "text/html": [
       "<img src='data:image/png;base64,iVBORw0KGgoAAAANSUhEUgAAABwAAAAcCAAAAABXZoBIAAABQklEQVR4nGNgGK5AWJYdiceILMWlbeM0aT//D03d1ydfMzAwsCCpEw8LVhUVsDJ8rSj3sAJFklHQxz6Mm+GflSwbOx8zPzvTP4Qkn32IuRrDvw+v/xx00GRkePaZ6R/cSNaAq5///X1/uFGWXWn/v3+/65gR1vEX3/3z99GmdmM2BsWZb/99XqnLwAC38yOn8I+bW9ff+MnGrm4r8GlP7xUkSYZFsuIbDzz7yeuooSz59eTyi/+RfcikrC/IwMBktv7P12dLAsSwhY/C0i///i2x4cEmx1T7/N+/R0kC2OQYjLZ8+/c+R5oZixSr1sa///6FCjFhkWPRWvLs3/c1/NiM5LKd9+/ft30yjFjkhPzW/v737UIONjkGk4Xv/n3aF4rVnUzF9/993OCM4Q4IJS/4YffMI9gl/69+wrbh+l90SQCGdnXhft6D5wAAAABJRU5ErkJggg=='/>"
      ],
      "text/plain": [
       "<IPython.core.display.HTML object>"
      ]
     },
     "metadata": {},
     "output_type": "display_data"
    },
    {
     "name": "stdout",
     "output_type": "stream",
     "text": [
      "7\n"
     ]
    },
    {
     "data": {
      "text/html": [
       "<img src='data:image/png;base64,iVBORw0KGgoAAAANSUhEUgAAABwAAAAcCAAAAABXZoBIAAABgUlEQVR4nGNgGEqAEYXHxM7wXdzZWez8wrsMDAwMLMhygj6R31/ZK/78YSOWgS6pWRTO+fHs+qu3vNOfoNugMefr6wX2gpxs1gfPezGg6OS2z3S4t2Djgz8MjP8Z/nxD1sVqv/zF163OXMwMDAxy3ffquZDkFKsvfbnbosHGwMDAwBt7eqk6ssaKp7ca9PiZGRgYGPgSr2zURvGDkpkqRIqBPfzyyQCYHIR++OjvfwYGBiGVv/LZAluO/kGR/MvAwMCt7eCk8p+Nce2stwwokgwMEi5+ujx8vAwM32RF76NIstk5m/Jc6eMP07r4RM/23p13yO5JPPFgjqe6y+LHc8yUw/dez2BHkrPafiBRgctm2ZttdiwMvO7rjvgh5FRm7o4RUK86+nCRLRcDAwNv3pOpAnA7bcW2vEh1Ufm7duGNnwwMDF9uv9XWOgaT5L3HF6D4fuKVu0//MDAwMPy/t0db6cQ/BgYGBkYGBnk2Fm6WT88//oNawykj8uLBfwbaAQB4FnyxzfjdmAAAAABJRU5ErkJggg=='/>"
      ],
      "text/plain": [
       "<IPython.core.display.HTML object>"
      ]
     },
     "metadata": {},
     "output_type": "display_data"
    },
    {
     "name": "stdout",
     "output_type": "stream",
     "text": [
      "2\n"
     ]
    },
    {
     "data": {
      "text/html": [
       "<img src='data:image/png;base64,iVBORw0KGgoAAAANSUhEUgAAABwAAAAcCAAAAABXZoBIAAAA20lEQVR4nGNgGDaAEYXHLiL27zcvFysrK8Orm29RJBm5zYJsP74W4fjLyMj4eulyBhaEHLOId5rih9+in++9//VbVIIN2VhGtVK/BxvPPnn7+8sPBgZJmUcvkQwVm/brTAgbihOY4KwfD199/obqPiQgUv10uzUWWS4VaQYGBq6s2z1cmMYGzvJhYGD4dumJoTampMT/GwwMDMxc3FIayJIQf/6Wsnj2SDwsSX7nCUw7A659eHz9+d9vmzVRhCGuE9A10VD+/3HPyvdYJBlZ2Jn///79B5cvhz4AAK9fRYVTjGHoAAAAAElFTkSuQmCC'/>"
      ],
      "text/plain": [
       "<IPython.core.display.HTML object>"
      ]
     },
     "metadata": {},
     "output_type": "display_data"
    },
    {
     "name": "stdout",
     "output_type": "stream",
     "text": [
      "5\n"
     ]
    },
    {
     "data": {
      "text/html": [
       "<img src='data:image/png;base64,iVBORw0KGgoAAAANSUhEUgAAABwAAAAcCAAAAABXZoBIAAABXUlEQVR4nGNgoAlgRBeQkWN59/r9L+yqk2/9OF6uBGEzoUoJaSlxMJvaiUAMZEGREwgItGC6KammcuUbuolM8slnvz2d4bXl52pddJ2s8hnBEvfnL3uhoasqjK5Rvu/N5wvhvAwMjmcuO6L5gsPnyd/d3twMDAz5Dz/GcqIYy2jpwvN7ycGvDAwMF96/ufUdRVK9zIH1yvnvDAwMDCp8b/6g+jPPge3LzLt/GRgYWA0F3n5HkWRSZP6+bdlXBgYGRjsb7gOvUJzDdfL3SQlGBgYGRvGzv2/rMyD7k1FI/u+Gd/8ZGNjEcxQZ5j5GDRztv/fYGRgY2H32fv99Wgs1xJn0f29mYGAWDH76589JHWbUEGA2/FLDwK2/4OPfny910eQYmNQezJdP+Pv37/eVcmixyMDAILjlx4Nff3++KWfFkGJg4Ep7/Pn3+71KWKQYGBhYLfoueLFjl6MnAADGBXBXb5AayQAAAABJRU5ErkJggg=='/>"
      ],
      "text/plain": [
       "<IPython.core.display.HTML object>"
      ]
     },
     "metadata": {},
     "output_type": "display_data"
    },
    {
     "name": "stdout",
     "output_type": "stream",
     "text": [
      "0\n"
     ]
    },
    {
     "data": {
      "text/html": [
       "<img src='data:image/png;base64,iVBORw0KGgoAAAANSUhEUgAAABwAAAAcCAAAAABXZoBIAAABTklEQVR4nGNgGGSAEYUnJq6u8WHzQyySLCJKDrp6iu9OLdnzCc0IJgHT9ru/f9w5+ezXFmuYcpikZaED6/tjd859j3I0MzyKIimck8P96eiew7f/2nMyvHyJolMgPotp/6rdL/8yq/lrMnz+gGwfb/KDD+vsGBgYGASyn/39c8gCWdL+8sel0gwMjFzSbtv//roQwY9sLKv8z2fvuNgl1c11HBh+Xtn8FVny9qqYZOur3+zZ+J99Ev544CuyqQwsahN+/P329MiE2qCTP49II8QZGBgY/txp2c6of/D1XSY94X/7nzKgAxZGBgYGBsaSv39jGFF1MjAw/GFgYGBg+G/15+dr5j/wIEU14Oufc3f+MWCXZPrxedMbXJJ8vB/PI3kEVVJKjun3HwSXBUXy77uXyPGMKvnnzMVbDLiAhK4oTjl0gJr62Hj/fETiAgAr83iMZl9/HQAAAABJRU5ErkJggg=='/>"
      ],
      "text/plain": [
       "<IPython.core.display.HTML object>"
      ]
     },
     "metadata": {},
     "output_type": "display_data"
    },
    {
     "name": "stdout",
     "output_type": "stream",
     "text": [
      "9\n"
     ]
    },
    {
     "data": {
      "text/html": [
       "<img src='data:image/png;base64,iVBORw0KGgoAAAANSUhEUgAAABwAAAAcCAAAAABXZoBIAAAA40lEQVR4nGNgGEqAEasoKxPD37//MSSZQ/0l37+6++bV209v37Gg6/Hw/crIy/L95/erG3aiSTL7Gt2fsuPdNzFZDk4OHjQ5r93H4/mxu4PJceOFPCEkPrKkfqLxzcu/sHuLq+jJ97tHFnrANSA7SFTl34HrTPqpr89ikfy+69z1J6JcZvLYJF9tYvzLLKnI8BndWHYRrt9MLBxiao6KOy+hSyqFy35l4eARleHdM+kNukt97v79+/ffv5/3Z1siBGE672214P/759fLbYduICRhQcXIqWb479ePt+e+YA+DIQAAK4hRShi51CkAAAAASUVORK5CYII='/>"
      ],
      "text/plain": [
       "<IPython.core.display.HTML object>"
      ]
     },
     "metadata": {},
     "output_type": "display_data"
    },
    {
     "name": "stdout",
     "output_type": "stream",
     "text": [
      "5\n"
     ]
    },
    {
     "data": {
      "text/html": [
       "<img src='data:image/png;base64,iVBORw0KGgoAAAANSUhEUgAAABwAAAAcCAAAAABXZoBIAAABI0lEQVR4nGNgGAyAGcFkwpA03XPQGZcks6WjrgU3Dkkx9f+8XOw4JLX1GT49+IlDkouH4d75b8iS3GxwST5exvm3/kPYLAwMDAys3n/2foRK6vD///AT2SjZHS9NoUzuG3/+eDMie0VXW7hcAMJ3lGL89vU/sqS9MKPWV4jGFK4/F+8hm8p38s+3YAhT/vqfhynIckxmH/88FmFmYBVhkQp5+mOTMFyGhYGBmZ+JQejg7y9ffj3llBf+8/AtsuS/NyfM2FUZ///9/4eZhfk3Qo6BhYHh791JnrLC7LfufH0sEWH46Ql6mDEwMDAwcfOzBZ35u88aRScU/PvKwKAs8f/RCyT1KLqvvvn35Ts2nQwMDAzHdjCf/MiAC6iF8OKUoxoAAPCKWMfSS6DhAAAAAElFTkSuQmCC'/>"
      ],
      "text/plain": [
       "<IPython.core.display.HTML object>"
      ]
     },
     "metadata": {},
     "output_type": "display_data"
    },
    {
     "name": "stdout",
     "output_type": "stream",
     "text": [
      "4\n"
     ]
    },
    {
     "data": {
      "text/html": [
       "<img src='data:image/png;base64,iVBORw0KGgoAAAANSUhEUgAAABwAAAAcCAAAAABXZoBIAAABYElEQVR4nGNgoBhk7ZFkRBdjgtJsztJCGJIwMP99NS+GIEyn4pud33BJ6glefP0Xl2Sg5BeoAJewMAtMEsrg+rH7JQMDAyOnqLnS/3t3b3/5j5AUljt/9ScDA4OQf5bK/1+/L67a8eo/XPLTbYl//xkYmBPz/526/5FDKpxx0zu45O8P4qwMDAwu3kxN6z/+5hBJ8Xx84C/cQT+ZWBkYHMpkKxa++c3w48nKTx5KCNf+YGZl4DAXnLbtFwMDAwPD9QMK2gxIOlkYeKXfn34L9cSb37wIyfsPWRn+fX9yHyonZiDLjpB8xeUmIvDl9HNIwIgHRLI+RUg+3Gc4Q/X4P1FWBgZGbt34DOlDZxgYGGDRJBxd+e81544tD5gE1TwdmDfPPIUcxtK1X//8+fP17rGHn9+dmaDPwoCkk4GJV8svgZOJgef3o907LzxkQJFkYGBkU7HSZ9F/vXvxB4ahCABjLXY5q4cbHQAAAABJRU5ErkJggg=='/>"
      ],
      "text/plain": [
       "<IPython.core.display.HTML object>"
      ]
     },
     "metadata": {},
     "output_type": "display_data"
    },
    {
     "name": "stdout",
     "output_type": "stream",
     "text": [
      "6\n"
     ]
    },
    {
     "data": {
      "text/html": [
       "<img src='data:image/png;base64,iVBORw0KGgoAAAANSUhEUgAAABwAAAAcCAAAAABXZoBIAAABG0lEQVR4nGNgoAdg42PDKcdpO+HGxw5xGJcFWU7SOlL9wX1J2ZdYJPkjkn52bJRLZsZiJl/SlSMeHAyMAhyYcrylV097ceJwjO+tD5G45Biavs5nxyXHcPSaJi4pzrJneRiuhHlFIvTpEdE/v779wSLJqibxM5fx3bMrD1+9/4cuKWwl9sf0MZ9G1I9zsy+iS+q6M1+Yc+mLmI+Ou9Pcxa9Qrbbb/7ZGiIGBgUHIdfs6fZgoE4R69unUvvcMDAwM73bvMbTkQZN8o2MqwMDAwMAkIM4LdxHUzm/XPcO/b/nEIsnjHnz50HeoJCNM0RGt55defFWUUTrefeovmiSDtqOH2U2O35+O9n+BOxMuycwto/KJ++uNFwwDCwBgXVxgske1twAAAABJRU5ErkJggg=='/>"
      ],
      "text/plain": [
       "<IPython.core.display.HTML object>"
      ]
     },
     "metadata": {},
     "output_type": "display_data"
    },
    {
     "name": "stdout",
     "output_type": "stream",
     "text": [
      "6\n"
     ]
    }
   ],
   "source": [
    "y_inv = invert(10, mnist.y)\n",
    "Xb, yb = img_select(proc, mnist.y, y_inv, 20, lambda img: img_rando(img, i=0.0))\n",
    "for (a, b) in zip(Xb, yb):\n",
    "    img_show(a)\n",
    "    print(b)"
   ]
  },
  {
   "cell_type": "code",
   "execution_count": 7,
   "metadata": {
    "collapsed": false
   },
   "outputs": [
    {
     "data": {
      "text/html": [
       "<img src='data:image/png;base64,iVBORw0KGgoAAAANSUhEUgAAABwAAAAcCAAAAABXZoBIAAAA7UlEQVR4nGNgGPQgft3/RhxSQmW///69i1WKqfTp3784JGWW/f3799ldrJJs+//+fRUq5/S3B4tk0d+fLy0ZmJb+FcAimXq2iYGBIf7vPiYcrmVwv/fcFJccy8U/TVglLON41Hb8nYsQYITSrl6WDIYs1wQlGVTuo+lxOfzr78/3f//+/fv370p2VDnjz3//Hg6s//v3xY65n/4u50KR9Pn79+/l63//7jdjYFA/8xfVRSoP//79+3avIwsDAwND1defrCiy6ntyAuVhnLV/FXF5lIEh5G8hbsmAv+w45RKePWTBKfnkkSZuU6kCAAE9Yn6u0rxiAAAAAElFTkSuQmCC'/>"
      ],
      "text/plain": [
       "<IPython.core.display.HTML object>"
      ]
     },
     "metadata": {},
     "output_type": "display_data"
    },
    {
     "name": "stdout",
     "output_type": "stream",
     "text": [
      "orig shape (28, 28)\n",
      "hog shape (81,)\n",
      "values [ 0.  0.  0.  0.  0.  0.  0.  0.  0.  0.]\n"
     ]
    },
    {
     "data": {
      "text/html": [
       "<img src='data:image/png;base64,iVBORw0KGgoAAAANSUhEUgAAABwAAAAcCAAAAABXZoBIAAABIElEQVR4nLXRwUrcUBTG8V/ae8dJQk1EnAiRoaWrMhT3bnQ5dNlX8Cn6cr6GS0EUdCFiaWdqE9FF4jgVldn02xy4/3s433cOK2sdgqJ8ka0RhbGg+7aktPlDE+P2bXsFyYIkw/VL2AzlzVXzrHMwj+CmvX3fxOYlNygVwesq3s70j81ufLoPQ/X0OSNMbcDwsH8PEIJWKu79vL5GkmVmPQ4fwJe9H1WakmXfPy86Wy24OI7zOWaPXcsT7UsDTNXD10yjXjFkbtCvJFYwMaqeWL4lI2FHzdjk68Lt3yIv7n/zLrG7ecb5p4+nCxhiOm9ayp3qqLnn7mT27dfpXYczRSmnVsXu9tWB8ePQwiCHSnftymiy5HfQ19jX0Yo5/4ceAI4FNsBs7ICeAAAAAElFTkSuQmCC'/>"
      ],
      "text/plain": [
       "<IPython.core.display.HTML object>"
      ]
     },
     "metadata": {},
     "output_type": "display_data"
    }
   ],
   "source": [
    "index = 15500\n",
    "gray = proc[index].reshape(proc[index].shape[:2])\n",
    "img_show(gray)\n",
    "print('orig shape', gray.shape)\n",
    "gray_hog, example = hog(gray, transform_sqrt=True, visualise=True)\n",
    "print('hog shape', gray_hog.shape)\n",
    "print('values', gray_hog[0:10])\n",
    "img_show(example)"
   ]
  },
  {
   "cell_type": "code",
   "execution_count": null,
   "metadata": {
    "collapsed": true
   },
   "outputs": [],
   "source": []
  }
 ],
 "metadata": {
  "anaconda-cloud": {},
  "kernelspec": {
   "display_name": "Python [default]",
   "language": "python",
   "name": "python3"
  },
  "language_info": {
   "codemirror_mode": {
    "name": "ipython",
    "version": 3
   },
   "file_extension": ".py",
   "mimetype": "text/x-python",
   "name": "python",
   "nbconvert_exporter": "python",
   "pygments_lexer": "ipython3",
   "version": "3.5.2"
  }
 },
 "nbformat": 4,
 "nbformat_minor": 1
}
