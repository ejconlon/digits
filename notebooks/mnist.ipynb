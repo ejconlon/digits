{
 "cells": [
  {
   "cell_type": "code",
   "execution_count": 1,
   "metadata": {
    "collapsed": false
   },
   "outputs": [
    {
     "name": "stdout",
     "output_type": "stream",
     "text": [
      "ready\n"
     ]
    }
   ],
   "source": [
    "import sys\n",
    "for p in ['..']:\n",
    "  if p not in sys.path:\n",
    "    sys.path.insert(0, p)\n",
    "    \n",
    "import os\n",
    "import pickle\n",
    "import random\n",
    "\n",
    "import numpy as np\n",
    "from scipy.io import loadmat\n",
    "from sklearn.datasets import fetch_mldata\n",
    "    \n",
    "from digits.common import fildir\n",
    "from digits.data import Env, Loader, Data\n",
    "from digits.explore import img_show\n",
    "from digits.images import *\n",
    "    \n",
    "env = Env('..')\n",
    "env.assert_ready()\n",
    "loader = Loader.from_env(env)\n",
    "loader.assert_ready()\n",
    "#data_home = env.resolve('data')\n",
    "#fetch_mldata('MNIST original', data_home=data_home)\n",
    "print('ready')"
   ]
  },
  {
   "cell_type": "code",
   "execution_count": 2,
   "metadata": {
    "collapsed": false
   },
   "outputs": [],
   "source": [
    "mnist = loader.read_mnist()"
   ]
  },
  {
   "cell_type": "code",
   "execution_count": 3,
   "metadata": {
    "collapsed": false
   },
   "outputs": [],
   "source": [
    "proc = img_prepare_all(mnist.X)"
   ]
  },
  {
   "cell_type": "code",
   "execution_count": 4,
   "metadata": {
    "collapsed": false
   },
   "outputs": [
    {
     "data": {
      "text/html": [
       "<img src='data:image/png;base64,iVBORw0KGgoAAAANSUhEUgAAABwAAAAcCAAAAABXZoBIAAAA/0lEQVR4nGNgGHhgPP/vfCMccgbv/vz58xa7nNnjv3/ev/xjyYYpxWXz4M/fP6dC/vytgggwIUnOPCDDwMBgxHOQQRdD0tibkfFQKeOL85OYGLG5ZTOPd6UoA8Pfz2gOVlv69+WFEAj775+lKHLsm/58cBeWgUkeRpG0/PPHHs5Blzz2dx+C8//vEWTX+hj834SQ/Pf/ArLG0D/PJOHWt//dxYMqeR8u1/znoTsDquREKMtg6Z+1DKgg7O9DCKPo3d9FaHIMoX9+TjKQDd308O/95RaYkn/+PL3+58+fI03oUgwMMsf//Pn758/LiZhSDAwMkg1//v7pVcUqR1cAAKxwbkTVIzd2AAAAAElFTkSuQmCC'/>"
      ],
      "text/plain": [
       "<IPython.core.display.HTML object>"
      ]
     },
     "metadata": {},
     "output_type": "display_data"
    }
   ],
   "source": [
    "img_show(proc[0])"
   ]
  },
  {
   "cell_type": "code",
   "execution_count": 5,
   "metadata": {
    "collapsed": false
   },
   "outputs": [
    {
     "data": {
      "text/html": [
       "<img src='data:image/png;base64,iVBORw0KGgoAAAANSUhEUgAAABwAAAAcCAAAAABXZoBIAAABeUlEQVR4nGNkQAOCFr4f95z+hC7MwMDAwMARs+vj67sxzIxY5JisDvz88fHzXH0hLJJKC7/8fbt1+ffLMQwMDAxMyFIsskm+HAzsPJdvSRpg6NNZ/uPXq+u/Ljnl/VzNg+4Y/2d/304r2JfFx/vuawIfihyz9rafP9Zwm7jyMTKc/bPfENlORn5Hh6/3t/w/s/vTf4YHDFLyDAwsCJ02Yb/nbHj0l4GBgYHhAQO7JLIkT5jBzpVXfv2HSDKxCSFLaqr82nvtJ5Rz//+PZ8iSToqPnn+HWi9i9v3oCiQHKSnwvbwPZXN6xL5f9gtJ8vfHfz/uQpgCLhnPAnf9RTL262tGxq8MDAwMDEL+8eztV/4yIEl+e838le0XAwMDc1wax+ozPxiQJX98/OzideGLgp+v4vO1a14zoEgyfHmlUnH2h46B4I31ay8xoAHL/T//fH337evxYHQZBgYG4ZJzr//8fdStixBCpBUmLh1vxQdXjz/5g0XnUAAACyCPLNmxWRsAAAAASUVORK5CYII='/>"
      ],
      "text/plain": [
       "<IPython.core.display.HTML object>"
      ]
     },
     "metadata": {},
     "output_type": "display_data"
    }
   ],
   "source": [
    "img_show(img_rando(proc[0], i=0.0))"
   ]
  },
  {
   "cell_type": "code",
   "execution_count": 6,
   "metadata": {
    "collapsed": false
   },
   "outputs": [
    {
     "data": {
      "text/html": [
       "<img src='data:image/png;base64,iVBORw0KGgoAAAANSUhEUgAAABwAAAAcCAAAAABXZoBIAAABA0lEQVR4nGNgoAlgROGxcrBzsH17gSnJ7WxscI2DnZ35zsTPGGYIzP/y59+/f//+vbGGCTHBJb+e52L6/+8/AwOvKkyIBS75ey27p/xneX6GLw+Y/mGYy8TJxsC8/de/1WKMGDoZ/n1nYFCXZmTY+eU/hp0MDAwMjAESzO+f/cV0EAMDA4OMHf+/3Q9+Y5fk5mR9v+XeP+ySJqIMD5/9YMAuycX17wVS8KBICquKfz17C4ckMyP7y7sfcUgqmTA8vsKAQ/I/OwPrT1yS334z8DDjkvz6h4FfhhWXzp//ZKqMGLADZr1Ln39MxSHJwCDfczYCpyS1AGq6ZWDik/715DuMBwAevE0EcG1kLAAAAABJRU5ErkJggg=='/>"
      ],
      "text/plain": [
       "<IPython.core.display.HTML object>"
      ]
     },
     "metadata": {},
     "output_type": "display_data"
    },
    {
     "name": "stdout",
     "output_type": "stream",
     "text": [
      "7\n"
     ]
    },
    {
     "data": {
      "text/html": [
       "<img src='data:image/png;base64,iVBORw0KGgoAAAANSUhEUgAAABwAAAAcCAAAAABXZoBIAAABW0lEQVR4nGNgGGSAEYXHLCv6/e23b7+xSbIaJgQynHx2cM9bTFPYHHZ8+fPnz9/r0byYkrYHv/39+fbt7z+rdSACTEiGZhowf7/Y7HCJQYgZIsKCkOT4c0D4edr7XJm/Z99gmMqszi/PyMAy7/MTFw6sPmPizXj7pUCQEVOCU1RW9+C3PwkCmHJsyqE91//9vhfKicVE5Rl//vz5fTeaHSGEcK1OHMPf/0z/BX8iWcTAoBwTpcDAwPDr4c/b25lFTDiRdbI4FP5rfMDA8OnCtbUfdEX+MyJLsqqKMYiy/mY4epRBJEP86MIfyMb+efKGX1eRhYGBgVlY/ue18/9QnKlee+dGsSQDI4vTxvf7XZgYUIHQzA8ng4Qlvda+/71SG8OL/tf/HOjY9v7Xu60+mKEqt+fT75/f/8z3UuJCEWdhYGBgeLTwncH7JYeff/z1D0MjBDAyYYY3PgAABz59UUo4LdMAAAAASUVORK5CYII='/>"
      ],
      "text/plain": [
       "<IPython.core.display.HTML object>"
      ]
     },
     "metadata": {},
     "output_type": "display_data"
    },
    {
     "name": "stdout",
     "output_type": "stream",
     "text": [
      "3\n"
     ]
    },
    {
     "data": {
      "text/html": [
       "<img src='data:image/png;base64,iVBORw0KGgoAAAANSUhEUgAAABwAAAAcCAAAAABXZoBIAAABEElEQVR4nGNgGGjArHNrPhMOOfbOX38/JeDQ5/vv37934VjlGEUO/fv3fRoLVknBqf/+/X2khd1Qm3///r2NYkQSQriNkZOB4fuO7f+x2ig87d/PnYIoYnCdbM6hDN/Pf0A2lQHuNt4I4X+PVsrrqZx4+hBDkoWF4ddTh2wlht8HIt6jW6l6/N+fz5///fv372EChk6GPwxM3Ax//7AxsgqjO4iJV4iB4d/HvcVPGP79Q9fJrqnJ8P/pzH0JkkiScCu3/Pv3ZXveql//Pi0SR5Nk9frx79+/n7/+/f21RxHdn4xsbAwMDKwM/z8dmPwQXfL/94eczBxcv94dnHoUyTIoLWQlx65lfmPtnrcMAwsABEdpaF4JuyAAAAAASUVORK5CYII='/>"
      ],
      "text/plain": [
       "<IPython.core.display.HTML object>"
      ]
     },
     "metadata": {},
     "output_type": "display_data"
    },
    {
     "name": "stdout",
     "output_type": "stream",
     "text": [
      "6\n"
     ]
    },
    {
     "data": {
      "text/html": [
       "<img src='data:image/png;base64,iVBORw0KGgoAAAANSUhEUgAAABwAAAAcCAAAAABXZoBIAAABNklEQVR4nGNgIBcwovE1neQWXMehlqv/yc8iOI8JVVIvWJJJHodGrWW//v4Nxi7H1v/h7599wtglo+7/+XvCigmrnPTuH3+/prFg15j29M/f2TLonoMAswM//j61QdYIZ7PIpxiwflt6/Z+uzqvn1/+j6pOd9Oz3lyP+aqH771w/Vg/RA7NBNDVLkuHSLUFOUUUWhr+Xbb4jG+seIcbwiMtCnJWBgYGBmYsF2U5+c1lmBgE2dqhBjMiS/FEOXAwMfAwMDDduLdTJF2JkRpKU81CDMM61XXimAheGkNw8UOP59F0ELfgZnv9Hkvzx7gcHAwMDA4N8FjsLG9PPJZ+RPMlnu/j9Xzj40CmOHEKfTny8Ha3CwMDAwHD+6IdtV74xoAQCi6Ak+58/f37/+fbt789/DIMUAADKX2juMdRAEQAAAABJRU5ErkJggg=='/>"
      ],
      "text/plain": [
       "<IPython.core.display.HTML object>"
      ]
     },
     "metadata": {},
     "output_type": "display_data"
    },
    {
     "name": "stdout",
     "output_type": "stream",
     "text": [
      "6\n"
     ]
    },
    {
     "data": {
      "text/html": [
       "<img src='data:image/png;base64,iVBORw0KGgoAAAANSUhEUgAAABwAAAAcCAAAAABXZoBIAAABKklEQVR4nGNgoAlgxCKk6v58/V8GBgYGFkw5qzTLRSx/sZtlvvrpHh9m7HLC855NsBPCLse96N0RG0y7GBgYGBiYS5/d9+PGLsek+PRTOA92ORbNN3/XCGDxHQMDA5vDrZ+LxbDrY7e7/fUgDjM5HfZ+Xs2EXY7bad3H7VoMDMycrHAxmO1slgWeN5Z+0hVl4L6w7vJvFEkmo7wgxveMghe2vTczurVy1wdkQ43mvr7/4tulfBk+QYPZH3c4Qr3GwMDAwMAf5fd8veX/tkMMjMo26uysbMiSBrbsM85anLzFo2PvoMF9ZtlZZEkx0Z+cWoJ+xgpC3x5sun39whtkB2nON/zNxvKH8dTewy8+vPv+D8UrLAnWokKCrw7N/vD9z3/s4YA1RdEbAADg6l123GgSjQAAAABJRU5ErkJggg=='/>"
      ],
      "text/plain": [
       "<IPython.core.display.HTML object>"
      ]
     },
     "metadata": {},
     "output_type": "display_data"
    },
    {
     "name": "stdout",
     "output_type": "stream",
     "text": [
      "6\n"
     ]
    },
    {
     "data": {
      "text/html": [
       "<img src='data:image/png;base64,iVBORw0KGgoAAAANSUhEUgAAABwAAAAcCAAAAABXZoBIAAABG0lEQVR4nGNgGEqAEc5iEvv++xt2SUZ+k7D3yQIvtp5ajqaCgYFbu+nh34/vf/39fFwfIcoCoQzKvT4cunDup1q2jNVFNI0c0z7vK1dkZGAN/fF+rhSqTjYXpx19J/8xMEhZXj/1VeYZikax5vWGDAwMDOzpr2equeig6pRQO3eRgYGBQdaG8caTJ/9RJYVkXwu/ZuCRddVfuR7ZIywMDAwM718HKBx5LG1iy9fylAFd8uo6NXeDZ2z337Pf/40ZQpwq5v9+/zuZFWp/D0Mnw/cr93/8YWD4z/YFxRdMEOr/lz8MDAy8fFLYJCGmcH3hxSnJy/76AW5Jjv+KOCWFRT79xCXJqKiCR1KY7dVnFElGJKa63cNjqLL4AACng158pf+LMgAAAABJRU5ErkJggg=='/>"
      ],
      "text/plain": [
       "<IPython.core.display.HTML object>"
      ]
     },
     "metadata": {},
     "output_type": "display_data"
    },
    {
     "name": "stdout",
     "output_type": "stream",
     "text": [
      "9\n"
     ]
    },
    {
     "data": {
      "text/html": [
       "<img src='data:image/png;base64,iVBORw0KGgoAAAANSUhEUgAAABwAAAAcCAAAAABXZoBIAAABSUlEQVR4nGNgIBcwonLZhf+/+4lFUs7bWuz5J/53n27uew4VYoFL6uWr//37//uHZwYa05+hSTKxyL7ccJpd/vFttZSvHWiWcxV87pdhZ2BgYBCMOyOBJsm6/VcM1BkqXwKgpsEkf7N8vgbh/M9m/caMKsnw4J0QMwMDAwN3mFff6b9okuf/pOgzMDIIW8beWvMe3SuX73nKL9nM72z4YuNlBnTA4zj9zY83t97vdeDFkGNgYJbJePXn4+9zkVjkGBhYnB+d7Tnw+6w1NsncAycUGZWX/1nHiimnduSHDysDg8qetxpQEYRXGDw4u079ZmD48OkBL4Ykm8zTLa8ZGBisNe9+xpBkvPGT+z8Tg5iD1NvXMBfCJX+ej2wUuypg4/Fw3ntMB/HEPf/17e3Hk3FwxyKnIU5TxsiX3Md2fMPmTwYWRqzCdAUAJ8RwIjKFaUAAAAAASUVORK5CYII='/>"
      ],
      "text/plain": [
       "<IPython.core.display.HTML object>"
      ]
     },
     "metadata": {},
     "output_type": "display_data"
    },
    {
     "name": "stdout",
     "output_type": "stream",
     "text": [
      "8\n"
     ]
    },
    {
     "data": {
      "text/html": [
       "<img src='data:image/png;base64,iVBORw0KGgoAAAANSUhEUgAAABwAAAAcCAAAAABXZoBIAAABYklEQVR4nGNgGNqAEcFkwpB02LY7Tx7CZEHVxSTKICajLs+34Ol/DEllfQd5cTkWpbizL/6gmxi/8Nm/7/tn3P39t04ATYrZ5eL3Py/X+QnPev57nTCaZNTFnx9PVfAxMMhu/XuQH0WKSfXI3x9bnRgYGBjYIv/c0kL2CrNElMnnjb37GBgYGBi/M7JpIXtFJLmE9UT7VYhCSQYOZEk2TQu2nf2X/0IkpRhunkbyvP68z2ttOKC8iDMf60URdgqFu/+9ee8HRM4+XuPc4U8Inbpn/nZKQdTxCG54MsuTF8kfcc9/WbEwMDAw8Cikbf66RpUV2ZNbf1+TYmBgEE3MnfP112NHmDALAwMDg5DC7/2/uGxVRGO5BV/caD+OEjoy6/+83PrxxZMnP24vi0eObQYGBgbB4g9///79+/lAe4IwM5I4CwMDA8Png1L6crJn9p47/vUbsiYkM/hZf3xhIB4AADyPdjQN/zOnAAAAAElFTkSuQmCC'/>"
      ],
      "text/plain": [
       "<IPython.core.display.HTML object>"
      ]
     },
     "metadata": {},
     "output_type": "display_data"
    },
    {
     "name": "stdout",
     "output_type": "stream",
     "text": [
      "0\n"
     ]
    },
    {
     "data": {
      "text/html": [
       "<img src='data:image/png;base64,iVBORw0KGgoAAAANSUhEUgAAABwAAAAcCAAAAABXZoBIAAABM0lEQVR4nGNgoD9gROZwcPNw8/AwPnn4A0VSPpSXXdRKneHPN2bu15tmnoGIskAo0SwhVlbGT1/vn+HWUfC9gyr59fO/pytPXWX495vNqVGFB9VqNjkxbkYGBgYGdsNZb3a4YnUeu6z7ko87g7iwSDGJeC29+WilOzcWr3Aql9r9vH1g3cN/mPpY5/x92+LIj9U6Bs4Tv7cosmKXY2DQvvl7kQ0HLln3C1/22zHhkGQ03PB1uRAurQyWx94EsKMLKgkw8LAxMDAwlL/cLIMQhljx+XdQsSIDAwPTj9+iXOiS75yq2D8wMDCpqzPu+4iQhMSKgJ/w2ZcsvMqZ3lf2fECX/P/jC6eMrF2A2pWJJ36iS/5+LdfyRpr9yfZlB74h+w1C8aVm/nl9dtvZD39xepN6AAB2P2BSapWwVwAAAABJRU5ErkJggg=='/>"
      ],
      "text/plain": [
       "<IPython.core.display.HTML object>"
      ]
     },
     "metadata": {},
     "output_type": "display_data"
    },
    {
     "name": "stdout",
     "output_type": "stream",
     "text": [
      "3\n"
     ]
    },
    {
     "data": {
      "text/html": [
       "<img src='data:image/png;base64,iVBORw0KGgoAAAANSUhEUgAAABwAAAAcCAAAAABXZoBIAAABJ0lEQVR4nL3QvUrDUBwF8JObNGlsWiyFJqGLQ1RULIiQRdpRBCfxBdxcfATfwdE3cFNEVymoRSiIIn5sOgml2IQGGxKa5sZBaEluMurZ/ufHGe4F/ji7V/MkUU1v06zyAIQcl4I02KoAaDY0nsUCp88Atf3TAy1lSSUJIEGpucpiRBwfoC5EicWQ9AeA/dIXZRaHlA8Av91SVKVcJgAgTNClRQ6IInluL5JHt/cx7NrLje7S4ppJ6keR29qJ4dPd9qGvzxYlYPz1eBH/q/zmpRWGY+uZemcrv9V06bedjVLuoze4jk7ewIQUKjUlr3TGx3JyCVDXBYCHuqF4iXdOcu5oVZKF1nDBELMwdAVDycL3V29dz8Lvm09vBADgWISq2r0gpf+X/AB/L1wAo3+jNAAAAABJRU5ErkJggg=='/>"
      ],
      "text/plain": [
       "<IPython.core.display.HTML object>"
      ]
     },
     "metadata": {},
     "output_type": "display_data"
    },
    {
     "name": "stdout",
     "output_type": "stream",
     "text": [
      "4\n"
     ]
    },
    {
     "data": {
      "text/html": [
       "<img src='data:image/png;base64,iVBORw0KGgoAAAANSUhEUgAAABwAAAAcCAAAAABXZoBIAAABIElEQVR4nGNgoAtgYUfiMKFJqtb5YJHk42FiYGBgENJlwZRkSvblZ2BgYHjKpSqIsANK/9f6zsjAwMCgJ//8J4ZOAdmLnxgYGBg9xD/+xZAs1Hz0h4GBgVmH/eMfdB9IPVjGzsDAwCDw5z6S+yFMxhKp9T8ZGBiYDRje/kNIsjAwMDAwaYWd2M/AwMDAof/jIgOaTsEEtm1fGRgYGLilPp1Ds5An4tnPazODxBnYHY+ftkeSYGFgYFCIY9n6yszk7M2/Ftorj6JJ/to+4xSrqqmJN5vS78fIHmGEKPnDwMSvJCQaK9i0DU0nA8MfBoZ/788yWDJevYfsGJQo05PbewOnpIH4R0ackopcf5hxSv678/o/Mp8FmbPi79W/DAMMANlUSNdK4lnQAAAAAElFTkSuQmCC'/>"
      ],
      "text/plain": [
       "<IPython.core.display.HTML object>"
      ]
     },
     "metadata": {},
     "output_type": "display_data"
    },
    {
     "name": "stdout",
     "output_type": "stream",
     "text": [
      "4\n"
     ]
    },
    {
     "data": {
      "text/html": [
       "<img src='data:image/png;base64,iVBORw0KGgoAAAANSUhEUgAAABwAAAAcCAAAAABXZoBIAAAAp0lEQVR4nM3MPQrCQBAF4JlxF40/KIii2KawFESwFDyGl/MQOUlK0S4iKEQFxbDJspbuFq8RC1/3+GYe0Z+Fg9abvDKDTjfHdCqfqgJctEcdb0sCVELGfYVaqCSA3XGN/c8g83t1GqJP3XJJjlCRPVcARZO1BJA12xtGV+wR0jMvDUKb7aiP0BUPGcBZJdwQjNEsRiimvlz7xz5ekyhuIrxsD6uUfpE3/GotZcGaYBMAAAAASUVORK5CYII='/>"
      ],
      "text/plain": [
       "<IPython.core.display.HTML object>"
      ]
     },
     "metadata": {},
     "output_type": "display_data"
    },
    {
     "name": "stdout",
     "output_type": "stream",
     "text": [
      "1\n"
     ]
    },
    {
     "data": {
      "text/html": [
       "<img src='data:image/png;base64,iVBORw0KGgoAAAANSUhEUgAAABwAAAAcCAAAAABXZoBIAAABaElEQVR4nGNgGKqAmZMFVYARzpDwNuJ+su/kFyy6OPz3vfr09fWRbAFMnayJZQr3Tz/6kfjZ5yUD348vfxkYGBgYILYwa2Yq7Gm++5eBNzmU6avMi/23vyH0i6/8el2HhUG97vjf509evft9v4YPYaznIuGgbeytDpJ8N3Y85RZ1VWBckQfXO+XXO46Ix19uLip0EGRi4A5c9/tOENzYJ78m6r/6PNVbhp+BgYGBgc3r5r/lMAcJsH7e/2/NijN/fkHU/rqwpfAdTJL9vD7v5SwkD3IJ/n7DwMDAxMDAwPD/OpcFO5Icj4X+8UMwyW/XmcyMmGBSTCrh6UKLj8O4LJa7fyxXZYOElWb8ggcPG2TgIfTn0moNb+6lV3+yqwsq6On+f7x18VNEIDDJxsRIcbD++vT7L+ersycvXviCHPAMHL42Wrpizx+fPP3i3rOf/1FihYGBgYGbh5Xx3+8PvxhwAEZcElQFAErogksp3S7nAAAAAElFTkSuQmCC'/>"
      ],
      "text/plain": [
       "<IPython.core.display.HTML object>"
      ]
     },
     "metadata": {},
     "output_type": "display_data"
    },
    {
     "name": "stdout",
     "output_type": "stream",
     "text": [
      "0\n"
     ]
    },
    {
     "data": {
      "text/html": [
       "<img src='data:image/png;base64,iVBORw0KGgoAAAANSUhEUgAAABwAAAAcCAAAAABXZoBIAAABe0lEQVR4nGNgIBcwInOY7Z25yn8h+CwIJpOWeYIaq/zDE3ve/Uc3Qips3fXff//9fHt7kQi6+VxV53///fLp65+/fz+GcKEay2iYrMDwYMpLdkM5M1HPY99Qdbb8/PeyXpCRXUF369fzeoyoDtJgYNi38tP/nw8YXv/9w/AfVZLnP8O1Z38ZGFgc1Nm+/kfzys//DCIcf7UkdN20WK58QpO8bc9uESOmIyojwnJx6ws0r3jc+vv90fd///79+7dADRYsMMkL13+yy7D/Z2D4/9/MXgjN2F9f/v5n+Pb21jUFK7Xcf+vfoUia6HL+PHnq7o270sn+mnbH0SRFmG5P2/3pH8PzP9JeeirXUCTFOBiuXvnAwMDw79UHBk5OVDu//2UQlXv4jYFfw8uE4dFTVMlHH4TNUpXv8OgbGknc2XoN1Z96y97/+f321OUvf36czJGDBDw8mTA5+luq8TD8fn3nyr7DbxhQJRkYOBzdhH5+fnj1xss/DIMUAAARFphVQTzeVQAAAABJRU5ErkJggg=='/>"
      ],
      "text/plain": [
       "<IPython.core.display.HTML object>"
      ]
     },
     "metadata": {},
     "output_type": "display_data"
    },
    {
     "name": "stdout",
     "output_type": "stream",
     "text": [
      "8\n"
     ]
    },
    {
     "data": {
      "text/html": [
       "<img src='data:image/png;base64,iVBORw0KGgoAAAANSUhEUgAAABwAAAAcCAAAAABXZoBIAAABJ0lEQVR4nGNgoBdgE+VhgrAY0WSY+JUU7bji39yxZWBgYEGV49Wx8rVm+s8o+oEBU1I1y43v4/+f505vwjBW0tTV/NfzO6f3Mvz/8g9N0idQ/8OePTe//8F0pLDP1o9f2mWQhRB26hZoXjmz7S12701/fyNOlhXVX3CWBIeINOs/7BqZ4u7/uT1RnQmrJKNw+IXvn3uk0IMMKssXsP7Hy1xm7AYzcLgf+HpUDV2UkxNC8yU+fN2HFKBMDAwMjJ7l+gwMDAwMnw7v+K+ripBkYWBg4HLy1158/Of/f6zC7z7/40aVFJaX9LV89ubtu+/6Np9P3keVfPT+N6ukJAMDA8OPl/s2YwSg3vnff//+vXlgYSpKwEP8zCguISoi+ur5xQ84fEk/AACKCl8+WwXJFgAAAABJRU5ErkJggg=='/>"
      ],
      "text/plain": [
       "<IPython.core.display.HTML object>"
      ]
     },
     "metadata": {},
     "output_type": "display_data"
    },
    {
     "name": "stdout",
     "output_type": "stream",
     "text": [
      "5\n"
     ]
    },
    {
     "data": {
      "text/html": [
       "<img src='data:image/png;base64,iVBORw0KGgoAAAANSUhEUgAAABwAAAAcCAAAAABXZoBIAAABU0lEQVR4nGNgGBmAEc7ikBL89OnTd0xJZgZlHTkjvg8fPrw8egldv2Tv3buPvv/9+/fvt3MR3HBhFgYGBgYGHnWZgwe0tTj/iQnqlNkePfr0D7KdNjyPnyqosJ1iTfRWZLi/YfrT/8gGszBBaFbD5CO/PmexYnc+i3jL3z+3kO2EOZ2VjdvCypnhzWo0SRZV6y9v2B38+FgFfx5uR5c0yOH7wyv2//+bo7e3fYFJSmk+vv2fgeEX028OHq5fT07uvvXyGdwir3m+zAwMDAxy/nl7Pj8NEuZCchxDgM3S/wwMDAyPHjFI6X958hbJgUwM/DJKCuyMDAwMLFKqnJtuo3iLYaNTsv6Gy0x//7pb237f+QHF04ziJXf+/jz//sqe67+f9qEGCCMDg0iRv4AA+5/vz2+cmfkWXZJdWYOPj+X5a5anDz5jBicDAwMDGwd2cdwAAPVWctLYWNnKAAAAAElFTkSuQmCC'/>"
      ],
      "text/plain": [
       "<IPython.core.display.HTML object>"
      ]
     },
     "metadata": {},
     "output_type": "display_data"
    },
    {
     "name": "stdout",
     "output_type": "stream",
     "text": [
      "3\n"
     ]
    },
    {
     "data": {
      "text/html": [
       "<img src='data:image/png;base64,iVBORw0KGgoAAAANSUhEUgAAABwAAAAcCAAAAABXZoBIAAABU0lEQVR4nGNgoD9gRGJLa3tw7Tr4Fqs6n8Vn3n++3qOJTc5gzbf/////fz1dBy7EAmd523+ccUIkyjr09euXGDqn/T/ixMDjc+D/0wZJDJ1/GL7+YPiy/88f54Ara9AlfzMwMTEwfD0kJKyR/3c9AwMDAwMTXPLaPVFNEQaGbzuWvTf1lkWVFBJlVwoxZWBgeLdkObt/PKqkgpX09W33GBgYGJ7fYxCRQ3VswsO7eXwQpuGa/1djkeX01v5fIg9lc+T8/zkb2VgrR4aXD6HsHx8Y2PiRJXkEGViRvAzxIkzyN5KXZc0YPj1Glnxyh0EOGh+8zqEMD7ciO0im6c3zyToMvEa+GSsv/v80l5eBAWHWk91O1mHSd/jkRQSVGe5O2P8ZxZ+S6Yf+Q8DLGe4CEDG4K54vff/vHwfPsy/Xr5y9AxVDSkOiuv/YuF98f/KGgcYAACaeePaGhu6jAAAAAElFTkSuQmCC'/>"
      ],
      "text/plain": [
       "<IPython.core.display.HTML object>"
      ]
     },
     "metadata": {},
     "output_type": "display_data"
    },
    {
     "name": "stdout",
     "output_type": "stream",
     "text": [
      "0\n"
     ]
    },
    {
     "data": {
      "text/html": [
       "<img src='data:image/png;base64,iVBORw0KGgoAAAANSUhEUgAAABwAAAAcCAAAAABXZoBIAAABN0lEQVR4nOXQvUrDUBQH8H/TtKVNRDppIVK7FXXq7gPU0cmxT+Dspk8gOIg4Owji4iQuFakIgrXgJKj4kaSpmASjJs3XiQ41MdXmCfwv95774557uMD/SCrczNTedE2yKI7s95qZ3wLcDc22mw/+75u5hc0JANS3bkT14BovXgwZYaWRAwAQ0dklnUv3RhD155d6FMUwxc5y8efxyTUiInIUWVHaLpGtL2bCgZAZA6CfnlylxzlqTKVkYacYYZYHoB7tmj7AdStWqzLtRujBZ2HrBgCYTQBSC0yI3VsVz/vHQz8UoU8BHjvaaMRFD7V6OQFlO2BLhQS8a7/DdxIQXBaOhYTMfpBYZeIng6Iwx2fZvopSnY3joCivHqqmkIdfdf+iKa7zn1YerjdioKftvVeGT8PWh/ALR1WGq991U+oAAAAASUVORK5CYII='/>"
      ],
      "text/plain": [
       "<IPython.core.display.HTML object>"
      ]
     },
     "metadata": {},
     "output_type": "display_data"
    },
    {
     "name": "stdout",
     "output_type": "stream",
     "text": [
      "5\n"
     ]
    },
    {
     "data": {
      "text/html": [
       "<img src='data:image/png;base64,iVBORw0KGgoAAAANSUhEUgAAABwAAAAcCAAAAABXZoBIAAABM0lEQVR4nGNgGGSAEYXHxPvtNwMDg7jIlxc/0SVZ9PJfrvvxR9HE6nfvod+okoz6VW7fbnz8paf2//8rxV+oNujO+fz377+/f/7+/f3jCQMDAwMLwj7h+Ej2//+/fvz/7R/jwy5UScnSCPYrh959+8r88vnLm0wohjJn3vxzJV9djBubn4R3fvs3S48V1Wcwxttv//97BOlyYA+NnG9//9zbJIddUjBl7a8/f6JxaOVRCd7+56AUUrCwMDAwSYu/efvz1/8vDzk/MmgrPEORNA/VvX/u2SduYSsJfYafgqjmJd78/ef39zdPHnz4/ufLHmNUSfn+p7/+QsCPI6GoPmVg0Oq9/u3Pnz9/P95cE4LqRgYGBgYeOSvtLypv7r65eO0vhiQDAyMPm/DPd99QpAYGAAAGhYeLTw54qwAAAABJRU5ErkJggg=='/>"
      ],
      "text/plain": [
       "<IPython.core.display.HTML object>"
      ]
     },
     "metadata": {},
     "output_type": "display_data"
    },
    {
     "name": "stdout",
     "output_type": "stream",
     "text": [
      "5\n"
     ]
    },
    {
     "data": {
      "text/html": [
       "<img src='data:image/png;base64,iVBORw0KGgoAAAANSUhEUgAAABwAAAAcCAAAAABXZoBIAAABMUlEQVR4nGNgGCKAEU6gAyELqbc7vyFJSikqyDMfO/lFRExdVs1a4n/lQgYGFoiUUnacMAPDp8AfYr/faTMxszP++szyByLFaTrt89+fLz78/fPrz6/Pb5+9+P33ijwDVCdfWAjXj1ub+DjNmX9+e/H8v5ER++YfMMnP1xtevvx0RYBb8dOLFwyMQabMry+8hDtPTIAD4Wy5me8+z1LA7kPW3Gd/r8WxMDAwMDBhSEpoiP95ce0PVklmOWuGjztuYzeVK+7vr1M4bGS2ffz3dRYXDufM//ZniRTU6Wh2Mqrrs33Z/uk/Vo0qMz58rRKG8dB0KuvzPrj5FoekkNjvG1cYsEtyi4q/PHAbhySfODu/0T8ckt9+MbE/R3BZUCQ/3fj8fR/rb+w6/199+JUJIQQAQ8luTDBWYkQAAAAASUVORK5CYII='/>"
      ],
      "text/plain": [
       "<IPython.core.display.HTML object>"
      ]
     },
     "metadata": {},
     "output_type": "display_data"
    },
    {
     "name": "stdout",
     "output_type": "stream",
     "text": [
      "7\n"
     ]
    }
   ],
   "source": [
    "Xb, yb = img_select(proc, mnist.y, 20, lambda img: img_rando(img, i=0.0))\n",
    "for (a, b) in zip(Xb, yb):\n",
    "    img_show(a)\n",
    "    print(b)"
   ]
  },
  {
   "cell_type": "code",
   "execution_count": null,
   "metadata": {
    "collapsed": true
   },
   "outputs": [],
   "source": []
  }
 ],
 "metadata": {
  "anaconda-cloud": {},
  "kernelspec": {
   "display_name": "Python [default]",
   "language": "python",
   "name": "python3"
  },
  "language_info": {
   "codemirror_mode": {
    "name": "ipython",
    "version": 3
   },
   "file_extension": ".py",
   "mimetype": "text/x-python",
   "name": "python",
   "nbconvert_exporter": "python",
   "pygments_lexer": "ipython3",
   "version": "3.5.2"
  }
 },
 "nbformat": 4,
 "nbformat_minor": 1
}
