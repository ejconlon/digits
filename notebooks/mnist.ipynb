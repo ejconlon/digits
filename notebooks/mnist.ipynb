{
 "cells": [
  {
   "cell_type": "code",
   "execution_count": 1,
   "metadata": {
    "collapsed": false
   },
   "outputs": [
    {
     "name": "stdout",
     "output_type": "stream",
     "text": [
      "ready\n"
     ]
    }
   ],
   "source": [
    "import sys\n",
    "for p in ['..']:\n",
    "  if p not in sys.path:\n",
    "    sys.path.insert(0, p)\n",
    "    \n",
    "import os\n",
    "import pickle\n",
    "import random\n",
    "\n",
    "import numpy as np\n",
    "from scipy.io import loadmat\n",
    "from sklearn.datasets import fetch_mldata\n",
    "from skimage.feature import hog\n",
    "    \n",
    "from digits.common import fildir\n",
    "from digits.data import Env, Loader, Data\n",
    "from digits.explore import img_show\n",
    "from digits.images import *\n",
    "    \n",
    "env = Env('..')\n",
    "env.assert_ready()\n",
    "loader = Loader.from_env(env)\n",
    "loader.assert_ready()\n",
    "#data_home = env.resolve('data')\n",
    "#fetch_mldata('MNIST original', data_home=data_home)\n",
    "print('ready')"
   ]
  },
  {
   "cell_type": "code",
   "execution_count": 2,
   "metadata": {
    "collapsed": false
   },
   "outputs": [],
   "source": [
    "mnist = loader.read_mnist()"
   ]
  },
  {
   "cell_type": "code",
   "execution_count": 3,
   "metadata": {
    "collapsed": false
   },
   "outputs": [],
   "source": [
    "proc = img_prepare_all(mnist.X)"
   ]
  },
  {
   "cell_type": "code",
   "execution_count": 4,
   "metadata": {
    "collapsed": false
   },
   "outputs": [
    {
     "data": {
      "text/html": [
       "<img src='data:image/png;base64,iVBORw0KGgoAAAANSUhEUgAAABwAAAAcCAAAAABXZoBIAAAA/0lEQVR4nGNgGHhgPP/vfCMccgbv/vz58xa7nNnjv3/ev/xjyYYpxWXz4M/fP6dC/vytgggwIUnOPCDDwMBgxHOQQRdD0tibkfFQKeOL85OYGLG5ZTOPd6UoA8Pfz2gOVlv69+WFEAj775+lKHLsm/58cBeWgUkeRpG0/PPHHs5Blzz2dx+C8//vEWTX+hj834SQ/Pf/ArLG0D/PJOHWt//dxYMqeR8u1/znoTsDquREKMtg6Z+1DKgg7O9DCKPo3d9FaHIMoX9+TjKQDd308O/95RaYkn/+PL3+58+fI03oUgwMMsf//Pn758/LiZhSDAwMkg1//v7pVcUqR1cAAKxwbkTVIzd2AAAAAElFTkSuQmCC'/>"
      ],
      "text/plain": [
       "<IPython.core.display.HTML object>"
      ]
     },
     "metadata": {},
     "output_type": "display_data"
    }
   ],
   "source": [
    "img_show(proc[0])"
   ]
  },
  {
   "cell_type": "code",
   "execution_count": 5,
   "metadata": {
    "collapsed": false
   },
   "outputs": [
    {
     "data": {
      "text/html": [
       "<img src='data:image/png;base64,iVBORw0KGgoAAAANSUhEUgAAABwAAAAcCAAAAABXZoBIAAABZUlEQVR4nGNgGLqACZXLiMxhV3a2vL75xg9s+vhdT7359nCOCqYMI4dc5uM/f758+mwNN5wFxpAK0fMTZPxz73ii2Z1X/1E1Cqbd+fPjy99fF/NefCxF1ckkkRYi++X6eXHPx29Pm/KhSDIqhUVIfzo9+Yn9kXOP9PVfoUjy1btyrnx29fSbh4xf/rKKqYjBpRkYuKL//CpW5hVmZmBgYGDY8uegGUKO0/n6x1WCcO7NP2e1oUwmBgYJX8V7697DQ0mF4edThCS/3M+dB+Aa1Rh/vfmAcBCP5LezMBcwidr/eXUEybW8EgfP/4PwmNX9gu/OW4iQZOKVtHoH4cjaeOh+Xb/2NUKSV5yFJ2Hde0HO1z6Rsj+3z77P9B8hycrzlyfH4L64rjzvx2erp31n+MeAkPxy+7aGTMAfnt/fz53cev87AyrgCTjx9++zE2tiJKTQZBgZGBgY5LVV/52//PkfAykAANOrhE8VVpnDAAAAAElFTkSuQmCC'/>"
      ],
      "text/plain": [
       "<IPython.core.display.HTML object>"
      ]
     },
     "metadata": {},
     "output_type": "display_data"
    }
   ],
   "source": [
    "img_show(img_rando(proc[0], i=0.0))"
   ]
  },
  {
   "cell_type": "code",
   "execution_count": 6,
   "metadata": {
    "collapsed": false
   },
   "outputs": [
    {
     "data": {
      "text/html": [
       "<img src='data:image/png;base64,iVBORw0KGgoAAAANSUhEUgAAABwAAAAcCAAAAABXZoBIAAABPElEQVR4nGNkQAGyEeJTHv1jwAqYW19/92OHc5lQJCX8hFnFcUhyBwswvGdnY8QqKeUl+XfP2S//sUkyqYkx3dj1mg0uwIIkKeSuyXDpzMuf2CSZDM3Y/359/RlJBMEUsNJluH/qEwMjMyOGTib9QM4/V7fLOijpHV15mwEVCNX++/Oo2Wnh3Ve/3u83RJPUfPjvx9HyXV/+/fv37/0UNGN/8zMwifhaMTAwMDD8PYUqyaLPzcCiqsrw99hTExX2D6iS/5wgDr+0mMGPgfUNqldEHSChJmQkwsBw/DKqzjd7pPgZGBgY5B1Z2BmusaK5VuvMn3///v379/XPv3+RHGghdO38NwYGBgYGTqY/x+79RvMKw0YJNXE+BoafF9ZsvveXgYGBgYERIclkpKnE8e79mwcPP+JIRUMYAAAPyWa6/GeKjQAAAABJRU5ErkJggg=='/>"
      ],
      "text/plain": [
       "<IPython.core.display.HTML object>"
      ]
     },
     "metadata": {},
     "output_type": "display_data"
    },
    {
     "name": "stdout",
     "output_type": "stream",
     "text": [
      "6\n"
     ]
    },
    {
     "data": {
      "text/html": [
       "<img src='data:image/png;base64,iVBORw0KGgoAAAANSUhEUgAAABwAAAAcCAAAAABXZoBIAAABR0lEQVR4nGNgoD9gZGBgYGBgFmHm+//p/+cff1EkWRgYGBgYRFpEvP/t/Lv3xIPPvzB0mm3m/PODmY3x16rtxz78R5OUa/j59i6fGLuHHNukzrcYVjMxMDAwMAoc+vvCC4freBPfPuviwC7HHvv3aZEQDo1O7x4V8eOQYzj0PZsJRYAFyVGCPx8ofP386w9CBEkyZALv7tvXnzx8+/EfhiSDRJSPlAj3h3MHjl36jCHJwChmZqmjwC3wrW7NZwxJBmbOrzzaykb2rD0rfqO5lk3d35KVgYGBRb/vuj6anKj30jP2XAwMDIxczu+bUL3ClRrzvf7QfwZGNmUD/z/vUSQZjapYZ700/s8oKBFkz7pxLaqkwi9OP32G/8xKEt+uXC95i+pakWpTOel339i/fbzaf/cDmj8Z+TXMTO695X3z+OIzBpoCAAlobLOe/rdqAAAAAElFTkSuQmCC'/>"
      ],
      "text/plain": [
       "<IPython.core.display.HTML object>"
      ]
     },
     "metadata": {},
     "output_type": "display_data"
    },
    {
     "name": "stdout",
     "output_type": "stream",
     "text": [
      "3\n"
     ]
    },
    {
     "data": {
      "text/html": [
       "<img src='data:image/png;base64,iVBORw0KGgoAAAANSUhEUgAAABwAAAAcCAAAAABXZoBIAAABUklEQVR4nGNgGLyAkUuACU0EwVKy0Lhx0sHswtG7XzA0KvU+/fv3+bNfD1ZYMmNIxtz48xcCmoShQixwyXuvJP/8fXaEy1kq8eDBP2iSx9bfv7L8JzOflIxUzgF0Y5klGBgYGJg1D/39eVoI3VjG/+qfP8mYROowPFvwDl1SNtCek1ucTfzP/b17MVzrfPDv379//n5Ym6wB04HQKSnMwMDAyMDyaNeT/1AhRIC9efLy64dz9/96OPMwYOg8zmIstee4RoduxqEv/xmwAvaUqVel0XQy8stdYmBgYGBgfbJ7/yeYJNROVtNYPgYGBgaGfy8Zt35G06mTqHv7yOv3f6WllCQ2PECTlFZRyba7cFwmRpz1x8vXX1HdIbPj79+/3z/9+PH7z+1iSTRHMlsd+QGJzB1pcvC4hiUTFjtTJQUFhe3X1l/6id2TDAyCorhkMAAAGwCB3g72QFgAAAAASUVORK5CYII='/>"
      ],
      "text/plain": [
       "<IPython.core.display.HTML object>"
      ]
     },
     "metadata": {},
     "output_type": "display_data"
    },
    {
     "name": "stdout",
     "output_type": "stream",
     "text": [
      "3\n"
     ]
    },
    {
     "data": {
      "text/html": [
       "<img src='data:image/png;base64,iVBORw0KGgoAAAANSUhEUgAAABwAAAAcCAAAAABXZoBIAAAAnklEQVR4nGNgoBLw3ejMhuAxoUp66Yqy4JR8s/X0N1ySQixyYgw4JeUUhJC4LMhyTFzGvAK4JBlklP68x2XsP4nP/2/itPPDawYZ3JJvGJVxSn56d+sFTklG2S/3ceuUFriDS5LxL5vSb1yS/1W+s8vhtvMdgwoSFzWEPr36y4hT5+8f39lxSjJJfj2H09iHWzhfM+ACjBLKOOUGAwAAzDcn3jjBxqgAAAAASUVORK5CYII='/>"
      ],
      "text/plain": [
       "<IPython.core.display.HTML object>"
      ]
     },
     "metadata": {},
     "output_type": "display_data"
    },
    {
     "name": "stdout",
     "output_type": "stream",
     "text": [
      "1\n"
     ]
    },
    {
     "data": {
      "text/html": [
       "<img src='data:image/png;base64,iVBORw0KGgoAAAANSUhEUgAAABwAAAAcCAAAAABXZoBIAAABQklEQVR4nGNgGMJAUASZx4IixxXseWHH9S9Y9emk7Pj490EgJxYpRruVj85e+J0rx4wpx9J86t1EBf7bzZhyLNLL3r4o52Lgbrtsgy7H63Lw3e5kQQYGBuNjaWiuFffNU9zeffMTAwODNL8MqiSra47o1KnP/zAwMDD8+sTO9wlZ0jCEu3fR6/8MDAwMDGwc39lgOpkYGBg4Y803rHwFkWMQFHj1C1lSyevb4mcwAQHBXyiS5grzLv2F8pkFub79QPKG8KwHSnCO4qXzKgxIOkXEn/6BcbkN/217gCz5+y2jPCPUUJPE1zv+IEs+uSXso8LByMDALOkczDz7DMJCFgaGX8f9Anh2nP9saySr/HbW3u8ISUYGBgZe7wwjpm8MP1iuHt945ScDqiQDq7sfi97ju6cfXET2BTLgEmHEIYMdAAAvcmLIyB2cfwAAAABJRU5ErkJggg=='/>"
      ],
      "text/plain": [
       "<IPython.core.display.HTML object>"
      ]
     },
     "metadata": {},
     "output_type": "display_data"
    },
    {
     "name": "stdout",
     "output_type": "stream",
     "text": [
      "0\n"
     ]
    },
    {
     "data": {
      "text/html": [
       "<img src='data:image/png;base64,iVBORw0KGgoAAAANSUhEUgAAABwAAAAcCAAAAABXZoBIAAABLElEQVR4nNXQsUrDUBQG4D9pmqa2DtVBhLYuKghS9zrp7uLk6CJO7j6HDi7iC1gXNyu14JxRQahVNA0hQYolN02TeO91SKtJbB7Af7mX83Hg5wD/MoIopON2O/Bcxx7073bk5F75/ItSSimj3uNRbjyVwmdvvyaA9XpdeauwUm8YMVzfVNpnD4SwfGn3uFCMbZZn/bxndDgH+dCcuUonRBEAoJ/csmyGcYAz/dl1EEX+cv3EeTihPvmMF2KtkmKOiwsuiSOsC3EEAFKmUtV5hnEASJ7l4HB+saP6zavo5iQLNQnLVa6obz+FfnPfsLhchNWftqme5uqXraBLpuHQGLw2b3hYKIkQxKEdxI4QSVb2J/YXN9betVRcXbJJKs545igVRVPz0tF12OT/Df4/eHpt2FRbAAAAAElFTkSuQmCC'/>"
      ],
      "text/plain": [
       "<IPython.core.display.HTML object>"
      ]
     },
     "metadata": {},
     "output_type": "display_data"
    },
    {
     "name": "stdout",
     "output_type": "stream",
     "text": [
      "7\n"
     ]
    },
    {
     "data": {
      "text/html": [
       "<img src='data:image/png;base64,iVBORw0KGgoAAAANSUhEUgAAABwAAAAcCAAAAABXZoBIAAABN0lEQVR4nGNgwAMYkdg80rLKV44iCbAgmNw+YdJK266/w2YGs9mLP18ePGvCagFz4J+XizKuvNBmwiLJuuF1vyTb4s8+7Fgk/R+0iTAwxZxZqoVFUlCRi4GBQXTyuQAsrv3w4T8DA8OfX/+ZsEj+h9j89S/C6+hO+/lKxg6nJAMn60vcOr/vmI3FTgYGBiYdtddyhz9hlWSX6za6/m/zPwZGiOMQscJm6WkoJ8/G8HH9qacXmSQ4OPnu34dL2pbZ8DAyMvz//pJR4ONPjrc/ub7thBurqsnHwMDw59q26zIiEnbflfj//xOBSz54oMDA8P3ivG0fOP+zyYoEyDGwc8MlX39kYPh9sXv7L4YfDAyv2K6Lsvz+Dneq3Ow/f+6koXoarvPVCq4n896ghxcMcEhz4ZIaNAAAHEBkXxQUbFYAAAAASUVORK5CYII='/>"
      ],
      "text/plain": [
       "<IPython.core.display.HTML object>"
      ]
     },
     "metadata": {},
     "output_type": "display_data"
    },
    {
     "name": "stdout",
     "output_type": "stream",
     "text": [
      "2\n"
     ]
    },
    {
     "data": {
      "text/html": [
       "<img src='data:image/png;base64,iVBORw0KGgoAAAANSUhEUgAAABwAAAAcCAAAAABXZoBIAAAA40lEQVR4nGNgQAMKCx6YMaMLwgCzWiQHLjnyASMyhwlNUjRxoTMu9/ClXn8dwIZdjjvh9p/jcoxY5TiL73zZp4JDX/+bZ5P5sevj8H/9tFkQuz62iFuPuhSxyzHLT/g5Xxu7HIPo5HcX3HF4gsH5+h9fLhxyDG3fdnHjkuM8+CYalxyD4fdtLBiCsIBX/vME0/cw5X+fSVoKeHI/vr7/2X8MRSrrPz//8uD8+29VvJh2ssWf//0v3WrCzxus2Jyb+PD3nbWbf53A6l7OmCV/v95ZH4AkhOJEMWXB51d/YdVKTQAA4vZICVZdrzIAAAAASUVORK5CYII='/>"
      ],
      "text/plain": [
       "<IPython.core.display.HTML object>"
      ]
     },
     "metadata": {},
     "output_type": "display_data"
    },
    {
     "name": "stdout",
     "output_type": "stream",
     "text": [
      "6\n"
     ]
    },
    {
     "data": {
      "text/html": [
       "<img src='data:image/png;base64,iVBORw0KGgoAAAANSUhEUgAAABwAAAAcCAAAAABXZoBIAAABAUlEQVR4nGNgGGDAiIfPaFr17+fCHQgBJiRJbu3vi14GqWCVZLTwvrz/EIsSVkkhx0/bPr36xYBV0tbkwLX/tyVYmLBI8rsxXP/F8F5UnAOLpJn9ifsMDL9u67FgSjI68x/+yMDAwKDyHVOSxfHc6d8MDExcDL+xSJpu/MjAwMDH9AHTtcwWH58yMDAw8DNikRSKf3mVAZdOUZ1nzxgYGBgFsEkKsL1mYGBg4HdhO4lFkvU9CwMDg6LavnOYks/vs4sxMDBLfzz3DVPy1gU1K25GhUglJCsZYGH1dadZHO89P4t5DxmwAO64Y/eP3ewUQhZDJBMBO9v3T1b+xKaRygAAtWRIjJ7B5/8AAAAASUVORK5CYII='/>"
      ],
      "text/plain": [
       "<IPython.core.display.HTML object>"
      ]
     },
     "metadata": {},
     "output_type": "display_data"
    },
    {
     "name": "stdout",
     "output_type": "stream",
     "text": [
      "0\n"
     ]
    },
    {
     "data": {
      "text/html": [
       "<img src='data:image/png;base64,iVBORw0KGgoAAAANSUhEUgAAABwAAAAcCAAAAABXZoBIAAABFklEQVR4nGNgoBdg5DeQwynJm/68FsJiwpBjtyn6/xVDkstnWRgDA4OQj9LHAxARFrgcp1295A0GBkY+818376Abp3TkwwY5Bga+hj9PbBjQjOXxNP254AkDwz/pv0eOoOljNjj/fakAAwNL2vefjjBBmJ0sJlr/vwY/ZLlTyPL/HdM/VMm/ysyMHq7/2FkFGW+8/Y+m88+JD4JSDAwMjP8Zjn2FSTLCzOd35dH/z+Mqyzij/g1GwDAwsMpISy/59NyPA4scAwMDg+qxX9UiCC5q2BqLfLz2GYckp4vE4ds/cUha6HAdus+AQ9JIGiki0CQVDYUZ/n3HIWmsw3D+3j8ckv/+3Z+7H9lYRiS2lMbvG68ZaA8A+gBQ/dLxgw4AAAAASUVORK5CYII='/>"
      ],
      "text/plain": [
       "<IPython.core.display.HTML object>"
      ]
     },
     "metadata": {},
     "output_type": "display_data"
    },
    {
     "name": "stdout",
     "output_type": "stream",
     "text": [
      "4\n"
     ]
    },
    {
     "data": {
      "text/html": [
       "<img src='data:image/png;base64,iVBORw0KGgoAAAANSUhEUgAAABwAAAAcCAAAAABXZoBIAAABT0lEQVR4nGNgoCNgZWZgYGBgYEQRE5VgkrLmEjV7XXyEgYGBgQUhxa4XYizJzsXLwszC53v0P4qkgFesCT+UyyHD+Q3FHuV13//BwRlRVGMZxdn/fzq677ZeKR/D18vvUV0od+jfj10aStUv/v77edwdzfk8ee//PJm29PXff7+OWqD7jVF65p+/Hz7/+/djqRymz5ktXv379+/vmwxORgw5Rr1J3/79+/fbnANTH4Pdxrf//v3790wIi5zZ9u///t2Y9fOXHKahihu+/vt3zMXh3T91JnQ57glf/v077cHu/uqfPoak8p2///Z6czHM/PLeEEPS5/G/y/5cXCE3f8+VQohCw1aCkeESc7ipjfzP5S8xJK+/lzJUEhLnYdp8/y+GYwXWfv/379+/n9f82DF9yRqw+vnvf8/arXmRRWE+ZtdS4/j59trLP5gaqQ4AGtiJJEwKE88AAAAASUVORK5CYII='/>"
      ],
      "text/plain": [
       "<IPython.core.display.HTML object>"
      ]
     },
     "metadata": {},
     "output_type": "display_data"
    },
    {
     "name": "stdout",
     "output_type": "stream",
     "text": [
      "8\n"
     ]
    },
    {
     "data": {
      "text/html": [
       "<img src='data:image/png;base64,iVBORw0KGgoAAAANSUhEUgAAABwAAAAcCAAAAABXZoBIAAABV0lEQVR4nGNgGGjAu7BKGInLgiLp5c7MycDAwMBizHL9HQMDE7KcZtTbLR8YGBgYIjvMGBhQJBmlCq2On/rKwMBgF8ty7T2qpFRh4LP1z/8zMAg78K89+R/FPvnG128qxBgYGMRqr8/WZkSRk617erNJhYWBgTX39i43EX5kO/mjYz/PnXb3DwOLY7DkJ26e70iSjI4xv+cvefmfgUExxJDdQOvHbyRDRTc8apBkYGBgkKp98O/tAjM2ZBtj7u02YGBgYJTIv/77aqMeG0oIOYuc/s3AIGjm6CW6aeXxJ/9RJH/+45X9JW4Savxz58STf9DC9skH1eQvWprcb/fPQsjBgETX1YePPv77utoa2SmwkOAyU1PxUjo5cetvdH0MDAwMTDKdz46EsmOTYmCUKrt6Jga7HINQ7ePzyRzY5Rgjr54JY0YXhXqFie/zqs1/sWtEuJpKAACmfWrIR2DqdwAAAABJRU5ErkJggg=='/>"
      ],
      "text/plain": [
       "<IPython.core.display.HTML object>"
      ]
     },
     "metadata": {},
     "output_type": "display_data"
    },
    {
     "name": "stdout",
     "output_type": "stream",
     "text": [
      "4\n"
     ]
    },
    {
     "data": {
      "text/html": [
       "<img src='data:image/png;base64,iVBORw0KGgoAAAANSUhEUgAAABwAAAAcCAAAAABXZoBIAAAA8UlEQVR4nGNgGKaAkYmBQac7GsZlQpHkN1PjNDV8CeOyIMsx6U99uDDrzQtsOpnlPOSFw4U338IiySwXHXX/sfHF/b8wjWWSiU3791j5+/pbDJg6hX3C/x37qnzs6F8skiqhgmsu6h1f9IwZLoQw9v8fFn1hyb3KznsO/2dAB7KNj//8/v7tyylPRkydT9aq+Ty8/ev92iOYGhkYnQ9djeVCEUI4SNpRdP2eb5iaGBgYGJgiL20xZ0ITgzGkHFjWXfmHXZLF1WTfwa/opkFpeY+vmx5hWAWlLRX2XPyNS1Lu0Z43GI6EhYYZ58UPmF7ABwDxIkxp5carvgAAAABJRU5ErkJggg=='/>"
      ],
      "text/plain": [
       "<IPython.core.display.HTML object>"
      ]
     },
     "metadata": {},
     "output_type": "display_data"
    },
    {
     "name": "stdout",
     "output_type": "stream",
     "text": [
      "4\n"
     ]
    },
    {
     "data": {
      "text/html": [
       "<img src='data:image/png;base64,iVBORw0KGgoAAAANSUhEUgAAABwAAAAcCAAAAABXZoBIAAABF0lEQVR4nGNgGHggzY9Dgt24cNZTcyQBFgSTTaPK9M/p50z/sGmUnfpotSsbdkNZYx/vduVEEUIYq+nzYdOZ7wxssvoyp4+j6yx6sECVkYHJeM6tt6vUIUJMMDk5jf9Hb//n9uwP+fDETZsRVaPTqxNaTNItj36tdWz5VMCPYifLT0ZODn/jWJH5jS9kXovzfkSW/P+fQ2Mly58b5Ts+MHx6L8GLovPvlbVeHO/2bj3ziYGBmVMcVZLhU3Gv+v8LD/8wMDAwSf7gQ/Pn23eXoR54z4Suk4HhP5Rml+JkvMn4H1USBr7/+fzk53+UQEACbF/O/WPAJanGJSSPU/LJH20VdAfBAOeXDy+v4JL8eYCf9SwWA6kGACCDW385jiEjAAAAAElFTkSuQmCC'/>"
      ],
      "text/plain": [
       "<IPython.core.display.HTML object>"
      ]
     },
     "metadata": {},
     "output_type": "display_data"
    },
    {
     "name": "stdout",
     "output_type": "stream",
     "text": [
      "9\n"
     ]
    },
    {
     "data": {
      "text/html": [
       "<img src='data:image/png;base64,iVBORw0KGgoAAAANSUhEUgAAABwAAAAcCAAAAABXZoBIAAAAsklEQVR4nGNgGHDApHZweyROSf0/n2cheKiSzEYMTDw4JW0ZGJlxScr5///6AJedJX++V/Lhkrzy50cwkvNQ5NTkGb4/wqVxwo8/q5lxSV7588meEbuU2oEf/x/x4tDn8/jPO1dkU5EdZMnNsODkX+ySMoYcDK//YTeUZ97HP09Vsctx1z/788SLHbuk+v7fT4M4UMXgdjIyMF689gOH5PsnP5jQAwcu+XLz7V/YLaQvAADUpjZC04UHnwAAAABJRU5ErkJggg=='/>"
      ],
      "text/plain": [
       "<IPython.core.display.HTML object>"
      ]
     },
     "metadata": {},
     "output_type": "display_data"
    },
    {
     "name": "stdout",
     "output_type": "stream",
     "text": [
      "1\n"
     ]
    },
    {
     "data": {
      "text/html": [
       "<img src='data:image/png;base64,iVBORw0KGgoAAAANSUhEUgAAABwAAAAcCAAAAABXZoBIAAABZUlEQVR4nGNgGNKAERubTTPo8f6H0t/dTqj/+PL169cv3xgYWGCSatn+d17/aTWQuSr4/v37D+/f39/zBS4ppib6+J+ogiaDCStE4NXBVLikIA/Dh8+fjspw3/zNxfJHioeb//cnuKQADwPL/9ttKwQ/sgqx/tT8M1cSyWXFT/49zhVkZGJjgjmVkYEJSad0tiXbv1//oAL//8MlWQW4GRjULMWYsfldoO3fv3///u2XQA4EmIO+75ST0hJjMFJ+gU0rt4bDlC//fmzVwibJwMCgv/Xf3zfdSAJMSOyrC+8x8kjzokvq8jHwyXH/ObXoHouqIyua5PsfDCbpTnJPtt/7r+Uggubal78ZLFITfiw5xvKfU13qObpjmMIuvPzx68mnv/9uuDKj6mRg+Lfpn4axvxQDA4OkBOcXTJ8wiXjMufno3794DnSdDAwM/94cuKGq5s/x/AdMhBFVNyOfDtOtlzAeAAREe1vF/aGXAAAAAElFTkSuQmCC'/>"
      ],
      "text/plain": [
       "<IPython.core.display.HTML object>"
      ]
     },
     "metadata": {},
     "output_type": "display_data"
    },
    {
     "name": "stdout",
     "output_type": "stream",
     "text": [
      "5\n"
     ]
    },
    {
     "data": {
      "text/html": [
       "<img src='data:image/png;base64,iVBORw0KGgoAAAANSUhEUgAAABwAAAAcCAAAAABXZoBIAAAA+ElEQVR4nGNgGAqAA0ozIoR41RUkGLVkJcQlFqX9ZWBgYGBgQUh616sxvuX88uPXHTbeD+iSClKvLz16fOzOm88wEYQk81eG61Mvf/7wG6EcISkm/+fSiZcoDmNCuEfjj6CHKnbnszi+/f35wfYOE2ySjH5fTu7/8P71Mkksdv5/uGjTB8X/xZ7vC35j08zAwMDi9vGzKBYHMTAwMDD8efKRkwOXJIM3F6MYEy5Jjr+/+BlxSHLzs+989he7JKOo+Od1d3HYKZIY9vw5Dp9ItH54UsCJXY6n8NW7bi7sckz2F0+Gc2OXY1A9sEKNGYccg5iTPE45LAAAyStLjdFO5YAAAAAASUVORK5CYII='/>"
      ],
      "text/plain": [
       "<IPython.core.display.HTML object>"
      ]
     },
     "metadata": {},
     "output_type": "display_data"
    },
    {
     "name": "stdout",
     "output_type": "stream",
     "text": [
      "5\n"
     ]
    },
    {
     "data": {
      "text/html": [
       "<img src='data:image/png;base64,iVBORw0KGgoAAAANSUhEUgAAABwAAAAcCAAAAABXZoBIAAABQUlEQVR4nGNgIBcwonBElDg5OTleHvqNLskqyi9g6MXFxc35bs4sdEnLal52Iakv/9n5v22OggixQKVY9Lss/797vX3PHz8fVlEGVEnuEMu3b3ZfuH5SoJTh32o0yZ/f35e+O/eMmeuPys8emCQciKqwMDAwWTTPfDNRjgmbn0SMl335u0CHGYuXmeVy13z4u9uODVtwaKx69uPNvkAeLHJCJrt/fbo11ZUfixx/0YO/f08UK8H4TMzCigIwr/imyzIwfP9u7iF0+wgzMzPzX3Zv+U0wSS5hBgYGK5P/jIyPHwgICAjce+R29zjMGKn8O59fffj79+/ff//+/v379++fLxvkYQHPJKwtw2Gk/eE9s7Xw3/8sPH8/Hl64DR4rjIz/mHl5/v7lMvn37pNY1rcbDViczcDAwMDAyoVLZlgCAM7Jbs/XccoIAAAAAElFTkSuQmCC'/>"
      ],
      "text/plain": [
       "<IPython.core.display.HTML object>"
      ]
     },
     "metadata": {},
     "output_type": "display_data"
    },
    {
     "name": "stdout",
     "output_type": "stream",
     "text": [
      "2\n"
     ]
    },
    {
     "data": {
      "text/html": [
       "<img src='data:image/png;base64,iVBORw0KGgoAAAANSUhEUgAAABwAAAAcCAAAAABXZoBIAAABl0lEQVR4nNWSzytEURTHv2/ejNFgPAxh/KohFqIk5VeiRqSsJlI2oigb+SvsFDtJKXul7BSZUoiFQqJp/BoGozFvZsx9c49nMXr32dk6q9P93HO+33PuBf5TSCK1t1UyxupTaiz2Gor/glbvWGM209KtWQCCi6ufospSMnmtkojkrKl77sQbJyIiFgwRcfVjHwCsGVjmK4Ae2bvKkQKlPuXx8mVZwPzeHsR3127CMkULA+7tc2ZS7NwnOhqwZfxbbYZJAHD1twP3kQFniqWeAun0L9jstQDd1VmypmmBw4tTVTd57drJDJCIhiNc84+XSaYN2YbmXa908cBlVtRQ53lZWo+at+iura6tKFKUbMUzfkz+PpMmEJK+Mkkqag/DLglowZduWHCNNIF/CtjAg5rRf3DUDZYUgmfq1rADAFDQs3CapMRajXC70y2HDjaeLR16VUtLjoTDmXMyKn3vxBPBs6O72zgn0u6nHKY55OlNbrykf3Ou0PQ9ADi8KyoRUdi/0lEsjn8u2ZzlitOZl749ien4W3wDZ0e+t12GkBQAAAAASUVORK5CYII='/>"
      ],
      "text/plain": [
       "<IPython.core.display.HTML object>"
      ]
     },
     "metadata": {},
     "output_type": "display_data"
    },
    {
     "name": "stdout",
     "output_type": "stream",
     "text": [
      "5\n"
     ]
    },
    {
     "data": {
      "text/html": [
       "<img src='data:image/png;base64,iVBORw0KGgoAAAANSUhEUgAAABwAAAAcCAAAAABXZoBIAAABIElEQVR4nGNgGEjAJcqGS4pFN/3At7kiWOWYtdd/efv9+yYDVB0Qit3Y8sROBk/TuPsfMXVyBE5zYGDgadxmg8VYRklZBgYGBu1lJYKYxv5/zsDAwMAgrfxH6D1CkglJN7dlodbX75g6GRTY2X9ERssyXf6ARdLNXPq/A/uf2Wu/YXGR15u/f//+qhFEEYTZeWTNZ0bGjzdZMLUxMDCw6E6+8PzX973Y/MnAwChon3P4z7clqlhlGRgY5NL3P8jkwLSTgYGBgeHRzM2sYuzoXmF3Ebjz9fOP7wImbI9/o0v+Nvd8/eXF7x/a1sdP/kCX/Hc2wIWZgfE/A8O95//QJRkOzNTXlfvzW/D00g/IPoDSInxaOm9PMV1i/IPLK9QDANSVWpuEWl5RAAAAAElFTkSuQmCC'/>"
      ],
      "text/plain": [
       "<IPython.core.display.HTML object>"
      ]
     },
     "metadata": {},
     "output_type": "display_data"
    },
    {
     "name": "stdout",
     "output_type": "stream",
     "text": [
      "3\n"
     ]
    }
   ],
   "source": [
    "Xb, yb = img_select(proc, mnist.y, 20, lambda img: img_rando(img, i=0.0))\n",
    "for (a, b) in zip(Xb, yb):\n",
    "    img_show(a)\n",
    "    print(b)"
   ]
  },
  {
   "cell_type": "code",
   "execution_count": 41,
   "metadata": {
    "collapsed": false
   },
   "outputs": [
    {
     "data": {
      "text/html": [
       "<img src='data:image/png;base64,iVBORw0KGgoAAAANSUhEUgAAABwAAAAcCAAAAABXZoBIAAAA7UlEQVR4nGNgGPQgft3/RhxSQmW///69i1WKqfTp3784JGWW/f3799ldrJJs+//+fRUq5/S3B4tk0d+fLy0ZmJb+FcAimXq2iYGBIf7vPiYcrmVwv/fcFJccy8U/TVglLON41Hb8nYsQYITSrl6WDIYs1wQlGVTuo+lxOfzr78/3f//+/fv370p2VDnjz3//Hg6s//v3xY65n/4u50KR9Pn79+/l63//7jdjYFA/8xfVRSoP//79+3avIwsDAwND1defrCiy6ntyAuVhnLV/FXF5lIEh5G8hbsmAv+w45RKePWTBKfnkkSZuU6kCAAE9Yn6u0rxiAAAAAElFTkSuQmCC'/>"
      ],
      "text/plain": [
       "<IPython.core.display.HTML object>"
      ]
     },
     "metadata": {},
     "output_type": "display_data"
    },
    {
     "name": "stdout",
     "output_type": "stream",
     "text": [
      "orig shape (28, 28)\n",
      "hog shape (81,)\n",
      "values [ 0.  0.  0.  0.  0.  0.  0.  0.  0.  0.]\n"
     ]
    },
    {
     "data": {
      "text/html": [
       "<img src='data:image/png;base64,iVBORw0KGgoAAAANSUhEUgAAABwAAAAcCAAAAABXZoBIAAABIElEQVR4nLXRwUrcUBTG8V/ae8dJQk1EnAiRoaWrMhT3bnQ5dNlX8Cn6cr6GS0EUdCFiaWdqE9FF4jgVldn02xy4/3s433cOK2sdgqJ8ka0RhbGg+7aktPlDE+P2bXsFyYIkw/VL2AzlzVXzrHMwj+CmvX3fxOYlNygVwesq3s70j81ufLoPQ/X0OSNMbcDwsH8PEIJWKu79vL5GkmVmPQ4fwJe9H1WakmXfPy86Wy24OI7zOWaPXcsT7UsDTNXD10yjXjFkbtCvJFYwMaqeWL4lI2FHzdjk68Lt3yIv7n/zLrG7ecb5p4+nCxhiOm9ayp3qqLnn7mT27dfpXYczRSmnVsXu9tWB8ePQwiCHSnftymiy5HfQ19jX0Yo5/4ceAI4FNsBs7ICeAAAAAElFTkSuQmCC'/>"
      ],
      "text/plain": [
       "<IPython.core.display.HTML object>"
      ]
     },
     "metadata": {},
     "output_type": "display_data"
    }
   ],
   "source": [
    "index = 15500\n",
    "gray = proc[index].reshape(proc[index].shape[:2])\n",
    "img_show(gray)\n",
    "print('orig shape', gray.shape)\n",
    "gray_hog, example = hog(gray, transform_sqrt=True, visualise=True)\n",
    "print('hog shape', gray_hog.shape)\n",
    "print('values', gray_hog[0:10])\n",
    "img_show(example)"
   ]
  },
  {
   "cell_type": "code",
   "execution_count": null,
   "metadata": {
    "collapsed": true
   },
   "outputs": [],
   "source": []
  }
 ],
 "metadata": {
  "anaconda-cloud": {},
  "kernelspec": {
   "display_name": "Python [default]",
   "language": "python",
   "name": "python3"
  },
  "language_info": {
   "codemirror_mode": {
    "name": "ipython",
    "version": 3
   },
   "file_extension": ".py",
   "mimetype": "text/x-python",
   "name": "python",
   "nbconvert_exporter": "python",
   "pygments_lexer": "ipython3",
   "version": "3.5.2"
  }
 },
 "nbformat": 4,
 "nbformat_minor": 1
}
