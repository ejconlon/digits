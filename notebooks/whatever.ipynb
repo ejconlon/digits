{
 "cells": [
  {
   "cell_type": "code",
   "execution_count": 1,
   "metadata": {
    "collapsed": false
   },
   "outputs": [],
   "source": [
    "import sys\n",
    "for p in ['..']:\n",
    "  if p not in sys.path:\n",
    "    sys.path.insert(0, p)\n",
    "\n",
    "from collections import namedtuple\n",
    "import os\n",
    "import pickle\n",
    "\n",
    "import matplotlib.pyplot as plt\n",
    "import numpy as np\n",
    "import scipy.io as spio\n",
    "from sklearn.linear_model import LogisticRegression\n",
    "\n",
    "from digits.data import Env, Loader, prepare_cropped\n",
    "from digits.classifiers import test_model\n",
    "\n",
    "%matplotlib inline"
   ]
  },
  {
   "cell_type": "code",
   "execution_count": 2,
   "metadata": {
    "collapsed": false
   },
   "outputs": [],
   "source": [
    "env = Env('..')\n",
    "env.assert_ready()\n",
    "loader = Loader.from_env(env)\n",
    "loader.assert_ready()\n",
    "data = loader.read_cropped('test')\n",
    "train_data = prepare_cropped(data, keep=1000, gray=True)\n",
    "valid_data = prepare_cropped(data, drop=1000, keep=100, gray=True)\n",
    "test_data = prepare_cropped(data, drop=1100, keep=100, gray=True)"
   ]
  },
  {
   "cell_type": "code",
   "execution_count": 3,
   "metadata": {
    "collapsed": true
   },
   "outputs": [],
   "source": [
    "res = test_model(env, 'baseline', test_data)"
   ]
  },
  {
   "cell_type": "code",
   "execution_count": 28,
   "metadata": {
    "collapsed": true
   },
   "outputs": [],
   "source": [
    "import numpy as np\n",
    "import scipy.stats\n",
    "import sklearn.metrics\n",
    "\n",
    "from digits.common import un_hot\n",
    "\n",
    "class Metrics:\n",
    "  def __init__(self, num_classes, orig, inv_map, actual_hot, expected):\n",
    "    self.num_classes = num_classes\n",
    "    self.orig = orig\n",
    "    self.inv_map = inv_map\n",
    "    self.actual_hot = actual_hot\n",
    "    self.actual = un_hot(num_classes, actual_hot)\n",
    "    self.expected = expected\n",
    "\n",
    "  def accuracy(self):\n",
    "    return sklearn.metrics.accuracy_score(self.actual, self.expected)\n",
    "\n",
    "  def entropy(self):\n",
    "    return np.apply_along_axis(scipy.stats.entropy, 0, self.actual_hot)\n",
    "\n",
    "  def most_uncertain(self):\n",
    "    e = self.entropy()\n",
    "    return np.argsort(-e)"
   ]
  },
  {
   "cell_type": "code",
   "execution_count": 29,
   "metadata": {
    "collapsed": false
   },
   "outputs": [],
   "source": [
    "m = Metrics(10, data, None, res, test_data.y)"
   ]
  },
  {
   "cell_type": "code",
   "execution_count": 22,
   "metadata": {
    "collapsed": false
   },
   "outputs": [
    {
     "data": {
      "text/plain": [
       "0.26000000000000001"
      ]
     },
     "execution_count": 22,
     "metadata": {},
     "output_type": "execute_result"
    }
   ],
   "source": [
    "m.accuracy()"
   ]
  },
  {
   "cell_type": "code",
   "execution_count": 23,
   "metadata": {
    "collapsed": false
   },
   "outputs": [
    {
     "data": {
      "text/plain": [
       "array([ 0.69314718,  3.58351894,  3.33220451,  2.19722458,  1.60943791,\n",
       "        1.60943791,  1.09861229,  0.        ,  1.09861229,  2.07944154])"
      ]
     },
     "execution_count": 23,
     "metadata": {},
     "output_type": "execute_result"
    }
   ],
   "source": [
    "m.entropy()"
   ]
  },
  {
   "cell_type": "code",
   "execution_count": 30,
   "metadata": {
    "collapsed": false
   },
   "outputs": [
    {
     "data": {
      "text/plain": [
       "array([1, 2, 3, 9, 4, 5, 6, 8, 0, 7])"
      ]
     },
     "execution_count": 30,
     "metadata": {},
     "output_type": "execute_result"
    }
   ],
   "source": [
    "m.most_uncertain()"
   ]
  },
  {
   "cell_type": "code",
   "execution_count": 31,
   "metadata": {
    "collapsed": false
   },
   "outputs": [
    {
     "data": {
      "text/plain": [
       "array([ 3.58351894,  3.33220451,  2.19722458,  2.07944154,  1.60943791,\n",
       "        1.60943791,  1.09861229,  1.09861229,  0.69314718,  0.        ])"
      ]
     },
     "execution_count": 31,
     "metadata": {},
     "output_type": "execute_result"
    }
   ],
   "source": [
    "m.entropy()[m.most_uncertain()]"
   ]
  },
  {
   "cell_type": "code",
   "execution_count": null,
   "metadata": {
    "collapsed": true
   },
   "outputs": [],
   "source": []
  }
 ],
 "metadata": {
  "anaconda-cloud": {},
  "kernelspec": {
   "display_name": "Python [default]",
   "language": "python",
   "name": "python3"
  },
  "language_info": {
   "codemirror_mode": {
    "name": "ipython",
    "version": 3
   },
   "file_extension": ".py",
   "mimetype": "text/x-python",
   "name": "python",
   "nbconvert_exporter": "python",
   "pygments_lexer": "ipython3",
   "version": "3.5.2"
  }
 },
 "nbformat": 4,
 "nbformat_minor": 1
}
