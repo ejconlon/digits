{
 "cells": [
  {
   "cell_type": "code",
   "execution_count": 17,
   "metadata": {
    "collapsed": false
   },
   "outputs": [
    {
     "name": "stdout",
     "output_type": "stream",
     "text": [
      "ready\n"
     ]
    }
   ],
   "source": [
    "import sys\n",
    "for p in ['..']:\n",
    "  if p not in sys.path:\n",
    "    sys.path.insert(0, p)\n",
    "\n",
    "from collections import namedtuple\n",
    "import os\n",
    "import pickle\n",
    "\n",
    "import matplotlib.pyplot as plt\n",
    "import numpy as np\n",
    "import pandas as pd\n",
    "from IPython.core.display import HTML\n",
    "\n",
    "from digits.data import Env\n",
    "from digits.explore import explore\n",
    "\n",
    "%matplotlib inline\n",
    "\n",
    "env = Env('..')\n",
    "env.assert_ready()\n",
    "print(\"ready\")"
   ]
  },
  {
   "cell_type": "code",
   "execution_count": 51,
   "metadata": {
    "collapsed": false
   },
   "outputs": [],
   "source": [
    "e = explore(env, 'tf', None, 'test')"
   ]
  },
  {
   "cell_type": "code",
   "execution_count": 52,
   "metadata": {
    "collapsed": false
   },
   "outputs": [],
   "source": [
    "from base64 import b64encode\n",
    "from PIL import Image\n",
    "from io import BytesIO\n",
    "\n",
    "def img_tag(arr, mode=None):\n",
    "    img = Image.fromarray(arr, mode)\n",
    "    out = BytesIO()\n",
    "    img.save(out, format='png')\n",
    "    return \"<img src='data:image/png;base64,{0}'/>\".format(b64encode(out.getvalue()).decode('utf-8'))"
   ]
  },
  {
   "cell_type": "code",
   "execution_count": 67,
   "metadata": {
    "collapsed": false
   },
   "outputs": [],
   "source": [
    "orig_arr = e.viz.wrong_certain.loc[0].orig_image\n",
    "proc_arr = e.viz.wrong_certain.loc[0].proc_image\n",
    "orig_tag = img_tag(orig_arr, mode=\"RGB\")\n",
    "proc_tag = img_tag(proc_arr, mode=\"L\")"
   ]
  },
  {
   "cell_type": "code",
   "execution_count": 68,
   "metadata": {
    "collapsed": false
   },
   "outputs": [
    {
     "data": {
      "text/html": [
       "<img src='data:image/png;base64,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'/>"
      ],
      "text/plain": [
       "<IPython.core.display.HTML object>"
      ]
     },
     "execution_count": 68,
     "metadata": {},
     "output_type": "execute_result"
    }
   ],
   "source": [
    "HTML(orig_tag)"
   ]
  },
  {
   "cell_type": "code",
   "execution_count": 69,
   "metadata": {
    "collapsed": false
   },
   "outputs": [
    {
     "data": {
      "text/html": [
       "<img src='data:image/png;base64,iVBORw0KGgoAAAANSUhEUgAAACAAAAAgCAAAAABWESUoAAACTUlEQVR4nDXGQZIjNwwEwCoAZLe0Y3/fz3R4RyN1kwDKB4fzlPwLahAABAl0/E8EpfhN62paQC10y5xGkp0L4Yy/x+h1+zxYJVRun2bmwbxefRwjYkyE25jshlEy62pzjzGT7vGch/U2d6jl7m7auWFuyBYZj+MZECF1Nsc82Xtv0Z1N744MjiPQWbtKsNskd7pTBc+KD9OOA7VW9irhBizmOVx1d2XFm48v0IBc9+7IVW0nHzN62bpSQbUASF2yOCfv3pYyE5QLFuEEGlIXj+NrPt/fV1U10NXwiMEmGoLaxx9fh6JSkroqCz5jUkCRUiPmGLyNLYHoFmPE8d+JbghQ7dwSSbQkWlhTFuwx47rWtLyuHkdgr/X+gBXdFCfaDl939FHfrz6PUK51XeodVRIttA33nd/Rr9c4QVSWlO5RxYYFCp1Xvpn3fopmZvGwnDMEdYNQl3pROyHSzKdm1hgRCutt9blqfpl1rjpYNcImJI8YHK5E/lx6PIej7gtYd8SAEWYx7RjstX5u/DqO6Xj/8+7PnGF0dSPaPUza98bxdQ43z/u+zjSHOllRLhDqLJvHDOecce3dQGe2MTZTAommOdHGcLagWp/y4dGtagNaAinK5/Cqnfl+1UkGyC4aCVWLoI0RhVr987tliIMrG7JH5dv+eLju14rx9Ht/7iY7SnUe4XbmZ73Qcb9/lj+/jk4gf+qKb8WcEXPPdef6xs9W/Dr/PJNr7fcdkWALFo9cue+lu93neRwcR6sbAYCk+ZjD0N0wsxhO+lCuxL9+Z9ZuJcPHSQAAAABJRU5ErkJggg=='/>"
      ],
      "text/plain": [
       "<IPython.core.display.HTML object>"
      ]
     },
     "execution_count": 69,
     "metadata": {},
     "output_type": "execute_result"
    }
   ],
   "source": [
    "HTML(proc_tag)"
   ]
  },
  {
   "cell_type": "code",
   "execution_count": null,
   "metadata": {
    "collapsed": true
   },
   "outputs": [],
   "source": []
  }
 ],
 "metadata": {
  "anaconda-cloud": {},
  "kernelspec": {
   "display_name": "Python [default]",
   "language": "python",
   "name": "python3"
  },
  "language_info": {
   "codemirror_mode": {
    "name": "ipython",
    "version": 3
   },
   "file_extension": ".py",
   "mimetype": "text/x-python",
   "name": "python",
   "nbconvert_exporter": "python",
   "pygments_lexer": "ipython3",
   "version": "3.5.2"
  }
 },
 "nbformat": 4,
 "nbformat_minor": 1
}
