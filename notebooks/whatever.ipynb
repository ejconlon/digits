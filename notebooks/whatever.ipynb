{
 "cells": [
  {
   "cell_type": "code",
   "execution_count": 1,
   "metadata": {
    "collapsed": false
   },
   "outputs": [
    {
     "name": "stdout",
     "output_type": "stream",
     "text": [
      "ready\n"
     ]
    }
   ],
   "source": [
    "import sys\n",
    "for p in ['..']:\n",
    "  if p not in sys.path:\n",
    "    sys.path.insert(0, p)\n",
    "\n",
    "from collections import namedtuple\n",
    "import os\n",
    "import pickle\n",
    "\n",
    "import matplotlib.pyplot as plt\n",
    "import numpy as np\n",
    "import pandas as pd\n",
    "from IPython.core.display import HTML\n",
    "\n",
    "from digits.data import Env\n",
    "from digits.explore import explore, viz_table\n",
    "\n",
    "%matplotlib inline\n",
    "\n",
    "env = Env('..')\n",
    "env.assert_ready()\n",
    "print(\"ready\")"
   ]
  },
  {
   "cell_type": "code",
   "execution_count": 2,
   "metadata": {
    "collapsed": false
   },
   "outputs": [],
   "source": [
    "e = explore(env, 'tf', None, 'test')"
   ]
  },
  {
   "cell_type": "code",
   "execution_count": 4,
   "metadata": {
    "collapsed": false
   },
   "outputs": [
    {
     "data": {
      "text/html": [
       "<table border=\"1\" class=\"dataframe\">\n",
       "  <thead>\n",
       "    <tr style=\"text-align: right;\">\n",
       "      <th></th>\n",
       "      <th>gold_class</th>\n",
       "      <th>pred_class</th>\n",
       "      <th>p</th>\n",
       "      <th>entropy</th>\n",
       "      <th>orig_image</th>\n",
       "      <th>proc_image</th>\n",
       "    </tr>\n",
       "  </thead>\n",
       "  <tbody>\n",
       "    <tr>\n",
       "      <th>0</th>\n",
       "      <td>1</td>\n",
       "      <td>9</td>\n",
       "      <td>0.672721</td>\n",
       "      <td>3.828442</td>\n",
       "      <td><img src='data:image/png;base64,iVBORw0KGgoAAAANSUhEUgAAACAAAAAgCAIAAAD8GO2jAAAEyElEQVR4nG1WXa/sRgqsAtrnQ3fzm/dhpf25G2lv7hm7gcpD2545SZA1GtvtpoCiGv7nv/8GQJIgactII9mtqqyqqu7uqpZAGEAAIEiYgeuOBCAJkNQk1iaxXlwO/mJrEUgBkKAWqHu7y86P140EgADdnWSYGQDCzMzdzwBopHWLdCAlVEmq6iZBGCkzM79CNgILhLpbgpmN8ebucUF4mpmTBpAU0BcuZWZlv6QRkl9pfToAUCWAC3FUFUBR0lkEwACT0N1VlZlzzuOYxzEzy3jGKgUN3ecn7gaoqp/5BSRFdwNcZetmd5s1wO7OrDnzOOY8jmPf98eRWWYW4ZJIWNFdVwZWTGcQErpFKjIToJHuQTopoMjuRuacx9z349j3x75/PfbOMreqBQtm7PCXFN+eHEC3gIpWA4RI9rKFpaora2bOYx5H7o+5P/bMcveI7hbJGLY8rUK+/EJSVXUz+P3FaQLEbnR1VeXMOef+eMzMiOgegNxtzK2HuntVeLFzsbZbcxaEqw/wEqMZxMWfMyh1Vj2OY8456mRhZlbl6sFuuRMgYWSDJnXOWdVh9ItSYREWbmYSwZYAUWIDpZ45j3kAa3fPrFk1u2YjxBBXMlaXNLDnzJkrAuJqUJxNSTOLiLFto+qopJnIliqrLLvHorp7jDFGhNEgdSmzjsqvx+Pnzz/2fY+lHl0tydza3CijRQRhZm7u1f01vrYx8jiqK7O6ZWbb9vb5+fnjx4+3Mbp6Hsecx+Px+LU//v/z5/9+/31/7HFyFoLUknRqCWkeBDhyRri5r1i1Ui6BNPM4A4jZs6XqPjIfj8evr6+vX4993+MpWyRE6L6XoFKXIJzZFdQnjvWvq6qyk1pS27QGq6HGKRXfGMwnZXVdFwXPVS0U0OtSd1dmktZS61atM40Aom9tf9GQtW6V527UdU4ApW5pwe/Mykwzk3Qze855HMecR2bGt/7ihVPAP7xYktkAgZWq7u7l4NIGAarKOY9lqwYSRMoI470/l7wDImFGnUE9ryW3y8wg1XLZXZlz3x/7flwR6BXrlfzvgVy9/pSVdbxklntJJ4J1Akq9dD7uE3Ml+QQO4Vy9TCTczd2NbrS7SN0rUUXavd493E9BjYXGDGZ3LLwPshf4IM3N3M1pdma2pe6TuidSdx8jVnNE+C12sFPsLh8CJUMbZbbEiu4Wa+aAXVRrvDYoGRHb9vbx8fH5+WHGIP5uN5MW3VfJz7PYzUn66eFvX5Lu/v7+/vn5+dtv/9q2Ea8F5HPfV29NyCjalaNzzME116z+ODcZY7y/v1cVoOPY42Wji0TXk780g5Fm5rZyDZ3zFi5y64rAtm0IH+bI/IiFl7RnH5xqh6dKrUGDsOsh7SKXzueSCCwmjQgS4SbV907GJSgQz77VkxjhWzi2saY2N7rTDWY0uw98EwCzMDeX5HGflAC6JdaFelWR7rFtynx/e9urFFESzBgjYizGe0SsQVGq7qYgQK1SBe5BRuruW+yeIk5E+BhjbOOtqkOCAJxEjzjZ5UZyDV6CaPCgyaO7ryFMBAQKBGinqC33cLdthHpboyeAMca2bRHhvkaup0FNYoyN5B3BEjbxBfpZjPOchrtfeVgu70mZV3s+6UfSw438E2bL29HN4JqXAAAAAElFTkSuQmCC'/></td>\n",
       "      <td><img src='data:image/png;base64,iVBORw0KGgoAAAANSUhEUgAAACAAAAAgCAAAAABWESUoAAAB0klEQVR4nE1SwZLdMAwCJKfbnU4/u9/bw043iWXRg7N91cEnhEHAXyAokb3W6gUAJAnCMMkkCH4N0AQ3CDAQTAEKiWwR7SaokAi4rRG5GbUXXUWJpggYC4pcoCkAXjXvu6iwWhIWSTgbRLfQNe/7OktprgBJG25mgUGCrvu6rrNiNZRbt+CVhtlNdtV9n2dFNkdje/Fi4hn3WnOelY2Yow2S8HQSICkA3V73XFat1QZAeq4kFJkybaNrQlXrC+E5k/u2UB6rhC41GCPpVev8uNJoh8iEoj/H7God7z9G3/M8P36fCds2iERlEN2mcuR01/n550oCtAHYbdC226vYgLsVCYLcRv+93cVuuKrx2ARsgNyJrioZ6HnPyid84zV2l9DAmvetLwbAoGzb7rWW7e66zn3qR8XTNrgrbJOumSB2HUySESTsdtNkBDr5BPcQREh8ThNjZCZB7YaSUkQQwAbk8f1d+Z92gJJeeuLt/eeR/ykEKAUeX+R4W7hfDF8IkNs440DUU3uDe5GECEgGmAxvhn4+zRxGKCSBshROkuitIo63q9MaIyOD3UZ3wvADYIzxLYGRKYkmFMp+BWVodAPjSO0e8WDCG7A1RhAIPfGBwb+PCzno8WnRigAAAABJRU5ErkJggg=='/></td>\n",
       "    </tr>\n",
       "    <tr>\n",
       "      <th>1</th>\n",
       "      <td>4</td>\n",
       "      <td>8</td>\n",
       "      <td>0.379061</td>\n",
       "      <td>3.693989</td>\n",
       "      <td><img src='data:image/png;base64,iVBORw0KGgoAAAANSUhEUgAAACAAAAAgCAIAAAD8GO2jAAAFb0lEQVR4nF1W7bLrtg3cBUDZN0nzzm1fOJ3cHEskgO0Pys5pORqPRmMSBLAf4D///S+S7m5GQAAkdXd3m9nz+SQ551xrrbUyszulBgjAzNwtRuzl7iAA3PtLEgLfFsn/e9lrh6zqqr1vB6AEgOYCQJCg0QQ092pAUVXuDoA0dwKqev+BJPfpyuy1cq1Zld1FiqRZjDHcrEN7v7uT7KqqTrWk6O59X5KkkZAgad+9G5KqKjPnXHPOzDuAGd0FMCLUIMzobk4SQjdJAYiq+haA5CeS70hVvWbPK+e8ruvKXN1NyszHgJlX9a4VaYDtd0DdqlLsfryvzG+/AFB1V2bO6zyv6zozs7tJuHs3zfYHfWsYuvej7opKkZJ6Q2h3b7e5Sl0157queZ7X6+u8rrOqpCbhsQP4cazMrKp3tfkGRWZWVJUZu9QtdwIkjGzQhMzM67rO8zzP8/U6z/MdwBkRXXTz+XisVVk3st9d3Bl0rC60rVaIIRIEQBgpgTPX6zpfr/Pr63y9Xq/zzCpJ5hgxumTmj+OxnitX1nEDEhCgvYI0cx9jjAijQepSZs3K13n++efPv37+9fX1uq5rrcyslavUluyGMTIr66ZIVXfLDG+mVnfF8/nj+Xz89ttvj+Po6jXnWvM8z6/r/PPnzz/++M/X11fNykwIm0dqFeQmkm5mdsNCQndJrKqq3E+4h3uMMSJi9WqpumfmeZ5fr9fX63WdExIE8whgdG9u29/L7U39bwy9oRjd1d2ZbaZqCWxag9VQw808XA04gvRyEJ7eUkSMMTzcbvrAjBFuZmbotgi/mbyJauYtbUBLyqzMqpYkkEZzd5q1RFp3h7vRAApobaA3STN27wxIMmoXLNPdJQENoLvXWnNea84d2/wuR3cDqNz8l9R7f1VVtdQSbwCppf47g42wbm2QVeVa67quyooxjPYRKEml7sJa6b7GWCszV2autdbWrqraB8dH/avKDFJ9PuwAa+VRvWtHcq0111xrAlAXIHcbw6/nOOYYY25dn+ua81orby3KLPf6ZEeCFNCZa6000swiAsCcc855zQvqHkkpwh/PI3NnMCS1vsH0rlZXd5EmaYPMPdwdoLqrVNVrLUFzXec8r+tCo6uN9sijMrtqa0M3W92t3ZDQ/XL3Z9fB3ce4yZFRHmZOcgfryspMNNxso1zqlgDdag+a8TbUffRHOnaAiDiOx48fP3799Ye7hQ/3cLeVMCNIgGATImXON8Y8Yowjug3QcaQZ/8eTP4bs7s/n85dffvn9938cx2EW2+xs2u3+7mr6vczd7vuGj4hqSopIgPEmtpH24foY4/l8dhfQc67tU1Kfp2euzFWV6h7HGGOEh7vvwWKMiBFW1upNrDsDI4xbZncGdhxD+EHDWkuN7q5MUnM+1ppZq6sitpS5u3+TJpPEtywFGhQIGCGJwEbSiKBhhGVWZm8Utvr1Gscx1hplNsJj3FrHd2u+eWd3V4TRjW40+xi+CYBZdJjB3MzbnKTGiHHEOGLMMMLf0rZNdxN4y8nb5xVxeAw3tz2akZSquykIt57QYLbRhwgbw8cx+G0+k5SZm+Mk7128Afl3Ed2N5B68BNHg4J5fjOj2kfF4HGs9M9toFMaIiPhYcXVV7bHsnpM+Y6WZ4cMGSVDTMOIgICGz9sy5ctt+ZziEjbfn8/l4PMbYkbYQKCLcua9v7xGxP5YNyoxjBElJNErHNlpAZsiVBIaPx/OxAxzH8aEF4O4mKczwOX3XdN+fMCPdzYytBgwK4EHC3EaMqjIw3B+PcTyOx+PY0hLhu2bAA3hP1x+d2BMpAVA0o5HG+9Xdvd1jDAHoaoLhdhzjGGPE2Chx57sqBPBfRUc64nskOXgAAAAASUVORK5CYII='/></td>\n",
       "      <td><img src='data:image/png;base64,iVBORw0KGgoAAAANSUhEUgAAACAAAAAgCAAAAABWESUoAAACF0lEQVR4nDXRy67EVAxE0SrbJwkP8dP8MBJwO8mxqxi0mO/Blhb/ZBKwFBffvVsGIldVEtK4AIAAAcCakQEjARAkUZOIwJCkNf2OyFhRzOSMXSJI2oA8/b49jEQJDFpEDUGSDFj7eZ8txooxCANSSf4OQHu/99NCOkcALFnVlEESmve5f54x03H0iLB6akIGQLqf+/7c4yjF2aMgYNXEfAvs+/Pzf3BcPQnbLuYqeno+f//78+xuUdEzMwprpq7r90Pvvu9//vrZbVpIRhCQZ2Yqc9W2+v58HjshOCKCAEkCJXXoi5FODlu1iiQrQuXSdEhwt4zIMPXVA0MEa6bTgPb7dkSE0ISnZ2zbLk0nBMx+psKAPTtXd2/PaMrShC3tZx8G97sh5DqPJe13l9Rpm0TviML7PhjX1b3tmSlboslMeGb7fR4PuyXJssu2DeZa1Rn0dDskCyQismzYYB2//JaVuYMAmBlRh3BEAQDAvH794wgy9k5nZkRWyYUiSZDrEl7Yd/f4WJlVa43TBZAA80BsqfnumcrMiAiDLINhgBXV3e3PsWOt/ErBqogIMByKzOQ6jpcZpGdCMupYWUnJsBmMWgcIuPdLm6zKjKCJMB3qczdRFbSGjKyqIGybB9DQHpXXdZ0ryKyoDFoAEIumNYiNOq/zyEyki7QIg8wwbOQa5Hmeq6oCKMAGAEaEIrOEQR6rKjOT+A/12ME/ny8X+wAAAABJRU5ErkJggg=='/></td>\n",
       "    </tr>\n",
       "    <tr>\n",
       "      <th>2</th>\n",
       "      <td>8</td>\n",
       "      <td>7</td>\n",
       "      <td>0.761315</td>\n",
       "      <td>3.531664</td>\n",
       "      <td><img src='data:image/png;base64,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'/></td>\n",
       "      <td><img src='data:image/png;base64,iVBORw0KGgoAAAANSUhEUgAAACAAAAAgCAAAAABWESUoAAACTUlEQVR4nDXGQZIjNwwEwCoAZLe0Y3/fz3R4RyN1kwDKB4fzlPwLahAABAl0/E8EpfhN62paQC10y5xGkp0L4Yy/x+h1+zxYJVRun2bmwbxefRwjYkyE25jshlEy62pzjzGT7vGch/U2d6jl7m7auWFuyBYZj+MZECF1Nsc82Xtv0Z1N744MjiPQWbtKsNskd7pTBc+KD9OOA7VW9irhBizmOVx1d2XFm48v0IBc9+7IVW0nHzN62bpSQbUASF2yOCfv3pYyE5QLFuEEGlIXj+NrPt/fV1U10NXwiMEmGoLaxx9fh6JSkroqCz5jUkCRUiPmGLyNLYHoFmPE8d+JbghQ7dwSSbQkWlhTFuwx47rWtLyuHkdgr/X+gBXdFCfaDl939FHfrz6PUK51XeodVRIttA33nd/Rr9c4QVSWlO5RxYYFCp1Xvpn3fopmZvGwnDMEdYNQl3pROyHSzKdm1hgRCutt9blqfpl1rjpYNcImJI8YHK5E/lx6PIej7gtYd8SAEWYx7RjstX5u/DqO6Xj/8+7PnGF0dSPaPUza98bxdQ43z/u+zjSHOllRLhDqLJvHDOecce3dQGe2MTZTAommOdHGcLagWp/y4dGtagNaAinK5/Cqnfl+1UkGyC4aCVWLoI0RhVr987tliIMrG7JH5dv+eLju14rx9Ht/7iY7SnUe4XbmZ73Qcb9/lj+/jk4gf+qKb8WcEXPPdef6xs9W/Dr/PJNr7fcdkWALFo9cue+lu93neRwcR6sbAYCk+ZjD0N0wsxhO+lCuxL9+Z9ZuJcPHSQAAAABJRU5ErkJggg=='/></td>\n",
       "    </tr>\n",
       "    <tr>\n",
       "      <th>3</th>\n",
       "      <td>8</td>\n",
       "      <td>4</td>\n",
       "      <td>0.882228</td>\n",
       "      <td>3.394942</td>\n",
       "      <td><img src='data:image/png;base64,iVBORw0KGgoAAAANSUhEUgAAACAAAAAgCAIAAAD8GO2jAAAFJUlEQVR4nG1WXW8tOQqsAuzuc1fzj/dhpfnHM5qb0zYf+0D3SbRaZCWR0qYMVAH8z5//VlUzU1UQACozMzOQt1VVVQEooLIKCRQBkgQgfY2J2/rrShQA69sECQqlgGRbkgQIVBX6/AAAUBSR/hMgH/+Nh+rfllFCgBRVVSWZERnpyKoQQUcQ8R0OABZIMrMoJIVEknLDfF4GlGVWZqEoVBUliUImSZCZWRG5d7h7RGRmVfb7hDQzESEgFFUVCJUi+Hi/AapACimA9PsAZJZ7usfe+3rvvd3dMyOzAUpV53EMNSEgRVKkcyvSIJkAzD1F7sABVCETHVZm7h3Xtd/Xta7lHh1EV8PMAMWkCgBIVQHtvQHazH2rSue3c1dVmRXhe/tae137el/Xde0dHtEcQ9UcU8WEhKrwwxQRqoiQIFlVtpaT6h6Z2f+oQmNkRHr4biRfa7l7R4asSpynZ4wkMxVo4krHQBbAKti6tlD29ohQ1ZthaPZWp6oqM2Nv33tnZGahSkQjKgudsyoBuwjCG6BQsIj8nMwSQVVWZVVEhruvtb++rq+va60VkUIRSqEycV2bvKYpCmPMKhT5UYSQRVhTlnd5o4rxmPu+1vv31z9//f3X++tdgOmY81AZLYjf/7yv9zqmZcac4zhmq66qSIgKABMR4aP2H/aIPiN8r7XXpojJULVhIyL33td1AcgYYwz3yLy52K2FEBLW3giI0EybY1Vhph8zEzVhqVAf9OYbqioSfbr+WSlAFSqz+PSirOwmJMJM/o/dEnkqf1/J6kTdoqm7Kf2wAmDxbV1bfnvIzIxWb3M/wzMiqe3553ftjoCAIhQBpQDY3luE7u6+995V9QPSIzxie7i7sxi0iBBGs+6j/08bfXTwA+D9fhfqtY615hgrMyJj7bXWtffa+9p7uW+PzRIR9wjSIzIzqpI39/n4F1EVKxEIBYCttUS493bfe4+qyvq8vTtoVEVV4pO9p1P+n8MCq9XWsObu7tqtvhtSFy+qstvXrU4QFKEZzTQhlbWBFnlmVGY9sq+SnmAk7FMr3DK8f6iIqjw8VTMjbDyWWoXiviKiyxwZnh7hkaodKwuAiVK0665mY0zLFACZsfecc8w555gVEI5zHsdxjHl0u6vfyKzI9Er/mVch2Y2DpiqqctfGdJhFsqoihtl9xujJamPcp5J7b5L34IiMTM8G0UxmkpIATfU+ZjaG2TAJqSp3/6RIxERTKE+sLEAET20TSFTWo+SsLCQgAJ4sq3zsId63kMkisvX/rWpUg/UHnz7f+wSlhwPtFkV32e/Vo37IOFocJCMzKiQjIitThGYi2vfbdU8DueeO0PgsW61dkR6fHfi9EPXlrNix3tfbI1G1Y2V58R4B9xTpefS0kCpaD2EP33vttUn2p83+noKd+4xaa4f/bWqq5u5rrcxU0ars+eG+3XVvAinC3g1UVbr3RkZEkEVWhz+GjGHHMTNyr4goVHagADoLc9oY1q3+STIL6AXHzvM0s+M4xjD53mxglmOMOY/z3O4O0MQjSnrHpIZmLxHHcf769ev1Os/XcR7HnHMMU9WuvL1eLzM7z2PO2XRSbaEpycwkS0TGmHvuGwAsMLLct4gcx3m+ztev13me8zjGnGamyu619scf/1LT8zzGGGZmptZjlDiOOYbNYx7Hcb3XXk2em4kR6b4BzjGP4zhv//18IW/W2pyj13czVaUqf8ri3nezSDXz8KxEVgPE3gJg2DHGtMeF9rrKns34L3IjMoaszrDZAAAAAElFTkSuQmCC'/></td>\n",
       "      <td><img src='data:image/png;base64,iVBORw0KGgoAAAANSUhEUgAAACAAAAAgCAAAAABWESUoAAAB/UlEQVR4nD2SQW4lRwxDSUrV7Rkgl86Vg8T+XSUyi2+PlqIEQY/k39VF2GM7AZKAAAggCDoBCJJ8i0mg7wGA6CGrOIPIsR2EJmkRRNB2KMak55xxELbAQgkI2iERwHP2ax8bqbtYFCkYPQoQOz7P63XGQeMSBEoAessmkrOf19drj52rVApAkemtYxHJnL2f59jJx9CkJCL94plC3uW9J9HECUgx6JkZK7HP8/n5jAC/2FkAAaVJwJmZ/Xz+84lacv79unzdQSi0+MPR8zyq6tkvzDoGErJJsKV0VXXjG7n9hpooMSjyjxt5y8G7embmT9eZkZ3YACARvXXOzszMnDnQaL63JYnoLzzPsvez9z4TDWdCEmSViH60z05mZuwkP7cBkiL6HNv+Rkeqm9mxnVgAOwlIUO8311oVTewZJ0RXSX0Z3te1zPu+nP9szzlHb0aqbme6e5lrLW8mHs/YQndXrzU5VaWi9M4J8g45uqok5QclAET6zrTI/hFs2yPbE9WPhVITntEbLeHzmhyTTOzEaWT2w4QEpXmm6jxW5pyzIXQX4iHVa92zJyNI12oBgNEffS+R6nV9HLyGZFH3718f97WK6F/9cVUVTFPrNQR8dP/6/XFfXUH/1R+ru8W7r/vrmQBzsO5f972KQF/VXVUlOWGfBLPRq7tEIv8Do/u2zGhqEzYAAAAASUVORK5CYII='/></td>\n",
       "    </tr>\n",
       "    <tr>\n",
       "      <th>4</th>\n",
       "      <td>5</td>\n",
       "      <td>4</td>\n",
       "      <td>0.671408</td>\n",
       "      <td>3.371928</td>\n",
       "      <td><img src='data:image/png;base64,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'/></td>\n",
       "      <td><img src='data:image/png;base64,iVBORw0KGgoAAAANSUhEUgAAACAAAAAgCAAAAABWESUoAAACyUlEQVR4nCXQS29TVxiF4bXW3udm+/hGnCikjgSIVEiEDlDb/6+OUdWqN1pSIAmUCEicxI7tc87+vg4yfgeP9PLFV+Px44tXrQvZ9zupCnRVuSQqyFqtzMtx2HQgwN7i188WYhEkUSTJuHVWZXdjwV1VvDi7nj+dZqQEwh1UB9a99ppVJfbSZ795/fN5l5EgBLcsKmFQLG7zx/1/v/S5gPzsenlcCiSIWMTBbax529UH49Hp/jIJ0O2bb/sgKIJZzJmXaZXKnJM6/m4KiR4iAACCcnVWFO0qzHpA4ZepPsyBWZ8kCHjM1bJXre/YNAA3ax58Ny8wCVQQRGSKHYry6s7P+0dB15u4uz98czJTCgBB0mNikW5aX7+tD7lK1YTT42+mTjhJCwXE8gGWSVyerLnCcBitfFg43UE46NJgwtHIkl3e2lWaDeWURICkrE1inWl+NHR13XKjZivRJYqAs5LLBkq9R096jPFqw/Nf7oIDEAkgH5VSGGXeFPPaq/5CYfPnH00AHCRhsRTVm2w3asuyK7LLDtq8ehfl5qCgIrSuOn76a5OlFfu9w0JUc9o6cH8BjTOO+fVDPl+uwmzwvH7/jt2iyYOTAELsgDjVsv37ovVih8Xxvp2qtQCCcCoaoOFqabi5Q11LafeHsQW6GwAiBIcrv1qT7ungw+smaBLRr+RwM0MJmMUAZQZU9cnm+vn+VROmJAknYjQjY9jd+4/RZvF689vq5T+LsBdMAICQJSdjGhxXZ9v8aL1V9/Zm6YM9AATgGRPdI3z8YvLl4eFProBLw87Y6QCdGQD3KLL3DOV6TTeP4JNsK5BmCgbKBDgYkT8IkFIznzeeSLgT5oAiKQLoPbP3q5DqH2dru+/xXookKdH2ho/efuTLeWse6UbmggGIIEnSOZoefir3tWUQISILnQMewSCJtG3WfwpLHgkHEHII7vgf6IxRV5IOr7MAAAAASUVORK5CYII='/></td>\n",
       "    </tr>\n",
       "    <tr>\n",
       "      <th>5</th>\n",
       "      <td>1</td>\n",
       "      <td>4</td>\n",
       "      <td>0.476251</td>\n",
       "      <td>3.139109</td>\n",
       "      <td><img src='data:image/png;base64,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'/></td>\n",
       "      <td><img src='data:image/png;base64,iVBORw0KGgoAAAANSUhEUgAAACAAAAAgCAAAAABWESUoAAACMElEQVR4nCWRS64cSQwDSUmZ2dXP9pHnyrNw/6pSEr3oNQMEAsH/JEcKMWzvHl7XFXOpWti7xoglQWyOYVJFBOlzyBtc3e7xI5Qathxgz4m1LQJqmpkR8QcgBF9Mf/c6qCaJTnnMCcVvISDGrM+LFmu4oasTJTOH4hBImI+zrk/bcT9CtXfXKdUFxIQEuqnO11NxwYJZqn3JlVI4UDBnd+XGzgYI5S7RTVeHAYAZ4SMGjIC6u9pu81eczzNIqAGRPldBVDmg9vHza6TZ90EN2Lhdm01IQMvm/ZjYOwgMCUCse74FKgl1uZkxuwMAaEDbPHYmQaPMuHcm93kGgMJwFX0NSO1TvW7vl4bXfj8DEEjCSuqqgg02XZ9Pv73+/xsASUmQuipL5q5in3n9Zb8+IdDQUErd3V0Nb3b2eZl2dogAVAJAWji6qq6tWGSLCggmAQTpwxcrez9OHHc35bmDoEGALDwmb4GN83nyz1hh9Xh/AQoAAMZwtM532v04IjRmEMRXojLLzA1dO2MdNw+cGQDUDbC7KlkgiBYjaICPEAQJBNSVVtUE1CLRoI34jjSwKJBVRqgbRgKDASLxLUQPZLfBV+ETh5n2FQQKTrOCGHnuCdm9r0fDcD1eAcAZRuX7/XzWbYWPOUdevR/9/lqYO9X7Oj+fwi653a69P6fXSwwARqgzq/Qt4tbrvLqyaQwKpNTwddfE/JkjOG7l2c2QAgAgATYOTI7bHAbGYkO+uv4BxjGr0KVhHr4AAAAASUVORK5CYII='/></td>\n",
       "    </tr>\n",
       "    <tr>\n",
       "      <th>6</th>\n",
       "      <td>9</td>\n",
       "      <td>3</td>\n",
       "      <td>0.902404</td>\n",
       "      <td>2.878208</td>\n",
       "      <td><img src='data:image/png;base64,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'/></td>\n",
       "      <td><img src='data:image/png;base64,iVBORw0KGgoAAAANSUhEUgAAACAAAAAgCAAAAABWESUoAAACbElEQVR4nCWRQXLrOAwFH0CQlC0ncc2cbO5/iPyUvyWRBPBmkX1XL7rlP0SkL9/2vVfEmu/hPgO2tf68PR72RZ8DqB8fe6/qY6jNMwgVgCTtn5wHWOrz615N4xrWTxAsKmAS9swzh+nH87OJinQpzSIYKvpruCcPlf58bnAXUrvENoPIkMhMs1Bmlq3JPBYJa1a3scKZTJIGRkRK4Tp+llPvpbTbco9EkqRlhq+kxDqPeWXTvUPoywUCkubLI5yqAmG4QqvVHNcMKUnCxs+fQ/dHud6vc6b1vnWsVq1EAFC1uA7XVnG9Xmeg3u5bi2BmZioEotAiYC5f45q0dusmscb0VAMJAwRkUNSq1FZLEcbyoJqBoBEimbFYN5F661WYEcGCWgHAIEDGmihNynZ/3C0BUVUIfwGA9DlMaunb42PXpSKqzMwO0oQZjhXNNvRtM0gpAjIiVydhEDA4RqtWmmGdne4eEZ7l9wWYwfkubAVIIziuMZ0QFYAGCJIjOcz6tvXGPMdcTtECiJhovY2xztXM2m3fdC/ncU2fWVuRTBOEe4zTe2/S3HXFHCNIiBICEyABJNX6fd+qZMwxHQL8dhBV1Rpx2x+Pz71JrDnnXJ7IAADztdYM/Xx8fT4+NplJX3OMTNAAwK7rGjP2f/evz8et+IrrPM+5SCAJwI5rOqV93O63KjnP98/f8xohEFUBYMc5U0rJ9CsR5+v9/XedQYFqAQB7vY817Pg+j4qMMc73THcBVQQg7M/fI7yP1xoSK8N9BJIEvRIE7Hs6kD68wB1kBkWriGiRWovYW0RMGItgglQIqhS1Itablf8BMErz0OTId/4AAAAASUVORK5CYII='/></td>\n",
       "    </tr>\n",
       "    <tr>\n",
       "      <th>7</th>\n",
       "      <td>5</td>\n",
       "      <td>0</td>\n",
       "      <td>0.356769</td>\n",
       "      <td>1.695077</td>\n",
       "      <td><img src='data:image/png;base64,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'/></td>\n",
       "      <td><img src='data:image/png;base64,iVBORw0KGgoAAAANSUhEUgAAACAAAAAgCAAAAABWESUoAAACJ0lEQVR4nD2S224kOQxDSUl2XTK7+eH96cUk3V22Jc5DdUaA3giKOBT/ozXHfH5x7z2UMxHhawEwAIhdMDMC8uZBbAIA8F4i/s2kO46PlFm4u2mtmYAAwBCfOcvCmKQkWnOsOYVbQUSvRgZRZmuNtTLceqO9LRDTWg+rXIDWeLwqznPv3W8LIb76GbvVqDHXvK4re0PbO/8KvqvTPanxhNhQ/dj75rwvCFG5UlBlwtoHwNZ7CwISCCCoklS5CrFt3UkziPxBEUYAqirB+7kFpKqEgyAAxDKBhpIY295tlWCECAgEQgwq1xyD8/KyEmmehfcE+x4a4/q6mPO79dbCLXALBMQqZ6251pLhEvfjPBwg34qYRaPErgzL54pfxWjgHQOIAt2zl8/a8Xxe07Zt+rttEeGQGHuoaqu2qpjzQneBAIUIzOkRMKFVY7vMcjDiJ2W0+u7R7cbXf9k1ag2vu2sQwXxdB52oKnD34Gs53/8mIJjXSKMqk3Q3XQtoDkIghLDKAmpeRW9ufFUSYXijULTKyqznN7Ye5qW13JxvjkC0tXKO+fu3FTvIykUEiz9doHnH9Xo8jDCz19ewHkn+eES27Yw1Vi2Usl7/j3b0dP/bZvbzs0+NeLyej65xed8/Tt6cKATa8dGuseW8lC8l2rZvPQvgO2Tr4RY7S0UV4ziPJom8Hzs+z65Vvrc4EpLi/GfT9Q4JIs7dVQl33wsSfDsiRwQgAcAfE8peYkD2v+MAAAAASUVORK5CYII='/></td>\n",
       "    </tr>\n",
       "    <tr>\n",
       "      <th>8</th>\n",
       "      <td>1</td>\n",
       "      <td>3</td>\n",
       "      <td>0.936128</td>\n",
       "      <td>1.534566</td>\n",
       "      <td><img src='data:image/png;base64,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'/></td>\n",
       "      <td><img src='data:image/png;base64,iVBORw0KGgoAAAANSUhEUgAAACAAAAAgCAAAAABWESUoAAACVklEQVR4nC2RwXLjSAxDAZJSy1acpGr/b///Np44ltVSk9iD94QLCq9Qj//ue9+fJ4jKA+bXtrSGzBrnWNa1hVSVgopVIKd2vV6bxtGB6XZbWwhSEZAk+tTW2+1jVt8gn76/rhEUBBFEgfNyuX19rq1e1cNu358zgyRpEqDyaOv1dlujtBnb9/eCEQIIAATdp3lelktjmqp8mXlskVmlTBKkmcc8Ty5lZtF1bj82RmblKAEAQA9TZY6zxOzbFkeOrExQgEjSiDFG5pAZySDq6DAdFpP2qssS0e/3zdYP35+PLdyIMhsJ+DgGX/uB3Ldh84T98XgFQTpgblQJBCGYE6pznH0PN5oRElQpU1UJIKQULaagGQ0CIAm0/5NVeWpaGGbuliUZBHrwfReV5wGfGW7mNkoSBIvJyDdhHD04eViEOwqOIujuZqQqB86cY4EZae5mAFQluNNAKEfvyZjDjKC5SqiqFPnupo6na7YgCZinlaAqeNAAotRLfbKQpLKJo2AR89xaAzldej9f5xweJAi9XfrUlqVNZcgxsr9Ga5MBpCELBDgtl0sLI1AAShYtSICSSMDn5brMkTQzmzIv68caEoh6L1i7XtZGjvM8j7TPj6/PNQiVoDKW6DEh9dr3vR+5/rN+fa5RVVVvT2Vude7jd9uPIc63y/UyR1VJoESaoUav/njuR9G9auwZmZUDRDkLNfrr3H8fv9vZY/vz2oKhqkpSBAjo/LHX/fnzytH64+ysSPo0hpwAtN+fwLH1PoAafTgyyhrtUU6B4+9dlJAkg8pT0H+fyLMqQ4TwsgAAAABJRU5ErkJggg=='/></td>\n",
       "    </tr>\n",
       "  </tbody>\n",
       "</table>"
      ],
      "text/plain": [
       "<IPython.core.display.HTML object>"
      ]
     },
     "execution_count": 4,
     "metadata": {},
     "output_type": "execute_result"
    }
   ],
   "source": [
    "HTML(viz_table(e.viz.wrong_uncertain))"
   ]
  },
  {
   "cell_type": "code",
   "execution_count": null,
   "metadata": {
    "collapsed": true
   },
   "outputs": [],
   "source": []
  }
 ],
 "metadata": {
  "anaconda-cloud": {},
  "kernelspec": {
   "display_name": "Python [default]",
   "language": "python",
   "name": "python3"
  },
  "language_info": {
   "codemirror_mode": {
    "name": "ipython",
    "version": 3
   },
   "file_extension": ".py",
   "mimetype": "text/x-python",
   "name": "python",
   "nbconvert_exporter": "python",
   "pygments_lexer": "ipython3",
   "version": "3.5.2"
  }
 },
 "nbformat": 4,
 "nbformat_minor": 1
}
