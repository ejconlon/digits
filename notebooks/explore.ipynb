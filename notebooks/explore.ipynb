{
 "cells": [
  {
   "cell_type": "code",
   "execution_count": 1,
   "metadata": {
    "collapsed": false
   },
   "outputs": [
    {
     "name": "stdout",
     "output_type": "stream",
     "text": [
      "ready\n"
     ]
    }
   ],
   "source": [
    "import sys\n",
    "for p in ['..']:\n",
    "  if p not in sys.path:\n",
    "    sys.path.insert(0, p)\n",
    "\n",
    "from collections import namedtuple\n",
    "import os\n",
    "import pickle\n",
    "\n",
    "import matplotlib.pyplot as plt\n",
    "import numpy as np\n",
    "import pandas as pd\n",
    "from IPython.core.display import HTML\n",
    "\n",
    "from digits.data import Env\n",
    "from digits.explore import explore, viz_table\n",
    "\n",
    "%matplotlib inline\n",
    "\n",
    "env = Env('..')\n",
    "env.assert_ready()\n",
    "print(\"ready\")"
   ]
  },
  {
   "cell_type": "code",
   "execution_count": 2,
   "metadata": {
    "collapsed": false
   },
   "outputs": [],
   "source": [
    "e = explore(env, 'tf', 'mnist', 'test')"
   ]
  },
  {
   "cell_type": "code",
   "execution_count": 3,
   "metadata": {
    "collapsed": false
   },
   "outputs": [
    {
     "data": {
      "text/plain": [
       "0.95478571428571424"
      ]
     },
     "execution_count": 3,
     "metadata": {},
     "output_type": "execute_result"
    }
   ],
   "source": [
    "e.metrics.accuracy()"
   ]
  },
  {
   "cell_type": "code",
   "execution_count": 4,
   "metadata": {
    "collapsed": false
   },
   "outputs": [
    {
     "data": {
      "text/plain": [
       "array([ 0.10014286,  0.11035714,  0.09907143,  0.10207143,  0.09535714,\n",
       "        0.09235714,  0.09842857,  0.10285714,  0.19935714])"
      ]
     },
     "execution_count": 4,
     "metadata": {},
     "output_type": "execute_result"
    }
   ],
   "source": [
    "e.metrics.gold_class_dist()"
   ]
  },
  {
   "cell_type": "code",
   "execution_count": 5,
   "metadata": {
    "collapsed": false
   },
   "outputs": [
    {
     "data": {
      "text/plain": [
       "array([ 0.1       ,  0.10864286,  0.09692857,  0.0985    ,  0.09592857,\n",
       "        0.09157143,  0.09942857,  0.102     ,  0.207     ])"
      ]
     },
     "execution_count": 5,
     "metadata": {},
     "output_type": "execute_result"
    }
   ],
   "source": [
    "e.metrics.pred_class_dist()"
   ]
  },
  {
   "cell_type": "code",
   "execution_count": 10,
   "metadata": {
    "collapsed": false
   },
   "outputs": [
    {
     "data": {
      "text/html": [
       "<table border=\"1\" class=\"dataframe\">\n",
       "  <thead>\n",
       "    <tr style=\"text-align: right;\">\n",
       "      <th></th>\n",
       "      <th>gold_class</th>\n",
       "      <th>pred_class</th>\n",
       "      <th>p</th>\n",
       "      <th>entropy</th>\n",
       "      <th>proc_image</th>\n",
       "    </tr>\n",
       "  </thead>\n",
       "  <tbody>\n",
       "    <tr>\n",
       "      <th>0</th>\n",
       "      <td>1</td>\n",
       "      <td>1</td>\n",
       "      <td>1.0</td>\n",
       "      <td>7.327123</td>\n",
       "      <td><img src='data:image/png;base64,iVBORw0KGgoAAAANSUhEUgAAABwAAAAcCAAAAABXZoBIAAAAoUlEQVR4nM3MvwpBcQDF8d+9FpR/+dN9CrEYPIPSLVnMSiar0XYfQpQn8A4mGfAUut2iDH6R+70GI2eVM536dI4xf5HqJem8m/uJ00KSUcOihaYwJ4B9WmAPaAnLR7DOCmwANWGVE6wcgSOIcsK8kHgizMzgrKxuefaFuXPYquESwrKwccx1KGxgYSGsfYRdSdgBbv53S23g3hWnPjyU/TYvNSFEmZhU2QIAAAAASUVORK5CYII='/></td>\n",
       "    </tr>\n",
       "    <tr>\n",
       "      <th>1</th>\n",
       "      <td>2</td>\n",
       "      <td>2</td>\n",
       "      <td>1.0</td>\n",
       "      <td>7.264030</td>\n",
       "      <td><img src='data:image/png;base64,iVBORw0KGgoAAAANSUhEUgAAABwAAAAcCAAAAABXZoBIAAAA8klEQVR4nGNgGGBwvQynFFvF18/HttphkxLOe/nv//db739/7WLBkGz69+/fNjMGixP//nVgSC44VibCwsDAwB75/W8jbmdFfD/HjVv2/r9QCIMJi+R8BnPckgwM1/BJauGRPDURQiN5mFld9/M2BgYGBobPj9FUWx7cd/vfp3J+MQaG8gAGVGPbdjNsNhGMvWQrzybMcwdVH8+FIxCGzdvDDz9IoEpG/KuFMFiT/v7rholCHVQN47Oz//2wCk3yM4M+9+9fjFyaDXJlgqfR3Gqy59+/ywsX/3vRKa7gieFvgZT7/55Oa5RlYGDjw5CkJwAAS0hP9FLl0xEAAAAASUVORK5CYII='/></td>\n",
       "    </tr>\n",
       "    <tr>\n",
       "      <th>2</th>\n",
       "      <td>8</td>\n",
       "      <td>8</td>\n",
       "      <td>1.0</td>\n",
       "      <td>7.242083</td>\n",
       "      <td><img src='data:image/png;base64,iVBORw0KGgoAAAANSUhEUgAAABwAAAAcCAAAAABXZoBIAAABBElEQVR4nM3PL0tDYRTH8d+cQ7kogggzaRIZyIIXFTG5NrDKwJdgucFgsBl8AYLRZjAqM0yMpg0m6Ayygf+WLjhEYVzkfh9mEGU+94kGTzvnc87hHOmfRao/GfA3lOpp86V4k2ic3AEMwPOYbflHvrE8aOMqUCt63mLEx5RlmQq0fEn5LuHS1w2/Gu7rkraGdFG1MO5I45KG5/W0K3uyHak8Ih3novVm8ucjKGglpJZNmiqE21evXE84TLNvxpie2cu4cKEDdA9HXVZoAZy6SNMNAIK+0s8rc3c5VYN3ZV14G0snB3XnUpVi1tL7EZ5TH2gGcO4e9QEufTeml88IZ9z2t/EJwYlyyzAcLu0AAAAASUVORK5CYII='/></td>\n",
       "    </tr>\n",
       "    <tr>\n",
       "      <th>3</th>\n",
       "      <td>5</td>\n",
       "      <td>5</td>\n",
       "      <td>1.0</td>\n",
       "      <td>7.238497</td>\n",
       "      <td><img src='data:image/png;base64,iVBORw0KGgoAAAANSUhEUgAAABwAAAAcCAAAAABXZoBIAAABDUlEQVR4nGNgGGSAEY3PJVzAoOrN9HRl/xNUSeEIOwYZc8b/V74w/hdm0ETRE7r/z98/fzZmWfAyMDAIW6AY2PDnz5/Tf+qZsVnO+3vr3024XBZRG/THFE2MBcZYwRDEEKbAwMBw8RY2vXP/fPj758+fd7XYJFf+/fvo4cOHn/5uEsCUnPAygYGBgcHm1Z9uLO5VhZrw5wm6gxgYPn+GsTajaNJsQ7Az/p7jRZFcFgJnGv/904dq3d/VUIZw9be/lagaGU5/M2JgYGBgKDr0588mTjSH+v/1Y2FgsNn/7+8hewxfcB35s8my+dWfiyHCGHIMDIWv/vz982ejJKooLCWIsTF4nz3/F4s+6gMARK5fJxI/W3oAAAAASUVORK5CYII='/></td>\n",
       "    </tr>\n",
       "    <tr>\n",
       "      <th>4</th>\n",
       "      <td>1</td>\n",
       "      <td>1</td>\n",
       "      <td>1.0</td>\n",
       "      <td>7.229114</td>\n",
       "      <td><img src='data:image/png;base64,iVBORw0KGgoAAAANSUhEUgAAABwAAAAcCAAAAABXZoBIAAAAuUlEQVR4nM3QPwtBYRTH8ePfoChlUnRZMMts0l28CMNdyER5DXc2MHkTSsorsNssJgvDLVlc9Y1F7h/n2QzO9HvOp/Ocp0fk78t+Hpsma13AeedkHHPFIH/hIpTTUUqNqiL3q76xALALzp1aCLvAoaEPZtfATDeZA76tW/0MDHVLucC+rKMDMDVsXIE/yejWPoEX6YS+r18S2RouHT9gmdct4YJfMQxacOsZTCwYxHufB3kbOZkGf1wvl9dCbgjLy1IAAAAASUVORK5CYII='/></td>\n",
       "    </tr>\n",
       "    <tr>\n",
       "      <th>5</th>\n",
       "      <td>9</td>\n",
       "      <td>9</td>\n",
       "      <td>1.0</td>\n",
       "      <td>7.213032</td>\n",
       "      <td><img src='data:image/png;base64,iVBORw0KGgoAAAANSUhEUgAAABwAAAAcCAAAAABXZoBIAAAA0klEQVR4nNXOv0qCYRTH8V+2J2SD07u/giZdQFQObi3iYlPh2j24OXoDujW0RLlFXYEiiE4qGkgOgSD+aRDx+9pmwfM8QqNnO+dz/kl7G/lhEGyCSdJCpeWaYr4CFdPuvni4P1QCPg3zxww8yY4d+r4k3cKLgSMeJSnSYHZuYHYxfT7WxTtULc9+QK81B24sGH8DgPnltnTwqyfXOYXP1I1ZJiVJZXh12VGd75QLr6D5Jw25+kzMSE9OPJXaO9auV64b/oia86YXFe73CqTd+J/4AafQUpEQ+BiEAAAAAElFTkSuQmCC'/></td>\n",
       "    </tr>\n",
       "    <tr>\n",
       "      <th>6</th>\n",
       "      <td>6</td>\n",
       "      <td>6</td>\n",
       "      <td>1.0</td>\n",
       "      <td>7.202662</td>\n",
       "      <td><img src='data:image/png;base64,iVBORw0KGgoAAAANSUhEUgAAABwAAAAcCAAAAABXZoBIAAAA80lEQVR4nM2OIUhDYRRGj2KQhYFRH8LEGQwOg3lGMahlRcYWxtLELmJbsRmEJdswyIrGBRWjxeCCPhCD4sSyGQYv+F1mEMfG/78q3na/w7n3gz+ZTTtOxrG0SXuDbXyELR5B/9nvpa5kZxsxRxuSrfrR5K2ZbccVlaSRZKhQ4ZCv6xiRzJ0ugcBr5jKwlK3ctLZc8eDezKx9Xqu8ZR3YMknhGlANl3+iiV8WTAGP66/A51zCZ+YAaDbdQsDKPBDMXDg/d/pmp9PArrltA5NeTpgtNkIXUo4kfXR7Ud4DqUuy94fSIBgbgsmF/ahbf+r4xP8x365xW4+iqC0tAAAAAElFTkSuQmCC'/></td>\n",
       "    </tr>\n",
       "    <tr>\n",
       "      <th>7</th>\n",
       "      <td>6</td>\n",
       "      <td>6</td>\n",
       "      <td>1.0</td>\n",
       "      <td>7.156177</td>\n",
       "      <td><img src='data:image/png;base64,iVBORw0KGgoAAAANSUhEUgAAABwAAAAcCAAAAABXZoBIAAAA8UlEQVR4nGNgoCLQ/zoRymLClCzgZMapUe/Pv2BccnI3/50VwyHHP+XfP19cGif9+7eKA7uUwulP/+5wYpdjufvv30sD7HLSs//9O2CCw776f//+RTCwm5oGOmLIJb799y/WatOlf//+/fGGWIOQlBBkeG02j5mBgYGBSRhd5/F/cPDbFk0u6O+/f//+/ftS1/Dl3yQ0ueCX//79+/dvgb752X8nzVHltL78//fvT6O+3MLP/95oocqZHv/379+/3y7Tb//798oUVS7sPcIxb9DMZDj279/+sxC5y0bovjj2UI8l89O/f//+xfKgyw0ZAAAry32xLQQzVQAAAABJRU5ErkJggg=='/></td>\n",
       "    </tr>\n",
       "  </tbody>\n",
       "</table>"
      ],
      "text/plain": [
       "<IPython.core.display.HTML object>"
      ]
     },
     "execution_count": 10,
     "metadata": {},
     "output_type": "execute_result"
    }
   ],
   "source": [
    "HTML(viz_table(e.viz.correct_uncertain))"
   ]
  },
  {
   "cell_type": "code",
   "execution_count": null,
   "metadata": {
    "collapsed": true
   },
   "outputs": [],
   "source": []
  }
 ],
 "metadata": {
  "anaconda-cloud": {},
  "kernelspec": {
   "display_name": "Python [default]",
   "language": "python",
   "name": "python3"
  },
  "language_info": {
   "codemirror_mode": {
    "name": "ipython",
    "version": 3
   },
   "file_extension": ".py",
   "mimetype": "text/x-python",
   "name": "python",
   "nbconvert_exporter": "python",
   "pygments_lexer": "ipython3",
   "version": "3.5.2"
  }
 },
 "nbformat": 4,
 "nbformat_minor": 1
}
