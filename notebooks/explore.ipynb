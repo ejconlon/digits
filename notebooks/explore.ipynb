{
 "cells": [
  {
   "cell_type": "code",
   "execution_count": 1,
   "metadata": {
    "collapsed": false
   },
   "outputs": [
    {
     "name": "stdout",
     "output_type": "stream",
     "text": [
      "ready\n"
     ]
    }
   ],
   "source": [
    "import sys\n",
    "for p in ['..']:\n",
    "  if p not in sys.path:\n",
    "    sys.path.insert(0, p)\n",
    "\n",
    "from collections import namedtuple\n",
    "import csv\n",
    "import os\n",
    "import pickle\n",
    "\n",
    "import matplotlib.pyplot as plt\n",
    "import numpy as np\n",
    "import pandas as pd\n",
    "from IPython.core.display import HTML\n",
    "\n",
    "from digits.data import Env\n",
    "from digits.explore import explore, viz_table\n",
    "\n",
    "%matplotlib inline\n",
    "\n",
    "env = Env('..')\n",
    "env.assert_ready()\n",
    "print(\"ready\")"
   ]
  },
  {
   "cell_type": "code",
   "execution_count": 2,
   "metadata": {
    "collapsed": false
   },
   "outputs": [],
   "source": [
    "model = 'tf'\n",
    "variant = 'crop-big'\n",
    "e = explore(env, model, variant, 'test')"
   ]
  },
  {
   "cell_type": "code",
   "execution_count": 3,
   "metadata": {
    "collapsed": false
   },
   "outputs": [
    {
     "data": {
      "text/plain": [
       "0.92935714285714288"
      ]
     },
     "execution_count": 3,
     "metadata": {},
     "output_type": "execute_result"
    }
   ],
   "source": [
    "e.metrics.accuracy()"
   ]
  },
  {
   "cell_type": "code",
   "execution_count": 4,
   "metadata": {
    "collapsed": false
   },
   "outputs": [
    {
     "data": {
      "text/plain": [
       "array([ 0.102     ,  0.11228571,  0.09971429,  0.1045    ,  0.10057143,\n",
       "        0.08635714,  0.09678571,  0.1015    ,  0.19628571])"
      ]
     },
     "execution_count": 4,
     "metadata": {},
     "output_type": "execute_result"
    }
   ],
   "source": [
    "e.metrics.gold_class_dist()"
   ]
  },
  {
   "cell_type": "code",
   "execution_count": 5,
   "metadata": {
    "collapsed": false
   },
   "outputs": [
    {
     "data": {
      "text/plain": [
       "array([ 0.09585714,  0.11264286,  0.10378571,  0.10507143,  0.09557143,\n",
       "        0.08421429,  0.098     ,  0.09578571,  0.20907143])"
      ]
     },
     "execution_count": 5,
     "metadata": {},
     "output_type": "execute_result"
    }
   ],
   "source": [
    "e.metrics.pred_class_dist()"
   ]
  },
  {
   "cell_type": "code",
   "execution_count": 6,
   "metadata": {
    "collapsed": false
   },
   "outputs": [
    {
     "data": {
      "text/html": [
       "<table border=\"1\" class=\"dataframe\">\n",
       "  <thead>\n",
       "    <tr style=\"text-align: right;\">\n",
       "      <th></th>\n",
       "      <th>index</th>\n",
       "      <th>gold_class</th>\n",
       "      <th>pred_class</th>\n",
       "      <th>p</th>\n",
       "      <th>entropy</th>\n",
       "      <th>proc_image</th>\n",
       "    </tr>\n",
       "  </thead>\n",
       "  <tbody>\n",
       "    <tr>\n",
       "      <th>0</th>\n",
       "      <td>1</td>\n",
       "      <td>0</td>\n",
       "      <td>0</td>\n",
       "      <td>1.0</td>\n",
       "      <td>7.363264</td>\n",
       "      <td><img src='data:image/png;base64,iVBORw0KGgoAAAANSUhEUgAAABwAAAAcCAAAAABXZoBIAAAA9ElEQVR4nMXQzyvDcRzH8ecYITUHWeRfcFvtsD9AysHiD1BOUy5u3KccOTiI3CZXOSlOamf8BXaj1ZQ1pT0/HLYm38/Xldfl8+NRn/f784Z/T+4sPK79YsWHoO+VXCpeGFSL/ePQDxzvLZVUPAHOG9yk4dQWPO/UyKRUzBypq6zYmY5xQ92DvM5ENt/SfSD/3e4gs/d6PdLD5ByGL0N42QSohpB8tqAfSwBU45pVrfd2T15lE9jSOQDWtdS/GwwhC10Almm/Jpt900NgstbulKNf3mr3YGG3qY3I2FbVT5uFGEePVQ31Umwwtninp+WJNPvDfAHN0WyKOILzkQAAAABJRU5ErkJggg=='/></td>\n",
       "    </tr>\n",
       "    <tr>\n",
       "      <th>1</th>\n",
       "      <td>9</td>\n",
       "      <td>1</td>\n",
       "      <td>1</td>\n",
       "      <td>1.0</td>\n",
       "      <td>7.295665</td>\n",
       "      <td><img src='data:image/png;base64,iVBORw0KGgoAAAANSUhEUgAAABwAAAAcCAAAAABXZoBIAAAAnUlEQVR4nGNgGAzA+Ph23JLT/yXjlIv59S8MlxzLgX+7mGAcJjRJETuGW/9wSVYwMOzBZSr3zX9zEOrRdOqqMlz4x4ADXPn3jBeXnMCXf9W45DgP/XsrgEvS8N+/YlxyDC3/nojhktP+9m8ZTo2B//7p45LjO/X/Ew8uyfB//9pQRZBCyI7h92ZcGnnv/H+NJoTQ+fPE/8m4NNIRAAAYojD/gjfpXQAAAABJRU5ErkJggg=='/></td>\n",
       "    </tr>\n",
       "    <tr>\n",
       "      <th>2</th>\n",
       "      <td>3</td>\n",
       "      <td>1</td>\n",
       "      <td>1</td>\n",
       "      <td>1.0</td>\n",
       "      <td>7.293743</td>\n",
       "      <td><img src='data:image/png;base64,iVBORw0KGgoAAAANSUhEUgAAABwAAAAcCAAAAABXZoBIAAAAqUlEQVR4nM2OMQrCQBREhyArGAmEiIWQXsTGM3gLb5Aj6FWsbBQUUwpWljZWuYa9BGV27XSzZDoLp/p/3p/PAH+ulbVjCWty+1miJlsaoCty/bsljwLOaMl5OzN7Oq5jFaTjSHzdkPbc++5ReFA92oPDirwYz+h4czYFrk8B4UQXAFiQTBQsSTYMr20+Ca89GKcAcgGTAYBCwFcN4KAK7cJCvrIbTxL+UG8ajDYNMgAiWQAAAABJRU5ErkJggg=='/></td>\n",
       "    </tr>\n",
       "    <tr>\n",
       "      <th>3</th>\n",
       "      <td>8</td>\n",
       "      <td>4</td>\n",
       "      <td>4</td>\n",
       "      <td>1.0</td>\n",
       "      <td>7.282438</td>\n",
       "      <td><img src='data:image/png;base64,iVBORw0KGgoAAAANSUhEUgAAABwAAAAcCAAAAABXZoBIAAAA/klEQVR4nM2QMUsDQRSE54I2V6WIbRTS2dhoKZZyIAqaWrBPQn6JmtZUdvZ2SliLFFofIidamEqRCF7rjGdxd+yusJ2Fr3ofH7Ozu8C/nai/G1JLhxnzK8vX02ULCUk+N2vcy5kCjYr2ASBuV9Qdxri3yWxCcruCphEfnM72GjmJy331juLM6dww5E6VO3+lnoaOHJPslKshqY5z6kAyB+U9TSFp1HLkG9lbSZLxY5ZT/Dzy/kBkmpIUSd1u4rcka+nngK0PSZqf3nh9Uf3ORQBfs/4JsIDAGPLCUsNzXeB9GgqOCp056CeL72I9Cck50Dq2GHkSPVy+hDr/bH4A3Yh+sVB6n8kAAAAASUVORK5CYII='/></td>\n",
       "    </tr>\n",
       "    <tr>\n",
       "      <th>4</th>\n",
       "      <td>2</td>\n",
       "      <td>8</td>\n",
       "      <td>8</td>\n",
       "      <td>1.0</td>\n",
       "      <td>7.281386</td>\n",
       "      <td><img src='data:image/png;base64,iVBORw0KGgoAAAANSUhEUgAAABwAAAAcCAAAAABXZoBIAAABCElEQVR4nM2Rv0sCcRjGn0GSBiE6CIKTtijarCGnQKEll/6IysXBQMhNIhqS2wpB/AOSpmgKgyBwEty6m8WWRlGu5XmuBm247/f2esf38/768AL/IdIF71v7yeywR4qXSaj4LJLifQI7CamW624F03UTZdqajXYBoCvXhDfyj+c39T7XDFYOZ4sj2/bOPo8AoFR913jHdNAgm615kSR/02zsknMN8jeVMmseUFi1FEtTctLcc4E+TZaJ9FYFgFRDMlh++FV3AABPZCvOrgLmAADFa/F2KT5zyFMAOHgJqceNeOO2OoBTe42kj3PT0eNd/mJEyq8sWxrlhXzHsRCwEpCT5pn1pr+IH+QZebeyBD+8AAAAAElFTkSuQmCC'/></td>\n",
       "    </tr>\n",
       "    <tr>\n",
       "      <th>5</th>\n",
       "      <td>6</td>\n",
       "      <td>4</td>\n",
       "      <td>4</td>\n",
       "      <td>1.0</td>\n",
       "      <td>7.224019</td>\n",
       "      <td><img src='data:image/png;base64,iVBORw0KGgoAAAANSUhEUgAAABwAAAAcCAAAAABXZoBIAAAA+0lEQVR4nNWQTytEYRSHn1tK0rtVFmIzNpKJjcl8AlnYKs3G+LN1N0opZaPIwsJi8gXIznKUutOslLIg+5nCzi25C79jLCaMo9nzq7feztNzTufAX0nvzslGV1iR1I0tm7TielWu2p9i2srKjh1JcwDUla26XkPS3SDA+LOqftC5tAcQEik4Fr9bEgAWzfa9eGGaBuBeTzOOrb3aaQBYMM17sa5mHwDr1hj+iXq2zWIA8unb1u81GqMA4UwPhcLIpwNADq7zmzmi/jEGajzeLjW/zUtJ1vHSiQ5zKoIIiMiqtRaTyQ3QLkFxF16OoTR7GPs9vlI68If7R/kAXthjZehna7UAAAAASUVORK5CYII='/></td>\n",
       "    </tr>\n",
       "    <tr>\n",
       "      <th>6</th>\n",
       "      <td>0</td>\n",
       "      <td>3</td>\n",
       "      <td>3</td>\n",
       "      <td>1.0</td>\n",
       "      <td>7.201916</td>\n",
       "      <td><img src='data:image/png;base64,iVBORw0KGgoAAAANSUhEUgAAABwAAAAcCAAAAABXZoBIAAABBUlEQVR4nGNgGEDAM3/i7X///11vlsMiKfjk79+///7+/fv2VioTVIwRLiusqmuwOJgvipORYWvcBxzmJ1z++zcFwmTCkFx5i4GBD7s+Rv0Lf//eEcUqp7vg79+/D5QwJd58+fL159+/dyezYcrZ/4J4ZRFCDuEVhpkae7hel4ky7HXD4Q8Glg3//s1hxiXLue7v32xckgwyz/7eFsApW/j3ryqEhRlCyA5gYGBgYDY3P3EcLhLA8PsvkorMv3/v6kOYyqE7//49gqxTioFB4dRvBgYGxv8srAwMb3OQzXZd9RcC/v39+/fvfVOYOCSEmBNN2J1kvq5lYPizjOH0F3yOpDUAACjvZk46M17mAAAAAElFTkSuQmCC'/></td>\n",
       "    </tr>\n",
       "    <tr>\n",
       "      <th>7</th>\n",
       "      <td>7</td>\n",
       "      <td>1</td>\n",
       "      <td>1</td>\n",
       "      <td>1.0</td>\n",
       "      <td>7.201171</td>\n",
       "      <td><img src='data:image/png;base64,iVBORw0KGgoAAAANSUhEUgAAABwAAAAcCAAAAABXZoBIAAAASUlEQVR4nGNgGNRg4QlWZC4TiuR/s1rckgwM9pw4jfX4908Tp85HqGrRjR0ASUZ8kv/J1fnuHh7JF1fxGcsw2CRP3XmLTzV1AABGgg35E61YdAAAAABJRU5ErkJggg=='/></td>\n",
       "    </tr>\n",
       "    <tr>\n",
       "      <th>8</th>\n",
       "      <td>5</td>\n",
       "      <td>9</td>\n",
       "      <td>9</td>\n",
       "      <td>1.0</td>\n",
       "      <td>7.072758</td>\n",
       "      <td><img src='data:image/png;base64,iVBORw0KGgoAAAANSUhEUgAAABwAAAAcCAAAAABXZoBIAAAAyUlEQVR4nGNgGKJAfvO//2+LmbHKxb36+/fv3797pLHIuf/8e9eIq+Hr3x4WDDnOdX/XcjMwMIT//GuDIRnw9z07AwMDA8P7v41wQSYobcSw7ScDAwNDDBeSDiY46zkDAwN7+yxMGxkY7P5+EmNgSP779+9fWwxJ1gl/Hwe5Xfj75+9fSUytsgf+/v37d2UDVkkGFuOeg8WMKJII+/+cPcf4jwHFPcic//8ZGK4iSzIx4AFUlXTHJ6mIU/LEdzzG3l/GcA2fM4gEABQrRfsxYkOPAAAAAElFTkSuQmCC'/></td>\n",
       "    </tr>\n",
       "  </tbody>\n",
       "</table>"
      ],
      "text/plain": [
       "<IPython.core.display.HTML object>"
      ]
     },
     "execution_count": 6,
     "metadata": {},
     "output_type": "execute_result"
    }
   ],
   "source": [
    "HTML(viz_table(e.viz.correct_uncertain))"
   ]
  },
  {
   "cell_type": "code",
   "execution_count": 7,
   "metadata": {
    "collapsed": true
   },
   "outputs": [],
   "source": [
    "curve = pd.read_csv(env.resolve_model_file(model, variant, 'learning_curve.csv'))"
   ]
  },
  {
   "cell_type": "code",
   "execution_count": 8,
   "metadata": {
    "collapsed": false
   },
   "outputs": [
    {
     "data": {
      "text/html": [
       "<div>\n",
       "<table border=\"1\" class=\"dataframe\">\n",
       "  <thead>\n",
       "    <tr style=\"text-align: right;\">\n",
       "      <th></th>\n",
       "      <th>step</th>\n",
       "      <th>seen</th>\n",
       "      <th>train_acc</th>\n",
       "      <th>train_loss</th>\n",
       "      <th>valid_acc</th>\n",
       "      <th>valid_loss</th>\n",
       "    </tr>\n",
       "  </thead>\n",
       "  <tbody>\n",
       "    <tr>\n",
       "      <th>0</th>\n",
       "      <td>0</td>\n",
       "      <td>0</td>\n",
       "      <td>0.123047</td>\n",
       "      <td>63501.90</td>\n",
       "      <td>0.142578</td>\n",
       "      <td>59490.90</td>\n",
       "    </tr>\n",
       "    <tr>\n",
       "      <th>1</th>\n",
       "      <td>10</td>\n",
       "      <td>1280</td>\n",
       "      <td>0.230469</td>\n",
       "      <td>26036.40</td>\n",
       "      <td>0.203125</td>\n",
       "      <td>26400.10</td>\n",
       "    </tr>\n",
       "    <tr>\n",
       "      <th>2</th>\n",
       "      <td>20</td>\n",
       "      <td>2560</td>\n",
       "      <td>0.517578</td>\n",
       "      <td>12961.30</td>\n",
       "      <td>0.527344</td>\n",
       "      <td>12194.00</td>\n",
       "    </tr>\n",
       "    <tr>\n",
       "      <th>3</th>\n",
       "      <td>30</td>\n",
       "      <td>3840</td>\n",
       "      <td>0.615234</td>\n",
       "      <td>9435.40</td>\n",
       "      <td>0.621094</td>\n",
       "      <td>8081.42</td>\n",
       "    </tr>\n",
       "    <tr>\n",
       "      <th>4</th>\n",
       "      <td>40</td>\n",
       "      <td>5120</td>\n",
       "      <td>0.681641</td>\n",
       "      <td>6666.49</td>\n",
       "      <td>0.718750</td>\n",
       "      <td>5897.57</td>\n",
       "    </tr>\n",
       "  </tbody>\n",
       "</table>\n",
       "</div>"
      ],
      "text/plain": [
       "   step  seen  train_acc  train_loss  valid_acc  valid_loss\n",
       "0     0     0   0.123047    63501.90   0.142578    59490.90\n",
       "1    10  1280   0.230469    26036.40   0.203125    26400.10\n",
       "2    20  2560   0.517578    12961.30   0.527344    12194.00\n",
       "3    30  3840   0.615234     9435.40   0.621094     8081.42\n",
       "4    40  5120   0.681641     6666.49   0.718750     5897.57"
      ]
     },
     "execution_count": 8,
     "metadata": {},
     "output_type": "execute_result"
    }
   ],
   "source": [
    "curve.head()"
   ]
  },
  {
   "cell_type": "code",
   "execution_count": 9,
   "metadata": {
    "collapsed": false
   },
   "outputs": [
    {
     "data": {
      "text/plain": [
       "[<matplotlib.lines.Line2D at 0x1139b7898>]"
      ]
     },
     "execution_count": 9,
     "metadata": {},
     "output_type": "execute_result"
    },
    {
     "data": {
      "image/png": "[encoded data removed]",
      "text/plain": [
       "<matplotlib.figure.Figure at 0x1139b7940>"
      ]
     },
     "metadata": {},
     "output_type": "display_data"
    }
   ],
   "source": [
    "plt.plot(curve['train_acc'])\n",
    "plt.plot(curve['valid_acc'])"
   ]
  },
  {
   "cell_type": "code",
   "execution_count": null,
   "metadata": {
    "collapsed": true
   },
   "outputs": [],
   "source": []
  }
 ],
 "metadata": {
  "anaconda-cloud": {},
  "kernelspec": {
   "display_name": "Python [default]",
   "language": "python",
   "name": "python3"
  },
  "language_info": {
   "codemirror_mode": {
    "name": "ipython",
    "version": 3
   },
   "file_extension": ".py",
   "mimetype": "text/x-python",
   "name": "python",
   "nbconvert_exporter": "python",
   "pygments_lexer": "ipython3",
   "version": "3.5.2"
  }
 },
 "nbformat": 4,
 "nbformat_minor": 1
}
