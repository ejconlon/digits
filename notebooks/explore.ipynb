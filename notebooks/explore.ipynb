{
 "cells": [
  {
   "cell_type": "code",
   "execution_count": 1,
   "metadata": {
    "collapsed": false
   },
   "outputs": [
    {
     "name": "stdout",
     "output_type": "stream",
     "text": [
      "ready\n"
     ]
    }
   ],
   "source": [
    "import sys\n",
    "for p in ['..']:\n",
    "  if p not in sys.path:\n",
    "    sys.path.insert(0, p)\n",
    "\n",
    "from collections import namedtuple\n",
    "import os\n",
    "import pickle\n",
    "\n",
    "import matplotlib.pyplot as plt\n",
    "import numpy as np\n",
    "import pandas as pd\n",
    "from IPython.core.display import HTML\n",
    "\n",
    "from digits.data import Env\n",
    "from digits.explore import explore, viz_table\n",
    "\n",
    "%matplotlib inline\n",
    "\n",
    "env = Env('..')\n",
    "env.assert_ready()\n",
    "print(\"ready\")"
   ]
  },
  {
   "cell_type": "code",
   "execution_count": 10,
   "metadata": {
    "collapsed": false
   },
   "outputs": [],
   "source": [
    "e = explore(env, 'tf', 'testing', 'test')"
   ]
  },
  {
   "cell_type": "code",
   "execution_count": 11,
   "metadata": {
    "collapsed": false
   },
   "outputs": [
    {
     "data": {
      "text/plain": [
       "0.075906576521204666"
      ]
     },
     "execution_count": 11,
     "metadata": {},
     "output_type": "execute_result"
    }
   ],
   "source": [
    "e.metrics.accuracy()"
   ]
  },
  {
   "cell_type": "code",
   "execution_count": 8,
   "metadata": {
    "collapsed": false
   },
   "outputs": [
    {
     "data": {
      "text/plain": [
       "array([ 0.06699447,  0.19587431,  0.15938076,  0.1107099 ,  0.09691918,\n",
       "        0.09157959,  0.07594499,  0.07755839,  0.12503841])"
      ]
     },
     "execution_count": 8,
     "metadata": {},
     "output_type": "execute_result"
    }
   ],
   "source": [
    "e.metrics.gold_class_dist()"
   ]
  },
  {
   "cell_type": "code",
   "execution_count": 7,
   "metadata": {
    "collapsed": false
   },
   "outputs": [
    {
     "data": {
      "text/plain": [
       "array([  3.84142594e-05,   0.00000000e+00,   0.00000000e+00,\n",
       "         7.68285187e-05,   1.15242778e-04,   3.07314075e-04,\n",
       "         9.98732329e-01,   1.53657037e-04,   5.76213891e-04])"
      ]
     },
     "execution_count": 7,
     "metadata": {},
     "output_type": "execute_result"
    }
   ],
   "source": [
    "e.metrics.pred_class_dist()"
   ]
  },
  {
   "cell_type": "code",
   "execution_count": 9,
   "metadata": {
    "collapsed": false
   },
   "outputs": [
    {
     "data": {
      "text/html": [
       "<table border=\"1\" class=\"dataframe\">\n",
       "  <thead>\n",
       "    <tr style=\"text-align: right;\">\n",
       "      <th></th>\n",
       "      <th>gold_class</th>\n",
       "      <th>pred_class</th>\n",
       "      <th>p</th>\n",
       "      <th>entropy</th>\n",
       "      <th>proc_image</th>\n",
       "    </tr>\n",
       "  </thead>\n",
       "  <tbody>\n",
       "    <tr>\n",
       "      <th>0</th>\n",
       "      <td>6</td>\n",
       "      <td>6</td>\n",
       "      <td>0.98637</td>\n",
       "      <td>10.137788</td>\n",
       "      <td><img src='data:image/png;base64,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'/></td>\n",
       "    </tr>\n",
       "  </tbody>\n",
       "</table>"
      ],
      "text/plain": [
       "<IPython.core.display.HTML object>"
      ]
     },
     "execution_count": 9,
     "metadata": {},
     "output_type": "execute_result"
    }
   ],
   "source": [
    "HTML(viz_table(e.viz.correct_certain))"
   ]
  },
  {
   "cell_type": "code",
   "execution_count": null,
   "metadata": {
    "collapsed": true
   },
   "outputs": [],
   "source": []
  }
 ],
 "metadata": {
  "anaconda-cloud": {},
  "kernelspec": {
   "display_name": "Python [default]",
   "language": "python",
   "name": "python3"
  },
  "language_info": {
   "codemirror_mode": {
    "name": "ipython",
    "version": 3
   },
   "file_extension": ".py",
   "mimetype": "text/x-python",
   "name": "python",
   "nbconvert_exporter": "python",
   "pygments_lexer": "ipython3",
   "version": "3.5.2"
  }
 },
 "nbformat": 4,
 "nbformat_minor": 1
}
