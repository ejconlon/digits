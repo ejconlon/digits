{
 "cells": [
  {
   "cell_type": "code",
   "execution_count": 1,
   "metadata": {
    "collapsed": false
   },
   "outputs": [
    {
     "name": "stdout",
     "output_type": "stream",
     "text": [
      "ready\n"
     ]
    }
   ],
   "source": [
    "import sys\n",
    "for p in ['..']:\n",
    "  if p not in sys.path:\n",
    "    sys.path.insert(0, p)\n",
    "\n",
    "from collections import namedtuple\n",
    "import csv\n",
    "import os\n",
    "import pickle\n",
    "\n",
    "import matplotlib.pyplot as plt\n",
    "import numpy as np\n",
    "import pandas as pd\n",
    "from IPython.core.display import HTML\n",
    "\n",
    "from digits.data import Env\n",
    "from digits.explore import explore, viz_table, plot_images\n",
    "\n",
    "%matplotlib inline\n",
    "\n",
    "env = Env('..')\n",
    "env.assert_ready()\n",
    "print(\"ready\")"
   ]
  },
  {
   "cell_type": "code",
   "execution_count": 2,
   "metadata": {
    "collapsed": false
   },
   "outputs": [],
   "source": [
    "model = 'tf'\n",
    "variant = 'mnist'\n",
    "e = explore(env, model, variant, 'test')"
   ]
  },
  {
   "cell_type": "code",
   "execution_count": 3,
   "metadata": {
    "collapsed": false
   },
   "outputs": [
    {
     "data": {
      "text/plain": [
       "0.82121428571428567"
      ]
     },
     "execution_count": 3,
     "metadata": {},
     "output_type": "execute_result"
    }
   ],
   "source": [
    "e.metrics.accuracy()"
   ]
  },
  {
   "cell_type": "code",
   "execution_count": 4,
   "metadata": {
    "collapsed": false
   },
   "outputs": [
    {
     "data": {
      "text/plain": [
       "array([ 0.102     ,  0.11228571,  0.09971429,  0.1045    ,  0.10057143,\n",
       "        0.08635714,  0.09678571,  0.1015    ,  0.19628571])"
      ]
     },
     "execution_count": 4,
     "metadata": {},
     "output_type": "execute_result"
    }
   ],
   "source": [
    "e.metrics.gold_class_dist()"
   ]
  },
  {
   "cell_type": "code",
   "execution_count": 5,
   "metadata": {
    "collapsed": false
   },
   "outputs": [
    {
     "data": {
      "text/plain": [
       "array([ 0.10742857,  0.14521429,  0.09407143,  0.09714286,  0.11721429,\n",
       "        0.06892857,  0.10978571,  0.08185714,  0.17835714])"
      ]
     },
     "execution_count": 5,
     "metadata": {},
     "output_type": "execute_result"
    }
   ],
   "source": [
    "e.metrics.pred_class_dist()"
   ]
  },
  {
   "cell_type": "code",
   "execution_count": 6,
   "metadata": {
    "collapsed": false,
    "scrolled": false
   },
   "outputs": [
    {
     "data": {
      "text/html": [
       "<table border=\"1\" class=\"dataframe\">\n",
       "  <thead>\n",
       "    <tr style=\"text-align: right;\">\n",
       "      <th></th>\n",
       "      <th>index</th>\n",
       "      <th>gold_class</th>\n",
       "      <th>pred_class</th>\n",
       "      <th>p</th>\n",
       "      <th>entropy</th>\n",
       "      <th>proc_image</th>\n",
       "    </tr>\n",
       "  </thead>\n",
       "  <tbody>\n",
       "    <tr>\n",
       "      <th>0</th>\n",
       "      <td>10601</td>\n",
       "      <td>1</td>\n",
       "      <td>5</td>\n",
       "      <td>0.159809</td>\n",
       "      <td>2.116496</td>\n",
       "      <td><img src='data:image/png;base64,iVBORw0KGgoAAAANSUhEUgAAABwAAAAcCAAAAABXZoBIAAAAlUlEQVR4nGNgGEDAuPqyPLoYE5x1VTMIt9bcPx+TcOpkYOCehVvrrD9/7HFKmjz/804Op+yCP3+7cEqq/vl7VxOnbMj/v6243fT3zyPkkGBCkXzNIOWLUxKPoQwMDLf+/sUt6fH8zxwunLJb//y1wCmZ9OfvZtwGT/yPGa9wIHL5zzncsnHf/+RAmUwYkov6cdtJBwAA4RUvFDEvGnsAAAAASUVORK5CYII='/></td>\n",
       "    </tr>\n",
       "    <tr>\n",
       "      <th>1</th>\n",
       "      <td>12921</td>\n",
       "      <td>5</td>\n",
       "      <td>9</td>\n",
       "      <td>0.261065</td>\n",
       "      <td>2.093236</td>\n",
       "      <td><img src='data:image/png;base64,iVBORw0KGgoAAAANSUhEUgAAABwAAAAcCAAAAABXZoBIAAAA50lEQVR4nGNgGEqAEYXHIpTIoWP3n4GhZg6m0qI/f/78+fvnz5/ZmHK6b/78+fPn780uLXZ0KZbuv//+likjiTAhmC2F////lzAKxeq2FxDr/hxjwyK558+fG3v3Pv/zdwUnpqSalpYQA0Pgn78r4K5ASN5iYGBgYHjPyMTP8gfDQRDg//8fGyO6IASYPPj254UGsoj5Sj4IQzroxZ8/f4pRlGf8cWRgYGAwy1r+98+fP0tQzVr/9+/fi8v+/v379//fcwFoFnGvggb3zen2rMgSjAwMDAzs+RwMjP8Zdl35gt2ZQwMAAONcYNoNGdN3AAAAAElFTkSuQmCC'/></td>\n",
       "    </tr>\n",
       "    <tr>\n",
       "      <th>2</th>\n",
       "      <td>10193</td>\n",
       "      <td>1</td>\n",
       "      <td>3</td>\n",
       "      <td>0.190128</td>\n",
       "      <td>2.085800</td>\n",
       "      <td><img src='data:image/png;base64,iVBORw0KGgoAAAANSUhEUgAAABwAAAAcCAAAAABXZoBIAAAArElEQVR4nGNgGEiQ+XcPuhATnMXx3zoZp06xK3/uiuKUDf3zxwWnpNGXP69xO2nW3792uG3982cnTknuU39+OeOUNfj0dwVuWy//Pc2JxGVCkTzMZOSFTZMKAwMDg/TfP2exSUKMm/PnkxYWY78zMDAwMNxj4GrgxuUi9hN//iC0ojqI4WcvI2MALp0Mom///FHBoZPh9SQGBjecWsX+/NmASyfD97tQhw8QAAB+5TL8MATyJAAAAABJRU5ErkJggg=='/></td>\n",
       "    </tr>\n",
       "    <tr>\n",
       "      <th>3</th>\n",
       "      <td>11577</td>\n",
       "      <td>1</td>\n",
       "      <td>6</td>\n",
       "      <td>0.203903</td>\n",
       "      <td>2.063393</td>\n",
       "      <td><img src='data:image/png;base64,iVBORw0KGgoAAAANSUhEUgAAABwAAAAcCAAAAABXZoBIAAAAmUlEQVR4nGNgGFhwYyknTrnIz/96UUWYEEwVbgZ9nJIffuOz8/q/PTh1Mjxg4BXBqdPo378dLHgk/7HjMpaBgYEhDZdOpv5//9bgtFT3/b8nFjhll//7NxGnpPO/f98FcEmqXvr3bzZOrXI//63mxim76N+/aTglHd78e62AU9bv379ztbgk2S7++/chAJdsyr9/2TjNpT0AAFfmNOIZ/qWAAAAAAElFTkSuQmCC'/></td>\n",
       "    </tr>\n",
       "    <tr>\n",
       "      <th>4</th>\n",
       "      <td>9971</td>\n",
       "      <td>0</td>\n",
       "      <td>3</td>\n",
       "      <td>0.292945</td>\n",
       "      <td>2.035203</td>\n",
       "      <td><img src='data:image/png;base64,iVBORw0KGgoAAAANSUhEUgAAABwAAAAcCAAAAABXZoBIAAAA4klEQVR4nGNgGFDAvvD/fJySpX8PGuOUfPpCD7exz4IZGFjS77QbYNXpysAQ8Pff3xdGMBEmuJyNMAMDQ+Cn9ApRf5gQC1zyyFsGBgaBuM2s3opYjL2lxcAgI8bAsPKTJoaxDDzSDAxPXjEwMPAoYkr+xzALSZJBC0JdxybJaAmhj2GThBkbgtVYSy4GBgYGBv735zElz8vyMTAwMHBozX+OKbn+fxQDAwODutYXDGczMPDfXMPJwMB55bQYFkmGqX/jGZhW/A3BJsfAsv3Xzof/ljBjlWTQm3n1TxMndjl6AQCx6zZ11AVS7wAAAABJRU5ErkJggg=='/></td>\n",
       "    </tr>\n",
       "    <tr>\n",
       "      <th>5</th>\n",
       "      <td>3532</td>\n",
       "      <td>0</td>\n",
       "      <td>5</td>\n",
       "      <td>0.238303</td>\n",
       "      <td>2.032895</td>\n",
       "      <td><img src='data:image/png;base64,iVBORw0KGgoAAAANSUhEUgAAABwAAAAcCAAAAABXZoBIAAAA+klEQVR4nGNgGMzAfNb/U4mSWKXY27/93Ze8aQsTFjnWg7++XXx+QT/SGYukwV8NBgbZfVf5BLFINt5hZmBgEDnejhBCWMD8+h8Dy5LZ2xM4sEgK//gvs+lOv5mYDVyIBc4SYmDIvd30795DPiyS78QYLl/5x/AayRkonlr3jIFBjcEci86HLAzfvjEw/GL8jUXnbW1GBgYGhuz/P7EZa87GwMDA4MxwFaudigwMDKLSB7E7yJ6BgeHtFvFLDJjA5tdjZQYGBu6zCPUI1pHpUj8YGBiCrv3DopPB4v0hYQbHh+bY5BgY6n+/v/CzGLscA4Pn6ZnYYpraAAD+QEdj1r0jTgAAAABJRU5ErkJggg=='/></td>\n",
       "    </tr>\n",
       "    <tr>\n",
       "      <th>6</th>\n",
       "      <td>6160</td>\n",
       "      <td>5</td>\n",
       "      <td>4</td>\n",
       "      <td>0.208044</td>\n",
       "      <td>2.025938</td>\n",
       "      <td><img src='data:image/png;base64,iVBORw0KGgoAAAANSUhEUgAAABwAAAAcCAAAAABXZoBIAAAAf0lEQVR4nN2QwQ3CMAxFX5mjYQ6yR+VBEGuUQSzmoJmjYY/PgVZqEto7vJv1ZH/b8McEM5fGVkR3LTTOViOPAN1WinwbID+mL3Gay/pUVOlgUSnsy+uhHetU4Om2dFhxfQcgyCm98gTK57pTG9ow83n9TT32Q4g9l3TfX/eXeQMw7kp8rO6wNQAAAABJRU5ErkJggg=='/></td>\n",
       "    </tr>\n",
       "    <tr>\n",
       "      <th>7</th>\n",
       "      <td>1062</td>\n",
       "      <td>1</td>\n",
       "      <td>3</td>\n",
       "      <td>0.194719</td>\n",
       "      <td>2.022973</td>\n",
       "      <td><img src='data:image/png;base64,iVBORw0KGgoAAAANSUhEUgAAABwAAAAcCAAAAABXZoBIAAAAm0lEQVR4nMXNIQoCURSF4TuD0WAwCJaJgsWuYLUbrbMOwWBxEe5gFmBwQDBPNoxRMLwd/FyfbUDwvCbedvjO4Zr97xZxP5N4cNqp1ApauV0FeMppDZQKh417XCotHvhpoPSOs1W4xgljgaOLw05Ny+h+VmgO134CqRRuAjBRWgPHLvU+McvNMoXxZRa7lKsHX/CW6hbAPFX4+b0BuL9Ca0HCvHsAAAAASUVORK5CYII='/></td>\n",
       "    </tr>\n",
       "    <tr>\n",
       "      <th>8</th>\n",
       "      <td>1494</td>\n",
       "      <td>3</td>\n",
       "      <td>1</td>\n",
       "      <td>0.258423</td>\n",
       "      <td>2.021152</td>\n",
       "      <td><img src='data:image/png;base64,iVBORw0KGgoAAAANSUhEUgAAABwAAAAcCAAAAABXZoBIAAAAm0lEQVR4nGNgGIKALeLav//Xm/ixSgp+fdu2aN2ftXy49Zf+aWLCLTv5nxNuSZ4725hxyzr9csQtyXB3Ox6ts/9JIjgsSBJL/038JI1L18Z///7928SKEED2V1jBkZ8Mp3FbaXD6XyhuWcl3D7lxy2b+c8YtyfZiM1YHMTAwMDD8+suBWxIZYJF8jlv1kr/GOOXKv+xkx2cTkQAAthQutYZBWgsAAAAASUVORK5CYII='/></td>\n",
       "    </tr>\n",
       "    <tr>\n",
       "      <th>9</th>\n",
       "      <td>2697</td>\n",
       "      <td>1</td>\n",
       "      <td>8</td>\n",
       "      <td>0.266868</td>\n",
       "      <td>2.000587</td>\n",
       "      <td><img src='data:image/png;base64,iVBORw0KGgoAAAANSUhEUgAAABwAAAAcCAAAAABXZoBIAAAAiElEQVR4nGNgGLRgxr9/0WhCTHDW////ZyfgkrzBwMAegctYlgV//76dg0Pnn0v/GQQMcTpp6d+/r0xxSZp9+Ps3EqfWx3//3sduJwQw49Spff3vj5M4Zc/9/fs7AbexDEyKuCT/oilE4VXhk0S3gnjJDx8YGORYcKnd9ffvX16y7NyGTy21AADXBipVSWJ0SQAAAABJRU5ErkJggg=='/></td>\n",
       "    </tr>\n",
       "  </tbody>\n",
       "</table>"
      ],
      "text/plain": [
       "<IPython.core.display.HTML object>"
      ]
     },
     "execution_count": 6,
     "metadata": {},
     "output_type": "execute_result"
    }
   ],
   "source": [
    "HTML(viz_table(e.viz.wrong_uncertain))"
   ]
  },
  {
   "cell_type": "code",
   "execution_count": 7,
   "metadata": {
    "collapsed": false
   },
   "outputs": [
    {
     "data": {
      "text/plain": [
       "<matplotlib.figure.Figure at 0x1131eb5c0>"
      ]
     },
     "metadata": {},
     "output_type": "display_data"
    },
    {
     "data": {
      "image/png": "[encoded data removed]",
      "text/plain": [
       "<matplotlib.figure.Figure at 0x113386a20>"
      ]
     },
     "metadata": {},
     "output_type": "display_data"
    }
   ],
   "source": [
    "plot_images(e.viz.wrong_uncertain, 3, 2, lambda r: str(r.entropy), lambda r: r.proc_image, show=True)"
   ]
  },
  {
   "cell_type": "code",
   "execution_count": 8,
   "metadata": {
    "collapsed": true
   },
   "outputs": [],
   "source": [
    "curve = pd.read_csv(env.resolve_model_file(model, variant, 'learning_curve.csv'))"
   ]
  },
  {
   "cell_type": "code",
   "execution_count": 9,
   "metadata": {
    "collapsed": false
   },
   "outputs": [
    {
     "data": {
      "text/html": [
       "<div>\n",
       "<table border=\"1\" class=\"dataframe\">\n",
       "  <thead>\n",
       "    <tr style=\"text-align: right;\">\n",
       "      <th></th>\n",
       "      <th>step</th>\n",
       "      <th>seen</th>\n",
       "      <th>train_acc</th>\n",
       "      <th>train_loss</th>\n",
       "      <th>valid_acc</th>\n",
       "      <th>valid_loss</th>\n",
       "    </tr>\n",
       "  </thead>\n",
       "  <tbody>\n",
       "    <tr>\n",
       "      <th>0</th>\n",
       "      <td>0</td>\n",
       "      <td>0</td>\n",
       "      <td>0.100</td>\n",
       "      <td>4.612000</td>\n",
       "      <td>0.100</td>\n",
       "      <td>4.614000</td>\n",
       "    </tr>\n",
       "    <tr>\n",
       "      <th>1</th>\n",
       "      <td>25</td>\n",
       "      <td>5000</td>\n",
       "      <td>0.200</td>\n",
       "      <td>2.239170</td>\n",
       "      <td>0.212</td>\n",
       "      <td>2.238660</td>\n",
       "    </tr>\n",
       "    <tr>\n",
       "      <th>2</th>\n",
       "      <td>50</td>\n",
       "      <td>10000</td>\n",
       "      <td>0.742</td>\n",
       "      <td>0.929628</td>\n",
       "      <td>0.686</td>\n",
       "      <td>0.963679</td>\n",
       "    </tr>\n",
       "    <tr>\n",
       "      <th>3</th>\n",
       "      <td>75</td>\n",
       "      <td>15000</td>\n",
       "      <td>0.798</td>\n",
       "      <td>0.694661</td>\n",
       "      <td>0.816</td>\n",
       "      <td>0.705987</td>\n",
       "    </tr>\n",
       "  </tbody>\n",
       "</table>\n",
       "</div>"
      ],
      "text/plain": [
       "   step   seen  train_acc  train_loss  valid_acc  valid_loss\n",
       "0     0      0      0.100    4.612000      0.100    4.614000\n",
       "1    25   5000      0.200    2.239170      0.212    2.238660\n",
       "2    50  10000      0.742    0.929628      0.686    0.963679\n",
       "3    75  15000      0.798    0.694661      0.816    0.705987"
      ]
     },
     "execution_count": 9,
     "metadata": {},
     "output_type": "execute_result"
    }
   ],
   "source": [
    "curve.head()"
   ]
  },
  {
   "cell_type": "code",
   "execution_count": 10,
   "metadata": {
    "collapsed": false
   },
   "outputs": [
    {
     "data": {
      "text/plain": [
       "[<matplotlib.lines.Line2D at 0x1137d1da0>]"
      ]
     },
     "execution_count": 10,
     "metadata": {},
     "output_type": "execute_result"
    },
    {
     "data": {
      "image/png": "[encoded data removed]",
      "text/plain": [
       "<matplotlib.figure.Figure at 0x1137d1a90>"
      ]
     },
     "metadata": {},
     "output_type": "display_data"
    }
   ],
   "source": [
    "plt.plot(curve['train_acc'])\n",
    "plt.plot(curve['valid_acc'])"
   ]
  }
 ],
 "metadata": {
  "anaconda-cloud": {},
  "kernelspec": {
   "display_name": "Python [default]",
   "language": "python",
   "name": "python3"
  },
  "language_info": {
   "codemirror_mode": {
    "name": "ipython",
    "version": 3
   },
   "file_extension": ".py",
   "mimetype": "text/x-python",
   "name": "python",
   "nbconvert_exporter": "python",
   "pygments_lexer": "ipython3",
   "version": "3.5.2"
  }
 },
 "nbformat": 4,
 "nbformat_minor": 1
}
