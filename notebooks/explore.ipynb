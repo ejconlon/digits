{
 "cells": [
  {
   "cell_type": "code",
   "execution_count": 137,
   "metadata": {
    "collapsed": false
   },
   "outputs": [
    {
     "name": "stdout",
     "output_type": "stream",
     "text": [
      "ready\n"
     ]
    }
   ],
   "source": [
    "import sys\n",
    "for p in ['..']:\n",
    "  if p not in sys.path:\n",
    "    sys.path.insert(0, p)\n",
    "\n",
    "import math\n",
    "\n",
    "import matplotlib.pyplot as plt\n",
    "import numpy as np\n",
    "import pandas as pd\n",
    "from IPython.core.display import HTML\n",
    "\n",
    "from digits.data import Env\n",
    "from digits.explore import *\n",
    "\n",
    "%matplotlib inline\n",
    "\n",
    "env = Env('..')\n",
    "env.assert_ready()\n",
    "print(\"ready\")"
   ]
  },
  {
   "cell_type": "code",
   "execution_count": 138,
   "metadata": {
    "collapsed": false
   },
   "outputs": [],
   "source": [
    "model = 'tf'\n",
    "variant = 'mnist'\n",
    "e = explore(env, model, variant, 'test', assert_complete=True)"
   ]
  },
  {
   "cell_type": "code",
   "execution_count": 139,
   "metadata": {
    "collapsed": false
   },
   "outputs": [
    {
     "data": {
      "text/plain": [
       "0.84557142857142853"
      ]
     },
     "execution_count": 139,
     "metadata": {},
     "output_type": "execute_result"
    }
   ],
   "source": [
    "e.metrics.accuracy()"
   ]
  },
  {
   "cell_type": "code",
   "execution_count": 140,
   "metadata": {
    "collapsed": false
   },
   "outputs": [
    {
     "data": {
      "text/plain": [
       "array([ 0.09892857,  0.11392857,  0.10228571,  0.1015    ,  0.09421429,\n",
       "        0.08864286,  0.09964286,  0.10657143,  0.19428571])"
      ]
     },
     "execution_count": 140,
     "metadata": {},
     "output_type": "execute_result"
    }
   ],
   "source": [
    "e.metrics.gold_class_dist()"
   ]
  },
  {
   "cell_type": "code",
   "execution_count": 141,
   "metadata": {
    "collapsed": false
   },
   "outputs": [
    {
     "data": {
      "text/plain": [
       "array([ 0.10035714,  0.11821429,  0.096     ,  0.09707143,  0.10835714,\n",
       "        0.07685714,  0.10085714,  0.101     ,  0.20128571])"
      ]
     },
     "execution_count": 141,
     "metadata": {},
     "output_type": "execute_result"
    }
   ],
   "source": [
    "e.metrics.pred_class_dist()"
   ]
  },
  {
   "cell_type": "code",
   "execution_count": 142,
   "metadata": {
    "collapsed": false,
    "scrolled": true
   },
   "outputs": [
    {
     "data": {
      "text/html": [
       "<table border=\"1\" class=\"dataframe\">\n",
       "  <thead>\n",
       "    <tr style=\"text-align: right;\">\n",
       "      <th></th>\n",
       "      <th>index</th>\n",
       "      <th>gold_class</th>\n",
       "      <th>pred_class</th>\n",
       "      <th>p</th>\n",
       "      <th>entropy</th>\n",
       "      <th>proc_image</th>\n",
       "    </tr>\n",
       "  </thead>\n",
       "  <tbody>\n",
       "    <tr>\n",
       "      <th>0</th>\n",
       "      <td>0</td>\n",
       "      <td>4</td>\n",
       "      <td>9</td>\n",
       "      <td>1.0</td>\n",
       "      <td>0.0</td>\n",
       "      <td><img src='data:image/png;base64,iVBORw0KGgoAAAANSUhEUgAAABwAAAAcCAAAAABXZoBIAAAAvklEQVR4nGNgGMJAcd1jRVxyno///duOXUq/4eGrNRce8GCRkpz6581ScZaPX4UxpJgiL/27q8LAwPpvN6Y+8X//nnoyMDBoIEuyQOmPl3UlF2++9jAWq2vYarb/+vfv3z9sOhl+tTC4qnnxawlg9wkDAwMDw45/q3HK8X/6l4TkBVRJLh6GWzh15vz7x4lTJwPDqV84JcMYnv3FZarsr39ZOK3M/fcGmYtqLC/DFtySDAx3cUs+uL0Rp5UkAQCYNT7Y0fBOtgAAAABJRU5ErkJggg=='/></td>\n",
       "    </tr>\n",
       "    <tr>\n",
       "      <th>1</th>\n",
       "      <td>9304</td>\n",
       "      <td>2</td>\n",
       "      <td>9</td>\n",
       "      <td>1.0</td>\n",
       "      <td>0.0</td>\n",
       "      <td><img src='data:image/png;base64,iVBORw0KGgoAAAANSUhEUgAAABwAAAAcCAAAAABXZoBIAAABAklEQVR4nGNgGGjA0XHnrA0uyfp/N38exyEX/rWXYcYPZaxyUj82iTFk/gvFJsey67McA4MakiQLQlLMJfARAwM7knImBDOCYRcDA0P4n8foRvoXCsu+mMbIwMDQ8gXDvrLvJ32/qDMwMDBcOYbpmoZ//14zMDAwSL6Zhmlnx2uGFwwMDAxOwlgc9GMCw04GBgYG1/8XsLj2MtRrn/Zh9QoDAwOnTxRfoRmmi+x+1TBwX/r379+/H7d0MGR1OBmyPj74lxG64usjTUzNDF8vvdrAycDg/e8oMxbJf//iGRgYmOz+tXJiSL7+d4GPgYGBgbn9ryqGZPxTJyjLnguLrXQBAKk5TyR3CChVAAAAAElFTkSuQmCC'/></td>\n",
       "    </tr>\n",
       "    <tr>\n",
       "      <th>2</th>\n",
       "      <td>9320</td>\n",
       "      <td>9</td>\n",
       "      <td>4</td>\n",
       "      <td>1.0</td>\n",
       "      <td>0.0</td>\n",
       "      <td><img src='data:image/png;base64,iVBORw0KGgoAAAANSUhEUgAAABwAAAAcCAAAAABXZoBIAAAA10lEQVR4nGNgGLKAl4Eh9f1tU39ebJKpagwMahb7/hSiS3DlxUFZoX9OQFlMMEkL2YMQo9VSGLai6jNwgjN1n/7dgKpT9RZcbov4/7OoOkNlILRz29M/f5agOSd0U5EaA4PPw29//v5ZIoMmqXb1/98bvb/X7/j776IkXJQRxgiRDGd4PSE4653RE3RfQoD4qz9/dmOXYmCQ/fPnFNagY2BgYIj5+0USl5zUjT+xuOQYpv19qYpLTu3t3wScGo/9vYZTjvfiHzWckpZ/6nFrnFDPjFOSZAAA671Ez38N/jwAAAAASUVORK5CYII='/></td>\n",
       "    </tr>\n",
       "    <tr>\n",
       "      <th>3</th>\n",
       "      <td>9276</td>\n",
       "      <td>8</td>\n",
       "      <td>3</td>\n",
       "      <td>1.0</td>\n",
       "      <td>0.0</td>\n",
       "      <td><img src='data:image/png;base64,iVBORw0KGgoAAAANSUhEUgAAABwAAAAcCAAAAABXZoBIAAABH0lEQVR4nMXRvS9DURgG8Oc2Pm7SSxqtRJikJkGCWfwDSBgsEkGMBn8Ai8FiEYMRYbAY3LWLxCByFx8xuCl3kKb1sRQJOjzPNVSb9J5aeacn55c3533PAf6v4ssHgS5X2+viEimSxesp01J58v32hdTDeF2cQNfIlZiNG+qTMwCwQm5WD2M/na2WNdAIYDdrdRqdW2TOAQCXnoEdT9Tdxpm/V2BgoL34JZIU6TuGNl9UkKfdUWzyQp1klMtJCtcjmKS8RKzNcUa3qdJ0LQ5TY+XUuyMe278g8MliGqg+AuDnMV/JR2hJRqYNtZYo51Cv6dpL+5/J88kU7FlXPGyIzDt4Q7LgB6Qe+6KbYsgtUST51mMYgLn9e/JjwfyXv6tvkm2Sm74MWmkAAAAASUVORK5CYII='/></td>\n",
       "    </tr>\n",
       "    <tr>\n",
       "      <th>4</th>\n",
       "      <td>9286</td>\n",
       "      <td>8</td>\n",
       "      <td>4</td>\n",
       "      <td>1.0</td>\n",
       "      <td>0.0</td>\n",
       "      <td><img src='data:image/png;base64,iVBORw0KGgoAAAANSUhEUgAAABwAAAAcCAAAAABXZoBIAAABEUlEQVR4nMWQrU4DQRSFz2yypggw6CUhkFDTN1jkpqZ9AVAokmkFhmfAYRAYflwNCQKaICjgIQgE2YYGGgQkULOhinNYRFOYhdFw1M18+TLnXuB/s6JcWxU/W80o0jovwddU3yjh7t3vmTOyhZQdH1wkt4GU9LCZAZkAywU4/jOcxOUV8FowvgvhpUictKVZAFWp2Yh+1sm4E6JcvSbFx7RcgIfk7v5xTyRFci90YUpyBFrW3lDrLuxKknQuWWBO+ZHbtnmR37fr8wf5Wx8YPnzEsatOJAsAGuxNAdgUE3fP4cktACBaAqbHWuDqMMYAqFUCY36fopbxuZtm1GnJc6i10Z6DxMMQ2Y74ZGMf+5t8Am/BhOT3nFIvAAAAAElFTkSuQmCC'/></td>\n",
       "    </tr>\n",
       "    <tr>\n",
       "      <th>5</th>\n",
       "      <td>9294</td>\n",
       "      <td>3</td>\n",
       "      <td>7</td>\n",
       "      <td>1.0</td>\n",
       "      <td>0.0</td>\n",
       "      <td><img src='data:image/png;base64,iVBORw0KGgoAAAANSUhEUgAAABwAAAAcCAAAAABXZoBIAAAAx0lEQVR4nGNgGDaAEZmjHHDxAQMDw++HGMoEOk49+/fv3/cXLz6fOuWCJrn658FcZ2dnPQYGq9n/nqNJSstBGYYp7/8txrSTQVnVQZIhhPPBtBVP0LQWT3n87d+/f/+22XFBRVjgcvJZ4ue2PHKQlP4lfRrTV7xKDAwMDAzG+//FYErCgMKHDVAWE6bkwzdCODWKTf0Uj8TdkcMOZSm6tOz8+QEux8jAwLDL9c0/CI+Lm+H0qmXPkSW5JQM4odzdr+/idulQBgD1GkAZ+nuxlgAAAABJRU5ErkJggg=='/></td>\n",
       "    </tr>\n",
       "    <tr>\n",
       "      <th>6</th>\n",
       "      <td>9296</td>\n",
       "      <td>9</td>\n",
       "      <td>7</td>\n",
       "      <td>1.0</td>\n",
       "      <td>0.0</td>\n",
       "      <td><img src='data:image/png;base64,iVBORw0KGgoAAAANSUhEUgAAABwAAAAcCAAAAABXZoBIAAAAy0lEQVR4nGNgGI6A37zr8/+/f//+9cKUW3T7z58/T859+PNnLrqU1Lq/f/4cvq7Ae/rPnxJ0ydg/f//M5BTlrPrz55IoTJAFSYHcXYbz7gwM21+j69R+/v/v379/v/z9+9cbLsgIY2jZpjMseqNXxLAh5gcO73T9+aOLQ4qB4SWKJBOqpAhObQwMDv//7sApuffvnzycks/+fjDCI3kOmYvioFARhtM4Jd2YmQ7jMlT3zZ/3irh0Sgow3LiP01gGhrUMuCRNcNmHFQAAZsBNlck4HlEAAAAASUVORK5CYII='/></td>\n",
       "    </tr>\n",
       "    <tr>\n",
       "      <th>7</th>\n",
       "      <td>9327</td>\n",
       "      <td>5</td>\n",
       "      <td>6</td>\n",
       "      <td>1.0</td>\n",
       "      <td>0.0</td>\n",
       "      <td><img src='data:image/png;base64,iVBORw0KGgoAAAANSUhEUgAAABwAAAAcCAAAAABXZoBIAAAA70lEQVR4nMWRIU/EQBCFZwgK3drDXu0GjaT8An7C6TvLyaLPFo8lnCTIBlmB4dKgIDlVgitBzZtBtFzYKVh4IybZb9/Myy7RvypbVAqFbtIxuuogfd2OYK1QKF5qbWcjYwfBY3mSUJgkHh5Bkflle0M3M2vMwf2hMzPR2y/QjGxp6+Z4Ss2933kK3dXr3MFLwbdaxoGIe20fnpi5yCNnLpAihJDQQYCgjALdnSU3fdiPLRP7SF/KnnfOsRZQvE+jo3S1Gp60Esh5fN9gqOYZHV4o9NoN2wgE0tWtQNqJg+msHn5U2x+j5CUEUnjf3+oTEwSTON7ITnQAAAAASUVORK5CYII='/></td>\n",
       "    </tr>\n",
       "    <tr>\n",
       "      <th>8</th>\n",
       "      <td>9366</td>\n",
       "      <td>5</td>\n",
       "      <td>6</td>\n",
       "      <td>1.0</td>\n",
       "      <td>0.0</td>\n",
       "      <td><img src='data:image/png;base64,iVBORw0KGgoAAAANSUhEUgAAABwAAAAcCAAAAABXZoBIAAAApElEQVR4nGNgGASAr3vCAW/sUpz95/9emqKBVU7n5t9rifzY9Rm/+jNLEod1Zs//1uJ0y+y/11EFmFB4b3FqZAj49DcCt2z232+WOCW5Gv6dEsat9/H/5Uw4JSVf/l2CW2vr3+e4JZkX/90H57CgyimYejN8wKFv3fO/f1dg9Q1j8ovfP5ZGMmKTU57290OhDlYD2dPe/5qjh8O2ir/LsMc/vQEA/A42o53Dck8AAAAASUVORK5CYII='/></td>\n",
       "    </tr>\n",
       "    <tr>\n",
       "      <th>9</th>\n",
       "      <td>9370</td>\n",
       "      <td>4</td>\n",
       "      <td>6</td>\n",
       "      <td>1.0</td>\n",
       "      <td>0.0</td>\n",
       "      <td><img src='data:image/png;base64,iVBORw0KGgoAAAANSUhEUgAAABwAAAAcCAAAAABXZoBIAAAA7klEQVR4nGNgGAwg9n8xbskNN4Rxysl82AFnM6FLRvAyYJdscWVgkGRcitVEzhsLGDhvnOLEqjNCdStDgOq171glWxk+MBgiG4Uk2SBx8wqDFONxbDYKfv1rxsD7+oM8AwMDw/MqFDnu4/+WcDIU/J3FwMAgPPXfMRRJy79P+BkYFv7tZLDZcP3vEw0UyXX/0hgYpO7+23T43797ZRAxRqic0jne9fd8JPn/M9yb8X71ZzT3RHz79/fv33977ZCCjxHOMhJmEFzOaHQBm08YGBgYgv8tQOGjBHzw/7249DEwnP8iiFNO6cMCnHJ0AwC2WUjokfNbigAAAABJRU5ErkJggg=='/></td>\n",
       "    </tr>\n",
       "  </tbody>\n",
       "</table>"
      ],
      "text/plain": [
       "<IPython.core.display.HTML object>"
      ]
     },
     "execution_count": 142,
     "metadata": {},
     "output_type": "execute_result"
    }
   ],
   "source": [
    "HTML(viz_table(e.viz.wrong_certain))"
   ]
  },
  {
   "cell_type": "code",
   "execution_count": 143,
   "metadata": {
    "collapsed": false
   },
   "outputs": [
    {
     "data": {
      "text/plain": [
       "<matplotlib.figure.Figure at 0x113813b00>"
      ]
     },
     "metadata": {},
     "output_type": "display_data"
    },
    {
     "data": {
      "image/png": "[encoded data removed]",
      "text/plain": [
       "<matplotlib.figure.Figure at 0x113821780>"
      ]
     },
     "metadata": {},
     "output_type": "display_data"
    }
   ],
   "source": [
    "plot_images(e.viz.wrong_uncertain, lambda r: '%d (%.2f)' % (r.pred_class, r.p), lambda r: r.proc_image, show=True)"
   ]
  },
  {
   "cell_type": "code",
   "execution_count": 144,
   "metadata": {
    "collapsed": false
   },
   "outputs": [
    {
     "data": {
      "text/html": [
       "<div>\n",
       "<table border=\"1\" class=\"dataframe\">\n",
       "  <thead>\n",
       "    <tr style=\"text-align: right;\">\n",
       "      <th></th>\n",
       "      <th>step</th>\n",
       "      <th>seen</th>\n",
       "      <th>train_acc</th>\n",
       "      <th>train_loss</th>\n",
       "      <th>valid_acc</th>\n",
       "      <th>valid_loss</th>\n",
       "    </tr>\n",
       "  </thead>\n",
       "  <tbody>\n",
       "    <tr>\n",
       "      <th>0</th>\n",
       "      <td>0</td>\n",
       "      <td>0</td>\n",
       "      <td>0.105</td>\n",
       "      <td>14789.200</td>\n",
       "      <td>0.11</td>\n",
       "      <td>15244.200</td>\n",
       "    </tr>\n",
       "    <tr>\n",
       "      <th>1</th>\n",
       "      <td>25</td>\n",
       "      <td>2500</td>\n",
       "      <td>0.620</td>\n",
       "      <td>1539.730</td>\n",
       "      <td>0.66</td>\n",
       "      <td>1778.990</td>\n",
       "    </tr>\n",
       "    <tr>\n",
       "      <th>2</th>\n",
       "      <td>50</td>\n",
       "      <td>5000</td>\n",
       "      <td>0.800</td>\n",
       "      <td>1037.260</td>\n",
       "      <td>0.73</td>\n",
       "      <td>1517.850</td>\n",
       "    </tr>\n",
       "    <tr>\n",
       "      <th>3</th>\n",
       "      <td>75</td>\n",
       "      <td>7500</td>\n",
       "      <td>0.795</td>\n",
       "      <td>1244.770</td>\n",
       "      <td>0.77</td>\n",
       "      <td>1364.040</td>\n",
       "    </tr>\n",
       "    <tr>\n",
       "      <th>4</th>\n",
       "      <td>100</td>\n",
       "      <td>10000</td>\n",
       "      <td>0.835</td>\n",
       "      <td>935.747</td>\n",
       "      <td>0.86</td>\n",
       "      <td>806.738</td>\n",
       "    </tr>\n",
       "  </tbody>\n",
       "</table>\n",
       "</div>"
      ],
      "text/plain": [
       "   step   seen  train_acc  train_loss  valid_acc  valid_loss\n",
       "0     0      0      0.105   14789.200       0.11   15244.200\n",
       "1    25   2500      0.620    1539.730       0.66    1778.990\n",
       "2    50   5000      0.800    1037.260       0.73    1517.850\n",
       "3    75   7500      0.795    1244.770       0.77    1364.040\n",
       "4   100  10000      0.835     935.747       0.86     806.738"
      ]
     },
     "execution_count": 144,
     "metadata": {},
     "output_type": "execute_result"
    }
   ],
   "source": [
    "e.learning_curve.head()"
   ]
  },
  {
   "cell_type": "code",
   "execution_count": 145,
   "metadata": {
    "collapsed": false
   },
   "outputs": [
    {
     "data": {
      "text/plain": [
       "<matplotlib.figure.Figure at 0x113813e80>"
      ]
     },
     "metadata": {},
     "output_type": "display_data"
    },
    {
     "data": {
      "image/png": "[encoded data removed]",
      "text/plain": [
       "<matplotlib.figure.Figure at 0x1143ee898>"
      ]
     },
     "metadata": {},
     "output_type": "display_data"
    }
   ],
   "source": [
    "plot_learning(e.learning_curve, show=True)"
   ]
  },
  {
   "cell_type": "code",
   "execution_count": 146,
   "metadata": {
    "collapsed": false
   },
   "outputs": [
    {
     "data": {
      "text/plain": [
       "<matplotlib.figure.Figure at 0x113731978>"
      ]
     },
     "metadata": {},
     "output_type": "display_data"
    },
    {
     "data": {
      "image/png": "[encoded data removed]",
      "text/plain": [
       "<matplotlib.figure.Figure at 0x1140c6978>"
      ]
     },
     "metadata": {},
     "output_type": "display_data"
    }
   ],
   "source": [
    "plot_weights(e.conv_weights, 0, show=True)"
   ]
  },
  {
   "cell_type": "code",
   "execution_count": 147,
   "metadata": {
    "collapsed": false
   },
   "outputs": [],
   "source": [
    "wu = e.activations['wrong_uncertain']"
   ]
  },
  {
   "cell_type": "code",
   "execution_count": 148,
   "metadata": {
    "collapsed": false
   },
   "outputs": [
    {
     "data": {
      "text/plain": [
       "(10, 32, 28, 28)"
      ]
     },
     "execution_count": 148,
     "metadata": {},
     "output_type": "execute_result"
    }
   ],
   "source": [
    "wu[0].shape"
   ]
  },
  {
   "cell_type": "code",
   "execution_count": 150,
   "metadata": {
    "collapsed": false
   },
   "outputs": [
    {
     "data": {
      "text/html": [
       "<img src='data:image/png;base64,iVBORw0KGgoAAAANSUhEUgAAABwAAAAcCAAAAABXZoBIAAABF0lEQVR4nH3TsUtCURTH8e+NtwlBZINBQaN/QTkWBG4OQqM01NBgNNTfIM2ii0bi4mRLSzqYWy1ZS0MRDQbaEkrUlj2Hd9/rnNR3l3Pf/XB+5z54z+SYveZCLBwdsR92a0BpvdOfgqcA7NfjPorYtq3p1JSZDX/z/pSITcQGq9IrPzzOvG1z9VXH9hQfKXzOS7sdKDxXjRsL8kJtPXQ5JfCtIWSrcDniL9YtyrZWfxGBv/Y4Y1u/JLoWq2t5gGRHotO0ms4CXKlOp+s9FQZerUv8ydphZ16tSORzE4C4Td9VeN+S78KhwpvgwgDMK/w+1qrQRE9wXwCIQCZiT/2P2v24u8YAkPvXCSa6fbC0cwEre0GsCfsdxqi9QXXu/Fq8AAAAAElFTkSuQmCC'/>"
      ],
      "text/plain": [
       "<IPython.core.display.HTML object>"
      ]
     },
     "metadata": {},
     "output_type": "display_data"
    },
    {
     "data": {
      "text/html": [
       "<img src='data:image/png;base64,iVBORw0KGgoAAAANSUhEUgAAABwAAAAcCAAAAABXZoBIAAABQ0lEQVR4nH2TMUgCcRyFv38aUQa1iENDGASFpEsRLUVtzQ01VNASBM4H7W0OQWE0tDU1NTpFQ+BYQ8EdJQgOWWCWJKll/Rq88+5/qDccd/fx3r33jlOPdD/6erDeMOi5br49XF8APHVQvp6otXQXZeXzMKLbKjftV6L1BHGcPbYJ57wHTPoDgeIqG+pU5RuAlRCQSvpg7QYQAVgy0v2bmu1zyfWGg/UfT9rKeNgGYtSWJ0bk11U2zFlHuHUOhYanp7zMDbY9p0xnQFu5CBij0VhcUFa7QLCdedpCjuMQzWdWtZ4BwELYKUGCU32EP/tuuAiXpDpDZuCeMhv++VrtocpY8cwPxaYLzO8XNFhuUYAaxQ/R4DuAmHVQQ8SOBvAshP11UUDkrt70vTMnBUgCxm21qS0ESC5AJh/e3Q403Pi9fod/mWtfdWwmE8YAAAAASUVORK5CYII='/>"
      ],
      "text/plain": [
       "<IPython.core.display.HTML object>"
      ]
     },
     "metadata": {},
     "output_type": "display_data"
    },
    {
     "data": {
      "text/html": [
       "<img src='data:image/png;base64,iVBORw0KGgoAAAANSUhEUgAAABwAAAAcCAAAAABXZoBIAAABnUlEQVR4nI2RT0jTYRzGP+/mDvLzsGyBpcasxDAmogwEEZOhtx2CkMDVwQ52CNRTJIKE6WGXuuzSQRBkF+0wvAiVjMFSJoIw2ohttFawISUL/5Ae9u2wjd6fqfReXvg+PJ/3+T6vinH+sVyg/b9osbvcudAVt6M6qNFEW+t08esqtPz4V6xNHcwh52ATm70IDLTNF9odp8VDPxFIOm9/9hotN09hR3nQh6JMrs+YnFbwvlTDIsB68cSEtTXCxtumW8AC0UteE/Z4F+xPxoDLe4+HhS1NrF01eDQLkN5774Gs5qw5Kk6xiMo6X00IbJf0VY4zfgTFWNjx7Dk49BJkbaa8wd2A7/4aXDc1FEmtgArI4PI9dzCFKk9VDKDUg7wbEvhyAxAOEzoWzycfkP9F5zZg6Fjrmw+T62m4arBjFXihY3kaE5QACqHQwJYe6CH2OKHyC4lx4qa03fVdHa5g+JoSuPONUqWaSu2JBuKvyY+A4mPVUrkk97Mfz5IsRRVC/rcpEKjmujok2Y5U0uhfJjnLvqEQ+F4d/XWedf4APiiDnBrOEZgAAAAASUVORK5CYII='/>"
      ],
      "text/plain": [
       "<IPython.core.display.HTML object>"
      ]
     },
     "metadata": {},
     "output_type": "display_data"
    },
    {
     "data": {
      "text/html": [
       "<img src='data:image/png;base64,iVBORw0KGgoAAAANSUhEUgAAABwAAAAcCAAAAABXZoBIAAABe0lEQVR4nJWSTyjDYRjHP+/P/KmlOBBCaakd/ClXESky5CYpuYmEHa1dxGVn5eJCuFAoxeSgNikX0i9JOEhrlmRt4jdsex027d38Kc/pffs83+d5v8/zigF+D+0P9g/4Fr1wFgdE4dfdpLDYsWPVdOoJvDu+K8WamMzRpopslT8on/ABNh6tZfkVwQylm4ZQKUC0fbmhIrMnJ9wDWTc79sX4YCZEAMQELNXVpJUNIOtTaXpaWeNg+kUHyIoBVe3PChRbTIcTbqHWUmCoyluQInGc6tUP31WfkSNkKJnnutq49qsT2gPmAQ/A5k4rCpSv7OGE82bQoDuiwjh0AM6tXWebFxqrk69M/IQS652+zfVccBUpaPYOKErtbNgQsN6Vyz5gNqUp3cG+dcgzWrzxaDbYH1QrjhsdiDRNlOMC7vJUpWUmMXQkAujXVJ8+PxKATgGMpfdEW0kuDBgxPlSfEB+6RMoPoGA8nGSplUVnzQuMYu7J+ZpxquyP8QkBgHW1LkCBkAAAAABJRU5ErkJggg=='/>"
      ],
      "text/plain": [
       "<IPython.core.display.HTML object>"
      ]
     },
     "metadata": {},
     "output_type": "display_data"
    },
    {
     "data": {
      "text/html": [
       "<img src='data:image/png;base64,iVBORw0KGgoAAAANSUhEUgAAABwAAAAcCAAAAABXZoBIAAABHUlEQVR4nI2TsUoDQRCGv43aiUTkerWwsRBSRBTBxtYmjYWlIIK+QtDWwsLqQJ9BLASJ2GhjSrGxUEljYWQkRguLhMta7O1lNsTDaXZnPub/h1nWRPwdhRz2fygisigik75glKf4i68VArab4xlXAbY2vbKSFbZPsqT0Ogh1RIFswJzs6DC2vvNZu9JQxcE+3OmBdKMlPn/66XcKWOOuq7dmodmDbKAeYFwTy/CQjulku22XrdQTpxCpzpHU7C2Bm755AO/ngWQQOn9KL8AEzFaGQB6BMjTKgWwx2ML1u4a0NTtbuwggwHR6zlToBnAcmMNaYKNB3HFVv9ukBdSX4GOKvdp3CP2SLBweeaPsycairw6ccnn8nE1h8r7DLx5CT2MkQiUUAAAAAElFTkSuQmCC'/>"
      ],
      "text/plain": [
       "<IPython.core.display.HTML object>"
      ]
     },
     "metadata": {},
     "output_type": "display_data"
    },
    {
     "data": {
      "text/html": [
       "<img src='data:image/png;base64,iVBORw0KGgoAAAANSUhEUgAAABwAAAAcCAAAAABXZoBIAAAA10lEQVR4nGP8z4AbMOGRGxSSjIyMrQgONb3CyMjImMXAwMDAwIIhxcDAwCDJAeH8RwcMDIzXYExk8QwGi/9HkPgormVkYGBA5jOhyq1VNUF2AMKQyQwMHz79Z7j8/zfcehjj/X8/hv/pX1HdhsR+/v//xUdYJZFEE65AGVAHVTL8RjhDSBvNQaeLD8I0XoebBvPKA920BggrX5PhD5rOK/MiIJw6JN/BWFn/7/9fAFH+EdO16qd2/V+vxsDAcBmbP+tMF/y/3bof2Z/IAW/CqzMZNW7xpSEAhmYcE+rL5+kAAAAASUVORK5CYII='/>"
      ],
      "text/plain": [
       "<IPython.core.display.HTML object>"
      ]
     },
     "metadata": {},
     "output_type": "display_data"
    },
    {
     "data": {
      "text/html": [
       "<img src='data:image/png;base64,iVBORw0KGgoAAAANSUhEUgAAABwAAAAcCAAAAABXZoBIAAABJUlEQVR4nJWSvyvFURiHn3NvUcqolAEpg0kSmU03xV8gg4GSUko2sxKTnUiGa/MzZeAPkAxkUAZJiboD1488hnuvr+/pUt7l9L7POZ/Pp3NOkN8r8wf7J1wNM6+/wceRjeJ2pQlRoPHCxo/On3VVaueWX1RNw8re+t5L1ZRsQIDwka0SaFBgCLNV0h4Pwt1sf75qoEZ0kVrV9ZXYs2z5VrPU3tkUyQZaAagJmYGmyDPANZwCFj5jT9Ab1K7vUSY5eAbNTEFfnPYkN9CgTu62aT4RKy0dqN48qW7GcGdP1fHn5H4TeM6oarHMFlKBjngHqCVQB0ynAt2C7lce7SIt6zDo4fCDqqMRtAUcKwmtGUOnctC9pQcTcVpVe+bVmftkEP++VH0Be/BYglyxiuIAAAAASUVORK5CYII='/>"
      ],
      "text/plain": [
       "<IPython.core.display.HTML object>"
      ]
     },
     "metadata": {},
     "output_type": "display_data"
    },
    {
     "data": {
      "text/html": [
       "<img src='data:image/png;base64,iVBORw0KGgoAAAANSUhEUgAAABwAAAAcCAAAAABXZoBIAAAAr0lEQVR4nM2RMQ4BQRiFHyYK7SY2cQOdikgUOvdwA6WIRu8I22kUdBucQCQana2plC7wKSaTTfhHKV4zf/Llf+/NjPTPclMgwhYXIIvA4n2vWo7tRKposoZhiClhM5H2I0lqGbZ4DazIOQCFhWobAHpm1S5wfXAyIRk+12DbcMdDbjb1gxt/wnuwW1qRT3/WSVPD9ihJarCzVpFWkjPr9jkD3CIfOvNPazKp84X9TC8jLlqUh59fKwAAAABJRU5ErkJggg=='/>"
      ],
      "text/plain": [
       "<IPython.core.display.HTML object>"
      ]
     },
     "metadata": {},
     "output_type": "display_data"
    },
    {
     "data": {
      "text/html": [
       "<img src='data:image/png;base64,iVBORw0KGgoAAAANSUhEUgAAABwAAAAcCAAAAABXZoBIAAABW0lEQVR4nH2RQSiDYRjHf+9YZqGUFVKUiTkoIhetlEUccDGKE7nMzUG5OihtokkOktuIyG3kwIocuLODuWFrJK2Jzevwfcv3bd/2XJ73eX/v8/yf93mEk/xmKsAKw2LN2eZYAgQ4DWDADHvrxpluMzCRR3NIcdtNcjQUyob1AF7XdDjigFC2JsC8bWHFQLMRYOREjfqTgMi03elD+Qdrl08fHem4VtMHcI284XKr+vGwVFt2DIAglA0cH1Nb96LptsUDQK9kLiihxpL6h2IT4Ep0wQVYuNMOwVQE0IMfJHzpJyTVqO0BJAPG8PRIbUsHP5XIH1X8uBaKcvXtsOISukw38N4d9SSVKVVoIQ3A7LdtQwgGwfuqg89ncNC8ex7DHoPvtB6KfQgkXFPy/hbCv8ptZiti57EPgMVlS7v1R5eJnElEgLfhZSbNKvvfJ1hXzfaqeGtJZYpcmGt/iRpdeWbcPKYAAAAASUVORK5CYII='/>"
      ],
      "text/plain": [
       "<IPython.core.display.HTML object>"
      ]
     },
     "metadata": {},
     "output_type": "display_data"
    },
    {
     "data": {
      "text/html": [
       "<img src='data:image/png;base64,iVBORw0KGgoAAAANSUhEUgAAABwAAAAcCAAAAABXZoBIAAAA00lEQVR4nMWRMUoDQRhG34aQQu3CptjKQiwkSMBDpElhmQukFLH0JLZCLmATSGNrtV0gkMomCBK8ge6z2EF3Z3cLK79qmPe/j38Y+OecbbzrYktVB+1Q9fCRtrKZ6pgvu8QyN+EmqcDfY7jtNRsekqQ+UxErXb2YwSpur8AWM7BRba+QiWqhqMZmBhQXCefwyTAyr/Xq8gnQhXHxTo/dAjq/jeFU9R7QjH28keUmY+X1x+zXJgB4PonNl/w0fEnjmcB7qM7b4NEaOjyA9BHeuuAf8w3tOGtHzJ2M4AAAAABJRU5ErkJggg=='/>"
      ],
      "text/plain": [
       "<IPython.core.display.HTML object>"
      ]
     },
     "metadata": {},
     "output_type": "display_data"
    }
   ],
   "source": [
    "img_show(wu[0][0][:10])"
   ]
  },
  {
   "cell_type": "code",
   "execution_count": null,
   "metadata": {
    "collapsed": true
   },
   "outputs": [],
   "source": []
  }
 ],
 "metadata": {
  "anaconda-cloud": {},
  "kernelspec": {
   "display_name": "Python [default]",
   "language": "python",
   "name": "python3"
  },
  "language_info": {
   "codemirror_mode": {
    "name": "ipython",
    "version": 3
   },
   "file_extension": ".py",
   "mimetype": "text/x-python",
   "name": "python",
   "nbconvert_exporter": "python",
   "pygments_lexer": "ipython3",
   "version": "3.5.2"
  }
 },
 "nbformat": 4,
 "nbformat_minor": 1
}
