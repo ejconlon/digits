{
 "cells": [
  {
   "cell_type": "code",
   "execution_count": 1,
   "metadata": {
    "collapsed": false
   },
   "outputs": [
    {
     "name": "stdout",
     "output_type": "stream",
     "text": [
      "ready\n"
     ]
    }
   ],
   "source": [
    "import sys\n",
    "for p in ['..']:\n",
    "  if p not in sys.path:\n",
    "    sys.path.insert(0, p)\n",
    "\n",
    "import math\n",
    "\n",
    "import matplotlib.pyplot as plt\n",
    "import numpy as np\n",
    "import pandas as pd\n",
    "from IPython.core.display import HTML\n",
    "\n",
    "from digits.data import Env\n",
    "from digits.explore import *\n",
    "\n",
    "%matplotlib inline\n",
    "\n",
    "env = Env('..')\n",
    "env.assert_ready()\n",
    "print(\"ready\")"
   ]
  },
  {
   "cell_type": "code",
   "execution_count": 2,
   "metadata": {
    "collapsed": false
   },
   "outputs": [],
   "source": [
    "model = 'tf'\n",
    "variant = 'mnist'\n",
    "e = explore(env, model, variant, 'test', assert_complete=True)"
   ]
  },
  {
   "cell_type": "code",
   "execution_count": 3,
   "metadata": {
    "collapsed": false
   },
   "outputs": [
    {
     "data": {
      "text/plain": [
       "0.81621428571428567"
      ]
     },
     "execution_count": 3,
     "metadata": {},
     "output_type": "execute_result"
    }
   ],
   "source": [
    "e.metrics.accuracy()"
   ]
  },
  {
   "cell_type": "code",
   "execution_count": 4,
   "metadata": {
    "collapsed": false
   },
   "outputs": [
    {
     "data": {
      "text/plain": [
       "array([ 0.102     ,  0.11228571,  0.09971429,  0.1045    ,  0.10057143,\n",
       "        0.08635714,  0.09678571,  0.1015    ,  0.19628571])"
      ]
     },
     "execution_count": 4,
     "metadata": {},
     "output_type": "execute_result"
    }
   ],
   "source": [
    "e.metrics.gold_class_dist()"
   ]
  },
  {
   "cell_type": "code",
   "execution_count": 5,
   "metadata": {
    "collapsed": false
   },
   "outputs": [
    {
     "data": {
      "text/plain": [
       "array([ 0.1045    ,  0.12742857,  0.08785714,  0.08971429,  0.11328571,\n",
       "        0.08935714,  0.12328571,  0.10692857,  0.15764286])"
      ]
     },
     "execution_count": 5,
     "metadata": {},
     "output_type": "execute_result"
    }
   ],
   "source": [
    "e.metrics.pred_class_dist()"
   ]
  },
  {
   "cell_type": "code",
   "execution_count": 6,
   "metadata": {
    "collapsed": false,
    "scrolled": true
   },
   "outputs": [
    {
     "data": {
      "text/html": [
       "<table border=\"1\" class=\"dataframe\">\n",
       "  <thead>\n",
       "    <tr style=\"text-align: right;\">\n",
       "      <th></th>\n",
       "      <th>index</th>\n",
       "      <th>gold_class</th>\n",
       "      <th>pred_class</th>\n",
       "      <th>p</th>\n",
       "      <th>entropy</th>\n",
       "      <th>proc_image</th>\n",
       "    </tr>\n",
       "  </thead>\n",
       "  <tbody>\n",
       "    <tr>\n",
       "      <th>0</th>\n",
       "      <td>13823</td>\n",
       "      <td>7</td>\n",
       "      <td>0</td>\n",
       "      <td>0.989547</td>\n",
       "      <td>0.058458</td>\n",
       "      <td><img src='data:image/png;base64,iVBORw0KGgoAAAANSUhEUgAAABwAAAAcCAAAAABXZoBIAAAA90lEQVR4nN3QsUpDMRTG8b/SycWlHS6CIOLQRQdxks71ouBQBx9AkKLPUvoIvoEK4uBmXRx08YKD0OE66GDf4PglLt4kt7Q+gGcI+fJLTkLgP1Z+JclLl3meL01ZX2Zmv8M6AI2A+1AaC81lgLvvk4cU4f54Ar1dWDtYJTa+vckOP3VWxVb33R4Dekny57HJmxTudA54HUX0DmAxLpQvYdpq8BGCzMxO476hWbeO0XbGKXpJe6RxvF17kI/oHNfPaduvTkgrslGTFAchbBXV31ZYtsO5wupIPwvTDckXGTPr6MKs2JxtDM3KOeegN3lqzzPo/GFp/QDu13gXJlWQ1AAAAABJRU5ErkJggg=='/></td>\n",
       "    </tr>\n",
       "    <tr>\n",
       "      <th>1</th>\n",
       "      <td>2365</td>\n",
       "      <td>3</td>\n",
       "      <td>2</td>\n",
       "      <td>0.989963</td>\n",
       "      <td>0.067199</td>\n",
       "      <td><img src='data:image/png;base64,iVBORw0KGgoAAAANSUhEUgAAABwAAAAcCAAAAABXZoBIAAABC0lEQVR4nM2RsUrDYBSFv9SgpTFFHBU6qdn0AaToA2RwrIqTLo6+guiquAii1U4d+wzSpYsZROhWpHXQJZqKBZdTHJpoUn43B8/wc7jfuRfu/eGfyRq9k/4KnRuAdoOTKBPZUFpBIS7bANwBH93qdvPJ25tgMMx0Hupxf2FkW9J1LgPzu15iK5JmM2M/q+loX7HJToBiBer9X1arS1ozo5mLN+lyysiWG9LLWd6EilehpGMDKey07iWpvTpO7K3gIbldGKx/1y0ANwKg+cxcGaLTo3SnK73Xar4Djn8rvZbTMFcqzSfeOZCi+FtsgGHvJzgIwR2/WyKvK2nazJa6kjYtI1vsSTo3sz/TF+kecUspHqJPAAAAAElFTkSuQmCC'/></td>\n",
       "    </tr>\n",
       "    <tr>\n",
       "      <th>2</th>\n",
       "      <td>10687</td>\n",
       "      <td>6</td>\n",
       "      <td>0</td>\n",
       "      <td>0.986309</td>\n",
       "      <td>0.077898</td>\n",
       "      <td><img src='data:image/png;base64,iVBORw0KGgoAAAANSUhEUgAAABwAAAAcCAAAAABXZoBIAAABGklEQVR4nM3PTStEYRjG8evEZkazkRBFsmBhakqx9LJBkszSwlJZTEJ2rBQLUaaIT0D5ADY2yskUC1lNSpmFmppGk7fOzPH8WRw5x3Rs5do8V/evu7tH+qM0bD33/YpHUE6FU/OGC28DoTZ5CbyMhFLGAXJNYbbsAJyNh1C77QDFnViYbQOcj0mS4hM/rO0GsJMxSYrv5d3BIG4CmS5JUksejB2wxQoUOiVJ0X2Ae98WXDhNeH0dgBUfy1Ac9mrHAx+8X88G8XHIa5E0wEHg4pRh16O1E4BctzevlaQeS3U1Ro2p3lFJKq1mAxiVZqyL1rl6SaZ0nM4GPzn/yncKCVWl/wkA4zimkvTH1te7FJF0d6jpq9vqzX+UT5sYkCwfRyatAAAAAElFTkSuQmCC'/></td>\n",
       "    </tr>\n",
       "    <tr>\n",
       "      <th>3</th>\n",
       "      <td>13413</td>\n",
       "      <td>9</td>\n",
       "      <td>0</td>\n",
       "      <td>0.986114</td>\n",
       "      <td>0.085100</td>\n",
       "      <td><img src='data:image/png;base64,iVBORw0KGgoAAAANSUhEUgAAABwAAAAcCAAAAABXZoBIAAABGUlEQVR4nM2QvUtCURyG31Ij8CZ9QUQYQp/SEpRBS7ONrUFzf0IQuATV1GBEmA0t0RQNN4yGphah7tByhyC0lrarLZElj7bcvFer3Xd7znPOefn9pDZLRwuPdtUK/1ztWX3jc33gD9OZTFsAbP52k/e4KQy3dl4neqXci7QwL3Ol6VnUrlLZCAclGXm246mU52KPcLXoQsS6zYIns2CGG7S0A6Y3wTPOuK9kDXYbkIZ9n1t2KE41qM6D92notAwZSVJQkuqqvP+4ucuh5vlr3AUkSYHZiyoAE37J3qCi8YNz4MkCxjx5DBTPvgDsowiQNzwZyrlbLWUMzYCT9JfGDgH7JDEtaQtu3GN38d0jUrkkServ08er2jPfZYaHoYQ1GmYAAAAASUVORK5CYII='/></td>\n",
       "    </tr>\n",
       "    <tr>\n",
       "      <th>4</th>\n",
       "      <td>13851</td>\n",
       "      <td>9</td>\n",
       "      <td>0</td>\n",
       "      <td>0.981274</td>\n",
       "      <td>0.097431</td>\n",
       "      <td><img src='data:image/png;base64,iVBORw0KGgoAAAANSUhEUgAAABwAAAAcCAAAAABXZoBIAAABEklEQVR4nGNgGNzAuOHH/3/LVbDKpX7/9+/Tww9PWlkwpEJ2//q3yFmdQeXKP3t0uZa//z5PYWJgYGDQ/VeLKsVc/+ffOQ8Im2knmmT9v3/rxKDsbDSdSu/+nRKCcXr+bYGYAOVPFvhZ/A4mycJwAVmj459/qXAO7/UXwkhygnf+XUV4rfHfLmSNyv/+WcA5qvf/TUCWnPXvGg/cT4f+3ZVFkuN+9C8axuao/fdvBrJG+3//YDYyL/j37483dknHQ//+/ZuO8BIDA8P336wtaz/FMMs7/p1qxMXQyYACcv78+/fv379fh4yY3vybz4YqyeC8c9euXdkyDAy+/77LM+ACvv/mIThMaJLHVl7CqZFaAACWIG0gLIAJtwAAAABJRU5ErkJggg=='/></td>\n",
       "    </tr>\n",
       "    <tr>\n",
       "      <th>5</th>\n",
       "      <td>9494</td>\n",
       "      <td>2</td>\n",
       "      <td>6</td>\n",
       "      <td>0.982298</td>\n",
       "      <td>0.105557</td>\n",
       "      <td><img src='data:image/png;base64,iVBORw0KGgoAAAANSUhEUgAAABwAAAAcCAAAAABXZoBIAAAA2klEQVR4nGNgGEqAEUpzmya828Sgw3DkAhZFTX/+/Pnz98+fT8pIgkxQ+tdTRkZGRkZG7nXYzA/9mmRvbz/vz58AhBgLjHFN7SkDAwOXJ8NTTAcxMDAwMKhlSj2t/YrD6Qf+/HkkgVWGpejN/78fEY7lZkfYKevWxfDvcdJdBgYGbS0GWx0GgXMpMDnevj9//vxtlq+//vLFpz9//v7582cf3JBb0ECAE3cX8cEl/6JK7i8QRXLOwb9///79//fv3zdXmu2yhFD9qSoVvpLBjn03w7PbOPw5jAEAvQtqntZKIR0AAAAASUVORK5CYII='/></td>\n",
       "    </tr>\n",
       "    <tr>\n",
       "      <th>6</th>\n",
       "      <td>7943</td>\n",
       "      <td>2</td>\n",
       "      <td>6</td>\n",
       "      <td>0.981283</td>\n",
       "      <td>0.107055</td>\n",
       "      <td><img src='data:image/png;base64,iVBORw0KGgoAAAANSUhEUgAAABwAAAAcCAAAAABXZoBIAAAA7klEQVR4nGNgGEDA2X7CF6ek/t+/b53xSP79lVbw/YQMFkmeNX8h4CBCjAnG+DK97D4DAwMDwwXsJnMn//j797ExFp0MDAy/BBkZGHadxa6z/O/fv3/FsMs1//j790siE1a59N9//349BeMxSkhwMbDAeOLxTAwMmYsYGBgYlKIYGFhqGTYGweRkMv7+/Xudm4HBIeTBi79///79+y4KrtNzKgPDswjWBk1fdgaGb7/qXjK82we3MfXv378v9kMDKQTNOS/+wsCl/ea8aJL/ITLfl8ZgCfi9f//+/ft3ujpWXwotP348SJcZq9wQAQDnLnBMsO9yfwAAAABJRU5ErkJggg=='/></td>\n",
       "    </tr>\n",
       "    <tr>\n",
       "      <th>7</th>\n",
       "      <td>12088</td>\n",
       "      <td>2</td>\n",
       "      <td>6</td>\n",
       "      <td>0.980613</td>\n",
       "      <td>0.113058</td>\n",
       "      <td><img src='data:image/png;base64,iVBORw0KGgoAAAANSUhEUgAAABwAAAAcCAAAAABXZoBIAAAAe0lEQVR4nO2PwQ3CMBAER4gycB85+sCFpI80cvQRpQ4n1LE8Isj5cXnzYB+WRmOt1/CzKbNUMilJUybdquuk2VrPlwgbJ5J0EDCng2DMv8LUrONILj+gjt4a1697PCtg5TYwFID7cVV9vFosjcb3ZZ/adT8X1tcW3v6HN7wLPolidY+MAAAAAElFTkSuQmCC'/></td>\n",
       "    </tr>\n",
       "    <tr>\n",
       "      <th>8</th>\n",
       "      <td>2676</td>\n",
       "      <td>2</td>\n",
       "      <td>6</td>\n",
       "      <td>0.974518</td>\n",
       "      <td>0.141830</td>\n",
       "      <td><img src='data:image/png;base64,iVBORw0KGgoAAAANSUhEUgAAABwAAAAcCAAAAABXZoBIAAAA+ElEQVR4nGNgoBjwNpew4ZTs//fvbSk3Dsm2f//+/XtpzopVkmPTiq///v3rxWVy0NN//54V45LV+ffv3y4kPhOypBgDw7clODQaP/737wAOOfZt//59isQhN/nfv3/Z2OXYIv79+7xQCLtk6b9//y4j8VWR2Dqb//37HIzgR69G+IN5479/X4JgPJ+IiHv/8uCSRf/+fQ1kYGBgYJCKO3Tr579///69ZWBghEh+5GV4Ls0gFMQQrSUK08DEwAJh3DZiEH/OwCIMk2C8eOQI3Fj+f8hgXpwQF5JjWfoQUjfjYA5lhNF8xQwMDKtvyjE8+vcHe0gMdgAAeuttL/jv/i0AAAAASUVORK5CYII='/></td>\n",
       "    </tr>\n",
       "    <tr>\n",
       "      <th>9</th>\n",
       "      <td>12398</td>\n",
       "      <td>2</td>\n",
       "      <td>0</td>\n",
       "      <td>0.973152</td>\n",
       "      <td>0.144222</td>\n",
       "      <td><img src='data:image/png;base64,iVBORw0KGgoAAAANSUhEUgAAABwAAAAcCAAAAABXZoBIAAABCUlEQVR4nM1QLU/EQBScR1DFdn/DtbYNshZNT59ezw/AXZC1hNxPoFgaHATcJqjjGhSWEhzkMPv2Ifp5LTgEM2oz+2bmPeCfgUbv0APK7Q8f58aYD7a8DieSWrJr+BaPxYxtx9vR7Ek3Z16EDQBgrxVn0mL17iQIAGC/FbUQCISvcusRDrydpm1eCm/NlqOdzDt2T5tcJwC0YxcNbFUKgazKGwCAyOBC8bUSqlneA6mSx8Pe0vKIg1UUjVG3JQDgxvB59hCExyQkdHba2i7ZVZlfN7tq7tRlxv01M7Z8ef7Ktl+yEJZ8sbioHDvOfIQ66UU/73pWR5hgrosNf5oimUoAAC8KflH+GN/v4bUo1KJOGgAAAABJRU5ErkJggg=='/></td>\n",
       "    </tr>\n",
       "  </tbody>\n",
       "</table>"
      ],
      "text/plain": [
       "<IPython.core.display.HTML object>"
      ]
     },
     "execution_count": 6,
     "metadata": {},
     "output_type": "execute_result"
    }
   ],
   "source": [
    "HTML(viz_table(e.viz.wrong_certain))"
   ]
  },
  {
   "cell_type": "code",
   "execution_count": 7,
   "metadata": {
    "collapsed": false
   },
   "outputs": [
    {
     "data": {
      "text/plain": [
       "<matplotlib.figure.Figure at 0x1131ecc50>"
      ]
     },
     "metadata": {},
     "output_type": "display_data"
    },
    {
     "data": {
      "image/png": "[encoded data removed]",
      "text/plain": [
       "<matplotlib.figure.Figure at 0x1133e8198>"
      ]
     },
     "metadata": {},
     "output_type": "display_data"
    }
   ],
   "source": [
    "plot_images(e.viz.wrong_uncertain, lambda r: '%d (%.2f)' % (r.pred_class, r.p), lambda r: r.proc_image, show=True)"
   ]
  },
  {
   "cell_type": "code",
   "execution_count": 8,
   "metadata": {
    "collapsed": false
   },
   "outputs": [
    {
     "data": {
      "text/html": [
       "<div>\n",
       "<table border=\"1\" class=\"dataframe\">\n",
       "  <thead>\n",
       "    <tr style=\"text-align: right;\">\n",
       "      <th></th>\n",
       "      <th>step</th>\n",
       "      <th>seen</th>\n",
       "      <th>train_acc</th>\n",
       "      <th>train_loss</th>\n",
       "      <th>valid_acc</th>\n",
       "      <th>valid_loss</th>\n",
       "    </tr>\n",
       "  </thead>\n",
       "  <tbody>\n",
       "    <tr>\n",
       "      <th>0</th>\n",
       "      <td>0</td>\n",
       "      <td>0</td>\n",
       "      <td>0.100</td>\n",
       "      <td>3.24185</td>\n",
       "      <td>0.100</td>\n",
       "      <td>3.23519</td>\n",
       "    </tr>\n",
       "    <tr>\n",
       "      <th>1</th>\n",
       "      <td>25</td>\n",
       "      <td>2500</td>\n",
       "      <td>0.100</td>\n",
       "      <td>2.36961</td>\n",
       "      <td>0.100</td>\n",
       "      <td>2.36969</td>\n",
       "    </tr>\n",
       "    <tr>\n",
       "      <th>2</th>\n",
       "      <td>50</td>\n",
       "      <td>5000</td>\n",
       "      <td>0.100</td>\n",
       "      <td>2.34469</td>\n",
       "      <td>0.100</td>\n",
       "      <td>2.34317</td>\n",
       "    </tr>\n",
       "    <tr>\n",
       "      <th>3</th>\n",
       "      <td>75</td>\n",
       "      <td>7500</td>\n",
       "      <td>0.230</td>\n",
       "      <td>2.33303</td>\n",
       "      <td>0.215</td>\n",
       "      <td>2.33338</td>\n",
       "    </tr>\n",
       "    <tr>\n",
       "      <th>4</th>\n",
       "      <td>100</td>\n",
       "      <td>10000</td>\n",
       "      <td>0.275</td>\n",
       "      <td>2.32192</td>\n",
       "      <td>0.255</td>\n",
       "      <td>2.31054</td>\n",
       "    </tr>\n",
       "  </tbody>\n",
       "</table>\n",
       "</div>"
      ],
      "text/plain": [
       "   step   seen  train_acc  train_loss  valid_acc  valid_loss\n",
       "0     0      0      0.100     3.24185      0.100     3.23519\n",
       "1    25   2500      0.100     2.36961      0.100     2.36969\n",
       "2    50   5000      0.100     2.34469      0.100     2.34317\n",
       "3    75   7500      0.230     2.33303      0.215     2.33338\n",
       "4   100  10000      0.275     2.32192      0.255     2.31054"
      ]
     },
     "execution_count": 8,
     "metadata": {},
     "output_type": "execute_result"
    }
   ],
   "source": [
    "e.learning_curve.head()"
   ]
  },
  {
   "cell_type": "code",
   "execution_count": 9,
   "metadata": {
    "collapsed": false
   },
   "outputs": [
    {
     "data": {
      "text/plain": [
       "<matplotlib.figure.Figure at 0x113b46390>"
      ]
     },
     "metadata": {},
     "output_type": "display_data"
    },
    {
     "data": {
      "image/png": "[encoded data removed]",
      "text/plain": [
       "<matplotlib.figure.Figure at 0x113b05f28>"
      ]
     },
     "metadata": {},
     "output_type": "display_data"
    }
   ],
   "source": [
    "plot_learning(e.learning_curve, show=True)"
   ]
  },
  {
   "cell_type": "code",
   "execution_count": 10,
   "metadata": {
    "collapsed": false
   },
   "outputs": [
    {
     "data": {
      "text/plain": [
       "<matplotlib.figure.Figure at 0x113cd0cc0>"
      ]
     },
     "metadata": {},
     "output_type": "display_data"
    },
    {
     "data": {
      "image/png": "[encoded data removed]",
      "text/plain": [
       "<matplotlib.figure.Figure at 0x113cc9da0>"
      ]
     },
     "metadata": {},
     "output_type": "display_data"
    }
   ],
   "source": [
    "plot_weights(e.conv_weights, 0, show=True)"
   ]
  },
  {
   "cell_type": "code",
   "execution_count": null,
   "metadata": {
    "collapsed": true
   },
   "outputs": [],
   "source": []
  }
 ],
 "metadata": {
  "anaconda-cloud": {},
  "kernelspec": {
   "display_name": "Python [default]",
   "language": "python",
   "name": "python3"
  },
  "language_info": {
   "codemirror_mode": {
    "name": "ipython",
    "version": 3
   },
   "file_extension": ".py",
   "mimetype": "text/x-python",
   "name": "python",
   "nbconvert_exporter": "python",
   "pygments_lexer": "ipython3",
   "version": "3.5.2"
  }
 },
 "nbformat": 4,
 "nbformat_minor": 1
}
