{
 "cells": [
  {
   "cell_type": "code",
   "execution_count": 1,
   "metadata": {
    "collapsed": false
   },
   "outputs": [
    {
     "name": "stdout",
     "output_type": "stream",
     "text": [
      "ready\n"
     ]
    }
   ],
   "source": [
    "import sys\n",
    "for p in ['..']:\n",
    "  if p not in sys.path:\n",
    "    sys.path.insert(0, p)\n",
    "\n",
    "import math\n",
    "\n",
    "import matplotlib.pyplot as plt\n",
    "import numpy as np\n",
    "import pandas as pd\n",
    "from IPython.core.display import HTML\n",
    "\n",
    "from digits.data import Env\n",
    "from digits.explore import *\n",
    "\n",
    "%matplotlib inline\n",
    "\n",
    "env = Env('..')\n",
    "env.assert_ready()\n",
    "print(\"ready\")"
   ]
  },
  {
   "cell_type": "code",
   "execution_count": 2,
   "metadata": {
    "collapsed": false
   },
   "outputs": [],
   "source": [
    "model = 'tf'\n",
    "variant = 'mnist'\n",
    "e = explore(env, model, variant, 'test', assert_complete=True)"
   ]
  },
  {
   "cell_type": "code",
   "execution_count": 3,
   "metadata": {
    "collapsed": false
   },
   "outputs": [
    {
     "data": {
      "text/plain": [
       "0.82499999999999996"
      ]
     },
     "execution_count": 3,
     "metadata": {},
     "output_type": "execute_result"
    }
   ],
   "source": [
    "e.metrics.accuracy()"
   ]
  },
  {
   "cell_type": "code",
   "execution_count": 4,
   "metadata": {
    "collapsed": false
   },
   "outputs": [
    {
     "data": {
      "text/plain": [
       "array([ 0.102     ,  0.11228571,  0.09971429,  0.1045    ,  0.10057143,\n",
       "        0.08635714,  0.09678571,  0.1015    ,  0.19628571])"
      ]
     },
     "execution_count": 4,
     "metadata": {},
     "output_type": "execute_result"
    }
   ],
   "source": [
    "e.metrics.gold_class_dist()"
   ]
  },
  {
   "cell_type": "code",
   "execution_count": 5,
   "metadata": {
    "collapsed": false
   },
   "outputs": [
    {
     "data": {
      "text/plain": [
       "array([ 0.10478571,  0.115     ,  0.11007143,  0.10107143,  0.10007143,\n",
       "        0.05971429,  0.089     ,  0.08621429,  0.23407143])"
      ]
     },
     "execution_count": 5,
     "metadata": {},
     "output_type": "execute_result"
    }
   ],
   "source": [
    "e.metrics.pred_class_dist()"
   ]
  },
  {
   "cell_type": "code",
   "execution_count": 12,
   "metadata": {
    "collapsed": false,
    "scrolled": true
   },
   "outputs": [
    {
     "data": {
      "text/html": [
       "<table border=\"1\" class=\"dataframe\">\n",
       "  <thead>\n",
       "    <tr style=\"text-align: right;\">\n",
       "      <th></th>\n",
       "      <th>index</th>\n",
       "      <th>gold_class</th>\n",
       "      <th>pred_class</th>\n",
       "      <th>p</th>\n",
       "      <th>entropy</th>\n",
       "      <th>proc_image</th>\n",
       "    </tr>\n",
       "  </thead>\n",
       "  <tbody>\n",
       "    <tr>\n",
       "      <th>0</th>\n",
       "      <td>13823</td>\n",
       "      <td>7</td>\n",
       "      <td>0</td>\n",
       "      <td>0.996450</td>\n",
       "      <td>0.026929</td>\n",
       "      <td><img src='data:image/png;base64,iVBORw0KGgoAAAANSUhEUgAAABwAAAAcCAAAAABXZoBIAAAA90lEQVR4nN3QsUpDMRTG8b/SycWlHS6CIOLQRQdxks71ouBQBx9AkKLPUvoIvoEK4uBmXRx08YKD0OE66GDf4PglLt4kt7Q+gGcI+fJLTkLgP1Z+JclLl3meL01ZX2Zmv8M6AI2A+1AaC81lgLvvk4cU4f54Ar1dWDtYJTa+vckOP3VWxVb33R4Dekny57HJmxTudA54HUX0DmAxLpQvYdpq8BGCzMxO476hWbeO0XbGKXpJe6RxvF17kI/oHNfPaduvTkgrslGTFAchbBXV31ZYtsO5wupIPwvTDckXGTPr6MKs2JxtDM3KOeegN3lqzzPo/GFp/QDu13gXJlWQ1AAAAABJRU5ErkJggg=='/></td>\n",
       "    </tr>\n",
       "    <tr>\n",
       "      <th>1</th>\n",
       "      <td>208</td>\n",
       "      <td>9</td>\n",
       "      <td>2</td>\n",
       "      <td>0.984361</td>\n",
       "      <td>0.106932</td>\n",
       "      <td><img src='data:image/png;base64,iVBORw0KGgoAAAANSUhEUgAAABwAAAAcCAAAAABXZoBIAAABEUlEQVR4nM3Qv0sDMRwF8FeVHhQKhRtEuVvFP8GhIK5aKgodXJy8Vaijg5NrXdyk4CoIgl11Fx1UXK6LiFBRbpAqxYK81zhE1PtRFxcfhHzJhyTfBPinKb8YtRuVTJuNKJK95Qwbj0iRVHe/kEKfvKh6c12R1RQ2JA8AFiUVv5dH7GQMAODkzJi1JB6g0weAt4fYgRaf4OYBAM3LdLfFK03bqvIeOP5YXFcZTtpqwQnYiuNUxLtNF4Bf2yO5Etddio/3G/UbimQ9ce35q6TB59hKNlW+tl/YPwzZmwEA5H60vDQP1zyfNtd3cke19JPg5AEUWrqdyECbYKB2aah2SA9fH5/I9tBtAErh8ehv/rd8ABIGdqF1MX8wAAAAAElFTkSuQmCC'/></td>\n",
       "    </tr>\n",
       "    <tr>\n",
       "      <th>2</th>\n",
       "      <td>5126</td>\n",
       "      <td>3</td>\n",
       "      <td>7</td>\n",
       "      <td>0.982182</td>\n",
       "      <td>0.110310</td>\n",
       "      <td><img src='data:image/png;base64,iVBORw0KGgoAAAANSUhEUgAAABwAAAAcCAAAAABXZoBIAAAAzElEQVR4nGNgGGZAdNalldY2UlhkvK98+vbv+b9ff759WuDmJogkw8jAcMzi6rOLu1nfs5m7M5jwvu3afANJXuvUAjhb0GbC+yv2yOYKciHYbGrr/20vFMbqMu8nX/79e/vHGcJjQZWUkmK4LF37cS9WnayLv3tKYJVhYGBgEJ76YB0PTlkWz697DXHKMmjdXSeKS4477v3/x9ilpEpu//v3fSY2KYv+j//+/XufhEUqes6nf/+uzK4SgQkwIknytujc2PLwGm6nDjgAAA6iSFGXgEcxAAAAAElFTkSuQmCC'/></td>\n",
       "    </tr>\n",
       "    <tr>\n",
       "      <th>3</th>\n",
       "      <td>2365</td>\n",
       "      <td>3</td>\n",
       "      <td>2</td>\n",
       "      <td>0.975308</td>\n",
       "      <td>0.136084</td>\n",
       "      <td><img src='data:image/png;base64,iVBORw0KGgoAAAANSUhEUgAAABwAAAAcCAAAAABXZoBIAAABC0lEQVR4nM2RsUrDYBSFv9SgpTFFHBU6qdn0AaToA2RwrIqTLo6+guiquAii1U4d+wzSpYsZROhWpHXQJZqKBZdTHJpoUn43B8/wc7jfuRfu/eGfyRq9k/4KnRuAdoOTKBPZUFpBIS7bANwBH93qdvPJ25tgMMx0Hupxf2FkW9J1LgPzu15iK5JmM2M/q+loX7HJToBiBer9X1arS1ozo5mLN+lyysiWG9LLWd6EilehpGMDKey07iWpvTpO7K3gIbldGKx/1y0ANwKg+cxcGaLTo3SnK73Xar4Djn8rvZbTMFcqzSfeOZCi+FtsgGHvJzgIwR2/WyKvK2nazJa6kjYtI1vsSTo3sz/TF+kecUspHqJPAAAAAElFTkSuQmCC'/></td>\n",
       "    </tr>\n",
       "    <tr>\n",
       "      <th>4</th>\n",
       "      <td>7162</td>\n",
       "      <td>3</td>\n",
       "      <td>2</td>\n",
       "      <td>0.971140</td>\n",
       "      <td>0.158499</td>\n",
       "      <td><img src='data:image/png;base64,iVBORw0KGgoAAAANSUhEUgAAABwAAAAcCAAAAABXZoBIAAABKUlEQVR4nGNgoDVgd+o+/e/fv3/eWOSMd//9++/v7fM/v1ljyHGf+XvE37VKmKHk/h5hDFlZPU4Io/uvK1SIBS75+DGM9fohTnd5/+vALiHlsmjR1704dN3/+/fv31Dscp3//j459Pcydsnn/zYbcDb8wW6naRYDAwOD778AKJ+RgYGBVYuB4fUzuBLhW9ddv8MlJZ4yMDy882oRA8OtBwwMDAx+6wM2o0gyMP5nYGB4+Yph0WtG9srD8XBzeK/8/ft36t+/f//+gxK5EAkWBgaGz0616SwJLsd+MjB4azIwMPrafENxp8+tf393ubBCOPp/9RA6GRgYtlwxKHF2PvR72zWGBwpKbz+je5LTd+HXf3///n35740jtkAQDetc+fdvA2ZcDxYAAGtLeFPvTaBgAAAAAElFTkSuQmCC'/></td>\n",
       "    </tr>\n",
       "    <tr>\n",
       "      <th>5</th>\n",
       "      <td>10195</td>\n",
       "      <td>7</td>\n",
       "      <td>0</td>\n",
       "      <td>0.971990</td>\n",
       "      <td>0.163091</td>\n",
       "      <td><img src='data:image/png;base64,iVBORw0KGgoAAAANSUhEUgAAABwAAAAcCAAAAABXZoBIAAAA+UlEQVR4nGNgGDaAEZUrHs/AYHHz0nJ0ZVYrXr9+/f7fv3///v3qVEXRkX3t3T8k0IlkrFhcFwMDw4uHE54xMDBYJqsyfNB5Bte4/9+/f4+C9KE8j+///pUiTH3979/fRAT3BFSSCSZwfz6mVyCS0jfRhL+fRUj++s9wHkXy6z4EO+D7vyAEz+Xrv1dIxgqxI2sT4GR4iiTJz3jnNEIykuFPO5La1/8qERyHD//akA16fVMBwfn07583iuQmBNv4+79uFiS59D8ISZN3/x6jxEnZcxsYk30NLEpgINkSxlLe8+/VHC4GrICt589sQ+xSDAwTnmTgksIAABQYaCVfJCBzAAAAAElFTkSuQmCC'/></td>\n",
       "    </tr>\n",
       "    <tr>\n",
       "      <th>6</th>\n",
       "      <td>12335</td>\n",
       "      <td>3</td>\n",
       "      <td>2</td>\n",
       "      <td>0.968931</td>\n",
       "      <td>0.163664</td>\n",
       "      <td><img src='data:image/png;base64,iVBORw0KGgoAAAANSUhEUgAAABwAAAAcCAAAAABXZoBIAAAA+0lEQVR4nM2RMVPCQBCFXxwqbJPWNkkbpfU/eC1QktbelPIfdLByqNHSFoYyg5WEdMxYGbUz5e0uBZCEwyudcbe4m/nu7b43B/xJObvTO8MAsTir+cPCfOOlpHf9oY4hE1OZpmumrG2OdXs+nt9zuDPf6bzaTGTE0f7eMljii03mTYjp8354/gtL1nvPyREbM1UdAcBJAwYiIl+jfudJJDSV4TiNXQC4IO7abKGnKbIxxVQGQJ0zVP53Pl8BgHoU6eeNbZOtx1vgdMjERWPOZZXvJV5q0kVzY0ZCUmcsDnJUf6lJk54eOlU/tbK8Mc1fLbeqt7vrwJr+H9QGYt+q4vvneYwAAAAASUVORK5CYII='/></td>\n",
       "    </tr>\n",
       "    <tr>\n",
       "      <th>7</th>\n",
       "      <td>12548</td>\n",
       "      <td>5</td>\n",
       "      <td>2</td>\n",
       "      <td>0.968693</td>\n",
       "      <td>0.179867</td>\n",
       "      <td><img src='data:image/png;base64,iVBORw0KGgoAAAANSUhEUgAAABwAAAAcCAAAAABXZoBIAAAA4ElEQVR4nM3QsU4CQRSF4eNmE0ncBBIorGQLHoCODih5BRstbQmljaGwIeERMPEBtLMja2UHHS2JjQlBK2L3585aQIKz7FIabzU338zcMyP9STXXlt4W2PkS7Pt61wU+li4kndbzT/aAYb2cjwlQmCc2s32XmSnnXK0QJY2OYfG1x/D9PghOfAz7SbKLkTp3VvL2x8DDdtn5Yu5/UDiGzU0sSfEHm5Y/qrnCmFUl3YG1M7m6lpoNGoqezdJOBiuPBixe34CXysGbngCMfbTfFU22+DmtHqKiqxUGlzn0b+oHNl1f1/wCGRwAAAAASUVORK5CYII='/></td>\n",
       "    </tr>\n",
       "    <tr>\n",
       "      <th>8</th>\n",
       "      <td>2562</td>\n",
       "      <td>7</td>\n",
       "      <td>4</td>\n",
       "      <td>0.959321</td>\n",
       "      <td>0.191929</td>\n",
       "      <td><img src='data:image/png;base64,iVBORw0KGgoAAAANSUhEUgAAABwAAAAcCAAAAABXZoBIAAAAzUlEQVR4nO2PPwtBYRTGH2WhTHci2dxdltdE2aRk4ROQxXIXk/JBfIdbNqWMTAarhRKllEF3Os/7Wq4/F+9m9NSpU7/zPOcc4C/E7k3LAFjsv4zUlzuKCE8733PfWI+kIalJao4akVia8+Y6RqFinHzMALnDi1OpfNg5arAVWWeryWh2pl7sAPDGIjwFkcvK+rGT1DwOASAewrQxAMJqY36O/Kng1gAgWXs6PtQQ6dpYSnOVssEZL00bqwbs2ximMknYWOnqW31wlJ39TjeiRVeZSt/TXgAAAABJRU5ErkJggg=='/></td>\n",
       "    </tr>\n",
       "    <tr>\n",
       "      <th>9</th>\n",
       "      <td>2756</td>\n",
       "      <td>2</td>\n",
       "      <td>0</td>\n",
       "      <td>0.959588</td>\n",
       "      <td>0.192620</td>\n",
       "      <td><img src='data:image/png;base64,iVBORw0KGgoAAAANSUhEUgAAABwAAAAcCAAAAABXZoBIAAABEklEQVR4nGNgoD9gROaIxShlr7+74N1zLAplV/758/fPnz+PGkUx5MSufnq+e8LzT3/+/K1mQpfsfm7MwMDAoJV//e+fMnTJvwFQhtDFPx+U0STX28NYQjf/7mNgYGBAMjzmL4z17tD//2iSX4/AmbsgFIazGBgYGBikYdLYwL7XfEg6FdSR5Ti4939C8Pgvf1/Mh+DO/RONpFT7z5c/+/PYIBy2mX+rmFAkW/I//c1XYGBgYGCb/WcNSthq/6ljUJ78aHMAAwPDzD8X0Jy3/wWEFpry+EUxuttnf09mYGBgEDv+90EIhsfYH36fIMTR8PbPKg0MOQaG1D9/3h/9cykVixQDA0vXn79/0vmwytEVAAAsBGH8HAEC2AAAAABJRU5ErkJggg=='/></td>\n",
       "    </tr>\n",
       "  </tbody>\n",
       "</table>"
      ],
      "text/plain": [
       "<IPython.core.display.HTML object>"
      ]
     },
     "execution_count": 12,
     "metadata": {},
     "output_type": "execute_result"
    }
   ],
   "source": [
    "HTML(viz_table(e.viz.wrong_certain))"
   ]
  },
  {
   "cell_type": "code",
   "execution_count": 11,
   "metadata": {
    "collapsed": false
   },
   "outputs": [
    {
     "data": {
      "text/plain": [
       "<matplotlib.figure.Figure at 0x1145cf978>"
      ]
     },
     "metadata": {},
     "output_type": "display_data"
    },
    {
     "data": {
      "image/png": "[encoded data removed]",
      "text/plain": [
       "<matplotlib.figure.Figure at 0x114581748>"
      ]
     },
     "metadata": {},
     "output_type": "display_data"
    }
   ],
   "source": [
    "plot_images(e.viz.wrong_uncertain, lambda r: '%d (%.2f)' % (r.pred_class, r.p), lambda r: r.proc_image, show=True)"
   ]
  },
  {
   "cell_type": "code",
   "execution_count": 8,
   "metadata": {
    "collapsed": false
   },
   "outputs": [
    {
     "data": {
      "text/html": [
       "<div>\n",
       "<table border=\"1\" class=\"dataframe\">\n",
       "  <thead>\n",
       "    <tr style=\"text-align: right;\">\n",
       "      <th></th>\n",
       "      <th>step</th>\n",
       "      <th>seen</th>\n",
       "      <th>train_acc</th>\n",
       "      <th>train_loss</th>\n",
       "      <th>valid_acc</th>\n",
       "      <th>valid_loss</th>\n",
       "    </tr>\n",
       "  </thead>\n",
       "  <tbody>\n",
       "    <tr>\n",
       "      <th>0</th>\n",
       "      <td>0</td>\n",
       "      <td>0</td>\n",
       "      <td>0.100</td>\n",
       "      <td>4.252360</td>\n",
       "      <td>0.100</td>\n",
       "      <td>4.250620</td>\n",
       "    </tr>\n",
       "    <tr>\n",
       "      <th>1</th>\n",
       "      <td>25</td>\n",
       "      <td>2500</td>\n",
       "      <td>0.195</td>\n",
       "      <td>2.248740</td>\n",
       "      <td>0.250</td>\n",
       "      <td>2.238330</td>\n",
       "    </tr>\n",
       "    <tr>\n",
       "      <th>2</th>\n",
       "      <td>50</td>\n",
       "      <td>5000</td>\n",
       "      <td>0.700</td>\n",
       "      <td>0.975357</td>\n",
       "      <td>0.715</td>\n",
       "      <td>0.988756</td>\n",
       "    </tr>\n",
       "    <tr>\n",
       "      <th>3</th>\n",
       "      <td>75</td>\n",
       "      <td>7500</td>\n",
       "      <td>0.830</td>\n",
       "      <td>0.553016</td>\n",
       "      <td>0.795</td>\n",
       "      <td>0.822492</td>\n",
       "    </tr>\n",
       "    <tr>\n",
       "      <th>4</th>\n",
       "      <td>100</td>\n",
       "      <td>10000</td>\n",
       "      <td>0.865</td>\n",
       "      <td>0.529687</td>\n",
       "      <td>0.870</td>\n",
       "      <td>0.569091</td>\n",
       "    </tr>\n",
       "  </tbody>\n",
       "</table>\n",
       "</div>"
      ],
      "text/plain": [
       "   step   seen  train_acc  train_loss  valid_acc  valid_loss\n",
       "0     0      0      0.100    4.252360      0.100    4.250620\n",
       "1    25   2500      0.195    2.248740      0.250    2.238330\n",
       "2    50   5000      0.700    0.975357      0.715    0.988756\n",
       "3    75   7500      0.830    0.553016      0.795    0.822492\n",
       "4   100  10000      0.865    0.529687      0.870    0.569091"
      ]
     },
     "execution_count": 8,
     "metadata": {},
     "output_type": "execute_result"
    }
   ],
   "source": [
    "e.learning_curve.head()"
   ]
  },
  {
   "cell_type": "code",
   "execution_count": 9,
   "metadata": {
    "collapsed": false
   },
   "outputs": [
    {
     "data": {
      "text/plain": [
       "<matplotlib.figure.Figure at 0x1131ed550>"
      ]
     },
     "metadata": {},
     "output_type": "display_data"
    },
    {
     "data": {
      "image/png": "[encoded data removed]",
      "text/plain": [
       "<matplotlib.figure.Figure at 0x113bd6f60>"
      ]
     },
     "metadata": {},
     "output_type": "display_data"
    }
   ],
   "source": [
    "plot_learning(e.learning_curve, show=True)"
   ]
  },
  {
   "cell_type": "code",
   "execution_count": 10,
   "metadata": {
    "collapsed": false
   },
   "outputs": [
    {
     "data": {
      "text/plain": [
       "<matplotlib.figure.Figure at 0x113eb9e48>"
      ]
     },
     "metadata": {},
     "output_type": "display_data"
    },
    {
     "data": {
      "image/png": "[encoded data removed]",
      "text/plain": [
       "<matplotlib.figure.Figure at 0x113ecaf98>"
      ]
     },
     "metadata": {},
     "output_type": "display_data"
    }
   ],
   "source": [
    "plot_weights(e.conv_weights, 0, show=True)"
   ]
  },
  {
   "cell_type": "code",
   "execution_count": null,
   "metadata": {
    "collapsed": true
   },
   "outputs": [],
   "source": []
  }
 ],
 "metadata": {
  "anaconda-cloud": {},
  "kernelspec": {
   "display_name": "Python [default]",
   "language": "python",
   "name": "python3"
  },
  "language_info": {
   "codemirror_mode": {
    "name": "ipython",
    "version": 3
   },
   "file_extension": ".py",
   "mimetype": "text/x-python",
   "name": "python",
   "nbconvert_exporter": "python",
   "pygments_lexer": "ipython3",
   "version": "3.5.2"
  }
 },
 "nbformat": 4,
 "nbformat_minor": 1
}
