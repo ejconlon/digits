{
 "cells": [
  {
   "cell_type": "code",
   "execution_count": 1,
   "metadata": {
    "collapsed": false
   },
   "outputs": [
    {
     "name": "stdout",
     "output_type": "stream",
     "text": [
      "ready\n"
     ]
    }
   ],
   "source": [
    "import sys\n",
    "for p in ['..']:\n",
    "  if p not in sys.path:\n",
    "    sys.path.insert(0, p)\n",
    "\n",
    "from collections import namedtuple\n",
    "import csv\n",
    "import os\n",
    "import pickle\n",
    "\n",
    "import matplotlib.pyplot as plt\n",
    "import numpy as np\n",
    "import pandas as pd\n",
    "from IPython.core.display import HTML\n",
    "\n",
    "from digits.data import Env\n",
    "from digits.explore import *\n",
    "\n",
    "%matplotlib inline\n",
    "\n",
    "env = Env('..')\n",
    "env.assert_ready()\n",
    "print(\"ready\")"
   ]
  },
  {
   "cell_type": "code",
   "execution_count": 2,
   "metadata": {
    "collapsed": false
   },
   "outputs": [],
   "source": [
    "model = 'tf'\n",
    "variant = 'mnist'\n",
    "e = explore(env, model, variant, 'test', assert_complete=True)"
   ]
  },
  {
   "cell_type": "code",
   "execution_count": 3,
   "metadata": {
    "collapsed": false
   },
   "outputs": [
    {
     "data": {
      "text/plain": [
       "0.84214285714285719"
      ]
     },
     "execution_count": 3,
     "metadata": {},
     "output_type": "execute_result"
    }
   ],
   "source": [
    "e.metrics.accuracy()"
   ]
  },
  {
   "cell_type": "code",
   "execution_count": 4,
   "metadata": {
    "collapsed": false
   },
   "outputs": [
    {
     "data": {
      "text/plain": [
       "array([ 0.102     ,  0.11228571,  0.09971429,  0.1045    ,  0.10057143,\n",
       "        0.08635714,  0.09678571,  0.1015    ,  0.19628571])"
      ]
     },
     "execution_count": 4,
     "metadata": {},
     "output_type": "execute_result"
    }
   ],
   "source": [
    "e.metrics.gold_class_dist()"
   ]
  },
  {
   "cell_type": "code",
   "execution_count": 5,
   "metadata": {
    "collapsed": false
   },
   "outputs": [
    {
     "data": {
      "text/plain": [
       "array([ 0.10321429,  0.12528571,  0.11114286,  0.10307143,  0.10092857,\n",
       "        0.08407143,  0.09492857,  0.10342857,  0.17392857])"
      ]
     },
     "execution_count": 5,
     "metadata": {},
     "output_type": "execute_result"
    }
   ],
   "source": [
    "e.metrics.pred_class_dist()"
   ]
  },
  {
   "cell_type": "code",
   "execution_count": 6,
   "metadata": {
    "collapsed": false,
    "scrolled": false
   },
   "outputs": [
    {
     "data": {
      "text/html": [
       "<table border=\"1\" class=\"dataframe\">\n",
       "  <thead>\n",
       "    <tr style=\"text-align: right;\">\n",
       "      <th></th>\n",
       "      <th>index</th>\n",
       "      <th>gold_class</th>\n",
       "      <th>pred_class</th>\n",
       "      <th>p</th>\n",
       "      <th>entropy</th>\n",
       "      <th>proc_image</th>\n",
       "    </tr>\n",
       "  </thead>\n",
       "  <tbody>\n",
       "    <tr>\n",
       "      <th>0</th>\n",
       "      <td>2454</td>\n",
       "      <td>8</td>\n",
       "      <td>6</td>\n",
       "      <td>0.262348</td>\n",
       "      <td>2.050385</td>\n",
       "      <td><img src='data:image/png;base64,iVBORw0KGgoAAAANSUhEUgAAABwAAAAcCAAAAABXZoBIAAAA00lEQVR4nGNgGDaAEV1A3kD19vZf2JRqduz9+O/v3zxscsFf/v69bmV1sBSLnPjNf1dN4Txza2Q59/Mf+3igbOWAnTeTkeQkP/x1gTI9Sx7cyGZD1uj/9y8DAwMDg0bjq99/V3Kh2mjw9S8DA4Np+7+/99KtMNwz45+t0Zx//25Nk8PiWIVnz75/32LLj0WKIfTm338XzbDJMHAt//733rt2VEEmKL0wjG2awTqs+hgY/v87yMqwuQO75OK/f29e+xiBKgiLMiEbBuPHux7hMHewAAByC0w/bgYQRwAAAABJRU5ErkJggg=='/></td>\n",
       "    </tr>\n",
       "    <tr>\n",
       "      <th>1</th>\n",
       "      <td>1779</td>\n",
       "      <td>0</td>\n",
       "      <td>8</td>\n",
       "      <td>0.221081</td>\n",
       "      <td>2.027171</td>\n",
       "      <td><img src='data:image/png;base64,iVBORw0KGgoAAAANSUhEUgAAABwAAAAcCAAAAABXZoBIAAAA40lEQVR4nL3OPUuCYRTG8b8vKb6A0KAIiqHkYy1+hHQTZ7+Cq6uL4CA0J4hDDfoF/AAiSEVjITQpPAghKoI4+ECg4LEpMDrP6rXd9+9wzgXnj+PP67J8fVNa6pNXq0XncxLTsTErEpfnC82SVh3oi6Fh+90FVKX2++E86WaYB6CPX0Fv/g1g8z1WMMcQIOjPKic/pi6AgqQUXJsAvIpXWfs/JzgPhgBPmIgy15VboCiWx3atwdPeDqMVetpNEyCT2H1p3TJyB4/SVIs7Bi+BB9mmVeReRsdjSzfcjb1V8NngufID9085w8Bw0V0AAAAASUVORK5CYII='/></td>\n",
       "    </tr>\n",
       "    <tr>\n",
       "      <th>2</th>\n",
       "      <td>8165</td>\n",
       "      <td>7</td>\n",
       "      <td>9</td>\n",
       "      <td>0.215087</td>\n",
       "      <td>2.011393</td>\n",
       "      <td><img src='data:image/png;base64,iVBORw0KGgoAAAANSUhEUgAAABwAAAAcCAAAAABXZoBIAAAAvklEQVR4nGNgGEqAEUpL6SgxKBj/l1w76xmmog3//v79e/7ck7+xSIIsUPr7lDkMDJcYNK4yYJGMhFDGKMYxoZpeyohbkpPjP2636//9K4hTpzPDnve4NMZf+ffv379//2IxZGy2PPv39+/f4kB1cU50Oaefv490Lf/7F7uRb/wZGDxwSEJc++8fMhfVtd+//TfGKXnrNoMWTkmGvQxOuC3lvPRfHKfO71v+h+DWKvh1H4LDgib5fs0r3DqJBwAcB0CHiVv/bwAAAABJRU5ErkJggg=='/></td>\n",
       "    </tr>\n",
       "    <tr>\n",
       "      <th>3</th>\n",
       "      <td>10788</td>\n",
       "      <td>5</td>\n",
       "      <td>0</td>\n",
       "      <td>0.272761</td>\n",
       "      <td>1.994719</td>\n",
       "      <td><img src='data:image/png;base64,iVBORw0KGgoAAAANSUhEUgAAABwAAAAcCAAAAABXZoBIAAAA5ElEQVR4nGNgGMqATVUIt2T5v1AEhwVVLjOIoYtZi2G5iWodhj7n95+37vv3/9+/C93oUixZn394MLDIy8vL8zAwMDAwMCLk5AImMNw7zfB56Ymf6Np4tr389+/3z58/f/271W/PiioZ/e/ZxmQ1BgYG3uSp7/7NQpVUna0BZytPvI3bt5ZvjiHcMv2gDrJc4Ml/CxG8Z/++LdYQZ2BgYBcRUohY/vdfNBvCKz6NhgwMb84wMPDL/pNjYNi1aeFXJH9yeeoxhKsxMDAwvLm9RzvxM9REhMVWkgy6quvW/8PpzCENAPGXSGUOZmmBAAAAAElFTkSuQmCC'/></td>\n",
       "    </tr>\n",
       "    <tr>\n",
       "      <th>4</th>\n",
       "      <td>12235</td>\n",
       "      <td>0</td>\n",
       "      <td>8</td>\n",
       "      <td>0.241472</td>\n",
       "      <td>1.993680</td>\n",
       "      <td><img src='data:image/png;base64,iVBORw0KGgoAAAANSUhEUgAAABwAAAAcCAAAAABXZoBIAAAAzElEQVR4nGNgoAsI7UHiMKFJvnXFp/VhHR7J2ndqOOVs9v//+9wbqxR786s/f/9YYJUzPvPnT/2mP3FYJaf//VPPLHD9LC8WuaS//9oYGBhW/ZXBlLN/9eeiDAMDw8o/mJJcR//8kWRAkUSEUJk5Q9ZzrE5hYGD493cFhIGwE6Hz//9nMAamTpjnbV7tYoMKsWAo2sr97hcWO2/IMDDY7P93TxLT2NN//lxfufLVn+/pWFzLvvvPn79//vxJweoX4ZLuv3+uaWCVGyQAACVsUXPgbxoxAAAAAElFTkSuQmCC'/></td>\n",
       "    </tr>\n",
       "    <tr>\n",
       "      <th>5</th>\n",
       "      <td>5565</td>\n",
       "      <td>3</td>\n",
       "      <td>2</td>\n",
       "      <td>0.284073</td>\n",
       "      <td>1.983354</td>\n",
       "      <td><img src='data:image/png;base64,iVBORw0KGgoAAAANSUhEUgAAABwAAAAcCAAAAABXZoBIAAAAz0lEQVR4nGNgGJpAf86Hf/8/2GCTYq/6+vfH9Ud/p2KRk1/292ezEYP6RxRJFgglxt218QQDAxszAxbJ0/4MDAwMDF6cKJJMKDwNhp+4XfzorwVOuYJ/h1FMQuawBDN8q4wXx67R4e+/v3//3hfCKnnz3/+z8Rv+9WCTS/n5d44Eg+rnB9gk7/ztZWBgYFj4wxruCIRkmNIhBgYGhjesAlgkz51DN4sJXYCBHatjoeD1N32ccrpfrzLjkhN+/BdrYmBgYGBg6Po7hQefpUQCANYgPexgUKvoAAAAAElFTkSuQmCC'/></td>\n",
       "    </tr>\n",
       "    <tr>\n",
       "      <th>6</th>\n",
       "      <td>5849</td>\n",
       "      <td>7</td>\n",
       "      <td>2</td>\n",
       "      <td>0.188135</td>\n",
       "      <td>1.983098</td>\n",
       "      <td><img src='data:image/png;base64,iVBORw0KGgoAAAANSUhEUgAAABwAAAAcCAAAAABXZoBIAAAA1klEQVR4nGNgGKqAQ1vbdcqlv8FYpEL2nfzz58+fv3/0MeVKv/35++b52z9/lzFhSiZc3xsiyuDw5689NhuFGBgYGGb8ucWNy0nqf/9G4nRv/Z8/OOU4Hv3Zh1Ny9p838gwMDNoOZphyNZ/+fLp85fLl93++96DL2f37+/fv3/9///79e6WZk4GBgYEFIXl3g9/PE/Zn75w5zXAQ09ivf+rYRDlxuOfvcwFUAaSAjGSY+gGXP9Te/EMPVoROKYH/6OqxxA92yW/oViL8+fTw3ov4jCEJAABJClLJ694OxAAAAABJRU5ErkJggg=='/></td>\n",
       "    </tr>\n",
       "    <tr>\n",
       "      <th>7</th>\n",
       "      <td>13782</td>\n",
       "      <td>9</td>\n",
       "      <td>2</td>\n",
       "      <td>0.284167</td>\n",
       "      <td>1.981301</td>\n",
       "      <td><img src='data:image/png;base64,iVBORw0KGgoAAAANSUhEUgAAABwAAAAcCAAAAABXZoBIAAAA8UlEQVR4nGNgGMwg9vK/MFxy8T+fnf5tiF0u7sc0TqlbNljlZL9MY2BgWIIsyQRn9e7IQlfPAmPYuZswMDAwXNFXvXsIw9Tbu5gZGBgYGGr/XcaQS/qiCGEc+vcAw07j+/cZGBgYGGz1nmI6SHc6hK67240hKaz9iIGBgYEh0yDsCyO6JDPjfwYGBgaLhpq7L9m50SRf3WBgYGAwW3F+MQODmBK6nYeSOERnr78e/I2BAWEsDMi/ePb6VjQnAwOD91thmCAshB5K2HHuZGBgYGBg/PIWQysc8P1URbcTAZRZOXBLaiCYmJLq75/htpMqAAAnyDxeTS/uuwAAAABJRU5ErkJggg=='/></td>\n",
       "    </tr>\n",
       "    <tr>\n",
       "      <th>8</th>\n",
       "      <td>898</td>\n",
       "      <td>5</td>\n",
       "      <td>1</td>\n",
       "      <td>0.210717</td>\n",
       "      <td>1.980071</td>\n",
       "      <td><img src='data:image/png;base64,iVBORw0KGgoAAAANSUhEUgAAABwAAAAcCAAAAABXZoBIAAAAzUlEQVR4nGNgGHhgz4VbTueZGxKPCVUyXRK3RraHf5VwShb9mwJTJijAwMCILBc7977ZR35VO14GBv3/1y+sQZbUOMRdaahgwM/wefKn5Y9RzZQ4/S/6379/T+climLYx3ngXwV7ySx3XmyOaflXhtOh1h8XMeOSE79wzRinxsn/WnHKMaz49+tsv424OFaj2QuOP/n379+/C43CWDVzCfksuP7vXyoOsyV2/fu3mBObDLPL9Ef/3mRj1aV+9d+Ha/2COMzUyNbHIUNXAAA+xELVqSUhDwAAAABJRU5ErkJggg=='/></td>\n",
       "    </tr>\n",
       "    <tr>\n",
       "      <th>9</th>\n",
       "      <td>4927</td>\n",
       "      <td>9</td>\n",
       "      <td>4</td>\n",
       "      <td>0.262259</td>\n",
       "      <td>1.977685</td>\n",
       "      <td><img src='data:image/png;base64,iVBORw0KGgoAAAANSUhEUgAAABwAAAAcCAAAAABXZoBIAAAAuUlEQVR4nGNgGEqAEcHsKzj3QPro+QPP/2Eqc7kX6DVz59u3vw7JYkouOwKhiwO5MSWvzscQYoIx2Nmv4JaUluLH4+4V30QZGBgYulyx6GS4zeHHwMDAYOyGTfI8AwcDA0OoxjlsxjIdecLNwDDrnyU2nf9WSZUxcpoyYtHHwMDAcPDf9j3rsetkYAgouxP1GJdnGBgYGJJx6cR0IxrfBZ/kg1fncUveEdbBY+fvr7glpd9fx+dEYgEAAykwVcqeaN4AAAAASUVORK5CYII='/></td>\n",
       "    </tr>\n",
       "  </tbody>\n",
       "</table>"
      ],
      "text/plain": [
       "<IPython.core.display.HTML object>"
      ]
     },
     "execution_count": 6,
     "metadata": {},
     "output_type": "execute_result"
    }
   ],
   "source": [
    "HTML(viz_table(e.viz.wrong_uncertain))"
   ]
  },
  {
   "cell_type": "code",
   "execution_count": 7,
   "metadata": {
    "collapsed": false
   },
   "outputs": [
    {
     "data": {
      "text/plain": [
       "<matplotlib.figure.Figure at 0x1132f1358>"
      ]
     },
     "metadata": {},
     "output_type": "display_data"
    },
    {
     "data": {
      "image/png": "[encoded data removed]",
      "text/plain": [
       "<matplotlib.figure.Figure at 0x1134b1f98>"
      ]
     },
     "metadata": {},
     "output_type": "display_data"
    }
   ],
   "source": [
    "plot_images(e.viz.wrong_uncertain, 3, 2, lambda r: str(r.entropy), lambda r: r.proc_image, show=True)"
   ]
  },
  {
   "cell_type": "code",
   "execution_count": 8,
   "metadata": {
    "collapsed": false
   },
   "outputs": [
    {
     "data": {
      "text/html": [
       "<div>\n",
       "<table border=\"1\" class=\"dataframe\">\n",
       "  <thead>\n",
       "    <tr style=\"text-align: right;\">\n",
       "      <th></th>\n",
       "      <th>step</th>\n",
       "      <th>seen</th>\n",
       "      <th>train_acc</th>\n",
       "      <th>train_loss</th>\n",
       "      <th>valid_acc</th>\n",
       "      <th>valid_loss</th>\n",
       "    </tr>\n",
       "  </thead>\n",
       "  <tbody>\n",
       "    <tr>\n",
       "      <th>0</th>\n",
       "      <td>0</td>\n",
       "      <td>0</td>\n",
       "      <td>0.100</td>\n",
       "      <td>3.398970</td>\n",
       "      <td>0.100</td>\n",
       "      <td>3.399540</td>\n",
       "    </tr>\n",
       "    <tr>\n",
       "      <th>1</th>\n",
       "      <td>25</td>\n",
       "      <td>5000</td>\n",
       "      <td>0.424</td>\n",
       "      <td>2.174830</td>\n",
       "      <td>0.410</td>\n",
       "      <td>2.182580</td>\n",
       "    </tr>\n",
       "    <tr>\n",
       "      <th>2</th>\n",
       "      <td>50</td>\n",
       "      <td>10000</td>\n",
       "      <td>0.748</td>\n",
       "      <td>0.822234</td>\n",
       "      <td>0.768</td>\n",
       "      <td>0.762468</td>\n",
       "    </tr>\n",
       "    <tr>\n",
       "      <th>3</th>\n",
       "      <td>75</td>\n",
       "      <td>15000</td>\n",
       "      <td>0.864</td>\n",
       "      <td>0.600157</td>\n",
       "      <td>0.816</td>\n",
       "      <td>0.668129</td>\n",
       "    </tr>\n",
       "  </tbody>\n",
       "</table>\n",
       "</div>"
      ],
      "text/plain": [
       "   step   seen  train_acc  train_loss  valid_acc  valid_loss\n",
       "0     0      0      0.100    3.398970      0.100    3.399540\n",
       "1    25   5000      0.424    2.174830      0.410    2.182580\n",
       "2    50  10000      0.748    0.822234      0.768    0.762468\n",
       "3    75  15000      0.864    0.600157      0.816    0.668129"
      ]
     },
     "execution_count": 8,
     "metadata": {},
     "output_type": "execute_result"
    }
   ],
   "source": [
    "e.learning_curve.head()"
   ]
  },
  {
   "cell_type": "code",
   "execution_count": 9,
   "metadata": {
    "collapsed": false
   },
   "outputs": [
    {
     "data": {
      "text/plain": [
       "[<matplotlib.lines.Line2D at 0x113834c18>]"
      ]
     },
     "execution_count": 9,
     "metadata": {},
     "output_type": "execute_result"
    },
    {
     "data": {
      "image/png": "[encoded data removed]",
      "text/plain": [
       "<matplotlib.figure.Figure at 0x1136cfdd8>"
      ]
     },
     "metadata": {},
     "output_type": "display_data"
    }
   ],
   "source": [
    "plt.plot(e.learning_curve['train_acc'])\n",
    "plt.plot(e.learning_curve['valid_acc'])"
   ]
  },
  {
   "cell_type": "code",
   "execution_count": 11,
   "metadata": {
    "collapsed": false
   },
   "outputs": [
    {
     "name": "stdout",
     "output_type": "stream",
     "text": [
      "2\n",
      "(7, 7, 1, 32)\n",
      "(32, 7, 7)\n"
     ]
    },
    {
     "name": "stderr",
     "output_type": "stream",
     "text": [
      "/Users/charolastra/miniconda3/lib/python3.5/site-packages/matplotlib/pyplot.py:524: RuntimeWarning: More than 20 figures have been opened. Figures created through the pyplot interface (`matplotlib.pyplot.figure`) are retained until explicitly closed and may consume too much memory. (To control this warning, see the rcParam `figure.max_open_warning`).\n",
      "  max_open_warning, RuntimeWarning)\n"
     ]
    },
    {
     "data": {
      "image/png": "[encoded data removed]",
      "text/plain": [
       "<matplotlib.figure.Figure at 0x114d9a278>"
      ]
     },
     "metadata": {},
     "output_type": "display_data"
    },
    {
     "data": {
      "image/png": "[encoded data removed]",
      "text/plain": [
       "<matplotlib.figure.Figure at 0x114dff5c0>"
      ]
     },
     "metadata": {},
     "output_type": "display_data"
    },
    {
     "data": {
      "image/png": "[encoded data removed]",
      "text/plain": [
       "<matplotlib.figure.Figure at 0x114e4bd68>"
      ]
     },
     "metadata": {},
     "output_type": "display_data"
    },
    {
     "data": {
      "image/png": "[encoded data removed]",
      "text/plain": [
       "<matplotlib.figure.Figure at 0x114e92c18>"
      ]
     },
     "metadata": {},
     "output_type": "display_data"
    },
    {
     "data": {
      "image/png": "[encoded data removed]",
      "text/plain": [
       "<matplotlib.figure.Figure at 0x114ee86d8>"
      ]
     },
     "metadata": {},
     "output_type": "display_data"
    },
    {
     "data": {
      "image/png": "[encoded data removed]",
      "text/plain": [
       "<matplotlib.figure.Figure at 0x115828240>"
      ]
     },
     "metadata": {},
     "output_type": "display_data"
    },
    {
     "data": {
      "image/png": "[encoded data removed]",
      "text/plain": [
       "<matplotlib.figure.Figure at 0x115877358>"
      ]
     },
     "metadata": {},
     "output_type": "display_data"
    },
    {
     "data": {
      "image/png": "[encoded data removed]",
      "text/plain": [
       "<matplotlib.figure.Figure at 0x1158b7f28>"
      ]
     },
     "metadata": {},
     "output_type": "display_data"
    },
    {
     "data": {
      "image/png": "[encoded data removed]",
      "text/plain": [
       "<matplotlib.figure.Figure at 0x11590c710>"
      ]
     },
     "metadata": {},
     "output_type": "display_data"
    },
    {
     "data": {
      "image/png": "[encoded data removed]",
      "text/plain": [
       "<matplotlib.figure.Figure at 0x115952278>"
      ]
     },
     "metadata": {},
     "output_type": "display_data"
    },
    {
     "data": {
      "image/png": "[encoded data removed]",
      "text/plain": [
       "<matplotlib.figure.Figure at 0x1159a1588>"
      ]
     },
     "metadata": {},
     "output_type": "display_data"
    },
    {
     "data": {
      "image/png": "[encoded data removed]",
      "text/plain": [
       "<matplotlib.figure.Figure at 0x1159e87b8>"
      ]
     },
     "metadata": {},
     "output_type": "display_data"
    },
    {
     "data": {
      "image/png": "[encoded data removed]",
      "text/plain": [
       "<matplotlib.figure.Figure at 0x115a38a90>"
      ]
     },
     "metadata": {},
     "output_type": "display_data"
    },
    {
     "data": {
      "image/png": "[encoded data removed]",
      "text/plain": [
       "<matplotlib.figure.Figure at 0x115a7e550>"
      ]
     },
     "metadata": {},
     "output_type": "display_data"
    },
    {
     "data": {
      "image/png": "[encoded data removed]",
      "text/plain": [
       "<matplotlib.figure.Figure at 0x115acb860>"
      ]
     },
     "metadata": {},
     "output_type": "display_data"
    },
    {
     "data": {
      "image/png": "[encoded data removed]",
      "text/plain": [
       "<matplotlib.figure.Figure at 0x115924ef0>"
      ]
     },
     "metadata": {},
     "output_type": "display_data"
    },
    {
     "data": {
      "image/png": "[encoded data removed]",
      "text/plain": [
       "<matplotlib.figure.Figure at 0x11469c7b8>"
      ]
     },
     "metadata": {},
     "output_type": "display_data"
    },
    {
     "data": {
      "image/png": "[encoded data removed]",
      "text/plain": [
       "<matplotlib.figure.Figure at 0x114d305c0>"
      ]
     },
     "metadata": {},
     "output_type": "display_data"
    },
    {
     "data": {
      "image/png": "[encoded data removed]",
      "text/plain": [
       "<matplotlib.figure.Figure at 0x114d509b0>"
      ]
     },
     "metadata": {},
     "output_type": "display_data"
    },
    {
     "data": {
      "image/png": "[encoded data removed]",
      "text/plain": [
       "<matplotlib.figure.Figure at 0x114d4bb38>"
      ]
     },
     "metadata": {},
     "output_type": "display_data"
    },
    {
     "data": {
      "image/png": "[encoded data removed]",
      "text/plain": [
       "<matplotlib.figure.Figure at 0x1141b44e0>"
      ]
     },
     "metadata": {},
     "output_type": "display_data"
    },
    {
     "data": {
      "image/png": "[encoded data removed]",
      "text/plain": [
       "<matplotlib.figure.Figure at 0x1134c86d8>"
      ]
     },
     "metadata": {},
     "output_type": "display_data"
    },
    {
     "data": {
      "image/png": "[encoded data removed]",
      "text/plain": [
       "<matplotlib.figure.Figure at 0x114050ef0>"
      ]
     },
     "metadata": {},
     "output_type": "display_data"
    },
    {
     "data": {
      "image/png": "[encoded data removed]",
      "text/plain": [
       "<matplotlib.figure.Figure at 0x113bf5e48>"
      ]
     },
     "metadata": {},
     "output_type": "display_data"
    },
    {
     "data": {
      "image/png": "[encoded data removed]",
      "text/plain": [
       "<matplotlib.figure.Figure at 0x11385f240>"
      ]
     },
     "metadata": {},
     "output_type": "display_data"
    },
    {
     "data": {
      "image/png": "[encoded data removed]",
      "text/plain": [
       "<matplotlib.figure.Figure at 0x1146217b8>"
      ]
     },
     "metadata": {},
     "output_type": "display_data"
    },
    {
     "data": {
      "image/png": "[encoded data removed]",
      "text/plain": [
       "<matplotlib.figure.Figure at 0x1136439e8>"
      ]
     },
     "metadata": {},
     "output_type": "display_data"
    },
    {
     "data": {
      "image/png": "[encoded data removed]",
      "text/plain": [
       "<matplotlib.figure.Figure at 0x11469acf8>"
      ]
     },
     "metadata": {},
     "output_type": "display_data"
    },
    {
     "data": {
      "image/png": "[encoded data removed]",
      "text/plain": [
       "<matplotlib.figure.Figure at 0x1134f5828>"
      ]
     },
     "metadata": {},
     "output_type": "display_data"
    },
    {
     "data": {
      "image/png": "[encoded data removed]",
      "text/plain": [
       "<matplotlib.figure.Figure at 0x114904b38>"
      ]
     },
     "metadata": {},
     "output_type": "display_data"
    },
    {
     "data": {
      "image/png": "[encoded data removed]",
      "text/plain": [
       "<matplotlib.figure.Figure at 0x1135685f8>"
      ]
     },
     "metadata": {},
     "output_type": "display_data"
    },
    {
     "data": {
      "image/png": "[encoded data removed]",
      "text/plain": [
       "<matplotlib.figure.Figure at 0x1138a3cc0>"
      ]
     },
     "metadata": {},
     "output_type": "display_data"
    }
   ],
   "source": [
    "print(len(e.conv_weights[0]))\n",
    "for ws in e.conv_weights[0]:\n",
    "    print(ws.shape)\n",
    "    xs = np.rollaxis(ws, 3)\n",
    "    xs = xs.reshape(xs.shape[:-1])\n",
    "    print(xs.shape)\n",
    "    for i in range(xs.shape[0]):\n",
    "        x, _ = img_fudge(xs[i])\n",
    "        plt.subplots(figsize=(1,1), subplot_kw={'xticks': [], 'yticks': []})\n",
    "        plt.imshow(x, cmap='gray', interpolation='none')\n",
    "        plt.figure(i+1)\n",
    "    break\n",
    "    "
   ]
  },
  {
   "cell_type": "code",
   "execution_count": null,
   "metadata": {
    "collapsed": true
   },
   "outputs": [],
   "source": []
  }
 ],
 "metadata": {
  "anaconda-cloud": {},
  "kernelspec": {
   "display_name": "Python [default]",
   "language": "python",
   "name": "python3"
  },
  "language_info": {
   "codemirror_mode": {
    "name": "ipython",
    "version": 3
   },
   "file_extension": ".py",
   "mimetype": "text/x-python",
   "name": "python",
   "nbconvert_exporter": "python",
   "pygments_lexer": "ipython3",
   "version": "3.5.2"
  }
 },
 "nbformat": 4,
 "nbformat_minor": 1
}
